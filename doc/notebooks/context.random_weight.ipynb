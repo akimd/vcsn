{
 "cells": [
  {
   "cell_type": "markdown",
   "metadata": {},
   "source": [
    "# _`context`_.`random_weight(params)`\n",
    "\n",
    "Generate a random weight.\n",
    "\n",
    "Arguments:\n",
    "- `params`: a string that controls the random generation of the weight such as `min` and `max` range value, or elements of the weightset with associated densities.\n",
    "\n",
    "See also:\n",
    "- [context.random_automaton](context.random_automaton.ipynb)\n",
    "- [context.random_expression](context.random_expression.ipynb)"
   ]
  },
  {
   "cell_type": "markdown",
   "metadata": {
    "collapsed": true
   },
   "source": [
    "## Examples"
   ]
  },
  {
   "cell_type": "code",
   "execution_count": 1,
   "metadata": {},
   "outputs": [],
   "source": [
    "import vcsn\n",
    "# Make sure we always get the same sequence of random automata.\n",
    "vcsn.setenv(SEED=1)\n",
    "ctx = vcsn.context('lal(abc), z')"
   ]
  },
  {
   "cell_type": "code",
   "execution_count": 2,
   "metadata": {},
   "outputs": [
    {
     "name": "stdout",
     "output_type": "stream",
     "text": [
      "[-404620562, -133711905, -1579004998, -1944672731, -1946129057, -15198492, 676943009, -81133257, 2084672536, 1275731771]\n"
     ]
    }
   ],
   "source": [
    "print([ctx.random_weight() for _ in range(10)])"
   ]
  },
  {
   "cell_type": "markdown",
   "metadata": {},
   "source": [
    "Densities associated with elements form a Bernoulli distribution with the rest of the weightset's elements.\n",
    "\n",
    "For example, here \"`0`\" has 1 in 2 chances to appear, otherwise a uniform distribution is performed on the weightSet, in the range [0-10]."
   ]
  },
  {
   "cell_type": "code",
   "execution_count": 3,
   "metadata": {},
   "outputs": [
    {
     "name": "stdout",
     "output_type": "stream",
     "text": [
      "[0, 9, 8, 0, 0, 0, 0, 0, 2, 0, 0, 7, 1, 0, 0, 8, 0, 8, 8, 0]\n"
     ]
    }
   ],
   "source": [
    "print([ctx.random_weight('0=0.5,min=0,max=10') for _ in range(20)])"
   ]
  }
 ],
 "metadata": {
  "kernelspec": {
   "display_name": "Python 3",
   "language": "python",
   "name": "python3"
  },
  "language_info": {
   "codemirror_mode": {
    "name": "ipython",
    "version": 3
   },
   "file_extension": ".py",
   "mimetype": "text/x-python",
   "name": "python",
   "nbconvert_exporter": "python",
   "pygments_lexer": "ipython3",
   "version": "3.5.4"
  }
 },
 "nbformat": 4,
 "nbformat_minor": 1
}
