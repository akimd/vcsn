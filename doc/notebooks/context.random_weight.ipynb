{
 "cells": [
  {
   "cell_type": "markdown",
   "metadata": {},
   "source": [
    "# _`context`_.`random_weight(properties)`\n",
    "\n",
    "Generate a random weight.\n",
    "\n",
    "Arguments:\n",
    "- `properties`: string list properties of the generated weight such as min and max range value, or elements of the weightset with associated densities.\n",
    "\n",
    "See also:\n",
    "- [Contexts](.ipynb)\n",
    "- [weight.operators](.ipynb)"
   ]
  },
  {
   "cell_type": "markdown",
   "metadata": {
    "collapsed": true
   },
   "source": [
    "## Example"
   ]
  },
  {
   "cell_type": "code",
   "execution_count": 1,
   "metadata": {
    "collapsed": true
   },
   "outputs": [],
   "source": [
    "import os\n",
    "# This trick ensures that we always use the same random seed,\n",
    "# hence running this documentation always gives the same result.\n",
    "os.environ['VCSN_SEED'] = '1'\n",
    "import vcsn\n",
    "from IPython.display import display\n",
    "ctx = vcsn.context('lal_char(abc), z')"
   ]
  },
  {
   "cell_type": "markdown",
   "metadata": {},
   "source": [
    "Densities associated with elements form a bernoulli distribution with the rest of the weighset's elements.\n",
    "\n",
    "For example, here \"`0`\" has 1 in 4 chance to appear, otherwise a uniform distribution is performed on the weightSet, in the range [0-10]."
   ]
  },
  {
   "cell_type": "code",
   "execution_count": 2,
   "metadata": {
    "collapsed": false
   },
   "outputs": [
    {
     "data": {
      "text/latex": [
       "$0$"
      ],
      "text/plain": [
       "0"
      ]
     },
     "metadata": {},
     "output_type": "display_data"
    },
    {
     "data": {
      "text/latex": [
       "$5$"
      ],
      "text/plain": [
       "5"
      ]
     },
     "metadata": {},
     "output_type": "display_data"
    },
    {
     "data": {
      "text/latex": [
       "$3$"
      ],
      "text/plain": [
       "3"
      ]
     },
     "metadata": {},
     "output_type": "display_data"
    },
    {
     "data": {
      "text/latex": [
       "$10$"
      ],
      "text/plain": [
       "10"
      ]
     },
     "metadata": {},
     "output_type": "display_data"
    }
   ],
   "source": [
    "for _ in range(4):\n",
    "    display(ctx.random_weight('0=0.25,min=0,max=10'))"
   ]
  },
  {
   "cell_type": "code",
   "execution_count": 3,
   "metadata": {
    "collapsed": false
   },
   "outputs": [
    {
     "data": {
      "text/latex": [
       "$-182506777$"
      ],
      "text/plain": [
       "-182506777"
      ]
     },
     "metadata": {},
     "output_type": "display_data"
    },
    {
     "data": {
      "text/latex": [
       "$-138749190$"
      ],
      "text/plain": [
       "-138749190"
      ]
     },
     "metadata": {},
     "output_type": "display_data"
    }
   ],
   "source": [
    "for _ in range(2):\n",
    "    display(ctx.random_weight())"
   ]
  }
 ],
 "metadata": {
  "kernelspec": {
   "display_name": "Python 3",
   "language": "python",
   "name": "python3"
  },
  "language_info": {
   "codemirror_mode": {
    "name": "ipython",
    "version": 3
   },
   "file_extension": ".py",
   "mimetype": "text/x-python",
   "name": "python",
   "nbconvert_exporter": "python",
   "pygments_lexer": "ipython3",
   "version": "3.5.2"
  }
 },
 "nbformat": 4,
 "nbformat_minor": 0
}
