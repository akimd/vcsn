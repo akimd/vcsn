{
 "cells": [
  {
   "cell_type": "markdown",
   "metadata": {},
   "source": [
    "# `context | ctx`\n",
    "\n",
    "Build a multitape context from contexts by tupling the labelsets (i.e., going multitape), and joining the weightsets (i.e., looking for a common support if they are different).\n",
    "\n",
    "See also:\n",
    "- [automaton.tuple](automaton.tuple.ipynb)\n",
    "- [expression.tuple](expression.tuple.ipynb)\n",
    "- [polynomial.tuple](polynomial.tuple.ipynb)\n",
    "\n",
    "\n",
    "## Examples"
   ]
  },
  {
   "cell_type": "code",
   "execution_count": 1,
   "metadata": {
    "collapsed": false
   },
   "outputs": [
    {
     "data": {
      "text/latex": [
       "$\\{a, b\\} \\times (\\{x, y\\})^?\\to\\mathbb{R}$"
      ],
      "text/plain": [
       "{ab} x {xy}? -> R"
      ]
     },
     "execution_count": 1,
     "metadata": {},
     "output_type": "execute_result"
    }
   ],
   "source": [
    "import vcsn\n",
    "vcsn.context('lal(ab), q') | vcsn.context('lan(xy), r')"
   ]
  }
 ],
 "metadata": {
  "kernelspec": {
   "display_name": "Python 3",
   "language": "python",
   "name": "python3"
  },
  "language_info": {
   "codemirror_mode": {
    "name": "ipython",
    "version": 3
   },
   "file_extension": ".py",
   "mimetype": "text/x-python",
   "name": "python",
   "nbconvert_exporter": "python",
   "pygments_lexer": "ipython3",
   "version": "3.5.2"
  },
  "widgets": {
   "state": {},
   "version": "1.1.2"
  }
 },
 "nbformat": 4,
 "nbformat_minor": 0
}
