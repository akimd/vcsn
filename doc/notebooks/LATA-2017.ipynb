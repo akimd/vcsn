{
 "cells": [
  {
   "cell_type": "markdown",
   "metadata": {},
   "source": [
    "# Quotient Operators for Weighted Rational Expressions\n",
    "This page is a complement to our submission to LATA 2017.  This page exists in several forms:\n",
    "- [A Dynamic Notebook](http://vcsn-sandbox.lrde.epita.fr/notebooks/Doc/LATA-2017.ipynb), which can be edited, played with\n",
    "- [A static HTML page](http://www.lrde.epita.fr/dload/vcsn/latest/notebooks/LATA-2017.html), whose graphical rendering is always correct.\n",
    "\n",
    "More information is available here:\n",
    "- [Documentation for _expression_.expansion](http://vcsn-sandbox.lrde.epita.fr/notebooks/Doc/expression.expansion.ipynb)\n",
    "- [Documentation for _expression_.derived_term](http://vcsn-sandbox.lrde.epita.fr/notebooks/Doc/expression.derived_term.ipynb)\n",
    "- [Documentation of Vcsn](http://vcsn-sandbox.lrde.epita.fr/notebooks/Doc/!Read-me-first.ipynb)\n",
    "- [Vcsn's web page](http://vcsn.lrde.epita.fr)\n",
    "\n",
    "You may change the cells, and run then.  To run a cell in a notebook, hit \"Control-Enter\" (in which case the focus stays on the same cell) or \"Shift-Enter\" (focus goes to the next cell).  Beware that depending on the requested operations, Vcsn may generate and compile code, which may be a really slow process on small machines (about a minute): be patient!  However, the code is compiled only once: successive uses will be way faster.\n",
    "\n",
    "To run all the cells anew, select \"Restart & Run All\" in the \"Kernel\" menu above."
   ]
  },
  {
   "cell_type": "code",
   "execution_count": 1,
   "metadata": {
    "collapsed": false
   },
   "outputs": [],
   "source": [
    "import sys\n",
    "import vcsn"
   ]
  },
  {
   "cell_type": "markdown",
   "metadata": {},
   "source": [
    "## Section 2, Notations"
   ]
  },
  {
   "cell_type": "markdown",
   "metadata": {},
   "source": [
    "First we introduce the \"context\" we are interested in: labels are letter-or-empty-word (\"lal\"), values are rational numbers."
   ]
  },
  {
   "cell_type": "code",
   "execution_count": 2,
   "metadata": {
    "collapsed": false
   },
   "outputs": [
    {
     "data": {
      "text/latex": [
       "$(\\{\\ldots\\})^?\\to\\mathbb{Q}$"
      ],
      "text/plain": [
       "{...}? -> Q"
      ]
     },
     "execution_count": 2,
     "metadata": {},
     "output_type": "execute_result"
    }
   ],
   "source": [
    "Q = vcsn.context('lal, q')\n",
    "Q"
   ]
  },
  {
   "cell_type": "markdown",
   "metadata": {},
   "source": [
    "### Expressions\n",
    "The rational expressions in Vcsn supports several operators beyond the classical ones.  See [Expressions](Expressions.ipynb) for all the details.  The following examples should be self-explanatory."
   ]
  },
  {
   "cell_type": "code",
   "execution_count": 3,
   "metadata": {
    "collapsed": false
   },
   "outputs": [
    {
     "data": {
      "text/latex": [
       "$a + b$"
      ],
      "text/plain": [
       "a+b"
      ]
     },
     "execution_count": 3,
     "metadata": {},
     "output_type": "execute_result"
    }
   ],
   "source": [
    "e1 = Q.expression('[ab]'); e1"
   ]
  },
  {
   "cell_type": "code",
   "execution_count": 4,
   "metadata": {
    "collapsed": false
   },
   "outputs": [
    {
     "data": {
      "text/latex": [
       "$\\left(a + b\\right)^{*}$"
      ],
      "text/plain": [
       "(a+b)*"
      ]
     },
     "execution_count": 4,
     "metadata": {},
     "output_type": "execute_result"
    }
   ],
   "source": [
    "e1.star()"
   ]
  },
  {
   "cell_type": "code",
   "execution_count": 5,
   "metadata": {
    "collapsed": false
   },
   "outputs": [
    {
     "data": {
      "text/latex": [
       "$ \\left\\langle 2 \\right\\rangle \\,\\left(a + b\\right) + \\left(a + b\\right) \\, \\left(a + b\\right)^{*}$"
      ],
      "text/plain": [
       "<2>(a+b)+(a+b)(a+b)*"
      ]
     },
     "execution_count": 5,
     "metadata": {},
     "output_type": "execute_result"
    }
   ],
   "source": [
    "2 * e1 + e1 * e1.star()"
   ]
  },
  {
   "cell_type": "markdown",
   "metadata": {},
   "source": [
    "### Expansions\n",
    "One can play with the different operations on expansions.  However, there is no direct means to enter an expansion, one has to compute the expansion of an expression."
   ]
  },
  {
   "cell_type": "code",
   "execution_count": 6,
   "metadata": {
    "collapsed": false
   },
   "outputs": [
    {
     "data": {
      "text/latex": [
       "$a \\odot \\left[b\\right]$"
      ],
      "text/plain": [
       "a.[b]"
      ]
     },
     "execution_count": 6,
     "metadata": {},
     "output_type": "execute_result"
    }
   ],
   "source": [
    "e1 = Q.expression('ab')\n",
    "x1 = e1.expansion()\n",
    "x1"
   ]
  },
  {
   "cell_type": "code",
   "execution_count": 7,
   "metadata": {
    "collapsed": false
   },
   "outputs": [
    {
     "data": {
      "text/latex": [
       "$\\left\\langle 1\\right\\rangle  \\oplus a \\odot \\left[\\left(a + b\\right)^{*}\\right] \\oplus b \\odot \\left[\\left(a + b\\right)^{*}\\right]$"
      ],
      "text/plain": [
       "<1> + a.[(a+b)*] + b.[(a+b)*]"
      ]
     },
     "execution_count": 7,
     "metadata": {},
     "output_type": "execute_result"
    }
   ],
   "source": [
    "e2 = Q.expression('[ab]*')\n",
    "x2 = e2.expansion()\n",
    "x2"
   ]
  },
  {
   "cell_type": "markdown",
   "metadata": {},
   "source": [
    "The left-quotient is denoted `{\\}` in the syntax of Vcsn's expressions, but we use Python's operator `//` to denote it.  So `e // f` denotes `e {\\} f`."
   ]
  },
  {
   "cell_type": "code",
   "execution_count": 8,
   "metadata": {
    "collapsed": false
   },
   "outputs": [
    {
     "data": {
      "text/latex": [
       "$\\varepsilon \\odot \\left[a \\, b \\oplus \\left(a + b\\right)^{*} \\backslash b\\right]$"
      ],
      "text/plain": [
       "\\e.[ab + (a+b)*{\\}b]"
      ]
     },
     "execution_count": 8,
     "metadata": {},
     "output_type": "execute_result"
    }
   ],
   "source": [
    "x2 // x1"
   ]
  },
  {
   "cell_type": "code",
   "execution_count": 9,
   "metadata": {
    "collapsed": false
   },
   "outputs": [
    {
     "data": {
      "text/latex": [
       "$\\varepsilon \\odot \\left[a \\, b \\backslash \\varepsilon \\oplus b \\backslash \\left(a + b\\right)^{*}\\right]$"
      ],
      "text/plain": [
       "\\e.[ab{\\}\\e + b{\\}(a+b)*]"
      ]
     },
     "execution_count": 9,
     "metadata": {},
     "output_type": "execute_result"
    }
   ],
   "source": [
    "x1 // x2"
   ]
  },
  {
   "cell_type": "markdown",
   "metadata": {},
   "source": [
    "### Derivative\n",
    "Although not covered in the paper, Vcsn does support the derivatives.  However, the quotient operator is not supported."
   ]
  },
  {
   "cell_type": "code",
   "execution_count": 10,
   "metadata": {
    "collapsed": false
   },
   "outputs": [
    {
     "data": {
      "text/latex": [
       "$ \\left\\langle 2 \\right\\rangle \\,\\left(a + b\\right)^{*}$"
      ],
      "text/plain": [
       "<2>(a+b)*"
      ]
     },
     "execution_count": 10,
     "metadata": {},
     "output_type": "execute_result"
    }
   ],
   "source": [
    "e = Q.expression('<2>[ab]*')\n",
    "e"
   ]
  },
  {
   "cell_type": "code",
   "execution_count": 11,
   "metadata": {
    "collapsed": false
   },
   "outputs": [
    {
     "data": {
      "text/latex": [
       "$2$"
      ],
      "text/plain": [
       "2"
      ]
     },
     "execution_count": 11,
     "metadata": {},
     "output_type": "execute_result"
    }
   ],
   "source": [
    "e.constant_term()"
   ]
  },
  {
   "cell_type": "code",
   "execution_count": 12,
   "metadata": {
    "collapsed": false
   },
   "outputs": [
    {
     "data": {
      "text/latex": [
       "$\\left\\langle 2\\right\\rangle \\left(a + b\\right)^{*}$"
      ],
      "text/plain": [
       "<2>(a+b)*"
      ]
     },
     "execution_count": 12,
     "metadata": {},
     "output_type": "execute_result"
    }
   ],
   "source": [
    "e.derivation('a')"
   ]
  },
  {
   "cell_type": "code",
   "execution_count": 13,
   "metadata": {
    "collapsed": false
   },
   "outputs": [
    {
     "data": {
      "text/latex": [
       "$\\left\\langle 2\\right\\rangle \\left(a + b\\right)^{*}$"
      ],
      "text/plain": [
       "<2>(a+b)*"
      ]
     },
     "execution_count": 13,
     "metadata": {},
     "output_type": "execute_result"
    }
   ],
   "source": [
    "e.derivation('b')"
   ]
  },
  {
   "cell_type": "markdown",
   "metadata": {},
   "source": [
    "Those three facts, constant term and derivative wrt $a$ and $b$, are fully captured by this expansion."
   ]
  },
  {
   "cell_type": "code",
   "execution_count": 14,
   "metadata": {
    "collapsed": false
   },
   "outputs": [
    {
     "data": {
      "text/latex": [
       "$\\left\\langle 2\\right\\rangle  \\oplus a \\odot \\left[\\left\\langle 2\\right\\rangle \\left(a + b\\right)^{*}\\right] \\oplus b \\odot \\left[\\left\\langle 2\\right\\rangle \\left(a + b\\right)^{*}\\right]$"
      ],
      "text/plain": [
       "<2> + a.[<2>(a+b)*] + b.[<2>(a+b)*]"
      ]
     },
     "execution_count": 14,
     "metadata": {},
     "output_type": "execute_result"
    }
   ],
   "source": [
    "e.expansion()"
   ]
  },
  {
   "cell_type": "markdown",
   "metadata": {},
   "source": [
    "## Example $\\mathsf{E}_1$: A Simple Expression"
   ]
  },
  {
   "cell_type": "markdown",
   "metadata": {},
   "source": [
    "In Vcsn, the left-quotient is written `{\\}` (because the backslash character is used to escape operators, e.g., `\\*` denotes the letter `*`, not the Kleene star).\n",
    "The expression $\\mathsf{E}_1$ is therefore:"
   ]
  },
  {
   "cell_type": "code",
   "execution_count": 15,
   "metadata": {
    "collapsed": false
   },
   "outputs": [
    {
     "data": {
      "text/latex": [
       "$ \\left\\langle 11 \\right\\rangle \\,\\left(a \\, {b}^{*}\\right) +  \\left\\langle 2 \\right\\rangle \\,a \\backslash \\left( \\left\\langle 3 \\right\\rangle \\,\\left(a + b\\right) +  \\left\\langle 5 \\right\\rangle \\,\\left(a \\, {a}^{*}\\right) +  \\left\\langle 7 \\right\\rangle \\,\\left(a \\, {b}^{*}\\right)\\right)$"
      ],
      "text/plain": [
       "<11>(ab*)+<2>a{\\}(<3>(a+b)+<5>(aa*)+<7>(ab*))"
      ]
     },
     "execution_count": 15,
     "metadata": {},
     "output_type": "execute_result"
    }
   ],
   "source": [
    "e1 = Q.expression('(<2>a) {\\} (<3>[ab] + <5>aa* + <7>ab*) + <11>ab*')\n",
    "e1"
   ]
  },
  {
   "cell_type": "markdown",
   "metadata": {},
   "source": [
    "Its expansion is (contrary to the paper, the empty expression is denoted $\\varepsilon$ instead of $\\mathsf{1}$):"
   ]
  },
  {
   "cell_type": "code",
   "execution_count": 16,
   "metadata": {
    "collapsed": false
   },
   "outputs": [
    {
     "data": {
      "text/latex": [
       "$\\left\\langle \\frac{3}{2}\\right\\rangle  \\oplus \\varepsilon \\odot \\left[\\left\\langle \\frac{5}{2}\\right\\rangle {a}^{*} \\oplus \\left\\langle \\frac{7}{2}\\right\\rangle {b}^{*}\\right] \\oplus a \\odot \\left[\\left\\langle 11\\right\\rangle {b}^{*}\\right]$"
      ],
      "text/plain": [
       "<3/2> + \\e.[<5/2>a* + <7/2>b*] + a.[<11>b*]"
      ]
     },
     "execution_count": 16,
     "metadata": {},
     "output_type": "execute_result"
    }
   ],
   "source": [
    "e1.expansion()"
   ]
  },
  {
   "cell_type": "markdown",
   "metadata": {},
   "source": [
    "For sake of performance, the constant term is actually kept separate in our implementation of expansions.  The previous result, rewritten in the style of the paper, is exactly the same:\n",
    "\n",
    "$$\n",
    "\\left\\langle \\frac{3}{2}\\right\\rangle  \\oplus \\varepsilon \\odot \\left[\\left\\langle \\frac{5}{2}\\right\\rangle {a}^{*} \\oplus \\left\\langle \\frac{7}{2}\\right\\rangle {b}^{*}\\right] \\oplus a \\odot \\left[\\left\\langle 11\\right\\rangle {b}^{*}\\right]\n",
    "=\n",
    " \\varepsilon \\odot \\left[\n",
    "    \\left\\langle \\frac{3}{2}\\right\\rangle \\odot \\varepsilon\n",
    "    \\oplus \\left\\langle \\frac{5}{2}\\right\\rangle \\odot {a}^{*}\n",
    "    \\oplus \\left\\langle \\frac{7}{2}\\right\\rangle \\odot {b}^{*}\\right]\n",
    " \\oplus a \\odot \\left[\\left\\langle 11\\right\\rangle \\odot {b}^{*}\\right]\n",
    "$$\n",
    "\n",
    "The derived-term automaton of $\\mathsf{E}_1$, $\\mathcal{A}_{\\mathsf{E}_1}$, is:"
   ]
  },
  {
   "cell_type": "code",
   "execution_count": 17,
   "metadata": {
    "collapsed": false
   },
   "outputs": [
    {
     "data": {
      "image/svg+xml": [
       "<?xml version=\"1.0\" encoding=\"UTF-8\" standalone=\"no\"?>\n",
       "<!DOCTYPE svg PUBLIC \"-//W3C//DTD SVG 1.1//EN\"\n",
       " \"http://www.w3.org/Graphics/SVG/1.1/DTD/svg11.dtd\">\n",
       "<!-- Generated by graphviz version 2.38.0 (20140413.2041)\n",
       " -->\n",
       "<!-- Title: %3 Pages: 1 -->\n",
       "<svg width=\"465pt\" height=\"169pt\"\n",
       " viewBox=\"0.00 0.00 465.00 168.50\" xmlns=\"http://www.w3.org/2000/svg\" xmlns:xlink=\"http://www.w3.org/1999/xlink\">\n",
       "<g id=\"graph0\" class=\"graph\" transform=\"scale(1 1) rotate(0) translate(4 164.5)\">\n",
       "<title>%3</title>\n",
       "<polygon fill=\"white\" stroke=\"none\" points=\"-4,4 -4,-164.5 461,-164.5 461,4 -4,4\"/>\n",
       "<!-- I0 -->\n",
       "<g id=\"node1\" class=\"node\"><title>I0</title>\n",
       "<ellipse fill=\"black\" stroke=\"black\" cx=\"0\" cy=\"-94.5\" rx=\"0\" ry=\"0\"/>\n",
       "</g>\n",
       "<!-- 0 -->\n",
       "<g id=\"node5\" class=\"node\"><title>0</title>\n",
       "<path fill=\"#98f5ff\" stroke=\"black\" d=\"M273.333,-109C273.333,-109 46.6667,-109 46.6667,-109 41.8333,-109 37,-104.167 37,-99.3333 37,-99.3333 37,-89.6667 37,-89.6667 37,-84.8333 41.8333,-80 46.6667,-80 46.6667,-80 273.333,-80 273.333,-80 278.167,-80 283,-84.8333 283,-89.6667 283,-89.6667 283,-99.3333 283,-99.3333 283,-104.167 278.167,-109 273.333,-109\"/>\n",
       "<text text-anchor=\"middle\" x=\"160\" y=\"-91.4\" font-family=\"Times,serif\" font-size=\"12.00\">⟨11⟩(ab*)+⟨2⟩a{\\}(⟨3⟩(a+b)+⟨5⟩(aa*)+⟨7⟩(ab*))</text>\n",
       "</g>\n",
       "<!-- I0&#45;&gt;0 -->\n",
       "<g id=\"edge1\" class=\"edge\"><title>I0&#45;&gt;0</title>\n",
       "<path fill=\"none\" stroke=\"black\" d=\"M1.1145,-94.5C2.3795,-94.5 14.013,-94.5 30.444,-94.5\"/>\n",
       "<polygon fill=\"black\" stroke=\"black\" points=\"36.705,-94.5 30.705,-97.2001 33.705,-94.5 30.705,-94.5001 30.705,-94.5001 30.705,-94.5001 33.705,-94.5 30.705,-91.8001 36.705,-94.5 36.705,-94.5\"/>\n",
       "</g>\n",
       "<!-- F0 -->\n",
       "<g id=\"node2\" class=\"node\"><title>F0</title>\n",
       "<ellipse fill=\"black\" stroke=\"black\" cx=\"405.5\" cy=\"-160.5\" rx=\"0\" ry=\"0\"/>\n",
       "</g>\n",
       "<!-- F1 -->\n",
       "<g id=\"node3\" class=\"node\"><title>F1</title>\n",
       "<ellipse fill=\"black\" stroke=\"black\" cx=\"457\" cy=\"-94.5\" rx=\"0\" ry=\"0\"/>\n",
       "</g>\n",
       "<!-- F2 -->\n",
       "<g id=\"node4\" class=\"node\"><title>F2</title>\n",
       "<ellipse fill=\"black\" stroke=\"black\" cx=\"457\" cy=\"-14.5\" rx=\"0\" ry=\"0\"/>\n",
       "</g>\n",
       "<!-- 0&#45;&gt;F0 -->\n",
       "<g id=\"edge2\" class=\"edge\"><title>0&#45;&gt;F0</title>\n",
       "<path fill=\"none\" stroke=\"black\" d=\"M214.18,-109.066C276.729,-125.881 374.254,-152.1 399.415,-158.864\"/>\n",
       "<polygon fill=\"black\" stroke=\"black\" points=\"405.413,-160.477 398.918,-161.526 402.516,-159.698 399.619,-158.919 399.619,-158.919 399.619,-158.919 402.516,-159.698 400.32,-156.312 405.413,-160.477 405.413,-160.477\"/>\n",
       "<text text-anchor=\"middle\" x=\"292.298\" y=\"-137.765\" font-family=\"Times,serif\" font-size=\"14.00\">⟨3/2⟩</text>\n",
       "</g>\n",
       "<!-- 1 -->\n",
       "<g id=\"node6\" class=\"node\"><title>1</title>\n",
       "<path fill=\"#98f5ff\" stroke=\"black\" d=\"M410.333,-109C410.333,-109 400.667,-109 400.667,-109 395.833,-109 391,-104.167 391,-99.3333 391,-99.3333 391,-89.6667 391,-89.6667 391,-84.8333 395.833,-80 400.667,-80 400.667,-80 410.333,-80 410.333,-80 415.167,-80 420,-84.8333 420,-89.6667 420,-89.6667 420,-99.3333 420,-99.3333 420,-104.167 415.167,-109 410.333,-109\"/>\n",
       "<text text-anchor=\"middle\" x=\"405.5\" y=\"-91.4\" font-family=\"Times,serif\" font-size=\"12.00\">a*</text>\n",
       "</g>\n",
       "<!-- 0&#45;&gt;1 -->\n",
       "<g id=\"edge3\" class=\"edge\"><title>0&#45;&gt;1</title>\n",
       "<path fill=\"none\" stroke=\"black\" d=\"M283.11,-94.5C322.42,-94.5 361.68,-94.5 384.5,-94.5\"/>\n",
       "<polygon fill=\"black\" stroke=\"black\" points=\"390.76,-94.5 384.76,-97.2001 387.76,-94.5 384.76,-94.5001 384.76,-94.5001 384.76,-94.5001 387.76,-94.5 384.76,-91.8001 390.76,-94.5 390.76,-94.5\"/>\n",
       "<text text-anchor=\"middle\" x=\"337\" y=\"-98.3\" font-family=\"Times,serif\" font-size=\"14.00\">⟨5/2⟩ε</text>\n",
       "</g>\n",
       "<!-- 2 -->\n",
       "<g id=\"node7\" class=\"node\"><title>2</title>\n",
       "<path fill=\"#98f5ff\" stroke=\"black\" d=\"M410.333,-29C410.333,-29 400.667,-29 400.667,-29 395.833,-29 391,-24.1667 391,-19.3333 391,-19.3333 391,-9.66667 391,-9.66667 391,-4.83333 395.833,-0 400.667,-0 400.667,-0 410.333,-0 410.333,-0 415.167,-0 420,-4.83333 420,-9.66667 420,-9.66667 420,-19.3333 420,-19.3333 420,-24.1667 415.167,-29 410.333,-29\"/>\n",
       "<text text-anchor=\"middle\" x=\"405.5\" y=\"-11.4\" font-family=\"Times,serif\" font-size=\"12.00\">b*</text>\n",
       "</g>\n",
       "<!-- 0&#45;&gt;2 -->\n",
       "<g id=\"edge4\" class=\"edge\"><title>0&#45;&gt;2</title>\n",
       "<path fill=\"none\" stroke=\"black\" d=\"M205.38,-79.92C258.89,-62.338 346.47,-33.567 385.12,-20.867\"/>\n",
       "<polygon fill=\"black\" stroke=\"black\" points=\"390.89,-18.97 386.033,-23.4089 388.04,-19.907 385.19,-20.844 385.19,-20.844 385.19,-20.844 388.04,-19.907 384.347,-18.2791 390.89,-18.97 390.89,-18.97\"/>\n",
       "<text text-anchor=\"middle\" x=\"337\" y=\"-51.3\" font-family=\"Times,serif\" font-size=\"14.00\">⟨7/2⟩ε, ⟨11⟩a</text>\n",
       "</g>\n",
       "<!-- 1&#45;&gt;F1 -->\n",
       "<g id=\"edge5\" class=\"edge\"><title>1&#45;&gt;F1</title>\n",
       "<path fill=\"none\" stroke=\"black\" d=\"M420.12,-94.5C430.261,-94.5 443.253,-94.5 450.8,-94.5\"/>\n",
       "<polygon fill=\"black\" stroke=\"black\" points=\"456.937,-94.5 450.937,-97.2001 453.937,-94.5 450.937,-94.5001 450.937,-94.5001 450.937,-94.5001 453.937,-94.5 450.937,-91.8001 456.937,-94.5 456.937,-94.5\"/>\n",
       "</g>\n",
       "<!-- 1&#45;&gt;1 -->\n",
       "<g id=\"edge6\" class=\"edge\"><title>1&#45;&gt;1</title>\n",
       "<path fill=\"none\" stroke=\"black\" d=\"M399.92,-109.21C398.58,-118.32 400.44,-127 405.5,-127 409.38,-127 411.37,-121.91 411.49,-115.44\"/>\n",
       "<polygon fill=\"black\" stroke=\"black\" points=\"411.08,-109.21 414.168,-115.02 411.277,-112.204 411.474,-115.197 411.474,-115.197 411.474,-115.197 411.277,-112.204 408.78,-115.374 411.08,-109.21 411.08,-109.21\"/>\n",
       "<text text-anchor=\"middle\" x=\"405.5\" y=\"-130.8\" font-family=\"Times,serif\" font-size=\"14.00\">a</text>\n",
       "</g>\n",
       "<!-- 2&#45;&gt;F2 -->\n",
       "<g id=\"edge7\" class=\"edge\"><title>2&#45;&gt;F2</title>\n",
       "<path fill=\"none\" stroke=\"black\" d=\"M420.12,-14.5C430.261,-14.5 443.253,-14.5 450.8,-14.5\"/>\n",
       "<polygon fill=\"black\" stroke=\"black\" points=\"456.937,-14.5 450.937,-17.2001 453.937,-14.5 450.937,-14.5001 450.937,-14.5001 450.937,-14.5001 453.937,-14.5 450.937,-11.8001 456.937,-14.5 456.937,-14.5\"/>\n",
       "</g>\n",
       "<!-- 2&#45;&gt;2 -->\n",
       "<g id=\"edge8\" class=\"edge\"><title>2&#45;&gt;2</title>\n",
       "<path fill=\"none\" stroke=\"black\" d=\"M399.92,-29.206C398.58,-38.324 400.44,-47 405.5,-47 409.38,-47 411.37,-41.914 411.49,-35.438\"/>\n",
       "<polygon fill=\"black\" stroke=\"black\" points=\"411.08,-29.206 414.168,-35.0158 411.277,-32.1995 411.474,-35.1931 411.474,-35.1931 411.474,-35.1931 411.277,-32.1995 408.78,-35.3703 411.08,-29.206 411.08,-29.206\"/>\n",
       "<text text-anchor=\"middle\" x=\"405.5\" y=\"-50.8\" font-family=\"Times,serif\" font-size=\"14.00\">b</text>\n",
       "</g>\n",
       "</g>\n",
       "</svg>\n"
      ],
      "text/plain": [
       "expression_automaton<mutable_automaton<context<letterset<char_letters>, q>>>"
      ]
     },
     "execution_count": 17,
     "metadata": {},
     "output_type": "execute_result"
    }
   ],
   "source": [
    "a1 = e1.derived_term()\n",
    "a1"
   ]
  },
  {
   "cell_type": "markdown",
   "metadata": {},
   "source": [
    "## Example 5: Not all the States are Coaccessible"
   ]
  },
  {
   "cell_type": "code",
   "execution_count": 18,
   "metadata": {
    "collapsed": false
   },
   "outputs": [
    {
     "data": {
      "text/latex": [
       "$\\left( \\left\\langle 2 \\right\\rangle \\,\\left(a \\, b\\right) \\backslash a \\, {b}^{*}\\right)^{*}$"
      ],
      "text/plain": [
       "(<2>(ab){\\}ab*)*"
      ]
     },
     "execution_count": 18,
     "metadata": {},
     "output_type": "execute_result"
    }
   ],
   "source": [
    "e = Q.expression('(<2>ab {\\} ab*)*')\n",
    "e"
   ]
  },
  {
   "cell_type": "code",
   "execution_count": 19,
   "metadata": {
    "collapsed": false
   },
   "outputs": [
    {
     "data": {
      "text/latex": [
       "$\\left\\langle 1\\right\\rangle  \\oplus \\varepsilon \\odot \\left[\\left\\langle \\frac{1}{2}\\right\\rangle \\left(b \\backslash {b}^{*}\\right) \\, \\left( \\left\\langle 2 \\right\\rangle \\,\\left(a \\, b\\right) \\backslash a \\, {b}^{*}\\right)^{*}\\right]$"
      ],
      "text/plain": [
       "<1> + \\e.[<1/2>(b{\\}b*)(<2>(ab){\\}ab*)*]"
      ]
     },
     "execution_count": 19,
     "metadata": {},
     "output_type": "execute_result"
    }
   ],
   "source": [
    "e.expansion()"
   ]
  },
  {
   "cell_type": "code",
   "execution_count": 20,
   "metadata": {
    "collapsed": false
   },
   "outputs": [
    {
     "data": {
      "image/svg+xml": [
       "<?xml version=\"1.0\" encoding=\"UTF-8\" standalone=\"no\"?>\n",
       "<!DOCTYPE svg PUBLIC \"-//W3C//DTD SVG 1.1//EN\"\n",
       " \"http://www.w3.org/Graphics/SVG/1.1/DTD/svg11.dtd\">\n",
       "<!-- Generated by graphviz version 2.38.0 (20140413.2041)\n",
       " -->\n",
       "<!-- Title: %3 Pages: 1 -->\n",
       "<svg width=\"590pt\" height=\"150pt\"\n",
       " viewBox=\"0.00 0.00 590.00 150.00\" xmlns=\"http://www.w3.org/2000/svg\" xmlns:xlink=\"http://www.w3.org/1999/xlink\">\n",
       "<g id=\"graph0\" class=\"graph\" transform=\"scale(1 1) rotate(0) translate(4 146)\">\n",
       "<title>%3</title>\n",
       "<polygon fill=\"white\" stroke=\"none\" points=\"-4,4 -4,-146 586,-146 586,4 -4,4\"/>\n",
       "<!-- I0 -->\n",
       "<g id=\"node1\" class=\"node\"><title>I0</title>\n",
       "<ellipse fill=\"black\" stroke=\"black\" cx=\"0\" cy=\"-73.5\" rx=\"0\" ry=\"0\"/>\n",
       "</g>\n",
       "<!-- 0 -->\n",
       "<g id=\"node4\" class=\"node\"><title>0</title>\n",
       "<path fill=\"#98f5ff\" stroke=\"black\" d=\"M124.333,-88C124.333,-88 46.6667,-88 46.6667,-88 41.8333,-88 37,-83.1667 37,-78.3333 37,-78.3333 37,-68.6667 37,-68.6667 37,-63.8333 41.8333,-59 46.6667,-59 46.6667,-59 124.333,-59 124.333,-59 129.167,-59 134,-63.8333 134,-68.6667 134,-68.6667 134,-78.3333 134,-78.3333 134,-83.1667 129.167,-88 124.333,-88\"/>\n",
       "<text text-anchor=\"middle\" x=\"85.5\" y=\"-70.4\" font-family=\"Times,serif\" font-size=\"12.00\">(⟨2⟩(ab){\\}ab*)*</text>\n",
       "</g>\n",
       "<!-- I0&#45;&gt;0 -->\n",
       "<g id=\"edge1\" class=\"edge\"><title>I0&#45;&gt;0</title>\n",
       "<path fill=\"none\" stroke=\"black\" d=\"M1.0605,-73.5C2.0458,-73.5 14.933,-73.5 30.298,-73.5\"/>\n",
       "<polygon fill=\"black\" stroke=\"black\" points=\"36.525,-73.5 30.525,-76.2001 33.525,-73.5 30.525,-73.5001 30.525,-73.5001 30.525,-73.5001 33.525,-73.5 30.525,-70.8001 36.525,-73.5 36.525,-73.5\"/>\n",
       "</g>\n",
       "<!-- F0 -->\n",
       "<g id=\"node2\" class=\"node\"><title>F0</title>\n",
       "<ellipse fill=\"black\" stroke=\"black\" cx=\"274\" cy=\"-89.5\" rx=\"0\" ry=\"0\"/>\n",
       "</g>\n",
       "<!-- F2 -->\n",
       "<g id=\"node3\" class=\"node\"><title>F2</title>\n",
       "<ellipse fill=\"black\" stroke=\"black\" cx=\"582\" cy=\"-94.5\" rx=\"0\" ry=\"0\"/>\n",
       "</g>\n",
       "<!-- 0&#45;&gt;F0 -->\n",
       "<g id=\"edge2\" class=\"edge\"><title>0&#45;&gt;F0</title>\n",
       "<path fill=\"none\" stroke=\"black\" d=\"M134.043,-77.6204C180.861,-81.5943 247.532,-87.2534 267.875,-88.9801\"/>\n",
       "<polygon fill=\"black\" stroke=\"black\" points=\"273.939,-89.4948 267.732,-91.6776 270.95,-89.241 267.96,-88.9873 267.96,-88.9873 267.96,-88.9873 270.95,-89.241 268.189,-86.2969 273.939,-89.4948 273.939,-89.4948\"/>\n",
       "</g>\n",
       "<!-- 1 -->\n",
       "<g id=\"node5\" class=\"node\"><title>1</title>\n",
       "<path fill=\"#98f5ff\" stroke=\"black\" d=\"M333.333,-71C333.333,-71 214.667,-71 214.667,-71 209.833,-71 205,-66.1667 205,-61.3333 205,-61.3333 205,-51.6667 205,-51.6667 205,-46.8333 209.833,-42 214.667,-42 214.667,-42 333.333,-42 333.333,-42 338.167,-42 343,-46.8333 343,-51.6667 343,-51.6667 343,-61.3333 343,-61.3333 343,-66.1667 338.167,-71 333.333,-71\"/>\n",
       "<text text-anchor=\"middle\" x=\"274\" y=\"-53.4\" font-family=\"Times,serif\" font-size=\"12.00\">(b{\\}b*)(⟨2⟩(ab){\\}ab*)*</text>\n",
       "</g>\n",
       "<!-- 0&#45;&gt;1 -->\n",
       "<g id=\"edge3\" class=\"edge\"><title>0&#45;&gt;1</title>\n",
       "<path fill=\"none\" stroke=\"black\" d=\"M134.29,-63.08C140.23,-62.062 146.24,-61.162 152,-60.5 167.02,-58.772 183.16,-57.7 198.6,-57.051\"/>\n",
       "<polygon fill=\"black\" stroke=\"black\" points=\"204.7,-56.814 198.809,-59.745 201.702,-56.9305 198.705,-57.047 198.705,-57.047 198.705,-57.047 201.702,-56.9305 198.6,-54.3491 204.7,-56.814 204.7,-56.814\"/>\n",
       "<text text-anchor=\"middle\" x=\"169.5\" y=\"-64.3\" font-family=\"Times,serif\" font-size=\"14.00\">⟨1/2⟩ε</text>\n",
       "</g>\n",
       "<!-- 2 -->\n",
       "<g id=\"node6\" class=\"node\"><title>2</title>\n",
       "<path fill=\"#98f5ff\" stroke=\"black\" d=\"M524.333,-109C524.333,-109 434.667,-109 434.667,-109 429.833,-109 425,-104.167 425,-99.3333 425,-99.3333 425,-89.6667 425,-89.6667 425,-84.8333 429.833,-80 434.667,-80 434.667,-80 524.333,-80 524.333,-80 529.167,-80 534,-84.8333 534,-89.6667 534,-89.6667 534,-99.3333 534,-99.3333 534,-104.167 529.167,-109 524.333,-109\"/>\n",
       "<text text-anchor=\"middle\" x=\"479.5\" y=\"-91.4\" font-family=\"Times,serif\" font-size=\"12.00\">b*(⟨2⟩(ab){\\}ab*)*</text>\n",
       "</g>\n",
       "<!-- 1&#45;&gt;2 -->\n",
       "<g id=\"edge4\" class=\"edge\"><title>1&#45;&gt;2</title>\n",
       "<path fill=\"none\" stroke=\"black\" d=\"M343.05,-69.206C367.54,-73.781 394.98,-78.905 418.72,-83.338\"/>\n",
       "<polygon fill=\"black\" stroke=\"black\" points=\"424.68,-84.449 418.287,-86.0037 421.731,-83.8992 418.782,-83.3494 418.782,-83.3494 418.782,-83.3494 421.731,-83.8992 419.276,-80.6951 424.68,-84.449 424.68,-84.449\"/>\n",
       "<text text-anchor=\"middle\" x=\"378.5\" y=\"-83.3\" font-family=\"Times,serif\" font-size=\"14.00\">ε</text>\n",
       "</g>\n",
       "<!-- 3 -->\n",
       "<g id=\"node7\" class=\"node\"><title>3</title>\n",
       "<path fill=\"lightgray\" stroke=\"black\" d=\"M535.333,-29C535.333,-29 423.667,-29 423.667,-29 418.833,-29 414,-24.1667 414,-19.3333 414,-19.3333 414,-9.66667 414,-9.66667 414,-4.83333 418.833,-0 423.667,-0 423.667,-0 535.333,-0 535.333,-0 540.167,-0 545,-4.83333 545,-9.66667 545,-9.66667 545,-19.3333 545,-19.3333 545,-24.1667 540.167,-29 535.333,-29\"/>\n",
       "<text text-anchor=\"middle\" x=\"479.5\" y=\"-11.4\" font-family=\"Times,serif\" font-size=\"12.00\">(b{\\}ε)(⟨2⟩(ab){\\}ab*)*</text>\n",
       "</g>\n",
       "<!-- 1&#45;&gt;3 -->\n",
       "<g id=\"edge5\" class=\"edge\"><title>1&#45;&gt;3</title>\n",
       "<path fill=\"none\" stroke=\"DimGray\" d=\"M314.37,-41.886C328.86,-36.987 345.51,-31.909 361,-28.5 375.97,-25.205 392.19,-22.642 407.66,-20.664\"/>\n",
       "<polygon fill=\"DimGray\" stroke=\"DimGray\" points=\"413.78,-19.906 408.157,-23.3231 410.803,-20.2748 407.825,-20.6436 407.825,-20.6436 407.825,-20.6436 410.803,-20.2748 407.494,-17.9641 413.78,-19.906 413.78,-19.906\"/>\n",
       "<text text-anchor=\"middle\" x=\"378.5\" y=\"-32.3\" font-family=\"Times,serif\" font-size=\"14.00\">ε</text>\n",
       "</g>\n",
       "<!-- 2&#45;&gt;F2 -->\n",
       "<g id=\"edge6\" class=\"edge\"><title>2&#45;&gt;F2</title>\n",
       "<path fill=\"none\" stroke=\"black\" d=\"M534.051,-94.5C550.91,-94.5 567.291,-94.5 575.855,-94.5\"/>\n",
       "<polygon fill=\"black\" stroke=\"black\" points=\"581.932,-94.5 575.932,-97.2001 578.932,-94.5 575.932,-94.5001 575.932,-94.5001 575.932,-94.5001 578.932,-94.5 575.932,-91.8001 581.932,-94.5 581.932,-94.5\"/>\n",
       "</g>\n",
       "<!-- 2&#45;&gt;1 -->\n",
       "<g id=\"edge7\" class=\"edge\"><title>2&#45;&gt;1</title>\n",
       "<path fill=\"none\" stroke=\"black\" d=\"M432.75,-79.902C426.27,-77.146 419.84,-74.01 414,-70.5 404.83,-64.984 406,-58.304 396,-54.5 381.44,-48.963 365.16,-46.802 349.38,-46.525\"/>\n",
       "<polygon fill=\"black\" stroke=\"black\" points=\"343.13,-46.511 349.136,-43.8245 346.13,-46.5178 349.13,-46.5245 349.13,-46.5245 349.13,-46.5245 346.13,-46.5178 349.124,-49.2245 343.13,-46.511 343.13,-46.511\"/>\n",
       "<text text-anchor=\"middle\" x=\"378.5\" y=\"-58.3\" font-family=\"Times,serif\" font-size=\"14.00\">⟨1/2⟩ε</text>\n",
       "</g>\n",
       "<!-- 2&#45;&gt;2 -->\n",
       "<g id=\"edge8\" class=\"edge\"><title>2&#45;&gt;2</title>\n",
       "<path fill=\"none\" stroke=\"black\" d=\"M464.86,-109.21C461.33,-118.32 466.21,-127 479.5,-127 489.67,-127 494.92,-121.91 495.23,-115.44\"/>\n",
       "<polygon fill=\"black\" stroke=\"black\" points=\"494.14,-109.21 497.834,-114.655 494.657,-112.165 495.174,-115.12 495.174,-115.12 495.174,-115.12 494.657,-112.165 492.515,-115.586 494.14,-109.21 494.14,-109.21\"/>\n",
       "<text text-anchor=\"middle\" x=\"479.5\" y=\"-130.8\" font-family=\"Times,serif\" font-size=\"14.00\">b</text>\n",
       "</g>\n",
       "<!-- 3&#45;&gt;3 -->\n",
       "<g id=\"edge9\" class=\"edge\"><title>3&#45;&gt;3</title>\n",
       "<path fill=\"none\" stroke=\"DimGray\" d=\"M464.86,-29.206C461.33,-38.324 466.21,-47 479.5,-47 489.67,-47 494.92,-41.914 495.23,-35.438\"/>\n",
       "<polygon fill=\"DimGray\" stroke=\"DimGray\" points=\"494.14,-29.206 497.833,-34.6511 494.657,-32.1611 495.174,-35.1163 495.174,-35.1163 495.174,-35.1163 494.657,-32.1611 492.514,-35.5815 494.14,-29.206 494.14,-29.206\"/>\n",
       "<text text-anchor=\"middle\" x=\"479.5\" y=\"-50.8\" font-family=\"Times,serif\" font-size=\"14.00\">ε</text>\n",
       "</g>\n",
       "</g>\n",
       "</svg>\n"
      ],
      "text/plain": [
       "expression_automaton<mutable_automaton<context<letterset<char_letters>, q>>>"
      ]
     },
     "execution_count": 20,
     "metadata": {},
     "output_type": "execute_result"
    }
   ],
   "source": [
    "a = e.derived_term()\n",
    "a"
   ]
  },
  {
   "cell_type": "markdown",
   "metadata": {},
   "source": [
    "As such, this automaton in $\\mathbb{Q}$ is invalid: it contains a spontaneous loop whose weight, 1, is not starrable."
   ]
  },
  {
   "cell_type": "code",
   "execution_count": 21,
   "metadata": {
    "collapsed": false
   },
   "outputs": [
    {
     "data": {
      "text/plain": [
       "False"
      ]
     },
     "execution_count": 21,
     "metadata": {},
     "output_type": "execute_result"
    }
   ],
   "source": [
    "a.is_valid()"
   ]
  },
  {
   "cell_type": "markdown",
   "metadata": {},
   "source": [
    "Once trimmed, it is valid though, and its spontaneous transitions may be removed."
   ]
  },
  {
   "cell_type": "code",
   "execution_count": 22,
   "metadata": {
    "collapsed": false
   },
   "outputs": [
    {
     "data": {
      "image/svg+xml": [
       "<?xml version=\"1.0\" encoding=\"UTF-8\" standalone=\"no\"?>\n",
       "<!DOCTYPE svg PUBLIC \"-//W3C//DTD SVG 1.1//EN\"\n",
       " \"http://www.w3.org/Graphics/SVG/1.1/DTD/svg11.dtd\">\n",
       "<!-- Generated by graphviz version 2.38.0 (20140413.2041)\n",
       " -->\n",
       "<!-- Title: %3 Pages: 1 -->\n",
       "<svg width=\"568pt\" height=\"77pt\"\n",
       " viewBox=\"0.00 0.00 568.00 77.24\" xmlns=\"http://www.w3.org/2000/svg\" xmlns:xlink=\"http://www.w3.org/1999/xlink\">\n",
       "<g id=\"graph0\" class=\"graph\" transform=\"scale(1 1) rotate(0) translate(4 71.99)\">\n",
       "<title>%3</title>\n",
       "<polygon fill=\"white\" stroke=\"none\" points=\"-4,5.2541 -4,-71.99 564,-71.99 564,5.2541 -4,5.2541\"/>\n",
       "<!-- I0 -->\n",
       "<g id=\"node1\" class=\"node\"><title>I0</title>\n",
       "<ellipse fill=\"black\" stroke=\"black\" cx=\"0\" cy=\"-37.49\" rx=\"0\" ry=\"0\"/>\n",
       "</g>\n",
       "<!-- 0 -->\n",
       "<g id=\"node4\" class=\"node\"><title>0</title>\n",
       "<path fill=\"#98f5ff\" stroke=\"black\" d=\"M124.333,-51.99C124.333,-51.99 46.6667,-51.99 46.6667,-51.99 41.8333,-51.99 37,-47.1567 37,-42.3233 37,-42.3233 37,-32.6567 37,-32.6567 37,-27.8233 41.8333,-22.99 46.6667,-22.99 46.6667,-22.99 124.333,-22.99 124.333,-22.99 129.167,-22.99 134,-27.8233 134,-32.6567 134,-32.6567 134,-42.3233 134,-42.3233 134,-47.1567 129.167,-51.99 124.333,-51.99\"/>\n",
       "<text text-anchor=\"middle\" x=\"85.5\" y=\"-34.39\" font-family=\"Times,serif\" font-size=\"12.00\">(⟨2⟩(ab){\\}ab*)*</text>\n",
       "</g>\n",
       "<!-- I0&#45;&gt;0 -->\n",
       "<g id=\"edge1\" class=\"edge\"><title>I0&#45;&gt;0</title>\n",
       "<path fill=\"none\" stroke=\"black\" d=\"M1.0605,-37.49C2.0458,-37.49 14.933,-37.49 30.298,-37.49\"/>\n",
       "<polygon fill=\"black\" stroke=\"black\" points=\"36.525,-37.49 30.525,-40.1901 33.525,-37.49 30.525,-37.4901 30.525,-37.4901 30.525,-37.4901 33.525,-37.49 30.525,-34.7901 36.525,-37.49 36.525,-37.49\"/>\n",
       "</g>\n",
       "<!-- F0 -->\n",
       "<g id=\"node2\" class=\"node\"><title>F0</title>\n",
       "<ellipse fill=\"black\" stroke=\"black\" cx=\"274\" cy=\"-53.49\" rx=\"0\" ry=\"0\"/>\n",
       "</g>\n",
       "<!-- F2 -->\n",
       "<g id=\"node3\" class=\"node\"><title>F2</title>\n",
       "<ellipse fill=\"black\" stroke=\"black\" cx=\"560\" cy=\"-20.49\" rx=\"0\" ry=\"0\"/>\n",
       "</g>\n",
       "<!-- 0&#45;&gt;F0 -->\n",
       "<g id=\"edge2\" class=\"edge\"><title>0&#45;&gt;F0</title>\n",
       "<path fill=\"none\" stroke=\"black\" d=\"M134.043,-41.6104C180.861,-45.5843 247.532,-51.2434 267.875,-52.9701\"/>\n",
       "<polygon fill=\"black\" stroke=\"black\" points=\"273.939,-53.4848 267.732,-55.6676 270.95,-53.231 267.96,-52.9773 267.96,-52.9773 267.96,-52.9773 270.95,-53.231 268.189,-50.2869 273.939,-53.4848 273.939,-53.4848\"/>\n",
       "</g>\n",
       "<!-- 1 -->\n",
       "<g id=\"node5\" class=\"node\"><title>1</title>\n",
       "<path fill=\"#98f5ff\" stroke=\"black\" d=\"M333.333,-34.99C333.333,-34.99 214.667,-34.99 214.667,-34.99 209.833,-34.99 205,-30.1567 205,-25.3233 205,-25.3233 205,-15.6567 205,-15.6567 205,-10.8233 209.833,-5.99 214.667,-5.99 214.667,-5.99 333.333,-5.99 333.333,-5.99 338.167,-5.99 343,-10.8233 343,-15.6567 343,-15.6567 343,-25.3233 343,-25.3233 343,-30.1567 338.167,-34.99 333.333,-34.99\"/>\n",
       "<text text-anchor=\"middle\" x=\"274\" y=\"-17.39\" font-family=\"Times,serif\" font-size=\"12.00\">(b{\\}b*)(⟨2⟩(ab){\\}ab*)*</text>\n",
       "</g>\n",
       "<!-- 0&#45;&gt;1 -->\n",
       "<g id=\"edge3\" class=\"edge\"><title>0&#45;&gt;1</title>\n",
       "<path fill=\"none\" stroke=\"black\" d=\"M134.26,-26.21C140.21,-25.123 146.23,-24.173 152,-23.49 167.01,-21.715 183.15,-20.701 198.58,-20.16\"/>\n",
       "<polygon fill=\"black\" stroke=\"black\" points=\"204.69,-19.969 198.777,-22.8552 201.691,-20.0628 198.693,-20.1566 198.693,-20.1566 198.693,-20.1566 201.691,-20.0628 198.609,-17.4579 204.69,-19.969 204.69,-19.969\"/>\n",
       "<text text-anchor=\"middle\" x=\"169.5\" y=\"-27.29\" font-family=\"Times,serif\" font-size=\"14.00\">⟨1/2⟩ε</text>\n",
       "</g>\n",
       "<!-- 2 -->\n",
       "<g id=\"node6\" class=\"node\"><title>2</title>\n",
       "<path fill=\"#98f5ff\" stroke=\"black\" d=\"M513.333,-34.99C513.333,-34.99 423.667,-34.99 423.667,-34.99 418.833,-34.99 414,-30.1567 414,-25.3233 414,-25.3233 414,-15.6567 414,-15.6567 414,-10.8233 418.833,-5.99 423.667,-5.99 423.667,-5.99 513.333,-5.99 513.333,-5.99 518.167,-5.99 523,-10.8233 523,-15.6567 523,-15.6567 523,-25.3233 523,-25.3233 523,-30.1567 518.167,-34.99 513.333,-34.99\"/>\n",
       "<text text-anchor=\"middle\" x=\"468.5\" y=\"-17.39\" font-family=\"Times,serif\" font-size=\"12.00\">b*(⟨2⟩(ab){\\}ab*)*</text>\n",
       "</g>\n",
       "<!-- 1&#45;&gt;2 -->\n",
       "<g id=\"edge4\" class=\"edge\"><title>1&#45;&gt;2</title>\n",
       "<path fill=\"none\" stroke=\"black\" d=\"M343.14,-20.49C364.21,-20.49 387.26,-20.49 407.72,-20.49\"/>\n",
       "<polygon fill=\"black\" stroke=\"black\" points=\"413.98,-20.49 407.98,-23.1901 410.98,-20.49 407.98,-20.4901 407.98,-20.4901 407.98,-20.4901 410.98,-20.49 407.98,-17.7901 413.98,-20.49 413.98,-20.49\"/>\n",
       "<text text-anchor=\"middle\" x=\"378.5\" y=\"-24.29\" font-family=\"Times,serif\" font-size=\"14.00\">ε</text>\n",
       "</g>\n",
       "<!-- 2&#45;&gt;F2 -->\n",
       "<g id=\"edge5\" class=\"edge\"><title>2&#45;&gt;F2</title>\n",
       "<path fill=\"none\" stroke=\"black\" d=\"M523.047,-20.49C535.505,-20.49 547.058,-20.49 553.822,-20.49\"/>\n",
       "<polygon fill=\"black\" stroke=\"black\" points=\"559.95,-20.49 553.95,-23.1901 556.95,-20.49 553.95,-20.4901 553.95,-20.4901 553.95,-20.4901 556.95,-20.49 553.95,-17.7901 559.95,-20.49 559.95,-20.49\"/>\n",
       "</g>\n",
       "<!-- 2&#45;&gt;1 -->\n",
       "<g id=\"edge6\" class=\"edge\"><title>2&#45;&gt;1</title>\n",
       "<path fill=\"none\" stroke=\"black\" d=\"M419.77,-5.9787C411.9,-4.1148 403.77,-2.505 396,-1.4903 374.99,1.2541 352,-1.0179 331.75,-4.8165\"/>\n",
       "<polygon fill=\"black\" stroke=\"black\" points=\"325.84,-5.9826 331.204,-2.17212 328.783,-5.40183 331.727,-4.82105 331.727,-4.82105 331.727,-4.82105 328.783,-5.40183 332.249,-7.46998 325.84,-5.9826 325.84,-5.9826\"/>\n",
       "<text text-anchor=\"middle\" x=\"378.5\" y=\"-5.2903\" font-family=\"Times,serif\" font-size=\"14.00\">⟨1/2⟩ε</text>\n",
       "</g>\n",
       "<!-- 2&#45;&gt;2 -->\n",
       "<g id=\"edge7\" class=\"edge\"><title>2&#45;&gt;2</title>\n",
       "<path fill=\"none\" stroke=\"black\" d=\"M455.95,-35.197C452.93,-44.314 457.11,-52.99 468.5,-52.99 477.22,-52.99 481.72,-47.904 481.99,-41.429\"/>\n",
       "<polygon fill=\"black\" stroke=\"black\" points=\"481.05,-35.197 484.615,-40.7272 481.497,-38.1634 481.945,-41.1299 481.945,-41.1299 481.945,-41.1299 481.497,-38.1634 479.275,-41.5326 481.05,-35.197 481.05,-35.197\"/>\n",
       "<text text-anchor=\"middle\" x=\"468.5\" y=\"-56.79\" font-family=\"Times,serif\" font-size=\"14.00\">b</text>\n",
       "</g>\n",
       "</g>\n",
       "</svg>\n"
      ],
      "text/plain": [
       "filter_automaton<expression_automaton<mutable_automaton<context<letterset<char_letters>, q>>>>"
      ]
     },
     "execution_count": 22,
     "metadata": {},
     "output_type": "execute_result"
    }
   ],
   "source": [
    "a.trim()"
   ]
  },
  {
   "cell_type": "code",
   "execution_count": 23,
   "metadata": {
    "collapsed": false
   },
   "outputs": [
    {
     "data": {
      "image/svg+xml": [
       "<?xml version=\"1.0\" encoding=\"UTF-8\" standalone=\"no\"?>\n",
       "<!DOCTYPE svg PUBLIC \"-//W3C//DTD SVG 1.1//EN\"\n",
       " \"http://www.w3.org/Graphics/SVG/1.1/DTD/svg11.dtd\">\n",
       "<!-- Generated by graphviz version 2.38.0 (20140413.2041)\n",
       " -->\n",
       "<!-- Title: %3 Pages: 1 -->\n",
       "<svg width=\"211pt\" height=\"92pt\"\n",
       " viewBox=\"0.00 0.00 211.00 91.78\" xmlns=\"http://www.w3.org/2000/svg\" xmlns:xlink=\"http://www.w3.org/1999/xlink\">\n",
       "<g id=\"graph0\" class=\"graph\" transform=\"scale(1 1) rotate(0) translate(4 87.7842)\">\n",
       "<title>%3</title>\n",
       "<polygon fill=\"white\" stroke=\"none\" points=\"-4,4 -4,-87.7842 207,-87.7842 207,4 -4,4\"/>\n",
       "<!-- I0 -->\n",
       "<g id=\"node1\" class=\"node\"><title>I0</title>\n",
       "<ellipse fill=\"black\" stroke=\"black\" cx=\"0\" cy=\"-54.5\" rx=\"0\" ry=\"0\"/>\n",
       "</g>\n",
       "<!-- 0 -->\n",
       "<g id=\"node4\" class=\"node\"><title>0</title>\n",
       "<ellipse fill=\"#98f5ff\" stroke=\"black\" cx=\"51.5\" cy=\"-54.5\" rx=\"14.5\" ry=\"14.5\"/>\n",
       "<text text-anchor=\"middle\" x=\"51.5\" y=\"-51.4\" font-family=\"Times,serif\" font-size=\"12.00\">0</text>\n",
       "</g>\n",
       "<!-- I0&#45;&gt;0 -->\n",
       "<g id=\"edge1\" class=\"edge\"><title>I0&#45;&gt;0</title>\n",
       "<path fill=\"none\" stroke=\"black\" d=\"M1.142,-54.5C2.7502,-54.5 17.72,-54.5 30.756,-54.5\"/>\n",
       "<polygon fill=\"black\" stroke=\"black\" points=\"36.933,-54.5 30.933,-57.2001 33.933,-54.5 30.933,-54.5001 30.933,-54.5001 30.933,-54.5001 33.933,-54.5 30.933,-51.8001 36.933,-54.5 36.933,-54.5\"/>\n",
       "</g>\n",
       "<!-- F0 -->\n",
       "<g id=\"node2\" class=\"node\"><title>F0</title>\n",
       "<ellipse fill=\"black\" stroke=\"black\" cx=\"134.5\" cy=\"-80.5\" rx=\"0\" ry=\"0\"/>\n",
       "</g>\n",
       "<!-- F1 -->\n",
       "<g id=\"node3\" class=\"node\"><title>F1</title>\n",
       "<ellipse fill=\"black\" stroke=\"black\" cx=\"203\" cy=\"-14.5\" rx=\"0\" ry=\"0\"/>\n",
       "</g>\n",
       "<!-- 0&#45;&gt;F0 -->\n",
       "<g id=\"edge2\" class=\"edge\"><title>0&#45;&gt;F0</title>\n",
       "<path fill=\"none\" stroke=\"black\" d=\"M65.5798,-58.9105C84.0396,-64.6931 115.601,-74.5798 128.619,-78.6579\"/>\n",
       "<polygon fill=\"black\" stroke=\"black\" points=\"134.369,-80.4591 127.837,-81.242 131.507,-79.5623 128.644,-78.6655 128.644,-78.6655 128.644,-78.6655 131.507,-79.5623 129.451,-76.0889 134.369,-80.4591 134.369,-80.4591\"/>\n",
       "<text text-anchor=\"middle\" x=\"88.0996\" y=\"-72.5842\" font-family=\"Times,serif\" font-size=\"14.00\">⟨2⟩</text>\n",
       "</g>\n",
       "<!-- 1 -->\n",
       "<g id=\"node5\" class=\"node\"><title>1</title>\n",
       "<ellipse fill=\"#98f5ff\" stroke=\"black\" cx=\"134.5\" cy=\"-14.5\" rx=\"14.5\" ry=\"14.5\"/>\n",
       "<text text-anchor=\"middle\" x=\"134.5\" y=\"-11.4\" font-family=\"Times,serif\" font-size=\"12.00\">1</text>\n",
       "</g>\n",
       "<!-- 0&#45;&gt;1 -->\n",
       "<g id=\"edge3\" class=\"edge\"><title>0&#45;&gt;1</title>\n",
       "<path fill=\"none\" stroke=\"black\" d=\"M64.802,-48.425C78.242,-41.788 99.908,-31.089 115.31,-23.482\"/>\n",
       "<polygon fill=\"black\" stroke=\"black\" points=\"121.08,-20.632 116.896,-25.71 118.39,-21.9606 115.7,-23.2892 115.7,-23.2892 115.7,-23.2892 118.39,-21.9606 114.505,-20.8684 121.08,-20.632 121.08,-20.632\"/>\n",
       "<text text-anchor=\"middle\" x=\"93\" y=\"-42.3\" font-family=\"Times,serif\" font-size=\"14.00\">b</text>\n",
       "</g>\n",
       "<!-- 1&#45;&gt;F1 -->\n",
       "<g id=\"edge4\" class=\"edge\"><title>1&#45;&gt;F1</title>\n",
       "<path fill=\"none\" stroke=\"black\" d=\"M149.027,-14.5C163.789,-14.5 185.965,-14.5 196.714,-14.5\"/>\n",
       "<polygon fill=\"black\" stroke=\"black\" points=\"202.902,-14.5 196.902,-17.2001 199.902,-14.5 196.902,-14.5001 196.902,-14.5001 196.902,-14.5001 199.902,-14.5 196.902,-11.8001 202.902,-14.5 202.902,-14.5\"/>\n",
       "<text text-anchor=\"middle\" x=\"163.87\" y=\"-18.3\" font-family=\"Times,serif\" font-size=\"14.00\">⟨2⟩</text>\n",
       "</g>\n",
       "<!-- 1&#45;&gt;1 -->\n",
       "<g id=\"edge5\" class=\"edge\"><title>1&#45;&gt;1</title>\n",
       "<path fill=\"none\" stroke=\"black\" d=\"M127.89,-27.515C125.58,-37.219 127.78,-47 134.5,-47 139.75,-47 142.24,-41.03 141.98,-33.791\"/>\n",
       "<polygon fill=\"black\" stroke=\"black\" points=\"141.11,-27.515 144.608,-33.0874 141.522,-30.4866 141.934,-33.4582 141.934,-33.4582 141.934,-33.4582 141.522,-30.4866 139.26,-33.8289 141.11,-27.515 141.11,-27.515\"/>\n",
       "<text text-anchor=\"middle\" x=\"134.5\" y=\"-50.8\" font-family=\"Times,serif\" font-size=\"14.00\">⟨2⟩b</text>\n",
       "</g>\n",
       "</g>\n",
       "</svg>\n"
      ],
      "text/plain": [
       "mutable_automaton<context<letterset<char_letters>, q>>"
      ]
     },
     "execution_count": 23,
     "metadata": {},
     "output_type": "execute_result"
    }
   ],
   "source": [
    "a.trim().proper()"
   ]
  },
  {
   "cell_type": "markdown",
   "metadata": {},
   "source": [
    "A (basic) rational expression is therefore:"
   ]
  },
  {
   "cell_type": "code",
   "execution_count": 24,
   "metadata": {
    "collapsed": false
   },
   "outputs": [
    {
     "data": {
      "text/latex": [
       "$ \\left\\langle 2 \\right\\rangle \\,\\varepsilon +  \\left\\langle 2 \\right\\rangle \\,\\left(b \\, \\left( \\left\\langle 2 \\right\\rangle \\,b\\right)^{*}\\right)$"
      ],
      "text/plain": [
       "<2>\\e+<2>(b(<2>b)*)"
      ]
     },
     "execution_count": 24,
     "metadata": {},
     "output_type": "execute_result"
    }
   ],
   "source": [
    "a.trim().proper().expression()"
   ]
  },
  {
   "cell_type": "markdown",
   "metadata": {},
   "source": [
    "## Example 6\n",
    "The following expression in invalid in $\\mathbb{Q}$, but valid in $\\mathbb{B}$."
   ]
  },
  {
   "cell_type": "code",
   "execution_count": 25,
   "metadata": {
    "collapsed": false
   },
   "outputs": [
    {
     "data": {
      "image/svg+xml": [
       "<?xml version=\"1.0\" encoding=\"UTF-8\" standalone=\"no\"?>\n",
       "<!DOCTYPE svg PUBLIC \"-//W3C//DTD SVG 1.1//EN\"\n",
       " \"http://www.w3.org/Graphics/SVG/1.1/DTD/svg11.dtd\">\n",
       "<!-- Generated by graphviz version 2.38.0 (20140413.2041)\n",
       " -->\n",
       "<!-- Title: %3 Pages: 1 -->\n",
       "<svg width=\"296pt\" height=\"89pt\"\n",
       " viewBox=\"0.00 0.00 296.00 88.50\" xmlns=\"http://www.w3.org/2000/svg\" xmlns:xlink=\"http://www.w3.org/1999/xlink\">\n",
       "<g id=\"graph0\" class=\"graph\" transform=\"scale(1 1) rotate(0) translate(4 84.5)\">\n",
       "<title>%3</title>\n",
       "<polygon fill=\"white\" stroke=\"none\" points=\"-4,4 -4,-84.5 292,-84.5 292,4 -4,4\"/>\n",
       "<!-- I0 -->\n",
       "<g id=\"node1\" class=\"node\"><title>I0</title>\n",
       "<ellipse fill=\"black\" stroke=\"black\" cx=\"0\" cy=\"-56.5\" rx=\"0\" ry=\"0\"/>\n",
       "</g>\n",
       "<!-- 0 -->\n",
       "<g id=\"node4\" class=\"node\"><title>0</title>\n",
       "<path fill=\"#98f5ff\" stroke=\"black\" d=\"M95.3333,-71C95.3333,-71 46.6667,-71 46.6667,-71 41.8333,-71 37,-66.1667 37,-61.3333 37,-61.3333 37,-51.6667 37,-51.6667 37,-46.8333 41.8333,-42 46.6667,-42 46.6667,-42 95.3333,-42 95.3333,-42 100.167,-42 105,-46.8333 105,-51.6667 105,-51.6667 105,-61.3333 105,-61.3333 105,-66.1667 100.167,-71 95.3333,-71\"/>\n",
       "<text text-anchor=\"middle\" x=\"71\" y=\"-53.4\" font-family=\"Times,serif\" font-size=\"12.00\">(ab{\\}ab)*</text>\n",
       "</g>\n",
       "<!-- I0&#45;&gt;0 -->\n",
       "<g id=\"edge1\" class=\"edge\"><title>I0&#45;&gt;0</title>\n",
       "<path fill=\"none\" stroke=\"black\" d=\"M1.05,-56.5C1.9795,-56.5 15.727,-56.5 30.704,-56.5\"/>\n",
       "<polygon fill=\"black\" stroke=\"black\" points=\"36.706,-56.5 30.706,-59.2001 33.706,-56.5 30.706,-56.5001 30.706,-56.5001 30.706,-56.5001 33.706,-56.5 30.706,-53.8001 36.706,-56.5 36.706,-56.5\"/>\n",
       "</g>\n",
       "<!-- F0 -->\n",
       "<g id=\"node2\" class=\"node\"><title>F0</title>\n",
       "<ellipse fill=\"black\" stroke=\"black\" cx=\"199.5\" cy=\"-80.5\" rx=\"0\" ry=\"0\"/>\n",
       "</g>\n",
       "<!-- F1 -->\n",
       "<g id=\"node3\" class=\"node\"><title>F1</title>\n",
       "<ellipse fill=\"black\" stroke=\"black\" cx=\"288\" cy=\"-14.5\" rx=\"0\" ry=\"0\"/>\n",
       "</g>\n",
       "<!-- 0&#45;&gt;F0 -->\n",
       "<g id=\"edge2\" class=\"edge\"><title>0&#45;&gt;F0</title>\n",
       "<path fill=\"none\" stroke=\"black\" d=\"M105.098,-62.8685C135.351,-68.5188 177.137,-76.3233 193.021,-79.2899\"/>\n",
       "<polygon fill=\"black\" stroke=\"black\" points=\"199.337,-80.4696 192.943,-82.0221 196.388,-79.9188 193.439,-79.368 193.439,-79.368 193.439,-79.368 196.388,-79.9188 193.935,-76.7138 199.337,-80.4696 199.337,-80.4696\"/>\n",
       "</g>\n",
       "<!-- 1 -->\n",
       "<g id=\"node5\" class=\"node\"><title>1</title>\n",
       "<path fill=\"#98f5ff\" stroke=\"black\" d=\"M241.333,-29C241.333,-29 157.667,-29 157.667,-29 152.833,-29 148,-24.1667 148,-19.3333 148,-19.3333 148,-9.66667 148,-9.66667 148,-4.83333 152.833,-0 157.667,-0 157.667,-0 241.333,-0 241.333,-0 246.167,-0 251,-4.83333 251,-9.66667 251,-9.66667 251,-19.3333 251,-19.3333 251,-24.1667 246.167,-29 241.333,-29\"/>\n",
       "<text text-anchor=\"middle\" x=\"199.5\" y=\"-11.4\" font-family=\"Times,serif\" font-size=\"12.00\">(b{\\}b)(ab{\\}ab)*</text>\n",
       "</g>\n",
       "<!-- 0&#45;&gt;1 -->\n",
       "<g id=\"edge3\" class=\"edge\"><title>0&#45;&gt;1</title>\n",
       "<path fill=\"none\" stroke=\"black\" d=\"M105.24,-45.465C118.55,-41.045 134.17,-35.858 148.78,-31.007\"/>\n",
       "<polygon fill=\"black\" stroke=\"black\" points=\"154.54,-29.096 149.695,-33.5481 151.693,-30.0407 148.845,-30.9854 148.845,-30.9854 148.845,-30.9854 151.693,-30.0407 147.995,-28.4228 154.54,-29.096 154.54,-29.096\"/>\n",
       "<text text-anchor=\"middle\" x=\"126.5\" y=\"-43.3\" font-family=\"Times,serif\" font-size=\"14.00\">ε</text>\n",
       "</g>\n",
       "<!-- 1&#45;&gt;F1 -->\n",
       "<g id=\"edge4\" class=\"edge\"><title>1&#45;&gt;F1</title>\n",
       "<path fill=\"none\" stroke=\"black\" d=\"M251.237,-14.5C263.549,-14.5 275.065,-14.5 281.821,-14.5\"/>\n",
       "<polygon fill=\"black\" stroke=\"black\" points=\"287.95,-14.5 281.95,-17.2001 284.95,-14.5 281.95,-14.5001 281.95,-14.5001 281.95,-14.5001 284.95,-14.5 281.949,-11.8001 287.95,-14.5 287.95,-14.5\"/>\n",
       "</g>\n",
       "<!-- 1&#45;&gt;1 -->\n",
       "<g id=\"edge5\" class=\"edge\"><title>1&#45;&gt;1</title>\n",
       "<path fill=\"none\" stroke=\"black\" d=\"M187.3,-29.206C184.36,-38.324 188.43,-47 199.5,-47 207.98,-47 212.35,-41.914 212.61,-35.438\"/>\n",
       "<polygon fill=\"black\" stroke=\"black\" points=\"211.7,-29.206 215.239,-34.7529 212.134,-32.1745 212.567,-35.143 212.567,-35.143 212.567,-35.143 212.134,-32.1745 209.895,-35.5332 211.7,-29.206 211.7,-29.206\"/>\n",
       "<text text-anchor=\"middle\" x=\"199.5\" y=\"-50.8\" font-family=\"Times,serif\" font-size=\"14.00\">ε</text>\n",
       "</g>\n",
       "</g>\n",
       "</svg>\n"
      ],
      "text/plain": [
       "expression_automaton<mutable_automaton<context<letterset<char_letters>, q>>>"
      ]
     },
     "execution_count": 25,
     "metadata": {},
     "output_type": "execute_result"
    }
   ],
   "source": [
    "e = Q.expression('(ab {\\} ab)*')\n",
    "a = e.derived_term()\n",
    "a"
   ]
  },
  {
   "cell_type": "code",
   "execution_count": 26,
   "metadata": {
    "collapsed": false
   },
   "outputs": [
    {
     "data": {
      "text/plain": [
       "False"
      ]
     },
     "execution_count": 26,
     "metadata": {},
     "output_type": "execute_result"
    }
   ],
   "source": [
    "a.is_valid()"
   ]
  },
  {
   "cell_type": "markdown",
   "metadata": {},
   "source": [
    "This is because the weight of the spontaneous cycle, 1, is not starrable:"
   ]
  },
  {
   "cell_type": "code",
   "execution_count": 27,
   "metadata": {
    "collapsed": false
   },
   "outputs": [
    {
     "data": {
      "text/latex": [
       "$1$"
      ],
      "text/plain": [
       "1"
      ]
     },
     "execution_count": 27,
     "metadata": {},
     "output_type": "execute_result"
    }
   ],
   "source": [
    "w = Q.weight('1')\n",
    "w"
   ]
  },
  {
   "cell_type": "code",
   "execution_count": 28,
   "metadata": {
    "collapsed": false
   },
   "outputs": [
    {
     "name": "stderr",
     "output_type": "stream",
     "text": [
      "Q: value is not starrable: 1\n"
     ]
    }
   ],
   "source": [
    "try:\n",
    "    w.star()\n",
    "except RuntimeError as e:\n",
    "    print(e, file=sys.stderr)"
   ]
  },
  {
   "cell_type": "markdown",
   "metadata": {},
   "source": [
    "But in $\\mathbb{B}$, it is well defined:"
   ]
  },
  {
   "cell_type": "code",
   "execution_count": 29,
   "metadata": {
    "collapsed": false
   },
   "outputs": [
    {
     "data": {
      "text/latex": [
       "$(\\{\\ldots\\})^?\\to\\mathbb{B}$"
      ],
      "text/plain": [
       "{...}? -> B"
      ]
     },
     "execution_count": 29,
     "metadata": {},
     "output_type": "execute_result"
    }
   ],
   "source": [
    "B = vcsn.context('lal, b')\n",
    "B"
   ]
  },
  {
   "cell_type": "code",
   "execution_count": 30,
   "metadata": {
    "collapsed": false
   },
   "outputs": [
    {
     "data": {
      "text/latex": [
       "$\\top$"
      ],
      "text/plain": [
       "1"
      ]
     },
     "execution_count": 30,
     "metadata": {},
     "output_type": "execute_result"
    }
   ],
   "source": [
    "w = B.weight('1')\n",
    "w"
   ]
  },
  {
   "cell_type": "code",
   "execution_count": 31,
   "metadata": {
    "collapsed": false
   },
   "outputs": [
    {
     "data": {
      "text/latex": [
       "$\\top$"
      ],
      "text/plain": [
       "1"
      ]
     },
     "execution_count": 31,
     "metadata": {},
     "output_type": "execute_result"
    }
   ],
   "source": [
    "w.star()"
   ]
  },
  {
   "cell_type": "markdown",
   "metadata": {},
   "source": [
    "Hence the automaton is valid."
   ]
  },
  {
   "cell_type": "code",
   "execution_count": 32,
   "metadata": {
    "collapsed": false
   },
   "outputs": [
    {
     "data": {
      "image/svg+xml": [
       "<?xml version=\"1.0\" encoding=\"UTF-8\" standalone=\"no\"?>\n",
       "<!DOCTYPE svg PUBLIC \"-//W3C//DTD SVG 1.1//EN\"\n",
       " \"http://www.w3.org/Graphics/SVG/1.1/DTD/svg11.dtd\">\n",
       "<!-- Generated by graphviz version 2.38.0 (20140413.2041)\n",
       " -->\n",
       "<!-- Title: %3 Pages: 1 -->\n",
       "<svg width=\"296pt\" height=\"89pt\"\n",
       " viewBox=\"0.00 0.00 296.00 88.50\" xmlns=\"http://www.w3.org/2000/svg\" xmlns:xlink=\"http://www.w3.org/1999/xlink\">\n",
       "<g id=\"graph0\" class=\"graph\" transform=\"scale(1 1) rotate(0) translate(4 84.5)\">\n",
       "<title>%3</title>\n",
       "<polygon fill=\"white\" stroke=\"none\" points=\"-4,4 -4,-84.5 292,-84.5 292,4 -4,4\"/>\n",
       "<!-- I0 -->\n",
       "<g id=\"node1\" class=\"node\"><title>I0</title>\n",
       "<ellipse fill=\"black\" stroke=\"black\" cx=\"0\" cy=\"-56.5\" rx=\"0\" ry=\"0\"/>\n",
       "</g>\n",
       "<!-- 0 -->\n",
       "<g id=\"node4\" class=\"node\"><title>0</title>\n",
       "<path fill=\"#98f5ff\" stroke=\"black\" d=\"M95.3333,-71C95.3333,-71 46.6667,-71 46.6667,-71 41.8333,-71 37,-66.1667 37,-61.3333 37,-61.3333 37,-51.6667 37,-51.6667 37,-46.8333 41.8333,-42 46.6667,-42 46.6667,-42 95.3333,-42 95.3333,-42 100.167,-42 105,-46.8333 105,-51.6667 105,-51.6667 105,-61.3333 105,-61.3333 105,-66.1667 100.167,-71 95.3333,-71\"/>\n",
       "<text text-anchor=\"middle\" x=\"71\" y=\"-53.4\" font-family=\"Times,serif\" font-size=\"12.00\">(ab{\\}ab)*</text>\n",
       "</g>\n",
       "<!-- I0&#45;&gt;0 -->\n",
       "<g id=\"edge1\" class=\"edge\"><title>I0&#45;&gt;0</title>\n",
       "<path fill=\"none\" stroke=\"black\" d=\"M1.05,-56.5C1.9795,-56.5 15.727,-56.5 30.704,-56.5\"/>\n",
       "<polygon fill=\"black\" stroke=\"black\" points=\"36.706,-56.5 30.706,-59.2001 33.706,-56.5 30.706,-56.5001 30.706,-56.5001 30.706,-56.5001 33.706,-56.5 30.706,-53.8001 36.706,-56.5 36.706,-56.5\"/>\n",
       "</g>\n",
       "<!-- F0 -->\n",
       "<g id=\"node2\" class=\"node\"><title>F0</title>\n",
       "<ellipse fill=\"black\" stroke=\"black\" cx=\"199.5\" cy=\"-80.5\" rx=\"0\" ry=\"0\"/>\n",
       "</g>\n",
       "<!-- F1 -->\n",
       "<g id=\"node3\" class=\"node\"><title>F1</title>\n",
       "<ellipse fill=\"black\" stroke=\"black\" cx=\"288\" cy=\"-14.5\" rx=\"0\" ry=\"0\"/>\n",
       "</g>\n",
       "<!-- 0&#45;&gt;F0 -->\n",
       "<g id=\"edge2\" class=\"edge\"><title>0&#45;&gt;F0</title>\n",
       "<path fill=\"none\" stroke=\"black\" d=\"M105.098,-62.8685C135.351,-68.5188 177.137,-76.3233 193.021,-79.2899\"/>\n",
       "<polygon fill=\"black\" stroke=\"black\" points=\"199.337,-80.4696 192.943,-82.0221 196.388,-79.9188 193.439,-79.368 193.439,-79.368 193.439,-79.368 196.388,-79.9188 193.935,-76.7138 199.337,-80.4696 199.337,-80.4696\"/>\n",
       "</g>\n",
       "<!-- 1 -->\n",
       "<g id=\"node5\" class=\"node\"><title>1</title>\n",
       "<path fill=\"#98f5ff\" stroke=\"black\" d=\"M241.333,-29C241.333,-29 157.667,-29 157.667,-29 152.833,-29 148,-24.1667 148,-19.3333 148,-19.3333 148,-9.66667 148,-9.66667 148,-4.83333 152.833,-0 157.667,-0 157.667,-0 241.333,-0 241.333,-0 246.167,-0 251,-4.83333 251,-9.66667 251,-9.66667 251,-19.3333 251,-19.3333 251,-24.1667 246.167,-29 241.333,-29\"/>\n",
       "<text text-anchor=\"middle\" x=\"199.5\" y=\"-11.4\" font-family=\"Times,serif\" font-size=\"12.00\">(b{\\}b)(ab{\\}ab)*</text>\n",
       "</g>\n",
       "<!-- 0&#45;&gt;1 -->\n",
       "<g id=\"edge3\" class=\"edge\"><title>0&#45;&gt;1</title>\n",
       "<path fill=\"none\" stroke=\"black\" d=\"M105.24,-45.465C118.55,-41.045 134.17,-35.858 148.78,-31.007\"/>\n",
       "<polygon fill=\"black\" stroke=\"black\" points=\"154.54,-29.096 149.695,-33.5481 151.693,-30.0407 148.845,-30.9854 148.845,-30.9854 148.845,-30.9854 151.693,-30.0407 147.995,-28.4228 154.54,-29.096 154.54,-29.096\"/>\n",
       "<text text-anchor=\"middle\" x=\"126.5\" y=\"-43.3\" font-family=\"Times,serif\" font-size=\"14.00\">ε</text>\n",
       "</g>\n",
       "<!-- 1&#45;&gt;F1 -->\n",
       "<g id=\"edge4\" class=\"edge\"><title>1&#45;&gt;F1</title>\n",
       "<path fill=\"none\" stroke=\"black\" d=\"M251.237,-14.5C263.549,-14.5 275.065,-14.5 281.821,-14.5\"/>\n",
       "<polygon fill=\"black\" stroke=\"black\" points=\"287.95,-14.5 281.95,-17.2001 284.95,-14.5 281.95,-14.5001 281.95,-14.5001 281.95,-14.5001 284.95,-14.5 281.949,-11.8001 287.95,-14.5 287.95,-14.5\"/>\n",
       "</g>\n",
       "<!-- 1&#45;&gt;1 -->\n",
       "<g id=\"edge5\" class=\"edge\"><title>1&#45;&gt;1</title>\n",
       "<path fill=\"none\" stroke=\"black\" d=\"M187.3,-29.206C184.36,-38.324 188.43,-47 199.5,-47 207.98,-47 212.35,-41.914 212.61,-35.438\"/>\n",
       "<polygon fill=\"black\" stroke=\"black\" points=\"211.7,-29.206 215.239,-34.7529 212.134,-32.1745 212.567,-35.143 212.567,-35.143 212.567,-35.143 212.134,-32.1745 209.895,-35.5332 211.7,-29.206 211.7,-29.206\"/>\n",
       "<text text-anchor=\"middle\" x=\"199.5\" y=\"-50.8\" font-family=\"Times,serif\" font-size=\"14.00\">ε</text>\n",
       "</g>\n",
       "</g>\n",
       "</svg>\n"
      ],
      "text/plain": [
       "expression_automaton<mutable_automaton<context<letterset<char_letters>, b>>>"
      ]
     },
     "execution_count": 32,
     "metadata": {},
     "output_type": "execute_result"
    }
   ],
   "source": [
    "e = B.expression('(ab {\\} ab)*')\n",
    "a = e.derived_term()\n",
    "a"
   ]
  },
  {
   "cell_type": "code",
   "execution_count": 33,
   "metadata": {
    "collapsed": false
   },
   "outputs": [
    {
     "data": {
      "text/plain": [
       "True"
      ]
     },
     "execution_count": 33,
     "metadata": {},
     "output_type": "execute_result"
    }
   ],
   "source": [
    "a.is_valid()"
   ]
  },
  {
   "cell_type": "code",
   "execution_count": 34,
   "metadata": {
    "collapsed": false
   },
   "outputs": [
    {
     "data": {
      "image/svg+xml": [
       "<?xml version=\"1.0\" encoding=\"UTF-8\" standalone=\"no\"?>\n",
       "<!DOCTYPE svg PUBLIC \"-//W3C//DTD SVG 1.1//EN\"\n",
       " \"http://www.w3.org/Graphics/SVG/1.1/DTD/svg11.dtd\">\n",
       "<!-- Generated by graphviz version 2.38.0 (20140413.2041)\n",
       " -->\n",
       "<!-- Title: %3 Pages: 1 -->\n",
       "<svg width=\"109pt\" height=\"37pt\"\n",
       " viewBox=\"0.00 0.00 109.00 37.00\" xmlns=\"http://www.w3.org/2000/svg\" xmlns:xlink=\"http://www.w3.org/1999/xlink\">\n",
       "<g id=\"graph0\" class=\"graph\" transform=\"scale(1 1) rotate(0) translate(4 33)\">\n",
       "<title>%3</title>\n",
       "<polygon fill=\"white\" stroke=\"none\" points=\"-4,4 -4,-33 105,-33 105,4 -4,4\"/>\n",
       "<!-- I0 -->\n",
       "<g id=\"node1\" class=\"node\"><title>I0</title>\n",
       "<ellipse fill=\"black\" stroke=\"black\" cx=\"0\" cy=\"-14.5\" rx=\"0\" ry=\"0\"/>\n",
       "</g>\n",
       "<!-- 0 -->\n",
       "<g id=\"node3\" class=\"node\"><title>0</title>\n",
       "<ellipse fill=\"#98f5ff\" stroke=\"black\" cx=\"50.5\" cy=\"-14.5\" rx=\"14.5\" ry=\"14.5\"/>\n",
       "<text text-anchor=\"middle\" x=\"50.5\" y=\"-11.4\" font-family=\"Times,serif\" font-size=\"12.00\">0</text>\n",
       "</g>\n",
       "<!-- I0&#45;&gt;0 -->\n",
       "<g id=\"edge1\" class=\"edge\"><title>I0&#45;&gt;0</title>\n",
       "<path fill=\"none\" stroke=\"black\" d=\"M1.1391,-14.5C2.7053,-14.5 17.205,-14.5 29.922,-14.5\"/>\n",
       "<polygon fill=\"black\" stroke=\"black\" points=\"35.958,-14.5 29.958,-17.2001 32.958,-14.5 29.958,-14.5001 29.958,-14.5001 29.958,-14.5001 32.958,-14.5 29.958,-11.8001 35.958,-14.5 35.958,-14.5\"/>\n",
       "</g>\n",
       "<!-- F0 -->\n",
       "<g id=\"node2\" class=\"node\"><title>F0</title>\n",
       "<ellipse fill=\"black\" stroke=\"black\" cx=\"101\" cy=\"-14.5\" rx=\"0\" ry=\"0\"/>\n",
       "</g>\n",
       "<!-- 0&#45;&gt;F0 -->\n",
       "<g id=\"edge2\" class=\"edge\"><title>0&#45;&gt;F0</title>\n",
       "<path fill=\"none\" stroke=\"black\" d=\"M65.1067,-14.5C74.9272,-14.5 87.3767,-14.5 94.7355,-14.5\"/>\n",
       "<polygon fill=\"black\" stroke=\"black\" points=\"100.939,-14.5 94.9394,-17.2001 97.9394,-14.5 94.9394,-14.5001 94.9394,-14.5001 94.9394,-14.5001 97.9394,-14.5 94.9393,-11.8001 100.939,-14.5 100.939,-14.5\"/>\n",
       "</g>\n",
       "</g>\n",
       "</svg>\n"
      ],
      "text/plain": [
       "mutable_automaton<context<letterset<char_letters>, b>>"
      ]
     },
     "execution_count": 34,
     "metadata": {},
     "output_type": "execute_result"
    }
   ],
   "source": [
    "a.proper()"
   ]
  },
  {
   "cell_type": "markdown",
   "metadata": {},
   "source": [
    "## Section 5: Transpose and Right Quotient\n",
    "The right quotient is written as `{\\}`, and transpose as a postfix operator `{T}`.\n",
    "\n",
    "The following simple example shows how transpose is handled."
   ]
  },
  {
   "cell_type": "code",
   "execution_count": 35,
   "metadata": {
    "collapsed": false
   },
   "outputs": [
    {
     "data": {
      "text/latex": [
       "${\\left(a \\, b \\, c\\right)^{*}}^{T}$"
      ],
      "text/plain": [
       "(abc)*{T}"
      ]
     },
     "execution_count": 35,
     "metadata": {},
     "output_type": "execute_result"
    }
   ],
   "source": [
    "e = Q.expression('(abc)*{T}')\n",
    "e"
   ]
  },
  {
   "cell_type": "code",
   "execution_count": 36,
   "metadata": {
    "collapsed": false
   },
   "outputs": [
    {
     "data": {
      "text/latex": [
       "$\\left\\langle 1\\right\\rangle  \\oplus c \\odot \\left[\\left(a \\, b\\right)^{T} \\, {\\left(a \\, b \\, c\\right)^{*}}^{T}\\right]$"
      ],
      "text/plain": [
       "<1> + c.[(ab){T}(abc)*{T}]"
      ]
     },
     "execution_count": 36,
     "metadata": {},
     "output_type": "execute_result"
    }
   ],
   "source": [
    "e.expansion()"
   ]
  },
  {
   "cell_type": "code",
   "execution_count": 37,
   "metadata": {
    "collapsed": false
   },
   "outputs": [
    {
     "data": {
      "image/svg+xml": [
       "<?xml version=\"1.0\" encoding=\"UTF-8\" standalone=\"no\"?>\n",
       "<!DOCTYPE svg PUBLIC \"-//W3C//DTD SVG 1.1//EN\"\n",
       " \"http://www.w3.org/Graphics/SVG/1.1/DTD/svg11.dtd\">\n",
       "<!-- Generated by graphviz version 2.38.0 (20140413.2041)\n",
       " -->\n",
       "<!-- Title: %3 Pages: 1 -->\n",
       "<svg width=\"309pt\" height=\"91pt\"\n",
       " viewBox=\"0.00 0.00 309.00 90.60\" xmlns=\"http://www.w3.org/2000/svg\" xmlns:xlink=\"http://www.w3.org/1999/xlink\">\n",
       "<g id=\"graph0\" class=\"graph\" transform=\"scale(1 1) rotate(0) translate(4 81.535)\">\n",
       "<title>%3</title>\n",
       "<polygon fill=\"white\" stroke=\"none\" points=\"-4,9.067 -4,-81.535 305,-81.535 305,9.067 -4,9.067\"/>\n",
       "<!-- I0 -->\n",
       "<g id=\"node1\" class=\"node\"><title>I0</title>\n",
       "<ellipse fill=\"black\" stroke=\"black\" cx=\"0\" cy=\"-44.535\" rx=\"0\" ry=\"0\"/>\n",
       "</g>\n",
       "<!-- 0 -->\n",
       "<g id=\"node3\" class=\"node\"><title>0</title>\n",
       "<path fill=\"#98f5ff\" stroke=\"black\" d=\"M77.3333,-59.035C77.3333,-59.035 46.6667,-59.035 46.6667,-59.035 41.8333,-59.035 37,-54.2017 37,-49.3683 37,-49.3683 37,-39.7017 37,-39.7017 37,-34.8683 41.8333,-30.035 46.6667,-30.035 46.6667,-30.035 77.3333,-30.035 77.3333,-30.035 82.1667,-30.035 87,-34.8683 87,-39.7017 87,-39.7017 87,-49.3683 87,-49.3683 87,-54.2017 82.1667,-59.035 77.3333,-59.035\"/>\n",
       "<text text-anchor=\"middle\" x=\"62\" y=\"-41.435\" font-family=\"Times,serif\" font-size=\"12.00\">(abc)*ᵗ</text>\n",
       "</g>\n",
       "<!-- I0&#45;&gt;0 -->\n",
       "<g id=\"edge1\" class=\"edge\"><title>I0&#45;&gt;0</title>\n",
       "<path fill=\"none\" stroke=\"black\" d=\"M1.0435,-44.535C1.9315,-44.535 16.275,-44.535 30.708,-44.535\"/>\n",
       "<polygon fill=\"black\" stroke=\"black\" points=\"36.86,-44.535 30.86,-47.2351 33.86,-44.535 30.86,-44.5351 30.86,-44.5351 30.86,-44.5351 33.86,-44.535 30.86,-41.8351 36.86,-44.535 36.86,-44.535\"/>\n",
       "</g>\n",
       "<!-- F0 -->\n",
       "<g id=\"node2\" class=\"node\"><title>F0</title>\n",
       "<ellipse fill=\"black\" stroke=\"black\" cx=\"166\" cy=\"-77.535\" rx=\"0\" ry=\"0\"/>\n",
       "</g>\n",
       "<!-- 0&#45;&gt;F0 -->\n",
       "<g id=\"edge2\" class=\"edge\"><title>0&#45;&gt;F0</title>\n",
       "<path fill=\"none\" stroke=\"black\" d=\"M87.1755,-52.5234C111.402,-60.2106 146.326,-71.2922 160.098,-75.6621\"/>\n",
       "<polygon fill=\"black\" stroke=\"black\" points=\"165.861,-77.491 159.326,-78.2498 163.002,-76.5836 160.142,-75.6762 160.142,-75.6762 160.142,-75.6762 163.002,-76.5836 160.959,-73.1027 165.861,-77.491 165.861,-77.491\"/>\n",
       "</g>\n",
       "<!-- 1 -->\n",
       "<g id=\"node4\" class=\"node\"><title>1</title>\n",
       "<path fill=\"#98f5ff\" stroke=\"black\" d=\"M192.333,-59.035C192.333,-59.035 139.667,-59.035 139.667,-59.035 134.833,-59.035 130,-54.2017 130,-49.3683 130,-49.3683 130,-39.7017 130,-39.7017 130,-34.8683 134.833,-30.035 139.667,-30.035 139.667,-30.035 192.333,-30.035 192.333,-30.035 197.167,-30.035 202,-34.8683 202,-39.7017 202,-39.7017 202,-49.3683 202,-49.3683 202,-54.2017 197.167,-59.035 192.333,-59.035\"/>\n",
       "<text text-anchor=\"middle\" x=\"166\" y=\"-41.435\" font-family=\"Times,serif\" font-size=\"12.00\">(ab)ᵗ(abc)*ᵗ</text>\n",
       "</g>\n",
       "<!-- 0&#45;&gt;1 -->\n",
       "<g id=\"edge3\" class=\"edge\"><title>0&#45;&gt;1</title>\n",
       "<path fill=\"none\" stroke=\"black\" d=\"M87.173,-44.535C98.108,-44.535 111.34,-44.535 123.77,-44.535\"/>\n",
       "<polygon fill=\"black\" stroke=\"black\" points=\"129.8,-44.535 123.8,-47.2351 126.8,-44.535 123.8,-44.5351 123.8,-44.5351 123.8,-44.5351 126.8,-44.535 123.8,-41.8351 129.8,-44.535 129.8,-44.535\"/>\n",
       "<text text-anchor=\"middle\" x=\"108.5\" y=\"-48.335\" font-family=\"Times,serif\" font-size=\"14.00\">c</text>\n",
       "</g>\n",
       "<!-- 2 -->\n",
       "<g id=\"node5\" class=\"node\"><title>2</title>\n",
       "<path fill=\"#98f5ff\" stroke=\"black\" d=\"M291.333,-31.035C291.333,-31.035 255.667,-31.035 255.667,-31.035 250.833,-31.035 246,-26.2017 246,-21.3683 246,-21.3683 246,-11.7017 246,-11.7017 246,-6.86833 250.833,-2.035 255.667,-2.035 255.667,-2.035 291.333,-2.035 291.333,-2.035 296.167,-2.035 301,-6.86833 301,-11.7017 301,-11.7017 301,-21.3683 301,-21.3683 301,-26.2017 296.167,-31.035 291.333,-31.035\"/>\n",
       "<text text-anchor=\"middle\" x=\"273.5\" y=\"-13.435\" font-family=\"Times,serif\" font-size=\"12.00\">a(abc)*ᵗ</text>\n",
       "</g>\n",
       "<!-- 1&#45;&gt;2 -->\n",
       "<g id=\"edge4\" class=\"edge\"><title>1&#45;&gt;2</title>\n",
       "<path fill=\"none\" stroke=\"black\" d=\"M202.13,-35.211C214.28,-31.987 227.84,-28.389 239.78,-25.218\"/>\n",
       "<polygon fill=\"black\" stroke=\"black\" points=\"245.87,-23.603 240.763,-27.7508 242.97,-24.372 240.07,-25.141 240.07,-25.141 240.07,-25.141 242.97,-24.372 239.378,-22.5313 245.87,-23.603 245.87,-23.603\"/>\n",
       "<text text-anchor=\"middle\" x=\"224\" y=\"-34.335\" font-family=\"Times,serif\" font-size=\"14.00\">b</text>\n",
       "</g>\n",
       "<!-- 2&#45;&gt;0 -->\n",
       "<g id=\"edge5\" class=\"edge\"><title>2&#45;&gt;0</title>\n",
       "<path fill=\"none\" stroke=\"black\" d=\"M245.74,-9.1863C216.72,-2.4292 169.29,5.067 130,-5.535 114.54,-9.7077 98.972,-18.428 86.742,-26.567\"/>\n",
       "<polygon fill=\"black\" stroke=\"black\" points=\"81.714,-30.004 85.1436,-24.389 84.1907,-28.311 86.6673,-26.618 86.6673,-26.618 86.6673,-26.618 84.1907,-28.311 88.191,-28.847 81.714,-30.004 81.714,-30.004\"/>\n",
       "<text text-anchor=\"middle\" x=\"166\" y=\"-9.335\" font-family=\"Times,serif\" font-size=\"14.00\">a</text>\n",
       "</g>\n",
       "</g>\n",
       "</svg>\n"
      ],
      "text/plain": [
       "expression_automaton<mutable_automaton<context<letterset<char_letters>, q>>>"
      ]
     },
     "execution_count": 37,
     "metadata": {},
     "output_type": "execute_result"
    }
   ],
   "source": [
    "e.derived_term()"
   ]
  },
  {
   "cell_type": "markdown",
   "metadata": {},
   "source": [
    "Then with a right quotient."
   ]
  },
  {
   "cell_type": "code",
   "execution_count": 38,
   "metadata": {
    "collapsed": false
   },
   "outputs": [
    {
     "data": {
      "text/latex": [
       "$\\left(\\left(b \\, a\\right)^{T} \\backslash \\left(a \\, b \\, a\\right)^{T}\\right)^{T}$"
      ],
      "text/plain": [
       "((ba){T}{\\}(aba){T}){T}"
      ]
     },
     "execution_count": 38,
     "metadata": {},
     "output_type": "execute_result"
    }
   ],
   "source": [
    "e = Q.expression('aba {/} ba')\n",
    "e"
   ]
  },
  {
   "cell_type": "code",
   "execution_count": 39,
   "metadata": {
    "collapsed": false
   },
   "outputs": [
    {
     "data": {
      "image/svg+xml": [
       "<?xml version=\"1.0\" encoding=\"UTF-8\" standalone=\"no\"?>\n",
       "<!DOCTYPE svg PUBLIC \"-//W3C//DTD SVG 1.1//EN\"\n",
       " \"http://www.w3.org/Graphics/SVG/1.1/DTD/svg11.dtd\">\n",
       "<!-- Generated by graphviz version 2.38.0 (20140413.2041)\n",
       " -->\n",
       "<!-- Title: %3 Pages: 1 -->\n",
       "<svg width=\"432pt\" height=\"38pt\"\n",
       " viewBox=\"0.00 0.00 432.00 37.50\" xmlns=\"http://www.w3.org/2000/svg\" xmlns:xlink=\"http://www.w3.org/1999/xlink\">\n",
       "<g id=\"graph0\" class=\"graph\" transform=\"scale(1 1) rotate(0) translate(4 33.5)\">\n",
       "<title>%3</title>\n",
       "<polygon fill=\"white\" stroke=\"none\" points=\"-4,4 -4,-33.5 428,-33.5 428,4 -4,4\"/>\n",
       "<!-- I0 -->\n",
       "<g id=\"node1\" class=\"node\"><title>I0</title>\n",
       "<ellipse fill=\"black\" stroke=\"black\" cx=\"0\" cy=\"-14.5\" rx=\"0\" ry=\"0\"/>\n",
       "</g>\n",
       "<!-- 0 -->\n",
       "<g id=\"node3\" class=\"node\"><title>0</title>\n",
       "<path fill=\"#98f5ff\" stroke=\"black\" d=\"M119.333,-29C119.333,-29 46.6667,-29 46.6667,-29 41.8333,-29 37,-24.1667 37,-19.3333 37,-19.3333 37,-9.66667 37,-9.66667 37,-4.83333 41.8333,-0 46.6667,-0 46.6667,-0 119.333,-0 119.333,-0 124.167,-0 129,-4.83333 129,-9.66667 129,-9.66667 129,-19.3333 129,-19.3333 129,-24.1667 124.167,-29 119.333,-29\"/>\n",
       "<text text-anchor=\"middle\" x=\"83\" y=\"-11.4\" font-family=\"Times,serif\" font-size=\"12.00\">((ba)ᵗ{\\}(aba)ᵗ)ᵗ</text>\n",
       "</g>\n",
       "<!-- I0&#45;&gt;0 -->\n",
       "<g id=\"edge1\" class=\"edge\"><title>I0&#45;&gt;0</title>\n",
       "<path fill=\"none\" stroke=\"black\" d=\"M1.0587,-14.5C2.0399,-14.5 15.188,-14.5 30.612,-14.5\"/>\n",
       "<polygon fill=\"black\" stroke=\"black\" points=\"36.852,-14.5 30.852,-17.2001 33.852,-14.5 30.852,-14.5001 30.852,-14.5001 30.852,-14.5001 33.852,-14.5 30.852,-11.8001 36.852,-14.5 36.852,-14.5\"/>\n",
       "</g>\n",
       "<!-- F3 -->\n",
       "<g id=\"node2\" class=\"node\"><title>F3</title>\n",
       "<ellipse fill=\"black\" stroke=\"black\" cx=\"424\" cy=\"-14.5\" rx=\"0\" ry=\"0\"/>\n",
       "</g>\n",
       "<!-- 1 -->\n",
       "<g id=\"node4\" class=\"node\"><title>1</title>\n",
       "<path fill=\"#98f5ff\" stroke=\"black\" d=\"M233.333,-29C233.333,-29 181.667,-29 181.667,-29 176.833,-29 172,-24.1667 172,-19.3333 172,-19.3333 172,-9.66667 172,-9.66667 172,-4.83333 176.833,-0 181.667,-0 181.667,-0 233.333,-0 233.333,-0 238.167,-0 243,-4.83333 243,-9.66667 243,-9.66667 243,-19.3333 243,-19.3333 243,-24.1667 238.167,-29 233.333,-29\"/>\n",
       "<text text-anchor=\"middle\" x=\"207.5\" y=\"-11.4\" font-family=\"Times,serif\" font-size=\"12.00\">(b{\\}(ab)ᵗ)ᵗ</text>\n",
       "</g>\n",
       "<!-- 0&#45;&gt;1 -->\n",
       "<g id=\"edge2\" class=\"edge\"><title>0&#45;&gt;1</title>\n",
       "<path fill=\"none\" stroke=\"black\" d=\"M129.27,-14.5C141.22,-14.5 154.05,-14.5 165.75,-14.5\"/>\n",
       "<polygon fill=\"black\" stroke=\"black\" points=\"171.76,-14.5 165.76,-17.2001 168.76,-14.5 165.76,-14.5001 165.76,-14.5001 165.76,-14.5001 168.76,-14.5 165.76,-11.8001 171.76,-14.5 171.76,-14.5\"/>\n",
       "<text text-anchor=\"middle\" x=\"150.5\" y=\"-18.3\" font-family=\"Times,serif\" font-size=\"14.00\">ε</text>\n",
       "</g>\n",
       "<!-- 2 -->\n",
       "<g id=\"node5\" class=\"node\"><title>2</title>\n",
       "<path fill=\"#98f5ff\" stroke=\"black\" d=\"M305.333,-29C305.333,-29 295.667,-29 295.667,-29 290.833,-29 286,-24.1667 286,-19.3333 286,-19.3333 286,-9.66667 286,-9.66667 286,-4.83333 290.833,-0 295.667,-0 295.667,-0 305.333,-0 305.333,-0 310.167,-0 315,-4.83333 315,-9.66667 315,-9.66667 315,-19.3333 315,-19.3333 315,-24.1667 310.167,-29 305.333,-29\"/>\n",
       "<text text-anchor=\"middle\" x=\"300.5\" y=\"-11.4\" font-family=\"Times,serif\" font-size=\"12.00\">a</text>\n",
       "</g>\n",
       "<!-- 1&#45;&gt;2 -->\n",
       "<g id=\"edge3\" class=\"edge\"><title>1&#45;&gt;2</title>\n",
       "<path fill=\"none\" stroke=\"black\" d=\"M243.16,-14.5C255.47,-14.5 268.91,-14.5 279.57,-14.5\"/>\n",
       "<polygon fill=\"black\" stroke=\"black\" points=\"285.82,-14.5 279.82,-17.2001 282.82,-14.5 279.82,-14.5001 279.82,-14.5001 279.82,-14.5001 282.82,-14.5 279.82,-11.8001 285.82,-14.5 285.82,-14.5\"/>\n",
       "<text text-anchor=\"middle\" x=\"264.5\" y=\"-18.3\" font-family=\"Times,serif\" font-size=\"14.00\">ε</text>\n",
       "</g>\n",
       "<!-- 3 -->\n",
       "<g id=\"node6\" class=\"node\"><title>3</title>\n",
       "<path fill=\"#98f5ff\" stroke=\"black\" d=\"M377.333,-29C377.333,-29 367.667,-29 367.667,-29 362.833,-29 358,-24.1667 358,-19.3333 358,-19.3333 358,-9.66667 358,-9.66667 358,-4.83333 362.833,-0 367.667,-0 367.667,-0 377.333,-0 377.333,-0 382.167,-0 387,-4.83333 387,-9.66667 387,-9.66667 387,-19.3333 387,-19.3333 387,-24.1667 382.167,-29 377.333,-29\"/>\n",
       "<text text-anchor=\"middle\" x=\"372.5\" y=\"-11.4\" font-family=\"Times,serif\" font-size=\"12.00\">ε</text>\n",
       "</g>\n",
       "<!-- 2&#45;&gt;3 -->\n",
       "<g id=\"edge4\" class=\"edge\"><title>2&#45;&gt;3</title>\n",
       "<path fill=\"none\" stroke=\"black\" d=\"M315.33,-14.5C325.68,-14.5 340,-14.5 351.59,-14.5\"/>\n",
       "<polygon fill=\"black\" stroke=\"black\" points=\"357.7,-14.5 351.7,-17.2001 354.7,-14.5 351.7,-14.5001 351.7,-14.5001 351.7,-14.5001 354.7,-14.5 351.7,-11.8001 357.7,-14.5 357.7,-14.5\"/>\n",
       "<text text-anchor=\"middle\" x=\"336.5\" y=\"-18.3\" font-family=\"Times,serif\" font-size=\"14.00\">a</text>\n",
       "</g>\n",
       "<!-- 3&#45;&gt;F3 -->\n",
       "<g id=\"edge5\" class=\"edge\"><title>3&#45;&gt;F3</title>\n",
       "<path fill=\"none\" stroke=\"black\" d=\"M387.12,-14.5C397.261,-14.5 410.253,-14.5 417.8,-14.5\"/>\n",
       "<polygon fill=\"black\" stroke=\"black\" points=\"423.937,-14.5 417.937,-17.2001 420.937,-14.5 417.937,-14.5001 417.937,-14.5001 417.937,-14.5001 420.937,-14.5 417.937,-11.8001 423.937,-14.5 423.937,-14.5\"/>\n",
       "</g>\n",
       "</g>\n",
       "</svg>\n"
      ],
      "text/plain": [
       "expression_automaton<mutable_automaton<context<letterset<char_letters>, q>>>"
      ]
     },
     "execution_count": 39,
     "metadata": {},
     "output_type": "execute_result"
    }
   ],
   "source": [
    "e.derived_term()"
   ]
  }
 ],
 "metadata": {
  "kernelspec": {
   "display_name": "Python 3",
   "language": "python",
   "name": "python3"
  },
  "language_info": {
   "codemirror_mode": {
    "name": "ipython",
    "version": 3
   },
   "file_extension": ".py",
   "mimetype": "text/x-python",
   "name": "python",
   "nbconvert_exporter": "python",
   "pygments_lexer": "ipython3",
   "version": "3.5.2"
  }
 },
 "nbformat": 4,
 "nbformat_minor": 0
}
