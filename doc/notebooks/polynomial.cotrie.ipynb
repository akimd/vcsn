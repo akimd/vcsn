{
 "cells": [
  {
   "cell_type": "markdown",
   "metadata": {},
   "source": [
    "# _polynomial_.cotrie"
   ]
  },
  {
   "cell_type": "markdown",
   "metadata": {},
   "source": [
    "Generate a \"cotrie\" automaton (multiple initial state, single final state automaton: a reversed tree) from a finite series, given as a polynomial of words.\n",
    "\n",
    "Postconditions:\n",
    "- `Result.is_codeterministic()`\n",
    "- `Result = p.cotrie.shortest(N)` for a large enough N.\n",
    "\n",
    "See also:\n",
    "- [context.cotrie](context.cotrie.ipynb)\n",
    "- [polynomial.trie](polynomial.trie.ipynb)"
   ]
  },
  {
   "cell_type": "markdown",
   "metadata": {},
   "source": [
    "## Examples"
   ]
  },
  {
   "cell_type": "code",
   "execution_count": 1,
   "metadata": {
    "collapsed": false
   },
   "outputs": [
    {
     "ename": "ImportError",
     "evalue": "dlopen(/Users/akim/src/lrde/2/_build/36s/python/.libs/vcsn_cxx.so, 2): Symbol not found: __ZN4vcsn3dyn4trieERKNSt3__110shared_ptrIKNS0_6detail12context_baseEEERNS1_13basic_istreamIcNS1_11char_traitsIcEEEE\n  Referenced from: /Users/akim/src/lrde/2/_build/36s/python/.libs/vcsn_cxx.so\n  Expected in: flat namespace\n in /Users/akim/src/lrde/2/_build/36s/python/.libs/vcsn_cxx.so",
     "output_type": "error",
     "traceback": [
      "\u001b[0;31m---------------------------------------------------------------------------\u001b[0m",
      "\u001b[0;31mImportError\u001b[0m                               Traceback (most recent call last)",
      "\u001b[0;32m<ipython-input-1-6e0211bda34e>\u001b[0m in \u001b[0;36m<module>\u001b[0;34m()\u001b[0m\n\u001b[0;32m----> 1\u001b[0;31m \u001b[0;32mimport\u001b[0m \u001b[0mvcsn\u001b[0m\u001b[0;34m\u001b[0m\u001b[0m\n\u001b[0m",
      "\u001b[0;32m/Users/akim/src/lrde/2/python/vcsn/__init__.py\u001b[0m in \u001b[0;36m<module>\u001b[0;34m()\u001b[0m\n\u001b[1;32m      5\u001b[0m \u001b[0;32mfrom\u001b[0m \u001b[0msubprocess\u001b[0m \u001b[0;32mimport\u001b[0m \u001b[0mPopen\u001b[0m\u001b[0;34m,\u001b[0m \u001b[0mcheck_call\u001b[0m\u001b[0;34m\u001b[0m\u001b[0m\n\u001b[1;32m      6\u001b[0m \u001b[0;34m\u001b[0m\u001b[0m\n\u001b[0;32m----> 7\u001b[0;31m \u001b[0;32mfrom\u001b[0m \u001b[0mvcsn_cxx\u001b[0m \u001b[0;32mimport\u001b[0m \u001b[0;34m*\u001b[0m\u001b[0;34m\u001b[0m\u001b[0m\n\u001b[0m\u001b[1;32m      8\u001b[0m \u001b[0;32mfrom\u001b[0m \u001b[0mvcsn_config\u001b[0m \u001b[0;32mimport\u001b[0m \u001b[0;34m*\u001b[0m\u001b[0;34m\u001b[0m\u001b[0m\n\u001b[1;32m      9\u001b[0m \u001b[0mdatadir\u001b[0m \u001b[0;34m=\u001b[0m \u001b[0mconfig\u001b[0m\u001b[0;34m[\u001b[0m\u001b[0;34m'datadir'\u001b[0m\u001b[0;34m]\u001b[0m\u001b[0;34m\u001b[0m\u001b[0m\n",
      "\u001b[0;31mImportError\u001b[0m: dlopen(/Users/akim/src/lrde/2/_build/36s/python/.libs/vcsn_cxx.so, 2): Symbol not found: __ZN4vcsn3dyn4trieERKNSt3__110shared_ptrIKNS0_6detail12context_baseEEERNS1_13basic_istreamIcNS1_11char_traitsIcEEEE\n  Referenced from: /Users/akim/src/lrde/2/_build/36s/python/.libs/vcsn_cxx.so\n  Expected in: flat namespace\n in /Users/akim/src/lrde/2/_build/36s/python/.libs/vcsn_cxx.so"
     ]
    }
   ],
   "source": [
    "import vcsn"
   ]
  },
  {
   "cell_type": "markdown",
   "metadata": {},
   "source": [
    "### Boolean weights (finite language)"
   ]
  },
  {
   "cell_type": "code",
   "execution_count": null,
   "metadata": {
    "collapsed": false
   },
   "outputs": [],
   "source": [
    "language = '\\e+a+b+abc+abcd+abdc'\n",
    "\n",
    "b = vcsn.context('lal_char, b')\n",
    "B = vcsn.context('law_char, b')\n",
    "\n",
    "B.polynomial(language).trie()"
   ]
  },
  {
   "cell_type": "code",
   "execution_count": null,
   "metadata": {
    "collapsed": false
   },
   "outputs": [],
   "source": [
    "B.polynomial(language).cotrie()"
   ]
  },
  {
   "cell_type": "markdown",
   "metadata": {},
   "source": [
    "Since the cotrie is codeterministic, determinizing it suffices to minimize it.  It turns out that in the current implementation of Vcsn, it is faster to determinize than to minimize:"
   ]
  },
  {
   "cell_type": "code",
   "execution_count": null,
   "metadata": {
    "collapsed": false
   },
   "outputs": [],
   "source": [
    "%timeit B.polynomial(language).trie().minimize()"
   ]
  },
  {
   "cell_type": "code",
   "execution_count": null,
   "metadata": {
    "collapsed": false
   },
   "outputs": [],
   "source": [
    "%timeit B.polynomial(language).cotrie().determinize()"
   ]
  },
  {
   "cell_type": "code",
   "execution_count": null,
   "metadata": {
    "collapsed": false
   },
   "outputs": [],
   "source": [
    "a1 = B.polynomial(language).trie().minimize()\n",
    "a2 = B.polynomial(language).cotrie().determinize()\n",
    "a1.is_isormorphic(a2)"
   ]
  }
 ],
 "metadata": {
  "kernelspec": {
   "display_name": "Python 3",
   "language": "python",
   "name": "python3"
  },
  "language_info": {
   "codemirror_mode": {
    "name": "ipython",
    "version": 3
   },
   "file_extension": ".py",
   "mimetype": "text/x-python",
   "name": "python",
   "nbconvert_exporter": "python",
   "pygments_lexer": "ipython3",
   "version": "3.4.3"
  }
 },
 "nbformat": 4,
 "nbformat_minor": 0
}
