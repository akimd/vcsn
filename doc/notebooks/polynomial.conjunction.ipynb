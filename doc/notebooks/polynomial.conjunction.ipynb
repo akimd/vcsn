{
 "cells": [
  {
   "cell_type": "markdown",
   "metadata": {},
   "source": [
    "# _`polynomial`_ & _`poly`_\n",
    "\n",
    "The conjunction of two polynomials, i.e., the polynomial that map common labels to the product of their associated weights.  Coincides with the intersection in the case of the Boolean semiring.\n",
    "\n",
    "Preconditions:\n",
    "- None\n",
    "\n",
    "Properties:\n",
    "- associative\n",
    "\n",
    "See also:\n",
    "- [automaton.conjunction](automaton.conjunction.ipynb)\n",
    "- [expression.conjunction](expression.conjunction.ipynb)"
   ]
  },
  {
   "cell_type": "markdown",
   "metadata": {},
   "source": [
    "## Examples"
   ]
  },
  {
   "cell_type": "code",
   "execution_count": 1,
   "metadata": {
    "collapsed": true
   },
   "outputs": [],
   "source": [
    "import vcsn\n",
    "a = vcsn.Q.polynomial('<3>a + <2>b')\n",
    "b = vcsn.Q.polynomial('<4>b + <2>c')"
   ]
  },
  {
   "cell_type": "code",
   "execution_count": 2,
   "metadata": {},
   "outputs": [
    {
     "data": {
      "text/latex": [
       "$\\left\\langle 8\\right\\rangle b$"
      ],
      "text/plain": [
       "<8>b"
      ]
     },
     "execution_count": 2,
     "metadata": {},
     "output_type": "execute_result"
    }
   ],
   "source": [
    "a & b"
   ]
  }
 ],
 "metadata": {
  "kernelspec": {
   "display_name": "Python 3",
   "language": "python",
   "name": "python3"
  },
  "language_info": {
   "codemirror_mode": {
    "name": "ipython",
    "version": 3
   },
   "file_extension": ".py",
   "mimetype": "text/x-python",
   "name": "python",
   "nbconvert_exporter": "python",
   "pygments_lexer": "ipython3",
   "version": "3.5.3"
  }
 },
 "nbformat": 4,
 "nbformat_minor": 1
}
