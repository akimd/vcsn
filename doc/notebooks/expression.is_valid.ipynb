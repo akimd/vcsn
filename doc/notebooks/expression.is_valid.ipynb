{
 "metadata": {
  "name": "",
  "signature": "sha256:605c35613cb3b841df619c19229b7ad0cac6e3b76f28b4a27424477ff4fafa24"
 },
 "nbformat": 3,
 "nbformat_minor": 0,
 "worksheets": [
  {
   "cells": [
    {
     "cell_type": "heading",
     "level": 1,
     "metadata": {},
     "source": [
      "_expression_.is_valid"
     ]
    },
    {
     "cell_type": "markdown",
     "metadata": {},
     "source": [
      "Whether all the starred sub-expressions have a constant-term that admits a star value.\n",
      "\n",
      "Postconditions:\n",
      "- expression.constant_term does not throw an exception.\n",
      "\n",
      "See also:\n",
      "- [_automaton_.is_valid](automaton.is_valid.ipynb)\n",
      "- [_automaton_.proper](automaton.proper.ipynb)\n",
      "- [_expression_.constant_term](expression.constant_term.ipynb)"
     ]
    },
    {
     "cell_type": "heading",
     "level": 2,
     "metadata": {},
     "source": [
      "Examples"
     ]
    },
    {
     "cell_type": "markdown",
     "metadata": {},
     "source": [
      "The following funtion will help display the result of `is_valid`."
     ]
    },
    {
     "cell_type": "code",
     "collapsed": false,
     "input": [
      "import vcsn\n",
      "from IPython.display import Latex\n",
      "\n",
      "def valid(ctx, *rs):\n",
      "    eqs = []\n",
      "    for r in rs:\n",
      "        r = ctx.expression(r)\n",
      "        eqs.append(r'{0} &: \\mathrm{{{1}}}'\n",
      "                   .format(r.format('latex'),\n",
      "                           \"valid\" if r.is_valid() else \"invalid\"))\n",
      "    return Latex(r'''\\begin{{aligned}}\n",
      "        {0}\n",
      "    \\end{{aligned}}'''.format(r'\\\\'.join(eqs)))"
     ],
     "language": "python",
     "metadata": {},
     "outputs": [
      {
       "javascript": [
        "IPython.load_extensions(\"AutomatonD3Widget\")"
       ],
       "metadata": {},
       "output_type": "display_data",
       "text": [
        "<IPython.core.display.Javascript at 0x114126050>"
       ]
      }
     ],
     "prompt_number": 1
    },
    {
     "cell_type": "markdown",
     "metadata": {},
     "source": [
      "In $\\mathbb{B}$ all the values have a star-power, so expressions are always valid."
     ]
    },
    {
     "cell_type": "code",
     "collapsed": false,
     "input": [
      "b = vcsn.context('lal_char(ab), b')\n",
      "valid(b, '\\e*')"
     ],
     "language": "python",
     "metadata": {},
     "outputs": [
      {
       "latex": [
        "\\begin{aligned}\n",
        "        {\\varepsilon}^{*} &: \\mathrm{valid}\n",
        "    \\end{aligned}"
       ],
       "metadata": {},
       "output_type": "pyout",
       "prompt_number": 2,
       "text": [
        "<IPython.core.display.Latex at 0x1109a8750>"
       ]
      }
     ],
     "prompt_number": 2
    },
    {
     "cell_type": "markdown",
     "metadata": {},
     "source": [
      "In $\\mathbb{Z}$, $0$ is the only weight that admit a star."
     ]
    },
    {
     "cell_type": "code",
     "collapsed": false,
     "input": [
      "z = vcsn.context('lal_char(ab), z')\n",
      "valid(z, '(<0>\\e)*', '(<1>\\e)*', '(<42>\\e)*')"
     ],
     "language": "python",
     "metadata": {},
     "outputs": [
      {
       "latex": [
        "\\begin{aligned}\n",
        "        \\varepsilon &: \\mathrm{valid}\\\\{\\varepsilon}^{*} &: \\mathrm{invalid}\\\\\\left( \\left\\langle 42 \\right\\rangle \\,\\varepsilon\\right)^{*} &: \\mathrm{invalid}\n",
        "    \\end{aligned}"
       ],
       "metadata": {},
       "output_type": "pyout",
       "prompt_number": 3,
       "text": [
        "<IPython.core.display.Latex at 0x1109a88d0>"
       ]
      }
     ],
     "prompt_number": 3
    },
    {
     "cell_type": "markdown",
     "metadata": {},
     "source": [
      "In $\\mathbb{Q}$ (and $\\mathbb{R}$), only weights $w$ such that $|w| < 1$ admit a star."
     ]
    },
    {
     "cell_type": "code",
     "collapsed": false,
     "input": [
      "q = vcsn.context('lal_char(ab), q')\n",
      "valid(q, '(<1/2>\\e)*', '(<99/100>\\e)*', '(<-99/100>\\e)*', '(<101/100>\\e)*', '(<-101/100>\\e)*')"
     ],
     "language": "python",
     "metadata": {},
     "outputs": [
      {
       "latex": [
        "\\begin{aligned}\n",
        "        \\left( \\left\\langle \\frac{1}{2} \\right\\rangle \\,\\varepsilon\\right)^{*} &: \\mathrm{valid}\\\\\\left( \\left\\langle \\frac{99}{100} \\right\\rangle \\,\\varepsilon\\right)^{*} &: \\mathrm{valid}\\\\\\left( \\left\\langle \\frac{-99}{100} \\right\\rangle \\,\\varepsilon\\right)^{*} &: \\mathrm{valid}\\\\\\left( \\left\\langle \\frac{101}{100} \\right\\rangle \\,\\varepsilon\\right)^{*} &: \\mathrm{invalid}\\\\\\left( \\left\\langle \\frac{-101}{100} \\right\\rangle \\,\\varepsilon\\right)^{*} &: \\mathrm{invalid}\n",
        "    \\end{aligned}"
       ],
       "metadata": {},
       "output_type": "pyout",
       "prompt_number": 4,
       "text": [
        "<IPython.core.display.Latex at 0x1109a8490>"
       ]
      }
     ],
     "prompt_number": 4
    }
   ],
   "metadata": {}
  }
 ]
}