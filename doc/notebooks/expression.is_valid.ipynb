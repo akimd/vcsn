{
 "cells": [
  {
   "cell_type": "markdown",
   "metadata": {},
   "source": [
    "# _expression_.is_valid\n",
    "\n",
    "Whether all the starred sub-expressions have a constant-term that admits a star value.\n",
    "\n",
    "Postconditions:\n",
    "- expression.constant_term does not throw an exception.\n",
    "\n",
    "See also:\n",
    "- [_automaton_.is_valid](automaton.is_valid.ipynb)\n",
    "- [_automaton_.proper](automaton.proper.ipynb)\n",
    "- [_expression_.constant_term](expression.constant_term.ipynb)"
   ]
  },
  {
   "cell_type": "markdown",
   "metadata": {},
   "source": [
    "## Examples"
   ]
  },
  {
   "cell_type": "markdown",
   "metadata": {},
   "source": [
    "The following funtion will help display the result of `is_valid`."
   ]
  },
  {
   "cell_type": "code",
   "execution_count": 1,
   "metadata": {
    "collapsed": false
   },
   "outputs": [],
   "source": [
    "import vcsn\n",
    "from IPython.display import Latex\n",
    "\n",
    "def valid(ctx, *rs):\n",
    "    eqs = []\n",
    "    for r in rs:\n",
    "        r = ctx.expression(r)\n",
    "        eqs.append(r'{0} &: \\mathrm{{{1}}}'\n",
    "                   .format(r.format('latex'),\n",
    "                           \"valid\" if r.is_valid() else \"invalid\"))\n",
    "    return Latex(r'''\\begin{{aligned}}\n",
    "        {0}\n",
    "    \\end{{aligned}}'''.format(r'\\\\'.join(eqs)))"
   ]
  },
  {
   "cell_type": "markdown",
   "metadata": {},
   "source": [
    "In $\\mathbb{B}$ all the values have a star-power, so expressions are always valid."
   ]
  },
  {
   "cell_type": "code",
   "execution_count": 2,
   "metadata": {
    "collapsed": false
   },
   "outputs": [
    {
     "data": {
      "text/latex": [
       "\\begin{aligned}\n",
       "        {\\varepsilon}^{*} &: \\mathrm{valid}\n",
       "    \\end{aligned}"
      ],
      "text/plain": [
       "<IPython.core.display.Latex object>"
      ]
     },
     "execution_count": 2,
     "metadata": {},
     "output_type": "execute_result"
    }
   ],
   "source": [
    "b = vcsn.context('lal_char(ab), b')\n",
    "valid(b, '\\e*')"
   ]
  },
  {
   "cell_type": "markdown",
   "metadata": {},
   "source": [
    "In $\\mathbb{Z}$, $0$ is the only weight that admits a star."
   ]
  },
  {
   "cell_type": "code",
   "execution_count": 3,
   "metadata": {
    "collapsed": false
   },
   "outputs": [
    {
     "data": {
      "text/latex": [
       "\\begin{aligned}\n",
       "        \\varepsilon &: \\mathrm{valid}\\\\{\\varepsilon}^{*} &: \\mathrm{invalid}\\\\\\left( \\left\\langle 42 \\right\\rangle \\,\\varepsilon\\right)^{*} &: \\mathrm{invalid}\n",
       "    \\end{aligned}"
      ],
      "text/plain": [
       "<IPython.core.display.Latex object>"
      ]
     },
     "execution_count": 3,
     "metadata": {},
     "output_type": "execute_result"
    }
   ],
   "source": [
    "z = vcsn.context('lal_char(ab), z')\n",
    "valid(z, '(<0>\\e)*', '(<1>\\e)*', '(<42>\\e)*')"
   ]
  },
  {
   "cell_type": "markdown",
   "metadata": {},
   "source": [
    "In $\\mathbb{Q}$ (and $\\mathbb{R}$), only weights $w$ such that $|w| < 1$ admit a star."
   ]
  },
  {
   "cell_type": "code",
   "execution_count": 4,
   "metadata": {
    "collapsed": false
   },
   "outputs": [
    {
     "data": {
      "text/latex": [
       "\\begin{aligned}\n",
       "        \\left( \\left\\langle \\frac{1}{2} \\right\\rangle \\,\\varepsilon\\right)^{*} &: \\mathrm{valid}\\\\\\left( \\left\\langle \\frac{99}{100} \\right\\rangle \\,\\varepsilon\\right)^{*} &: \\mathrm{valid}\\\\\\left( \\left\\langle \\frac{-99}{100} \\right\\rangle \\,\\varepsilon\\right)^{*} &: \\mathrm{valid}\\\\\\left( \\left\\langle \\frac{101}{100} \\right\\rangle \\,\\varepsilon\\right)^{*} &: \\mathrm{invalid}\\\\\\left( \\left\\langle \\frac{-101}{100} \\right\\rangle \\,\\varepsilon\\right)^{*} &: \\mathrm{invalid}\n",
       "    \\end{aligned}"
      ],
      "text/plain": [
       "<IPython.core.display.Latex object>"
      ]
     },
     "execution_count": 4,
     "metadata": {},
     "output_type": "execute_result"
    }
   ],
   "source": [
    "q = vcsn.context('lal_char(ab), q')\n",
    "valid(q, '(<1/2>\\e)*', '(<99/100>\\e)*', '(<-99/100>\\e)*', '(<101/100>\\e)*', '(<-101/100>\\e)*')"
   ]
  }
 ],
 "metadata": {
  "kernelspec": {
   "display_name": "Python 3",
   "language": "python",
   "name": "python3"
  },
  "language_info": {
   "codemirror_mode": {
    "name": "ipython",
    "version": 3
   },
   "file_extension": ".py",
   "mimetype": "text/x-python",
   "name": "python",
   "nbconvert_exporter": "python",
   "pygments_lexer": "ipython3",
   "version": "3.4.4"
  }
 },
 "nbformat": 4,
 "nbformat_minor": 0
}
