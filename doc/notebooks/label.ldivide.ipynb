{
 "cells": [
  {
   "cell_type": "markdown",
   "metadata": {},
   "source": [
    "# _`label`_`.ldivide(l)`\n",
    "# _`label`_`//`_`l`_\n",
    "\n",
    "\n",
    "The left-quotient of `l` by `label`, i.e., the removal of a prefix.  Written `label \\ l`, or sometimes  $(\\mathit{label})^{-1}\\ell$.\n",
    "Beware that the notation `lhs // rhs` is somewhat misleading, and corresponds to `lhs \\ rhs`, i.e. `lhs` is the divisor, and `rhs` the dividend.\n",
    "\n",
    "See also:\n",
    "- [label.rdivide](label.rdivide.ipynb)"
   ]
  },
  {
   "cell_type": "markdown",
   "metadata": {},
   "source": [
    "## Examples"
   ]
  },
  {
   "cell_type": "code",
   "execution_count": 1,
   "metadata": {
    "collapsed": false
   },
   "outputs": [
    {
     "data": {
      "text/latex": [
       "$\\mathit{abcd}$"
      ],
      "text/plain": [
       "abcd"
      ]
     },
     "execution_count": 1,
     "metadata": {},
     "output_type": "execute_result"
    }
   ],
   "source": [
    "import sys\n",
    "import vcsn\n",
    "label = vcsn.context('law_char, q').label\n",
    "label('').ldivide(label('abcd'))"
   ]
  },
  {
   "cell_type": "code",
   "execution_count": 2,
   "metadata": {
    "collapsed": false
   },
   "outputs": [
    {
     "data": {
      "text/latex": [
       "$\\mathit{bcd}$"
      ],
      "text/plain": [
       "bcd"
      ]
     },
     "execution_count": 2,
     "metadata": {},
     "output_type": "execute_result"
    }
   ],
   "source": [
    "label('a').ldivide(label('abcd'))"
   ]
  },
  {
   "cell_type": "code",
   "execution_count": 3,
   "metadata": {
    "collapsed": false
   },
   "outputs": [
    {
     "data": {
      "text/latex": [
       "$\\mathit{bcd}$"
      ],
      "text/plain": [
       "bcd"
      ]
     },
     "execution_count": 3,
     "metadata": {},
     "output_type": "execute_result"
    }
   ],
   "source": [
    "label('a') // label('abcd')"
   ]
  },
  {
   "cell_type": "code",
   "execution_count": 4,
   "metadata": {
    "collapsed": false
   },
   "outputs": [
    {
     "data": {
      "text/latex": [
       "$\\varepsilon$"
      ],
      "text/plain": [
       "\\e"
      ]
     },
     "execution_count": 4,
     "metadata": {},
     "output_type": "execute_result"
    }
   ],
   "source": [
    "label('abcd') // label('abcd')"
   ]
  },
  {
   "cell_type": "code",
   "execution_count": 5,
   "metadata": {
    "collapsed": false
   },
   "outputs": [
    {
     "name": "stderr",
     "output_type": "stream",
     "text": [
      "{abcd}*: ldivide: invalid arguments: d, abcd\n"
     ]
    }
   ],
   "source": [
    "try:\n",
    "    label('d') // label('abcd')\n",
    "except Exception as e:\n",
    "    print(e, file=sys.stderr)"
   ]
  }
 ],
 "metadata": {
  "kernelspec": {
   "display_name": "Python 3",
   "language": "python",
   "name": "python3"
  },
  "language_info": {
   "codemirror_mode": {
    "name": "ipython",
    "version": 3
   },
   "file_extension": ".py",
   "mimetype": "text/x-python",
   "name": "python",
   "nbconvert_exporter": "python",
   "pygments_lexer": "ipython3",
   "version": "3.5.2"
  }
 },
 "nbformat": 4,
 "nbformat_minor": 0
}
