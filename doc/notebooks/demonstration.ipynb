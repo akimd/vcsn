{
 "cells": [
  {
   "cell_type": "markdown",
   "metadata": {},
   "source": [
    "# %demo, the Interactive showcase"
   ]
  },
  {
   "cell_type": "code",
   "execution_count": 1,
   "metadata": {
    "collapsed": false
   },
   "outputs": [],
   "source": [
    "import vcsn"
   ]
  },
  {
   "cell_type": "markdown",
   "metadata": {},
   "source": [
    "In this notebook we present the usage of `%demo`. The `%demo` syntax takes an **expression** or an **automaton** and applies an **algorithm** (named by its second argument) on it."
   ]
  },
  {
   "cell_type": "code",
   "execution_count": 2,
   "metadata": {
    "collapsed": false
   },
   "outputs": [
    {
     "name": "stdout",
     "output_type": "stream",
     "text": [
      " Usage: %demo variable algorithm\n",
      "\n",
      "        variable     either an expression or an automaton.\n",
      "        algorithm    one that is valid for the variable: [eliminate_state,\n",
      "        automaton]\n",
      "\n",
      "        Type %demo --help or %demo? to display this message.\n",
      "\n",
      "        Example:\n",
      "\n",
      "        e = vcsn.B.expression('(ab?){2}')\n",
      "        a = e.standard().lift()\n",
      "        %demo a eliminate_state\n",
      "        \n"
     ]
    }
   ],
   "source": [
    "%demo help"
   ]
  },
  {
   "cell_type": "markdown",
   "metadata": {},
   "source": [
    "Once it is done it shows an interactive box where the user can play.\n",
    "\n",
    "For the next examples we define an expression `e`, for instance `a+bb`:"
   ]
  },
  {
   "cell_type": "code",
   "execution_count": 3,
   "metadata": {
    "collapsed": false
   },
   "outputs": [
    {
     "data": {
      "text/latex": [
       "$a + b \\, b$"
      ],
      "text/plain": [
       "a+bb"
      ]
     },
     "execution_count": 3,
     "metadata": {},
     "output_type": "execute_result"
    }
   ],
   "source": [
    "e = vcsn.B.expression('a+b{2}'); e"
   ]
  },
  {
   "cell_type": "markdown",
   "metadata": {},
   "source": [
    "## Automaton"
   ]
  },
  {
   "cell_type": "code",
   "execution_count": 4,
   "metadata": {
    "collapsed": false
   },
   "outputs": [],
   "source": [
    "%demo e automaton"
   ]
  },
  {
   "cell_type": "markdown",
   "metadata": {},
   "source": [
    "## Eliminate State\n",
    "\n",
    "Let define 3 lifted automata a, b and c."
   ]
  },
  {
   "cell_type": "code",
   "execution_count": 5,
   "metadata": {
    "collapsed": false
   },
   "outputs": [],
   "source": [
    "a = e.thompson() ** 2; a = a.lift()"
   ]
  },
  {
   "cell_type": "code",
   "execution_count": 6,
   "metadata": {
    "collapsed": false
   },
   "outputs": [],
   "source": [
    "b = e.standard() ** 2; b = b.lift()"
   ]
  },
  {
   "cell_type": "code",
   "execution_count": 7,
   "metadata": {
    "collapsed": false
   },
   "outputs": [],
   "source": [
    "c = e.zpc() ** 2; c = c.lift()"
   ]
  },
  {
   "cell_type": "markdown",
   "metadata": {},
   "source": [
    "Now we call the interactive demonstration of eliminate_state algorithm.\n",
    "\n",
    "Play with the slider to show each step of the algorithm process."
   ]
  },
  {
   "cell_type": "code",
   "execution_count": 8,
   "metadata": {
    "collapsed": false
   },
   "outputs": [],
   "source": [
    "%demo a eliminate_state"
   ]
  },
  {
   "cell_type": "code",
   "execution_count": 9,
   "metadata": {
    "collapsed": false
   },
   "outputs": [],
   "source": [
    "%demo b eliminate_state"
   ]
  },
  {
   "cell_type": "code",
   "execution_count": 10,
   "metadata": {
    "collapsed": false
   },
   "outputs": [],
   "source": [
    "%demo c eliminate_state"
   ]
  }
 ],
 "metadata": {
  "kernelspec": {
   "display_name": "Python 3",
   "language": "python",
   "name": "python3"
  },
  "language_info": {
   "codemirror_mode": {
    "name": "ipython",
    "version": 3
   },
   "file_extension": ".py",
   "mimetype": "text/x-python",
   "name": "python",
   "nbconvert_exporter": "python",
   "pygments_lexer": "ipython3",
   "version": "3.5.1"
  },
  "widgets": {
   "state": {
    "05d1caf05fc747bbae33723a6a12fab8": {
     "views": []
    },
    "0c91f921603c4254b01ef09a0e2d9bda": {
     "views": [
      {
       "cell_index": 7
      }
     ]
    },
    "14173440068c4c2487f8ce921af3a6f5": {
     "views": []
    },
    "3379f356109a4ef798649330fea6ff70": {
     "views": []
    },
    "515bc796109d422eb2f41cba43c92535": {
     "views": [
      {
       "cell_index": 7
      }
     ]
    },
    "644239f169d04a23b931c905415c09fb": {
     "views": [
      {
       "cell_index": 14
      }
     ]
    },
    "806138d99e8d4b0f89ac870994b5f499": {
     "views": []
    },
    "8187bed535524ba48325fabd97de5e6e": {
     "views": [
      {
       "cell_index": 14
      }
     ]
    },
    "9703ff146aa94d8d9d07c0d01b9a2672": {
     "views": []
    },
    "9d931f3990604e11aeaefec13953073b": {
     "views": [
      {
       "cell_index": 13
      }
     ]
    },
    "a10fbb50d2bc488fbea579593bad4c8f": {
     "views": [
      {
       "cell_index": 15
      }
     ]
    },
    "a5439333172a43238327770940056342": {
     "views": []
    },
    "c92b92b9708849d280f1086730919bce": {
     "views": [
      {
       "cell_index": 7
      }
     ]
    },
    "ceac095fccbc49e19e68b092a4960480": {
     "views": [
      {
       "cell_index": 15
      }
     ]
    },
    "d2167d7759984c438f2c8ad538b8e072": {
     "views": []
    },
    "de65408a159f4f798b33dec699b0708e": {
     "views": []
    },
    "ebbb16add18a4bb1a2836f82ab4da65b": {
     "views": []
    },
    "f65ade488a054d3b8a2515f7c1344443": {
     "views": [
      {
       "cell_index": 13
      }
     ]
    }
   },
   "version": "1.1.2"
  }
 },
 "nbformat": 4,
 "nbformat_minor": 0
}
