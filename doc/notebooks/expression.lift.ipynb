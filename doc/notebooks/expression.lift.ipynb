{
 "cells": [
  {
   "cell_type": "markdown",
   "metadata": {},
   "source": [
    "# `expression.lift`\n",
    "$\\newcommand{\\lweight}[2]{\\bra{#1}{#2}}\n",
    "\\newcommand{\\bra}[1]{\\langle#1\\rangle}$\n",
    "Turn an expression into a spontaneous expression by mapping it into $\\lweight{expression}{\\varepsilon}$.\n",
    "\n",
    "See also:\n",
    "- [automaton.lift](automaton.lift.ipynb)\n",
    "\n",
    "## Examples"
   ]
  },
  {
   "cell_type": "code",
   "execution_count": 1,
   "metadata": {},
   "outputs": [],
   "source": [
    "import vcsn\n",
    "from IPython.display import display"
   ]
  },
  {
   "cell_type": "code",
   "execution_count": 2,
   "metadata": {},
   "outputs": [
    {
     "data": {
      "text/latex": [
       "$\\left(a +  \\left\\langle 2 \\right\\rangle \\,b +  \\left\\langle 3 \\right\\rangle \\,c\\right)^{2}$"
      ],
      "text/plain": [
       "(a+<2>b+<3>c){2}"
      ]
     },
     "execution_count": 2,
     "metadata": {},
     "output_type": "execute_result"
    }
   ],
   "source": [
    "a = vcsn.Q.expression('(<1>a+<2>b+<3>c){2}')\n",
    "a"
   ]
  },
  {
   "cell_type": "code",
   "execution_count": 3,
   "metadata": {},
   "outputs": [
    {
     "data": {
      "text/latex": [
       "$ \\left\\langle \\left(a +  \\left\\langle 2 \\right\\rangle \\,b +  \\left\\langle 3 \\right\\rangle \\,c\\right)^{2} \\right\\rangle \\,\\varepsilon$"
      ],
      "text/plain": [
       "<(a+<2>b+<3>c){2}>\\e"
      ]
     },
     "execution_count": 3,
     "metadata": {},
     "output_type": "execute_result"
    }
   ],
   "source": [
    "b = a.lift()\n",
    "b"
   ]
  },
  {
   "cell_type": "code",
   "execution_count": 4,
   "metadata": {},
   "outputs": [
    {
     "data": {
      "text/latex": [
       "$\\{a, b, c, \\ldots\\}\\to\\mathbb{Q}$"
      ],
      "text/plain": [
       "{abc...} -> Q"
      ]
     },
     "metadata": {},
     "output_type": "display_data"
    },
    {
     "data": {
      "text/latex": [
       "$\\{\\varepsilon\\}\\to\\mathsf{RatE}[\\{a, b, c, \\ldots\\}\\to\\mathbb{Q}]$"
      ],
      "text/plain": [
       "{\\e} -> RatE[{abc...} -> Q]"
      ]
     },
     "metadata": {},
     "output_type": "display_data"
    }
   ],
   "source": [
    "display(a.context(), b.context())"
   ]
  },
  {
   "cell_type": "code",
   "execution_count": 5,
   "metadata": {},
   "outputs": [
    {
     "data": {
      "text/plain": [
       "'expressionset<letterset<char_letters(abc)>, q>'"
      ]
     },
     "metadata": {},
     "output_type": "display_data"
    },
    {
     "data": {
      "text/plain": [
       "'expressionset<lao, expressionset<letterset<char_letters(abc)>, q>>'"
      ]
     },
     "metadata": {},
     "output_type": "display_data"
    }
   ],
   "source": [
    "display(a.type(), b.type())"
   ]
  }
 ],
 "metadata": {
  "kernelspec": {
   "display_name": "Python 3",
   "language": "python",
   "name": "python3"
  },
  "language_info": {
   "codemirror_mode": {
    "name": "ipython",
    "version": 3
   },
   "file_extension": ".py",
   "mimetype": "text/x-python",
   "name": "python",
   "nbconvert_exporter": "python",
   "pygments_lexer": "ipython3",
   "version": "3.6.4"
  },
  "widgets": {
   "state": {},
   "version": "1.1.2"
  }
 },
 "nbformat": 4,
 "nbformat_minor": 1
}
