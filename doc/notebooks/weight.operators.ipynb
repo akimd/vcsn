{
 "cells": [
  {
   "cell_type": "markdown",
   "metadata": {},
   "source": [
    "# Operators on weights\n",
    "\n",
    "<table>\n",
    "  <tr><td>`*`</td>  <td>[concatenate](weight.concatenate.ipynb)</td> <td>Product (concatenation)</td></tr>\n",
    "  <tr><td>`&`</td>  <td>[conjunction](weight.conjunction.ipynb)</td> <td>Conjunction (synchronized product)</td></tr>\n",
    "  <tr><td>`+`</td>  <td>[sum](weight.sum.ipynb)</td>                 <td>Sum (disjunction)</td></tr>\n",
    "  <tr><td>`%`</td>  <td>[difference](weight.difference.ipynb)</td>   <td>Difference</td></tr>\n",
    "  <tr><td>`-`</td>  <td>[difference](weight.difference.ipynb)</td>   <td>Difference</td></tr>\n",
    "  <tr><td>`**`</td> <td>[power](weight.power.ipynb)</td>             <td>Repeated concatenation</td></tr>\n",
    "</table>"
   ]
  }
 ],
 "metadata": {
  "kernelspec": {
   "display_name": "Python 3",
   "language": "python",
   "name": "python3"
  },
  "language_info": {
   "codemirror_mode": {
    "name": "ipython",
    "version": 3
   },
   "file_extension": ".py",
   "mimetype": "text/x-python",
   "name": "python",
   "nbconvert_exporter": "python",
   "pygments_lexer": "ipython3",
   "version": "3.4.3"
  }
 },
 "nbformat": 4,
 "nbformat_minor": 0
}
