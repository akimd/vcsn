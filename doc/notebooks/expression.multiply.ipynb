{
 "cells": [
  {
   "cell_type": "markdown",
   "metadata": {},
   "source": [
    "# _`expression`_`.multiply`\n",
    "\n",
    "This function is overloaded, it support three different signatures:\n",
    "\n",
    "- _`expression`_`.multiply(`_`exp`_`)`\n",
    "\n",
    "  The product (i.e., the concatenation) of two expressions: `a.multiply(b)` => `ab`.\n",
    "\n",
    "- _`expression`_`.multiply(`_`num`_`)`\n",
    "\n",
    "  The repeated multiplication (concatenation) of an expression with itself: `a.multiply(3)` => `aaa`.\n",
    "\n",
    "- _`expression`_`.multiply((`_`min`_`, `_`max`_`))`\n",
    "\n",
    "  The sum of repeated multiplication of an expressions: `a.multiply((2,4))` => `aa+aaa+aaaa`.\n",
    "\n",
    "Preconditions:\n",
    "- _`min`_ ` <= ` _`max`_\n",
    "- None\n",
    "\n",
    "See also:\n",
    "- [automaton.multiply](automaton.multiply.ipynb)\n",
    "- [polynomial.multiply](polynomial.multiply.ipynb)"
   ]
  },
  {
   "cell_type": "markdown",
   "metadata": {},
   "source": [
    "## Examples"
   ]
  },
  {
   "cell_type": "code",
   "execution_count": 1,
   "metadata": {
    "collapsed": false
   },
   "outputs": [
    {
     "name": "stderr",
     "output_type": "stream",
     "text": [
      ":0: FutureWarning: IPython widgets are experimental and may change in the future.\n"
     ]
    },
    {
     "data": {
      "application/javascript": [
       "IPython.load_extensions(\"AutomatonD3Widget\")"
      ],
      "text/plain": [
       "<IPython.core.display.Javascript object>"
      ]
     },
     "metadata": {},
     "output_type": "display_data"
    }
   ],
   "source": [
    "import vcsn\n",
    "ctx = vcsn.context('law_char, z')\n",
    "def exp(e):\n",
    "    return ctx.expression(e)"
   ]
  },
  {
   "cell_type": "markdown",
   "metadata": {},
   "source": [
    "### Simple Multiplication\n",
    "Instead of `a.multiply(b)`, you may write `a * b`."
   ]
  },
  {
   "cell_type": "code",
   "execution_count": 2,
   "metadata": {
    "collapsed": false
   },
   "outputs": [
    {
     "data": {
      "text/latex": [
       "${\\mathit{a}}^{*} \\, \\mathit{b} \\, \\mathit{a} \\, {\\mathit{b}}^{*}$"
      ],
      "text/plain": [
       "a*bab*"
      ]
     },
     "execution_count": 2,
     "metadata": {},
     "output_type": "execute_result"
    }
   ],
   "source": [
    "exp('a*b') * exp('ab*')"
   ]
  },
  {
   "cell_type": "markdown",
   "metadata": {},
   "source": [
    "Of course, trivial identities are applied."
   ]
  },
  {
   "cell_type": "code",
   "execution_count": 3,
   "metadata": {
    "collapsed": false
   },
   "outputs": [
    {
     "data": {
      "text/latex": [
       "$ \\left\\langle 6 \\right\\rangle \\,\\mathit{a}$"
      ],
      "text/plain": [
       "<6>a"
      ]
     },
     "execution_count": 3,
     "metadata": {},
     "output_type": "execute_result"
    }
   ],
   "source": [
    "exp('<2>a') * exp('<3>\\e')"
   ]
  },
  {
   "cell_type": "code",
   "execution_count": 4,
   "metadata": {
    "collapsed": false
   },
   "outputs": [
    {
     "data": {
      "text/latex": [
       "$\\emptyset$"
      ],
      "text/plain": [
       "\\z"
      ]
     },
     "execution_count": 4,
     "metadata": {},
     "output_type": "execute_result"
    }
   ],
   "source": [
    "exp('<2>a') * exp('\\z')"
   ]
  },
  {
   "cell_type": "markdown",
   "metadata": {},
   "source": [
    "In the case of word labels, adjacent words are not fused: concatenation of two expressions behaves as if the expressions were parenthetized.  Pay attention to the space between $a$ and $b$ below, admittedly too discreet."
   ]
  },
  {
   "cell_type": "code",
   "execution_count": 5,
   "metadata": {
    "collapsed": false
   },
   "outputs": [
    {
     "data": {
      "text/latex": [
       "$\\mathit{a} \\, \\mathit{b}$"
      ],
      "text/plain": [
       "ab"
      ]
     },
     "execution_count": 5,
     "metadata": {},
     "output_type": "execute_result"
    }
   ],
   "source": [
    "exp('a') * exp('b') # Two one-letter words"
   ]
  },
  {
   "cell_type": "code",
   "execution_count": 6,
   "metadata": {
    "collapsed": false
   },
   "outputs": [
    {
     "data": {
      "text/latex": [
       "$\\mathit{ab}$"
      ],
      "text/plain": [
       "ab"
      ]
     },
     "execution_count": 6,
     "metadata": {},
     "output_type": "execute_result"
    }
   ],
   "source": [
    "exp('ab') # One two-letter word"
   ]
  },
  {
   "cell_type": "code",
   "execution_count": 7,
   "metadata": {
    "collapsed": false
   },
   "outputs": [
    {
     "data": {
      "text/latex": [
       "$\\mathit{a} \\, \\mathit{b}$"
      ],
      "text/plain": [
       "ab"
      ]
     },
     "execution_count": 7,
     "metadata": {},
     "output_type": "execute_result"
    }
   ],
   "source": [
    "exp('(a)(b)') # Two one-letter words"
   ]
  },
  {
   "cell_type": "markdown",
   "metadata": {},
   "source": [
    "### Repeated Multiplication\n",
    "Instead of `a.multiply(3)`, you may write `a ** 3`.  Beware that `a * 3` actually denotes `a.right_mult(3)`."
   ]
  },
  {
   "cell_type": "code",
   "execution_count": 8,
   "metadata": {
    "collapsed": false
   },
   "outputs": [
    {
     "data": {
      "text/latex": [
       "$\\left(\\mathit{ab}\\right) \\, \\left(\\mathit{ab}\\right) \\, \\left(\\mathit{ab}\\right)$"
      ],
      "text/plain": [
       "(ab)(ab)(ab)"
      ]
     },
     "execution_count": 8,
     "metadata": {},
     "output_type": "execute_result"
    }
   ],
   "source": [
    "exp('ab') ** 3"
   ]
  },
  {
   "cell_type": "code",
   "execution_count": 9,
   "metadata": {
    "collapsed": false
   },
   "outputs": [
    {
     "data": {
      "text/latex": [
       "$ \\left\\langle 3 \\right\\rangle \\,{\\mathit{a}}^{*}$"
      ],
      "text/plain": [
       "<3>a*"
      ]
     },
     "execution_count": 9,
     "metadata": {},
     "output_type": "execute_result"
    }
   ],
   "source": [
    "exp('a*') * 3"
   ]
  },
  {
   "cell_type": "markdown",
   "metadata": {},
   "source": [
    "Use the exponent -1 to mean `infinity`.  Alternatively, you may invoke `a.star` instead of `a ** -1`."
   ]
  },
  {
   "cell_type": "code",
   "execution_count": 10,
   "metadata": {
    "collapsed": false
   },
   "outputs": [
    {
     "data": {
      "text/latex": [
       "$\\left(\\mathit{ab}\\right)^{*}$"
      ],
      "text/plain": [
       "(ab)*"
      ]
     },
     "execution_count": 10,
     "metadata": {},
     "output_type": "execute_result"
    }
   ],
   "source": [
    "exp('ab') ** -1"
   ]
  },
  {
   "cell_type": "code",
   "execution_count": 11,
   "metadata": {
    "collapsed": false
   },
   "outputs": [
    {
     "data": {
      "text/latex": [
       "$\\left(\\mathit{ab}\\right)^{*}$"
      ],
      "text/plain": [
       "(ab)*"
      ]
     },
     "execution_count": 11,
     "metadata": {},
     "output_type": "execute_result"
    }
   ],
   "source": [
    "exp('ab').star()"
   ]
  },
  {
   "cell_type": "markdown",
   "metadata": {},
   "source": [
    "### Sums of Repeated Multiplication\n",
    "Instead of `a.multiply((2, 4))`, you may write `a ** (2, 4)`.  Again, use exponent -1 to mean infinity."
   ]
  },
  {
   "cell_type": "code",
   "execution_count": 12,
   "metadata": {
    "collapsed": false
   },
   "outputs": [
    {
     "data": {
      "text/latex": [
       "$\\left(\\mathit{ab}\\right) \\, \\left(\\mathit{ab}\\right)$"
      ],
      "text/plain": [
       "(ab)(ab)"
      ]
     },
     "execution_count": 12,
     "metadata": {},
     "output_type": "execute_result"
    }
   ],
   "source": [
    "exp('ab') ** (2, 2)"
   ]
  },
  {
   "cell_type": "code",
   "execution_count": 13,
   "metadata": {
    "collapsed": false
   },
   "outputs": [
    {
     "data": {
      "text/latex": [
       "$\\left(\\mathit{ab}\\right) \\, \\left(\\mathit{ab}\\right) \\, \\left(\\varepsilon + \\mathit{ab} + \\left(\\mathit{ab}\\right) \\, \\left(\\mathit{ab}\\right)\\right)$"
      ],
      "text/plain": [
       "(ab)(ab)(\\e+ab+(ab)(ab))"
      ]
     },
     "execution_count": 13,
     "metadata": {},
     "output_type": "execute_result"
    }
   ],
   "source": [
    "exp('ab') ** (2, 4)"
   ]
  },
  {
   "cell_type": "code",
   "execution_count": 14,
   "metadata": {
    "collapsed": false
   },
   "outputs": [
    {
     "data": {
      "text/latex": [
       "$\\varepsilon + \\mathit{ab} + \\left(\\mathit{ab}\\right) \\, \\left(\\mathit{ab}\\right)$"
      ],
      "text/plain": [
       "\\e+ab+(ab)(ab)"
      ]
     },
     "execution_count": 14,
     "metadata": {},
     "output_type": "execute_result"
    }
   ],
   "source": [
    "exp('ab') ** (-1, 2)"
   ]
  },
  {
   "cell_type": "code",
   "execution_count": 15,
   "metadata": {
    "collapsed": false
   },
   "outputs": [
    {
     "data": {
      "text/latex": [
       "$\\left(\\mathit{ab}\\right) \\, \\left(\\mathit{ab}\\right) \\, \\left(\\mathit{ab}\\right)^{*}$"
      ],
      "text/plain": [
       "(ab)(ab)(ab)*"
      ]
     },
     "execution_count": 15,
     "metadata": {},
     "output_type": "execute_result"
    }
   ],
   "source": [
    "exp('ab') ** (2, -1)"
   ]
  }
 ],
 "metadata": {
  "kernelspec": {
   "display_name": "Python 3",
   "language": "python",
   "name": "python3"
  },
  "language_info": {
   "codemirror_mode": {
    "name": "ipython",
    "version": 3
   },
   "file_extension": ".py",
   "mimetype": "text/x-python",
   "name": "python",
   "nbconvert_exporter": "python",
   "pygments_lexer": "ipython3",
   "version": "3.4.3"
  }
 },
 "nbformat": 4,
 "nbformat_minor": 0
}
