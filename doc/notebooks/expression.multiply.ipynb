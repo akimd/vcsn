{
 "cells": [
  {
   "cell_type": "markdown",
   "metadata": {},
   "source": [
    "# _`expression`_`.multiply`\n",
    "\n",
    "This function is overloaded, it supports these signatures:\n",
    "\n",
    "- _`expression`_`.multiply(`_`exp`_`)`\n",
    "\n",
    "  The product (i.e., the concatenation) of two expressions: `a.multiply(b)` => `ab`.\n",
    "\n",
    "- _`expression`_`.multiply(`_`num`_`)`\n",
    "\n",
    "  The repeated multiplication (concatenation) of an expression with itself: `a.multiply(3)` => `aaa`.  Exponent `-1` denotes the infinity: the Kleene star.\n",
    "\n",
    "- _`expression`_`.multiply((`_`min`_`, `_`max`_`))`\n",
    "\n",
    "  The sum of repeated multiplications of an expression: `a.multiply((2,4))` => `aa+aaa+aaaa`.  When `min = -1`, it  denotes `0`, when `max = -1`, it denotes the infinity.\n",
    "\n",
    "Preconditions:\n",
    "- _`min`_ ` <= ` _`max`_\n",
    "\n",
    "See also:\n",
    "- [automaton.multiply](automaton.multiply.ipynb)\n",
    "- [polynomial.multiply](polynomial.multiply.ipynb)"
   ]
  },
  {
   "cell_type": "markdown",
   "metadata": {},
   "source": [
    "## Examples"
   ]
  },
  {
   "cell_type": "code",
   "execution_count": 1,
   "metadata": {
    "collapsed": false
   },
   "outputs": [],
   "source": [
    "import vcsn\n",
    "exp = vcsn.context('law_char, q').expression"
   ]
  },
  {
   "cell_type": "markdown",
   "metadata": {},
   "source": [
    "### Simple Multiplication\n",
    "Instead of `a.multiply(b)`, you may write `a * b`."
   ]
  },
  {
   "cell_type": "code",
   "execution_count": 2,
   "metadata": {
    "collapsed": false
   },
   "outputs": [
    {
     "data": {
      "text/latex": [
       "${\\mathit{a}}^{*} \\, \\mathit{b} \\, \\mathit{a} \\, {\\mathit{b}}^{*}$"
      ],
      "text/plain": [
       "a*bab*"
      ]
     },
     "execution_count": 2,
     "metadata": {},
     "output_type": "execute_result"
    }
   ],
   "source": [
    "exp('a*b') * exp('ab*')"
   ]
  },
  {
   "cell_type": "markdown",
   "metadata": {},
   "source": [
    "Of course, trivial identities are applied."
   ]
  },
  {
   "cell_type": "code",
   "execution_count": 3,
   "metadata": {
    "collapsed": false
   },
   "outputs": [
    {
     "data": {
      "text/latex": [
       "$ \\left\\langle 6 \\right\\rangle \\,\\mathit{a}$"
      ],
      "text/plain": [
       "<6>a"
      ]
     },
     "execution_count": 3,
     "metadata": {},
     "output_type": "execute_result"
    }
   ],
   "source": [
    "exp('<2>a') * exp('<3>\\e')"
   ]
  },
  {
   "cell_type": "code",
   "execution_count": 4,
   "metadata": {
    "collapsed": false
   },
   "outputs": [
    {
     "data": {
      "text/latex": [
       "$\\emptyset$"
      ],
      "text/plain": [
       "\\z"
      ]
     },
     "execution_count": 4,
     "metadata": {},
     "output_type": "execute_result"
    }
   ],
   "source": [
    "exp('<2>a') * exp('\\z')"
   ]
  },
  {
   "cell_type": "markdown",
   "metadata": {},
   "source": [
    "In the case of word labels, adjacent words are not fused: concatenation of two expressions behaves as if the expressions were parenthetized.  Pay attention to the space between $a$ and $b$ below, admittedly too discreet."
   ]
  },
  {
   "cell_type": "code",
   "execution_count": 5,
   "metadata": {
    "collapsed": false
   },
   "outputs": [
    {
     "data": {
      "image/svg+xml": [
       "<svg height=\"102pt\" viewBox=\"0.00 0.00 84.00 102.00\" width=\"84pt\" xmlns=\"http://www.w3.org/2000/svg\" xmlns:xlink=\"http://www.w3.org/1999/xlink\">\n",
       "<g class=\"graph\" id=\"graph0\" transform=\"scale(1 1) rotate(0) translate(4 98)\">\n",
       "<title>%3</title>\n",
       "<polygon fill=\"white\" points=\"-4,4 -4,-98 80,-98 80,4 -4,4\" stroke=\"none\"/>\n",
       "<!-- 1 -->\n",
       "<g class=\"node\" id=\"node1\"><title>1</title>\n",
       "<ellipse cx=\"14.5\" cy=\"-14.5\" fill=\"#98f5ff\" rx=\"14.5\" ry=\"14.5\" stroke=\"black\"/>\n",
       "<text font-family=\"Times,serif\" font-size=\"12.00\" text-anchor=\"middle\" x=\"14.5\" y=\"-11.4\">a</text>\n",
       "</g>\n",
       "<!-- 2 -->\n",
       "<g class=\"node\" id=\"node2\"><title>2</title>\n",
       "<ellipse cx=\"61.5\" cy=\"-14.5\" fill=\"#98f5ff\" rx=\"14.5\" ry=\"14.5\" stroke=\"black\"/>\n",
       "<text font-family=\"Times,serif\" font-size=\"12.00\" text-anchor=\"middle\" x=\"61.5\" y=\"-11.4\">b</text>\n",
       "</g>\n",
       "<!-- 0 -->\n",
       "<g class=\"node\" id=\"node3\"><title>0</title>\n",
       "<ellipse cx=\"37.5\" cy=\"-79.5\" fill=\"#98f5ff\" rx=\"14.5\" ry=\"14.5\" stroke=\"black\"/>\n",
       "<text font-family=\"Times,serif\" font-size=\"12.00\" text-anchor=\"middle\" x=\"37.5\" y=\"-76.4\">.</text>\n",
       "</g>\n",
       "<!-- 0&#45;&gt;1 -->\n",
       "<g class=\"edge\" id=\"edge1\"><title>0-&gt;1</title>\n",
       "<path d=\"M32.846,-65.751C29.554,-56.734 25.085,-44.495 21.383,-34.353\" fill=\"none\" stroke=\"black\"/>\n",
       "<polygon fill=\"black\" points=\"19.306,-28.664 23.9,-33.3741 20.3349,-31.4821 21.3638,-34.3001 21.3638,-34.3001 21.3638,-34.3001 20.3349,-31.4821 18.8275,-35.2261 19.306,-28.664 19.306,-28.664\" stroke=\"black\"/>\n",
       "</g>\n",
       "<!-- 0&#45;&gt;2 -->\n",
       "<g class=\"edge\" id=\"edge2\"><title>0-&gt;2</title>\n",
       "<path d=\"M42.357,-65.751C45.838,-56.614 50.579,-44.168 54.472,-33.948\" fill=\"none\" stroke=\"black\"/>\n",
       "<polygon fill=\"black\" points=\"56.65,-28.23 57.0374,-34.7981 55.5821,-31.0335 54.5142,-33.837 54.5142,-33.837 54.5142,-33.837 55.5821,-31.0335 51.991,-32.8759 56.65,-28.23 56.65,-28.23\" stroke=\"black\"/>\n",
       "</g>\n",
       "</g>\n",
       "</svg>"
      ],
      "text/plain": [
       "<IPython.core.display.SVG object>"
      ]
     },
     "execution_count": 5,
     "metadata": {},
     "output_type": "execute_result"
    }
   ],
   "source": [
    "(exp('a') * exp('b')).SVG() # Two one-letter words"
   ]
  },
  {
   "cell_type": "code",
   "execution_count": 6,
   "metadata": {
    "collapsed": false
   },
   "outputs": [
    {
     "data": {
      "image/svg+xml": [
       "<svg height=\"37pt\" viewBox=\"0.00 0.00 37.00 37.00\" width=\"37pt\" xmlns=\"http://www.w3.org/2000/svg\" xmlns:xlink=\"http://www.w3.org/1999/xlink\">\n",
       "<g class=\"graph\" id=\"graph0\" transform=\"scale(1 1) rotate(0) translate(4 33)\">\n",
       "<title>%3</title>\n",
       "<polygon fill=\"white\" points=\"-4,4 -4,-33 33,-33 33,4 -4,4\" stroke=\"none\"/>\n",
       "<!-- 0 -->\n",
       "<g class=\"node\" id=\"node1\"><title>0</title>\n",
       "<ellipse cx=\"14.5\" cy=\"-14.5\" fill=\"#98f5ff\" rx=\"14.5\" ry=\"14.5\" stroke=\"black\"/>\n",
       "<text font-family=\"Times,serif\" font-size=\"12.00\" text-anchor=\"middle\" x=\"14.5\" y=\"-11.4\">ab</text>\n",
       "</g>\n",
       "</g>\n",
       "</svg>"
      ],
      "text/plain": [
       "<IPython.core.display.SVG object>"
      ]
     },
     "execution_count": 6,
     "metadata": {},
     "output_type": "execute_result"
    }
   ],
   "source": [
    "exp('ab').SVG() # One two-letter word"
   ]
  },
  {
   "cell_type": "code",
   "execution_count": 7,
   "metadata": {
    "collapsed": false
   },
   "outputs": [
    {
     "data": {
      "image/svg+xml": [
       "<svg height=\"102pt\" viewBox=\"0.00 0.00 84.00 102.00\" width=\"84pt\" xmlns=\"http://www.w3.org/2000/svg\" xmlns:xlink=\"http://www.w3.org/1999/xlink\">\n",
       "<g class=\"graph\" id=\"graph0\" transform=\"scale(1 1) rotate(0) translate(4 98)\">\n",
       "<title>%3</title>\n",
       "<polygon fill=\"white\" points=\"-4,4 -4,-98 80,-98 80,4 -4,4\" stroke=\"none\"/>\n",
       "<!-- 1 -->\n",
       "<g class=\"node\" id=\"node1\"><title>1</title>\n",
       "<ellipse cx=\"14.5\" cy=\"-14.5\" fill=\"#98f5ff\" rx=\"14.5\" ry=\"14.5\" stroke=\"black\"/>\n",
       "<text font-family=\"Times,serif\" font-size=\"12.00\" text-anchor=\"middle\" x=\"14.5\" y=\"-11.4\">a</text>\n",
       "</g>\n",
       "<!-- 2 -->\n",
       "<g class=\"node\" id=\"node2\"><title>2</title>\n",
       "<ellipse cx=\"61.5\" cy=\"-14.5\" fill=\"#98f5ff\" rx=\"14.5\" ry=\"14.5\" stroke=\"black\"/>\n",
       "<text font-family=\"Times,serif\" font-size=\"12.00\" text-anchor=\"middle\" x=\"61.5\" y=\"-11.4\">b</text>\n",
       "</g>\n",
       "<!-- 0 -->\n",
       "<g class=\"node\" id=\"node3\"><title>0</title>\n",
       "<ellipse cx=\"37.5\" cy=\"-79.5\" fill=\"#98f5ff\" rx=\"14.5\" ry=\"14.5\" stroke=\"black\"/>\n",
       "<text font-family=\"Times,serif\" font-size=\"12.00\" text-anchor=\"middle\" x=\"37.5\" y=\"-76.4\">.</text>\n",
       "</g>\n",
       "<!-- 0&#45;&gt;1 -->\n",
       "<g class=\"edge\" id=\"edge1\"><title>0-&gt;1</title>\n",
       "<path d=\"M32.846,-65.751C29.554,-56.734 25.085,-44.495 21.383,-34.353\" fill=\"none\" stroke=\"black\"/>\n",
       "<polygon fill=\"black\" points=\"19.306,-28.664 23.9,-33.3741 20.3349,-31.4821 21.3638,-34.3001 21.3638,-34.3001 21.3638,-34.3001 20.3349,-31.4821 18.8275,-35.2261 19.306,-28.664 19.306,-28.664\" stroke=\"black\"/>\n",
       "</g>\n",
       "<!-- 0&#45;&gt;2 -->\n",
       "<g class=\"edge\" id=\"edge2\"><title>0-&gt;2</title>\n",
       "<path d=\"M42.357,-65.751C45.838,-56.614 50.579,-44.168 54.472,-33.948\" fill=\"none\" stroke=\"black\"/>\n",
       "<polygon fill=\"black\" points=\"56.65,-28.23 57.0374,-34.7981 55.5821,-31.0335 54.5142,-33.837 54.5142,-33.837 54.5142,-33.837 55.5821,-31.0335 51.991,-32.8759 56.65,-28.23 56.65,-28.23\" stroke=\"black\"/>\n",
       "</g>\n",
       "</g>\n",
       "</svg>"
      ],
      "text/plain": [
       "<IPython.core.display.SVG object>"
      ]
     },
     "execution_count": 7,
     "metadata": {},
     "output_type": "execute_result"
    }
   ],
   "source": [
    "exp('(a)(b)').SVG() # Two one-letter words"
   ]
  },
  {
   "cell_type": "markdown",
   "metadata": {},
   "source": [
    "### Repeated Multiplication\n",
    "Instead of `a.multiply(3)`, you may write `a ** 3`."
   ]
  },
  {
   "cell_type": "code",
   "execution_count": 8,
   "metadata": {
    "collapsed": false
   },
   "outputs": [
    {
     "data": {
      "text/latex": [
       "$\\left(\\mathit{ab}\\right)^{3}$"
      ],
      "text/plain": [
       "(ab){3}"
      ]
     },
     "execution_count": 8,
     "metadata": {},
     "output_type": "execute_result"
    }
   ],
   "source": [
    "exp('ab') ** 3"
   ]
  },
  {
   "cell_type": "code",
   "execution_count": 9,
   "metadata": {
    "collapsed": false
   },
   "outputs": [
    {
     "data": {
      "text/latex": [
       "$\\varepsilon$"
      ],
      "text/plain": [
       "\\e"
      ]
     },
     "execution_count": 9,
     "metadata": {},
     "output_type": "execute_result"
    }
   ],
   "source": [
    "exp('ab') ** 0"
   ]
  },
  {
   "cell_type": "markdown",
   "metadata": {},
   "source": [
    "Beware that `a * 3` actually denotes `a.rweight(3)`."
   ]
  },
  {
   "cell_type": "code",
   "execution_count": 10,
   "metadata": {
    "collapsed": false
   },
   "outputs": [
    {
     "data": {
      "text/latex": [
       "$ \\left\\langle 3 \\right\\rangle \\,{\\mathit{a}}^{*}$"
      ],
      "text/plain": [
       "<3>a*"
      ]
     },
     "execution_count": 10,
     "metadata": {},
     "output_type": "execute_result"
    }
   ],
   "source": [
    "exp('a*') * 3"
   ]
  },
  {
   "cell_type": "markdown",
   "metadata": {},
   "source": [
    "Use the exponent -1 to mean `infinity`.  Alternatively, you may invoke `a.star` instead of `a ** -1`."
   ]
  },
  {
   "cell_type": "code",
   "execution_count": 11,
   "metadata": {
    "collapsed": false
   },
   "outputs": [
    {
     "data": {
      "text/latex": [
       "$\\left(\\mathit{ab}\\right)^{*}$"
      ],
      "text/plain": [
       "(ab)*"
      ]
     },
     "execution_count": 11,
     "metadata": {},
     "output_type": "execute_result"
    }
   ],
   "source": [
    "exp('ab') ** -1"
   ]
  },
  {
   "cell_type": "code",
   "execution_count": 12,
   "metadata": {
    "collapsed": false
   },
   "outputs": [
    {
     "data": {
      "text/latex": [
       "$\\left(\\mathit{ab}\\right)^{*}$"
      ],
      "text/plain": [
       "(ab)*"
      ]
     },
     "execution_count": 12,
     "metadata": {},
     "output_type": "execute_result"
    }
   ],
   "source": [
    "exp('ab').star()"
   ]
  },
  {
   "cell_type": "markdown",
   "metadata": {},
   "source": [
    "### Sums of Repeated Multiplications\n",
    "Instead of `a.multiply((2, 4))`, you may write `a ** (2, 4)`.  Again, use exponent -1 to mean infinity."
   ]
  },
  {
   "cell_type": "code",
   "execution_count": 13,
   "metadata": {
    "collapsed": false
   },
   "outputs": [
    {
     "data": {
      "text/latex": [
       "$\\left(\\mathit{ab}\\right)^{2}$"
      ],
      "text/plain": [
       "(ab){2}"
      ]
     },
     "execution_count": 13,
     "metadata": {},
     "output_type": "execute_result"
    }
   ],
   "source": [
    "exp('ab') ** (2, 2)"
   ]
  },
  {
   "cell_type": "code",
   "execution_count": 14,
   "metadata": {
    "collapsed": false
   },
   "outputs": [
    {
     "data": {
      "text/latex": [
       "$\\left(\\mathit{ab}\\right)^{2} \\, \\left(\\varepsilon + \\mathit{ab} + \\left(\\mathit{ab}\\right)^{2}\\right)$"
      ],
      "text/plain": [
       "(ab){2}(\\e+ab+(ab){2})"
      ]
     },
     "execution_count": 14,
     "metadata": {},
     "output_type": "execute_result"
    }
   ],
   "source": [
    "exp('ab') ** (2, 4)"
   ]
  },
  {
   "cell_type": "code",
   "execution_count": 15,
   "metadata": {
    "collapsed": false
   },
   "outputs": [
    {
     "data": {
      "text/latex": [
       "$\\varepsilon + \\mathit{ab} + \\left(\\mathit{ab}\\right)^{2}$"
      ],
      "text/plain": [
       "\\e+ab+(ab){2}"
      ]
     },
     "execution_count": 15,
     "metadata": {},
     "output_type": "execute_result"
    }
   ],
   "source": [
    "exp('ab') ** (-1, 2)"
   ]
  },
  {
   "cell_type": "code",
   "execution_count": 16,
   "metadata": {
    "collapsed": false
   },
   "outputs": [
    {
     "data": {
      "text/latex": [
       "$\\left(\\mathit{ab}\\right)^{2} \\, \\left(\\mathit{ab}\\right)^{*}$"
      ],
      "text/plain": [
       "(ab){2}(ab)*"
      ]
     },
     "execution_count": 16,
     "metadata": {},
     "output_type": "execute_result"
    }
   ],
   "source": [
    "exp('ab') ** (2, -1)"
   ]
  }
 ],
 "metadata": {
  "kernelspec": {
   "display_name": "Python 3",
   "language": "python",
   "name": "python3"
  },
  "language_info": {
   "codemirror_mode": {
    "name": "ipython",
    "version": 3
   },
   "file_extension": ".py",
   "mimetype": "text/x-python",
   "name": "python",
   "nbconvert_exporter": "python",
   "pygments_lexer": "ipython3",
   "version": "3.5.1"
  },
  "widgets": {
   "state": {},
   "version": "1.1.2"
  }
 },
 "nbformat": 4,
 "nbformat_minor": 0
}
