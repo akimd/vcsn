{
 "cells": [
  {
   "cell_type": "markdown",
   "metadata": {},
   "source": [
    "# _`polynomial`_`.add(`_`poly`_`)`\n",
    "# _`polynomial`_ + _`poly`_\n",
    "\n",
    "A polynomial which denotes the sum (or disjunction) of both polynomials.\n",
    "\n",
    "Preconditions:\n",
    "- None\n",
    "\n",
    "See also:\n",
    "- [automaton.add](automaton.add.ipynb)\n",
    "- [expression.add](expression.add.ipynb)"
   ]
  },
  {
   "cell_type": "markdown",
   "metadata": {},
   "source": [
    "## Examples"
   ]
  },
  {
   "cell_type": "code",
   "execution_count": 1,
   "metadata": {
    "collapsed": false
   },
   "outputs": [
    {
     "data": {
      "text/latex": [
       "$\\left\\langle 2\\right\\rangle a \\oplus \\left\\langle 2\\right\\rangle b$"
      ],
      "text/plain": [
       "<2>a + <2>b"
      ]
     },
     "execution_count": 1,
     "metadata": {},
     "output_type": "execute_result"
    }
   ],
   "source": [
    "import vcsn\n",
    "ctx = vcsn.context('lal_char, q')\n",
    "poly = lambda p: ctx.polynomial(p)\n",
    "poly('a+b') + poly('a+b')"
   ]
  },
  {
   "cell_type": "code",
   "execution_count": 2,
   "metadata": {
    "collapsed": false
   },
   "outputs": [
    {
     "data": {
      "text/latex": [
       "$\\left\\langle 5\\right\\rangle a$"
      ],
      "text/plain": [
       "<5>a"
      ]
     },
     "execution_count": 2,
     "metadata": {},
     "output_type": "execute_result"
    }
   ],
   "source": [
    "poly('<2>a') + poly('<3>a')"
   ]
  },
  {
   "cell_type": "code",
   "execution_count": 3,
   "metadata": {
    "collapsed": false
   },
   "outputs": [
    {
     "data": {
      "text/latex": [
       "$\\emptyset$"
      ],
      "text/plain": [
       "\\z"
      ]
     },
     "execution_count": 3,
     "metadata": {},
     "output_type": "execute_result"
    }
   ],
   "source": [
    "poly('<2>a') + poly('<3>a') + poly('<-5>a')"
   ]
  },
  {
   "cell_type": "code",
   "execution_count": 4,
   "metadata": {
    "collapsed": false
   },
   "outputs": [
    {
     "data": {
      "text/latex": [
       "$\\left\\langle 2\\right\\rangle a$"
      ],
      "text/plain": [
       "<2>a"
      ]
     },
     "execution_count": 4,
     "metadata": {},
     "output_type": "execute_result"
    }
   ],
   "source": [
    "poly('<2>a') + poly('\\z')"
   ]
  }
 ],
 "metadata": {
  "kernelspec": {
   "display_name": "Python 3",
   "language": "python",
   "name": "python3"
  },
  "language_info": {
   "codemirror_mode": {
    "name": "ipython",
    "version": 3
   },
   "file_extension": ".py",
   "mimetype": "text/x-python",
   "name": "python",
   "nbconvert_exporter": "python",
   "pygments_lexer": "ipython3",
   "version": "3.5.2"
  }
 },
 "nbformat": 4,
 "nbformat_minor": 0
}
