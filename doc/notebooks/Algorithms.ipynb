{
 "metadata": {
  "name": "",
  "signature": "sha256:f2b7d70164309913d8cc16ecacf70398e418bb59503b39f7e2ab306a6eb088ea"
 },
 "nbformat": 3,
 "nbformat_minor": 0,
 "worksheets": [
  {
   "cells": [
    {
     "cell_type": "heading",
     "level": 1,
     "metadata": {},
     "source": [
      "Operations on Automata"
     ]
    },
    {
     "cell_type": "markdown",
     "metadata": {},
     "source": [
      "###Generic automata operations\n",
      "\n",
      "- [accessible](automaton.accessible.ipynb) - the subautomaton of accesssible states\n",
      "- [ambiguous_word](automaton.ambiguous_word.ipynb) - a witness of ambiguity\n",
      "- [coaccessible](automaton.coaccessible.ipynb) - the subautomaton of coaccesssible states\n",
      "- [codeterminize](automaton.codeterminize.ipynb) - the transposed of the subset construction\n",
      "- [complement](automaton.complement.ipynb) - an automaton accepting the complement language\n",
      "- [complete](automaton.complete.ipynb) - a complete superautomaton\n",
      "- [costandard](automaton.costandard.ipynb) - whether the transposed automaton is standard\n",
      "- [determinize](automaton.determinize.ipynb) - the subset construction\n",
      "- [filter](automaton.filter.ipynb) - focus on a subset of the states\n",
      "- [has_twins_property](automaton.has_twins_property.ipynb) - a condition for determinizability in tropical semirings\n",
      "- [is_ambiguous](automaton.is_ambiguous.ipynb) - whether some word may be accepted by different paths\n",
      "- [is_codeterministic](automaton.is_codeterministic.ipynb) - whether the automaton is codeterministic\n",
      "- [is_complete](automaton.is_complete.ipynb) - whether the automaton is complete\n",
      "- [is_cycle_ambiguous](automaton.is_cycle_ambiguous.ipynb)\n",
      "- [is_deterministic](automaton.is_deterministic.ipynb) - whether the automaton is deterministic\n",
      "- [is_empty](automaton.is_empty.ipynb) - whether the automaton has no states\n",
      "- [is_equivalent](automaton.is_equivalent.ipynb) - whether two automata have the same behavior\n",
      "- [is_functional](automaton.is_functional.ipynb) - whether a transducer implements a function\n",
      "- [is_partial_identity](automaton.is_partial_identity.ipynb) - whether a transducer implements a partial identity\n",
      "- [is_isomorphic](automaton.is_isomorphic.ipynb) - whether two automata are isomorphic (\"equal\")\n",
      "- [is_standard](automaton.is_standard.ipynb) - whether the automaton is standard\n",
      "- [is_useless](automaton.is_useless.ipynb) - whether the automaton accepts no words\n",
      "- [is_valid](automaton.is_valid.ipynb) - whether the automaton has a well defined behavior\n",
      "- [letterize](automaton.letterize.ipynb) - split the labels into letters\n",
      "- [minimize](automaton.minimize.ipynb) - minimizing an automaton\n",
      "- [pair](automaton.pair.ipynb) - the pair automaton, useful for computing synchronizing words\n",
      "- [proper](automaton.proper.ipynb) - remove the spontaneous transitions\n",
      "- [reduce](automaton.reduce.ipynb) - a matrix-based minimization\n",
      "- [scc](automaton.scc.ipynb) - decomposition into strongly-connected components\n",
      "- [standard](automaton.standard.ipynb) - turn into a standard automaton\n",
      "- [synchronizing_word](automaton.synchronizing_word.ipynb) - compute a word that sends all the states to a single state\n",
      "- [transpose](automaton.transpose.ipynb) - reverse all the arrows\n",
      "- [trim](automaton.trim.ipynb) - the subautomaton with no useless states"
     ]
    },
    {
     "cell_type": "markdown",
     "metadata": {},
     "source": [
      "###Operations on Transducers\n",
      "\n",
      "- [compose](automaton.compose.ipynb) - composition of transducers\n",
      "- [has_bounded_lag](automaton.has_bounded_lag.ipynb) - whether the transducer can be synchronized"
     ]
    },
    {
     "cell_type": "heading",
     "level": 1,
     "metadata": {},
     "source": [
      "Operations on Contexts"
     ]
    },
    {
     "cell_type": "markdown",
     "metadata": {},
     "source": [
      "- [cerny](context.cerny.ipynb) - create \u010cern\u00fd automata\n",
      "- [de_bruijn](context.de_bruijn.ipynb) - create de Bruijn automata\n",
      "- [ladybird](context.ladybird.ipynb) - create Ladybird automata"
     ]
    },
    {
     "cell_type": "heading",
     "level": 1,
     "metadata": {},
     "source": [
      "Operations on Expressions"
     ]
    },
    {
     "cell_type": "markdown",
     "metadata": {},
     "source": [
      "- [derivation](expression.derivation.ipynb) - differentiation with respect to labels\n",
      "- [derived_term](expression.derived_term.ipynb) (aka \"Antimirov automaton\")\n",
      "- [expansion](expression.expansion.ipynb) - a generalization of the differentiation process\n",
      "- [is_equivalent](expression.is_equivalent.ipynb) - whether two expressions denote the same series\n",
      "- [is_valid](expression.is_valid.ipynb) - whether an expression is valid (denotes a series)\n",
      "- [standard](expression.standard.ipynb) - the \"Position automaton\", or \"Glushkov automaton\"\n",
      "- [star_normal_form](expression.star_normal_form.ipynb) - an equivalent expression where stars are only on proper expressions\n",
      "- [thompson](expression.thompson.ipynb) - the Thompson automaton of an expression\n",
      "- [transpose](expression.transpose.ipynb) - reverse all the concatenations\n",
      "- [transposition](expression.transposition.ipynb) - add a \"transposition\" operator to an expression\n",
      "- [zpc](expression.zpc.ipynb) - the ZPC automaton of an expression"
     ]
    },
    {
     "cell_type": "code",
     "collapsed": false,
     "input": [],
     "language": "python",
     "metadata": {},
     "outputs": []
    }
   ],
   "metadata": {}
  }
 ]
}