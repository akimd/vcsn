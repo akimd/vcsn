{
 "cells": [
  {
   "cell_type": "markdown",
   "metadata": {},
   "source": [
    "# Operations on Automata"
   ]
  },
  {
   "cell_type": "markdown",
   "metadata": {},
   "source": [
    "###Generic automata operations\n",
    "- [operators](automaton.operators.ipynb) - a correspondance between Python operators and method names\n",
    "- [accessible](automaton.accessible.ipynb) - the subautomaton of accesssible states\n",
    "- [ambiguous_word](automaton.ambiguous_word.ipynb) - a witness of ambiguity\n",
    "- [coaccessible](automaton.coaccessible.ipynb) - the subautomaton of coaccesssible states\n",
    "- [codeterminize](automaton.codeterminize.ipynb) - the transposed of the subset construction\n",
    "- [complement](automaton.complement.ipynb) - an automaton accepting the complement language\n",
    "- [complete](automaton.complete.ipynb) - a complete superautomaton\n",
    "- [conjunction](automaton.conjunction.ipynb) - synchronized product of automata\n",
    "- [costandard](automaton.costandard.ipynb) - whether the transposed automaton is standard\n",
    "- [determinize](automaton.determinize.ipynb) - the subset construction\n",
    "- [filter](automaton.filter.ipynb) - focus on a subset of the states\n",
    "- [has_twins_property](automaton.has_twins_property.ipynb) - a condition for determinizability in tropical semirings\n",
    "- [infiltration](automaton.infiltration.ipynb) - infiltration product of two automata\n",
    "- [is_ambiguous](automaton.is_ambiguous.ipynb) - whether some word may be accepted by different paths\n",
    "- [is_codeterministic](automaton.is_codeterministic.ipynb) - whether the automaton is codeterministic\n",
    "- [is_complete](automaton.is_complete.ipynb) - whether the automaton is complete\n",
    "- [is_cycle_ambiguous](automaton.is_cycle_ambiguous.ipynb) - whether the automaton is exponentially ambiguous\n",
    "- [is_deterministic](automaton.is_deterministic.ipynb) - whether the automaton is deterministic\n",
    "- [is_empty](automaton.is_empty.ipynb) - whether the automaton has no states\n",
    "- [is_equivalent](automaton.is_equivalent.ipynb) - whether two automata have the same behavior\n",
    "- [is_letterized](automaton.is_letterized.ipynb) - whether an automaton is letterized (transitions are letters)\n",
    "- [is_partial_identity](automaton.is_partial_identity.ipynb) - whether a transducer implements a partial identity\n",
    "- [is_isomorphic](automaton.is_isomorphic.ipynb) - whether two automata are isomorphic (\"equal\")\n",
    "- [is_realtime](automaton.is_realtime.ipynb) - whether an automaton is realtime\n",
    "- [is_standard](automaton.is_standard.ipynb) - whether the automaton is standard\n",
    "- [is_useless](automaton.is_useless.ipynb) - whether the automaton accepts no words\n",
    "- [is_valid](automaton.is_valid.ipynb) - whether the automaton has a well defined behavior\n",
    "- [letterize](automaton.letterize.ipynb) - split the labels into letters\n",
    "- [minimize](automaton.minimize.ipynb) - minimizing an automaton\n",
    "- [pair](automaton.pair.ipynb) - the pair automaton, useful for computing synchronizing words\n",
    "- [proper](automaton.proper.ipynb) - remove the spontaneous transitions\n",
    "- [push_weights](automaton.push_weights.ipynb) - push weights towards the initial state(s)\n",
    "- [reduce](automaton.reduce.ipynb) - a matrix-based minimization\n",
    "- [realtime](automaton.realtime.ipynb) - turn into a realtime automaton\n",
    "- [scc](automaton.scc.ipynb) - decomposition into strongly-connected components\n",
    "- [shortest](automaton.shortest.ipynb) - the smallest accepted words of an automaton\n",
    "- [shuffle](automaton.shuffle.ipynb) - shuffle product of automata\n",
    "- [standard](automaton.standard.ipynb) - turn into a standard automaton\n",
    "- [synchronizing_word](automaton.synchronizing_word.ipynb) - compute a word that sends all the states to a single state\n",
    "- [transpose](automaton.transpose.ipynb) - reverse all the arrows\n",
    "- [trim](automaton.trim.ipynb) - the subautomaton with no useless states"
   ]
  },
  {
   "cell_type": "markdown",
   "metadata": {},
   "source": [
    "###Operations on Transducers\n",
    "\n",
    "- [compose](automaton.compose.ipynb) - composition of transducers\n",
    "- [has_bounded_lag](automaton.has_bounded_lag.ipynb) - whether the transducer can be synchronized\n",
    "- [is_functional](automaton.is_functional.ipynb) - whether a transducer implements a function"
   ]
  },
  {
   "cell_type": "markdown",
   "metadata": {},
   "source": [
    "# Operations on Contexts"
   ]
  },
  {
   "cell_type": "markdown",
   "metadata": {},
   "source": [
    "- [cerny](context.cerny.ipynb) - create Černý automata\n",
    "- [de_bruijn](context.de_bruijn.ipynb) - create de Bruijn automata\n",
    "- [ladybird](context.ladybird.ipynb) - create Ladybird automata\n",
    "- [trie](context.trie.ipynb) - trie automaton from a file of (weighted) words"
   ]
  },
  {
   "cell_type": "markdown",
   "metadata": {},
   "source": [
    "# Operations on Expressions\n",
    "- [operators](expression.operators.ipynb) - a correspondance between Python operators and method names\n",
    "- [conjunction](expression.conjunction.ipynb) - synchronized product of expressions\n",
    "- [derivation](expression.derivation.ipynb) - differentiation with respect to labels\n",
    "- [derived_term](expression.derived_term.ipynb) -  the derived-term (or \"Antimirov\") automaton of an expression\n",
    "- [expansion](expression.expansion.ipynb) - a generalization of the differentiation process\n",
    "- [is_equivalent](expression.is_equivalent.ipynb) - whether two expressions denote the same series\n",
    "- [is_valid](expression.is_valid.ipynb) - whether an expression is valid (denotes a series)\n",
    "- [multiply](expression.multiply.ipynb) - product of expressions, i.e., concatenation\n",
    "- [shortest](expression.shortest.ipynb) - the smallest denoted words\n",
    "- [standard](expression.standard.ipynb) - the \"Position automaton\", or \"Glushkov automaton\"\n",
    "- [star_normal_form](expression.star_normal_form.ipynb) - an equivalent expression where stars are only on proper expressions\n",
    "- [thompson](expression.thompson.ipynb) - the Thompson automaton of an expression\n",
    "- [transpose](expression.transpose.ipynb) - reverse all the concatenations\n",
    "- [transposition](expression.transposition.ipynb) - add a \"transposition\" operator to an expression\n",
    "- [zpc](expression.zpc.ipynb) - the ZPC automaton of an expression"
   ]
  },
  {
   "cell_type": "markdown",
   "metadata": {},
   "source": [
    "# Operations on Labels\n",
    "- [operators](label.operators.ipynb) - a correspondance between Python operators and method names"
   ]
  },
  {
   "cell_type": "markdown",
   "metadata": {},
   "source": [
    "# Operations on Polynomials\n",
    "- [operators](polynomial.operators.ipynb) - a correspondance between Python operators and method names\n",
    "- [multiply](expression.multiply.ipynb) - product of polynomials\n",
    "- [trie](polynomial.trie.ipynb) - trie automaton from a polynomial (finite series)"
   ]
  },
  {
   "cell_type": "markdown",
   "metadata": {},
   "source": [
    "# Operations on Weights\n",
    "- [operators](weight.operators.ipynb) - a correspondance between Python operators and method names"
   ]
  }
 ],
 "metadata": {
  "kernelspec": {
   "display_name": "Python 3",
   "language": "python",
   "name": "python3"
  },
  "language_info": {
   "codemirror_mode": {
    "name": "ipython",
    "version": 3
   },
   "file_extension": ".py",
   "mimetype": "text/x-python",
   "name": "python",
   "nbconvert_exporter": "python",
   "pygments_lexer": "ipython3",
   "version": "3.4.3"
  }
 },
 "nbformat": 4,
 "nbformat_minor": 0
}
