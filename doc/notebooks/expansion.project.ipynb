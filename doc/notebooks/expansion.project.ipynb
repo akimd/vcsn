{
 "cells": [
  {
   "cell_type": "markdown",
   "metadata": {},
   "source": [
    "# _`expansion`_`.project(tape)`\n",
    "\n",
    "An expansion that keeps only the selected tape of the original expansion.\n",
    "\n",
    "Preconditions:\n",
    "- the original expression is multitape.\n",
    "- the `tape` number is smaller than the number of tapes."
   ]
  },
  {
   "cell_type": "markdown",
   "metadata": {},
   "source": [
    "## Examples"
   ]
  },
  {
   "cell_type": "code",
   "execution_count": 1,
   "metadata": {},
   "outputs": [],
   "source": [
    "import vcsn\n",
    "ctx = vcsn.context(\"[ab] x [cd] x [ef] -> Q\")"
   ]
  },
  {
   "cell_type": "code",
   "execution_count": 2,
   "metadata": {},
   "outputs": [
    {
     "data": {
      "text/latex": [
       "$\\varepsilon|c|e \\odot \\left[\\varepsilon\\right] \\oplus \\varepsilon|c|f \\odot \\left[\\varepsilon\\right] \\oplus a|c|e \\odot \\left[ \\left. {a}^{*} \\middle| \\varepsilon \\middle| \\varepsilon \\right. \\right] \\oplus a|c|f \\odot \\left[ \\left. {a}^{*} \\middle| \\varepsilon \\middle| \\varepsilon \\right. \\right]$"
      ],
      "text/plain": [
       "ε|c|e⊙[ε] ⊕ ε|c|f⊙[ε] ⊕ a|c|e⊙[a*|ε|ε] ⊕ a|c|f⊙[a*|ε|ε]"
      ]
     },
     "execution_count": 2,
     "metadata": {},
     "output_type": "execute_result"
    }
   ],
   "source": [
    "e = ctx.expression(\"a*|c|[ef]\")\n",
    "x = e.expansion()\n",
    "x"
   ]
  },
  {
   "cell_type": "code",
   "execution_count": 3,
   "metadata": {},
   "outputs": [
    {
     "data": {
      "text/latex": [
       "$\\left\\langle 2\\right\\rangle  \\oplus a \\odot \\left[\\left\\langle 2\\right\\rangle {a}^{*}\\right]$"
      ],
      "text/plain": [
       "⟨2⟩ ⊕ a⊙[⟨2⟩a*]"
      ]
     },
     "execution_count": 3,
     "metadata": {},
     "output_type": "execute_result"
    }
   ],
   "source": [
    "x.project(0)"
   ]
  },
  {
   "cell_type": "code",
   "execution_count": 4,
   "metadata": {},
   "outputs": [
    {
     "data": {
      "text/latex": [
       "$c \\odot \\left[\\left\\langle 4\\right\\rangle \\varepsilon\\right]$"
      ],
      "text/plain": [
       "c⊙[⟨4⟩ε]"
      ]
     },
     "execution_count": 4,
     "metadata": {},
     "output_type": "execute_result"
    }
   ],
   "source": [
    "x.project(1)"
   ]
  },
  {
   "cell_type": "code",
   "execution_count": 5,
   "metadata": {},
   "outputs": [
    {
     "data": {
      "text/latex": [
       "$e \\odot \\left[\\left\\langle 2\\right\\rangle \\varepsilon\\right] \\oplus f \\odot \\left[\\left\\langle 2\\right\\rangle \\varepsilon\\right]$"
      ],
      "text/plain": [
       "e⊙[⟨2⟩ε] ⊕ f⊙[⟨2⟩ε]"
      ]
     },
     "execution_count": 5,
     "metadata": {},
     "output_type": "execute_result"
    }
   ],
   "source": [
    "x.project(2)"
   ]
  },
  {
   "cell_type": "markdown",
   "metadata": {},
   "source": [
    "Beware that, because of possible redundancy on other tapes, the projection of an expansion is not necessarily the expansions of the projection."
   ]
  },
  {
   "cell_type": "code",
   "execution_count": 6,
   "metadata": {},
   "outputs": [
    {
     "data": {
      "text/latex": [
       "$\\left\\langle 1\\right\\rangle  \\oplus a \\odot \\left[{a}^{*}\\right]$"
      ],
      "text/plain": [
       "⟨1⟩ ⊕ a⊙[a*]"
      ]
     },
     "execution_count": 6,
     "metadata": {},
     "output_type": "execute_result"
    }
   ],
   "source": [
    "e.project(0).expansion()"
   ]
  },
  {
   "cell_type": "code",
   "execution_count": 7,
   "metadata": {},
   "outputs": [
    {
     "data": {
      "text/latex": [
       "$c \\odot \\left[\\varepsilon\\right]$"
      ],
      "text/plain": [
       "c⊙[ε]"
      ]
     },
     "execution_count": 7,
     "metadata": {},
     "output_type": "execute_result"
    }
   ],
   "source": [
    "e.project(1).expansion()"
   ]
  },
  {
   "cell_type": "code",
   "execution_count": 8,
   "metadata": {},
   "outputs": [
    {
     "data": {
      "text/latex": [
       "$e \\odot \\left[\\varepsilon\\right] \\oplus f \\odot \\left[\\varepsilon\\right]$"
      ],
      "text/plain": [
       "e⊙[ε] ⊕ f⊙[ε]"
      ]
     },
     "execution_count": 8,
     "metadata": {},
     "output_type": "execute_result"
    }
   ],
   "source": [
    "e.project(2).expansion()"
   ]
  }
 ],
 "metadata": {
  "kernelspec": {
   "display_name": "Python 3",
   "language": "python",
   "name": "python3"
  },
  "language_info": {
   "codemirror_mode": {
    "name": "ipython",
    "version": 3
   },
   "file_extension": ".py",
   "mimetype": "text/x-python",
   "name": "python",
   "nbconvert_exporter": "python",
   "pygments_lexer": "ipython3",
   "version": "3.6.4"
  },
  "widgets": {
   "state": {},
   "version": "1.1.2"
  }
 },
 "nbformat": 4,
 "nbformat_minor": 1
}
