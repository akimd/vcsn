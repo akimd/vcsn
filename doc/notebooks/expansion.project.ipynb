{
 "cells": [
  {
   "cell_type": "markdown",
   "metadata": {},
   "source": [
    "# _`expansion`_`.project(tape)`\n",
    "\n",
    "An expansion that keeps only the selected tape of the original expansion.\n",
    "\n",
    "Preconditions:\n",
    "- the original expression is multitape.\n",
    "- the `tape` number is smaller than the number of tapes."
   ]
  },
  {
   "cell_type": "markdown",
   "metadata": {},
   "source": [
    "## Examples"
   ]
  },
  {
   "cell_type": "code",
   "execution_count": 1,
   "metadata": {
    "collapsed": false
   },
   "outputs": [],
   "source": [
    "import vcsn\n",
    "ctx = vcsn.context(\"lat<lan_char(ab), lan_char(cd), lan_char(ef)>, q\")"
   ]
  },
  {
   "cell_type": "code",
   "execution_count": 2,
   "metadata": {
    "collapsed": false
   },
   "outputs": [
    {
     "data": {
      "text/latex": [
       "$\\varepsilon|c|e \\odot \\left[\\varepsilon\\right] \\oplus \\varepsilon|c|f \\odot \\left[\\varepsilon\\right] \\oplus a|c|e \\odot \\left[ \\left. {a}^{*} \\middle| \\varepsilon \\middle| \\varepsilon \\right. \\right] \\oplus a|c|f \\odot \\left[ \\left. {a}^{*} \\middle| \\varepsilon \\middle| \\varepsilon \\right. \\right]$"
      ],
      "text/plain": [
       "\\e|c|e.[\\e] + \\e|c|f.[\\e] + a|c|e.[a*|\\e|\\e] + a|c|f.[a*|\\e|\\e]"
      ]
     },
     "execution_count": 2,
     "metadata": {},
     "output_type": "execute_result"
    }
   ],
   "source": [
    "x = ctx.expression(\"a*|c|[ef]\").expansion()\n",
    "x"
   ]
  },
  {
   "cell_type": "code",
   "execution_count": 3,
   "metadata": {
    "collapsed": false
   },
   "outputs": [
    {
     "data": {
      "text/latex": [
       "$\\left\\langle 2\\right\\rangle  \\oplus a \\odot \\left[\\left\\langle 2\\right\\rangle {a}^{*}\\right]$"
      ],
      "text/plain": [
       "<2> + a.[<2>a*]"
      ]
     },
     "execution_count": 3,
     "metadata": {},
     "output_type": "execute_result"
    }
   ],
   "source": [
    "x.project(0)"
   ]
  },
  {
   "cell_type": "code",
   "execution_count": 4,
   "metadata": {
    "collapsed": false
   },
   "outputs": [
    {
     "data": {
      "text/latex": [
       "$c \\odot \\left[\\left\\langle 4\\right\\rangle \\varepsilon\\right]$"
      ],
      "text/plain": [
       "c.[<4>\\e]"
      ]
     },
     "execution_count": 4,
     "metadata": {},
     "output_type": "execute_result"
    }
   ],
   "source": [
    "x.project(1)"
   ]
  },
  {
   "cell_type": "code",
   "execution_count": 5,
   "metadata": {
    "collapsed": false
   },
   "outputs": [
    {
     "data": {
      "text/latex": [
       "$e \\odot \\left[\\left\\langle 2\\right\\rangle \\varepsilon\\right] \\oplus f \\odot \\left[\\left\\langle 2\\right\\rangle \\varepsilon\\right]$"
      ],
      "text/plain": [
       "e.[<2>\\e] + f.[<2>\\e]"
      ]
     },
     "execution_count": 5,
     "metadata": {},
     "output_type": "execute_result"
    }
   ],
   "source": [
    "x.project(2)"
   ]
  }
 ],
 "metadata": {
  "kernelspec": {
   "display_name": "Python 3",
   "language": "python",
   "name": "python3"
  },
  "language_info": {
   "codemirror_mode": {
    "name": "ipython",
    "version": 3
   },
   "file_extension": ".py",
   "mimetype": "text/x-python",
   "name": "python",
   "nbconvert_exporter": "python",
   "pygments_lexer": "ipython3",
   "version": "3.5.1"
  }
 },
 "nbformat": 4,
 "nbformat_minor": 0
}
