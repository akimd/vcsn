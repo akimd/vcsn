{
 "cells": [
  {
   "cell_type": "markdown",
   "metadata": {},
   "source": [
    "# _`expression`_.`derivation(`_`label`_`, `_`breaking`_`=False)`\n",
    "\n",
    "Compute the derivation of a weighted expression.\n",
    "\n",
    "Arguments:\n",
    "- `label`: the (non empty) string to derive the expression with.\n",
    "- `breaking`: whether to split the result.\n",
    "\n",
    "See also:\n",
    "- [_expression_.derived_term](expression.derived_term.ipynb)\n",
    "- [_expression_.expansion](expression.expansion.ipynb)\n",
    "- [_polynomial_.split](polynomial.split.ipynb)\n",
    "\n",
    "References:\n",
    "- [lombardy.2005.tcs](References.ipynb#lombardy.2005.tcs) defines the derivation\n",
    "- [angrand.2010.jalc](References.ipynb#angrand.2010.jalc) defines the breaking derivation"
   ]
  },
  {
   "cell_type": "markdown",
   "metadata": {},
   "source": [
    "## Examples"
   ]
  },
  {
   "cell_type": "markdown",
   "metadata": {},
   "source": [
    "The following function will prove handy: it takes a rational expression and a list of strings, and returns a $\\LaTeX$ `aligned` environment to display nicely the result."
   ]
  },
  {
   "cell_type": "code",
   "execution_count": 1,
   "metadata": {
    "collapsed": false
   },
   "outputs": [],
   "source": [
    "import vcsn\n",
    "from IPython.display import Latex\n",
    "\n",
    "def diffs(r, ss):\n",
    "    eqs = []\n",
    "    for s in ss:\n",
    "        eqs.append(r'\\frac{{\\partial}}{{\\partial {0}}} {1}& = {2}'\n",
    "                   .format(s,\n",
    "                           r.format('latex'),\n",
    "                           r.derivation(s).format('latex')))\n",
    "    return Latex(r'''\\begin{{aligned}}\n",
    "        {0}\n",
    "    \\end{{aligned}}'''.format(r'\\\\'.join(eqs)))"
   ]
  },
  {
   "cell_type": "markdown",
   "metadata": {},
   "source": [
    "### Classical expressions"
   ]
  },
  {
   "cell_type": "markdown",
   "metadata": {},
   "source": [
    "In the classical case (labels are letters, and weights are Boolean), this is the construct as described by Antimirov."
   ]
  },
  {
   "cell_type": "code",
   "execution_count": 2,
   "metadata": {
    "collapsed": false
   },
   "outputs": [
    {
     "data": {
      "text/latex": [
       "$\\left(a + b\\right)^{2}$"
      ],
      "text/plain": [
       "(a+b){2}"
      ]
     },
     "execution_count": 2,
     "metadata": {},
     "output_type": "execute_result"
    }
   ],
   "source": [
    "b = vcsn.context('lal_char(ab), b')\n",
    "r = b.expression('[ab]{3}')\n",
    "r.derivation('a')"
   ]
  },
  {
   "cell_type": "markdown",
   "metadata": {},
   "source": [
    "Or, using the `diffs` function we defined above:"
   ]
  },
  {
   "cell_type": "code",
   "execution_count": 3,
   "metadata": {
    "collapsed": false
   },
   "outputs": [
    {
     "data": {
      "text/latex": [
       "\\begin{aligned}\n",
       "        \\frac{\\partial}{\\partial a} \\left(a + b\\right)^{3}& = \\left(a + b\\right)^{2}\\\\\\frac{\\partial}{\\partial aa} \\left(a + b\\right)^{3}& = a + b\\\\\\frac{\\partial}{\\partial aaa} \\left(a + b\\right)^{3}& = \\varepsilon\\\\\\frac{\\partial}{\\partial aaaa} \\left(a + b\\right)^{3}& = \\emptyset\n",
       "    \\end{aligned}"
      ],
      "text/plain": [
       "<IPython.core.display.Latex object>"
      ]
     },
     "execution_count": 3,
     "metadata": {},
     "output_type": "execute_result"
    }
   ],
   "source": [
    "diffs(r, ['a', 'aa', 'aaa', 'aaaa'])"
   ]
  },
  {
   "cell_type": "markdown",
   "metadata": {},
   "source": [
    "### Weighted Expressions"
   ]
  },
  {
   "cell_type": "markdown",
   "metadata": {},
   "source": [
    "Of course, expressions can be weighted."
   ]
  },
  {
   "cell_type": "code",
   "execution_count": 4,
   "metadata": {
    "collapsed": false
   },
   "outputs": [
    {
     "data": {
      "text/latex": [
       "\\begin{aligned}\n",
       "        \\frac{\\partial}{\\partial a} \\left( \\left\\langle \\frac{1}{6} \\right\\rangle \\,{a}^{*} +  \\left\\langle \\frac{1}{3} \\right\\rangle \\,{b}^{*}\\right)^{*}& = \\left\\langle \\frac{1}{3}\\right\\rangle {a}^{*} \\, \\left( \\left\\langle \\frac{1}{6} \\right\\rangle \\,{a}^{*} +  \\left\\langle \\frac{1}{3} \\right\\rangle \\,{b}^{*}\\right)^{*}\\\\\\frac{\\partial}{\\partial aa} \\left( \\left\\langle \\frac{1}{6} \\right\\rangle \\,{a}^{*} +  \\left\\langle \\frac{1}{3} \\right\\rangle \\,{b}^{*}\\right)^{*}& = \\left\\langle \\frac{4}{9}\\right\\rangle {a}^{*} \\, \\left( \\left\\langle \\frac{1}{6} \\right\\rangle \\,{a}^{*} +  \\left\\langle \\frac{1}{3} \\right\\rangle \\,{b}^{*}\\right)^{*}\\\\\\frac{\\partial}{\\partial ab} \\left( \\left\\langle \\frac{1}{6} \\right\\rangle \\,{a}^{*} +  \\left\\langle \\frac{1}{3} \\right\\rangle \\,{b}^{*}\\right)^{*}& = \\left\\langle \\frac{2}{9}\\right\\rangle {b}^{*} \\, \\left( \\left\\langle \\frac{1}{6} \\right\\rangle \\,{a}^{*} +  \\left\\langle \\frac{1}{3} \\right\\rangle \\,{b}^{*}\\right)^{*}\\\\\\frac{\\partial}{\\partial b} \\left( \\left\\langle \\frac{1}{6} \\right\\rangle \\,{a}^{*} +  \\left\\langle \\frac{1}{3} \\right\\rangle \\,{b}^{*}\\right)^{*}& = \\left\\langle \\frac{2}{3}\\right\\rangle {b}^{*} \\, \\left( \\left\\langle \\frac{1}{6} \\right\\rangle \\,{a}^{*} +  \\left\\langle \\frac{1}{3} \\right\\rangle \\,{b}^{*}\\right)^{*}\\\\\\frac{\\partial}{\\partial ba} \\left( \\left\\langle \\frac{1}{6} \\right\\rangle \\,{a}^{*} +  \\left\\langle \\frac{1}{3} \\right\\rangle \\,{b}^{*}\\right)^{*}& = \\left\\langle \\frac{2}{9}\\right\\rangle {a}^{*} \\, \\left( \\left\\langle \\frac{1}{6} \\right\\rangle \\,{a}^{*} +  \\left\\langle \\frac{1}{3} \\right\\rangle \\,{b}^{*}\\right)^{*}\\\\\\frac{\\partial}{\\partial bb} \\left( \\left\\langle \\frac{1}{6} \\right\\rangle \\,{a}^{*} +  \\left\\langle \\frac{1}{3} \\right\\rangle \\,{b}^{*}\\right)^{*}& = \\left\\langle \\frac{10}{9}\\right\\rangle {b}^{*} \\, \\left( \\left\\langle \\frac{1}{6} \\right\\rangle \\,{a}^{*} +  \\left\\langle \\frac{1}{3} \\right\\rangle \\,{b}^{*}\\right)^{*}\n",
       "    \\end{aligned}"
      ],
      "text/plain": [
       "<IPython.core.display.Latex object>"
      ]
     },
     "execution_count": 4,
     "metadata": {},
     "output_type": "execute_result"
    }
   ],
   "source": [
    "q = vcsn.context('lal_char(abc), q')\n",
    "r = q.expression('(<1/6>a*+<1/3>b*)*')\n",
    "diffs(r, ['a', 'aa', 'ab', 'b', 'ba', 'bb'])"
   ]
  },
  {
   "cell_type": "markdown",
   "metadata": {},
   "source": [
    "And this is tightly connected with the construction of the derived-term automaton."
   ]
  },
  {
   "cell_type": "code",
   "execution_count": 5,
   "metadata": {
    "collapsed": false
   },
   "outputs": [
    {
     "data": {
      "image/svg+xml": [
       "<?xml version=\"1.0\" encoding=\"UTF-8\" standalone=\"no\"?>\n",
       "<!DOCTYPE svg PUBLIC \"-//W3C//DTD SVG 1.1//EN\"\n",
       " \"http://www.w3.org/Graphics/SVG/1.1/DTD/svg11.dtd\">\n",
       "<!-- Generated by graphviz version 2.38.0 (20140413.2041)\n",
       " -->\n",
       "<!-- Title: %3 Pages: 1 -->\n",
       "<svg width=\"592pt\" height=\"123pt\"\n",
       " viewBox=\"0.00 0.00 592.00 122.58\" xmlns=\"http://www.w3.org/2000/svg\" xmlns:xlink=\"http://www.w3.org/1999/xlink\">\n",
       "<g id=\"graph0\" class=\"graph\" transform=\"scale(1 1) rotate(0) translate(4 114.34)\">\n",
       "<title>%3</title>\n",
       "<polygon fill=\"white\" stroke=\"none\" points=\"-4,8.2368 -4,-114.34 588,-114.34 588,8.2368 -4,8.2368\"/>\n",
       "<!-- I0 -->\n",
       "<g id=\"node1\" class=\"node\"><title>I0</title>\n",
       "<ellipse fill=\"black\" stroke=\"black\" cx=\"0\" cy=\"-44.34\" rx=\"0\" ry=\"0\"/>\n",
       "</g>\n",
       "<!-- 0 -->\n",
       "<g id=\"node5\" class=\"node\"><title>0</title>\n",
       "<path fill=\"#98f5ff\" stroke=\"black\" d=\"M136.333,-58.84C136.333,-58.84 46.6667,-58.84 46.6667,-58.84 41.8333,-58.84 37,-54.0067 37,-49.1733 37,-49.1733 37,-39.5067 37,-39.5067 37,-34.6733 41.8333,-29.84 46.6667,-29.84 46.6667,-29.84 136.333,-29.84 136.333,-29.84 141.167,-29.84 146,-34.6733 146,-39.5067 146,-39.5067 146,-49.1733 146,-49.1733 146,-54.0067 141.167,-58.84 136.333,-58.84\"/>\n",
       "<text text-anchor=\"middle\" x=\"91.5\" y=\"-41.24\" font-family=\"Times,serif\" font-size=\"12.00\">(⟨1/6⟩a*+⟨1/3⟩b*)*</text>\n",
       "</g>\n",
       "<!-- I0&#45;&gt;0 -->\n",
       "<g id=\"edge1\" class=\"edge\"><title>I0&#45;&gt;0</title>\n",
       "<path fill=\"none\" stroke=\"black\" d=\"M1.0649,-44.34C2.0789,-44.34 14.855,-44.34 30.449,-44.34\"/>\n",
       "<polygon fill=\"black\" stroke=\"black\" points=\"36.787,-44.34 30.787,-47.0401 33.787,-44.34 30.787,-44.3401 30.787,-44.3401 30.787,-44.3401 33.787,-44.34 30.787,-41.6401 36.787,-44.34 36.787,-44.34\"/>\n",
       "</g>\n",
       "<!-- F0 -->\n",
       "<g id=\"node2\" class=\"node\"><title>F0</title>\n",
       "<ellipse fill=\"black\" stroke=\"black\" cx=\"277\" cy=\"-110.34\" rx=\"0\" ry=\"0\"/>\n",
       "</g>\n",
       "<!-- F1 -->\n",
       "<g id=\"node3\" class=\"node\"><title>F1</title>\n",
       "<ellipse fill=\"black\" stroke=\"black\" cx=\"469.5\" cy=\"-94.34\" rx=\"0\" ry=\"0\"/>\n",
       "</g>\n",
       "<!-- F2 -->\n",
       "<g id=\"node4\" class=\"node\"><title>F2</title>\n",
       "<ellipse fill=\"black\" stroke=\"black\" cx=\"584\" cy=\"-18.34\" rx=\"0\" ry=\"0\"/>\n",
       "</g>\n",
       "<!-- 0&#45;&gt;F0 -->\n",
       "<g id=\"edge2\" class=\"edge\"><title>0&#45;&gt;F0</title>\n",
       "<path fill=\"none\" stroke=\"black\" d=\"M132.668,-58.9875C178.899,-75.4363 250.2,-100.805 271.071,-108.23\"/>\n",
       "<polygon fill=\"black\" stroke=\"black\" points=\"276.935,-110.317 270.377,-110.849 274.108,-109.311 271.282,-108.305 271.282,-108.305 271.282,-108.305 274.108,-109.311 272.187,-105.762 276.935,-110.317 276.935,-110.317\"/>\n",
       "<text text-anchor=\"middle\" x=\"192.87\" y=\"-87.409\" font-family=\"Times,serif\" font-size=\"14.00\">⟨2⟩</text>\n",
       "</g>\n",
       "<!-- 1 -->\n",
       "<g id=\"node6\" class=\"node\"><title>1</title>\n",
       "<path fill=\"#98f5ff\" stroke=\"black\" d=\"M327.333,-58.84C327.333,-58.84 226.667,-58.84 226.667,-58.84 221.833,-58.84 217,-54.0067 217,-49.1733 217,-49.1733 217,-39.5067 217,-39.5067 217,-34.6733 221.833,-29.84 226.667,-29.84 226.667,-29.84 327.333,-29.84 327.333,-29.84 332.167,-29.84 337,-34.6733 337,-39.5067 337,-39.5067 337,-49.1733 337,-49.1733 337,-54.0067 332.167,-58.84 327.333,-58.84\"/>\n",
       "<text text-anchor=\"middle\" x=\"277\" y=\"-41.24\" font-family=\"Times,serif\" font-size=\"12.00\">a*(⟨1/6⟩a*+⟨1/3⟩b*)*</text>\n",
       "</g>\n",
       "<!-- 0&#45;&gt;1 -->\n",
       "<g id=\"edge3\" class=\"edge\"><title>0&#45;&gt;1</title>\n",
       "<path fill=\"none\" stroke=\"black\" d=\"M146.07,-44.34C166.29,-44.34 189.52,-44.34 210.69,-44.34\"/>\n",
       "<polygon fill=\"black\" stroke=\"black\" points=\"216.9,-44.34 210.9,-47.0401 213.9,-44.34 210.9,-44.3401 210.9,-44.3401 210.9,-44.3401 213.9,-44.34 210.9,-41.6401 216.9,-44.34 216.9,-44.34\"/>\n",
       "<text text-anchor=\"middle\" x=\"181.5\" y=\"-48.14\" font-family=\"Times,serif\" font-size=\"14.00\">⟨1/3⟩a</text>\n",
       "</g>\n",
       "<!-- 2 -->\n",
       "<g id=\"node7\" class=\"node\"><title>2</title>\n",
       "<path fill=\"#98f5ff\" stroke=\"black\" d=\"M520.333,-32.84C520.333,-32.84 418.667,-32.84 418.667,-32.84 413.833,-32.84 409,-28.0067 409,-23.1733 409,-23.1733 409,-13.5067 409,-13.5067 409,-8.67333 413.833,-3.84 418.667,-3.84 418.667,-3.84 520.333,-3.84 520.333,-3.84 525.167,-3.84 530,-8.67333 530,-13.5067 530,-13.5067 530,-23.1733 530,-23.1733 530,-28.0067 525.167,-32.84 520.333,-32.84\"/>\n",
       "<text text-anchor=\"middle\" x=\"469.5\" y=\"-15.24\" font-family=\"Times,serif\" font-size=\"12.00\">b*(⟨1/6⟩a*+⟨1/3⟩b*)*</text>\n",
       "</g>\n",
       "<!-- 0&#45;&gt;2 -->\n",
       "<g id=\"edge4\" class=\"edge\"><title>0&#45;&gt;2</title>\n",
       "<path fill=\"none\" stroke=\"black\" d=\"M128.58,-29.835C153.07,-20.792 186.44,-10.015 217,-5.3397 279.61,4.2368 351.89,-1.1873 402.85,-7.7019\"/>\n",
       "<polygon fill=\"black\" stroke=\"black\" points=\"408.96,-8.5008 402.661,-10.4 405.985,-8.11181 403.011,-7.72282 403.011,-7.72282 403.011,-7.72282 405.985,-8.11181 403.361,-5.04561 408.96,-8.5008 408.96,-8.5008\"/>\n",
       "<text text-anchor=\"middle\" x=\"277\" y=\"-9.14\" font-family=\"Times,serif\" font-size=\"14.00\">⟨2/3⟩b</text>\n",
       "</g>\n",
       "<!-- 1&#45;&gt;F1 -->\n",
       "<g id=\"edge5\" class=\"edge\"><title>1&#45;&gt;F1</title>\n",
       "<path fill=\"none\" stroke=\"black\" d=\"M332.938,-58.8692C380.362,-71.1873 443.724,-87.645 463.408,-92.7576\"/>\n",
       "<polygon fill=\"black\" stroke=\"black\" points=\"469.442,-94.3249 462.956,-95.4298 466.538,-93.5707 463.635,-92.8165 463.635,-92.8165 463.635,-92.8165 466.538,-93.5707 464.314,-90.2032 469.442,-94.3249 469.442,-94.3249\"/>\n",
       "<text text-anchor=\"middle\" x=\"389.173\" y=\"-79.6134\" font-family=\"Times,serif\" font-size=\"14.00\">⟨2⟩</text>\n",
       "</g>\n",
       "<!-- 1&#45;&gt;1 -->\n",
       "<g id=\"edge6\" class=\"edge\"><title>1&#45;&gt;1</title>\n",
       "<path fill=\"none\" stroke=\"black\" d=\"M260.62,-59.046C256.67,-68.163 262.13,-76.84 277,-76.84 288.39,-76.84 294.26,-71.754 294.61,-65.278\"/>\n",
       "<polygon fill=\"black\" stroke=\"black\" points=\"293.38,-59.046 297.191,-64.4096 293.961,-61.9892 294.542,-64.9324 294.542,-64.9324 294.542,-64.9324 293.961,-61.9892 291.893,-65.4553 293.38,-59.046 293.38,-59.046\"/>\n",
       "<text text-anchor=\"middle\" x=\"277\" y=\"-80.64\" font-family=\"Times,serif\" font-size=\"14.00\">⟨4/3⟩a</text>\n",
       "</g>\n",
       "<!-- 1&#45;&gt;2 -->\n",
       "<g id=\"edge7\" class=\"edge\"><title>1&#45;&gt;2</title>\n",
       "<path fill=\"none\" stroke=\"black\" d=\"M337.09,-40.405C354.5,-38.896 373.56,-36.903 391,-34.34 394.93,-33.763 398.95,-33.112 403.01,-32.412\"/>\n",
       "<polygon fill=\"black\" stroke=\"black\" points=\"408.96,-31.353 403.526,-35.0627 406.006,-31.8787 403.053,-32.4045 403.053,-32.4045 403.053,-32.4045 406.006,-31.8787 402.58,-29.7462 408.96,-31.353 408.96,-31.353\"/>\n",
       "<text text-anchor=\"middle\" x=\"373\" y=\"-43.14\" font-family=\"Times,serif\" font-size=\"14.00\">⟨2/3⟩b</text>\n",
       "</g>\n",
       "<!-- 2&#45;&gt;F2 -->\n",
       "<g id=\"edge8\" class=\"edge\"><title>2&#45;&gt;F2</title>\n",
       "<path fill=\"none\" stroke=\"black\" d=\"M530.103,-18.34C549.434,-18.34 568.254,-18.34 577.705,-18.34\"/>\n",
       "<polygon fill=\"black\" stroke=\"black\" points=\"583.923,-18.34 577.923,-21.0401 580.923,-18.34 577.923,-18.3401 577.923,-18.3401 577.923,-18.3401 580.923,-18.34 577.923,-15.6401 583.923,-18.34 583.923,-18.34\"/>\n",
       "<text text-anchor=\"middle\" x=\"544.904\" y=\"-22.14\" font-family=\"Times,serif\" font-size=\"14.00\">⟨2⟩</text>\n",
       "</g>\n",
       "<!-- 2&#45;&gt;1 -->\n",
       "<g id=\"edge9\" class=\"edge\"><title>2&#45;&gt;1</title>\n",
       "<path fill=\"none\" stroke=\"black\" d=\"M408.94,-12.173C391.45,-11.596 372.36,-12.18 355,-15.34 341.47,-17.803 327.23,-22.514 314.73,-27.434\"/>\n",
       "<polygon fill=\"black\" stroke=\"black\" points=\"309.11,-29.702 313.664,-24.9527 311.892,-28.5793 314.674,-27.4565 314.674,-27.4565 314.674,-27.4565 311.892,-28.5793 315.684,-29.9603 309.11,-29.702 309.11,-29.702\"/>\n",
       "<text text-anchor=\"middle\" x=\"373\" y=\"-19.14\" font-family=\"Times,serif\" font-size=\"14.00\">⟨1/3⟩a</text>\n",
       "</g>\n",
       "<!-- 2&#45;&gt;2 -->\n",
       "<g id=\"edge10\" class=\"edge\"><title>2&#45;&gt;2</title>\n",
       "<path fill=\"none\" stroke=\"black\" d=\"M454.51,-33.046C450.9,-42.163 455.89,-50.84 469.5,-50.84 479.92,-50.84 485.29,-45.754 485.61,-39.278\"/>\n",
       "<polygon fill=\"black\" stroke=\"black\" points=\"484.49,-33.046 488.209,-38.4738 485.021,-35.9987 485.551,-38.9514 485.551,-38.9514 485.551,-38.9514 485.021,-35.9987 482.894,-39.429 484.49,-33.046 484.49,-33.046\"/>\n",
       "<text text-anchor=\"middle\" x=\"469.5\" y=\"-54.64\" font-family=\"Times,serif\" font-size=\"14.00\">⟨5/3⟩b</text>\n",
       "</g>\n",
       "</g>\n",
       "</svg>\n"
      ],
      "text/plain": [
       "expression_automaton<mutable_automaton<context<letterset<char_letters>, q>>>"
      ]
     },
     "execution_count": 5,
     "metadata": {},
     "output_type": "execute_result"
    }
   ],
   "source": [
    "r.derived_term()"
   ]
  },
  {
   "cell_type": "markdown",
   "metadata": {},
   "source": [
    "### Breaking derivation"
   ]
  },
  {
   "cell_type": "markdown",
   "metadata": {},
   "source": [
    "The \"breaking\" derivation \"splits\" the polynomial at the end."
   ]
  },
  {
   "cell_type": "code",
   "execution_count": 6,
   "metadata": {
    "collapsed": false
   },
   "outputs": [
    {
     "data": {
      "text/latex": [
       "$\\left(a + b\\right) \\,  \\left\\langle 2 \\right\\rangle \\,\\left(a + b\\right)$"
      ],
      "text/plain": [
       "(a+b)<2>(a+b)"
      ]
     },
     "execution_count": 6,
     "metadata": {},
     "output_type": "execute_result"
    }
   ],
   "source": [
    "r = q.expression('[ab](<2>[ab])', 'associative')\n",
    "r"
   ]
  },
  {
   "cell_type": "code",
   "execution_count": 7,
   "metadata": {
    "collapsed": false
   },
   "outputs": [
    {
     "data": {
      "text/latex": [
       "$ \\left\\langle 2 \\right\\rangle \\,\\left(a + b\\right)$"
      ],
      "text/plain": [
       "<2>(a+b)"
      ]
     },
     "execution_count": 7,
     "metadata": {},
     "output_type": "execute_result"
    }
   ],
   "source": [
    "r.derivation('a')"
   ]
  },
  {
   "cell_type": "code",
   "execution_count": 8,
   "metadata": {
    "collapsed": false
   },
   "outputs": [
    {
     "data": {
      "text/latex": [
       "$\\left\\langle 2\\right\\rangle a \\oplus \\left\\langle 2\\right\\rangle b$"
      ],
      "text/plain": [
       "<2>a + <2>b"
      ]
     },
     "execution_count": 8,
     "metadata": {},
     "output_type": "execute_result"
    }
   ],
   "source": [
    "r.derivation('a', True)"
   ]
  },
  {
   "cell_type": "code",
   "execution_count": 9,
   "metadata": {
    "collapsed": false
   },
   "outputs": [
    {
     "data": {
      "text/latex": [
       "$\\left\\langle 2\\right\\rangle a \\oplus \\left\\langle 2\\right\\rangle b$"
      ],
      "text/plain": [
       "<2>a + <2>b"
      ]
     },
     "execution_count": 9,
     "metadata": {},
     "output_type": "execute_result"
    }
   ],
   "source": [
    "r.derivation('a').split()"
   ]
  },
  {
   "cell_type": "markdown",
   "metadata": {},
   "source": [
    "Again, this is tightly connected with both flavors of the derived-term automaton."
   ]
  },
  {
   "cell_type": "code",
   "execution_count": 10,
   "metadata": {
    "collapsed": false
   },
   "outputs": [
    {
     "data": {
      "image/svg+xml": [
       "<?xml version=\"1.0\" encoding=\"UTF-8\" standalone=\"no\"?>\n",
       "<!DOCTYPE svg PUBLIC \"-//W3C//DTD SVG 1.1//EN\"\n",
       " \"http://www.w3.org/Graphics/SVG/1.1/DTD/svg11.dtd\">\n",
       "<!-- Generated by graphviz version 2.38.0 (20140413.2041)\n",
       " -->\n",
       "<!-- Title: %3 Pages: 1 -->\n",
       "<svg width=\"399pt\" height=\"38pt\"\n",
       " viewBox=\"0.00 0.00 399.00 37.50\" xmlns=\"http://www.w3.org/2000/svg\" xmlns:xlink=\"http://www.w3.org/1999/xlink\">\n",
       "<g id=\"graph0\" class=\"graph\" transform=\"scale(1 1) rotate(0) translate(4 33.5)\">\n",
       "<title>%3</title>\n",
       "<polygon fill=\"white\" stroke=\"none\" points=\"-4,4 -4,-33.5 395,-33.5 395,4 -4,4\"/>\n",
       "<!-- I0 -->\n",
       "<g id=\"node1\" class=\"node\"><title>I0</title>\n",
       "<ellipse fill=\"black\" stroke=\"black\" cx=\"0\" cy=\"-14.5\" rx=\"0\" ry=\"0\"/>\n",
       "</g>\n",
       "<!-- 0 -->\n",
       "<g id=\"node3\" class=\"node\"><title>0</title>\n",
       "<path fill=\"#98f5ff\" stroke=\"black\" d=\"M110.333,-29C110.333,-29 46.6667,-29 46.6667,-29 41.8333,-29 37,-24.1667 37,-19.3333 37,-19.3333 37,-9.66667 37,-9.66667 37,-4.83333 41.8333,-0 46.6667,-0 46.6667,-0 110.333,-0 110.333,-0 115.167,-0 120,-4.83333 120,-9.66667 120,-9.66667 120,-19.3333 120,-19.3333 120,-24.1667 115.167,-29 110.333,-29\"/>\n",
       "<text text-anchor=\"middle\" x=\"78.5\" y=\"-11.4\" font-family=\"Times,serif\" font-size=\"12.00\">(a+b)⟨2⟩(a+b)</text>\n",
       "</g>\n",
       "<!-- I0&#45;&gt;0 -->\n",
       "<g id=\"edge1\" class=\"edge\"><title>I0&#45;&gt;0</title>\n",
       "<path fill=\"none\" stroke=\"black\" d=\"M1.0554,-14.5C2.0141,-14.5 15.27,-14.5 30.482,-14.5\"/>\n",
       "<polygon fill=\"black\" stroke=\"black\" points=\"36.618,-14.5 30.618,-17.2001 33.618,-14.5 30.618,-14.5001 30.618,-14.5001 30.618,-14.5001 33.618,-14.5 30.618,-11.8001 36.618,-14.5 36.618,-14.5\"/>\n",
       "</g>\n",
       "<!-- F2 -->\n",
       "<g id=\"node2\" class=\"node\"><title>F2</title>\n",
       "<ellipse fill=\"black\" stroke=\"black\" cx=\"391\" cy=\"-14.5\" rx=\"0\" ry=\"0\"/>\n",
       "</g>\n",
       "<!-- 1 -->\n",
       "<g id=\"node4\" class=\"node\"><title>1</title>\n",
       "<path fill=\"#98f5ff\" stroke=\"black\" d=\"M224.333,-29C224.333,-29 186.667,-29 186.667,-29 181.833,-29 177,-24.1667 177,-19.3333 177,-19.3333 177,-9.66667 177,-9.66667 177,-4.83333 181.833,-0 186.667,-0 186.667,-0 224.333,-0 224.333,-0 229.167,-0 234,-4.83333 234,-9.66667 234,-9.66667 234,-19.3333 234,-19.3333 234,-24.1667 229.167,-29 224.333,-29\"/>\n",
       "<text text-anchor=\"middle\" x=\"205.5\" y=\"-11.4\" font-family=\"Times,serif\" font-size=\"12.00\">⟨2⟩(a+b)</text>\n",
       "</g>\n",
       "<!-- 0&#45;&gt;1 -->\n",
       "<g id=\"edge2\" class=\"edge\"><title>0&#45;&gt;1</title>\n",
       "<path fill=\"none\" stroke=\"black\" d=\"M120.08,-14.5C136.45,-14.5 155.1,-14.5 170.71,-14.5\"/>\n",
       "<polygon fill=\"black\" stroke=\"black\" points=\"176.75,-14.5 170.75,-17.2001 173.75,-14.5 170.75,-14.5001 170.75,-14.5001 170.75,-14.5001 173.75,-14.5 170.75,-11.8001 176.75,-14.5 176.75,-14.5\"/>\n",
       "<text text-anchor=\"middle\" x=\"148.5\" y=\"-18.3\" font-family=\"Times,serif\" font-size=\"14.00\">a, b</text>\n",
       "</g>\n",
       "<!-- 2 -->\n",
       "<g id=\"node5\" class=\"node\"><title>2</title>\n",
       "<path fill=\"#98f5ff\" stroke=\"black\" d=\"M344.333,-29C344.333,-29 334.667,-29 334.667,-29 329.833,-29 325,-24.1667 325,-19.3333 325,-19.3333 325,-9.66667 325,-9.66667 325,-4.83333 329.833,-0 334.667,-0 334.667,-0 344.333,-0 344.333,-0 349.167,-0 354,-4.83333 354,-9.66667 354,-9.66667 354,-19.3333 354,-19.3333 354,-24.1667 349.167,-29 344.333,-29\"/>\n",
       "<text text-anchor=\"middle\" x=\"339.5\" y=\"-11.4\" font-family=\"Times,serif\" font-size=\"12.00\">ε</text>\n",
       "</g>\n",
       "<!-- 1&#45;&gt;2 -->\n",
       "<g id=\"edge3\" class=\"edge\"><title>1&#45;&gt;2</title>\n",
       "<path fill=\"none\" stroke=\"black\" d=\"M234.17,-14.5C259.49,-14.5 296.33,-14.5 318.78,-14.5\"/>\n",
       "<polygon fill=\"black\" stroke=\"black\" points=\"324.99,-14.5 318.99,-17.2001 321.99,-14.5 318.99,-14.5001 318.99,-14.5001 318.99,-14.5001 321.99,-14.5 318.99,-11.8001 324.99,-14.5 324.99,-14.5\"/>\n",
       "<text text-anchor=\"middle\" x=\"279.5\" y=\"-18.3\" font-family=\"Times,serif\" font-size=\"14.00\">⟨2⟩a, ⟨2⟩b</text>\n",
       "</g>\n",
       "<!-- 2&#45;&gt;F2 -->\n",
       "<g id=\"edge4\" class=\"edge\"><title>2&#45;&gt;F2</title>\n",
       "<path fill=\"none\" stroke=\"black\" d=\"M354.12,-14.5C364.261,-14.5 377.253,-14.5 384.8,-14.5\"/>\n",
       "<polygon fill=\"black\" stroke=\"black\" points=\"390.937,-14.5 384.937,-17.2001 387.937,-14.5 384.937,-14.5001 384.937,-14.5001 384.937,-14.5001 387.937,-14.5 384.937,-11.8001 390.937,-14.5 390.937,-14.5\"/>\n",
       "</g>\n",
       "</g>\n",
       "</svg>\n"
      ],
      "text/plain": [
       "expression_automaton<mutable_automaton<context<letterset<char_letters>, q>>>"
      ]
     },
     "execution_count": 10,
     "metadata": {},
     "output_type": "execute_result"
    }
   ],
   "source": [
    "r.derived_term()"
   ]
  },
  {
   "cell_type": "code",
   "execution_count": 11,
   "metadata": {
    "collapsed": false
   },
   "outputs": [
    {
     "data": {
      "image/svg+xml": [
       "<?xml version=\"1.0\" encoding=\"UTF-8\" standalone=\"no\"?>\n",
       "<!DOCTYPE svg PUBLIC \"-//W3C//DTD SVG 1.1//EN\"\n",
       " \"http://www.w3.org/Graphics/SVG/1.1/DTD/svg11.dtd\">\n",
       "<!-- Generated by graphviz version 2.38.0 (20140413.2041)\n",
       " -->\n",
       "<!-- Title: %3 Pages: 1 -->\n",
       "<svg width=\"308pt\" height=\"122pt\"\n",
       " viewBox=\"0.00 0.00 308.00 122.45\" xmlns=\"http://www.w3.org/2000/svg\" xmlns:xlink=\"http://www.w3.org/1999/xlink\">\n",
       "<g id=\"graph0\" class=\"graph\" transform=\"scale(1 1) rotate(0) translate(4 113.9)\">\n",
       "<title>%3</title>\n",
       "<polygon fill=\"white\" stroke=\"none\" points=\"-4,8.5471 -4,-113.9 304,-113.9 304,8.5471 -4,8.5471\"/>\n",
       "<!-- I0 -->\n",
       "<g id=\"node1\" class=\"node\"><title>I0</title>\n",
       "<ellipse fill=\"black\" stroke=\"black\" cx=\"0\" cy=\"-88.899\" rx=\"0\" ry=\"0\"/>\n",
       "</g>\n",
       "<!-- 0 -->\n",
       "<g id=\"node4\" class=\"node\"><title>0</title>\n",
       "<path fill=\"#98f5ff\" stroke=\"black\" d=\"M90.3333,-103.399C90.3333,-103.399 46.6667,-103.399 46.6667,-103.399 41.8333,-103.399 37,-98.5657 37,-93.7323 37,-93.7323 37,-84.0657 37,-84.0657 37,-79.2323 41.8333,-74.399 46.6667,-74.399 46.6667,-74.399 90.3333,-74.399 90.3333,-74.399 95.1667,-74.399 100,-79.2323 100,-84.0657 100,-84.0657 100,-93.7323 100,-93.7323 100,-98.5657 95.1667,-103.399 90.3333,-103.399\"/>\n",
       "<text text-anchor=\"middle\" x=\"68.5\" y=\"-85.799\" font-family=\"Times,serif\" font-size=\"12.00\">a⟨2⟩(a+b)</text>\n",
       "</g>\n",
       "<!-- I0&#45;&gt;0 -->\n",
       "<g id=\"edge1\" class=\"edge\"><title>I0&#45;&gt;0</title>\n",
       "<path fill=\"none\" stroke=\"black\" d=\"M1.0482,-88.899C1.9636,-88.899 15.779,-88.899 30.577,-88.899\"/>\n",
       "<polygon fill=\"black\" stroke=\"black\" points=\"36.944,-88.899 30.944,-91.5991 33.944,-88.899 30.944,-88.8991 30.944,-88.8991 30.944,-88.8991 33.944,-88.899 30.944,-86.1991 36.944,-88.899 36.944,-88.899\"/>\n",
       "</g>\n",
       "<!-- I1 -->\n",
       "<g id=\"node2\" class=\"node\"><title>I1</title>\n",
       "<ellipse fill=\"black\" stroke=\"black\" cx=\"0\" cy=\"-27.899\" rx=\"0\" ry=\"0\"/>\n",
       "</g>\n",
       "<!-- 1 -->\n",
       "<g id=\"node5\" class=\"node\"><title>1</title>\n",
       "<path fill=\"#98f5ff\" stroke=\"black\" d=\"M90.3333,-42.399C90.3333,-42.399 46.6667,-42.399 46.6667,-42.399 41.8333,-42.399 37,-37.5657 37,-32.7323 37,-32.7323 37,-23.0657 37,-23.0657 37,-18.2323 41.8333,-13.399 46.6667,-13.399 46.6667,-13.399 90.3333,-13.399 90.3333,-13.399 95.1667,-13.399 100,-18.2323 100,-23.0657 100,-23.0657 100,-32.7323 100,-32.7323 100,-37.5657 95.1667,-42.399 90.3333,-42.399\"/>\n",
       "<text text-anchor=\"middle\" x=\"68.5\" y=\"-24.799\" font-family=\"Times,serif\" font-size=\"12.00\">b⟨2⟩(a+b)</text>\n",
       "</g>\n",
       "<!-- I1&#45;&gt;1 -->\n",
       "<g id=\"edge2\" class=\"edge\"><title>I1&#45;&gt;1</title>\n",
       "<path fill=\"none\" stroke=\"black\" d=\"M1.0482,-27.899C1.9636,-27.899 15.779,-27.899 30.577,-27.899\"/>\n",
       "<polygon fill=\"black\" stroke=\"black\" points=\"36.944,-27.899 30.944,-30.5991 33.944,-27.899 30.944,-27.8991 30.944,-27.8991 30.944,-27.8991 33.944,-27.899 30.944,-25.1991 36.944,-27.899 36.944,-27.899\"/>\n",
       "</g>\n",
       "<!-- F4 -->\n",
       "<g id=\"node3\" class=\"node\"><title>F4</title>\n",
       "<ellipse fill=\"black\" stroke=\"black\" cx=\"300\" cy=\"-58.899\" rx=\"0\" ry=\"0\"/>\n",
       "</g>\n",
       "<!-- 2 -->\n",
       "<g id=\"node6\" class=\"node\"><title>2</title>\n",
       "<path fill=\"#98f5ff\" stroke=\"black\" d=\"M180.333,-96.399C180.333,-96.399 170.667,-96.399 170.667,-96.399 165.833,-96.399 161,-91.5657 161,-86.7323 161,-86.7323 161,-77.0657 161,-77.0657 161,-72.2323 165.833,-67.399 170.667,-67.399 170.667,-67.399 180.333,-67.399 180.333,-67.399 185.167,-67.399 190,-72.2323 190,-77.0657 190,-77.0657 190,-86.7323 190,-86.7323 190,-91.5657 185.167,-96.399 180.333,-96.399\"/>\n",
       "<text text-anchor=\"middle\" x=\"175.5\" y=\"-78.799\" font-family=\"Times,serif\" font-size=\"12.00\">a</text>\n",
       "</g>\n",
       "<!-- 0&#45;&gt;2 -->\n",
       "<g id=\"edge3\" class=\"edge\"><title>0&#45;&gt;2</title>\n",
       "<path fill=\"none\" stroke=\"black\" d=\"M100.09,-94.367C113.37,-95.869 129.04,-96.468 143,-93.899 146.93,-93.176 151,-91.986 154.86,-90.628\"/>\n",
       "<polygon fill=\"black\" stroke=\"black\" points=\"160.7,-88.402 156.055,-93.062 157.897,-89.4705 155.093,-90.5391 155.093,-90.5391 155.093,-90.5391 157.897,-89.4705 154.132,-88.0161 160.7,-88.402 160.7,-88.402\"/>\n",
       "<text text-anchor=\"middle\" x=\"130.5\" y=\"-98.7\" font-family=\"Times,serif\" font-size=\"14.00\">⟨2⟩a</text>\n",
       "</g>\n",
       "<!-- 3 -->\n",
       "<g id=\"node7\" class=\"node\"><title>3</title>\n",
       "<path fill=\"#98f5ff\" stroke=\"black\" d=\"M180.333,-49.399C180.333,-49.399 170.667,-49.399 170.667,-49.399 165.833,-49.399 161,-44.5657 161,-39.7323 161,-39.7323 161,-30.0657 161,-30.0657 161,-25.2323 165.833,-20.399 170.667,-20.399 170.667,-20.399 180.333,-20.399 180.333,-20.399 185.167,-20.399 190,-25.2323 190,-30.0657 190,-30.0657 190,-39.7323 190,-39.7323 190,-44.5657 185.167,-49.399 180.333,-49.399\"/>\n",
       "<text text-anchor=\"middle\" x=\"175.5\" y=\"-31.799\" font-family=\"Times,serif\" font-size=\"12.00\">b</text>\n",
       "</g>\n",
       "<!-- 0&#45;&gt;3 -->\n",
       "<g id=\"edge4\" class=\"edge\"><title>0&#45;&gt;3</title>\n",
       "<path fill=\"none\" stroke=\"black\" d=\"M100.09,-76.516C113.51,-70.742 129.29,-63.478 143,-55.899 147.21,-53.574 151.58,-50.863 155.68,-48.178\"/>\n",
       "<polygon fill=\"black\" stroke=\"black\" points=\"160.7,-44.82 157.214,-50.4002 158.206,-46.488 155.713,-48.156 155.713,-48.156 155.713,-48.156 158.206,-46.488 154.212,-45.9118 160.7,-44.82 160.7,-44.82\"/>\n",
       "<text text-anchor=\"middle\" x=\"130.5\" y=\"-70.699\" font-family=\"Times,serif\" font-size=\"14.00\">⟨2⟩a</text>\n",
       "</g>\n",
       "<!-- 1&#45;&gt;2 -->\n",
       "<g id=\"edge5\" class=\"edge\"><title>1&#45;&gt;2</title>\n",
       "<path fill=\"none\" stroke=\"black\" d=\"M100.3,-26.153C114.21,-26.696 130.33,-29.286 143,-36.899 148.22,-40.035 156.07,-51.245 162.63,-61.691\"/>\n",
       "<polygon fill=\"black\" stroke=\"black\" points=\"165.92,-67.037 160.476,-63.3422 164.348,-64.4821 162.775,-61.9271 162.775,-61.9271 162.775,-61.9271 164.348,-64.4821 165.075,-60.512 165.92,-67.037 165.92,-67.037\"/>\n",
       "<text text-anchor=\"middle\" x=\"130.5\" y=\"-40.699\" font-family=\"Times,serif\" font-size=\"14.00\">⟨2⟩b</text>\n",
       "</g>\n",
       "<!-- 1&#45;&gt;3 -->\n",
       "<g id=\"edge6\" class=\"edge\"><title>1&#45;&gt;3</title>\n",
       "<path fill=\"none\" stroke=\"black\" d=\"M89.428,-13.234C104.37,-4.1262 125.22,4.5471 143,-2.8988 149.5,-5.6196 155.33,-10.405 160.16,-15.46\"/>\n",
       "<polygon fill=\"black\" stroke=\"black\" points=\"164.3,-20.126 158.298,-17.4299 162.309,-17.882 160.318,-15.6379 160.318,-15.6379 160.318,-15.6379 162.309,-17.882 162.337,-13.8459 164.3,-20.126 164.3,-20.126\"/>\n",
       "<text text-anchor=\"middle\" x=\"130.5\" y=\"-6.699\" font-family=\"Times,serif\" font-size=\"14.00\">⟨2⟩b</text>\n",
       "</g>\n",
       "<!-- 4 -->\n",
       "<g id=\"node8\" class=\"node\"><title>4</title>\n",
       "<path fill=\"#98f5ff\" stroke=\"black\" d=\"M253.333,-73.399C253.333,-73.399 243.667,-73.399 243.667,-73.399 238.833,-73.399 234,-68.5657 234,-63.7323 234,-63.7323 234,-54.0657 234,-54.0657 234,-49.2323 238.833,-44.399 243.667,-44.399 243.667,-44.399 253.333,-44.399 253.333,-44.399 258.167,-44.399 263,-49.2323 263,-54.0657 263,-54.0657 263,-63.7323 263,-63.7323 263,-68.5657 258.167,-73.399 253.333,-73.399\"/>\n",
       "<text text-anchor=\"middle\" x=\"248.5\" y=\"-55.799\" font-family=\"Times,serif\" font-size=\"12.00\">ε</text>\n",
       "</g>\n",
       "<!-- 2&#45;&gt;4 -->\n",
       "<g id=\"edge7\" class=\"edge\"><title>2&#45;&gt;4</title>\n",
       "<path fill=\"none\" stroke=\"black\" d=\"M190.19,-77.464C200.9,-73.996 215.92,-69.128 227.9,-65.247\"/>\n",
       "<polygon fill=\"black\" stroke=\"black\" points=\"233.85,-63.32 228.974,-67.7374 230.996,-64.2444 228.142,-65.1687 228.142,-65.1687 228.142,-65.1687 230.996,-64.2444 227.31,-62.6001 233.85,-63.32 233.85,-63.32\"/>\n",
       "<text text-anchor=\"middle\" x=\"212\" y=\"-74.699\" font-family=\"Times,serif\" font-size=\"14.00\">a</text>\n",
       "</g>\n",
       "<!-- 3&#45;&gt;4 -->\n",
       "<g id=\"edge8\" class=\"edge\"><title>3&#45;&gt;4</title>\n",
       "<path fill=\"none\" stroke=\"black\" d=\"M190.19,-39.526C200.9,-43.145 215.92,-48.225 227.9,-52.275\"/>\n",
       "<polygon fill=\"black\" stroke=\"black\" points=\"233.85,-54.286 227.301,-54.9227 231.008,-53.3254 228.166,-52.3648 228.166,-52.3648 228.166,-52.3648 231.008,-53.3254 229.03,-49.8069 233.85,-54.286 233.85,-54.286\"/>\n",
       "<text text-anchor=\"middle\" x=\"212\" y=\"-50.699\" font-family=\"Times,serif\" font-size=\"14.00\">b</text>\n",
       "</g>\n",
       "<!-- 4&#45;&gt;F4 -->\n",
       "<g id=\"edge9\" class=\"edge\"><title>4&#45;&gt;F4</title>\n",
       "<path fill=\"none\" stroke=\"black\" d=\"M263.12,-58.899C273.261,-58.899 286.253,-58.899 293.8,-58.899\"/>\n",
       "<polygon fill=\"black\" stroke=\"black\" points=\"299.937,-58.899 293.937,-61.5991 296.937,-58.899 293.937,-58.8991 293.937,-58.8991 293.937,-58.8991 296.937,-58.899 293.937,-56.1991 299.937,-58.899 299.937,-58.899\"/>\n",
       "</g>\n",
       "</g>\n",
       "</svg>\n"
      ],
      "text/plain": [
       "expression_automaton<mutable_automaton<context<letterset<char_letters>, q>>>"
      ]
     },
     "execution_count": 11,
     "metadata": {},
     "output_type": "execute_result"
    }
   ],
   "source": [
    "r.derived_term('breaking_derivation')"
   ]
  }
 ],
 "metadata": {
  "kernelspec": {
   "display_name": "Python 3",
   "language": "python",
   "name": "python3"
  },
  "language_info": {
   "codemirror_mode": {
    "name": "ipython",
    "version": 3
   },
   "file_extension": ".py",
   "mimetype": "text/x-python",
   "name": "python",
   "nbconvert_exporter": "python",
   "pygments_lexer": "ipython3",
   "version": "3.4.4"
  }
 },
 "nbformat": 4,
 "nbformat_minor": 0
}
