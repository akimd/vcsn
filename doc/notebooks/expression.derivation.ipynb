{
 "cells": [
  {
   "cell_type": "markdown",
   "metadata": {},
   "source": [
    "# _`expression`_.`derivation(`_`label`_`, `_`breaking`_`=False)`"
   ]
  },
  {
   "cell_type": "markdown",
   "metadata": {},
   "source": [
    "Compute the derivation of a weighted expression.\n",
    "\n",
    "Arguments:\n",
    "- `label`: the (non empty) string to derive the expression with.\n",
    "- `breaking`: whether to split the result.\n",
    "\n",
    "See also:\n",
    "- [_expression_.derived_term](expression.derived_term.ipynb)\n",
    "- [_expression_.expansion](expression.expansion.ipynb)\n",
    "- [_polynomial_.split](polynomial.split.ipynb)\n",
    "\n",
    "References:\n",
    "- [lombardy.2005.tcs](References.ipynb#lombardy.2005.tcs) defines the derivation\n",
    "- [angrand.2010.jalc](References.ipynb#angrand.2010.jalc) defines the breaking derivation"
   ]
  },
  {
   "cell_type": "markdown",
   "metadata": {},
   "source": [
    "## Examples"
   ]
  },
  {
   "cell_type": "markdown",
   "metadata": {},
   "source": [
    "The following function will prove handy: it takes a rational expression and a list of strings, and returns a $\\LaTeX$ `aligned` environment to display nicely the result."
   ]
  },
  {
   "cell_type": "code",
   "execution_count": 1,
   "metadata": {
    "collapsed": false
   },
   "outputs": [
    {
     "name": "stderr",
     "output_type": "stream",
     "text": [
      ":0: FutureWarning: IPython widgets are experimental and may change in the future.\n"
     ]
    },
    {
     "data": {
      "application/javascript": [
       "IPython.load_extensions(\"AutomatonD3Widget\")"
      ],
      "text/plain": [
       "<IPython.core.display.Javascript object>"
      ]
     },
     "metadata": {},
     "output_type": "display_data"
    }
   ],
   "source": [
    "import vcsn\n",
    "from IPython.display import Latex\n",
    "\n",
    "def diffs(r, ss):\n",
    "    eqs = []\n",
    "    for s in ss:\n",
    "        eqs.append(r'\\frac{{\\partial}}{{\\partial {0}}} {1}& = {2}'\n",
    "                   .format(s,\n",
    "                           r.format('latex'),\n",
    "                           r.derivation(s).format('latex')))\n",
    "    return Latex(r'''\\begin{{aligned}}\n",
    "        {0}\n",
    "    \\end{{aligned}}'''.format(r'\\\\'.join(eqs)))"
   ]
  },
  {
   "cell_type": "markdown",
   "metadata": {},
   "source": [
    "### Classical expressions"
   ]
  },
  {
   "cell_type": "markdown",
   "metadata": {},
   "source": [
    "In the classical case (labels are letters, and weights are Boolean), this is the construct as described by Antimirov."
   ]
  },
  {
   "cell_type": "code",
   "execution_count": 2,
   "metadata": {
    "collapsed": false
   },
   "outputs": [
    {
     "data": {
      "text/latex": [
       "$\\left(a + b\\right) \\, \\left(a + b\\right)$"
      ],
      "text/plain": [
       "(a+b)(a+b)"
      ]
     },
     "execution_count": 2,
     "metadata": {},
     "output_type": "execute_result"
    }
   ],
   "source": [
    "b = vcsn.context('lal_char(ab), b')\n",
    "r = b.expression('[ab]{3}')\n",
    "r.derivation('a')"
   ]
  },
  {
   "cell_type": "markdown",
   "metadata": {},
   "source": [
    "Or, using the `diffs` function we defined above:"
   ]
  },
  {
   "cell_type": "code",
   "execution_count": 3,
   "metadata": {
    "collapsed": false
   },
   "outputs": [
    {
     "data": {
      "text/latex": [
       "\\begin{aligned}\n",
       "        \\frac{\\partial}{\\partial a} \\left(a + b\\right) \\, \\left(a + b\\right) \\, \\left(a + b\\right)& = \\left(a + b\\right) \\, \\left(a + b\\right)\\\\\\frac{\\partial}{\\partial aa} \\left(a + b\\right) \\, \\left(a + b\\right) \\, \\left(a + b\\right)& = a + b\\\\\\frac{\\partial}{\\partial aaa} \\left(a + b\\right) \\, \\left(a + b\\right) \\, \\left(a + b\\right)& = \\varepsilon\\\\\\frac{\\partial}{\\partial aaaa} \\left(a + b\\right) \\, \\left(a + b\\right) \\, \\left(a + b\\right)& = \\emptyset\n",
       "    \\end{aligned}"
      ],
      "text/plain": [
       "<IPython.core.display.Latex object>"
      ]
     },
     "execution_count": 3,
     "metadata": {},
     "output_type": "execute_result"
    }
   ],
   "source": [
    "diffs(r, ['a', 'aa', 'aaa', 'aaaa'])"
   ]
  },
  {
   "cell_type": "markdown",
   "metadata": {},
   "source": [
    "### Weighted Expressions"
   ]
  },
  {
   "cell_type": "markdown",
   "metadata": {},
   "source": [
    "Of course, expressions can be weighted."
   ]
  },
  {
   "cell_type": "code",
   "execution_count": 4,
   "metadata": {
    "collapsed": false
   },
   "outputs": [
    {
     "data": {
      "text/latex": [
       "\\begin{aligned}\n",
       "        \\frac{\\partial}{\\partial a} \\left( \\left\\langle \\frac{1}{6} \\right\\rangle \\,{a}^{*} +  \\left\\langle \\frac{1}{3} \\right\\rangle \\,{b}^{*}\\right)^{*}& = \\left\\langle \\frac{1}{3}\\right\\rangle {a}^{*} \\, \\left( \\left\\langle \\frac{1}{6} \\right\\rangle \\,{a}^{*} +  \\left\\langle \\frac{1}{3} \\right\\rangle \\,{b}^{*}\\right)^{*}\\\\\\frac{\\partial}{\\partial aa} \\left( \\left\\langle \\frac{1}{6} \\right\\rangle \\,{a}^{*} +  \\left\\langle \\frac{1}{3} \\right\\rangle \\,{b}^{*}\\right)^{*}& = \\left\\langle \\frac{4}{9}\\right\\rangle {a}^{*} \\, \\left( \\left\\langle \\frac{1}{6} \\right\\rangle \\,{a}^{*} +  \\left\\langle \\frac{1}{3} \\right\\rangle \\,{b}^{*}\\right)^{*}\\\\\\frac{\\partial}{\\partial ab} \\left( \\left\\langle \\frac{1}{6} \\right\\rangle \\,{a}^{*} +  \\left\\langle \\frac{1}{3} \\right\\rangle \\,{b}^{*}\\right)^{*}& = \\left\\langle \\frac{2}{9}\\right\\rangle {b}^{*} \\, \\left( \\left\\langle \\frac{1}{6} \\right\\rangle \\,{a}^{*} +  \\left\\langle \\frac{1}{3} \\right\\rangle \\,{b}^{*}\\right)^{*}\\\\\\frac{\\partial}{\\partial b} \\left( \\left\\langle \\frac{1}{6} \\right\\rangle \\,{a}^{*} +  \\left\\langle \\frac{1}{3} \\right\\rangle \\,{b}^{*}\\right)^{*}& = \\left\\langle \\frac{2}{3}\\right\\rangle {b}^{*} \\, \\left( \\left\\langle \\frac{1}{6} \\right\\rangle \\,{a}^{*} +  \\left\\langle \\frac{1}{3} \\right\\rangle \\,{b}^{*}\\right)^{*}\\\\\\frac{\\partial}{\\partial ba} \\left( \\left\\langle \\frac{1}{6} \\right\\rangle \\,{a}^{*} +  \\left\\langle \\frac{1}{3} \\right\\rangle \\,{b}^{*}\\right)^{*}& = \\left\\langle \\frac{2}{9}\\right\\rangle {a}^{*} \\, \\left( \\left\\langle \\frac{1}{6} \\right\\rangle \\,{a}^{*} +  \\left\\langle \\frac{1}{3} \\right\\rangle \\,{b}^{*}\\right)^{*}\\\\\\frac{\\partial}{\\partial bb} \\left( \\left\\langle \\frac{1}{6} \\right\\rangle \\,{a}^{*} +  \\left\\langle \\frac{1}{3} \\right\\rangle \\,{b}^{*}\\right)^{*}& = \\left\\langle \\frac{10}{9}\\right\\rangle {b}^{*} \\, \\left( \\left\\langle \\frac{1}{6} \\right\\rangle \\,{a}^{*} +  \\left\\langle \\frac{1}{3} \\right\\rangle \\,{b}^{*}\\right)^{*}\n",
       "    \\end{aligned}"
      ],
      "text/plain": [
       "<IPython.core.display.Latex object>"
      ]
     },
     "execution_count": 4,
     "metadata": {},
     "output_type": "execute_result"
    }
   ],
   "source": [
    "q = vcsn.context('lal_char(abc), q')\n",
    "r = q.expression('(<1/6>a*+<1/3>b*)*')\n",
    "diffs(r, ['a', 'aa', 'ab', 'b', 'ba', 'bb'])"
   ]
  },
  {
   "cell_type": "markdown",
   "metadata": {},
   "source": [
    "And this is tightly connected with the construction of the derived-term automaton."
   ]
  },
  {
   "cell_type": "code",
   "execution_count": 5,
   "metadata": {
    "collapsed": false
   },
   "outputs": [
    {
     "data": {
      "image/svg+xml": [
       "<?xml version=\"1.0\" encoding=\"UTF-8\" standalone=\"no\"?>\n",
       "<!DOCTYPE svg PUBLIC \"-//W3C//DTD SVG 1.1//EN\"\n",
       " \"http://www.w3.org/Graphics/SVG/1.1/DTD/svg11.dtd\">\n",
       "<!-- Generated by graphviz version 2.38.0 (20140413.2041)\n",
       " -->\n",
       "<!-- Title: %3 Pages: 1 -->\n",
       "<svg width=\"641pt\" height=\"130pt\"\n",
       " viewBox=\"0.00 0.00 641.00 129.58\" xmlns=\"http://www.w3.org/2000/svg\" xmlns:xlink=\"http://www.w3.org/1999/xlink\">\n",
       "<g id=\"graph0\" class=\"graph\" transform=\"scale(1 1) rotate(0) translate(4 121.04)\">\n",
       "<title>%3</title>\n",
       "<polygon fill=\"white\" stroke=\"none\" points=\"-4,8.5421 -4,-121.04 637,-121.04 637,8.5421 -4,8.5421\"/>\n",
       "<!-- I0 -->\n",
       "<g id=\"node1\" class=\"node\"><title>I0</title>\n",
       "<ellipse fill=\"black\" stroke=\"black\" cx=\"0\" cy=\"-48.042\" rx=\"0\" ry=\"0\"/>\n",
       "</g>\n",
       "<!-- 0 -->\n",
       "<g id=\"node5\" class=\"node\"><title>0</title>\n",
       "<path fill=\"#98f5ff\" stroke=\"black\" d=\"M149,-66.042C149,-66.042 49,-66.042 49,-66.042 43,-66.042 37,-60.042 37,-54.042 37,-54.042 37,-42.042 37,-42.042 37,-36.042 43,-30.042 49,-30.042 49,-30.042 149,-30.042 149,-30.042 155,-30.042 161,-36.042 161,-42.042 161,-42.042 161,-54.042 161,-54.042 161,-60.042 155,-66.042 149,-66.042\"/>\n",
       "<text text-anchor=\"middle\" x=\"99\" y=\"-44.342\" font-family=\"Times,serif\" font-size=\"14.00\">(⟨1/6⟩a*+⟨1/3⟩b*)*</text>\n",
       "</g>\n",
       "<!-- I0&#45;&gt;0 -->\n",
       "<g id=\"edge1\" class=\"edge\"><title>I0&#45;&gt;0</title>\n",
       "<path fill=\"none\" stroke=\"black\" d=\"M1.0703,-48.042C2.1136,-48.042 14.645,-48.042 30.371,-48.042\"/>\n",
       "<polygon fill=\"black\" stroke=\"black\" points=\"36.783,-48.042 30.783,-50.7421 33.783,-48.042 30.783,-48.0421 30.783,-48.0421 30.783,-48.0421 33.783,-48.042 30.783,-45.3421 36.783,-48.042 36.783,-48.042\"/>\n",
       "</g>\n",
       "<!-- F0 -->\n",
       "<g id=\"node2\" class=\"node\"><title>F0</title>\n",
       "<ellipse fill=\"black\" stroke=\"black\" cx=\"300.5\" cy=\"-117.04\" rx=\"0\" ry=\"0\"/>\n",
       "</g>\n",
       "<!-- F1 -->\n",
       "<g id=\"node3\" class=\"node\"><title>F1</title>\n",
       "<ellipse fill=\"black\" stroke=\"black\" cx=\"510\" cy=\"-96.042\" rx=\"0\" ry=\"0\"/>\n",
       "</g>\n",
       "<!-- F2 -->\n",
       "<g id=\"node4\" class=\"node\"><title>F2</title>\n",
       "<ellipse fill=\"black\" stroke=\"black\" cx=\"633\" cy=\"-20.042\" rx=\"0\" ry=\"0\"/>\n",
       "</g>\n",
       "<!-- 0&#45;&gt;F0 -->\n",
       "<g id=\"edge2\" class=\"edge\"><title>0&#45;&gt;F0</title>\n",
       "<path fill=\"none\" stroke=\"black\" d=\"M151.679,-66.0803C202.184,-83.3744 273.74,-107.877 294.588,-115.016\"/>\n",
       "<polygon fill=\"black\" stroke=\"black\" points=\"300.435,-117.018 293.884,-117.628 297.597,-116.046 294.759,-115.074 294.759,-115.074 294.759,-115.074 297.597,-116.046 295.633,-112.52 300.435,-117.018 300.435,-117.018\"/>\n",
       "<text text-anchor=\"middle\" x=\"214.133\" y=\"-94.348\" font-family=\"Times,serif\" font-size=\"14.00\">⟨2⟩</text>\n",
       "</g>\n",
       "<!-- 1 -->\n",
       "<g id=\"node6\" class=\"node\"><title>1</title>\n",
       "<path fill=\"#98f5ff\" stroke=\"black\" d=\"M357,-66.042C357,-66.042 244,-66.042 244,-66.042 238,-66.042 232,-60.042 232,-54.042 232,-54.042 232,-42.042 232,-42.042 232,-36.042 238,-30.042 244,-30.042 244,-30.042 357,-30.042 357,-30.042 363,-30.042 369,-36.042 369,-42.042 369,-42.042 369,-54.042 369,-54.042 369,-60.042 363,-66.042 357,-66.042\"/>\n",
       "<text text-anchor=\"middle\" x=\"300.5\" y=\"-44.342\" font-family=\"Times,serif\" font-size=\"14.00\">a*(⟨1/6⟩a*+⟨1/3⟩b*)*</text>\n",
       "</g>\n",
       "<!-- 0&#45;&gt;1 -->\n",
       "<g id=\"edge3\" class=\"edge\"><title>0&#45;&gt;1</title>\n",
       "<path fill=\"none\" stroke=\"black\" d=\"M161.21,-48.042C181.54,-48.042 204.39,-48.042 225.58,-48.042\"/>\n",
       "<polygon fill=\"black\" stroke=\"black\" points=\"231.8,-48.042 225.8,-50.7421 228.8,-48.042 225.8,-48.0421 225.8,-48.0421 225.8,-48.0421 228.8,-48.042 225.8,-45.3421 231.8,-48.042 231.8,-48.042\"/>\n",
       "<text text-anchor=\"middle\" x=\"196.5\" y=\"-51.842\" font-family=\"Times,serif\" font-size=\"14.00\">⟨1/3⟩a</text>\n",
       "</g>\n",
       "<!-- 2 -->\n",
       "<g id=\"node7\" class=\"node\"><title>2</title>\n",
       "<path fill=\"#98f5ff\" stroke=\"black\" d=\"M567,-38.042C567,-38.042 453,-38.042 453,-38.042 447,-38.042 441,-32.042 441,-26.042 441,-26.042 441,-14.042 441,-14.042 441,-8.042 447,-2.042 453,-2.042 453,-2.042 567,-2.042 567,-2.042 573,-2.042 579,-8.042 579,-14.042 579,-14.042 579,-26.042 579,-26.042 579,-32.042 573,-38.042 567,-38.042\"/>\n",
       "<text text-anchor=\"middle\" x=\"510\" y=\"-16.342\" font-family=\"Times,serif\" font-size=\"14.00\">b*(⟨1/6⟩a*+⟨1/3⟩b*)*</text>\n",
       "</g>\n",
       "<!-- 0&#45;&gt;2 -->\n",
       "<g id=\"edge4\" class=\"edge\"><title>0&#45;&gt;2</title>\n",
       "<path fill=\"none\" stroke=\"black\" d=\"M144.68,-30.037C169.87,-20.857 202.18,-10.673 232,-6.0424 300.17,4.5421 378.81,-1.1068 434.83,-8.1335\"/>\n",
       "<polygon fill=\"black\" stroke=\"black\" points=\"440.87,-8.9064 434.576,-10.8229 437.894,-8.52557 434.919,-8.14474 434.919,-8.14474 434.919,-8.14474 437.894,-8.52557 435.261,-5.46658 440.87,-8.9064 440.87,-8.9064\"/>\n",
       "<text text-anchor=\"middle\" x=\"300.5\" y=\"-9.842\" font-family=\"Times,serif\" font-size=\"14.00\">⟨2/3⟩b</text>\n",
       "</g>\n",
       "<!-- 1&#45;&gt;F1 -->\n",
       "<g id=\"edge5\" class=\"edge\"><title>1&#45;&gt;F1</title>\n",
       "<path fill=\"none\" stroke=\"black\" d=\"M369.098,-63.759C420.08,-75.4398 484.084,-90.1042 503.883,-94.6404\"/>\n",
       "<polygon fill=\"black\" stroke=\"black\" points=\"509.942,-96.0287 503.49,-97.3204 507.018,-95.3587 504.093,-94.6886 504.093,-94.6886 504.093,-94.6886 507.018,-95.3587 504.696,-92.0568 509.942,-96.0287 509.942,-96.0287\"/>\n",
       "<text text-anchor=\"middle\" x=\"427.49\" y=\"-82.9997\" font-family=\"Times,serif\" font-size=\"14.00\">⟨2⟩</text>\n",
       "</g>\n",
       "<!-- 1&#45;&gt;1 -->\n",
       "<g id=\"edge6\" class=\"edge\"><title>1&#45;&gt;1</title>\n",
       "<path fill=\"none\" stroke=\"black\" d=\"M281.69,-66.195C278.79,-75.581 285.06,-84.042 300.5,-84.042 312.32,-84.042 318.77,-79.083 319.84,-72.545\"/>\n",
       "<polygon fill=\"black\" stroke=\"black\" points=\"319.31,-66.195 322.5,-71.9496 319.56,-69.1846 319.809,-72.1742 319.809,-72.1742 319.809,-72.1742 319.56,-69.1846 317.118,-72.3988 319.31,-66.195 319.31,-66.195\"/>\n",
       "<text text-anchor=\"middle\" x=\"300.5\" y=\"-87.842\" font-family=\"Times,serif\" font-size=\"14.00\">⟨4/3⟩a</text>\n",
       "</g>\n",
       "<!-- 1&#45;&gt;2 -->\n",
       "<g id=\"edge7\" class=\"edge\"><title>1&#45;&gt;2</title>\n",
       "<path fill=\"none\" stroke=\"black\" d=\"M369.1,-42.401C386.69,-40.65 405.58,-38.518 423,-36.042 426.75,-35.509 430.58,-34.928 434.45,-34.314\"/>\n",
       "<polygon fill=\"black\" stroke=\"black\" points=\"440.55,-33.323 435.061,-36.9503 437.589,-33.8041 434.628,-34.2852 434.628,-34.2852 434.628,-34.2852 437.589,-33.8041 434.195,-31.6202 440.55,-33.323 440.55,-33.323\"/>\n",
       "<text text-anchor=\"middle\" x=\"405\" y=\"-43.842\" font-family=\"Times,serif\" font-size=\"14.00\">⟨2/3⟩b</text>\n",
       "</g>\n",
       "<!-- 2&#45;&gt;F2 -->\n",
       "<g id=\"edge8\" class=\"edge\"><title>2&#45;&gt;F2</title>\n",
       "<path fill=\"none\" stroke=\"black\" d=\"M579.05,-20.042C598.785,-20.042 617.466,-20.042 626.8,-20.042\"/>\n",
       "<polygon fill=\"black\" stroke=\"black\" points=\"632.925,-20.042 626.925,-22.7421 629.925,-20.042 626.925,-20.0421 626.925,-20.0421 626.925,-20.0421 629.925,-20.042 626.925,-17.3421 632.925,-20.042 632.925,-20.042\"/>\n",
       "<text text-anchor=\"middle\" x=\"593.925\" y=\"-23.842\" font-family=\"Times,serif\" font-size=\"14.00\">⟨2⟩</text>\n",
       "</g>\n",
       "<!-- 2&#45;&gt;1 -->\n",
       "<g id=\"edge9\" class=\"edge\"><title>2&#45;&gt;1</title>\n",
       "<path fill=\"none\" stroke=\"black\" d=\"M440.89,-13.615C423.23,-13.245 404.32,-13.999 387,-17.042 374.17,-19.296 360.73,-23.317 348.41,-27.732\"/>\n",
       "<polygon fill=\"black\" stroke=\"black\" points=\"342.45,-29.925 347.149,-25.3191 345.265,-28.889 348.081,-27.853 348.081,-27.853 348.081,-27.853 345.265,-28.889 349.013,-30.3869 342.45,-29.925 342.45,-29.925\"/>\n",
       "<text text-anchor=\"middle\" x=\"405\" y=\"-20.842\" font-family=\"Times,serif\" font-size=\"14.00\">⟨1/3⟩a</text>\n",
       "</g>\n",
       "<!-- 2&#45;&gt;2 -->\n",
       "<g id=\"edge10\" class=\"edge\"><title>2&#45;&gt;2</title>\n",
       "<path fill=\"none\" stroke=\"black\" d=\"M492.63,-38.195C489.96,-47.581 495.75,-56.042 510,-56.042 520.91,-56.042 526.86,-51.083 527.85,-44.545\"/>\n",
       "<polygon fill=\"black\" stroke=\"black\" points=\"527.37,-38.195 530.515,-43.9744 527.596,-41.1865 527.822,-44.1779 527.822,-44.1779 527.822,-44.1779 527.596,-41.1865 525.13,-44.3815 527.37,-38.195 527.37,-38.195\"/>\n",
       "<text text-anchor=\"middle\" x=\"510\" y=\"-59.842\" font-family=\"Times,serif\" font-size=\"14.00\">⟨5/3⟩b</text>\n",
       "</g>\n",
       "</g>\n",
       "</svg>\n"
      ],
      "text/plain": [
       "expression_automaton<mutable_automaton<letterset<char_letters(abc)>, q>>"
      ]
     },
     "execution_count": 5,
     "metadata": {},
     "output_type": "execute_result"
    }
   ],
   "source": [
    "r.derived_term()"
   ]
  },
  {
   "cell_type": "markdown",
   "metadata": {},
   "source": [
    "### Breaking derivation"
   ]
  },
  {
   "cell_type": "markdown",
   "metadata": {},
   "source": [
    "The \"breaking\" derivation \"splits\" the polynomial at the end."
   ]
  },
  {
   "cell_type": "code",
   "execution_count": 6,
   "metadata": {
    "collapsed": false
   },
   "outputs": [
    {
     "data": {
      "text/latex": [
       "$ \\left\\langle 2 \\right\\rangle \\,\\left(a + b\\right)$"
      ],
      "text/plain": [
       "<2>(a+b)"
      ]
     },
     "execution_count": 6,
     "metadata": {},
     "output_type": "execute_result"
    }
   ],
   "source": [
    "r = q.expression('[ab](<2>[ab])')\n",
    "r.derivation('a')"
   ]
  },
  {
   "cell_type": "code",
   "execution_count": 7,
   "metadata": {
    "collapsed": false
   },
   "outputs": [
    {
     "data": {
      "text/latex": [
       "$\\left\\langle 2\\right\\rangle a \\oplus \\left\\langle 2\\right\\rangle b$"
      ],
      "text/plain": [
       "<2>a + <2>b"
      ]
     },
     "execution_count": 7,
     "metadata": {},
     "output_type": "execute_result"
    }
   ],
   "source": [
    "r.derivation('a', True)"
   ]
  },
  {
   "cell_type": "code",
   "execution_count": 8,
   "metadata": {
    "collapsed": false
   },
   "outputs": [
    {
     "data": {
      "text/latex": [
       "$\\left\\langle 2\\right\\rangle a \\oplus \\left\\langle 2\\right\\rangle b$"
      ],
      "text/plain": [
       "<2>a + <2>b"
      ]
     },
     "execution_count": 8,
     "metadata": {},
     "output_type": "execute_result"
    }
   ],
   "source": [
    "r.derivation('a').split()"
   ]
  },
  {
   "cell_type": "markdown",
   "metadata": {},
   "source": [
    "Again, this is tightly connected with both flavors of the derived-term automaton."
   ]
  },
  {
   "cell_type": "code",
   "execution_count": 9,
   "metadata": {
    "collapsed": false
   },
   "outputs": [
    {
     "data": {
      "image/svg+xml": [
       "<?xml version=\"1.0\" encoding=\"UTF-8\" standalone=\"no\"?>\n",
       "<!DOCTYPE svg PUBLIC \"-//W3C//DTD SVG 1.1//EN\"\n",
       " \"http://www.w3.org/Graphics/SVG/1.1/DTD/svg11.dtd\">\n",
       "<!-- Generated by graphviz version 2.38.0 (20140413.2041)\n",
       " -->\n",
       "<!-- Title: %3 Pages: 1 -->\n",
       "<svg width=\"425pt\" height=\"44pt\"\n",
       " viewBox=\"0.00 0.00 425.00 44.00\" xmlns=\"http://www.w3.org/2000/svg\" xmlns:xlink=\"http://www.w3.org/1999/xlink\">\n",
       "<g id=\"graph0\" class=\"graph\" transform=\"scale(1 1) rotate(0) translate(4 40)\">\n",
       "<title>%3</title>\n",
       "<polygon fill=\"white\" stroke=\"none\" points=\"-4,4 -4,-40 421,-40 421,4 -4,4\"/>\n",
       "<!-- I0 -->\n",
       "<g id=\"node1\" class=\"node\"><title>I0</title>\n",
       "<ellipse fill=\"black\" stroke=\"black\" cx=\"0\" cy=\"-18\" rx=\"0\" ry=\"0\"/>\n",
       "</g>\n",
       "<!-- 0 -->\n",
       "<g id=\"node3\" class=\"node\"><title>0</title>\n",
       "<path fill=\"#98f5ff\" stroke=\"black\" d=\"M120,-36C120,-36 49,-36 49,-36 43,-36 37,-30 37,-24 37,-24 37,-12 37,-12 37,-6 43,-0 49,-0 49,-0 120,-0 120,-0 126,-0 132,-6 132,-12 132,-12 132,-24 132,-24 132,-30 126,-36 120,-36\"/>\n",
       "<text text-anchor=\"middle\" x=\"84.5\" y=\"-14.3\" font-family=\"Times,serif\" font-size=\"14.00\">(a+b)⟨2⟩(a+b)</text>\n",
       "</g>\n",
       "<!-- I0&#45;&gt;0 -->\n",
       "<g id=\"edge1\" class=\"edge\"><title>I0&#45;&gt;0</title>\n",
       "<path fill=\"none\" stroke=\"black\" d=\"M1.0598,-18C2.0419,-18 14.993,-18 30.35,-18\"/>\n",
       "<polygon fill=\"black\" stroke=\"black\" points=\"36.571,-18 30.571,-20.7001 33.571,-18 30.571,-18.0001 30.571,-18.0001 30.571,-18.0001 33.571,-18 30.571,-15.3001 36.571,-18 36.571,-18\"/>\n",
       "</g>\n",
       "<!-- F2 -->\n",
       "<g id=\"node2\" class=\"node\"><title>F2</title>\n",
       "<ellipse fill=\"black\" stroke=\"black\" cx=\"417\" cy=\"-18\" rx=\"0\" ry=\"0\"/>\n",
       "</g>\n",
       "<!-- 1 -->\n",
       "<g id=\"node4\" class=\"node\"><title>1</title>\n",
       "<path fill=\"#98f5ff\" stroke=\"black\" d=\"M241,-36C241,-36 201,-36 201,-36 195,-36 189,-30 189,-24 189,-24 189,-12 189,-12 189,-6 195,-0 201,-0 201,-0 241,-0 241,-0 247,-0 253,-6 253,-12 253,-12 253,-24 253,-24 253,-30 247,-36 241,-36\"/>\n",
       "<text text-anchor=\"middle\" x=\"221\" y=\"-14.3\" font-family=\"Times,serif\" font-size=\"14.00\">⟨2⟩(a+b)</text>\n",
       "</g>\n",
       "<!-- 0&#45;&gt;1 -->\n",
       "<g id=\"edge2\" class=\"edge\"><title>0&#45;&gt;1</title>\n",
       "<path fill=\"none\" stroke=\"black\" d=\"M132.16,-18C148.64,-18 166.94,-18 182.56,-18\"/>\n",
       "<polygon fill=\"black\" stroke=\"black\" points=\"188.62,-18 182.62,-20.7001 185.62,-18 182.62,-18.0001 182.62,-18.0001 182.62,-18.0001 185.62,-18 182.62,-15.3001 188.62,-18 188.62,-18\"/>\n",
       "<text text-anchor=\"middle\" x=\"160.5\" y=\"-21.8\" font-family=\"Times,serif\" font-size=\"14.00\">a, b</text>\n",
       "</g>\n",
       "<!-- 2 -->\n",
       "<g id=\"node5\" class=\"node\"><title>2</title>\n",
       "<path fill=\"#98f5ff\" stroke=\"black\" d=\"M368,-36C368,-36 356,-36 356,-36 350,-36 344,-30 344,-24 344,-24 344,-12 344,-12 344,-6 350,-0 356,-0 356,-0 368,-0 368,-0 374,-0 380,-6 380,-12 380,-12 380,-24 380,-24 380,-30 374,-36 368,-36\"/>\n",
       "<text text-anchor=\"middle\" x=\"362\" y=\"-14.3\" font-family=\"Times,serif\" font-size=\"14.00\">ε</text>\n",
       "</g>\n",
       "<!-- 1&#45;&gt;2 -->\n",
       "<g id=\"edge3\" class=\"edge\"><title>1&#45;&gt;2</title>\n",
       "<path fill=\"none\" stroke=\"black\" d=\"M253.19,-18C278.8,-18 314.5,-18 337.68,-18\"/>\n",
       "<polygon fill=\"black\" stroke=\"black\" points=\"343.87,-18 337.87,-20.7001 340.87,-18 337.87,-18.0001 337.87,-18.0001 337.87,-18.0001 340.87,-18 337.87,-15.3001 343.87,-18 343.87,-18\"/>\n",
       "<text text-anchor=\"middle\" x=\"298.5\" y=\"-21.8\" font-family=\"Times,serif\" font-size=\"14.00\">⟨2⟩a, ⟨2⟩b</text>\n",
       "</g>\n",
       "<!-- 2&#45;&gt;F2 -->\n",
       "<g id=\"edge4\" class=\"edge\"><title>2&#45;&gt;F2</title>\n",
       "<path fill=\"none\" stroke=\"black\" d=\"M380.009,-18C390.571,-18 403.261,-18 410.698,-18\"/>\n",
       "<polygon fill=\"black\" stroke=\"black\" points=\"416.939,-18 410.939,-20.7001 413.939,-18 410.939,-18.0001 410.939,-18.0001 410.939,-18.0001 413.939,-18 410.939,-15.3001 416.939,-18 416.939,-18\"/>\n",
       "</g>\n",
       "</g>\n",
       "</svg>\n"
      ],
      "text/plain": [
       "expression_automaton<mutable_automaton<letterset<char_letters(abc)>, q>>"
      ]
     },
     "execution_count": 9,
     "metadata": {},
     "output_type": "execute_result"
    }
   ],
   "source": [
    "r.derived_term()"
   ]
  },
  {
   "cell_type": "code",
   "execution_count": 10,
   "metadata": {
    "collapsed": false
   },
   "outputs": [
    {
     "data": {
      "image/svg+xml": [
       "<?xml version=\"1.0\" encoding=\"UTF-8\" standalone=\"no\"?>\n",
       "<!DOCTYPE svg PUBLIC \"-//W3C//DTD SVG 1.1//EN\"\n",
       " \"http://www.w3.org/Graphics/SVG/1.1/DTD/svg11.dtd\">\n",
       "<!-- Generated by graphviz version 2.38.0 (20140413.2041)\n",
       " -->\n",
       "<!-- Title: %3 Pages: 1 -->\n",
       "<svg width=\"330pt\" height=\"121pt\"\n",
       " viewBox=\"0.00 0.00 330.00 120.52\" xmlns=\"http://www.w3.org/2000/svg\" xmlns:xlink=\"http://www.w3.org/1999/xlink\">\n",
       "<g id=\"graph0\" class=\"graph\" transform=\"scale(1 1) rotate(0) translate(4 113.72)\">\n",
       "<title>%3</title>\n",
       "<polygon fill=\"white\" stroke=\"none\" points=\"-4,6.7992 -4,-113.72 326,-113.72 326,6.7992 -4,6.7992\"/>\n",
       "<!-- I0 -->\n",
       "<g id=\"node1\" class=\"node\"><title>I0</title>\n",
       "<ellipse fill=\"black\" stroke=\"black\" cx=\"0\" cy=\"-90.721\" rx=\"0\" ry=\"0\"/>\n",
       "</g>\n",
       "<!-- 0 -->\n",
       "<g id=\"node4\" class=\"node\"><title>0</title>\n",
       "<path fill=\"#98f5ff\" stroke=\"black\" d=\"M95.5,-108.721C95.5,-108.721 49.5,-108.721 49.5,-108.721 43.5,-108.721 37.5,-102.721 37.5,-96.721 37.5,-96.721 37.5,-84.721 37.5,-84.721 37.5,-78.721 43.5,-72.721 49.5,-72.721 49.5,-72.721 95.5,-72.721 95.5,-72.721 101.5,-72.721 107.5,-78.721 107.5,-84.721 107.5,-84.721 107.5,-96.721 107.5,-96.721 107.5,-102.721 101.5,-108.721 95.5,-108.721\"/>\n",
       "<text text-anchor=\"middle\" x=\"72.5\" y=\"-87.021\" font-family=\"Times,serif\" font-size=\"14.00\">a⟨2⟩(a+b)</text>\n",
       "</g>\n",
       "<!-- I0&#45;&gt;0 -->\n",
       "<g id=\"edge1\" class=\"edge\"><title>I0&#45;&gt;0</title>\n",
       "<path fill=\"none\" stroke=\"black\" d=\"M1.0511,-90.721C2.0008,-90.721 16.047,-90.721 31.35,-90.721\"/>\n",
       "<polygon fill=\"black\" stroke=\"black\" points=\"37.483,-90.721 31.483,-93.4211 34.483,-90.721 31.483,-90.7211 31.483,-90.7211 31.483,-90.7211 34.483,-90.721 31.483,-88.0211 37.483,-90.721 37.483,-90.721\"/>\n",
       "</g>\n",
       "<!-- I1 -->\n",
       "<g id=\"node2\" class=\"node\"><title>I1</title>\n",
       "<ellipse fill=\"black\" stroke=\"black\" cx=\"0\" cy=\"-25.721\" rx=\"0\" ry=\"0\"/>\n",
       "</g>\n",
       "<!-- 1 -->\n",
       "<g id=\"node5\" class=\"node\"><title>1</title>\n",
       "<path fill=\"#98f5ff\" stroke=\"black\" d=\"M96,-43.721C96,-43.721 49,-43.721 49,-43.721 43,-43.721 37,-37.721 37,-31.721 37,-31.721 37,-19.721 37,-19.721 37,-13.721 43,-7.721 49,-7.721 49,-7.721 96,-7.721 96,-7.721 102,-7.721 108,-13.721 108,-19.721 108,-19.721 108,-31.721 108,-31.721 108,-37.721 102,-43.721 96,-43.721\"/>\n",
       "<text text-anchor=\"middle\" x=\"72.5\" y=\"-22.021\" font-family=\"Times,serif\" font-size=\"14.00\">b⟨2⟩(a+b)</text>\n",
       "</g>\n",
       "<!-- I1&#45;&gt;1 -->\n",
       "<g id=\"edge2\" class=\"edge\"><title>I1&#45;&gt;1</title>\n",
       "<path fill=\"none\" stroke=\"black\" d=\"M1.0511,-25.721C1.9861,-25.721 15.615,-25.721 30.639,-25.721\"/>\n",
       "<polygon fill=\"black\" stroke=\"black\" points=\"36.67,-25.721 30.67,-28.4211 33.67,-25.721 30.67,-25.7211 30.67,-25.7211 30.67,-25.7211 33.67,-25.721 30.67,-23.0211 36.67,-25.721 36.67,-25.721\"/>\n",
       "</g>\n",
       "<!-- F4 -->\n",
       "<g id=\"node3\" class=\"node\"><title>F4</title>\n",
       "<ellipse fill=\"black\" stroke=\"black\" cx=\"322\" cy=\"-60.721\" rx=\"0\" ry=\"0\"/>\n",
       "</g>\n",
       "<!-- 2 -->\n",
       "<g id=\"node6\" class=\"node\"><title>2</title>\n",
       "<path fill=\"#98f5ff\" stroke=\"black\" d=\"M193,-103.721C193,-103.721 181,-103.721 181,-103.721 175,-103.721 169,-97.721 169,-91.721 169,-91.721 169,-79.721 169,-79.721 169,-73.721 175,-67.721 181,-67.721 181,-67.721 193,-67.721 193,-67.721 199,-67.721 205,-73.721 205,-79.721 205,-79.721 205,-91.721 205,-91.721 205,-97.721 199,-103.721 193,-103.721\"/>\n",
       "<text text-anchor=\"middle\" x=\"187\" y=\"-82.021\" font-family=\"Times,serif\" font-size=\"14.00\">a</text>\n",
       "</g>\n",
       "<!-- 0&#45;&gt;2 -->\n",
       "<g id=\"edge3\" class=\"edge\"><title>0&#45;&gt;2</title>\n",
       "<path fill=\"none\" stroke=\"black\" d=\"M107.53,-94.253C121.09,-95.082 136.82,-95.322 151,-93.721 154.82,-93.29 158.83,-92.603 162.72,-91.807\"/>\n",
       "<polygon fill=\"black\" stroke=\"black\" points=\"168.69,-90.489 163.413,-94.4191 165.761,-91.1358 162.831,-91.7826 162.831,-91.7826 162.831,-91.7826 165.761,-91.1358 162.249,-89.146 168.69,-90.489 168.69,-90.489\"/>\n",
       "<text text-anchor=\"middle\" x=\"138.5\" y=\"-98.52\" font-family=\"Times,serif\" font-size=\"14.00\">⟨2⟩a</text>\n",
       "</g>\n",
       "<!-- 3 -->\n",
       "<g id=\"node7\" class=\"node\"><title>3</title>\n",
       "<path fill=\"#98f5ff\" stroke=\"black\" d=\"M193,-49.721C193,-49.721 181,-49.721 181,-49.721 175,-49.721 169,-43.721 169,-37.721 169,-37.721 169,-25.721 169,-25.721 169,-19.721 175,-13.721 181,-13.721 181,-13.721 193,-13.721 193,-13.721 199,-13.721 205,-19.721 205,-25.721 205,-25.721 205,-37.721 205,-37.721 205,-43.721 199,-49.721 193,-49.721\"/>\n",
       "<text text-anchor=\"middle\" x=\"187\" y=\"-28.021\" font-family=\"Times,serif\" font-size=\"14.00\">b</text>\n",
       "</g>\n",
       "<!-- 0&#45;&gt;3 -->\n",
       "<g id=\"edge4\" class=\"edge\"><title>0&#45;&gt;3</title>\n",
       "<path fill=\"none\" stroke=\"black\" d=\"M107.71,-76.828C121.44,-70.855 137.23,-63.469 151,-55.721 155.24,-53.333 159.63,-50.578 163.8,-47.805\"/>\n",
       "<polygon fill=\"black\" stroke=\"black\" points=\"168.94,-44.309 165.497,-49.916 166.459,-45.9962 163.979,-47.6834 163.979,-47.6834 163.979,-47.6834 166.459,-45.9962 162.46,-45.4509 168.94,-44.309 168.94,-44.309\"/>\n",
       "<text text-anchor=\"middle\" x=\"138.5\" y=\"-71.521\" font-family=\"Times,serif\" font-size=\"14.00\">⟨2⟩a</text>\n",
       "</g>\n",
       "<!-- 1&#45;&gt;2 -->\n",
       "<g id=\"edge5\" class=\"edge\"><title>1&#45;&gt;2</title>\n",
       "<path fill=\"none\" stroke=\"black\" d=\"M108.29,-24.831C122.41,-25.897 138.34,-29.033 151,-36.721 153.87,-38.466 162.69,-50.828 170.76,-62.697\"/>\n",
       "<polygon fill=\"black\" stroke=\"black\" points=\"174.15,-67.721 168.556,-64.2576 172.472,-65.2342 170.794,-62.7473 170.794,-62.7473 170.794,-62.7473 172.472,-65.2342 173.032,-61.2371 174.15,-67.721 174.15,-67.721\"/>\n",
       "<text text-anchor=\"middle\" x=\"138.5\" y=\"-40.521\" font-family=\"Times,serif\" font-size=\"14.00\">⟨2⟩b</text>\n",
       "</g>\n",
       "<!-- 1&#45;&gt;3 -->\n",
       "<g id=\"edge6\" class=\"edge\"><title>1&#45;&gt;3</title>\n",
       "<path fill=\"none\" stroke=\"black\" d=\"M103.94,-7.6558C118.34,-1.4056 135.68,2.7992 151,-2.7215 155.59,-4.3772 160.01,-6.9267 164.07,-9.8412\"/>\n",
       "<polygon fill=\"black\" stroke=\"black\" points=\"169,-13.688 162.609,-12.1256 166.635,-11.8425 164.27,-9.99694 164.27,-9.99694 164.27,-9.99694 166.635,-11.8425 165.931,-7.86826 169,-13.688 169,-13.688\"/>\n",
       "<text text-anchor=\"middle\" x=\"138.5\" y=\"-6.521\" font-family=\"Times,serif\" font-size=\"14.00\">⟨2⟩b</text>\n",
       "</g>\n",
       "<!-- 4 -->\n",
       "<g id=\"node8\" class=\"node\"><title>4</title>\n",
       "<path fill=\"#98f5ff\" stroke=\"black\" d=\"M273,-78.721C273,-78.721 261,-78.721 261,-78.721 255,-78.721 249,-72.721 249,-66.721 249,-66.721 249,-54.721 249,-54.721 249,-48.721 255,-42.721 261,-42.721 261,-42.721 273,-42.721 273,-42.721 279,-42.721 285,-48.721 285,-54.721 285,-54.721 285,-66.721 285,-66.721 285,-72.721 279,-78.721 273,-78.721\"/>\n",
       "<text text-anchor=\"middle\" x=\"267\" y=\"-57.021\" font-family=\"Times,serif\" font-size=\"14.00\">ε</text>\n",
       "</g>\n",
       "<!-- 2&#45;&gt;4 -->\n",
       "<g id=\"edge7\" class=\"edge\"><title>2&#45;&gt;4</title>\n",
       "<path fill=\"none\" stroke=\"black\" d=\"M205.31,-80.173C216.32,-76.645 230.71,-72.034 242.71,-68.187\"/>\n",
       "<polygon fill=\"black\" stroke=\"black\" points=\"248.74,-66.254 243.851,-70.6568 245.883,-67.1698 243.026,-68.0856 243.026,-68.0856 243.026,-68.0856 245.883,-67.1698 242.202,-65.5145 248.74,-66.254 248.74,-66.254\"/>\n",
       "<text text-anchor=\"middle\" x=\"227\" y=\"-77.521\" font-family=\"Times,serif\" font-size=\"14.00\">a</text>\n",
       "</g>\n",
       "<!-- 3&#45;&gt;4 -->\n",
       "<g id=\"edge8\" class=\"edge\"><title>3&#45;&gt;4</title>\n",
       "<path fill=\"none\" stroke=\"black\" d=\"M205.31,-38.158C216.42,-42.288 230.97,-47.697 243.04,-52.184\"/>\n",
       "<polygon fill=\"black\" stroke=\"black\" points=\"248.74,-54.303 242.175,-54.743 245.928,-53.2576 243.116,-52.2122 243.116,-52.2122 243.116,-52.2122 245.928,-53.2576 244.057,-49.6814 248.74,-54.303 248.74,-54.303\"/>\n",
       "<text text-anchor=\"middle\" x=\"227\" y=\"-50.521\" font-family=\"Times,serif\" font-size=\"14.00\">b</text>\n",
       "</g>\n",
       "<!-- 4&#45;&gt;F4 -->\n",
       "<g id=\"edge9\" class=\"edge\"><title>4&#45;&gt;F4</title>\n",
       "<path fill=\"none\" stroke=\"black\" d=\"M285.009,-60.721C295.571,-60.721 308.261,-60.721 315.698,-60.721\"/>\n",
       "<polygon fill=\"black\" stroke=\"black\" points=\"321.939,-60.721 315.939,-63.4211 318.939,-60.721 315.939,-60.7211 315.939,-60.7211 315.939,-60.7211 318.939,-60.721 315.939,-58.0211 321.939,-60.721 321.939,-60.721\"/>\n",
       "</g>\n",
       "</g>\n",
       "</svg>\n"
      ],
      "text/plain": [
       "expression_automaton<mutable_automaton<letterset<char_letters(abc)>, q>>"
      ]
     },
     "execution_count": 10,
     "metadata": {},
     "output_type": "execute_result"
    }
   ],
   "source": [
    "r.derived_term('breaking_derivation')"
   ]
  }
 ],
 "metadata": {},
 "nbformat": 4,
 "nbformat_minor": 0
}