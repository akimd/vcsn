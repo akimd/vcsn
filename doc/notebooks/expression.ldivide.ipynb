{
 "cells": [
  {
   "cell_type": "markdown",
   "metadata": {},
   "source": [
    "# _`expression`_`.ldivide(`_`exp`_`)`\n",
    "# _`exp`_`//`_`expression`_\n",
    "\n",
    "\n",
    "An expression which denotes the left-quotient of both expressions.  Beware that the notation `lhs // rhs` is somewhat misleading, and corresponds to `lhs \\ rhs`, i.e. `lhs` is the divisor, and `rhs` the dividend.\n",
    "\n",
    "Preconditions:\n",
    "- the division is valid\n",
    "\n",
    "See also:\n",
    "- [automaton.ldivide](automaton.ldivide.ipynb)\n",
    "- [expression.rdivide](expression.rdivide.ipynb)\n",
    "- [polynomial.ldivide](polynomial.ldivide.ipynb)"
   ]
  },
  {
   "cell_type": "markdown",
   "metadata": {},
   "source": [
    "## Examples"
   ]
  },
  {
   "cell_type": "code",
   "execution_count": 1,
   "metadata": {
    "collapsed": false
   },
   "outputs": [
    {
     "data": {
      "text/latex": [
       "$a \\, b \\backslash a \\, b \\, c$"
      ],
      "text/plain": [
       "ab{\\}abc"
      ]
     },
     "execution_count": 1,
     "metadata": {},
     "output_type": "execute_result"
    }
   ],
   "source": [
    "import vcsn\n",
    "ctx = vcsn.context('lal, q')\n",
    "exp = lambda p: ctx.expression(p)\n",
    "exp('ab') // exp('abc')"
   ]
  },
  {
   "cell_type": "code",
   "execution_count": 2,
   "metadata": {
    "collapsed": false
   },
   "outputs": [
    {
     "data": {
      "text/latex": [
       "$\\left(a + b\\right) \\backslash \\left(a \\, a + a \\, b + b \\, a + b \\, b\\right)$"
      ],
      "text/plain": [
       "(a+b){\\}(aa+ab+ba+bb)"
      ]
     },
     "execution_count": 2,
     "metadata": {},
     "output_type": "execute_result"
    }
   ],
   "source": [
    "exp('a+b') // exp('aa+ab+ba+bb')"
   ]
  },
  {
   "cell_type": "code",
   "execution_count": 3,
   "metadata": {
    "collapsed": false
   },
   "outputs": [
    {
     "data": {
      "text/latex": [
       "$ \\left\\langle 2 \\right\\rangle \\,\\varepsilon \\backslash \\left(a +  \\left\\langle 2 \\right\\rangle \\,b\\right)$"
      ],
      "text/plain": [
       "<2>\\e{\\}(a+<2>b)"
      ]
     },
     "execution_count": 3,
     "metadata": {},
     "output_type": "execute_result"
    }
   ],
   "source": [
    "exp('<2>\\e') // exp('a+<2>b')"
   ]
  }
 ],
 "metadata": {
  "kernelspec": {
   "display_name": "Python 3",
   "language": "python",
   "name": "python3"
  },
  "language_info": {
   "codemirror_mode": {
    "name": "ipython",
    "version": 3
   },
   "file_extension": ".py",
   "mimetype": "text/x-python",
   "name": "python",
   "nbconvert_exporter": "python",
   "pygments_lexer": "ipython3",
   "version": "3.5.2"
  }
 },
 "nbformat": 4,
 "nbformat_minor": 0
}
