{
 "cells": [
  {
   "cell_type": "markdown",
   "metadata": {},
   "source": [
    "# _`expression`_.`constant_term()`\n",
    "\n",
    "Compute the \"constant term\" of an expression, i.e., the weight associated with the empty word.\n",
    "\n",
    "Preconditions:\n",
    "- The expression is valid\n",
    "\n",
    "Algorithm:\n",
    "- Based on a simple bottom-up traversal of the tree of the expression:\n",
    "$$\n",
    "\\newcommand{\\eword}{\\varepsilon}\n",
    "\\newcommand{\\lweight}[2]{\\bra{#1}{#2}}\n",
    "\\newcommand{\\rweight}[2]{#1\\bra{#2}}\n",
    "\\newcommand{\\lmulq}[2]{\\bra{#1}^?{#2}}\n",
    "\\newcommand{\\rmulq}[2]{#1\\bra{#2}^?}\n",
    "\\newcommand{\\bra}[1]{\\langle#1\\rangle}\n",
    "\\newcommand{\\K}{\\mathbb{K}}\n",
    "\\newcommand{\\zed}{\\mathsf{0}}\n",
    "\\newcommand{\\und}{\\mathsf{1}}\n",
    "\\newcommand{\\zeK}{0_{\\K}}\n",
    "\\newcommand{\\unK}{1_{\\K}}\n",
    "\\newcommand{\\Ed}{\\mathsf{E}}\n",
    "\\newcommand{\\Fd}{\\mathsf{F}}\n",
    "\\newcommand{\\Gd}{\\mathsf{G}}\n",
    "\\newcommand{\\AND}{\\mathbin{\\&}}\n",
    "\\newcommand{\\infiltrate}{\\mathbin{\\uparrow}}\n",
    "\\newcommand{\\shuffle}{\\mathbin{\\between}}\n",
    "\\newcommand{\\coloneqq}{:=}\n",
    "\\begin{align}\n",
    "  c(\\zed)                & \\coloneqq \\bra{\\zeK}                  \\\\\n",
    "  c(\\und)                & \\coloneqq \\bra{\\unK}                  \\\\\n",
    "  c(a)                   & \\coloneqq \\bra{\\zeK}, \\forall a \\in A \\\\\n",
    "  c(\\Ed+\\Fd)             & \\coloneqq c(\\Ed) + c(\\Fd)             \\\\\n",
    "  c(\\lweight{k}{\\Ed})    & \\coloneqq \\lweight{k}{c(\\Ed)}         \\\\\n",
    "  c(\\rweight{\\Ed}{k})    & \\coloneqq \\rweight{c(\\Ed)}{k}         \\\\\n",
    "  c(\\Ed \\cdot \\Fd)       & \\coloneqq c(\\Ed) \\cdot c(\\Fd)         \\\\\n",
    "  c(\\Ed^*)               & \\coloneqq c(\\Ed)^*                    \\\\\n",
    "  c(\\Ed \\AND \\Fd)        & \\coloneqq c(\\Ed) \\cdot c(\\Fd)         \\\\\n",
    "  c(\\Ed \\shuffle \\Fd)    & \\coloneqq c(\\Ed) \\cdot c(\\Fd)         \\\\\n",
    "  c(\\Ed \\infiltrate \\Fd) & \\coloneqq c(\\Ed) \\cdot c(\\Fd)         \\\\\n",
    "  c(\\Ed^c)               & \\coloneqq c(\\Ed)^c\n",
    "\\end{align}\n",
    "$$\n",
    "\n",
    "See also:\n",
    "- [_expression_.derivation](expression.derivation.ipynb)\n",
    "- [_expression_.derived_term](expression.derived_term.ipynb)\n",
    "- [_expression_.expansion](expression.expansion.ipynb)"
   ]
  },
  {
   "cell_type": "markdown",
   "metadata": {},
   "source": [
    "## Examples"
   ]
  },
  {
   "cell_type": "markdown",
   "metadata": {},
   "source": [
    "The following function allows to display nicely expressions and their constant term."
   ]
  },
  {
   "cell_type": "code",
   "execution_count": 1,
   "metadata": {
    "collapsed": false
   },
   "outputs": [],
   "source": [
    "import vcsn\n",
    "from IPython.display import Latex\n",
    "\n",
    "def c(*es):\n",
    "    eqs = []\n",
    "    for e in es:\n",
    "        e = vcsn.Q.expression(e)\n",
    "        eqs.append(r'{e:x} &\\Rightarrow {c:x}'\n",
    "                   .format(e=e, c=e.constant_term()))\n",
    "    return Latex(r'''\\begin{{aligned}}\n",
    "        {eqs}\n",
    "\\end{{aligned}}'''.format(eqs=r'\\\\'.join(eqs)))"
   ]
  },
  {
   "cell_type": "code",
   "execution_count": 2,
   "metadata": {
    "collapsed": false
   },
   "outputs": [
    {
     "data": {
      "text/latex": [
       "\\begin{aligned}\n",
       "        a &\\Rightarrow 0\\\\\\varepsilon &\\Rightarrow 1\\\\ \\left\\langle 2 \\right\\rangle \\,\\varepsilon &\\Rightarrow 2\\\\{a}^{*} &\\Rightarrow 1\\\\\\left( \\left\\langle \\frac{1}{6} \\right\\rangle \\,a\\right)^{*} &\\Rightarrow 1\\\\ \\left\\langle \\frac{1}{6} \\right\\rangle \\,{a}^{*} &\\Rightarrow \\frac{1}{6}\\\\ \\left\\langle \\frac{1}{6} \\right\\rangle \\,{a}^{*} +  \\left\\langle \\frac{1}{3} \\right\\rangle \\,{b}^{*} &\\Rightarrow \\frac{1}{2}\\\\\\left( \\left\\langle \\frac{1}{6} \\right\\rangle \\,{a}^{*} +  \\left\\langle \\frac{1}{3} \\right\\rangle \\,{b}^{*}\\right)^{*} &\\Rightarrow 2\n",
       "\\end{aligned}"
      ],
      "text/plain": [
       "<IPython.core.display.Latex object>"
      ]
     },
     "execution_count": 2,
     "metadata": {},
     "output_type": "execute_result"
    }
   ],
   "source": [
    "c('a', r'\\e', r'<2>\\e', 'a*', '(<1/6>a)*', '<1/6>a*', '<1/6>a*+<1/3>b*', '(<1/6>a*+<1/3>b*)*')"
   ]
  }
 ],
 "metadata": {
  "kernelspec": {
   "display_name": "Python 3",
   "language": "python",
   "name": "python3"
  },
  "language_info": {
   "codemirror_mode": {
    "name": "ipython",
    "version": 3
   },
   "file_extension": ".py",
   "mimetype": "text/x-python",
   "name": "python",
   "nbconvert_exporter": "python",
   "pygments_lexer": "ipython3",
   "version": "3.5.1"
  },
  "widgets": {
   "state": {},
   "version": "1.1.2"
  }
 },
 "nbformat": 4,
 "nbformat_minor": 0
}
