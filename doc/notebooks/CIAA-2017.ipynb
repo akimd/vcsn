{
 "cells": [
  {
   "cell_type": "markdown",
   "metadata": {
    "deletable": true,
    "editable": true
   },
   "source": [
    "# Quotient Operators for Weighted Rational Expressions\n",
    "This page is a complement to our submission to CIAA 2017.  This page exists in several forms:\n",
    "- [A Dynamic Notebook](http://vcsn-sandbox.lrde.epita.fr/notebooks/Doc/CIAA-2017.ipynb), which can be edited, played with\n",
    "- [A static HTML page](http://www.lrde.epita.fr/dload/vcsn/latest/notebooks/CIAA-2017.html), whose graphical rendering is always correct.\n",
    "\n",
    "More information is available here:\n",
    "- [Documentation for _expression_.expansion](http://vcsn-sandbox.lrde.epita.fr/notebooks/Doc/expression.expansion.ipynb)\n",
    "- [Documentation for _expression_.derived_term](http://vcsn-sandbox.lrde.epita.fr/notebooks/Doc/expression.derived_term.ipynb)\n",
    "- [Documentation of Vcsn](http://vcsn-sandbox.lrde.epita.fr/notebooks/Doc/!Read-me-first.ipynb)\n",
    "- [Vcsn's web page](http://vcsn.lrde.epita.fr)\n",
    "\n",
    "You may change the cells, and run then.  To run a cell in a notebook, hit \"Control-Enter\" (in which case the focus stays on the same cell) or \"Shift-Enter\" (focus goes to the next cell).  Beware that depending on the requested operations, Vcsn may generate and compile code, which may be a really slow process on small machines (about a minute): be patient!  However, the code is compiled only once: successive uses will be way faster.\n",
    "\n",
    "To run all the cells anew, select \"Restart & Run All\" in the \"Kernel\" menu above."
   ]
  },
  {
   "cell_type": "code",
   "execution_count": 1,
   "metadata": {
    "collapsed": false,
    "deletable": true,
    "editable": true
   },
   "outputs": [],
   "source": [
    "import sys\n",
    "import vcsn"
   ]
  },
  {
   "cell_type": "markdown",
   "metadata": {
    "deletable": true,
    "editable": true
   },
   "source": [
    "## Section 2, Notations"
   ]
  },
  {
   "cell_type": "markdown",
   "metadata": {
    "deletable": true,
    "editable": true
   },
   "source": [
    "First we introduce the \"context\" we are interested in: labels are letter-or-empty-word (\"lan\": labels are nullable), values are rational numbers."
   ]
  },
  {
   "cell_type": "code",
   "execution_count": 2,
   "metadata": {
    "collapsed": false,
    "deletable": true,
    "editable": true
   },
   "outputs": [
    {
     "data": {
      "text/latex": [
       "$(\\{\\ldots\\})^?\\to\\mathbb{Q}$"
      ],
      "text/plain": [
       "{...}? -> Q"
      ]
     },
     "execution_count": 2,
     "metadata": {},
     "output_type": "execute_result"
    }
   ],
   "source": [
    "Q = vcsn.context('lan, q')\n",
    "Q"
   ]
  },
  {
   "cell_type": "markdown",
   "metadata": {
    "deletable": true,
    "editable": true
   },
   "source": [
    "### Expressions\n",
    "The rational expressions in Vcsn supports several operators beyond the classical ones.  See [Expressions](Expressions.ipynb) for all the details.  The following examples should be self-explanatory."
   ]
  },
  {
   "cell_type": "code",
   "execution_count": 3,
   "metadata": {
    "collapsed": false,
    "deletable": true,
    "editable": true
   },
   "outputs": [
    {
     "data": {
      "text/latex": [
       "$a + b$"
      ],
      "text/plain": [
       "a+b"
      ]
     },
     "execution_count": 3,
     "metadata": {},
     "output_type": "execute_result"
    }
   ],
   "source": [
    "e1 = Q.expression('[ab]'); e1"
   ]
  },
  {
   "cell_type": "code",
   "execution_count": 4,
   "metadata": {
    "collapsed": false,
    "deletable": true,
    "editable": true
   },
   "outputs": [
    {
     "data": {
      "text/latex": [
       "$\\left(a + b\\right)^{*}$"
      ],
      "text/plain": [
       "(a+b)*"
      ]
     },
     "execution_count": 4,
     "metadata": {},
     "output_type": "execute_result"
    }
   ],
   "source": [
    "e1.star()"
   ]
  },
  {
   "cell_type": "code",
   "execution_count": 5,
   "metadata": {
    "collapsed": false,
    "deletable": true,
    "editable": true
   },
   "outputs": [
    {
     "data": {
      "text/latex": [
       "$ \\left\\langle 2 \\right\\rangle \\,\\left(a + b\\right) + \\left(a + b\\right) \\, \\left(a + b\\right)^{*}$"
      ],
      "text/plain": [
       "<2>(a+b)+(a+b)(a+b)*"
      ]
     },
     "execution_count": 5,
     "metadata": {},
     "output_type": "execute_result"
    }
   ],
   "source": [
    "2 * e1 + e1 * e1.star()"
   ]
  },
  {
   "cell_type": "markdown",
   "metadata": {
    "deletable": true,
    "editable": true
   },
   "source": [
    "### Expansions\n",
    "One can play with the different operations on expansions.  However, there is no direct means to enter an expansion, one has to compute the expansion of an expression."
   ]
  },
  {
   "cell_type": "code",
   "execution_count": 6,
   "metadata": {
    "collapsed": false,
    "deletable": true,
    "editable": true
   },
   "outputs": [
    {
     "data": {
      "text/latex": [
       "$a \\odot \\left[b\\right]$"
      ],
      "text/plain": [
       "a.[b]"
      ]
     },
     "execution_count": 6,
     "metadata": {},
     "output_type": "execute_result"
    }
   ],
   "source": [
    "e1 = Q.expression('ab')\n",
    "x1 = e1.expansion()\n",
    "x1"
   ]
  },
  {
   "cell_type": "code",
   "execution_count": 7,
   "metadata": {
    "collapsed": false,
    "deletable": true,
    "editable": true
   },
   "outputs": [
    {
     "data": {
      "text/latex": [
       "$\\left\\langle 1\\right\\rangle  \\oplus a \\odot \\left[\\left(a + b\\right)^{*}\\right] \\oplus b \\odot \\left[\\left(a + b\\right)^{*}\\right]$"
      ],
      "text/plain": [
       "<1> + a.[(a+b)*] + b.[(a+b)*]"
      ]
     },
     "execution_count": 7,
     "metadata": {},
     "output_type": "execute_result"
    }
   ],
   "source": [
    "e2 = Q.expression('[ab]*')\n",
    "x2 = e2.expansion()\n",
    "x2"
   ]
  },
  {
   "cell_type": "markdown",
   "metadata": {
    "deletable": true,
    "editable": true
   },
   "source": [
    "The left-quotient is denoted `{\\}` in the syntax of Vcsn's expressions, but we use Python's operator `//` to denote it.  So `e // f` denotes `e {\\} f`."
   ]
  },
  {
   "cell_type": "code",
   "execution_count": 8,
   "metadata": {
    "collapsed": false,
    "deletable": true,
    "editable": true
   },
   "outputs": [
    {
     "data": {
      "text/latex": [
       "$\\varepsilon \\odot \\left[a \\, b \\oplus \\left(a + b\\right)^{*} \\backslash b\\right]$"
      ],
      "text/plain": [
       "\\e.[ab + (a+b)*{\\}b]"
      ]
     },
     "execution_count": 8,
     "metadata": {},
     "output_type": "execute_result"
    }
   ],
   "source": [
    "x2 // x1"
   ]
  },
  {
   "cell_type": "code",
   "execution_count": 9,
   "metadata": {
    "collapsed": false,
    "deletable": true,
    "editable": true
   },
   "outputs": [
    {
     "data": {
      "text/latex": [
       "$\\varepsilon \\odot \\left[a \\, b \\backslash \\varepsilon \\oplus b \\backslash \\left(a + b\\right)^{*}\\right]$"
      ],
      "text/plain": [
       "\\e.[ab{\\}\\e + b{\\}(a+b)*]"
      ]
     },
     "execution_count": 9,
     "metadata": {},
     "output_type": "execute_result"
    }
   ],
   "source": [
    "x1 // x2"
   ]
  },
  {
   "cell_type": "markdown",
   "metadata": {
    "deletable": true,
    "editable": true
   },
   "source": [
    "### Derivative\n",
    "Although not covered in the paper, Vcsn does support the derivatives.  However, the quotient operator is not supported."
   ]
  },
  {
   "cell_type": "code",
   "execution_count": 10,
   "metadata": {
    "collapsed": false,
    "deletable": true,
    "editable": true
   },
   "outputs": [
    {
     "data": {
      "text/latex": [
       "$ \\left\\langle 2 \\right\\rangle \\,\\left(a + b\\right)^{*}$"
      ],
      "text/plain": [
       "<2>(a+b)*"
      ]
     },
     "execution_count": 10,
     "metadata": {},
     "output_type": "execute_result"
    }
   ],
   "source": [
    "e = Q.expression('<2>[ab]*')\n",
    "e"
   ]
  },
  {
   "cell_type": "code",
   "execution_count": 11,
   "metadata": {
    "collapsed": false,
    "deletable": true,
    "editable": true
   },
   "outputs": [
    {
     "data": {
      "text/latex": [
       "$2$"
      ],
      "text/plain": [
       "2"
      ]
     },
     "execution_count": 11,
     "metadata": {},
     "output_type": "execute_result"
    }
   ],
   "source": [
    "e.constant_term()"
   ]
  },
  {
   "cell_type": "code",
   "execution_count": 12,
   "metadata": {
    "collapsed": false,
    "deletable": true,
    "editable": true
   },
   "outputs": [
    {
     "data": {
      "text/latex": [
       "$\\left\\langle 2\\right\\rangle \\left(a + b\\right)^{*}$"
      ],
      "text/plain": [
       "<2>(a+b)*"
      ]
     },
     "execution_count": 12,
     "metadata": {},
     "output_type": "execute_result"
    }
   ],
   "source": [
    "e.derivation('a')"
   ]
  },
  {
   "cell_type": "code",
   "execution_count": 13,
   "metadata": {
    "collapsed": false,
    "deletable": true,
    "editable": true
   },
   "outputs": [
    {
     "data": {
      "text/latex": [
       "$\\left\\langle 2\\right\\rangle \\left(a + b\\right)^{*}$"
      ],
      "text/plain": [
       "<2>(a+b)*"
      ]
     },
     "execution_count": 13,
     "metadata": {},
     "output_type": "execute_result"
    }
   ],
   "source": [
    "e.derivation('b')"
   ]
  },
  {
   "cell_type": "markdown",
   "metadata": {
    "deletable": true,
    "editable": true
   },
   "source": [
    "Those three facts, constant term and derivative wrt $a$ and $b$, are fully captured by this expansion."
   ]
  },
  {
   "cell_type": "code",
   "execution_count": 14,
   "metadata": {
    "collapsed": false,
    "deletable": true,
    "editable": true
   },
   "outputs": [
    {
     "data": {
      "text/latex": [
       "$\\left\\langle 2\\right\\rangle  \\oplus a \\odot \\left[\\left\\langle 2\\right\\rangle \\left(a + b\\right)^{*}\\right] \\oplus b \\odot \\left[\\left\\langle 2\\right\\rangle \\left(a + b\\right)^{*}\\right]$"
      ],
      "text/plain": [
       "<2> + a.[<2>(a+b)*] + b.[<2>(a+b)*]"
      ]
     },
     "execution_count": 14,
     "metadata": {},
     "output_type": "execute_result"
    }
   ],
   "source": [
    "e.expansion()"
   ]
  },
  {
   "cell_type": "markdown",
   "metadata": {
    "deletable": true,
    "editable": true
   },
   "source": [
    "## Example $\\mathsf{E}_1$: A Simple Expression"
   ]
  },
  {
   "cell_type": "markdown",
   "metadata": {
    "deletable": true,
    "editable": true
   },
   "source": [
    "In Vcsn, the left-quotient is written `{\\}` (because the backslash character is used to escape operators, e.g., `\\*` denotes the letter `*`, not the Kleene star).\n",
    "The expression $\\mathsf{E}_1$ is therefore:"
   ]
  },
  {
   "cell_type": "code",
   "execution_count": 15,
   "metadata": {
    "collapsed": false,
    "deletable": true,
    "editable": true
   },
   "outputs": [
    {
     "data": {
      "text/latex": [
       "$ \\left\\langle 11 \\right\\rangle \\,\\left(a \\, {b}^{*}\\right) +  \\left\\langle 2 \\right\\rangle \\,a \\backslash \\left( \\left\\langle 3 \\right\\rangle \\,\\left(a + b\\right) +  \\left\\langle 5 \\right\\rangle \\,\\left(a \\, {a}^{*}\\right) +  \\left\\langle 7 \\right\\rangle \\,\\left(a \\, {b}^{*}\\right)\\right)$"
      ],
      "text/plain": [
       "<11>(ab*)+<2>a{\\}(<3>(a+b)+<5>(aa*)+<7>(ab*))"
      ]
     },
     "execution_count": 15,
     "metadata": {},
     "output_type": "execute_result"
    }
   ],
   "source": [
    "e1 = Q.expression('(<2>a) {\\} (<3>[ab] + <5>aa* + <7>ab*) + <11>ab*')\n",
    "e1"
   ]
  },
  {
   "cell_type": "markdown",
   "metadata": {
    "deletable": true,
    "editable": true
   },
   "source": [
    "Its expansion is (contrary to the paper, the empty expression is denoted $\\varepsilon$ instead of $\\mathsf{1}$):"
   ]
  },
  {
   "cell_type": "code",
   "execution_count": 16,
   "metadata": {
    "collapsed": false,
    "deletable": true,
    "editable": true
   },
   "outputs": [
    {
     "data": {
      "text/latex": [
       "$\\left\\langle \\frac{3}{2}\\right\\rangle  \\oplus \\varepsilon \\odot \\left[\\left\\langle \\frac{5}{2}\\right\\rangle {a}^{*} \\oplus \\left\\langle \\frac{7}{2}\\right\\rangle {b}^{*}\\right] \\oplus a \\odot \\left[\\left\\langle 11\\right\\rangle {b}^{*}\\right]$"
      ],
      "text/plain": [
       "<3/2> + \\e.[<5/2>a* + <7/2>b*] + a.[<11>b*]"
      ]
     },
     "execution_count": 16,
     "metadata": {},
     "output_type": "execute_result"
    }
   ],
   "source": [
    "e1.expansion()"
   ]
  },
  {
   "cell_type": "markdown",
   "metadata": {
    "deletable": true,
    "editable": true
   },
   "source": [
    "For sake of performance, the constant term is actually kept separate in our implementation of expansions.  The previous result, rewritten in the style of the paper, is exactly the same:\n",
    "\n",
    "$$\n",
    "\\left\\langle \\frac{3}{2}\\right\\rangle  \\oplus \\varepsilon \\odot \\left[\\left\\langle \\frac{5}{2}\\right\\rangle {a}^{*} \\oplus \\left\\langle \\frac{7}{2}\\right\\rangle {b}^{*}\\right] \\oplus a \\odot \\left[\\left\\langle 11\\right\\rangle {b}^{*}\\right]\n",
    "=\n",
    " \\varepsilon \\odot \\left[\n",
    "    \\left\\langle \\frac{3}{2}\\right\\rangle \\odot \\varepsilon\n",
    "    \\oplus \\left\\langle \\frac{5}{2}\\right\\rangle \\odot {a}^{*}\n",
    "    \\oplus \\left\\langle \\frac{7}{2}\\right\\rangle \\odot {b}^{*}\\right]\n",
    " \\oplus a \\odot \\left[\\left\\langle 11\\right\\rangle \\odot {b}^{*}\\right]\n",
    "$$\n",
    "\n",
    "The derived-term automaton of $\\mathsf{E}_1$, $\\mathcal{A}_{\\mathsf{E}_1}$, is:"
   ]
  },
  {
   "cell_type": "code",
   "execution_count": 17,
   "metadata": {
    "collapsed": false,
    "deletable": true,
    "editable": true
   },
   "outputs": [
    {
     "data": {
      "image/svg+xml": [
       "<?xml version=\"1.0\" encoding=\"UTF-8\" standalone=\"no\"?>\n",
       "<!DOCTYPE svg PUBLIC \"-//W3C//DTD SVG 1.1//EN\"\n",
       " \"http://www.w3.org/Graphics/SVG/1.1/DTD/svg11.dtd\">\n",
       "<!-- Generated by graphviz version 2.40.1 (20161225.0304)\n",
       " -->\n",
       "<!-- Title: %3 Pages: 1 -->\n",
       "<svg width=\"465pt\" height=\"169pt\"\n",
       " viewBox=\"0.00 0.00 465.00 168.50\" xmlns=\"http://www.w3.org/2000/svg\" xmlns:xlink=\"http://www.w3.org/1999/xlink\">\n",
       "<g id=\"graph0\" class=\"graph\" transform=\"scale(1 1) rotate(0) translate(4 164.5)\">\n",
       "<title>%3</title>\n",
       "<polygon fill=\"#ffffff\" stroke=\"transparent\" points=\"-4,4 -4,-164.5 461,-164.5 461,4 -4,4\"/>\n",
       "<!-- I0 -->\n",
       "<g id=\"node1\" class=\"node\">\n",
       "<title>I0</title>\n",
       "<ellipse fill=\"#000000\" stroke=\"#000000\" cx=\"0\" cy=\"-94.5\" rx=\"0\" ry=\"0\"/>\n",
       "</g>\n",
       "<!-- 0 -->\n",
       "<g id=\"node5\" class=\"node\">\n",
       "<title>0</title>\n",
       "<path fill=\"#98f5ff\" stroke=\"#000000\" d=\"M273.3333,-109C273.3333,-109 46.6667,-109 46.6667,-109 41.8333,-109 37,-104.1667 37,-99.3333 37,-99.3333 37,-89.6667 37,-89.6667 37,-84.8333 41.8333,-80 46.6667,-80 46.6667,-80 273.3333,-80 273.3333,-80 278.1667,-80 283,-84.8333 283,-89.6667 283,-89.6667 283,-99.3333 283,-99.3333 283,-104.1667 278.1667,-109 273.3333,-109\"/>\n",
       "<text text-anchor=\"middle\" x=\"160\" y=\"-91.4\" font-family=\"Times,serif\" font-size=\"12.00\" fill=\"#000000\">⟨11⟩(ab*)+⟨2⟩a{\\}(⟨3⟩(a+b)+⟨5⟩(aa*)+⟨7⟩(ab*))</text>\n",
       "</g>\n",
       "<!-- I0&#45;&gt;0 -->\n",
       "<g id=\"edge1\" class=\"edge\">\n",
       "<title>I0&#45;&gt;0</title>\n",
       "<path fill=\"none\" stroke=\"#000000\" d=\"M.116,-94.5C1.4252,-94.5 13.703,-94.5 30.925,-94.5\"/>\n",
       "<polygon fill=\"#000000\" stroke=\"#000000\" points=\"36.946,-94.5 30.946,-97.2001 33.946,-94.5 30.946,-94.5001 30.946,-94.5001 30.946,-94.5001 33.946,-94.5 30.946,-91.8001 36.946,-94.5 36.946,-94.5\"/>\n",
       "</g>\n",
       "<!-- F0 -->\n",
       "<g id=\"node2\" class=\"node\">\n",
       "<title>F0</title>\n",
       "<ellipse fill=\"#000000\" stroke=\"#000000\" cx=\"405.5\" cy=\"-160.5\" rx=\"0\" ry=\"0\"/>\n",
       "</g>\n",
       "<!-- F1 -->\n",
       "<g id=\"node3\" class=\"node\">\n",
       "<title>F1</title>\n",
       "<ellipse fill=\"#000000\" stroke=\"#000000\" cx=\"457\" cy=\"-94.5\" rx=\"0\" ry=\"0\"/>\n",
       "</g>\n",
       "<!-- F2 -->\n",
       "<g id=\"node4\" class=\"node\">\n",
       "<title>F2</title>\n",
       "<ellipse fill=\"#000000\" stroke=\"#000000\" cx=\"457\" cy=\"-14.5\" rx=\"0\" ry=\"0\"/>\n",
       "</g>\n",
       "<!-- 0&#45;&gt;F0 -->\n",
       "<g id=\"edge2\" class=\"edge\">\n",
       "<title>0&#45;&gt;F0</title>\n",
       "<path fill=\"none\" stroke=\"#000000\" d=\"M214.1799,-109.0657C276.7295,-125.8815 374.2545,-152.1 399.4154,-158.8642\"/>\n",
       "<polygon fill=\"#000000\" stroke=\"#000000\" points=\"405.4135,-160.4767 398.9182,-161.5264 402.5163,-159.6978 399.6192,-158.9189 399.6192,-158.9189 399.6192,-158.9189 402.5163,-159.6978 400.3202,-156.3115 405.4135,-160.4767 405.4135,-160.4767\"/>\n",
       "<text text-anchor=\"middle\" x=\"292.2976\" y=\"-137.7649\" font-family=\"Times,serif\" font-size=\"14.00\" fill=\"#000000\">⟨3/2⟩</text>\n",
       "</g>\n",
       "<!-- 1 -->\n",
       "<g id=\"node6\" class=\"node\">\n",
       "<title>1</title>\n",
       "<path fill=\"#98f5ff\" stroke=\"#000000\" d=\"M410.3333,-109C410.3333,-109 400.6667,-109 400.6667,-109 395.8333,-109 391,-104.1667 391,-99.3333 391,-99.3333 391,-89.6667 391,-89.6667 391,-84.8333 395.8333,-80 400.6667,-80 400.6667,-80 410.3333,-80 410.3333,-80 415.1667,-80 420,-84.8333 420,-89.6667 420,-89.6667 420,-99.3333 420,-99.3333 420,-104.1667 415.1667,-109 410.3333,-109\"/>\n",
       "<text text-anchor=\"middle\" x=\"405.5\" y=\"-91.4\" font-family=\"Times,serif\" font-size=\"12.00\" fill=\"#000000\">a*</text>\n",
       "</g>\n",
       "<!-- 0&#45;&gt;1 -->\n",
       "<g id=\"edge3\" class=\"edge\">\n",
       "<title>0&#45;&gt;1</title>\n",
       "<path fill=\"none\" stroke=\"#000000\" d=\"M283.11,-94.5C322.48,-94.5 361.8,-94.5 384.87,-94.5\"/>\n",
       "<polygon fill=\"#000000\" stroke=\"#000000\" points=\"390.93,-94.5 384.93,-97.2001 387.93,-94.5 384.93,-94.5001 384.93,-94.5001 384.93,-94.5001 387.93,-94.5 384.93,-91.8001 390.93,-94.5 390.93,-94.5\"/>\n",
       "<text text-anchor=\"middle\" x=\"337\" y=\"-98.3\" font-family=\"Times,serif\" font-size=\"14.00\" fill=\"#000000\">⟨5/2⟩ε</text>\n",
       "</g>\n",
       "<!-- 2 -->\n",
       "<g id=\"node7\" class=\"node\">\n",
       "<title>2</title>\n",
       "<path fill=\"#98f5ff\" stroke=\"#000000\" d=\"M410.3333,-29C410.3333,-29 400.6667,-29 400.6667,-29 395.8333,-29 391,-24.1667 391,-19.3333 391,-19.3333 391,-9.6667 391,-9.6667 391,-4.8333 395.8333,0 400.6667,0 400.6667,0 410.3333,0 410.3333,0 415.1667,0 420,-4.8333 420,-9.6667 420,-9.6667 420,-19.3333 420,-19.3333 420,-24.1667 415.1667,-29 410.3333,-29\"/>\n",
       "<text text-anchor=\"middle\" x=\"405.5\" y=\"-11.4\" font-family=\"Times,serif\" font-size=\"12.00\" fill=\"#000000\">b*</text>\n",
       "</g>\n",
       "<!-- 0&#45;&gt;2 -->\n",
       "<g id=\"edge4\" class=\"edge\">\n",
       "<title>0&#45;&gt;2</title>\n",
       "<path fill=\"none\" stroke=\"#000000\" d=\"M204.74,-79.92C258.17,-62.509 345.27,-34.126 384.81,-21.242\"/>\n",
       "<polygon fill=\"#000000\" stroke=\"#000000\" points=\"390.74,-19.311 385.8709,-23.7362 387.8874,-20.2399 385.0349,-21.1688 385.0349,-21.1688 385.0349,-21.1688 387.8874,-20.2399 384.1988,-18.6015 390.74,-19.311 390.74,-19.311\"/>\n",
       "<text text-anchor=\"middle\" x=\"337\" y=\"-50.3\" font-family=\"Times,serif\" font-size=\"14.00\" fill=\"#000000\">⟨7/2⟩ε, ⟨11⟩a</text>\n",
       "</g>\n",
       "<!-- 1&#45;&gt;F1 -->\n",
       "<g id=\"edge5\" class=\"edge\">\n",
       "<title>1&#45;&gt;F1</title>\n",
       "<path fill=\"none\" stroke=\"#000000\" d=\"M420.1201,-94.5C430.2606,-94.5 443.2527,-94.5 450.7999,-94.5\"/>\n",
       "<polygon fill=\"#000000\" stroke=\"#000000\" points=\"456.9374,-94.5 450.9375,-97.2001 453.9374,-94.5 450.9374,-94.5001 450.9374,-94.5001 450.9374,-94.5001 453.9374,-94.5 450.9374,-91.8001 456.9374,-94.5 456.9374,-94.5\"/>\n",
       "</g>\n",
       "<!-- 1&#45;&gt;1 -->\n",
       "<g id=\"edge6\" class=\"edge\">\n",
       "<title>1&#45;&gt;1</title>\n",
       "<path fill=\"none\" stroke=\"#000000\" d=\"M399.92,-109.21C398.58,-118.32 400.44,-127 405.5,-127 409.38,-127 411.37,-121.91 411.49,-115.44\"/>\n",
       "<polygon fill=\"#000000\" stroke=\"#000000\" points=\"411.08,-109.21 414.1683,-115.0197 411.2771,-112.2035 411.4741,-115.197 411.4741,-115.197 411.4741,-115.197 411.2771,-112.2035 408.7799,-115.3744 411.08,-109.21 411.08,-109.21\"/>\n",
       "<text text-anchor=\"middle\" x=\"405.5\" y=\"-130.8\" font-family=\"Times,serif\" font-size=\"14.00\" fill=\"#000000\">a</text>\n",
       "</g>\n",
       "<!-- 2&#45;&gt;F2 -->\n",
       "<g id=\"edge7\" class=\"edge\">\n",
       "<title>2&#45;&gt;F2</title>\n",
       "<path fill=\"none\" stroke=\"#000000\" d=\"M420.1201,-14.5C430.2606,-14.5 443.2527,-14.5 450.7999,-14.5\"/>\n",
       "<polygon fill=\"#000000\" stroke=\"#000000\" points=\"456.9374,-14.5 450.9375,-17.2001 453.9374,-14.5 450.9374,-14.5001 450.9374,-14.5001 450.9374,-14.5001 453.9374,-14.5 450.9374,-11.8001 456.9374,-14.5 456.9374,-14.5\"/>\n",
       "</g>\n",
       "<!-- 2&#45;&gt;2 -->\n",
       "<g id=\"edge8\" class=\"edge\">\n",
       "<title>2&#45;&gt;2</title>\n",
       "<path fill=\"none\" stroke=\"#000000\" d=\"M399.92,-29.206C398.58,-38.324 400.44,-47 405.5,-47 409.38,-47 411.37,-41.914 411.49,-35.438\"/>\n",
       "<polygon fill=\"#000000\" stroke=\"#000000\" points=\"411.08,-29.206 414.1682,-35.0158 411.277,-32.1995 411.474,-35.1931 411.474,-35.1931 411.474,-35.1931 411.277,-32.1995 408.7798,-35.3703 411.08,-29.206 411.08,-29.206\"/>\n",
       "<text text-anchor=\"middle\" x=\"405.5\" y=\"-50.8\" font-family=\"Times,serif\" font-size=\"14.00\" fill=\"#000000\">b</text>\n",
       "</g>\n",
       "</g>\n",
       "</svg>\n"
      ],
      "text/plain": [
       "expression_automaton<mutable_automaton<context<nullableset<letterset<char_letters>>, q>>>"
      ]
     },
     "execution_count": 17,
     "metadata": {},
     "output_type": "execute_result"
    }
   ],
   "source": [
    "a1 = e1.derived_term()\n",
    "a1"
   ]
  },
  {
   "cell_type": "markdown",
   "metadata": {
    "deletable": true,
    "editable": true
   },
   "source": [
    "## Example 5: Not all the States are Coaccessible"
   ]
  },
  {
   "cell_type": "code",
   "execution_count": 18,
   "metadata": {
    "collapsed": false,
    "deletable": true,
    "editable": true
   },
   "outputs": [
    {
     "data": {
      "text/latex": [
       "$\\left( \\left\\langle 2 \\right\\rangle \\,\\left(a \\, b\\right) \\backslash a \\, {b}^{*}\\right)^{*}$"
      ],
      "text/plain": [
       "(<2>(ab){\\}ab*)*"
      ]
     },
     "execution_count": 18,
     "metadata": {},
     "output_type": "execute_result"
    }
   ],
   "source": [
    "e = Q.expression('(<2>ab {\\} ab*)*')\n",
    "e"
   ]
  },
  {
   "cell_type": "code",
   "execution_count": 19,
   "metadata": {
    "collapsed": false,
    "deletable": true,
    "editable": true
   },
   "outputs": [
    {
     "data": {
      "text/latex": [
       "$\\left\\langle 1\\right\\rangle  \\oplus \\varepsilon \\odot \\left[\\left\\langle \\frac{1}{2}\\right\\rangle \\left(b \\backslash {b}^{*}\\right) \\, \\left( \\left\\langle 2 \\right\\rangle \\,\\left(a \\, b\\right) \\backslash a \\, {b}^{*}\\right)^{*}\\right]$"
      ],
      "text/plain": [
       "<1> + \\e.[<1/2>(b{\\}b*)(<2>(ab){\\}ab*)*]"
      ]
     },
     "execution_count": 19,
     "metadata": {},
     "output_type": "execute_result"
    }
   ],
   "source": [
    "e.expansion()"
   ]
  },
  {
   "cell_type": "code",
   "execution_count": 20,
   "metadata": {
    "collapsed": false,
    "deletable": true,
    "editable": true
   },
   "outputs": [
    {
     "data": {
      "image/svg+xml": [
       "<?xml version=\"1.0\" encoding=\"UTF-8\" standalone=\"no\"?>\n",
       "<!DOCTYPE svg PUBLIC \"-//W3C//DTD SVG 1.1//EN\"\n",
       " \"http://www.w3.org/Graphics/SVG/1.1/DTD/svg11.dtd\">\n",
       "<!-- Generated by graphviz version 2.40.1 (20161225.0304)\n",
       " -->\n",
       "<!-- Title: %3 Pages: 1 -->\n",
       "<svg width=\"590pt\" height=\"150pt\"\n",
       " viewBox=\"0.00 0.00 590.00 150.00\" xmlns=\"http://www.w3.org/2000/svg\" xmlns:xlink=\"http://www.w3.org/1999/xlink\">\n",
       "<g id=\"graph0\" class=\"graph\" transform=\"scale(1 1) rotate(0) translate(4 146)\">\n",
       "<title>%3</title>\n",
       "<polygon fill=\"#ffffff\" stroke=\"transparent\" points=\"-4,4 -4,-146 586,-146 586,4 -4,4\"/>\n",
       "<!-- I0 -->\n",
       "<g id=\"node1\" class=\"node\">\n",
       "<title>I0</title>\n",
       "<ellipse fill=\"#000000\" stroke=\"#000000\" cx=\"0\" cy=\"-73.5\" rx=\"0\" ry=\"0\"/>\n",
       "</g>\n",
       "<!-- 0 -->\n",
       "<g id=\"node4\" class=\"node\">\n",
       "<title>0</title>\n",
       "<path fill=\"#98f5ff\" stroke=\"#000000\" d=\"M124.3333,-88C124.3333,-88 46.6667,-88 46.6667,-88 41.8333,-88 37,-83.1667 37,-78.3333 37,-78.3333 37,-68.6667 37,-68.6667 37,-63.8333 41.8333,-59 46.6667,-59 46.6667,-59 124.3333,-59 124.3333,-59 129.1667,-59 134,-63.8333 134,-68.6667 134,-68.6667 134,-78.3333 134,-78.3333 134,-83.1667 129.1667,-88 124.3333,-88\"/>\n",
       "<text text-anchor=\"middle\" x=\"85.5\" y=\"-70.4\" font-family=\"Times,serif\" font-size=\"12.00\" fill=\"#000000\">(⟨2⟩(ab){\\}ab*)*</text>\n",
       "</g>\n",
       "<!-- I0&#45;&gt;0 -->\n",
       "<g id=\"edge1\" class=\"edge\">\n",
       "<title>I0&#45;&gt;0</title>\n",
       "<path fill=\"none\" stroke=\"#000000\" d=\"M.062,-73.5C1.0888,-73.5 14.74,-73.5 30.841,-73.5\"/>\n",
       "<polygon fill=\"#000000\" stroke=\"#000000\" points=\"36.865,-73.5 30.865,-76.2001 33.865,-73.5 30.865,-73.5001 30.865,-73.5001 30.865,-73.5001 33.865,-73.5 30.865,-70.8001 36.865,-73.5 36.865,-73.5\"/>\n",
       "</g>\n",
       "<!-- F0 -->\n",
       "<g id=\"node2\" class=\"node\">\n",
       "<title>F0</title>\n",
       "<ellipse fill=\"#000000\" stroke=\"#000000\" cx=\"274\" cy=\"-89.5\" rx=\"0\" ry=\"0\"/>\n",
       "</g>\n",
       "<!-- F2 -->\n",
       "<g id=\"node3\" class=\"node\">\n",
       "<title>F2</title>\n",
       "<ellipse fill=\"#000000\" stroke=\"#000000\" cx=\"582\" cy=\"-94.5\" rx=\"0\" ry=\"0\"/>\n",
       "</g>\n",
       "<!-- 0&#45;&gt;F0 -->\n",
       "<g id=\"edge2\" class=\"edge\">\n",
       "<title>0&#45;&gt;F0</title>\n",
       "<path fill=\"none\" stroke=\"#000000\" d=\"M134.0434,-77.6204C180.8611,-81.5943 247.5322,-87.2534 267.8746,-88.9801\"/>\n",
       "<polygon fill=\"#000000\" stroke=\"#000000\" points=\"273.9388,-89.4948 267.7319,-91.6776 270.9496,-89.241 267.9603,-88.9873 267.9603,-88.9873 267.9603,-88.9873 270.9496,-89.241 268.1887,-86.2969 273.9388,-89.4948 273.9388,-89.4948\"/>\n",
       "</g>\n",
       "<!-- 1 -->\n",
       "<g id=\"node5\" class=\"node\">\n",
       "<title>1</title>\n",
       "<path fill=\"#98f5ff\" stroke=\"#000000\" d=\"M333.3333,-71C333.3333,-71 214.6667,-71 214.6667,-71 209.8333,-71 205,-66.1667 205,-61.3333 205,-61.3333 205,-51.6667 205,-51.6667 205,-46.8333 209.8333,-42 214.6667,-42 214.6667,-42 333.3333,-42 333.3333,-42 338.1667,-42 343,-46.8333 343,-51.6667 343,-51.6667 343,-61.3333 343,-61.3333 343,-66.1667 338.1667,-71 333.3333,-71\"/>\n",
       "<text text-anchor=\"middle\" x=\"274\" y=\"-53.4\" font-family=\"Times,serif\" font-size=\"12.00\" fill=\"#000000\">(b{\\}b*)(⟨2⟩(ab){\\}ab*)*</text>\n",
       "</g>\n",
       "<!-- 0&#45;&gt;1 -->\n",
       "<g id=\"edge3\" class=\"edge\">\n",
       "<title>0&#45;&gt;1</title>\n",
       "<path fill=\"none\" stroke=\"#000000\" d=\"M134.03,-63.081C140.06,-62.062 146.16,-61.163 152,-60.5 167.06,-58.793 183.22,-57.727 198.7,-57.078\"/>\n",
       "<polygon fill=\"#000000\" stroke=\"#000000\" points=\"204.82,-56.841 198.929,-59.7713 201.8222,-56.9571 198.8245,-57.0733 198.8245,-57.0733 198.8245,-57.0733 201.8222,-56.9571 198.72,-54.3753 204.82,-56.841 204.82,-56.841\"/>\n",
       "<text text-anchor=\"middle\" x=\"169.5\" y=\"-64.3\" font-family=\"Times,serif\" font-size=\"14.00\" fill=\"#000000\">⟨1/2⟩ε</text>\n",
       "</g>\n",
       "<!-- 2 -->\n",
       "<g id=\"node6\" class=\"node\">\n",
       "<title>2</title>\n",
       "<path fill=\"#98f5ff\" stroke=\"#000000\" d=\"M524.3333,-109C524.3333,-109 434.6667,-109 434.6667,-109 429.8333,-109 425,-104.1667 425,-99.3333 425,-99.3333 425,-89.6667 425,-89.6667 425,-84.8333 429.8333,-80 434.6667,-80 434.6667,-80 524.3333,-80 524.3333,-80 529.1667,-80 534,-84.8333 534,-89.6667 534,-89.6667 534,-99.3333 534,-99.3333 534,-104.1667 529.1667,-109 524.3333,-109\"/>\n",
       "<text text-anchor=\"middle\" x=\"479.5\" y=\"-91.4\" font-family=\"Times,serif\" font-size=\"12.00\" fill=\"#000000\">b*(⟨2⟩(ab){\\}ab*)*</text>\n",
       "</g>\n",
       "<!-- 1&#45;&gt;2 -->\n",
       "<g id=\"edge4\" class=\"edge\">\n",
       "<title>1&#45;&gt;2</title>\n",
       "<path fill=\"none\" stroke=\"#000000\" d=\"M343,-69.259C367.62,-73.811 395.14,-78.9 418.99,-83.31\"/>\n",
       "<polygon fill=\"#000000\" stroke=\"#000000\" points=\"424.97,-84.416 418.579,-85.9797 422.02,-83.8704 419.0701,-83.3247 419.0701,-83.3247 419.0701,-83.3247 422.02,-83.8704 419.5611,-80.6698 424.97,-84.416 424.97,-84.416\"/>\n",
       "<text text-anchor=\"middle\" x=\"378.5\" y=\"-82.3\" font-family=\"Times,serif\" font-size=\"14.00\" fill=\"#000000\">ε</text>\n",
       "</g>\n",
       "<!-- 3 -->\n",
       "<g id=\"node7\" class=\"node\">\n",
       "<title>3</title>\n",
       "<path fill=\"#d3d3d3\" stroke=\"#000000\" d=\"M535.3333,-29C535.3333,-29 423.6667,-29 423.6667,-29 418.8333,-29 414,-24.1667 414,-19.3333 414,-19.3333 414,-9.6667 414,-9.6667 414,-4.8333 418.8333,0 423.6667,0 423.6667,0 535.3333,0 535.3333,0 540.1667,0 545,-4.8333 545,-9.6667 545,-9.6667 545,-19.3333 545,-19.3333 545,-24.1667 540.1667,-29 535.3333,-29\"/>\n",
       "<text text-anchor=\"middle\" x=\"479.5\" y=\"-11.4\" font-family=\"Times,serif\" font-size=\"12.00\" fill=\"#000000\">(b{\\}ε)(⟨2⟩(ab){\\}ab*)*</text>\n",
       "</g>\n",
       "<!-- 1&#45;&gt;3 -->\n",
       "<g id=\"edge5\" class=\"edge\">\n",
       "<title>1&#45;&gt;3</title>\n",
       "<path fill=\"none\" stroke=\"#696969\" d=\"M312.05,-41.865C327.1,-36.596 344.67,-31.075 361,-27.5 375.99,-24.218 392.24,-21.747 407.76,-19.892\"/>\n",
       "<polygon fill=\"#696969\" stroke=\"#696969\" points=\"413.9,-19.185 408.2483,-22.5537 410.9197,-19.5282 407.9394,-19.8714 407.9394,-19.8714 407.9394,-19.8714 410.9197,-19.5282 407.6305,-17.1892 413.9,-19.185 413.9,-19.185\"/>\n",
       "<text text-anchor=\"middle\" x=\"378.5\" y=\"-31.3\" font-family=\"Times,serif\" font-size=\"14.00\" fill=\"#000000\">ε</text>\n",
       "</g>\n",
       "<!-- 2&#45;&gt;F2 -->\n",
       "<g id=\"edge6\" class=\"edge\">\n",
       "<title>2&#45;&gt;F2</title>\n",
       "<path fill=\"none\" stroke=\"#000000\" d=\"M534.0512,-94.5C550.9101,-94.5 567.2907,-94.5 575.8551,-94.5\"/>\n",
       "<polygon fill=\"#000000\" stroke=\"#000000\" points=\"581.9319,-94.5 575.932,-97.2001 578.9319,-94.5 575.9319,-94.5001 575.9319,-94.5001 575.9319,-94.5001 578.9319,-94.5 575.9319,-91.8001 581.9319,-94.5 581.9319,-94.5\"/>\n",
       "</g>\n",
       "<!-- 2&#45;&gt;1 -->\n",
       "<g id=\"edge7\" class=\"edge\">\n",
       "<title>2&#45;&gt;1</title>\n",
       "<path fill=\"none\" stroke=\"#000000\" d=\"M430.09,-79.874C424.48,-77.428 419,-74.645 414,-71.5 404.42,-65.475 406.45,-57.83 396,-53.5 381.57,-47.523 365.34,-45.237 349.53,-45.012\"/>\n",
       "<polygon fill=\"#000000\" stroke=\"#000000\" points=\"343.27,-45.028 349.263,-42.3126 346.27,-45.0203 349.27,-45.0126 349.27,-45.0126 349.27,-45.0126 346.27,-45.0203 349.2769,-47.7126 343.27,-45.028 343.27,-45.028\"/>\n",
       "<text text-anchor=\"middle\" x=\"378.5\" y=\"-57.3\" font-family=\"Times,serif\" font-size=\"14.00\" fill=\"#000000\">⟨1/2⟩ε</text>\n",
       "</g>\n",
       "<!-- 2&#45;&gt;2 -->\n",
       "<g id=\"edge8\" class=\"edge\">\n",
       "<title>2&#45;&gt;2</title>\n",
       "<path fill=\"none\" stroke=\"#000000\" d=\"M464.86,-109.21C461.33,-118.32 466.21,-127 479.5,-127 489.67,-127 494.92,-121.91 495.23,-115.44\"/>\n",
       "<polygon fill=\"#000000\" stroke=\"#000000\" points=\"494.14,-109.21 497.8337,-114.6549 494.6571,-112.1651 495.1741,-115.1202 495.1741,-115.1202 495.1741,-115.1202 494.6571,-112.1651 492.5145,-115.5856 494.14,-109.21 494.14,-109.21\"/>\n",
       "<text text-anchor=\"middle\" x=\"479.5\" y=\"-130.8\" font-family=\"Times,serif\" font-size=\"14.00\" fill=\"#000000\">b</text>\n",
       "</g>\n",
       "<!-- 3&#45;&gt;3 -->\n",
       "<g id=\"edge9\" class=\"edge\">\n",
       "<title>3&#45;&gt;3</title>\n",
       "<path fill=\"none\" stroke=\"#696969\" d=\"M464.86,-29.206C461.33,-38.324 466.21,-47 479.5,-47 489.67,-47 494.92,-41.914 495.23,-35.438\"/>\n",
       "<polygon fill=\"#696969\" stroke=\"#696969\" points=\"494.14,-29.206 497.8334,-34.6511 494.6569,-32.1611 495.1738,-35.1163 495.1738,-35.1163 495.1738,-35.1163 494.6569,-32.1611 492.5142,-35.5815 494.14,-29.206 494.14,-29.206\"/>\n",
       "<text text-anchor=\"middle\" x=\"479.5\" y=\"-50.8\" font-family=\"Times,serif\" font-size=\"14.00\" fill=\"#000000\">ε</text>\n",
       "</g>\n",
       "</g>\n",
       "</svg>\n"
      ],
      "text/plain": [
       "expression_automaton<mutable_automaton<context<nullableset<letterset<char_letters>>, q>>>"
      ]
     },
     "execution_count": 20,
     "metadata": {},
     "output_type": "execute_result"
    }
   ],
   "source": [
    "a = e.derived_term()\n",
    "a"
   ]
  },
  {
   "cell_type": "markdown",
   "metadata": {
    "deletable": true,
    "editable": true
   },
   "source": [
    "As such, this automaton in $\\mathbb{Q}$ is invalid: it contains a spontaneous loop whose weight, 1, is not starrable."
   ]
  },
  {
   "cell_type": "code",
   "execution_count": 21,
   "metadata": {
    "collapsed": false,
    "deletable": true,
    "editable": true
   },
   "outputs": [
    {
     "data": {
      "text/plain": [
       "False"
      ]
     },
     "execution_count": 21,
     "metadata": {},
     "output_type": "execute_result"
    }
   ],
   "source": [
    "a.is_valid()"
   ]
  },
  {
   "cell_type": "markdown",
   "metadata": {
    "deletable": true,
    "editable": true
   },
   "source": [
    "Once trimmed, it is valid though, and its spontaneous transitions may be removed."
   ]
  },
  {
   "cell_type": "code",
   "execution_count": 22,
   "metadata": {
    "collapsed": false,
    "deletable": true,
    "editable": true
   },
   "outputs": [
    {
     "data": {
      "image/svg+xml": [
       "<?xml version=\"1.0\" encoding=\"UTF-8\" standalone=\"no\"?>\n",
       "<!DOCTYPE svg PUBLIC \"-//W3C//DTD SVG 1.1//EN\"\n",
       " \"http://www.w3.org/Graphics/SVG/1.1/DTD/svg11.dtd\">\n",
       "<!-- Generated by graphviz version 2.40.1 (20161225.0304)\n",
       " -->\n",
       "<!-- Title: %3 Pages: 1 -->\n",
       "<svg width=\"568pt\" height=\"77pt\"\n",
       " viewBox=\"0.00 0.00 568.00 77.22\" xmlns=\"http://www.w3.org/2000/svg\" xmlns:xlink=\"http://www.w3.org/1999/xlink\">\n",
       "<g id=\"graph0\" class=\"graph\" transform=\"scale(1 1) rotate(0) translate(4 73.218)\">\n",
       "<title>%3</title>\n",
       "<polygon fill=\"#ffffff\" stroke=\"transparent\" points=\"-4,4 -4,-73.218 564,-73.218 564,4 -4,4\"/>\n",
       "<!-- I0 -->\n",
       "<g id=\"node1\" class=\"node\">\n",
       "<title>I0</title>\n",
       "<ellipse fill=\"#000000\" stroke=\"#000000\" cx=\"0\" cy=\"-38.718\" rx=\"0\" ry=\"0\"/>\n",
       "</g>\n",
       "<!-- 0 -->\n",
       "<g id=\"node4\" class=\"node\">\n",
       "<title>0</title>\n",
       "<path fill=\"#98f5ff\" stroke=\"#000000\" d=\"M124.3333,-53.218C124.3333,-53.218 46.6667,-53.218 46.6667,-53.218 41.8333,-53.218 37,-48.3847 37,-43.5513 37,-43.5513 37,-33.8847 37,-33.8847 37,-29.0513 41.8333,-24.218 46.6667,-24.218 46.6667,-24.218 124.3333,-24.218 124.3333,-24.218 129.1667,-24.218 134,-29.0513 134,-33.8847 134,-33.8847 134,-43.5513 134,-43.5513 134,-48.3847 129.1667,-53.218 124.3333,-53.218\"/>\n",
       "<text text-anchor=\"middle\" x=\"85.5\" y=\"-35.618\" font-family=\"Times,serif\" font-size=\"12.00\" fill=\"#000000\">(⟨2⟩(ab){\\}ab*)*</text>\n",
       "</g>\n",
       "<!-- I0&#45;&gt;0 -->\n",
       "<g id=\"edge1\" class=\"edge\">\n",
       "<title>I0&#45;&gt;0</title>\n",
       "<path fill=\"none\" stroke=\"#000000\" d=\"M.062,-38.718C1.0888,-38.718 14.74,-38.718 30.841,-38.718\"/>\n",
       "<polygon fill=\"#000000\" stroke=\"#000000\" points=\"36.865,-38.718 30.865,-41.4181 33.865,-38.718 30.865,-38.7181 30.865,-38.7181 30.865,-38.7181 33.865,-38.718 30.865,-36.0181 36.865,-38.718 36.865,-38.718\"/>\n",
       "</g>\n",
       "<!-- F0 -->\n",
       "<g id=\"node2\" class=\"node\">\n",
       "<title>F0</title>\n",
       "<ellipse fill=\"#000000\" stroke=\"#000000\" cx=\"274\" cy=\"-54.718\" rx=\"0\" ry=\"0\"/>\n",
       "</g>\n",
       "<!-- F2 -->\n",
       "<g id=\"node3\" class=\"node\">\n",
       "<title>F2</title>\n",
       "<ellipse fill=\"#000000\" stroke=\"#000000\" cx=\"560\" cy=\"-21.718\" rx=\"0\" ry=\"0\"/>\n",
       "</g>\n",
       "<!-- 0&#45;&gt;F0 -->\n",
       "<g id=\"edge2\" class=\"edge\">\n",
       "<title>0&#45;&gt;F0</title>\n",
       "<path fill=\"none\" stroke=\"#000000\" d=\"M134.0434,-42.8384C180.8611,-46.8123 247.5322,-52.4714 267.8746,-54.1981\"/>\n",
       "<polygon fill=\"#000000\" stroke=\"#000000\" points=\"273.9388,-54.7128 267.7319,-56.8956 270.9496,-54.459 267.9603,-54.2053 267.9603,-54.2053 267.9603,-54.2053 270.9496,-54.459 268.1887,-51.5149 273.9388,-54.7128 273.9388,-54.7128\"/>\n",
       "</g>\n",
       "<!-- 1 -->\n",
       "<g id=\"node5\" class=\"node\">\n",
       "<title>1</title>\n",
       "<path fill=\"#98f5ff\" stroke=\"#000000\" d=\"M333.3333,-36.218C333.3333,-36.218 214.6667,-36.218 214.6667,-36.218 209.8333,-36.218 205,-31.3847 205,-26.5513 205,-26.5513 205,-16.8847 205,-16.8847 205,-12.0513 209.8333,-7.218 214.6667,-7.218 214.6667,-7.218 333.3333,-7.218 333.3333,-7.218 338.1667,-7.218 343,-12.0513 343,-16.8847 343,-16.8847 343,-26.5513 343,-26.5513 343,-31.3847 338.1667,-36.218 333.3333,-36.218\"/>\n",
       "<text text-anchor=\"middle\" x=\"274\" y=\"-18.618\" font-family=\"Times,serif\" font-size=\"12.00\" fill=\"#000000\">(b{\\}b*)(⟨2⟩(ab){\\}ab*)*</text>\n",
       "</g>\n",
       "<!-- 0&#45;&gt;1 -->\n",
       "<g id=\"edge3\" class=\"edge\">\n",
       "<title>0&#45;&gt;1</title>\n",
       "<path fill=\"none\" stroke=\"#000000\" d=\"M134.03,-28.299C140.06,-27.28 146.16,-26.381 152,-25.718 167.06,-24.01 183.22,-22.945 198.7,-22.296\"/>\n",
       "<polygon fill=\"#000000\" stroke=\"#000000\" points=\"204.82,-22.058 198.9295,-24.9892 201.8223,-22.1746 198.8245,-22.2913 198.8245,-22.2913 198.8245,-22.2913 201.8223,-22.1746 198.7196,-19.5933 204.82,-22.058 204.82,-22.058\"/>\n",
       "<text text-anchor=\"middle\" x=\"169.5\" y=\"-29.518\" font-family=\"Times,serif\" font-size=\"14.00\" fill=\"#000000\">⟨1/2⟩ε</text>\n",
       "</g>\n",
       "<!-- 2 -->\n",
       "<g id=\"node6\" class=\"node\">\n",
       "<title>2</title>\n",
       "<path fill=\"#98f5ff\" stroke=\"#000000\" d=\"M513.3333,-36.218C513.3333,-36.218 423.6667,-36.218 423.6667,-36.218 418.8333,-36.218 414,-31.3847 414,-26.5513 414,-26.5513 414,-16.8847 414,-16.8847 414,-12.0513 418.8333,-7.218 423.6667,-7.218 423.6667,-7.218 513.3333,-7.218 513.3333,-7.218 518.1667,-7.218 523,-12.0513 523,-16.8847 523,-16.8847 523,-26.5513 523,-26.5513 523,-31.3847 518.1667,-36.218 513.3333,-36.218\"/>\n",
       "<text text-anchor=\"middle\" x=\"468.5\" y=\"-18.618\" font-family=\"Times,serif\" font-size=\"12.00\" fill=\"#000000\">b*(⟨2⟩(ab){\\}ab*)*</text>\n",
       "</g>\n",
       "<!-- 1&#45;&gt;2 -->\n",
       "<g id=\"edge4\" class=\"edge\">\n",
       "<title>1&#45;&gt;2</title>\n",
       "<path fill=\"none\" stroke=\"#000000\" d=\"M343.12,-21.718C364.29,-21.718 387.4,-21.718 407.95,-21.718\"/>\n",
       "<polygon fill=\"#000000\" stroke=\"#000000\" points=\"413.96,-21.718 407.96,-24.4181 410.96,-21.718 407.96,-21.7181 407.96,-21.7181 407.96,-21.7181 410.96,-21.718 407.96,-19.0181 413.96,-21.718 413.96,-21.718\"/>\n",
       "<text text-anchor=\"middle\" x=\"378.5\" y=\"-25.518\" font-family=\"Times,serif\" font-size=\"14.00\" fill=\"#000000\">ε</text>\n",
       "</g>\n",
       "<!-- 2&#45;&gt;F2 -->\n",
       "<g id=\"edge5\" class=\"edge\">\n",
       "<title>2&#45;&gt;F2</title>\n",
       "<path fill=\"none\" stroke=\"#000000\" d=\"M523.0472,-21.718C535.5047,-21.718 547.0578,-21.718 553.8215,-21.718\"/>\n",
       "<polygon fill=\"#000000\" stroke=\"#000000\" points=\"559.9496,-21.718 553.9497,-24.4181 556.9496,-21.718 553.9496,-21.7181 553.9496,-21.7181 553.9496,-21.7181 556.9496,-21.718 553.9496,-19.0181 559.9496,-21.718 559.9496,-21.718\"/>\n",
       "</g>\n",
       "<!-- 2&#45;&gt;1 -->\n",
       "<g id=\"edge6\" class=\"edge\">\n",
       "<title>2&#45;&gt;1</title>\n",
       "<path fill=\"none\" stroke=\"#000000\" d=\"M420.09,-7.2058C412.11,-5.342 403.87,-3.7323 396,-2.7179 374.91,0 351.84,-2.2421 331.5,-6.0079\"/>\n",
       "<polygon fill=\"#000000\" stroke=\"#000000\" points=\"325.56,-7.1644 330.9334,-3.3674 328.5047,-6.591 331.4494,-6.0177 331.4494,-6.0177 331.4494,-6.0177 328.5047,-6.591 331.9654,-8.6679 325.56,-7.1644 325.56,-7.1644\"/>\n",
       "<text text-anchor=\"middle\" x=\"378.5\" y=\"-6.5179\" font-family=\"Times,serif\" font-size=\"14.00\" fill=\"#000000\">⟨1/2⟩ε</text>\n",
       "</g>\n",
       "<!-- 2&#45;&gt;2 -->\n",
       "<g id=\"edge7\" class=\"edge\">\n",
       "<title>2&#45;&gt;2</title>\n",
       "<path fill=\"none\" stroke=\"#000000\" d=\"M455.95,-36.424C452.93,-45.541 457.11,-54.218 468.5,-54.218 477.22,-54.218 481.72,-49.132 481.99,-42.656\"/>\n",
       "<polygon fill=\"#000000\" stroke=\"#000000\" points=\"481.05,-36.424 484.6148,-41.9542 481.4975,-39.3904 481.945,-42.3569 481.945,-42.3569 481.945,-42.3569 481.4975,-39.3904 479.2752,-42.7596 481.05,-36.424 481.05,-36.424\"/>\n",
       "<text text-anchor=\"middle\" x=\"468.5\" y=\"-58.018\" font-family=\"Times,serif\" font-size=\"14.00\" fill=\"#000000\">b</text>\n",
       "</g>\n",
       "</g>\n",
       "</svg>\n"
      ],
      "text/plain": [
       "filter_automaton<expression_automaton<mutable_automaton<context<nullableset<letterset<char_letters>>, q>>>>"
      ]
     },
     "execution_count": 22,
     "metadata": {},
     "output_type": "execute_result"
    }
   ],
   "source": [
    "a.trim()"
   ]
  },
  {
   "cell_type": "code",
   "execution_count": 23,
   "metadata": {
    "collapsed": false,
    "deletable": true,
    "editable": true
   },
   "outputs": [
    {
     "data": {
      "image/svg+xml": [
       "<?xml version=\"1.0\" encoding=\"UTF-8\" standalone=\"no\"?>\n",
       "<!DOCTYPE svg PUBLIC \"-//W3C//DTD SVG 1.1//EN\"\n",
       " \"http://www.w3.org/Graphics/SVG/1.1/DTD/svg11.dtd\">\n",
       "<!-- Generated by graphviz version 2.40.1 (20161225.0304)\n",
       " -->\n",
       "<!-- Title: %3 Pages: 1 -->\n",
       "<svg width=\"211pt\" height=\"89pt\"\n",
       " viewBox=\"0.00 0.00 211.00 88.54\" xmlns=\"http://www.w3.org/2000/svg\" xmlns:xlink=\"http://www.w3.org/1999/xlink\">\n",
       "<g id=\"graph0\" class=\"graph\" transform=\"scale(1 1) rotate(0) translate(4 84.544)\">\n",
       "<title>%3</title>\n",
       "<polygon fill=\"#ffffff\" stroke=\"transparent\" points=\"-4,4 -4,-84.544 207,-84.544 207,4 -4,4\"/>\n",
       "<!-- I0 -->\n",
       "<g id=\"node1\" class=\"node\">\n",
       "<title>I0</title>\n",
       "<ellipse fill=\"#000000\" stroke=\"#000000\" cx=\"0\" cy=\"-47.5\" rx=\"0\" ry=\"0\"/>\n",
       "</g>\n",
       "<!-- 0 -->\n",
       "<g id=\"node4\" class=\"node\">\n",
       "<title>0</title>\n",
       "<ellipse fill=\"#98f5ff\" stroke=\"#000000\" cx=\"51.5\" cy=\"-47.5\" rx=\"14.5\" ry=\"14.5\"/>\n",
       "<text text-anchor=\"middle\" x=\"51.5\" y=\"-44.4\" font-family=\"Times,serif\" font-size=\"12.00\" fill=\"#000000\">0</text>\n",
       "</g>\n",
       "<!-- I0&#45;&gt;0 -->\n",
       "<g id=\"edge1\" class=\"edge\">\n",
       "<title>I0&#45;&gt;0</title>\n",
       "<path fill=\"none\" stroke=\"#000000\" d=\"M.1477,-47.5C1.8156,-47.5 17.298,-47.5 30.83,-47.5\"/>\n",
       "<polygon fill=\"#000000\" stroke=\"#000000\" points=\"36.854,-47.5 30.854,-50.2001 33.854,-47.5 30.854,-47.5001 30.854,-47.5001 30.854,-47.5001 33.854,-47.5 30.854,-44.8001 36.854,-47.5 36.854,-47.5\"/>\n",
       "</g>\n",
       "<!-- F0 -->\n",
       "<g id=\"node2\" class=\"node\">\n",
       "<title>F0</title>\n",
       "<ellipse fill=\"#000000\" stroke=\"#000000\" cx=\"134.5\" cy=\"-80.5\" rx=\"0\" ry=\"0\"/>\n",
       "</g>\n",
       "<!-- F1 -->\n",
       "<g id=\"node3\" class=\"node\">\n",
       "<title>F1</title>\n",
       "<ellipse fill=\"#000000\" stroke=\"#000000\" cx=\"203\" cy=\"-14.5\" rx=\"0\" ry=\"0\"/>\n",
       "</g>\n",
       "<!-- 0&#45;&gt;F0 -->\n",
       "<g id=\"edge2\" class=\"edge\">\n",
       "<title>0&#45;&gt;F0</title>\n",
       "<path fill=\"none\" stroke=\"#000000\" d=\"M65.2058,-52.9493C83.5829,-60.2559 115.4176,-72.913 128.5609,-78.1387\"/>\n",
       "<polygon fill=\"#000000\" stroke=\"#000000\" points=\"134.3681,-80.4476 127.7951,-80.7397 131.5804,-79.3392 128.7926,-78.2308 128.7926,-78.2308 128.7926,-78.2308 131.5804,-79.3392 129.7902,-75.7218 134.3681,-80.4476 134.3681,-80.4476\"/>\n",
       "<text text-anchor=\"middle\" x=\"87.8833\" y=\"-69.344\" font-family=\"Times,serif\" font-size=\"14.00\" fill=\"#000000\">⟨2⟩</text>\n",
       "</g>\n",
       "<!-- 1 -->\n",
       "<g id=\"node5\" class=\"node\">\n",
       "<title>1</title>\n",
       "<ellipse fill=\"#98f5ff\" stroke=\"#000000\" cx=\"134.5\" cy=\"-14.5\" rx=\"14.5\" ry=\"14.5\"/>\n",
       "<text text-anchor=\"middle\" x=\"134.5\" y=\"-11.4\" font-family=\"Times,serif\" font-size=\"12.00\" fill=\"#000000\">1</text>\n",
       "</g>\n",
       "<!-- 0&#45;&gt;1 -->\n",
       "<g id=\"edge3\" class=\"edge\">\n",
       "<title>0&#45;&gt;1</title>\n",
       "<path fill=\"none\" stroke=\"#000000\" d=\"M65.206,-42.051C78.782,-36.653 99.703,-28.335 115.01,-22.25\"/>\n",
       "<polygon fill=\"#000000\" stroke=\"#000000\" points=\"120.77,-19.957 116.1941,-24.6848 117.9827,-21.0666 115.1955,-22.1762 115.1955,-22.1762 115.1955,-22.1762 117.9827,-21.0666 114.1968,-19.6677 120.77,-19.957 120.77,-19.957\"/>\n",
       "<text text-anchor=\"middle\" x=\"93\" y=\"-38.3\" font-family=\"Times,serif\" font-size=\"14.00\" fill=\"#000000\">b</text>\n",
       "</g>\n",
       "<!-- 1&#45;&gt;F1 -->\n",
       "<g id=\"edge4\" class=\"edge\">\n",
       "<title>1&#45;&gt;F1</title>\n",
       "<path fill=\"none\" stroke=\"#000000\" d=\"M149.0271,-14.5C163.7887,-14.5 185.965,-14.5 196.7135,-14.5\"/>\n",
       "<polygon fill=\"#000000\" stroke=\"#000000\" points=\"202.9022,-14.5 196.9023,-17.2001 199.9022,-14.5 196.9022,-14.5001 196.9022,-14.5001 196.9022,-14.5001 199.9022,-14.5 196.9022,-11.8001 202.9022,-14.5 202.9022,-14.5\"/>\n",
       "<text text-anchor=\"middle\" x=\"163.8703\" y=\"-18.3\" font-family=\"Times,serif\" font-size=\"14.00\" fill=\"#000000\">⟨2⟩</text>\n",
       "</g>\n",
       "<!-- 1&#45;&gt;1 -->\n",
       "<g id=\"edge5\" class=\"edge\">\n",
       "<title>1&#45;&gt;1</title>\n",
       "<path fill=\"none\" stroke=\"#000000\" d=\"M127.89,-27.515C125.58,-37.219 127.78,-47 134.5,-47 139.75,-47 142.24,-41.03 141.98,-33.791\"/>\n",
       "<polygon fill=\"#000000\" stroke=\"#000000\" points=\"141.11,-27.515 144.6084,-33.0874 141.522,-30.4866 141.9339,-33.4582 141.9339,-33.4582 141.9339,-33.4582 141.522,-30.4866 139.2595,-33.8289 141.11,-27.515 141.11,-27.515\"/>\n",
       "<text text-anchor=\"middle\" x=\"134.5\" y=\"-50.8\" font-family=\"Times,serif\" font-size=\"14.00\" fill=\"#000000\">⟨2⟩b</text>\n",
       "</g>\n",
       "</g>\n",
       "</svg>\n"
      ],
      "text/plain": [
       "mutable_automaton<context<letterset<char_letters>, q>>"
      ]
     },
     "execution_count": 23,
     "metadata": {},
     "output_type": "execute_result"
    }
   ],
   "source": [
    "a.trim().proper()"
   ]
  },
  {
   "cell_type": "markdown",
   "metadata": {
    "deletable": true,
    "editable": true
   },
   "source": [
    "A (basic) rational expression is therefore:"
   ]
  },
  {
   "cell_type": "code",
   "execution_count": 24,
   "metadata": {
    "collapsed": false,
    "deletable": true,
    "editable": true
   },
   "outputs": [
    {
     "data": {
      "text/latex": [
       "$ \\left\\langle 2 \\right\\rangle \\,\\varepsilon +  \\left\\langle 2 \\right\\rangle \\,\\left(b \\, \\left( \\left\\langle 2 \\right\\rangle \\,b\\right)^{*}\\right)$"
      ],
      "text/plain": [
       "<2>\\e+<2>(b(<2>b)*)"
      ]
     },
     "execution_count": 24,
     "metadata": {},
     "output_type": "execute_result"
    }
   ],
   "source": [
    "a.trim().proper().expression()"
   ]
  },
  {
   "cell_type": "markdown",
   "metadata": {
    "deletable": true,
    "editable": true
   },
   "source": [
    "## Example 6\n",
    "The following expression in invalid in $\\mathbb{Q}$, but valid in $\\mathbb{B}$."
   ]
  },
  {
   "cell_type": "code",
   "execution_count": 25,
   "metadata": {
    "collapsed": false,
    "deletable": true,
    "editable": true
   },
   "outputs": [
    {
     "data": {
      "image/svg+xml": [
       "<?xml version=\"1.0\" encoding=\"UTF-8\" standalone=\"no\"?>\n",
       "<!DOCTYPE svg PUBLIC \"-//W3C//DTD SVG 1.1//EN\"\n",
       " \"http://www.w3.org/Graphics/SVG/1.1/DTD/svg11.dtd\">\n",
       "<!-- Generated by graphviz version 2.40.1 (20161225.0304)\n",
       " -->\n",
       "<!-- Title: %3 Pages: 1 -->\n",
       "<svg width=\"296pt\" height=\"89pt\"\n",
       " viewBox=\"0.00 0.00 296.00 88.50\" xmlns=\"http://www.w3.org/2000/svg\" xmlns:xlink=\"http://www.w3.org/1999/xlink\">\n",
       "<g id=\"graph0\" class=\"graph\" transform=\"scale(1 1) rotate(0) translate(4 84.5)\">\n",
       "<title>%3</title>\n",
       "<polygon fill=\"#ffffff\" stroke=\"transparent\" points=\"-4,4 -4,-84.5 292,-84.5 292,4 -4,4\"/>\n",
       "<!-- I0 -->\n",
       "<g id=\"node1\" class=\"node\">\n",
       "<title>I0</title>\n",
       "<ellipse fill=\"#000000\" stroke=\"#000000\" cx=\"0\" cy=\"-47.5\" rx=\"0\" ry=\"0\"/>\n",
       "</g>\n",
       "<!-- 0 -->\n",
       "<g id=\"node4\" class=\"node\">\n",
       "<title>0</title>\n",
       "<path fill=\"#98f5ff\" stroke=\"#000000\" d=\"M95.3333,-62C95.3333,-62 46.6667,-62 46.6667,-62 41.8333,-62 37,-57.1667 37,-52.3333 37,-52.3333 37,-42.6667 37,-42.6667 37,-37.8333 41.8333,-33 46.6667,-33 46.6667,-33 95.3333,-33 95.3333,-33 100.1667,-33 105,-37.8333 105,-42.6667 105,-42.6667 105,-52.3333 105,-52.3333 105,-57.1667 100.1667,-62 95.3333,-62\"/>\n",
       "<text text-anchor=\"middle\" x=\"71\" y=\"-44.4\" font-family=\"Times,serif\" font-size=\"12.00\" fill=\"#000000\">(ab{\\}ab)*</text>\n",
       "</g>\n",
       "<!-- I0&#45;&gt;0 -->\n",
       "<g id=\"edge1\" class=\"edge\">\n",
       "<title>I0&#45;&gt;0</title>\n",
       "<path fill=\"none\" stroke=\"#000000\" d=\"M.0515,-47.5C1.0079,-47.5 15.154,-47.5 30.565,-47.5\"/>\n",
       "<polygon fill=\"#000000\" stroke=\"#000000\" points=\"36.741,-47.5 30.741,-50.2001 33.741,-47.5 30.741,-47.5001 30.741,-47.5001 30.741,-47.5001 33.741,-47.5 30.741,-44.8001 36.741,-47.5 36.741,-47.5\"/>\n",
       "</g>\n",
       "<!-- F0 -->\n",
       "<g id=\"node2\" class=\"node\">\n",
       "<title>F0</title>\n",
       "<ellipse fill=\"#000000\" stroke=\"#000000\" cx=\"199.5\" cy=\"-80.5\" rx=\"0\" ry=\"0\"/>\n",
       "</g>\n",
       "<!-- F1 -->\n",
       "<g id=\"node3\" class=\"node\">\n",
       "<title>F1</title>\n",
       "<ellipse fill=\"#000000\" stroke=\"#000000\" cx=\"288\" cy=\"-14.5\" rx=\"0\" ry=\"0\"/>\n",
       "</g>\n",
       "<!-- 0&#45;&gt;F0 -->\n",
       "<g id=\"edge2\" class=\"edge\">\n",
       "<title>0&#45;&gt;F0</title>\n",
       "<path fill=\"none\" stroke=\"#000000\" d=\"M105.0983,-56.2568C135.6388,-64.0998 177.9341,-74.9617 193.4679,-78.9509\"/>\n",
       "<polygon fill=\"#000000\" stroke=\"#000000\" points=\"199.3372,-80.4582 192.8542,-81.5808 196.4315,-79.712 193.5258,-78.9657 193.5258,-78.9657 193.5258,-78.9657 196.4315,-79.712 194.1974,-76.3506 199.3372,-80.4582 199.3372,-80.4582\"/>\n",
       "</g>\n",
       "<!-- 1 -->\n",
       "<g id=\"node5\" class=\"node\">\n",
       "<title>1</title>\n",
       "<path fill=\"#98f5ff\" stroke=\"#000000\" d=\"M241.3333,-29C241.3333,-29 157.6667,-29 157.6667,-29 152.8333,-29 148,-24.1667 148,-19.3333 148,-19.3333 148,-9.6667 148,-9.6667 148,-4.8333 152.8333,0 157.6667,0 157.6667,0 241.3333,0 241.3333,0 246.1667,0 251,-4.8333 251,-9.6667 251,-9.6667 251,-19.3333 251,-19.3333 251,-24.1667 246.1667,-29 241.3333,-29\"/>\n",
       "<text text-anchor=\"middle\" x=\"199.5\" y=\"-11.4\" font-family=\"Times,serif\" font-size=\"12.00\" fill=\"#000000\">(b{\\}b)(ab{\\}ab)*</text>\n",
       "</g>\n",
       "<!-- 0&#45;&gt;1 -->\n",
       "<g id=\"edge3\" class=\"edge\">\n",
       "<title>0&#45;&gt;1</title>\n",
       "<path fill=\"none\" stroke=\"#000000\" d=\"M105.1,-38.743C116.34,-35.855 129.18,-32.558 141.69,-29.345\"/>\n",
       "<polygon fill=\"#000000\" stroke=\"#000000\" points=\"147.8,-27.777 142.6595,-31.8838 144.8942,-28.5228 141.9883,-29.2685 141.9883,-29.2685 141.9883,-29.2685 144.8942,-28.5228 141.3171,-26.6533 147.8,-27.777 147.8,-27.777\"/>\n",
       "<text text-anchor=\"middle\" x=\"126.5\" y=\"-38.3\" font-family=\"Times,serif\" font-size=\"14.00\" fill=\"#000000\">ε</text>\n",
       "</g>\n",
       "<!-- 1&#45;&gt;F1 -->\n",
       "<g id=\"edge4\" class=\"edge\">\n",
       "<title>1&#45;&gt;F1</title>\n",
       "<path fill=\"none\" stroke=\"#000000\" d=\"M251.2369,-14.5C263.5492,-14.5 275.0651,-14.5 281.8209,-14.5\"/>\n",
       "<polygon fill=\"#000000\" stroke=\"#000000\" points=\"287.9495,-14.5 281.9495,-17.2001 284.9495,-14.5 281.9495,-14.5001 281.9495,-14.5001 281.9495,-14.5001 284.9495,-14.5 281.9495,-11.8001 287.9495,-14.5 287.9495,-14.5\"/>\n",
       "</g>\n",
       "<!-- 1&#45;&gt;1 -->\n",
       "<g id=\"edge5\" class=\"edge\">\n",
       "<title>1&#45;&gt;1</title>\n",
       "<path fill=\"none\" stroke=\"#000000\" d=\"M187.3,-29.206C184.36,-38.324 188.43,-47 199.5,-47 207.98,-47 212.35,-41.914 212.61,-35.438\"/>\n",
       "<polygon fill=\"#000000\" stroke=\"#000000\" points=\"211.7,-29.206 215.2387,-34.7529 212.1335,-32.1745 212.567,-35.143 212.567,-35.143 212.567,-35.143 212.1335,-32.1745 209.8953,-35.5332 211.7,-29.206 211.7,-29.206\"/>\n",
       "<text text-anchor=\"middle\" x=\"199.5\" y=\"-50.8\" font-family=\"Times,serif\" font-size=\"14.00\" fill=\"#000000\">ε</text>\n",
       "</g>\n",
       "</g>\n",
       "</svg>\n"
      ],
      "text/plain": [
       "expression_automaton<mutable_automaton<context<nullableset<letterset<char_letters>>, q>>>"
      ]
     },
     "execution_count": 25,
     "metadata": {},
     "output_type": "execute_result"
    }
   ],
   "source": [
    "e = Q.expression('(ab {\\} ab)*')\n",
    "a = e.derived_term()\n",
    "a"
   ]
  },
  {
   "cell_type": "code",
   "execution_count": 26,
   "metadata": {
    "collapsed": false,
    "deletable": true,
    "editable": true
   },
   "outputs": [
    {
     "data": {
      "text/plain": [
       "False"
      ]
     },
     "execution_count": 26,
     "metadata": {},
     "output_type": "execute_result"
    }
   ],
   "source": [
    "a.is_valid()"
   ]
  },
  {
   "cell_type": "markdown",
   "metadata": {
    "deletable": true,
    "editable": true
   },
   "source": [
    "This is because the weight of the spontaneous cycle, 1, is not starrable:"
   ]
  },
  {
   "cell_type": "code",
   "execution_count": 27,
   "metadata": {
    "collapsed": false,
    "deletable": true,
    "editable": true
   },
   "outputs": [
    {
     "data": {
      "text/latex": [
       "$1$"
      ],
      "text/plain": [
       "1"
      ]
     },
     "execution_count": 27,
     "metadata": {},
     "output_type": "execute_result"
    }
   ],
   "source": [
    "w = Q.weight('1')\n",
    "w"
   ]
  },
  {
   "cell_type": "code",
   "execution_count": 28,
   "metadata": {
    "collapsed": false,
    "deletable": true,
    "editable": true
   },
   "outputs": [
    {
     "name": "stderr",
     "output_type": "stream",
     "text": [
      "Q: value is not starrable: 1\n"
     ]
    }
   ],
   "source": [
    "try:\n",
    "    w.star()\n",
    "except RuntimeError as e:\n",
    "    print(e, file=sys.stderr)"
   ]
  },
  {
   "cell_type": "markdown",
   "metadata": {
    "deletable": true,
    "editable": true
   },
   "source": [
    "But in $\\mathbb{B}$, it is well defined:"
   ]
  },
  {
   "cell_type": "code",
   "execution_count": 29,
   "metadata": {
    "collapsed": false,
    "deletable": true,
    "editable": true
   },
   "outputs": [
    {
     "data": {
      "text/latex": [
       "$(\\{\\ldots\\})^?\\to\\mathbb{B}$"
      ],
      "text/plain": [
       "{...}? -> B"
      ]
     },
     "execution_count": 29,
     "metadata": {},
     "output_type": "execute_result"
    }
   ],
   "source": [
    "B = vcsn.context('lan, b')\n",
    "B"
   ]
  },
  {
   "cell_type": "code",
   "execution_count": 30,
   "metadata": {
    "collapsed": false,
    "deletable": true,
    "editable": true
   },
   "outputs": [
    {
     "data": {
      "text/latex": [
       "$\\top$"
      ],
      "text/plain": [
       "1"
      ]
     },
     "execution_count": 30,
     "metadata": {},
     "output_type": "execute_result"
    }
   ],
   "source": [
    "w = B.weight('1')\n",
    "w"
   ]
  },
  {
   "cell_type": "code",
   "execution_count": 31,
   "metadata": {
    "collapsed": false,
    "deletable": true,
    "editable": true
   },
   "outputs": [
    {
     "data": {
      "text/latex": [
       "$\\top$"
      ],
      "text/plain": [
       "1"
      ]
     },
     "execution_count": 31,
     "metadata": {},
     "output_type": "execute_result"
    }
   ],
   "source": [
    "w.star()"
   ]
  },
  {
   "cell_type": "markdown",
   "metadata": {
    "deletable": true,
    "editable": true
   },
   "source": [
    "Hence the automaton is valid."
   ]
  },
  {
   "cell_type": "code",
   "execution_count": 32,
   "metadata": {
    "collapsed": false,
    "deletable": true,
    "editable": true
   },
   "outputs": [
    {
     "data": {
      "image/svg+xml": [
       "<?xml version=\"1.0\" encoding=\"UTF-8\" standalone=\"no\"?>\n",
       "<!DOCTYPE svg PUBLIC \"-//W3C//DTD SVG 1.1//EN\"\n",
       " \"http://www.w3.org/Graphics/SVG/1.1/DTD/svg11.dtd\">\n",
       "<!-- Generated by graphviz version 2.40.1 (20161225.0304)\n",
       " -->\n",
       "<!-- Title: %3 Pages: 1 -->\n",
       "<svg width=\"296pt\" height=\"89pt\"\n",
       " viewBox=\"0.00 0.00 296.00 88.50\" xmlns=\"http://www.w3.org/2000/svg\" xmlns:xlink=\"http://www.w3.org/1999/xlink\">\n",
       "<g id=\"graph0\" class=\"graph\" transform=\"scale(1 1) rotate(0) translate(4 84.5)\">\n",
       "<title>%3</title>\n",
       "<polygon fill=\"#ffffff\" stroke=\"transparent\" points=\"-4,4 -4,-84.5 292,-84.5 292,4 -4,4\"/>\n",
       "<!-- I0 -->\n",
       "<g id=\"node1\" class=\"node\">\n",
       "<title>I0</title>\n",
       "<ellipse fill=\"#000000\" stroke=\"#000000\" cx=\"0\" cy=\"-47.5\" rx=\"0\" ry=\"0\"/>\n",
       "</g>\n",
       "<!-- 0 -->\n",
       "<g id=\"node4\" class=\"node\">\n",
       "<title>0</title>\n",
       "<path fill=\"#98f5ff\" stroke=\"#000000\" d=\"M95.3333,-62C95.3333,-62 46.6667,-62 46.6667,-62 41.8333,-62 37,-57.1667 37,-52.3333 37,-52.3333 37,-42.6667 37,-42.6667 37,-37.8333 41.8333,-33 46.6667,-33 46.6667,-33 95.3333,-33 95.3333,-33 100.1667,-33 105,-37.8333 105,-42.6667 105,-42.6667 105,-52.3333 105,-52.3333 105,-57.1667 100.1667,-62 95.3333,-62\"/>\n",
       "<text text-anchor=\"middle\" x=\"71\" y=\"-44.4\" font-family=\"Times,serif\" font-size=\"12.00\" fill=\"#000000\">(ab{\\}ab)*</text>\n",
       "</g>\n",
       "<!-- I0&#45;&gt;0 -->\n",
       "<g id=\"edge1\" class=\"edge\">\n",
       "<title>I0&#45;&gt;0</title>\n",
       "<path fill=\"none\" stroke=\"#000000\" d=\"M.0515,-47.5C1.0079,-47.5 15.154,-47.5 30.565,-47.5\"/>\n",
       "<polygon fill=\"#000000\" stroke=\"#000000\" points=\"36.741,-47.5 30.741,-50.2001 33.741,-47.5 30.741,-47.5001 30.741,-47.5001 30.741,-47.5001 33.741,-47.5 30.741,-44.8001 36.741,-47.5 36.741,-47.5\"/>\n",
       "</g>\n",
       "<!-- F0 -->\n",
       "<g id=\"node2\" class=\"node\">\n",
       "<title>F0</title>\n",
       "<ellipse fill=\"#000000\" stroke=\"#000000\" cx=\"199.5\" cy=\"-80.5\" rx=\"0\" ry=\"0\"/>\n",
       "</g>\n",
       "<!-- F1 -->\n",
       "<g id=\"node3\" class=\"node\">\n",
       "<title>F1</title>\n",
       "<ellipse fill=\"#000000\" stroke=\"#000000\" cx=\"288\" cy=\"-14.5\" rx=\"0\" ry=\"0\"/>\n",
       "</g>\n",
       "<!-- 0&#45;&gt;F0 -->\n",
       "<g id=\"edge2\" class=\"edge\">\n",
       "<title>0&#45;&gt;F0</title>\n",
       "<path fill=\"none\" stroke=\"#000000\" d=\"M105.0983,-56.2568C135.6388,-64.0998 177.9341,-74.9617 193.4679,-78.9509\"/>\n",
       "<polygon fill=\"#000000\" stroke=\"#000000\" points=\"199.3372,-80.4582 192.8542,-81.5808 196.4315,-79.712 193.5258,-78.9657 193.5258,-78.9657 193.5258,-78.9657 196.4315,-79.712 194.1974,-76.3506 199.3372,-80.4582 199.3372,-80.4582\"/>\n",
       "</g>\n",
       "<!-- 1 -->\n",
       "<g id=\"node5\" class=\"node\">\n",
       "<title>1</title>\n",
       "<path fill=\"#98f5ff\" stroke=\"#000000\" d=\"M241.3333,-29C241.3333,-29 157.6667,-29 157.6667,-29 152.8333,-29 148,-24.1667 148,-19.3333 148,-19.3333 148,-9.6667 148,-9.6667 148,-4.8333 152.8333,0 157.6667,0 157.6667,0 241.3333,0 241.3333,0 246.1667,0 251,-4.8333 251,-9.6667 251,-9.6667 251,-19.3333 251,-19.3333 251,-24.1667 246.1667,-29 241.3333,-29\"/>\n",
       "<text text-anchor=\"middle\" x=\"199.5\" y=\"-11.4\" font-family=\"Times,serif\" font-size=\"12.00\" fill=\"#000000\">(b{\\}b)(ab{\\}ab)*</text>\n",
       "</g>\n",
       "<!-- 0&#45;&gt;1 -->\n",
       "<g id=\"edge3\" class=\"edge\">\n",
       "<title>0&#45;&gt;1</title>\n",
       "<path fill=\"none\" stroke=\"#000000\" d=\"M105.1,-38.743C116.34,-35.855 129.18,-32.558 141.69,-29.345\"/>\n",
       "<polygon fill=\"#000000\" stroke=\"#000000\" points=\"147.8,-27.777 142.6595,-31.8838 144.8942,-28.5228 141.9883,-29.2685 141.9883,-29.2685 141.9883,-29.2685 144.8942,-28.5228 141.3171,-26.6533 147.8,-27.777 147.8,-27.777\"/>\n",
       "<text text-anchor=\"middle\" x=\"126.5\" y=\"-38.3\" font-family=\"Times,serif\" font-size=\"14.00\" fill=\"#000000\">ε</text>\n",
       "</g>\n",
       "<!-- 1&#45;&gt;F1 -->\n",
       "<g id=\"edge4\" class=\"edge\">\n",
       "<title>1&#45;&gt;F1</title>\n",
       "<path fill=\"none\" stroke=\"#000000\" d=\"M251.2369,-14.5C263.5492,-14.5 275.0651,-14.5 281.8209,-14.5\"/>\n",
       "<polygon fill=\"#000000\" stroke=\"#000000\" points=\"287.9495,-14.5 281.9495,-17.2001 284.9495,-14.5 281.9495,-14.5001 281.9495,-14.5001 281.9495,-14.5001 284.9495,-14.5 281.9495,-11.8001 287.9495,-14.5 287.9495,-14.5\"/>\n",
       "</g>\n",
       "<!-- 1&#45;&gt;1 -->\n",
       "<g id=\"edge5\" class=\"edge\">\n",
       "<title>1&#45;&gt;1</title>\n",
       "<path fill=\"none\" stroke=\"#000000\" d=\"M187.3,-29.206C184.36,-38.324 188.43,-47 199.5,-47 207.98,-47 212.35,-41.914 212.61,-35.438\"/>\n",
       "<polygon fill=\"#000000\" stroke=\"#000000\" points=\"211.7,-29.206 215.2387,-34.7529 212.1335,-32.1745 212.567,-35.143 212.567,-35.143 212.567,-35.143 212.1335,-32.1745 209.8953,-35.5332 211.7,-29.206 211.7,-29.206\"/>\n",
       "<text text-anchor=\"middle\" x=\"199.5\" y=\"-50.8\" font-family=\"Times,serif\" font-size=\"14.00\" fill=\"#000000\">ε</text>\n",
       "</g>\n",
       "</g>\n",
       "</svg>\n"
      ],
      "text/plain": [
       "expression_automaton<mutable_automaton<context<nullableset<letterset<char_letters>>, b>>>"
      ]
     },
     "execution_count": 32,
     "metadata": {},
     "output_type": "execute_result"
    }
   ],
   "source": [
    "e = B.expression('(ab {\\} ab)*')\n",
    "a = e.derived_term()\n",
    "a"
   ]
  },
  {
   "cell_type": "code",
   "execution_count": 33,
   "metadata": {
    "collapsed": false,
    "deletable": true,
    "editable": true
   },
   "outputs": [
    {
     "data": {
      "text/plain": [
       "True"
      ]
     },
     "execution_count": 33,
     "metadata": {},
     "output_type": "execute_result"
    }
   ],
   "source": [
    "a.is_valid()"
   ]
  },
  {
   "cell_type": "code",
   "execution_count": 34,
   "metadata": {
    "collapsed": false,
    "deletable": true,
    "editable": true
   },
   "outputs": [
    {
     "data": {
      "image/svg+xml": [
       "<?xml version=\"1.0\" encoding=\"UTF-8\" standalone=\"no\"?>\n",
       "<!DOCTYPE svg PUBLIC \"-//W3C//DTD SVG 1.1//EN\"\n",
       " \"http://www.w3.org/Graphics/SVG/1.1/DTD/svg11.dtd\">\n",
       "<!-- Generated by graphviz version 2.40.1 (20161225.0304)\n",
       " -->\n",
       "<!-- Title: %3 Pages: 1 -->\n",
       "<svg width=\"109pt\" height=\"37pt\"\n",
       " viewBox=\"0.00 0.00 109.00 37.00\" xmlns=\"http://www.w3.org/2000/svg\" xmlns:xlink=\"http://www.w3.org/1999/xlink\">\n",
       "<g id=\"graph0\" class=\"graph\" transform=\"scale(1 1) rotate(0) translate(4 33)\">\n",
       "<title>%3</title>\n",
       "<polygon fill=\"#ffffff\" stroke=\"transparent\" points=\"-4,4 -4,-33 105,-33 105,4 -4,4\"/>\n",
       "<!-- I0 -->\n",
       "<g id=\"node1\" class=\"node\">\n",
       "<title>I0</title>\n",
       "<ellipse fill=\"#000000\" stroke=\"#000000\" cx=\"0\" cy=\"-14.5\" rx=\"0\" ry=\"0\"/>\n",
       "</g>\n",
       "<!-- 0 -->\n",
       "<g id=\"node3\" class=\"node\">\n",
       "<title>0</title>\n",
       "<ellipse fill=\"#98f5ff\" stroke=\"#000000\" cx=\"50.5\" cy=\"-14.5\" rx=\"14.5\" ry=\"14.5\"/>\n",
       "<text text-anchor=\"middle\" x=\"50.5\" y=\"-11.4\" font-family=\"Times,serif\" font-size=\"12.00\" fill=\"#000000\">0</text>\n",
       "</g>\n",
       "<!-- I0&#45;&gt;0 -->\n",
       "<g id=\"edge1\" class=\"edge\">\n",
       "<title>I0&#45;&gt;0</title>\n",
       "<path fill=\"none\" stroke=\"#000000\" d=\"M.1449,-14.5C1.7557,-14.5 16.507,-14.5 29.63,-14.5\"/>\n",
       "<polygon fill=\"#000000\" stroke=\"#000000\" points=\"35.876,-14.5 29.876,-17.2001 32.876,-14.5 29.876,-14.5001 29.876,-14.5001 29.876,-14.5001 32.876,-14.5 29.876,-11.8001 35.876,-14.5 35.876,-14.5\"/>\n",
       "</g>\n",
       "<!-- F0 -->\n",
       "<g id=\"node2\" class=\"node\">\n",
       "<title>F0</title>\n",
       "<ellipse fill=\"#000000\" stroke=\"#000000\" cx=\"101\" cy=\"-14.5\" rx=\"0\" ry=\"0\"/>\n",
       "</g>\n",
       "<!-- 0&#45;&gt;F0 -->\n",
       "<g id=\"edge2\" class=\"edge\">\n",
       "<title>0&#45;&gt;F0</title>\n",
       "<path fill=\"none\" stroke=\"#000000\" d=\"M65.1067,-14.5C74.9272,-14.5 87.3767,-14.5 94.7355,-14.5\"/>\n",
       "<polygon fill=\"#000000\" stroke=\"#000000\" points=\"100.9394,-14.5 94.9394,-17.2001 97.9394,-14.5 94.9394,-14.5001 94.9394,-14.5001 94.9394,-14.5001 97.9394,-14.5 94.9393,-11.8001 100.9394,-14.5 100.9394,-14.5\"/>\n",
       "</g>\n",
       "</g>\n",
       "</svg>\n"
      ],
      "text/plain": [
       "mutable_automaton<context<letterset<char_letters>, b>>"
      ]
     },
     "execution_count": 34,
     "metadata": {},
     "output_type": "execute_result"
    }
   ],
   "source": [
    "a.proper()"
   ]
  },
  {
   "cell_type": "markdown",
   "metadata": {
    "deletable": true,
    "editable": true
   },
   "source": [
    "## Section 5: Transpose and Right Quotient\n",
    "The right quotient is written as `{\\}`, and transpose as a postfix operator `{T}`.\n",
    "\n",
    "The following simple example shows how transpose is handled."
   ]
  },
  {
   "cell_type": "code",
   "execution_count": 35,
   "metadata": {
    "collapsed": false,
    "deletable": true,
    "editable": true
   },
   "outputs": [
    {
     "data": {
      "text/latex": [
       "${\\left(a \\, b \\, c\\right)^{*}}^{T}$"
      ],
      "text/plain": [
       "(abc)*{T}"
      ]
     },
     "execution_count": 35,
     "metadata": {},
     "output_type": "execute_result"
    }
   ],
   "source": [
    "e = Q.expression('(abc)*{T}')\n",
    "e"
   ]
  },
  {
   "cell_type": "code",
   "execution_count": 36,
   "metadata": {
    "collapsed": false,
    "deletable": true,
    "editable": true
   },
   "outputs": [
    {
     "data": {
      "text/latex": [
       "$\\left\\langle 1\\right\\rangle  \\oplus c \\odot \\left[\\left(a \\, b\\right)^{T} \\, {\\left(a \\, b \\, c\\right)^{*}}^{T}\\right]$"
      ],
      "text/plain": [
       "<1> + c.[(ab){T}(abc)*{T}]"
      ]
     },
     "execution_count": 36,
     "metadata": {},
     "output_type": "execute_result"
    }
   ],
   "source": [
    "e.expansion()"
   ]
  },
  {
   "cell_type": "code",
   "execution_count": 37,
   "metadata": {
    "collapsed": false,
    "deletable": true,
    "editable": true
   },
   "outputs": [
    {
     "data": {
      "image/svg+xml": [
       "<?xml version=\"1.0\" encoding=\"UTF-8\" standalone=\"no\"?>\n",
       "<!DOCTYPE svg PUBLIC \"-//W3C//DTD SVG 1.1//EN\"\n",
       " \"http://www.w3.org/Graphics/SVG/1.1/DTD/svg11.dtd\">\n",
       "<!-- Generated by graphviz version 2.40.1 (20161225.0304)\n",
       " -->\n",
       "<!-- Title: %3 Pages: 1 -->\n",
       "<svg width=\"309pt\" height=\"90pt\"\n",
       " viewBox=\"0.00 0.00 309.00 90.47\" xmlns=\"http://www.w3.org/2000/svg\" xmlns:xlink=\"http://www.w3.org/1999/xlink\">\n",
       "<g id=\"graph0\" class=\"graph\" transform=\"scale(1 1) rotate(0) translate(4 86.4664)\">\n",
       "<title>%3</title>\n",
       "<polygon fill=\"#ffffff\" stroke=\"transparent\" points=\"-4,4 -4,-86.4664 305,-86.4664 305,4 -4,4\"/>\n",
       "<!-- I0 -->\n",
       "<g id=\"node1\" class=\"node\">\n",
       "<title>I0</title>\n",
       "<ellipse fill=\"#000000\" stroke=\"#000000\" cx=\"0\" cy=\"-49.4664\" rx=\"0\" ry=\"0\"/>\n",
       "</g>\n",
       "<!-- 0 -->\n",
       "<g id=\"node3\" class=\"node\">\n",
       "<title>0</title>\n",
       "<path fill=\"#98f5ff\" stroke=\"#000000\" d=\"M77.3333,-63.9664C77.3333,-63.9664 46.6667,-63.9664 46.6667,-63.9664 41.8333,-63.9664 37,-59.1331 37,-54.2997 37,-54.2997 37,-44.6331 37,-44.6331 37,-39.7997 41.8333,-34.9664 46.6667,-34.9664 46.6667,-34.9664 77.3333,-34.9664 77.3333,-34.9664 82.1667,-34.9664 87,-39.7997 87,-44.6331 87,-44.6331 87,-54.2997 87,-54.2997 87,-59.1331 82.1667,-63.9664 77.3333,-63.9664\"/>\n",
       "<text text-anchor=\"middle\" x=\"62\" y=\"-46.3664\" font-family=\"Times,serif\" font-size=\"12.00\" fill=\"#000000\">(abc)*ᵗ</text>\n",
       "</g>\n",
       "<!-- I0&#45;&gt;0 -->\n",
       "<g id=\"edge1\" class=\"edge\">\n",
       "<title>I0&#45;&gt;0</title>\n",
       "<path fill=\"none\" stroke=\"#000000\" d=\"M.0449,-49.4664C.9562,-49.4664 15.577,-49.4664 30.386,-49.4664\"/>\n",
       "<polygon fill=\"#000000\" stroke=\"#000000\" points=\"36.704,-49.4664 30.704,-52.1665 33.704,-49.4664 30.704,-49.4665 30.704,-49.4665 30.704,-49.4665 33.704,-49.4664 30.704,-46.7665 36.704,-49.4664 36.704,-49.4664\"/>\n",
       "</g>\n",
       "<!-- F0 -->\n",
       "<g id=\"node2\" class=\"node\">\n",
       "<title>F0</title>\n",
       "<ellipse fill=\"#000000\" stroke=\"#000000\" cx=\"166\" cy=\"-82.4664\" rx=\"0\" ry=\"0\"/>\n",
       "</g>\n",
       "<!-- 0&#45;&gt;F0 -->\n",
       "<g id=\"edge2\" class=\"edge\">\n",
       "<title>0&#45;&gt;F0</title>\n",
       "<path fill=\"none\" stroke=\"#000000\" d=\"M87.1755,-57.4548C111.402,-65.142 146.3257,-76.2236 160.0976,-80.5935\"/>\n",
       "<polygon fill=\"#000000\" stroke=\"#000000\" points=\"165.8612,-82.4224 159.3256,-83.1812 163.0017,-81.515 160.1422,-80.6076 160.1422,-80.6076 160.1422,-80.6076 163.0017,-81.515 160.9589,-78.0341 165.8612,-82.4224 165.8612,-82.4224\"/>\n",
       "</g>\n",
       "<!-- 1 -->\n",
       "<g id=\"node4\" class=\"node\">\n",
       "<title>1</title>\n",
       "<path fill=\"#98f5ff\" stroke=\"#000000\" d=\"M192.3333,-63.9664C192.3333,-63.9664 139.6667,-63.9664 139.6667,-63.9664 134.8333,-63.9664 130,-59.1331 130,-54.2997 130,-54.2997 130,-44.6331 130,-44.6331 130,-39.7997 134.8333,-34.9664 139.6667,-34.9664 139.6667,-34.9664 192.3333,-34.9664 192.3333,-34.9664 197.1667,-34.9664 202,-39.7997 202,-44.6331 202,-44.6331 202,-54.2997 202,-54.2997 202,-59.1331 197.1667,-63.9664 192.3333,-63.9664\"/>\n",
       "<text text-anchor=\"middle\" x=\"166\" y=\"-46.3664\" font-family=\"Times,serif\" font-size=\"12.00\" fill=\"#000000\">(ab)ᵗ(abc)*ᵗ</text>\n",
       "</g>\n",
       "<!-- 0&#45;&gt;1 -->\n",
       "<g id=\"edge3\" class=\"edge\">\n",
       "<title>0&#45;&gt;1</title>\n",
       "<path fill=\"none\" stroke=\"#000000\" d=\"M87.175,-49.4664C98.128,-49.4664 111.27,-49.4664 123.65,-49.4664\"/>\n",
       "<polygon fill=\"#000000\" stroke=\"#000000\" points=\"129.65,-49.4664 123.65,-52.1665 126.65,-49.4664 123.65,-49.4665 123.65,-49.4665 123.65,-49.4665 126.65,-49.4664 123.65,-46.7665 129.65,-49.4664 129.65,-49.4664\"/>\n",
       "<text text-anchor=\"middle\" x=\"108.5\" y=\"-53.2664\" font-family=\"Times,serif\" font-size=\"14.00\" fill=\"#000000\">c</text>\n",
       "</g>\n",
       "<!-- 2 -->\n",
       "<g id=\"node5\" class=\"node\">\n",
       "<title>2</title>\n",
       "<path fill=\"#98f5ff\" stroke=\"#000000\" d=\"M291.3333,-31.9664C291.3333,-31.9664 255.6667,-31.9664 255.6667,-31.9664 250.8333,-31.9664 246,-27.1331 246,-22.2997 246,-22.2997 246,-12.6331 246,-12.6331 246,-7.7997 250.8333,-2.9664 255.6667,-2.9664 255.6667,-2.9664 291.3333,-2.9664 291.3333,-2.9664 296.1667,-2.9664 301,-7.7997 301,-12.6331 301,-12.6331 301,-22.2997 301,-22.2997 301,-27.1331 296.1667,-31.9664 291.3333,-31.9664\"/>\n",
       "<text text-anchor=\"middle\" x=\"273.5\" y=\"-14.3664\" font-family=\"Times,serif\" font-size=\"12.00\" fill=\"#000000\">a(abc)*ᵗ</text>\n",
       "</g>\n",
       "<!-- 1&#45;&gt;2 -->\n",
       "<g id=\"edge4\" class=\"edge\">\n",
       "<title>1&#45;&gt;2</title>\n",
       "<path fill=\"none\" stroke=\"#000000\" d=\"M202.09,-38.7214C214.36,-35.0704 228.01,-31.0084 240.06,-27.4214\"/>\n",
       "<polygon fill=\"#000000\" stroke=\"#000000\" points=\"245.83,-25.7034 240.85,-30.0034 242.9547,-26.5595 240.0795,-27.4157 240.0795,-27.4157 240.0795,-27.4157 242.9547,-26.5595 239.309,-24.8279 245.83,-25.7034 245.83,-25.7034\"/>\n",
       "<text text-anchor=\"middle\" x=\"224\" y=\"-37.2664\" font-family=\"Times,serif\" font-size=\"14.00\" fill=\"#000000\">b</text>\n",
       "</g>\n",
       "<!-- 2&#45;&gt;0 -->\n",
       "<g id=\"edge5\" class=\"edge\">\n",
       "<title>2&#45;&gt;0</title>\n",
       "<path fill=\"none\" stroke=\"#000000\" d=\"M246,-11.2223C216.72,-5.6998 169.29,0 130,-10.4664 114.35,-14.6354 98.557,-23.3554 86.134,-31.4954\"/>\n",
       "<polygon fill=\"#000000\" stroke=\"#000000\" points=\"81.027,-34.9334 84.4965,-29.3429 83.5156,-33.258 86.0043,-31.5827 86.0043,-31.5827 86.0043,-31.5827 83.5156,-33.258 87.5121,-33.8225 81.027,-34.9334 81.027,-34.9334\"/>\n",
       "<text text-anchor=\"middle\" x=\"166\" y=\"-14.2664\" font-family=\"Times,serif\" font-size=\"14.00\" fill=\"#000000\">a</text>\n",
       "</g>\n",
       "</g>\n",
       "</svg>\n"
      ],
      "text/plain": [
       "expression_automaton<mutable_automaton<context<nullableset<letterset<char_letters>>, q>>>"
      ]
     },
     "execution_count": 37,
     "metadata": {},
     "output_type": "execute_result"
    }
   ],
   "source": [
    "e.derived_term()"
   ]
  },
  {
   "cell_type": "markdown",
   "metadata": {
    "deletable": true,
    "editable": true
   },
   "source": [
    "Then with a right quotient."
   ]
  },
  {
   "cell_type": "code",
   "execution_count": 38,
   "metadata": {
    "collapsed": false,
    "deletable": true,
    "editable": true
   },
   "outputs": [
    {
     "data": {
      "text/latex": [
       "$\\left(\\left(b \\, a\\right)^{T} \\backslash \\left(a \\, b \\, a\\right)^{T}\\right)^{T}$"
      ],
      "text/plain": [
       "((ba){T}{\\}(aba){T}){T}"
      ]
     },
     "execution_count": 38,
     "metadata": {},
     "output_type": "execute_result"
    }
   ],
   "source": [
    "e = Q.expression('aba {/} ba')\n",
    "e"
   ]
  },
  {
   "cell_type": "code",
   "execution_count": 39,
   "metadata": {
    "collapsed": false,
    "deletable": true,
    "editable": true
   },
   "outputs": [
    {
     "data": {
      "image/svg+xml": [
       "<?xml version=\"1.0\" encoding=\"UTF-8\" standalone=\"no\"?>\n",
       "<!DOCTYPE svg PUBLIC \"-//W3C//DTD SVG 1.1//EN\"\n",
       " \"http://www.w3.org/Graphics/SVG/1.1/DTD/svg11.dtd\">\n",
       "<!-- Generated by graphviz version 2.40.1 (20161225.0304)\n",
       " -->\n",
       "<!-- Title: %3 Pages: 1 -->\n",
       "<svg width=\"432pt\" height=\"38pt\"\n",
       " viewBox=\"0.00 0.00 432.00 37.50\" xmlns=\"http://www.w3.org/2000/svg\" xmlns:xlink=\"http://www.w3.org/1999/xlink\">\n",
       "<g id=\"graph0\" class=\"graph\" transform=\"scale(1 1) rotate(0) translate(4 33.5)\">\n",
       "<title>%3</title>\n",
       "<polygon fill=\"#ffffff\" stroke=\"transparent\" points=\"-4,4 -4,-33.5 428,-33.5 428,4 -4,4\"/>\n",
       "<!-- I0 -->\n",
       "<g id=\"node1\" class=\"node\">\n",
       "<title>I0</title>\n",
       "<ellipse fill=\"#000000\" stroke=\"#000000\" cx=\"0\" cy=\"-14.5\" rx=\"0\" ry=\"0\"/>\n",
       "</g>\n",
       "<!-- 0 -->\n",
       "<g id=\"node3\" class=\"node\">\n",
       "<title>0</title>\n",
       "<path fill=\"#98f5ff\" stroke=\"#000000\" d=\"M119.3333,-29C119.3333,-29 46.6667,-29 46.6667,-29 41.8333,-29 37,-24.1667 37,-19.3333 37,-19.3333 37,-9.6667 37,-9.6667 37,-4.8333 41.8333,0 46.6667,0 46.6667,0 119.3333,0 119.3333,0 124.1667,0 129,-4.8333 129,-9.6667 129,-9.6667 129,-19.3333 129,-19.3333 129,-24.1667 124.1667,-29 119.3333,-29\"/>\n",
       "<text text-anchor=\"middle\" x=\"83\" y=\"-11.4\" font-family=\"Times,serif\" font-size=\"12.00\" fill=\"#000000\">((ba)ᵗ{\\}(aba)ᵗ)ᵗ</text>\n",
       "</g>\n",
       "<!-- I0&#45;&gt;0 -->\n",
       "<g id=\"edge1\" class=\"edge\">\n",
       "<title>I0&#45;&gt;0</title>\n",
       "<path fill=\"none\" stroke=\"#000000\" d=\"M.0602,-14.5C1.0656,-14.5 14.539,-14.5 30.344,-14.5\"/>\n",
       "<polygon fill=\"#000000\" stroke=\"#000000\" points=\"36.737,-14.5 30.737,-17.2001 33.737,-14.5 30.737,-14.5001 30.737,-14.5001 30.737,-14.5001 33.737,-14.5 30.737,-11.8001 36.737,-14.5 36.737,-14.5\"/>\n",
       "</g>\n",
       "<!-- F3 -->\n",
       "<g id=\"node2\" class=\"node\">\n",
       "<title>F3</title>\n",
       "<ellipse fill=\"#000000\" stroke=\"#000000\" cx=\"424\" cy=\"-14.5\" rx=\"0\" ry=\"0\"/>\n",
       "</g>\n",
       "<!-- 1 -->\n",
       "<g id=\"node4\" class=\"node\">\n",
       "<title>1</title>\n",
       "<path fill=\"#98f5ff\" stroke=\"#000000\" d=\"M233.3333,-29C233.3333,-29 181.6667,-29 181.6667,-29 176.8333,-29 172,-24.1667 172,-19.3333 172,-19.3333 172,-9.6667 172,-9.6667 172,-4.8333 176.8333,0 181.6667,0 181.6667,0 233.3333,0 233.3333,0 238.1667,0 243,-4.8333 243,-9.6667 243,-9.6667 243,-19.3333 243,-19.3333 243,-24.1667 238.1667,-29 233.3333,-29\"/>\n",
       "<text text-anchor=\"middle\" x=\"207.5\" y=\"-11.4\" font-family=\"Times,serif\" font-size=\"12.00\" fill=\"#000000\">(b{\\}(ab)ᵗ)ᵗ</text>\n",
       "</g>\n",
       "<!-- 0&#45;&gt;1 -->\n",
       "<g id=\"edge2\" class=\"edge\">\n",
       "<title>0&#45;&gt;1</title>\n",
       "<path fill=\"none\" stroke=\"#000000\" d=\"M129.01,-14.5C141.04,-14.5 153.94,-14.5 165.74,-14.5\"/>\n",
       "<polygon fill=\"#000000\" stroke=\"#000000\" points=\"171.8,-14.5 165.8,-17.2001 168.8,-14.5 165.8,-14.5001 165.8,-14.5001 165.8,-14.5001 168.8,-14.5 165.8,-11.8001 171.8,-14.5 171.8,-14.5\"/>\n",
       "<text text-anchor=\"middle\" x=\"150.5\" y=\"-18.3\" font-family=\"Times,serif\" font-size=\"14.00\" fill=\"#000000\">ε</text>\n",
       "</g>\n",
       "<!-- 2 -->\n",
       "<g id=\"node5\" class=\"node\">\n",
       "<title>2</title>\n",
       "<path fill=\"#98f5ff\" stroke=\"#000000\" d=\"M305.3333,-29C305.3333,-29 295.6667,-29 295.6667,-29 290.8333,-29 286,-24.1667 286,-19.3333 286,-19.3333 286,-9.6667 286,-9.6667 286,-4.8333 290.8333,0 295.6667,0 295.6667,0 305.3333,0 305.3333,0 310.1667,0 315,-4.8333 315,-9.6667 315,-9.6667 315,-19.3333 315,-19.3333 315,-24.1667 310.1667,-29 305.3333,-29\"/>\n",
       "<text text-anchor=\"middle\" x=\"300.5\" y=\"-11.4\" font-family=\"Times,serif\" font-size=\"12.00\" fill=\"#000000\">a</text>\n",
       "</g>\n",
       "<!-- 1&#45;&gt;2 -->\n",
       "<g id=\"edge3\" class=\"edge\">\n",
       "<title>1&#45;&gt;2</title>\n",
       "<path fill=\"none\" stroke=\"#000000\" d=\"M243.19,-14.5C255.41,-14.5 268.68,-14.5 279.37,-14.5\"/>\n",
       "<polygon fill=\"#000000\" stroke=\"#000000\" points=\"285.66,-14.5 279.66,-17.2001 282.66,-14.5 279.66,-14.5001 279.66,-14.5001 279.66,-14.5001 282.66,-14.5 279.66,-11.8001 285.66,-14.5 285.66,-14.5\"/>\n",
       "<text text-anchor=\"middle\" x=\"264.5\" y=\"-18.3\" font-family=\"Times,serif\" font-size=\"14.00\" fill=\"#000000\">ε</text>\n",
       "</g>\n",
       "<!-- 3 -->\n",
       "<g id=\"node6\" class=\"node\">\n",
       "<title>3</title>\n",
       "<path fill=\"#98f5ff\" stroke=\"#000000\" d=\"M377.3333,-29C377.3333,-29 367.6667,-29 367.6667,-29 362.8333,-29 358,-24.1667 358,-19.3333 358,-19.3333 358,-9.6667 358,-9.6667 358,-4.8333 362.8333,0 367.6667,0 367.6667,0 377.3333,0 377.3333,0 382.1667,0 387,-4.8333 387,-9.6667 387,-9.6667 387,-19.3333 387,-19.3333 387,-24.1667 382.1667,-29 377.3333,-29\"/>\n",
       "<text text-anchor=\"middle\" x=\"372.5\" y=\"-11.4\" font-family=\"Times,serif\" font-size=\"12.00\" fill=\"#000000\">ε</text>\n",
       "</g>\n",
       "<!-- 2&#45;&gt;3 -->\n",
       "<g id=\"edge4\" class=\"edge\">\n",
       "<title>2&#45;&gt;3</title>\n",
       "<path fill=\"none\" stroke=\"#000000\" d=\"M315.07,-14.5C325.61,-14.5 340,-14.5 351.74,-14.5\"/>\n",
       "<polygon fill=\"#000000\" stroke=\"#000000\" points=\"357.95,-14.5 351.95,-17.2001 354.95,-14.5 351.95,-14.5001 351.95,-14.5001 351.95,-14.5001 354.95,-14.5 351.95,-11.8001 357.95,-14.5 357.95,-14.5\"/>\n",
       "<text text-anchor=\"middle\" x=\"336.5\" y=\"-18.3\" font-family=\"Times,serif\" font-size=\"14.00\" fill=\"#000000\">a</text>\n",
       "</g>\n",
       "<!-- 3&#45;&gt;F3 -->\n",
       "<g id=\"edge5\" class=\"edge\">\n",
       "<title>3&#45;&gt;F3</title>\n",
       "<path fill=\"none\" stroke=\"#000000\" d=\"M387.1201,-14.5C397.2606,-14.5 410.2527,-14.5 417.7999,-14.5\"/>\n",
       "<polygon fill=\"#000000\" stroke=\"#000000\" points=\"423.9374,-14.5 417.9375,-17.2001 420.9374,-14.5 417.9374,-14.5001 417.9374,-14.5001 417.9374,-14.5001 420.9374,-14.5 417.9374,-11.8001 423.9374,-14.5 423.9374,-14.5\"/>\n",
       "</g>\n",
       "</g>\n",
       "</svg>\n"
      ],
      "text/plain": [
       "expression_automaton<mutable_automaton<context<nullableset<letterset<char_letters>>, q>>>"
      ]
     },
     "execution_count": 39,
     "metadata": {},
     "output_type": "execute_result"
    }
   ],
   "source": [
    "e.derived_term()"
   ]
  },
  {
   "cell_type": "markdown",
   "metadata": {},
   "source": [
    "### Example 7\n",
    "The following example, in $\\mathbb{B}$, computes the suffixes of the language $ab$."
   ]
  },
  {
   "cell_type": "code",
   "execution_count": 40,
   "metadata": {
    "collapsed": false
   },
   "outputs": [
    {
     "data": {
      "text/latex": [
       "$\\left({\\left(a + b\\right)^{*}}^{T} \\backslash \\left(a \\, b\\right)^{T}\\right)^{T}$"
      ],
      "text/plain": [
       "((a+b)*{T}{\\}(ab){T}){T}"
      ]
     },
     "execution_count": 40,
     "metadata": {},
     "output_type": "execute_result"
    }
   ],
   "source": [
    "e = vcsn.context('lan, b').expression('(ab){/}[ab]*')\n",
    "e"
   ]
  },
  {
   "cell_type": "code",
   "execution_count": 41,
   "metadata": {
    "collapsed": false
   },
   "outputs": [
    {
     "data": {
      "image/svg+xml": [
       "<?xml version=\"1.0\" encoding=\"UTF-8\" standalone=\"no\"?>\n",
       "<!DOCTYPE svg PUBLIC \"-//W3C//DTD SVG 1.1//EN\"\n",
       " \"http://www.w3.org/Graphics/SVG/1.1/DTD/svg11.dtd\">\n",
       "<!-- Generated by graphviz version 2.40.1 (20161225.0304)\n",
       " -->\n",
       "<!-- Title: %3 Pages: 1 -->\n",
       "<svg width=\"567pt\" height=\"246pt\"\n",
       " viewBox=\"0.00 0.00 567.00 245.50\" xmlns=\"http://www.w3.org/2000/svg\" xmlns:xlink=\"http://www.w3.org/1999/xlink\">\n",
       "<g id=\"graph0\" class=\"graph\" transform=\"scale(1 1) rotate(0) translate(4 241.5)\">\n",
       "<title>%3</title>\n",
       "<polygon fill=\"#ffffff\" stroke=\"transparent\" points=\"-4,4 -4,-241.5 563,-241.5 563,4 -4,4\"/>\n",
       "<!-- I0 -->\n",
       "<g id=\"node1\" class=\"node\">\n",
       "<title>I0</title>\n",
       "<ellipse fill=\"#000000\" stroke=\"#000000\" cx=\"0\" cy=\"-198.5\" rx=\"0\" ry=\"0\"/>\n",
       "</g>\n",
       "<!-- 0 -->\n",
       "<g id=\"node4\" class=\"node\">\n",
       "<title>0</title>\n",
       "<path fill=\"#98f5ff\" stroke=\"#000000\" d=\"M127.3333,-213C127.3333,-213 46.6667,-213 46.6667,-213 41.8333,-213 37,-208.1667 37,-203.3333 37,-203.3333 37,-193.6667 37,-193.6667 37,-188.8333 41.8333,-184 46.6667,-184 46.6667,-184 127.3333,-184 127.3333,-184 132.1667,-184 137,-188.8333 137,-193.6667 137,-193.6667 137,-203.3333 137,-203.3333 137,-208.1667 132.1667,-213 127.3333,-213\"/>\n",
       "<text text-anchor=\"middle\" x=\"87\" y=\"-195.4\" font-family=\"Times,serif\" font-size=\"12.00\" fill=\"#000000\">((a+b)*ᵗ{\\}(ab)ᵗ)ᵗ</text>\n",
       "</g>\n",
       "<!-- I0&#45;&gt;0 -->\n",
       "<g id=\"edge1\" class=\"edge\">\n",
       "<title>I0&#45;&gt;0</title>\n",
       "<path fill=\"none\" stroke=\"#000000\" d=\"M.0631,-198.5C1.0806,-198.5 14.281,-198.5 30.101,-198.5\"/>\n",
       "<polygon fill=\"#000000\" stroke=\"#000000\" points=\"36.518,-198.5 30.518,-201.2001 33.518,-198.5 30.518,-198.5001 30.518,-198.5001 30.518,-198.5001 33.518,-198.5 30.518,-195.8001 36.518,-198.5 36.518,-198.5\"/>\n",
       "</g>\n",
       "<!-- F4 -->\n",
       "<g id=\"node2\" class=\"node\">\n",
       "<title>F4</title>\n",
       "<ellipse fill=\"#000000\" stroke=\"#000000\" cx=\"477.5\" cy=\"-160.5\" rx=\"0\" ry=\"0\"/>\n",
       "</g>\n",
       "<!-- F7 -->\n",
       "<g id=\"node3\" class=\"node\">\n",
       "<title>F7</title>\n",
       "<ellipse fill=\"#000000\" stroke=\"#000000\" cx=\"559\" cy=\"-212.5\" rx=\"0\" ry=\"0\"/>\n",
       "</g>\n",
       "<!-- 1 -->\n",
       "<g id=\"node5\" class=\"node\">\n",
       "<title>1</title>\n",
       "<path fill=\"#98f5ff\" stroke=\"#000000\" d=\"M231.3333,-237C231.3333,-237 211.6667,-237 211.6667,-237 206.8333,-237 202,-232.1667 202,-227.3333 202,-227.3333 202,-217.6667 202,-217.6667 202,-212.8333 206.8333,-208 211.6667,-208 211.6667,-208 231.3333,-208 231.3333,-208 236.1667,-208 241,-212.8333 241,-217.6667 241,-217.6667 241,-227.3333 241,-227.3333 241,-232.1667 236.1667,-237 231.3333,-237\"/>\n",
       "<text text-anchor=\"middle\" x=\"221.5\" y=\"-219.4\" font-family=\"Times,serif\" font-size=\"12.00\" fill=\"#000000\">(ba)ᵗ</text>\n",
       "</g>\n",
       "<!-- 0&#45;&gt;1 -->\n",
       "<g id=\"edge2\" class=\"edge\">\n",
       "<title>0&#45;&gt;1</title>\n",
       "<path fill=\"none\" stroke=\"#000000\" d=\"M137.08,-207.44C157,-210.99 179.06,-214.93 195.64,-217.88\"/>\n",
       "<polygon fill=\"#000000\" stroke=\"#000000\" points=\"201.93,-219.01 195.5471,-220.6065 198.9773,-218.4795 196.0245,-217.949 196.0245,-217.949 196.0245,-217.949 198.9773,-218.4795 196.502,-215.2915 201.93,-219.01 201.93,-219.01\"/>\n",
       "<text text-anchor=\"middle\" x=\"158.5\" y=\"-215.3\" font-family=\"Times,serif\" font-size=\"14.00\" fill=\"#000000\">ε</text>\n",
       "</g>\n",
       "<!-- 2 -->\n",
       "<g id=\"node6\" class=\"node\">\n",
       "<title>2</title>\n",
       "<path fill=\"#98f5ff\" stroke=\"#000000\" d=\"M253.3333,-190C253.3333,-190 189.6667,-190 189.6667,-190 184.8333,-190 180,-185.1667 180,-180.3333 180,-180.3333 180,-170.6667 180,-170.6667 180,-165.8333 184.8333,-161 189.6667,-161 189.6667,-161 253.3333,-161 253.3333,-161 258.1667,-161 263,-165.8333 263,-170.6667 263,-170.6667 263,-180.3333 263,-180.3333 263,-185.1667 258.1667,-190 253.3333,-190\"/>\n",
       "<text text-anchor=\"middle\" x=\"221.5\" y=\"-172.4\" font-family=\"Times,serif\" font-size=\"12.00\" fill=\"#000000\">((a+b)*ᵗ{\\}a)ᵗ</text>\n",
       "</g>\n",
       "<!-- 0&#45;&gt;2 -->\n",
       "<g id=\"edge3\" class=\"edge\">\n",
       "<title>0&#45;&gt;2</title>\n",
       "<path fill=\"none\" stroke=\"#000000\" d=\"M137.36,-185.9C143.28,-184.64 149.26,-183.47 155,-182.5 161.01,-181.48 167.35,-180.59 173.63,-179.81\"/>\n",
       "<polygon fill=\"#000000\" stroke=\"#000000\" points=\"179.89,-179.06 174.2538,-182.4547 176.9113,-179.4169 173.9326,-179.7738 173.9326,-179.7738 173.9326,-179.7738 176.9113,-179.4169 173.6114,-177.093 179.89,-179.06 179.89,-179.06\"/>\n",
       "<text text-anchor=\"middle\" x=\"158.5\" y=\"-186.3\" font-family=\"Times,serif\" font-size=\"14.00\" fill=\"#000000\">ε</text>\n",
       "</g>\n",
       "<!-- 8 -->\n",
       "<g id=\"node12\" class=\"node\">\n",
       "<title>8</title>\n",
       "<path fill=\"#98f5ff\" stroke=\"#000000\" d=\"M352.3333,-237C352.3333,-237 342.6667,-237 342.6667,-237 337.8333,-237 333,-232.1667 333,-227.3333 333,-227.3333 333,-217.6667 333,-217.6667 333,-212.8333 337.8333,-208 342.6667,-208 342.6667,-208 352.3333,-208 352.3333,-208 357.1667,-208 362,-212.8333 362,-217.6667 362,-217.6667 362,-227.3333 362,-227.3333 362,-232.1667 357.1667,-237 352.3333,-237\"/>\n",
       "<text text-anchor=\"middle\" x=\"347.5\" y=\"-219.4\" font-family=\"Times,serif\" font-size=\"12.00\" fill=\"#000000\">b</text>\n",
       "</g>\n",
       "<!-- 1&#45;&gt;8 -->\n",
       "<g id=\"edge4\" class=\"edge\">\n",
       "<title>1&#45;&gt;8</title>\n",
       "<path fill=\"none\" stroke=\"#000000\" d=\"M241.19,-222.5C264.34,-222.5 302.63,-222.5 326.38,-222.5\"/>\n",
       "<polygon fill=\"#000000\" stroke=\"#000000\" points=\"332.68,-222.5 326.68,-225.2001 329.68,-222.5 326.68,-222.5001 326.68,-222.5001 326.68,-222.5001 329.68,-222.5 326.68,-219.8001 332.68,-222.5 332.68,-222.5\"/>\n",
       "<text text-anchor=\"middle\" x=\"284.5\" y=\"-226.3\" font-family=\"Times,serif\" font-size=\"14.00\" fill=\"#000000\">a</text>\n",
       "</g>\n",
       "<!-- 3 -->\n",
       "<g id=\"node7\" class=\"node\">\n",
       "<title>3</title>\n",
       "<path fill=\"#98f5ff\" stroke=\"#000000\" d=\"M352.3333,-190C352.3333,-190 342.6667,-190 342.6667,-190 337.8333,-190 333,-185.1667 333,-180.3333 333,-180.3333 333,-170.6667 333,-170.6667 333,-165.8333 337.8333,-161 342.6667,-161 342.6667,-161 352.3333,-161 352.3333,-161 357.1667,-161 362,-165.8333 362,-170.6667 362,-170.6667 362,-180.3333 362,-180.3333 362,-185.1667 357.1667,-190 352.3333,-190\"/>\n",
       "<text text-anchor=\"middle\" x=\"347.5\" y=\"-172.4\" font-family=\"Times,serif\" font-size=\"12.00\" fill=\"#000000\">a</text>\n",
       "</g>\n",
       "<!-- 2&#45;&gt;3 -->\n",
       "<g id=\"edge5\" class=\"edge\">\n",
       "<title>2&#45;&gt;3</title>\n",
       "<path fill=\"none\" stroke=\"#000000\" d=\"M263.11,-175.5C284.37,-175.5 309.32,-175.5 326.55,-175.5\"/>\n",
       "<polygon fill=\"#000000\" stroke=\"#000000\" points=\"332.98,-175.5 326.98,-178.2001 329.98,-175.5 326.98,-175.5001 326.98,-175.5001 326.98,-175.5001 329.98,-175.5 326.98,-172.8001 332.98,-175.5 332.98,-175.5\"/>\n",
       "<text text-anchor=\"middle\" x=\"284.5\" y=\"-179.3\" font-family=\"Times,serif\" font-size=\"14.00\" fill=\"#000000\">ε</text>\n",
       "</g>\n",
       "<!-- 4 -->\n",
       "<g id=\"node8\" class=\"node\">\n",
       "<title>4</title>\n",
       "<path fill=\"#98f5ff\" stroke=\"#000000\" d=\"M379.3333,-131C379.3333,-131 315.6667,-131 315.6667,-131 310.8333,-131 306,-126.1667 306,-121.3333 306,-121.3333 306,-111.6667 306,-111.6667 306,-106.8333 310.8333,-102 315.6667,-102 315.6667,-102 379.3333,-102 379.3333,-102 384.1667,-102 389,-106.8333 389,-111.6667 389,-111.6667 389,-121.3333 389,-121.3333 389,-126.1667 384.1667,-131 379.3333,-131\"/>\n",
       "<text text-anchor=\"middle\" x=\"347.5\" y=\"-113.4\" font-family=\"Times,serif\" font-size=\"12.00\" fill=\"#000000\">((a+b)*ᵗ{\\}ε)ᵗ</text>\n",
       "</g>\n",
       "<!-- 2&#45;&gt;4 -->\n",
       "<g id=\"edge6\" class=\"edge\">\n",
       "<title>2&#45;&gt;4</title>\n",
       "<path fill=\"none\" stroke=\"#000000\" d=\"M252.65,-160.92C270.21,-152.69 292.27,-142.36 310.68,-133.74\"/>\n",
       "<polygon fill=\"#000000\" stroke=\"#000000\" points=\"316.28,-131.12 311.9896,-136.1083 313.5627,-132.3913 310.8454,-133.6627 310.8454,-133.6627 310.8454,-133.6627 313.5627,-132.3913 309.7012,-131.2171 316.28,-131.12 316.28,-131.12\"/>\n",
       "<text text-anchor=\"middle\" x=\"284.5\" y=\"-150.3\" font-family=\"Times,serif\" font-size=\"14.00\" fill=\"#000000\">ε</text>\n",
       "</g>\n",
       "<!-- 7 -->\n",
       "<g id=\"node11\" class=\"node\">\n",
       "<title>7</title>\n",
       "<path fill=\"#98f5ff\" stroke=\"#000000\" d=\"M482.3333,-227C482.3333,-227 472.6667,-227 472.6667,-227 467.8333,-227 463,-222.1667 463,-217.3333 463,-217.3333 463,-207.6667 463,-207.6667 463,-202.8333 467.8333,-198 472.6667,-198 472.6667,-198 482.3333,-198 482.3333,-198 487.1667,-198 492,-202.8333 492,-207.6667 492,-207.6667 492,-217.3333 492,-217.3333 492,-222.1667 487.1667,-227 482.3333,-227\"/>\n",
       "<text text-anchor=\"middle\" x=\"477.5\" y=\"-209.4\" font-family=\"Times,serif\" font-size=\"12.00\" fill=\"#000000\">ε</text>\n",
       "</g>\n",
       "<!-- 3&#45;&gt;7 -->\n",
       "<g id=\"edge7\" class=\"edge\">\n",
       "<title>3&#45;&gt;7</title>\n",
       "<path fill=\"none\" stroke=\"#000000\" d=\"M362.16,-179.67C385.27,-186.25 430.27,-199.06 456.71,-206.58\"/>\n",
       "<polygon fill=\"#000000\" stroke=\"#000000\" points=\"462.69,-208.29 456.1789,-209.2363 459.8056,-207.4652 456.9212,-206.6403 456.9212,-206.6403 456.9212,-206.6403 459.8056,-207.4652 457.6636,-204.0444 462.69,-208.29 462.69,-208.29\"/>\n",
       "<text text-anchor=\"middle\" x=\"411\" y=\"-198.3\" font-family=\"Times,serif\" font-size=\"14.00\" fill=\"#000000\">a</text>\n",
       "</g>\n",
       "<!-- 4&#45;&gt;F4 -->\n",
       "<g id=\"edge8\" class=\"edge\">\n",
       "<title>4&#45;&gt;F4</title>\n",
       "<path fill=\"none\" stroke=\"#000000\" d=\"M389.3484,-130.6641C419.261,-140.7883 456.6982,-153.4594 471.2825,-158.3956\"/>\n",
       "<polygon fill=\"#000000\" stroke=\"#000000\" points=\"477.355,-160.4509 470.806,-161.0848 474.5133,-159.4891 471.6717,-158.5273 471.6717,-158.5273 471.6717,-158.5273 474.5133,-159.4891 472.5373,-155.9698 477.355,-160.4509 477.355,-160.4509\"/>\n",
       "</g>\n",
       "<!-- 5 -->\n",
       "<g id=\"node9\" class=\"node\">\n",
       "<title>5</title>\n",
       "<path fill=\"#d3d3d3\" stroke=\"#000000\" d=\"M511.8333,-109C511.8333,-109 443.1667,-109 443.1667,-109 438.3333,-109 433.5,-104.1667 433.5,-99.3333 433.5,-99.3333 433.5,-89.6667 433.5,-89.6667 433.5,-84.8333 438.3333,-80 443.1667,-80 443.1667,-80 511.8333,-80 511.8333,-80 516.6667,-80 521.5,-84.8333 521.5,-89.6667 521.5,-89.6667 521.5,-99.3333 521.5,-99.3333 521.5,-104.1667 516.6667,-109 511.8333,-109\"/>\n",
       "<text text-anchor=\"middle\" x=\"477.5\" y=\"-91.4\" font-family=\"Times,serif\" font-size=\"12.00\" fill=\"#000000\">(a(a+b)*ᵗ{\\}ε)ᵗ</text>\n",
       "</g>\n",
       "<!-- 4&#45;&gt;5 -->\n",
       "<g id=\"edge9\" class=\"edge\">\n",
       "<title>4&#45;&gt;5</title>\n",
       "<path fill=\"none\" stroke=\"#696969\" d=\"M389.35,-109.42C401.47,-107.37 414.82,-105.11 427.39,-102.98\"/>\n",
       "<polygon fill=\"#696969\" stroke=\"#696969\" points=\"433.49,-101.95 428.0233,-105.6114 430.5319,-102.4495 427.5737,-102.9491 427.5737,-102.9491 427.5737,-102.9491 430.5319,-102.4495 427.1242,-100.2867 433.49,-101.95 433.49,-101.95\"/>\n",
       "<text text-anchor=\"middle\" x=\"411\" y=\"-110.3\" font-family=\"Times,serif\" font-size=\"14.00\" fill=\"#000000\">ε</text>\n",
       "</g>\n",
       "<!-- 6 -->\n",
       "<g id=\"node10\" class=\"node\">\n",
       "<title>6</title>\n",
       "<path fill=\"#d3d3d3\" stroke=\"#000000\" d=\"M512.3333,-29C512.3333,-29 442.6667,-29 442.6667,-29 437.8333,-29 433,-24.1667 433,-19.3333 433,-19.3333 433,-9.6667 433,-9.6667 433,-4.8333 437.8333,0 442.6667,0 442.6667,0 512.3333,0 512.3333,0 517.1667,0 522,-4.8333 522,-9.6667 522,-9.6667 522,-19.3333 522,-19.3333 522,-24.1667 517.1667,-29 512.3333,-29\"/>\n",
       "<text text-anchor=\"middle\" x=\"477.5\" y=\"-11.4\" font-family=\"Times,serif\" font-size=\"12.00\" fill=\"#000000\">(b(a+b)*ᵗ{\\}ε)ᵗ</text>\n",
       "</g>\n",
       "<!-- 4&#45;&gt;6 -->\n",
       "<g id=\"edge10\" class=\"edge\">\n",
       "<title>4&#45;&gt;6</title>\n",
       "<path fill=\"none\" stroke=\"#696969\" d=\"M366.13,-101.89C389.29,-83.708 428.86,-52.66 454.07,-32.885\"/>\n",
       "<polygon fill=\"#696969\" stroke=\"#696969\" points=\"458.91,-29.087 455.8566,-34.9151 456.5499,-30.939 454.1898,-32.791 454.1898,-32.791 454.1898,-32.791 456.5499,-30.939 452.523,-30.6669 458.91,-29.087 458.91,-29.087\"/>\n",
       "<text text-anchor=\"middle\" x=\"411\" y=\"-73.3\" font-family=\"Times,serif\" font-size=\"14.00\" fill=\"#000000\">ε</text>\n",
       "</g>\n",
       "<!-- 5&#45;&gt;5 -->\n",
       "<g id=\"edge11\" class=\"edge\">\n",
       "<title>5&#45;&gt;5</title>\n",
       "<path fill=\"none\" stroke=\"#696969\" d=\"M466.7,-109.21C464.09,-118.32 467.69,-127 477.5,-127 485.01,-127 488.88,-121.91 489.11,-115.44\"/>\n",
       "<polygon fill=\"#696969\" stroke=\"#696969\" points=\"488.3,-109.21 491.7511,-114.8118 488.6868,-112.185 489.0737,-115.1599 489.0737,-115.1599 489.0737,-115.1599 488.6868,-112.185 486.3962,-115.5081 488.3,-109.21 488.3,-109.21\"/>\n",
       "<text text-anchor=\"middle\" x=\"477.5\" y=\"-130.8\" font-family=\"Times,serif\" font-size=\"14.00\" fill=\"#000000\">ε</text>\n",
       "</g>\n",
       "<!-- 6&#45;&gt;6 -->\n",
       "<g id=\"edge12\" class=\"edge\">\n",
       "<title>6&#45;&gt;6</title>\n",
       "<path fill=\"none\" stroke=\"#696969\" d=\"M466.7,-29.206C464.09,-38.324 467.69,-47 477.5,-47 485.01,-47 488.88,-41.914 489.11,-35.438\"/>\n",
       "<polygon fill=\"#696969\" stroke=\"#696969\" points=\"488.3,-29.206 491.7509,-34.8079 488.6867,-32.181 489.0734,-35.156 489.0734,-35.156 489.0734,-35.156 488.6867,-32.181 486.3959,-35.504 488.3,-29.206 488.3,-29.206\"/>\n",
       "<text text-anchor=\"middle\" x=\"477.5\" y=\"-50.8\" font-family=\"Times,serif\" font-size=\"14.00\" fill=\"#000000\">ε</text>\n",
       "</g>\n",
       "<!-- 7&#45;&gt;F7 -->\n",
       "<g id=\"edge13\" class=\"edge\">\n",
       "<title>7&#45;&gt;F7</title>\n",
       "<path fill=\"none\" stroke=\"#000000\" d=\"M492.0706,-212.5C509.99,-212.5 539.6218,-212.5 552.5895,-212.5\"/>\n",
       "<polygon fill=\"#000000\" stroke=\"#000000\" points=\"558.8745,-212.5 552.8746,-215.2001 555.8745,-212.5 552.8745,-212.5001 552.8745,-212.5001 552.8745,-212.5001 555.8745,-212.5 552.8745,-209.8001 558.8745,-212.5 558.8745,-212.5\"/>\n",
       "</g>\n",
       "<!-- 8&#45;&gt;7 -->\n",
       "<g id=\"edge14\" class=\"edge\">\n",
       "<title>8&#45;&gt;7</title>\n",
       "<path fill=\"none\" stroke=\"#000000\" d=\"M362.16,-221.37C385.18,-219.6 429.89,-216.16 456.38,-214.12\"/>\n",
       "<polygon fill=\"#000000\" stroke=\"#000000\" points=\"462.69,-213.64 456.9121,-216.7874 459.6986,-213.8676 456.7073,-214.0952 456.7073,-214.0952 456.7073,-214.0952 459.6986,-213.8676 456.5024,-211.403 462.69,-213.64 462.69,-213.64\"/>\n",
       "<text text-anchor=\"middle\" x=\"411\" y=\"-221.3\" font-family=\"Times,serif\" font-size=\"14.00\" fill=\"#000000\">b</text>\n",
       "</g>\n",
       "</g>\n",
       "</svg>\n"
      ],
      "text/plain": [
       "expression_automaton<mutable_automaton<context<nullableset<letterset<char_letters>>, b>>>"
      ]
     },
     "execution_count": 41,
     "metadata": {},
     "output_type": "execute_result"
    }
   ],
   "source": [
    "a = e.derived_term()\n",
    "a"
   ]
  },
  {
   "cell_type": "code",
   "execution_count": 42,
   "metadata": {
    "collapsed": false
   },
   "outputs": [
    {
     "data": {
      "image/svg+xml": [
       "<?xml version=\"1.0\" encoding=\"UTF-8\" standalone=\"no\"?>\n",
       "<!DOCTYPE svg PUBLIC \"-//W3C//DTD SVG 1.1//EN\"\n",
       " \"http://www.w3.org/Graphics/SVG/1.1/DTD/svg11.dtd\">\n",
       "<!-- Generated by graphviz version 2.40.1 (20161225.0304)\n",
       " -->\n",
       "<!-- Title: %3 Pages: 1 -->\n",
       "<svg width=\"283pt\" height=\"73pt\"\n",
       " viewBox=\"0.00 0.00 283.00 72.50\" xmlns=\"http://www.w3.org/2000/svg\" xmlns:xlink=\"http://www.w3.org/1999/xlink\">\n",
       "<g id=\"graph0\" class=\"graph\" transform=\"scale(1 1) rotate(0) translate(4 68.5)\">\n",
       "<title>%3</title>\n",
       "<polygon fill=\"#ffffff\" stroke=\"transparent\" points=\"-4,4 -4,-68.5 279,-68.5 279,4 -4,4\"/>\n",
       "<!-- I0 -->\n",
       "<g id=\"node1\" class=\"node\">\n",
       "<title>I0</title>\n",
       "<ellipse fill=\"#000000\" stroke=\"#000000\" cx=\"0\" cy=\"-48.5\" rx=\"0\" ry=\"0\"/>\n",
       "</g>\n",
       "<!-- 0 -->\n",
       "<g id=\"node5\" class=\"node\">\n",
       "<title>0</title>\n",
       "<path fill=\"#98f5ff\" stroke=\"#000000\" d=\"M61.3333,-63C61.3333,-63 46.6667,-63 46.6667,-63 41.8333,-63 37,-58.1667 37,-53.3333 37,-53.3333 37,-43.6667 37,-43.6667 37,-38.8333 41.8333,-34 46.6667,-34 46.6667,-34 61.3333,-34 61.3333,-34 66.1667,-34 71,-38.8333 71,-43.6667 71,-43.6667 71,-53.3333 71,-53.3333 71,-58.1667 66.1667,-63 61.3333,-63\"/>\n",
       "<text text-anchor=\"middle\" x=\"54\" y=\"-45.4\" font-family=\"Times,serif\" font-size=\"12.00\" fill=\"#000000\">{0}</text>\n",
       "</g>\n",
       "<!-- I0&#45;&gt;0 -->\n",
       "<g id=\"edge1\" class=\"edge\">\n",
       "<title>I0&#45;&gt;0</title>\n",
       "<path fill=\"none\" stroke=\"#000000\" d=\"M.1549,-48.5C1.8394,-48.5 16.962,-48.5 30.752,-48.5\"/>\n",
       "<polygon fill=\"#000000\" stroke=\"#000000\" points=\"36.942,-48.5 30.942,-51.2001 33.942,-48.5 30.942,-48.5001 30.942,-48.5001 30.942,-48.5001 33.942,-48.5 30.942,-45.8001 36.942,-48.5 36.942,-48.5\"/>\n",
       "</g>\n",
       "<!-- F0 -->\n",
       "<g id=\"node2\" class=\"node\">\n",
       "<title>F0</title>\n",
       "<ellipse fill=\"#000000\" stroke=\"#000000\" cx=\"137\" cy=\"-64.5\" rx=\"0\" ry=\"0\"/>\n",
       "</g>\n",
       "<!-- F1 -->\n",
       "<g id=\"node3\" class=\"node\">\n",
       "<title>F1</title>\n",
       "<ellipse fill=\"#000000\" stroke=\"#000000\" cx=\"221\" cy=\"-47.5\" rx=\"0\" ry=\"0\"/>\n",
       "</g>\n",
       "<!-- F2 -->\n",
       "<g id=\"node4\" class=\"node\">\n",
       "<title>F2</title>\n",
       "<ellipse fill=\"#000000\" stroke=\"#000000\" cx=\"275\" cy=\"-14.5\" rx=\"0\" ry=\"0\"/>\n",
       "</g>\n",
       "<!-- 0&#45;&gt;F0 -->\n",
       "<g id=\"edge2\" class=\"edge\">\n",
       "<title>0&#45;&gt;F0</title>\n",
       "<path fill=\"none\" stroke=\"#000000\" d=\"M71.1977,-51.8152C89.7812,-55.3976 118.4033,-60.9151 130.8583,-63.3161\"/>\n",
       "<polygon fill=\"#000000\" stroke=\"#000000\" points=\"136.8802,-64.4769 130.4776,-65.9923 133.9345,-63.909 130.9887,-63.3411 130.9887,-63.3411 130.9887,-63.3411 133.9345,-63.909 131.4998,-60.6899 136.8802,-64.4769 136.8802,-64.4769\"/>\n",
       "</g>\n",
       "<!-- 1 -->\n",
       "<g id=\"node6\" class=\"node\">\n",
       "<title>1</title>\n",
       "<path fill=\"#98f5ff\" stroke=\"#000000\" d=\"M150.3333,-46C150.3333,-46 123.6667,-46 123.6667,-46 118.8333,-46 114,-41.1667 114,-36.3333 114,-36.3333 114,-26.6667 114,-26.6667 114,-21.8333 118.8333,-17 123.6667,-17 123.6667,-17 150.3333,-17 150.3333,-17 155.1667,-17 160,-21.8333 160,-26.6667 160,-26.6667 160,-36.3333 160,-36.3333 160,-41.1667 155.1667,-46 150.3333,-46\"/>\n",
       "<text text-anchor=\"middle\" x=\"137\" y=\"-28.4\" font-family=\"Times,serif\" font-size=\"12.00\" fill=\"#000000\">{1, 2}</text>\n",
       "</g>\n",
       "<!-- 0&#45;&gt;1 -->\n",
       "<g id=\"edge3\" class=\"edge\">\n",
       "<title>0&#45;&gt;1</title>\n",
       "<path fill=\"none\" stroke=\"#000000\" d=\"M71.225,-41.728C76.818,-39.764 83.103,-37.8 89,-36.5 95.014,-35.174 101.53,-34.197 107.77,-33.478\"/>\n",
       "<polygon fill=\"#000000\" stroke=\"#000000\" points=\"113.88,-32.842 108.1918,-36.1488 110.8961,-33.1526 107.9122,-33.4633 107.9122,-33.4633 107.9122,-33.4633 110.8961,-33.1526 107.6327,-30.7778 113.88,-32.842 113.88,-32.842\"/>\n",
       "<text text-anchor=\"middle\" x=\"92.5\" y=\"-40.3\" font-family=\"Times,serif\" font-size=\"14.00\" fill=\"#000000\">a</text>\n",
       "</g>\n",
       "<!-- 1&#45;&gt;F1 -->\n",
       "<g id=\"edge4\" class=\"edge\">\n",
       "<title>1&#45;&gt;F1</title>\n",
       "<path fill=\"none\" stroke=\"#000000\" d=\"M160.3987,-35.9569C179.0217,-39.5041 203.7591,-44.216 214.9934,-46.3559\"/>\n",
       "<polygon fill=\"#000000\" stroke=\"#000000\" points=\"220.8967,-47.4803 214.4974,-49.0099 217.9497,-46.9189 215.0027,-46.3576 215.0027,-46.3576 215.0027,-46.3576 217.9497,-46.9189 215.5079,-43.7053 220.8967,-47.4803 220.8967,-47.4803\"/>\n",
       "</g>\n",
       "<!-- 2 -->\n",
       "<g id=\"node7\" class=\"node\">\n",
       "<title>2</title>\n",
       "<path fill=\"#98f5ff\" stroke=\"#000000\" d=\"M228.3333,-29C228.3333,-29 213.6667,-29 213.6667,-29 208.8333,-29 204,-24.1667 204,-19.3333 204,-19.3333 204,-9.6667 204,-9.6667 204,-4.8333 208.8333,0 213.6667,0 213.6667,0 228.3333,0 228.3333,0 233.1667,0 238,-4.8333 238,-9.6667 238,-9.6667 238,-19.3333 238,-19.3333 238,-24.1667 233.1667,-29 228.3333,-29\"/>\n",
       "<text text-anchor=\"middle\" x=\"221\" y=\"-11.4\" font-family=\"Times,serif\" font-size=\"12.00\" fill=\"#000000\">{1}</text>\n",
       "</g>\n",
       "<!-- 1&#45;&gt;2 -->\n",
       "<g id=\"edge5\" class=\"edge\">\n",
       "<title>1&#45;&gt;2</title>\n",
       "<path fill=\"none\" stroke=\"#000000\" d=\"M160.3,-24.715C166.05,-23.188 172.22,-21.674 178,-20.5 184.32,-19.217 191.21,-18.122 197.59,-17.232\"/>\n",
       "<polygon fill=\"#000000\" stroke=\"#000000\" points=\"203.76,-16.412 198.168,-19.879 200.7861,-16.8073 197.8123,-17.2025 197.8123,-17.2025 197.8123,-17.2025 200.7861,-16.8073 197.4566,-14.5261 203.76,-16.412 203.76,-16.412\"/>\n",
       "<text text-anchor=\"middle\" x=\"182\" y=\"-24.3\" font-family=\"Times,serif\" font-size=\"14.00\" fill=\"#000000\">b</text>\n",
       "</g>\n",
       "<!-- 2&#45;&gt;F2 -->\n",
       "<g id=\"edge6\" class=\"edge\">\n",
       "<title>2&#45;&gt;F2</title>\n",
       "<path fill=\"none\" stroke=\"#000000\" d=\"M238.0859,-14.5C248.6225,-14.5 261.4983,-14.5 268.9236,-14.5\"/>\n",
       "<polygon fill=\"#000000\" stroke=\"#000000\" points=\"274.939,-14.5 268.9391,-17.2001 271.939,-14.5 268.939,-14.5001 268.939,-14.5001 268.939,-14.5001 271.939,-14.5 268.939,-11.8001 274.939,-14.5 274.939,-14.5\"/>\n",
       "</g>\n",
       "</g>\n",
       "</svg>\n"
      ],
      "text/plain": [
       "partition_automaton<determinized_automaton<mutable_automaton<context<letterset<char_letters>, b>>, vcsn::wet_kind_t::bitset, false>>"
      ]
     },
     "execution_count": 42,
     "metadata": {},
     "output_type": "execute_result"
    }
   ],
   "source": [
    "a.trim().proper().determinize().minimize()"
   ]
  }
 ],
 "metadata": {
  "kernelspec": {
   "display_name": "Python 3",
   "language": "python",
   "name": "python3"
  },
  "language_info": {
   "codemirror_mode": {
    "name": "ipython",
    "version": 3
   },
   "file_extension": ".py",
   "mimetype": "text/x-python",
   "name": "python",
   "nbconvert_exporter": "python",
   "pygments_lexer": "ipython3",
   "version": "3.5.3"
  }
 },
 "nbformat": 4,
 "nbformat_minor": 0
}
