{
 "cells": [
  {
   "cell_type": "markdown",
   "metadata": {},
   "source": [
    "# Glossary"
   ]
  },
  {
   "cell_type": "markdown",
   "metadata": {},
   "source": [
    "is_free\n",
    "-------\n",
    "A labelset is free if the labels are only \"letters\".  This is a requirement for algorithms such as `determinize`, `evaluate`.\n",
    "\n",
    "- `letterset` is free.\n",
    "- `nullableset` is not free.\n",
    "- `oneset` is not free.\n",
    "- `wordset` is not free.\n",
    "- `tupleset` is free if its components are free.\n",
    "\n",
    "If the labelset is free, then `label_t` is `letter_t`.\n",
    "\n",
    "is_letterized\n",
    "-------------\n",
    "A labelset is letterized if it free, not nullable of letterized.\n",
    "\n",
    "is_idempotent\n",
    "-------------\n",
    "A valueset is idempotent if `add(v, v) == v`.\n",
    "\n",
    "is_commutative\n",
    "--------------\n",
    "A valueset is idempotent if `mul(u, v) == mul(v, u)`.\n",
    "\n"
   ]
  },
  {
   "cell_type": "code",
   "execution_count": 1,
   "metadata": {
    "collapsed": false
   },
   "outputs": [],
   "source": []
  }
 ],
 "metadata": {},
 "nbformat": 4,
 "nbformat_minor": 0
}