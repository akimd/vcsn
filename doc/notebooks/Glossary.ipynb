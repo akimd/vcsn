{
 "cells": [
  {
   "cell_type": "markdown",
   "metadata": {},
   "source": [
    "# Glossary\n",
    "This page is in very early stage of writing.  It's most prominent feature is its incompleteness.\n",
    "\n",
    "## accessible (or reachable, or initially connected)\n",
    "A state $s$ is accessible if there is a path from an initial state to $s$.\n",
    "\n",
    "An automaton is /accessible/ if all its states are.\n",
    "\n",
    "See:\n",
    "- [_automaton_.accessible](automaton.accessible.ipynb).\n",
    "- [_automaton_.is_accessible](automaton.is_accessible.ipynb).\n",
    "\n",
    "\n",
    "## Antimirov automaton\n",
    "See derived-term automaton.\n",
    "\n",
    "## derived-term automaton\n",
    "See [_expression_.derived_term](expression.derived_term.ipynb).\n",
    "\n",
    "## equation automaton\n",
    "See derived-term automaton.\n",
    "\n",
    "## has_lightening_cycle\n",
    "A lightening cycle is a path from a state to itself that is either negative (for $\\mathbb{Q}$, $\\mathbb{R}$ and $\\mathbb{Z}$), or between 0 and 1 (for $\\mathbb{Q}$, $\\mathbb{R}$ and $\\mathbb{R}_\\text{min}$).\n",
    "\n",
    "## is_commutative\n",
    "A valueset is commutative if `mul(u, v) == mul(v, u)`.\n",
    "\n",
    "## is_free\n",
    "A labelset is free if the labels are only \"letters\".  This is a requirement for algorithms such as `determinize`, `evaluate`.\n",
    "\n",
    "- `letterset` is free.\n",
    "- `nullableset` is not free.\n",
    "- `oneset` is not free.\n",
    "- `wordset` is not free.\n",
    "- `tupleset` is free if its components are free.\n",
    "\n",
    "If the labelset is free, then `label_t` is `letter_t`.\n",
    "\n",
    "## is_idempotent\n",
    "A valueset is idempotent if `add(v, v) == v`.\n",
    "\n",
    "## is_letterized\n",
    "A labelset is letterized if it free, or nullable of free.  In other words, its labels are either letters, or the empty word.  Maybe surprisingly, oneset ($\\{1\\}$) is letterized.\n",
    "\n",
    "## partial-derivative automaton\n",
    "See derived-term automaton.\n",
    "\n",
    "## position automaton\n",
    "See standard automaton."
   ]
  }
 ],
 "metadata": {
  "kernelspec": {
   "display_name": "Python 3",
   "language": "python",
   "name": "python3"
  },
  "language_info": {
   "codemirror_mode": {
    "name": "ipython",
    "version": 3
   },
   "file_extension": ".py",
   "mimetype": "text/x-python",
   "name": "python",
   "nbconvert_exporter": "python",
   "pygments_lexer": "ipython3",
   "version": "3.5.1"
  }
 },
 "nbformat": 4,
 "nbformat_minor": 0
}
