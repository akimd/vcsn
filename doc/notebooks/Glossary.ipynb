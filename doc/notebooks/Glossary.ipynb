{
 "cells": [
  {
   "cell_type": "markdown",
   "metadata": {},
   "source": [
    "# Glossary\n",
    "This page is in very early stage of writing.  It's most prominent feature is its incompleteness.\n",
    "\n",
    "## Antimirov automaton\n",
    "See derived-term automaton.\n",
    "\n",
    "## derived-term automaton\n",
    "See [_derived_term_.automaton](expression.derived_term.ipynb).\n",
    "\n",
    "## equation automaton\n",
    "See derived-term automaton.\n",
    "\n",
    "## is_free\n",
    "A labelset is free if the labels are only \"letters\".  This is a requirement for algorithms such as `determinize`, `evaluate`.\n",
    "\n",
    "- `letterset` is free.\n",
    "- `nullableset` is not free.\n",
    "- `oneset` is not free.\n",
    "- `wordset` is not free.\n",
    "- `tupleset` is free if its components are free.\n",
    "\n",
    "If the labelset is free, then `label_t` is `letter_t`.\n",
    "\n",
    "## is_letterized\n",
    "A labelset is letterized if it free, not nullable of letterized.\n",
    "\n",
    "## is_idempotent\n",
    "A valueset is idempotent if `add(v, v) == v`.\n",
    "\n",
    "## is_commutative\n",
    "A valueset is idempotent if `mul(u, v) == mul(v, u)`.\n",
    "\n",
    "## partial-derivative automaton\n",
    "See derived-term automaton.\n",
    "\n",
    "## position automaton\n",
    "See standard automaton."
   ]
  }
 ],
 "metadata": {
  "kernelspec": {
   "display_name": "Python 3",
   "language": "python",
   "name": "python3"
  },
  "language_info": {
   "codemirror_mode": {
    "name": "ipython",
    "version": 3
   },
   "file_extension": ".py",
   "mimetype": "text/x-python",
   "name": "python",
   "nbconvert_exporter": "python",
   "pygments_lexer": "ipython3",
   "version": "3.4.3"
  }
 },
 "nbformat": 4,
 "nbformat_minor": 0
}
