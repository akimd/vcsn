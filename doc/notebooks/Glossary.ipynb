{
 "metadata": {
  "name": "",
  "signature": "sha256:4f078ee371cf2329837575ff70b44748178c6a7c78f68f80ade26acc23f1e96b"
 },
 "nbformat": 3,
 "nbformat_minor": 0,
 "worksheets": [
  {
   "cells": [
    {
     "cell_type": "heading",
     "level": 1,
     "metadata": {},
     "source": [
      "Glossary"
     ]
    },
    {
     "cell_type": "markdown",
     "metadata": {},
     "source": [
      "is_free\n",
      "-------\n",
      "A labelset is free if the labels are only \"letters\".  This is a requirement for algorithms such as `determinize`, `evaluate`.\n",
      "\n",
      "- `letterset` is free.\n",
      "- `nullableset` is not free.\n",
      "- `oneset` is not free.\n",
      "- `wordset` is not free.\n",
      "- `tupleset` is free if its components are free.\n",
      "\n",
      "If the labelset is free, then `label_t` is `letter_t`.\n",
      "\n",
      "is_letterized\n",
      "-------------\n",
      "A labelset is letterized if it free, not nullable of letterized.\n",
      "\n",
      "is_idempotent\n",
      "-------------\n",
      "A valueset is idempotent if `add(v, v) == v`.\n",
      "\n",
      "is_commutative\n",
      "--------------\n",
      "A valueset is idempotent if `mul(u, v) == mul(v, u)`.\n",
      "\n"
     ]
    },
    {
     "cell_type": "code",
     "collapsed": false,
     "input": [],
     "language": "python",
     "metadata": {},
     "outputs": []
    }
   ],
   "metadata": {}
  }
 ]
}