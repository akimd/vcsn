{
 "cells": [
  {
   "cell_type": "markdown",
   "metadata": {},
   "source": [
    "# Multitape Rational Expressions\n",
    "This page is a complement to the paper [Derived-Term Automata of Multitape Rational Expressions](https://www.lrde.epita.fr/wiki/Publications/demaille.16.ciaa) presented at CIAA 2016.  This page exists in several forms:\n",
    "- [A Dynamic Notebook](http://vcsn-sandbox.lrde.epita.fr/notebooks/Doc/CIAA-2016.ipynb), which can be edited, played with\n",
    "- [A static HTML page](http://www.lrde.epita.fr/dload/vcsn/latest/notebooks/CIAA-2016.html), whose graphical rendering is always correct.\n",
    "\n",
    "More information is available here:\n",
    "- [Documentation for _expression_.expansion](http://vcsn-sandbox.lrde.epita.fr/notebooks/Doc/expression.expansion.ipynb)\n",
    "- [Documentation for _expression_.derived_term](http://vcsn-sandbox.lrde.epita.fr/notebooks/Doc/expression.derived_term.ipynb)\n",
    "- [Documentation of Vcsn](http://vcsn-sandbox.lrde.epita.fr/notebooks/Doc/!Read-me-first.ipynb)\n",
    "- [Vcsn's web page](http://vcsn.lrde.epita.fr)\n",
    "\n",
    "You may change the cells, and run then.  To run a cell in a notebook, hit \"Control-Enter\" (in which case the focus stays on the same cell) or \"Shift-Enter\" (focus goes to the next cell).  Beware that depending on the requested operations, Vcsn may generate and compile code, which may be a really slow process on small machines (about a minute): be patient!  However, the code is compiled only once: successive uses will be way faster.\n",
    "\n",
    "To run all the cells anew, select \"Restart & Run All\" in the \"Kernel\" menu above."
   ]
  },
  {
   "cell_type": "code",
   "execution_count": 1,
   "metadata": {},
   "outputs": [],
   "source": [
    "import vcsn"
   ]
  },
  {
   "cell_type": "markdown",
   "metadata": {},
   "source": [
    "# Example $\\mathsf{E}_1$: A Simple Multitape Expression\n",
    "First we introduce the \"context\" we are interested in: labels are letter-or-empty-word, two tapes, values are rational numbers."
   ]
  },
  {
   "cell_type": "code",
   "execution_count": 2,
   "metadata": {},
   "outputs": [
    {
     "data": {
      "text/latex": [
       "$\\{a, b, c, d, e\\}^? \\times \\{x, y\\}^?\\to\\mathbb{Q}$"
      ],
      "text/plain": [
       "[abcde]? × [xy]? → ℚ"
      ]
     },
     "execution_count": 2,
     "metadata": {},
     "output_type": "execute_result"
    }
   ],
   "source": [
    "ctx = vcsn.context('[abcde] x [xy] -> Q')\n",
    "ctx"
   ]
  },
  {
   "cell_type": "markdown",
   "metadata": {},
   "source": [
    "The expression $\\mathsf{E}_1$ is:"
   ]
  },
  {
   "cell_type": "code",
   "execution_count": 3,
   "metadata": {},
   "outputs": [
    {
     "data": {
      "text/latex": [
       "$ \\left.  \\left\\langle 5 \\right\\rangle \\,\\varepsilon \\middle| \\varepsilon \\right.  +  \\left.  \\left\\langle 4 \\right\\rangle \\,\\left(a \\, d \\, {e}^{*}\\right) \\middle| x \\right.  +  \\left.  \\left\\langle 3 \\right\\rangle \\,\\left(b \\, d \\, {e}^{*}\\right) \\middle| x \\right.  +  \\left.  \\left\\langle 2 \\right\\rangle \\,\\left(a \\, c \\, {e}^{*}\\right) \\middle| x \\, y \\right.  +  \\left.  \\left\\langle 6 \\right\\rangle \\,\\left(b \\, c \\, {e}^{*}\\right) \\middle| x \\, y \\right. $"
      ],
      "text/plain": [
       "⟨5⟩ε|ε+⟨4⟩(ade*)|x+⟨3⟩(bde*)|x+⟨2⟩(ace*)|xy+⟨6⟩(bce*)|xy"
      ]
     },
     "execution_count": 3,
     "metadata": {},
     "output_type": "execute_result"
    }
   ],
   "source": [
    "e1 = ctx.expression('⟨5⟩ε|ε + ⟨4⟩ade*|x + ⟨3⟩bde*|x + ⟨2⟩ace*|xy + ⟨6⟩bce*|xy')\n",
    "e1"
   ]
  },
  {
   "cell_type": "markdown",
   "metadata": {},
   "source": [
    "Its expansion is (contrary to the paper, the empty expression is denoted $\\varepsilon$ instead of $\\mathsf{1}$):"
   ]
  },
  {
   "cell_type": "code",
   "execution_count": 4,
   "metadata": {},
   "outputs": [
    {
     "data": {
      "text/latex": [
       "$\\left\\langle 5\\right\\rangle  \\oplus a|x \\odot \\left[\\left\\langle 2\\right\\rangle  \\left. c \\, {e}^{*} \\middle| y \\right.  \\oplus \\left\\langle 4\\right\\rangle  \\left. d \\, {e}^{*} \\middle| \\varepsilon \\right. \\right] \\oplus b|x \\odot \\left[\\left\\langle 6\\right\\rangle  \\left. c \\, {e}^{*} \\middle| y \\right.  \\oplus \\left\\langle 3\\right\\rangle  \\left. d \\, {e}^{*} \\middle| \\varepsilon \\right. \\right]$"
      ],
      "text/plain": [
       "⟨5⟩ ⊕ a|x⊙[⟨2⟩ce*|y ⊕ ⟨4⟩de*|ε] ⊕ b|x⊙[⟨6⟩ce*|y ⊕ ⟨3⟩de*|ε]"
      ]
     },
     "execution_count": 4,
     "metadata": {},
     "output_type": "execute_result"
    }
   ],
   "source": [
    "e1.expansion()"
   ]
  },
  {
   "cell_type": "markdown",
   "metadata": {},
   "source": [
    "The derived-term automaton of $\\mathsf{E}_1$, $\\mathcal{A}_{\\mathsf{E}_1}$, is:"
   ]
  },
  {
   "cell_type": "code",
   "execution_count": 5,
   "metadata": {},
   "outputs": [
    {
     "data": {
      "image/svg+xml": [
       "<?xml version=\"1.0\" encoding=\"UTF-8\" standalone=\"no\"?>\n",
       "<!DOCTYPE svg PUBLIC \"-//W3C//DTD SVG 1.1//EN\"\n",
       " \"http://www.w3.org/Graphics/SVG/1.1/DTD/svg11.dtd\">\n",
       "<!-- Generated by graphviz version 2.40.1 (20161225.0304)\n",
       " -->\n",
       "<!-- Title: %3 Pages: 1 -->\n",
       "<svg width=\"517pt\" height=\"107pt\"\n",
       " viewBox=\"0.00 0.00 517.00 107.25\" xmlns=\"http://www.w3.org/2000/svg\" xmlns:xlink=\"http://www.w3.org/1999/xlink\">\n",
       "<g id=\"graph0\" class=\"graph\" transform=\"scale(1 1) rotate(0) translate(4 103.2515)\">\n",
       "<title>%3</title>\n",
       "<polygon fill=\"#ffffff\" stroke=\"transparent\" points=\"-4,4 -4,-103.2515 513,-103.2515 513,4 -4,4\"/>\n",
       "<!-- I0 -->\n",
       "<g id=\"node1\" class=\"node\">\n",
       "<title>I0</title>\n",
       "<ellipse fill=\"#000000\" stroke=\"#000000\" cx=\"0\" cy=\"-58.5\" rx=\"0\" ry=\"0\"/>\n",
       "</g>\n",
       "<!-- 0 -->\n",
       "<g id=\"node4\" class=\"node\">\n",
       "<title>0</title>\n",
       "<path fill=\"#98f5ff\" stroke=\"#000000\" d=\"M255.3333,-73C255.3333,-73 46.6667,-73 46.6667,-73 41.8333,-73 37,-68.1667 37,-63.3333 37,-63.3333 37,-53.6667 37,-53.6667 37,-48.8333 41.8333,-44 46.6667,-44 46.6667,-44 255.3333,-44 255.3333,-44 260.1667,-44 265,-48.8333 265,-53.6667 265,-53.6667 265,-63.3333 265,-63.3333 265,-68.1667 260.1667,-73 255.3333,-73\"/>\n",
       "<text text-anchor=\"middle\" x=\"151\" y=\"-55.4\" font-family=\"Times,serif\" font-size=\"12.00\" fill=\"#000000\">⟨5⟩ε|ε+⟨4⟩(ade*)|x+⟨3⟩(bde*)|x+⟨2⟩(ace*)|xy+⟨6⟩(bce*)|xy</text>\n",
       "</g>\n",
       "<!-- I0&#45;&gt;0 -->\n",
       "<g id=\"edge1\" class=\"edge\">\n",
       "<title>I0&#45;&gt;0</title>\n",
       "<path fill=\"none\" stroke=\"#000000\" d=\"M.1094,-58.5C1.3741,-58.5 13.482,-58.5 30.338,-58.5\"/>\n",
       "<polygon fill=\"#000000\" stroke=\"#000000\" points=\"36.752,-58.5 30.752,-61.2001 33.752,-58.5 30.752,-58.5001 30.752,-58.5001 30.752,-58.5001 33.752,-58.5 30.752,-55.8001 36.752,-58.5 36.752,-58.5\"/>\n",
       "</g>\n",
       "<!-- F0 -->\n",
       "<g id=\"node2\" class=\"node\">\n",
       "<title>F0</title>\n",
       "<ellipse fill=\"#000000\" stroke=\"#000000\" cx=\"374.5\" cy=\"-96.5\" rx=\"0\" ry=\"0\"/>\n",
       "</g>\n",
       "<!-- F3 -->\n",
       "<g id=\"node3\" class=\"node\">\n",
       "<title>F3</title>\n",
       "<ellipse fill=\"#000000\" stroke=\"#000000\" cx=\"509\" cy=\"-37.5\" rx=\"0\" ry=\"0\"/>\n",
       "</g>\n",
       "<!-- 0&#45;&gt;F0 -->\n",
       "<g id=\"edge2\" class=\"edge\">\n",
       "<title>0&#45;&gt;F0</title>\n",
       "<path fill=\"none\" stroke=\"#000000\" d=\"M236.4524,-73.0288C288.857,-81.9388 349.4414,-92.2395 368.4671,-95.4743\"/>\n",
       "<polygon fill=\"#000000\" stroke=\"#000000\" points=\"374.4454,-96.4907 368.0777,-98.1467 371.4879,-95.9878 368.5303,-95.4849 368.5303,-95.4849 368.5303,-95.4849 371.4879,-95.9878 368.9829,-92.8231 374.4454,-96.4907 374.4454,-96.4907\"/>\n",
       "<text text-anchor=\"middle\" x=\"295.9598\" y=\"-88.0515\" font-family=\"Times,serif\" font-size=\"14.00\" fill=\"#000000\">⟨5⟩</text>\n",
       "</g>\n",
       "<!-- 1 -->\n",
       "<g id=\"node5\" class=\"node\">\n",
       "<title>1</title>\n",
       "<path fill=\"#98f5ff\" stroke=\"#000000\" d=\"M382.3333,-76C382.3333,-76 366.6667,-76 366.6667,-76 361.8333,-76 357,-71.1667 357,-66.3333 357,-66.3333 357,-56.6667 357,-56.6667 357,-51.8333 361.8333,-47 366.6667,-47 366.6667,-47 382.3333,-47 382.3333,-47 387.1667,-47 392,-51.8333 392,-56.6667 392,-56.6667 392,-66.3333 392,-66.3333 392,-71.1667 387.1667,-76 382.3333,-76\"/>\n",
       "<text text-anchor=\"middle\" x=\"374.5\" y=\"-58.4\" font-family=\"Times,serif\" font-size=\"12.00\" fill=\"#000000\">ce*|y</text>\n",
       "</g>\n",
       "<!-- 0&#45;&gt;1 -->\n",
       "<g id=\"edge3\" class=\"edge\">\n",
       "<title>0&#45;&gt;1</title>\n",
       "<path fill=\"none\" stroke=\"#000000\" d=\"M265.35,-58.178C289.66,-58.37 315.18,-58.766 339,-59.5 342.81,-59.617 346.84,-59.794 350.77,-59.995\"/>\n",
       "<polygon fill=\"#000000\" stroke=\"#000000\" points=\"356.81,-60.326 350.6712,-62.6935 353.8145,-60.1618 350.819,-59.9976 350.819,-59.9976 350.819,-59.9976 353.8145,-60.1618 350.9668,-57.3016 356.81,-60.326 356.81,-60.326\"/>\n",
       "<text text-anchor=\"middle\" x=\"311\" y=\"-63.3\" font-family=\"Times,serif\" font-size=\"14.00\" fill=\"#000000\">⟨2⟩a|x, ⟨6⟩b|x</text>\n",
       "</g>\n",
       "<!-- 2 -->\n",
       "<g id=\"node6\" class=\"node\">\n",
       "<title>2</title>\n",
       "<path fill=\"#98f5ff\" stroke=\"#000000\" d=\"M382.3333,-29C382.3333,-29 366.6667,-29 366.6667,-29 361.8333,-29 357,-24.1667 357,-19.3333 357,-19.3333 357,-9.6667 357,-9.6667 357,-4.8333 361.8333,0 366.6667,0 366.6667,0 382.3333,0 382.3333,0 387.1667,0 392,-4.8333 392,-9.6667 392,-9.6667 392,-19.3333 392,-19.3333 392,-24.1667 387.1667,-29 382.3333,-29\"/>\n",
       "<text text-anchor=\"middle\" x=\"374.5\" y=\"-11.4\" font-family=\"Times,serif\" font-size=\"12.00\" fill=\"#000000\">de*|ε</text>\n",
       "</g>\n",
       "<!-- 0&#45;&gt;2 -->\n",
       "<g id=\"edge4\" class=\"edge\">\n",
       "<title>0&#45;&gt;2</title>\n",
       "<path fill=\"none\" stroke=\"#000000\" d=\"M224.8,-43.971C268.49,-35.371 320.95,-25.043 350.74,-19.178\"/>\n",
       "<polygon fill=\"#000000\" stroke=\"#000000\" points=\"356.74,-17.996 351.375,-21.8049 353.7966,-18.5759 350.8531,-19.1558 350.8531,-19.1558 350.8531,-19.1558 353.7966,-18.5759 350.3312,-16.5067 356.74,-17.996 356.74,-17.996\"/>\n",
       "<text text-anchor=\"middle\" x=\"311\" y=\"-35.3\" font-family=\"Times,serif\" font-size=\"14.00\" fill=\"#000000\">⟨4⟩a|x, ⟨3⟩b|x</text>\n",
       "</g>\n",
       "<!-- 3 -->\n",
       "<g id=\"node7\" class=\"node\">\n",
       "<title>3</title>\n",
       "<path fill=\"#98f5ff\" stroke=\"#000000\" d=\"M462.3333,-52C462.3333,-52 450.6667,-52 450.6667,-52 445.8333,-52 441,-47.1667 441,-42.3333 441,-42.3333 441,-32.6667 441,-32.6667 441,-27.8333 445.8333,-23 450.6667,-23 450.6667,-23 462.3333,-23 462.3333,-23 467.1667,-23 472,-27.8333 472,-32.6667 472,-32.6667 472,-42.3333 472,-42.3333 472,-47.1667 467.1667,-52 462.3333,-52\"/>\n",
       "<text text-anchor=\"middle\" x=\"456.5\" y=\"-34.4\" font-family=\"Times,serif\" font-size=\"12.00\" fill=\"#000000\">e*|ε</text>\n",
       "</g>\n",
       "<!-- 1&#45;&gt;3 -->\n",
       "<g id=\"edge5\" class=\"edge\">\n",
       "<title>1&#45;&gt;3</title>\n",
       "<path fill=\"none\" stroke=\"#000000\" d=\"M392.29,-56.292C404.87,-52.61 421.8,-47.656 435.12,-43.758\"/>\n",
       "<polygon fill=\"#000000\" stroke=\"#000000\" points=\"440.95,-42.05 435.9512,-46.3281 438.071,-42.8935 435.192,-43.737 435.192,-43.737 435.192,-43.737 438.071,-42.8935 434.4329,-41.1459 440.95,-42.05 440.95,-42.05\"/>\n",
       "<text text-anchor=\"middle\" x=\"416.5\" y=\"-55.3\" font-family=\"Times,serif\" font-size=\"14.00\" fill=\"#000000\">c|y</text>\n",
       "</g>\n",
       "<!-- 2&#45;&gt;3 -->\n",
       "<g id=\"edge6\" class=\"edge\">\n",
       "<title>2&#45;&gt;3</title>\n",
       "<path fill=\"none\" stroke=\"#000000\" d=\"M392.29,-15.77C401.59,-16.757 413.07,-18.488 423,-21.5 427.06,-22.732 431.25,-24.388 435.23,-26.17\"/>\n",
       "<polygon fill=\"#000000\" stroke=\"#000000\" points=\"440.88,-28.834 434.3015,-28.7172 438.1665,-27.5545 435.453,-26.2751 435.453,-26.2751 435.453,-26.2751 438.1665,-27.5545 436.6045,-23.8329 440.88,-28.834 440.88,-28.834\"/>\n",
       "<text text-anchor=\"middle\" x=\"416.5\" y=\"-25.3\" font-family=\"Times,serif\" font-size=\"14.00\" fill=\"#000000\">d|ε</text>\n",
       "</g>\n",
       "<!-- 3&#45;&gt;F3 -->\n",
       "<g id=\"edge7\" class=\"edge\">\n",
       "<title>3&#45;&gt;F3</title>\n",
       "<path fill=\"none\" stroke=\"#000000\" d=\"M472.2517,-37.5C482.5511,-37.5 495.4321,-37.5 502.8873,-37.5\"/>\n",
       "<polygon fill=\"#000000\" stroke=\"#000000\" points=\"508.9385,-37.5 502.9385,-40.2001 505.9385,-37.5 502.9385,-37.5001 502.9385,-37.5001 502.9385,-37.5001 505.9385,-37.5 502.9384,-34.8001 508.9385,-37.5 508.9385,-37.5\"/>\n",
       "</g>\n",
       "<!-- 3&#45;&gt;3 -->\n",
       "<g id=\"edge8\" class=\"edge\">\n",
       "<title>3&#45;&gt;3</title>\n",
       "<path fill=\"none\" stroke=\"#000000\" d=\"M450.57,-52.206C449.15,-61.324 451.12,-70 456.5,-70 460.62,-70 462.74,-64.914 462.87,-58.438\"/>\n",
       "<polygon fill=\"#000000\" stroke=\"#000000\" points=\"462.43,-52.206 465.546,-58.0009 462.6413,-55.1986 462.8527,-58.1911 462.8527,-58.1911 462.8527,-58.1911 462.6413,-55.1986 460.1594,-58.3813 462.43,-52.206 462.43,-52.206\"/>\n",
       "<text text-anchor=\"middle\" x=\"456.5\" y=\"-73.8\" font-family=\"Times,serif\" font-size=\"14.00\" fill=\"#000000\">e|ε</text>\n",
       "</g>\n",
       "</g>\n",
       "</svg>\n"
      ],
      "text/plain": [
       "expression_automaton<mutable_automaton<context<lat<letterset<char_letters>, letterset<char_letters>>, q>>>"
      ]
     },
     "execution_count": 5,
     "metadata": {},
     "output_type": "execute_result"
    }
   ],
   "source": [
    "a1 = e1.derived_term()\n",
    "a1"
   ]
  },
  {
   "cell_type": "markdown",
   "metadata": {},
   "source": [
    "The 10 shortest \"multitape words\" it accepts are:"
   ]
  },
  {
   "cell_type": "code",
   "execution_count": 6,
   "metadata": {},
   "outputs": [
    {
     "data": {
      "text/latex": [
       "$\\left\\langle 5\\right\\rangle \\varepsilon|\\varepsilon \\oplus \\left\\langle 2\\right\\rangle \\mathit{ac}|\\mathit{xy} \\oplus \\left\\langle 4\\right\\rangle \\mathit{ad}|\\mathit{x} \\oplus \\left\\langle 6\\right\\rangle \\mathit{bc}|\\mathit{xy} \\oplus \\left\\langle 3\\right\\rangle \\mathit{bd}|\\mathit{x} \\oplus \\left\\langle 2\\right\\rangle \\mathit{ace}|\\mathit{xy} \\oplus \\left\\langle 4\\right\\rangle \\mathit{ade}|\\mathit{x} \\oplus \\left\\langle 6\\right\\rangle \\mathit{bce}|\\mathit{xy} \\oplus \\left\\langle 3\\right\\rangle \\mathit{bde}|\\mathit{x} \\oplus \\left\\langle 2\\right\\rangle \\mathit{acee}|\\mathit{xy}$"
      ],
      "text/plain": [
       "⟨5⟩ε|ε ⊕ ⟨2⟩ac|xy ⊕ ⟨4⟩ad|x ⊕ ⟨6⟩bc|xy ⊕ ⟨3⟩bd|x ⊕ ⟨2⟩ace|xy ⊕ ⟨4⟩ade|x ⊕ ⟨6⟩bce|xy ⊕ ⟨3⟩bde|x ⊕ ⟨2⟩acee|xy"
      ]
     },
     "execution_count": 6,
     "metadata": {},
     "output_type": "execute_result"
    }
   ],
   "source": [
    "a1.shortest(10)"
   ]
  },
  {
   "cell_type": "markdown",
   "metadata": {},
   "source": [
    "# Example $\\mathcal{A}_3$: An Exponential Number of States\n",
    "We introduce a three-tape context.  The graphical rendering is less satisfying."
   ]
  },
  {
   "cell_type": "code",
   "execution_count": 7,
   "metadata": {},
   "outputs": [
    {
     "data": {
      "image/svg+xml": [
       "<?xml version=\"1.0\" encoding=\"UTF-8\" standalone=\"no\"?>\n",
       "<!DOCTYPE svg PUBLIC \"-//W3C//DTD SVG 1.1//EN\"\n",
       " \"http://www.w3.org/Graphics/SVG/1.1/DTD/svg11.dtd\">\n",
       "<!-- Generated by graphviz version 2.40.1 (20161225.0304)\n",
       " -->\n",
       "<!-- Title: %3 Pages: 1 -->\n",
       "<svg width=\"317pt\" height=\"424pt\"\n",
       " viewBox=\"0.00 0.00 317.00 423.50\" xmlns=\"http://www.w3.org/2000/svg\" xmlns:xlink=\"http://www.w3.org/1999/xlink\">\n",
       "<g id=\"graph0\" class=\"graph\" transform=\"scale(1 1) rotate(0) translate(4 419.5)\">\n",
       "<title>%3</title>\n",
       "<polygon fill=\"#ffffff\" stroke=\"transparent\" points=\"-4,4 -4,-419.5 313,-419.5 313,4 -4,4\"/>\n",
       "<!-- I0 -->\n",
       "<g id=\"node1\" class=\"node\">\n",
       "<title>I0</title>\n",
       "<ellipse fill=\"#000000\" stroke=\"#000000\" cx=\"0\" cy=\"-218.5\" rx=\"0\" ry=\"0\"/>\n",
       "</g>\n",
       "<!-- 0 -->\n",
       "<g id=\"node9\" class=\"node\">\n",
       "<title>0</title>\n",
       "<path fill=\"#98f5ff\" stroke=\"#000000\" d=\"M73.3333,-233C73.3333,-233 46.6667,-233 46.6667,-233 41.8333,-233 37,-228.1667 37,-223.3333 37,-223.3333 37,-213.6667 37,-213.6667 37,-208.8333 41.8333,-204 46.6667,-204 46.6667,-204 73.3333,-204 73.3333,-204 78.1667,-204 83,-208.8333 83,-213.6667 83,-213.6667 83,-223.3333 83,-223.3333 83,-228.1667 78.1667,-233 73.3333,-233\"/>\n",
       "<text text-anchor=\"middle\" x=\"60\" y=\"-215.4\" font-family=\"Times,serif\" font-size=\"12.00\" fill=\"#000000\">a*|b*|c*</text>\n",
       "</g>\n",
       "<!-- I0&#45;&gt;0 -->\n",
       "<g id=\"edge1\" class=\"edge\">\n",
       "<title>I0&#45;&gt;0</title>\n",
       "<path fill=\"none\" stroke=\"#000000\" d=\"M.0435,-218.5C.9502,-218.5 15.883,-218.5 30.617,-218.5\"/>\n",
       "<polygon fill=\"#000000\" stroke=\"#000000\" points=\"36.878,-218.5 30.878,-221.2001 33.878,-218.5 30.878,-218.5001 30.878,-218.5001 30.878,-218.5001 33.878,-218.5 30.878,-215.8001 36.878,-218.5 36.878,-218.5\"/>\n",
       "</g>\n",
       "<!-- F0 -->\n",
       "<g id=\"node2\" class=\"node\">\n",
       "<title>F0</title>\n",
       "<ellipse fill=\"#000000\" stroke=\"#000000\" cx=\"159\" cy=\"-415.5\" rx=\"0\" ry=\"0\"/>\n",
       "</g>\n",
       "<!-- F1 -->\n",
       "<g id=\"node3\" class=\"node\">\n",
       "<title>F1</title>\n",
       "<ellipse fill=\"#000000\" stroke=\"#000000\" cx=\"309\" cy=\"-352.5\" rx=\"0\" ry=\"0\"/>\n",
       "</g>\n",
       "<!-- F2 -->\n",
       "<g id=\"node4\" class=\"node\">\n",
       "<title>F2</title>\n",
       "<ellipse fill=\"#000000\" stroke=\"#000000\" cx=\"309\" cy=\"-154.5\" rx=\"0\" ry=\"0\"/>\n",
       "</g>\n",
       "<!-- F3 -->\n",
       "<g id=\"node5\" class=\"node\">\n",
       "<title>F3</title>\n",
       "<ellipse fill=\"#000000\" stroke=\"#000000\" cx=\"253.5\" cy=\"-319.5\" rx=\"0\" ry=\"0\"/>\n",
       "</g>\n",
       "<!-- F4 -->\n",
       "<g id=\"node6\" class=\"node\">\n",
       "<title>F4</title>\n",
       "<ellipse fill=\"#000000\" stroke=\"#000000\" cx=\"309\" cy=\"-74.5\" rx=\"0\" ry=\"0\"/>\n",
       "</g>\n",
       "<!-- F5 -->\n",
       "<g id=\"node7\" class=\"node\">\n",
       "<title>F5</title>\n",
       "<ellipse fill=\"#000000\" stroke=\"#000000\" cx=\"253.5\" cy=\"-220.5\" rx=\"0\" ry=\"0\"/>\n",
       "</g>\n",
       "<!-- F6 -->\n",
       "<g id=\"node8\" class=\"node\">\n",
       "<title>F6</title>\n",
       "<ellipse fill=\"#000000\" stroke=\"#000000\" cx=\"253.5\" cy=\"-14.5\" rx=\"0\" ry=\"0\"/>\n",
       "</g>\n",
       "<!-- 0&#45;&gt;F0 -->\n",
       "<g id=\"edge2\" class=\"edge\">\n",
       "<title>0&#45;&gt;F0</title>\n",
       "<path fill=\"none\" stroke=\"#000000\" d=\"M67.4411,-233.307C87.6261,-273.4731 142.7922,-383.2482 156.0884,-409.7062\"/>\n",
       "<polygon fill=\"#000000\" stroke=\"#000000\" points=\"158.9502,-415.401 153.8435,-411.2523 157.6031,-412.7204 156.256,-410.0399 156.256,-410.0399 156.256,-410.0399 157.6031,-412.7204 158.6685,-408.8275 158.9502,-415.401 158.9502,-415.401\"/>\n",
       "</g>\n",
       "<!-- 0&#45;&gt;0 -->\n",
       "<g id=\"edge3\" class=\"edge\">\n",
       "<title>0&#45;&gt;0</title>\n",
       "<path fill=\"none\" stroke=\"#000000\" d=\"M53.029,-233.21C51.348,-242.32 53.672,-251 60,-251 64.845,-251 67.343,-245.91 67.493,-239.44\"/>\n",
       "<polygon fill=\"#000000\" stroke=\"#000000\" points=\"66.971,-233.21 70.1626,-238.9636 67.2215,-236.1995 67.4721,-239.189 67.4721,-239.189 67.4721,-239.189 67.2215,-236.1995 64.7815,-239.4145 66.971,-233.21 66.971,-233.21\"/>\n",
       "<text text-anchor=\"middle\" x=\"60\" y=\"-254.8\" font-family=\"Times,serif\" font-size=\"14.00\" fill=\"#000000\">a|b|c</text>\n",
       "</g>\n",
       "<!-- 1 -->\n",
       "<g id=\"node10\" class=\"node\">\n",
       "<title>1</title>\n",
       "<path fill=\"#98f5ff\" stroke=\"#000000\" d=\"M262.3333,-367C262.3333,-367 244.6667,-367 244.6667,-367 239.8333,-367 235,-362.1667 235,-357.3333 235,-357.3333 235,-347.6667 235,-347.6667 235,-342.8333 239.8333,-338 244.6667,-338 244.6667,-338 262.3333,-338 262.3333,-338 267.1667,-338 272,-342.8333 272,-347.6667 272,-347.6667 272,-357.3333 272,-357.3333 272,-362.1667 267.1667,-367 262.3333,-367\"/>\n",
       "<text text-anchor=\"middle\" x=\"253.5\" y=\"-349.4\" font-family=\"Times,serif\" font-size=\"12.00\" fill=\"#000000\">ε|ε|c*</text>\n",
       "</g>\n",
       "<!-- 0&#45;&gt;1 -->\n",
       "<g id=\"edge4\" class=\"edge\">\n",
       "<title>0&#45;&gt;1</title>\n",
       "<path fill=\"none\" stroke=\"#000000\" d=\"M63.203,-233.11C70.539,-262.55 91.624,-328.54 138,-355.5 165.82,-371.67 204.12,-366.4 228.85,-360.21\"/>\n",
       "<polygon fill=\"#000000\" stroke=\"#000000\" points=\"234.83,-358.63 229.7188,-362.7732 231.9295,-359.3964 229.0291,-360.1628 229.0291,-360.1628 229.0291,-360.1628 231.9295,-359.3964 228.3393,-357.5523 234.83,-358.63 234.83,-358.63\"/>\n",
       "<text text-anchor=\"middle\" x=\"159\" y=\"-369.3\" font-family=\"Times,serif\" font-size=\"14.00\" fill=\"#000000\">ε|ε|c</text>\n",
       "</g>\n",
       "<!-- 2 -->\n",
       "<g id=\"node11\" class=\"node\">\n",
       "<title>2</title>\n",
       "<path fill=\"#98f5ff\" stroke=\"#000000\" d=\"M262.3333,-169C262.3333,-169 244.6667,-169 244.6667,-169 239.8333,-169 235,-164.1667 235,-159.3333 235,-159.3333 235,-149.6667 235,-149.6667 235,-144.8333 239.8333,-140 244.6667,-140 244.6667,-140 262.3333,-140 262.3333,-140 267.1667,-140 272,-144.8333 272,-149.6667 272,-149.6667 272,-159.3333 272,-159.3333 272,-164.1667 267.1667,-169 262.3333,-169\"/>\n",
       "<text text-anchor=\"middle\" x=\"253.5\" y=\"-151.4\" font-family=\"Times,serif\" font-size=\"12.00\" fill=\"#000000\">ε|b*|ε</text>\n",
       "</g>\n",
       "<!-- 0&#45;&gt;2 -->\n",
       "<g id=\"edge5\" class=\"edge\">\n",
       "<title>0&#45;&gt;2</title>\n",
       "<path fill=\"none\" stroke=\"#000000\" d=\"M83.283,-205.39C98.475,-197.28 118.95,-187.18 138,-180.5 168.45,-169.82 204.98,-162.46 228.69,-158.37\"/>\n",
       "<polygon fill=\"#000000\" stroke=\"#000000\" points=\"234.72,-157.35 229.2544,-161.013 231.762,-157.8504 228.804,-158.3508 228.804,-158.3508 228.804,-158.3508 231.762,-157.8504 228.3537,-155.6886 234.72,-157.35 234.72,-157.35\"/>\n",
       "<text text-anchor=\"middle\" x=\"159\" y=\"-184.3\" font-family=\"Times,serif\" font-size=\"14.00\" fill=\"#000000\">ε|b|ε</text>\n",
       "</g>\n",
       "<!-- 3 -->\n",
       "<g id=\"node12\" class=\"node\">\n",
       "<title>3</title>\n",
       "<path fill=\"#98f5ff\" stroke=\"#000000\" d=\"M170.3333,-313C170.3333,-313 147.6667,-313 147.6667,-313 142.8333,-313 138,-308.1667 138,-303.3333 138,-303.3333 138,-293.6667 138,-293.6667 138,-288.8333 142.8333,-284 147.6667,-284 147.6667,-284 170.3333,-284 170.3333,-284 175.1667,-284 180,-288.8333 180,-293.6667 180,-293.6667 180,-303.3333 180,-303.3333 180,-308.1667 175.1667,-313 170.3333,-313\"/>\n",
       "<text text-anchor=\"middle\" x=\"159\" y=\"-295.4\" font-family=\"Times,serif\" font-size=\"12.00\" fill=\"#000000\">ε|b*|c*</text>\n",
       "</g>\n",
       "<!-- 0&#45;&gt;3 -->\n",
       "<g id=\"edge6\" class=\"edge\">\n",
       "<title>0&#45;&gt;3</title>\n",
       "<path fill=\"none\" stroke=\"#000000\" d=\"M78.158,-233.17C94.486,-246.37 118.54,-265.81 136.17,-280.05\"/>\n",
       "<polygon fill=\"#000000\" stroke=\"#000000\" points=\"140.96,-283.92 134.596,-282.2495 138.6264,-282.0346 136.2929,-280.1493 136.2929,-280.1493 136.2929,-280.1493 138.6264,-282.0346 137.9897,-278.0491 140.96,-283.92 140.96,-283.92\"/>\n",
       "<text text-anchor=\"middle\" x=\"110.5\" y=\"-269.3\" font-family=\"Times,serif\" font-size=\"14.00\" fill=\"#000000\">ε|b|c</text>\n",
       "</g>\n",
       "<!-- 4 -->\n",
       "<g id=\"node13\" class=\"node\">\n",
       "<title>4</title>\n",
       "<path fill=\"#98f5ff\" stroke=\"#000000\" d=\"M262.3333,-89C262.3333,-89 244.6667,-89 244.6667,-89 239.8333,-89 235,-84.1667 235,-79.3333 235,-79.3333 235,-69.6667 235,-69.6667 235,-64.8333 239.8333,-60 244.6667,-60 244.6667,-60 262.3333,-60 262.3333,-60 267.1667,-60 272,-64.8333 272,-69.6667 272,-69.6667 272,-79.3333 272,-79.3333 272,-84.1667 267.1667,-89 262.3333,-89\"/>\n",
       "<text text-anchor=\"middle\" x=\"253.5\" y=\"-71.4\" font-family=\"Times,serif\" font-size=\"12.00\" fill=\"#000000\">a*|ε|ε</text>\n",
       "</g>\n",
       "<!-- 0&#45;&gt;4 -->\n",
       "<g id=\"edge7\" class=\"edge\">\n",
       "<title>0&#45;&gt;4</title>\n",
       "<path fill=\"none\" stroke=\"#000000\" d=\"M75.061,-203.99C90.431,-189.42 115.2,-166.6 138,-148.5 163.49,-128.26 170.54,-123.98 198,-106.5 208.13,-100.05 219.59,-93.346 229.46,-87.752\"/>\n",
       "<polygon fill=\"#000000\" stroke=\"#000000\" points=\"234.76,-84.766 230.8579,-90.0635 232.1463,-86.2386 229.5325,-87.7112 229.5325,-87.7112 229.5325,-87.7112 232.1463,-86.2386 228.2072,-85.3588 234.76,-84.766 234.76,-84.766\"/>\n",
       "<text text-anchor=\"middle\" x=\"159\" y=\"-152.3\" font-family=\"Times,serif\" font-size=\"14.00\" fill=\"#000000\">a|ε|ε</text>\n",
       "</g>\n",
       "<!-- 5 -->\n",
       "<g id=\"node14\" class=\"node\">\n",
       "<title>5</title>\n",
       "<path fill=\"#98f5ff\" stroke=\"#000000\" d=\"M169.8333,-233C169.8333,-233 148.1667,-233 148.1667,-233 143.3333,-233 138.5,-228.1667 138.5,-223.3333 138.5,-223.3333 138.5,-213.6667 138.5,-213.6667 138.5,-208.8333 143.3333,-204 148.1667,-204 148.1667,-204 169.8333,-204 169.8333,-204 174.6667,-204 179.5,-208.8333 179.5,-213.6667 179.5,-213.6667 179.5,-223.3333 179.5,-223.3333 179.5,-228.1667 174.6667,-233 169.8333,-233\"/>\n",
       "<text text-anchor=\"middle\" x=\"159\" y=\"-215.4\" font-family=\"Times,serif\" font-size=\"12.00\" fill=\"#000000\">a*|ε|c*</text>\n",
       "</g>\n",
       "<!-- 0&#45;&gt;5 -->\n",
       "<g id=\"edge8\" class=\"edge\">\n",
       "<title>0&#45;&gt;5</title>\n",
       "<path fill=\"none\" stroke=\"#000000\" d=\"M83.211,-218.5C97.813,-218.5 116.72,-218.5 131.99,-218.5\"/>\n",
       "<polygon fill=\"#000000\" stroke=\"#000000\" points=\"138.29,-218.5 132.29,-221.2001 135.29,-218.5 132.29,-218.5001 132.29,-218.5001 132.29,-218.5001 135.29,-218.5 132.29,-215.8001 138.29,-218.5 138.29,-218.5\"/>\n",
       "<text text-anchor=\"middle\" x=\"110.5\" y=\"-222.3\" font-family=\"Times,serif\" font-size=\"14.00\" fill=\"#000000\">a|ε|c</text>\n",
       "</g>\n",
       "<!-- 6 -->\n",
       "<g id=\"node15\" class=\"node\">\n",
       "<title>6</title>\n",
       "<path fill=\"#98f5ff\" stroke=\"#000000\" d=\"M170.3333,-29C170.3333,-29 147.6667,-29 147.6667,-29 142.8333,-29 138,-24.1667 138,-19.3333 138,-19.3333 138,-9.6667 138,-9.6667 138,-4.8333 142.8333,0 147.6667,0 147.6667,0 170.3333,0 170.3333,0 175.1667,0 180,-4.8333 180,-9.6667 180,-9.6667 180,-19.3333 180,-19.3333 180,-24.1667 175.1667,-29 170.3333,-29\"/>\n",
       "<text text-anchor=\"middle\" x=\"159\" y=\"-11.4\" font-family=\"Times,serif\" font-size=\"12.00\" fill=\"#000000\">a*|b*|ε</text>\n",
       "</g>\n",
       "<!-- 0&#45;&gt;6 -->\n",
       "<g id=\"edge9\" class=\"edge\">\n",
       "<title>0&#45;&gt;6</title>\n",
       "<path fill=\"none\" stroke=\"#000000\" d=\"M61.388,-203.94C64.588,-176.04 74.367,-113.91 101,-69.5 109.37,-55.546 122.24,-42.837 133.73,-33.159\"/>\n",
       "<polygon fill=\"#000000\" stroke=\"#000000\" points=\"138.55,-29.203 135.625,-35.0967 136.231,-31.1063 133.9121,-33.0096 133.9121,-33.0096 133.9121,-33.0096 136.231,-31.1063 132.1991,-30.9225 138.55,-29.203 138.55,-29.203\"/>\n",
       "<text text-anchor=\"middle\" x=\"110.5\" y=\"-73.3\" font-family=\"Times,serif\" font-size=\"14.00\" fill=\"#000000\">a|b|ε</text>\n",
       "</g>\n",
       "<!-- 1&#45;&gt;F1 -->\n",
       "<g id=\"edge10\" class=\"edge\">\n",
       "<title>1&#45;&gt;F1</title>\n",
       "<path fill=\"none\" stroke=\"#000000\" d=\"M272.2898,-352.5C282.8914,-352.5 295.4476,-352.5 302.7881,-352.5\"/>\n",
       "<polygon fill=\"#000000\" stroke=\"#000000\" points=\"308.9404,-352.5 302.9404,-355.2001 305.9404,-352.5 302.9404,-352.5001 302.9404,-352.5001 302.9404,-352.5001 305.9404,-352.5 302.9403,-349.8001 308.9404,-352.5 308.9404,-352.5\"/>\n",
       "</g>\n",
       "<!-- 1&#45;&gt;1 -->\n",
       "<g id=\"edge11\" class=\"edge\">\n",
       "<title>1&#45;&gt;1</title>\n",
       "<path fill=\"none\" stroke=\"#000000\" d=\"M247.23,-367.21C245.71,-376.32 247.8,-385 253.5,-385 257.86,-385 260.11,-379.91 260.24,-373.44\"/>\n",
       "<polygon fill=\"#000000\" stroke=\"#000000\" points=\"259.77,-367.21 262.9138,-372.9898 259.9957,-370.2015 260.2215,-373.193 260.2215,-373.193 260.2215,-373.193 259.9957,-370.2015 257.5291,-373.3962 259.77,-367.21 259.77,-367.21\"/>\n",
       "<text text-anchor=\"middle\" x=\"253.5\" y=\"-388.8\" font-family=\"Times,serif\" font-size=\"14.00\" fill=\"#000000\">ε|ε|c</text>\n",
       "</g>\n",
       "<!-- 2&#45;&gt;F2 -->\n",
       "<g id=\"edge12\" class=\"edge\">\n",
       "<title>2&#45;&gt;F2</title>\n",
       "<path fill=\"none\" stroke=\"#000000\" d=\"M272.2898,-154.5C282.8914,-154.5 295.4476,-154.5 302.7881,-154.5\"/>\n",
       "<polygon fill=\"#000000\" stroke=\"#000000\" points=\"308.9404,-154.5 302.9404,-157.2001 305.9404,-154.5 302.9404,-154.5001 302.9404,-154.5001 302.9404,-154.5001 305.9404,-154.5 302.9403,-151.8001 308.9404,-154.5 308.9404,-154.5\"/>\n",
       "</g>\n",
       "<!-- 2&#45;&gt;2 -->\n",
       "<g id=\"edge13\" class=\"edge\">\n",
       "<title>2&#45;&gt;2</title>\n",
       "<path fill=\"none\" stroke=\"#000000\" d=\"M247.23,-169.21C245.71,-178.32 247.8,-187 253.5,-187 257.86,-187 260.11,-181.91 260.24,-175.44\"/>\n",
       "<polygon fill=\"#000000\" stroke=\"#000000\" points=\"259.77,-169.21 262.9138,-174.9898 259.9957,-172.2015 260.2215,-175.193 260.2215,-175.193 260.2215,-175.193 259.9957,-172.2015 257.5291,-175.3962 259.77,-169.21 259.77,-169.21\"/>\n",
       "<text text-anchor=\"middle\" x=\"253.5\" y=\"-190.8\" font-family=\"Times,serif\" font-size=\"14.00\" fill=\"#000000\">ε|b|ε</text>\n",
       "</g>\n",
       "<!-- 3&#45;&gt;F3 -->\n",
       "<g id=\"edge14\" class=\"edge\">\n",
       "<title>3&#45;&gt;F3</title>\n",
       "<path fill=\"none\" stroke=\"#000000\" d=\"M180.4435,-303.2652C201.9672,-308.0483 233.7969,-315.1215 247.1938,-318.0986\"/>\n",
       "<polygon fill=\"#000000\" stroke=\"#000000\" points=\"253.3696,-319.471 246.9267,-320.8051 250.441,-318.8202 247.5124,-318.1694 247.5124,-318.1694 247.5124,-318.1694 250.441,-318.8202 248.0982,-315.5336 253.3696,-319.471 253.3696,-319.471\"/>\n",
       "</g>\n",
       "<!-- 3&#45;&gt;1 -->\n",
       "<g id=\"edge15\" class=\"edge\">\n",
       "<title>3&#45;&gt;1</title>\n",
       "<path fill=\"none\" stroke=\"#000000\" d=\"M180.33,-311.92C186.03,-315.43 192.22,-319.16 198,-322.5 208.15,-328.36 219.51,-334.56 229.3,-339.8\"/>\n",
       "<polygon fill=\"#000000\" stroke=\"#000000\" points=\"234.86,-342.76 228.2949,-342.3237 232.2119,-341.3502 229.5638,-339.9404 229.5638,-339.9404 229.5638,-339.9404 232.2119,-341.3502 230.8326,-337.5571 234.86,-342.76 234.86,-342.76\"/>\n",
       "<text text-anchor=\"middle\" x=\"207.5\" y=\"-336.3\" font-family=\"Times,serif\" font-size=\"14.00\" fill=\"#000000\">ε|ε|c</text>\n",
       "</g>\n",
       "<!-- 3&#45;&gt;2 -->\n",
       "<g id=\"edge16\" class=\"edge\">\n",
       "<title>3&#45;&gt;2</title>\n",
       "<path fill=\"none\" stroke=\"#000000\" d=\"M173.22,-283.77C175.58,-281.09 177.93,-278.27 180,-275.5 205.1,-241.99 229.34,-199.5 242.75,-174.82\"/>\n",
       "<polygon fill=\"#000000\" stroke=\"#000000\" points=\"245.76,-169.24 245.2877,-175.8026 244.3357,-171.8804 242.9114,-174.5207 242.9114,-174.5207 242.9114,-174.5207 244.3357,-171.8804 240.5351,-173.2388 245.76,-169.24 245.76,-169.24\"/>\n",
       "<text text-anchor=\"middle\" x=\"207.5\" y=\"-250.3\" font-family=\"Times,serif\" font-size=\"14.00\" fill=\"#000000\">ε|b|ε</text>\n",
       "</g>\n",
       "<!-- 3&#45;&gt;3 -->\n",
       "<g id=\"edge17\" class=\"edge\">\n",
       "<title>3&#45;&gt;3</title>\n",
       "<path fill=\"none\" stroke=\"#000000\" d=\"M150.64,-313.21C148.62,-322.32 151.41,-331 159,-331 164.81,-331 167.81,-325.91 167.99,-319.44\"/>\n",
       "<polygon fill=\"#000000\" stroke=\"#000000\" points=\"167.36,-313.21 170.65,-318.9079 167.6619,-316.1948 167.9637,-319.1796 167.9637,-319.1796 167.9637,-319.1796 167.6619,-316.1948 165.2774,-319.4512 167.36,-313.21 167.36,-313.21\"/>\n",
       "<text text-anchor=\"middle\" x=\"159\" y=\"-334.8\" font-family=\"Times,serif\" font-size=\"14.00\" fill=\"#000000\">ε|b|c</text>\n",
       "</g>\n",
       "<!-- 4&#45;&gt;F4 -->\n",
       "<g id=\"edge18\" class=\"edge\">\n",
       "<title>4&#45;&gt;F4</title>\n",
       "<path fill=\"none\" stroke=\"#000000\" d=\"M272.2898,-74.5C282.8914,-74.5 295.4476,-74.5 302.7881,-74.5\"/>\n",
       "<polygon fill=\"#000000\" stroke=\"#000000\" points=\"308.9404,-74.5 302.9404,-77.2001 305.9404,-74.5 302.9404,-74.5001 302.9404,-74.5001 302.9404,-74.5001 305.9404,-74.5 302.9403,-71.8001 308.9404,-74.5 308.9404,-74.5\"/>\n",
       "</g>\n",
       "<!-- 4&#45;&gt;4 -->\n",
       "<g id=\"edge19\" class=\"edge\">\n",
       "<title>4&#45;&gt;4</title>\n",
       "<path fill=\"none\" stroke=\"#000000\" d=\"M247.23,-89.206C245.71,-98.324 247.8,-107 253.5,-107 257.86,-107 260.11,-101.91 260.24,-95.438\"/>\n",
       "<polygon fill=\"#000000\" stroke=\"#000000\" points=\"259.77,-89.206 262.9137,-94.9859 259.9957,-92.1975 260.2213,-95.189 260.2213,-95.189 260.2213,-95.189 259.9957,-92.1975 257.529,-95.3921 259.77,-89.206 259.77,-89.206\"/>\n",
       "<text text-anchor=\"middle\" x=\"253.5\" y=\"-110.8\" font-family=\"Times,serif\" font-size=\"14.00\" fill=\"#000000\">a|ε|ε</text>\n",
       "</g>\n",
       "<!-- 5&#45;&gt;F5 -->\n",
       "<g id=\"edge20\" class=\"edge\">\n",
       "<title>5&#45;&gt;F5</title>\n",
       "<path fill=\"none\" stroke=\"#000000\" d=\"M179.5051,-218.934C200.9607,-219.3881 233.3867,-220.0743 247.0591,-220.3637\"/>\n",
       "<polygon fill=\"#000000\" stroke=\"#000000\" points=\"253.3666,-220.4972 247.3108,-223.0695 250.3673,-220.4337 247.368,-220.3701 247.368,-220.3701 247.368,-220.3701 250.3673,-220.4337 247.4251,-217.6707 253.3666,-220.4972 253.3666,-220.4972\"/>\n",
       "</g>\n",
       "<!-- 5&#45;&gt;1 -->\n",
       "<g id=\"edge21\" class=\"edge\">\n",
       "<title>5&#45;&gt;1</title>\n",
       "<path fill=\"none\" stroke=\"#000000\" d=\"M168.84,-233.26C183.1,-254.53 210.5,-294.94 235,-328.5 236.05,-329.93 237.14,-331.41 238.25,-332.88\"/>\n",
       "<polygon fill=\"#000000\" stroke=\"#000000\" points=\"242.03,-337.87 236.2548,-334.7176 240.2185,-335.4786 238.407,-333.0873 238.407,-333.0873 238.407,-333.0873 240.2185,-335.4786 240.5592,-331.4569 242.03,-337.87 242.03,-337.87\"/>\n",
       "<text text-anchor=\"middle\" x=\"207.5\" y=\"-305.3\" font-family=\"Times,serif\" font-size=\"14.00\" fill=\"#000000\">ε|ε|c</text>\n",
       "</g>\n",
       "<!-- 5&#45;&gt;4 -->\n",
       "<g id=\"edge22\" class=\"edge\">\n",
       "<title>5&#45;&gt;4</title>\n",
       "<path fill=\"none\" stroke=\"#000000\" d=\"M168.58,-203.9C185.63,-177.92 221.26,-123.63 240.5,-94.311\"/>\n",
       "<polygon fill=\"#000000\" stroke=\"#000000\" points=\"243.89,-89.139 242.859,-95.6373 242.2454,-91.6481 240.6008,-94.1571 240.6008,-94.1571 240.6008,-94.1571 242.2454,-91.6481 238.3427,-92.677 243.89,-89.139 243.89,-89.139\"/>\n",
       "<text text-anchor=\"middle\" x=\"207.5\" y=\"-158.3\" font-family=\"Times,serif\" font-size=\"14.00\" fill=\"#000000\">a|ε|ε</text>\n",
       "</g>\n",
       "<!-- 5&#45;&gt;5 -->\n",
       "<g id=\"edge23\" class=\"edge\">\n",
       "<title>5&#45;&gt;5</title>\n",
       "<path fill=\"none\" stroke=\"#000000\" d=\"M150.64,-233.21C148.62,-242.32 151.41,-251 159,-251 164.81,-251 167.81,-245.91 167.99,-239.44\"/>\n",
       "<polygon fill=\"#000000\" stroke=\"#000000\" points=\"167.36,-233.21 170.65,-238.9079 167.6619,-236.1948 167.9637,-239.1796 167.9637,-239.1796 167.9637,-239.1796 167.6619,-236.1948 165.2774,-239.4512 167.36,-233.21 167.36,-233.21\"/>\n",
       "<text text-anchor=\"middle\" x=\"159\" y=\"-254.8\" font-family=\"Times,serif\" font-size=\"14.00\" fill=\"#000000\">a|ε|c</text>\n",
       "</g>\n",
       "<!-- 6&#45;&gt;F6 -->\n",
       "<g id=\"edge24\" class=\"edge\">\n",
       "<title>6&#45;&gt;F6</title>\n",
       "<path fill=\"none\" stroke=\"#000000\" d=\"M180.4435,-14.5C201.9672,-14.5 233.7969,-14.5 247.1938,-14.5\"/>\n",
       "<polygon fill=\"#000000\" stroke=\"#000000\" points=\"253.3696,-14.5 247.3696,-17.2001 250.3696,-14.5 247.3696,-14.5001 247.3696,-14.5001 247.3696,-14.5001 250.3696,-14.5 247.3695,-11.8001 253.3696,-14.5 253.3696,-14.5\"/>\n",
       "</g>\n",
       "<!-- 6&#45;&gt;2 -->\n",
       "<g id=\"edge25\" class=\"edge\">\n",
       "<title>6&#45;&gt;2</title>\n",
       "<path fill=\"none\" stroke=\"#000000\" d=\"M168.01,-29.024C181.9,-51.228 209.6,-94.795 235,-130.5 236.03,-131.95 237.11,-133.43 238.21,-134.91\"/>\n",
       "<polygon fill=\"#000000\" stroke=\"#000000\" points=\"241.97,-139.91 236.2059,-136.7374 240.1669,-137.5123 238.3638,-135.1146 238.3638,-135.1146 238.3638,-135.1146 240.1669,-137.5123 240.5218,-133.4918 241.97,-139.91 241.97,-139.91\"/>\n",
       "<text text-anchor=\"middle\" x=\"207.5\" y=\"-106.3\" font-family=\"Times,serif\" font-size=\"14.00\" fill=\"#000000\">ε|b|ε</text>\n",
       "</g>\n",
       "<!-- 6&#45;&gt;4 -->\n",
       "<g id=\"edge26\" class=\"edge\">\n",
       "<title>6&#45;&gt;4</title>\n",
       "<path fill=\"none\" stroke=\"#000000\" d=\"M180.44,-28.115C194.99,-37.353 214.25,-49.581 229.34,-59.163\"/>\n",
       "<polygon fill=\"#000000\" stroke=\"#000000\" points=\"234.7,-62.563 228.1871,-61.629 232.1667,-60.956 229.6334,-59.349 229.6334,-59.349 229.6334,-59.349 232.1667,-60.956 231.0796,-57.0691 234.7,-62.563 234.7,-62.563\"/>\n",
       "<text text-anchor=\"middle\" x=\"207.5\" y=\"-54.3\" font-family=\"Times,serif\" font-size=\"14.00\" fill=\"#000000\">a|ε|ε</text>\n",
       "</g>\n",
       "<!-- 6&#45;&gt;6 -->\n",
       "<g id=\"edge27\" class=\"edge\">\n",
       "<title>6&#45;&gt;6</title>\n",
       "<path fill=\"none\" stroke=\"#000000\" d=\"M150.64,-29.206C148.62,-38.324 151.41,-47 159,-47 164.81,-47 167.81,-41.914 167.99,-35.438\"/>\n",
       "<polygon fill=\"#000000\" stroke=\"#000000\" points=\"167.36,-29.206 170.6499,-34.904 167.6618,-32.1908 167.9636,-35.1756 167.9636,-35.1756 167.9636,-35.1756 167.6618,-32.1908 165.2772,-35.4472 167.36,-29.206 167.36,-29.206\"/>\n",
       "<text text-anchor=\"middle\" x=\"159\" y=\"-50.8\" font-family=\"Times,serif\" font-size=\"14.00\" fill=\"#000000\">a|b|ε</text>\n",
       "</g>\n",
       "</g>\n",
       "</svg>\n"
      ],
      "text/plain": [
       "expression_automaton<mutable_automaton<context<lat<letterset<char_letters>, letterset<char_letters>, letterset<char_letters>>, q>>>"
      ]
     },
     "execution_count": 7,
     "metadata": {},
     "output_type": "execute_result"
    }
   ],
   "source": [
    "ctx3 = vcsn.context('[...] x [...] x [...] -> q')\n",
    "a3 = ctx3.expression('a*|b*|c*').derived_term()\n",
    "a3"
   ]
  },
  {
   "cell_type": "markdown",
   "metadata": {},
   "source": [
    "Currently Vcsn is not able to extract nice rational expressions from such an automaton: it will always produce a \"simple-tape expression over multitape generators\":"
   ]
  },
  {
   "cell_type": "code",
   "execution_count": 8,
   "metadata": {},
   "outputs": [
    {
     "data": {
      "text/latex": [
       "$\\left(a|b|c\\right)^{*} \\, \\left(\\varepsilon + \\left(\\varepsilon|\\varepsilon|c\\right) \\, \\left(\\varepsilon|\\varepsilon|c\\right)^{*} + \\left(\\varepsilon|b|\\varepsilon\\right) \\, \\left(\\varepsilon|b|\\varepsilon\\right)^{*} + \\left(a|\\varepsilon|\\varepsilon\\right) \\, \\left(a|\\varepsilon|\\varepsilon\\right)^{*} + \\left(\\varepsilon|b|c\\right) \\, \\left(\\varepsilon|b|c\\right)^{*} \\, \\left(\\varepsilon + \\left(\\varepsilon|\\varepsilon|c\\right) \\, \\left(\\varepsilon|\\varepsilon|c\\right)^{*} + \\left(\\varepsilon|b|\\varepsilon\\right) \\, \\left(\\varepsilon|b|\\varepsilon\\right)^{*}\\right) + \\left(a|\\varepsilon|c\\right) \\, \\left(a|\\varepsilon|c\\right)^{*} \\, \\left(\\varepsilon + \\left(\\varepsilon|\\varepsilon|c\\right) \\, \\left(\\varepsilon|\\varepsilon|c\\right)^{*} + \\left(a|\\varepsilon|\\varepsilon\\right) \\, \\left(a|\\varepsilon|\\varepsilon\\right)^{*}\\right) + \\left(a|b|\\varepsilon\\right) \\, \\left(a|b|\\varepsilon\\right)^{*} \\, \\left(\\varepsilon + \\left(\\varepsilon|b|\\varepsilon\\right) \\, \\left(\\varepsilon|b|\\varepsilon\\right)^{*} + \\left(a|\\varepsilon|\\varepsilon\\right) \\, \\left(a|\\varepsilon|\\varepsilon\\right)^{*}\\right)\\right)$"
      ],
      "text/plain": [
       "(a|b|c)*(ε+(ε|ε|c)(ε|ε|c)*+(ε|b|ε)(ε|b|ε)*+(a|ε|ε)(a|ε|ε)*+(ε|b|c)(ε|b|c)*(ε+(ε|ε|c)(ε|ε|c)*+(ε|b|ε)(ε|b|ε)*)+(a|ε|c)(a|ε|c)*(ε+(ε|ε|c)(ε|ε|c)*+(a|ε|ε)(a|ε|ε)*)+(a|b|ε)(a|b|ε)*(ε+(ε|b|ε)(ε|b|ε)*+(a|ε|ε)(a|ε|ε)*))"
      ]
     },
     "execution_count": 8,
     "metadata": {},
     "output_type": "execute_result"
    }
   ],
   "source": [
    "a3.expression()"
   ]
  },
  {
   "cell_type": "markdown",
   "metadata": {},
   "source": [
    "Instead of displaying the automaton, we may list its states, for instance in the case of a five-tape expression."
   ]
  },
  {
   "cell_type": "code",
   "execution_count": 9,
   "metadata": {},
   "outputs": [
    {
     "data": {
      "text/latex": [
       "$ \\left. {a}^{*} \\middle| {b}^{*} \\middle| {c}^{*} \\middle| {d}^{*} \\middle| {e}^{*} \\right. $"
      ],
      "text/plain": [
       "a*|b*|c*|d*|e*"
      ]
     },
     "execution_count": 9,
     "metadata": {},
     "output_type": "execute_result"
    }
   ],
   "source": [
    "import re\n",
    "def states(a):\n",
    "    '''The states of an automaton, sorted.'''\n",
    "    res = re.findall(r'label = \"(.*?)\", shape', a.dot(), re.M)\n",
    "    res.sort()\n",
    "    return res\n",
    "\n",
    "ctx5 = vcsn.context('[a] x [b] x [c] x [d] x [e] -> Q')\n",
    "e5 = ctx5.expression('a*|b*|c*|d*|e*')\n",
    "e5"
   ]
  },
  {
   "cell_type": "code",
   "execution_count": 10,
   "metadata": {},
   "outputs": [
    {
     "data": {
      "text/latex": [
       "$\\left\\langle 1\\right\\rangle  \\oplus \\varepsilon|\\varepsilon|\\varepsilon|\\varepsilon|e \\odot \\left[ \\left. \\varepsilon \\middle| \\varepsilon \\middle| \\varepsilon \\middle| \\varepsilon \\middle| {e}^{*} \\right. \\right] \\oplus \\varepsilon|\\varepsilon|\\varepsilon|d|\\varepsilon \\odot \\left[ \\left. \\varepsilon \\middle| \\varepsilon \\middle| \\varepsilon \\middle| {d}^{*} \\middle| \\varepsilon \\right. \\right] \\oplus \\varepsilon|\\varepsilon|\\varepsilon|d|e \\odot \\left[ \\left. \\varepsilon \\middle| \\varepsilon \\middle| \\varepsilon \\middle| {d}^{*} \\middle| {e}^{*} \\right. \\right] \\oplus \\varepsilon|\\varepsilon|c|\\varepsilon|\\varepsilon \\odot \\left[ \\left. \\varepsilon \\middle| \\varepsilon \\middle| {c}^{*} \\middle| \\varepsilon \\middle| \\varepsilon \\right. \\right] \\oplus \\varepsilon|\\varepsilon|c|\\varepsilon|e \\odot \\left[ \\left. \\varepsilon \\middle| \\varepsilon \\middle| {c}^{*} \\middle| \\varepsilon \\middle| {e}^{*} \\right. \\right] \\oplus \\varepsilon|\\varepsilon|c|d|\\varepsilon \\odot \\left[ \\left. \\varepsilon \\middle| \\varepsilon \\middle| {c}^{*} \\middle| {d}^{*} \\middle| \\varepsilon \\right. \\right] \\oplus \\varepsilon|\\varepsilon|c|d|e \\odot \\left[ \\left. \\varepsilon \\middle| \\varepsilon \\middle| {c}^{*} \\middle| {d}^{*} \\middle| {e}^{*} \\right. \\right] \\oplus \\varepsilon|b|\\varepsilon|\\varepsilon|\\varepsilon \\odot \\left[ \\left. \\varepsilon \\middle| {b}^{*} \\middle| \\varepsilon \\middle| \\varepsilon \\middle| \\varepsilon \\right. \\right] \\oplus \\varepsilon|b|\\varepsilon|\\varepsilon|e \\odot \\left[ \\left. \\varepsilon \\middle| {b}^{*} \\middle| \\varepsilon \\middle| \\varepsilon \\middle| {e}^{*} \\right. \\right] \\oplus \\varepsilon|b|\\varepsilon|d|\\varepsilon \\odot \\left[ \\left. \\varepsilon \\middle| {b}^{*} \\middle| \\varepsilon \\middle| {d}^{*} \\middle| \\varepsilon \\right. \\right] \\oplus \\varepsilon|b|\\varepsilon|d|e \\odot \\left[ \\left. \\varepsilon \\middle| {b}^{*} \\middle| \\varepsilon \\middle| {d}^{*} \\middle| {e}^{*} \\right. \\right] \\oplus \\varepsilon|b|c|\\varepsilon|\\varepsilon \\odot \\left[ \\left. \\varepsilon \\middle| {b}^{*} \\middle| {c}^{*} \\middle| \\varepsilon \\middle| \\varepsilon \\right. \\right] \\oplus \\varepsilon|b|c|\\varepsilon|e \\odot \\left[ \\left. \\varepsilon \\middle| {b}^{*} \\middle| {c}^{*} \\middle| \\varepsilon \\middle| {e}^{*} \\right. \\right] \\oplus \\varepsilon|b|c|d|\\varepsilon \\odot \\left[ \\left. \\varepsilon \\middle| {b}^{*} \\middle| {c}^{*} \\middle| {d}^{*} \\middle| \\varepsilon \\right. \\right] \\oplus \\varepsilon|b|c|d|e \\odot \\left[ \\left. \\varepsilon \\middle| {b}^{*} \\middle| {c}^{*} \\middle| {d}^{*} \\middle| {e}^{*} \\right. \\right] \\oplus a|\\varepsilon|\\varepsilon|\\varepsilon|\\varepsilon \\odot \\left[ \\left. {a}^{*} \\middle| \\varepsilon \\middle| \\varepsilon \\middle| \\varepsilon \\middle| \\varepsilon \\right. \\right] \\oplus a|\\varepsilon|\\varepsilon|\\varepsilon|e \\odot \\left[ \\left. {a}^{*} \\middle| \\varepsilon \\middle| \\varepsilon \\middle| \\varepsilon \\middle| {e}^{*} \\right. \\right] \\oplus a|\\varepsilon|\\varepsilon|d|\\varepsilon \\odot \\left[ \\left. {a}^{*} \\middle| \\varepsilon \\middle| \\varepsilon \\middle| {d}^{*} \\middle| \\varepsilon \\right. \\right] \\oplus a|\\varepsilon|\\varepsilon|d|e \\odot \\left[ \\left. {a}^{*} \\middle| \\varepsilon \\middle| \\varepsilon \\middle| {d}^{*} \\middle| {e}^{*} \\right. \\right] \\oplus a|\\varepsilon|c|\\varepsilon|\\varepsilon \\odot \\left[ \\left. {a}^{*} \\middle| \\varepsilon \\middle| {c}^{*} \\middle| \\varepsilon \\middle| \\varepsilon \\right. \\right] \\oplus a|\\varepsilon|c|\\varepsilon|e \\odot \\left[ \\left. {a}^{*} \\middle| \\varepsilon \\middle| {c}^{*} \\middle| \\varepsilon \\middle| {e}^{*} \\right. \\right] \\oplus a|\\varepsilon|c|d|\\varepsilon \\odot \\left[ \\left. {a}^{*} \\middle| \\varepsilon \\middle| {c}^{*} \\middle| {d}^{*} \\middle| \\varepsilon \\right. \\right] \\oplus a|\\varepsilon|c|d|e \\odot \\left[ \\left. {a}^{*} \\middle| \\varepsilon \\middle| {c}^{*} \\middle| {d}^{*} \\middle| {e}^{*} \\right. \\right] \\oplus a|b|\\varepsilon|\\varepsilon|\\varepsilon \\odot \\left[ \\left. {a}^{*} \\middle| {b}^{*} \\middle| \\varepsilon \\middle| \\varepsilon \\middle| \\varepsilon \\right. \\right] \\oplus a|b|\\varepsilon|\\varepsilon|e \\odot \\left[ \\left. {a}^{*} \\middle| {b}^{*} \\middle| \\varepsilon \\middle| \\varepsilon \\middle| {e}^{*} \\right. \\right] \\oplus a|b|\\varepsilon|d|\\varepsilon \\odot \\left[ \\left. {a}^{*} \\middle| {b}^{*} \\middle| \\varepsilon \\middle| {d}^{*} \\middle| \\varepsilon \\right. \\right] \\oplus a|b|\\varepsilon|d|e \\odot \\left[ \\left. {a}^{*} \\middle| {b}^{*} \\middle| \\varepsilon \\middle| {d}^{*} \\middle| {e}^{*} \\right. \\right] \\oplus a|b|c|\\varepsilon|\\varepsilon \\odot \\left[ \\left. {a}^{*} \\middle| {b}^{*} \\middle| {c}^{*} \\middle| \\varepsilon \\middle| \\varepsilon \\right. \\right] \\oplus a|b|c|\\varepsilon|e \\odot \\left[ \\left. {a}^{*} \\middle| {b}^{*} \\middle| {c}^{*} \\middle| \\varepsilon \\middle| {e}^{*} \\right. \\right] \\oplus a|b|c|d|\\varepsilon \\odot \\left[ \\left. {a}^{*} \\middle| {b}^{*} \\middle| {c}^{*} \\middle| {d}^{*} \\middle| \\varepsilon \\right. \\right] \\oplus a|b|c|d|e \\odot \\left[ \\left. {a}^{*} \\middle| {b}^{*} \\middle| {c}^{*} \\middle| {d}^{*} \\middle| {e}^{*} \\right. \\right]$"
      ],
      "text/plain": [
       "⟨1⟩ ⊕ ε|ε|ε|ε|e⊙[ε|ε|ε|ε|e*] ⊕ ε|ε|ε|d|ε⊙[ε|ε|ε|d*|ε] ⊕ ε|ε|ε|d|e⊙[ε|ε|ε|d*|e*] ⊕ ε|ε|c|ε|ε⊙[ε|ε|c*|ε|ε] ⊕ ε|ε|c|ε|e⊙[ε|ε|c*|ε|e*] ⊕ ε|ε|c|d|ε⊙[ε|ε|c*|d*|ε] ⊕ ε|ε|c|d|e⊙[ε|ε|c*|d*|e*] ⊕ ε|b|ε|ε|ε⊙[ε|b*|ε|ε|ε] ⊕ ε|b|ε|ε|e⊙[ε|b*|ε|ε|e*] ⊕ ε|b|ε|d|ε⊙[ε|b*|ε|d*|ε] ⊕ ε|b|ε|d|e⊙[ε|b*|ε|d*|e*] ⊕ ε|b|c|ε|ε⊙[ε|b*|c*|ε|ε] ⊕ ε|b|c|ε|e⊙[ε|b*|c*|ε|e*] ⊕ ε|b|c|d|ε⊙[ε|b*|c*|d*|ε] ⊕ ε|b|c|d|e⊙[ε|b*|c*|d*|e*] ⊕ a|ε|ε|ε|ε⊙[a*|ε|ε|ε|ε] ⊕ a|ε|ε|ε|e⊙[a*|ε|ε|ε|e*] ⊕ a|ε|ε|d|ε⊙[a*|ε|ε|d*|ε] ⊕ a|ε|ε|d|e⊙[a*|ε|ε|d*|e*] ⊕ a|ε|c|ε|ε⊙[a*|ε|c*|ε|ε] ⊕ a|ε|c|ε|e⊙[a*|ε|c*|ε|e*] ⊕ a|ε|c|d|ε⊙[a*|ε|c*|d*|ε] ⊕ a|ε|c|d|e⊙[a*|ε|c*|d*|e*] ⊕ a|b|ε|ε|ε⊙[a*|b*|ε|ε|ε] ⊕ a|b|ε|ε|e⊙[a*|b*|ε|ε|e*] ⊕ a|b|ε|d|ε⊙[a*|b*|ε|d*|ε] ⊕ a|b|ε|d|e⊙[a*|b*|ε|d*|e*] ⊕ a|b|c|ε|ε⊙[a*|b*|c*|ε|ε] ⊕ a|b|c|ε|e⊙[a*|b*|c*|ε|e*] ⊕ a|b|c|d|ε⊙[a*|b*|c*|d*|ε] ⊕ a|b|c|d|e⊙[a*|b*|c*|d*|e*]"
      ]
     },
     "execution_count": 10,
     "metadata": {},
     "output_type": "execute_result"
    }
   ],
   "source": [
    "e5.expansion()"
   ]
  },
  {
   "cell_type": "code",
   "execution_count": 11,
   "metadata": {},
   "outputs": [
    {
     "data": {
      "text/plain": [
       "['a*|b*|c*|d*|e*',\n",
       " 'a*|b*|c*|d*|ε',\n",
       " 'a*|b*|c*|ε|e*',\n",
       " 'a*|b*|c*|ε|ε',\n",
       " 'a*|b*|ε|d*|e*',\n",
       " 'a*|b*|ε|d*|ε',\n",
       " 'a*|b*|ε|ε|e*',\n",
       " 'a*|b*|ε|ε|ε',\n",
       " 'a*|ε|c*|d*|e*',\n",
       " 'a*|ε|c*|d*|ε',\n",
       " 'a*|ε|c*|ε|e*',\n",
       " 'a*|ε|c*|ε|ε',\n",
       " 'a*|ε|ε|d*|e*',\n",
       " 'a*|ε|ε|d*|ε',\n",
       " 'a*|ε|ε|ε|e*',\n",
       " 'a*|ε|ε|ε|ε',\n",
       " 'ε|b*|c*|d*|e*',\n",
       " 'ε|b*|c*|d*|ε',\n",
       " 'ε|b*|c*|ε|e*',\n",
       " 'ε|b*|c*|ε|ε',\n",
       " 'ε|b*|ε|d*|e*',\n",
       " 'ε|b*|ε|d*|ε',\n",
       " 'ε|b*|ε|ε|e*',\n",
       " 'ε|b*|ε|ε|ε',\n",
       " 'ε|ε|c*|d*|e*',\n",
       " 'ε|ε|c*|d*|ε',\n",
       " 'ε|ε|c*|ε|e*',\n",
       " 'ε|ε|c*|ε|ε',\n",
       " 'ε|ε|ε|d*|e*',\n",
       " 'ε|ε|ε|d*|ε',\n",
       " 'ε|ε|ε|ε|e*']"
      ]
     },
     "execution_count": 11,
     "metadata": {},
     "output_type": "execute_result"
    }
   ],
   "source": [
    "a5 = e5.derived_term()\n",
    "states(a5)"
   ]
  },
  {
   "cell_type": "markdown",
   "metadata": {},
   "source": [
    "## Example $\\mathsf{E}_2$: A Sed-like Substitution"
   ]
  },
  {
   "cell_type": "code",
   "execution_count": 12,
   "metadata": {},
   "outputs": [
    {
     "data": {
      "text/latex": [
       "$\\left( \\left. a \\, {a}^{*} \\middle| x \\right.  +  \\left. b \\, {b}^{*} \\middle| y \\right. \\right)^{*}$"
      ],
      "text/plain": [
       "(aa*|x+bb*|y)*"
      ]
     },
     "execution_count": 12,
     "metadata": {},
     "output_type": "execute_result"
    }
   ],
   "source": [
    "e2 = ctx.expression('(a{+}|x + b{+}|y)*')\n",
    "e2"
   ]
  },
  {
   "cell_type": "code",
   "execution_count": 13,
   "metadata": {},
   "outputs": [
    {
     "data": {
      "text/latex": [
       "$\\left\\langle 1\\right\\rangle  \\oplus a|x \\odot \\left[\\left( \\left. {a}^{*} \\middle| \\varepsilon \\right. \\right) \\, \\left( \\left. a \\, {a}^{*} \\middle| x \\right.  +  \\left. b \\, {b}^{*} \\middle| y \\right. \\right)^{*}\\right] \\oplus b|y \\odot \\left[\\left( \\left. {b}^{*} \\middle| \\varepsilon \\right. \\right) \\, \\left( \\left. a \\, {a}^{*} \\middle| x \\right.  +  \\left. b \\, {b}^{*} \\middle| y \\right. \\right)^{*}\\right]$"
      ],
      "text/plain": [
       "⟨1⟩ ⊕ a|x⊙[(a*|ε)(aa*|x+bb*|y)*] ⊕ b|y⊙[(b*|ε)(aa*|x+bb*|y)*]"
      ]
     },
     "execution_count": 13,
     "metadata": {},
     "output_type": "execute_result"
    }
   ],
   "source": [
    "e2.expansion()"
   ]
  },
  {
   "cell_type": "code",
   "execution_count": 14,
   "metadata": {},
   "outputs": [
    {
     "data": {
      "image/svg+xml": [
       "<?xml version=\"1.0\" encoding=\"UTF-8\" standalone=\"no\"?>\n",
       "<!DOCTYPE svg PUBLIC \"-//W3C//DTD SVG 1.1//EN\"\n",
       " \"http://www.w3.org/Graphics/SVG/1.1/DTD/svg11.dtd\">\n",
       "<!-- Generated by graphviz version 2.40.1 (20161225.0304)\n",
       " -->\n",
       "<!-- Title: %3 Pages: 1 -->\n",
       "<svg width=\"433pt\" height=\"123pt\"\n",
       " viewBox=\"0.00 0.00 433.00 122.75\" xmlns=\"http://www.w3.org/2000/svg\" xmlns:xlink=\"http://www.w3.org/1999/xlink\">\n",
       "<g id=\"graph0\" class=\"graph\" transform=\"scale(1 1) rotate(0) translate(4 118.7518)\">\n",
       "<title>%3</title>\n",
       "<polygon fill=\"#ffffff\" stroke=\"transparent\" points=\"-4,4 -4,-118.7518 429,-118.7518 429,4 -4,4\"/>\n",
       "<!-- I0 -->\n",
       "<g id=\"node1\" class=\"node\">\n",
       "<title>I0</title>\n",
       "<ellipse fill=\"#000000\" stroke=\"#000000\" cx=\"0\" cy=\"-48.7548\" rx=\"0\" ry=\"0\"/>\n",
       "</g>\n",
       "<!-- 0 -->\n",
       "<g id=\"node5\" class=\"node\">\n",
       "<title>0</title>\n",
       "<path fill=\"#98f5ff\" stroke=\"#000000\" d=\"M98.3333,-63.2548C98.3333,-63.2548 46.6667,-63.2548 46.6667,-63.2548 41.8333,-63.2548 37,-58.4215 37,-53.5881 37,-53.5881 37,-43.9215 37,-43.9215 37,-39.0881 41.8333,-34.2548 46.6667,-34.2548 46.6667,-34.2548 98.3333,-34.2548 98.3333,-34.2548 103.1667,-34.2548 108,-39.0881 108,-43.9215 108,-43.9215 108,-53.5881 108,-53.5881 108,-58.4215 103.1667,-63.2548 98.3333,-63.2548\"/>\n",
       "<text text-anchor=\"middle\" x=\"72.5\" y=\"-45.6548\" font-family=\"Times,serif\" font-size=\"12.00\" fill=\"#000000\">(aa*|x+bb*|y)*</text>\n",
       "</g>\n",
       "<!-- I0&#45;&gt;0 -->\n",
       "<g id=\"edge1\" class=\"edge\">\n",
       "<title>I0&#45;&gt;0</title>\n",
       "<path fill=\"none\" stroke=\"#000000\" d=\"M.0525,-48.7548C1.014,-48.7548 15.029,-48.7548 30.48,-48.7548\"/>\n",
       "<polygon fill=\"#000000\" stroke=\"#000000\" points=\"36.681,-48.7548 30.681,-51.4549 33.681,-48.7548 30.681,-48.7549 30.681,-48.7549 30.681,-48.7549 33.681,-48.7548 30.681,-46.0549 36.681,-48.7548 36.681,-48.7548\"/>\n",
       "</g>\n",
       "<!-- F0 -->\n",
       "<g id=\"node2\" class=\"node\">\n",
       "<title>F0</title>\n",
       "<ellipse fill=\"#000000\" stroke=\"#000000\" cx=\"202.5\" cy=\"-114.7518\" rx=\"0\" ry=\"0\"/>\n",
       "</g>\n",
       "<!-- F1 -->\n",
       "<g id=\"node3\" class=\"node\">\n",
       "<title>F1</title>\n",
       "<ellipse fill=\"#000000\" stroke=\"#000000\" cx=\"342.5\" cy=\"-90.7548\" rx=\"0\" ry=\"0\"/>\n",
       "</g>\n",
       "<!-- F2 -->\n",
       "<g id=\"node4\" class=\"node\">\n",
       "<title>F2</title>\n",
       "<ellipse fill=\"#000000\" stroke=\"#000000\" cx=\"425\" cy=\"-22.7548\" rx=\"0\" ry=\"0\"/>\n",
       "</g>\n",
       "<!-- 0&#45;&gt;F0 -->\n",
       "<g id=\"edge2\" class=\"edge\">\n",
       "<title>0&#45;&gt;F0</title>\n",
       "<path fill=\"none\" stroke=\"#000000\" d=\"M101.3512,-63.4017C132.8666,-79.4011 181.0058,-103.8399 197.0703,-111.9953\"/>\n",
       "<polygon fill=\"#000000\" stroke=\"#000000\" points=\"202.4543,-114.7286 195.882,-114.42 199.7793,-113.3705 197.1042,-112.0125 197.1042,-112.0125 197.1042,-112.0125 199.7793,-113.3705 198.3265,-109.605 202.4543,-114.7286 202.4543,-114.7286\"/>\n",
       "</g>\n",
       "<!-- 1 -->\n",
       "<g id=\"node6\" class=\"node\">\n",
       "<title>1</title>\n",
       "<path fill=\"#98f5ff\" stroke=\"#000000\" d=\"M238.3333,-63.2548C238.3333,-63.2548 166.6667,-63.2548 166.6667,-63.2548 161.8333,-63.2548 157,-58.4215 157,-53.5881 157,-53.5881 157,-43.9215 157,-43.9215 157,-39.0881 161.8333,-34.2548 166.6667,-34.2548 166.6667,-34.2548 238.3333,-34.2548 238.3333,-34.2548 243.1667,-34.2548 248,-39.0881 248,-43.9215 248,-43.9215 248,-53.5881 248,-53.5881 248,-58.4215 243.1667,-63.2548 238.3333,-63.2548\"/>\n",
       "<text text-anchor=\"middle\" x=\"202.5\" y=\"-45.6548\" font-family=\"Times,serif\" font-size=\"12.00\" fill=\"#000000\">(a*|ε)(aa*|x+bb*|y)*</text>\n",
       "</g>\n",
       "<!-- 0&#45;&gt;1 -->\n",
       "<g id=\"edge3\" class=\"edge\">\n",
       "<title>0&#45;&gt;1</title>\n",
       "<path fill=\"none\" stroke=\"#000000\" d=\"M108.02,-48.7548C121.18,-48.7548 136.38,-48.7548 150.69,-48.7548\"/>\n",
       "<polygon fill=\"#000000\" stroke=\"#000000\" points=\"156.76,-48.7548 150.76,-51.4549 153.76,-48.7548 150.76,-48.7549 150.76,-48.7549 150.76,-48.7549 153.76,-48.7548 150.76,-46.0549 156.76,-48.7548 156.76,-48.7548\"/>\n",
       "<text text-anchor=\"middle\" x=\"132.5\" y=\"-52.5548\" font-family=\"Times,serif\" font-size=\"14.00\" fill=\"#000000\">a|x</text>\n",
       "</g>\n",
       "<!-- 2 -->\n",
       "<g id=\"node7\" class=\"node\">\n",
       "<title>2</title>\n",
       "<path fill=\"#98f5ff\" stroke=\"#000000\" d=\"M378.3333,-37.2548C378.3333,-37.2548 306.6667,-37.2548 306.6667,-37.2548 301.8333,-37.2548 297,-32.4215 297,-27.5881 297,-27.5881 297,-17.9215 297,-17.9215 297,-13.0881 301.8333,-8.2548 306.6667,-8.2548 306.6667,-8.2548 378.3333,-8.2548 378.3333,-8.2548 383.1667,-8.2548 388,-13.0881 388,-17.9215 388,-17.9215 388,-27.5881 388,-27.5881 388,-32.4215 383.1667,-37.2548 378.3333,-37.2548\"/>\n",
       "<text text-anchor=\"middle\" x=\"342.5\" y=\"-19.6548\" font-family=\"Times,serif\" font-size=\"12.00\" fill=\"#000000\">(b*|ε)(aa*|x+bb*|y)*</text>\n",
       "</g>\n",
       "<!-- 0&#45;&gt;2 -->\n",
       "<g id=\"edge4\" class=\"edge\">\n",
       "<title>0&#45;&gt;2</title>\n",
       "<path fill=\"none\" stroke=\"#000000\" d=\"M96.647,-34.1878C113.03,-25.1808 135.54,-14.4688 157,-9.7549 201.41,0 253.11,-4.9148 290.63,-11.3098\"/>\n",
       "<polygon fill=\"#000000\" stroke=\"#000000\" points=\"296.99,-12.4319 290.6121,-14.0483 294.0356,-11.9106 291.0813,-11.3893 291.0813,-11.3893 291.0813,-11.3893 294.0356,-11.9106 291.5504,-8.7304 296.99,-12.4319 296.99,-12.4319\"/>\n",
       "<text text-anchor=\"middle\" x=\"202.5\" y=\"-13.5548\" font-family=\"Times,serif\" font-size=\"14.00\" fill=\"#000000\">b|y</text>\n",
       "</g>\n",
       "<!-- 1&#45;&gt;F1 -->\n",
       "<g id=\"edge5\" class=\"edge\">\n",
       "<title>1&#45;&gt;F1</title>\n",
       "<path fill=\"none\" stroke=\"#000000\" d=\"M248.3412,-62.5072C280.7879,-72.2412 321.1277,-84.3431 336.3252,-88.9024\"/>\n",
       "<polygon fill=\"#000000\" stroke=\"#000000\" points=\"342.3458,-90.7085 335.8229,-91.5705 339.4723,-89.8465 336.5988,-88.9844 336.5988,-88.9844 336.5988,-88.9844 339.4723,-89.8465 337.3747,-86.3982 342.3458,-90.7085 342.3458,-90.7085\"/>\n",
       "</g>\n",
       "<!-- 1&#45;&gt;1 -->\n",
       "<g id=\"edge6\" class=\"edge\">\n",
       "<title>1&#45;&gt;1</title>\n",
       "<path fill=\"none\" stroke=\"#000000\" d=\"M190.3,-63.4618C187.36,-72.5788 191.43,-81.2548 202.5,-81.2548 210.98,-81.2548 215.35,-76.1688 215.61,-69.6928\"/>\n",
       "<polygon fill=\"#000000\" stroke=\"#000000\" points=\"214.7,-63.4618 218.2388,-69.0086 215.1336,-66.4303 215.5671,-69.3988 215.5671,-69.3988 215.5671,-69.3988 215.1336,-66.4303 212.8955,-69.789 214.7,-63.4618 214.7,-63.4618\"/>\n",
       "<text text-anchor=\"middle\" x=\"202.5\" y=\"-85.0548\" font-family=\"Times,serif\" font-size=\"14.00\" fill=\"#000000\">a|ε, a|x</text>\n",
       "</g>\n",
       "<!-- 1&#45;&gt;2 -->\n",
       "<g id=\"edge7\" class=\"edge\">\n",
       "<title>1&#45;&gt;2</title>\n",
       "<path fill=\"none\" stroke=\"#000000\" d=\"M248.35,-43.6488C258.48,-42.2738 269.13,-40.6368 279,-38.7548 282.9,-38.0108 286.92,-37.1718 290.95,-36.2778\"/>\n",
       "<polygon fill=\"#000000\" stroke=\"#000000\" points=\"296.86,-34.9328 291.6088,-38.897 293.9348,-35.5986 291.0096,-36.2643 291.0096,-36.2643 291.0096,-36.2643 293.9348,-35.5986 290.4104,-33.6316 296.86,-34.9328 296.86,-34.9328\"/>\n",
       "<text text-anchor=\"middle\" x=\"272.5\" y=\"-45.5548\" font-family=\"Times,serif\" font-size=\"14.00\" fill=\"#000000\">b|y</text>\n",
       "</g>\n",
       "<!-- 2&#45;&gt;F2 -->\n",
       "<g id=\"edge8\" class=\"edge\">\n",
       "<title>2&#45;&gt;F2</title>\n",
       "<path fill=\"none\" stroke=\"#000000\" d=\"M388.0934,-22.7548C400.2234,-22.7548 411.8468,-22.7548 418.7051,-22.7548\"/>\n",
       "<polygon fill=\"#000000\" stroke=\"#000000\" points=\"424.9483,-22.7548 418.9483,-25.4549 421.9483,-22.7548 418.9483,-22.7549 418.9483,-22.7549 418.9483,-22.7549 421.9483,-22.7548 418.9482,-20.0549 424.9483,-22.7548 424.9483,-22.7548\"/>\n",
       "</g>\n",
       "<!-- 2&#45;&gt;1 -->\n",
       "<g id=\"edge9\" class=\"edge\">\n",
       "<title>2&#45;&gt;1</title>\n",
       "<path fill=\"none\" stroke=\"#000000\" d=\"M296.86,-17.2068C286.62,-16.9998 275.87,-17.6078 266,-19.7548 254.91,-22.1678 243.43,-26.6968 233.34,-31.4698\"/>\n",
       "<polygon fill=\"#000000\" stroke=\"#000000\" points=\"227.89,-34.1358 232.0933,-29.0739 230.5849,-32.8175 233.2797,-31.4992 233.2797,-31.4992 233.2797,-31.4992 230.5849,-32.8175 234.4662,-33.9246 227.89,-34.1358 227.89,-34.1358\"/>\n",
       "<text text-anchor=\"middle\" x=\"272.5\" y=\"-23.5548\" font-family=\"Times,serif\" font-size=\"14.00\" fill=\"#000000\">a|x</text>\n",
       "</g>\n",
       "<!-- 2&#45;&gt;2 -->\n",
       "<g id=\"edge10\" class=\"edge\">\n",
       "<title>2&#45;&gt;2</title>\n",
       "<path fill=\"none\" stroke=\"#000000\" d=\"M331.35,-37.4618C328.66,-46.5788 332.38,-55.2548 342.5,-55.2548 350.25,-55.2548 354.25,-50.1688 354.49,-43.6928\"/>\n",
       "<polygon fill=\"#000000\" stroke=\"#000000\" points=\"353.65,-37.4618 357.1275,-43.0473 354.0508,-40.4349 354.4517,-43.408 354.4517,-43.408 354.4517,-43.408 354.0508,-40.4349 351.7759,-43.7688 353.65,-37.4618 353.65,-37.4618\"/>\n",
       "<text text-anchor=\"middle\" x=\"342.5\" y=\"-59.0548\" font-family=\"Times,serif\" font-size=\"14.00\" fill=\"#000000\">b|ε, b|y</text>\n",
       "</g>\n",
       "</g>\n",
       "</svg>\n"
      ],
      "text/plain": [
       "expression_automaton<mutable_automaton<context<lat<letterset<char_letters>, letterset<char_letters>>, q>>>"
      ]
     },
     "execution_count": 14,
     "metadata": {},
     "output_type": "execute_result"
    }
   ],
   "source": [
    "a2 = e2.derived_term()\n",
    "a2"
   ]
  },
  {
   "cell_type": "markdown",
   "metadata": {},
   "source": [
    "Again, the extracted expression is less readable."
   ]
  },
  {
   "cell_type": "code",
   "execution_count": 15,
   "metadata": {},
   "outputs": [
    {
     "data": {
      "text/latex": [
       "$\\varepsilon + \\left(a|x\\right) \\, \\left(a|\\varepsilon + a|x\\right)^{*} + \\left(b|y + \\left(a|x\\right) \\, \\left(a|\\varepsilon + a|x\\right)^{*} \\, \\left(b|y\\right)\\right) \\, \\left(b|\\varepsilon + b|y + \\left(a|x\\right) \\, \\left(a|\\varepsilon + a|x\\right)^{*} \\, \\left(b|y\\right)\\right)^{*} \\, \\left(\\varepsilon + \\left(a|x\\right) \\, \\left(a|\\varepsilon + a|x\\right)^{*}\\right)$"
      ],
      "text/plain": [
       "ε+(a|x)(a|ε+a|x)*+(b|y+(a|x)(a|ε+a|x)*(b|y))(b|ε+b|y+(a|x)(a|ε+a|x)*(b|y))*(ε+(a|x)(a|ε+a|x)*)"
      ]
     },
     "execution_count": 15,
     "metadata": {},
     "output_type": "execute_result"
    }
   ],
   "source": [
    "a2.expression()"
   ]
  },
  {
   "cell_type": "markdown",
   "metadata": {},
   "source": [
    "## A More Complex Expression\n",
    "The previous examples often look like sed-like substitutions, in the sense that the first tape was often a composite expression, but the second tape a simple label.  There is no such limitation."
   ]
  },
  {
   "cell_type": "code",
   "execution_count": 16,
   "metadata": {},
   "outputs": [
    {
     "data": {
      "text/latex": [
       "$ \\left. \\left( \\left\\langle 2 \\right\\rangle \\,\\left(a + b\\right)\\right)^{*} \\middle| \\left( \\left\\langle 3 \\right\\rangle \\,\\left(x + y\\right)\\right)^{*} \\right. $"
      ],
      "text/plain": [
       "(⟨2⟩(a+b))*|(⟨3⟩(x+y))*"
      ]
     },
     "execution_count": 16,
     "metadata": {},
     "output_type": "execute_result"
    }
   ],
   "source": [
    "e = ctx.expression('(<2>[ab])* | (<3>[xy])*')\n",
    "e"
   ]
  },
  {
   "cell_type": "code",
   "execution_count": 17,
   "metadata": {},
   "outputs": [
    {
     "data": {
      "image/svg+xml": [
       "<?xml version=\"1.0\" encoding=\"UTF-8\" standalone=\"no\"?>\n",
       "<!DOCTYPE svg PUBLIC \"-//W3C//DTD SVG 1.1//EN\"\n",
       " \"http://www.w3.org/Graphics/SVG/1.1/DTD/svg11.dtd\">\n",
       "<!-- Generated by graphviz version 2.40.1 (20161225.0304)\n",
       " -->\n",
       "<!-- Title: %3 Pages: 1 -->\n",
       "<svg width=\"339pt\" height=\"169pt\"\n",
       " viewBox=\"0.00 0.00 339.00 168.50\" xmlns=\"http://www.w3.org/2000/svg\" xmlns:xlink=\"http://www.w3.org/1999/xlink\">\n",
       "<g id=\"graph0\" class=\"graph\" transform=\"scale(1 1) rotate(0) translate(4 164.5)\">\n",
       "<title>%3</title>\n",
       "<polygon fill=\"#ffffff\" stroke=\"transparent\" points=\"-4,4 -4,-164.5 335,-164.5 335,4 -4,4\"/>\n",
       "<!-- I0 -->\n",
       "<g id=\"node1\" class=\"node\">\n",
       "<title>I0</title>\n",
       "<ellipse fill=\"#000000\" stroke=\"#000000\" cx=\"0\" cy=\"-94.5\" rx=\"0\" ry=\"0\"/>\n",
       "</g>\n",
       "<!-- 0 -->\n",
       "<g id=\"node5\" class=\"node\">\n",
       "<title>0</title>\n",
       "<path fill=\"#98f5ff\" stroke=\"#000000\" d=\"M128.3333,-109C128.3333,-109 46.6667,-109 46.6667,-109 41.8333,-109 37,-104.1667 37,-99.3333 37,-99.3333 37,-89.6667 37,-89.6667 37,-84.8333 41.8333,-80 46.6667,-80 46.6667,-80 128.3333,-80 128.3333,-80 133.1667,-80 138,-84.8333 138,-89.6667 138,-89.6667 138,-99.3333 138,-99.3333 138,-104.1667 133.1667,-109 128.3333,-109\"/>\n",
       "<text text-anchor=\"middle\" x=\"87.5\" y=\"-91.4\" font-family=\"Times,serif\" font-size=\"12.00\" fill=\"#000000\">(⟨2⟩(a+b))*|(⟨3⟩(x+y))*</text>\n",
       "</g>\n",
       "<!-- I0&#45;&gt;0 -->\n",
       "<g id=\"edge1\" class=\"edge\">\n",
       "<title>I0&#45;&gt;0</title>\n",
       "<path fill=\"none\" stroke=\"#000000\" d=\"M.0634,-94.5C1.1004,-94.5 14.72,-94.5 30.913,-94.5\"/>\n",
       "<polygon fill=\"#000000\" stroke=\"#000000\" points=\"36.977,-94.5 30.977,-97.2001 33.977,-94.5 30.977,-94.5001 30.977,-94.5001 30.977,-94.5001 33.977,-94.5 30.977,-91.8001 36.977,-94.5 36.977,-94.5\"/>\n",
       "</g>\n",
       "<!-- F0 -->\n",
       "<g id=\"node2\" class=\"node\">\n",
       "<title>F0</title>\n",
       "<ellipse fill=\"#000000\" stroke=\"#000000\" cx=\"262\" cy=\"-160.5\" rx=\"0\" ry=\"0\"/>\n",
       "</g>\n",
       "<!-- F1 -->\n",
       "<g id=\"node3\" class=\"node\">\n",
       "<title>F1</title>\n",
       "<ellipse fill=\"#000000\" stroke=\"#000000\" cx=\"331\" cy=\"-94.5\" rx=\"0\" ry=\"0\"/>\n",
       "</g>\n",
       "<!-- F2 -->\n",
       "<g id=\"node4\" class=\"node\">\n",
       "<title>F2</title>\n",
       "<ellipse fill=\"#000000\" stroke=\"#000000\" cx=\"331\" cy=\"-14.5\" rx=\"0\" ry=\"0\"/>\n",
       "</g>\n",
       "<!-- 0&#45;&gt;F0 -->\n",
       "<g id=\"edge2\" class=\"edge\">\n",
       "<title>0&#45;&gt;F0</title>\n",
       "<path fill=\"none\" stroke=\"#000000\" d=\"M126.2272,-109.1475C169.5189,-125.5215 236.1799,-150.7342 256.1518,-158.2881\"/>\n",
       "<polygon fill=\"#000000\" stroke=\"#000000\" points=\"261.9387,-160.4768 255.3715,-160.8795 259.1327,-159.4155 256.3266,-158.3541 256.3266,-158.3541 256.3266,-158.3541 259.1327,-159.4155 257.2818,-155.8287 261.9387,-160.4768 261.9387,-160.4768\"/>\n",
       "</g>\n",
       "<!-- 0&#45;&gt;0 -->\n",
       "<g id=\"edge3\" class=\"edge\">\n",
       "<title>0&#45;&gt;0</title>\n",
       "<path fill=\"none\" stroke=\"#000000\" d=\"M75.65,-109.21C72.792,-118.32 76.742,-127 87.5,-127 95.736,-127 99.982,-121.91 100.24,-115.44\"/>\n",
       "<polygon fill=\"#000000\" stroke=\"#000000\" points=\"99.35,-109.21 102.8715,-114.7678 99.7743,-112.1798 100.1986,-115.1497 100.1986,-115.1497 100.1986,-115.1497 99.7743,-112.1798 97.5257,-115.5316 99.35,-109.21 99.35,-109.21\"/>\n",
       "<text text-anchor=\"middle\" x=\"87.5\" y=\"-130.8\" font-family=\"Times,serif\" font-size=\"14.00\" fill=\"#000000\">⟨6⟩[a|xa|yb|xb|y]</text>\n",
       "</g>\n",
       "<!-- 1 -->\n",
       "<g id=\"node6\" class=\"node\">\n",
       "<title>1</title>\n",
       "<path fill=\"#98f5ff\" stroke=\"#000000\" d=\"M284.3333,-109C284.3333,-109 239.6667,-109 239.6667,-109 234.8333,-109 230,-104.1667 230,-99.3333 230,-99.3333 230,-89.6667 230,-89.6667 230,-84.8333 234.8333,-80 239.6667,-80 239.6667,-80 284.3333,-80 284.3333,-80 289.1667,-80 294,-84.8333 294,-89.6667 294,-89.6667 294,-99.3333 294,-99.3333 294,-104.1667 289.1667,-109 284.3333,-109\"/>\n",
       "<text text-anchor=\"middle\" x=\"262\" y=\"-91.4\" font-family=\"Times,serif\" font-size=\"12.00\" fill=\"#000000\">ε|(⟨3⟩(x+y))*</text>\n",
       "</g>\n",
       "<!-- 0&#45;&gt;1 -->\n",
       "<g id=\"edge4\" class=\"edge\">\n",
       "<title>0&#45;&gt;1</title>\n",
       "<path fill=\"none\" stroke=\"#000000\" d=\"M138.44,-94.5C165.71,-94.5 198.73,-94.5 223.77,-94.5\"/>\n",
       "<polygon fill=\"#000000\" stroke=\"#000000\" points=\"229.96,-94.5 223.96,-97.2001 226.96,-94.5 223.96,-94.5001 223.96,-94.5001 223.96,-94.5001 226.96,-94.5 223.96,-91.8001 229.96,-94.5 229.96,-94.5\"/>\n",
       "<text text-anchor=\"middle\" x=\"184\" y=\"-98.3\" font-family=\"Times,serif\" font-size=\"14.00\" fill=\"#000000\">⟨3⟩ε|x, ⟨3⟩ε|y</text>\n",
       "</g>\n",
       "<!-- 2 -->\n",
       "<g id=\"node7\" class=\"node\">\n",
       "<title>2</title>\n",
       "<path fill=\"#98f5ff\" stroke=\"#000000\" d=\"M283.8333,-29C283.8333,-29 240.1667,-29 240.1667,-29 235.3333,-29 230.5,-24.1667 230.5,-19.3333 230.5,-19.3333 230.5,-9.6667 230.5,-9.6667 230.5,-4.8333 235.3333,0 240.1667,0 240.1667,0 283.8333,0 283.8333,0 288.6667,0 293.5,-4.8333 293.5,-9.6667 293.5,-9.6667 293.5,-19.3333 293.5,-19.3333 293.5,-24.1667 288.6667,-29 283.8333,-29\"/>\n",
       "<text text-anchor=\"middle\" x=\"262\" y=\"-11.4\" font-family=\"Times,serif\" font-size=\"12.00\" fill=\"#000000\">(⟨2⟩(a+b))*|ε</text>\n",
       "</g>\n",
       "<!-- 0&#45;&gt;2 -->\n",
       "<g id=\"edge5\" class=\"edge\">\n",
       "<title>0&#45;&gt;2</title>\n",
       "<path fill=\"none\" stroke=\"#000000\" d=\"M119.51,-79.827C149.24,-66.196 193.51,-45.898 224.81,-31.552\"/>\n",
       "<polygon fill=\"#000000\" stroke=\"#000000\" points=\"230.49,-28.945 226.1632,-33.9018 227.7635,-30.1964 225.0369,-31.4479 225.0369,-31.4479 225.0369,-31.4479 227.7635,-30.1964 223.9106,-28.994 230.49,-28.945 230.49,-28.945\"/>\n",
       "<text text-anchor=\"middle\" x=\"184\" y=\"-65.3\" font-family=\"Times,serif\" font-size=\"14.00\" fill=\"#000000\">⟨2⟩a|ε, ⟨2⟩b|ε</text>\n",
       "</g>\n",
       "<!-- 1&#45;&gt;F1 -->\n",
       "<g id=\"edge6\" class=\"edge\">\n",
       "<title>1&#45;&gt;F1</title>\n",
       "<path fill=\"none\" stroke=\"#000000\" d=\"M294.076,-94.5C305.8041,-94.5 317.9077,-94.5 324.9294,-94.5\"/>\n",
       "<polygon fill=\"#000000\" stroke=\"#000000\" points=\"330.9452,-94.5 324.9453,-97.2001 327.9452,-94.5 324.9452,-94.5001 324.9452,-94.5001 324.9452,-94.5001 327.9452,-94.5 324.9452,-91.8001 330.9452,-94.5 330.9452,-94.5\"/>\n",
       "</g>\n",
       "<!-- 1&#45;&gt;1 -->\n",
       "<g id=\"edge7\" class=\"edge\">\n",
       "<title>1&#45;&gt;1</title>\n",
       "<path fill=\"none\" stroke=\"#000000\" d=\"M253.29,-109.21C251.19,-118.32 254.09,-127 262,-127 268.06,-127 271.18,-121.91 271.37,-115.44\"/>\n",
       "<polygon fill=\"#000000\" stroke=\"#000000\" points=\"270.71,-109.21 274.0272,-114.8921 271.0261,-112.1933 271.3422,-115.1766 271.3422,-115.1766 271.3422,-115.1766 271.0261,-112.1933 268.6572,-115.4611 270.71,-109.21 270.71,-109.21\"/>\n",
       "<text text-anchor=\"middle\" x=\"262\" y=\"-130.8\" font-family=\"Times,serif\" font-size=\"14.00\" fill=\"#000000\">⟨3⟩ε|x, ⟨3⟩ε|y</text>\n",
       "</g>\n",
       "<!-- 2&#45;&gt;F2 -->\n",
       "<g id=\"edge8\" class=\"edge\">\n",
       "<title>2&#45;&gt;F2</title>\n",
       "<path fill=\"none\" stroke=\"#000000\" d=\"M293.6727,-14.5C305.479,-14.5 317.7298,-14.5 324.8448,-14.5\"/>\n",
       "<polygon fill=\"#000000\" stroke=\"#000000\" points=\"330.9444,-14.5 324.9444,-17.2001 327.9444,-14.5 324.9444,-14.5001 324.9444,-14.5001 324.9444,-14.5001 327.9444,-14.5 324.9444,-11.8001 330.9444,-14.5 330.9444,-14.5\"/>\n",
       "</g>\n",
       "<!-- 2&#45;&gt;2 -->\n",
       "<g id=\"edge9\" class=\"edge\">\n",
       "<title>2&#45;&gt;2</title>\n",
       "<path fill=\"none\" stroke=\"#000000\" d=\"M253.29,-29.206C251.19,-38.324 254.09,-47 262,-47 268.06,-47 271.18,-41.914 271.37,-35.438\"/>\n",
       "<polygon fill=\"#000000\" stroke=\"#000000\" points=\"270.71,-29.206 274.027,-34.8882 271.026,-32.1893 271.342,-35.1726 271.342,-35.1726 271.342,-35.1726 271.026,-32.1893 268.657,-35.457 270.71,-29.206 270.71,-29.206\"/>\n",
       "<text text-anchor=\"middle\" x=\"262\" y=\"-50.8\" font-family=\"Times,serif\" font-size=\"14.00\" fill=\"#000000\">⟨2⟩a|ε, ⟨2⟩b|ε</text>\n",
       "</g>\n",
       "</g>\n",
       "</svg>\n"
      ],
      "text/plain": [
       "expression_automaton<mutable_automaton<context<lat<letterset<char_letters>, letterset<char_letters>>, q>>>"
      ]
     },
     "execution_count": 17,
     "metadata": {},
     "output_type": "execute_result"
    }
   ],
   "source": [
    "a = e.derived_term()\n",
    "a"
   ]
  },
  {
   "cell_type": "code",
   "execution_count": 18,
   "metadata": {},
   "outputs": [
    {
     "name": "stdout",
     "output_type": "stream",
     "text": [
      "\\e|\\e\n",
      "<3>\\e|x\n",
      "<3>\\e|y\n",
      "<2>a|\\e\n",
      "<6>a|x\n",
      "<6>a|y\n",
      "<2>b|\\e\n",
      "<6>b|x\n",
      "<6>b|y\n",
      "<9>\\e|xx\n",
      "<9>\\e|xy\n",
      "<9>\\e|yx\n",
      "<9>\\e|yy\n",
      "<18>a|xx\n",
      "<18>a|xy\n",
      "<18>a|yx\n",
      "<18>a|yy\n",
      "<18>b|xx\n",
      "<18>b|xy\n",
      "<18>b|yx\n"
     ]
    }
   ],
   "source": [
    "print('{:l}'.format(a.shortest(20)))"
   ]
  }
 ],
 "metadata": {
  "kernelspec": {
   "display_name": "Python 3",
   "language": "python",
   "name": "python3"
  },
  "language_info": {
   "codemirror_mode": {
    "name": "ipython",
    "version": 3
   },
   "file_extension": ".py",
   "mimetype": "text/x-python",
   "name": "python",
   "nbconvert_exporter": "python",
   "pygments_lexer": "ipython3",
   "version": "3.6.5"
  }
 },
 "nbformat": 4,
 "nbformat_minor": 1
}
