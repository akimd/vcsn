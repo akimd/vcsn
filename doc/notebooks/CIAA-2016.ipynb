{
 "cells": [
  {
   "cell_type": "markdown",
   "metadata": {},
   "source": [
    "# Multitape Rational Expressions\n",
    "This page is a complement to the paper [Derived-Term Automata of Multitape Rational Expressions](https://www.lrde.epita.fr/wiki/Publications/demaille.16.ciaa) presented at CIAA 2016.  This page exists in several forms:\n",
    "- [A Dynamic Notebook](http://vcsn-sandbox.lrde.epita.fr/notebooks/Doc/CIAA-2016.ipynb), which can be edited, played with\n",
    "- [A static HTML page](http://www.lrde.epita.fr/dload/vcsn/latest/notebooks/CIAA-2016.html), whose graphical rendering is always correct.\n",
    "\n",
    "More information is available here:\n",
    "- [Documentation for _expression_.expansion](http://vcsn-sandbox.lrde.epita.fr/notebooks/Doc/expression.expansion.ipynb)\n",
    "- [Documentation for _expression_.derived_term](http://vcsn-sandbox.lrde.epita.fr/notebooks/Doc/expression.derived_term.ipynb)\n",
    "- [Documentation of Vcsn](http://vcsn-sandbox.lrde.epita.fr/notebooks/Doc/!Read-me-first.ipynb)\n",
    "- [Vcsn's web page](http://vcsn.lrde.epita.fr)\n",
    "\n",
    "You may change the cells, and run then.  To run a cell in a notebook, hit \"Control-Enter\" (in which case the focus stays on the same cell) or \"Shift-Enter\" (focus goes to the next cell).  Beware that depending on the requested operations, Vcsn may generate and compile code, which may be a really slow process on small machines (about a minute): be patient!  However, the code is compiled only once: successive uses will be way faster.\n",
    "\n",
    "To run all the cells anew, select \"Restart & Run All\" in the \"Kernel\" menu above."
   ]
  },
  {
   "cell_type": "code",
   "execution_count": 1,
   "metadata": {},
   "outputs": [],
   "source": [
    "import vcsn"
   ]
  },
  {
   "cell_type": "markdown",
   "metadata": {},
   "source": [
    "# Example $\\mathsf{E}_1$: A Simple Multitape Expression\n",
    "First we introduce the \"context\" we are interested in: labels are letter-or-empty-word, two tapes, values are rational numbers."
   ]
  },
  {
   "cell_type": "code",
   "execution_count": 2,
   "metadata": {},
   "outputs": [
    {
     "data": {
      "text/latex": [
       "$(\\{a, b, c, d, e\\})^? \\times (\\{x, y\\})^?\\to\\mathbb{Q}$"
      ],
      "text/plain": [
       "{abcde}? x {xy}? -> Q"
      ]
     },
     "execution_count": 2,
     "metadata": {},
     "output_type": "execute_result"
    }
   ],
   "source": [
    "ctx = vcsn.context('lat<lan(abcde), lan(xy)>, q')\n",
    "ctx"
   ]
  },
  {
   "cell_type": "markdown",
   "metadata": {},
   "source": [
    "The expression $\\mathsf{E}_1$ is:"
   ]
  },
  {
   "cell_type": "code",
   "execution_count": 3,
   "metadata": {},
   "outputs": [
    {
     "data": {
      "text/latex": [
       "$ \\left.  \\left\\langle 5 \\right\\rangle \\,\\varepsilon \\middle| \\varepsilon \\right.  +  \\left.  \\left\\langle 4 \\right\\rangle \\,\\left(a \\, d \\, {e}^{*}\\right) \\middle| x \\right.  +  \\left.  \\left\\langle 3 \\right\\rangle \\,\\left(b \\, d \\, {e}^{*}\\right) \\middle| x \\right.  +  \\left.  \\left\\langle 2 \\right\\rangle \\,\\left(a \\, c \\, {e}^{*}\\right) \\middle| x \\, y \\right.  +  \\left.  \\left\\langle 6 \\right\\rangle \\,\\left(b \\, c \\, {e}^{*}\\right) \\middle| x \\, y \\right. $"
      ],
      "text/plain": [
       "<5>\\e|\\e+<4>(ade*)|x+<3>(bde*)|x+<2>(ace*)|xy+<6>(bce*)|xy"
      ]
     },
     "execution_count": 3,
     "metadata": {},
     "output_type": "execute_result"
    }
   ],
   "source": [
    "e1 = ctx.expression('⟨5⟩ε|ε + ⟨4⟩ade*|x + ⟨3⟩bde*|x + ⟨2⟩ace*|xy + ⟨6⟩bce*|xy')\n",
    "e1"
   ]
  },
  {
   "cell_type": "markdown",
   "metadata": {},
   "source": [
    "Its expansion is (contrary to the paper, the empty expression is denoted $\\varepsilon$ instead of $\\mathsf{1}$):"
   ]
  },
  {
   "cell_type": "code",
   "execution_count": 4,
   "metadata": {},
   "outputs": [
    {
     "data": {
      "text/latex": [
       "$\\left\\langle 5\\right\\rangle  \\oplus a|x \\odot \\left[\\left\\langle 2\\right\\rangle  \\left. c \\, {e}^{*} \\middle| y \\right.  \\oplus \\left\\langle 4\\right\\rangle  \\left. d \\, {e}^{*} \\middle| \\varepsilon \\right. \\right] \\oplus b|x \\odot \\left[\\left\\langle 6\\right\\rangle  \\left. c \\, {e}^{*} \\middle| y \\right.  \\oplus \\left\\langle 3\\right\\rangle  \\left. d \\, {e}^{*} \\middle| \\varepsilon \\right. \\right]$"
      ],
      "text/plain": [
       "<5> + a|x.[<2>ce*|y + <4>de*|\\e] + b|x.[<6>ce*|y + <3>de*|\\e]"
      ]
     },
     "execution_count": 4,
     "metadata": {},
     "output_type": "execute_result"
    }
   ],
   "source": [
    "e1.expansion()"
   ]
  },
  {
   "cell_type": "markdown",
   "metadata": {},
   "source": [
    "The derived-term automaton of $\\mathsf{E}_1$, $\\mathcal{A}_{\\mathsf{E}_1}$, is:"
   ]
  },
  {
   "cell_type": "code",
   "execution_count": 5,
   "metadata": {},
   "outputs": [
    {
     "data": {
      "image/svg+xml": [
       "<?xml version=\"1.0\" encoding=\"UTF-8\" standalone=\"no\"?>\n",
       "<!DOCTYPE svg PUBLIC \"-//W3C//DTD SVG 1.1//EN\"\n",
       " \"http://www.w3.org/Graphics/SVG/1.1/DTD/svg11.dtd\">\n",
       "<!-- Generated by graphviz version 2.38.0 (20140413.2041)\n",
       " -->\n",
       "<!-- Title: %3 Pages: 1 -->\n",
       "<svg width=\"623pt\" height=\"107pt\"\n",
       " viewBox=\"0.00 0.00 623.00 107.36\" xmlns=\"http://www.w3.org/2000/svg\" xmlns:xlink=\"http://www.w3.org/1999/xlink\">\n",
       "<g id=\"graph0\" class=\"graph\" transform=\"scale(1 1) rotate(0) translate(4 103.358)\">\n",
       "<title>%3</title>\n",
       "<polygon fill=\"white\" stroke=\"none\" points=\"-4,4 -4,-103.358 619,-103.358 619,4 -4,4\"/>\n",
       "<!-- I0 -->\n",
       "<g id=\"node1\" class=\"node\"><title>I0</title>\n",
       "<ellipse fill=\"black\" stroke=\"black\" cx=\"0\" cy=\"-58.5\" rx=\"0\" ry=\"0\"/>\n",
       "</g>\n",
       "<!-- 0 -->\n",
       "<g id=\"node4\" class=\"node\"><title>0</title>\n",
       "<path fill=\"#98f5ff\" stroke=\"black\" d=\"M326.333,-73C326.333,-73 46.6667,-73 46.6667,-73 41.8333,-73 37,-68.1667 37,-63.3333 37,-63.3333 37,-53.6667 37,-53.6667 37,-48.8333 41.8333,-44 46.6667,-44 46.6667,-44 326.333,-44 326.333,-44 331.167,-44 336,-48.8333 336,-53.6667 336,-53.6667 336,-63.3333 336,-63.3333 336,-68.1667 331.167,-73 326.333,-73\"/>\n",
       "<text text-anchor=\"middle\" x=\"186.5\" y=\"-55.4\" font-family=\"Times,serif\" font-size=\"12.00\">⟨5⟩ε|ε+⟨4⟩(ade*)|x+⟨3⟩(bde*)|x+⟨2⟩(ace*)|xy+⟨6⟩(bce*)|xy</text>\n",
       "</g>\n",
       "<!-- I0&#45;&gt;0 -->\n",
       "<g id=\"edge1\" class=\"edge\"><title>I0&#45;&gt;0</title>\n",
       "<path fill=\"none\" stroke=\"black\" d=\"M1.1337,-58.5C2.4846,-58.5 13.961,-58.5 30.587,-58.5\"/>\n",
       "<polygon fill=\"black\" stroke=\"black\" points=\"36.936,-58.5 30.936,-61.2001 33.936,-58.5 30.936,-58.5001 30.936,-58.5001 30.936,-58.5001 33.936,-58.5 30.936,-55.8001 36.936,-58.5 36.936,-58.5\"/>\n",
       "</g>\n",
       "<!-- F0 -->\n",
       "<g id=\"node2\" class=\"node\"><title>F0</title>\n",
       "<ellipse fill=\"black\" stroke=\"black\" cx=\"468\" cy=\"-96.5\" rx=\"0\" ry=\"0\"/>\n",
       "</g>\n",
       "<!-- F3 -->\n",
       "<g id=\"node3\" class=\"node\"><title>F3</title>\n",
       "<ellipse fill=\"black\" stroke=\"black\" cx=\"615\" cy=\"-38.5\" rx=\"0\" ry=\"0\"/>\n",
       "</g>\n",
       "<!-- 0&#45;&gt;F0 -->\n",
       "<g id=\"edge2\" class=\"edge\"><title>0&#45;&gt;F0</title>\n",
       "<path fill=\"none\" stroke=\"black\" d=\"M294.128,-73.0288C361.66,-82.145 439.977,-92.7171 461.981,-95.6874\"/>\n",
       "<polygon fill=\"black\" stroke=\"black\" points=\"467.931,-96.4907 461.624,-98.3637 464.958,-96.0893 461.985,-95.688 461.985,-95.688 461.985,-95.688 464.958,-96.0893 462.346,-93.0122 467.931,-96.4907 467.931,-96.4907\"/>\n",
       "<text text-anchor=\"middle\" x=\"369.054\" y=\"-88.1581\" font-family=\"Times,serif\" font-size=\"14.00\">⟨5⟩</text>\n",
       "</g>\n",
       "<!-- 1 -->\n",
       "<g id=\"node5\" class=\"node\"><title>1</title>\n",
       "<path fill=\"#98f5ff\" stroke=\"black\" d=\"M479.333,-76C479.333,-76 456.667,-76 456.667,-76 451.833,-76 447,-71.1667 447,-66.3333 447,-66.3333 447,-56.6667 447,-56.6667 447,-51.8333 451.833,-47 456.667,-47 456.667,-47 479.333,-47 479.333,-47 484.167,-47 489,-51.8333 489,-56.6667 489,-56.6667 489,-66.3333 489,-66.3333 489,-71.1667 484.167,-76 479.333,-76\"/>\n",
       "<text text-anchor=\"middle\" x=\"468\" y=\"-58.4\" font-family=\"Times,serif\" font-size=\"12.00\">ce*|y</text>\n",
       "</g>\n",
       "<!-- 0&#45;&gt;1 -->\n",
       "<g id=\"edge3\" class=\"edge\"><title>0&#45;&gt;1</title>\n",
       "<path fill=\"none\" stroke=\"black\" d=\"M336.31,-57.985C366.97,-58.197 399.03,-58.65 429,-59.5 432.81,-59.608 436.84,-59.769 440.79,-59.954\"/>\n",
       "<polygon fill=\"black\" stroke=\"black\" points=\"446.89,-60.26 440.762,-62.6559 443.894,-60.1097 440.898,-59.9593 440.898,-59.9593 440.898,-59.9593 443.894,-60.1097 441.033,-57.2627 446.89,-60.26 446.89,-60.26\"/>\n",
       "<text text-anchor=\"middle\" x=\"391.5\" y=\"-63.3\" font-family=\"Times,serif\" font-size=\"14.00\">⟨2⟩a|x, ⟨6⟩b|x</text>\n",
       "</g>\n",
       "<!-- 2 -->\n",
       "<g id=\"node6\" class=\"node\"><title>2</title>\n",
       "<path fill=\"#98f5ff\" stroke=\"black\" d=\"M479.333,-29C479.333,-29 456.667,-29 456.667,-29 451.833,-29 447,-24.1667 447,-19.3333 447,-19.3333 447,-9.66667 447,-9.66667 447,-4.83333 451.833,-0 456.667,-0 456.667,-0 479.333,-0 479.333,-0 484.167,-0 489,-4.83333 489,-9.66667 489,-9.66667 489,-19.3333 489,-19.3333 489,-24.1667 484.167,-29 479.333,-29\"/>\n",
       "<text text-anchor=\"middle\" x=\"468\" y=\"-11.4\" font-family=\"Times,serif\" font-size=\"12.00\">de*|ε</text>\n",
       "</g>\n",
       "<!-- 0&#45;&gt;2 -->\n",
       "<g id=\"edge4\" class=\"edge\"><title>0&#45;&gt;2</title>\n",
       "<path fill=\"none\" stroke=\"black\" d=\"M279.79,-43.971C336.16,-35.097 404.22,-24.384 440.75,-18.632\"/>\n",
       "<polygon fill=\"black\" stroke=\"black\" points=\"446.77,-17.685 441.262,-21.2847 443.806,-18.1512 440.843,-18.6175 440.843,-18.6175 440.843,-18.6175 443.806,-18.1512 440.423,-15.9503 446.77,-17.685 446.77,-17.685\"/>\n",
       "<text text-anchor=\"middle\" x=\"391.5\" y=\"-35.3\" font-family=\"Times,serif\" font-size=\"14.00\">⟨4⟩a|x, ⟨3⟩b|x</text>\n",
       "</g>\n",
       "<!-- 3 -->\n",
       "<g id=\"node7\" class=\"node\"><title>3</title>\n",
       "<path fill=\"#98f5ff\" stroke=\"black\" d=\"M568.333,-53C568.333,-53 551.667,-53 551.667,-53 546.833,-53 542,-48.1667 542,-43.3333 542,-43.3333 542,-33.6667 542,-33.6667 542,-28.8333 546.833,-24 551.667,-24 551.667,-24 568.333,-24 568.333,-24 573.167,-24 578,-28.8333 578,-33.6667 578,-33.6667 578,-43.3333 578,-43.3333 578,-48.1667 573.167,-53 568.333,-53\"/>\n",
       "<text text-anchor=\"middle\" x=\"560\" y=\"-35.4\" font-family=\"Times,serif\" font-size=\"12.00\">e*|ε</text>\n",
       "</g>\n",
       "<!-- 1&#45;&gt;3 -->\n",
       "<g id=\"edge5\" class=\"edge\"><title>1&#45;&gt;3</title>\n",
       "<path fill=\"none\" stroke=\"black\" d=\"M489.42,-56.281C503.31,-52.732 521.7,-48.032 536.09,-44.356\"/>\n",
       "<polygon fill=\"black\" stroke=\"black\" points=\"541.98,-42.849 536.837,-46.9521 539.074,-43.5927 536.167,-44.3363 536.167,-44.3363 536.167,-44.3363 539.074,-43.5927 535.498,-41.7206 541.98,-42.849 541.98,-42.849\"/>\n",
       "<text text-anchor=\"middle\" x=\"515.5\" y=\"-55.3\" font-family=\"Times,serif\" font-size=\"14.00\">c|y</text>\n",
       "</g>\n",
       "<!-- 2&#45;&gt;3 -->\n",
       "<g id=\"edge6\" class=\"edge\"><title>2&#45;&gt;3</title>\n",
       "<path fill=\"none\" stroke=\"black\" d=\"M489.42,-19.946C503.31,-23.649 521.7,-28.553 536.09,-32.389\"/>\n",
       "<polygon fill=\"black\" stroke=\"black\" points=\"541.98,-33.962 535.486,-35.0224 539.082,-33.1879 536.183,-32.4138 536.183,-32.4138 536.183,-32.4138 539.082,-33.1879 536.88,-29.8052 541.98,-33.962 541.98,-33.962\"/>\n",
       "<text text-anchor=\"middle\" x=\"515.5\" y=\"-33.3\" font-family=\"Times,serif\" font-size=\"14.00\">d|ε</text>\n",
       "</g>\n",
       "<!-- 3&#45;&gt;F3 -->\n",
       "<g id=\"edge7\" class=\"edge\"><title>3&#45;&gt;F3</title>\n",
       "<path fill=\"none\" stroke=\"black\" d=\"M578.009,-38.5C588.571,-38.5 601.261,-38.5 608.698,-38.5\"/>\n",
       "<polygon fill=\"black\" stroke=\"black\" points=\"614.939,-38.5 608.939,-41.2001 611.939,-38.5 608.939,-38.5001 608.939,-38.5001 608.939,-38.5001 611.939,-38.5 608.939,-35.8001 614.939,-38.5 614.939,-38.5\"/>\n",
       "</g>\n",
       "<!-- 3&#45;&gt;3 -->\n",
       "<g id=\"edge8\" class=\"edge\"><title>3&#45;&gt;3</title>\n",
       "<path fill=\"none\" stroke=\"black\" d=\"M553.73,-53.206C552.21,-62.324 554.3,-71 560,-71 564.36,-71 566.61,-65.914 566.74,-59.438\"/>\n",
       "<polygon fill=\"black\" stroke=\"black\" points=\"566.27,-53.206 569.414,-58.9859 566.496,-56.1975 566.721,-59.189 566.721,-59.189 566.721,-59.189 566.496,-56.1975 564.029,-59.3921 566.27,-53.206 566.27,-53.206\"/>\n",
       "<text text-anchor=\"middle\" x=\"560\" y=\"-74.8\" font-family=\"Times,serif\" font-size=\"14.00\">e|ε</text>\n",
       "</g>\n",
       "</g>\n",
       "</svg>\n"
      ],
      "text/plain": [
       "expression_automaton<mutable_automaton<context<lat<nullableset<letterset<char_letters>>, nullableset<letterset<char_letters>>>, q>>>"
      ]
     },
     "execution_count": 5,
     "metadata": {},
     "output_type": "execute_result"
    }
   ],
   "source": [
    "a1 = e1.derived_term()\n",
    "a1"
   ]
  },
  {
   "cell_type": "markdown",
   "metadata": {},
   "source": [
    "The 10 shortest \"multitape words\" it accepts are:"
   ]
  },
  {
   "cell_type": "code",
   "execution_count": 6,
   "metadata": {},
   "outputs": [
    {
     "data": {
      "text/latex": [
       "$\\left\\langle 5\\right\\rangle \\varepsilon|\\varepsilon \\oplus \\left\\langle 2\\right\\rangle \\mathit{ac}|\\mathit{xy} \\oplus \\left\\langle 4\\right\\rangle \\mathit{ad}|\\mathit{x} \\oplus \\left\\langle 6\\right\\rangle \\mathit{bc}|\\mathit{xy} \\oplus \\left\\langle 3\\right\\rangle \\mathit{bd}|\\mathit{x} \\oplus \\left\\langle 2\\right\\rangle \\mathit{ace}|\\mathit{xy} \\oplus \\left\\langle 4\\right\\rangle \\mathit{ade}|\\mathit{x} \\oplus \\left\\langle 6\\right\\rangle \\mathit{bce}|\\mathit{xy} \\oplus \\left\\langle 3\\right\\rangle \\mathit{bde}|\\mathit{x} \\oplus \\left\\langle 2\\right\\rangle \\mathit{acee}|\\mathit{xy}$"
      ],
      "text/plain": [
       "<5>\\e|\\e + <2>ac|xy + <4>ad|x + <6>bc|xy + <3>bd|x + <2>ace|xy + <4>ade|x + <6>bce|xy + <3>bde|x + <2>acee|xy"
      ]
     },
     "execution_count": 6,
     "metadata": {},
     "output_type": "execute_result"
    }
   ],
   "source": [
    "a1.shortest(10)"
   ]
  },
  {
   "cell_type": "markdown",
   "metadata": {},
   "source": [
    "# Example $\\mathcal{A}_3$: An Exponential Number of States\n",
    "We introduce a three-tape context.  The graphical rendering is less satisfying."
   ]
  },
  {
   "cell_type": "code",
   "execution_count": 7,
   "metadata": {},
   "outputs": [
    {
     "data": {
      "image/svg+xml": [
       "<?xml version=\"1.0\" encoding=\"UTF-8\" standalone=\"no\"?>\n",
       "<!DOCTYPE svg PUBLIC \"-//W3C//DTD SVG 1.1//EN\"\n",
       " \"http://www.w3.org/Graphics/SVG/1.1/DTD/svg11.dtd\">\n",
       "<!-- Generated by graphviz version 2.38.0 (20140413.2041)\n",
       " -->\n",
       "<!-- Title: %3 Pages: 1 -->\n",
       "<svg width=\"356pt\" height=\"424pt\"\n",
       " viewBox=\"0.00 0.00 356.00 423.50\" xmlns=\"http://www.w3.org/2000/svg\" xmlns:xlink=\"http://www.w3.org/1999/xlink\">\n",
       "<g id=\"graph0\" class=\"graph\" transform=\"scale(1 1) rotate(0) translate(4 419.5)\">\n",
       "<title>%3</title>\n",
       "<polygon fill=\"white\" stroke=\"none\" points=\"-4,4 -4,-419.5 352,-419.5 352,4 -4,4\"/>\n",
       "<!-- I0 -->\n",
       "<g id=\"node1\" class=\"node\"><title>I0</title>\n",
       "<ellipse fill=\"black\" stroke=\"black\" cx=\"0\" cy=\"-218.5\" rx=\"0\" ry=\"0\"/>\n",
       "</g>\n",
       "<!-- 0 -->\n",
       "<g id=\"node9\" class=\"node\"><title>0</title>\n",
       "<path fill=\"#98f5ff\" stroke=\"black\" d=\"M83.3333,-233C83.3333,-233 46.6667,-233 46.6667,-233 41.8333,-233 37,-228.167 37,-223.333 37,-223.333 37,-213.667 37,-213.667 37,-208.833 41.8333,-204 46.6667,-204 46.6667,-204 83.3333,-204 83.3333,-204 88.1667,-204 93,-208.833 93,-213.667 93,-213.667 93,-223.333 93,-223.333 93,-228.167 88.1667,-233 83.3333,-233\"/>\n",
       "<text text-anchor=\"middle\" x=\"65\" y=\"-215.4\" font-family=\"Times,serif\" font-size=\"12.00\">a*|b*|c*</text>\n",
       "</g>\n",
       "<!-- I0&#45;&gt;0 -->\n",
       "<g id=\"edge1\" class=\"edge\"><title>I0&#45;&gt;0</title>\n",
       "<path fill=\"none\" stroke=\"black\" d=\"M1.0457,-218.5C1.9455,-218.5 16.003,-218.5 30.605,-218.5\"/>\n",
       "<polygon fill=\"black\" stroke=\"black\" points=\"36.86,-218.5 30.86,-221.2 33.86,-218.5 30.86,-218.5 30.86,-218.5 30.86,-218.5 33.86,-218.5 30.86,-215.8 36.86,-218.5 36.86,-218.5\"/>\n",
       "</g>\n",
       "<!-- F0 -->\n",
       "<g id=\"node2\" class=\"node\"><title>F0</title>\n",
       "<ellipse fill=\"black\" stroke=\"black\" cx=\"180\" cy=\"-415.5\" rx=\"0\" ry=\"0\"/>\n",
       "</g>\n",
       "<!-- F1 -->\n",
       "<g id=\"node3\" class=\"node\"><title>F1</title>\n",
       "<ellipse fill=\"black\" stroke=\"black\" cx=\"348\" cy=\"-352.5\" rx=\"0\" ry=\"0\"/>\n",
       "</g>\n",
       "<!-- F2 -->\n",
       "<g id=\"node4\" class=\"node\"><title>F2</title>\n",
       "<ellipse fill=\"black\" stroke=\"black\" cx=\"348\" cy=\"-154.5\" rx=\"0\" ry=\"0\"/>\n",
       "</g>\n",
       "<!-- F3 -->\n",
       "<g id=\"node5\" class=\"node\"><title>F3</title>\n",
       "<ellipse fill=\"black\" stroke=\"black\" cx=\"289\" cy=\"-319.5\" rx=\"0\" ry=\"0\"/>\n",
       "</g>\n",
       "<!-- F4 -->\n",
       "<g id=\"node6\" class=\"node\"><title>F4</title>\n",
       "<ellipse fill=\"black\" stroke=\"black\" cx=\"348\" cy=\"-74.5\" rx=\"0\" ry=\"0\"/>\n",
       "</g>\n",
       "<!-- F5 -->\n",
       "<g id=\"node7\" class=\"node\"><title>F5</title>\n",
       "<ellipse fill=\"black\" stroke=\"black\" cx=\"289\" cy=\"-220.5\" rx=\"0\" ry=\"0\"/>\n",
       "</g>\n",
       "<!-- F6 -->\n",
       "<g id=\"node8\" class=\"node\"><title>F6</title>\n",
       "<ellipse fill=\"black\" stroke=\"black\" cx=\"289\" cy=\"-14.5\" rx=\"0\" ry=\"0\"/>\n",
       "</g>\n",
       "<!-- 0&#45;&gt;F0 -->\n",
       "<g id=\"edge2\" class=\"edge\"><title>0&#45;&gt;F0</title>\n",
       "<path fill=\"none\" stroke=\"black\" d=\"M73.6437,-233.307C97.1937,-273.649 161.736,-384.212 176.818,-410.049\"/>\n",
       "<polygon fill=\"black\" stroke=\"black\" points=\"179.942,-415.401 174.586,-411.58 178.43,-412.81 176.917,-410.219 176.917,-410.219 176.917,-410.219 178.43,-412.81 179.249,-408.858 179.942,-415.401 179.942,-415.401\"/>\n",
       "</g>\n",
       "<!-- 0&#45;&gt;0 -->\n",
       "<g id=\"edge3\" class=\"edge\"><title>0&#45;&gt;0</title>\n",
       "<path fill=\"none\" stroke=\"black\" d=\"M56.984,-233.21C55.051,-242.32 57.723,-251 65,-251 70.572,-251 73.444,-245.91 73.617,-239.44\"/>\n",
       "<polygon fill=\"black\" stroke=\"black\" points=\"73.016,-233.21 76.2797,-238.923 73.3041,-236.196 73.5922,-239.182 73.5922,-239.182 73.5922,-239.182 73.3041,-236.196 70.9047,-239.442 73.016,-233.21 73.016,-233.21\"/>\n",
       "<text text-anchor=\"middle\" x=\"65\" y=\"-254.8\" font-family=\"Times,serif\" font-size=\"14.00\">a|b|c</text>\n",
       "</g>\n",
       "<!-- 1 -->\n",
       "<g id=\"node10\" class=\"node\"><title>1</title>\n",
       "<path fill=\"#98f5ff\" stroke=\"black\" d=\"M300.833,-367C300.833,-367 277.167,-367 277.167,-367 272.333,-367 267.5,-362.167 267.5,-357.333 267.5,-357.333 267.5,-347.667 267.5,-347.667 267.5,-342.833 272.333,-338 277.167,-338 277.167,-338 300.833,-338 300.833,-338 305.667,-338 310.5,-342.833 310.5,-347.667 310.5,-347.667 310.5,-357.333 310.5,-357.333 310.5,-362.167 305.667,-367 300.833,-367\"/>\n",
       "<text text-anchor=\"middle\" x=\"289\" y=\"-349.4\" font-family=\"Times,serif\" font-size=\"12.00\">ε|ε|c*</text>\n",
       "</g>\n",
       "<!-- 0&#45;&gt;1 -->\n",
       "<g id=\"edge4\" class=\"edge\"><title>0&#45;&gt;1</title>\n",
       "<path fill=\"none\" stroke=\"black\" d=\"M70.354,-233.08C80.015,-262.47 106.33,-328.23 155,-354.5 188.06,-372.34 232.82,-366.7 261.05,-360.21\"/>\n",
       "<polygon fill=\"black\" stroke=\"black\" points=\"267.16,-358.74 261.958,-362.769 264.243,-359.442 261.326,-360.144 261.326,-360.144 261.326,-360.144 264.243,-359.442 260.695,-357.518 267.16,-358.74 267.16,-358.74\"/>\n",
       "<text text-anchor=\"middle\" x=\"180\" y=\"-370.3\" font-family=\"Times,serif\" font-size=\"14.00\">ε|ε|c</text>\n",
       "</g>\n",
       "<!-- 2 -->\n",
       "<g id=\"node11\" class=\"node\"><title>2</title>\n",
       "<path fill=\"#98f5ff\" stroke=\"black\" d=\"M301.333,-169C301.333,-169 276.667,-169 276.667,-169 271.833,-169 267,-164.167 267,-159.333 267,-159.333 267,-149.667 267,-149.667 267,-144.833 271.833,-140 276.667,-140 276.667,-140 301.333,-140 301.333,-140 306.167,-140 311,-144.833 311,-149.667 311,-149.667 311,-159.333 311,-159.333 311,-164.167 306.167,-169 301.333,-169\"/>\n",
       "<text text-anchor=\"middle\" x=\"289\" y=\"-151.4\" font-family=\"Times,serif\" font-size=\"12.00\">ε|b*|ε</text>\n",
       "</g>\n",
       "<!-- 0&#45;&gt;2 -->\n",
       "<g id=\"edge5\" class=\"edge\"><title>0&#45;&gt;2</title>\n",
       "<path fill=\"none\" stroke=\"black\" d=\"M93.047,-204.73C110.38,-196.39 133.56,-186.12 155,-179.5 190.75,-168.47 233.48,-161.49 260.68,-157.79\"/>\n",
       "<polygon fill=\"black\" stroke=\"black\" points=\"266.91,-156.96 261.319,-160.429 263.936,-157.356 260.963,-157.752 260.963,-157.752 260.963,-157.752 263.936,-157.356 260.606,-155.076 266.91,-156.96 266.91,-156.96\"/>\n",
       "<text text-anchor=\"middle\" x=\"180\" y=\"-183.3\" font-family=\"Times,serif\" font-size=\"14.00\">ε|b|ε</text>\n",
       "</g>\n",
       "<!-- 3 -->\n",
       "<g id=\"node12\" class=\"node\"><title>3</title>\n",
       "<path fill=\"#98f5ff\" stroke=\"black\" d=\"M195.333,-313C195.333,-313 164.667,-313 164.667,-313 159.833,-313 155,-308.167 155,-303.333 155,-303.333 155,-293.667 155,-293.667 155,-288.833 159.833,-284 164.667,-284 164.667,-284 195.333,-284 195.333,-284 200.167,-284 205,-288.833 205,-293.667 205,-293.667 205,-303.333 205,-303.333 205,-308.167 200.167,-313 195.333,-313\"/>\n",
       "<text text-anchor=\"middle\" x=\"180\" y=\"-295.4\" font-family=\"Times,serif\" font-size=\"12.00\">ε|b*|c*</text>\n",
       "</g>\n",
       "<!-- 0&#45;&gt;3 -->\n",
       "<g id=\"edge6\" class=\"edge\"><title>0&#45;&gt;3</title>\n",
       "<path fill=\"none\" stroke=\"black\" d=\"M86.726,-233.17C105.52,-246.48 133.29,-266.14 153.45,-280.41\"/>\n",
       "<polygon fill=\"black\" stroke=\"black\" points=\"158.41,-283.92 151.953,-282.658 155.961,-282.187 153.512,-280.454 153.512,-280.454 153.512,-280.454 155.961,-282.187 155.072,-278.25 158.41,-283.92 158.41,-283.92\"/>\n",
       "<text text-anchor=\"middle\" x=\"124\" y=\"-272.3\" font-family=\"Times,serif\" font-size=\"14.00\">ε|b|c</text>\n",
       "</g>\n",
       "<!-- 4 -->\n",
       "<g id=\"node13\" class=\"node\"><title>4</title>\n",
       "<path fill=\"#98f5ff\" stroke=\"black\" d=\"M300.833,-89C300.833,-89 277.167,-89 277.167,-89 272.333,-89 267.5,-84.1667 267.5,-79.3333 267.5,-79.3333 267.5,-69.6667 267.5,-69.6667 267.5,-64.8333 272.333,-60 277.167,-60 277.167,-60 300.833,-60 300.833,-60 305.667,-60 310.5,-64.8333 310.5,-69.6667 310.5,-69.6667 310.5,-79.3333 310.5,-79.3333 310.5,-84.1667 305.667,-89 300.833,-89\"/>\n",
       "<text text-anchor=\"middle\" x=\"289\" y=\"-71.4\" font-family=\"Times,serif\" font-size=\"12.00\">a*|ε|ε</text>\n",
       "</g>\n",
       "<!-- 0&#45;&gt;4 -->\n",
       "<g id=\"edge7\" class=\"edge\"><title>0&#45;&gt;4</title>\n",
       "<path fill=\"none\" stroke=\"black\" d=\"M84.335,-203.72C92.477,-197.18 102.19,-189.43 111,-182.5 130.43,-167.22 134.68,-162.57 155,-148.5 184.21,-128.28 191.92,-123.7 223,-106.5 235.48,-99.592 249.67,-92.523 261.59,-86.792\"/>\n",
       "<polygon fill=\"black\" stroke=\"black\" points=\"267.25,-84.092 262.997,-89.1123 264.542,-85.3837 261.835,-86.6754 261.835,-86.6754 261.835,-86.6754 264.542,-85.3837 260.672,-84.2384 267.25,-84.092 267.25,-84.092\"/>\n",
       "<text text-anchor=\"middle\" x=\"180\" y=\"-152.3\" font-family=\"Times,serif\" font-size=\"14.00\">a|ε|ε</text>\n",
       "</g>\n",
       "<!-- 5 -->\n",
       "<g id=\"node14\" class=\"node\"><title>5</title>\n",
       "<path fill=\"#98f5ff\" stroke=\"black\" d=\"M194.833,-233C194.833,-233 165.167,-233 165.167,-233 160.333,-233 155.5,-228.167 155.5,-223.333 155.5,-223.333 155.5,-213.667 155.5,-213.667 155.5,-208.833 160.333,-204 165.167,-204 165.167,-204 194.833,-204 194.833,-204 199.667,-204 204.5,-208.833 204.5,-213.667 204.5,-213.667 204.5,-223.333 204.5,-223.333 204.5,-228.167 199.667,-233 194.833,-233\"/>\n",
       "<text text-anchor=\"middle\" x=\"180\" y=\"-215.4\" font-family=\"Times,serif\" font-size=\"12.00\">a*|ε|c*</text>\n",
       "</g>\n",
       "<!-- 0&#45;&gt;5 -->\n",
       "<g id=\"edge8\" class=\"edge\"><title>0&#45;&gt;5</title>\n",
       "<path fill=\"none\" stroke=\"black\" d=\"M93.066,-218.5C109.93,-218.5 131.65,-218.5 149.03,-218.5\"/>\n",
       "<polygon fill=\"black\" stroke=\"black\" points=\"155.22,-218.5 149.22,-221.2 152.22,-218.5 149.22,-218.5 149.22,-218.5 149.22,-218.5 152.22,-218.5 149.22,-215.8 155.22,-218.5 155.22,-218.5\"/>\n",
       "<text text-anchor=\"middle\" x=\"124\" y=\"-222.3\" font-family=\"Times,serif\" font-size=\"14.00\">a|ε|c</text>\n",
       "</g>\n",
       "<!-- 6 -->\n",
       "<g id=\"node15\" class=\"node\"><title>6</title>\n",
       "<path fill=\"#98f5ff\" stroke=\"black\" d=\"M195.333,-29C195.333,-29 164.667,-29 164.667,-29 159.833,-29 155,-24.1667 155,-19.3333 155,-19.3333 155,-9.66667 155,-9.66667 155,-4.83333 159.833,-0 164.667,-0 164.667,-0 195.333,-0 195.333,-0 200.167,-0 205,-4.83333 205,-9.66667 205,-9.66667 205,-19.3333 205,-19.3333 205,-24.1667 200.167,-29 195.333,-29\"/>\n",
       "<text text-anchor=\"middle\" x=\"180\" y=\"-11.4\" font-family=\"Times,serif\" font-size=\"12.00\">a*|b*|ε</text>\n",
       "</g>\n",
       "<!-- 0&#45;&gt;6 -->\n",
       "<g id=\"edge9\" class=\"edge\"><title>0&#45;&gt;6</title>\n",
       "<path fill=\"none\" stroke=\"black\" d=\"M67.547,-203.73C71.099,-175.49 81.898,-112.78 111,-69.5 120.95,-54.706 136.08,-41.913 149.54,-32.397\"/>\n",
       "<polygon fill=\"black\" stroke=\"black\" points=\"154.8,-28.784 151.383,-34.4067 152.327,-30.4826 149.854,-32.1811 149.854,-32.1811 149.854,-32.1811 152.327,-30.4826 148.326,-29.9556 154.8,-28.784 154.8,-28.784\"/>\n",
       "<text text-anchor=\"middle\" x=\"124\" y=\"-73.3\" font-family=\"Times,serif\" font-size=\"14.00\">a|b|ε</text>\n",
       "</g>\n",
       "<!-- 1&#45;&gt;F1 -->\n",
       "<g id=\"edge10\" class=\"edge\"><title>1&#45;&gt;F1</title>\n",
       "<path fill=\"none\" stroke=\"black\" d=\"M310.634,-352.5C321.722,-352.5 334.408,-352.5 341.781,-352.5\"/>\n",
       "<polygon fill=\"black\" stroke=\"black\" points=\"347.941,-352.5 341.941,-355.2 344.941,-352.5 341.941,-352.5 341.941,-352.5 341.941,-352.5 344.941,-352.5 341.941,-349.8 347.941,-352.5 347.941,-352.5\"/>\n",
       "</g>\n",
       "<!-- 1&#45;&gt;1 -->\n",
       "<g id=\"edge11\" class=\"edge\"><title>1&#45;&gt;1</title>\n",
       "<path fill=\"none\" stroke=\"black\" d=\"M282.03,-367.21C280.35,-376.32 282.67,-385 289,-385 293.84,-385 296.34,-379.91 296.49,-373.44\"/>\n",
       "<polygon fill=\"black\" stroke=\"black\" points=\"295.97,-367.21 299.16,-372.965 296.22,-370.2 296.469,-373.189 296.469,-373.189 296.469,-373.189 296.22,-370.2 293.779,-373.414 295.97,-367.21 295.97,-367.21\"/>\n",
       "<text text-anchor=\"middle\" x=\"289\" y=\"-388.8\" font-family=\"Times,serif\" font-size=\"14.00\">ε|ε|c</text>\n",
       "</g>\n",
       "<!-- 2&#45;&gt;F2 -->\n",
       "<g id=\"edge12\" class=\"edge\"><title>2&#45;&gt;F2</title>\n",
       "<path fill=\"none\" stroke=\"black\" d=\"M311.305,-154.5C322.307,-154.5 334.729,-154.5 341.932,-154.5\"/>\n",
       "<polygon fill=\"black\" stroke=\"black\" points=\"347.942,-154.5 341.942,-157.2 344.942,-154.5 341.942,-154.5 341.942,-154.5 341.942,-154.5 344.942,-154.5 341.942,-151.8 347.942,-154.5 347.942,-154.5\"/>\n",
       "</g>\n",
       "<!-- 2&#45;&gt;2 -->\n",
       "<g id=\"edge13\" class=\"edge\"><title>2&#45;&gt;2</title>\n",
       "<path fill=\"none\" stroke=\"black\" d=\"M282.03,-169.21C280.35,-178.32 282.67,-187 289,-187 293.84,-187 296.34,-181.91 296.49,-175.44\"/>\n",
       "<polygon fill=\"black\" stroke=\"black\" points=\"295.97,-169.21 299.16,-174.965 296.22,-172.2 296.469,-175.189 296.469,-175.189 296.469,-175.189 296.22,-172.2 293.779,-175.414 295.97,-169.21 295.97,-169.21\"/>\n",
       "<text text-anchor=\"middle\" x=\"289\" y=\"-190.8\" font-family=\"Times,serif\" font-size=\"14.00\">ε|b|ε</text>\n",
       "</g>\n",
       "<!-- 3&#45;&gt;F3 -->\n",
       "<g id=\"edge14\" class=\"edge\"><title>3&#45;&gt;F3</title>\n",
       "<path fill=\"none\" stroke=\"black\" d=\"M205.007,-303.318C230.336,-308.198 267.829,-315.421 282.645,-318.276\"/>\n",
       "<polygon fill=\"black\" stroke=\"black\" points=\"288.85,-319.471 282.448,-320.987 285.905,-318.904 282.959,-318.336 282.959,-318.336 282.959,-318.336 285.905,-318.904 283.47,-315.685 288.85,-319.471 288.85,-319.471\"/>\n",
       "</g>\n",
       "<!-- 3&#45;&gt;1 -->\n",
       "<g id=\"edge15\" class=\"edge\"><title>3&#45;&gt;1</title>\n",
       "<path fill=\"none\" stroke=\"black\" d=\"M204.27,-313.01C210.29,-316.58 216.82,-320.3 223,-323.5 235.44,-329.95 249.62,-336.38 261.56,-341.54\"/>\n",
       "<polygon fill=\"black\" stroke=\"black\" points=\"267.22,-343.96 260.642,-344.084 264.462,-342.781 261.703,-341.601 261.703,-341.601 261.703,-341.601 264.462,-342.781 262.765,-339.119 267.22,-343.96 267.22,-343.96\"/>\n",
       "<text text-anchor=\"middle\" x=\"236\" y=\"-339.3\" font-family=\"Times,serif\" font-size=\"14.00\">ε|ε|c</text>\n",
       "</g>\n",
       "<!-- 3&#45;&gt;2 -->\n",
       "<g id=\"edge16\" class=\"edge\"><title>3&#45;&gt;2</title>\n",
       "<path fill=\"none\" stroke=\"black\" d=\"M196.41,-283.92C199.37,-280.9 202.36,-277.67 205,-274.5 232.76,-241.23 260.48,-198.84 275.82,-174.38\"/>\n",
       "<polygon fill=\"black\" stroke=\"black\" points=\"279.08,-169.14 278.203,-175.661 277.495,-171.687 275.91,-174.235 275.91,-174.235 275.91,-174.235 277.495,-171.687 273.618,-172.808 279.08,-169.14 279.08,-169.14\"/>\n",
       "<text text-anchor=\"middle\" x=\"236\" y=\"-253.3\" font-family=\"Times,serif\" font-size=\"14.00\">ε|b|ε</text>\n",
       "</g>\n",
       "<!-- 3&#45;&gt;3 -->\n",
       "<g id=\"edge17\" class=\"edge\"><title>3&#45;&gt;3</title>\n",
       "<path fill=\"none\" stroke=\"black\" d=\"M170.24,-313.21C167.89,-322.32 171.14,-331 180,-331 186.78,-331 190.28,-325.91 190.49,-319.44\"/>\n",
       "<polygon fill=\"black\" stroke=\"black\" points=\"189.76,-313.21 193.14,-318.855 190.109,-316.19 190.458,-319.169 190.458,-319.169 190.458,-319.169 190.109,-316.19 187.777,-319.483 189.76,-313.21 189.76,-313.21\"/>\n",
       "<text text-anchor=\"middle\" x=\"180\" y=\"-334.8\" font-family=\"Times,serif\" font-size=\"14.00\">ε|b|c</text>\n",
       "</g>\n",
       "<!-- 4&#45;&gt;F4 -->\n",
       "<g id=\"edge18\" class=\"edge\"><title>4&#45;&gt;F4</title>\n",
       "<path fill=\"none\" stroke=\"black\" d=\"M310.634,-74.5C321.722,-74.5 334.408,-74.5 341.781,-74.5\"/>\n",
       "<polygon fill=\"black\" stroke=\"black\" points=\"347.941,-74.5 341.941,-77.2001 344.941,-74.5 341.941,-74.5001 341.941,-74.5001 341.941,-74.5001 344.941,-74.5 341.941,-71.8001 347.941,-74.5 347.941,-74.5\"/>\n",
       "</g>\n",
       "<!-- 4&#45;&gt;4 -->\n",
       "<g id=\"edge19\" class=\"edge\"><title>4&#45;&gt;4</title>\n",
       "<path fill=\"none\" stroke=\"black\" d=\"M282.03,-89.206C280.35,-98.324 282.67,-107 289,-107 293.84,-107 296.34,-101.91 296.49,-95.438\"/>\n",
       "<polygon fill=\"black\" stroke=\"black\" points=\"295.97,-89.206 299.16,-94.9607 296.219,-92.1956 296.469,-95.1852 296.469,-95.1852 296.469,-95.1852 296.219,-92.1956 293.778,-95.4098 295.97,-89.206 295.97,-89.206\"/>\n",
       "<text text-anchor=\"middle\" x=\"289\" y=\"-110.8\" font-family=\"Times,serif\" font-size=\"14.00\">a|ε|ε</text>\n",
       "</g>\n",
       "<!-- 5&#45;&gt;F5 -->\n",
       "<g id=\"edge20\" class=\"edge\"><title>5&#45;&gt;F5</title>\n",
       "<path fill=\"none\" stroke=\"black\" d=\"M204.734,-218.954C230.047,-219.418 267.718,-220.11 282.61,-220.383\"/>\n",
       "<polygon fill=\"black\" stroke=\"black\" points=\"288.85,-220.497 282.801,-223.087 285.85,-220.442 282.851,-220.387 282.851,-220.387 282.851,-220.387 285.85,-220.442 282.9,-217.688 288.85,-220.497 288.85,-220.497\"/>\n",
       "</g>\n",
       "<!-- 5&#45;&gt;1 -->\n",
       "<g id=\"edge21\" class=\"edge\"><title>5&#45;&gt;1</title>\n",
       "<path fill=\"none\" stroke=\"black\" d=\"M192.66,-233.02C206.3,-250.05 229.49,-279.17 249,-304.5 257.14,-315.06 258.6,-318.14 267,-328.5 268.26,-330.05 269.57,-331.64 270.91,-333.22\"/>\n",
       "<polygon fill=\"black\" stroke=\"black\" points=\"274.94,-337.93 268.988,-335.126 272.99,-335.651 271.039,-333.371 271.039,-333.371 271.039,-333.371 272.99,-335.651 273.091,-331.616 274.94,-337.93 274.94,-337.93\"/>\n",
       "<text text-anchor=\"middle\" x=\"236\" y=\"-308.3\" font-family=\"Times,serif\" font-size=\"14.00\">ε|ε|c</text>\n",
       "</g>\n",
       "<!-- 5&#45;&gt;4 -->\n",
       "<g id=\"edge22\" class=\"edge\"><title>5&#45;&gt;4</title>\n",
       "<path fill=\"none\" stroke=\"black\" d=\"M191.85,-203.9C211.16,-177.92 251.49,-123.63 273.28,-94.311\"/>\n",
       "<polygon fill=\"black\" stroke=\"black\" points=\"277.12,-89.139 275.711,-95.5659 275.332,-91.5477 273.543,-93.9564 273.543,-93.9564 273.543,-93.9564 275.332,-91.5477 271.375,-92.3469 277.12,-89.139 277.12,-89.139\"/>\n",
       "<text text-anchor=\"middle\" x=\"236\" y=\"-163.3\" font-family=\"Times,serif\" font-size=\"14.00\">a|ε|ε</text>\n",
       "</g>\n",
       "<!-- 5&#45;&gt;5 -->\n",
       "<g id=\"edge23\" class=\"edge\"><title>5&#45;&gt;5</title>\n",
       "<path fill=\"none\" stroke=\"black\" d=\"M170.24,-233.21C167.89,-242.32 171.14,-251 180,-251 186.78,-251 190.28,-245.91 190.49,-239.44\"/>\n",
       "<polygon fill=\"black\" stroke=\"black\" points=\"189.76,-233.21 193.14,-238.855 190.109,-236.19 190.458,-239.169 190.458,-239.169 190.458,-239.169 190.109,-236.19 187.777,-239.483 189.76,-233.21 189.76,-233.21\"/>\n",
       "<text text-anchor=\"middle\" x=\"180\" y=\"-254.8\" font-family=\"Times,serif\" font-size=\"14.00\">a|ε|c</text>\n",
       "</g>\n",
       "<!-- 6&#45;&gt;F6 -->\n",
       "<g id=\"edge24\" class=\"edge\"><title>6&#45;&gt;F6</title>\n",
       "<path fill=\"none\" stroke=\"black\" d=\"M205.007,-14.5C230.336,-14.5 267.829,-14.5 282.645,-14.5\"/>\n",
       "<polygon fill=\"black\" stroke=\"black\" points=\"288.85,-14.5 282.85,-17.2001 285.85,-14.5 282.85,-14.5001 282.85,-14.5001 282.85,-14.5001 285.85,-14.5 282.85,-11.8001 288.85,-14.5 288.85,-14.5\"/>\n",
       "</g>\n",
       "<!-- 6&#45;&gt;2 -->\n",
       "<g id=\"edge25\" class=\"edge\"><title>6&#45;&gt;2</title>\n",
       "<path fill=\"none\" stroke=\"black\" d=\"M191.21,-29.08C206.95,-51.356 238.32,-95.016 267,-130.5 268.25,-132.05 269.57,-133.64 270.91,-135.22\"/>\n",
       "<polygon fill=\"black\" stroke=\"black\" points=\"274.93,-139.93 268.981,-137.119 272.982,-137.648 271.035,-135.366 271.035,-135.366 271.035,-135.366 272.982,-137.648 273.088,-133.613 274.93,-139.93 274.93,-139.93\"/>\n",
       "<text text-anchor=\"middle\" x=\"236\" y=\"-110.3\" font-family=\"Times,serif\" font-size=\"14.00\">ε|b|ε</text>\n",
       "</g>\n",
       "<!-- 6&#45;&gt;4 -->\n",
       "<g id=\"edge26\" class=\"edge\"><title>6&#45;&gt;4</title>\n",
       "<path fill=\"none\" stroke=\"black\" d=\"M205.01,-27.965C221.84,-37.402 244.33,-50.013 261.65,-59.726\"/>\n",
       "<polygon fill=\"black\" stroke=\"black\" points=\"267.31,-62.9 260.756,-62.3202 264.693,-61.4326 262.077,-59.9652 262.077,-59.9652 262.077,-59.9652 264.693,-61.4326 263.397,-57.6102 267.31,-62.9 267.31,-62.9\"/>\n",
       "<text text-anchor=\"middle\" x=\"236\" y=\"-56.3\" font-family=\"Times,serif\" font-size=\"14.00\">a|ε|ε</text>\n",
       "</g>\n",
       "<!-- 6&#45;&gt;6 -->\n",
       "<g id=\"edge27\" class=\"edge\"><title>6&#45;&gt;6</title>\n",
       "<path fill=\"none\" stroke=\"black\" d=\"M170.24,-29.206C167.89,-38.324 171.14,-47 180,-47 186.78,-47 190.28,-41.914 190.49,-35.438\"/>\n",
       "<polygon fill=\"black\" stroke=\"black\" points=\"189.76,-29.206 193.14,-34.8511 190.109,-32.1856 190.458,-35.1653 190.458,-35.1653 190.458,-35.1653 190.109,-32.1856 187.776,-35.4794 189.76,-29.206 189.76,-29.206\"/>\n",
       "<text text-anchor=\"middle\" x=\"180\" y=\"-50.8\" font-family=\"Times,serif\" font-size=\"14.00\">a|b|ε</text>\n",
       "</g>\n",
       "</g>\n",
       "</svg>\n"
      ],
      "text/plain": [
       "expression_automaton<mutable_automaton<context<lat<nullableset<letterset<char_letters>>, nullableset<letterset<char_letters>>, nullableset<letterset<char_letters>>>, q>>>"
      ]
     },
     "execution_count": 7,
     "metadata": {},
     "output_type": "execute_result"
    }
   ],
   "source": [
    "ctx3 = vcsn.context('lat<lan, lan, lan>, q')\n",
    "a3 = ctx3.expression('a*|b*|c*').derived_term()\n",
    "a3"
   ]
  },
  {
   "cell_type": "markdown",
   "metadata": {},
   "source": [
    "Currently Vcsn is not able to extract nice rational expressions from such an automaton: it will always produce a \"simple-tape expression over multitape generators\":"
   ]
  },
  {
   "cell_type": "code",
   "execution_count": 8,
   "metadata": {},
   "outputs": [
    {
     "data": {
      "text/latex": [
       "$\\left(a|b|c\\right)^{*} \\, \\left(\\varepsilon + \\left(\\varepsilon|\\varepsilon|c\\right) \\, \\left(\\varepsilon|\\varepsilon|c\\right)^{*} + \\left(\\varepsilon|b|\\varepsilon\\right) \\, \\left(\\varepsilon|b|\\varepsilon\\right)^{*} + \\left(a|\\varepsilon|\\varepsilon\\right) \\, \\left(a|\\varepsilon|\\varepsilon\\right)^{*} + \\left(\\varepsilon|b|c\\right) \\, \\left(\\varepsilon|b|c\\right)^{*} \\, \\left(\\varepsilon + \\left(\\varepsilon|\\varepsilon|c\\right) \\, \\left(\\varepsilon|\\varepsilon|c\\right)^{*} + \\left(\\varepsilon|b|\\varepsilon\\right) \\, \\left(\\varepsilon|b|\\varepsilon\\right)^{*}\\right) + \\left(a|\\varepsilon|c\\right) \\, \\left(a|\\varepsilon|c\\right)^{*} \\, \\left(\\varepsilon + \\left(\\varepsilon|\\varepsilon|c\\right) \\, \\left(\\varepsilon|\\varepsilon|c\\right)^{*} + \\left(a|\\varepsilon|\\varepsilon\\right) \\, \\left(a|\\varepsilon|\\varepsilon\\right)^{*}\\right) + \\left(a|b|\\varepsilon\\right) \\, \\left(a|b|\\varepsilon\\right)^{*} \\, \\left(\\varepsilon + \\left(\\varepsilon|b|\\varepsilon\\right) \\, \\left(\\varepsilon|b|\\varepsilon\\right)^{*} + \\left(a|\\varepsilon|\\varepsilon\\right) \\, \\left(a|\\varepsilon|\\varepsilon\\right)^{*}\\right)\\right)$"
      ],
      "text/plain": [
       "(a|b|c)*(\\e+(\\e|\\e|c)(\\e|\\e|c)*+(\\e|b|\\e)(\\e|b|\\e)*+(a|\\e|\\e)(a|\\e|\\e)*+(\\e|b|c)(\\e|b|c)*(\\e+(\\e|\\e|c)(\\e|\\e|c)*+(\\e|b|\\e)(\\e|b|\\e)*)+(a|\\e|c)(a|\\e|c)*(\\e+(\\e|\\e|c)(\\e|\\e|c)*+(a|\\e|\\e)(a|\\e|\\e)*)+(a|b|\\e)(a|b|\\e)*(\\e+(\\e|b|\\e)(\\e|b|\\e)*+(a|\\e|\\e)(a|\\e|\\e)*))"
      ]
     },
     "execution_count": 8,
     "metadata": {},
     "output_type": "execute_result"
    }
   ],
   "source": [
    "a3.expression()"
   ]
  },
  {
   "cell_type": "markdown",
   "metadata": {},
   "source": [
    "Instead of displaying the automaton, we may list its states, for instance in the case of a five-tape expression."
   ]
  },
  {
   "cell_type": "code",
   "execution_count": 9,
   "metadata": {},
   "outputs": [
    {
     "data": {
      "text/latex": [
       "$ \\left. {a}^{*} \\middle| {b}^{*} \\middle| {c}^{*} \\middle| {d}^{*} \\middle| {e}^{*} \\right. $"
      ],
      "text/plain": [
       "a*|b*|c*|d*|e*"
      ]
     },
     "execution_count": 9,
     "metadata": {},
     "output_type": "execute_result"
    }
   ],
   "source": [
    "import re\n",
    "def states(a):\n",
    "    '''The states of an automaton, sorted.'''\n",
    "    res = re.findall(r'label = \"(.*?)\", shape', a.dot(), re.M)\n",
    "    res.sort()\n",
    "    return res\n",
    "\n",
    "ctx5 = vcsn.context('lat<lan(a), lan(b), lan(c), lan(d), lan(e)>, q')\n",
    "e5 = ctx5.expression('a*|b*|c*|d*|e*')\n",
    "e5"
   ]
  },
  {
   "cell_type": "code",
   "execution_count": 10,
   "metadata": {},
   "outputs": [
    {
     "data": {
      "text/latex": [
       "$\\left\\langle 1\\right\\rangle  \\oplus \\varepsilon|\\varepsilon|\\varepsilon|\\varepsilon|e \\odot \\left[ \\left. \\varepsilon \\middle| \\varepsilon \\middle| \\varepsilon \\middle| \\varepsilon \\middle| {e}^{*} \\right. \\right] \\oplus \\varepsilon|\\varepsilon|\\varepsilon|d|\\varepsilon \\odot \\left[ \\left. \\varepsilon \\middle| \\varepsilon \\middle| \\varepsilon \\middle| {d}^{*} \\middle| \\varepsilon \\right. \\right] \\oplus \\varepsilon|\\varepsilon|\\varepsilon|d|e \\odot \\left[ \\left. \\varepsilon \\middle| \\varepsilon \\middle| \\varepsilon \\middle| {d}^{*} \\middle| {e}^{*} \\right. \\right] \\oplus \\varepsilon|\\varepsilon|c|\\varepsilon|\\varepsilon \\odot \\left[ \\left. \\varepsilon \\middle| \\varepsilon \\middle| {c}^{*} \\middle| \\varepsilon \\middle| \\varepsilon \\right. \\right] \\oplus \\varepsilon|\\varepsilon|c|\\varepsilon|e \\odot \\left[ \\left. \\varepsilon \\middle| \\varepsilon \\middle| {c}^{*} \\middle| \\varepsilon \\middle| {e}^{*} \\right. \\right] \\oplus \\varepsilon|\\varepsilon|c|d|\\varepsilon \\odot \\left[ \\left. \\varepsilon \\middle| \\varepsilon \\middle| {c}^{*} \\middle| {d}^{*} \\middle| \\varepsilon \\right. \\right] \\oplus \\varepsilon|\\varepsilon|c|d|e \\odot \\left[ \\left. \\varepsilon \\middle| \\varepsilon \\middle| {c}^{*} \\middle| {d}^{*} \\middle| {e}^{*} \\right. \\right] \\oplus \\varepsilon|b|\\varepsilon|\\varepsilon|\\varepsilon \\odot \\left[ \\left. \\varepsilon \\middle| {b}^{*} \\middle| \\varepsilon \\middle| \\varepsilon \\middle| \\varepsilon \\right. \\right] \\oplus \\varepsilon|b|\\varepsilon|\\varepsilon|e \\odot \\left[ \\left. \\varepsilon \\middle| {b}^{*} \\middle| \\varepsilon \\middle| \\varepsilon \\middle| {e}^{*} \\right. \\right] \\oplus \\varepsilon|b|\\varepsilon|d|\\varepsilon \\odot \\left[ \\left. \\varepsilon \\middle| {b}^{*} \\middle| \\varepsilon \\middle| {d}^{*} \\middle| \\varepsilon \\right. \\right] \\oplus \\varepsilon|b|\\varepsilon|d|e \\odot \\left[ \\left. \\varepsilon \\middle| {b}^{*} \\middle| \\varepsilon \\middle| {d}^{*} \\middle| {e}^{*} \\right. \\right] \\oplus \\varepsilon|b|c|\\varepsilon|\\varepsilon \\odot \\left[ \\left. \\varepsilon \\middle| {b}^{*} \\middle| {c}^{*} \\middle| \\varepsilon \\middle| \\varepsilon \\right. \\right] \\oplus \\varepsilon|b|c|\\varepsilon|e \\odot \\left[ \\left. \\varepsilon \\middle| {b}^{*} \\middle| {c}^{*} \\middle| \\varepsilon \\middle| {e}^{*} \\right. \\right] \\oplus \\varepsilon|b|c|d|\\varepsilon \\odot \\left[ \\left. \\varepsilon \\middle| {b}^{*} \\middle| {c}^{*} \\middle| {d}^{*} \\middle| \\varepsilon \\right. \\right] \\oplus \\varepsilon|b|c|d|e \\odot \\left[ \\left. \\varepsilon \\middle| {b}^{*} \\middle| {c}^{*} \\middle| {d}^{*} \\middle| {e}^{*} \\right. \\right] \\oplus a|\\varepsilon|\\varepsilon|\\varepsilon|\\varepsilon \\odot \\left[ \\left. {a}^{*} \\middle| \\varepsilon \\middle| \\varepsilon \\middle| \\varepsilon \\middle| \\varepsilon \\right. \\right] \\oplus a|\\varepsilon|\\varepsilon|\\varepsilon|e \\odot \\left[ \\left. {a}^{*} \\middle| \\varepsilon \\middle| \\varepsilon \\middle| \\varepsilon \\middle| {e}^{*} \\right. \\right] \\oplus a|\\varepsilon|\\varepsilon|d|\\varepsilon \\odot \\left[ \\left. {a}^{*} \\middle| \\varepsilon \\middle| \\varepsilon \\middle| {d}^{*} \\middle| \\varepsilon \\right. \\right] \\oplus a|\\varepsilon|\\varepsilon|d|e \\odot \\left[ \\left. {a}^{*} \\middle| \\varepsilon \\middle| \\varepsilon \\middle| {d}^{*} \\middle| {e}^{*} \\right. \\right] \\oplus a|\\varepsilon|c|\\varepsilon|\\varepsilon \\odot \\left[ \\left. {a}^{*} \\middle| \\varepsilon \\middle| {c}^{*} \\middle| \\varepsilon \\middle| \\varepsilon \\right. \\right] \\oplus a|\\varepsilon|c|\\varepsilon|e \\odot \\left[ \\left. {a}^{*} \\middle| \\varepsilon \\middle| {c}^{*} \\middle| \\varepsilon \\middle| {e}^{*} \\right. \\right] \\oplus a|\\varepsilon|c|d|\\varepsilon \\odot \\left[ \\left. {a}^{*} \\middle| \\varepsilon \\middle| {c}^{*} \\middle| {d}^{*} \\middle| \\varepsilon \\right. \\right] \\oplus a|\\varepsilon|c|d|e \\odot \\left[ \\left. {a}^{*} \\middle| \\varepsilon \\middle| {c}^{*} \\middle| {d}^{*} \\middle| {e}^{*} \\right. \\right] \\oplus a|b|\\varepsilon|\\varepsilon|\\varepsilon \\odot \\left[ \\left. {a}^{*} \\middle| {b}^{*} \\middle| \\varepsilon \\middle| \\varepsilon \\middle| \\varepsilon \\right. \\right] \\oplus a|b|\\varepsilon|\\varepsilon|e \\odot \\left[ \\left. {a}^{*} \\middle| {b}^{*} \\middle| \\varepsilon \\middle| \\varepsilon \\middle| {e}^{*} \\right. \\right] \\oplus a|b|\\varepsilon|d|\\varepsilon \\odot \\left[ \\left. {a}^{*} \\middle| {b}^{*} \\middle| \\varepsilon \\middle| {d}^{*} \\middle| \\varepsilon \\right. \\right] \\oplus a|b|\\varepsilon|d|e \\odot \\left[ \\left. {a}^{*} \\middle| {b}^{*} \\middle| \\varepsilon \\middle| {d}^{*} \\middle| {e}^{*} \\right. \\right] \\oplus a|b|c|\\varepsilon|\\varepsilon \\odot \\left[ \\left. {a}^{*} \\middle| {b}^{*} \\middle| {c}^{*} \\middle| \\varepsilon \\middle| \\varepsilon \\right. \\right] \\oplus a|b|c|\\varepsilon|e \\odot \\left[ \\left. {a}^{*} \\middle| {b}^{*} \\middle| {c}^{*} \\middle| \\varepsilon \\middle| {e}^{*} \\right. \\right] \\oplus a|b|c|d|\\varepsilon \\odot \\left[ \\left. {a}^{*} \\middle| {b}^{*} \\middle| {c}^{*} \\middle| {d}^{*} \\middle| \\varepsilon \\right. \\right] \\oplus a|b|c|d|e \\odot \\left[ \\left. {a}^{*} \\middle| {b}^{*} \\middle| {c}^{*} \\middle| {d}^{*} \\middle| {e}^{*} \\right. \\right]$"
      ],
      "text/plain": [
       "<1> + \\e|\\e|\\e|\\e|e.[\\e|\\e|\\e|\\e|e*] + \\e|\\e|\\e|d|\\e.[\\e|\\e|\\e|d*|\\e] + \\e|\\e|\\e|d|e.[\\e|\\e|\\e|d*|e*] + \\e|\\e|c|\\e|\\e.[\\e|\\e|c*|\\e|\\e] + \\e|\\e|c|\\e|e.[\\e|\\e|c*|\\e|e*] + \\e|\\e|c|d|\\e.[\\e|\\e|c*|d*|\\e] + \\e|\\e|c|d|e.[\\e|\\e|c*|d*|e*] + \\e|b|\\e|\\e|\\e.[\\e|b*|\\e|\\e|\\e] + \\e|b|\\e|\\e|e.[\\e|b*|\\e|\\e|e*] + \\e|b|\\e|d|\\e.[\\e|b*|\\e|d*|\\e] + \\e|b|\\e|d|e.[\\e|b*|\\e|d*|e*] + \\e|b|c|\\e|\\e.[\\e|b*|c*|\\e|\\e] + \\e|b|c|\\e|e.[\\e|b*|c*|\\e|e*] + \\e|b|c|d|\\e.[\\e|b*|c*|d*|\\e] + \\e|b|c|d|e.[\\e|b*|c*|d*|e*] + a|\\e|\\e|\\e|\\e.[a*|\\e|\\e|\\e|\\e] + a|\\e|\\e|\\e|e.[a*|\\e|\\e|\\e|e*] + a|\\e|\\e|d|\\e.[a*|\\e|\\e|d*|\\e] + a|\\e|\\e|d|e.[a*|\\e|\\e|d*|e*] + a|\\e|c|\\e|\\e.[a*|\\e|c*|\\e|\\e] + a|\\e|c|\\e|e.[a*|\\e|c*|\\e|e*] + a|\\e|c|d|\\e.[a*|\\e|c*|d*|\\e] + a|\\e|c|d|e.[a*|\\e|c*|d*|e*] + a|b|\\e|\\e|\\e.[a*|b*|\\e|\\e|\\e] + a|b|\\e|\\e|e.[a*|b*|\\e|\\e|e*] + a|b|\\e|d|\\e.[a*|b*|\\e|d*|\\e] + a|b|\\e|d|e.[a*|b*|\\e|d*|e*] + a|b|c|\\e|\\e.[a*|b*|c*|\\e|\\e] + a|b|c|\\e|e.[a*|b*|c*|\\e|e*] + a|b|c|d|\\e.[a*|b*|c*|d*|\\e] + a|b|c|d|e.[a*|b*|c*|d*|e*]"
      ]
     },
     "execution_count": 10,
     "metadata": {},
     "output_type": "execute_result"
    }
   ],
   "source": [
    "e5.expansion()"
   ]
  },
  {
   "cell_type": "code",
   "execution_count": 11,
   "metadata": {},
   "outputs": [
    {
     "data": {
      "text/plain": [
       "['a*|b*|c*|d*|e*',\n",
       " 'a*|b*|c*|d*|ε',\n",
       " 'a*|b*|c*|ε|e*',\n",
       " 'a*|b*|c*|ε|ε',\n",
       " 'a*|b*|ε|d*|e*',\n",
       " 'a*|b*|ε|d*|ε',\n",
       " 'a*|b*|ε|ε|e*',\n",
       " 'a*|b*|ε|ε|ε',\n",
       " 'a*|ε|c*|d*|e*',\n",
       " 'a*|ε|c*|d*|ε',\n",
       " 'a*|ε|c*|ε|e*',\n",
       " 'a*|ε|c*|ε|ε',\n",
       " 'a*|ε|ε|d*|e*',\n",
       " 'a*|ε|ε|d*|ε',\n",
       " 'a*|ε|ε|ε|e*',\n",
       " 'a*|ε|ε|ε|ε',\n",
       " 'ε|b*|c*|d*|e*',\n",
       " 'ε|b*|c*|d*|ε',\n",
       " 'ε|b*|c*|ε|e*',\n",
       " 'ε|b*|c*|ε|ε',\n",
       " 'ε|b*|ε|d*|e*',\n",
       " 'ε|b*|ε|d*|ε',\n",
       " 'ε|b*|ε|ε|e*',\n",
       " 'ε|b*|ε|ε|ε',\n",
       " 'ε|ε|c*|d*|e*',\n",
       " 'ε|ε|c*|d*|ε',\n",
       " 'ε|ε|c*|ε|e*',\n",
       " 'ε|ε|c*|ε|ε',\n",
       " 'ε|ε|ε|d*|e*',\n",
       " 'ε|ε|ε|d*|ε',\n",
       " 'ε|ε|ε|ε|e*']"
      ]
     },
     "execution_count": 11,
     "metadata": {},
     "output_type": "execute_result"
    }
   ],
   "source": [
    "a5 = e5.derived_term()\n",
    "states(a5)"
   ]
  },
  {
   "cell_type": "markdown",
   "metadata": {},
   "source": [
    "## Example $\\mathsf{E}_2$: A Sed-like Substitution"
   ]
  },
  {
   "cell_type": "code",
   "execution_count": 12,
   "metadata": {},
   "outputs": [
    {
     "data": {
      "text/latex": [
       "$\\left( \\left. a \\, {a}^{*} \\middle| x \\right.  +  \\left. b \\, {b}^{*} \\middle| y \\right. \\right)^{*}$"
      ],
      "text/plain": [
       "(aa*|x+bb*|y)*"
      ]
     },
     "execution_count": 12,
     "metadata": {},
     "output_type": "execute_result"
    }
   ],
   "source": [
    "e2 = ctx.expression('(a{+}|x + b{+}|y)*')\n",
    "e2"
   ]
  },
  {
   "cell_type": "code",
   "execution_count": 13,
   "metadata": {},
   "outputs": [
    {
     "data": {
      "text/latex": [
       "$\\left\\langle 1\\right\\rangle  \\oplus a|x \\odot \\left[\\left( \\left. {a}^{*} \\middle| \\varepsilon \\right. \\right) \\, \\left( \\left. a \\, {a}^{*} \\middle| x \\right.  +  \\left. b \\, {b}^{*} \\middle| y \\right. \\right)^{*}\\right] \\oplus b|y \\odot \\left[\\left( \\left. {b}^{*} \\middle| \\varepsilon \\right. \\right) \\, \\left( \\left. a \\, {a}^{*} \\middle| x \\right.  +  \\left. b \\, {b}^{*} \\middle| y \\right. \\right)^{*}\\right]$"
      ],
      "text/plain": [
       "<1> + a|x.[(a*|\\e)(aa*|x+bb*|y)*] + b|y.[(b*|\\e)(aa*|x+bb*|y)*]"
      ]
     },
     "execution_count": 13,
     "metadata": {},
     "output_type": "execute_result"
    }
   ],
   "source": [
    "e2.expansion()"
   ]
  },
  {
   "cell_type": "code",
   "execution_count": 14,
   "metadata": {},
   "outputs": [
    {
     "data": {
      "image/svg+xml": [
       "<?xml version=\"1.0\" encoding=\"UTF-8\" standalone=\"no\"?>\n",
       "<!DOCTYPE svg PUBLIC \"-//W3C//DTD SVG 1.1//EN\"\n",
       " \"http://www.w3.org/Graphics/SVG/1.1/DTD/svg11.dtd\">\n",
       "<!-- Generated by graphviz version 2.38.0 (20140413.2041)\n",
       " -->\n",
       "<!-- Title: %3 Pages: 1 -->\n",
       "<svg width=\"509pt\" height=\"124pt\"\n",
       " viewBox=\"0.00 0.00 509.00 123.56\" xmlns=\"http://www.w3.org/2000/svg\" xmlns:xlink=\"http://www.w3.org/1999/xlink\">\n",
       "<g id=\"graph0\" class=\"graph\" transform=\"scale(1 1) rotate(0) translate(4 115.3)\">\n",
       "<title>%3</title>\n",
       "<polygon fill=\"white\" stroke=\"none\" points=\"-4,8.2568 -4,-115.3 505,-115.3 505,8.2568 -4,8.2568\"/>\n",
       "<!-- I0 -->\n",
       "<g id=\"node1\" class=\"node\"><title>I0</title>\n",
       "<ellipse fill=\"black\" stroke=\"black\" cx=\"0\" cy=\"-45.296\" rx=\"0\" ry=\"0\"/>\n",
       "</g>\n",
       "<!-- 0 -->\n",
       "<g id=\"node5\" class=\"node\"><title>0</title>\n",
       "<path fill=\"#98f5ff\" stroke=\"black\" d=\"M116.333,-59.796C116.333,-59.796 46.6667,-59.796 46.6667,-59.796 41.8333,-59.796 37,-54.9627 37,-50.1293 37,-50.1293 37,-40.4627 37,-40.4627 37,-35.6293 41.8333,-30.796 46.6667,-30.796 46.6667,-30.796 116.333,-30.796 116.333,-30.796 121.167,-30.796 126,-35.6293 126,-40.4627 126,-40.4627 126,-50.1293 126,-50.1293 126,-54.9627 121.167,-59.796 116.333,-59.796\"/>\n",
       "<text text-anchor=\"middle\" x=\"81.5\" y=\"-42.196\" font-family=\"Times,serif\" font-size=\"12.00\">(aa*|x+bb*|y)*</text>\n",
       "</g>\n",
       "<!-- I0&#45;&gt;0 -->\n",
       "<g id=\"edge1\" class=\"edge\"><title>I0&#45;&gt;0</title>\n",
       "<path fill=\"none\" stroke=\"black\" d=\"M1.0576,-45.296C2.0289,-45.296 15.149,-45.296 30.456,-45.296\"/>\n",
       "<polygon fill=\"black\" stroke=\"black\" points=\"36.644,-45.296 30.644,-47.9961 33.644,-45.296 30.644,-45.2961 30.644,-45.2961 30.644,-45.2961 33.644,-45.296 30.644,-42.5961 36.644,-45.296 36.644,-45.296\"/>\n",
       "</g>\n",
       "<!-- F0 -->\n",
       "<g id=\"node2\" class=\"node\"><title>F0</title>\n",
       "<ellipse fill=\"black\" stroke=\"black\" cx=\"237\" cy=\"-111.3\" rx=\"0\" ry=\"0\"/>\n",
       "</g>\n",
       "<!-- F1 -->\n",
       "<g id=\"node3\" class=\"node\"><title>F1</title>\n",
       "<ellipse fill=\"black\" stroke=\"black\" cx=\"406\" cy=\"-87.296\" rx=\"0\" ry=\"0\"/>\n",
       "</g>\n",
       "<!-- F2 -->\n",
       "<g id=\"node4\" class=\"node\"><title>F2</title>\n",
       "<ellipse fill=\"black\" stroke=\"black\" cx=\"501\" cy=\"-19.296\" rx=\"0\" ry=\"0\"/>\n",
       "</g>\n",
       "<!-- 0&#45;&gt;F0 -->\n",
       "<g id=\"edge2\" class=\"edge\"><title>0&#45;&gt;F0</title>\n",
       "<path fill=\"none\" stroke=\"black\" d=\"M116.01,-59.9444C154.06,-76.0951 212.368,-100.845 231.034,-108.768\"/>\n",
       "<polygon fill=\"black\" stroke=\"black\" points=\"236.945,-111.277 230.367,-111.418 234.184,-110.105 231.422,-108.932 231.422,-108.932 231.422,-108.932 234.184,-110.105 232.477,-106.447 236.945,-111.277 236.945,-111.277\"/>\n",
       "</g>\n",
       "<!-- 1 -->\n",
       "<g id=\"node6\" class=\"node\"><title>1</title>\n",
       "<path fill=\"#98f5ff\" stroke=\"black\" d=\"M285.333,-59.796C285.333,-59.796 188.667,-59.796 188.667,-59.796 183.833,-59.796 179,-54.9627 179,-50.1293 179,-50.1293 179,-40.4627 179,-40.4627 179,-35.6293 183.833,-30.796 188.667,-30.796 188.667,-30.796 285.333,-30.796 285.333,-30.796 290.167,-30.796 295,-35.6293 295,-40.4627 295,-40.4627 295,-50.1293 295,-50.1293 295,-54.9627 290.167,-59.796 285.333,-59.796\"/>\n",
       "<text text-anchor=\"middle\" x=\"237\" y=\"-42.196\" font-family=\"Times,serif\" font-size=\"12.00\">(a*|ε)(aa*|x+bb*|y)*</text>\n",
       "</g>\n",
       "<!-- 0&#45;&gt;1 -->\n",
       "<g id=\"edge3\" class=\"edge\"><title>0&#45;&gt;1</title>\n",
       "<path fill=\"none\" stroke=\"black\" d=\"M126.08,-45.296C140.55,-45.296 156.98,-45.296 172.64,-45.296\"/>\n",
       "<polygon fill=\"black\" stroke=\"black\" points=\"178.83,-45.296 172.83,-47.9961 175.83,-45.296 172.83,-45.2961 172.83,-45.2961 172.83,-45.2961 175.83,-45.296 172.83,-42.5961 178.83,-45.296 178.83,-45.296\"/>\n",
       "<text text-anchor=\"middle\" x=\"152.5\" y=\"-49.096\" font-family=\"Times,serif\" font-size=\"14.00\">a|x</text>\n",
       "</g>\n",
       "<!-- 2 -->\n",
       "<g id=\"node7\" class=\"node\"><title>2</title>\n",
       "<path fill=\"#98f5ff\" stroke=\"black\" d=\"M454.333,-33.796C454.333,-33.796 357.667,-33.796 357.667,-33.796 352.833,-33.796 348,-28.9627 348,-24.1293 348,-24.1293 348,-14.4627 348,-14.4627 348,-9.62933 352.833,-4.796 357.667,-4.796 357.667,-4.796 454.333,-4.796 454.333,-4.796 459.167,-4.796 464,-9.62933 464,-14.4627 464,-14.4627 464,-24.1293 464,-24.1293 464,-28.9627 459.167,-33.796 454.333,-33.796\"/>\n",
       "<text text-anchor=\"middle\" x=\"406\" y=\"-16.196\" font-family=\"Times,serif\" font-size=\"12.00\">(b*|ε)(aa*|x+bb*|y)*</text>\n",
       "</g>\n",
       "<!-- 0&#45;&gt;2 -->\n",
       "<g id=\"edge4\" class=\"edge\"><title>0&#45;&gt;2</title>\n",
       "<path fill=\"none\" stroke=\"black\" d=\"M110.33,-30.713C129.15,-21.7 154.88,-10.986 179,-6.2959 233.27,4.2568 296.15,-0.71491 341.78,-7.3352\"/>\n",
       "<polygon fill=\"black\" stroke=\"black\" points=\"347.82,-8.2356 341.487,-10.0213 344.853,-7.79323 341.886,-7.35085 341.886,-7.35085 341.886,-7.35085 344.853,-7.79323 342.284,-4.68036 347.82,-8.2356 347.82,-8.2356\"/>\n",
       "<text text-anchor=\"middle\" x=\"237\" y=\"-10.096\" font-family=\"Times,serif\" font-size=\"14.00\">b|y</text>\n",
       "</g>\n",
       "<!-- 1&#45;&gt;F1 -->\n",
       "<g id=\"edge5\" class=\"edge\"><title>1&#45;&gt;F1</title>\n",
       "<path fill=\"none\" stroke=\"black\" d=\"M295.16,-59.75C335.011,-69.6538 383.546,-81.7158 400.125,-85.836\"/>\n",
       "<polygon fill=\"black\" stroke=\"black\" points=\"405.955,-87.2848 399.481,-88.4579 403.043,-86.5612 400.132,-85.8376 400.132,-85.8376 400.132,-85.8376 403.043,-86.5612 400.783,-83.2173 405.955,-87.2848 405.955,-87.2848\"/>\n",
       "</g>\n",
       "<!-- 1&#45;&gt;1 -->\n",
       "<g id=\"edge6\" class=\"edge\"><title>1&#45;&gt;1</title>\n",
       "<path fill=\"none\" stroke=\"black\" d=\"M222.36,-60.002C218.83,-69.119 223.71,-77.796 237,-77.796 247.17,-77.796 252.42,-72.71 252.73,-66.234\"/>\n",
       "<polygon fill=\"black\" stroke=\"black\" points=\"251.64,-60.002 255.333,-65.4471 252.157,-62.9571 252.674,-65.9123 252.674,-65.9123 252.674,-65.9123 252.157,-62.9571 250.014,-66.3775 251.64,-60.002 251.64,-60.002\"/>\n",
       "<text text-anchor=\"middle\" x=\"237\" y=\"-81.596\" font-family=\"Times,serif\" font-size=\"14.00\">a|ε, a|x</text>\n",
       "</g>\n",
       "<!-- 1&#45;&gt;2 -->\n",
       "<g id=\"edge7\" class=\"edge\"><title>1&#45;&gt;2</title>\n",
       "<path fill=\"none\" stroke=\"black\" d=\"M295.05,-40.01C306.65,-38.679 318.74,-37.104 330,-35.296 333.8,-34.686 337.69,-34.011 341.61,-33.292\"/>\n",
       "<polygon fill=\"black\" stroke=\"black\" points=\"347.78,-32.129 342.384,-35.8937 344.832,-32.6847 341.884,-33.2405 341.884,-33.2405 341.884,-33.2405 344.832,-32.6847 341.384,-30.5872 347.78,-32.129 347.78,-32.129\"/>\n",
       "<text text-anchor=\"middle\" x=\"321.5\" y=\"-42.096\" font-family=\"Times,serif\" font-size=\"14.00\">b|y</text>\n",
       "</g>\n",
       "<!-- 2&#45;&gt;F2 -->\n",
       "<g id=\"edge8\" class=\"edge\"><title>2&#45;&gt;F2</title>\n",
       "<path fill=\"none\" stroke=\"black\" d=\"M464.271,-19.296C476.772,-19.296 488.223,-19.296 494.906,-19.296\"/>\n",
       "<polygon fill=\"black\" stroke=\"black\" points=\"500.95,-19.296 494.95,-21.9961 497.95,-19.296 494.95,-19.2961 494.95,-19.2961 494.95,-19.2961 497.95,-19.296 494.95,-16.5961 500.95,-19.296 500.95,-19.296\"/>\n",
       "</g>\n",
       "<!-- 2&#45;&gt;1 -->\n",
       "<g id=\"edge9\" class=\"edge\"><title>2&#45;&gt;1</title>\n",
       "<path fill=\"none\" stroke=\"black\" d=\"M347.78,-13.599C336.2,-13.518 324.15,-14.215 313,-16.296 299.91,-18.739 286.16,-23.387 274.06,-28.259\"/>\n",
       "<polygon fill=\"black\" stroke=\"black\" points=\"268.27,-30.66 272.778,-25.8676 271.041,-29.5108 273.812,-28.3616 273.812,-28.3616 273.812,-28.3616 271.041,-29.5108 274.847,-30.8557 268.27,-30.66 268.27,-30.66\"/>\n",
       "<text text-anchor=\"middle\" x=\"321.5\" y=\"-20.096\" font-family=\"Times,serif\" font-size=\"14.00\">a|x</text>\n",
       "</g>\n",
       "<!-- 2&#45;&gt;2 -->\n",
       "<g id=\"edge10\" class=\"edge\"><title>2&#45;&gt;2</title>\n",
       "<path fill=\"none\" stroke=\"black\" d=\"M392.76,-34.002C389.56,-43.119 393.98,-51.796 406,-51.796 415.21,-51.796 419.95,-46.71 420.24,-40.234\"/>\n",
       "<polygon fill=\"black\" stroke=\"black\" points=\"419.24,-34.002 422.857,-39.4984 419.715,-36.9641 420.191,-39.9262 420.191,-39.9262 420.191,-39.9262 419.715,-36.9641 417.525,-40.354 419.24,-34.002 419.24,-34.002\"/>\n",
       "<text text-anchor=\"middle\" x=\"406\" y=\"-55.596\" font-family=\"Times,serif\" font-size=\"14.00\">b|ε, b|y</text>\n",
       "</g>\n",
       "</g>\n",
       "</svg>\n"
      ],
      "text/plain": [
       "expression_automaton<mutable_automaton<context<lat<nullableset<letterset<char_letters>>, nullableset<letterset<char_letters>>>, q>>>"
      ]
     },
     "execution_count": 14,
     "metadata": {},
     "output_type": "execute_result"
    }
   ],
   "source": [
    "a2 = e2.derived_term()\n",
    "a2"
   ]
  },
  {
   "cell_type": "markdown",
   "metadata": {},
   "source": [
    "Again, the extracted expression is less readable."
   ]
  },
  {
   "cell_type": "code",
   "execution_count": 15,
   "metadata": {},
   "outputs": [
    {
     "data": {
      "text/latex": [
       "$\\varepsilon + \\left(a|x\\right) \\, \\left(a|\\varepsilon + a|x\\right)^{*} + \\left(b|y + \\left(a|x\\right) \\, \\left(a|\\varepsilon + a|x\\right)^{*} \\, \\left(b|y\\right)\\right) \\, \\left(b|\\varepsilon + b|y + \\left(a|x\\right) \\, \\left(a|\\varepsilon + a|x\\right)^{*} \\, \\left(b|y\\right)\\right)^{*} \\, \\left(\\varepsilon + \\left(a|x\\right) \\, \\left(a|\\varepsilon + a|x\\right)^{*}\\right)$"
      ],
      "text/plain": [
       "\\e+(a|x)(a|\\e+a|x)*+(b|y+(a|x)(a|\\e+a|x)*(b|y))(b|\\e+b|y+(a|x)(a|\\e+a|x)*(b|y))*(\\e+(a|x)(a|\\e+a|x)*)"
      ]
     },
     "execution_count": 15,
     "metadata": {},
     "output_type": "execute_result"
    }
   ],
   "source": [
    "a2.expression()"
   ]
  },
  {
   "cell_type": "markdown",
   "metadata": {},
   "source": [
    "## A More Complex Expression\n",
    "The previous examples often look like sed-like substitutions, in the sense that the first tape was often a composite expression, but the second tape a simple label.  There is no such limitation."
   ]
  },
  {
   "cell_type": "code",
   "execution_count": 16,
   "metadata": {},
   "outputs": [
    {
     "data": {
      "text/latex": [
       "$ \\left. \\left( \\left\\langle 2 \\right\\rangle \\,\\left(a + b\\right)\\right)^{*} \\middle| \\left( \\left\\langle 3 \\right\\rangle \\,\\left(x + y\\right)\\right)^{*} \\right. $"
      ],
      "text/plain": [
       "(<2>(a+b))*|(<3>(x+y))*"
      ]
     },
     "execution_count": 16,
     "metadata": {},
     "output_type": "execute_result"
    }
   ],
   "source": [
    "e = ctx.expression('(<2>[ab])* | (<3>[xy])*')\n",
    "e"
   ]
  },
  {
   "cell_type": "code",
   "execution_count": 17,
   "metadata": {},
   "outputs": [
    {
     "data": {
      "image/svg+xml": [
       "<?xml version=\"1.0\" encoding=\"UTF-8\" standalone=\"no\"?>\n",
       "<!DOCTYPE svg PUBLIC \"-//W3C//DTD SVG 1.1//EN\"\n",
       " \"http://www.w3.org/Graphics/SVG/1.1/DTD/svg11.dtd\">\n",
       "<!-- Generated by graphviz version 2.38.0 (20140413.2041)\n",
       " -->\n",
       "<!-- Title: %3 Pages: 1 -->\n",
       "<svg width=\"401pt\" height=\"169pt\"\n",
       " viewBox=\"0.00 0.00 401.00 168.50\" xmlns=\"http://www.w3.org/2000/svg\" xmlns:xlink=\"http://www.w3.org/1999/xlink\">\n",
       "<g id=\"graph0\" class=\"graph\" transform=\"scale(1 1) rotate(0) translate(4 164.5)\">\n",
       "<title>%3</title>\n",
       "<polygon fill=\"white\" stroke=\"none\" points=\"-4,4 -4,-164.5 397,-164.5 397,4 -4,4\"/>\n",
       "<!-- I0 -->\n",
       "<g id=\"node1\" class=\"node\"><title>I0</title>\n",
       "<ellipse fill=\"black\" stroke=\"black\" cx=\"0\" cy=\"-94.5\" rx=\"0\" ry=\"0\"/>\n",
       "</g>\n",
       "<!-- 0 -->\n",
       "<g id=\"node5\" class=\"node\"><title>0</title>\n",
       "<path fill=\"#98f5ff\" stroke=\"black\" d=\"M156.333,-109C156.333,-109 46.6667,-109 46.6667,-109 41.8333,-109 37,-104.167 37,-99.3333 37,-99.3333 37,-89.6667 37,-89.6667 37,-84.8333 41.8333,-80 46.6667,-80 46.6667,-80 156.333,-80 156.333,-80 161.167,-80 166,-84.8333 166,-89.6667 166,-89.6667 166,-99.3333 166,-99.3333 166,-104.167 161.167,-109 156.333,-109\"/>\n",
       "<text text-anchor=\"middle\" x=\"101.5\" y=\"-91.4\" font-family=\"Times,serif\" font-size=\"12.00\">(⟨2⟩(a+b))*|(⟨3⟩(x+y))*</text>\n",
       "</g>\n",
       "<!-- I0&#45;&gt;0 -->\n",
       "<g id=\"edge1\" class=\"edge\"><title>I0&#45;&gt;0</title>\n",
       "<path fill=\"none\" stroke=\"black\" d=\"M1.0721,-94.5C2.1361,-94.5 14.847,-94.5 30.846,-94.5\"/>\n",
       "<polygon fill=\"black\" stroke=\"black\" points=\"36.873,-94.5 30.873,-97.2001 33.873,-94.5 30.873,-94.5001 30.873,-94.5001 30.873,-94.5001 33.873,-94.5 30.873,-91.8001 36.873,-94.5 36.873,-94.5\"/>\n",
       "</g>\n",
       "<!-- F0 -->\n",
       "<g id=\"node2\" class=\"node\"><title>F0</title>\n",
       "<ellipse fill=\"black\" stroke=\"black\" cx=\"316\" cy=\"-160.5\" rx=\"0\" ry=\"0\"/>\n",
       "</g>\n",
       "<!-- F1 -->\n",
       "<g id=\"node3\" class=\"node\"><title>F1</title>\n",
       "<ellipse fill=\"black\" stroke=\"black\" cx=\"393\" cy=\"-94.5\" rx=\"0\" ry=\"0\"/>\n",
       "</g>\n",
       "<!-- F2 -->\n",
       "<g id=\"node4\" class=\"node\"><title>F2</title>\n",
       "<ellipse fill=\"black\" stroke=\"black\" cx=\"393\" cy=\"-14.5\" rx=\"0\" ry=\"0\"/>\n",
       "</g>\n",
       "<!-- 0&#45;&gt;F0 -->\n",
       "<g id=\"edge2\" class=\"edge\"><title>0&#45;&gt;F0</title>\n",
       "<path fill=\"none\" stroke=\"black\" d=\"M148.838,-109.066C203.004,-125.732 287.187,-151.635 310.083,-158.679\"/>\n",
       "<polygon fill=\"black\" stroke=\"black\" points=\"315.924,-160.477 309.396,-161.293 313.057,-159.594 310.19,-158.712 310.19,-158.712 310.19,-158.712 313.057,-159.594 310.984,-156.132 315.924,-160.477 315.924,-160.477\"/>\n",
       "</g>\n",
       "<!-- 0&#45;&gt;0 -->\n",
       "<g id=\"edge3\" class=\"edge\"><title>0&#45;&gt;0</title>\n",
       "<path fill=\"none\" stroke=\"black\" d=\"M87.21,-109.21C83.764,-118.32 88.527,-127 101.5,-127 111.43,-127 116.55,-121.91 116.86,-115.44\"/>\n",
       "<polygon fill=\"black\" stroke=\"black\" points=\"115.79,-109.21 119.467,-114.666 116.298,-112.167 116.806,-115.123 116.806,-115.123 116.806,-115.123 116.298,-112.167 114.145,-115.58 115.79,-109.21 115.79,-109.21\"/>\n",
       "<text text-anchor=\"middle\" x=\"101.5\" y=\"-130.8\" font-family=\"Times,serif\" font-size=\"14.00\">⟨6⟩[a|xa|yb|xb|y]</text>\n",
       "</g>\n",
       "<!-- 1 -->\n",
       "<g id=\"node6\" class=\"node\"><title>1</title>\n",
       "<path fill=\"#98f5ff\" stroke=\"black\" d=\"M346.333,-109C346.333,-109 285.667,-109 285.667,-109 280.833,-109 276,-104.167 276,-99.3333 276,-99.3333 276,-89.6667 276,-89.6667 276,-84.8333 280.833,-80 285.667,-80 285.667,-80 346.333,-80 346.333,-80 351.167,-80 356,-84.8333 356,-89.6667 356,-89.6667 356,-99.3333 356,-99.3333 356,-104.167 351.167,-109 346.333,-109\"/>\n",
       "<text text-anchor=\"middle\" x=\"316\" y=\"-91.4\" font-family=\"Times,serif\" font-size=\"12.00\">ε|(⟨3⟩(x+y))*</text>\n",
       "</g>\n",
       "<!-- 0&#45;&gt;1 -->\n",
       "<g id=\"edge4\" class=\"edge\"><title>0&#45;&gt;1</title>\n",
       "<path fill=\"none\" stroke=\"black\" d=\"M166.26,-94.5C199.58,-94.5 239.59,-94.5 269.71,-94.5\"/>\n",
       "<polygon fill=\"black\" stroke=\"black\" points=\"275.99,-94.5 269.99,-97.2001 272.99,-94.5 269.99,-94.5001 269.99,-94.5001 269.99,-94.5001 272.99,-94.5 269.99,-91.8001 275.99,-94.5 275.99,-94.5\"/>\n",
       "<text text-anchor=\"middle\" x=\"221\" y=\"-98.3\" font-family=\"Times,serif\" font-size=\"14.00\">⟨3⟩ε|x, ⟨3⟩ε|y</text>\n",
       "</g>\n",
       "<!-- 2 -->\n",
       "<g id=\"node7\" class=\"node\"><title>2</title>\n",
       "<path fill=\"#98f5ff\" stroke=\"black\" d=\"M345.833,-29C345.833,-29 286.167,-29 286.167,-29 281.333,-29 276.5,-24.1667 276.5,-19.3333 276.5,-19.3333 276.5,-9.66667 276.5,-9.66667 276.5,-4.83333 281.333,-0 286.167,-0 286.167,-0 345.833,-0 345.833,-0 350.667,-0 355.5,-4.83333 355.5,-9.66667 355.5,-9.66667 355.5,-19.3333 355.5,-19.3333 355.5,-24.1667 350.667,-29 345.833,-29\"/>\n",
       "<text text-anchor=\"middle\" x=\"316\" y=\"-11.4\" font-family=\"Times,serif\" font-size=\"12.00\">(⟨2⟩(a+b))*|ε</text>\n",
       "</g>\n",
       "<!-- 0&#45;&gt;2 -->\n",
       "<g id=\"edge5\" class=\"edge\"><title>0&#45;&gt;2</title>\n",
       "<path fill=\"none\" stroke=\"black\" d=\"M141.48,-79.827C177.87,-66.125 232.16,-45.688 270.29,-31.33\"/>\n",
       "<polygon fill=\"black\" stroke=\"black\" points=\"276.27,-29.08 271.605,-33.72 273.462,-30.1365 270.654,-31.193 270.654,-31.193 270.654,-31.193 273.462,-30.1365 269.703,-28.6659 276.27,-29.08 276.27,-29.08\"/>\n",
       "<text text-anchor=\"middle\" x=\"221\" y=\"-66.3\" font-family=\"Times,serif\" font-size=\"14.00\">⟨2⟩a|ε, ⟨2⟩b|ε</text>\n",
       "</g>\n",
       "<!-- 1&#45;&gt;F1 -->\n",
       "<g id=\"edge6\" class=\"edge\"><title>1&#45;&gt;F1</title>\n",
       "<path fill=\"none\" stroke=\"black\" d=\"M356.304,-94.5C368.148,-94.5 379.764,-94.5 386.655,-94.5\"/>\n",
       "<polygon fill=\"black\" stroke=\"black\" points=\"392.948,-94.5 386.948,-97.2001 389.948,-94.5 386.948,-94.5001 386.948,-94.5001 386.948,-94.5001 389.948,-94.5 386.948,-91.8001 392.948,-94.5 392.948,-94.5\"/>\n",
       "</g>\n",
       "<!-- 1&#45;&gt;1 -->\n",
       "<g id=\"edge7\" class=\"edge\"><title>1&#45;&gt;1</title>\n",
       "<path fill=\"none\" stroke=\"black\" d=\"M305.89,-109.21C303.45,-118.32 306.82,-127 316,-127 323.03,-127 326.65,-121.91 326.86,-115.44\"/>\n",
       "<polygon fill=\"black\" stroke=\"black\" points=\"326.11,-109.21 329.508,-114.844 326.469,-112.188 326.827,-115.167 326.827,-115.167 326.827,-115.167 326.469,-112.188 324.147,-115.49 326.11,-109.21 326.11,-109.21\"/>\n",
       "<text text-anchor=\"middle\" x=\"316\" y=\"-130.8\" font-family=\"Times,serif\" font-size=\"14.00\">⟨3⟩ε|x, ⟨3⟩ε|y</text>\n",
       "</g>\n",
       "<!-- 2&#45;&gt;F2 -->\n",
       "<g id=\"edge8\" class=\"edge\"><title>2&#45;&gt;F2</title>\n",
       "<path fill=\"none\" stroke=\"black\" d=\"M355.853,-14.5C367.798,-14.5 379.569,-14.5 386.559,-14.5\"/>\n",
       "<polygon fill=\"black\" stroke=\"black\" points=\"392.947,-14.5 386.947,-17.2001 389.947,-14.5 386.947,-14.5001 386.947,-14.5001 386.947,-14.5001 389.947,-14.5 386.947,-11.8001 392.947,-14.5 392.947,-14.5\"/>\n",
       "</g>\n",
       "<!-- 2&#45;&gt;2 -->\n",
       "<g id=\"edge9\" class=\"edge\"><title>2&#45;&gt;2</title>\n",
       "<path fill=\"none\" stroke=\"black\" d=\"M305.89,-29.206C303.45,-38.324 306.82,-47 316,-47 323.03,-47 326.65,-41.914 326.86,-35.438\"/>\n",
       "<polygon fill=\"black\" stroke=\"black\" points=\"326.11,-29.206 329.508,-34.8404 326.468,-32.1845 326.827,-35.163 326.827,-35.163 326.827,-35.163 326.468,-32.1845 324.146,-35.4857 326.11,-29.206 326.11,-29.206\"/>\n",
       "<text text-anchor=\"middle\" x=\"316\" y=\"-50.8\" font-family=\"Times,serif\" font-size=\"14.00\">⟨2⟩a|ε, ⟨2⟩b|ε</text>\n",
       "</g>\n",
       "</g>\n",
       "</svg>\n"
      ],
      "text/plain": [
       "expression_automaton<mutable_automaton<context<lat<nullableset<letterset<char_letters>>, nullableset<letterset<char_letters>>>, q>>>"
      ]
     },
     "execution_count": 17,
     "metadata": {},
     "output_type": "execute_result"
    }
   ],
   "source": [
    "a = e.derived_term()\n",
    "a"
   ]
  },
  {
   "cell_type": "code",
   "execution_count": 18,
   "metadata": {},
   "outputs": [
    {
     "name": "stdout",
     "output_type": "stream",
     "text": [
      "\\e|\\e\n",
      "<3>\\e|x\n",
      "<3>\\e|y\n",
      "<2>a|\\e\n",
      "<6>a|x\n",
      "<6>a|y\n",
      "<2>b|\\e\n",
      "<6>b|x\n",
      "<6>b|y\n",
      "<9>\\e|xx\n",
      "<9>\\e|xy\n",
      "<9>\\e|yx\n",
      "<9>\\e|yy\n",
      "<18>a|xx\n",
      "<18>a|xy\n",
      "<18>a|yx\n",
      "<18>a|yy\n",
      "<18>b|xx\n",
      "<18>b|xy\n",
      "<18>b|yx\n"
     ]
    }
   ],
   "source": [
    "print('{:l}'.format(a.shortest(20)))"
   ]
  }
 ],
 "metadata": {
  "kernelspec": {
   "display_name": "Python 3",
   "language": "python",
   "name": "python3"
  },
  "language_info": {
   "codemirror_mode": {
    "name": "ipython",
    "version": 3
   },
   "file_extension": ".py",
   "mimetype": "text/x-python",
   "name": "python",
   "nbconvert_exporter": "python",
   "pygments_lexer": "ipython3",
   "version": "3.5.3"
  }
 },
 "nbformat": 4,
 "nbformat_minor": 1
}
