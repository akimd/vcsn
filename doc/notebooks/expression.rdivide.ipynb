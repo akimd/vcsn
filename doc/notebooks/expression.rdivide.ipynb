{
 "cells": [
  {
   "cell_type": "markdown",
   "metadata": {},
   "source": [
    "# _`expression`_`.rdivide(`_`exp`_`)`\n",
    "# _`expression`_`/`_`exp`_\n",
    "\n",
    "\n",
    "An expression which denotes the right-quotient of both expressions.  This operator is only syntactic sugar for the transpose of the left quotient operation over the transpose of the parameters:\n",
    "$$\n",
    "\\newcommand{\\ldiv}{\\mathbin{\\backslash}}\n",
    "\\newcommand{\\rdiv}{\\mathbin{/}}\n",
    "\\newcommand{\\Ed}{\\mathsf{E}}\n",
    "\\newcommand{\\Fd}{\\mathsf{F}}\n",
    "\\Ed \\rdiv \\Fd := (\\Fd^t \\ldiv \\Ed^t)^t\n",
    "$$\n",
    "\n",
    "See also:\n",
    "- [automaton.rdivide](automaton.rdivide.ipynb)\n",
    "- [expression.ldivide](expression.ldivide.ipynb)\n",
    "- [label.rdivide](label.rdivide.ipynb)\n",
    "- [weight.rdivide](weight.rdivide.ipynb)"
   ]
  },
  {
   "cell_type": "markdown",
   "metadata": {},
   "source": [
    "## Examples"
   ]
  },
  {
   "cell_type": "code",
   "execution_count": 1,
   "metadata": {
    "collapsed": false
   },
   "outputs": [
    {
     "data": {
      "text/latex": [
       "$\\left(\\mathit{cb} \\backslash \\mathit{cba}\\right)^{T}$"
      ],
      "text/plain": [
       "(cb{\\}cba){T}"
      ]
     },
     "execution_count": 1,
     "metadata": {},
     "output_type": "execute_result"
    }
   ],
   "source": [
    "import vcsn\n",
    "ctx = vcsn.context('law, q')\n",
    "exp = lambda p: ctx.expression(p)\n",
    "exp('abc') / exp('bc')"
   ]
  }
 ],
 "metadata": {
  "kernelspec": {
   "display_name": "Python 3",
   "language": "python",
   "name": "python3"
  },
  "language_info": {
   "codemirror_mode": {
    "name": "ipython",
    "version": 3
   },
   "file_extension": ".py",
   "mimetype": "text/x-python",
   "name": "python",
   "nbconvert_exporter": "python",
   "pygments_lexer": "ipython3",
   "version": "3.5.2"
  }
 },
 "nbformat": 4,
 "nbformat_minor": 0
}
