{
 "cells": [
  {
   "cell_type": "markdown",
   "metadata": {},
   "source": [
    "# _`expression`_.`split()`\n",
    "\n",
    "Split an expression into a polynomial of rational expressions, i.e., when an expression is actually a sum of expressions, breaks it in smaller expressions.  This is used to implement \"breaking [derivatives](expression.derivation.ipynb)/[expansions](expression.expansion.ipynb)\".\n",
    "\n",
    "See also:\n",
    "- [polynomial.split](polynomial.split.ipynb)\n",
    "\n",
    "References:\n",
    "- [angrand.2010.jalc](References.ipynb#angrand.2010.jalc) introduces `split` as \"breaking\" an expression, noted $B(\\mathsf{E})$.  It was renamed `split` in Vcsn to avoid clashes with the `break` keyword in both C++ and Python.\n",
    "\n",
    "## Examples"
   ]
  },
  {
   "cell_type": "code",
   "execution_count": 1,
   "metadata": {
    "collapsed": false
   },
   "outputs": [
    {
     "data": {
      "text/latex": [
       "${a}^{*} +  \\left\\langle 3 \\right\\rangle \\,a \\, b + {a}^{*}$"
      ],
      "text/plain": [
       "a*+<3>ab+a*"
      ]
     },
     "execution_count": 1,
     "metadata": {},
     "output_type": "execute_result"
    }
   ],
   "source": [
    "import vcsn\n",
    "qexp = vcsn.Q.expression\n",
    "e = qexp('a* + <3>ab + a*', 'associative')\n",
    "e"
   ]
  },
  {
   "cell_type": "code",
   "execution_count": 2,
   "metadata": {
    "collapsed": false
   },
   "outputs": [
    {
     "data": {
      "text/latex": [
       "$\\left\\langle 2\\right\\rangle {a}^{*} \\oplus \\left\\langle 3\\right\\rangle a \\, b$"
      ],
      "text/plain": [
       "<2>a* + <3>ab"
      ]
     },
     "execution_count": 2,
     "metadata": {},
     "output_type": "execute_result"
    }
   ],
   "source": [
    "e.split()"
   ]
  },
  {
   "cell_type": "markdown",
   "metadata": {},
   "source": [
    "Note that the weights (2 and 3) are on the level of the polynomial: the expressions are $a^*$ and $ab$.\n",
    "\n",
    "It also distributes when the top-level is a multiplication, or a conjunction, whose first term is a sum."
   ]
  },
  {
   "cell_type": "code",
   "execution_count": 3,
   "metadata": {
    "collapsed": false
   },
   "outputs": [
    {
     "data": {
      "text/latex": [
       "$\\left(a + b\\right)^{2}$"
      ],
      "text/plain": [
       "(a+b){2}"
      ]
     },
     "execution_count": 3,
     "metadata": {},
     "output_type": "execute_result"
    }
   ],
   "source": [
    "e = qexp('(a+b)(a+b)')\n",
    "e"
   ]
  },
  {
   "cell_type": "code",
   "execution_count": 4,
   "metadata": {
    "collapsed": false
   },
   "outputs": [
    {
     "data": {
      "text/latex": [
       "$a \\, \\left(a + b\\right) \\oplus b \\, \\left(a + b\\right)$"
      ],
      "text/plain": [
       "a(a+b) + b(a+b)"
      ]
     },
     "execution_count": 4,
     "metadata": {},
     "output_type": "execute_result"
    }
   ],
   "source": [
    "e.split()"
   ]
  },
  {
   "cell_type": "code",
   "execution_count": 5,
   "metadata": {
    "collapsed": false
   },
   "outputs": [
    {
     "data": {
      "text/latex": [
       "$\\left(\\varepsilon + a\\right) \\, \\left(\\varepsilon + b\\right) \\, \\left(\\varepsilon + c\\right)$"
      ],
      "text/plain": [
       "(\\e+a)(\\e+b)(\\e+c)"
      ]
     },
     "execution_count": 5,
     "metadata": {},
     "output_type": "execute_result"
    }
   ],
   "source": [
    "e = qexp(r'a?b?c?')\n",
    "e"
   ]
  },
  {
   "cell_type": "code",
   "execution_count": 6,
   "metadata": {
    "collapsed": false
   },
   "outputs": [
    {
     "data": {
      "text/latex": [
       "$\\varepsilon \\oplus c \\oplus b \\, \\left(\\varepsilon + c\\right) \\oplus a \\, \\left(\\varepsilon + b\\right) \\, \\left(\\varepsilon + c\\right)$"
      ],
      "text/plain": [
       "\\e + c + b(\\e+c) + a(\\e+b)(\\e+c)"
      ]
     },
     "execution_count": 6,
     "metadata": {},
     "output_type": "execute_result"
    }
   ],
   "source": [
    "e.split()"
   ]
  }
 ],
 "metadata": {
  "kernelspec": {
   "display_name": "Python 3",
   "language": "python",
   "name": "python3"
  },
  "language_info": {
   "codemirror_mode": {
    "name": "ipython",
    "version": 3
   },
   "file_extension": ".py",
   "mimetype": "text/x-python",
   "name": "python",
   "nbconvert_exporter": "python",
   "pygments_lexer": "ipython3",
   "version": "3.5.2"
  }
 },
 "nbformat": 4,
 "nbformat_minor": 0
}
