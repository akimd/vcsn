{
 "cells": [
  {
   "cell_type": "markdown",
   "metadata": {},
   "source": [
    "# _`context`_`.word_context()`\n",
    "\n",
    "Return the context of the words of a context.\n",
    "\n",
    "Preconditions:\n",
    "- `none`"
   ]
  },
  {
   "cell_type": "code",
   "execution_count": 1,
   "metadata": {
    "collapsed": false,
    "scrolled": true
   },
   "outputs": [
    {
     "data": {
      "text/latex": [
       "$\\{\\ldots\\}^*\\to\\mathbb{B}$"
      ],
      "text/plain": [
       "{...}* -> B"
      ]
     },
     "execution_count": 1,
     "metadata": {},
     "output_type": "execute_result"
    }
   ],
   "source": [
    "import vcsn\n",
    "ctx = vcsn.context('lal_char, b')\n",
    "ctx.word_context() #law_char, b"
   ]
  },
  {
   "cell_type": "code",
   "execution_count": 2,
   "metadata": {
    "collapsed": false
   },
   "outputs": [
    {
     "data": {
      "text/latex": [
       "$\\{\\ldots\\}^* \\times \\{\\ldots\\}^*\\to\\mathbb{Z}_{\\text{min}}$"
      ],
      "text/plain": [
       "{...}* x {...}* -> Zmin"
      ]
     },
     "execution_count": 2,
     "metadata": {},
     "output_type": "execute_result"
    }
   ],
   "source": [
    "ctx = vcsn.context('lat<lal_char, lan_char>, zmin')\n",
    "ctx.word_context() #lat<law_char, law_char>, zmin"
   ]
  }
 ],
 "metadata": {
  "kernelspec": {
   "display_name": "Python 3",
   "language": "python",
   "name": "python3"
  },
  "language_info": {
   "codemirror_mode": {
    "name": "ipython",
    "version": 3
   },
   "file_extension": ".py",
   "mimetype": "text/x-python",
   "name": "python",
   "nbconvert_exporter": "python",
   "pygments_lexer": "ipython3",
   "version": "3.5.2"
  }
 },
 "nbformat": 4,
 "nbformat_minor": 1
}
