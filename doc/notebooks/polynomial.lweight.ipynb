{
 "cells": [
  {
   "cell_type": "markdown",
   "metadata": {},
   "source": [
    "# _`polynomial`_`.lweight(weight)`\n",
    "The left scalar product of a polynomial by a weight.\n",
    "\n",
    "See also:\n",
    "- [automaton.lweight](automaton.lweight.ipynb)\n",
    "- [polynomial.rweight](polynomial.rweight.ipynb)\n",
    "- [polynomial.multiply](polynomial.multiply.ipynb)"
   ]
  },
  {
   "cell_type": "markdown",
   "metadata": {},
   "source": [
    "## Examples"
   ]
  },
  {
   "cell_type": "code",
   "execution_count": 1,
   "metadata": {
    "collapsed": false
   },
   "outputs": [
    {
     "data": {
      "text/latex": [
       "$\\{\\ldots\\}\\to\\mathbb{Q}$"
      ],
      "text/plain": [
       "{...} -> Q"
      ]
     },
     "execution_count": 1,
     "metadata": {},
     "output_type": "execute_result"
    }
   ],
   "source": [
    "import vcsn\n",
    "c = vcsn.context('lal, q')\n",
    "c"
   ]
  },
  {
   "cell_type": "code",
   "execution_count": 2,
   "metadata": {
    "collapsed": false
   },
   "outputs": [
    {
     "data": {
      "text/latex": [
       "$\\left\\langle 2\\right\\rangle a \\oplus \\left\\langle 3\\right\\rangle b$"
      ],
      "text/plain": [
       "<2>a + <3>b"
      ]
     },
     "execution_count": 2,
     "metadata": {},
     "output_type": "execute_result"
    }
   ],
   "source": [
    "p = c.polynomial('<2>a + <3>b')\n",
    "p"
   ]
  },
  {
   "cell_type": "code",
   "execution_count": 3,
   "metadata": {
    "collapsed": false
   },
   "outputs": [
    {
     "data": {
      "text/latex": [
       "$\\left\\langle 8\\right\\rangle a \\oplus \\left\\langle 12\\right\\rangle b$"
      ],
      "text/plain": [
       "<8>a + <12>b"
      ]
     },
     "execution_count": 3,
     "metadata": {},
     "output_type": "execute_result"
    }
   ],
   "source": [
    "p.lweight(c.weight('4'))"
   ]
  },
  {
   "cell_type": "markdown",
   "metadata": {},
   "source": [
    "Instead of `p.lweight(w)`, you may write `w * p`."
   ]
  },
  {
   "cell_type": "code",
   "execution_count": 4,
   "metadata": {
    "collapsed": false
   },
   "outputs": [
    {
     "data": {
      "text/latex": [
       "$\\left\\langle 8\\right\\rangle a \\oplus \\left\\langle 12\\right\\rangle b$"
      ],
      "text/plain": [
       "<8>a + <12>b"
      ]
     },
     "execution_count": 4,
     "metadata": {},
     "output_type": "execute_result"
    }
   ],
   "source": [
    "c.weight('4') * p"
   ]
  },
  {
   "cell_type": "markdown",
   "metadata": {},
   "source": [
    "You may even run the simpler:"
   ]
  },
  {
   "cell_type": "code",
   "execution_count": 5,
   "metadata": {
    "collapsed": false
   },
   "outputs": [
    {
     "data": {
      "text/latex": [
       "$\\left\\langle 8\\right\\rangle a \\oplus \\left\\langle 12\\right\\rangle b$"
      ],
      "text/plain": [
       "<8>a + <12>b"
      ]
     },
     "execution_count": 5,
     "metadata": {},
     "output_type": "execute_result"
    }
   ],
   "source": [
    "4 * p"
   ]
  },
  {
   "cell_type": "markdown",
   "metadata": {},
   "source": [
    "### Polynomials of expressions\n",
    "In the following polynomial, note that 2 and 3 are weights in the polynomial, but 5 is a weight in the expression."
   ]
  },
  {
   "cell_type": "code",
   "execution_count": 6,
   "metadata": {
    "collapsed": false
   },
   "outputs": [
    {
     "data": {
      "text/latex": [
       "$\\mathsf{RatE}[\\{\\ldots\\}\\to\\mathbb{Q}]\\to\\mathbb{Q}$"
      ],
      "text/plain": [
       "RatE[{...} -> Q] -> Q"
      ]
     },
     "execution_count": 6,
     "metadata": {},
     "output_type": "execute_result"
    }
   ],
   "source": [
    "c = vcsn.context('expressionset<lal, q>, q')\n",
    "c"
   ]
  },
  {
   "cell_type": "code",
   "execution_count": 7,
   "metadata": {
    "collapsed": false
   },
   "outputs": [
    {
     "data": {
      "text/latex": [
       "$\\left\\langle 2\\right\\rangle {a}^{*} \\oplus \\left\\langle 3\\right\\rangle  \\left\\langle 5 \\right\\rangle \\,{b}^{*}$"
      ],
      "text/plain": [
       "<2>a* + <3><5>b*"
      ]
     },
     "execution_count": 7,
     "metadata": {},
     "output_type": "execute_result"
    }
   ],
   "source": [
    "p = c.polynomial('<2>a*') + c.polynomial('<3><5>b*')\n",
    "p"
   ]
  },
  {
   "cell_type": "code",
   "execution_count": 8,
   "metadata": {
    "collapsed": false
   },
   "outputs": [
    {
     "data": {
      "text/latex": [
       "$\\left\\langle 8\\right\\rangle {a}^{*} \\oplus \\left\\langle 12\\right\\rangle  \\left\\langle 5 \\right\\rangle \\,{b}^{*}$"
      ],
      "text/plain": [
       "<8>a* + <12><5>b*"
      ]
     },
     "execution_count": 8,
     "metadata": {},
     "output_type": "execute_result"
    }
   ],
   "source": [
    "4 * p"
   ]
  },
  {
   "cell_type": "markdown",
   "metadata": {},
   "source": [
    "This is very different from right-scalar product."
   ]
  },
  {
   "cell_type": "code",
   "execution_count": 9,
   "metadata": {
    "collapsed": false
   },
   "outputs": [
    {
     "data": {
      "text/latex": [
       "$\\left\\langle 2\\right\\rangle  \\left\\langle 4 \\right\\rangle \\,{a}^{*} \\oplus \\left\\langle 3\\right\\rangle  \\left\\langle 20 \\right\\rangle \\,{b}^{*}$"
      ],
      "text/plain": [
       "<2><4>a* + <3><20>b*"
      ]
     },
     "execution_count": 9,
     "metadata": {},
     "output_type": "execute_result"
    }
   ],
   "source": [
    "p * 4"
   ]
  }
 ],
 "metadata": {
  "kernelspec": {
   "display_name": "Python 3",
   "language": "python",
   "name": "python3"
  },
  "language_info": {
   "codemirror_mode": {
    "name": "ipython",
    "version": 3
   },
   "file_extension": ".py",
   "mimetype": "text/x-python",
   "name": "python",
   "nbconvert_exporter": "python",
   "pygments_lexer": "ipython3",
   "version": "3.5.2"
  },
  "widgets": {
   "state": {},
   "version": "1.1.2"
  }
 },
 "nbformat": 4,
 "nbformat_minor": 0
}
