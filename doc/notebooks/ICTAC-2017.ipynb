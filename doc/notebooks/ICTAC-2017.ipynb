{
 "cells": [
  {
   "cell_type": "markdown",
   "metadata": {},
   "source": [
    "# Quotient Operators for Weighted Rational Expressions\n",
    "This page is a complement to our submission to ICTAC 2017.  This page exists in several forms:\n",
    "- [A Dynamic Notebook](http://vcsn-sandbox.lrde.epita.fr/notebooks/Doc/ICTAC-2017.ipynb), which can be edited, played with\n",
    "- [A static HTML page](http://www.lrde.epita.fr/dload/vcsn/latest/notebooks/ICTAC-2017.html), whose graphical rendering is always correct.\n",
    "\n",
    "More information is available here:\n",
    "- [Documentation for _expression_.expansion](http://vcsn-sandbox.lrde.epita.fr/notebooks/Doc/expression.expansion.ipynb)\n",
    "- [Documentation for _expression_.derived_term](http://vcsn-sandbox.lrde.epita.fr/notebooks/Doc/expression.derived_term.ipynb)\n",
    "- [Documentation of Vcsn](http://vcsn-sandbox.lrde.epita.fr/notebooks/Doc/!Read-me-first.ipynb)\n",
    "- [Vcsn's web page](http://vcsn.lrde.epita.fr)\n",
    "\n",
    "You may change the cells, and run then.  To run a cell in a notebook, hit \"Control-Enter\" (in which case the focus stays on the same cell) or \"Shift-Enter\" (focus goes to the next cell).  Beware that depending on the requested operations, Vcsn may generate and compile code, which may be a really slow process on small machines (about a minute): be patient!  However, the code is compiled only once: successive uses will be way faster.\n",
    "\n",
    "To run all the cells anew, select \"Restart & Run All\" in the \"Kernel\" menu above."
   ]
  },
  {
   "cell_type": "code",
   "execution_count": 1,
   "metadata": {
    "collapsed": true
   },
   "outputs": [],
   "source": [
    "import sys\n",
    "import vcsn"
   ]
  },
  {
   "cell_type": "markdown",
   "metadata": {},
   "source": [
    "## Section 2, Notations"
   ]
  },
  {
   "cell_type": "markdown",
   "metadata": {},
   "source": [
    "First we introduce the \"context\" we are interested in: labels are letter-or-empty-word (\"lan\": labels are nullable), values are rational numbers."
   ]
  },
  {
   "cell_type": "code",
   "execution_count": 2,
   "metadata": {},
   "outputs": [
    {
     "data": {
      "text/latex": [
       "$(\\{\\ldots\\})^?\\to\\mathbb{Q}$"
      ],
      "text/plain": [
       "{...}? -> Q"
      ]
     },
     "execution_count": 2,
     "metadata": {},
     "output_type": "execute_result"
    }
   ],
   "source": [
    "Q = vcsn.context('lan, q')\n",
    "Q"
   ]
  },
  {
   "cell_type": "markdown",
   "metadata": {},
   "source": [
    "### Expressions\n",
    "The rational expressions in Vcsn supports several operators beyond the classical ones.  See [Expressions](Expressions.ipynb) for all the details.  The following examples should be self-explanatory."
   ]
  },
  {
   "cell_type": "code",
   "execution_count": 3,
   "metadata": {},
   "outputs": [
    {
     "data": {
      "text/latex": [
       "$a + b$"
      ],
      "text/plain": [
       "a+b"
      ]
     },
     "execution_count": 3,
     "metadata": {},
     "output_type": "execute_result"
    }
   ],
   "source": [
    "e1 = Q.expression('[ab]'); e1"
   ]
  },
  {
   "cell_type": "code",
   "execution_count": 4,
   "metadata": {},
   "outputs": [
    {
     "data": {
      "text/latex": [
       "$\\left(a + b\\right)^{*}$"
      ],
      "text/plain": [
       "(a+b)*"
      ]
     },
     "execution_count": 4,
     "metadata": {},
     "output_type": "execute_result"
    }
   ],
   "source": [
    "e1.star()"
   ]
  },
  {
   "cell_type": "code",
   "execution_count": 5,
   "metadata": {},
   "outputs": [
    {
     "data": {
      "text/latex": [
       "$ \\left\\langle 2 \\right\\rangle \\,\\left(a + b\\right) + \\left(a + b\\right) \\, \\left(a + b\\right)^{*}$"
      ],
      "text/plain": [
       "<2>(a+b)+(a+b)(a+b)*"
      ]
     },
     "execution_count": 5,
     "metadata": {},
     "output_type": "execute_result"
    }
   ],
   "source": [
    "2 * e1 + e1 * e1.star()"
   ]
  },
  {
   "cell_type": "markdown",
   "metadata": {},
   "source": [
    "### Expansions\n",
    "One can play with the different operations on expansions.  However, there is no direct means to enter an expansion, one has to compute the expansion of an expression."
   ]
  },
  {
   "cell_type": "code",
   "execution_count": 6,
   "metadata": {},
   "outputs": [
    {
     "data": {
      "text/latex": [
       "$a \\odot \\left[b\\right]$"
      ],
      "text/plain": [
       "a.[b]"
      ]
     },
     "execution_count": 6,
     "metadata": {},
     "output_type": "execute_result"
    }
   ],
   "source": [
    "e1 = Q.expression('ab')\n",
    "x1 = e1.expansion()\n",
    "x1"
   ]
  },
  {
   "cell_type": "code",
   "execution_count": 7,
   "metadata": {},
   "outputs": [
    {
     "data": {
      "text/latex": [
       "$\\left\\langle 1\\right\\rangle  \\oplus a \\odot \\left[\\left(a + b\\right)^{*}\\right] \\oplus b \\odot \\left[\\left(a + b\\right)^{*}\\right]$"
      ],
      "text/plain": [
       "<1> + a.[(a+b)*] + b.[(a+b)*]"
      ]
     },
     "execution_count": 7,
     "metadata": {},
     "output_type": "execute_result"
    }
   ],
   "source": [
    "e2 = Q.expression('[ab]*')\n",
    "x2 = e2.expansion()\n",
    "x2"
   ]
  },
  {
   "cell_type": "markdown",
   "metadata": {},
   "source": [
    "The left-quotient is denoted `{\\}` in the syntax of Vcsn's expressions, but we use Python's operator `//` to denote it.  So `e // f` denotes `e {\\} f`."
   ]
  },
  {
   "cell_type": "code",
   "execution_count": 8,
   "metadata": {},
   "outputs": [
    {
     "data": {
      "text/latex": [
       "$\\varepsilon \\odot \\left[a \\, b \\oplus \\left(a + b\\right)^{*} \\backslash b\\right]$"
      ],
      "text/plain": [
       "\\e.[ab + (a+b)*{\\}b]"
      ]
     },
     "execution_count": 8,
     "metadata": {},
     "output_type": "execute_result"
    }
   ],
   "source": [
    "x2 // x1"
   ]
  },
  {
   "cell_type": "code",
   "execution_count": 9,
   "metadata": {},
   "outputs": [
    {
     "data": {
      "text/latex": [
       "$\\varepsilon \\odot \\left[a \\, b \\backslash \\varepsilon \\oplus b \\backslash \\left(a + b\\right)^{*}\\right]$"
      ],
      "text/plain": [
       "\\e.[ab{\\}\\e + b{\\}(a+b)*]"
      ]
     },
     "execution_count": 9,
     "metadata": {},
     "output_type": "execute_result"
    }
   ],
   "source": [
    "x1 // x2"
   ]
  },
  {
   "cell_type": "markdown",
   "metadata": {},
   "source": [
    "### Derivative\n",
    "Although not covered in the paper, Vcsn does support the derivatives.  However, the quotient operator is not supported."
   ]
  },
  {
   "cell_type": "code",
   "execution_count": 10,
   "metadata": {},
   "outputs": [
    {
     "data": {
      "text/latex": [
       "$ \\left\\langle 2 \\right\\rangle \\,\\left(a + b\\right)^{*}$"
      ],
      "text/plain": [
       "<2>(a+b)*"
      ]
     },
     "execution_count": 10,
     "metadata": {},
     "output_type": "execute_result"
    }
   ],
   "source": [
    "e = Q.expression('<2>[ab]*')\n",
    "e"
   ]
  },
  {
   "cell_type": "code",
   "execution_count": 11,
   "metadata": {},
   "outputs": [
    {
     "data": {
      "text/latex": [
       "$2$"
      ],
      "text/plain": [
       "2"
      ]
     },
     "execution_count": 11,
     "metadata": {},
     "output_type": "execute_result"
    }
   ],
   "source": [
    "e.constant_term()"
   ]
  },
  {
   "cell_type": "code",
   "execution_count": 12,
   "metadata": {},
   "outputs": [
    {
     "data": {
      "text/latex": [
       "$\\left\\langle 2\\right\\rangle \\left(a + b\\right)^{*}$"
      ],
      "text/plain": [
       "<2>(a+b)*"
      ]
     },
     "execution_count": 12,
     "metadata": {},
     "output_type": "execute_result"
    }
   ],
   "source": [
    "e.derivation('a')"
   ]
  },
  {
   "cell_type": "code",
   "execution_count": 13,
   "metadata": {},
   "outputs": [
    {
     "data": {
      "text/latex": [
       "$\\left\\langle 2\\right\\rangle \\left(a + b\\right)^{*}$"
      ],
      "text/plain": [
       "<2>(a+b)*"
      ]
     },
     "execution_count": 13,
     "metadata": {},
     "output_type": "execute_result"
    }
   ],
   "source": [
    "e.derivation('b')"
   ]
  },
  {
   "cell_type": "markdown",
   "metadata": {},
   "source": [
    "Those three facts, constant term and derivative wrt $a$ and $b$, are fully captured by this expansion."
   ]
  },
  {
   "cell_type": "code",
   "execution_count": 14,
   "metadata": {},
   "outputs": [
    {
     "data": {
      "text/latex": [
       "$\\left\\langle 2\\right\\rangle  \\oplus a \\odot \\left[\\left\\langle 2\\right\\rangle \\left(a + b\\right)^{*}\\right] \\oplus b \\odot \\left[\\left\\langle 2\\right\\rangle \\left(a + b\\right)^{*}\\right]$"
      ],
      "text/plain": [
       "<2> + a.[<2>(a+b)*] + b.[<2>(a+b)*]"
      ]
     },
     "execution_count": 14,
     "metadata": {},
     "output_type": "execute_result"
    }
   ],
   "source": [
    "e.expansion()"
   ]
  },
  {
   "cell_type": "markdown",
   "metadata": {},
   "source": [
    "## Example $\\mathsf{E}_1$: A Simple Expression"
   ]
  },
  {
   "cell_type": "markdown",
   "metadata": {},
   "source": [
    "In Vcsn, the left-quotient is written `{\\}` (because the backslash character is used to escape operators, e.g., `\\*` denotes the letter `*`, not the Kleene star).\n",
    "The expression $\\mathsf{E}_1$ is therefore:"
   ]
  },
  {
   "cell_type": "code",
   "execution_count": 15,
   "metadata": {},
   "outputs": [
    {
     "data": {
      "text/latex": [
       "$ \\left\\langle 11 \\right\\rangle \\,\\left(a \\, {b}^{*}\\right) +  \\left\\langle 2 \\right\\rangle \\,a \\backslash \\left( \\left\\langle 3 \\right\\rangle \\,\\left(a + b\\right) +  \\left\\langle 5 \\right\\rangle \\,\\left(a \\, {a}^{*}\\right) +  \\left\\langle 7 \\right\\rangle \\,\\left(a \\, {b}^{*}\\right)\\right)$"
      ],
      "text/plain": [
       "<11>(ab*)+<2>a{\\}(<3>(a+b)+<5>(aa*)+<7>(ab*))"
      ]
     },
     "execution_count": 15,
     "metadata": {},
     "output_type": "execute_result"
    }
   ],
   "source": [
    "e1 = Q.expression('(<2>a) {\\} (<3>[ab] + <5>aa* + <7>ab*) + <11>ab*')\n",
    "e1"
   ]
  },
  {
   "cell_type": "markdown",
   "metadata": {},
   "source": [
    "Its expansion is (contrary to the paper, the empty expression is denoted $\\varepsilon$ instead of $\\mathsf{1}$):"
   ]
  },
  {
   "cell_type": "code",
   "execution_count": 16,
   "metadata": {},
   "outputs": [
    {
     "data": {
      "text/latex": [
       "$\\left\\langle 6\\right\\rangle  \\oplus \\varepsilon \\odot \\left[\\left\\langle 10\\right\\rangle {a}^{*} \\oplus \\left\\langle 14\\right\\rangle {b}^{*}\\right] \\oplus a \\odot \\left[\\left\\langle 11\\right\\rangle {b}^{*}\\right]$"
      ],
      "text/plain": [
       "<6> + \\e.[<10>a* + <14>b*] + a.[<11>b*]"
      ]
     },
     "execution_count": 16,
     "metadata": {},
     "output_type": "execute_result"
    }
   ],
   "source": [
    "e1.expansion()"
   ]
  },
  {
   "cell_type": "markdown",
   "metadata": {},
   "source": [
    "For sake of performance, the constant term is actually kept separate in our implementation of expansions.  The previous result, rewritten in the style of the paper, is exactly the same:\n",
    "\n",
    "$$\n",
    "\\left\\langle 6\\right\\rangle  \\oplus \\varepsilon \\odot \\left[\\left\\langle 10\\right\\rangle {a}^{*} \\oplus \\left\\langle 14\\right\\rangle {b}^{*}\\right] \\oplus a \\odot \\left[\\left\\langle 11\\right\\rangle {b}^{*}\\right]\n",
    "=\n",
    " \\varepsilon \\odot \\left[\n",
    "    \\left\\langle 6\\right\\rangle \\odot \\varepsilon\n",
    "    \\oplus \\left\\langle 10\\right\\rangle \\odot {a}^{*}\n",
    "    \\oplus \\left\\langle 14\\right\\rangle \\odot {b}^{*}\\right]\n",
    " \\oplus a \\odot \\left[\\left\\langle 11\\right\\rangle \\odot {b}^{*}\\right]\n",
    "$$\n",
    "\n",
    "The derived-term automaton of $\\mathsf{E}_1$, $\\mathcal{A}_{\\mathsf{E}_1}$, is:"
   ]
  },
  {
   "cell_type": "code",
   "execution_count": 17,
   "metadata": {},
   "outputs": [
    {
     "data": {
      "image/svg+xml": [
       "<?xml version=\"1.0\" encoding=\"UTF-8\" standalone=\"no\"?>\n",
       "<!DOCTYPE svg PUBLIC \"-//W3C//DTD SVG 1.1//EN\"\n",
       " \"http://www.w3.org/Graphics/SVG/1.1/DTD/svg11.dtd\">\n",
       "<!-- Generated by graphviz version 2.40.1 (20161225.0304)\n",
       " -->\n",
       "<!-- Title: %3 Pages: 1 -->\n",
       "<svg width=\"461pt\" height=\"169pt\"\n",
       " viewBox=\"0.00 0.00 461.00 168.50\" xmlns=\"http://www.w3.org/2000/svg\" xmlns:xlink=\"http://www.w3.org/1999/xlink\">\n",
       "<g id=\"graph0\" class=\"graph\" transform=\"scale(1 1) rotate(0) translate(4 164.5)\">\n",
       "<title>%3</title>\n",
       "<polygon fill=\"#ffffff\" stroke=\"transparent\" points=\"-4,4 -4,-164.5 457,-164.5 457,4 -4,4\"/>\n",
       "<!-- I0 -->\n",
       "<g id=\"node1\" class=\"node\">\n",
       "<title>I0</title>\n",
       "<ellipse fill=\"#000000\" stroke=\"#000000\" cx=\"0\" cy=\"-94.5\" rx=\"0\" ry=\"0\"/>\n",
       "</g>\n",
       "<!-- 0 -->\n",
       "<g id=\"node5\" class=\"node\">\n",
       "<title>0</title>\n",
       "<path fill=\"#98f5ff\" stroke=\"#000000\" d=\"M273.3333,-109C273.3333,-109 46.6667,-109 46.6667,-109 41.8333,-109 37,-104.1667 37,-99.3333 37,-99.3333 37,-89.6667 37,-89.6667 37,-84.8333 41.8333,-80 46.6667,-80 46.6667,-80 273.3333,-80 273.3333,-80 278.1667,-80 283,-84.8333 283,-89.6667 283,-89.6667 283,-99.3333 283,-99.3333 283,-104.1667 278.1667,-109 273.3333,-109\"/>\n",
       "<text text-anchor=\"middle\" x=\"160\" y=\"-91.4\" font-family=\"Times,serif\" font-size=\"12.00\" fill=\"#000000\">⟨11⟩(ab*)+⟨2⟩a{\\}(⟨3⟩(a+b)+⟨5⟩(aa*)+⟨7⟩(ab*))</text>\n",
       "</g>\n",
       "<!-- I0&#45;&gt;0 -->\n",
       "<g id=\"edge1\" class=\"edge\">\n",
       "<title>I0&#45;&gt;0</title>\n",
       "<path fill=\"none\" stroke=\"#000000\" d=\"M.116,-94.5C1.4252,-94.5 13.703,-94.5 30.925,-94.5\"/>\n",
       "<polygon fill=\"#000000\" stroke=\"#000000\" points=\"36.946,-94.5 30.946,-97.2001 33.946,-94.5 30.946,-94.5001 30.946,-94.5001 30.946,-94.5001 33.946,-94.5 30.946,-91.8001 36.946,-94.5 36.946,-94.5\"/>\n",
       "</g>\n",
       "<!-- F0 -->\n",
       "<g id=\"node2\" class=\"node\">\n",
       "<title>F0</title>\n",
       "<ellipse fill=\"#000000\" stroke=\"#000000\" cx=\"401.5\" cy=\"-160.5\" rx=\"0\" ry=\"0\"/>\n",
       "</g>\n",
       "<!-- F1 -->\n",
       "<g id=\"node3\" class=\"node\">\n",
       "<title>F1</title>\n",
       "<ellipse fill=\"#000000\" stroke=\"#000000\" cx=\"453\" cy=\"-94.5\" rx=\"0\" ry=\"0\"/>\n",
       "</g>\n",
       "<!-- F2 -->\n",
       "<g id=\"node4\" class=\"node\">\n",
       "<title>F2</title>\n",
       "<ellipse fill=\"#000000\" stroke=\"#000000\" cx=\"453\" cy=\"-14.5\" rx=\"0\" ry=\"0\"/>\n",
       "</g>\n",
       "<!-- 0&#45;&gt;F0 -->\n",
       "<g id=\"edge2\" class=\"edge\">\n",
       "<title>0&#45;&gt;F0</title>\n",
       "<path fill=\"none\" stroke=\"#000000\" d=\"M213.2972,-109.0657C274.8276,-125.8815 370.7636,-152.1 395.5145,-158.8642\"/>\n",
       "<polygon fill=\"#000000\" stroke=\"#000000\" points=\"401.4149,-160.4767 394.9153,-161.4994 398.521,-159.6858 395.6271,-158.8949 395.6271,-158.8949 395.6271,-158.8949 398.521,-159.6858 396.3389,-156.2904 401.4149,-160.4767 401.4149,-160.4767\"/>\n",
       "<text text-anchor=\"middle\" x=\"295.4058\" y=\"-137.7649\" font-family=\"Times,serif\" font-size=\"14.00\" fill=\"#000000\">⟨6⟩</text>\n",
       "</g>\n",
       "<!-- 1 -->\n",
       "<g id=\"node6\" class=\"node\">\n",
       "<title>1</title>\n",
       "<path fill=\"#98f5ff\" stroke=\"#000000\" d=\"M406.3333,-109C406.3333,-109 396.6667,-109 396.6667,-109 391.8333,-109 387,-104.1667 387,-99.3333 387,-99.3333 387,-89.6667 387,-89.6667 387,-84.8333 391.8333,-80 396.6667,-80 396.6667,-80 406.3333,-80 406.3333,-80 411.1667,-80 416,-84.8333 416,-89.6667 416,-89.6667 416,-99.3333 416,-99.3333 416,-104.1667 411.1667,-109 406.3333,-109\"/>\n",
       "<text text-anchor=\"middle\" x=\"401.5\" y=\"-91.4\" font-family=\"Times,serif\" font-size=\"12.00\" fill=\"#000000\">a*</text>\n",
       "</g>\n",
       "<!-- 0&#45;&gt;1 -->\n",
       "<g id=\"edge3\" class=\"edge\">\n",
       "<title>0&#45;&gt;1</title>\n",
       "<path fill=\"none\" stroke=\"#000000\" d=\"M283.23,-94.5C320.9,-94.5 358.26,-94.5 380.61,-94.5\"/>\n",
       "<polygon fill=\"#000000\" stroke=\"#000000\" points=\"386.78,-94.5 380.78,-97.2001 383.78,-94.5 380.78,-94.5001 380.78,-94.5001 380.78,-94.5001 383.78,-94.5 380.78,-91.8001 386.78,-94.5 386.78,-94.5\"/>\n",
       "<text text-anchor=\"middle\" x=\"335\" y=\"-98.3\" font-family=\"Times,serif\" font-size=\"14.00\" fill=\"#000000\">⟨10⟩ε</text>\n",
       "</g>\n",
       "<!-- 2 -->\n",
       "<g id=\"node7\" class=\"node\">\n",
       "<title>2</title>\n",
       "<path fill=\"#98f5ff\" stroke=\"#000000\" d=\"M406.3333,-29C406.3333,-29 396.6667,-29 396.6667,-29 391.8333,-29 387,-24.1667 387,-19.3333 387,-19.3333 387,-9.6667 387,-9.6667 387,-4.8333 391.8333,0 396.6667,0 396.6667,0 406.3333,0 406.3333,0 411.1667,0 416,-4.8333 416,-9.6667 416,-9.6667 416,-19.3333 416,-19.3333 416,-24.1667 411.1667,-29 406.3333,-29\"/>\n",
       "<text text-anchor=\"middle\" x=\"401.5\" y=\"-11.4\" font-family=\"Times,serif\" font-size=\"12.00\" fill=\"#000000\">b*</text>\n",
       "</g>\n",
       "<!-- 0&#45;&gt;2 -->\n",
       "<g id=\"edge4\" class=\"edge\">\n",
       "<title>0&#45;&gt;2</title>\n",
       "<path fill=\"none\" stroke=\"#000000\" d=\"M204.01,-79.92C256.57,-62.509 342.25,-34.126 381.15,-21.242\"/>\n",
       "<polygon fill=\"#000000\" stroke=\"#000000\" points=\"386.98,-19.311 382.1333,-23.7607 384.1321,-20.2543 381.2843,-21.1976 381.2843,-21.1976 381.2843,-21.1976 384.1321,-20.2543 380.4353,-18.6345 386.98,-19.311 386.98,-19.311\"/>\n",
       "<text text-anchor=\"middle\" x=\"335\" y=\"-50.3\" font-family=\"Times,serif\" font-size=\"14.00\" fill=\"#000000\">⟨14⟩ε, ⟨11⟩a</text>\n",
       "</g>\n",
       "<!-- 1&#45;&gt;F1 -->\n",
       "<g id=\"edge5\" class=\"edge\">\n",
       "<title>1&#45;&gt;F1</title>\n",
       "<path fill=\"none\" stroke=\"#000000\" d=\"M416.1201,-94.5C426.2606,-94.5 439.2527,-94.5 446.7999,-94.5\"/>\n",
       "<polygon fill=\"#000000\" stroke=\"#000000\" points=\"452.9374,-94.5 446.9375,-97.2001 449.9374,-94.5 446.9374,-94.5001 446.9374,-94.5001 446.9374,-94.5001 449.9374,-94.5 446.9374,-91.8001 452.9374,-94.5 452.9374,-94.5\"/>\n",
       "</g>\n",
       "<!-- 1&#45;&gt;1 -->\n",
       "<g id=\"edge6\" class=\"edge\">\n",
       "<title>1&#45;&gt;1</title>\n",
       "<path fill=\"none\" stroke=\"#000000\" d=\"M395.92,-109.21C394.58,-118.32 396.44,-127 401.5,-127 405.38,-127 407.37,-121.91 407.49,-115.44\"/>\n",
       "<polygon fill=\"#000000\" stroke=\"#000000\" points=\"407.08,-109.21 410.1683,-115.0197 407.2771,-112.2035 407.4741,-115.197 407.4741,-115.197 407.4741,-115.197 407.2771,-112.2035 404.7799,-115.3744 407.08,-109.21 407.08,-109.21\"/>\n",
       "<text text-anchor=\"middle\" x=\"401.5\" y=\"-130.8\" font-family=\"Times,serif\" font-size=\"14.00\" fill=\"#000000\">a</text>\n",
       "</g>\n",
       "<!-- 2&#45;&gt;F2 -->\n",
       "<g id=\"edge7\" class=\"edge\">\n",
       "<title>2&#45;&gt;F2</title>\n",
       "<path fill=\"none\" stroke=\"#000000\" d=\"M416.1201,-14.5C426.2606,-14.5 439.2527,-14.5 446.7999,-14.5\"/>\n",
       "<polygon fill=\"#000000\" stroke=\"#000000\" points=\"452.9374,-14.5 446.9375,-17.2001 449.9374,-14.5 446.9374,-14.5001 446.9374,-14.5001 446.9374,-14.5001 449.9374,-14.5 446.9374,-11.8001 452.9374,-14.5 452.9374,-14.5\"/>\n",
       "</g>\n",
       "<!-- 2&#45;&gt;2 -->\n",
       "<g id=\"edge8\" class=\"edge\">\n",
       "<title>2&#45;&gt;2</title>\n",
       "<path fill=\"none\" stroke=\"#000000\" d=\"M395.92,-29.206C394.58,-38.324 396.44,-47 401.5,-47 405.38,-47 407.37,-41.914 407.49,-35.438\"/>\n",
       "<polygon fill=\"#000000\" stroke=\"#000000\" points=\"407.08,-29.206 410.1682,-35.0158 407.277,-32.1995 407.474,-35.1931 407.474,-35.1931 407.474,-35.1931 407.277,-32.1995 404.7798,-35.3703 407.08,-29.206 407.08,-29.206\"/>\n",
       "<text text-anchor=\"middle\" x=\"401.5\" y=\"-50.8\" font-family=\"Times,serif\" font-size=\"14.00\" fill=\"#000000\">b</text>\n",
       "</g>\n",
       "</g>\n",
       "</svg>\n"
      ],
      "text/plain": [
       "expression_automaton<mutable_automaton<context<nullableset<letterset<char_letters>>, q>>>"
      ]
     },
     "execution_count": 17,
     "metadata": {},
     "output_type": "execute_result"
    }
   ],
   "source": [
    "a1 = e1.derived_term()\n",
    "a1"
   ]
  },
  {
   "cell_type": "markdown",
   "metadata": {},
   "source": [
    "## Example 5: Not all the States are Coaccessible"
   ]
  },
  {
   "cell_type": "code",
   "execution_count": 18,
   "metadata": {},
   "outputs": [
    {
     "data": {
      "text/latex": [
       "$\\left( \\left\\langle \\frac{1}{2} \\right\\rangle \\,\\left(a \\, b\\right) \\backslash a \\, {b}^{*}\\right)^{*}$"
      ],
      "text/plain": [
       "(<1/2>(ab){\\}ab*)*"
      ]
     },
     "execution_count": 18,
     "metadata": {},
     "output_type": "execute_result"
    }
   ],
   "source": [
    "e = Q.expression('(<1/2>ab {\\} ab*)*')\n",
    "e"
   ]
  },
  {
   "cell_type": "code",
   "execution_count": 19,
   "metadata": {},
   "outputs": [
    {
     "data": {
      "text/latex": [
       "$\\left\\langle 1\\right\\rangle  \\oplus \\varepsilon \\odot \\left[\\left\\langle \\frac{1}{2}\\right\\rangle \\left(b \\backslash {b}^{*}\\right) \\, \\left( \\left\\langle \\frac{1}{2} \\right\\rangle \\,\\left(a \\, b\\right) \\backslash a \\, {b}^{*}\\right)^{*}\\right]$"
      ],
      "text/plain": [
       "<1> + \\e.[<1/2>(b{\\}b*)(<1/2>(ab){\\}ab*)*]"
      ]
     },
     "execution_count": 19,
     "metadata": {},
     "output_type": "execute_result"
    }
   ],
   "source": [
    "e.expansion()"
   ]
  },
  {
   "cell_type": "code",
   "execution_count": 20,
   "metadata": {},
   "outputs": [
    {
     "data": {
      "image/svg+xml": [
       "<?xml version=\"1.0\" encoding=\"UTF-8\" standalone=\"no\"?>\n",
       "<!DOCTYPE svg PUBLIC \"-//W3C//DTD SVG 1.1//EN\"\n",
       " \"http://www.w3.org/Graphics/SVG/1.1/DTD/svg11.dtd\">\n",
       "<!-- Generated by graphviz version 2.40.1 (20161225.0304)\n",
       " -->\n",
       "<!-- Title: %3 Pages: 1 -->\n",
       "<svg width=\"617pt\" height=\"150pt\"\n",
       " viewBox=\"0.00 0.00 617.00 150.00\" xmlns=\"http://www.w3.org/2000/svg\" xmlns:xlink=\"http://www.w3.org/1999/xlink\">\n",
       "<g id=\"graph0\" class=\"graph\" transform=\"scale(1 1) rotate(0) translate(4 146)\">\n",
       "<title>%3</title>\n",
       "<polygon fill=\"#ffffff\" stroke=\"transparent\" points=\"-4,4 -4,-146 613,-146 613,4 -4,4\"/>\n",
       "<!-- I0 -->\n",
       "<g id=\"node1\" class=\"node\">\n",
       "<title>I0</title>\n",
       "<ellipse fill=\"#000000\" stroke=\"#000000\" cx=\"0\" cy=\"-73.5\" rx=\"0\" ry=\"0\"/>\n",
       "</g>\n",
       "<!-- 0 -->\n",
       "<g id=\"node4\" class=\"node\">\n",
       "<title>0</title>\n",
       "<path fill=\"#98f5ff\" stroke=\"#000000\" d=\"M133.3333,-88C133.3333,-88 46.6667,-88 46.6667,-88 41.8333,-88 37,-83.1667 37,-78.3333 37,-78.3333 37,-68.6667 37,-68.6667 37,-63.8333 41.8333,-59 46.6667,-59 46.6667,-59 133.3333,-59 133.3333,-59 138.1667,-59 143,-63.8333 143,-68.6667 143,-68.6667 143,-78.3333 143,-78.3333 143,-83.1667 138.1667,-88 133.3333,-88\"/>\n",
       "<text text-anchor=\"middle\" x=\"90\" y=\"-70.4\" font-family=\"Times,serif\" font-size=\"12.00\" fill=\"#000000\">(⟨1/2⟩(ab){\\}ab*)*</text>\n",
       "</g>\n",
       "<!-- I0&#45;&gt;0 -->\n",
       "<g id=\"edge1\" class=\"edge\">\n",
       "<title>I0&#45;&gt;0</title>\n",
       "<path fill=\"none\" stroke=\"#000000\" d=\"M.0652,-73.5C1.1082,-73.5 14.524,-73.5 30.69,-73.5\"/>\n",
       "<polygon fill=\"#000000\" stroke=\"#000000\" points=\"36.752,-73.5 30.752,-76.2001 33.752,-73.5 30.752,-73.5001 30.752,-73.5001 30.752,-73.5001 33.752,-73.5 30.752,-70.8001 36.752,-73.5 36.752,-73.5\"/>\n",
       "</g>\n",
       "<!-- F0 -->\n",
       "<g id=\"node2\" class=\"node\">\n",
       "<title>F0</title>\n",
       "<ellipse fill=\"#000000\" stroke=\"#000000\" cx=\"287.5\" cy=\"-89.5\" rx=\"0\" ry=\"0\"/>\n",
       "</g>\n",
       "<!-- F2 -->\n",
       "<g id=\"node3\" class=\"node\">\n",
       "<title>F2</title>\n",
       "<ellipse fill=\"#000000\" stroke=\"#000000\" cx=\"609\" cy=\"-94.5\" rx=\"0\" ry=\"0\"/>\n",
       "</g>\n",
       "<!-- 0&#45;&gt;F0 -->\n",
       "<g id=\"edge2\" class=\"edge\">\n",
       "<title>0&#45;&gt;F0</title>\n",
       "<path fill=\"none\" stroke=\"#000000\" d=\"M143.1862,-77.8088C192.2213,-81.7812 260.454,-87.3089 281.2436,-88.9931\"/>\n",
       "<polygon fill=\"#000000\" stroke=\"#000000\" points=\"287.4376,-89.4949 281.2391,-91.7015 284.4474,-89.2527 281.4572,-89.0104 281.4572,-89.0104 281.4572,-89.0104 284.4474,-89.2527 281.6752,-86.3192 287.4376,-89.4949 287.4376,-89.4949\"/>\n",
       "</g>\n",
       "<!-- 1 -->\n",
       "<g id=\"node5\" class=\"node\">\n",
       "<title>1</title>\n",
       "<path fill=\"#98f5ff\" stroke=\"#000000\" d=\"M351.3333,-71C351.3333,-71 223.6667,-71 223.6667,-71 218.8333,-71 214,-66.1667 214,-61.3333 214,-61.3333 214,-51.6667 214,-51.6667 214,-46.8333 218.8333,-42 223.6667,-42 223.6667,-42 351.3333,-42 351.3333,-42 356.1667,-42 361,-46.8333 361,-51.6667 361,-51.6667 361,-61.3333 361,-61.3333 361,-66.1667 356.1667,-71 351.3333,-71\"/>\n",
       "<text text-anchor=\"middle\" x=\"287.5\" y=\"-53.4\" font-family=\"Times,serif\" font-size=\"12.00\" fill=\"#000000\">(b{\\}b*)(⟨1/2⟩(ab){\\}ab*)*</text>\n",
       "</g>\n",
       "<!-- 0&#45;&gt;1 -->\n",
       "<g id=\"edge3\" class=\"edge\">\n",
       "<title>0&#45;&gt;1</title>\n",
       "<path fill=\"none\" stroke=\"#000000\" d=\"M143.38,-62.844C149.3,-61.924 155.27,-61.112 161,-60.5 176.04,-58.894 192.15,-57.862 207.65,-57.213\"/>\n",
       "<polygon fill=\"#000000\" stroke=\"#000000\" points=\"213.79,-56.974 207.8996,-59.9054 210.7923,-57.0907 207.7945,-57.2075 207.7945,-57.2075 207.7945,-57.2075 210.7923,-57.0907 207.6895,-54.5095 213.79,-56.974 213.79,-56.974\"/>\n",
       "<text text-anchor=\"middle\" x=\"178.5\" y=\"-64.3\" font-family=\"Times,serif\" font-size=\"14.00\" fill=\"#000000\">⟨1/2⟩ε</text>\n",
       "</g>\n",
       "<!-- 2 -->\n",
       "<g id=\"node6\" class=\"node\">\n",
       "<title>2</title>\n",
       "<path fill=\"#98f5ff\" stroke=\"#000000\" d=\"M551.3333,-109C551.3333,-109 452.6667,-109 452.6667,-109 447.8333,-109 443,-104.1667 443,-99.3333 443,-99.3333 443,-89.6667 443,-89.6667 443,-84.8333 447.8333,-80 452.6667,-80 452.6667,-80 551.3333,-80 551.3333,-80 556.1667,-80 561,-84.8333 561,-89.6667 561,-89.6667 561,-99.3333 561,-99.3333 561,-104.1667 556.1667,-109 551.3333,-109\"/>\n",
       "<text text-anchor=\"middle\" x=\"502\" y=\"-91.4\" font-family=\"Times,serif\" font-size=\"12.00\" fill=\"#000000\">b*(⟨1/2⟩(ab){\\}ab*)*</text>\n",
       "</g>\n",
       "<!-- 1&#45;&gt;2 -->\n",
       "<g id=\"edge4\" class=\"edge\">\n",
       "<title>1&#45;&gt;2</title>\n",
       "<path fill=\"none\" stroke=\"#000000\" d=\"M361.02,-69.524C385.61,-73.882 412.85,-78.706 436.77,-82.943\"/>\n",
       "<polygon fill=\"#000000\" stroke=\"#000000\" points=\"442.77,-84.007 436.3907,-85.6178 439.8161,-83.4831 436.8622,-82.9593 436.8622,-82.9593 436.8622,-82.9593 439.8161,-83.4831 437.3337,-80.3007 442.77,-84.007 442.77,-84.007\"/>\n",
       "<text text-anchor=\"middle\" x=\"396.5\" y=\"-82.3\" font-family=\"Times,serif\" font-size=\"14.00\" fill=\"#000000\">ε</text>\n",
       "</g>\n",
       "<!-- 3 -->\n",
       "<g id=\"node7\" class=\"node\">\n",
       "<title>3</title>\n",
       "<path fill=\"#d3d3d3\" stroke=\"#000000\" d=\"M562.3333,-29C562.3333,-29 441.6667,-29 441.6667,-29 436.8333,-29 432,-24.1667 432,-19.3333 432,-19.3333 432,-9.6667 432,-9.6667 432,-4.8333 436.8333,0 441.6667,0 441.6667,0 562.3333,0 562.3333,0 567.1667,0 572,-4.8333 572,-9.6667 572,-9.6667 572,-19.3333 572,-19.3333 572,-24.1667 567.1667,-29 562.3333,-29\"/>\n",
       "<text text-anchor=\"middle\" x=\"502\" y=\"-11.4\" font-family=\"Times,serif\" font-size=\"12.00\" fill=\"#000000\">(b{\\}ε)(⟨1/2⟩(ab){\\}ab*)*</text>\n",
       "</g>\n",
       "<!-- 1&#45;&gt;3 -->\n",
       "<g id=\"edge5\" class=\"edge\">\n",
       "<title>1&#45;&gt;3</title>\n",
       "<path fill=\"none\" stroke=\"#696969\" d=\"M327.57,-41.871C343.4,-36.603 361.87,-31.081 379,-27.5 393.94,-24.377 410.06,-21.986 425.56,-20.161\"/>\n",
       "<polygon fill=\"#696969\" stroke=\"#696969\" points=\"431.69,-19.464 426.0335,-22.8247 428.7092,-19.803 425.7284,-20.1419 425.7284,-20.1419 425.7284,-20.1419 428.7092,-19.803 425.4233,-17.4592 431.69,-19.464 431.69,-19.464\"/>\n",
       "<text text-anchor=\"middle\" x=\"396.5\" y=\"-31.3\" font-family=\"Times,serif\" font-size=\"14.00\" fill=\"#000000\">ε</text>\n",
       "</g>\n",
       "<!-- 2&#45;&gt;F2 -->\n",
       "<g id=\"edge6\" class=\"edge\">\n",
       "<title>2&#45;&gt;F2</title>\n",
       "<path fill=\"none\" stroke=\"#000000\" d=\"M561.1333,-94.5C578.1765,-94.5 594.4486,-94.5 602.9275,-94.5\"/>\n",
       "<polygon fill=\"#000000\" stroke=\"#000000\" points=\"608.9329,-94.5 602.933,-97.2001 605.9329,-94.5 602.9329,-94.5001 602.9329,-94.5001 602.9329,-94.5001 605.9329,-94.5 602.9329,-91.8001 608.9329,-94.5 608.9329,-94.5\"/>\n",
       "</g>\n",
       "<!-- 2&#45;&gt;1 -->\n",
       "<g id=\"edge7\" class=\"edge\">\n",
       "<title>2&#45;&gt;1</title>\n",
       "<path fill=\"none\" stroke=\"#000000\" d=\"M448.82,-79.993C442.96,-77.536 437.23,-74.717 432,-71.5 422.36,-65.573 424.45,-57.83 414,-53.5 399.58,-47.526 383.41,-45.099 367.59,-44.712\"/>\n",
       "<polygon fill=\"#000000\" stroke=\"#000000\" points=\"361.31,-44.662 367.3313,-42.0099 364.3099,-44.6859 367.3098,-44.7099 367.3098,-44.7099 367.3098,-44.7099 364.3099,-44.6859 367.2883,-47.4098 361.31,-44.662 361.31,-44.662\"/>\n",
       "<text text-anchor=\"middle\" x=\"396.5\" y=\"-57.3\" font-family=\"Times,serif\" font-size=\"14.00\" fill=\"#000000\">⟨1/2⟩ε</text>\n",
       "</g>\n",
       "<!-- 2&#45;&gt;2 -->\n",
       "<g id=\"edge8\" class=\"edge\">\n",
       "<title>2&#45;&gt;2</title>\n",
       "<path fill=\"none\" stroke=\"#000000\" d=\"M486.66,-109.21C482.97,-118.32 488.08,-127 502,-127 512.66,-127 518.15,-121.91 518.48,-115.44\"/>\n",
       "<polygon fill=\"#000000\" stroke=\"#000000\" points=\"517.34,-109.21 521.076,-114.626 517.88,-112.161 518.4201,-115.112 518.4201,-115.112 518.4201,-115.112 517.88,-112.161 515.7642,-115.598 517.34,-109.21 517.34,-109.21\"/>\n",
       "<text text-anchor=\"middle\" x=\"502\" y=\"-130.8\" font-family=\"Times,serif\" font-size=\"14.00\" fill=\"#000000\">b</text>\n",
       "</g>\n",
       "<!-- 3&#45;&gt;3 -->\n",
       "<g id=\"edge9\" class=\"edge\">\n",
       "<title>3&#45;&gt;3</title>\n",
       "<path fill=\"none\" stroke=\"#696969\" d=\"M486.66,-29.206C482.97,-38.324 488.08,-47 502,-47 512.66,-47 518.15,-41.914 518.48,-35.438\"/>\n",
       "<polygon fill=\"#696969\" stroke=\"#696969\" points=\"517.34,-29.206 521.0757,-34.6222 517.8799,-32.157 518.4197,-35.1081 518.4197,-35.1081 518.4197,-35.1081 517.8799,-32.157 515.7638,-35.5939 517.34,-29.206 517.34,-29.206\"/>\n",
       "<text text-anchor=\"middle\" x=\"502\" y=\"-50.8\" font-family=\"Times,serif\" font-size=\"14.00\" fill=\"#000000\">ε</text>\n",
       "</g>\n",
       "</g>\n",
       "</svg>\n"
      ],
      "text/plain": [
       "expression_automaton<mutable_automaton<context<nullableset<letterset<char_letters>>, q>>>"
      ]
     },
     "execution_count": 20,
     "metadata": {},
     "output_type": "execute_result"
    }
   ],
   "source": [
    "a = e.derived_term()\n",
    "a"
   ]
  },
  {
   "cell_type": "markdown",
   "metadata": {},
   "source": [
    "As such, this automaton in $\\mathbb{Q}$ is invalid: it contains a spontaneous loop whose weight, 1, is not starrable."
   ]
  },
  {
   "cell_type": "code",
   "execution_count": 21,
   "metadata": {},
   "outputs": [
    {
     "data": {
      "text/plain": [
       "False"
      ]
     },
     "execution_count": 21,
     "metadata": {},
     "output_type": "execute_result"
    }
   ],
   "source": [
    "a.is_valid()"
   ]
  },
  {
   "cell_type": "markdown",
   "metadata": {},
   "source": [
    "Once trimmed, it is valid though, and its spontaneous transitions may be removed."
   ]
  },
  {
   "cell_type": "code",
   "execution_count": 22,
   "metadata": {},
   "outputs": [
    {
     "data": {
      "image/svg+xml": [
       "<?xml version=\"1.0\" encoding=\"UTF-8\" standalone=\"no\"?>\n",
       "<!DOCTYPE svg PUBLIC \"-//W3C//DTD SVG 1.1//EN\"\n",
       " \"http://www.w3.org/Graphics/SVG/1.1/DTD/svg11.dtd\">\n",
       "<!-- Generated by graphviz version 2.40.1 (20161225.0304)\n",
       " -->\n",
       "<!-- Title: %3 Pages: 1 -->\n",
       "<svg width=\"595pt\" height=\"77pt\"\n",
       " viewBox=\"0.00 0.00 595.00 77.15\" xmlns=\"http://www.w3.org/2000/svg\" xmlns:xlink=\"http://www.w3.org/1999/xlink\">\n",
       "<g id=\"graph0\" class=\"graph\" transform=\"scale(1 1) rotate(0) translate(4 73.1462)\">\n",
       "<title>%3</title>\n",
       "<polygon fill=\"#ffffff\" stroke=\"transparent\" points=\"-4,4 -4,-73.1462 591,-73.1462 591,4 -4,4\"/>\n",
       "<!-- I0 -->\n",
       "<g id=\"node1\" class=\"node\">\n",
       "<title>I0</title>\n",
       "<ellipse fill=\"#000000\" stroke=\"#000000\" cx=\"0\" cy=\"-38.6462\" rx=\"0\" ry=\"0\"/>\n",
       "</g>\n",
       "<!-- 0 -->\n",
       "<g id=\"node4\" class=\"node\">\n",
       "<title>0</title>\n",
       "<path fill=\"#98f5ff\" stroke=\"#000000\" d=\"M133.3333,-53.1462C133.3333,-53.1462 46.6667,-53.1462 46.6667,-53.1462 41.8333,-53.1462 37,-48.3129 37,-43.4795 37,-43.4795 37,-33.8129 37,-33.8129 37,-28.9795 41.8333,-24.1462 46.6667,-24.1462 46.6667,-24.1462 133.3333,-24.1462 133.3333,-24.1462 138.1667,-24.1462 143,-28.9795 143,-33.8129 143,-33.8129 143,-43.4795 143,-43.4795 143,-48.3129 138.1667,-53.1462 133.3333,-53.1462\"/>\n",
       "<text text-anchor=\"middle\" x=\"90\" y=\"-35.5462\" font-family=\"Times,serif\" font-size=\"12.00\" fill=\"#000000\">(⟨1/2⟩(ab){\\}ab*)*</text>\n",
       "</g>\n",
       "<!-- I0&#45;&gt;0 -->\n",
       "<g id=\"edge1\" class=\"edge\">\n",
       "<title>I0&#45;&gt;0</title>\n",
       "<path fill=\"none\" stroke=\"#000000\" d=\"M.0652,-38.6462C1.1082,-38.6462 14.524,-38.6462 30.69,-38.6462\"/>\n",
       "<polygon fill=\"#000000\" stroke=\"#000000\" points=\"36.752,-38.6462 30.752,-41.3463 33.752,-38.6462 30.752,-38.6463 30.752,-38.6463 30.752,-38.6463 33.752,-38.6462 30.752,-35.9463 36.752,-38.6462 36.752,-38.6462\"/>\n",
       "</g>\n",
       "<!-- F0 -->\n",
       "<g id=\"node2\" class=\"node\">\n",
       "<title>F0</title>\n",
       "<ellipse fill=\"#000000\" stroke=\"#000000\" cx=\"287.5\" cy=\"-54.6462\" rx=\"0\" ry=\"0\"/>\n",
       "</g>\n",
       "<!-- F2 -->\n",
       "<g id=\"node3\" class=\"node\">\n",
       "<title>F2</title>\n",
       "<ellipse fill=\"#000000\" stroke=\"#000000\" cx=\"587\" cy=\"-21.6462\" rx=\"0\" ry=\"0\"/>\n",
       "</g>\n",
       "<!-- 0&#45;&gt;F0 -->\n",
       "<g id=\"edge2\" class=\"edge\">\n",
       "<title>0&#45;&gt;F0</title>\n",
       "<path fill=\"none\" stroke=\"#000000\" d=\"M143.1862,-42.955C192.2213,-46.9274 260.454,-52.4551 281.2436,-54.1393\"/>\n",
       "<polygon fill=\"#000000\" stroke=\"#000000\" points=\"287.4376,-54.6411 281.2391,-56.8477 284.4474,-54.3989 281.4572,-54.1566 281.4572,-54.1566 281.4572,-54.1566 284.4474,-54.3989 281.6752,-51.4654 287.4376,-54.6411 287.4376,-54.6411\"/>\n",
       "</g>\n",
       "<!-- 1 -->\n",
       "<g id=\"node5\" class=\"node\">\n",
       "<title>1</title>\n",
       "<path fill=\"#98f5ff\" stroke=\"#000000\" d=\"M351.3333,-36.1462C351.3333,-36.1462 223.6667,-36.1462 223.6667,-36.1462 218.8333,-36.1462 214,-31.3129 214,-26.4795 214,-26.4795 214,-16.8129 214,-16.8129 214,-11.9795 218.8333,-7.1462 223.6667,-7.1462 223.6667,-7.1462 351.3333,-7.1462 351.3333,-7.1462 356.1667,-7.1462 361,-11.9795 361,-16.8129 361,-16.8129 361,-26.4795 361,-26.4795 361,-31.3129 356.1667,-36.1462 351.3333,-36.1462\"/>\n",
       "<text text-anchor=\"middle\" x=\"287.5\" y=\"-18.5462\" font-family=\"Times,serif\" font-size=\"12.00\" fill=\"#000000\">(b{\\}b*)(⟨1/2⟩(ab){\\}ab*)*</text>\n",
       "</g>\n",
       "<!-- 0&#45;&gt;1 -->\n",
       "<g id=\"edge3\" class=\"edge\">\n",
       "<title>0&#45;&gt;1</title>\n",
       "<path fill=\"none\" stroke=\"#000000\" d=\"M143.38,-27.9902C149.3,-27.0702 155.27,-26.2582 161,-25.6462 176.04,-24.0402 192.15,-23.0092 207.65,-22.3592\"/>\n",
       "<polygon fill=\"#000000\" stroke=\"#000000\" points=\"213.79,-22.1202 207.8996,-25.0516 210.7923,-22.2369 207.7945,-22.3537 207.7945,-22.3537 207.7945,-22.3537 210.7923,-22.2369 207.6895,-19.6557 213.79,-22.1202 213.79,-22.1202\"/>\n",
       "<text text-anchor=\"middle\" x=\"178.5\" y=\"-29.4462\" font-family=\"Times,serif\" font-size=\"14.00\" fill=\"#000000\">⟨1/2⟩ε</text>\n",
       "</g>\n",
       "<!-- 2 -->\n",
       "<g id=\"node6\" class=\"node\">\n",
       "<title>2</title>\n",
       "<path fill=\"#98f5ff\" stroke=\"#000000\" d=\"M540.3333,-36.1462C540.3333,-36.1462 441.6667,-36.1462 441.6667,-36.1462 436.8333,-36.1462 432,-31.3129 432,-26.4795 432,-26.4795 432,-16.8129 432,-16.8129 432,-11.9795 436.8333,-7.1462 441.6667,-7.1462 441.6667,-7.1462 540.3333,-7.1462 540.3333,-7.1462 545.1667,-7.1462 550,-11.9795 550,-16.8129 550,-16.8129 550,-26.4795 550,-26.4795 550,-31.3129 545.1667,-36.1462 540.3333,-36.1462\"/>\n",
       "<text text-anchor=\"middle\" x=\"491\" y=\"-18.5462\" font-family=\"Times,serif\" font-size=\"12.00\" fill=\"#000000\">b*(⟨1/2⟩(ab){\\}ab*)*</text>\n",
       "</g>\n",
       "<!-- 1&#45;&gt;2 -->\n",
       "<g id=\"edge4\" class=\"edge\">\n",
       "<title>1&#45;&gt;2</title>\n",
       "<path fill=\"none\" stroke=\"#000000\" d=\"M361.26,-21.6462C382.38,-21.6462 405.24,-21.6462 425.81,-21.6462\"/>\n",
       "<polygon fill=\"#000000\" stroke=\"#000000\" points=\"431.83,-21.6462 425.83,-24.3463 428.83,-21.6462 425.83,-21.6463 425.83,-21.6463 425.83,-21.6463 428.83,-21.6462 425.83,-18.9463 431.83,-21.6462 431.83,-21.6462\"/>\n",
       "<text text-anchor=\"middle\" x=\"396.5\" y=\"-25.4462\" font-family=\"Times,serif\" font-size=\"14.00\" fill=\"#000000\">ε</text>\n",
       "</g>\n",
       "<!-- 2&#45;&gt;F2 -->\n",
       "<g id=\"edge5\" class=\"edge\">\n",
       "<title>2&#45;&gt;F2</title>\n",
       "<path fill=\"none\" stroke=\"#000000\" d=\"M550.1584,-21.6462C562.7179,-21.6462 574.1984,-21.6462 580.8957,-21.6462\"/>\n",
       "<polygon fill=\"#000000\" stroke=\"#000000\" points=\"586.9504,-21.6462 580.9504,-24.3463 583.9504,-21.6462 580.9504,-21.6463 580.9504,-21.6463 580.9504,-21.6463 583.9504,-21.6462 580.9503,-18.9463 586.9504,-21.6462 586.9504,-21.6462\"/>\n",
       "</g>\n",
       "<!-- 2&#45;&gt;1 -->\n",
       "<g id=\"edge6\" class=\"edge\">\n",
       "<title>2&#45;&gt;1</title>\n",
       "<path fill=\"none\" stroke=\"#000000\" d=\"M439.55,-7.1326C431.07,-5.269 422.34,-3.6598 414,-2.6463 392.23,0 368.43,-2.2226 347.41,-5.9514\"/>\n",
       "<polygon fill=\"#000000\" stroke=\"#000000\" points=\"341.27,-7.0965 346.6733,-3.3422 344.2192,-6.5464 347.1683,-5.9964 347.1683,-5.9964 347.1683,-5.9964 344.2192,-6.5464 347.6633,-8.6506 341.27,-7.0965 341.27,-7.0965\"/>\n",
       "<text text-anchor=\"middle\" x=\"396.5\" y=\"-6.4463\" font-family=\"Times,serif\" font-size=\"14.00\" fill=\"#000000\">⟨1/2⟩ε</text>\n",
       "</g>\n",
       "<!-- 2&#45;&gt;2 -->\n",
       "<g id=\"edge7\" class=\"edge\">\n",
       "<title>2&#45;&gt;2</title>\n",
       "<path fill=\"none\" stroke=\"#000000\" d=\"M477.76,-36.3532C474.56,-45.4702 478.98,-54.1462 491,-54.1462 500.21,-54.1462 504.95,-49.0602 505.24,-42.5842\"/>\n",
       "<polygon fill=\"#000000\" stroke=\"#000000\" points=\"504.24,-36.3532 507.8567,-41.8495 504.7154,-39.3153 505.1908,-42.2774 505.1908,-42.2774 505.1908,-42.2774 504.7154,-39.3153 502.525,-42.7053 504.24,-36.3532 504.24,-36.3532\"/>\n",
       "<text text-anchor=\"middle\" x=\"491\" y=\"-57.9462\" font-family=\"Times,serif\" font-size=\"14.00\" fill=\"#000000\">b</text>\n",
       "</g>\n",
       "</g>\n",
       "</svg>\n"
      ],
      "text/plain": [
       "filter_automaton<expression_automaton<mutable_automaton<context<nullableset<letterset<char_letters>>, q>>>>"
      ]
     },
     "execution_count": 22,
     "metadata": {},
     "output_type": "execute_result"
    }
   ],
   "source": [
    "a.trim()"
   ]
  },
  {
   "cell_type": "code",
   "execution_count": 23,
   "metadata": {},
   "outputs": [
    {
     "data": {
      "image/svg+xml": [
       "<?xml version=\"1.0\" encoding=\"UTF-8\" standalone=\"no\"?>\n",
       "<!DOCTYPE svg PUBLIC \"-//W3C//DTD SVG 1.1//EN\"\n",
       " \"http://www.w3.org/Graphics/SVG/1.1/DTD/svg11.dtd\">\n",
       "<!-- Generated by graphviz version 2.40.1 (20161225.0304)\n",
       " -->\n",
       "<!-- Title: %3 Pages: 1 -->\n",
       "<svg width=\"211pt\" height=\"89pt\"\n",
       " viewBox=\"0.00 0.00 211.00 88.54\" xmlns=\"http://www.w3.org/2000/svg\" xmlns:xlink=\"http://www.w3.org/1999/xlink\">\n",
       "<g id=\"graph0\" class=\"graph\" transform=\"scale(1 1) rotate(0) translate(4 84.544)\">\n",
       "<title>%3</title>\n",
       "<polygon fill=\"#ffffff\" stroke=\"transparent\" points=\"-4,4 -4,-84.544 207,-84.544 207,4 -4,4\"/>\n",
       "<!-- I0 -->\n",
       "<g id=\"node1\" class=\"node\">\n",
       "<title>I0</title>\n",
       "<ellipse fill=\"#000000\" stroke=\"#000000\" cx=\"0\" cy=\"-47.5\" rx=\"0\" ry=\"0\"/>\n",
       "</g>\n",
       "<!-- 0 -->\n",
       "<g id=\"node4\" class=\"node\">\n",
       "<title>0</title>\n",
       "<ellipse fill=\"#98f5ff\" stroke=\"#000000\" cx=\"51.5\" cy=\"-47.5\" rx=\"14.5\" ry=\"14.5\"/>\n",
       "<text text-anchor=\"middle\" x=\"51.5\" y=\"-44.4\" font-family=\"Times,serif\" font-size=\"12.00\" fill=\"#000000\">0</text>\n",
       "</g>\n",
       "<!-- I0&#45;&gt;0 -->\n",
       "<g id=\"edge1\" class=\"edge\">\n",
       "<title>I0&#45;&gt;0</title>\n",
       "<path fill=\"none\" stroke=\"#000000\" d=\"M.1477,-47.5C1.8156,-47.5 17.298,-47.5 30.83,-47.5\"/>\n",
       "<polygon fill=\"#000000\" stroke=\"#000000\" points=\"36.854,-47.5 30.854,-50.2001 33.854,-47.5 30.854,-47.5001 30.854,-47.5001 30.854,-47.5001 33.854,-47.5 30.854,-44.8001 36.854,-47.5 36.854,-47.5\"/>\n",
       "</g>\n",
       "<!-- F0 -->\n",
       "<g id=\"node2\" class=\"node\">\n",
       "<title>F0</title>\n",
       "<ellipse fill=\"#000000\" stroke=\"#000000\" cx=\"134.5\" cy=\"-80.5\" rx=\"0\" ry=\"0\"/>\n",
       "</g>\n",
       "<!-- F1 -->\n",
       "<g id=\"node3\" class=\"node\">\n",
       "<title>F1</title>\n",
       "<ellipse fill=\"#000000\" stroke=\"#000000\" cx=\"203\" cy=\"-14.5\" rx=\"0\" ry=\"0\"/>\n",
       "</g>\n",
       "<!-- 0&#45;&gt;F0 -->\n",
       "<g id=\"edge2\" class=\"edge\">\n",
       "<title>0&#45;&gt;F0</title>\n",
       "<path fill=\"none\" stroke=\"#000000\" d=\"M65.2058,-52.9493C83.5829,-60.2559 115.4176,-72.913 128.5609,-78.1387\"/>\n",
       "<polygon fill=\"#000000\" stroke=\"#000000\" points=\"134.3681,-80.4476 127.7951,-80.7397 131.5804,-79.3392 128.7926,-78.2308 128.7926,-78.2308 128.7926,-78.2308 131.5804,-79.3392 129.7902,-75.7218 134.3681,-80.4476 134.3681,-80.4476\"/>\n",
       "<text text-anchor=\"middle\" x=\"87.8833\" y=\"-69.344\" font-family=\"Times,serif\" font-size=\"14.00\" fill=\"#000000\">⟨2⟩</text>\n",
       "</g>\n",
       "<!-- 1 -->\n",
       "<g id=\"node5\" class=\"node\">\n",
       "<title>1</title>\n",
       "<ellipse fill=\"#98f5ff\" stroke=\"#000000\" cx=\"134.5\" cy=\"-14.5\" rx=\"14.5\" ry=\"14.5\"/>\n",
       "<text text-anchor=\"middle\" x=\"134.5\" y=\"-11.4\" font-family=\"Times,serif\" font-size=\"12.00\" fill=\"#000000\">1</text>\n",
       "</g>\n",
       "<!-- 0&#45;&gt;1 -->\n",
       "<g id=\"edge3\" class=\"edge\">\n",
       "<title>0&#45;&gt;1</title>\n",
       "<path fill=\"none\" stroke=\"#000000\" d=\"M65.206,-42.051C78.782,-36.653 99.703,-28.335 115.01,-22.25\"/>\n",
       "<polygon fill=\"#000000\" stroke=\"#000000\" points=\"120.77,-19.957 116.1941,-24.6848 117.9827,-21.0666 115.1955,-22.1762 115.1955,-22.1762 115.1955,-22.1762 117.9827,-21.0666 114.1968,-19.6677 120.77,-19.957 120.77,-19.957\"/>\n",
       "<text text-anchor=\"middle\" x=\"93\" y=\"-38.3\" font-family=\"Times,serif\" font-size=\"14.00\" fill=\"#000000\">b</text>\n",
       "</g>\n",
       "<!-- 1&#45;&gt;F1 -->\n",
       "<g id=\"edge4\" class=\"edge\">\n",
       "<title>1&#45;&gt;F1</title>\n",
       "<path fill=\"none\" stroke=\"#000000\" d=\"M149.0271,-14.5C163.7887,-14.5 185.965,-14.5 196.7135,-14.5\"/>\n",
       "<polygon fill=\"#000000\" stroke=\"#000000\" points=\"202.9022,-14.5 196.9023,-17.2001 199.9022,-14.5 196.9022,-14.5001 196.9022,-14.5001 196.9022,-14.5001 199.9022,-14.5 196.9022,-11.8001 202.9022,-14.5 202.9022,-14.5\"/>\n",
       "<text text-anchor=\"middle\" x=\"163.8703\" y=\"-18.3\" font-family=\"Times,serif\" font-size=\"14.00\" fill=\"#000000\">⟨2⟩</text>\n",
       "</g>\n",
       "<!-- 1&#45;&gt;1 -->\n",
       "<g id=\"edge5\" class=\"edge\">\n",
       "<title>1&#45;&gt;1</title>\n",
       "<path fill=\"none\" stroke=\"#000000\" d=\"M127.89,-27.515C125.58,-37.219 127.78,-47 134.5,-47 139.75,-47 142.24,-41.03 141.98,-33.791\"/>\n",
       "<polygon fill=\"#000000\" stroke=\"#000000\" points=\"141.11,-27.515 144.6084,-33.0874 141.522,-30.4866 141.9339,-33.4582 141.9339,-33.4582 141.9339,-33.4582 141.522,-30.4866 139.2595,-33.8289 141.11,-27.515 141.11,-27.515\"/>\n",
       "<text text-anchor=\"middle\" x=\"134.5\" y=\"-50.8\" font-family=\"Times,serif\" font-size=\"14.00\" fill=\"#000000\">⟨2⟩b</text>\n",
       "</g>\n",
       "</g>\n",
       "</svg>\n"
      ],
      "text/plain": [
       "mutable_automaton<context<letterset<char_letters>, q>>"
      ]
     },
     "execution_count": 23,
     "metadata": {},
     "output_type": "execute_result"
    }
   ],
   "source": [
    "a.trim().proper()"
   ]
  },
  {
   "cell_type": "markdown",
   "metadata": {},
   "source": [
    "A (basic) rational expression is therefore:"
   ]
  },
  {
   "cell_type": "code",
   "execution_count": 24,
   "metadata": {},
   "outputs": [
    {
     "data": {
      "text/latex": [
       "$ \\left\\langle 2 \\right\\rangle \\,\\varepsilon +  \\left\\langle 2 \\right\\rangle \\,\\left(b \\, \\left( \\left\\langle 2 \\right\\rangle \\,b\\right)^{*}\\right)$"
      ],
      "text/plain": [
       "<2>\\e+<2>(b(<2>b)*)"
      ]
     },
     "execution_count": 24,
     "metadata": {},
     "output_type": "execute_result"
    }
   ],
   "source": [
    "a.trim().proper().expression()"
   ]
  },
  {
   "cell_type": "markdown",
   "metadata": {},
   "source": [
    "## Example 6\n",
    "The following expression in invalid in $\\mathbb{Q}$, but valid in $\\mathbb{B}$."
   ]
  },
  {
   "cell_type": "code",
   "execution_count": 25,
   "metadata": {},
   "outputs": [
    {
     "data": {
      "image/svg+xml": [
       "<?xml version=\"1.0\" encoding=\"UTF-8\" standalone=\"no\"?>\n",
       "<!DOCTYPE svg PUBLIC \"-//W3C//DTD SVG 1.1//EN\"\n",
       " \"http://www.w3.org/Graphics/SVG/1.1/DTD/svg11.dtd\">\n",
       "<!-- Generated by graphviz version 2.40.1 (20161225.0304)\n",
       " -->\n",
       "<!-- Title: %3 Pages: 1 -->\n",
       "<svg width=\"296pt\" height=\"89pt\"\n",
       " viewBox=\"0.00 0.00 296.00 88.50\" xmlns=\"http://www.w3.org/2000/svg\" xmlns:xlink=\"http://www.w3.org/1999/xlink\">\n",
       "<g id=\"graph0\" class=\"graph\" transform=\"scale(1 1) rotate(0) translate(4 84.5)\">\n",
       "<title>%3</title>\n",
       "<polygon fill=\"#ffffff\" stroke=\"transparent\" points=\"-4,4 -4,-84.5 292,-84.5 292,4 -4,4\"/>\n",
       "<!-- I0 -->\n",
       "<g id=\"node1\" class=\"node\">\n",
       "<title>I0</title>\n",
       "<ellipse fill=\"#000000\" stroke=\"#000000\" cx=\"0\" cy=\"-47.5\" rx=\"0\" ry=\"0\"/>\n",
       "</g>\n",
       "<!-- 0 -->\n",
       "<g id=\"node4\" class=\"node\">\n",
       "<title>0</title>\n",
       "<path fill=\"#98f5ff\" stroke=\"#000000\" d=\"M95.3333,-62C95.3333,-62 46.6667,-62 46.6667,-62 41.8333,-62 37,-57.1667 37,-52.3333 37,-52.3333 37,-42.6667 37,-42.6667 37,-37.8333 41.8333,-33 46.6667,-33 46.6667,-33 95.3333,-33 95.3333,-33 100.1667,-33 105,-37.8333 105,-42.6667 105,-42.6667 105,-52.3333 105,-52.3333 105,-57.1667 100.1667,-62 95.3333,-62\"/>\n",
       "<text text-anchor=\"middle\" x=\"71\" y=\"-44.4\" font-family=\"Times,serif\" font-size=\"12.00\" fill=\"#000000\">(ab{\\}ab)*</text>\n",
       "</g>\n",
       "<!-- I0&#45;&gt;0 -->\n",
       "<g id=\"edge1\" class=\"edge\">\n",
       "<title>I0&#45;&gt;0</title>\n",
       "<path fill=\"none\" stroke=\"#000000\" d=\"M.0515,-47.5C1.0079,-47.5 15.154,-47.5 30.565,-47.5\"/>\n",
       "<polygon fill=\"#000000\" stroke=\"#000000\" points=\"36.741,-47.5 30.741,-50.2001 33.741,-47.5 30.741,-47.5001 30.741,-47.5001 30.741,-47.5001 33.741,-47.5 30.741,-44.8001 36.741,-47.5 36.741,-47.5\"/>\n",
       "</g>\n",
       "<!-- F0 -->\n",
       "<g id=\"node2\" class=\"node\">\n",
       "<title>F0</title>\n",
       "<ellipse fill=\"#000000\" stroke=\"#000000\" cx=\"199.5\" cy=\"-80.5\" rx=\"0\" ry=\"0\"/>\n",
       "</g>\n",
       "<!-- F1 -->\n",
       "<g id=\"node3\" class=\"node\">\n",
       "<title>F1</title>\n",
       "<ellipse fill=\"#000000\" stroke=\"#000000\" cx=\"288\" cy=\"-14.5\" rx=\"0\" ry=\"0\"/>\n",
       "</g>\n",
       "<!-- 0&#45;&gt;F0 -->\n",
       "<g id=\"edge2\" class=\"edge\">\n",
       "<title>0&#45;&gt;F0</title>\n",
       "<path fill=\"none\" stroke=\"#000000\" d=\"M105.0983,-56.2568C135.6388,-64.0998 177.9341,-74.9617 193.4679,-78.9509\"/>\n",
       "<polygon fill=\"#000000\" stroke=\"#000000\" points=\"199.3372,-80.4582 192.8542,-81.5808 196.4315,-79.712 193.5258,-78.9657 193.5258,-78.9657 193.5258,-78.9657 196.4315,-79.712 194.1974,-76.3506 199.3372,-80.4582 199.3372,-80.4582\"/>\n",
       "</g>\n",
       "<!-- 1 -->\n",
       "<g id=\"node5\" class=\"node\">\n",
       "<title>1</title>\n",
       "<path fill=\"#98f5ff\" stroke=\"#000000\" d=\"M241.3333,-29C241.3333,-29 157.6667,-29 157.6667,-29 152.8333,-29 148,-24.1667 148,-19.3333 148,-19.3333 148,-9.6667 148,-9.6667 148,-4.8333 152.8333,0 157.6667,0 157.6667,0 241.3333,0 241.3333,0 246.1667,0 251,-4.8333 251,-9.6667 251,-9.6667 251,-19.3333 251,-19.3333 251,-24.1667 246.1667,-29 241.3333,-29\"/>\n",
       "<text text-anchor=\"middle\" x=\"199.5\" y=\"-11.4\" font-family=\"Times,serif\" font-size=\"12.00\" fill=\"#000000\">(b{\\}b)(ab{\\}ab)*</text>\n",
       "</g>\n",
       "<!-- 0&#45;&gt;1 -->\n",
       "<g id=\"edge3\" class=\"edge\">\n",
       "<title>0&#45;&gt;1</title>\n",
       "<path fill=\"none\" stroke=\"#000000\" d=\"M105.1,-38.743C116.34,-35.855 129.18,-32.558 141.69,-29.345\"/>\n",
       "<polygon fill=\"#000000\" stroke=\"#000000\" points=\"147.8,-27.777 142.6595,-31.8838 144.8942,-28.5228 141.9883,-29.2685 141.9883,-29.2685 141.9883,-29.2685 144.8942,-28.5228 141.3171,-26.6533 147.8,-27.777 147.8,-27.777\"/>\n",
       "<text text-anchor=\"middle\" x=\"126.5\" y=\"-38.3\" font-family=\"Times,serif\" font-size=\"14.00\" fill=\"#000000\">ε</text>\n",
       "</g>\n",
       "<!-- 1&#45;&gt;F1 -->\n",
       "<g id=\"edge4\" class=\"edge\">\n",
       "<title>1&#45;&gt;F1</title>\n",
       "<path fill=\"none\" stroke=\"#000000\" d=\"M251.2369,-14.5C263.5492,-14.5 275.0651,-14.5 281.8209,-14.5\"/>\n",
       "<polygon fill=\"#000000\" stroke=\"#000000\" points=\"287.9495,-14.5 281.9495,-17.2001 284.9495,-14.5 281.9495,-14.5001 281.9495,-14.5001 281.9495,-14.5001 284.9495,-14.5 281.9495,-11.8001 287.9495,-14.5 287.9495,-14.5\"/>\n",
       "</g>\n",
       "<!-- 1&#45;&gt;1 -->\n",
       "<g id=\"edge5\" class=\"edge\">\n",
       "<title>1&#45;&gt;1</title>\n",
       "<path fill=\"none\" stroke=\"#000000\" d=\"M187.3,-29.206C184.36,-38.324 188.43,-47 199.5,-47 207.98,-47 212.35,-41.914 212.61,-35.438\"/>\n",
       "<polygon fill=\"#000000\" stroke=\"#000000\" points=\"211.7,-29.206 215.2387,-34.7529 212.1335,-32.1745 212.567,-35.143 212.567,-35.143 212.567,-35.143 212.1335,-32.1745 209.8953,-35.5332 211.7,-29.206 211.7,-29.206\"/>\n",
       "<text text-anchor=\"middle\" x=\"199.5\" y=\"-50.8\" font-family=\"Times,serif\" font-size=\"14.00\" fill=\"#000000\">ε</text>\n",
       "</g>\n",
       "</g>\n",
       "</svg>\n"
      ],
      "text/plain": [
       "expression_automaton<mutable_automaton<context<nullableset<letterset<char_letters>>, q>>>"
      ]
     },
     "execution_count": 25,
     "metadata": {},
     "output_type": "execute_result"
    }
   ],
   "source": [
    "e = Q.expression('(ab {\\} ab)*')\n",
    "a = e.derived_term()\n",
    "a"
   ]
  },
  {
   "cell_type": "code",
   "execution_count": 26,
   "metadata": {},
   "outputs": [
    {
     "data": {
      "text/plain": [
       "False"
      ]
     },
     "execution_count": 26,
     "metadata": {},
     "output_type": "execute_result"
    }
   ],
   "source": [
    "a.is_valid()"
   ]
  },
  {
   "cell_type": "markdown",
   "metadata": {},
   "source": [
    "This is because the weight of the spontaneous cycle, 1, is not starrable:"
   ]
  },
  {
   "cell_type": "code",
   "execution_count": 27,
   "metadata": {},
   "outputs": [
    {
     "data": {
      "text/latex": [
       "$1$"
      ],
      "text/plain": [
       "1"
      ]
     },
     "execution_count": 27,
     "metadata": {},
     "output_type": "execute_result"
    }
   ],
   "source": [
    "w = Q.weight('1')\n",
    "w"
   ]
  },
  {
   "cell_type": "code",
   "execution_count": 28,
   "metadata": {},
   "outputs": [
    {
     "name": "stderr",
     "output_type": "stream",
     "text": [
      "Q: value is not starrable: 1\n"
     ]
    }
   ],
   "source": [
    "try:\n",
    "    w.star()\n",
    "except RuntimeError as e:\n",
    "    print(e, file=sys.stderr)"
   ]
  },
  {
   "cell_type": "markdown",
   "metadata": {},
   "source": [
    "But in $\\mathbb{B}$, it is well defined (Vcsn uses $\\top$ to denote True, and $\\bot$ for False):"
   ]
  },
  {
   "cell_type": "code",
   "execution_count": 29,
   "metadata": {},
   "outputs": [
    {
     "data": {
      "text/latex": [
       "$(\\{\\ldots\\})^?\\to\\mathbb{B}$"
      ],
      "text/plain": [
       "{...}? -> B"
      ]
     },
     "execution_count": 29,
     "metadata": {},
     "output_type": "execute_result"
    }
   ],
   "source": [
    "B = vcsn.context('lan, b')\n",
    "B"
   ]
  },
  {
   "cell_type": "code",
   "execution_count": 30,
   "metadata": {},
   "outputs": [
    {
     "data": {
      "text/latex": [
       "$\\top$"
      ],
      "text/plain": [
       "1"
      ]
     },
     "execution_count": 30,
     "metadata": {},
     "output_type": "execute_result"
    }
   ],
   "source": [
    "w = B.weight('1')\n",
    "w"
   ]
  },
  {
   "cell_type": "code",
   "execution_count": 31,
   "metadata": {},
   "outputs": [
    {
     "data": {
      "text/latex": [
       "$\\top$"
      ],
      "text/plain": [
       "1"
      ]
     },
     "execution_count": 31,
     "metadata": {},
     "output_type": "execute_result"
    }
   ],
   "source": [
    "w.star()"
   ]
  },
  {
   "cell_type": "markdown",
   "metadata": {},
   "source": [
    "Hence the automaton is valid."
   ]
  },
  {
   "cell_type": "code",
   "execution_count": 32,
   "metadata": {},
   "outputs": [
    {
     "data": {
      "image/svg+xml": [
       "<?xml version=\"1.0\" encoding=\"UTF-8\" standalone=\"no\"?>\n",
       "<!DOCTYPE svg PUBLIC \"-//W3C//DTD SVG 1.1//EN\"\n",
       " \"http://www.w3.org/Graphics/SVG/1.1/DTD/svg11.dtd\">\n",
       "<!-- Generated by graphviz version 2.40.1 (20161225.0304)\n",
       " -->\n",
       "<!-- Title: %3 Pages: 1 -->\n",
       "<svg width=\"296pt\" height=\"89pt\"\n",
       " viewBox=\"0.00 0.00 296.00 88.50\" xmlns=\"http://www.w3.org/2000/svg\" xmlns:xlink=\"http://www.w3.org/1999/xlink\">\n",
       "<g id=\"graph0\" class=\"graph\" transform=\"scale(1 1) rotate(0) translate(4 84.5)\">\n",
       "<title>%3</title>\n",
       "<polygon fill=\"#ffffff\" stroke=\"transparent\" points=\"-4,4 -4,-84.5 292,-84.5 292,4 -4,4\"/>\n",
       "<!-- I0 -->\n",
       "<g id=\"node1\" class=\"node\">\n",
       "<title>I0</title>\n",
       "<ellipse fill=\"#000000\" stroke=\"#000000\" cx=\"0\" cy=\"-47.5\" rx=\"0\" ry=\"0\"/>\n",
       "</g>\n",
       "<!-- 0 -->\n",
       "<g id=\"node4\" class=\"node\">\n",
       "<title>0</title>\n",
       "<path fill=\"#98f5ff\" stroke=\"#000000\" d=\"M95.3333,-62C95.3333,-62 46.6667,-62 46.6667,-62 41.8333,-62 37,-57.1667 37,-52.3333 37,-52.3333 37,-42.6667 37,-42.6667 37,-37.8333 41.8333,-33 46.6667,-33 46.6667,-33 95.3333,-33 95.3333,-33 100.1667,-33 105,-37.8333 105,-42.6667 105,-42.6667 105,-52.3333 105,-52.3333 105,-57.1667 100.1667,-62 95.3333,-62\"/>\n",
       "<text text-anchor=\"middle\" x=\"71\" y=\"-44.4\" font-family=\"Times,serif\" font-size=\"12.00\" fill=\"#000000\">(ab{\\}ab)*</text>\n",
       "</g>\n",
       "<!-- I0&#45;&gt;0 -->\n",
       "<g id=\"edge1\" class=\"edge\">\n",
       "<title>I0&#45;&gt;0</title>\n",
       "<path fill=\"none\" stroke=\"#000000\" d=\"M.0515,-47.5C1.0079,-47.5 15.154,-47.5 30.565,-47.5\"/>\n",
       "<polygon fill=\"#000000\" stroke=\"#000000\" points=\"36.741,-47.5 30.741,-50.2001 33.741,-47.5 30.741,-47.5001 30.741,-47.5001 30.741,-47.5001 33.741,-47.5 30.741,-44.8001 36.741,-47.5 36.741,-47.5\"/>\n",
       "</g>\n",
       "<!-- F0 -->\n",
       "<g id=\"node2\" class=\"node\">\n",
       "<title>F0</title>\n",
       "<ellipse fill=\"#000000\" stroke=\"#000000\" cx=\"199.5\" cy=\"-80.5\" rx=\"0\" ry=\"0\"/>\n",
       "</g>\n",
       "<!-- F1 -->\n",
       "<g id=\"node3\" class=\"node\">\n",
       "<title>F1</title>\n",
       "<ellipse fill=\"#000000\" stroke=\"#000000\" cx=\"288\" cy=\"-14.5\" rx=\"0\" ry=\"0\"/>\n",
       "</g>\n",
       "<!-- 0&#45;&gt;F0 -->\n",
       "<g id=\"edge2\" class=\"edge\">\n",
       "<title>0&#45;&gt;F0</title>\n",
       "<path fill=\"none\" stroke=\"#000000\" d=\"M105.0983,-56.2568C135.6388,-64.0998 177.9341,-74.9617 193.4679,-78.9509\"/>\n",
       "<polygon fill=\"#000000\" stroke=\"#000000\" points=\"199.3372,-80.4582 192.8542,-81.5808 196.4315,-79.712 193.5258,-78.9657 193.5258,-78.9657 193.5258,-78.9657 196.4315,-79.712 194.1974,-76.3506 199.3372,-80.4582 199.3372,-80.4582\"/>\n",
       "</g>\n",
       "<!-- 1 -->\n",
       "<g id=\"node5\" class=\"node\">\n",
       "<title>1</title>\n",
       "<path fill=\"#98f5ff\" stroke=\"#000000\" d=\"M241.3333,-29C241.3333,-29 157.6667,-29 157.6667,-29 152.8333,-29 148,-24.1667 148,-19.3333 148,-19.3333 148,-9.6667 148,-9.6667 148,-4.8333 152.8333,0 157.6667,0 157.6667,0 241.3333,0 241.3333,0 246.1667,0 251,-4.8333 251,-9.6667 251,-9.6667 251,-19.3333 251,-19.3333 251,-24.1667 246.1667,-29 241.3333,-29\"/>\n",
       "<text text-anchor=\"middle\" x=\"199.5\" y=\"-11.4\" font-family=\"Times,serif\" font-size=\"12.00\" fill=\"#000000\">(b{\\}b)(ab{\\}ab)*</text>\n",
       "</g>\n",
       "<!-- 0&#45;&gt;1 -->\n",
       "<g id=\"edge3\" class=\"edge\">\n",
       "<title>0&#45;&gt;1</title>\n",
       "<path fill=\"none\" stroke=\"#000000\" d=\"M105.1,-38.743C116.34,-35.855 129.18,-32.558 141.69,-29.345\"/>\n",
       "<polygon fill=\"#000000\" stroke=\"#000000\" points=\"147.8,-27.777 142.6595,-31.8838 144.8942,-28.5228 141.9883,-29.2685 141.9883,-29.2685 141.9883,-29.2685 144.8942,-28.5228 141.3171,-26.6533 147.8,-27.777 147.8,-27.777\"/>\n",
       "<text text-anchor=\"middle\" x=\"126.5\" y=\"-38.3\" font-family=\"Times,serif\" font-size=\"14.00\" fill=\"#000000\">ε</text>\n",
       "</g>\n",
       "<!-- 1&#45;&gt;F1 -->\n",
       "<g id=\"edge4\" class=\"edge\">\n",
       "<title>1&#45;&gt;F1</title>\n",
       "<path fill=\"none\" stroke=\"#000000\" d=\"M251.2369,-14.5C263.5492,-14.5 275.0651,-14.5 281.8209,-14.5\"/>\n",
       "<polygon fill=\"#000000\" stroke=\"#000000\" points=\"287.9495,-14.5 281.9495,-17.2001 284.9495,-14.5 281.9495,-14.5001 281.9495,-14.5001 281.9495,-14.5001 284.9495,-14.5 281.9495,-11.8001 287.9495,-14.5 287.9495,-14.5\"/>\n",
       "</g>\n",
       "<!-- 1&#45;&gt;1 -->\n",
       "<g id=\"edge5\" class=\"edge\">\n",
       "<title>1&#45;&gt;1</title>\n",
       "<path fill=\"none\" stroke=\"#000000\" d=\"M187.3,-29.206C184.36,-38.324 188.43,-47 199.5,-47 207.98,-47 212.35,-41.914 212.61,-35.438\"/>\n",
       "<polygon fill=\"#000000\" stroke=\"#000000\" points=\"211.7,-29.206 215.2387,-34.7529 212.1335,-32.1745 212.567,-35.143 212.567,-35.143 212.567,-35.143 212.1335,-32.1745 209.8953,-35.5332 211.7,-29.206 211.7,-29.206\"/>\n",
       "<text text-anchor=\"middle\" x=\"199.5\" y=\"-50.8\" font-family=\"Times,serif\" font-size=\"14.00\" fill=\"#000000\">ε</text>\n",
       "</g>\n",
       "</g>\n",
       "</svg>\n"
      ],
      "text/plain": [
       "expression_automaton<mutable_automaton<context<nullableset<letterset<char_letters>>, b>>>"
      ]
     },
     "execution_count": 32,
     "metadata": {},
     "output_type": "execute_result"
    }
   ],
   "source": [
    "e = B.expression('(ab {\\} ab)*')\n",
    "a = e.derived_term()\n",
    "a"
   ]
  },
  {
   "cell_type": "code",
   "execution_count": 33,
   "metadata": {},
   "outputs": [
    {
     "data": {
      "text/plain": [
       "True"
      ]
     },
     "execution_count": 33,
     "metadata": {},
     "output_type": "execute_result"
    }
   ],
   "source": [
    "a.is_valid()"
   ]
  },
  {
   "cell_type": "code",
   "execution_count": 34,
   "metadata": {},
   "outputs": [
    {
     "data": {
      "image/svg+xml": [
       "<?xml version=\"1.0\" encoding=\"UTF-8\" standalone=\"no\"?>\n",
       "<!DOCTYPE svg PUBLIC \"-//W3C//DTD SVG 1.1//EN\"\n",
       " \"http://www.w3.org/Graphics/SVG/1.1/DTD/svg11.dtd\">\n",
       "<!-- Generated by graphviz version 2.40.1 (20161225.0304)\n",
       " -->\n",
       "<!-- Title: %3 Pages: 1 -->\n",
       "<svg width=\"109pt\" height=\"37pt\"\n",
       " viewBox=\"0.00 0.00 109.00 37.00\" xmlns=\"http://www.w3.org/2000/svg\" xmlns:xlink=\"http://www.w3.org/1999/xlink\">\n",
       "<g id=\"graph0\" class=\"graph\" transform=\"scale(1 1) rotate(0) translate(4 33)\">\n",
       "<title>%3</title>\n",
       "<polygon fill=\"#ffffff\" stroke=\"transparent\" points=\"-4,4 -4,-33 105,-33 105,4 -4,4\"/>\n",
       "<!-- I0 -->\n",
       "<g id=\"node1\" class=\"node\">\n",
       "<title>I0</title>\n",
       "<ellipse fill=\"#000000\" stroke=\"#000000\" cx=\"0\" cy=\"-14.5\" rx=\"0\" ry=\"0\"/>\n",
       "</g>\n",
       "<!-- 0 -->\n",
       "<g id=\"node3\" class=\"node\">\n",
       "<title>0</title>\n",
       "<ellipse fill=\"#98f5ff\" stroke=\"#000000\" cx=\"50.5\" cy=\"-14.5\" rx=\"14.5\" ry=\"14.5\"/>\n",
       "<text text-anchor=\"middle\" x=\"50.5\" y=\"-11.4\" font-family=\"Times,serif\" font-size=\"12.00\" fill=\"#000000\">0</text>\n",
       "</g>\n",
       "<!-- I0&#45;&gt;0 -->\n",
       "<g id=\"edge1\" class=\"edge\">\n",
       "<title>I0&#45;&gt;0</title>\n",
       "<path fill=\"none\" stroke=\"#000000\" d=\"M.1449,-14.5C1.7557,-14.5 16.507,-14.5 29.63,-14.5\"/>\n",
       "<polygon fill=\"#000000\" stroke=\"#000000\" points=\"35.876,-14.5 29.876,-17.2001 32.876,-14.5 29.876,-14.5001 29.876,-14.5001 29.876,-14.5001 32.876,-14.5 29.876,-11.8001 35.876,-14.5 35.876,-14.5\"/>\n",
       "</g>\n",
       "<!-- F0 -->\n",
       "<g id=\"node2\" class=\"node\">\n",
       "<title>F0</title>\n",
       "<ellipse fill=\"#000000\" stroke=\"#000000\" cx=\"101\" cy=\"-14.5\" rx=\"0\" ry=\"0\"/>\n",
       "</g>\n",
       "<!-- 0&#45;&gt;F0 -->\n",
       "<g id=\"edge2\" class=\"edge\">\n",
       "<title>0&#45;&gt;F0</title>\n",
       "<path fill=\"none\" stroke=\"#000000\" d=\"M65.1067,-14.5C74.9272,-14.5 87.3767,-14.5 94.7355,-14.5\"/>\n",
       "<polygon fill=\"#000000\" stroke=\"#000000\" points=\"100.9394,-14.5 94.9394,-17.2001 97.9394,-14.5 94.9394,-14.5001 94.9394,-14.5001 94.9394,-14.5001 97.9394,-14.5 94.9393,-11.8001 100.9394,-14.5 100.9394,-14.5\"/>\n",
       "</g>\n",
       "</g>\n",
       "</svg>\n"
      ],
      "text/plain": [
       "mutable_automaton<context<letterset<char_letters>, b>>"
      ]
     },
     "execution_count": 34,
     "metadata": {},
     "output_type": "execute_result"
    }
   ],
   "source": [
    "a.proper()"
   ]
  },
  {
   "cell_type": "markdown",
   "metadata": {},
   "source": [
    "## Section 5: Transpose and Right Quotient\n",
    "The right quotient is written as `{/}`, and transpose as a postfix operator `{T}`.\n",
    "\n",
    "The following simple example shows how transpose is handled."
   ]
  },
  {
   "cell_type": "code",
   "execution_count": 35,
   "metadata": {},
   "outputs": [
    {
     "data": {
      "text/latex": [
       "${\\left(a \\, b \\, c\\right)^{*}}^{T}$"
      ],
      "text/plain": [
       "(abc)*{T}"
      ]
     },
     "execution_count": 35,
     "metadata": {},
     "output_type": "execute_result"
    }
   ],
   "source": [
    "e = Q.expression('(abc)*{T}')\n",
    "e"
   ]
  },
  {
   "cell_type": "code",
   "execution_count": 36,
   "metadata": {},
   "outputs": [
    {
     "data": {
      "text/latex": [
       "$\\left\\langle 1\\right\\rangle  \\oplus c \\odot \\left[\\left(a \\, b\\right)^{T} \\, {\\left(a \\, b \\, c\\right)^{*}}^{T}\\right]$"
      ],
      "text/plain": [
       "<1> + c.[(ab){T}(abc)*{T}]"
      ]
     },
     "execution_count": 36,
     "metadata": {},
     "output_type": "execute_result"
    }
   ],
   "source": [
    "e.expansion()"
   ]
  },
  {
   "cell_type": "code",
   "execution_count": 37,
   "metadata": {},
   "outputs": [
    {
     "data": {
      "image/svg+xml": [
       "<?xml version=\"1.0\" encoding=\"UTF-8\" standalone=\"no\"?>\n",
       "<!DOCTYPE svg PUBLIC \"-//W3C//DTD SVG 1.1//EN\"\n",
       " \"http://www.w3.org/Graphics/SVG/1.1/DTD/svg11.dtd\">\n",
       "<!-- Generated by graphviz version 2.40.1 (20161225.0304)\n",
       " -->\n",
       "<!-- Title: %3 Pages: 1 -->\n",
       "<svg width=\"309pt\" height=\"90pt\"\n",
       " viewBox=\"0.00 0.00 309.00 90.47\" xmlns=\"http://www.w3.org/2000/svg\" xmlns:xlink=\"http://www.w3.org/1999/xlink\">\n",
       "<g id=\"graph0\" class=\"graph\" transform=\"scale(1 1) rotate(0) translate(4 86.4664)\">\n",
       "<title>%3</title>\n",
       "<polygon fill=\"#ffffff\" stroke=\"transparent\" points=\"-4,4 -4,-86.4664 305,-86.4664 305,4 -4,4\"/>\n",
       "<!-- I0 -->\n",
       "<g id=\"node1\" class=\"node\">\n",
       "<title>I0</title>\n",
       "<ellipse fill=\"#000000\" stroke=\"#000000\" cx=\"0\" cy=\"-49.4664\" rx=\"0\" ry=\"0\"/>\n",
       "</g>\n",
       "<!-- 0 -->\n",
       "<g id=\"node3\" class=\"node\">\n",
       "<title>0</title>\n",
       "<path fill=\"#98f5ff\" stroke=\"#000000\" d=\"M77.3333,-63.9664C77.3333,-63.9664 46.6667,-63.9664 46.6667,-63.9664 41.8333,-63.9664 37,-59.1331 37,-54.2997 37,-54.2997 37,-44.6331 37,-44.6331 37,-39.7997 41.8333,-34.9664 46.6667,-34.9664 46.6667,-34.9664 77.3333,-34.9664 77.3333,-34.9664 82.1667,-34.9664 87,-39.7997 87,-44.6331 87,-44.6331 87,-54.2997 87,-54.2997 87,-59.1331 82.1667,-63.9664 77.3333,-63.9664\"/>\n",
       "<text text-anchor=\"middle\" x=\"62\" y=\"-46.3664\" font-family=\"Times,serif\" font-size=\"12.00\" fill=\"#000000\">(abc)*ᵗ</text>\n",
       "</g>\n",
       "<!-- I0&#45;&gt;0 -->\n",
       "<g id=\"edge1\" class=\"edge\">\n",
       "<title>I0&#45;&gt;0</title>\n",
       "<path fill=\"none\" stroke=\"#000000\" d=\"M.0449,-49.4664C.9562,-49.4664 15.577,-49.4664 30.386,-49.4664\"/>\n",
       "<polygon fill=\"#000000\" stroke=\"#000000\" points=\"36.704,-49.4664 30.704,-52.1665 33.704,-49.4664 30.704,-49.4665 30.704,-49.4665 30.704,-49.4665 33.704,-49.4664 30.704,-46.7665 36.704,-49.4664 36.704,-49.4664\"/>\n",
       "</g>\n",
       "<!-- F0 -->\n",
       "<g id=\"node2\" class=\"node\">\n",
       "<title>F0</title>\n",
       "<ellipse fill=\"#000000\" stroke=\"#000000\" cx=\"166\" cy=\"-82.4664\" rx=\"0\" ry=\"0\"/>\n",
       "</g>\n",
       "<!-- 0&#45;&gt;F0 -->\n",
       "<g id=\"edge2\" class=\"edge\">\n",
       "<title>0&#45;&gt;F0</title>\n",
       "<path fill=\"none\" stroke=\"#000000\" d=\"M87.1755,-57.4548C111.402,-65.142 146.3257,-76.2236 160.0976,-80.5935\"/>\n",
       "<polygon fill=\"#000000\" stroke=\"#000000\" points=\"165.8612,-82.4224 159.3256,-83.1812 163.0017,-81.515 160.1422,-80.6076 160.1422,-80.6076 160.1422,-80.6076 163.0017,-81.515 160.9589,-78.0341 165.8612,-82.4224 165.8612,-82.4224\"/>\n",
       "</g>\n",
       "<!-- 1 -->\n",
       "<g id=\"node4\" class=\"node\">\n",
       "<title>1</title>\n",
       "<path fill=\"#98f5ff\" stroke=\"#000000\" d=\"M192.3333,-63.9664C192.3333,-63.9664 139.6667,-63.9664 139.6667,-63.9664 134.8333,-63.9664 130,-59.1331 130,-54.2997 130,-54.2997 130,-44.6331 130,-44.6331 130,-39.7997 134.8333,-34.9664 139.6667,-34.9664 139.6667,-34.9664 192.3333,-34.9664 192.3333,-34.9664 197.1667,-34.9664 202,-39.7997 202,-44.6331 202,-44.6331 202,-54.2997 202,-54.2997 202,-59.1331 197.1667,-63.9664 192.3333,-63.9664\"/>\n",
       "<text text-anchor=\"middle\" x=\"166\" y=\"-46.3664\" font-family=\"Times,serif\" font-size=\"12.00\" fill=\"#000000\">(ab)ᵗ(abc)*ᵗ</text>\n",
       "</g>\n",
       "<!-- 0&#45;&gt;1 -->\n",
       "<g id=\"edge3\" class=\"edge\">\n",
       "<title>0&#45;&gt;1</title>\n",
       "<path fill=\"none\" stroke=\"#000000\" d=\"M87.175,-49.4664C98.128,-49.4664 111.27,-49.4664 123.65,-49.4664\"/>\n",
       "<polygon fill=\"#000000\" stroke=\"#000000\" points=\"129.65,-49.4664 123.65,-52.1665 126.65,-49.4664 123.65,-49.4665 123.65,-49.4665 123.65,-49.4665 126.65,-49.4664 123.65,-46.7665 129.65,-49.4664 129.65,-49.4664\"/>\n",
       "<text text-anchor=\"middle\" x=\"108.5\" y=\"-53.2664\" font-family=\"Times,serif\" font-size=\"14.00\" fill=\"#000000\">c</text>\n",
       "</g>\n",
       "<!-- 2 -->\n",
       "<g id=\"node5\" class=\"node\">\n",
       "<title>2</title>\n",
       "<path fill=\"#98f5ff\" stroke=\"#000000\" d=\"M291.3333,-31.9664C291.3333,-31.9664 255.6667,-31.9664 255.6667,-31.9664 250.8333,-31.9664 246,-27.1331 246,-22.2997 246,-22.2997 246,-12.6331 246,-12.6331 246,-7.7997 250.8333,-2.9664 255.6667,-2.9664 255.6667,-2.9664 291.3333,-2.9664 291.3333,-2.9664 296.1667,-2.9664 301,-7.7997 301,-12.6331 301,-12.6331 301,-22.2997 301,-22.2997 301,-27.1331 296.1667,-31.9664 291.3333,-31.9664\"/>\n",
       "<text text-anchor=\"middle\" x=\"273.5\" y=\"-14.3664\" font-family=\"Times,serif\" font-size=\"12.00\" fill=\"#000000\">a(abc)*ᵗ</text>\n",
       "</g>\n",
       "<!-- 1&#45;&gt;2 -->\n",
       "<g id=\"edge4\" class=\"edge\">\n",
       "<title>1&#45;&gt;2</title>\n",
       "<path fill=\"none\" stroke=\"#000000\" d=\"M202.09,-38.7214C214.36,-35.0704 228.01,-31.0084 240.06,-27.4214\"/>\n",
       "<polygon fill=\"#000000\" stroke=\"#000000\" points=\"245.83,-25.7034 240.85,-30.0034 242.9547,-26.5595 240.0795,-27.4157 240.0795,-27.4157 240.0795,-27.4157 242.9547,-26.5595 239.309,-24.8279 245.83,-25.7034 245.83,-25.7034\"/>\n",
       "<text text-anchor=\"middle\" x=\"224\" y=\"-37.2664\" font-family=\"Times,serif\" font-size=\"14.00\" fill=\"#000000\">b</text>\n",
       "</g>\n",
       "<!-- 2&#45;&gt;0 -->\n",
       "<g id=\"edge5\" class=\"edge\">\n",
       "<title>2&#45;&gt;0</title>\n",
       "<path fill=\"none\" stroke=\"#000000\" d=\"M246,-11.2223C216.72,-5.6998 169.29,0 130,-10.4664 114.35,-14.6354 98.557,-23.3554 86.134,-31.4954\"/>\n",
       "<polygon fill=\"#000000\" stroke=\"#000000\" points=\"81.027,-34.9334 84.4965,-29.3429 83.5156,-33.258 86.0043,-31.5827 86.0043,-31.5827 86.0043,-31.5827 83.5156,-33.258 87.5121,-33.8225 81.027,-34.9334 81.027,-34.9334\"/>\n",
       "<text text-anchor=\"middle\" x=\"166\" y=\"-14.2664\" font-family=\"Times,serif\" font-size=\"14.00\" fill=\"#000000\">a</text>\n",
       "</g>\n",
       "</g>\n",
       "</svg>\n"
      ],
      "text/plain": [
       "expression_automaton<mutable_automaton<context<nullableset<letterset<char_letters>>, q>>>"
      ]
     },
     "execution_count": 37,
     "metadata": {},
     "output_type": "execute_result"
    }
   ],
   "source": [
    "e.derived_term()"
   ]
  },
  {
   "cell_type": "markdown",
   "metadata": {},
   "source": [
    "Then with a right quotient."
   ]
  },
  {
   "cell_type": "code",
   "execution_count": 38,
   "metadata": {},
   "outputs": [
    {
     "data": {
      "text/latex": [
       "$\\left(\\left(b \\, a\\right)^{T} \\backslash \\left(a \\, b \\, a\\right)^{T}\\right)^{T}$"
      ],
      "text/plain": [
       "((ba){T}{\\}(aba){T}){T}"
      ]
     },
     "execution_count": 38,
     "metadata": {},
     "output_type": "execute_result"
    }
   ],
   "source": [
    "e = Q.expression('aba {/} ba')\n",
    "e"
   ]
  },
  {
   "cell_type": "code",
   "execution_count": 39,
   "metadata": {},
   "outputs": [
    {
     "data": {
      "image/svg+xml": [
       "<?xml version=\"1.0\" encoding=\"UTF-8\" standalone=\"no\"?>\n",
       "<!DOCTYPE svg PUBLIC \"-//W3C//DTD SVG 1.1//EN\"\n",
       " \"http://www.w3.org/Graphics/SVG/1.1/DTD/svg11.dtd\">\n",
       "<!-- Generated by graphviz version 2.40.1 (20161225.0304)\n",
       " -->\n",
       "<!-- Title: %3 Pages: 1 -->\n",
       "<svg width=\"432pt\" height=\"38pt\"\n",
       " viewBox=\"0.00 0.00 432.00 37.50\" xmlns=\"http://www.w3.org/2000/svg\" xmlns:xlink=\"http://www.w3.org/1999/xlink\">\n",
       "<g id=\"graph0\" class=\"graph\" transform=\"scale(1 1) rotate(0) translate(4 33.5)\">\n",
       "<title>%3</title>\n",
       "<polygon fill=\"#ffffff\" stroke=\"transparent\" points=\"-4,4 -4,-33.5 428,-33.5 428,4 -4,4\"/>\n",
       "<!-- I0 -->\n",
       "<g id=\"node1\" class=\"node\">\n",
       "<title>I0</title>\n",
       "<ellipse fill=\"#000000\" stroke=\"#000000\" cx=\"0\" cy=\"-14.5\" rx=\"0\" ry=\"0\"/>\n",
       "</g>\n",
       "<!-- 0 -->\n",
       "<g id=\"node3\" class=\"node\">\n",
       "<title>0</title>\n",
       "<path fill=\"#98f5ff\" stroke=\"#000000\" d=\"M119.3333,-29C119.3333,-29 46.6667,-29 46.6667,-29 41.8333,-29 37,-24.1667 37,-19.3333 37,-19.3333 37,-9.6667 37,-9.6667 37,-4.8333 41.8333,0 46.6667,0 46.6667,0 119.3333,0 119.3333,0 124.1667,0 129,-4.8333 129,-9.6667 129,-9.6667 129,-19.3333 129,-19.3333 129,-24.1667 124.1667,-29 119.3333,-29\"/>\n",
       "<text text-anchor=\"middle\" x=\"83\" y=\"-11.4\" font-family=\"Times,serif\" font-size=\"12.00\" fill=\"#000000\">((ba)ᵗ{\\}(aba)ᵗ)ᵗ</text>\n",
       "</g>\n",
       "<!-- I0&#45;&gt;0 -->\n",
       "<g id=\"edge1\" class=\"edge\">\n",
       "<title>I0&#45;&gt;0</title>\n",
       "<path fill=\"none\" stroke=\"#000000\" d=\"M.0602,-14.5C1.0656,-14.5 14.539,-14.5 30.344,-14.5\"/>\n",
       "<polygon fill=\"#000000\" stroke=\"#000000\" points=\"36.737,-14.5 30.737,-17.2001 33.737,-14.5 30.737,-14.5001 30.737,-14.5001 30.737,-14.5001 33.737,-14.5 30.737,-11.8001 36.737,-14.5 36.737,-14.5\"/>\n",
       "</g>\n",
       "<!-- F3 -->\n",
       "<g id=\"node2\" class=\"node\">\n",
       "<title>F3</title>\n",
       "<ellipse fill=\"#000000\" stroke=\"#000000\" cx=\"424\" cy=\"-14.5\" rx=\"0\" ry=\"0\"/>\n",
       "</g>\n",
       "<!-- 1 -->\n",
       "<g id=\"node4\" class=\"node\">\n",
       "<title>1</title>\n",
       "<path fill=\"#98f5ff\" stroke=\"#000000\" d=\"M233.3333,-29C233.3333,-29 181.6667,-29 181.6667,-29 176.8333,-29 172,-24.1667 172,-19.3333 172,-19.3333 172,-9.6667 172,-9.6667 172,-4.8333 176.8333,0 181.6667,0 181.6667,0 233.3333,0 233.3333,0 238.1667,0 243,-4.8333 243,-9.6667 243,-9.6667 243,-19.3333 243,-19.3333 243,-24.1667 238.1667,-29 233.3333,-29\"/>\n",
       "<text text-anchor=\"middle\" x=\"207.5\" y=\"-11.4\" font-family=\"Times,serif\" font-size=\"12.00\" fill=\"#000000\">(b{\\}(ab)ᵗ)ᵗ</text>\n",
       "</g>\n",
       "<!-- 0&#45;&gt;1 -->\n",
       "<g id=\"edge2\" class=\"edge\">\n",
       "<title>0&#45;&gt;1</title>\n",
       "<path fill=\"none\" stroke=\"#000000\" d=\"M129.01,-14.5C141.04,-14.5 153.94,-14.5 165.74,-14.5\"/>\n",
       "<polygon fill=\"#000000\" stroke=\"#000000\" points=\"171.8,-14.5 165.8,-17.2001 168.8,-14.5 165.8,-14.5001 165.8,-14.5001 165.8,-14.5001 168.8,-14.5 165.8,-11.8001 171.8,-14.5 171.8,-14.5\"/>\n",
       "<text text-anchor=\"middle\" x=\"150.5\" y=\"-18.3\" font-family=\"Times,serif\" font-size=\"14.00\" fill=\"#000000\">ε</text>\n",
       "</g>\n",
       "<!-- 2 -->\n",
       "<g id=\"node5\" class=\"node\">\n",
       "<title>2</title>\n",
       "<path fill=\"#98f5ff\" stroke=\"#000000\" d=\"M305.3333,-29C305.3333,-29 295.6667,-29 295.6667,-29 290.8333,-29 286,-24.1667 286,-19.3333 286,-19.3333 286,-9.6667 286,-9.6667 286,-4.8333 290.8333,0 295.6667,0 295.6667,0 305.3333,0 305.3333,0 310.1667,0 315,-4.8333 315,-9.6667 315,-9.6667 315,-19.3333 315,-19.3333 315,-24.1667 310.1667,-29 305.3333,-29\"/>\n",
       "<text text-anchor=\"middle\" x=\"300.5\" y=\"-11.4\" font-family=\"Times,serif\" font-size=\"12.00\" fill=\"#000000\">a</text>\n",
       "</g>\n",
       "<!-- 1&#45;&gt;2 -->\n",
       "<g id=\"edge3\" class=\"edge\">\n",
       "<title>1&#45;&gt;2</title>\n",
       "<path fill=\"none\" stroke=\"#000000\" d=\"M243.19,-14.5C255.41,-14.5 268.68,-14.5 279.37,-14.5\"/>\n",
       "<polygon fill=\"#000000\" stroke=\"#000000\" points=\"285.66,-14.5 279.66,-17.2001 282.66,-14.5 279.66,-14.5001 279.66,-14.5001 279.66,-14.5001 282.66,-14.5 279.66,-11.8001 285.66,-14.5 285.66,-14.5\"/>\n",
       "<text text-anchor=\"middle\" x=\"264.5\" y=\"-18.3\" font-family=\"Times,serif\" font-size=\"14.00\" fill=\"#000000\">ε</text>\n",
       "</g>\n",
       "<!-- 3 -->\n",
       "<g id=\"node6\" class=\"node\">\n",
       "<title>3</title>\n",
       "<path fill=\"#98f5ff\" stroke=\"#000000\" d=\"M377.3333,-29C377.3333,-29 367.6667,-29 367.6667,-29 362.8333,-29 358,-24.1667 358,-19.3333 358,-19.3333 358,-9.6667 358,-9.6667 358,-4.8333 362.8333,0 367.6667,0 367.6667,0 377.3333,0 377.3333,0 382.1667,0 387,-4.8333 387,-9.6667 387,-9.6667 387,-19.3333 387,-19.3333 387,-24.1667 382.1667,-29 377.3333,-29\"/>\n",
       "<text text-anchor=\"middle\" x=\"372.5\" y=\"-11.4\" font-family=\"Times,serif\" font-size=\"12.00\" fill=\"#000000\">ε</text>\n",
       "</g>\n",
       "<!-- 2&#45;&gt;3 -->\n",
       "<g id=\"edge4\" class=\"edge\">\n",
       "<title>2&#45;&gt;3</title>\n",
       "<path fill=\"none\" stroke=\"#000000\" d=\"M315.07,-14.5C325.61,-14.5 340,-14.5 351.74,-14.5\"/>\n",
       "<polygon fill=\"#000000\" stroke=\"#000000\" points=\"357.95,-14.5 351.95,-17.2001 354.95,-14.5 351.95,-14.5001 351.95,-14.5001 351.95,-14.5001 354.95,-14.5 351.95,-11.8001 357.95,-14.5 357.95,-14.5\"/>\n",
       "<text text-anchor=\"middle\" x=\"336.5\" y=\"-18.3\" font-family=\"Times,serif\" font-size=\"14.00\" fill=\"#000000\">a</text>\n",
       "</g>\n",
       "<!-- 3&#45;&gt;F3 -->\n",
       "<g id=\"edge5\" class=\"edge\">\n",
       "<title>3&#45;&gt;F3</title>\n",
       "<path fill=\"none\" stroke=\"#000000\" d=\"M387.1201,-14.5C397.2606,-14.5 410.2527,-14.5 417.7999,-14.5\"/>\n",
       "<polygon fill=\"#000000\" stroke=\"#000000\" points=\"423.9374,-14.5 417.9375,-17.2001 420.9374,-14.5 417.9374,-14.5001 417.9374,-14.5001 417.9374,-14.5001 420.9374,-14.5 417.9374,-11.8001 423.9374,-14.5 423.9374,-14.5\"/>\n",
       "</g>\n",
       "</g>\n",
       "</svg>\n"
      ],
      "text/plain": [
       "expression_automaton<mutable_automaton<context<nullableset<letterset<char_letters>>, q>>>"
      ]
     },
     "execution_count": 39,
     "metadata": {},
     "output_type": "execute_result"
    }
   ],
   "source": [
    "e.derived_term()"
   ]
  },
  {
   "cell_type": "markdown",
   "metadata": {},
   "source": [
    "### Example 7\n",
    "The following example, in $\\mathbb{B}$, computes the suffixes of the language $ab$."
   ]
  },
  {
   "cell_type": "code",
   "execution_count": 40,
   "metadata": {},
   "outputs": [
    {
     "data": {
      "text/latex": [
       "$\\left({\\left(a + b\\right)^{*}}^{T} \\backslash \\left(a \\, b\\right)^{T}\\right)^{T}$"
      ],
      "text/plain": [
       "((a+b)*{T}{\\}(ab){T}){T}"
      ]
     },
     "execution_count": 40,
     "metadata": {},
     "output_type": "execute_result"
    }
   ],
   "source": [
    "e = B.expression('(ab){/}[ab]*')\n",
    "e"
   ]
  },
  {
   "cell_type": "code",
   "execution_count": 41,
   "metadata": {},
   "outputs": [
    {
     "data": {
      "image/svg+xml": [
       "<?xml version=\"1.0\" encoding=\"UTF-8\" standalone=\"no\"?>\n",
       "<!DOCTYPE svg PUBLIC \"-//W3C//DTD SVG 1.1//EN\"\n",
       " \"http://www.w3.org/Graphics/SVG/1.1/DTD/svg11.dtd\">\n",
       "<!-- Generated by graphviz version 2.40.1 (20161225.0304)\n",
       " -->\n",
       "<!-- Title: %3 Pages: 1 -->\n",
       "<svg width=\"567pt\" height=\"246pt\"\n",
       " viewBox=\"0.00 0.00 567.00 245.50\" xmlns=\"http://www.w3.org/2000/svg\" xmlns:xlink=\"http://www.w3.org/1999/xlink\">\n",
       "<g id=\"graph0\" class=\"graph\" transform=\"scale(1 1) rotate(0) translate(4 241.5)\">\n",
       "<title>%3</title>\n",
       "<polygon fill=\"#ffffff\" stroke=\"transparent\" points=\"-4,4 -4,-241.5 563,-241.5 563,4 -4,4\"/>\n",
       "<!-- I0 -->\n",
       "<g id=\"node1\" class=\"node\">\n",
       "<title>I0</title>\n",
       "<ellipse fill=\"#000000\" stroke=\"#000000\" cx=\"0\" cy=\"-198.5\" rx=\"0\" ry=\"0\"/>\n",
       "</g>\n",
       "<!-- 0 -->\n",
       "<g id=\"node4\" class=\"node\">\n",
       "<title>0</title>\n",
       "<path fill=\"#98f5ff\" stroke=\"#000000\" d=\"M127.3333,-213C127.3333,-213 46.6667,-213 46.6667,-213 41.8333,-213 37,-208.1667 37,-203.3333 37,-203.3333 37,-193.6667 37,-193.6667 37,-188.8333 41.8333,-184 46.6667,-184 46.6667,-184 127.3333,-184 127.3333,-184 132.1667,-184 137,-188.8333 137,-193.6667 137,-193.6667 137,-203.3333 137,-203.3333 137,-208.1667 132.1667,-213 127.3333,-213\"/>\n",
       "<text text-anchor=\"middle\" x=\"87\" y=\"-195.4\" font-family=\"Times,serif\" font-size=\"12.00\" fill=\"#000000\">((a+b)*ᵗ{\\}(ab)ᵗ)ᵗ</text>\n",
       "</g>\n",
       "<!-- I0&#45;&gt;0 -->\n",
       "<g id=\"edge1\" class=\"edge\">\n",
       "<title>I0&#45;&gt;0</title>\n",
       "<path fill=\"none\" stroke=\"#000000\" d=\"M.0631,-198.5C1.0806,-198.5 14.281,-198.5 30.101,-198.5\"/>\n",
       "<polygon fill=\"#000000\" stroke=\"#000000\" points=\"36.518,-198.5 30.518,-201.2001 33.518,-198.5 30.518,-198.5001 30.518,-198.5001 30.518,-198.5001 33.518,-198.5 30.518,-195.8001 36.518,-198.5 36.518,-198.5\"/>\n",
       "</g>\n",
       "<!-- F4 -->\n",
       "<g id=\"node2\" class=\"node\">\n",
       "<title>F4</title>\n",
       "<ellipse fill=\"#000000\" stroke=\"#000000\" cx=\"477.5\" cy=\"-160.5\" rx=\"0\" ry=\"0\"/>\n",
       "</g>\n",
       "<!-- F7 -->\n",
       "<g id=\"node3\" class=\"node\">\n",
       "<title>F7</title>\n",
       "<ellipse fill=\"#000000\" stroke=\"#000000\" cx=\"559\" cy=\"-212.5\" rx=\"0\" ry=\"0\"/>\n",
       "</g>\n",
       "<!-- 1 -->\n",
       "<g id=\"node5\" class=\"node\">\n",
       "<title>1</title>\n",
       "<path fill=\"#98f5ff\" stroke=\"#000000\" d=\"M231.3333,-237C231.3333,-237 211.6667,-237 211.6667,-237 206.8333,-237 202,-232.1667 202,-227.3333 202,-227.3333 202,-217.6667 202,-217.6667 202,-212.8333 206.8333,-208 211.6667,-208 211.6667,-208 231.3333,-208 231.3333,-208 236.1667,-208 241,-212.8333 241,-217.6667 241,-217.6667 241,-227.3333 241,-227.3333 241,-232.1667 236.1667,-237 231.3333,-237\"/>\n",
       "<text text-anchor=\"middle\" x=\"221.5\" y=\"-219.4\" font-family=\"Times,serif\" font-size=\"12.00\" fill=\"#000000\">(ba)ᵗ</text>\n",
       "</g>\n",
       "<!-- 0&#45;&gt;1 -->\n",
       "<g id=\"edge2\" class=\"edge\">\n",
       "<title>0&#45;&gt;1</title>\n",
       "<path fill=\"none\" stroke=\"#000000\" d=\"M137.08,-207.44C157,-210.99 179.06,-214.93 195.64,-217.88\"/>\n",
       "<polygon fill=\"#000000\" stroke=\"#000000\" points=\"201.93,-219.01 195.5471,-220.6065 198.9773,-218.4795 196.0245,-217.949 196.0245,-217.949 196.0245,-217.949 198.9773,-218.4795 196.502,-215.2915 201.93,-219.01 201.93,-219.01\"/>\n",
       "<text text-anchor=\"middle\" x=\"158.5\" y=\"-215.3\" font-family=\"Times,serif\" font-size=\"14.00\" fill=\"#000000\">ε</text>\n",
       "</g>\n",
       "<!-- 2 -->\n",
       "<g id=\"node6\" class=\"node\">\n",
       "<title>2</title>\n",
       "<path fill=\"#98f5ff\" stroke=\"#000000\" d=\"M253.3333,-190C253.3333,-190 189.6667,-190 189.6667,-190 184.8333,-190 180,-185.1667 180,-180.3333 180,-180.3333 180,-170.6667 180,-170.6667 180,-165.8333 184.8333,-161 189.6667,-161 189.6667,-161 253.3333,-161 253.3333,-161 258.1667,-161 263,-165.8333 263,-170.6667 263,-170.6667 263,-180.3333 263,-180.3333 263,-185.1667 258.1667,-190 253.3333,-190\"/>\n",
       "<text text-anchor=\"middle\" x=\"221.5\" y=\"-172.4\" font-family=\"Times,serif\" font-size=\"12.00\" fill=\"#000000\">((a+b)*ᵗ{\\}a)ᵗ</text>\n",
       "</g>\n",
       "<!-- 0&#45;&gt;2 -->\n",
       "<g id=\"edge3\" class=\"edge\">\n",
       "<title>0&#45;&gt;2</title>\n",
       "<path fill=\"none\" stroke=\"#000000\" d=\"M137.36,-185.9C143.28,-184.64 149.26,-183.47 155,-182.5 161.01,-181.48 167.35,-180.59 173.63,-179.81\"/>\n",
       "<polygon fill=\"#000000\" stroke=\"#000000\" points=\"179.89,-179.06 174.2538,-182.4547 176.9113,-179.4169 173.9326,-179.7738 173.9326,-179.7738 173.9326,-179.7738 176.9113,-179.4169 173.6114,-177.093 179.89,-179.06 179.89,-179.06\"/>\n",
       "<text text-anchor=\"middle\" x=\"158.5\" y=\"-186.3\" font-family=\"Times,serif\" font-size=\"14.00\" fill=\"#000000\">ε</text>\n",
       "</g>\n",
       "<!-- 8 -->\n",
       "<g id=\"node12\" class=\"node\">\n",
       "<title>8</title>\n",
       "<path fill=\"#98f5ff\" stroke=\"#000000\" d=\"M352.3333,-237C352.3333,-237 342.6667,-237 342.6667,-237 337.8333,-237 333,-232.1667 333,-227.3333 333,-227.3333 333,-217.6667 333,-217.6667 333,-212.8333 337.8333,-208 342.6667,-208 342.6667,-208 352.3333,-208 352.3333,-208 357.1667,-208 362,-212.8333 362,-217.6667 362,-217.6667 362,-227.3333 362,-227.3333 362,-232.1667 357.1667,-237 352.3333,-237\"/>\n",
       "<text text-anchor=\"middle\" x=\"347.5\" y=\"-219.4\" font-family=\"Times,serif\" font-size=\"12.00\" fill=\"#000000\">b</text>\n",
       "</g>\n",
       "<!-- 1&#45;&gt;8 -->\n",
       "<g id=\"edge4\" class=\"edge\">\n",
       "<title>1&#45;&gt;8</title>\n",
       "<path fill=\"none\" stroke=\"#000000\" d=\"M241.19,-222.5C264.34,-222.5 302.63,-222.5 326.38,-222.5\"/>\n",
       "<polygon fill=\"#000000\" stroke=\"#000000\" points=\"332.68,-222.5 326.68,-225.2001 329.68,-222.5 326.68,-222.5001 326.68,-222.5001 326.68,-222.5001 329.68,-222.5 326.68,-219.8001 332.68,-222.5 332.68,-222.5\"/>\n",
       "<text text-anchor=\"middle\" x=\"284.5\" y=\"-226.3\" font-family=\"Times,serif\" font-size=\"14.00\" fill=\"#000000\">a</text>\n",
       "</g>\n",
       "<!-- 3 -->\n",
       "<g id=\"node7\" class=\"node\">\n",
       "<title>3</title>\n",
       "<path fill=\"#98f5ff\" stroke=\"#000000\" d=\"M352.3333,-190C352.3333,-190 342.6667,-190 342.6667,-190 337.8333,-190 333,-185.1667 333,-180.3333 333,-180.3333 333,-170.6667 333,-170.6667 333,-165.8333 337.8333,-161 342.6667,-161 342.6667,-161 352.3333,-161 352.3333,-161 357.1667,-161 362,-165.8333 362,-170.6667 362,-170.6667 362,-180.3333 362,-180.3333 362,-185.1667 357.1667,-190 352.3333,-190\"/>\n",
       "<text text-anchor=\"middle\" x=\"347.5\" y=\"-172.4\" font-family=\"Times,serif\" font-size=\"12.00\" fill=\"#000000\">a</text>\n",
       "</g>\n",
       "<!-- 2&#45;&gt;3 -->\n",
       "<g id=\"edge5\" class=\"edge\">\n",
       "<title>2&#45;&gt;3</title>\n",
       "<path fill=\"none\" stroke=\"#000000\" d=\"M263.11,-175.5C284.37,-175.5 309.32,-175.5 326.55,-175.5\"/>\n",
       "<polygon fill=\"#000000\" stroke=\"#000000\" points=\"332.98,-175.5 326.98,-178.2001 329.98,-175.5 326.98,-175.5001 326.98,-175.5001 326.98,-175.5001 329.98,-175.5 326.98,-172.8001 332.98,-175.5 332.98,-175.5\"/>\n",
       "<text text-anchor=\"middle\" x=\"284.5\" y=\"-179.3\" font-family=\"Times,serif\" font-size=\"14.00\" fill=\"#000000\">ε</text>\n",
       "</g>\n",
       "<!-- 4 -->\n",
       "<g id=\"node8\" class=\"node\">\n",
       "<title>4</title>\n",
       "<path fill=\"#98f5ff\" stroke=\"#000000\" d=\"M379.3333,-131C379.3333,-131 315.6667,-131 315.6667,-131 310.8333,-131 306,-126.1667 306,-121.3333 306,-121.3333 306,-111.6667 306,-111.6667 306,-106.8333 310.8333,-102 315.6667,-102 315.6667,-102 379.3333,-102 379.3333,-102 384.1667,-102 389,-106.8333 389,-111.6667 389,-111.6667 389,-121.3333 389,-121.3333 389,-126.1667 384.1667,-131 379.3333,-131\"/>\n",
       "<text text-anchor=\"middle\" x=\"347.5\" y=\"-113.4\" font-family=\"Times,serif\" font-size=\"12.00\" fill=\"#000000\">((a+b)*ᵗ{\\}ε)ᵗ</text>\n",
       "</g>\n",
       "<!-- 2&#45;&gt;4 -->\n",
       "<g id=\"edge6\" class=\"edge\">\n",
       "<title>2&#45;&gt;4</title>\n",
       "<path fill=\"none\" stroke=\"#000000\" d=\"M252.65,-160.92C270.21,-152.69 292.27,-142.36 310.68,-133.74\"/>\n",
       "<polygon fill=\"#000000\" stroke=\"#000000\" points=\"316.28,-131.12 311.9896,-136.1083 313.5627,-132.3913 310.8454,-133.6627 310.8454,-133.6627 310.8454,-133.6627 313.5627,-132.3913 309.7012,-131.2171 316.28,-131.12 316.28,-131.12\"/>\n",
       "<text text-anchor=\"middle\" x=\"284.5\" y=\"-150.3\" font-family=\"Times,serif\" font-size=\"14.00\" fill=\"#000000\">ε</text>\n",
       "</g>\n",
       "<!-- 7 -->\n",
       "<g id=\"node11\" class=\"node\">\n",
       "<title>7</title>\n",
       "<path fill=\"#98f5ff\" stroke=\"#000000\" d=\"M482.3333,-227C482.3333,-227 472.6667,-227 472.6667,-227 467.8333,-227 463,-222.1667 463,-217.3333 463,-217.3333 463,-207.6667 463,-207.6667 463,-202.8333 467.8333,-198 472.6667,-198 472.6667,-198 482.3333,-198 482.3333,-198 487.1667,-198 492,-202.8333 492,-207.6667 492,-207.6667 492,-217.3333 492,-217.3333 492,-222.1667 487.1667,-227 482.3333,-227\"/>\n",
       "<text text-anchor=\"middle\" x=\"477.5\" y=\"-209.4\" font-family=\"Times,serif\" font-size=\"12.00\" fill=\"#000000\">ε</text>\n",
       "</g>\n",
       "<!-- 3&#45;&gt;7 -->\n",
       "<g id=\"edge7\" class=\"edge\">\n",
       "<title>3&#45;&gt;7</title>\n",
       "<path fill=\"none\" stroke=\"#000000\" d=\"M362.16,-179.67C385.27,-186.25 430.27,-199.06 456.71,-206.58\"/>\n",
       "<polygon fill=\"#000000\" stroke=\"#000000\" points=\"462.69,-208.29 456.1789,-209.2363 459.8056,-207.4652 456.9212,-206.6403 456.9212,-206.6403 456.9212,-206.6403 459.8056,-207.4652 457.6636,-204.0444 462.69,-208.29 462.69,-208.29\"/>\n",
       "<text text-anchor=\"middle\" x=\"411\" y=\"-198.3\" font-family=\"Times,serif\" font-size=\"14.00\" fill=\"#000000\">a</text>\n",
       "</g>\n",
       "<!-- 4&#45;&gt;F4 -->\n",
       "<g id=\"edge8\" class=\"edge\">\n",
       "<title>4&#45;&gt;F4</title>\n",
       "<path fill=\"none\" stroke=\"#000000\" d=\"M389.3484,-130.6641C419.261,-140.7883 456.6982,-153.4594 471.2825,-158.3956\"/>\n",
       "<polygon fill=\"#000000\" stroke=\"#000000\" points=\"477.355,-160.4509 470.806,-161.0848 474.5133,-159.4891 471.6717,-158.5273 471.6717,-158.5273 471.6717,-158.5273 474.5133,-159.4891 472.5373,-155.9698 477.355,-160.4509 477.355,-160.4509\"/>\n",
       "</g>\n",
       "<!-- 5 -->\n",
       "<g id=\"node9\" class=\"node\">\n",
       "<title>5</title>\n",
       "<path fill=\"#d3d3d3\" stroke=\"#000000\" d=\"M511.8333,-109C511.8333,-109 443.1667,-109 443.1667,-109 438.3333,-109 433.5,-104.1667 433.5,-99.3333 433.5,-99.3333 433.5,-89.6667 433.5,-89.6667 433.5,-84.8333 438.3333,-80 443.1667,-80 443.1667,-80 511.8333,-80 511.8333,-80 516.6667,-80 521.5,-84.8333 521.5,-89.6667 521.5,-89.6667 521.5,-99.3333 521.5,-99.3333 521.5,-104.1667 516.6667,-109 511.8333,-109\"/>\n",
       "<text text-anchor=\"middle\" x=\"477.5\" y=\"-91.4\" font-family=\"Times,serif\" font-size=\"12.00\" fill=\"#000000\">(a(a+b)*ᵗ{\\}ε)ᵗ</text>\n",
       "</g>\n",
       "<!-- 4&#45;&gt;5 -->\n",
       "<g id=\"edge9\" class=\"edge\">\n",
       "<title>4&#45;&gt;5</title>\n",
       "<path fill=\"none\" stroke=\"#696969\" d=\"M389.35,-109.42C401.47,-107.37 414.82,-105.11 427.39,-102.98\"/>\n",
       "<polygon fill=\"#696969\" stroke=\"#696969\" points=\"433.49,-101.95 428.0233,-105.6114 430.5319,-102.4495 427.5737,-102.9491 427.5737,-102.9491 427.5737,-102.9491 430.5319,-102.4495 427.1242,-100.2867 433.49,-101.95 433.49,-101.95\"/>\n",
       "<text text-anchor=\"middle\" x=\"411\" y=\"-110.3\" font-family=\"Times,serif\" font-size=\"14.00\" fill=\"#000000\">ε</text>\n",
       "</g>\n",
       "<!-- 6 -->\n",
       "<g id=\"node10\" class=\"node\">\n",
       "<title>6</title>\n",
       "<path fill=\"#d3d3d3\" stroke=\"#000000\" d=\"M512.3333,-29C512.3333,-29 442.6667,-29 442.6667,-29 437.8333,-29 433,-24.1667 433,-19.3333 433,-19.3333 433,-9.6667 433,-9.6667 433,-4.8333 437.8333,0 442.6667,0 442.6667,0 512.3333,0 512.3333,0 517.1667,0 522,-4.8333 522,-9.6667 522,-9.6667 522,-19.3333 522,-19.3333 522,-24.1667 517.1667,-29 512.3333,-29\"/>\n",
       "<text text-anchor=\"middle\" x=\"477.5\" y=\"-11.4\" font-family=\"Times,serif\" font-size=\"12.00\" fill=\"#000000\">(b(a+b)*ᵗ{\\}ε)ᵗ</text>\n",
       "</g>\n",
       "<!-- 4&#45;&gt;6 -->\n",
       "<g id=\"edge10\" class=\"edge\">\n",
       "<title>4&#45;&gt;6</title>\n",
       "<path fill=\"none\" stroke=\"#696969\" d=\"M366.13,-101.89C389.29,-83.708 428.86,-52.66 454.07,-32.885\"/>\n",
       "<polygon fill=\"#696969\" stroke=\"#696969\" points=\"458.91,-29.087 455.8566,-34.9151 456.5499,-30.939 454.1898,-32.791 454.1898,-32.791 454.1898,-32.791 456.5499,-30.939 452.523,-30.6669 458.91,-29.087 458.91,-29.087\"/>\n",
       "<text text-anchor=\"middle\" x=\"411\" y=\"-73.3\" font-family=\"Times,serif\" font-size=\"14.00\" fill=\"#000000\">ε</text>\n",
       "</g>\n",
       "<!-- 5&#45;&gt;5 -->\n",
       "<g id=\"edge11\" class=\"edge\">\n",
       "<title>5&#45;&gt;5</title>\n",
       "<path fill=\"none\" stroke=\"#696969\" d=\"M466.7,-109.21C464.09,-118.32 467.69,-127 477.5,-127 485.01,-127 488.88,-121.91 489.11,-115.44\"/>\n",
       "<polygon fill=\"#696969\" stroke=\"#696969\" points=\"488.3,-109.21 491.7511,-114.8118 488.6868,-112.185 489.0737,-115.1599 489.0737,-115.1599 489.0737,-115.1599 488.6868,-112.185 486.3962,-115.5081 488.3,-109.21 488.3,-109.21\"/>\n",
       "<text text-anchor=\"middle\" x=\"477.5\" y=\"-130.8\" font-family=\"Times,serif\" font-size=\"14.00\" fill=\"#000000\">ε</text>\n",
       "</g>\n",
       "<!-- 6&#45;&gt;6 -->\n",
       "<g id=\"edge12\" class=\"edge\">\n",
       "<title>6&#45;&gt;6</title>\n",
       "<path fill=\"none\" stroke=\"#696969\" d=\"M466.7,-29.206C464.09,-38.324 467.69,-47 477.5,-47 485.01,-47 488.88,-41.914 489.11,-35.438\"/>\n",
       "<polygon fill=\"#696969\" stroke=\"#696969\" points=\"488.3,-29.206 491.7509,-34.8079 488.6867,-32.181 489.0734,-35.156 489.0734,-35.156 489.0734,-35.156 488.6867,-32.181 486.3959,-35.504 488.3,-29.206 488.3,-29.206\"/>\n",
       "<text text-anchor=\"middle\" x=\"477.5\" y=\"-50.8\" font-family=\"Times,serif\" font-size=\"14.00\" fill=\"#000000\">ε</text>\n",
       "</g>\n",
       "<!-- 7&#45;&gt;F7 -->\n",
       "<g id=\"edge13\" class=\"edge\">\n",
       "<title>7&#45;&gt;F7</title>\n",
       "<path fill=\"none\" stroke=\"#000000\" d=\"M492.0706,-212.5C509.99,-212.5 539.6218,-212.5 552.5895,-212.5\"/>\n",
       "<polygon fill=\"#000000\" stroke=\"#000000\" points=\"558.8745,-212.5 552.8746,-215.2001 555.8745,-212.5 552.8745,-212.5001 552.8745,-212.5001 552.8745,-212.5001 555.8745,-212.5 552.8745,-209.8001 558.8745,-212.5 558.8745,-212.5\"/>\n",
       "</g>\n",
       "<!-- 8&#45;&gt;7 -->\n",
       "<g id=\"edge14\" class=\"edge\">\n",
       "<title>8&#45;&gt;7</title>\n",
       "<path fill=\"none\" stroke=\"#000000\" d=\"M362.16,-221.37C385.18,-219.6 429.89,-216.16 456.38,-214.12\"/>\n",
       "<polygon fill=\"#000000\" stroke=\"#000000\" points=\"462.69,-213.64 456.9121,-216.7874 459.6986,-213.8676 456.7073,-214.0952 456.7073,-214.0952 456.7073,-214.0952 459.6986,-213.8676 456.5024,-211.403 462.69,-213.64 462.69,-213.64\"/>\n",
       "<text text-anchor=\"middle\" x=\"411\" y=\"-221.3\" font-family=\"Times,serif\" font-size=\"14.00\" fill=\"#000000\">b</text>\n",
       "</g>\n",
       "</g>\n",
       "</svg>\n"
      ],
      "text/plain": [
       "expression_automaton<mutable_automaton<context<nullableset<letterset<char_letters>>, b>>>"
      ]
     },
     "execution_count": 41,
     "metadata": {},
     "output_type": "execute_result"
    }
   ],
   "source": [
    "a = e.derived_term()\n",
    "a"
   ]
  },
  {
   "cell_type": "code",
   "execution_count": 42,
   "metadata": {},
   "outputs": [
    {
     "data": {
      "image/svg+xml": [
       "<?xml version=\"1.0\" encoding=\"UTF-8\" standalone=\"no\"?>\n",
       "<!DOCTYPE svg PUBLIC \"-//W3C//DTD SVG 1.1//EN\"\n",
       " \"http://www.w3.org/Graphics/SVG/1.1/DTD/svg11.dtd\">\n",
       "<!-- Generated by graphviz version 2.40.1 (20161225.0304)\n",
       " -->\n",
       "<!-- Title: %3 Pages: 1 -->\n",
       "<svg width=\"283pt\" height=\"73pt\"\n",
       " viewBox=\"0.00 0.00 283.00 72.50\" xmlns=\"http://www.w3.org/2000/svg\" xmlns:xlink=\"http://www.w3.org/1999/xlink\">\n",
       "<g id=\"graph0\" class=\"graph\" transform=\"scale(1 1) rotate(0) translate(4 68.5)\">\n",
       "<title>%3</title>\n",
       "<polygon fill=\"#ffffff\" stroke=\"transparent\" points=\"-4,4 -4,-68.5 279,-68.5 279,4 -4,4\"/>\n",
       "<!-- I0 -->\n",
       "<g id=\"node1\" class=\"node\">\n",
       "<title>I0</title>\n",
       "<ellipse fill=\"#000000\" stroke=\"#000000\" cx=\"0\" cy=\"-48.5\" rx=\"0\" ry=\"0\"/>\n",
       "</g>\n",
       "<!-- 0 -->\n",
       "<g id=\"node5\" class=\"node\">\n",
       "<title>0</title>\n",
       "<path fill=\"#98f5ff\" stroke=\"#000000\" d=\"M61.3333,-63C61.3333,-63 46.6667,-63 46.6667,-63 41.8333,-63 37,-58.1667 37,-53.3333 37,-53.3333 37,-43.6667 37,-43.6667 37,-38.8333 41.8333,-34 46.6667,-34 46.6667,-34 61.3333,-34 61.3333,-34 66.1667,-34 71,-38.8333 71,-43.6667 71,-43.6667 71,-53.3333 71,-53.3333 71,-58.1667 66.1667,-63 61.3333,-63\"/>\n",
       "<text text-anchor=\"middle\" x=\"54\" y=\"-45.4\" font-family=\"Times,serif\" font-size=\"12.00\" fill=\"#000000\">{0}</text>\n",
       "</g>\n",
       "<!-- I0&#45;&gt;0 -->\n",
       "<g id=\"edge1\" class=\"edge\">\n",
       "<title>I0&#45;&gt;0</title>\n",
       "<path fill=\"none\" stroke=\"#000000\" d=\"M.1549,-48.5C1.8394,-48.5 16.962,-48.5 30.752,-48.5\"/>\n",
       "<polygon fill=\"#000000\" stroke=\"#000000\" points=\"36.942,-48.5 30.942,-51.2001 33.942,-48.5 30.942,-48.5001 30.942,-48.5001 30.942,-48.5001 33.942,-48.5 30.942,-45.8001 36.942,-48.5 36.942,-48.5\"/>\n",
       "</g>\n",
       "<!-- F0 -->\n",
       "<g id=\"node2\" class=\"node\">\n",
       "<title>F0</title>\n",
       "<ellipse fill=\"#000000\" stroke=\"#000000\" cx=\"137\" cy=\"-64.5\" rx=\"0\" ry=\"0\"/>\n",
       "</g>\n",
       "<!-- F1 -->\n",
       "<g id=\"node3\" class=\"node\">\n",
       "<title>F1</title>\n",
       "<ellipse fill=\"#000000\" stroke=\"#000000\" cx=\"221\" cy=\"-47.5\" rx=\"0\" ry=\"0\"/>\n",
       "</g>\n",
       "<!-- F2 -->\n",
       "<g id=\"node4\" class=\"node\">\n",
       "<title>F2</title>\n",
       "<ellipse fill=\"#000000\" stroke=\"#000000\" cx=\"275\" cy=\"-14.5\" rx=\"0\" ry=\"0\"/>\n",
       "</g>\n",
       "<!-- 0&#45;&gt;F0 -->\n",
       "<g id=\"edge2\" class=\"edge\">\n",
       "<title>0&#45;&gt;F0</title>\n",
       "<path fill=\"none\" stroke=\"#000000\" d=\"M71.1977,-51.8152C89.7812,-55.3976 118.4033,-60.9151 130.8583,-63.3161\"/>\n",
       "<polygon fill=\"#000000\" stroke=\"#000000\" points=\"136.8802,-64.4769 130.4776,-65.9923 133.9345,-63.909 130.9887,-63.3411 130.9887,-63.3411 130.9887,-63.3411 133.9345,-63.909 131.4998,-60.6899 136.8802,-64.4769 136.8802,-64.4769\"/>\n",
       "</g>\n",
       "<!-- 1 -->\n",
       "<g id=\"node6\" class=\"node\">\n",
       "<title>1</title>\n",
       "<path fill=\"#98f5ff\" stroke=\"#000000\" d=\"M150.3333,-46C150.3333,-46 123.6667,-46 123.6667,-46 118.8333,-46 114,-41.1667 114,-36.3333 114,-36.3333 114,-26.6667 114,-26.6667 114,-21.8333 118.8333,-17 123.6667,-17 123.6667,-17 150.3333,-17 150.3333,-17 155.1667,-17 160,-21.8333 160,-26.6667 160,-26.6667 160,-36.3333 160,-36.3333 160,-41.1667 155.1667,-46 150.3333,-46\"/>\n",
       "<text text-anchor=\"middle\" x=\"137\" y=\"-28.4\" font-family=\"Times,serif\" font-size=\"12.00\" fill=\"#000000\">{1, 2}</text>\n",
       "</g>\n",
       "<!-- 0&#45;&gt;1 -->\n",
       "<g id=\"edge3\" class=\"edge\">\n",
       "<title>0&#45;&gt;1</title>\n",
       "<path fill=\"none\" stroke=\"#000000\" d=\"M71.225,-41.728C76.818,-39.764 83.103,-37.8 89,-36.5 95.014,-35.174 101.53,-34.197 107.77,-33.478\"/>\n",
       "<polygon fill=\"#000000\" stroke=\"#000000\" points=\"113.88,-32.842 108.1918,-36.1488 110.8961,-33.1526 107.9122,-33.4633 107.9122,-33.4633 107.9122,-33.4633 110.8961,-33.1526 107.6327,-30.7778 113.88,-32.842 113.88,-32.842\"/>\n",
       "<text text-anchor=\"middle\" x=\"92.5\" y=\"-40.3\" font-family=\"Times,serif\" font-size=\"14.00\" fill=\"#000000\">a</text>\n",
       "</g>\n",
       "<!-- 1&#45;&gt;F1 -->\n",
       "<g id=\"edge4\" class=\"edge\">\n",
       "<title>1&#45;&gt;F1</title>\n",
       "<path fill=\"none\" stroke=\"#000000\" d=\"M160.3987,-35.9569C179.0217,-39.5041 203.7591,-44.216 214.9934,-46.3559\"/>\n",
       "<polygon fill=\"#000000\" stroke=\"#000000\" points=\"220.8967,-47.4803 214.4974,-49.0099 217.9497,-46.9189 215.0027,-46.3576 215.0027,-46.3576 215.0027,-46.3576 217.9497,-46.9189 215.5079,-43.7053 220.8967,-47.4803 220.8967,-47.4803\"/>\n",
       "</g>\n",
       "<!-- 2 -->\n",
       "<g id=\"node7\" class=\"node\">\n",
       "<title>2</title>\n",
       "<path fill=\"#98f5ff\" stroke=\"#000000\" d=\"M228.3333,-29C228.3333,-29 213.6667,-29 213.6667,-29 208.8333,-29 204,-24.1667 204,-19.3333 204,-19.3333 204,-9.6667 204,-9.6667 204,-4.8333 208.8333,0 213.6667,0 213.6667,0 228.3333,0 228.3333,0 233.1667,0 238,-4.8333 238,-9.6667 238,-9.6667 238,-19.3333 238,-19.3333 238,-24.1667 233.1667,-29 228.3333,-29\"/>\n",
       "<text text-anchor=\"middle\" x=\"221\" y=\"-11.4\" font-family=\"Times,serif\" font-size=\"12.00\" fill=\"#000000\">{1}</text>\n",
       "</g>\n",
       "<!-- 1&#45;&gt;2 -->\n",
       "<g id=\"edge5\" class=\"edge\">\n",
       "<title>1&#45;&gt;2</title>\n",
       "<path fill=\"none\" stroke=\"#000000\" d=\"M160.3,-24.715C166.05,-23.188 172.22,-21.674 178,-20.5 184.32,-19.217 191.21,-18.122 197.59,-17.232\"/>\n",
       "<polygon fill=\"#000000\" stroke=\"#000000\" points=\"203.76,-16.412 198.168,-19.879 200.7861,-16.8073 197.8123,-17.2025 197.8123,-17.2025 197.8123,-17.2025 200.7861,-16.8073 197.4566,-14.5261 203.76,-16.412 203.76,-16.412\"/>\n",
       "<text text-anchor=\"middle\" x=\"182\" y=\"-24.3\" font-family=\"Times,serif\" font-size=\"14.00\" fill=\"#000000\">b</text>\n",
       "</g>\n",
       "<!-- 2&#45;&gt;F2 -->\n",
       "<g id=\"edge6\" class=\"edge\">\n",
       "<title>2&#45;&gt;F2</title>\n",
       "<path fill=\"none\" stroke=\"#000000\" d=\"M238.0859,-14.5C248.6225,-14.5 261.4983,-14.5 268.9236,-14.5\"/>\n",
       "<polygon fill=\"#000000\" stroke=\"#000000\" points=\"274.939,-14.5 268.9391,-17.2001 271.939,-14.5 268.939,-14.5001 268.939,-14.5001 268.939,-14.5001 271.939,-14.5 268.939,-11.8001 274.939,-14.5 274.939,-14.5\"/>\n",
       "</g>\n",
       "</g>\n",
       "</svg>\n"
      ],
      "text/plain": [
       "partition_automaton<determinized_automaton<mutable_automaton<context<letterset<char_letters>, b>>, vcsn::wet_kind_t::bitset, false>>"
      ]
     },
     "execution_count": 42,
     "metadata": {},
     "output_type": "execute_result"
    }
   ],
   "source": [
    "a.trim().proper().determinize().minimize()"
   ]
  }
 ],
 "metadata": {
  "kernelspec": {
   "display_name": "Python 3",
   "language": "python",
   "name": "python3"
  },
  "language_info": {
   "codemirror_mode": {
    "name": "ipython",
    "version": 3
   },
   "file_extension": ".py",
   "mimetype": "text/x-python",
   "name": "python",
   "nbconvert_exporter": "python",
   "pygments_lexer": "ipython3",
   "version": "3.5.3"
  }
 },
 "nbformat": 4,
 "nbformat_minor": 1
}
