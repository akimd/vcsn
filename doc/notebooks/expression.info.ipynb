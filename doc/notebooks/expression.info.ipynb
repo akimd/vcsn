{
 "cells": [
  {
   "cell_type": "markdown",
   "metadata": {},
   "source": [
    "# _`expression`_`.info(key=None)`\n",
    "\n",
    "A dictionary of facts about an expression.\n",
    "\n",
    "The keys of the dictionary are:\n",
    "- `length`, `size`: the number of nodes in the syntax tree\n",
    "- `width`, `atom`: the number of letter occurrences\n",
    "- `depth`: the depth of the syntax tree (the depth of $a$ is 0, not 1)\n",
    "- `type`: the implementation type\n",
    "- `add`, `complement`, etc.: the number of occurrences of these operators (`+`, `{c}`, etc.) in the expression\n",
    "\n",
    "Arguments:\n",
    "- `key`: if specified, return just the corresponding result.\n",
    "\n",
    "See also:\n",
    "- [expression.context](expression.context.ipynb)"
   ]
  },
  {
   "cell_type": "markdown",
   "metadata": {},
   "source": [
    "## Examples"
   ]
  },
  {
   "cell_type": "code",
   "execution_count": 1,
   "metadata": {
    "collapsed": false
   },
   "outputs": [
    {
     "data": {
      "text/latex": [
       "$\\left(a + b\\right)^{*} \\, a \\, \\left(a + b\\right)$"
      ],
      "text/plain": [
       "(a+b)*a(a+b)"
      ]
     },
     "execution_count": 1,
     "metadata": {},
     "output_type": "execute_result"
    }
   ],
   "source": [
    "import vcsn\n",
    "e = vcsn.Q.expression('[ab]*a[ab]')\n",
    "e"
   ]
  },
  {
   "cell_type": "code",
   "execution_count": 2,
   "metadata": {
    "collapsed": false
   },
   "outputs": [
    {
     "data": {
      "image/svg+xml": [
       "<svg height=\"232pt\" viewBox=\"0.00 0.00 177.00 232.00\" width=\"177pt\" xmlns=\"http://www.w3.org/2000/svg\" xmlns:xlink=\"http://www.w3.org/1999/xlink\">\n",
       "<g class=\"graph\" id=\"graph0\" transform=\"scale(1 1) rotate(0) translate(4 228)\">\n",
       "<title>%3</title>\n",
       "<polygon fill=\"white\" points=\"-4,4 -4,-228 173,-228 173,4 -4,4\" stroke=\"none\"/>\n",
       "<!-- 3 -->\n",
       "<g class=\"node\" id=\"node1\"><title>3</title>\n",
       "<ellipse cx=\"14.5\" cy=\"-14.5\" fill=\"#98f5ff\" rx=\"14.5\" ry=\"14.5\" stroke=\"black\"/>\n",
       "<text font-family=\"Times,serif\" font-size=\"12.00\" text-anchor=\"middle\" x=\"14.5\" y=\"-11.4\">a</text>\n",
       "</g>\n",
       "<!-- 4 -->\n",
       "<g class=\"node\" id=\"node2\"><title>4</title>\n",
       "<ellipse cx=\"61.5\" cy=\"-14.5\" fill=\"#98f5ff\" rx=\"14.5\" ry=\"14.5\" stroke=\"black\"/>\n",
       "<text font-family=\"Times,serif\" font-size=\"12.00\" text-anchor=\"middle\" x=\"61.5\" y=\"-11.4\">b</text>\n",
       "</g>\n",
       "<!-- 2 -->\n",
       "<g class=\"node\" id=\"node3\"><title>2</title>\n",
       "<ellipse cx=\"37.5\" cy=\"-79.5\" fill=\"#98f5ff\" rx=\"14.5\" ry=\"14.5\" stroke=\"black\"/>\n",
       "<text font-family=\"Times,serif\" font-size=\"12.00\" text-anchor=\"middle\" x=\"37.5\" y=\"-76.4\">+</text>\n",
       "</g>\n",
       "<!-- 2&#45;&gt;3 -->\n",
       "<g class=\"edge\" id=\"edge1\"><title>2-&gt;3</title>\n",
       "<path d=\"M32.846,-65.751C29.554,-56.734 25.085,-44.495 21.383,-34.353\" fill=\"none\" stroke=\"black\"/>\n",
       "<polygon fill=\"black\" points=\"19.306,-28.664 23.9,-33.3741 20.3349,-31.4821 21.3638,-34.3001 21.3638,-34.3001 21.3638,-34.3001 20.3349,-31.4821 18.8275,-35.2261 19.306,-28.664 19.306,-28.664\" stroke=\"black\"/>\n",
       "</g>\n",
       "<!-- 2&#45;&gt;4 -->\n",
       "<g class=\"edge\" id=\"edge2\"><title>2-&gt;4</title>\n",
       "<path d=\"M42.357,-65.751C45.838,-56.614 50.579,-44.168 54.472,-33.948\" fill=\"none\" stroke=\"black\"/>\n",
       "<polygon fill=\"black\" points=\"56.65,-28.23 57.0374,-34.7981 55.5821,-31.0335 54.5142,-33.837 54.5142,-33.837 54.5142,-33.837 55.5821,-31.0335 51.991,-32.8759 56.65,-28.23 56.65,-28.23\" stroke=\"black\"/>\n",
       "</g>\n",
       "<!-- 1 -->\n",
       "<g class=\"node\" id=\"node4\"><title>1</title>\n",
       "<ellipse cx=\"37.5\" cy=\"-144.5\" fill=\"#98f5ff\" rx=\"14.5\" ry=\"14.5\" stroke=\"black\"/>\n",
       "<text font-family=\"Times,serif\" font-size=\"12.00\" text-anchor=\"middle\" x=\"37.5\" y=\"-141.4\">*</text>\n",
       "</g>\n",
       "<!-- 1&#45;&gt;2 -->\n",
       "<g class=\"edge\" id=\"edge3\"><title>1-&gt;2</title>\n",
       "<path d=\"M37.5,-129.83C37.5,-121.16 37.5,-109.81 37.5,-100.18\" fill=\"none\" stroke=\"black\"/>\n",
       "<polygon fill=\"black\" points=\"37.5,-94.143 40.2001,-100.143 37.5,-97.143 37.5001,-100.143 37.5001,-100.143 37.5001,-100.143 37.5,-97.143 34.8001,-100.143 37.5,-94.143 37.5,-94.143\" stroke=\"black\"/>\n",
       "</g>\n",
       "<!-- 5 -->\n",
       "<g class=\"node\" id=\"node5\"><title>5</title>\n",
       "<ellipse cx=\"84.5\" cy=\"-144.5\" fill=\"#98f5ff\" rx=\"14.5\" ry=\"14.5\" stroke=\"black\"/>\n",
       "<text font-family=\"Times,serif\" font-size=\"12.00\" text-anchor=\"middle\" x=\"84.5\" y=\"-141.4\">a</text>\n",
       "</g>\n",
       "<!-- 7 -->\n",
       "<g class=\"node\" id=\"node6\"><title>7</title>\n",
       "<ellipse cx=\"107.5\" cy=\"-79.5\" fill=\"#98f5ff\" rx=\"14.5\" ry=\"14.5\" stroke=\"black\"/>\n",
       "<text font-family=\"Times,serif\" font-size=\"12.00\" text-anchor=\"middle\" x=\"107.5\" y=\"-76.4\">a</text>\n",
       "</g>\n",
       "<!-- 8 -->\n",
       "<g class=\"node\" id=\"node7\"><title>8</title>\n",
       "<ellipse cx=\"154.5\" cy=\"-79.5\" fill=\"#98f5ff\" rx=\"14.5\" ry=\"14.5\" stroke=\"black\"/>\n",
       "<text font-family=\"Times,serif\" font-size=\"12.00\" text-anchor=\"middle\" x=\"154.5\" y=\"-76.4\">b</text>\n",
       "</g>\n",
       "<!-- 6 -->\n",
       "<g class=\"node\" id=\"node8\"><title>6</title>\n",
       "<ellipse cx=\"131.5\" cy=\"-144.5\" fill=\"#98f5ff\" rx=\"14.5\" ry=\"14.5\" stroke=\"black\"/>\n",
       "<text font-family=\"Times,serif\" font-size=\"12.00\" text-anchor=\"middle\" x=\"131.5\" y=\"-141.4\">+</text>\n",
       "</g>\n",
       "<!-- 6&#45;&gt;7 -->\n",
       "<g class=\"edge\" id=\"edge4\"><title>6-&gt;7</title>\n",
       "<path d=\"M126.64,-130.75C123.16,-121.61 118.42,-109.17 114.53,-98.948\" fill=\"none\" stroke=\"black\"/>\n",
       "<polygon fill=\"black\" points=\"112.35,-93.23 117.01,-97.8745 113.419,-96.0332 114.488,-98.8364 114.488,-98.8364 114.488,-98.8364 113.419,-96.0332 111.965,-99.7982 112.35,-93.23 112.35,-93.23\" stroke=\"black\"/>\n",
       "</g>\n",
       "<!-- 6&#45;&gt;8 -->\n",
       "<g class=\"edge\" id=\"edge5\"><title>6-&gt;8</title>\n",
       "<path d=\"M136.15,-130.75C139.45,-121.73 143.91,-109.49 147.62,-99.353\" fill=\"none\" stroke=\"black\"/>\n",
       "<polygon fill=\"black\" points=\"149.69,-93.664 150.176,-100.226 148.664,-96.4832 147.638,-99.3024 147.638,-99.3024 147.638,-99.3024 148.664,-96.4832 145.101,-98.3791 149.69,-93.664 149.69,-93.664\" stroke=\"black\"/>\n",
       "</g>\n",
       "<!-- 0 -->\n",
       "<g class=\"node\" id=\"node9\"><title>0</title>\n",
       "<ellipse cx=\"84.5\" cy=\"-209.5\" fill=\"#98f5ff\" rx=\"14.5\" ry=\"14.5\" stroke=\"black\"/>\n",
       "<text font-family=\"Times,serif\" font-size=\"12.00\" text-anchor=\"middle\" x=\"84.5\" y=\"-206.4\">.</text>\n",
       "</g>\n",
       "<!-- 0&#45;&gt;1 -->\n",
       "<g class=\"edge\" id=\"edge6\"><title>0-&gt;1</title>\n",
       "<path d=\"M76.313,-197.53C68.924,-187.62 57.956,-172.92 49.563,-161.67\" fill=\"none\" stroke=\"black\"/>\n",
       "<polygon fill=\"black\" points=\"45.909,-156.77 51.6603,-159.966 47.7024,-159.175 49.4958,-161.58 49.4958,-161.58 49.4958,-161.58 47.7024,-159.175 47.3314,-163.194 45.909,-156.77 45.909,-156.77\" stroke=\"black\"/>\n",
       "</g>\n",
       "<!-- 0&#45;&gt;5 -->\n",
       "<g class=\"edge\" id=\"edge7\"><title>0-&gt;5</title>\n",
       "<path d=\"M84.5,-194.83C84.5,-186.16 84.5,-174.81 84.5,-165.18\" fill=\"none\" stroke=\"black\"/>\n",
       "<polygon fill=\"black\" points=\"84.5,-159.14 87.2001,-165.14 84.5,-162.14 84.5001,-165.14 84.5001,-165.14 84.5001,-165.14 84.5,-162.14 81.8001,-165.14 84.5,-159.14 84.5,-159.14\" stroke=\"black\"/>\n",
       "</g>\n",
       "<!-- 0&#45;&gt;6 -->\n",
       "<g class=\"edge\" id=\"edge8\"><title>0-&gt;6</title>\n",
       "<path d=\"M92.687,-197.53C100.08,-187.62 111.04,-172.92 119.44,-161.67\" fill=\"none\" stroke=\"black\"/>\n",
       "<polygon fill=\"black\" points=\"123.09,-156.77 121.671,-163.195 121.298,-159.176 119.506,-161.582 119.506,-161.582 119.506,-161.582 121.298,-159.176 117.34,-159.969 123.09,-156.77 123.09,-156.77\" stroke=\"black\"/>\n",
       "</g>\n",
       "</g>\n",
       "</svg>"
      ],
      "text/plain": [
       "<IPython.core.display.SVG object>"
      ]
     },
     "execution_count": 2,
     "metadata": {},
     "output_type": "execute_result"
    }
   ],
   "source": [
    "e.SVG()"
   ]
  },
  {
   "cell_type": "code",
   "execution_count": 3,
   "metadata": {
    "collapsed": false
   },
   "outputs": [
    {
     "data": {
      "text/plain": [
       "{'add': 2,\n",
       " 'atom': 5,\n",
       " 'complement': 0,\n",
       " 'compose': 0,\n",
       " 'conjunction': 0,\n",
       " 'depth': 3,\n",
       " 'infiltrate': 0,\n",
       " 'ldivide': 0,\n",
       " 'length': 10,\n",
       " 'lweight': 0,\n",
       " 'mul': 1,\n",
       " 'one': 0,\n",
       " 'rweight': 0,\n",
       " 'shuffle': 0,\n",
       " 'size': 10,\n",
       " 'star': 1,\n",
       " 'transposition': 0,\n",
       " 'tuple': 0,\n",
       " 'type': 'expressionset<letterset<char_letters(ab)>, q>',\n",
       " 'width': 5,\n",
       " 'zero': 0}"
      ]
     },
     "execution_count": 3,
     "metadata": {},
     "output_type": "execute_result"
    }
   ],
   "source": [
    "e.info()"
   ]
  },
  {
   "cell_type": "code",
   "execution_count": 4,
   "metadata": {
    "collapsed": false
   },
   "outputs": [
    {
     "data": {
      "text/plain": [
       "'expressionset<letterset<char_letters(ab)>, q>'"
      ]
     },
     "execution_count": 4,
     "metadata": {},
     "output_type": "execute_result"
    }
   ],
   "source": [
    "e.info('type')"
   ]
  },
  {
   "cell_type": "markdown",
   "metadata": {},
   "source": [
    "Note that, although the expression uses a variadic product (the `.` node features three children), the length corresponds to the usual definition of expressions based on binary node.  Hence the tree features 9 nodes, but the length of the expression is 10.  This applies to all the variadic operators."
   ]
  },
  {
   "cell_type": "code",
   "execution_count": 5,
   "metadata": {
    "collapsed": false
   },
   "outputs": [
    {
     "data": {
      "text/plain": [
       "10"
      ]
     },
     "execution_count": 5,
     "metadata": {},
     "output_type": "execute_result"
    }
   ],
   "source": [
    "e.info('length')"
   ]
  },
  {
   "cell_type": "code",
   "execution_count": 6,
   "metadata": {
    "collapsed": false
   },
   "outputs": [
    {
     "data": {
      "text/plain": [
       "3"
      ]
     },
     "execution_count": 6,
     "metadata": {},
     "output_type": "execute_result"
    }
   ],
   "source": [
    "e.info('depth')"
   ]
  },
  {
   "cell_type": "code",
   "execution_count": 7,
   "metadata": {
    "collapsed": false
   },
   "outputs": [
    {
     "data": {
      "text/latex": [
       "$\\left(a + b\\right)^{*} \\, a \\, \\left(a + b\\right)^{2} \\& \\left(a + b\\right)^{*} \\, a \\, \\left(a + b\\right)^{4}$"
      ],
      "text/plain": [
       "(a+b)*a(a+b){2}&(a+b)*a(a+b){4}"
      ]
     },
     "execution_count": 7,
     "metadata": {},
     "output_type": "execute_result"
    }
   ],
   "source": [
    "e = vcsn.Q.expression('[ab]*a[ab]{2} & [ab]*a[ab]{4}')\n",
    "e"
   ]
  },
  {
   "cell_type": "code",
   "execution_count": 8,
   "metadata": {
    "collapsed": false
   },
   "outputs": [
    {
     "data": {
      "image/svg+xml": [
       "<svg height=\"297pt\" viewBox=\"0.00 0.00 671.00 297.00\" width=\"671pt\" xmlns=\"http://www.w3.org/2000/svg\" xmlns:xlink=\"http://www.w3.org/1999/xlink\">\n",
       "<g class=\"graph\" id=\"graph0\" transform=\"scale(1 1) rotate(0) translate(4 293)\">\n",
       "<title>%3</title>\n",
       "<polygon fill=\"white\" points=\"-4,4 -4,-293 667,-293 667,4 -4,4\" stroke=\"none\"/>\n",
       "<!-- 4 -->\n",
       "<g class=\"node\" id=\"node1\"><title>4</title>\n",
       "<ellipse cx=\"14.5\" cy=\"-14.5\" fill=\"#98f5ff\" rx=\"14.5\" ry=\"14.5\" stroke=\"black\"/>\n",
       "<text font-family=\"Times,serif\" font-size=\"12.00\" text-anchor=\"middle\" x=\"14.5\" y=\"-11.4\">a</text>\n",
       "</g>\n",
       "<!-- 5 -->\n",
       "<g class=\"node\" id=\"node2\"><title>5</title>\n",
       "<ellipse cx=\"61.5\" cy=\"-14.5\" fill=\"#98f5ff\" rx=\"14.5\" ry=\"14.5\" stroke=\"black\"/>\n",
       "<text font-family=\"Times,serif\" font-size=\"12.00\" text-anchor=\"middle\" x=\"61.5\" y=\"-11.4\">b</text>\n",
       "</g>\n",
       "<!-- 3 -->\n",
       "<g class=\"node\" id=\"node3\"><title>3</title>\n",
       "<ellipse cx=\"37.5\" cy=\"-79.5\" fill=\"#98f5ff\" rx=\"14.5\" ry=\"14.5\" stroke=\"black\"/>\n",
       "<text font-family=\"Times,serif\" font-size=\"12.00\" text-anchor=\"middle\" x=\"37.5\" y=\"-76.4\">+</text>\n",
       "</g>\n",
       "<!-- 3&#45;&gt;4 -->\n",
       "<g class=\"edge\" id=\"edge1\"><title>3-&gt;4</title>\n",
       "<path d=\"M32.846,-65.751C29.554,-56.734 25.085,-44.495 21.383,-34.353\" fill=\"none\" stroke=\"black\"/>\n",
       "<polygon fill=\"black\" points=\"19.306,-28.664 23.9,-33.3741 20.3349,-31.4821 21.3638,-34.3001 21.3638,-34.3001 21.3638,-34.3001 20.3349,-31.4821 18.8275,-35.2261 19.306,-28.664 19.306,-28.664\" stroke=\"black\"/>\n",
       "</g>\n",
       "<!-- 3&#45;&gt;5 -->\n",
       "<g class=\"edge\" id=\"edge2\"><title>3-&gt;5</title>\n",
       "<path d=\"M42.357,-65.751C45.838,-56.614 50.579,-44.168 54.472,-33.948\" fill=\"none\" stroke=\"black\"/>\n",
       "<polygon fill=\"black\" points=\"56.65,-28.23 57.0374,-34.7981 55.5821,-31.0335 54.5142,-33.837 54.5142,-33.837 54.5142,-33.837 55.5821,-31.0335 51.991,-32.8759 56.65,-28.23 56.65,-28.23\" stroke=\"black\"/>\n",
       "</g>\n",
       "<!-- 2 -->\n",
       "<g class=\"node\" id=\"node4\"><title>2</title>\n",
       "<ellipse cx=\"37.5\" cy=\"-144.5\" fill=\"#98f5ff\" rx=\"14.5\" ry=\"14.5\" stroke=\"black\"/>\n",
       "<text font-family=\"Times,serif\" font-size=\"12.00\" text-anchor=\"middle\" x=\"37.5\" y=\"-141.4\">*</text>\n",
       "</g>\n",
       "<!-- 2&#45;&gt;3 -->\n",
       "<g class=\"edge\" id=\"edge3\"><title>2-&gt;3</title>\n",
       "<path d=\"M37.5,-129.83C37.5,-121.16 37.5,-109.81 37.5,-100.18\" fill=\"none\" stroke=\"black\"/>\n",
       "<polygon fill=\"black\" points=\"37.5,-94.143 40.2001,-100.143 37.5,-97.143 37.5001,-100.143 37.5001,-100.143 37.5001,-100.143 37.5,-97.143 34.8001,-100.143 37.5,-94.143 37.5,-94.143\" stroke=\"black\"/>\n",
       "</g>\n",
       "<!-- 6 -->\n",
       "<g class=\"node\" id=\"node5\"><title>6</title>\n",
       "<ellipse cx=\"84.5\" cy=\"-144.5\" fill=\"#98f5ff\" rx=\"14.5\" ry=\"14.5\" stroke=\"black\"/>\n",
       "<text font-family=\"Times,serif\" font-size=\"12.00\" text-anchor=\"middle\" x=\"84.5\" y=\"-141.4\">a</text>\n",
       "</g>\n",
       "<!-- 8 -->\n",
       "<g class=\"node\" id=\"node6\"><title>8</title>\n",
       "<ellipse cx=\"84.5\" cy=\"-79.5\" fill=\"#98f5ff\" rx=\"14.5\" ry=\"14.5\" stroke=\"black\"/>\n",
       "<text font-family=\"Times,serif\" font-size=\"12.00\" text-anchor=\"middle\" x=\"84.5\" y=\"-76.4\">a</text>\n",
       "</g>\n",
       "<!-- 9 -->\n",
       "<g class=\"node\" id=\"node7\"><title>9</title>\n",
       "<ellipse cx=\"131.5\" cy=\"-79.5\" fill=\"#98f5ff\" rx=\"14.5\" ry=\"14.5\" stroke=\"black\"/>\n",
       "<text font-family=\"Times,serif\" font-size=\"12.00\" text-anchor=\"middle\" x=\"131.5\" y=\"-76.4\">b</text>\n",
       "</g>\n",
       "<!-- 7 -->\n",
       "<g class=\"node\" id=\"node8\"><title>7</title>\n",
       "<ellipse cx=\"131.5\" cy=\"-144.5\" fill=\"#98f5ff\" rx=\"14.5\" ry=\"14.5\" stroke=\"black\"/>\n",
       "<text font-family=\"Times,serif\" font-size=\"12.00\" text-anchor=\"middle\" x=\"131.5\" y=\"-141.4\">+</text>\n",
       "</g>\n",
       "<!-- 7&#45;&gt;8 -->\n",
       "<g class=\"edge\" id=\"edge4\"><title>7-&gt;8</title>\n",
       "<path d=\"M123.31,-132.53C115.92,-122.62 104.96,-107.92 96.563,-96.669\" fill=\"none\" stroke=\"black\"/>\n",
       "<polygon fill=\"black\" points=\"92.909,-91.772 98.6612,-94.9661 94.7031,-94.1764 96.4972,-96.5808 96.4972,-96.5808 96.4972,-96.5808 94.7031,-94.1764 94.3333,-98.1956 92.909,-91.772 92.909,-91.772\" stroke=\"black\"/>\n",
       "</g>\n",
       "<!-- 7&#45;&gt;9 -->\n",
       "<g class=\"edge\" id=\"edge5\"><title>7-&gt;9</title>\n",
       "<path d=\"M131.5,-129.83C131.5,-121.16 131.5,-109.81 131.5,-100.18\" fill=\"none\" stroke=\"black\"/>\n",
       "<polygon fill=\"black\" points=\"131.5,-94.143 134.2,-100.143 131.5,-97.143 131.5,-100.143 131.5,-100.143 131.5,-100.143 131.5,-97.143 128.8,-100.143 131.5,-94.143 131.5,-94.143\" stroke=\"black\"/>\n",
       "</g>\n",
       "<!-- 11 -->\n",
       "<g class=\"node\" id=\"node9\"><title>11</title>\n",
       "<ellipse cx=\"178.5\" cy=\"-79.5\" fill=\"#98f5ff\" rx=\"14.5\" ry=\"14.5\" stroke=\"black\"/>\n",
       "<text font-family=\"Times,serif\" font-size=\"12.00\" text-anchor=\"middle\" x=\"178.5\" y=\"-76.4\">a</text>\n",
       "</g>\n",
       "<!-- 12 -->\n",
       "<g class=\"node\" id=\"node10\"><title>12</title>\n",
       "<ellipse cx=\"225.5\" cy=\"-79.5\" fill=\"#98f5ff\" rx=\"14.5\" ry=\"14.5\" stroke=\"black\"/>\n",
       "<text font-family=\"Times,serif\" font-size=\"12.00\" text-anchor=\"middle\" x=\"225.5\" y=\"-76.4\">b</text>\n",
       "</g>\n",
       "<!-- 10 -->\n",
       "<g class=\"node\" id=\"node11\"><title>10</title>\n",
       "<ellipse cx=\"178.5\" cy=\"-144.5\" fill=\"#98f5ff\" rx=\"14.5\" ry=\"14.5\" stroke=\"black\"/>\n",
       "<text font-family=\"Times,serif\" font-size=\"12.00\" text-anchor=\"middle\" x=\"178.5\" y=\"-141.4\">+</text>\n",
       "</g>\n",
       "<!-- 10&#45;&gt;11 -->\n",
       "<g class=\"edge\" id=\"edge6\"><title>10-&gt;11</title>\n",
       "<path d=\"M178.5,-129.83C178.5,-121.16 178.5,-109.81 178.5,-100.18\" fill=\"none\" stroke=\"black\"/>\n",
       "<polygon fill=\"black\" points=\"178.5,-94.143 181.2,-100.143 178.5,-97.143 178.5,-100.143 178.5,-100.143 178.5,-100.143 178.5,-97.143 175.8,-100.143 178.5,-94.143 178.5,-94.143\" stroke=\"black\"/>\n",
       "</g>\n",
       "<!-- 10&#45;&gt;12 -->\n",
       "<g class=\"edge\" id=\"edge7\"><title>10-&gt;12</title>\n",
       "<path d=\"M186.69,-132.53C194.08,-122.62 205.04,-107.92 213.44,-96.669\" fill=\"none\" stroke=\"black\"/>\n",
       "<polygon fill=\"black\" points=\"217.09,-91.772 215.669,-98.1963 215.297,-94.1774 213.504,-96.5827 213.504,-96.5827 213.504,-96.5827 215.297,-94.1774 211.339,-94.9692 217.09,-91.772 217.09,-91.772\" stroke=\"black\"/>\n",
       "</g>\n",
       "<!-- 1 -->\n",
       "<g class=\"node\" id=\"node12\"><title>1</title>\n",
       "<ellipse cx=\"131.5\" cy=\"-209.5\" fill=\"#98f5ff\" rx=\"14.5\" ry=\"14.5\" stroke=\"black\"/>\n",
       "<text font-family=\"Times,serif\" font-size=\"12.00\" text-anchor=\"middle\" x=\"131.5\" y=\"-206.4\">.</text>\n",
       "</g>\n",
       "<!-- 1&#45;&gt;2 -->\n",
       "<g class=\"edge\" id=\"edge8\"><title>1-&gt;2</title>\n",
       "<path d=\"M119.59,-200.52C103.07,-189.44 73.088,-169.35 54.293,-156.75\" fill=\"none\" stroke=\"black\"/>\n",
       "<polygon fill=\"black\" points=\"49.309,-153.41 55.7964,-154.507 51.8012,-155.08 54.2933,-156.75 54.2933,-156.75 54.2933,-156.75 51.8012,-155.08 52.7902,-158.993 49.309,-153.41 49.309,-153.41\" stroke=\"black\"/>\n",
       "</g>\n",
       "<!-- 1&#45;&gt;6 -->\n",
       "<g class=\"edge\" id=\"edge9\"><title>1-&gt;6</title>\n",
       "<path d=\"M123.31,-197.53C115.92,-187.62 104.96,-172.92 96.563,-161.67\" fill=\"none\" stroke=\"black\"/>\n",
       "<polygon fill=\"black\" points=\"92.909,-156.77 98.6603,-159.966 94.7024,-159.175 96.4958,-161.58 96.4958,-161.58 96.4958,-161.58 94.7024,-159.175 94.3314,-163.194 92.909,-156.77 92.909,-156.77\" stroke=\"black\"/>\n",
       "</g>\n",
       "<!-- 1&#45;&gt;7 -->\n",
       "<g class=\"edge\" id=\"edge10\"><title>1-&gt;7</title>\n",
       "<path d=\"M131.5,-194.83C131.5,-186.16 131.5,-174.81 131.5,-165.18\" fill=\"none\" stroke=\"black\"/>\n",
       "<polygon fill=\"black\" points=\"131.5,-159.14 134.2,-165.14 131.5,-162.14 131.5,-165.14 131.5,-165.14 131.5,-165.14 131.5,-162.14 128.8,-165.14 131.5,-159.14 131.5,-159.14\" stroke=\"black\"/>\n",
       "</g>\n",
       "<!-- 1&#45;&gt;10 -->\n",
       "<g class=\"edge\" id=\"edge11\"><title>1-&gt;10</title>\n",
       "<path d=\"M139.69,-197.53C147.08,-187.62 158.04,-172.92 166.44,-161.67\" fill=\"none\" stroke=\"black\"/>\n",
       "<polygon fill=\"black\" points=\"170.09,-156.77 168.671,-163.195 168.298,-159.176 166.506,-161.582 166.506,-161.582 166.506,-161.582 168.298,-159.176 164.34,-159.969 170.09,-156.77 170.09,-156.77\" stroke=\"black\"/>\n",
       "</g>\n",
       "<!-- 16 -->\n",
       "<g class=\"node\" id=\"node13\"><title>16</title>\n",
       "<ellipse cx=\"248.5\" cy=\"-14.5\" fill=\"#98f5ff\" rx=\"14.5\" ry=\"14.5\" stroke=\"black\"/>\n",
       "<text font-family=\"Times,serif\" font-size=\"12.00\" text-anchor=\"middle\" x=\"248.5\" y=\"-11.4\">a</text>\n",
       "</g>\n",
       "<!-- 17 -->\n",
       "<g class=\"node\" id=\"node14\"><title>17</title>\n",
       "<ellipse cx=\"295.5\" cy=\"-14.5\" fill=\"#98f5ff\" rx=\"14.5\" ry=\"14.5\" stroke=\"black\"/>\n",
       "<text font-family=\"Times,serif\" font-size=\"12.00\" text-anchor=\"middle\" x=\"295.5\" y=\"-11.4\">b</text>\n",
       "</g>\n",
       "<!-- 15 -->\n",
       "<g class=\"node\" id=\"node15\"><title>15</title>\n",
       "<ellipse cx=\"272.5\" cy=\"-79.5\" fill=\"#98f5ff\" rx=\"14.5\" ry=\"14.5\" stroke=\"black\"/>\n",
       "<text font-family=\"Times,serif\" font-size=\"12.00\" text-anchor=\"middle\" x=\"272.5\" y=\"-76.4\">+</text>\n",
       "</g>\n",
       "<!-- 15&#45;&gt;16 -->\n",
       "<g class=\"edge\" id=\"edge12\"><title>15-&gt;16</title>\n",
       "<path d=\"M267.64,-65.751C264.16,-56.614 259.42,-44.168 255.53,-33.948\" fill=\"none\" stroke=\"black\"/>\n",
       "<polygon fill=\"black\" points=\"253.35,-28.23 258.01,-32.8745 254.419,-31.0332 255.488,-33.8364 255.488,-33.8364 255.488,-33.8364 254.419,-31.0332 252.965,-34.7982 253.35,-28.23 253.35,-28.23\" stroke=\"black\"/>\n",
       "</g>\n",
       "<!-- 15&#45;&gt;17 -->\n",
       "<g class=\"edge\" id=\"edge13\"><title>15-&gt;17</title>\n",
       "<path d=\"M277.15,-65.751C280.45,-56.734 284.91,-44.495 288.62,-34.353\" fill=\"none\" stroke=\"black\"/>\n",
       "<polygon fill=\"black\" points=\"290.69,-28.664 291.176,-35.2256 289.664,-31.4832 288.638,-34.3024 288.638,-34.3024 288.638,-34.3024 289.664,-31.4832 286.101,-33.3791 290.69,-28.664 290.69,-28.664\" stroke=\"black\"/>\n",
       "</g>\n",
       "<!-- 14 -->\n",
       "<g class=\"node\" id=\"node16\"><title>14</title>\n",
       "<ellipse cx=\"272.5\" cy=\"-144.5\" fill=\"#98f5ff\" rx=\"14.5\" ry=\"14.5\" stroke=\"black\"/>\n",
       "<text font-family=\"Times,serif\" font-size=\"12.00\" text-anchor=\"middle\" x=\"272.5\" y=\"-141.4\">*</text>\n",
       "</g>\n",
       "<!-- 14&#45;&gt;15 -->\n",
       "<g class=\"edge\" id=\"edge14\"><title>14-&gt;15</title>\n",
       "<path d=\"M272.5,-129.83C272.5,-121.16 272.5,-109.81 272.5,-100.18\" fill=\"none\" stroke=\"black\"/>\n",
       "<polygon fill=\"black\" points=\"272.5,-94.143 275.2,-100.143 272.5,-97.143 272.5,-100.143 272.5,-100.143 272.5,-100.143 272.5,-97.143 269.8,-100.143 272.5,-94.143 272.5,-94.143\" stroke=\"black\"/>\n",
       "</g>\n",
       "<!-- 18 -->\n",
       "<g class=\"node\" id=\"node17\"><title>18</title>\n",
       "<ellipse cx=\"319.5\" cy=\"-144.5\" fill=\"#98f5ff\" rx=\"14.5\" ry=\"14.5\" stroke=\"black\"/>\n",
       "<text font-family=\"Times,serif\" font-size=\"12.00\" text-anchor=\"middle\" x=\"319.5\" y=\"-141.4\">a</text>\n",
       "</g>\n",
       "<!-- 20 -->\n",
       "<g class=\"node\" id=\"node18\"><title>20</title>\n",
       "<ellipse cx=\"319.5\" cy=\"-79.5\" fill=\"#98f5ff\" rx=\"14.5\" ry=\"14.5\" stroke=\"black\"/>\n",
       "<text font-family=\"Times,serif\" font-size=\"12.00\" text-anchor=\"middle\" x=\"319.5\" y=\"-76.4\">a</text>\n",
       "</g>\n",
       "<!-- 21 -->\n",
       "<g class=\"node\" id=\"node19\"><title>21</title>\n",
       "<ellipse cx=\"366.5\" cy=\"-79.5\" fill=\"#98f5ff\" rx=\"14.5\" ry=\"14.5\" stroke=\"black\"/>\n",
       "<text font-family=\"Times,serif\" font-size=\"12.00\" text-anchor=\"middle\" x=\"366.5\" y=\"-76.4\">b</text>\n",
       "</g>\n",
       "<!-- 19 -->\n",
       "<g class=\"node\" id=\"node20\"><title>19</title>\n",
       "<ellipse cx=\"366.5\" cy=\"-144.5\" fill=\"#98f5ff\" rx=\"14.5\" ry=\"14.5\" stroke=\"black\"/>\n",
       "<text font-family=\"Times,serif\" font-size=\"12.00\" text-anchor=\"middle\" x=\"366.5\" y=\"-141.4\">+</text>\n",
       "</g>\n",
       "<!-- 19&#45;&gt;20 -->\n",
       "<g class=\"edge\" id=\"edge15\"><title>19-&gt;20</title>\n",
       "<path d=\"M358.31,-132.53C350.92,-122.62 339.96,-107.92 331.56,-96.669\" fill=\"none\" stroke=\"black\"/>\n",
       "<polygon fill=\"black\" points=\"327.91,-91.772 333.661,-94.9692 329.703,-94.1774 331.496,-96.5827 331.496,-96.5827 331.496,-96.5827 329.703,-94.1774 329.331,-98.1963 327.91,-91.772 327.91,-91.772\" stroke=\"black\"/>\n",
       "</g>\n",
       "<!-- 19&#45;&gt;21 -->\n",
       "<g class=\"edge\" id=\"edge16\"><title>19-&gt;21</title>\n",
       "<path d=\"M366.5,-129.83C366.5,-121.16 366.5,-109.81 366.5,-100.18\" fill=\"none\" stroke=\"black\"/>\n",
       "<polygon fill=\"black\" points=\"366.5,-94.143 369.2,-100.143 366.5,-97.143 366.5,-100.143 366.5,-100.143 366.5,-100.143 366.5,-97.143 363.8,-100.143 366.5,-94.143 366.5,-94.143\" stroke=\"black\"/>\n",
       "</g>\n",
       "<!-- 23 -->\n",
       "<g class=\"node\" id=\"node21\"><title>23</title>\n",
       "<ellipse cx=\"413.5\" cy=\"-79.5\" fill=\"#98f5ff\" rx=\"14.5\" ry=\"14.5\" stroke=\"black\"/>\n",
       "<text font-family=\"Times,serif\" font-size=\"12.00\" text-anchor=\"middle\" x=\"413.5\" y=\"-76.4\">a</text>\n",
       "</g>\n",
       "<!-- 24 -->\n",
       "<g class=\"node\" id=\"node22\"><title>24</title>\n",
       "<ellipse cx=\"460.5\" cy=\"-79.5\" fill=\"#98f5ff\" rx=\"14.5\" ry=\"14.5\" stroke=\"black\"/>\n",
       "<text font-family=\"Times,serif\" font-size=\"12.00\" text-anchor=\"middle\" x=\"460.5\" y=\"-76.4\">b</text>\n",
       "</g>\n",
       "<!-- 22 -->\n",
       "<g class=\"node\" id=\"node23\"><title>22</title>\n",
       "<ellipse cx=\"413.5\" cy=\"-144.5\" fill=\"#98f5ff\" rx=\"14.5\" ry=\"14.5\" stroke=\"black\"/>\n",
       "<text font-family=\"Times,serif\" font-size=\"12.00\" text-anchor=\"middle\" x=\"413.5\" y=\"-141.4\">+</text>\n",
       "</g>\n",
       "<!-- 22&#45;&gt;23 -->\n",
       "<g class=\"edge\" id=\"edge17\"><title>22-&gt;23</title>\n",
       "<path d=\"M413.5,-129.83C413.5,-121.16 413.5,-109.81 413.5,-100.18\" fill=\"none\" stroke=\"black\"/>\n",
       "<polygon fill=\"black\" points=\"413.5,-94.143 416.2,-100.143 413.5,-97.143 413.5,-100.143 413.5,-100.143 413.5,-100.143 413.5,-97.143 410.8,-100.143 413.5,-94.143 413.5,-94.143\" stroke=\"black\"/>\n",
       "</g>\n",
       "<!-- 22&#45;&gt;24 -->\n",
       "<g class=\"edge\" id=\"edge18\"><title>22-&gt;24</title>\n",
       "<path d=\"M421.69,-132.53C429.08,-122.62 440.04,-107.92 448.44,-96.669\" fill=\"none\" stroke=\"black\"/>\n",
       "<polygon fill=\"black\" points=\"452.09,-91.772 450.669,-98.1963 450.297,-94.1774 448.504,-96.5827 448.504,-96.5827 448.504,-96.5827 450.297,-94.1774 446.339,-94.9692 452.09,-91.772 452.09,-91.772\" stroke=\"black\"/>\n",
       "</g>\n",
       "<!-- 26 -->\n",
       "<g class=\"node\" id=\"node24\"><title>26</title>\n",
       "<ellipse cx=\"507.5\" cy=\"-79.5\" fill=\"#98f5ff\" rx=\"14.5\" ry=\"14.5\" stroke=\"black\"/>\n",
       "<text font-family=\"Times,serif\" font-size=\"12.00\" text-anchor=\"middle\" x=\"507.5\" y=\"-76.4\">a</text>\n",
       "</g>\n",
       "<!-- 27 -->\n",
       "<g class=\"node\" id=\"node25\"><title>27</title>\n",
       "<ellipse cx=\"554.5\" cy=\"-79.5\" fill=\"#98f5ff\" rx=\"14.5\" ry=\"14.5\" stroke=\"black\"/>\n",
       "<text font-family=\"Times,serif\" font-size=\"12.00\" text-anchor=\"middle\" x=\"554.5\" y=\"-76.4\">b</text>\n",
       "</g>\n",
       "<!-- 25 -->\n",
       "<g class=\"node\" id=\"node26\"><title>25</title>\n",
       "<ellipse cx=\"507.5\" cy=\"-144.5\" fill=\"#98f5ff\" rx=\"14.5\" ry=\"14.5\" stroke=\"black\"/>\n",
       "<text font-family=\"Times,serif\" font-size=\"12.00\" text-anchor=\"middle\" x=\"507.5\" y=\"-141.4\">+</text>\n",
       "</g>\n",
       "<!-- 25&#45;&gt;26 -->\n",
       "<g class=\"edge\" id=\"edge19\"><title>25-&gt;26</title>\n",
       "<path d=\"M507.5,-129.83C507.5,-121.16 507.5,-109.81 507.5,-100.18\" fill=\"none\" stroke=\"black\"/>\n",
       "<polygon fill=\"black\" points=\"507.5,-94.143 510.2,-100.143 507.5,-97.143 507.5,-100.143 507.5,-100.143 507.5,-100.143 507.5,-97.143 504.8,-100.143 507.5,-94.143 507.5,-94.143\" stroke=\"black\"/>\n",
       "</g>\n",
       "<!-- 25&#45;&gt;27 -->\n",
       "<g class=\"edge\" id=\"edge20\"><title>25-&gt;27</title>\n",
       "<path d=\"M515.69,-132.53C523.08,-122.62 534.04,-107.92 542.44,-96.669\" fill=\"none\" stroke=\"black\"/>\n",
       "<polygon fill=\"black\" points=\"546.09,-91.772 544.669,-98.1963 544.297,-94.1774 542.504,-96.5827 542.504,-96.5827 542.504,-96.5827 544.297,-94.1774 540.339,-94.9692 546.09,-91.772 546.09,-91.772\" stroke=\"black\"/>\n",
       "</g>\n",
       "<!-- 29 -->\n",
       "<g class=\"node\" id=\"node27\"><title>29</title>\n",
       "<ellipse cx=\"601.5\" cy=\"-79.5\" fill=\"#98f5ff\" rx=\"14.5\" ry=\"14.5\" stroke=\"black\"/>\n",
       "<text font-family=\"Times,serif\" font-size=\"12.00\" text-anchor=\"middle\" x=\"601.5\" y=\"-76.4\">a</text>\n",
       "</g>\n",
       "<!-- 30 -->\n",
       "<g class=\"node\" id=\"node28\"><title>30</title>\n",
       "<ellipse cx=\"648.5\" cy=\"-79.5\" fill=\"#98f5ff\" rx=\"14.5\" ry=\"14.5\" stroke=\"black\"/>\n",
       "<text font-family=\"Times,serif\" font-size=\"12.00\" text-anchor=\"middle\" x=\"648.5\" y=\"-76.4\">b</text>\n",
       "</g>\n",
       "<!-- 28 -->\n",
       "<g class=\"node\" id=\"node29\"><title>28</title>\n",
       "<ellipse cx=\"601.5\" cy=\"-144.5\" fill=\"#98f5ff\" rx=\"14.5\" ry=\"14.5\" stroke=\"black\"/>\n",
       "<text font-family=\"Times,serif\" font-size=\"12.00\" text-anchor=\"middle\" x=\"601.5\" y=\"-141.4\">+</text>\n",
       "</g>\n",
       "<!-- 28&#45;&gt;29 -->\n",
       "<g class=\"edge\" id=\"edge21\"><title>28-&gt;29</title>\n",
       "<path d=\"M601.5,-129.83C601.5,-121.16 601.5,-109.81 601.5,-100.18\" fill=\"none\" stroke=\"black\"/>\n",
       "<polygon fill=\"black\" points=\"601.5,-94.143 604.2,-100.143 601.5,-97.143 601.5,-100.143 601.5,-100.143 601.5,-100.143 601.5,-97.143 598.8,-100.143 601.5,-94.143 601.5,-94.143\" stroke=\"black\"/>\n",
       "</g>\n",
       "<!-- 28&#45;&gt;30 -->\n",
       "<g class=\"edge\" id=\"edge22\"><title>28-&gt;30</title>\n",
       "<path d=\"M609.69,-132.53C617.08,-122.62 628.04,-107.92 636.44,-96.669\" fill=\"none\" stroke=\"black\"/>\n",
       "<polygon fill=\"black\" points=\"640.09,-91.772 638.669,-98.1963 638.297,-94.1774 636.504,-96.5827 636.504,-96.5827 636.504,-96.5827 638.297,-94.1774 634.339,-94.9692 640.09,-91.772 640.09,-91.772\" stroke=\"black\"/>\n",
       "</g>\n",
       "<!-- 13 -->\n",
       "<g class=\"node\" id=\"node30\"><title>13</title>\n",
       "<ellipse cx=\"366.5\" cy=\"-209.5\" fill=\"#98f5ff\" rx=\"14.5\" ry=\"14.5\" stroke=\"black\"/>\n",
       "<text font-family=\"Times,serif\" font-size=\"12.00\" text-anchor=\"middle\" x=\"366.5\" y=\"-206.4\">.</text>\n",
       "</g>\n",
       "<!-- 13&#45;&gt;14 -->\n",
       "<g class=\"edge\" id=\"edge23\"><title>13-&gt;14</title>\n",
       "<path d=\"M354.59,-200.52C338.07,-189.44 308.09,-169.35 289.29,-156.75\" fill=\"none\" stroke=\"black\"/>\n",
       "<polygon fill=\"black\" points=\"284.31,-153.41 290.797,-154.51 286.802,-155.081 289.293,-156.752 289.293,-156.752 289.293,-156.752 286.802,-155.081 287.789,-158.994 284.31,-153.41 284.31,-153.41\" stroke=\"black\"/>\n",
       "</g>\n",
       "<!-- 13&#45;&gt;18 -->\n",
       "<g class=\"edge\" id=\"edge24\"><title>13-&gt;18</title>\n",
       "<path d=\"M358.31,-197.53C350.92,-187.62 339.96,-172.92 331.56,-161.67\" fill=\"none\" stroke=\"black\"/>\n",
       "<polygon fill=\"black\" points=\"327.91,-156.77 333.66,-159.969 329.702,-159.176 331.494,-161.582 331.494,-161.582 331.494,-161.582 329.702,-159.176 329.329,-163.195 327.91,-156.77 327.91,-156.77\" stroke=\"black\"/>\n",
       "</g>\n",
       "<!-- 13&#45;&gt;19 -->\n",
       "<g class=\"edge\" id=\"edge25\"><title>13-&gt;19</title>\n",
       "<path d=\"M366.5,-194.83C366.5,-186.16 366.5,-174.81 366.5,-165.18\" fill=\"none\" stroke=\"black\"/>\n",
       "<polygon fill=\"black\" points=\"366.5,-159.14 369.2,-165.14 366.5,-162.14 366.5,-165.14 366.5,-165.14 366.5,-165.14 366.5,-162.14 363.8,-165.14 366.5,-159.14 366.5,-159.14\" stroke=\"black\"/>\n",
       "</g>\n",
       "<!-- 13&#45;&gt;22 -->\n",
       "<g class=\"edge\" id=\"edge26\"><title>13-&gt;22</title>\n",
       "<path d=\"M374.69,-197.53C382.08,-187.62 393.04,-172.92 401.44,-161.67\" fill=\"none\" stroke=\"black\"/>\n",
       "<polygon fill=\"black\" points=\"405.09,-156.77 403.671,-163.195 403.298,-159.176 401.506,-161.582 401.506,-161.582 401.506,-161.582 403.298,-159.176 399.34,-159.969 405.09,-156.77 405.09,-156.77\" stroke=\"black\"/>\n",
       "</g>\n",
       "<!-- 13&#45;&gt;25 -->\n",
       "<g class=\"edge\" id=\"edge27\"><title>13-&gt;25</title>\n",
       "<path d=\"M379.51,-202.69C404.59,-191.48 459.69,-166.86 488.74,-153.88\" fill=\"none\" stroke=\"black\"/>\n",
       "<polygon fill=\"black\" points=\"494.52,-151.3 490.142,-156.211 491.781,-152.523 489.041,-153.746 489.041,-153.746 489.041,-153.746 491.781,-152.523 487.94,-151.28 494.52,-151.3 494.52,-151.3\" stroke=\"black\"/>\n",
       "</g>\n",
       "<!-- 13&#45;&gt;28 -->\n",
       "<g class=\"edge\" id=\"edge28\"><title>13-&gt;28</title>\n",
       "<path d=\"M380.5,-204.75C420.5,-194.02 535.41,-163.22 581.76,-150.79\" fill=\"none\" stroke=\"black\"/>\n",
       "<polygon fill=\"black\" points=\"587.58,-149.23 582.484,-153.391 584.682,-150.007 581.785,-150.783 581.785,-150.783 581.785,-150.783 584.682,-150.007 581.086,-148.176 587.58,-149.23 587.58,-149.23\" stroke=\"black\"/>\n",
       "</g>\n",
       "<!-- 0 -->\n",
       "<g class=\"node\" id=\"node31\"><title>0</title>\n",
       "<ellipse cx=\"248.5\" cy=\"-274.5\" fill=\"#98f5ff\" rx=\"14.5\" ry=\"14.5\" stroke=\"black\"/>\n",
       "<text font-family=\"Times,serif\" font-size=\"12.00\" text-anchor=\"middle\" x=\"248.5\" y=\"-271.4\">&amp;</text>\n",
       "</g>\n",
       "<!-- 0&#45;&gt;1 -->\n",
       "<g class=\"edge\" id=\"edge29\"><title>0-&gt;1</title>\n",
       "<path d=\"M235.98,-266.76C215.13,-255.53 173.24,-232.97 149.32,-220.09\" fill=\"none\" stroke=\"black\"/>\n",
       "<polygon fill=\"black\" points=\"143.93,-217.19 150.493,-217.655 146.572,-218.611 149.214,-220.033 149.214,-220.033 149.214,-220.033 146.572,-218.611 147.934,-222.411 143.93,-217.19 143.93,-217.19\" stroke=\"black\"/>\n",
       "</g>\n",
       "<!-- 0&#45;&gt;13 -->\n",
       "<g class=\"edge\" id=\"edge30\"><title>0-&gt;13</title>\n",
       "<path d=\"M261.13,-266.76C282.15,-255.53 324.41,-232.97 348.53,-220.09\" fill=\"none\" stroke=\"black\"/>\n",
       "<polygon fill=\"black\" points=\"353.96,-217.19 349.939,-222.398 351.314,-218.603 348.667,-220.017 348.667,-220.017 348.667,-220.017 351.314,-218.603 347.396,-217.635 353.96,-217.19 353.96,-217.19\" stroke=\"black\"/>\n",
       "</g>\n",
       "</g>\n",
       "</svg>"
      ],
      "text/plain": [
       "<IPython.core.display.SVG object>"
      ]
     },
     "execution_count": 8,
     "metadata": {},
     "output_type": "execute_result"
    }
   ],
   "source": [
    "e.SVG()"
   ]
  },
  {
   "cell_type": "code",
   "execution_count": 9,
   "metadata": {
    "collapsed": false
   },
   "outputs": [
    {
     "data": {
      "text/plain": [
       "{'add': 8,\n",
       " 'atom': 18,\n",
       " 'complement': 0,\n",
       " 'compose': 0,\n",
       " 'conjunction': 1,\n",
       " 'depth': 4,\n",
       " 'infiltrate': 0,\n",
       " 'ldivide': 0,\n",
       " 'length': 37,\n",
       " 'lweight': 0,\n",
       " 'mul': 2,\n",
       " 'one': 0,\n",
       " 'rweight': 0,\n",
       " 'shuffle': 0,\n",
       " 'size': 37,\n",
       " 'star': 2,\n",
       " 'transposition': 0,\n",
       " 'tuple': 0,\n",
       " 'type': 'expressionset<letterset<char_letters(ab)>, q>',\n",
       " 'width': 18,\n",
       " 'zero': 0}"
      ]
     },
     "execution_count": 9,
     "metadata": {},
     "output_type": "execute_result"
    }
   ],
   "source": [
    "e.info()"
   ]
  },
  {
   "cell_type": "code",
   "execution_count": 10,
   "metadata": {
    "collapsed": false
   },
   "outputs": [
    {
     "data": {
      "text/plain": [
       "{'add': 2,\n",
       " 'atom': 5,\n",
       " 'complement': 0,\n",
       " 'compose': 0,\n",
       " 'conjunction': 0,\n",
       " 'depth': 2,\n",
       " 'infiltrate': 0,\n",
       " 'ldivide': 0,\n",
       " 'length': 9,\n",
       " 'lweight': 0,\n",
       " 'mul': 1,\n",
       " 'one': 0,\n",
       " 'rweight': 0,\n",
       " 'shuffle': 0,\n",
       " 'size': 9,\n",
       " 'star': 0,\n",
       " 'transposition': 0,\n",
       " 'tuple': 0,\n",
       " 'type': 'expressionset<letterset<char_letters(ab)>, q>',\n",
       " 'width': 5,\n",
       " 'zero': 0}"
      ]
     },
     "execution_count": 10,
     "metadata": {},
     "output_type": "execute_result"
    }
   ],
   "source": [
    "vcsn.Q.expression('[ab]a[ab]').info()"
   ]
  }
 ],
 "metadata": {
  "kernelspec": {
   "display_name": "Python 3",
   "language": "python",
   "name": "python3"
  },
  "language_info": {
   "codemirror_mode": {
    "name": "ipython",
    "version": 3
   },
   "file_extension": ".py",
   "mimetype": "text/x-python",
   "name": "python",
   "nbconvert_exporter": "python",
   "pygments_lexer": "ipython3",
   "version": "3.5.1"
  },
  "widgets": {
   "state": {},
   "version": "1.1.2"
  }
 },
 "nbformat": 4,
 "nbformat_minor": 0
}
