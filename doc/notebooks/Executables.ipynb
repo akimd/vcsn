{
 "cells": [
  {
   "cell_type": "markdown",
   "metadata": {},
   "source": [
    "# Executables\n",
    "Vcsn comes with a set of programs that you use to manipulate automata, expressions, etc.\n",
    "\n",
    "It is much less powerful than writing Python programs, however it comes handy occasionally to process a batch of files, or for a quick experiment.\n",
    "\n",
    "## Synopsis\n",
    "\n",
    "    vcsn COMMAND [OPTION...] ARG...\n",
    "    \n",
    "Run `vcsn tafkit --help` for details on the interface:"
   ]
  },
  {
   "cell_type": "code",
   "execution_count": 1,
   "metadata": {
    "collapsed": false
   },
   "outputs": [
    {
     "name": "stdout",
     "output_type": "stream",
     "text": [
      "usage: vcsn COMMAND [OPTIONS...] [ARGS...]\r\n",
      "\r\n",
      "General Options:\r\n",
      "  -h, --help      display this help message and exit successfully\r\n",
      "  -c, --commands  display the supported commands and exit successfully\r\n",
      "\r\n",
      "Available COMMANDs:\r\n",
      "  accessible add ambiguous-word are-equivalent are-isomorphic cerny \r\n",
      "  coaccessible codeterminize cominimize complement complete component \r\n",
      "  compose concatenate condense conjugate conjunction constant-term \r\n",
      "  context-of copy costandard cotrie de-bruijn delay-automaton \r\n",
      "  derivation derived-term determinize difference divkbaseb \r\n",
      "  eliminate-state eval expand factor focus get-format has-bounded-lag \r\n",
      "  has-lightening-cycle has-twins-property identities-of inductive \r\n",
      "  infiltrate insplit is-accessible is-ambiguous is-coaccessible \r\n",
      "  is-codeterministic is-complete is-costandard is-cycle-ambiguous \r\n",
      "  is-deterministic is-empty is-eps-acyclic is-functional \r\n",
      "  is-letterized is-normalized is-out-sorted is-partial-identity \r\n",
      "  is-proper is-realtime is-standard is-synchronized \r\n",
      "  is-synchronized-by is-synchronizing is-trim is-useless is-valid \r\n",
      "  join ladybird ldivide less-than letterize levenshtein lgcd lift \r\n",
      "  lightest lightest-automaton lweight make-context make-word-context \r\n",
      "  minimize multiply normalize num-components num-tapes pair \r\n",
      "  partial-identity prefix project proper push-weights quotkbaseb \r\n",
      "  random-automaton random-automaton-deterministic rdivide realtime \r\n",
      "  reduce rweight scc set-format shortest shuffle sort split standard \r\n",
      "  star star-height star-normal-form strip subword suffix synchronize \r\n",
      "  synchronizing-word thompson to-automaton to-expansion to-expression \r\n",
      "  transpose transposition trie trim tuple type u universal \r\n",
      "  weight-series zpc \r\n",
      "\r\n",
      "Input/Output:\r\n",
      "  -C CONTEXT    the context to use\r\n",
      "                'lal, b', 'law, q', 'lan(abc), zmin', etc.\r\n",
      "  -A            input is an automaton\r\n",
      "  -B            input is a boolean\r\n",
      "  -E            input is a rational expression\r\n",
      "  -F            input is a float\r\n",
      "  -L            input is a label (or a word)\r\n",
      "  -N            input is a number\r\n",
      "  -P            input is a polynomial\r\n",
      "  -S            input is a string\r\n",
      "  -W            input is a weight\r\n",
      "  -e STRING     input is STRING\r\n",
      "  -f FILE       input is FILE\r\n",
      "  -I FORMAT     input format (dot, efsm, fado, text)\r\n",
      "  -O FORMAT     output format\r\n",
      "                (dot, efsm, grail, info, list, null, text, tikz, utf8)\r\n",
      "  -o FILE       save output into FILE\r\n",
      "  -q            discard any output\r\n",
      "\r\n",
      "Input/Output Formats (for Automata, Expressions, Labels, Polynomials, Weights):\r\n",
      "  dot    A      GraphViz's Dot language\r\n",
      "  efsm   A      Extended FSM format for OpenFST: use efstcompile\r\n",
      "  fado   A      FAdo's format\r\n",
      "  grail  A      Grail's format\r\n",
      "  info   AE     facts about the result (size, etc.)\r\n",
      "  latex   ELPW  display as a LaTeX formula\r\n",
      "  list      P   display one monomial per line\r\n",
      "  null   AELPW  no output at all (e.g., for benchmarks)\r\n",
      "  text    ELPW  usual concrete syntax in ASCII\r\n",
      "  tikz   A      LaTeX source for TikZ\r\n",
      "  utf8    ELPW  usual concrete syntax in UTF-8\r\n",
      "\r\n",
      "Examples:\r\n",
      "  $ vcsn thompson -Ee '[ab]*a[ab]{3}' |\r\n",
      "      vcsn proper |\r\n",
      "      vcsn determinize |\r\n",
      "      vcsn eval -L 'abba'\r\n",
      "\r\n",
      "  $ vcsn thompson -Ee '[ab]*a[ab]{3}' |\r\n",
      "      vcsn proper -f - |\r\n",
      "      vcsn determinize -f - |\r\n",
      "      vcsn eval -f - -L 'abba'\r\n",
      "\r\n",
      "  $ vcsn derived-term -C 'lat<lan, lan>, q' -Ee 'a*|b*' |\r\n",
      "      vcsn shortest 10\r\n"
     ]
    }
   ],
   "source": [
    "!vcsn tafkit --help"
   ]
  },
  {
   "cell_type": "markdown",
   "metadata": {},
   "source": [
    "You can also run `vcsn tafkit COMMAND -h` to get information about a particular command."
   ]
  },
  {
   "cell_type": "code",
   "execution_count": 2,
   "metadata": {
    "collapsed": false
   },
   "outputs": [
    {
     "name": "stdout",
     "output_type": "stream",
     "text": [
      "usage: vcsn eval [OPTIONS...] [ARGS...]\r\n",
      "\r\n",
      "Available versions:\r\n",
      " eval: AUT:automaton P:polynomial -> weight\r\n",
      "    Evaluate P on AUT.\r\n",
      "\r\n",
      " eval: AUT:automaton L:word -> weight\r\n",
      "    Evaluate L on AUT.\r\n",
      "\r\n",
      "For more help about available options, please use \"vcsn tafkit --help\"\r\n"
     ]
    }
   ],
   "source": [
    "!vcsn tafkit eval -h"
   ]
  },
  {
   "cell_type": "code",
   "execution_count": 3,
   "metadata": {
    "collapsed": false
   },
   "outputs": [
    {
     "name": "stdout",
     "output_type": "stream",
     "text": [
      "usage: vcsn multiply [OPTIONS...] [ARGS...]\r\n",
      "\r\n",
      "Available versions:\r\n",
      " multiply: E:weight MIN:number [MAX=-2:number] -> weight\r\n",
      "    Repeated multiplication of a weight with itself.\r\n",
      "  Parameters:\r\n",
      "    E    the weight.\r\n",
      "    MIN  the minimum number.  If -1, denotes 0.\r\n",
      "    MAX  the maximum number.\r\n",
      "         If -1, denotes infinity, using star.\r\n",
      "         If -2, denotes the same value as min.\r\n",
      "\r\n",
      " multiply: LHS:weight RHS:weight -> weight\r\n",
      "    Multiply two weights.\r\n",
      "\r\n",
      " multiply: LHS:polynomial RHS:polynomial -> polynomial\r\n",
      "    Multiply two polynomials.\r\n",
      "\r\n",
      " multiply: L:label NUM:number -> label\r\n",
      "    Repeated multiplication of a label with itself.\r\n",
      "  Parameters:\r\n",
      "    L    the label.\r\n",
      "    NUM  the exponent.\r\n",
      "\r\n",
      " multiply: LHS:label RHS:label -> label\r\n",
      "    Multiply (concatenate) two labels.\r\n",
      "\r\n",
      " multiply: E:expression MIN:number [MAX=-2:number] -> expression\r\n",
      "    Repeated multiplication (concatenation) of an expression with itself.\r\n",
      "  Parameters:\r\n",
      "    E    the expression.\r\n",
      "    MIN  the minimum number.  If -1, denotes 0.\r\n",
      "    MAX  the maximum number.\r\n",
      "         If -1, denotes infinity, using star.\r\n",
      "         If -2, denotes the same value as min.\r\n",
      "\r\n",
      " multiply: LHS:expression RHS:expression -> expression\r\n",
      "    Multiply (concatenate) two expressions.\r\n",
      "\r\n",
      " multiply: AUT:automaton MIN:number [MAX=-2:number] [ALGO=\"auto\":string] -> automaton\r\n",
      "    Repeated multiplication (concatenation) of an automaton with itself.\r\n",
      "  Parameters:\r\n",
      "    AUT  the automaton.\r\n",
      "    MIN  the minimum number.  If -1, denotes 0.\r\n",
      "    MAX  the maximum number.\r\n",
      "         If -1, denotes infinity, using star.\r\n",
      "         If -2, denotes the same value as min.\r\n",
      "    ALGO  how to compute the result\r\n",
      "      - \"standard\"    AUT is standard,\r\n",
      "                      build a standard automaton.\r\n",
      "      - \"general\"     no requirement on AUT,\r\n",
      "                      but add spontaneous transitions.\r\n",
      "      - \"auto\"        \"standard\" if AUT is standard,\r\n",
      "                      \"general\" otherwise.\r\n",
      "\r\n",
      " multiply: LHS:automaton RHS:automaton [ALGO=\"auto\":string] -> automaton\r\n",
      "    Multiply (concatenate) two automata.\r\n",
      "  Parameters:\r\n",
      "    LHS   an automaton.\r\n",
      "    RHS   another one.\r\n",
      "    ALGO  how to compute the result\r\n",
      "      - \"standard\"    both LHS and RHS are standard,\r\n",
      "                      build a standard automaton.\r\n",
      "      - \"general\"     no requirement on LHS and and RHS,\r\n",
      "                      but add spontaneous transitions.\r\n",
      "      - \"auto\"        \"standard\" if both automata are standard,\r\n",
      "                      \"general\" otherwise.\r\n",
      "\r\n",
      "For more help about available options, please use \"vcsn tafkit --help\"\r\n"
     ]
    }
   ],
   "source": [
    "!vcsn tafkit multiply -h"
   ]
  },
  {
   "cell_type": "markdown",
   "metadata": {},
   "source": [
    "## Examples\n",
    "To generate the standard automaton of `[ab]*c` and save it in `abc.gv`:"
   ]
  },
  {
   "cell_type": "code",
   "execution_count": 4,
   "metadata": {
    "collapsed": true
   },
   "outputs": [],
   "source": [
    "!vcsn standard -Ee '[ab]*c' -o abc.gv"
   ]
  },
  {
   "cell_type": "code",
   "execution_count": 5,
   "metadata": {
    "collapsed": false
   },
   "outputs": [
    {
     "data": {
      "image/svg+xml": [
       "<?xml version=\"1.0\" encoding=\"UTF-8\" standalone=\"no\"?>\n",
       "<!DOCTYPE svg PUBLIC \"-//W3C//DTD SVG 1.1//EN\"\n",
       " \"http://www.w3.org/Graphics/SVG/1.1/DTD/svg11.dtd\">\n",
       "<!-- Generated by graphviz version 2.38.0 (20140413.2041)\n",
       " -->\n",
       "<!-- Title: %3 Pages: 1 -->\n",
       "<svg width=\"334pt\" height=\"132pt\"\n",
       " viewBox=\"0.00 0.00 334.00 132.21\" xmlns=\"http://www.w3.org/2000/svg\" xmlns:xlink=\"http://www.w3.org/1999/xlink\">\n",
       "<g id=\"graph0\" class=\"graph\" transform=\"scale(1 1) rotate(0) translate(4 125)\">\n",
       "<title>%3</title>\n",
       "<polygon fill=\"white\" stroke=\"none\" points=\"-4,7.2057 -4,-125 330,-125 330,7.2057 -4,7.2057\"/>\n",
       "<!-- I0 -->\n",
       "<g id=\"node1\" class=\"node\"><title>I0</title>\n",
       "<ellipse fill=\"black\" stroke=\"black\" cx=\"0\" cy=\"-14.5\" rx=\"0\" ry=\"0\"/>\n",
       "</g>\n",
       "<!-- 0 -->\n",
       "<g id=\"node3\" class=\"node\"><title>0</title>\n",
       "<ellipse fill=\"#98f5ff\" stroke=\"black\" cx=\"51.5\" cy=\"-14.5\" rx=\"14.5\" ry=\"14.5\"/>\n",
       "<text text-anchor=\"middle\" x=\"51.5\" y=\"-11.4\" font-family=\"Times,serif\" font-size=\"12.00\">0</text>\n",
       "</g>\n",
       "<!-- I0&#45;&gt;0 -->\n",
       "<g id=\"edge1\" class=\"edge\"><title>I0&#45;&gt;0</title>\n",
       "<path fill=\"none\" stroke=\"black\" d=\"M1.142,-14.5C2.7502,-14.5 17.72,-14.5 30.756,-14.5\"/>\n",
       "<polygon fill=\"black\" stroke=\"black\" points=\"36.933,-14.5 30.933,-17.2001 33.933,-14.5 30.933,-14.5001 30.933,-14.5001 30.933,-14.5001 33.933,-14.5 30.933,-11.8001 36.933,-14.5 36.933,-14.5\"/>\n",
       "</g>\n",
       "<!-- F3 -->\n",
       "<g id=\"node2\" class=\"node\"><title>F3</title>\n",
       "<ellipse fill=\"black\" stroke=\"black\" cx=\"326\" cy=\"-31.5\" rx=\"0\" ry=\"0\"/>\n",
       "</g>\n",
       "<!-- 1 -->\n",
       "<g id=\"node4\" class=\"node\"><title>1</title>\n",
       "<ellipse fill=\"#98f5ff\" stroke=\"black\" cx=\"125.5\" cy=\"-73.5\" rx=\"14.5\" ry=\"14.5\"/>\n",
       "<text text-anchor=\"middle\" x=\"125.5\" y=\"-70.4\" font-family=\"Times,serif\" font-size=\"12.00\">1</text>\n",
       "</g>\n",
       "<!-- 0&#45;&gt;1 -->\n",
       "<g id=\"edge2\" class=\"edge\"><title>0&#45;&gt;1</title>\n",
       "<path fill=\"none\" stroke=\"black\" d=\"M63.124,-23.206C75.248,-33.141 95.184,-49.477 109.03,-60.825\"/>\n",
       "<polygon fill=\"black\" stroke=\"black\" points=\"113.83,-64.759 107.478,-63.0439 111.51,-62.8573 109.189,-60.9556 109.189,-60.9556 109.189,-60.9556 111.51,-62.8573 110.901,-58.8674 113.83,-64.759 113.83,-64.759\"/>\n",
       "<text text-anchor=\"middle\" x=\"88.5\" y=\"-52.3\" font-family=\"Times,serif\" font-size=\"14.00\">a</text>\n",
       "</g>\n",
       "<!-- 2 -->\n",
       "<g id=\"node5\" class=\"node\"><title>2</title>\n",
       "<ellipse fill=\"#98f5ff\" stroke=\"black\" cx=\"200.5\" cy=\"-31.5\" rx=\"14.5\" ry=\"14.5\"/>\n",
       "<text text-anchor=\"middle\" x=\"200.5\" y=\"-28.4\" font-family=\"Times,serif\" font-size=\"12.00\">2</text>\n",
       "</g>\n",
       "<!-- 0&#45;&gt;2 -->\n",
       "<g id=\"edge3\" class=\"edge\"><title>0&#45;&gt;2</title>\n",
       "<path fill=\"none\" stroke=\"black\" d=\"M66.066,-16.069C92.21,-19.092 149.66,-25.736 179.94,-29.238\"/>\n",
       "<polygon fill=\"black\" stroke=\"black\" points=\"185.97,-29.935 179.7,-31.9281 182.99,-29.5905 180.01,-29.246 180.01,-29.246 180.01,-29.246 182.99,-29.5905 180.32,-26.5638 185.97,-29.935 185.97,-29.935\"/>\n",
       "<text text-anchor=\"middle\" x=\"125.5\" y=\"-28.3\" font-family=\"Times,serif\" font-size=\"14.00\">b</text>\n",
       "</g>\n",
       "<!-- 3 -->\n",
       "<g id=\"node6\" class=\"node\"><title>3</title>\n",
       "<ellipse fill=\"#98f5ff\" stroke=\"black\" cx=\"274.5\" cy=\"-31.5\" rx=\"14.5\" ry=\"14.5\"/>\n",
       "<text text-anchor=\"middle\" x=\"274.5\" y=\"-28.4\" font-family=\"Times,serif\" font-size=\"12.00\">3</text>\n",
       "</g>\n",
       "<!-- 0&#45;&gt;3 -->\n",
       "<g id=\"edge4\" class=\"edge\"><title>0&#45;&gt;3</title>\n",
       "<path fill=\"none\" stroke=\"black\" d=\"M66.146,-11.762C94.292,-6.585 160.7,3.2057 215,-7.5 229.31,-10.321 244.52,-16.677 255.84,-22.139\"/>\n",
       "<polygon fill=\"black\" stroke=\"black\" points=\"261.39,-24.891 254.815,-24.6445 258.702,-23.5583 256.015,-22.2255 256.015,-22.2255 256.015,-22.2255 258.702,-23.5583 257.214,-19.8065 261.39,-24.891 261.39,-24.891\"/>\n",
       "<text text-anchor=\"middle\" x=\"163\" y=\"-7.3\" font-family=\"Times,serif\" font-size=\"14.00\">c</text>\n",
       "</g>\n",
       "<!-- 1&#45;&gt;1 -->\n",
       "<g id=\"edge5\" class=\"edge\"><title>1&#45;&gt;1</title>\n",
       "<path fill=\"none\" stroke=\"black\" d=\"M119.48,-86.854C117.52,-96.445 119.52,-106 125.5,-106 130.17,-106 132.42,-100.17 132.24,-93.043\"/>\n",
       "<polygon fill=\"black\" stroke=\"black\" points=\"131.52,-86.854 134.895,-92.5018 131.867,-89.8339 132.213,-92.8138 132.213,-92.8138 132.213,-92.8138 131.867,-89.8339 129.532,-93.1258 131.52,-86.854 131.52,-86.854\"/>\n",
       "<text text-anchor=\"middle\" x=\"125.5\" y=\"-109.8\" font-family=\"Times,serif\" font-size=\"14.00\">a</text>\n",
       "</g>\n",
       "<!-- 1&#45;&gt;2 -->\n",
       "<g id=\"edge6\" class=\"edge\"><title>1&#45;&gt;2</title>\n",
       "<path fill=\"none\" stroke=\"black\" d=\"M136.75,-64.146C142.66,-59.072 150.41,-52.946 158,-48.5 165.03,-44.381 173.25,-40.788 180.52,-37.979\"/>\n",
       "<polygon fill=\"black\" stroke=\"black\" points=\"186.34,-35.81 181.661,-40.4354 183.529,-36.8577 180.718,-37.9054 180.718,-37.9054 180.718,-37.9054 183.529,-36.8577 179.775,-35.3754 186.34,-35.81 186.34,-35.81\"/>\n",
       "<text text-anchor=\"middle\" x=\"163\" y=\"-52.3\" font-family=\"Times,serif\" font-size=\"14.00\">b</text>\n",
       "</g>\n",
       "<!-- 1&#45;&gt;3 -->\n",
       "<g id=\"edge7\" class=\"edge\"><title>1&#45;&gt;3</title>\n",
       "<path fill=\"none\" stroke=\"black\" d=\"M138.37,-80.188C144.1,-83.049 151.21,-86.059 158,-87.5 182.78,-92.759 191.49,-96.939 215,-87.5 234.58,-79.639 251.31,-61.748 261.8,-48.29\"/>\n",
       "<polygon fill=\"black\" stroke=\"black\" points=\"265.64,-43.198 264.183,-49.6142 263.834,-45.5933 262.027,-47.9885 262.027,-47.9885 262.027,-47.9885 263.834,-45.5933 259.872,-46.3628 265.64,-43.198 265.64,-43.198\"/>\n",
       "<text text-anchor=\"middle\" x=\"200.5\" y=\"-97.3\" font-family=\"Times,serif\" font-size=\"14.00\">c</text>\n",
       "</g>\n",
       "<!-- 2&#45;&gt;1 -->\n",
       "<g id=\"edge8\" class=\"edge\"><title>2&#45;&gt;1</title>\n",
       "<path fill=\"none\" stroke=\"black\" d=\"M191.05,-42.871C185.3,-49.83 177.09,-58.356 168,-63.5 161.48,-67.188 153.64,-69.523 146.54,-70.998\"/>\n",
       "<polygon fill=\"black\" stroke=\"black\" points=\"140.28,-72.125 145.707,-68.4045 143.233,-71.5934 146.185,-71.0618 146.185,-71.0618 146.185,-71.0618 143.233,-71.5934 146.663,-73.7191 140.28,-72.125 140.28,-72.125\"/>\n",
       "<text text-anchor=\"middle\" x=\"163\" y=\"-72.3\" font-family=\"Times,serif\" font-size=\"14.00\">a</text>\n",
       "</g>\n",
       "<!-- 2&#45;&gt;2 -->\n",
       "<g id=\"edge9\" class=\"edge\"><title>2&#45;&gt;2</title>\n",
       "<path fill=\"none\" stroke=\"black\" d=\"M194.48,-44.854C192.52,-54.445 194.52,-64 200.5,-64 205.17,-64 207.42,-58.168 207.24,-51.043\"/>\n",
       "<polygon fill=\"black\" stroke=\"black\" points=\"206.52,-44.854 209.895,-50.5018 206.867,-47.8339 207.213,-50.8138 207.213,-50.8138 207.213,-50.8138 206.867,-47.8339 204.532,-51.1258 206.52,-44.854 206.52,-44.854\"/>\n",
       "<text text-anchor=\"middle\" x=\"200.5\" y=\"-67.8\" font-family=\"Times,serif\" font-size=\"14.00\">b</text>\n",
       "</g>\n",
       "<!-- 2&#45;&gt;3 -->\n",
       "<g id=\"edge10\" class=\"edge\"><title>2&#45;&gt;3</title>\n",
       "<path fill=\"none\" stroke=\"black\" d=\"M215.04,-31.5C225.87,-31.5 241.2,-31.5 253.44,-31.5\"/>\n",
       "<polygon fill=\"black\" stroke=\"black\" points=\"259.53,-31.5 253.53,-34.2001 256.53,-31.5 253.53,-31.5001 253.53,-31.5001 253.53,-31.5001 256.53,-31.5 253.53,-28.8001 259.53,-31.5 259.53,-31.5\"/>\n",
       "<text text-anchor=\"middle\" x=\"237.5\" y=\"-35.3\" font-family=\"Times,serif\" font-size=\"14.00\">c</text>\n",
       "</g>\n",
       "<!-- 3&#45;&gt;F3 -->\n",
       "<g id=\"edge11\" class=\"edge\"><title>3&#45;&gt;F3</title>\n",
       "<path fill=\"none\" stroke=\"black\" d=\"M289.12,-31.5C299.261,-31.5 312.253,-31.5 319.8,-31.5\"/>\n",
       "<polygon fill=\"black\" stroke=\"black\" points=\"325.937,-31.5 319.937,-34.2001 322.937,-31.5 319.937,-31.5001 319.937,-31.5001 319.937,-31.5001 322.937,-31.5 319.937,-28.8001 325.937,-31.5 325.937,-31.5\"/>\n",
       "</g>\n",
       "</g>\n",
       "</svg>\n"
      ],
      "text/plain": [
       "mutable_automaton<context<letterset<char_letters>, b>>"
      ]
     },
     "execution_count": 5,
     "metadata": {},
     "output_type": "execute_result"
    }
   ],
   "source": [
    "import vcsn\n",
    "vcsn.automaton(filename='abc.gv')"
   ]
  },
  {
   "cell_type": "markdown",
   "metadata": {},
   "source": [
    "To generate a Thompson automaton, make it proper, minimize it and extract a rational expression from it:"
   ]
  },
  {
   "cell_type": "code",
   "execution_count": 6,
   "metadata": {
    "collapsed": false
   },
   "outputs": [
    {
     "name": "stdout",
     "output_type": "stream",
     "text": [
      "c+aa*c+(b+aa*b)(b+aa*b)*(c+aa*c)\r\n"
     ]
    }
   ],
   "source": [
    "!vcsn thompson -Ee '[ab]*c' | vcsn proper | vcsn determinize | vcsn to-expression"
   ]
  },
  {
   "cell_type": "markdown",
   "metadata": {},
   "source": [
    "Likewise, but with an additional minimization step:"
   ]
  },
  {
   "cell_type": "code",
   "execution_count": 7,
   "metadata": {
    "collapsed": false
   },
   "outputs": [
    {
     "name": "stdout",
     "output_type": "stream",
     "text": [
      "(a+b)*c\r\n"
     ]
    }
   ],
   "source": [
    "!vcsn thompson -Ee '[ab]*c' | vcsn proper | vcsn determinize | vcsn minimize | vcsn to-expression"
   ]
  },
  {
   "cell_type": "markdown",
   "metadata": {},
   "source": [
    "The Python equivalent of these last runs are:"
   ]
  },
  {
   "cell_type": "code",
   "execution_count": 8,
   "metadata": {
    "collapsed": false
   },
   "outputs": [
    {
     "data": {
      "text/latex": [
       "$c + a \\, {a}^{*} \\, c + \\left(b + a \\, {a}^{*} \\, b\\right) \\, \\left(b + a \\, {a}^{*} \\, b\\right)^{*} \\, \\left(c + a \\, {a}^{*} \\, c\\right)$"
      ],
      "text/plain": [
       "c+aa*c+(b+aa*b)(b+aa*b)*(c+aa*c)"
      ]
     },
     "execution_count": 8,
     "metadata": {},
     "output_type": "execute_result"
    }
   ],
   "source": [
    "vcsn.B.expression('[ab]*c').thompson().proper().determinize().expression()"
   ]
  },
  {
   "cell_type": "code",
   "execution_count": 9,
   "metadata": {
    "collapsed": false
   },
   "outputs": [
    {
     "data": {
      "text/latex": [
       "$\\left(a + b\\right)^{*} \\, c$"
      ],
      "text/plain": [
       "(a+b)*c"
      ]
     },
     "execution_count": 9,
     "metadata": {},
     "output_type": "execute_result"
    }
   ],
   "source": [
    "vcsn.B.expression('[ab]*c').thompson().proper().determinize().minimize().expression()"
   ]
  }
 ],
 "metadata": {
  "kernelspec": {
   "display_name": "Python 3",
   "language": "python",
   "name": "python3"
  },
  "language_info": {
   "codemirror_mode": {
    "name": "ipython",
    "version": 3
   },
   "file_extension": ".py",
   "mimetype": "text/x-python",
   "name": "python",
   "nbconvert_exporter": "python",
   "pygments_lexer": "ipython3",
   "version": "3.5.2"
  }
 },
 "nbformat": 4,
 "nbformat_minor": 0
}
