{
 "cells": [
  {
   "cell_type": "markdown",
   "metadata": {},
   "source": [
    "# _expression_.transpose"
   ]
  },
  {
   "cell_type": "markdown",
   "metadata": {},
   "source": [
    "Reverse all the concatenations, and transpose the labels.\n",
    "\n",
    "Preconditions:\n",
    "- None\n",
    "\n",
    "Properties:\n",
    "- involution\n",
    "\n",
    "See also:\n",
    "- [automaton.transpose](automaton.transpose.ipynb)\n",
    "- [expression.transposition](expression.transposition.ipynb)"
   ]
  },
  {
   "cell_type": "markdown",
   "metadata": {},
   "source": [
    "## Examples"
   ]
  },
  {
   "cell_type": "code",
   "execution_count": 1,
   "metadata": {
    "collapsed": false
   },
   "outputs": [
    {
     "name": "stderr",
     "output_type": "stream",
     "text": [
      ":0: FutureWarning: IPython widgets are experimental and may change in the future.\n"
     ]
    },
    {
     "data": {
      "application/javascript": [
       "IPython.load_extensions(\"AutomatonD3Widget\")"
      ],
      "text/plain": [
       "<IPython.core.display.Javascript object>"
      ]
     },
     "metadata": {},
     "output_type": "display_data"
    },
    {
     "data": {
      "text/latex": [
       "$\\{a, b, c\\}^*\\rightarrow\\mathsf{Series}[\\{x, y, z\\}^*\\rightarrow\\mathbb{B}]$"
      ],
      "text/plain": [
       "wordset<char_letters(abc)>, seriesset<wordset<char_letters(xyz)>, b>"
      ]
     },
     "execution_count": 1,
     "metadata": {},
     "output_type": "execute_result"
    }
   ],
   "source": [
    "import vcsn\n",
    "c = vcsn.context('law_char(abc), seriesset<law_char(xyz), b>')\n",
    "c"
   ]
  },
  {
   "cell_type": "code",
   "execution_count": 2,
   "metadata": {
    "collapsed": false
   },
   "outputs": [
    {
     "data": {
      "text/latex": [
       "$\\left( \\left\\langle \\mathit{x} \\right\\rangle \\,\\mathit{a} +  \\left\\langle \\mathit{xyz} \\right\\rangle \\,\\left(\\mathit{abc}\\right)\\right)^{*}$"
      ],
      "text/plain": [
       "(<x>a+<xyz>(abc))*"
      ]
     },
     "execution_count": 2,
     "metadata": {},
     "output_type": "execute_result"
    }
   ],
   "source": [
    "r = c.expression('(<x>a+<xyz>(abc))*')\n",
    "r"
   ]
  },
  {
   "cell_type": "code",
   "execution_count": 3,
   "metadata": {
    "collapsed": false
   },
   "outputs": [
    {
     "data": {
      "text/latex": [
       "$\\left( \\left\\langle \\mathit{x} \\right\\rangle \\,\\mathit{a} +  \\left\\langle \\mathit{zyx} \\right\\rangle \\,\\left(\\mathit{cba}\\right)\\right)^{*}$"
      ],
      "text/plain": [
       "(<x>a+<zyx>(cba))*"
      ]
     },
     "execution_count": 3,
     "metadata": {},
     "output_type": "execute_result"
    }
   ],
   "source": [
    "r.transpose()"
   ]
  },
  {
   "cell_type": "code",
   "execution_count": 4,
   "metadata": {
    "collapsed": false
   },
   "outputs": [],
   "source": [
    "assert(r.transpose().transpose() == r)"
   ]
  },
  {
   "cell_type": "markdown",
   "metadata": {},
   "source": [
    "`transpose` and `transposition` should not be confused.  The former completely rewrites the expression, while the latter only wraps it in a syntactic transposition operator:"
   ]
  },
  {
   "cell_type": "code",
   "execution_count": 5,
   "metadata": {
    "collapsed": false
   },
   "outputs": [
    {
     "data": {
      "text/latex": [
       "$ \\left\\langle \\mathit{xyz} \\right\\rangle \\,\\left(\\mathit{abc}\\right)$"
      ],
      "text/plain": [
       "<xyz>(abc)"
      ]
     },
     "execution_count": 5,
     "metadata": {},
     "output_type": "execute_result"
    }
   ],
   "source": [
    "r = c.expression('<xyz>(abc)')\n",
    "r"
   ]
  },
  {
   "cell_type": "code",
   "execution_count": 6,
   "metadata": {
    "collapsed": false
   },
   "outputs": [
    {
     "data": {
      "text/latex": [
       "$ \\left\\langle \\mathit{zyx} \\right\\rangle \\,\\left(\\mathit{cba}\\right)$"
      ],
      "text/plain": [
       "<zyx>(cba)"
      ]
     },
     "execution_count": 6,
     "metadata": {},
     "output_type": "execute_result"
    }
   ],
   "source": [
    "r.transpose()"
   ]
  },
  {
   "cell_type": "code",
   "execution_count": 7,
   "metadata": {
    "collapsed": false
   },
   "outputs": [
    {
     "data": {
      "text/latex": [
       "$\\left( \\left\\langle \\mathit{xyz} \\right\\rangle \\,\\left(\\mathit{abc}\\right)\\right)^{T}$"
      ],
      "text/plain": [
       "(<xyz>(abc)){T}"
      ]
     },
     "execution_count": 7,
     "metadata": {},
     "output_type": "execute_result"
    }
   ],
   "source": [
    "r.transposition()"
   ]
  }
 ],
 "metadata": {
  "kernelspec": {
   "display_name": "Python 3",
   "language": "python",
   "name": "python3"
  },
  "language_info": {
   "codemirror_mode": {
    "name": "ipython",
    "version": 3
   },
   "file_extension": ".py",
   "mimetype": "text/x-python",
   "name": "python",
   "nbconvert_exporter": "python",
   "pygments_lexer": "ipython3",
   "version": "3.4.3"
  }
 },
 "nbformat": 4,
 "nbformat_minor": 0
}