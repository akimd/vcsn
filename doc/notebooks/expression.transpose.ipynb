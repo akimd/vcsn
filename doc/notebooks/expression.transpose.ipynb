{
 "cells": [
  {
   "cell_type": "markdown",
   "metadata": {},
   "source": [
    "# _expression_.transpose\n",
    "\n",
    "Reverse all the concatenations, and transpose the labels.\n",
    "\n",
    "Preconditions:\n",
    "- None\n",
    "\n",
    "Properties:\n",
    "- involution\n",
    "\n",
    "See also:\n",
    "- [automaton.transpose](automaton.transpose.ipynb)\n",
    "- [expression.transposition](expression.transposition.ipynb)"
   ]
  },
  {
   "cell_type": "markdown",
   "metadata": {},
   "source": [
    "## Examples"
   ]
  },
  {
   "cell_type": "code",
   "execution_count": 1,
   "metadata": {
    "collapsed": false
   },
   "outputs": [
    {
     "data": {
      "text/latex": [
       "$\\{a, b, c\\}^*\\to\\mathsf{Series}[\\{x, y, z\\}^*\\to\\mathbb{B}]$"
      ],
      "text/plain": [
       "{abc}* -> RatE[{xyz}* -> B](distributive)"
      ]
     },
     "execution_count": 1,
     "metadata": {},
     "output_type": "execute_result"
    }
   ],
   "source": [
    "import vcsn\n",
    "c = vcsn.context('law_char(abc), seriesset<law_char(xyz), b>')\n",
    "c"
   ]
  },
  {
   "cell_type": "code",
   "execution_count": 2,
   "metadata": {
    "collapsed": false
   },
   "outputs": [
    {
     "data": {
      "text/latex": [
       "$\\left( \\left\\langle \\mathit{x} \\right\\rangle \\,\\mathit{a} +  \\left\\langle \\mathit{xyz} \\right\\rangle \\,\\left(\\mathit{abc}\\right)\\right)^{*}$"
      ],
      "text/plain": [
       "(<x>a+<xyz>(abc))*"
      ]
     },
     "execution_count": 2,
     "metadata": {},
     "output_type": "execute_result"
    }
   ],
   "source": [
    "r = c.expression('(<x>a+<xyz>(abc))*')\n",
    "r"
   ]
  },
  {
   "cell_type": "code",
   "execution_count": 3,
   "metadata": {
    "collapsed": false
   },
   "outputs": [
    {
     "data": {
      "text/latex": [
       "$\\left( \\left\\langle \\mathit{x} \\right\\rangle \\,\\mathit{a} +  \\left\\langle \\mathit{zyx} \\right\\rangle \\,\\left(\\mathit{cba}\\right)\\right)^{*}$"
      ],
      "text/plain": [
       "(<x>a+<zyx>(cba))*"
      ]
     },
     "execution_count": 3,
     "metadata": {},
     "output_type": "execute_result"
    }
   ],
   "source": [
    "r.transpose()"
   ]
  },
  {
   "cell_type": "code",
   "execution_count": 4,
   "metadata": {
    "collapsed": false
   },
   "outputs": [],
   "source": [
    "assert(r.transpose().transpose() == r)"
   ]
  },
  {
   "cell_type": "markdown",
   "metadata": {},
   "source": [
    "`transpose` and `transposition` should not be confused.  The former completely rewrites the expression, while the latter only wraps it in a syntactic transposition operator:"
   ]
  },
  {
   "cell_type": "code",
   "execution_count": 5,
   "metadata": {
    "collapsed": false
   },
   "outputs": [
    {
     "data": {
      "text/latex": [
       "$ \\left\\langle \\mathit{xyz} \\right\\rangle \\,\\left(\\mathit{abc}\\right)$"
      ],
      "text/plain": [
       "<xyz>(abc)"
      ]
     },
     "execution_count": 5,
     "metadata": {},
     "output_type": "execute_result"
    }
   ],
   "source": [
    "r = c.expression('<xyz>(abc)')\n",
    "r"
   ]
  },
  {
   "cell_type": "code",
   "execution_count": 6,
   "metadata": {
    "collapsed": false
   },
   "outputs": [
    {
     "data": {
      "text/latex": [
       "$ \\left\\langle \\mathit{zyx} \\right\\rangle \\,\\left(\\mathit{cba}\\right)$"
      ],
      "text/plain": [
       "<zyx>(cba)"
      ]
     },
     "execution_count": 6,
     "metadata": {},
     "output_type": "execute_result"
    }
   ],
   "source": [
    "r.transpose()"
   ]
  },
  {
   "cell_type": "code",
   "execution_count": 7,
   "metadata": {
    "collapsed": false
   },
   "outputs": [
    {
     "data": {
      "text/latex": [
       "$\\left( \\left\\langle \\mathit{xyz} \\right\\rangle \\,\\left(\\mathit{abc}\\right)\\right)^{T}$"
      ],
      "text/plain": [
       "(<xyz>(abc)){T}"
      ]
     },
     "execution_count": 7,
     "metadata": {},
     "output_type": "execute_result"
    }
   ],
   "source": [
    "r.transposition()"
   ]
  }
 ],
 "metadata": {
  "kernelspec": {
   "display_name": "Python 3",
   "language": "python",
   "name": "python3"
  },
  "language_info": {
   "codemirror_mode": {
    "name": "ipython",
    "version": 3
   },
   "file_extension": ".py",
   "mimetype": "text/x-python",
   "name": "python",
   "nbconvert_exporter": "python",
   "pygments_lexer": "ipython3",
   "version": "3.4.4"
  }
 },
 "nbformat": 4,
 "nbformat_minor": 0
}
