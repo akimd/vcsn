{
 "cells": [
  {
   "cell_type": "markdown",
   "metadata": {},
   "source": [
    "# Operators on labels\n",
    "\n",
    "<table>\n",
    "  <tr><td>`*`</td>  <td>[multiply](label.multiply.ipynb)</td> <td>Multiplication (concatenation)</td></tr>\n",
    "  <tr><td>`**`</td> <td>[multiply](label.multiply.ipynb)</td> <td>Repeated multiplication</td></tr>\n",
    "  <tr><td>`/`</td>  <td>[rdivide](label.rdivide.ipynb)</td> <td>Right quotient</td></tr>\n",
    "  <tr><td>`//`</td> <td>[ldivide](label.ldivide.ipynb)</td> <td>Left quotient</td></tr>\n",
    "</table>"
   ]
  }
 ],
 "metadata": {
  "kernelspec": {
   "display_name": "Python 3",
   "language": "python",
   "name": "python3"
  },
  "language_info": {
   "codemirror_mode": {
    "name": "ipython",
    "version": 3
   },
   "file_extension": ".py",
   "mimetype": "text/x-python",
   "name": "python",
   "nbconvert_exporter": "python",
   "pygments_lexer": "ipython3",
   "version": "3.5.2"
  },
  "widgets": {
   "state": {},
   "version": "1.1.2"
  }
 },
 "nbformat": 4,
 "nbformat_minor": 0
}
