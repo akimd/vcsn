{
 "cells": [
  {
   "cell_type": "markdown",
   "metadata": {},
   "source": [
    "# Operators on weights\n",
    "\n",
    "<table>\n",
    "  <tr><td>`+`</td>  <td>[add](weight.add.ipynb)</td>                 <td>Sum</td></tr>\n",
    "  <tr><td>`*`</td>  <td>[multiply](weight.multiply.ipynb)</td>       <td>Product</td></tr>\n",
    "  <tr><td>`**`</td> <td>[multiply](weight.multiply.ipynb)</td>       <td>Repeated multiplication</td></tr>\n",
    "  <tr><td>`/`</td>  <td>[ldivide](weight.ldivide.ipynb)</td>         <td>Left quotient</td></tr>\n",
    "  <tr><td>`//`</td> <td>[rdivide](weight.rdivide.ipynb)</td>         <td>Right quotient</td></tr>\n",
    "</table>"
   ]
  }
 ],
 "metadata": {
  "kernelspec": {
   "display_name": "Python 3",
   "language": "python",
   "name": "python3"
  },
  "language_info": {
   "codemirror_mode": {
    "name": "ipython",
    "version": 3
   },
   "file_extension": ".py",
   "mimetype": "text/x-python",
   "name": "python",
   "nbconvert_exporter": "python",
   "pygments_lexer": "ipython3",
   "version": "3.6.4"
  }
 },
 "nbformat": 4,
 "nbformat_minor": 1
}
