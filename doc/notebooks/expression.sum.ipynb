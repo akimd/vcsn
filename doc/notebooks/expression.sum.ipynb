{
 "cells": [
  {
   "cell_type": "markdown",
   "metadata": {},
   "source": [
    "# _`expression`_`.sum(`_`exp`_`)`\n",
    "# _`expression`_ + _`exp`_\n",
    "\n",
    "An expression which denotes the sum (or disjunction) of both series.\n",
    "\n",
    "Preconditions:\n",
    "- None\n",
    "\n",
    "See also:\n",
    "- [automaton.sum](automaton.sum.ipynb)\n",
    "- [polynomial.sum](polynomial.sum.ipynb)"
   ]
  },
  {
   "cell_type": "markdown",
   "metadata": {},
   "source": [
    "## Examples"
   ]
  },
  {
   "cell_type": "code",
   "execution_count": 1,
   "metadata": {
    "collapsed": false
   },
   "outputs": [
    {
     "name": "stderr",
     "output_type": "stream",
     "text": [
      ":0: FutureWarning: IPython widgets are experimental and may change in the future.\n"
     ]
    },
    {
     "data": {
      "application/javascript": [
       "IPython.load_extensions(\"AutomatonD3Widget\")"
      ],
      "text/plain": [
       "<IPython.core.display.Javascript object>"
      ]
     },
     "metadata": {},
     "output_type": "display_data"
    },
    {
     "data": {
      "text/latex": [
       "$\\mathit{a} \\, {\\mathit{b}}^{*} + {\\mathit{a}}^{*} \\, \\mathit{b}$"
      ],
      "text/plain": [
       "ab*+a*b"
      ]
     },
     "execution_count": 1,
     "metadata": {},
     "output_type": "execute_result"
    }
   ],
   "source": [
    "import vcsn\n",
    "ctx = vcsn.context('law_char, z')\n",
    "def exp(e):\n",
    "    return ctx.expression(e)\n",
    "exp('a*b') + exp('ab*')"
   ]
  },
  {
   "cell_type": "markdown",
   "metadata": {},
   "source": [
    "Of course, trivial identities are applied."
   ]
  },
  {
   "cell_type": "code",
   "execution_count": 2,
   "metadata": {
    "collapsed": false
   },
   "outputs": [
    {
     "data": {
      "text/latex": [
       "$ \\left\\langle 5 \\right\\rangle \\,\\mathit{a}$"
      ],
      "text/plain": [
       "<5>a"
      ]
     },
     "execution_count": 2,
     "metadata": {},
     "output_type": "execute_result"
    }
   ],
   "source": [
    "exp('<2>a') + exp('<3>a')"
   ]
  },
  {
   "cell_type": "code",
   "execution_count": 3,
   "metadata": {
    "collapsed": false
   },
   "outputs": [
    {
     "data": {
      "text/latex": [
       "$ \\left\\langle 2 \\right\\rangle \\,\\mathit{a}$"
      ],
      "text/plain": [
       "<2>a"
      ]
     },
     "execution_count": 3,
     "metadata": {},
     "output_type": "execute_result"
    }
   ],
   "source": [
    "exp('<2>a') + exp('\\z')"
   ]
  }
 ],
 "metadata": {
  "kernelspec": {
   "display_name": "Python 3",
   "language": "python",
   "name": "python3"
  },
  "language_info": {
   "codemirror_mode": {
    "name": "ipython",
    "version": 3
   },
   "file_extension": ".py",
   "mimetype": "text/x-python",
   "name": "python",
   "nbconvert_exporter": "python",
   "pygments_lexer": "ipython3",
   "version": "3.4.3"
  }
 },
 "nbformat": 4,
 "nbformat_minor": 0
}
