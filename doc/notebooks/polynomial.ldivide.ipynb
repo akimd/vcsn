{
 "cells": [
  {
   "cell_type": "markdown",
   "metadata": {
    "deletable": true,
    "editable": true
   },
   "source": [
    "# _`polynomial`_`.ldivide(`_`poly`_`)`\n",
    "# _`polynomial`_`//`_`poly`_\n",
    "\n",
    "\n",
    "A polynomial which denotes the left-quotient of both polynomials.  Makes more sense when the labels can be words.  Beware that the notation `lhs // rhs` is somewhat misleading, and corresponds to `lhs \\ rhs`, i.e. `lhs` is the divisor, and `rhs` the dividend.\n",
    "\n",
    "Preconditions:\n",
    "- the division is valid\n",
    "\n",
    "See also:\n",
    "- [automaton.ldivide](automaton.ldivide.ipynb)\n",
    "- [expression.ldivide](expression.ldivide.ipynb)"
   ]
  },
  {
   "cell_type": "markdown",
   "metadata": {
    "deletable": true,
    "editable": true
   },
   "source": [
    "## Examples"
   ]
  },
  {
   "cell_type": "code",
   "execution_count": 1,
   "metadata": {
    "collapsed": false,
    "deletable": true,
    "editable": true
   },
   "outputs": [
    {
     "data": {
      "text/latex": [
       "$\\mathit{c}$"
      ],
      "text/plain": [
       "c"
      ]
     },
     "execution_count": 1,
     "metadata": {},
     "output_type": "execute_result"
    }
   ],
   "source": [
    "import sys\n",
    "import vcsn\n",
    "ctx = vcsn.context('law, q')\n",
    "poly = lambda p: ctx.polynomial(p)\n",
    "poly('ab') // poly('abc')"
   ]
  },
  {
   "cell_type": "markdown",
   "metadata": {
    "deletable": true,
    "editable": true
   },
   "source": [
    "The division must be valid."
   ]
  },
  {
   "cell_type": "code",
   "execution_count": 2,
   "metadata": {
    "collapsed": false,
    "deletable": true,
    "editable": true
   },
   "outputs": [
    {
     "name": "stderr",
     "output_type": "stream",
     "text": [
      "{abc}*: ldivide: invalid arguments: c, abc\n"
     ]
    }
   ],
   "source": [
    "try:\n",
    "    poly('c') // poly('abc')\n",
    "except RuntimeError as e:\n",
    "    print(e, file=sys.stderr)"
   ]
  },
  {
   "cell_type": "code",
   "execution_count": 3,
   "metadata": {
    "collapsed": false,
    "deletable": true,
    "editable": true
   },
   "outputs": [
    {
     "data": {
      "text/latex": [
       "$\\mathit{a} \\oplus \\mathit{b}$"
      ],
      "text/plain": [
       "a + b"
      ]
     },
     "execution_count": 3,
     "metadata": {},
     "output_type": "execute_result"
    }
   ],
   "source": [
    "poly('a+b') // poly('aa+ab+ba+bb')"
   ]
  },
  {
   "cell_type": "code",
   "execution_count": 4,
   "metadata": {
    "collapsed": false,
    "deletable": true,
    "editable": true
   },
   "outputs": [
    {
     "data": {
      "text/latex": [
       "$\\left\\langle \\frac{1}{2}\\right\\rangle \\mathit{a} \\oplus \\mathit{b}$"
      ],
      "text/plain": [
       "<1/2>a + b"
      ]
     },
     "execution_count": 4,
     "metadata": {},
     "output_type": "execute_result"
    }
   ],
   "source": [
    "poly('<2>\\e') // poly('a+<2>b')"
   ]
  }
 ],
 "metadata": {
  "kernelspec": {
   "display_name": "Python 3",
   "language": "python",
   "name": "python3"
  },
  "language_info": {
   "codemirror_mode": {
    "name": "ipython",
    "version": 3
   },
   "file_extension": ".py",
   "mimetype": "text/x-python",
   "name": "python",
   "nbconvert_exporter": "python",
   "pygments_lexer": "ipython3",
   "version": "3.5.3"
  }
 },
 "nbformat": 4,
 "nbformat_minor": 0
}
