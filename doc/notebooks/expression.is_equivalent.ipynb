{
 "cells": [
  {
   "cell_type": "markdown",
   "metadata": {},
   "source": [
    "# _`expression`_.`is_equivalent`(_`exp`_)"
   ]
  },
  {
   "cell_type": "markdown",
   "metadata": {},
   "source": [
    "Whether this expression is equivalent to _`exp`_, i.e., whether they accept the same words with the same weights.\n",
    "\n",
    "Preconditions:\n",
    "- Both labelsets are free, or nullable of free\n",
    "- Both weightsets are either $\\mathbb{B}, \\mathbb{Z}$, or a field ($\\mathbb{F}_2, \\mathbb{Q}, \\mathbb{Q}_\\text{mp}, \\mathbb{R}$).\n",
    "\n",
    "Algorithm:\n",
    "- Compute the derived-term automaton of both expressions, and check whether the automata are equivalent.\n",
    "\n",
    "See also:\n",
    "- [_automaton_.is_equivalent](automaton.is_equivalent.ipynb)"
   ]
  },
  {
   "cell_type": "markdown",
   "metadata": {},
   "source": [
    "## Examples"
   ]
  },
  {
   "cell_type": "code",
   "execution_count": 1,
   "metadata": {
    "collapsed": false
   },
   "outputs": [
    {
     "name": "stderr",
     "output_type": "stream",
     "text": [
      ":0: FutureWarning: IPython widgets are experimental and may change in the future.\n"
     ]
    },
    {
     "data": {
      "application/javascript": [
       "IPython.load_extensions(\"AutomatonD3Widget\")"
      ],
      "text/plain": [
       "<IPython.core.display.Javascript object>"
      ]
     },
     "metadata": {},
     "output_type": "display_data"
    }
   ],
   "source": [
    "import vcsn"
   ]
  },
  {
   "cell_type": "code",
   "execution_count": 2,
   "metadata": {
    "collapsed": false
   },
   "outputs": [
    {
     "data": {
      "text/plain": [
       "False"
      ]
     },
     "execution_count": 2,
     "metadata": {},
     "output_type": "execute_result"
    }
   ],
   "source": [
    "b = vcsn.context('lal_char, b')\n",
    "r1 = b.expression('a')\n",
    "r2 = b.expression('b')\n",
    "r1.is_equivalent(r2)"
   ]
  },
  {
   "cell_type": "code",
   "execution_count": 3,
   "metadata": {
    "collapsed": false
   },
   "outputs": [
    {
     "data": {
      "text/plain": [
       "True"
      ]
     },
     "execution_count": 3,
     "metadata": {},
     "output_type": "execute_result"
    }
   ],
   "source": [
    "r1 = b.expression('a')\n",
    "r2 = b.expression('a+a')\n",
    "r1.is_equivalent(r2)"
   ]
  },
  {
   "cell_type": "code",
   "execution_count": 4,
   "metadata": {
    "collapsed": false
   },
   "outputs": [
    {
     "data": {
      "text/plain": [
       "False"
      ]
     },
     "execution_count": 4,
     "metadata": {},
     "output_type": "execute_result"
    }
   ],
   "source": [
    "z = vcsn.context('lal_char, z')\n",
    "r1 = z.expression('<42>a')\n",
    "r2 = z.expression('<51>a')\n",
    "r1.is_equivalent(r2)"
   ]
  },
  {
   "cell_type": "code",
   "execution_count": 5,
   "metadata": {
    "collapsed": false
   },
   "outputs": [
    {
     "data": {
      "text/plain": [
       "True"
      ]
     },
     "execution_count": 5,
     "metadata": {},
     "output_type": "execute_result"
    }
   ],
   "source": [
    "r1 = z.expression('<42>a+<9>a')\n",
    "r2 = z.expression('<51>a')\n",
    "r1.is_equivalent(r2)"
   ]
  },
  {
   "cell_type": "markdown",
   "metadata": {},
   "source": [
    "### Heterogeneous Comparisons\n",
    "Note that rational expressions of different, but compatible, contexts, can be equivalent."
   ]
  },
  {
   "cell_type": "code",
   "execution_count": 6,
   "metadata": {
    "collapsed": false
   },
   "outputs": [
    {
     "data": {
      "text/plain": [
       "True"
      ]
     },
     "execution_count": 6,
     "metadata": {},
     "output_type": "execute_result"
    }
   ],
   "source": [
    "q = vcsn.context('lal_char, q')\n",
    "z.expression('[abc]*').is_equivalent(q.expression('[abc]*'))"
   ]
  },
  {
   "cell_type": "code",
   "execution_count": 7,
   "metadata": {
    "collapsed": false
   },
   "outputs": [
    {
     "data": {
      "text/plain": [
       "False"
      ]
     },
     "execution_count": 7,
     "metadata": {},
     "output_type": "execute_result"
    }
   ],
   "source": [
    "z.expression('<42>[abc]*').is_equivalent(q.expression('<51>[abc]*'))"
   ]
  }
 ],
 "metadata": {},
 "nbformat": 4,
 "nbformat_minor": 0
}