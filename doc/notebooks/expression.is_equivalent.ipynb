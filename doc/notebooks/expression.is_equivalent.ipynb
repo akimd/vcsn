{
 "metadata": {
  "name": "",
  "signature": "sha256:842fee253f0e59f37fe92befe4006a6c2ddf394b151ec0f2e84b458b67872321"
 },
 "nbformat": 3,
 "nbformat_minor": 0,
 "worksheets": [
  {
   "cells": [
    {
     "cell_type": "heading",
     "level": 1,
     "metadata": {},
     "source": [
      "_`expression`_.`is_equivalent`(_`exp`_)"
     ]
    },
    {
     "cell_type": "markdown",
     "metadata": {},
     "source": [
      "Whether this expression is equivalent to _`exp`_, i.e., whether they accept the same words with the same weights.\n",
      "\n",
      "Preconditions:\n",
      "- Both labelsets are free, or nullable of free\n",
      "- Both weightsets are either $\\mathbb{B}, \\mathbb{Z}$, or a field ($\\mathbb{F}_2, \\mathbb{Q}, \\mathbb{Q}_\\text{mp}, \\mathbb{R}$).\n",
      "\n",
      "Algorithm:\n",
      "- Compute the derived-term automaton of both expressions, and check whether the automata are equivalent.\n",
      "\n",
      "See also:\n",
      "- [_automaton_.is_equivalent](automaton.is_equivalent.ipynb)"
     ]
    },
    {
     "cell_type": "heading",
     "level": 2,
     "metadata": {},
     "source": [
      "Examples"
     ]
    },
    {
     "cell_type": "code",
     "collapsed": false,
     "input": [
      "import vcsn"
     ],
     "language": "python",
     "metadata": {},
     "outputs": [
      {
       "javascript": [
        "IPython.load_extensions(\"AutomatonD3Widget\")"
       ],
       "metadata": {},
       "output_type": "display_data",
       "text": [
        "<IPython.core.display.Javascript at 0x11670e450>"
       ]
      }
     ],
     "prompt_number": 1
    },
    {
     "cell_type": "code",
     "collapsed": false,
     "input": [
      "b = vcsn.context('lal_char, b')\n",
      "r1 = b.expression('a')\n",
      "r2 = b.expression('b')\n",
      "r1.is_equivalent(r2)"
     ],
     "language": "python",
     "metadata": {},
     "outputs": [
      {
       "metadata": {},
       "output_type": "pyout",
       "prompt_number": 2,
       "text": [
        "False"
       ]
      }
     ],
     "prompt_number": 2
    },
    {
     "cell_type": "code",
     "collapsed": false,
     "input": [
      "r1 = b.expression('a')\n",
      "r2 = b.expression('a+a')\n",
      "r1.is_equivalent(r2)"
     ],
     "language": "python",
     "metadata": {},
     "outputs": [
      {
       "metadata": {},
       "output_type": "pyout",
       "prompt_number": 3,
       "text": [
        "True"
       ]
      }
     ],
     "prompt_number": 3
    },
    {
     "cell_type": "code",
     "collapsed": false,
     "input": [
      "z = vcsn.context('lal_char, z')\n",
      "r1 = z.expression('<42>a')\n",
      "r2 = z.expression('<51>a')\n",
      "r1.is_equivalent(r2)"
     ],
     "language": "python",
     "metadata": {},
     "outputs": [
      {
       "metadata": {},
       "output_type": "pyout",
       "prompt_number": 4,
       "text": [
        "False"
       ]
      }
     ],
     "prompt_number": 4
    },
    {
     "cell_type": "code",
     "collapsed": false,
     "input": [
      "r1 = z.expression('<42>a+<9>a')\n",
      "r2 = z.expression('<51>a')\n",
      "r1.is_equivalent(r2)"
     ],
     "language": "python",
     "metadata": {},
     "outputs": [
      {
       "metadata": {},
       "output_type": "pyout",
       "prompt_number": 5,
       "text": [
        "True"
       ]
      }
     ],
     "prompt_number": 5
    },
    {
     "cell_type": "markdown",
     "metadata": {},
     "source": [
      "### Heterogeneous Comparisons\n",
      "Note that rational expressions of different, but compatible, contexts, can be equivalent."
     ]
    },
    {
     "cell_type": "code",
     "collapsed": false,
     "input": [
      "q = vcsn.context('lal_char, q')\n",
      "z.expression('[abc]*').is_equivalent(q.expression('[abc]*'))"
     ],
     "language": "python",
     "metadata": {},
     "outputs": [
      {
       "metadata": {},
       "output_type": "pyout",
       "prompt_number": 6,
       "text": [
        "True"
       ]
      }
     ],
     "prompt_number": 6
    },
    {
     "cell_type": "code",
     "collapsed": false,
     "input": [
      "z.expression('<42>[abc]*').is_equivalent(q.expression('<51>[abc]*'))"
     ],
     "language": "python",
     "metadata": {},
     "outputs": [
      {
       "metadata": {},
       "output_type": "pyout",
       "prompt_number": 7,
       "text": [
        "False"
       ]
      }
     ],
     "prompt_number": 7
    }
   ],
   "metadata": {}
  }
 ]
}