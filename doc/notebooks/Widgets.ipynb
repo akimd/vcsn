{
 "cells": [
  {
   "cell_type": "code",
   "execution_count": 1,
   "metadata": {
    "collapsed": false
   },
   "outputs": [],
   "source": [
    "import vcsn\n",
    "import ipywidgets as widgets\n",
    "from IPython.display import display"
   ]
  },
  {
   "cell_type": "markdown",
   "metadata": {},
   "source": [
    "# Widgets wrapper\n",
    "\n",
    "The `ipywidgets` package provides a good interface to create widgets wrappers in Python, and interact between them."
   ]
  },
  {
   "cell_type": "code",
   "execution_count": 2,
   "metadata": {
    "collapsed": false
   },
   "outputs": [],
   "source": [
    "def on_update(disp, change):\n",
    "    try:\n",
    "        svg = vcsn.B.expression(change['owner'].value).automaton().SVG()\n",
    "        disp.value = '''\n",
    "            <p>{} was {}, now is {}.</p>\n",
    "            {}\n",
    "        '''.format(change['name'], change['old'], change['new'], svg)\n",
    "    except Exception as e:\n",
    "        disp.value = vcsn.ipython.formatError(e)\n",
    "\n",
    "# input widget\n",
    "input1 = widgets.Text(value='\\e', description='expr:')\n",
    "# output widget\n",
    "disp1 = widgets.HTML()\n",
    "# what happens when input changes\n",
    "input1.observe(lambda change: on_update(disp1, change), 'value')\n",
    "display(input1, disp1)"
   ]
  },
  {
   "cell_type": "markdown",
   "metadata": {},
   "source": [
    "Some widgets can be used for layout."
   ]
  },
  {
   "cell_type": "code",
   "execution_count": 3,
   "metadata": {
    "collapsed": false
   },
   "outputs": [],
   "source": [
    "label = widgets.Label(value='Expression:')\n",
    "input2 = widgets.Text(value='\\e')\n",
    "disp2 = widgets.HTML()\n",
    "input2.observe(lambda change: on_update(disp2, change), 'value')\n",
    "\n",
    "layout = widgets.HBox(children=[label, input2, disp2])\n",
    "display(layout)"
   ]
  },
  {
   "cell_type": "markdown",
   "metadata": {},
   "source": [
    "Some CSS properties can even be set.\n",
    "\n",
    "Beware: widgets are unique, so editing them after displaying will change what has been displayed previously. Don't `display` them twice, or you will duplicate them!"
   ]
  },
  {
   "cell_type": "code",
   "execution_count": 4,
   "metadata": {
    "collapsed": false
   },
   "outputs": [],
   "source": [
    "label.padding = '5px 5px 0 0'\n",
    "label.border = 'solid 3px red'\n",
    "display(input2)"
   ]
  },
  {
   "cell_type": "markdown",
   "metadata": {},
   "source": [
    "# Custom widget\n",
    "\n",
    "Sometimes you may want to create a custom Widget, with a custom Javascript."
   ]
  },
  {
   "cell_type": "markdown",
   "metadata": {},
   "source": [
    "## Python back-end\n",
    "\n",
    "In the Python back-end, we will define a class and some attributes so that Jupyter can link it with the Javascript front-end."
   ]
  },
  {
   "cell_type": "code",
   "execution_count": 5,
   "metadata": {
    "collapsed": false
   },
   "outputs": [],
   "source": [
    "import traitlets\n",
    "\n",
    "class MyCustomWidget(widgets.DOMWidget):\n",
    "    # The name of the view between Javascript and Python\n",
    "    # tag(sync=True) means it will be the same in Python and the notebook\n",
    "    _view_name = traitlets.Unicode('MyCustomView').tag(sync=True)\n",
    "    # The name of the RequireJS module\n",
    "    _view_module = traitlets.Unicode('MyCustomModule').tag(sync=True)\n",
    "    \n",
    "    # Some attribute that I want to interact with\n",
    "    value = traitlets.CUnicode('').tag(sync=True)"
   ]
  },
  {
   "cell_type": "markdown",
   "metadata": {},
   "source": [
    "## Javascript front-end\n",
    "\n",
    "In the Javascript front end we define what we need, and create a module to match our Python."
   ]
  },
  {
   "cell_type": "code",
   "execution_count": 6,
   "metadata": {
    "collapsed": false
   },
   "outputs": [
    {
     "data": {
      "application/javascript": [
       "// What I need in my module\n",
       "require.config({paths: {d3: \"http://d3js.org/d3.v3.min\"}});\n",
       "\n",
       "// Just in case Jupyter has a old version\n",
       "require.undef('MyCustomModule');\n",
       "\n",
       "// Define a new RequireJS module whose name matches Python\n",
       "define('MyCustomModule',\n",
       "       ['jupyter-js-widgets', 'd3'],\n",
       "       function(widgets, d3) {\n",
       "        var MyCustomView = widgets.DOMWidgetView.extend({\n",
       "            // Called once, on rendering the widget\n",
       "            render: function() {\n",
       "                //this.value_changed();\n",
       "                this.$el.text(\"I am a custom widget with d3 v\" + d3.version);\n",
       "                this.model.on('change:value', this.value_changed, this);\n",
       "            },\n",
       "\n",
       "            value_changed: function() {\n",
       "                this.$el.text(this.model.get('value'));\n",
       "            },\n",
       "        });\n",
       "\n",
       "        return {\n",
       "            MyCustomView: MyCustomView\n",
       "        };\n",
       "       }\n",
       ");"
      ],
      "text/plain": [
       "<IPython.core.display.Javascript object>"
      ]
     },
     "metadata": {},
     "output_type": "display_data"
    }
   ],
   "source": [
    "%%javascript\n",
    "// What I need in my module\n",
    "require.config({paths: {d3: \"http://d3js.org/d3.v3.min\"}});\n",
    "\n",
    "// Just in case Jupyter has a old version\n",
    "require.undef('MyCustomModule');\n",
    "\n",
    "// Define a new RequireJS module whose name matches Python\n",
    "define('MyCustomModule',\n",
    "       ['jupyter-js-widgets', 'd3'],\n",
    "       function(widgets, d3) {\n",
    "        var MyCustomView = widgets.DOMWidgetView.extend({\n",
    "            // Called once, on rendering the widget\n",
    "            render: function() {\n",
    "                //this.value_changed();\n",
    "                this.$el.text(\"I am a custom widget with d3 v\" + d3.version);\n",
    "                this.model.on('change:value', this.value_changed, this);\n",
    "            },\n",
    "\n",
    "            value_changed: function() {\n",
    "                this.$el.text(this.model.get('value'));\n",
    "            },\n",
    "        });\n",
    "\n",
    "        return {\n",
    "            MyCustomView: MyCustomView\n",
    "        };\n",
    "       }\n",
    ");"
   ]
  },
  {
   "cell_type": "markdown",
   "metadata": {},
   "source": [
    "Now we just have to instanciate it in Python."
   ]
  },
  {
   "cell_type": "code",
   "execution_count": 7,
   "metadata": {
    "collapsed": false
   },
   "outputs": [],
   "source": [
    "my_widget = MyCustomWidget()\n",
    "display(my_widget)"
   ]
  },
  {
   "cell_type": "markdown",
   "metadata": {},
   "source": [
    "Now the Python is linked to the Javascript:"
   ]
  },
  {
   "cell_type": "code",
   "execution_count": 8,
   "metadata": {
    "collapsed": true
   },
   "outputs": [],
   "source": [
    "my_widget.value = '3'"
   ]
  },
  {
   "cell_type": "markdown",
   "metadata": {},
   "source": [
    "We can even link it with other widgets:"
   ]
  },
  {
   "cell_type": "code",
   "execution_count": 9,
   "metadata": {
    "collapsed": false
   },
   "outputs": [],
   "source": [
    "def my_widget_update(to, change):\n",
    "    to.value = change['owner'].value\n",
    "\n",
    "mw = MyCustomWidget()\n",
    "tw = widgets.Text()\n",
    "mw.observe(lambda change: my_widget_update(tw, change), 'value')\n",
    "tw.observe(lambda change: my_widget_update(mw, change), 'value')\n",
    "display(mw, tw)"
   ]
  },
  {
   "cell_type": "code",
   "execution_count": 10,
   "metadata": {
    "collapsed": false
   },
   "outputs": [],
   "source": [
    "from time import sleep\n",
    "for i in range(11):\n",
    "    sleep(1)\n",
    "    mw.value = i"
   ]
  },
  {
   "cell_type": "markdown",
   "metadata": {},
   "source": [
    "# A note about Javascript"
   ]
  },
  {
   "cell_type": "markdown",
   "metadata": {},
   "source": [
    "Javascript can be executed by using the magic `%%javascript` or the Javascript display:"
   ]
  },
  {
   "cell_type": "code",
   "execution_count": 11,
   "metadata": {
    "collapsed": false
   },
   "outputs": [
    {
     "data": {
      "application/javascript": [
       "alert(1)"
      ],
      "text/plain": [
       "<IPython.core.display.Javascript object>"
      ]
     },
     "metadata": {},
     "output_type": "display_data"
    }
   ],
   "source": [
    "%%javascript\n",
    "alert(1)"
   ]
  },
  {
   "cell_type": "code",
   "execution_count": 12,
   "metadata": {
    "collapsed": false
   },
   "outputs": [
    {
     "data": {
      "application/javascript": [
       "alert(2)"
      ],
      "text/plain": [
       "<IPython.core.display.Javascript object>"
      ]
     },
     "metadata": {},
     "output_type": "display_data"
    }
   ],
   "source": [
    "from IPython.display import Javascript\n",
    "display(Javascript('''alert(2)'''))"
   ]
  },
  {
   "cell_type": "code",
   "execution_count": 13,
   "metadata": {
    "collapsed": false
   },
   "outputs": [
    {
     "data": {
      "application/javascript": [
       "alert(3)"
      ]
     },
     "metadata": {},
     "output_type": "display_data"
    }
   ],
   "source": [
    "from IPython.display import display_javascript\n",
    "display_javascript('''alert(3)''', raw=True)"
   ]
  },
  {
   "cell_type": "markdown",
   "metadata": {},
   "source": [
    "The current node output is designated by _`element`_:"
   ]
  },
  {
   "cell_type": "code",
   "execution_count": 14,
   "metadata": {
    "collapsed": false
   },
   "outputs": [
    {
     "data": {
      "application/javascript": [
       "element.append(\"<h1 style='color: purple;'>This output is inside the node.</h1>\");"
      ],
      "text/plain": [
       "<IPython.core.display.Javascript object>"
      ]
     },
     "metadata": {},
     "output_type": "display_data"
    }
   ],
   "source": [
    "%%javascript\n",
    "element.append(\"<h1 style='color: purple;'>This output is inside the node.</h1>\");"
   ]
  }
 ],
 "metadata": {
  "kernelspec": {
   "display_name": "Python 3",
   "language": "python",
   "name": "python3"
  },
  "language_info": {
   "codemirror_mode": {
    "name": "ipython",
    "version": 3
   },
   "file_extension": ".py",
   "mimetype": "text/x-python",
   "name": "python",
   "nbconvert_exporter": "python",
   "pygments_lexer": "ipython3",
   "version": "3.5.2"
  },
  "widgets": {
   "state": {
    "036d2b8da2cc4d108b4baa3879570b3f": {
     "views": [
      {
       "cell_index": 2
      }
     ]
    },
    "22a65c95cb584eac86f7cd2d1b885209": {
     "views": [
      {
       "cell_index": 2
      }
     ]
    },
    "3a2db21e2a044443916e389f22310f1d": {
     "views": [
      {
       "cell_index": 6
      }
     ]
    },
    "7085895603964a5099d21268c8d86e8e": {
     "views": [
      {
       "cell_index": 17
      }
     ]
    },
    "7d6dd7395b1b4ea8a152e1c4b25d1697": {
     "views": [
      {
       "cell_index": 17
      }
     ]
    },
    "9ac41578cc5946ad89b7b61910d824e9": {
     "views": [
      {
       "cell_index": 4
      }
     ]
    },
    "a103e25864924c07ad45d7904949088b": {
     "views": [
      {
       "cell_index": 13
      }
     ]
    }
   },
   "version": "1.2.0"
  }
 },
 "nbformat": 4,
 "nbformat_minor": 0
}
