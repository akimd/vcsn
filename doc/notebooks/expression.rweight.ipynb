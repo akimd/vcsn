{
 "cells": [
  {
   "cell_type": "markdown",
   "metadata": {},
   "source": [
    "# _`expression`_`.rweight(weight)`\n",
    "The right scalar product of an expression by a weight.\n",
    "\n",
    "See also:\n",
    "- [automaton.rweight](automaton.rweight.ipynb)\n",
    "- [expression.lweight](expression.lweight.ipynb)\n",
    "- [expression.multiply](expression.multiply.ipynb)"
   ]
  },
  {
   "cell_type": "markdown",
   "metadata": {},
   "source": [
    "## Examples"
   ]
  },
  {
   "cell_type": "code",
   "execution_count": 1,
   "metadata": {
    "collapsed": true
   },
   "outputs": [],
   "source": [
    "import vcsn\n",
    "c = vcsn.context('lal_char, q')"
   ]
  },
  {
   "cell_type": "code",
   "execution_count": 2,
   "metadata": {
    "collapsed": false
   },
   "outputs": [
    {
     "data": {
      "text/latex": [
       "$ \\left\\langle 2 \\right\\rangle \\,a \\, \\left( \\left\\langle 3 \\right\\rangle \\,b \\, c\\right)$"
      ],
      "text/plain": [
       "<2>a(<3>bc)"
      ]
     },
     "execution_count": 2,
     "metadata": {},
     "output_type": "execute_result"
    }
   ],
   "source": [
    "e = c.expression('<2>a<3>bc', 'trivial')\n",
    "e"
   ]
  },
  {
   "cell_type": "code",
   "execution_count": 3,
   "metadata": {
    "collapsed": false
   },
   "outputs": [
    {
     "data": {
      "text/latex": [
       "$\\left( \\left\\langle 2 \\right\\rangle \\,a \\, \\left( \\left\\langle 3 \\right\\rangle \\,b \\, c\\right)\\right)\\, \\left\\langle 4 \\right\\rangle $"
      ],
      "text/plain": [
       "(<2>a(<3>bc))<4>"
      ]
     },
     "execution_count": 3,
     "metadata": {},
     "output_type": "execute_result"
    }
   ],
   "source": [
    "e.rweight(c.weight('4'))"
   ]
  },
  {
   "cell_type": "markdown",
   "metadata": {},
   "source": [
    "Instead of `e.rweight(w)`, you may write `e * w`."
   ]
  },
  {
   "cell_type": "code",
   "execution_count": 4,
   "metadata": {
    "collapsed": false
   },
   "outputs": [
    {
     "data": {
      "text/latex": [
       "$\\left( \\left\\langle 2 \\right\\rangle \\,a \\, \\left( \\left\\langle 3 \\right\\rangle \\,b \\, c\\right)\\right)\\, \\left\\langle 4 \\right\\rangle $"
      ],
      "text/plain": [
       "(<2>a(<3>bc))<4>"
      ]
     },
     "execution_count": 4,
     "metadata": {},
     "output_type": "execute_result"
    }
   ],
   "source": [
    "e * c.weight('4')"
   ]
  },
  {
   "cell_type": "markdown",
   "metadata": {},
   "source": [
    "You may even run the simpler:"
   ]
  },
  {
   "cell_type": "code",
   "execution_count": 5,
   "metadata": {
    "collapsed": false
   },
   "outputs": [
    {
     "data": {
      "text/latex": [
       "$\\left( \\left\\langle 2 \\right\\rangle \\,a \\, \\left( \\left\\langle 3 \\right\\rangle \\,b \\, c\\right)\\right)\\, \\left\\langle 4 \\right\\rangle $"
      ],
      "text/plain": [
       "(<2>a(<3>bc))<4>"
      ]
     },
     "execution_count": 5,
     "metadata": {},
     "output_type": "execute_result"
    }
   ],
   "source": [
    "e * 4"
   ]
  }
 ],
 "metadata": {
  "kernelspec": {
   "display_name": "Python 3",
   "language": "python",
   "name": "python3"
  },
  "language_info": {
   "codemirror_mode": {
    "name": "ipython",
    "version": 3
   },
   "file_extension": ".py",
   "mimetype": "text/x-python",
   "name": "python",
   "nbconvert_exporter": "python",
   "pygments_lexer": "ipython3",
   "version": "3.5.1"
  },
  "widgets": {
   "state": {},
   "version": "1.1.2"
  }
 },
 "nbformat": 4,
 "nbformat_minor": 0
}
