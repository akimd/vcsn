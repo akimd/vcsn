{
 "cells": [
  {
   "cell_type": "markdown",
   "metadata": {},
   "source": [
    "# _`polynomial`_.`split()`\n",
    "\n",
    "Split the expressions of a polynomial of rational expressions.  In other words, when an expression is actually a sum of expressions, breaks it in smaller expressions, and return a polynomial of all these smaller expressions.\n",
    "\n",
    "See also:\n",
    "- [expression.split](expression.split.ipynb)\n",
    "\n",
    "## Examples"
   ]
  },
  {
   "cell_type": "code",
   "execution_count": 1,
   "metadata": {
    "collapsed": false
   },
   "outputs": [
    {
     "data": {
      "text/latex": [
       "$\\mathsf{RatE}[\\{\\ldots\\}\\to\\mathbb{Q}]\\to\\mathbb{Q}$"
      ],
      "text/plain": [
       "RatE[{...} -> Q] -> Q"
      ]
     },
     "execution_count": 1,
     "metadata": {},
     "output_type": "execute_result"
    }
   ],
   "source": [
    "import vcsn\n",
    "c = vcsn.context('expressionset<lal, q>, q')\n",
    "c"
   ]
  },
  {
   "cell_type": "markdown",
   "metadata": {},
   "source": [
    "Beware that the following polynomial (admittedly badly displayed) is $\\langle 2 \\rangle \\odot (a+b)$, not $\\langle 2 \\rangle \\odot a \\oplus b$: it contains a single expression, $a+b$."
   ]
  },
  {
   "cell_type": "code",
   "execution_count": 2,
   "metadata": {
    "collapsed": false
   },
   "outputs": [
    {
     "data": {
      "text/latex": [
       "$\\left\\langle 2\\right\\rangle a + b$"
      ],
      "text/plain": [
       "<2>a+b"
      ]
     },
     "execution_count": 2,
     "metadata": {},
     "output_type": "execute_result"
    }
   ],
   "source": [
    "p1 = c.polynomial('<2>a+b')\n",
    "p1"
   ]
  },
  {
   "cell_type": "code",
   "execution_count": 3,
   "metadata": {
    "collapsed": false
   },
   "outputs": [
    {
     "data": {
      "text/latex": [
       "$\\left\\langle 2\\right\\rangle a \\oplus \\left\\langle 2\\right\\rangle b$"
      ],
      "text/plain": [
       "<2>a + <2>b"
      ]
     },
     "execution_count": 3,
     "metadata": {},
     "output_type": "execute_result"
    }
   ],
   "source": [
    "p1.split()"
   ]
  },
  {
   "cell_type": "code",
   "execution_count": 4,
   "metadata": {
    "collapsed": false
   },
   "outputs": [
    {
     "data": {
      "text/latex": [
       "$a + b \\, \\left(c + d\\right)$"
      ],
      "text/plain": [
       "a+b(c+d)"
      ]
     },
     "execution_count": 4,
     "metadata": {},
     "output_type": "execute_result"
    }
   ],
   "source": [
    "p2 = c.polynomial('a+b(c+d)')\n",
    "p2"
   ]
  },
  {
   "cell_type": "code",
   "execution_count": 5,
   "metadata": {
    "collapsed": false
   },
   "outputs": [
    {
     "data": {
      "text/latex": [
       "$a \\oplus b \\, \\left(c + d\\right)$"
      ],
      "text/plain": [
       "a + b(c+d)"
      ]
     },
     "execution_count": 5,
     "metadata": {},
     "output_type": "execute_result"
    }
   ],
   "source": [
    "p2.split()"
   ]
  },
  {
   "cell_type": "code",
   "execution_count": 6,
   "metadata": {
    "collapsed": false
   },
   "outputs": [
    {
     "data": {
      "text/latex": [
       "$\\left\\langle 2\\right\\rangle a + b \\oplus a + b \\, \\left(c + d\\right)$"
      ],
      "text/plain": [
       "<2>a+b + a+b(c+d)"
      ]
     },
     "execution_count": 6,
     "metadata": {},
     "output_type": "execute_result"
    }
   ],
   "source": [
    "p1 + p2"
   ]
  },
  {
   "cell_type": "code",
   "execution_count": 7,
   "metadata": {
    "collapsed": false
   },
   "outputs": [
    {
     "data": {
      "text/latex": [
       "$\\left\\langle 3\\right\\rangle a \\oplus \\left\\langle 2\\right\\rangle b \\oplus b \\, \\left(c + d\\right)$"
      ],
      "text/plain": [
       "<3>a + <2>b + b(c+d)"
      ]
     },
     "execution_count": 7,
     "metadata": {},
     "output_type": "execute_result"
    }
   ],
   "source": [
    "(p1 + p2).split()"
   ]
  }
 ],
 "metadata": {
  "kernelspec": {
   "display_name": "Python 3",
   "language": "python",
   "name": "python3"
  },
  "language_info": {
   "codemirror_mode": {
    "name": "ipython",
    "version": 3
   },
   "file_extension": ".py",
   "mimetype": "text/x-python",
   "name": "python",
   "nbconvert_exporter": "python",
   "pygments_lexer": "ipython3",
   "version": "3.5.2"
  }
 },
 "nbformat": 4,
 "nbformat_minor": 0
}
