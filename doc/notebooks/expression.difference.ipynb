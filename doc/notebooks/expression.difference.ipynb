{
 "cells": [
  {
   "cell_type": "markdown",
   "metadata": {},
   "source": [
    "# _`expression`_`.difference(`_`exp`_`)`\n",
    "# _`expression`_ % _`exp`_\n",
    "\n",
    "Restricting an expression to the words not accepted by the second.  In other words:\n",
    "\n",
    "$$\n",
    "(\\mathsf{E} \\% \\mathsf{F})(u) =\n",
    "\\begin{cases}\n",
    "\\mathsf{E}(u) & \\text{if $\\mathsf{F}(u) \\ne 0$} \\\\\n",
    "0             & \\text{otherwise}\n",
    "\\end{cases}\n",
    "$$\n",
    "\n",
    "Preconditions:\n",
    "- None\n",
    "\n",
    "Caveat:\n",
    "- The name `difference` is wrong, and will certainly be changed in the future.\n",
    "- If the second argument is not Boolean, because we determinize it, the process might loop for ever.\n",
    "\n",
    "See also:\n",
    "- [automaton.difference](automaton.difference.ipynb)"
   ]
  },
  {
   "cell_type": "markdown",
   "metadata": {},
   "source": [
    "## Examples\n",
    "In the following example, we map every non empty word on $\\{a, b\\}$ to $2$ with the exception of words that are repetitions of $ab$ or of $ba$."
   ]
  },
  {
   "cell_type": "code",
   "execution_count": 1,
   "metadata": {
    "collapsed": false
   },
   "outputs": [
    {
     "data": {
      "text/latex": [
       "$ \\left\\langle 2 \\right\\rangle \\,\\left(\\left(a + b\\right) \\, \\left(a + b\\right)^{*}\\right) \\& {\\left(a \\, b + b \\, a\\right)^{*}}^{c}$"
      ],
      "text/plain": [
       "<2>((a+b)(a+b)*)&(ab+ba)*{c}"
      ]
     },
     "execution_count": 1,
     "metadata": {},
     "output_type": "execute_result"
    }
   ],
   "source": [
    "import vcsn\n",
    "ctx = vcsn.context('lal_char, q')\n",
    "exp = lambda e: ctx.expression(e)\n",
    "e = exp('<2>[ab]{+}') % exp('(ab+ba)*')\n",
    "e"
   ]
  },
  {
   "cell_type": "code",
   "execution_count": 2,
   "metadata": {
    "collapsed": false
   },
   "outputs": [
    {
     "data": {
      "text/latex": [
       "$\\left\\langle 2\\right\\rangle \\mathit{a} \\oplus \\left\\langle 2\\right\\rangle \\mathit{b} \\oplus \\left\\langle 2\\right\\rangle \\mathit{aa} \\oplus \\left\\langle 2\\right\\rangle \\mathit{bb} \\oplus \\left\\langle 2\\right\\rangle \\mathit{aaa} \\oplus \\left\\langle 2\\right\\rangle \\mathit{aab} \\oplus \\left\\langle 2\\right\\rangle \\mathit{aba} \\oplus \\left\\langle 2\\right\\rangle \\mathit{abb} \\oplus \\left\\langle 2\\right\\rangle \\mathit{baa} \\oplus \\left\\langle 2\\right\\rangle \\mathit{bab} \\oplus \\left\\langle 2\\right\\rangle \\mathit{bba} \\oplus \\left\\langle 2\\right\\rangle \\mathit{bbb} \\oplus \\left\\langle 2\\right\\rangle \\mathit{aaaa} \\oplus \\left\\langle 2\\right\\rangle \\mathit{aaab} \\oplus \\left\\langle 2\\right\\rangle \\mathit{aaba} \\oplus \\left\\langle 2\\right\\rangle \\mathit{aabb} \\oplus \\left\\langle 2\\right\\rangle \\mathit{abaa} \\oplus \\left\\langle 2\\right\\rangle \\mathit{abbb} \\oplus \\left\\langle 2\\right\\rangle \\mathit{baaa} \\oplus \\left\\langle 2\\right\\rangle \\mathit{babb} \\oplus \\left\\langle 2\\right\\rangle \\mathit{bbaa} \\oplus \\left\\langle 2\\right\\rangle \\mathit{bbab} \\oplus \\left\\langle 2\\right\\rangle \\mathit{bbba} \\oplus \\left\\langle 2\\right\\rangle \\mathit{bbbb}$"
      ],
      "text/plain": [
       "<2>a + <2>b + <2>aa + <2>bb + <2>aaa + <2>aab + <2>aba + <2>abb + <2>baa + <2>bab + <2>bba + <2>bbb + <2>aaaa + <2>aaab + <2>aaba + <2>aabb + <2>abaa + <2>abbb + <2>baaa + <2>babb + <2>bbaa + <2>bbab + <2>bbba + <2>bbbb"
      ]
     },
     "execution_count": 2,
     "metadata": {},
     "output_type": "execute_result"
    }
   ],
   "source": [
    "e.shortest(len = 4)"
   ]
  },
  {
   "cell_type": "markdown",
   "metadata": {},
   "source": [
    "The operator `%` is also supported in the syntax of rational expressions:"
   ]
  },
  {
   "cell_type": "code",
   "execution_count": 3,
   "metadata": {
    "collapsed": false
   },
   "outputs": [
    {
     "data": {
      "text/latex": [
       "$ \\left\\langle 2 \\right\\rangle \\,\\left(\\left(a + b\\right) \\, \\left(a + b\\right)^{*}\\right) \\& {\\left(a \\, b + b \\, a\\right)^{*}}^{c}$"
      ],
      "text/plain": [
       "<2>((a+b)(a+b)*)&(ab+ba)*{c}"
      ]
     },
     "execution_count": 3,
     "metadata": {},
     "output_type": "execute_result"
    }
   ],
   "source": [
    "exp('<2>[ab]{+}%(ab+ba)*')"
   ]
  }
 ],
 "metadata": {
  "kernelspec": {
   "display_name": "Python 3",
   "language": "python",
   "name": "python3"
  },
  "language_info": {
   "codemirror_mode": {
    "name": "ipython",
    "version": 3
   },
   "file_extension": ".py",
   "mimetype": "text/x-python",
   "name": "python",
   "nbconvert_exporter": "python",
   "pygments_lexer": "ipython3",
   "version": "3.4.3"
  }
 },
 "nbformat": 4,
 "nbformat_minor": 0
}
