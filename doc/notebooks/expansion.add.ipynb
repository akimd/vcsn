{
 "cells": [
  {
   "cell_type": "markdown",
   "metadata": {},
   "source": [
    "# _`expansion`_`.add(`_`exp`_`)`\n",
    "# _`expansion`_ + _`exp`_\n",
    "\n",
    "An expansion which denotes the sum (or disjunction) of both denoted series.\n",
    "\n",
    "Preconditions:\n",
    "- Both expansions have the same weightset.\n",
    "\n",
    "See also:\n",
    "- [automaton.add](automaton.add.ipynb)\n",
    "- [polynomial.add](polynomial.add.ipynb)\n",
    "- [expression.add](expression.add.ipynb)"
   ]
  },
  {
   "cell_type": "code",
   "execution_count": 1,
   "metadata": {
    "collapsed": false
   },
   "outputs": [],
   "source": [
    "import vcsn\n",
    "e1 = vcsn.Z.expression('<3>abc+<4>d(a+<3>c)')\n",
    "x1 = e1.expansion()\n",
    "e2 = vcsn.Z.expression('<5>abc+<-2>d(<2>a+c)')\n",
    "x2 = e2.expansion()"
   ]
  },
  {
   "cell_type": "code",
   "execution_count": 2,
   "metadata": {
    "collapsed": false
   },
   "outputs": [
    {
     "data": {
      "text/latex": [
       "$a \\odot \\left[\\left\\langle 3\\right\\rangle b \\, c\\right] \\oplus d \\odot \\left[\\left\\langle 4\\right\\rangle a +  \\left\\langle 3 \\right\\rangle \\,c\\right]$"
      ],
      "text/plain": [
       "a.[<3>bc] + d.[<4>a+<3>c]"
      ]
     },
     "execution_count": 2,
     "metadata": {},
     "output_type": "execute_result"
    }
   ],
   "source": [
    "x1"
   ]
  },
  {
   "cell_type": "code",
   "execution_count": 3,
   "metadata": {
    "collapsed": false
   },
   "outputs": [
    {
     "data": {
      "text/latex": [
       "$a \\odot \\left[\\left\\langle 5\\right\\rangle b \\, c\\right] \\oplus d \\odot \\left[\\left\\langle -2\\right\\rangle  \\left\\langle 2 \\right\\rangle \\,a + c\\right]$"
      ],
      "text/plain": [
       "a.[<5>bc] + d.[<-2><2>a+c]"
      ]
     },
     "execution_count": 3,
     "metadata": {},
     "output_type": "execute_result"
    }
   ],
   "source": [
    "x2"
   ]
  },
  {
   "cell_type": "code",
   "execution_count": 4,
   "metadata": {
    "collapsed": false
   },
   "outputs": [
    {
     "data": {
      "text/latex": [
       "$a \\odot \\left[\\left\\langle 8\\right\\rangle b \\, c\\right] \\oplus d \\odot \\left[\\left\\langle 4\\right\\rangle a +  \\left\\langle 3 \\right\\rangle \\,c \\oplus \\left\\langle -2\\right\\rangle  \\left\\langle 2 \\right\\rangle \\,a + c\\right]$"
      ],
      "text/plain": [
       "a.[<8>bc] + d.[<4>a+<3>c + <-2><2>a+c]"
      ]
     },
     "execution_count": 4,
     "metadata": {},
     "output_type": "execute_result"
    }
   ],
   "source": [
    "x1 + x2"
   ]
  },
  {
   "cell_type": "markdown",
   "metadata": {},
   "source": [
    "The sum of the expansions is the expansion of the sum."
   ]
  },
  {
   "cell_type": "code",
   "execution_count": 5,
   "metadata": {
    "collapsed": false
   },
   "outputs": [
    {
     "data": {
      "text/latex": [
       "$a \\odot \\left[\\left\\langle 8\\right\\rangle b \\, c\\right] \\oplus d \\odot \\left[\\left\\langle 4\\right\\rangle a +  \\left\\langle 3 \\right\\rangle \\,c \\oplus \\left\\langle -2\\right\\rangle  \\left\\langle 2 \\right\\rangle \\,a + c\\right]$"
      ],
      "text/plain": [
       "a.[<8>bc] + d.[<4>a+<3>c + <-2><2>a+c]"
      ]
     },
     "execution_count": 5,
     "metadata": {},
     "output_type": "execute_result"
    }
   ],
   "source": [
    "(e1 + e2).expansion()"
   ]
  }
 ],
 "metadata": {
  "kernelspec": {
   "display_name": "Python 3",
   "language": "python",
   "name": "python3"
  },
  "language_info": {
   "codemirror_mode": {
    "name": "ipython",
    "version": 3
   },
   "file_extension": ".py",
   "mimetype": "text/x-python",
   "name": "python",
   "nbconvert_exporter": "python",
   "pygments_lexer": "ipython3",
   "version": "3.5.1"
  },
  "widgets": {
   "state": {},
   "version": "1.1.2"
  }
 },
 "nbformat": 4,
 "nbformat_minor": 0
}
