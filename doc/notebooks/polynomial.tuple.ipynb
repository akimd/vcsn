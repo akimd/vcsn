{
 "cells": [
  {
   "cell_type": "markdown",
   "metadata": {},
   "source": [
    "# `polynomial | poly`\n",
    "\n",
    "Build the tuple of polynomial, ie the $k$-tape polynomial which is the Cartesian product of the input polynomials.\n",
    "\n",
    "See also:\n",
    "- [automaton.tuple](automaton.tuple.ipynb)\n",
    "- [expression.tuple](expression.tuple.ipynb)\n",
    "\n",
    "\n",
    "## Examples"
   ]
  },
  {
   "cell_type": "code",
   "execution_count": 1,
   "metadata": {
    "collapsed": false
   },
   "outputs": [
    {
     "data": {
      "text/latex": [
       "$\\varepsilon \\oplus \\left\\langle 2\\right\\rangle \\mathit{ab} \\oplus \\left\\langle 4\\right\\rangle \\mathit{abab}$"
      ],
      "text/plain": [
       "\\e + <2>ab + <4>abab"
      ]
     },
     "execution_count": 1,
     "metadata": {},
     "output_type": "execute_result"
    }
   ],
   "source": [
    "import vcsn\n",
    "exp = vcsn.context('lan, q').expression\n",
    "def poly(e, size=3):\n",
    "    'The approximation of expression `e` as a polynomial.'\n",
    "    return exp(e).shortest(3)\n",
    "p1 = poly('(<2>ab)*')\n",
    "p1"
   ]
  },
  {
   "cell_type": "code",
   "execution_count": 2,
   "metadata": {
    "collapsed": false
   },
   "outputs": [
    {
     "data": {
      "text/latex": [
       "$\\varepsilon \\oplus \\left\\langle 3\\right\\rangle \\mathit{x} \\oplus \\left\\langle 9\\right\\rangle \\mathit{xx}$"
      ],
      "text/plain": [
       "\\e + <3>x + <9>xx"
      ]
     },
     "execution_count": 2,
     "metadata": {},
     "output_type": "execute_result"
    }
   ],
   "source": [
    "p2 = poly('(<3>x)*')\n",
    "p2"
   ]
  },
  {
   "cell_type": "code",
   "execution_count": 3,
   "metadata": {
    "collapsed": false
   },
   "outputs": [
    {
     "data": {
      "text/latex": [
       "$\\varepsilon|\\varepsilon \\oplus \\left\\langle 3\\right\\rangle \\varepsilon|\\mathit{x} \\oplus \\left\\langle 9\\right\\rangle \\varepsilon|\\mathit{xx} \\oplus \\left\\langle 2\\right\\rangle \\mathit{ab}|\\varepsilon \\oplus \\left\\langle 6\\right\\rangle \\mathit{ab}|\\mathit{x} \\oplus \\left\\langle 18\\right\\rangle \\mathit{ab}|\\mathit{xx} \\oplus \\left\\langle 4\\right\\rangle \\mathit{abab}|\\varepsilon \\oplus \\left\\langle 12\\right\\rangle \\mathit{abab}|\\mathit{x} \\oplus \\left\\langle 36\\right\\rangle \\mathit{abab}|\\mathit{xx}$"
      ],
      "text/plain": [
       "\\e|\\e + <3>\\e|x + <9>\\e|xx + <2>ab|\\e + <6>ab|x + <18>ab|xx + <4>abab|\\e + <12>abab|x + <36>abab|xx"
      ]
     },
     "execution_count": 3,
     "metadata": {},
     "output_type": "execute_result"
    }
   ],
   "source": [
    "p1 | p2"
   ]
  },
  {
   "cell_type": "code",
   "execution_count": 4,
   "metadata": {
    "collapsed": false
   },
   "outputs": [
    {
     "data": {
      "text/latex": [
       "$\\varepsilon|\\varepsilon \\oplus \\left\\langle 3\\right\\rangle \\varepsilon|\\mathit{x} \\oplus \\left\\langle 9\\right\\rangle \\varepsilon|\\mathit{xx} \\oplus \\left\\langle 2\\right\\rangle \\mathit{ab}|\\varepsilon \\oplus \\left\\langle 6\\right\\rangle \\mathit{ab}|\\mathit{x} \\oplus \\left\\langle 18\\right\\rangle \\mathit{ab}|\\mathit{xx} \\oplus \\left\\langle 27\\right\\rangle \\varepsilon|\\mathit{xxx} \\oplus \\left\\langle 54\\right\\rangle \\mathit{ab}|\\mathit{xxx} \\oplus \\left\\langle 81\\right\\rangle \\varepsilon|\\mathit{xxxx}$"
      ],
      "text/plain": [
       "\\e|\\e + <3>\\e|x + <9>\\e|xx + <2>ab|\\e + <6>ab|x + <18>ab|xx + <27>\\e|xxx + <54>ab|xxx + <81>\\e|xxxx"
      ]
     },
     "execution_count": 4,
     "metadata": {},
     "output_type": "execute_result"
    }
   ],
   "source": [
    "(exp('(<2>ab)*') |  exp('(<3>x)*')).shortest(9)"
   ]
  }
 ],
 "metadata": {
  "kernelspec": {
   "display_name": "Python 3",
   "language": "python",
   "name": "python3"
  },
  "language_info": {
   "codemirror_mode": {
    "name": "ipython",
    "version": 3
   },
   "file_extension": ".py",
   "mimetype": "text/x-python",
   "name": "python",
   "nbconvert_exporter": "python",
   "pygments_lexer": "ipython3",
   "version": "3.5.1"
  },
  "widgets": {
   "state": {},
   "version": "1.1.2"
  }
 },
 "nbformat": 4,
 "nbformat_minor": 0
}
