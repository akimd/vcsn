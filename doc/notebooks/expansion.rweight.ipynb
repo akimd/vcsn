{
 "cells": [
  {
   "cell_type": "markdown",
   "metadata": {},
   "source": [
    "# _`expansion`_`.rweight(weight)`\n",
    "The right scalar product of an expansion by a weight.\n",
    "\n",
    "See also:\n",
    "- [expression.rweight](expression.rweight.ipynb)\n",
    "- [expansion.lweight](expansion.lweight.ipynb)"
   ]
  },
  {
   "cell_type": "markdown",
   "metadata": {},
   "source": [
    "## Examples"
   ]
  },
  {
   "cell_type": "code",
   "execution_count": 1,
   "metadata": {
    "collapsed": true
   },
   "outputs": [],
   "source": [
    "import vcsn\n",
    "c = vcsn.context('lal_char, q')"
   ]
  },
  {
   "cell_type": "markdown",
   "metadata": {},
   "source": [
    "Note that left-scalar product and right-scalar product are very different: the left-scalar product changes the weights in the polynomials, while the right-scalar product changes the expressions."
   ]
  },
  {
   "cell_type": "code",
   "execution_count": 2,
   "metadata": {
    "collapsed": false
   },
   "outputs": [
    {
     "data": {
      "text/latex": [
       "$ \\left\\langle 2 \\right\\rangle \\,a \\, \\left( \\left\\langle 3 \\right\\rangle \\,b \\, c\\right)$"
      ],
      "text/plain": [
       "<2>a(<3>bc)"
      ]
     },
     "execution_count": 2,
     "metadata": {},
     "output_type": "execute_result"
    }
   ],
   "source": [
    "e = c.expression('<2>a<3>bc', 'none')\n",
    "x = e.expansion()\n",
    "e"
   ]
  },
  {
   "cell_type": "code",
   "execution_count": 3,
   "metadata": {
    "collapsed": false
   },
   "outputs": [
    {
     "data": {
      "text/latex": [
       "$a \\odot \\left[\\left\\langle 2\\right\\rangle \\left(\\varepsilon \\, \\left( \\left\\langle 3 \\right\\rangle \\,b \\, c\\right)\\right)\\, \\left\\langle 4 \\right\\rangle \\right]$"
      ],
      "text/plain": [
       "a.[<2>(\\e(<3>bc))<4>]"
      ]
     },
     "execution_count": 3,
     "metadata": {},
     "output_type": "execute_result"
    }
   ],
   "source": [
    "x.rweight(c.weight('4'))"
   ]
  },
  {
   "cell_type": "markdown",
   "metadata": {},
   "source": [
    "Instead of `x.rweight(w)`, you may write `x * w`."
   ]
  },
  {
   "cell_type": "code",
   "execution_count": 4,
   "metadata": {
    "collapsed": false
   },
   "outputs": [
    {
     "data": {
      "text/latex": [
       "$a \\odot \\left[\\left\\langle 2\\right\\rangle \\left(\\varepsilon \\, \\left( \\left\\langle 3 \\right\\rangle \\,b \\, c\\right)\\right)\\, \\left\\langle 4 \\right\\rangle \\right]$"
      ],
      "text/plain": [
       "a.[<2>(\\e(<3>bc))<4>]"
      ]
     },
     "execution_count": 4,
     "metadata": {},
     "output_type": "execute_result"
    }
   ],
   "source": [
    "x * c.weight('4')"
   ]
  },
  {
   "cell_type": "markdown",
   "metadata": {},
   "source": [
    "You may even run the simpler:"
   ]
  },
  {
   "cell_type": "code",
   "execution_count": 5,
   "metadata": {
    "collapsed": false
   },
   "outputs": [
    {
     "data": {
      "text/latex": [
       "$a \\odot \\left[\\left\\langle 2\\right\\rangle \\left(\\varepsilon \\, \\left( \\left\\langle 3 \\right\\rangle \\,b \\, c\\right)\\right)\\, \\left\\langle 4 \\right\\rangle \\right]$"
      ],
      "text/plain": [
       "a.[<2>(\\e(<3>bc))<4>]"
      ]
     },
     "execution_count": 5,
     "metadata": {},
     "output_type": "execute_result"
    }
   ],
   "source": [
    "x * 4"
   ]
  },
  {
   "cell_type": "markdown",
   "metadata": {},
   "source": [
    "The expansion of a scalar product is the scalar product of the expansion:"
   ]
  },
  {
   "cell_type": "code",
   "execution_count": 6,
   "metadata": {
    "collapsed": false
   },
   "outputs": [
    {
     "data": {
      "text/latex": [
       "$a \\odot \\left[\\left\\langle 2\\right\\rangle \\left(\\varepsilon \\, \\left( \\left\\langle 3 \\right\\rangle \\,b \\, c\\right)\\right)\\, \\left\\langle 4 \\right\\rangle \\right]$"
      ],
      "text/plain": [
       "a.[<2>(\\e(<3>bc))<4>]"
      ]
     },
     "execution_count": 6,
     "metadata": {},
     "output_type": "execute_result"
    }
   ],
   "source": [
    "(e*4).expansion()"
   ]
  }
 ],
 "metadata": {
  "kernelspec": {
   "display_name": "Python 3",
   "language": "python",
   "name": "python3"
  },
  "language_info": {
   "codemirror_mode": {
    "name": "ipython",
    "version": 3
   },
   "file_extension": ".py",
   "mimetype": "text/x-python",
   "name": "python",
   "nbconvert_exporter": "python",
   "pygments_lexer": "ipython3",
   "version": "3.5.1"
  },
  "widgets": {
   "state": {},
   "version": "1.1.2"
  }
 },
 "nbformat": 4,
 "nbformat_minor": 0
}
