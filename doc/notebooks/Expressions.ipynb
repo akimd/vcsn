{
 "cells": [
  {
   "cell_type": "markdown",
   "metadata": {},
   "source": [
    "# Expressions\n",
    "\n",
    "Rational expressions, or _expressions_ for short, denote (rational) languages in a compact way.  Since Vcsn supports weighted expressions, they actually can denoted rational series.\n",
    "\n",
    "This page document the syntax and transformations (called _identities_) that are applied to every expression.  The list of available algorithms using expression is in the [Algorithms page](Algorithms.ipynb)."
   ]
  },
  {
   "cell_type": "markdown",
   "metadata": {},
   "source": [
    "## Syntax\n",
    "The syntax for rational expressions is as follows (with increasing precedence):\n",
    "- `\\z`, the empty expression\n",
    "- `\\e`, the empty word\n",
    "- `a`, the word `a`\n",
    "- `e+f`, the addition (disjunction, union) of `e` and `f` (note the use of `+`, `|` is not accepted)\n",
    "- `e&f`, the conjunction (intersection) of `e` and `f`\n",
    "- `ef` and `e.f`, the multiplication (concatenation) of `e` and `f`\n",
    "- `<k>e`, the left exterior product (left-scalar product) of `e` by `k`\n",
    "- `e<k>`, the right exterior product (right-scalar product) of `e` by `k`\n",
    "- `e*` and `e{*}`, any number of repetitions of `e` (the Kleene closure of `e`)\n",
    "- `e{n}`, the power (repeated multiplication) of `e` `n` times: `ee ... e`\n",
    "- `e{n,m}`, any repetition of `e` between `n` and `m`, i.e., the sum of the powers of `e` between `n` and `m`: `e{n}+e{n+1}+ ... +e{m}`\n",
    "- `e{n,}`, the sum of powers of `e` at least `n` times: `e{n}e*`\n",
    "- `e{,m}`, at most `m` repetitions of `e`: `e{0,m}`\n",
    "- `e{+}`, at least one `e`: `e{1,}`\n",
    "- `e{?}`, `e` optional: `e{0,1}`\n",
    "- `e{c}`, the complement of `e`\n",
    "\n",
    "where `e` and `f` denote expressions, `a` a label, `k` a weight, and `n` and `m` natural numbers."
   ]
  },
  {
   "cell_type": "markdown",
   "metadata": {},
   "source": [
    "## Identities\n",
    "Some rewriting rules are applied on the expressions to \"simplify\" them.  The strength of this simplification is graduated.\n",
    "\n",
    "### Trivial Identities\n",
    "\n",
    "### Associative Identities\n",
    "In addition to the trivial identities, the binary operators (addition, conjunction, multiplication) are made associative.  Actually, they become variadic instead of being strictly binary.\n",
    "\n",
    "### Traditional Identities\n",
    "In addition to the associative identities, the additional is made commutative.  Actually, members of sums are now sorted.\n",
    "\n",
    "### Series Identities\n",
    "In addition to the traditional identities, the multiplication and multiplication by a scalar are distributed on the sum.\n",
    "$$\n",
    "\\newcommand{\\Ed}{\\mathsf{E}}\n",
    "\\newcommand{\\Fd}{\\mathsf{F}}\n",
    "\\newcommand{\\Gd}{\\mathsf{G}}\n",
    "\\begin{align}\n",
    "  \\Ed(\\Fd+\\Gd) & \\rightarrow \\Ed\\Fd + \\Ed\\Gd &\n",
    "  (\\Ed+\\Fd)\\Gd & \\rightarrow \\Ed\\Gd + \\Fd\\Gd \\\\\n",
    "  <k>(\\Ed+\\Fd) & \\rightarrow <k>\\Ed + <k>\\Fd &\n",
    "  (\\Ed+\\Fd)<k> & \\rightarrow \\Ed<k> + \\Fd<k>\n",
    "\\end{align}\n",
    "$$"
   ]
  },
  {
   "cell_type": "markdown",
   "metadata": {},
   "source": [
    "## Examples\n"
   ]
  },
  {
   "cell_type": "code",
   "execution_count": 1,
   "metadata": {
    "collapsed": false
   },
   "outputs": [
    {
     "name": "stderr",
     "output_type": "stream",
     "text": [
      ":0: FutureWarning: IPython widgets are experimental and may change in the future.\n"
     ]
    },
    {
     "data": {
      "application/javascript": [
       "IPython.load_extensions(\"AutomatonD3Widget\")"
      ],
      "text/plain": [
       "<IPython.core.display.Javascript object>"
      ]
     },
     "metadata": {},
     "output_type": "display_data"
    }
   ],
   "source": [
    "import vcsn\n",
    "from IPython.display import Latex\n",
    "import numpy as np\n",
    "import pandas as pd\n",
    "pd.options.display.max_colwidth=0"
   ]
  },
  {
   "cell_type": "markdown",
   "metadata": {},
   "source": [
    "The following helping routine takes a list of expressions as text (`*es`), converts them into genuine expression objects (`c.expression(e, id)`) for each `id`, formats them into LaTeX, and puts them in a DataFrame for display."
   ]
  },
  {
   "cell_type": "code",
   "execution_count": 7,
   "metadata": {
    "collapsed": false
   },
   "outputs": [],
   "source": [
    "ids = ['trivial', 'associative', 'traditional', 'series']\n",
    "def example(*es):\n",
    "    c = vcsn.context('lal_char(a-z), b')\n",
    "    res = []\n",
    "    for e in es:\n",
    "        res.append([e] + ['$' + c.expression(e, id).format('latex') + '$' for id in ids])\n",
    "    return pd.DataFrame(res, columns=['Input'] + list(map(str.title, ids)))"
   ]
  },
  {
   "cell_type": "code",
   "execution_count": 8,
   "metadata": {
    "collapsed": false
   },
   "outputs": [
    {
     "data": {
      "text/html": [
       "<div style=\"max-height:1000px;max-width:1500px;overflow:auto;\">\n",
       "<table border=\"1\" class=\"dataframe\">\n",
       "  <thead>\n",
       "    <tr style=\"text-align: right;\">\n",
       "      <th></th>\n",
       "      <th>Input</th>\n",
       "      <th>Trivial</th>\n",
       "      <th>Associative</th>\n",
       "      <th>Traditional</th>\n",
       "      <th>Series</th>\n",
       "    </tr>\n",
       "  </thead>\n",
       "  <tbody>\n",
       "    <tr>\n",
       "      <th>0</th>\n",
       "      <td>a</td>\n",
       "      <td>$a$</td>\n",
       "      <td>$a$</td>\n",
       "      <td>$a$</td>\n",
       "      <td>$a$</td>\n",
       "    </tr>\n",
       "    <tr>\n",
       "      <th>1</th>\n",
       "      <td>a+b+c</td>\n",
       "      <td>$\\left(a + b\\right) + c$</td>\n",
       "      <td>$a + b + c$</td>\n",
       "      <td>$a + b + c$</td>\n",
       "      <td>$a \\oplus b \\oplus c$</td>\n",
       "    </tr>\n",
       "    <tr>\n",
       "      <th>2</th>\n",
       "      <td>a+(b+c)</td>\n",
       "      <td>$a + \\left(b + c\\right)$</td>\n",
       "      <td>$a + b + c$</td>\n",
       "      <td>$a + b + c$</td>\n",
       "      <td>$a \\oplus b \\oplus c$</td>\n",
       "    </tr>\n",
       "    <tr>\n",
       "      <th>3</th>\n",
       "      <td>a+b+c+d</td>\n",
       "      <td>$\\left(\\left(a + b\\right) + c\\right) + d$</td>\n",
       "      <td>$[a-d]$</td>\n",
       "      <td>$[a-d]$</td>\n",
       "      <td>$[a-d]$</td>\n",
       "    </tr>\n",
       "    <tr>\n",
       "      <th>4</th>\n",
       "      <td>b+a</td>\n",
       "      <td>$b + a$</td>\n",
       "      <td>$b + a$</td>\n",
       "      <td>$a + b$</td>\n",
       "      <td>$a \\oplus b$</td>\n",
       "    </tr>\n",
       "    <tr>\n",
       "      <th>5</th>\n",
       "      <td>[ab][ab]</td>\n",
       "      <td>$\\left(a + b\\right) \\, \\left(a + b\\right)$</td>\n",
       "      <td>$\\left(a + b\\right) \\, \\left(a + b\\right)$</td>\n",
       "      <td>$\\left(a + b\\right) \\, \\left(a + b\\right)$</td>\n",
       "      <td>$a \\, a \\oplus a \\, b \\oplus b \\, a \\oplus b \\, b$</td>\n",
       "    </tr>\n",
       "  </tbody>\n",
       "</table>\n",
       "</div>"
      ],
      "text/plain": [
       "      Input                                     Trivial  \\\n",
       "0  a         $a$                                          \n",
       "1  a+b+c     $\\left(a + b\\right) + c$                     \n",
       "2  a+(b+c)   $a + \\left(b + c\\right)$                     \n",
       "3  a+b+c+d   $\\left(\\left(a + b\\right) + c\\right) + d$    \n",
       "4  b+a       $b + a$                                      \n",
       "5  [ab][ab]  $\\left(a + b\\right) \\, \\left(a + b\\right)$   \n",
       "\n",
       "                                  Associative  \\\n",
       "0  $a$                                          \n",
       "1  $a + b + c$                                  \n",
       "2  $a + b + c$                                  \n",
       "3  $[a-d]$                                      \n",
       "4  $b + a$                                      \n",
       "5  $\\left(a + b\\right) \\, \\left(a + b\\right)$   \n",
       "\n",
       "                                  Traditional  \\\n",
       "0  $a$                                          \n",
       "1  $a + b + c$                                  \n",
       "2  $a + b + c$                                  \n",
       "3  $[a-d]$                                      \n",
       "4  $a + b$                                      \n",
       "5  $\\left(a + b\\right) \\, \\left(a + b\\right)$   \n",
       "\n",
       "                                               Series  \n",
       "0  $a$                                                 \n",
       "1  $a \\oplus b \\oplus c$                               \n",
       "2  $a \\oplus b \\oplus c$                               \n",
       "3  $[a-d]$                                             \n",
       "4  $a \\oplus b$                                        \n",
       "5  $a \\, a \\oplus a \\, b \\oplus b \\, a \\oplus b \\, b$  "
      ]
     },
     "execution_count": 8,
     "metadata": {},
     "output_type": "execute_result"
    }
   ],
   "source": [
    "example('a', 'a+b+c', 'a+(b+c)', 'a+b+c+d', 'b+a', '[ab][ab]')"
   ]
  }
 ],
 "metadata": {
  "kernelspec": {
   "display_name": "Python 3",
   "language": "python",
   "name": "python3"
  },
  "language_info": {
   "codemirror_mode": {
    "name": "ipython",
    "version": 3
   },
   "file_extension": ".py",
   "mimetype": "text/x-python",
   "name": "python",
   "nbconvert_exporter": "python",
   "pygments_lexer": "ipython3",
   "version": "3.4.3"
  }
 },
 "nbformat": 4,
 "nbformat_minor": 0
}
