{
 "cells": [
  {
   "cell_type": "markdown",
   "metadata": {},
   "source": [
    "# Expressions\n",
    "\n",
    "Rational expressions, or _expressions_ for short, denote (rational) languages in a compact way.  Since Vcsn supports weighted expressions, they actually can denoted rational series.\n",
    "\n",
    "This page document the syntax and transformations (called _identities_) that are applied to every expression.  The list of available algorithms using expression is in the [Algorithms page](Algorithms.ipynb)."
   ]
  },
  {
   "cell_type": "markdown",
   "metadata": {},
   "source": [
    "## Syntax\n",
    "The syntax for rational expressions is as follows (with increasing precedence):\n",
    "- `\\z`, the empty expression\n",
    "- `\\e`, the empty word\n",
    "- `a`, the word `a`\n",
    "- `e+f`, the addition (disjunction, union) of `e` and `f` (note the use of `+`, `|` is not accepted)\n",
    "- `e&f`, the conjunction (intersection) of `e` and `f`\n",
    "- `ef` and `e.f`, the multiplication (concatenation) of `e` and `f`\n",
    "- `<k>e`, the left exterior product (left-scalar product) of `e` by `k`\n",
    "- `e<k>`, the right exterior product (right-scalar product) of `e` by `k`\n",
    "- `e*` and `e{*}`, any number of repetitions of `e` (the Kleene closure of `e`)\n",
    "- `e{n}`, the power (repeated multiplication) of `e` `n` times: `ee ... e`\n",
    "- `e{n,m}`, any repetition of `e` between `n` and `m`, i.e., the sum of the powers of `e` between `n` and `m`: `e{n}+e{n+1}+ ... +e{m}`\n",
    "- `e{n,}`, the sum of powers of `e` at least `n` times: `e{n}e*`\n",
    "- `e{,m}`, at most `m` repetitions of `e`: `e{0,m}`\n",
    "- `e{+}`, at least one `e`: `e{1,}`\n",
    "- `e{?}`, `e` optional: `e{0,1}`\n",
    "- `e{c}`, the complement of `e`\n",
    "\n",
    "where `e` and `f` denote expressions, `a` a label, `k` a weight, and `n` and `m` natural numbers."
   ]
  },
  {
   "cell_type": "markdown",
   "metadata": {},
   "source": [
    "## Identities\n",
    "Some rewriting rules are applied on the expressions to \"simplify\" them.  The strength of this simplification is graduated.\n",
    "\n",
    "### Trivial Identities\n",
    "\n",
    "### Traditional Identities\n",
    "\n",
    "### Series Identities"
   ]
  },
  {
   "cell_type": "markdown",
   "metadata": {},
   "source": [
    "## Examples\n"
   ]
  },
  {
   "cell_type": "code",
   "execution_count": 1,
   "metadata": {
    "collapsed": false
   },
   "outputs": [
    {
     "name": "stderr",
     "output_type": "stream",
     "text": [
      ":0: FutureWarning: IPython widgets are experimental and may change in the future.\n"
     ]
    },
    {
     "data": {
      "application/javascript": [
       "IPython.load_extensions(\"AutomatonD3Widget\")"
      ],
      "text/plain": [
       "<IPython.core.display.Javascript object>"
      ]
     },
     "metadata": {},
     "output_type": "display_data"
    }
   ],
   "source": [
    "import vcsn\n",
    "from IPython.display import Latex\n",
    "import numpy as np\n",
    "import pandas as pd\n",
    "pd.options.display.max_colwidth=0"
   ]
  },
  {
   "cell_type": "code",
   "execution_count": 2,
   "metadata": {
    "collapsed": false
   },
   "outputs": [],
   "source": [
    "ids = ['trivial', 'traditional', 'series']\n",
    "def example(*es):\n",
    "    c = vcsn.context('lal_char, b')\n",
    "    res = []\n",
    "    for e in es:\n",
    "        res.append([e] + ['$' + c.expression(e, id).format('latex') + '$' for id in ids])\n",
    "    return pd.DataFrame(res, columns=['Input', 'Trivial', 'Traditional', 'Series'])"
   ]
  },
  {
   "cell_type": "code",
   "execution_count": 3,
   "metadata": {
    "collapsed": false
   },
   "outputs": [
    {
     "data": {
      "text/html": [
       "<div style=\"max-height:1000px;max-width:1500px;overflow:auto;\">\n",
       "<table border=\"1\" class=\"dataframe\">\n",
       "  <thead>\n",
       "    <tr style=\"text-align: right;\">\n",
       "      <th></th>\n",
       "      <th>Input</th>\n",
       "      <th>Trivial</th>\n",
       "      <th>Traditional</th>\n",
       "      <th>Series</th>\n",
       "    </tr>\n",
       "  </thead>\n",
       "  <tbody>\n",
       "    <tr>\n",
       "      <th>0</th>\n",
       "      <td>a</td>\n",
       "      <td>$a$</td>\n",
       "      <td>$a$</td>\n",
       "      <td>$a$</td>\n",
       "    </tr>\n",
       "    <tr>\n",
       "      <th>1</th>\n",
       "      <td>b+a</td>\n",
       "      <td>$b + a$</td>\n",
       "      <td>$a + b$</td>\n",
       "      <td>$a \\oplus b$</td>\n",
       "    </tr>\n",
       "    <tr>\n",
       "      <th>2</th>\n",
       "      <td>[ab][ab]</td>\n",
       "      <td>$\\left(a + b\\right) \\, \\left(a + b\\right)$</td>\n",
       "      <td>$\\left(a + b\\right) \\, \\left(a + b\\right)$</td>\n",
       "      <td>$a \\, a \\oplus a \\, b \\oplus b \\, a \\oplus b \\, b$</td>\n",
       "    </tr>\n",
       "  </tbody>\n",
       "</table>\n",
       "</div>"
      ],
      "text/plain": [
       "      Input                                     Trivial  \\\n",
       "0  a         $a$                                          \n",
       "1  b+a       $b + a$                                      \n",
       "2  [ab][ab]  $\\left(a + b\\right) \\, \\left(a + b\\right)$   \n",
       "\n",
       "                                  Traditional  \\\n",
       "0  $a$                                          \n",
       "1  $a + b$                                      \n",
       "2  $\\left(a + b\\right) \\, \\left(a + b\\right)$   \n",
       "\n",
       "                                               Series  \n",
       "0  $a$                                                 \n",
       "1  $a \\oplus b$                                        \n",
       "2  $a \\, a \\oplus a \\, b \\oplus b \\, a \\oplus b \\, b$  "
      ]
     },
     "execution_count": 3,
     "metadata": {},
     "output_type": "execute_result"
    }
   ],
   "source": [
    "example('a', 'b+a', '[ab][ab]')"
   ]
  }
 ],
 "metadata": {
  "kernelspec": {
   "display_name": "Python 3",
   "language": "python",
   "name": "python3"
  },
  "language_info": {
   "codemirror_mode": {
    "name": "ipython",
    "version": 3
   },
   "file_extension": ".py",
   "mimetype": "text/x-python",
   "name": "python",
   "nbconvert_exporter": "python",
   "pygments_lexer": "ipython3",
   "version": "3.4.3"
  }
 },
 "nbformat": 4,
 "nbformat_minor": 0
}
