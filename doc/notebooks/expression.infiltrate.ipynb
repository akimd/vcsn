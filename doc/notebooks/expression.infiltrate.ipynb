{
 "cells": [
  {
   "cell_type": "markdown",
   "metadata": {},
   "source": [
    "# _`expression`_`.infiltrate`\n",
    "\n",
    "Create the (accessible part of the) infiltration product of two expressions.  In a way the infiltration product combines the conjunction (synchronized) and the shuffle product.\n",
    "\n",
    "See also:\n",
    "- [expression.conjunction](expression.conjunction.ipynb)\n",
    "- [expression.shuffle](expression.shuffle.ipynb)"
   ]
  },
  {
   "cell_type": "markdown",
   "metadata": {},
   "source": [
    "## Examples"
   ]
  },
  {
   "cell_type": "code",
   "execution_count": 1,
   "metadata": {
    "collapsed": false
   },
   "outputs": [
    {
     "data": {
      "text/latex": [
       "$\\{\\ldots\\}\\to\\mathsf{Series}[\\{\\ldots\\}\\to\\mathbb{Z}]$"
      ],
      "text/plain": [
       "{...} -> RatE[{...} -> Z](distributive)"
      ]
     },
     "execution_count": 1,
     "metadata": {},
     "output_type": "execute_result"
    }
   ],
   "source": [
    "import vcsn\n",
    "c = vcsn.context('lal_char, seriesset<lal_char, z>')\n",
    "exp = lambda exp: c.expression(exp)\n",
    "c"
   ]
  },
  {
   "cell_type": "markdown",
   "metadata": {},
   "source": [
    "The following simple example aims at emphasizing that the transitions of the infiltration combine those of the shuffle and the conjunction products."
   ]
  },
  {
   "cell_type": "code",
   "execution_count": 2,
   "metadata": {
    "collapsed": false
   },
   "outputs": [
    {
     "data": {
      "text/latex": [
       "$ \\left\\langle x \\right\\rangle \\,a$"
      ],
      "text/plain": [
       "<x>a"
      ]
     },
     "execution_count": 2,
     "metadata": {},
     "output_type": "execute_result"
    }
   ],
   "source": [
    "x = exp(\"<x>a\"); x"
   ]
  },
  {
   "cell_type": "code",
   "execution_count": 3,
   "metadata": {
    "collapsed": false
   },
   "outputs": [
    {
     "data": {
      "text/latex": [
       "$ \\left\\langle y \\right\\rangle \\,a$"
      ],
      "text/plain": [
       "<y>a"
      ]
     },
     "execution_count": 3,
     "metadata": {},
     "output_type": "execute_result"
    }
   ],
   "source": [
    "y = exp(\"<y>a\"); y"
   ]
  },
  {
   "cell_type": "code",
   "execution_count": 4,
   "metadata": {
    "collapsed": false
   },
   "outputs": [
    {
     "data": {
      "text/latex": [
       "$ \\left\\langle x \\, y \\right\\rangle \\,a$"
      ],
      "text/plain": [
       "<xy>a"
      ]
     },
     "execution_count": 4,
     "metadata": {},
     "output_type": "execute_result"
    }
   ],
   "source": [
    "conj = x & y ; conj"
   ]
  },
  {
   "cell_type": "code",
   "execution_count": 5,
   "metadata": {
    "collapsed": false
   },
   "outputs": [
    {
     "data": {
      "text/latex": [
       "$ \\left\\langle x \\right\\rangle \\,a \\between  \\left\\langle y \\right\\rangle \\,a$"
      ],
      "text/plain": [
       "<x>a:<y>a"
      ]
     },
     "execution_count": 5,
     "metadata": {},
     "output_type": "execute_result"
    }
   ],
   "source": [
    "shuff = x.shuffle(y) ; shuff"
   ]
  },
  {
   "cell_type": "code",
   "execution_count": 6,
   "metadata": {
    "collapsed": false,
    "scrolled": true
   },
   "outputs": [
    {
     "data": {
      "text/latex": [
       "$ \\left\\langle x \\right\\rangle \\,a \\uparrow  \\left\\langle y \\right\\rangle \\,a$"
      ],
      "text/plain": [
       "<x>a&:<y>a"
      ]
     },
     "execution_count": 6,
     "metadata": {},
     "output_type": "execute_result"
    }
   ],
   "source": [
    "inf = x.infiltrate(y) ; inf"
   ]
  },
  {
   "cell_type": "code",
   "execution_count": 7,
   "metadata": {
    "collapsed": false
   },
   "outputs": [
    {
     "data": {
      "text/plain": [
       "True"
      ]
     },
     "execution_count": 7,
     "metadata": {},
     "output_type": "execute_result"
    }
   ],
   "source": [
    "inf.automaton() == (conj + shuff).automaton()"
   ]
  },
  {
   "cell_type": "markdown",
   "metadata": {},
   "source": [
    "### Associativity\n",
    "This operator is associative."
   ]
  },
  {
   "cell_type": "code",
   "execution_count": 8,
   "metadata": {
    "collapsed": true
   },
   "outputs": [],
   "source": [
    "x = exp('<x>a')\n",
    "y = exp('<y>a')\n",
    "z = exp('<z>a')"
   ]
  },
  {
   "cell_type": "code",
   "execution_count": 9,
   "metadata": {
    "collapsed": false
   },
   "outputs": [
    {
     "data": {
      "text/latex": [
       "$ \\left\\langle x \\right\\rangle \\,a \\uparrow  \\left\\langle y \\right\\rangle \\,a \\uparrow  \\left\\langle z \\right\\rangle \\,a$"
      ],
      "text/plain": [
       "<x>a&:<y>a&:<z>a"
      ]
     },
     "execution_count": 9,
     "metadata": {},
     "output_type": "execute_result"
    }
   ],
   "source": [
    "x.infiltrate(y).infiltrate(z)"
   ]
  },
  {
   "cell_type": "code",
   "execution_count": 10,
   "metadata": {
    "collapsed": false
   },
   "outputs": [
    {
     "data": {
      "text/latex": [
       "$ \\left\\langle x \\right\\rangle \\,a \\uparrow  \\left\\langle y \\right\\rangle \\,a \\uparrow  \\left\\langle z \\right\\rangle \\,a$"
      ],
      "text/plain": [
       "<x>a&:<y>a&:<z>a"
      ]
     },
     "execution_count": 10,
     "metadata": {},
     "output_type": "execute_result"
    }
   ],
   "source": [
    "x.infiltrate(y.infiltrate(z))"
   ]
  }
 ],
 "metadata": {
  "kernelspec": {
   "display_name": "Python 3",
   "language": "python",
   "name": "python3"
  },
  "language_info": {
   "codemirror_mode": {
    "name": "ipython",
    "version": 3
   },
   "file_extension": ".py",
   "mimetype": "text/x-python",
   "name": "python",
   "nbconvert_exporter": "python",
   "pygments_lexer": "ipython3",
   "version": "3.4.2"
  },
  "widgets": {
   "state": {},
   "version": "1.1.2"
  }
 },
 "nbformat": 4,
 "nbformat_minor": 0
}
