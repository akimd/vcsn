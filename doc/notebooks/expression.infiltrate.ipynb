{
 "cells": [
  {
   "cell_type": "markdown",
   "metadata": {},
   "source": [
    "# _`expression`_`.infiltrate`\n",
    "$\\newcommand{\\Ed}{\\mathsf{E}}\n",
    "\\newcommand{\\Fd}{\\mathsf{F}}\n",
    "\\newcommand{\\Gd}{\\mathsf{G}}\n",
    "\\newcommand{\\infiltrate}{\\mathbin{\\uparrow}}\n",
    "\\newcommand{\\shuffle}{\\mathbin{\\between}}$\n",
    "Create the infiltration product of two expressions.  In a way the infiltration product combines the conjunction (synchronized product) and the shuffle product.\n",
    "\n",
    "See also:\n",
    "- [automaton.infiltrate](automaton.infiltrate.ipynb)\n",
    "- [expression.conjunction](expression.conjunction.ipynb)\n",
    "- [expression.shuffle](expression.shuffle.ipynb)"
   ]
  },
  {
   "cell_type": "markdown",
   "metadata": {},
   "source": [
    "## Examples"
   ]
  },
  {
   "cell_type": "code",
   "execution_count": 1,
   "metadata": {
    "collapsed": false
   },
   "outputs": [
    {
     "data": {
      "text/latex": [
       "$\\{\\ldots\\}\\to\\mathsf{Series}[\\{\\ldots\\}\\to\\mathbb{Z}]$"
      ],
      "text/plain": [
       "{...} -> RatE[{...} -> Z](distributive)"
      ]
     },
     "execution_count": 1,
     "metadata": {},
     "output_type": "execute_result"
    }
   ],
   "source": [
    "import vcsn\n",
    "c = vcsn.context('lal_char, seriesset<lal_char, z>')\n",
    "exp = c.expression\n",
    "c"
   ]
  },
  {
   "cell_type": "markdown",
   "metadata": {},
   "source": [
    "The following simple example aims at emphasizing that the transitions of the infiltration combine those of the shuffle and the conjunction products."
   ]
  },
  {
   "cell_type": "code",
   "execution_count": 2,
   "metadata": {
    "collapsed": false
   },
   "outputs": [
    {
     "data": {
      "text/latex": [
       "$ \\left\\langle x \\right\\rangle \\,a$"
      ],
      "text/plain": [
       "<x>a"
      ]
     },
     "execution_count": 2,
     "metadata": {},
     "output_type": "execute_result"
    }
   ],
   "source": [
    "x = exp(\"<x>a\"); x"
   ]
  },
  {
   "cell_type": "code",
   "execution_count": 3,
   "metadata": {
    "collapsed": false
   },
   "outputs": [
    {
     "data": {
      "text/latex": [
       "$ \\left\\langle y \\right\\rangle \\,a$"
      ],
      "text/plain": [
       "<y>a"
      ]
     },
     "execution_count": 3,
     "metadata": {},
     "output_type": "execute_result"
    }
   ],
   "source": [
    "y = exp(\"<y>a\"); y"
   ]
  },
  {
   "cell_type": "code",
   "execution_count": 4,
   "metadata": {
    "collapsed": false
   },
   "outputs": [
    {
     "data": {
      "text/latex": [
       "$ \\left\\langle x \\, y \\right\\rangle \\,a$"
      ],
      "text/plain": [
       "<xy>a"
      ]
     },
     "execution_count": 4,
     "metadata": {},
     "output_type": "execute_result"
    }
   ],
   "source": [
    "conj = x & y ; conj"
   ]
  },
  {
   "cell_type": "code",
   "execution_count": 5,
   "metadata": {
    "collapsed": false
   },
   "outputs": [
    {
     "data": {
      "text/latex": [
       "$ \\left\\langle x \\right\\rangle \\,a \\between  \\left\\langle y \\right\\rangle \\,a$"
      ],
      "text/plain": [
       "<x>a:<y>a"
      ]
     },
     "execution_count": 5,
     "metadata": {},
     "output_type": "execute_result"
    }
   ],
   "source": [
    "shuff = x.shuffle(y) ; shuff"
   ]
  },
  {
   "cell_type": "code",
   "execution_count": 6,
   "metadata": {
    "collapsed": false,
    "scrolled": true
   },
   "outputs": [
    {
     "data": {
      "text/latex": [
       "$ \\left\\langle x \\right\\rangle \\,a \\uparrow  \\left\\langle y \\right\\rangle \\,a$"
      ],
      "text/plain": [
       "<x>a&:<y>a"
      ]
     },
     "execution_count": 6,
     "metadata": {},
     "output_type": "execute_result"
    }
   ],
   "source": [
    "inf = x.infiltrate(y) ; inf"
   ]
  },
  {
   "cell_type": "code",
   "execution_count": 7,
   "metadata": {
    "collapsed": false
   },
   "outputs": [
    {
     "data": {
      "text/plain": [
       "True"
      ]
     },
     "execution_count": 7,
     "metadata": {},
     "output_type": "execute_result"
    }
   ],
   "source": [
    "inf.automaton() == (conj + shuff).automaton()"
   ]
  },
  {
   "cell_type": "markdown",
   "metadata": {},
   "source": [
    "### Associativity\n",
    "This operator is associative: $(\\Ed \\infiltrate \\Fd) \\infiltrate \\Gd \\equiv \\Ed \\infiltrate (\\Fd \\infiltrate \\Gd)$, i.e., both expressions denote the same series."
   ]
  },
  {
   "cell_type": "code",
   "execution_count": 8,
   "metadata": {
    "collapsed": true
   },
   "outputs": [],
   "source": [
    "x = exp('<x>a', 'trivial')\n",
    "y = exp('<y>a', 'trivial')\n",
    "z = exp('<z>a', 'trivial')"
   ]
  },
  {
   "cell_type": "code",
   "execution_count": 9,
   "metadata": {
    "collapsed": false
   },
   "outputs": [
    {
     "data": {
      "image/svg+xml": [
       "<?xml version=\"1.0\" encoding=\"UTF-8\" standalone=\"no\"?>\n",
       "<!DOCTYPE svg PUBLIC \"-//W3C//DTD SVG 1.1//EN\"\n",
       " \"http://www.w3.org/Graphics/SVG/1.1/DTD/svg11.dtd\">\n",
       "<!-- Generated by graphviz version 2.38.0 (20140413.2041)\n",
       " -->\n",
       "<!-- Title: %3 Pages: 1 -->\n",
       "<svg width=\"395pt\" height=\"344pt\"\n",
       " viewBox=\"0.00 0.00 395.00 343.88\" xmlns=\"http://www.w3.org/2000/svg\" xmlns:xlink=\"http://www.w3.org/1999/xlink\">\n",
       "<g id=\"graph0\" class=\"graph\" transform=\"scale(1 1) rotate(0) translate(4 327.83)\">\n",
       "<title>%3</title>\n",
       "<polygon fill=\"white\" stroke=\"none\" points=\"-4,16.054 -4,-327.83 391,-327.83 391,16.054 -4,16.054\"/>\n",
       "<!-- I0 -->\n",
       "<g id=\"node1\" class=\"node\"><title>I0</title>\n",
       "<ellipse fill=\"black\" stroke=\"black\" cx=\"0\" cy=\"-165.83\" rx=\"0\" ry=\"0\"/>\n",
       "</g>\n",
       "<!-- 0 -->\n",
       "<g id=\"node3\" class=\"node\"><title>0</title>\n",
       "<ellipse fill=\"#98f5ff\" stroke=\"black\" cx=\"51.5\" cy=\"-165.83\" rx=\"14.5\" ry=\"14.5\"/>\n",
       "<text text-anchor=\"middle\" x=\"51.5\" y=\"-162.73\" font-family=\"Times,serif\" font-size=\"12.00\">0</text>\n",
       "</g>\n",
       "<!-- I0&#45;&gt;0 -->\n",
       "<g id=\"edge1\" class=\"edge\"><title>I0&#45;&gt;0</title>\n",
       "<path fill=\"none\" stroke=\"black\" d=\"M1.142,-165.83C2.7502,-165.83 17.72,-165.83 30.756,-165.83\"/>\n",
       "<polygon fill=\"black\" stroke=\"black\" points=\"36.933,-165.83 30.933,-168.53 33.933,-165.83 30.933,-165.83 30.933,-165.83 30.933,-165.83 33.933,-165.83 30.933,-163.13 36.933,-165.83 36.933,-165.83\"/>\n",
       "</g>\n",
       "<!-- F1 -->\n",
       "<g id=\"node2\" class=\"node\"><title>F1</title>\n",
       "<ellipse fill=\"black\" stroke=\"black\" cx=\"387\" cy=\"-165.83\" rx=\"0\" ry=\"0\"/>\n",
       "</g>\n",
       "<!-- 1 -->\n",
       "<g id=\"node4\" class=\"node\"><title>1</title>\n",
       "<ellipse fill=\"#98f5ff\" stroke=\"black\" cx=\"335.5\" cy=\"-165.83\" rx=\"14.5\" ry=\"14.5\"/>\n",
       "<text text-anchor=\"middle\" x=\"335.5\" y=\"-162.73\" font-family=\"Times,serif\" font-size=\"12.00\">1</text>\n",
       "</g>\n",
       "<!-- 0&#45;&gt;1 -->\n",
       "<g id=\"edge2\" class=\"edge\"><title>0&#45;&gt;1</title>\n",
       "<path fill=\"none\" stroke=\"black\" d=\"M53.957,-180.19C56.717,-201.49 64.312,-241.93 84,-269.83 97.377,-288.79 103.96,-293.58 126,-300.83 155.01,-310.38 215.94,-313.22 261,-292.83 303.47,-273.61 322.78,-216.98 330.34,-186.24\"/>\n",
       "<polygon fill=\"black\" stroke=\"black\" points=\"331.78,-180.1 333.039,-186.558 331.095,-183.021 330.41,-185.942 330.41,-185.942 330.41,-185.942 331.095,-183.021 327.781,-185.325 331.78,-180.1 331.78,-180.1\"/>\n",
       "<text text-anchor=\"middle\" x=\"193.5\" y=\"-312.63\" font-family=\"Times,serif\" font-size=\"14.00\">⟨xyz⟩a</text>\n",
       "</g>\n",
       "<!-- 2 -->\n",
       "<g id=\"node5\" class=\"node\"><title>2</title>\n",
       "<ellipse fill=\"#98f5ff\" stroke=\"black\" cx=\"245.5\" cy=\"-233.83\" rx=\"14.5\" ry=\"14.5\"/>\n",
       "<text text-anchor=\"middle\" x=\"245.5\" y=\"-230.73\" font-family=\"Times,serif\" font-size=\"12.00\">2</text>\n",
       "</g>\n",
       "<!-- 0&#45;&gt;2 -->\n",
       "<g id=\"edge3\" class=\"edge\"><title>0&#45;&gt;2</title>\n",
       "<path fill=\"none\" stroke=\"black\" d=\"M56.005,-180.04C63.48,-206.61 83.852,-262.59 126,-278.83 137.59,-283.29 202.86,-281.59 212,-276.83 222.17,-271.53 230.05,-261.45 235.51,-252.38\"/>\n",
       "<polygon fill=\"black\" stroke=\"black\" points=\"238.59,-246.92 237.994,-253.472 237.116,-249.533 235.642,-252.146 235.642,-252.146 235.642,-252.146 237.116,-249.533 233.29,-250.819 238.59,-246.92 238.59,-246.92\"/>\n",
       "<text text-anchor=\"middle\" x=\"141.5\" y=\"-285.63\" font-family=\"Times,serif\" font-size=\"14.00\">⟨yz⟩a</text>\n",
       "</g>\n",
       "<!-- 3 -->\n",
       "<g id=\"node6\" class=\"node\"><title>3</title>\n",
       "<ellipse fill=\"#98f5ff\" stroke=\"black\" cx=\"245.5\" cy=\"-110.83\" rx=\"14.5\" ry=\"14.5\"/>\n",
       "<text text-anchor=\"middle\" x=\"245.5\" y=\"-107.73\" font-family=\"Times,serif\" font-size=\"12.00\">3</text>\n",
       "</g>\n",
       "<!-- 0&#45;&gt;3 -->\n",
       "<g id=\"edge4\" class=\"edge\"><title>0&#45;&gt;3</title>\n",
       "<path fill=\"none\" stroke=\"black\" d=\"M63.986,-158.39C78.058,-149.6 102.89,-135.12 126,-126.83 146.92,-119.32 153,-120.01 175,-116.83 191.73,-114.41 210.89,-112.84 224.84,-111.92\"/>\n",
       "<polygon fill=\"black\" stroke=\"black\" points=\"230.86,-111.54 225.042,-114.613 227.866,-111.729 224.872,-111.918 224.872,-111.918 224.872,-111.918 227.866,-111.729 224.702,-109.223 230.86,-111.54 230.86,-111.54\"/>\n",
       "<text text-anchor=\"middle\" x=\"141.5\" y=\"-130.63\" font-family=\"Times,serif\" font-size=\"14.00\">⟨xz⟩a</text>\n",
       "</g>\n",
       "<!-- 4 -->\n",
       "<g id=\"node7\" class=\"node\"><title>4</title>\n",
       "<ellipse fill=\"#98f5ff\" stroke=\"black\" cx=\"245.5\" cy=\"-54.83\" rx=\"14.5\" ry=\"14.5\"/>\n",
       "<text text-anchor=\"middle\" x=\"245.5\" y=\"-51.73\" font-family=\"Times,serif\" font-size=\"12.00\">4</text>\n",
       "</g>\n",
       "<!-- 0&#45;&gt;4 -->\n",
       "<g id=\"edge5\" class=\"edge\"><title>0&#45;&gt;4</title>\n",
       "<path fill=\"none\" stroke=\"black\" d=\"M53.343,-151.3C56.264,-116.74 69.2,-30.604 126,-4.8295 163.21,12.054 207.77,-20.744 230.16,-40.827\"/>\n",
       "<polygon fill=\"black\" stroke=\"black\" points=\"234.59,-44.897 228.345,-42.8259 232.381,-42.8673 230.172,-40.8377 230.172,-40.8377 230.172,-40.8377 232.381,-42.8673 231.998,-38.8494 234.59,-44.897 234.59,-44.897\"/>\n",
       "<text text-anchor=\"middle\" x=\"141.5\" y=\"-8.63\" font-family=\"Times,serif\" font-size=\"14.00\">⟨xy⟩a</text>\n",
       "</g>\n",
       "<!-- 5 -->\n",
       "<g id=\"node8\" class=\"node\"><title>5</title>\n",
       "<ellipse fill=\"#98f5ff\" stroke=\"black\" cx=\"141.5\" cy=\"-255.83\" rx=\"14.5\" ry=\"14.5\"/>\n",
       "<text text-anchor=\"middle\" x=\"141.5\" y=\"-252.73\" font-family=\"Times,serif\" font-size=\"12.00\">5</text>\n",
       "</g>\n",
       "<!-- 0&#45;&gt;5 -->\n",
       "<g id=\"edge6\" class=\"edge\"><title>0&#45;&gt;5</title>\n",
       "<path fill=\"none\" stroke=\"black\" d=\"M62.254,-175.8C77.848,-191.75 108.46,-223.06 126.42,-241.43\"/>\n",
       "<polygon fill=\"black\" stroke=\"black\" points=\"130.7,-245.81 124.575,-243.406 128.603,-243.664 126.507,-241.519 126.507,-241.519 126.507,-241.519 128.603,-243.664 128.438,-239.632 130.7,-245.81 130.7,-245.81\"/>\n",
       "<text text-anchor=\"middle\" x=\"96\" y=\"-225.63\" font-family=\"Times,serif\" font-size=\"14.00\">⟨z⟩a</text>\n",
       "</g>\n",
       "<!-- 6 -->\n",
       "<g id=\"node9\" class=\"node\"><title>6</title>\n",
       "<ellipse fill=\"#98f5ff\" stroke=\"black\" cx=\"141.5\" cy=\"-165.83\" rx=\"14.5\" ry=\"14.5\"/>\n",
       "<text text-anchor=\"middle\" x=\"141.5\" y=\"-162.73\" font-family=\"Times,serif\" font-size=\"12.00\">6</text>\n",
       "</g>\n",
       "<!-- 0&#45;&gt;6 -->\n",
       "<g id=\"edge7\" class=\"edge\"><title>0&#45;&gt;6</title>\n",
       "<path fill=\"none\" stroke=\"black\" d=\"M66.25,-165.83C80.845,-165.83 104.05,-165.83 120.63,-165.83\"/>\n",
       "<polygon fill=\"black\" stroke=\"black\" points=\"126.85,-165.83 120.85,-168.53 123.85,-165.83 120.85,-165.83 120.85,-165.83 120.85,-165.83 123.85,-165.83 120.85,-163.13 126.85,-165.83 126.85,-165.83\"/>\n",
       "<text text-anchor=\"middle\" x=\"96\" y=\"-169.63\" font-family=\"Times,serif\" font-size=\"14.00\">⟨y⟩a</text>\n",
       "</g>\n",
       "<!-- 7 -->\n",
       "<g id=\"node10\" class=\"node\"><title>7</title>\n",
       "<ellipse fill=\"#98f5ff\" stroke=\"black\" cx=\"141.5\" cy=\"-43.83\" rx=\"14.5\" ry=\"14.5\"/>\n",
       "<text text-anchor=\"middle\" x=\"141.5\" y=\"-40.73\" font-family=\"Times,serif\" font-size=\"12.00\">7</text>\n",
       "</g>\n",
       "<!-- 0&#45;&gt;7 -->\n",
       "<g id=\"edge8\" class=\"edge\"><title>0&#45;&gt;7</title>\n",
       "<path fill=\"none\" stroke=\"black\" d=\"M54.107,-151.45C56.972,-131.84 64.606,-96.563 84,-73.83 93.911,-62.212 109.47,-54.419 121.76,-49.695\"/>\n",
       "<polygon fill=\"black\" stroke=\"black\" points=\"127.49,-47.618 122.769,-52.2011 124.67,-48.6404 121.849,-49.6628 121.849,-49.6628 121.849,-49.6628 124.67,-48.6404 120.929,-47.1244 127.49,-47.618 127.49,-47.618\"/>\n",
       "<text text-anchor=\"middle\" x=\"96\" y=\"-77.63\" font-family=\"Times,serif\" font-size=\"14.00\">⟨x⟩a</text>\n",
       "</g>\n",
       "<!-- 1&#45;&gt;F1 -->\n",
       "<g id=\"edge9\" class=\"edge\"><title>1&#45;&gt;F1</title>\n",
       "<path fill=\"none\" stroke=\"black\" d=\"M350.12,-165.83C360.261,-165.83 373.253,-165.83 380.8,-165.83\"/>\n",
       "<polygon fill=\"black\" stroke=\"black\" points=\"386.937,-165.83 380.937,-168.53 383.937,-165.83 380.937,-165.83 380.937,-165.83 380.937,-165.83 383.937,-165.83 380.937,-163.13 386.937,-165.83 386.937,-165.83\"/>\n",
       "</g>\n",
       "<!-- 2&#45;&gt;1 -->\n",
       "<g id=\"edge10\" class=\"edge\"><title>2&#45;&gt;1</title>\n",
       "<path fill=\"none\" stroke=\"black\" d=\"M257.65,-225.22C272.99,-213.36 300.7,-191.94 318.33,-178.33\"/>\n",
       "<polygon fill=\"black\" stroke=\"black\" points=\"323.45,-174.37 320.356,-180.177 321.077,-176.205 318.704,-178.041 318.704,-178.041 318.704,-178.041 321.077,-176.205 317.052,-175.905 323.45,-174.37 323.45,-174.37\"/>\n",
       "<text text-anchor=\"middle\" x=\"291\" y=\"-212.63\" font-family=\"Times,serif\" font-size=\"14.00\">⟨x⟩a</text>\n",
       "</g>\n",
       "<!-- 3&#45;&gt;1 -->\n",
       "<g id=\"edge11\" class=\"edge\"><title>3&#45;&gt;1</title>\n",
       "<path fill=\"none\" stroke=\"black\" d=\"M259.67,-115.53C271.53,-120.07 289.16,-127.61 303,-136.83 309.16,-140.93 315.29,-146.23 320.48,-151.17\"/>\n",
       "<polygon fill=\"black\" stroke=\"black\" points=\"324.96,-155.56 318.785,-153.289 322.817,-153.46 320.675,-151.361 320.675,-151.361 320.675,-151.361 322.817,-153.46 322.564,-149.432 324.96,-155.56 324.96,-155.56\"/>\n",
       "<text text-anchor=\"middle\" x=\"291\" y=\"-140.63\" font-family=\"Times,serif\" font-size=\"14.00\">⟨y⟩a</text>\n",
       "</g>\n",
       "<!-- 4&#45;&gt;1 -->\n",
       "<g id=\"edge12\" class=\"edge\"><title>4&#45;&gt;1</title>\n",
       "<path fill=\"none\" stroke=\"black\" d=\"M258.03,-62.993C270.33,-72.127 289.8,-87.879 303,-104.83 312.94,-117.6 321.2,-133.98 326.76,-146.56\"/>\n",
       "<polygon fill=\"black\" stroke=\"black\" points=\"329.27,-152.39 324.417,-147.947 328.084,-149.635 326.897,-146.879 326.897,-146.879 326.897,-146.879 328.084,-149.635 329.377,-145.811 329.27,-152.39 329.27,-152.39\"/>\n",
       "<text text-anchor=\"middle\" x=\"291\" y=\"-108.63\" font-family=\"Times,serif\" font-size=\"14.00\">⟨z⟩a</text>\n",
       "</g>\n",
       "<!-- 5&#45;&gt;1 -->\n",
       "<g id=\"edge13\" class=\"edge\"><title>5&#45;&gt;1</title>\n",
       "<path fill=\"none\" stroke=\"black\" d=\"M153.14,-264.94C159.14,-269.47 167.01,-274.47 175,-276.83 212.64,-287.93 226.49,-275.5 261,-256.83 280.95,-246.04 288.07,-244.91 303,-227.83 314.02,-215.22 322.35,-198.06 327.67,-185\"/>\n",
       "<polygon fill=\"black\" stroke=\"black\" points=\"329.9,-179.31 330.224,-185.882 328.805,-182.103 327.711,-184.896 327.711,-184.896 327.711,-184.896 328.805,-182.103 325.197,-183.911 329.9,-179.31 329.9,-179.31\"/>\n",
       "<text text-anchor=\"middle\" x=\"245.5\" y=\"-277.63\" font-family=\"Times,serif\" font-size=\"14.00\">⟨xy⟩a</text>\n",
       "</g>\n",
       "<!-- 5&#45;&gt;2 -->\n",
       "<g id=\"edge14\" class=\"edge\"><title>5&#45;&gt;2</title>\n",
       "<path fill=\"none\" stroke=\"black\" d=\"M156.14,-257.15C170.38,-258.09 193.23,-258.35 212,-252.83 217.62,-251.18 223.28,-248.35 228.28,-245.38\"/>\n",
       "<polygon fill=\"black\" stroke=\"black\" points=\"233.4,-242.15 229.766,-247.635 230.863,-243.751 228.325,-245.351 228.325,-245.351 228.325,-245.351 230.863,-243.751 226.885,-243.068 233.4,-242.15 233.4,-242.15\"/>\n",
       "<text text-anchor=\"middle\" x=\"193.5\" y=\"-261.63\" font-family=\"Times,serif\" font-size=\"14.00\">⟨y⟩a</text>\n",
       "</g>\n",
       "<!-- 5&#45;&gt;3 -->\n",
       "<g id=\"edge15\" class=\"edge\"><title>5&#45;&gt;3</title>\n",
       "<path fill=\"none\" stroke=\"black\" d=\"M153.71,-247.75C159.88,-243.43 167.73,-238.14 175,-233.83 190.91,-224.41 200.49,-229.29 212,-214.83 232.28,-189.36 219.42,-174.61 230,-143.83 231.66,-139 233.73,-133.9 235.79,-129.19\"/>\n",
       "<polygon fill=\"black\" stroke=\"black\" points=\"238.35,-123.48 238.359,-130.06 237.123,-126.217 235.895,-128.955 235.895,-128.955 235.895,-128.955 237.123,-126.217 233.432,-127.85 238.35,-123.48 238.35,-123.48\"/>\n",
       "<text text-anchor=\"middle\" x=\"193.5\" y=\"-237.63\" font-family=\"Times,serif\" font-size=\"14.00\">⟨x⟩a</text>\n",
       "</g>\n",
       "<!-- 6&#45;&gt;1 -->\n",
       "<g id=\"edge16\" class=\"edge\"><title>6&#45;&gt;1</title>\n",
       "<path fill=\"none\" stroke=\"black\" d=\"M156,-165.83C189.25,-165.83 275.2,-165.83 314.44,-165.83\"/>\n",
       "<polygon fill=\"black\" stroke=\"black\" points=\"320.76,-165.83 314.76,-168.53 317.76,-165.83 314.76,-165.83 314.76,-165.83 314.76,-165.83 317.76,-165.83 314.76,-163.13 320.76,-165.83 320.76,-165.83\"/>\n",
       "<text text-anchor=\"middle\" x=\"245.5\" y=\"-169.63\" font-family=\"Times,serif\" font-size=\"14.00\">⟨xz⟩a</text>\n",
       "</g>\n",
       "<!-- 6&#45;&gt;2 -->\n",
       "<g id=\"edge17\" class=\"edge\"><title>6&#45;&gt;2</title>\n",
       "<path fill=\"none\" stroke=\"black\" d=\"M155.29,-170.5C169.83,-176.15 193.89,-186.59 212,-199.83 219.14,-205.05 226.06,-211.95 231.67,-218.16\"/>\n",
       "<polygon fill=\"black\" stroke=\"black\" points=\"235.68,-222.74 229.696,-220.004 233.704,-220.483 231.728,-218.226 231.728,-218.226 231.728,-218.226 233.704,-220.483 233.759,-216.447 235.68,-222.74 235.68,-222.74\"/>\n",
       "<text text-anchor=\"middle\" x=\"193.5\" y=\"-203.63\" font-family=\"Times,serif\" font-size=\"14.00\">⟨z⟩a</text>\n",
       "</g>\n",
       "<!-- 6&#45;&gt;4 -->\n",
       "<g id=\"edge18\" class=\"edge\"><title>6&#45;&gt;4</title>\n",
       "<path fill=\"none\" stroke=\"black\" d=\"M152.57,-155.6C166.25,-141.62 191.37,-115.69 212,-92.83 218.62,-85.499 225.77,-77.18 231.68,-70.199\"/>\n",
       "<polygon fill=\"black\" stroke=\"black\" points=\"235.54,-65.608 233.745,-71.9381 233.609,-67.9042 231.679,-70.2005 231.679,-70.2005 231.679,-70.2005 233.609,-67.9042 229.612,-68.4629 235.54,-65.608 235.54,-65.608\"/>\n",
       "<text text-anchor=\"middle\" x=\"193.5\" y=\"-135.63\" font-family=\"Times,serif\" font-size=\"14.00\">⟨x⟩a</text>\n",
       "</g>\n",
       "<!-- 7&#45;&gt;1 -->\n",
       "<g id=\"edge19\" class=\"edge\"><title>7&#45;&gt;1</title>\n",
       "<path fill=\"none\" stroke=\"black\" d=\"M153.95,-36.103C175.91,-22.334 224.96,3.2885 261,-15.83 309.24,-41.415 326.28,-110.5 331.92,-145.27\"/>\n",
       "<polygon fill=\"black\" stroke=\"black\" points=\"332.84,-151.34 329.271,-145.812 332.39,-148.374 331.941,-145.408 331.941,-145.408 331.941,-145.408 332.39,-148.374 334.61,-145.003 332.84,-151.34 332.84,-151.34\"/>\n",
       "<text text-anchor=\"middle\" x=\"245.5\" y=\"-19.63\" font-family=\"Times,serif\" font-size=\"14.00\">⟨yz⟩a</text>\n",
       "</g>\n",
       "<!-- 7&#45;&gt;3 -->\n",
       "<g id=\"edge20\" class=\"edge\"><title>7&#45;&gt;3</title>\n",
       "<path fill=\"none\" stroke=\"black\" d=\"M155.69,-47.588C170.37,-52.194 194.36,-60.998 212,-73.83 219.71,-79.44 226.88,-87.187 232.5,-94.143\"/>\n",
       "<polygon fill=\"black\" stroke=\"black\" points=\"236.49,-99.26 230.671,-96.1887 234.645,-96.8942 232.8,-94.5284 232.8,-94.5284 232.8,-94.5284 234.645,-96.8942 234.93,-92.8681 236.49,-99.26 236.49,-99.26\"/>\n",
       "<text text-anchor=\"middle\" x=\"193.5\" y=\"-77.63\" font-family=\"Times,serif\" font-size=\"14.00\">⟨z⟩a</text>\n",
       "</g>\n",
       "<!-- 7&#45;&gt;4 -->\n",
       "<g id=\"edge21\" class=\"edge\"><title>7&#45;&gt;4</title>\n",
       "<path fill=\"none\" stroke=\"black\" d=\"M155.53,-39.455C169.66,-35.37 192.77,-30.622 212,-35.83 217.65,-37.36 223.33,-40.147 228.32,-43.123\"/>\n",
       "<polygon fill=\"black\" stroke=\"black\" points=\"233.43,-46.376 226.919,-45.4315 230.899,-44.7649 228.369,-43.1539 228.369,-43.1539 228.369,-43.1539 230.899,-44.7649 229.819,-40.8762 233.43,-46.376 233.43,-46.376\"/>\n",
       "<text text-anchor=\"middle\" x=\"193.5\" y=\"-39.63\" font-family=\"Times,serif\" font-size=\"14.00\">⟨y⟩a</text>\n",
       "</g>\n",
       "</g>\n",
       "</svg>\n"
      ],
      "text/plain": [
       "mutable_automaton<context<letterset<char_letters>, expressionset<context<letterset<char_letters>, z>>>>"
      ]
     },
     "execution_count": 9,
     "metadata": {},
     "output_type": "execute_result"
    }
   ],
   "source": [
    "x.infiltrate(y).infiltrate(z).automaton()"
   ]
  },
  {
   "cell_type": "code",
   "execution_count": 10,
   "metadata": {
    "collapsed": false
   },
   "outputs": [
    {
     "data": {
      "image/svg+xml": [
       "<?xml version=\"1.0\" encoding=\"UTF-8\" standalone=\"no\"?>\n",
       "<!DOCTYPE svg PUBLIC \"-//W3C//DTD SVG 1.1//EN\"\n",
       " \"http://www.w3.org/Graphics/SVG/1.1/DTD/svg11.dtd\">\n",
       "<!-- Generated by graphviz version 2.38.0 (20140413.2041)\n",
       " -->\n",
       "<!-- Title: %3 Pages: 1 -->\n",
       "<svg width=\"395pt\" height=\"344pt\"\n",
       " viewBox=\"0.00 0.00 395.00 343.88\" xmlns=\"http://www.w3.org/2000/svg\" xmlns:xlink=\"http://www.w3.org/1999/xlink\">\n",
       "<g id=\"graph0\" class=\"graph\" transform=\"scale(1 1) rotate(0) translate(4 327.83)\">\n",
       "<title>%3</title>\n",
       "<polygon fill=\"white\" stroke=\"none\" points=\"-4,16.054 -4,-327.83 391,-327.83 391,16.054 -4,16.054\"/>\n",
       "<!-- I0 -->\n",
       "<g id=\"node1\" class=\"node\"><title>I0</title>\n",
       "<ellipse fill=\"black\" stroke=\"black\" cx=\"0\" cy=\"-165.83\" rx=\"0\" ry=\"0\"/>\n",
       "</g>\n",
       "<!-- 0 -->\n",
       "<g id=\"node3\" class=\"node\"><title>0</title>\n",
       "<ellipse fill=\"#98f5ff\" stroke=\"black\" cx=\"51.5\" cy=\"-165.83\" rx=\"14.5\" ry=\"14.5\"/>\n",
       "<text text-anchor=\"middle\" x=\"51.5\" y=\"-162.73\" font-family=\"Times,serif\" font-size=\"12.00\">0</text>\n",
       "</g>\n",
       "<!-- I0&#45;&gt;0 -->\n",
       "<g id=\"edge1\" class=\"edge\"><title>I0&#45;&gt;0</title>\n",
       "<path fill=\"none\" stroke=\"black\" d=\"M1.142,-165.83C2.7502,-165.83 17.72,-165.83 30.756,-165.83\"/>\n",
       "<polygon fill=\"black\" stroke=\"black\" points=\"36.933,-165.83 30.933,-168.53 33.933,-165.83 30.933,-165.83 30.933,-165.83 30.933,-165.83 33.933,-165.83 30.933,-163.13 36.933,-165.83 36.933,-165.83\"/>\n",
       "</g>\n",
       "<!-- F1 -->\n",
       "<g id=\"node2\" class=\"node\"><title>F1</title>\n",
       "<ellipse fill=\"black\" stroke=\"black\" cx=\"387\" cy=\"-165.83\" rx=\"0\" ry=\"0\"/>\n",
       "</g>\n",
       "<!-- 1 -->\n",
       "<g id=\"node4\" class=\"node\"><title>1</title>\n",
       "<ellipse fill=\"#98f5ff\" stroke=\"black\" cx=\"335.5\" cy=\"-165.83\" rx=\"14.5\" ry=\"14.5\"/>\n",
       "<text text-anchor=\"middle\" x=\"335.5\" y=\"-162.73\" font-family=\"Times,serif\" font-size=\"12.00\">1</text>\n",
       "</g>\n",
       "<!-- 0&#45;&gt;1 -->\n",
       "<g id=\"edge2\" class=\"edge\"><title>0&#45;&gt;1</title>\n",
       "<path fill=\"none\" stroke=\"black\" d=\"M53.957,-180.19C56.717,-201.49 64.312,-241.93 84,-269.83 97.377,-288.79 103.96,-293.58 126,-300.83 155.01,-310.38 215.94,-313.22 261,-292.83 303.47,-273.61 322.78,-216.98 330.34,-186.24\"/>\n",
       "<polygon fill=\"black\" stroke=\"black\" points=\"331.78,-180.1 333.039,-186.558 331.095,-183.021 330.41,-185.942 330.41,-185.942 330.41,-185.942 331.095,-183.021 327.781,-185.325 331.78,-180.1 331.78,-180.1\"/>\n",
       "<text text-anchor=\"middle\" x=\"193.5\" y=\"-312.63\" font-family=\"Times,serif\" font-size=\"14.00\">⟨xyz⟩a</text>\n",
       "</g>\n",
       "<!-- 2 -->\n",
       "<g id=\"node5\" class=\"node\"><title>2</title>\n",
       "<ellipse fill=\"#98f5ff\" stroke=\"black\" cx=\"245.5\" cy=\"-233.83\" rx=\"14.5\" ry=\"14.5\"/>\n",
       "<text text-anchor=\"middle\" x=\"245.5\" y=\"-230.73\" font-family=\"Times,serif\" font-size=\"12.00\">2</text>\n",
       "</g>\n",
       "<!-- 0&#45;&gt;2 -->\n",
       "<g id=\"edge3\" class=\"edge\"><title>0&#45;&gt;2</title>\n",
       "<path fill=\"none\" stroke=\"black\" d=\"M56.005,-180.04C63.48,-206.61 83.852,-262.59 126,-278.83 137.59,-283.29 202.86,-281.59 212,-276.83 222.17,-271.53 230.05,-261.45 235.51,-252.38\"/>\n",
       "<polygon fill=\"black\" stroke=\"black\" points=\"238.59,-246.92 237.994,-253.472 237.116,-249.533 235.642,-252.146 235.642,-252.146 235.642,-252.146 237.116,-249.533 233.29,-250.819 238.59,-246.92 238.59,-246.92\"/>\n",
       "<text text-anchor=\"middle\" x=\"141.5\" y=\"-285.63\" font-family=\"Times,serif\" font-size=\"14.00\">⟨yz⟩a</text>\n",
       "</g>\n",
       "<!-- 3 -->\n",
       "<g id=\"node6\" class=\"node\"><title>3</title>\n",
       "<ellipse fill=\"#98f5ff\" stroke=\"black\" cx=\"245.5\" cy=\"-110.83\" rx=\"14.5\" ry=\"14.5\"/>\n",
       "<text text-anchor=\"middle\" x=\"245.5\" y=\"-107.73\" font-family=\"Times,serif\" font-size=\"12.00\">3</text>\n",
       "</g>\n",
       "<!-- 0&#45;&gt;3 -->\n",
       "<g id=\"edge4\" class=\"edge\"><title>0&#45;&gt;3</title>\n",
       "<path fill=\"none\" stroke=\"black\" d=\"M63.986,-158.39C78.058,-149.6 102.89,-135.12 126,-126.83 146.92,-119.32 153,-120.01 175,-116.83 191.73,-114.41 210.89,-112.84 224.84,-111.92\"/>\n",
       "<polygon fill=\"black\" stroke=\"black\" points=\"230.86,-111.54 225.042,-114.613 227.866,-111.729 224.872,-111.918 224.872,-111.918 224.872,-111.918 227.866,-111.729 224.702,-109.223 230.86,-111.54 230.86,-111.54\"/>\n",
       "<text text-anchor=\"middle\" x=\"141.5\" y=\"-130.63\" font-family=\"Times,serif\" font-size=\"14.00\">⟨xz⟩a</text>\n",
       "</g>\n",
       "<!-- 4 -->\n",
       "<g id=\"node7\" class=\"node\"><title>4</title>\n",
       "<ellipse fill=\"#98f5ff\" stroke=\"black\" cx=\"245.5\" cy=\"-54.83\" rx=\"14.5\" ry=\"14.5\"/>\n",
       "<text text-anchor=\"middle\" x=\"245.5\" y=\"-51.73\" font-family=\"Times,serif\" font-size=\"12.00\">4</text>\n",
       "</g>\n",
       "<!-- 0&#45;&gt;4 -->\n",
       "<g id=\"edge5\" class=\"edge\"><title>0&#45;&gt;4</title>\n",
       "<path fill=\"none\" stroke=\"black\" d=\"M53.343,-151.3C56.264,-116.74 69.2,-30.604 126,-4.8295 163.21,12.054 207.77,-20.744 230.16,-40.827\"/>\n",
       "<polygon fill=\"black\" stroke=\"black\" points=\"234.59,-44.897 228.345,-42.8259 232.381,-42.8673 230.172,-40.8377 230.172,-40.8377 230.172,-40.8377 232.381,-42.8673 231.998,-38.8494 234.59,-44.897 234.59,-44.897\"/>\n",
       "<text text-anchor=\"middle\" x=\"141.5\" y=\"-8.63\" font-family=\"Times,serif\" font-size=\"14.00\">⟨xy⟩a</text>\n",
       "</g>\n",
       "<!-- 5 -->\n",
       "<g id=\"node8\" class=\"node\"><title>5</title>\n",
       "<ellipse fill=\"#98f5ff\" stroke=\"black\" cx=\"141.5\" cy=\"-255.83\" rx=\"14.5\" ry=\"14.5\"/>\n",
       "<text text-anchor=\"middle\" x=\"141.5\" y=\"-252.73\" font-family=\"Times,serif\" font-size=\"12.00\">5</text>\n",
       "</g>\n",
       "<!-- 0&#45;&gt;5 -->\n",
       "<g id=\"edge6\" class=\"edge\"><title>0&#45;&gt;5</title>\n",
       "<path fill=\"none\" stroke=\"black\" d=\"M62.254,-175.8C77.848,-191.75 108.46,-223.06 126.42,-241.43\"/>\n",
       "<polygon fill=\"black\" stroke=\"black\" points=\"130.7,-245.81 124.575,-243.406 128.603,-243.664 126.507,-241.519 126.507,-241.519 126.507,-241.519 128.603,-243.664 128.438,-239.632 130.7,-245.81 130.7,-245.81\"/>\n",
       "<text text-anchor=\"middle\" x=\"96\" y=\"-225.63\" font-family=\"Times,serif\" font-size=\"14.00\">⟨z⟩a</text>\n",
       "</g>\n",
       "<!-- 6 -->\n",
       "<g id=\"node9\" class=\"node\"><title>6</title>\n",
       "<ellipse fill=\"#98f5ff\" stroke=\"black\" cx=\"141.5\" cy=\"-165.83\" rx=\"14.5\" ry=\"14.5\"/>\n",
       "<text text-anchor=\"middle\" x=\"141.5\" y=\"-162.73\" font-family=\"Times,serif\" font-size=\"12.00\">6</text>\n",
       "</g>\n",
       "<!-- 0&#45;&gt;6 -->\n",
       "<g id=\"edge7\" class=\"edge\"><title>0&#45;&gt;6</title>\n",
       "<path fill=\"none\" stroke=\"black\" d=\"M66.25,-165.83C80.845,-165.83 104.05,-165.83 120.63,-165.83\"/>\n",
       "<polygon fill=\"black\" stroke=\"black\" points=\"126.85,-165.83 120.85,-168.53 123.85,-165.83 120.85,-165.83 120.85,-165.83 120.85,-165.83 123.85,-165.83 120.85,-163.13 126.85,-165.83 126.85,-165.83\"/>\n",
       "<text text-anchor=\"middle\" x=\"96\" y=\"-169.63\" font-family=\"Times,serif\" font-size=\"14.00\">⟨y⟩a</text>\n",
       "</g>\n",
       "<!-- 7 -->\n",
       "<g id=\"node10\" class=\"node\"><title>7</title>\n",
       "<ellipse fill=\"#98f5ff\" stroke=\"black\" cx=\"141.5\" cy=\"-43.83\" rx=\"14.5\" ry=\"14.5\"/>\n",
       "<text text-anchor=\"middle\" x=\"141.5\" y=\"-40.73\" font-family=\"Times,serif\" font-size=\"12.00\">7</text>\n",
       "</g>\n",
       "<!-- 0&#45;&gt;7 -->\n",
       "<g id=\"edge8\" class=\"edge\"><title>0&#45;&gt;7</title>\n",
       "<path fill=\"none\" stroke=\"black\" d=\"M54.107,-151.45C56.972,-131.84 64.606,-96.563 84,-73.83 93.911,-62.212 109.47,-54.419 121.76,-49.695\"/>\n",
       "<polygon fill=\"black\" stroke=\"black\" points=\"127.49,-47.618 122.769,-52.2011 124.67,-48.6404 121.849,-49.6628 121.849,-49.6628 121.849,-49.6628 124.67,-48.6404 120.929,-47.1244 127.49,-47.618 127.49,-47.618\"/>\n",
       "<text text-anchor=\"middle\" x=\"96\" y=\"-77.63\" font-family=\"Times,serif\" font-size=\"14.00\">⟨x⟩a</text>\n",
       "</g>\n",
       "<!-- 1&#45;&gt;F1 -->\n",
       "<g id=\"edge9\" class=\"edge\"><title>1&#45;&gt;F1</title>\n",
       "<path fill=\"none\" stroke=\"black\" d=\"M350.12,-165.83C360.261,-165.83 373.253,-165.83 380.8,-165.83\"/>\n",
       "<polygon fill=\"black\" stroke=\"black\" points=\"386.937,-165.83 380.937,-168.53 383.937,-165.83 380.937,-165.83 380.937,-165.83 380.937,-165.83 383.937,-165.83 380.937,-163.13 386.937,-165.83 386.937,-165.83\"/>\n",
       "</g>\n",
       "<!-- 2&#45;&gt;1 -->\n",
       "<g id=\"edge10\" class=\"edge\"><title>2&#45;&gt;1</title>\n",
       "<path fill=\"none\" stroke=\"black\" d=\"M257.65,-225.22C272.99,-213.36 300.7,-191.94 318.33,-178.33\"/>\n",
       "<polygon fill=\"black\" stroke=\"black\" points=\"323.45,-174.37 320.356,-180.177 321.077,-176.205 318.704,-178.041 318.704,-178.041 318.704,-178.041 321.077,-176.205 317.052,-175.905 323.45,-174.37 323.45,-174.37\"/>\n",
       "<text text-anchor=\"middle\" x=\"291\" y=\"-212.63\" font-family=\"Times,serif\" font-size=\"14.00\">⟨x⟩a</text>\n",
       "</g>\n",
       "<!-- 3&#45;&gt;1 -->\n",
       "<g id=\"edge11\" class=\"edge\"><title>3&#45;&gt;1</title>\n",
       "<path fill=\"none\" stroke=\"black\" d=\"M259.67,-115.53C271.53,-120.07 289.16,-127.61 303,-136.83 309.16,-140.93 315.29,-146.23 320.48,-151.17\"/>\n",
       "<polygon fill=\"black\" stroke=\"black\" points=\"324.96,-155.56 318.785,-153.289 322.817,-153.46 320.675,-151.361 320.675,-151.361 320.675,-151.361 322.817,-153.46 322.564,-149.432 324.96,-155.56 324.96,-155.56\"/>\n",
       "<text text-anchor=\"middle\" x=\"291\" y=\"-140.63\" font-family=\"Times,serif\" font-size=\"14.00\">⟨y⟩a</text>\n",
       "</g>\n",
       "<!-- 4&#45;&gt;1 -->\n",
       "<g id=\"edge12\" class=\"edge\"><title>4&#45;&gt;1</title>\n",
       "<path fill=\"none\" stroke=\"black\" d=\"M258.03,-62.993C270.33,-72.127 289.8,-87.879 303,-104.83 312.94,-117.6 321.2,-133.98 326.76,-146.56\"/>\n",
       "<polygon fill=\"black\" stroke=\"black\" points=\"329.27,-152.39 324.417,-147.947 328.084,-149.635 326.897,-146.879 326.897,-146.879 326.897,-146.879 328.084,-149.635 329.377,-145.811 329.27,-152.39 329.27,-152.39\"/>\n",
       "<text text-anchor=\"middle\" x=\"291\" y=\"-108.63\" font-family=\"Times,serif\" font-size=\"14.00\">⟨z⟩a</text>\n",
       "</g>\n",
       "<!-- 5&#45;&gt;1 -->\n",
       "<g id=\"edge13\" class=\"edge\"><title>5&#45;&gt;1</title>\n",
       "<path fill=\"none\" stroke=\"black\" d=\"M153.14,-264.94C159.14,-269.47 167.01,-274.47 175,-276.83 212.64,-287.93 226.49,-275.5 261,-256.83 280.95,-246.04 288.07,-244.91 303,-227.83 314.02,-215.22 322.35,-198.06 327.67,-185\"/>\n",
       "<polygon fill=\"black\" stroke=\"black\" points=\"329.9,-179.31 330.224,-185.882 328.805,-182.103 327.711,-184.896 327.711,-184.896 327.711,-184.896 328.805,-182.103 325.197,-183.911 329.9,-179.31 329.9,-179.31\"/>\n",
       "<text text-anchor=\"middle\" x=\"245.5\" y=\"-277.63\" font-family=\"Times,serif\" font-size=\"14.00\">⟨xy⟩a</text>\n",
       "</g>\n",
       "<!-- 5&#45;&gt;2 -->\n",
       "<g id=\"edge14\" class=\"edge\"><title>5&#45;&gt;2</title>\n",
       "<path fill=\"none\" stroke=\"black\" d=\"M156.14,-257.15C170.38,-258.09 193.23,-258.35 212,-252.83 217.62,-251.18 223.28,-248.35 228.28,-245.38\"/>\n",
       "<polygon fill=\"black\" stroke=\"black\" points=\"233.4,-242.15 229.766,-247.635 230.863,-243.751 228.325,-245.351 228.325,-245.351 228.325,-245.351 230.863,-243.751 226.885,-243.068 233.4,-242.15 233.4,-242.15\"/>\n",
       "<text text-anchor=\"middle\" x=\"193.5\" y=\"-261.63\" font-family=\"Times,serif\" font-size=\"14.00\">⟨y⟩a</text>\n",
       "</g>\n",
       "<!-- 5&#45;&gt;3 -->\n",
       "<g id=\"edge15\" class=\"edge\"><title>5&#45;&gt;3</title>\n",
       "<path fill=\"none\" stroke=\"black\" d=\"M153.71,-247.75C159.88,-243.43 167.73,-238.14 175,-233.83 190.91,-224.41 200.49,-229.29 212,-214.83 232.28,-189.36 219.42,-174.61 230,-143.83 231.66,-139 233.73,-133.9 235.79,-129.19\"/>\n",
       "<polygon fill=\"black\" stroke=\"black\" points=\"238.35,-123.48 238.359,-130.06 237.123,-126.217 235.895,-128.955 235.895,-128.955 235.895,-128.955 237.123,-126.217 233.432,-127.85 238.35,-123.48 238.35,-123.48\"/>\n",
       "<text text-anchor=\"middle\" x=\"193.5\" y=\"-237.63\" font-family=\"Times,serif\" font-size=\"14.00\">⟨x⟩a</text>\n",
       "</g>\n",
       "<!-- 6&#45;&gt;1 -->\n",
       "<g id=\"edge16\" class=\"edge\"><title>6&#45;&gt;1</title>\n",
       "<path fill=\"none\" stroke=\"black\" d=\"M156,-165.83C189.25,-165.83 275.2,-165.83 314.44,-165.83\"/>\n",
       "<polygon fill=\"black\" stroke=\"black\" points=\"320.76,-165.83 314.76,-168.53 317.76,-165.83 314.76,-165.83 314.76,-165.83 314.76,-165.83 317.76,-165.83 314.76,-163.13 320.76,-165.83 320.76,-165.83\"/>\n",
       "<text text-anchor=\"middle\" x=\"245.5\" y=\"-169.63\" font-family=\"Times,serif\" font-size=\"14.00\">⟨xz⟩a</text>\n",
       "</g>\n",
       "<!-- 6&#45;&gt;2 -->\n",
       "<g id=\"edge17\" class=\"edge\"><title>6&#45;&gt;2</title>\n",
       "<path fill=\"none\" stroke=\"black\" d=\"M155.29,-170.5C169.83,-176.15 193.89,-186.59 212,-199.83 219.14,-205.05 226.06,-211.95 231.67,-218.16\"/>\n",
       "<polygon fill=\"black\" stroke=\"black\" points=\"235.68,-222.74 229.696,-220.004 233.704,-220.483 231.728,-218.226 231.728,-218.226 231.728,-218.226 233.704,-220.483 233.759,-216.447 235.68,-222.74 235.68,-222.74\"/>\n",
       "<text text-anchor=\"middle\" x=\"193.5\" y=\"-203.63\" font-family=\"Times,serif\" font-size=\"14.00\">⟨z⟩a</text>\n",
       "</g>\n",
       "<!-- 6&#45;&gt;4 -->\n",
       "<g id=\"edge18\" class=\"edge\"><title>6&#45;&gt;4</title>\n",
       "<path fill=\"none\" stroke=\"black\" d=\"M152.57,-155.6C166.25,-141.62 191.37,-115.69 212,-92.83 218.62,-85.499 225.77,-77.18 231.68,-70.199\"/>\n",
       "<polygon fill=\"black\" stroke=\"black\" points=\"235.54,-65.608 233.745,-71.9381 233.609,-67.9042 231.679,-70.2005 231.679,-70.2005 231.679,-70.2005 233.609,-67.9042 229.612,-68.4629 235.54,-65.608 235.54,-65.608\"/>\n",
       "<text text-anchor=\"middle\" x=\"193.5\" y=\"-135.63\" font-family=\"Times,serif\" font-size=\"14.00\">⟨x⟩a</text>\n",
       "</g>\n",
       "<!-- 7&#45;&gt;1 -->\n",
       "<g id=\"edge19\" class=\"edge\"><title>7&#45;&gt;1</title>\n",
       "<path fill=\"none\" stroke=\"black\" d=\"M153.95,-36.103C175.91,-22.334 224.96,3.2885 261,-15.83 309.24,-41.415 326.28,-110.5 331.92,-145.27\"/>\n",
       "<polygon fill=\"black\" stroke=\"black\" points=\"332.84,-151.34 329.271,-145.812 332.39,-148.374 331.941,-145.408 331.941,-145.408 331.941,-145.408 332.39,-148.374 334.61,-145.003 332.84,-151.34 332.84,-151.34\"/>\n",
       "<text text-anchor=\"middle\" x=\"245.5\" y=\"-19.63\" font-family=\"Times,serif\" font-size=\"14.00\">⟨yz⟩a</text>\n",
       "</g>\n",
       "<!-- 7&#45;&gt;3 -->\n",
       "<g id=\"edge20\" class=\"edge\"><title>7&#45;&gt;3</title>\n",
       "<path fill=\"none\" stroke=\"black\" d=\"M155.69,-47.588C170.37,-52.194 194.36,-60.998 212,-73.83 219.71,-79.44 226.88,-87.187 232.5,-94.143\"/>\n",
       "<polygon fill=\"black\" stroke=\"black\" points=\"236.49,-99.26 230.671,-96.1887 234.645,-96.8942 232.8,-94.5284 232.8,-94.5284 232.8,-94.5284 234.645,-96.8942 234.93,-92.8681 236.49,-99.26 236.49,-99.26\"/>\n",
       "<text text-anchor=\"middle\" x=\"193.5\" y=\"-77.63\" font-family=\"Times,serif\" font-size=\"14.00\">⟨z⟩a</text>\n",
       "</g>\n",
       "<!-- 7&#45;&gt;4 -->\n",
       "<g id=\"edge21\" class=\"edge\"><title>7&#45;&gt;4</title>\n",
       "<path fill=\"none\" stroke=\"black\" d=\"M155.53,-39.455C169.66,-35.37 192.77,-30.622 212,-35.83 217.65,-37.36 223.33,-40.147 228.32,-43.123\"/>\n",
       "<polygon fill=\"black\" stroke=\"black\" points=\"233.43,-46.376 226.919,-45.4315 230.899,-44.7649 228.369,-43.1539 228.369,-43.1539 228.369,-43.1539 230.899,-44.7649 229.819,-40.8762 233.43,-46.376 233.43,-46.376\"/>\n",
       "<text text-anchor=\"middle\" x=\"193.5\" y=\"-39.63\" font-family=\"Times,serif\" font-size=\"14.00\">⟨y⟩a</text>\n",
       "</g>\n",
       "</g>\n",
       "</svg>\n"
      ],
      "text/plain": [
       "mutable_automaton<context<letterset<char_letters>, expressionset<context<letterset<char_letters>, z>>>>"
      ]
     },
     "execution_count": 10,
     "metadata": {},
     "output_type": "execute_result"
    }
   ],
   "source": [
    "x.infiltrate(y.infiltrate(z)).automaton()"
   ]
  }
 ],
 "metadata": {
  "kernelspec": {
   "display_name": "Python 3",
   "language": "python",
   "name": "python3"
  },
  "language_info": {
   "codemirror_mode": {
    "name": "ipython",
    "version": 3
   },
   "file_extension": ".py",
   "mimetype": "text/x-python",
   "name": "python",
   "nbconvert_exporter": "python",
   "pygments_lexer": "ipython3",
   "version": "3.5.1"
  },
  "widgets": {
   "state": {},
   "version": "1.1.2"
  }
 },
 "nbformat": 4,
 "nbformat_minor": 0
}
