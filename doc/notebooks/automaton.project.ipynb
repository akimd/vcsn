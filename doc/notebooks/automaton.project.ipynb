{
 "metadata": {
  "name": "",
  "signature": "sha256:881e33407872582f7f60eac0b432c4fd0efd4ae556829a660b233a527ebba0da"
 },
 "nbformat": 3,
 "nbformat_minor": 0,
 "worksheets": [
  {
   "cells": [
    {
     "cell_type": "markdown",
     "metadata": {},
     "source": [
      "# _`automaton`_`.project`\n",
      "\n",
      "Create a copy of the automaton and keeping only the selected tape of the original\n",
      "automaton's label.\n",
      "\n",
      "Preconditions:\n",
      "- the original automaton has tuple labels.\n",
      "- the tape number is smaller than the tuples' size."
     ]
    },
    {
     "cell_type": "markdown",
     "metadata": {},
     "source": [
      "## Examples"
     ]
    },
    {
     "cell_type": "code",
     "collapsed": false,
     "input": [
      "import vcsn\n",
      "ctx = vcsn.context(\"lat<lal_char(ab), lan_char(cd), lal_char(ef)>, b\")"
     ],
     "language": "python",
     "metadata": {},
     "outputs": []
    },
    {
     "cell_type": "code",
     "collapsed": false,
     "input": [
      "a = ctx.expression(\"(a|c|f)(a|\\e|f)+(b|c|e)*\").automaton()\n",
      "a"
     ],
     "language": "python",
     "metadata": {},
     "outputs": []
    },
    {
     "cell_type": "code",
     "collapsed": false,
     "input": [
      "a.project(0)"
     ],
     "language": "python",
     "metadata": {},
     "outputs": []
    },
    {
     "cell_type": "code",
     "collapsed": false,
     "input": [
      "a.project(1)"
     ],
     "language": "python",
     "metadata": {},
     "outputs": []
    },
    {
     "cell_type": "code",
     "collapsed": false,
     "input": [
      "a.project(2)"
     ],
     "language": "python",
     "metadata": {},
     "outputs": []
    },
    {
     "cell_type": "markdown",
     "metadata": {},
     "source": [
      "If after the projection two transitions are equivalent, they are fused into one using the weightset's addition."
     ]
    },
    {
     "cell_type": "code",
     "collapsed": false,
     "input": [
      "ctx = vcsn.context(\"lat<lal_char(ab), lal_char(ef)>, z\")"
     ],
     "language": "python",
     "metadata": {},
     "outputs": []
    },
    {
     "cell_type": "code",
     "collapsed": false,
     "input": [
      "a = ctx.expression(\"(a|e)+(b|e)\").automaton()\n",
      "a"
     ],
     "language": "python",
     "metadata": {},
     "outputs": []
    },
    {
     "cell_type": "code",
     "collapsed": false,
     "input": [
      "a.project(0)"
     ],
     "language": "python",
     "metadata": {},
     "outputs": []
    },
    {
     "cell_type": "code",
     "collapsed": false,
     "input": [
      "a.project(1)"
     ],
     "language": "python",
     "metadata": {},
     "outputs": []
    }
   ],
   "metadata": {}
  }
 ]
}
