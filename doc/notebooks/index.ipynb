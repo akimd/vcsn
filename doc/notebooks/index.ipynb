{
 "cells": [
  {
   "cell_type": "markdown",
   "metadata": {},
   "source": [
    "# Welcome to Vcsn"
   ]
  },
  {
   "cell_type": "markdown",
   "metadata": {},
   "source": [
    "Welcome to this Vcsn tutorial.  Vcsn is a platform (C++ libraries with various interfaces, a Python binding, and some specific features for IPython) for weighted automata and rational expressions.\n",
    "\n",
    "This tutorial _tries_ to guide you through the Python binding, and more specifically the IPython interface, of Vcsn.  If you are not a Python programmer, rest assured that you don't need to know much, and if you are a Python programmer, rest assured that its conventions have been respected, and you will be able to take the full benefit from both Vcsn and Python.\n",
    "\n",
    "* [Welcome to Vcsn](index.ipynb) - This page\n",
    "* [Contexts](Contexts.ipynb) - The typing system for automata, expressions, etc.\n",
    "* [Automata](Automata.ipynb) - How to define or edit automata.\n",
    "* [Expressions](Expressions.ipynb) - The definition of the rational expressions.\n",
    "* [Algorithms](Algorithms.ipynb) - Index of the available operations on automata, expressions, etc.\n",
    "* [Stackoverflow](Stackoverflow.ipynb) - Some questions asked on Stackoverflow where Vcsn can compute the answer\n",
    "* [References](References.ipynb) - Publications on the algorithms and constructs used in Vcsn\n",
    "* [Hacking](Hacking.ipynb) - Random notes, badly written, obsolete, meant for Vcsn developers"
   ]
  },
  {
   "cell_type": "markdown",
   "metadata": {},
   "source": [
    "## Quick Start"
   ]
  },
  {
   "cell_type": "markdown",
   "metadata": {},
   "source": [
    "Vcsn offers several interfaces:\n",
    "- fast efficient C++ templated library dubbed `static`\n",
    "- a dynamic and flexible C++ interface dubbed `dyn` on top of `static`\n",
    "- a Python interface on top of `dyn`\n",
    "- an IPython interface built on top of the Python API (which is used to generate this very document)\n",
    "- and also a (somewhat obsolete) shell interface named `TAF-Kit`."
   ]
  },
  {
   "cell_type": "markdown",
   "metadata": {},
   "source": [
    "This documentation shows how to use the IPython interactive environment.  Provided that Vcsn was properly deployed on your platform, to launch it run the following command from your shell:\n",
    "\n",
    "    vcsn notebook"
   ]
  },
  {
   "cell_type": "markdown",
   "metadata": {},
   "source": [
    "A web browser should open on a list of files.  Click on the \"New Notebook\" button, which should open a new sheet.  The remainder of this documentation is about such sheets.\n",
    "\n",
    "First, import Vcsn\n",
    "into Python, and define the \"context\" in which you want to work.  Do not worry about the (ugly!) syntax, just see where the alphabet (the set of letters, $\\{a, b, c\\}$) is defined.  The last line (`ctx`) is here so that IPython displays what this variable contains."
   ]
  },
  {
   "cell_type": "code",
   "execution_count": 1,
   "metadata": {
    "collapsed": false
   },
   "outputs": [
    {
     "name": "stderr",
     "output_type": "stream",
     "text": [
      ":0: FutureWarning: IPython widgets are experimental and may change in the future.\n"
     ]
    },
    {
     "data": {
      "application/javascript": [
       "IPython.load_extensions(\"AutomatonD3Widget\")"
      ],
      "text/plain": [
       "<IPython.core.display.Javascript object>"
      ]
     },
     "metadata": {},
     "output_type": "display_data"
    },
    {
     "data": {
      "text/latex": [
       "$\\{a, b, c\\}\\rightarrow\\mathbb{B}$"
      ],
      "text/plain": [
       "letterset<char_letters(abc)>, b"
      ]
     },
     "execution_count": 1,
     "metadata": {},
     "output_type": "execute_result"
    }
   ],
   "source": [
    "import vcsn\n",
    "ctx = vcsn.context(\"lal_char(abc), b\")\n",
    "ctx"
   ]
  },
  {
   "cell_type": "markdown",
   "metadata": {},
   "source": [
    "This object, the context, defines the types of the various entities.  To build a rational expression on this alphabet, use `ctx.expression` as follows:"
   ]
  },
  {
   "cell_type": "code",
   "execution_count": 2,
   "metadata": {
    "collapsed": false
   },
   "outputs": [
    {
     "data": {
      "text/latex": [
       "$a \\, {b}^{*}$"
      ],
      "text/plain": [
       "ab*"
      ]
     },
     "execution_count": 2,
     "metadata": {},
     "output_type": "execute_result"
    }
   ],
   "source": [
    "r1 = ctx.expression(\"ab*\")\n",
    "r1"
   ]
  },
  {
   "cell_type": "markdown",
   "metadata": {},
   "source": [
    "The syntax for rational expressions is as follows (with increasing precedence):\n",
    "- `\\z` denotes the empty language\n",
    "- `\\e` denotes the language of the empty word\n",
    "- `a` denotes the language of the word `a`\n",
    "- `e+f` denotes the union of the languages of `e` and `f` (note the use of `+`, `|` is not accepted)\n",
    "- `ef` denotes the concatenation of the languages of `e` and `f`\n",
    "- `e*` denotes the Kleene closure of the language of `e`\n",
    "For more details, please see [the documentation of expressions](Expressions.ipynb)."
   ]
  },
  {
   "cell_type": "markdown",
   "metadata": {},
   "source": [
    "So for instance `r1` denotes the words starting with a single `a` followed by any number of `b`s."
   ]
  },
  {
   "cell_type": "markdown",
   "metadata": {},
   "source": [
    "Rational expressions are objects that feature methods.  One such method is `shortest(number)` that lists the `number` first (in shortlex order) words of the language defined by the rational expresion:"
   ]
  },
  {
   "cell_type": "code",
   "execution_count": 3,
   "metadata": {
    "collapsed": false
   },
   "outputs": [
    {
     "data": {
      "text/latex": [
       "$\\mathit{a} \\oplus \\mathit{ab} \\oplus \\mathit{abb} \\oplus \\mathit{abbb} \\oplus \\mathit{abbbb} \\oplus \\mathit{abbbbb} \\oplus \\mathit{abbbbbb} \\oplus \\mathit{abbbbbbb} \\oplus \\mathit{abbbbbbbb} \\oplus \\mathit{abbbbbbbbb}$"
      ],
      "text/plain": [
       "a + ab + abb + abbb + abbbb + abbbbb + abbbbbb + abbbbbbb + abbbbbbbb + abbbbbbbbb"
      ]
     },
     "execution_count": 3,
     "metadata": {},
     "output_type": "execute_result"
    }
   ],
   "source": [
    "r1.shortest(10)"
   ]
  },
  {
   "cell_type": "markdown",
   "metadata": {},
   "source": [
    "You may compose rational expressions using Python operators such as `+` for sum, `*` for multiplication (concatenation):"
   ]
  },
  {
   "cell_type": "code",
   "execution_count": 4,
   "metadata": {
    "collapsed": false
   },
   "outputs": [
    {
     "data": {
      "text/latex": [
       "$a \\, {b}^{*} + a \\, {b}^{*} \\, a \\, {b}^{*}$"
      ],
      "text/plain": [
       "ab*+ab*ab*"
      ]
     },
     "execution_count": 4,
     "metadata": {},
     "output_type": "execute_result"
    }
   ],
   "source": [
    "r1 + r1 * r1"
   ]
  },
  {
   "cell_type": "markdown",
   "metadata": {},
   "source": [
    "Vcsn features different means to build an automaton from a rational expression.  The `expression.standard()` method builds the \"standard autamaton\", also known as the \"position automaton\", or the \"Glushkov automaton\":"
   ]
  },
  {
   "cell_type": "code",
   "execution_count": 5,
   "metadata": {
    "collapsed": false
   },
   "outputs": [
    {
     "data": {
      "image/svg+xml": [
       "<?xml version=\"1.0\" encoding=\"UTF-8\" standalone=\"no\"?>\n",
       "<!DOCTYPE svg PUBLIC \"-//W3C//DTD SVG 1.1//EN\"\n",
       " \"http://www.w3.org/Graphics/SVG/1.1/DTD/svg11.dtd\">\n",
       "<!-- Generated by graphviz version 2.38.0 (20140413.2041)\n",
       " -->\n",
       "<!-- Title: %3 Pages: 1 -->\n",
       "<svg width=\"277pt\" height=\"95pt\"\n",
       " viewBox=\"0.00 0.00 277.00 95.00\" xmlns=\"http://www.w3.org/2000/svg\" xmlns:xlink=\"http://www.w3.org/1999/xlink\">\n",
       "<g id=\"graph0\" class=\"graph\" transform=\"scale(1 1) rotate(0) translate(4 91)\">\n",
       "<title>%3</title>\n",
       "<polygon fill=\"white\" stroke=\"none\" points=\"-4,4 -4,-91 273,-91 273,4 -4,4\"/>\n",
       "<!-- I0 -->\n",
       "<g id=\"node1\" class=\"node\"><title>I0</title>\n",
       "<ellipse fill=\"black\" stroke=\"black\" cx=\"0\" cy=\"-62\" rx=\"0\" ry=\"0\"/>\n",
       "</g>\n",
       "<!-- 0 -->\n",
       "<g id=\"node4\" class=\"node\"><title>0</title>\n",
       "<ellipse fill=\"#98f5ff\" stroke=\"black\" cx=\"55\" cy=\"-62\" rx=\"18\" ry=\"18\"/>\n",
       "<text text-anchor=\"middle\" x=\"55\" y=\"-58.3\" font-family=\"Times,serif\" font-size=\"14.00\">0</text>\n",
       "</g>\n",
       "<!-- I0&#45;&gt;0 -->\n",
       "<g id=\"edge1\" class=\"edge\"><title>I0&#45;&gt;0</title>\n",
       "<path fill=\"none\" stroke=\"black\" d=\"M1.152,-62C2.7948,-62 17.459,-62 30.924,-62\"/>\n",
       "<polygon fill=\"black\" stroke=\"black\" points=\"36.975,-62 30.975,-64.7001 33.975,-62 30.975,-62.0001 30.975,-62.0001 30.975,-62.0001 33.975,-62 30.975,-59.3001 36.975,-62 36.975,-62\"/>\n",
       "</g>\n",
       "<!-- F1 -->\n",
       "<g id=\"node2\" class=\"node\"><title>F1</title>\n",
       "<ellipse fill=\"black\" stroke=\"black\" cx=\"214\" cy=\"-87\" rx=\"0\" ry=\"0\"/>\n",
       "</g>\n",
       "<!-- F3 -->\n",
       "<g id=\"node3\" class=\"node\"><title>F3</title>\n",
       "<ellipse fill=\"black\" stroke=\"black\" cx=\"269\" cy=\"-18\" rx=\"0\" ry=\"0\"/>\n",
       "</g>\n",
       "<!-- 1 -->\n",
       "<g id=\"node5\" class=\"node\"><title>1</title>\n",
       "<ellipse fill=\"#98f5ff\" stroke=\"black\" cx=\"134\" cy=\"-62\" rx=\"18\" ry=\"18\"/>\n",
       "<text text-anchor=\"middle\" x=\"134\" y=\"-58.3\" font-family=\"Times,serif\" font-size=\"14.00\">1</text>\n",
       "</g>\n",
       "<!-- 0&#45;&gt;1 -->\n",
       "<g id=\"edge2\" class=\"edge\"><title>0&#45;&gt;1</title>\n",
       "<path fill=\"none\" stroke=\"black\" d=\"M73.089,-62C83.855,-62 97.897,-62 109.68,-62\"/>\n",
       "<polygon fill=\"black\" stroke=\"black\" points=\"115.96,-62 109.96,-64.7001 112.96,-62 109.96,-62.0001 109.96,-62.0001 109.96,-62.0001 112.96,-62 109.96,-59.3001 115.96,-62 115.96,-62\"/>\n",
       "<text text-anchor=\"middle\" x=\"94.5\" y=\"-65.8\" font-family=\"Times,serif\" font-size=\"14.00\">a</text>\n",
       "</g>\n",
       "<!-- 1&#45;&gt;F1 -->\n",
       "<g id=\"edge3\" class=\"edge\"><title>1&#45;&gt;F1</title>\n",
       "<path fill=\"none\" stroke=\"black\" d=\"M151.359,-67.4246C169.166,-72.9894 195.9,-81.3437 207.848,-85.0776\"/>\n",
       "<polygon fill=\"black\" stroke=\"black\" points=\"213.887,-86.9647 207.355,-87.7521 211.024,-86.0699 208.16,-85.175 208.16,-85.175 208.16,-85.175 211.024,-86.0699 208.966,-82.5979 213.887,-86.9647 213.887,-86.9647\"/>\n",
       "</g>\n",
       "<!-- 3 -->\n",
       "<g id=\"node6\" class=\"node\"><title>3</title>\n",
       "<ellipse fill=\"#98f5ff\" stroke=\"black\" cx=\"214\" cy=\"-18\" rx=\"18\" ry=\"18\"/>\n",
       "<text text-anchor=\"middle\" x=\"214\" y=\"-14.3\" font-family=\"Times,serif\" font-size=\"14.00\">3</text>\n",
       "</g>\n",
       "<!-- 1&#45;&gt;3 -->\n",
       "<g id=\"edge4\" class=\"edge\"><title>1&#45;&gt;3</title>\n",
       "<path fill=\"none\" stroke=\"black\" d=\"M150.04,-53.516C162.12,-46.699 179.22,-37.054 192.55,-29.535\"/>\n",
       "<polygon fill=\"black\" stroke=\"black\" points=\"198.01,-26.458 194.108,-31.756 195.396,-27.9309 192.783,-29.4038 192.783,-29.4038 192.783,-29.4038 195.396,-27.9309 191.457,-27.0516 198.01,-26.458 198.01,-26.458\"/>\n",
       "<text text-anchor=\"middle\" x=\"174\" y=\"-44.8\" font-family=\"Times,serif\" font-size=\"14.00\">b</text>\n",
       "</g>\n",
       "<!-- 3&#45;&gt;F3 -->\n",
       "<g id=\"edge5\" class=\"edge\"><title>3&#45;&gt;F3</title>\n",
       "<path fill=\"none\" stroke=\"black\" d=\"M232.009,-18C242.571,-18 255.261,-18 262.698,-18\"/>\n",
       "<polygon fill=\"black\" stroke=\"black\" points=\"268.939,-18 262.939,-20.7001 265.939,-18 262.939,-18.0001 262.939,-18.0001 262.939,-18.0001 265.939,-18 262.939,-15.3001 268.939,-18 268.939,-18\"/>\n",
       "</g>\n",
       "<!-- 3&#45;&gt;3 -->\n",
       "<g id=\"edge6\" class=\"edge\"><title>3&#45;&gt;3</title>\n",
       "<path fill=\"none\" stroke=\"black\" d=\"M207.62,-35.037C206.32,-44.858 208.45,-54 214,-54 218.34,-54 220.59,-48.42 220.74,-41.296\"/>\n",
       "<polygon fill=\"black\" stroke=\"black\" points=\"220.38,-35.037 223.42,-40.872 220.552,-38.0321 220.725,-41.0271 220.725,-41.0271 220.725,-41.0271 220.552,-38.0321 218.029,-41.1822 220.38,-35.037 220.38,-35.037\"/>\n",
       "<text text-anchor=\"middle\" x=\"214\" y=\"-57.8\" font-family=\"Times,serif\" font-size=\"14.00\">b</text>\n",
       "</g>\n",
       "</g>\n",
       "</svg>\n"
      ],
      "text/plain": [
       "mutable_automaton<letterset<char_letters(abc)>, b>"
      ]
     },
     "execution_count": 5,
     "metadata": {},
     "output_type": "execute_result"
    }
   ],
   "source": [
    "r1.standard()"
   ]
  },
  {
   "cell_type": "markdown",
   "metadata": {},
   "source": [
    "When it comes to displaying automata as graphs, there are several \"traditions\".  In Vcsn, initial states are denoted by an entering arrow, and final (or \"accepting\") states by an exiting arrow.  This automaton has one initial state, and two final states.\n",
    "\n",
    "The `expression.derived_term()` method builds the \"derived-term automaton\", aka, the Antimirov automaton."
   ]
  },
  {
   "cell_type": "code",
   "execution_count": 6,
   "metadata": {
    "collapsed": false
   },
   "outputs": [
    {
     "data": {
      "image/svg+xml": [
       "<?xml version=\"1.0\" encoding=\"UTF-8\" standalone=\"no\"?>\n",
       "<!DOCTYPE svg PUBLIC \"-//W3C//DTD SVG 1.1//EN\"\n",
       " \"http://www.w3.org/Graphics/SVG/1.1/DTD/svg11.dtd\">\n",
       "<!-- Generated by graphviz version 2.38.0 (20140413.2041)\n",
       " -->\n",
       "<!-- Title: %3 Pages: 1 -->\n",
       "<svg width=\"198pt\" height=\"77pt\"\n",
       " viewBox=\"0.00 0.00 198.00 77.00\" xmlns=\"http://www.w3.org/2000/svg\" xmlns:xlink=\"http://www.w3.org/1999/xlink\">\n",
       "<g id=\"graph0\" class=\"graph\" transform=\"scale(1 1) rotate(0) translate(4 73)\">\n",
       "<title>%3</title>\n",
       "<polygon fill=\"white\" stroke=\"none\" points=\"-4,4 -4,-73 194,-73 194,4 -4,4\"/>\n",
       "<!-- I0 -->\n",
       "<g id=\"node1\" class=\"node\"><title>I0</title>\n",
       "<ellipse fill=\"black\" stroke=\"black\" cx=\"0\" cy=\"-18\" rx=\"0\" ry=\"0\"/>\n",
       "</g>\n",
       "<!-- 0 -->\n",
       "<g id=\"node3\" class=\"node\"><title>0</title>\n",
       "<path fill=\"#98f5ff\" stroke=\"black\" d=\"M62,-36C62,-36 49,-36 49,-36 43,-36 37,-30 37,-24 37,-24 37,-12 37,-12 37,-6 43,-0 49,-0 49,-0 62,-0 62,-0 68,-0 74,-6 74,-12 74,-12 74,-24 74,-24 74,-30 68,-36 62,-36\"/>\n",
       "<text text-anchor=\"middle\" x=\"55.5\" y=\"-14.3\" font-family=\"Times,serif\" font-size=\"14.00\">ab*</text>\n",
       "</g>\n",
       "<!-- I0&#45;&gt;0 -->\n",
       "<g id=\"edge1\" class=\"edge\"><title>I0&#45;&gt;0</title>\n",
       "<path fill=\"none\" stroke=\"black\" d=\"M1.1535,-18C2.7905,-18 17.237,-18 30.683,-18\"/>\n",
       "<polygon fill=\"black\" stroke=\"black\" points=\"36.741,-18 30.741,-20.7001 33.741,-18 30.741,-18.0001 30.741,-18.0001 30.741,-18.0001 33.741,-18 30.741,-15.3001 36.741,-18 36.741,-18\"/>\n",
       "</g>\n",
       "<!-- F1 -->\n",
       "<g id=\"node2\" class=\"node\"><title>F1</title>\n",
       "<ellipse fill=\"black\" stroke=\"black\" cx=\"190\" cy=\"-18\" rx=\"0\" ry=\"0\"/>\n",
       "</g>\n",
       "<!-- 1 -->\n",
       "<g id=\"node4\" class=\"node\"><title>1</title>\n",
       "<path fill=\"#98f5ff\" stroke=\"black\" d=\"M141,-36C141,-36 129,-36 129,-36 123,-36 117,-30 117,-24 117,-24 117,-12 117,-12 117,-6 123,-0 129,-0 129,-0 141,-0 141,-0 147,-0 153,-6 153,-12 153,-12 153,-24 153,-24 153,-30 147,-36 141,-36\"/>\n",
       "<text text-anchor=\"middle\" x=\"135\" y=\"-14.3\" font-family=\"Times,serif\" font-size=\"14.00\">b*</text>\n",
       "</g>\n",
       "<!-- 0&#45;&gt;1 -->\n",
       "<g id=\"edge2\" class=\"edge\"><title>0&#45;&gt;1</title>\n",
       "<path fill=\"none\" stroke=\"black\" d=\"M74.086,-18C84.863,-18 98.79,-18 110.5,-18\"/>\n",
       "<polygon fill=\"black\" stroke=\"black\" points=\"116.75,-18 110.75,-20.7001 113.75,-18 110.75,-18.0001 110.75,-18.0001 110.75,-18.0001 113.75,-18 110.75,-15.3001 116.75,-18 116.75,-18\"/>\n",
       "<text text-anchor=\"middle\" x=\"95.5\" y=\"-21.8\" font-family=\"Times,serif\" font-size=\"14.00\">a</text>\n",
       "</g>\n",
       "<!-- 1&#45;&gt;F1 -->\n",
       "<g id=\"edge3\" class=\"edge\"><title>1&#45;&gt;F1</title>\n",
       "<path fill=\"none\" stroke=\"black\" d=\"M153.009,-18C163.571,-18 176.261,-18 183.698,-18\"/>\n",
       "<polygon fill=\"black\" stroke=\"black\" points=\"189.939,-18 183.939,-20.7001 186.939,-18 183.939,-18.0001 183.939,-18.0001 183.939,-18.0001 186.939,-18 183.939,-15.3001 189.939,-18 189.939,-18\"/>\n",
       "</g>\n",
       "<!-- 1&#45;&gt;1 -->\n",
       "<g id=\"edge4\" class=\"edge\"><title>1&#45;&gt;1</title>\n",
       "<path fill=\"none\" stroke=\"black\" d=\"M128.49,-36.153C127.49,-45.539 129.66,-54 135,-54 139.09,-54 141.32,-49.04 141.69,-42.503\"/>\n",
       "<polygon fill=\"black\" stroke=\"black\" points=\"141.51,-36.153 144.379,-42.074 141.595,-39.1518 141.68,-42.1506 141.68,-42.1506 141.68,-42.1506 141.595,-39.1518 138.981,-42.2271 141.51,-36.153 141.51,-36.153\"/>\n",
       "<text text-anchor=\"middle\" x=\"135\" y=\"-57.8\" font-family=\"Times,serif\" font-size=\"14.00\">b</text>\n",
       "</g>\n",
       "</g>\n",
       "</svg>\n"
      ],
      "text/plain": [
       "expression_automaton<mutable_automaton<letterset<char_letters(abc)>, b>>"
      ]
     },
     "execution_count": 6,
     "metadata": {},
     "output_type": "execute_result"
    }
   ],
   "source": [
    "a1 = r1.derived_term()\n",
    "a1"
   ]
  },
  {
   "cell_type": "markdown",
   "metadata": {},
   "source": [
    "Python operators that are accepted by rational expressions are also accepted by automata, with matching semantics."
   ]
  },
  {
   "cell_type": "code",
   "execution_count": 7,
   "metadata": {
    "collapsed": false
   },
   "outputs": [
    {
     "data": {
      "image/svg+xml": [
       "<?xml version=\"1.0\" encoding=\"UTF-8\" standalone=\"no\"?>\n",
       "<!DOCTYPE svg PUBLIC \"-//W3C//DTD SVG 1.1//EN\"\n",
       " \"http://www.w3.org/Graphics/SVG/1.1/DTD/svg11.dtd\">\n",
       "<!-- Generated by graphviz version 2.38.0 (20140413.2041)\n",
       " -->\n",
       "<!-- Title: %3 Pages: 1 -->\n",
       "<svg width=\"340pt\" height=\"135pt\"\n",
       " viewBox=\"0.00 0.00 340.00 135.00\" xmlns=\"http://www.w3.org/2000/svg\" xmlns:xlink=\"http://www.w3.org/1999/xlink\">\n",
       "<g id=\"graph0\" class=\"graph\" transform=\"scale(1 1) rotate(0) translate(4 131)\">\n",
       "<title>%3</title>\n",
       "<polygon fill=\"white\" stroke=\"none\" points=\"-4,4 -4,-131 336,-131 336,4 -4,4\"/>\n",
       "<!-- I0 -->\n",
       "<g id=\"node1\" class=\"node\"><title>I0</title>\n",
       "<ellipse fill=\"black\" stroke=\"black\" cx=\"0\" cy=\"-76\" rx=\"0\" ry=\"0\"/>\n",
       "</g>\n",
       "<!-- 0 -->\n",
       "<g id=\"node3\" class=\"node\"><title>0</title>\n",
       "<path fill=\"#98f5ff\" stroke=\"black\" d=\"M110,-94C110,-94 49,-94 49,-94 43,-94 37,-88 37,-82 37,-82 37,-70 37,-70 37,-64 43,-58 49,-58 49,-58 110,-58 110,-58 116,-58 122,-64 122,-70 122,-70 122,-82 122,-82 122,-88 116,-94 110,-94\"/>\n",
       "<text text-anchor=\"middle\" x=\"79.5\" y=\"-72.3\" font-family=\"Times,serif\" font-size=\"14.00\">ab*+ab*ab*</text>\n",
       "</g>\n",
       "<!-- I0&#45;&gt;0 -->\n",
       "<g id=\"edge1\" class=\"edge\"><title>I0&#45;&gt;0</title>\n",
       "<path fill=\"none\" stroke=\"black\" d=\"M1.0562,-76C2.0192,-76 15.234,-76 30.482,-76\"/>\n",
       "<polygon fill=\"black\" stroke=\"black\" points=\"36.638,-76 30.638,-78.7001 33.638,-76 30.638,-76.0001 30.638,-76.0001 30.638,-76.0001 33.638,-76 30.638,-73.3001 36.638,-76 36.638,-76\"/>\n",
       "</g>\n",
       "<!-- F1 -->\n",
       "<g id=\"node2\" class=\"node\"><title>F1</title>\n",
       "<ellipse fill=\"black\" stroke=\"black\" cx=\"332\" cy=\"-76\" rx=\"0\" ry=\"0\"/>\n",
       "</g>\n",
       "<!-- 1 -->\n",
       "<g id=\"node4\" class=\"node\"><title>1</title>\n",
       "<path fill=\"#98f5ff\" stroke=\"black\" d=\"M283,-94C283,-94 271,-94 271,-94 265,-94 259,-88 259,-82 259,-82 259,-70 259,-70 259,-64 265,-58 271,-58 271,-58 283,-58 283,-58 289,-58 295,-64 295,-70 295,-70 295,-82 295,-82 295,-88 289,-94 283,-94\"/>\n",
       "<text text-anchor=\"middle\" x=\"277\" y=\"-72.3\" font-family=\"Times,serif\" font-size=\"14.00\">b*</text>\n",
       "</g>\n",
       "<!-- 0&#45;&gt;1 -->\n",
       "<g id=\"edge2\" class=\"edge\"><title>0&#45;&gt;1</title>\n",
       "<path fill=\"none\" stroke=\"black\" d=\"M122.01,-77.288C148.83,-77.953 184.48,-78.525 216,-78 228.11,-77.798 241.59,-77.368 252.7,-76.957\"/>\n",
       "<polygon fill=\"black\" stroke=\"black\" points=\"258.93,-76.72 253.037,-79.6462 255.932,-76.8341 252.934,-76.9482 252.934,-76.9482 252.934,-76.9482 255.932,-76.8341 252.832,-74.2501 258.93,-76.72 258.93,-76.72\"/>\n",
       "<text text-anchor=\"middle\" x=\"190.5\" y=\"-81.8\" font-family=\"Times,serif\" font-size=\"14.00\">a</text>\n",
       "</g>\n",
       "<!-- 2 -->\n",
       "<g id=\"node5\" class=\"node\"><title>2</title>\n",
       "<path fill=\"#98f5ff\" stroke=\"black\" d=\"M204,-36C204,-36 177,-36 177,-36 171,-36 165,-30 165,-24 165,-24 165,-12 165,-12 165,-6 171,-0 177,-0 177,-0 204,-0 204,-0 210,-0 216,-6 216,-12 216,-12 216,-24 216,-24 216,-30 210,-36 204,-36\"/>\n",
       "<text text-anchor=\"middle\" x=\"190.5\" y=\"-14.3\" font-family=\"Times,serif\" font-size=\"14.00\">b*ab*</text>\n",
       "</g>\n",
       "<!-- 0&#45;&gt;2 -->\n",
       "<g id=\"edge3\" class=\"edge\"><title>0&#45;&gt;2</title>\n",
       "<path fill=\"none\" stroke=\"black\" d=\"M114.39,-57.966C128.85,-50.275 145.57,-41.376 159.56,-33.931\"/>\n",
       "<polygon fill=\"black\" stroke=\"black\" points=\"164.98,-31.049 160.95,-36.2499 162.331,-32.4575 159.682,-33.866 159.682,-33.866 159.682,-33.866 162.331,-32.4575 158.415,-31.482 164.98,-31.049 164.98,-31.049\"/>\n",
       "<text text-anchor=\"middle\" x=\"143.5\" y=\"-46.8\" font-family=\"Times,serif\" font-size=\"14.00\">a</text>\n",
       "</g>\n",
       "<!-- 1&#45;&gt;F1 -->\n",
       "<g id=\"edge4\" class=\"edge\"><title>1&#45;&gt;F1</title>\n",
       "<path fill=\"none\" stroke=\"black\" d=\"M295.009,-76C305.571,-76 318.261,-76 325.698,-76\"/>\n",
       "<polygon fill=\"black\" stroke=\"black\" points=\"331.939,-76 325.939,-78.7001 328.939,-76 325.939,-76.0001 325.939,-76.0001 325.939,-76.0001 328.939,-76 325.939,-73.3001 331.939,-76 331.939,-76\"/>\n",
       "</g>\n",
       "<!-- 1&#45;&gt;1 -->\n",
       "<g id=\"edge5\" class=\"edge\"><title>1&#45;&gt;1</title>\n",
       "<path fill=\"none\" stroke=\"black\" d=\"M270.49,-94.153C269.49,-103.54 271.66,-112 277,-112 281.09,-112 283.32,-107.04 283.69,-100.5\"/>\n",
       "<polygon fill=\"black\" stroke=\"black\" points=\"283.51,-94.153 286.379,-100.074 283.595,-97.1518 283.68,-100.151 283.68,-100.151 283.68,-100.151 283.595,-97.1518 280.981,-100.227 283.51,-94.153 283.51,-94.153\"/>\n",
       "<text text-anchor=\"middle\" x=\"277\" y=\"-115.8\" font-family=\"Times,serif\" font-size=\"14.00\">b</text>\n",
       "</g>\n",
       "<!-- 2&#45;&gt;1 -->\n",
       "<g id=\"edge6\" class=\"edge\"><title>2&#45;&gt;1</title>\n",
       "<path fill=\"none\" stroke=\"black\" d=\"M216.4,-35.088C228.22,-43.202 242.23,-52.821 253.7,-60.693\"/>\n",
       "<polygon fill=\"black\" stroke=\"black\" points=\"258.77,-64.175 252.296,-63.0038 256.297,-62.4766 253.824,-60.7782 253.824,-60.7782 253.824,-60.7782 256.297,-62.4766 255.353,-58.5525 258.77,-64.175 258.77,-64.175\"/>\n",
       "<text text-anchor=\"middle\" x=\"237.5\" y=\"-53.8\" font-family=\"Times,serif\" font-size=\"14.00\">a</text>\n",
       "</g>\n",
       "<!-- 2&#45;&gt;2 -->\n",
       "<g id=\"edge7\" class=\"edge\"><title>2&#45;&gt;2</title>\n",
       "<path fill=\"none\" stroke=\"black\" d=\"M182.18,-36.153C180.9,-45.539 183.67,-54 190.5,-54 195.73,-54 198.58,-49.04 199.05,-42.503\"/>\n",
       "<polygon fill=\"black\" stroke=\"black\" points=\"198.82,-36.153 201.736,-42.0513 198.929,-39.151 199.037,-42.1491 199.037,-42.1491 199.037,-42.1491 198.929,-39.151 196.339,-42.2468 198.82,-36.153 198.82,-36.153\"/>\n",
       "<text text-anchor=\"middle\" x=\"190.5\" y=\"-57.8\" font-family=\"Times,serif\" font-size=\"14.00\">b</text>\n",
       "</g>\n",
       "</g>\n",
       "</svg>\n"
      ],
      "text/plain": [
       "expression_automaton<mutable_automaton<letterset<char_letters(abc)>, b>>"
      ]
     },
     "execution_count": 7,
     "metadata": {},
     "output_type": "execute_result"
    }
   ],
   "source": [
    "a2 = (r1 + r1*r1).derived_term()\n",
    "a2"
   ]
  },
  {
   "cell_type": "code",
   "execution_count": 8,
   "metadata": {
    "collapsed": false
   },
   "outputs": [
    {
     "data": {
      "image/svg+xml": [
       "<?xml version=\"1.0\" encoding=\"UTF-8\" standalone=\"no\"?>\n",
       "<!DOCTYPE svg PUBLIC \"-//W3C//DTD SVG 1.1//EN\"\n",
       " \"http://www.w3.org/Graphics/SVG/1.1/DTD/svg11.dtd\">\n",
       "<!-- Generated by graphviz version 2.38.0 (20140413.2041)\n",
       " -->\n",
       "<!-- Title: %3 Pages: 1 -->\n",
       "<svg width=\"276pt\" height=\"164pt\"\n",
       " viewBox=\"0.00 0.00 276.00 164.00\" xmlns=\"http://www.w3.org/2000/svg\" xmlns:xlink=\"http://www.w3.org/1999/xlink\">\n",
       "<g id=\"graph0\" class=\"graph\" transform=\"scale(1 1) rotate(0) translate(4 160)\">\n",
       "<title>%3</title>\n",
       "<polygon fill=\"white\" stroke=\"none\" points=\"-4,4 -4,-160 272,-160 272,4 -4,4\"/>\n",
       "<!-- I0 -->\n",
       "<g id=\"node1\" class=\"node\"><title>I0</title>\n",
       "<ellipse fill=\"black\" stroke=\"black\" cx=\"0\" cy=\"-67\" rx=\"0\" ry=\"0\"/>\n",
       "</g>\n",
       "<!-- 0 -->\n",
       "<g id=\"node4\" class=\"node\"><title>0</title>\n",
       "<ellipse fill=\"#98f5ff\" stroke=\"black\" cx=\"55\" cy=\"-67\" rx=\"18\" ry=\"18\"/>\n",
       "<text text-anchor=\"middle\" x=\"55\" y=\"-63.3\" font-family=\"Times,serif\" font-size=\"14.00\">0</text>\n",
       "</g>\n",
       "<!-- I0&#45;&gt;0 -->\n",
       "<g id=\"edge1\" class=\"edge\"><title>I0&#45;&gt;0</title>\n",
       "<path fill=\"none\" stroke=\"black\" d=\"M1.152,-67C2.7948,-67 17.459,-67 30.924,-67\"/>\n",
       "<polygon fill=\"black\" stroke=\"black\" points=\"36.975,-67 30.975,-69.7001 33.975,-67 30.975,-67.0001 30.975,-67.0001 30.975,-67.0001 33.975,-67 30.975,-64.3001 36.975,-67 36.975,-67\"/>\n",
       "</g>\n",
       "<!-- F1 -->\n",
       "<g id=\"node2\" class=\"node\"><title>F1</title>\n",
       "<ellipse fill=\"black\" stroke=\"black\" cx=\"213\" cy=\"-105\" rx=\"0\" ry=\"0\"/>\n",
       "</g>\n",
       "<!-- F3 -->\n",
       "<g id=\"node3\" class=\"node\"><title>F3</title>\n",
       "<ellipse fill=\"black\" stroke=\"black\" cx=\"268\" cy=\"-18\" rx=\"0\" ry=\"0\"/>\n",
       "</g>\n",
       "<!-- 1 -->\n",
       "<g id=\"node5\" class=\"node\"><title>1</title>\n",
       "<ellipse fill=\"#98f5ff\" stroke=\"black\" cx=\"134\" cy=\"-105\" rx=\"18\" ry=\"18\"/>\n",
       "<text text-anchor=\"middle\" x=\"134\" y=\"-101.3\" font-family=\"Times,serif\" font-size=\"14.00\">1</text>\n",
       "</g>\n",
       "<!-- 0&#45;&gt;1 -->\n",
       "<g id=\"edge2\" class=\"edge\"><title>0&#45;&gt;1</title>\n",
       "<path fill=\"none\" stroke=\"black\" d=\"M71.582,-74.69C83.167,-80.407 99.105,-88.272 111.84,-94.558\"/>\n",
       "<polygon fill=\"black\" stroke=\"black\" points=\"117.44,-97.322 110.865,-97.0875 114.75,-95.9942 112.06,-94.6664 112.06,-94.6664 112.06,-94.6664 114.75,-95.9942 113.255,-92.2452 117.44,-97.322 117.44,-97.322\"/>\n",
       "<text text-anchor=\"middle\" x=\"94.5\" y=\"-90.8\" font-family=\"Times,serif\" font-size=\"14.00\">a</text>\n",
       "</g>\n",
       "<!-- 2 -->\n",
       "<g id=\"node6\" class=\"node\"><title>2</title>\n",
       "<ellipse fill=\"#98f5ff\" stroke=\"black\" cx=\"134\" cy=\"-18\" rx=\"18\" ry=\"18\"/>\n",
       "<text text-anchor=\"middle\" x=\"134\" y=\"-14.3\" font-family=\"Times,serif\" font-size=\"14.00\">2</text>\n",
       "</g>\n",
       "<!-- 0&#45;&gt;2 -->\n",
       "<g id=\"edge3\" class=\"edge\"><title>0&#45;&gt;2</title>\n",
       "<path fill=\"none\" stroke=\"black\" d=\"M70.483,-57.783C82.559,-50.099 99.885,-39.073 113.24,-30.578\"/>\n",
       "<polygon fill=\"black\" stroke=\"black\" points=\"118.32,-27.342 114.71,-32.8428 115.79,-28.9538 113.259,-30.5656 113.259,-30.5656 113.259,-30.5656 115.79,-28.9538 111.809,-28.2884 118.32,-27.342 118.32,-27.342\"/>\n",
       "<text text-anchor=\"middle\" x=\"94.5\" y=\"-46.8\" font-family=\"Times,serif\" font-size=\"14.00\">a</text>\n",
       "</g>\n",
       "<!-- 1&#45;&gt;F1 -->\n",
       "<g id=\"edge4\" class=\"edge\"><title>1&#45;&gt;F1</title>\n",
       "<path fill=\"none\" stroke=\"black\" d=\"M152.323,-105C169.809,-105 195.156,-105 206.767,-105\"/>\n",
       "<polygon fill=\"black\" stroke=\"black\" points=\"212.892,-105 206.892,-107.7 209.892,-105 206.892,-105 206.892,-105 206.892,-105 209.892,-105 206.892,-102.3 212.892,-105 212.892,-105\"/>\n",
       "</g>\n",
       "<!-- 1&#45;&gt;1 -->\n",
       "<g id=\"edge5\" class=\"edge\"><title>1&#45;&gt;1</title>\n",
       "<path fill=\"none\" stroke=\"black\" d=\"M127.27,-122.04C125.89,-131.86 128.14,-141 134,-141 138.58,-141 140.95,-135.42 141.12,-128.3\"/>\n",
       "<polygon fill=\"black\" stroke=\"black\" points=\"140.73,-122.04 143.798,-127.86 140.917,-125.034 141.103,-128.028 141.103,-128.028 141.103,-128.028 140.917,-125.034 138.408,-128.196 140.73,-122.04 140.73,-122.04\"/>\n",
       "<text text-anchor=\"middle\" x=\"134\" y=\"-144.8\" font-family=\"Times,serif\" font-size=\"14.00\">b</text>\n",
       "</g>\n",
       "<!-- 2&#45;&gt;2 -->\n",
       "<g id=\"edge6\" class=\"edge\"><title>2&#45;&gt;2</title>\n",
       "<path fill=\"none\" stroke=\"black\" d=\"M127.27,-35.037C125.89,-44.858 128.14,-54 134,-54 138.58,-54 140.95,-48.42 141.12,-41.296\"/>\n",
       "<polygon fill=\"black\" stroke=\"black\" points=\"140.73,-35.037 143.798,-40.8574 140.917,-38.0312 141.103,-41.0254 141.103,-41.0254 141.103,-41.0254 140.917,-38.0312 138.408,-41.1933 140.73,-35.037 140.73,-35.037\"/>\n",
       "<text text-anchor=\"middle\" x=\"134\" y=\"-57.8\" font-family=\"Times,serif\" font-size=\"14.00\">b</text>\n",
       "</g>\n",
       "<!-- 3 -->\n",
       "<g id=\"node7\" class=\"node\"><title>3</title>\n",
       "<ellipse fill=\"#98f5ff\" stroke=\"black\" cx=\"213\" cy=\"-18\" rx=\"18\" ry=\"18\"/>\n",
       "<text text-anchor=\"middle\" x=\"213\" y=\"-14.3\" font-family=\"Times,serif\" font-size=\"14.00\">3</text>\n",
       "</g>\n",
       "<!-- 2&#45;&gt;3 -->\n",
       "<g id=\"edge7\" class=\"edge\"><title>2&#45;&gt;3</title>\n",
       "<path fill=\"none\" stroke=\"black\" d=\"M152.09,-18C162.86,-18 176.9,-18 188.68,-18\"/>\n",
       "<polygon fill=\"black\" stroke=\"black\" points=\"194.96,-18 188.96,-20.7001 191.96,-18 188.96,-18.0001 188.96,-18.0001 188.96,-18.0001 191.96,-18 188.96,-15.3001 194.96,-18 194.96,-18\"/>\n",
       "<text text-anchor=\"middle\" x=\"173.5\" y=\"-21.8\" font-family=\"Times,serif\" font-size=\"14.00\">a</text>\n",
       "</g>\n",
       "<!-- 3&#45;&gt;F3 -->\n",
       "<g id=\"edge8\" class=\"edge\"><title>3&#45;&gt;F3</title>\n",
       "<path fill=\"none\" stroke=\"black\" d=\"M231.009,-18C241.571,-18 254.261,-18 261.698,-18\"/>\n",
       "<polygon fill=\"black\" stroke=\"black\" points=\"267.939,-18 261.939,-20.7001 264.939,-18 261.939,-18.0001 261.939,-18.0001 261.939,-18.0001 264.939,-18 261.939,-15.3001 267.939,-18 267.939,-18\"/>\n",
       "</g>\n",
       "<!-- 3&#45;&gt;3 -->\n",
       "<g id=\"edge9\" class=\"edge\"><title>3&#45;&gt;3</title>\n",
       "<path fill=\"none\" stroke=\"black\" d=\"M206.62,-35.037C205.32,-44.858 207.45,-54 213,-54 217.34,-54 219.59,-48.42 219.74,-41.296\"/>\n",
       "<polygon fill=\"black\" stroke=\"black\" points=\"219.38,-35.037 222.42,-40.872 219.552,-38.0321 219.725,-41.0271 219.725,-41.0271 219.725,-41.0271 219.552,-38.0321 217.029,-41.1822 219.38,-35.037 219.38,-35.037\"/>\n",
       "<text text-anchor=\"middle\" x=\"213\" y=\"-57.8\" font-family=\"Times,serif\" font-size=\"14.00\">b</text>\n",
       "</g>\n",
       "</g>\n",
       "</svg>\n"
      ],
      "text/plain": [
       "mutable_automaton<letterset<char_letters(abc)>, b>"
      ]
     },
     "execution_count": 8,
     "metadata": {},
     "output_type": "execute_result"
    }
   ],
   "source": [
    "a3 = a1 + a1 * a1\n",
    "a3"
   ]
  },
  {
   "cell_type": "markdown",
   "metadata": {},
   "source": [
    "Well, those two automata are not equal (or more rigorously \"isomorphic\"), but they are equivalent:"
   ]
  },
  {
   "cell_type": "code",
   "execution_count": 9,
   "metadata": {
    "collapsed": false
   },
   "outputs": [
    {
     "data": {
      "text/plain": [
       "True"
      ]
     },
     "execution_count": 9,
     "metadata": {},
     "output_type": "execute_result"
    }
   ],
   "source": [
    "a2.is_equivalent(a3)"
   ]
  },
  {
   "cell_type": "markdown",
   "metadata": {},
   "source": [
    "All the classical algorithms about automata are implemented:"
   ]
  },
  {
   "cell_type": "code",
   "execution_count": 10,
   "metadata": {
    "collapsed": false
   },
   "outputs": [
    {
     "data": {
      "image/svg+xml": [
       "<?xml version=\"1.0\" encoding=\"UTF-8\" standalone=\"no\"?>\n",
       "<!DOCTYPE svg PUBLIC \"-//W3C//DTD SVG 1.1//EN\"\n",
       " \"http://www.w3.org/Graphics/SVG/1.1/DTD/svg11.dtd\">\n",
       "<!-- Generated by graphviz version 2.38.0 (20140413.2041)\n",
       " -->\n",
       "<!-- Title: %3 Pages: 1 -->\n",
       "<svg width=\"276pt\" height=\"164pt\"\n",
       " viewBox=\"0.00 0.00 276.00 164.00\" xmlns=\"http://www.w3.org/2000/svg\" xmlns:xlink=\"http://www.w3.org/1999/xlink\">\n",
       "<g id=\"graph0\" class=\"graph\" transform=\"scale(1 1) rotate(0) translate(4 160)\">\n",
       "<title>%3</title>\n",
       "<polygon fill=\"white\" stroke=\"none\" points=\"-4,4 -4,-160 272,-160 272,4 -4,4\"/>\n",
       "<!-- I0 -->\n",
       "<g id=\"node1\" class=\"node\"><title>I0</title>\n",
       "<ellipse fill=\"black\" stroke=\"black\" cx=\"0\" cy=\"-67\" rx=\"0\" ry=\"0\"/>\n",
       "</g>\n",
       "<!-- 0 -->\n",
       "<g id=\"node4\" class=\"node\"><title>0</title>\n",
       "<ellipse fill=\"#98f5ff\" stroke=\"black\" cx=\"55\" cy=\"-67\" rx=\"18\" ry=\"18\"/>\n",
       "<text text-anchor=\"middle\" x=\"55\" y=\"-63.3\" font-family=\"Times,serif\" font-size=\"14.00\">0</text>\n",
       "</g>\n",
       "<!-- I0&#45;&gt;0 -->\n",
       "<g id=\"edge1\" class=\"edge\"><title>I0&#45;&gt;0</title>\n",
       "<path fill=\"none\" stroke=\"black\" d=\"M1.152,-67C2.7948,-67 17.459,-67 30.924,-67\"/>\n",
       "<polygon fill=\"black\" stroke=\"black\" points=\"36.975,-67 30.975,-69.7001 33.975,-67 30.975,-67.0001 30.975,-67.0001 30.975,-67.0001 33.975,-67 30.975,-64.3001 36.975,-67 36.975,-67\"/>\n",
       "</g>\n",
       "<!-- F1 -->\n",
       "<g id=\"node2\" class=\"node\"><title>F1</title>\n",
       "<ellipse fill=\"black\" stroke=\"black\" cx=\"213\" cy=\"-105\" rx=\"0\" ry=\"0\"/>\n",
       "</g>\n",
       "<!-- F3 -->\n",
       "<g id=\"node3\" class=\"node\"><title>F3</title>\n",
       "<ellipse fill=\"black\" stroke=\"black\" cx=\"268\" cy=\"-18\" rx=\"0\" ry=\"0\"/>\n",
       "</g>\n",
       "<!-- 1 -->\n",
       "<g id=\"node5\" class=\"node\"><title>1</title>\n",
       "<ellipse fill=\"#98f5ff\" stroke=\"black\" cx=\"134\" cy=\"-105\" rx=\"18\" ry=\"18\"/>\n",
       "<text text-anchor=\"middle\" x=\"134\" y=\"-101.3\" font-family=\"Times,serif\" font-size=\"14.00\">1</text>\n",
       "</g>\n",
       "<!-- 0&#45;&gt;1 -->\n",
       "<g id=\"edge2\" class=\"edge\"><title>0&#45;&gt;1</title>\n",
       "<path fill=\"none\" stroke=\"black\" d=\"M71.582,-74.69C83.167,-80.407 99.105,-88.272 111.84,-94.558\"/>\n",
       "<polygon fill=\"black\" stroke=\"black\" points=\"117.44,-97.322 110.865,-97.0875 114.75,-95.9942 112.06,-94.6664 112.06,-94.6664 112.06,-94.6664 114.75,-95.9942 113.255,-92.2452 117.44,-97.322 117.44,-97.322\"/>\n",
       "<text text-anchor=\"middle\" x=\"94.5\" y=\"-90.8\" font-family=\"Times,serif\" font-size=\"14.00\">a</text>\n",
       "</g>\n",
       "<!-- 2 -->\n",
       "<g id=\"node6\" class=\"node\"><title>2</title>\n",
       "<ellipse fill=\"#98f5ff\" stroke=\"black\" cx=\"134\" cy=\"-18\" rx=\"18\" ry=\"18\"/>\n",
       "<text text-anchor=\"middle\" x=\"134\" y=\"-14.3\" font-family=\"Times,serif\" font-size=\"14.00\">2</text>\n",
       "</g>\n",
       "<!-- 0&#45;&gt;2 -->\n",
       "<g id=\"edge3\" class=\"edge\"><title>0&#45;&gt;2</title>\n",
       "<path fill=\"none\" stroke=\"black\" d=\"M70.483,-57.783C82.559,-50.099 99.885,-39.073 113.24,-30.578\"/>\n",
       "<polygon fill=\"black\" stroke=\"black\" points=\"118.32,-27.342 114.71,-32.8428 115.79,-28.9538 113.259,-30.5656 113.259,-30.5656 113.259,-30.5656 115.79,-28.9538 111.809,-28.2884 118.32,-27.342 118.32,-27.342\"/>\n",
       "<text text-anchor=\"middle\" x=\"94.5\" y=\"-46.8\" font-family=\"Times,serif\" font-size=\"14.00\">a</text>\n",
       "</g>\n",
       "<!-- 1&#45;&gt;F1 -->\n",
       "<g id=\"edge4\" class=\"edge\"><title>1&#45;&gt;F1</title>\n",
       "<path fill=\"none\" stroke=\"black\" d=\"M152.323,-105C169.809,-105 195.156,-105 206.767,-105\"/>\n",
       "<polygon fill=\"black\" stroke=\"black\" points=\"212.892,-105 206.892,-107.7 209.892,-105 206.892,-105 206.892,-105 206.892,-105 209.892,-105 206.892,-102.3 212.892,-105 212.892,-105\"/>\n",
       "</g>\n",
       "<!-- 1&#45;&gt;1 -->\n",
       "<g id=\"edge5\" class=\"edge\"><title>1&#45;&gt;1</title>\n",
       "<path fill=\"none\" stroke=\"black\" d=\"M127.27,-122.04C125.89,-131.86 128.14,-141 134,-141 138.58,-141 140.95,-135.42 141.12,-128.3\"/>\n",
       "<polygon fill=\"black\" stroke=\"black\" points=\"140.73,-122.04 143.798,-127.86 140.917,-125.034 141.103,-128.028 141.103,-128.028 141.103,-128.028 140.917,-125.034 138.408,-128.196 140.73,-122.04 140.73,-122.04\"/>\n",
       "<text text-anchor=\"middle\" x=\"134\" y=\"-144.8\" font-family=\"Times,serif\" font-size=\"14.00\">b</text>\n",
       "</g>\n",
       "<!-- 2&#45;&gt;2 -->\n",
       "<g id=\"edge6\" class=\"edge\"><title>2&#45;&gt;2</title>\n",
       "<path fill=\"none\" stroke=\"black\" d=\"M127.27,-35.037C125.89,-44.858 128.14,-54 134,-54 138.58,-54 140.95,-48.42 141.12,-41.296\"/>\n",
       "<polygon fill=\"black\" stroke=\"black\" points=\"140.73,-35.037 143.798,-40.8574 140.917,-38.0312 141.103,-41.0254 141.103,-41.0254 141.103,-41.0254 140.917,-38.0312 138.408,-41.1933 140.73,-35.037 140.73,-35.037\"/>\n",
       "<text text-anchor=\"middle\" x=\"134\" y=\"-57.8\" font-family=\"Times,serif\" font-size=\"14.00\">b</text>\n",
       "</g>\n",
       "<!-- 3 -->\n",
       "<g id=\"node7\" class=\"node\"><title>3</title>\n",
       "<ellipse fill=\"#98f5ff\" stroke=\"black\" cx=\"213\" cy=\"-18\" rx=\"18\" ry=\"18\"/>\n",
       "<text text-anchor=\"middle\" x=\"213\" y=\"-14.3\" font-family=\"Times,serif\" font-size=\"14.00\">3</text>\n",
       "</g>\n",
       "<!-- 2&#45;&gt;3 -->\n",
       "<g id=\"edge7\" class=\"edge\"><title>2&#45;&gt;3</title>\n",
       "<path fill=\"none\" stroke=\"black\" d=\"M152.09,-18C162.86,-18 176.9,-18 188.68,-18\"/>\n",
       "<polygon fill=\"black\" stroke=\"black\" points=\"194.96,-18 188.96,-20.7001 191.96,-18 188.96,-18.0001 188.96,-18.0001 188.96,-18.0001 191.96,-18 188.96,-15.3001 194.96,-18 194.96,-18\"/>\n",
       "<text text-anchor=\"middle\" x=\"173.5\" y=\"-21.8\" font-family=\"Times,serif\" font-size=\"14.00\">a</text>\n",
       "</g>\n",
       "<!-- 3&#45;&gt;F3 -->\n",
       "<g id=\"edge8\" class=\"edge\"><title>3&#45;&gt;F3</title>\n",
       "<path fill=\"none\" stroke=\"black\" d=\"M231.009,-18C241.571,-18 254.261,-18 261.698,-18\"/>\n",
       "<polygon fill=\"black\" stroke=\"black\" points=\"267.939,-18 261.939,-20.7001 264.939,-18 261.939,-18.0001 261.939,-18.0001 261.939,-18.0001 264.939,-18 261.939,-15.3001 267.939,-18 267.939,-18\"/>\n",
       "</g>\n",
       "<!-- 3&#45;&gt;3 -->\n",
       "<g id=\"edge9\" class=\"edge\"><title>3&#45;&gt;3</title>\n",
       "<path fill=\"none\" stroke=\"black\" d=\"M206.62,-35.037C205.32,-44.858 207.45,-54 213,-54 217.34,-54 219.59,-48.42 219.74,-41.296\"/>\n",
       "<polygon fill=\"black\" stroke=\"black\" points=\"219.38,-35.037 222.42,-40.872 219.552,-38.0321 219.725,-41.0271 219.725,-41.0271 219.725,-41.0271 219.552,-38.0321 217.029,-41.1822 219.38,-35.037 219.38,-35.037\"/>\n",
       "<text text-anchor=\"middle\" x=\"213\" y=\"-57.8\" font-family=\"Times,serif\" font-size=\"14.00\">b</text>\n",
       "</g>\n",
       "</g>\n",
       "</svg>\n"
      ],
      "text/plain": [
       "mutable_automaton<letterset<char_letters(abc)>, b>"
      ]
     },
     "execution_count": 10,
     "metadata": {},
     "output_type": "execute_result"
    }
   ],
   "source": [
    "a3"
   ]
  },
  {
   "cell_type": "code",
   "execution_count": 11,
   "metadata": {
    "collapsed": false
   },
   "outputs": [
    {
     "data": {
      "image/svg+xml": [
       "<?xml version=\"1.0\" encoding=\"UTF-8\" standalone=\"no\"?>\n",
       "<!DOCTYPE svg PUBLIC \"-//W3C//DTD SVG 1.1//EN\"\n",
       " \"http://www.w3.org/Graphics/SVG/1.1/DTD/svg11.dtd\">\n",
       "<!-- Generated by graphviz version 2.38.0 (20140413.2041)\n",
       " -->\n",
       "<!-- Title: %3 Pages: 1 -->\n",
       "<svg width=\"278pt\" height=\"121pt\"\n",
       " viewBox=\"0.00 0.00 278.00 121.00\" xmlns=\"http://www.w3.org/2000/svg\" xmlns:xlink=\"http://www.w3.org/1999/xlink\">\n",
       "<g id=\"graph0\" class=\"graph\" transform=\"scale(1 1) rotate(0) translate(4 117)\">\n",
       "<title>%3</title>\n",
       "<polygon fill=\"white\" stroke=\"none\" points=\"-4,4 -4,-117 274,-117 274,4 -4,4\"/>\n",
       "<!-- I0 -->\n",
       "<g id=\"node1\" class=\"node\"><title>I0</title>\n",
       "<ellipse fill=\"black\" stroke=\"black\" cx=\"0\" cy=\"-62\" rx=\"0\" ry=\"0\"/>\n",
       "</g>\n",
       "<!-- 0 -->\n",
       "<g id=\"node4\" class=\"node\"><title>0</title>\n",
       "<path fill=\"#98f5ff\" stroke=\"black\" d=\"M61,-80C61,-80 49,-80 49,-80 43,-80 37,-74 37,-68 37,-68 37,-56 37,-56 37,-50 43,-44 49,-44 49,-44 61,-44 61,-44 67,-44 73,-50 73,-56 73,-56 73,-68 73,-68 73,-74 67,-80 61,-80\"/>\n",
       "<text text-anchor=\"middle\" x=\"55\" y=\"-58.3\" font-family=\"Times,serif\" font-size=\"14.00\">0</text>\n",
       "</g>\n",
       "<!-- I0&#45;&gt;0 -->\n",
       "<g id=\"edge1\" class=\"edge\"><title>I0&#45;&gt;0</title>\n",
       "<path fill=\"none\" stroke=\"black\" d=\"M1.152,-62C2.7948,-62 17.459,-62 30.924,-62\"/>\n",
       "<polygon fill=\"black\" stroke=\"black\" points=\"36.975,-62 30.975,-64.7001 33.975,-62 30.975,-62.0001 30.975,-62.0001 30.975,-62.0001 33.975,-62 30.975,-59.3001 36.975,-62 36.975,-62\"/>\n",
       "</g>\n",
       "<!-- F1 -->\n",
       "<g id=\"node2\" class=\"node\"><title>F1</title>\n",
       "<ellipse fill=\"black\" stroke=\"black\" cx=\"215\" cy=\"-87\" rx=\"0\" ry=\"0\"/>\n",
       "</g>\n",
       "<!-- F2 -->\n",
       "<g id=\"node3\" class=\"node\"><title>F2</title>\n",
       "<ellipse fill=\"black\" stroke=\"black\" cx=\"270\" cy=\"-18\" rx=\"0\" ry=\"0\"/>\n",
       "</g>\n",
       "<!-- 1 -->\n",
       "<g id=\"node5\" class=\"node\"><title>1</title>\n",
       "<path fill=\"#98f5ff\" stroke=\"black\" d=\"M142,-80C142,-80 128,-80 128,-80 122,-80 116,-74 116,-68 116,-68 116,-56 116,-56 116,-50 122,-44 128,-44 128,-44 142,-44 142,-44 148,-44 154,-50 154,-56 154,-56 154,-68 154,-68 154,-74 148,-80 142,-80\"/>\n",
       "<text text-anchor=\"middle\" x=\"135\" y=\"-58.3\" font-family=\"Times,serif\" font-size=\"14.00\">1, 2</text>\n",
       "</g>\n",
       "<!-- 0&#45;&gt;1 -->\n",
       "<g id=\"edge2\" class=\"edge\"><title>0&#45;&gt;1</title>\n",
       "<path fill=\"none\" stroke=\"black\" d=\"M73.311,-62C83.99,-62 97.85,-62 109.63,-62\"/>\n",
       "<polygon fill=\"black\" stroke=\"black\" points=\"115.92,-62 109.92,-64.7001 112.92,-62 109.92,-62.0001 109.92,-62.0001 109.92,-62.0001 112.92,-62 109.92,-59.3001 115.92,-62 115.92,-62\"/>\n",
       "<text text-anchor=\"middle\" x=\"94.5\" y=\"-65.8\" font-family=\"Times,serif\" font-size=\"14.00\">a</text>\n",
       "</g>\n",
       "<!-- 1&#45;&gt;F1 -->\n",
       "<g id=\"edge3\" class=\"edge\"><title>1&#45;&gt;F1</title>\n",
       "<path fill=\"none\" stroke=\"black\" d=\"M154.366,-68.0518C172.106,-73.5955 197.302,-81.4693 208.822,-85.0693\"/>\n",
       "<polygon fill=\"black\" stroke=\"black\" points=\"214.893,-86.9666 208.361,-87.754 212.03,-86.0718 209.166,-85.1769 209.166,-85.1769 209.166,-85.1769 212.03,-86.0718 209.972,-82.5998 214.893,-86.9666 214.893,-86.9666\"/>\n",
       "</g>\n",
       "<!-- 1&#45;&gt;1 -->\n",
       "<g id=\"edge4\" class=\"edge\"><title>1&#45;&gt;1</title>\n",
       "<path fill=\"none\" stroke=\"black\" d=\"M127.76,-80.153C126.65,-89.539 129.06,-98 135,-98 139.55,-98 142.03,-93.04 142.44,-86.503\"/>\n",
       "<polygon fill=\"black\" stroke=\"black\" points=\"142.24,-80.153 145.128,-86.065 142.334,-83.1515 142.429,-86.15 142.429,-86.15 142.429,-86.15 142.334,-83.1515 139.73,-86.2351 142.24,-80.153 142.24,-80.153\"/>\n",
       "<text text-anchor=\"middle\" x=\"135\" y=\"-101.8\" font-family=\"Times,serif\" font-size=\"14.00\">b</text>\n",
       "</g>\n",
       "<!-- 2 -->\n",
       "<g id=\"node6\" class=\"node\"><title>2</title>\n",
       "<path fill=\"#98f5ff\" stroke=\"black\" d=\"M221,-36C221,-36 209,-36 209,-36 203,-36 197,-30 197,-24 197,-24 197,-12 197,-12 197,-6 203,-0 209,-0 209,-0 221,-0 221,-0 227,-0 233,-6 233,-12 233,-12 233,-24 233,-24 233,-30 227,-36 221,-36\"/>\n",
       "<text text-anchor=\"middle\" x=\"215\" y=\"-14.3\" font-family=\"Times,serif\" font-size=\"14.00\">3</text>\n",
       "</g>\n",
       "<!-- 1&#45;&gt;2 -->\n",
       "<g id=\"edge5\" class=\"edge\"><title>1&#45;&gt;2</title>\n",
       "<path fill=\"none\" stroke=\"black\" d=\"M154.09,-51.795C165.25,-45.499 179.66,-37.372 191.55,-30.666\"/>\n",
       "<polygon fill=\"black\" stroke=\"black\" points=\"196.81,-27.697 192.912,-32.9976 194.197,-29.1717 191.585,-30.6463 191.585,-30.6463 191.585,-30.6463 194.197,-29.1717 190.258,-28.2951 196.81,-27.697 196.81,-27.697\"/>\n",
       "<text text-anchor=\"middle\" x=\"175.5\" y=\"-44.8\" font-family=\"Times,serif\" font-size=\"14.00\">a</text>\n",
       "</g>\n",
       "<!-- 2&#45;&gt;F2 -->\n",
       "<g id=\"edge6\" class=\"edge\"><title>2&#45;&gt;F2</title>\n",
       "<path fill=\"none\" stroke=\"black\" d=\"M233.009,-18C243.571,-18 256.261,-18 263.698,-18\"/>\n",
       "<polygon fill=\"black\" stroke=\"black\" points=\"269.939,-18 263.939,-20.7001 266.939,-18 263.939,-18.0001 263.939,-18.0001 263.939,-18.0001 266.939,-18 263.939,-15.3001 269.939,-18 269.939,-18\"/>\n",
       "</g>\n",
       "<!-- 2&#45;&gt;2 -->\n",
       "<g id=\"edge7\" class=\"edge\"><title>2&#45;&gt;2</title>\n",
       "<path fill=\"none\" stroke=\"black\" d=\"M208.49,-36.153C207.49,-45.539 209.66,-54 215,-54 219.09,-54 221.32,-49.04 221.69,-42.503\"/>\n",
       "<polygon fill=\"black\" stroke=\"black\" points=\"221.51,-36.153 224.379,-42.074 221.595,-39.1518 221.68,-42.1506 221.68,-42.1506 221.68,-42.1506 221.595,-39.1518 218.981,-42.2271 221.51,-36.153 221.51,-36.153\"/>\n",
       "<text text-anchor=\"middle\" x=\"215\" y=\"-57.8\" font-family=\"Times,serif\" font-size=\"14.00\">b</text>\n",
       "</g>\n",
       "</g>\n",
       "</svg>\n"
      ],
      "text/plain": [
       "determinized_automaton<mutable_automaton<letterset<char_letters(abc)>, b>>"
      ]
     },
     "execution_count": 11,
     "metadata": {},
     "output_type": "execute_result"
    }
   ],
   "source": [
    "a3.determinize()"
   ]
  },
  {
   "cell_type": "markdown",
   "metadata": {},
   "source": [
    "The states of this automaton are decorated with metadata: the corresponding set of states of the input automaton.  Use `strip` to remove this decoration."
   ]
  },
  {
   "cell_type": "code",
   "execution_count": 12,
   "metadata": {
    "collapsed": false
   },
   "outputs": [
    {
     "data": {
      "image/svg+xml": [
       "<?xml version=\"1.0\" encoding=\"UTF-8\" standalone=\"no\"?>\n",
       "<!DOCTYPE svg PUBLIC \"-//W3C//DTD SVG 1.1//EN\"\n",
       " \"http://www.w3.org/Graphics/SVG/1.1/DTD/svg11.dtd\">\n",
       "<!-- Generated by graphviz version 2.38.0 (20140413.2041)\n",
       " -->\n",
       "<!-- Title: %3 Pages: 1 -->\n",
       "<svg width=\"345pt\" height=\"167pt\"\n",
       " viewBox=\"0.00 0.00 345.00 167.00\" xmlns=\"http://www.w3.org/2000/svg\" xmlns:xlink=\"http://www.w3.org/1999/xlink\">\n",
       "<g id=\"graph0\" class=\"graph\" transform=\"scale(1 1) rotate(0) translate(4 163)\">\n",
       "<title>%3</title>\n",
       "<polygon fill=\"white\" stroke=\"none\" points=\"-4,4 -4,-163 341,-163 341,4 -4,4\"/>\n",
       "<!-- I0 -->\n",
       "<g id=\"node1\" class=\"node\"><title>I0</title>\n",
       "<ellipse fill=\"black\" stroke=\"black\" cx=\"0\" cy=\"-18\" rx=\"0\" ry=\"0\"/>\n",
       "</g>\n",
       "<!-- 0 -->\n",
       "<g id=\"node4\" class=\"node\"><title>0</title>\n",
       "<ellipse fill=\"#98f5ff\" stroke=\"black\" cx=\"55\" cy=\"-18\" rx=\"18\" ry=\"18\"/>\n",
       "<text text-anchor=\"middle\" x=\"55\" y=\"-14.3\" font-family=\"Times,serif\" font-size=\"14.00\">0</text>\n",
       "</g>\n",
       "<!-- I0&#45;&gt;0 -->\n",
       "<g id=\"edge1\" class=\"edge\"><title>I0&#45;&gt;0</title>\n",
       "<path fill=\"none\" stroke=\"black\" d=\"M1.152,-18C2.7948,-18 17.459,-18 30.924,-18\"/>\n",
       "<polygon fill=\"black\" stroke=\"black\" points=\"36.975,-18 30.975,-20.7001 33.975,-18 30.975,-18.0001 30.975,-18.0001 30.975,-18.0001 33.975,-18 30.975,-15.3001 36.975,-18 36.975,-18\"/>\n",
       "</g>\n",
       "<!-- F1 -->\n",
       "<g id=\"node2\" class=\"node\"><title>F1</title>\n",
       "<ellipse fill=\"black\" stroke=\"black\" cx=\"227\" cy=\"-159\" rx=\"0\" ry=\"0\"/>\n",
       "</g>\n",
       "<!-- F2 -->\n",
       "<g id=\"node3\" class=\"node\"><title>F2</title>\n",
       "<ellipse fill=\"black\" stroke=\"black\" cx=\"319\" cy=\"-106\" rx=\"0\" ry=\"0\"/>\n",
       "</g>\n",
       "<!-- 1 -->\n",
       "<g id=\"node5\" class=\"node\"><title>1</title>\n",
       "<ellipse fill=\"#98f5ff\" stroke=\"black\" cx=\"134\" cy=\"-60\" rx=\"18\" ry=\"18\"/>\n",
       "<text text-anchor=\"middle\" x=\"134\" y=\"-56.3\" font-family=\"Times,serif\" font-size=\"14.00\">1</text>\n",
       "</g>\n",
       "<!-- 0&#45;&gt;1 -->\n",
       "<g id=\"edge2\" class=\"edge\"><title>0&#45;&gt;1</title>\n",
       "<path fill=\"none\" stroke=\"black\" d=\"M71.213,-26.298C83.024,-32.741 99.521,-41.738 112.5,-48.817\"/>\n",
       "<polygon fill=\"black\" stroke=\"black\" points=\"117.82,-51.719 111.26,-51.216 115.186,-50.2823 112.553,-48.8457 112.553,-48.8457 112.553,-48.8457 115.186,-50.2823 113.846,-46.4754 117.82,-51.719 117.82,-51.719\"/>\n",
       "<text text-anchor=\"middle\" x=\"94.5\" y=\"-43.8\" font-family=\"Times,serif\" font-size=\"14.00\">a</text>\n",
       "</g>\n",
       "<!-- 3 -->\n",
       "<g id=\"node7\" class=\"node\"><title>3</title>\n",
       "<ellipse fill=\"lightgray\" stroke=\"black\" cx=\"319\" cy=\"-37\" rx=\"18\" ry=\"18\"/>\n",
       "<text text-anchor=\"middle\" x=\"319\" y=\"-33.3\" font-family=\"Times,serif\" font-size=\"14.00\">3</text>\n",
       "</g>\n",
       "<!-- 0&#45;&gt;3 -->\n",
       "<g id=\"edge3\" class=\"edge\"><title>0&#45;&gt;3</title>\n",
       "<path fill=\"none\" stroke=\"DimGray\" d=\"M73.191,-19.247C118.72,-22.548 242.47,-31.523 294.48,-35.294\"/>\n",
       "<polygon fill=\"DimGray\" stroke=\"DimGray\" points=\"300.75,-35.749 294.57,-38.0076 297.758,-35.5318 294.766,-35.3146 294.766,-35.3146 294.766,-35.3146 297.758,-35.5318 294.961,-32.6217 300.75,-35.749 300.75,-35.749\"/>\n",
       "<text text-anchor=\"middle\" x=\"180.5\" y=\"-30.8\" font-family=\"Times,serif\" font-size=\"14.00\">b, c</text>\n",
       "</g>\n",
       "<!-- 1&#45;&gt;F1 -->\n",
       "<g id=\"edge4\" class=\"edge\"><title>1&#45;&gt;F1</title>\n",
       "<path fill=\"none\" stroke=\"black\" d=\"M146.542,-73.3516C167.484,-95.644 208.629,-139.444 222.392,-154.095\"/>\n",
       "<polygon fill=\"black\" stroke=\"black\" points=\"226.841,-158.831 220.765,-156.307 224.787,-156.644 222.733,-154.458 222.733,-154.458 222.733,-154.458 224.787,-156.644 224.701,-152.609 226.841,-158.831 226.841,-158.831\"/>\n",
       "</g>\n",
       "<!-- 1&#45;&gt;1 -->\n",
       "<g id=\"edge5\" class=\"edge\"><title>1&#45;&gt;1</title>\n",
       "<path fill=\"none\" stroke=\"black\" d=\"M127.27,-77.037C125.89,-86.858 128.14,-96 134,-96 138.58,-96 140.95,-90.42 141.12,-83.296\"/>\n",
       "<polygon fill=\"black\" stroke=\"black\" points=\"140.73,-77.037 143.798,-82.8574 140.917,-80.0312 141.103,-83.0254 141.103,-83.0254 141.103,-83.0254 140.917,-80.0312 138.408,-83.1933 140.73,-77.037 140.73,-77.037\"/>\n",
       "<text text-anchor=\"middle\" x=\"134\" y=\"-99.8\" font-family=\"Times,serif\" font-size=\"14.00\">b</text>\n",
       "</g>\n",
       "<!-- 2 -->\n",
       "<g id=\"node6\" class=\"node\"><title>2</title>\n",
       "<ellipse fill=\"#98f5ff\" stroke=\"black\" cx=\"227\" cy=\"-90\" rx=\"18\" ry=\"18\"/>\n",
       "<text text-anchor=\"middle\" x=\"227\" y=\"-86.3\" font-family=\"Times,serif\" font-size=\"14.00\">2</text>\n",
       "</g>\n",
       "<!-- 1&#45;&gt;2 -->\n",
       "<g id=\"edge6\" class=\"edge\"><title>1&#45;&gt;2</title>\n",
       "<path fill=\"none\" stroke=\"black\" d=\"M151.27,-65.363C165.93,-70.197 187.61,-77.345 203.85,-82.698\"/>\n",
       "<polygon fill=\"black\" stroke=\"black\" points=\"209.57,-84.582 203.026,-85.2694 206.721,-83.6435 203.871,-82.7049 203.871,-82.7049 203.871,-82.7049 206.721,-83.6435 204.716,-80.1404 209.57,-84.582 209.57,-84.582\"/>\n",
       "<text text-anchor=\"middle\" x=\"180.5\" y=\"-80.8\" font-family=\"Times,serif\" font-size=\"14.00\">a</text>\n",
       "</g>\n",
       "<!-- 1&#45;&gt;3 -->\n",
       "<g id=\"edge7\" class=\"edge\"><title>1&#45;&gt;3</title>\n",
       "<path fill=\"none\" stroke=\"DimGray\" d=\"M152,-56.944C166.98,-54.325 189.39,-50.578 209,-48 238.52,-44.12 272.7,-40.872 294.8,-38.934\"/>\n",
       "<polygon fill=\"DimGray\" stroke=\"DimGray\" points=\"300.97,-38.399 295.226,-41.6073 297.981,-38.6582 294.992,-38.9174 294.992,-38.9174 294.992,-38.9174 297.981,-38.6582 294.759,-36.2275 300.97,-38.399 300.97,-38.399\"/>\n",
       "<text text-anchor=\"middle\" x=\"227\" y=\"-51.8\" font-family=\"Times,serif\" font-size=\"14.00\">c</text>\n",
       "</g>\n",
       "<!-- 2&#45;&gt;F2 -->\n",
       "<g id=\"edge8\" class=\"edge\"><title>2&#45;&gt;F2</title>\n",
       "<path fill=\"none\" stroke=\"black\" d=\"M244.739,-93.085C265.579,-96.7094 299.055,-102.531 312.802,-104.922\"/>\n",
       "<polygon fill=\"black\" stroke=\"black\" points=\"318.863,-105.976 312.489,-107.608 315.907,-105.462 312.952,-104.948 312.952,-104.948 312.952,-104.948 315.907,-105.462 313.414,-102.288 318.863,-105.976 318.863,-105.976\"/>\n",
       "</g>\n",
       "<!-- 2&#45;&gt;2 -->\n",
       "<g id=\"edge9\" class=\"edge\"><title>2&#45;&gt;2</title>\n",
       "<path fill=\"none\" stroke=\"black\" d=\"M218.98,-106.29C217.05,-116.39 219.72,-126 227,-126 232.8,-126 235.67,-119.9 235.62,-112.31\"/>\n",
       "<polygon fill=\"black\" stroke=\"black\" points=\"235.02,-106.29 238.302,-111.993 235.318,-109.275 235.615,-112.26 235.615,-112.26 235.615,-112.26 235.318,-109.275 232.928,-112.528 235.02,-106.29 235.02,-106.29\"/>\n",
       "<text text-anchor=\"middle\" x=\"227\" y=\"-129.8\" font-family=\"Times,serif\" font-size=\"14.00\">b</text>\n",
       "</g>\n",
       "<!-- 2&#45;&gt;3 -->\n",
       "<g id=\"edge10\" class=\"edge\"><title>2&#45;&gt;3</title>\n",
       "<path fill=\"none\" stroke=\"DimGray\" d=\"M242.86,-81.248C257.84,-72.425 281.07,-58.745 297.74,-48.932\"/>\n",
       "<polygon fill=\"DimGray\" stroke=\"DimGray\" points=\"303.12,-45.765 299.319,-51.1356 300.535,-47.2869 297.949,-48.8088 297.949,-48.8088 297.949,-48.8088 300.535,-47.2869 296.58,-46.482 303.12,-45.765 303.12,-45.765\"/>\n",
       "<text text-anchor=\"middle\" x=\"273\" y=\"-71.8\" font-family=\"Times,serif\" font-size=\"14.00\">a, c</text>\n",
       "</g>\n",
       "<!-- 3&#45;&gt;3 -->\n",
       "<g id=\"edge11\" class=\"edge\"><title>3&#45;&gt;3</title>\n",
       "<path fill=\"none\" stroke=\"DimGray\" d=\"M310.98,-53.29C309.05,-63.389 311.72,-73 319,-73 324.8,-73 327.67,-66.897 327.62,-59.307\"/>\n",
       "<polygon fill=\"DimGray\" stroke=\"DimGray\" points=\"327.02,-53.29 330.302,-58.9924 327.318,-56.2752 327.615,-59.2604 327.615,-59.2604 327.615,-59.2604 327.318,-56.2752 324.929,-59.5283 327.02,-53.29 327.02,-53.29\"/>\n",
       "<text text-anchor=\"middle\" x=\"319\" y=\"-76.8\" font-family=\"Times,serif\" font-size=\"14.00\">[a&#45;c]</text>\n",
       "</g>\n",
       "</g>\n",
       "</svg>\n"
      ],
      "text/plain": [
       "mutable_automaton<letterset<char_letters(abc)>, b>"
      ]
     },
     "execution_count": 12,
     "metadata": {},
     "output_type": "execute_result"
    }
   ],
   "source": [
    "a3.determinize().strip().complete()"
   ]
  },
  {
   "cell_type": "markdown",
   "metadata": {},
   "source": [
    "Note that useless states and transitions are gray."
   ]
  },
  {
   "cell_type": "markdown",
   "metadata": {},
   "source": [
    "To evaluate a word on an automaton, use `eval()`, or simpler yet: use the automaton as if it were a function:"
   ]
  },
  {
   "cell_type": "code",
   "execution_count": 13,
   "metadata": {
    "collapsed": false
   },
   "outputs": [
    {
     "data": {
      "text/latex": [
       "$\\top$"
      ],
      "text/plain": [
       "1"
      ]
     },
     "execution_count": 13,
     "metadata": {},
     "output_type": "execute_result"
    }
   ],
   "source": [
    "a3.eval(\"a\")"
   ]
  },
  {
   "cell_type": "code",
   "execution_count": 14,
   "metadata": {
    "collapsed": false
   },
   "outputs": [
    {
     "data": {
      "text/latex": [
       "$\\bot$"
      ],
      "text/plain": [
       "0"
      ]
     },
     "execution_count": 14,
     "metadata": {},
     "output_type": "execute_result"
    }
   ],
   "source": [
    "a3(\"b\")"
   ]
  },
  {
   "cell_type": "markdown",
   "metadata": {},
   "source": [
    "To see the 10 first accepted words (if there are that many), use `shortest(10)`:"
   ]
  },
  {
   "cell_type": "code",
   "execution_count": 15,
   "metadata": {
    "collapsed": false
   },
   "outputs": [
    {
     "data": {
      "text/latex": [
       "$\\mathit{a} \\oplus \\mathit{aa} \\oplus \\mathit{ab} \\oplus \\mathit{aab} \\oplus \\mathit{aba} \\oplus \\mathit{abb} \\oplus \\mathit{aabb} \\oplus \\mathit{abab} \\oplus \\mathit{abba} \\oplus \\mathit{abbb}$"
      ],
      "text/plain": [
       "a + aa + ab + aab + aba + abb + aabb + abab + abba + abbb"
      ]
     },
     "execution_count": 15,
     "metadata": {},
     "output_type": "execute_result"
    }
   ],
   "source": [
    "a3.shortest(10)"
   ]
  },
  {
   "cell_type": "markdown",
   "metadata": {},
   "source": [
    "To extract a rational expression from the automaton, use `expression()`:"
   ]
  },
  {
   "cell_type": "code",
   "execution_count": 16,
   "metadata": {
    "collapsed": false
   },
   "outputs": [
    {
     "data": {
      "text/latex": [
       "$a \\, {b}^{*} + a \\, {b}^{*} \\, a \\, {b}^{*}$"
      ],
      "text/plain": [
       "ab*+ab*ab*"
      ]
     },
     "execution_count": 16,
     "metadata": {},
     "output_type": "execute_result"
    }
   ],
   "source": [
    "a3.expression()"
   ]
  },
  {
   "cell_type": "markdown",
   "metadata": {},
   "source": [
    "Voilà!  You may now proceed to discover other features in other notebooks.  Bon voyage!"
   ]
  }
 ],
 "metadata": {
  "kernelspec": {
   "display_name": "Python 3",
   "language": "python",
   "name": "python3"
  },
  "language_info": {
   "codemirror_mode": {
    "name": "ipython",
    "version": 3
   },
   "file_extension": ".py",
   "mimetype": "text/x-python",
   "name": "python",
   "nbconvert_exporter": "python",
   "pygments_lexer": "ipython3",
   "version": "3.4.3"
  }
 },
 "nbformat": 4,
 "nbformat_minor": 0
}
