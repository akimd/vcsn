{
 "cells": [
  {
   "cell_type": "markdown",
   "metadata": {},
   "source": [
    "# Spell-checking using vcsn\n",
    "\n",
    "This notebook shows how commands from Vcsn can be used to build a spell-checker (actually a spello-fixer).\n",
    "\n",
    "We first build a minimal automaton (on $\\mathbb{N}_\\text{min}$) to represent a (finite) language.  To make it minimal, we built a codeterministic automaton, which we  determinize."
   ]
  },
  {
   "cell_type": "code",
   "execution_count": 1,
   "metadata": {
    "collapsed": true
   },
   "outputs": [],
   "source": [
    "import vcsn\n",
    "c = vcsn.context('lan_char, nmin')\n",
    "lang = c.cotrie(filename='/usr/share/dict/words', format='words').determinize().strip()"
   ]
  },
  {
   "cell_type": "markdown",
   "metadata": {},
   "source": [
    "[context.cotrie](context.cotrie.ipynb) returns an automaton on letterset (not nullableset), which is a good idea for `determinize`.  Since later we will want the labelset to be nullable, we convert `lang` to an automaton using context `c`.  The resulting automaton is quite compact: compare the number of states with the number of words and the total number of characters."
   ]
  },
  {
   "cell_type": "code",
   "execution_count": 2,
   "metadata": {
    "collapsed": false
   },
   "outputs": [
    {
     "data": {
      "text/plain": [
       "{'is codeterministic': 'N/A',\n",
       " 'is complete': 'N/A',\n",
       " 'is deterministic': 'N/A',\n",
       " 'is empty': False,\n",
       " 'is eps-acyclic': True,\n",
       " 'is normalized': False,\n",
       " 'is proper': True,\n",
       " 'is standard': True,\n",
       " 'is trim': True,\n",
       " 'is useless': False,\n",
       " 'is valid': True,\n",
       " 'number of accessible states': 131164,\n",
       " 'number of coaccessible states': 131164,\n",
       " 'number of codeterministic states': 'N/A',\n",
       " 'number of deterministic states': 'N/A',\n",
       " 'number of final states': 15679,\n",
       " 'number of initial states': 1,\n",
       " 'number of lazy states': 0,\n",
       " 'number of spontaneous transitions': 0,\n",
       " 'number of states': 131164,\n",
       " 'number of transitions': 289227,\n",
       " 'number of useful states': 131164,\n",
       " 'type': 'mutable_automaton<nullableset<letterset<char_letters(\\\\-ABCDEFGHIJKLMNOPQRSTUVWXYZabcdefghijklmnopqrstuvwxyz)>>, nmin>'}"
      ]
     },
     "execution_count": 2,
     "metadata": {},
     "output_type": "execute_result"
    }
   ],
   "source": [
    "lang = lang.automaton(c)\n",
    "lang.info()"
   ]
  },
  {
   "cell_type": "code",
   "execution_count": 3,
   "metadata": {
    "collapsed": false
   },
   "outputs": [
    {
     "name": "stdout",
     "output_type": "stream",
     "text": [
      "  235886 2493109 /usr/share/dict/words\r\n"
     ]
    }
   ],
   "source": [
    "# The number of words, and then the total number of letters.\n",
    "!wc -lc /usr/share/dict/words"
   ]
  },
  {
   "cell_type": "markdown",
   "metadata": {},
   "source": [
    "Then we turn this automaton into a partial-identity transducer, i.e., each single-tape transition ($s \\xrightarrow{\\langle n \\rangle a} s'$) is turned into a double-tape transition ($s \\xrightarrow{\\langle n \\rangle a|a} s'$).  This is because we want to compose these automata."
   ]
  },
  {
   "cell_type": "code",
   "execution_count": 4,
   "metadata": {
    "collapsed": false
   },
   "outputs": [
    {
     "data": {
      "text/plain": [
       "{'is codeterministic': 'N/A',\n",
       " 'is complete': 'N/A',\n",
       " 'is deterministic': 'N/A',\n",
       " 'is empty': False,\n",
       " 'is eps-acyclic': True,\n",
       " 'is normalized': False,\n",
       " 'is proper': True,\n",
       " 'is standard': True,\n",
       " 'is trim': True,\n",
       " 'is useless': False,\n",
       " 'is valid': True,\n",
       " 'number of accessible states': 131164,\n",
       " 'number of coaccessible states': 131164,\n",
       " 'number of codeterministic states': 'N/A',\n",
       " 'number of deterministic states': 'N/A',\n",
       " 'number of final states': 15679,\n",
       " 'number of initial states': 1,\n",
       " 'number of lazy states': 0,\n",
       " 'number of spontaneous transitions': 0,\n",
       " 'number of states': 131164,\n",
       " 'number of transitions': 289227,\n",
       " 'number of useful states': 131164,\n",
       " 'type': 'mutable_automaton<lat<nullableset<letterset<char_letters(\\\\-ABCDEFGHIJKLMNOPQRSTUVWXYZabcdefghijklmnopqrstuvwxyz)>>, nullableset<letterset<char_letters(\\\\-ABCDEFGHIJKLMNOPQRSTUVWXYZabcdefghijklmnopqrstuvwxyz)>>>, nmin>'}"
      ]
     },
     "execution_count": 4,
     "metadata": {},
     "output_type": "execute_result"
    }
   ],
   "source": [
    "lang2 = lang.partial_identity()\n",
    "lang2.info()"
   ]
  },
  {
   "cell_type": "markdown",
   "metadata": {},
   "source": [
    "Now we build the Levenhstein automaton for the same context."
   ]
  },
  {
   "cell_type": "code",
   "execution_count": 5,
   "metadata": {
    "collapsed": false
   },
   "outputs": [
    {
     "data": {
      "image/svg+xml": [
       "<?xml version=\"1.0\" encoding=\"UTF-8\" standalone=\"no\"?>\n",
       "<!DOCTYPE svg PUBLIC \"-//W3C//DTD SVG 1.1//EN\"\n",
       " \"http://www.w3.org/Graphics/SVG/1.1/DTD/svg11.dtd\">\n",
       "<!-- Generated by graphviz version 2.38.0 (20140413.2041)\n",
       " -->\n",
       "<!-- Title: %3 Pages: 1 -->\n",
       "<svg width=\"2046pt\" height=\"70pt\"\n",
       " viewBox=\"0.00 0.00 2046.00 70.00\" xmlns=\"http://www.w3.org/2000/svg\" xmlns:xlink=\"http://www.w3.org/1999/xlink\">\n",
       "<g id=\"graph0\" class=\"graph\" transform=\"scale(1 1) rotate(0) translate(4 66)\">\n",
       "<title>%3</title>\n",
       "<polygon fill=\"white\" stroke=\"none\" points=\"-4,4 -4,-66 2042,-66 2042,4 -4,4\"/>\n",
       "<!-- I0 -->\n",
       "<g id=\"node1\" class=\"node\"><title>I0</title>\n",
       "<ellipse fill=\"black\" stroke=\"black\" cx=\"950.5\" cy=\"-14.5\" rx=\"0\" ry=\"0\"/>\n",
       "</g>\n",
       "<!-- 0 -->\n",
       "<g id=\"node3\" class=\"node\"><title>0</title>\n",
       "<ellipse fill=\"#98f5ff\" stroke=\"black\" cx=\"1019\" cy=\"-14.5\" rx=\"14.5\" ry=\"14.5\"/>\n",
       "<text text-anchor=\"middle\" x=\"1019\" y=\"-11.4\" font-family=\"Times,serif\" font-size=\"12.00\">0</text>\n",
       "</g>\n",
       "<!-- I0&#45;&gt;0 -->\n",
       "<g id=\"edge1\" class=\"edge\"><title>I0&#45;&gt;0</title>\n",
       "<path fill=\"none\" stroke=\"black\" d=\"M951.55,-14.5C952.82,-14.5 979,-14.5 998.12,-14.5\"/>\n",
       "<polygon fill=\"black\" stroke=\"black\" points=\"1004.3,-14.5 998.3,-17.2001 1001.3,-14.5 998.3,-14.5001 998.3,-14.5001 998.3,-14.5001 1001.3,-14.5 998.3,-11.8001 1004.3,-14.5 1004.3,-14.5\"/>\n",
       "<text text-anchor=\"middle\" x=\"977.5\" y=\"-18.3\" font-family=\"Times,serif\" font-size=\"14.00\">⟨0⟩</text>\n",
       "</g>\n",
       "<!-- F0 -->\n",
       "<g id=\"node2\" class=\"node\"><title>F0</title>\n",
       "<ellipse fill=\"black\" stroke=\"black\" cx=\"1087.5\" cy=\"-14.5\" rx=\"0\" ry=\"0\"/>\n",
       "</g>\n",
       "<!-- 0&#45;&gt;F0 -->\n",
       "<g id=\"edge2\" class=\"edge\"><title>0&#45;&gt;F0</title>\n",
       "<path fill=\"none\" stroke=\"black\" d=\"M1033.53,-14.5C1048.29,-14.5 1070.46,-14.5 1081.21,-14.5\"/>\n",
       "<polygon fill=\"black\" stroke=\"black\" points=\"1087.4,-14.5 1081.4,-17.2001 1084.4,-14.5 1081.4,-14.5001 1081.4,-14.5001 1081.4,-14.5001 1084.4,-14.5 1081.4,-11.8001 1087.4,-14.5 1087.4,-14.5\"/>\n",
       "<text text-anchor=\"middle\" x=\"1048.37\" y=\"-18.3\" font-family=\"Times,serif\" font-size=\"14.00\">⟨0⟩</text>\n",
       "</g>\n",
       "<!-- 0&#45;&gt;0 -->\n",
       "<g id=\"edge3\" class=\"edge\"><title>0&#45;&gt;0</title>\n",
       "<path fill=\"none\" stroke=\"black\" d=\"M1012.4,-27.515C1010.1,-37.219 1012.3,-47 1019,-47 1024.2,-47 1026.7,-41.03 1026.5,-33.791\"/>\n",
       "<polygon fill=\"black\" stroke=\"black\" points=\"1025.6,-27.515 1029.12,-33.0709 1026.03,-30.4846 1026.45,-33.4542 1026.45,-33.4542 1026.45,-33.4542 1026.03,-30.4846 1023.78,-33.8375 1025.6,-27.515 1025.6,-27.515\"/>\n",
       "<text text-anchor=\"middle\" x=\"1019\" y=\"-50.8\" font-family=\"Times,serif\" font-size=\"14.00\">⟨1⟩[^\\&#45;|\\&#45;A|AB|BC|CD|DE|EF|FG|GH|HI|IJ|JK|KL|LM|MN|NO|OP|PQ|QR|RS|ST|TU|UV|VW|WX|XY|YZ|Za|ab|bc|cd|de|ef|fg|gh|hi|ij|jk|kl|lm|mn|no|op|pq|qr|rs|st|tu|uv|vw|wx|xy|yz|z], ⟨0⟩[\\&#45;|\\&#45;A|AB|BC|CD|DE|EF|FG|GH|HI|IJ|JK|KL|LM|MN|NO|OP|PQ|QR|RS|ST|TU|UV|VW|WX|XY|YZ|Za|ab|bc|cd|de|ef|fg|gh|hi|ij|jk|kl|lm|mn|no|op|pq|qr|rs|st|tu|uv|vw|wx|xy|yz|z]</text>\n",
       "</g>\n",
       "</g>\n",
       "</svg>\n"
      ],
      "text/plain": [
       "mutable_automaton<context<lat<nullableset<letterset<char_letters>>, nullableset<letterset<char_letters>>>, nmin>>"
      ]
     },
     "execution_count": 5,
     "metadata": {},
     "output_type": "execute_result"
    }
   ],
   "source": [
    "lev = lang2.context().levenshtein()\n",
    "lev"
   ]
  },
  {
   "cell_type": "markdown",
   "metadata": {},
   "source": [
    "Compose the Levenshtein automaton to the language transducer.  This results into a transducer which on the left-tape is accepting the language fuzzily, and on the second tape, features the exact words."
   ]
  },
  {
   "cell_type": "code",
   "execution_count": 6,
   "metadata": {
    "collapsed": false
   },
   "outputs": [
    {
     "data": {
      "text/plain": [
       "{'is codeterministic': 'N/A',\n",
       " 'is complete': 'N/A',\n",
       " 'is deterministic': 'N/A',\n",
       " 'is empty': False,\n",
       " 'is eps-acyclic': True,\n",
       " 'is normalized': False,\n",
       " 'is proper': True,\n",
       " 'is standard': False,\n",
       " 'is trim': True,\n",
       " 'is useless': False,\n",
       " 'is valid': True,\n",
       " 'number of accessible states': 131164,\n",
       " 'number of coaccessible states': 131164,\n",
       " 'number of codeterministic states': 'N/A',\n",
       " 'number of deterministic states': 'N/A',\n",
       " 'number of final states': 15679,\n",
       " 'number of initial states': 1,\n",
       " 'number of lazy states': 0,\n",
       " 'number of spontaneous transitions': 0,\n",
       " 'number of states': 131164,\n",
       " 'number of transitions': 22569950,\n",
       " 'number of useful states': 131164,\n",
       " 'type': 'mutable_automaton<lat<nullableset<letterset<char_letters(\\\\-ABCDEFGHIJKLMNOPQRSTUVWXYZabcdefghijklmnopqrstuvwxyz)>>, nullableset<letterset<char_letters(\\\\-ABCDEFGHIJKLMNOPQRSTUVWXYZabcdefghijklmnopqrstuvwxyz)>>>, nmin>'}"
      ]
     },
     "execution_count": 6,
     "metadata": {},
     "output_type": "execute_result"
    }
   ],
   "source": [
    "fixer = lev.compose(lang2).strip()\n",
    "fixer.info()"
   ]
  },
  {
   "cell_type": "markdown",
   "metadata": {},
   "source": [
    "For any candidate word, build the linear transducer that represents it."
   ]
  },
  {
   "cell_type": "code",
   "execution_count": 7,
   "metadata": {
    "collapsed": false
   },
   "outputs": [
    {
     "data": {
      "image/svg+xml": [
       "<?xml version=\"1.0\" encoding=\"UTF-8\" standalone=\"no\"?>\n",
       "<!DOCTYPE svg PUBLIC \"-//W3C//DTD SVG 1.1//EN\"\n",
       " \"http://www.w3.org/Graphics/SVG/1.1/DTD/svg11.dtd\">\n",
       "<!-- Generated by graphviz version 2.38.0 (20140413.2041)\n",
       " -->\n",
       "<!-- Title: %3 Pages: 1 -->\n",
       "<svg width=\"1134pt\" height=\"38pt\"\n",
       " viewBox=\"0.00 0.00 1134.00 37.50\" xmlns=\"http://www.w3.org/2000/svg\" xmlns:xlink=\"http://www.w3.org/1999/xlink\">\n",
       "<g id=\"graph0\" class=\"graph\" transform=\"scale(1 1) rotate(0) translate(4 33.5)\">\n",
       "<title>%3</title>\n",
       "<polygon fill=\"white\" stroke=\"none\" points=\"-4,4 -4,-33.5 1130,-33.5 1130,4 -4,4\"/>\n",
       "<!-- I0 -->\n",
       "<g id=\"node1\" class=\"node\"><title>I0</title>\n",
       "<ellipse fill=\"black\" stroke=\"black\" cx=\"0\" cy=\"-14.5\" rx=\"0\" ry=\"0\"/>\n",
       "</g>\n",
       "<!-- 0 -->\n",
       "<g id=\"node3\" class=\"node\"><title>0</title>\n",
       "<ellipse fill=\"#98f5ff\" stroke=\"black\" cx=\"68.5\" cy=\"-14.5\" rx=\"14.5\" ry=\"14.5\"/>\n",
       "<text text-anchor=\"middle\" x=\"68.5\" y=\"-11.4\" font-family=\"Times,serif\" font-size=\"12.00\">0</text>\n",
       "</g>\n",
       "<!-- I0&#45;&gt;0 -->\n",
       "<g id=\"edge1\" class=\"edge\"><title>I0&#45;&gt;0</title>\n",
       "<path fill=\"none\" stroke=\"black\" d=\"M1.0482,-14.5C2.3203,-14.5 28.504,-14.5 47.617,-14.5\"/>\n",
       "<polygon fill=\"black\" stroke=\"black\" points=\"53.782,-14.5 47.782,-17.2001 50.782,-14.5 47.782,-14.5001 47.782,-14.5001 47.782,-14.5001 50.782,-14.5 47.782,-11.8001 53.782,-14.5 53.782,-14.5\"/>\n",
       "<text text-anchor=\"middle\" x=\"27\" y=\"-18.3\" font-family=\"Times,serif\" font-size=\"14.00\">⟨0⟩</text>\n",
       "</g>\n",
       "<!-- F10 -->\n",
       "<g id=\"node2\" class=\"node\"><title>F10</title>\n",
       "<ellipse fill=\"black\" stroke=\"black\" cx=\"1126\" cy=\"-14.5\" rx=\"0\" ry=\"0\"/>\n",
       "</g>\n",
       "<!-- 1 -->\n",
       "<g id=\"node4\" class=\"node\"><title>1</title>\n",
       "<ellipse fill=\"#98f5ff\" stroke=\"black\" cx=\"166.5\" cy=\"-14.5\" rx=\"14.5\" ry=\"14.5\"/>\n",
       "<text text-anchor=\"middle\" x=\"166.5\" y=\"-11.4\" font-family=\"Times,serif\" font-size=\"12.00\">1</text>\n",
       "</g>\n",
       "<!-- 0&#45;&gt;1 -->\n",
       "<g id=\"edge2\" class=\"edge\"><title>0&#45;&gt;1</title>\n",
       "<path fill=\"none\" stroke=\"black\" d=\"M83.254,-14.5C99.508,-14.5 126.69,-14.5 145.33,-14.5\"/>\n",
       "<polygon fill=\"black\" stroke=\"black\" points=\"151.77,-14.5 145.77,-17.2001 148.77,-14.5 145.77,-14.5001 145.77,-14.5001 145.77,-14.5001 148.77,-14.5 145.77,-11.8001 151.77,-14.5 151.77,-14.5\"/>\n",
       "<text text-anchor=\"middle\" x=\"117.5\" y=\"-18.3\" font-family=\"Times,serif\" font-size=\"14.00\">⟨0⟩a|a</text>\n",
       "</g>\n",
       "<!-- 2 -->\n",
       "<g id=\"node5\" class=\"node\"><title>2</title>\n",
       "<ellipse fill=\"#98f5ff\" stroke=\"black\" cx=\"266.5\" cy=\"-14.5\" rx=\"14.5\" ry=\"14.5\"/>\n",
       "<text text-anchor=\"middle\" x=\"266.5\" y=\"-11.4\" font-family=\"Times,serif\" font-size=\"12.00\">2</text>\n",
       "</g>\n",
       "<!-- 1&#45;&gt;2 -->\n",
       "<g id=\"edge3\" class=\"edge\"><title>1&#45;&gt;2</title>\n",
       "<path fill=\"none\" stroke=\"black\" d=\"M181.13,-14.5C197.95,-14.5 226.68,-14.5 245.88,-14.5\"/>\n",
       "<polygon fill=\"black\" stroke=\"black\" points=\"251.99,-14.5 245.99,-17.2001 248.99,-14.5 245.99,-14.5001 245.99,-14.5001 245.99,-14.5001 248.99,-14.5 245.99,-11.8001 251.99,-14.5 251.99,-14.5\"/>\n",
       "<text text-anchor=\"middle\" x=\"216.5\" y=\"-18.3\" font-family=\"Times,serif\" font-size=\"14.00\">⟨0⟩u|u</text>\n",
       "</g>\n",
       "<!-- 3 -->\n",
       "<g id=\"node6\" class=\"node\"><title>3</title>\n",
       "<ellipse fill=\"#98f5ff\" stroke=\"black\" cx=\"359.5\" cy=\"-14.5\" rx=\"14.5\" ry=\"14.5\"/>\n",
       "<text text-anchor=\"middle\" x=\"359.5\" y=\"-11.4\" font-family=\"Times,serif\" font-size=\"12.00\">3</text>\n",
       "</g>\n",
       "<!-- 2&#45;&gt;3 -->\n",
       "<g id=\"edge4\" class=\"edge\"><title>2&#45;&gt;3</title>\n",
       "<path fill=\"none\" stroke=\"black\" d=\"M281.32,-14.5C296.64,-14.5 321.48,-14.5 338.83,-14.5\"/>\n",
       "<polygon fill=\"black\" stroke=\"black\" points=\"344.85,-14.5 338.85,-17.2001 341.85,-14.5 338.85,-14.5001 338.85,-14.5001 338.85,-14.5001 341.85,-14.5 338.85,-11.8001 344.85,-14.5 344.85,-14.5\"/>\n",
       "<text text-anchor=\"middle\" x=\"313\" y=\"-18.3\" font-family=\"Times,serif\" font-size=\"14.00\">⟨0⟩t|t</text>\n",
       "</g>\n",
       "<!-- 4 -->\n",
       "<g id=\"node7\" class=\"node\"><title>4</title>\n",
       "<ellipse fill=\"#98f5ff\" stroke=\"black\" cx=\"459.5\" cy=\"-14.5\" rx=\"14.5\" ry=\"14.5\"/>\n",
       "<text text-anchor=\"middle\" x=\"459.5\" y=\"-11.4\" font-family=\"Times,serif\" font-size=\"12.00\">4</text>\n",
       "</g>\n",
       "<!-- 3&#45;&gt;4 -->\n",
       "<g id=\"edge5\" class=\"edge\"><title>3&#45;&gt;4</title>\n",
       "<path fill=\"none\" stroke=\"black\" d=\"M374.13,-14.5C390.95,-14.5 419.68,-14.5 438.88,-14.5\"/>\n",
       "<polygon fill=\"black\" stroke=\"black\" points=\"444.99,-14.5 438.99,-17.2001 441.99,-14.5 438.99,-14.5001 438.99,-14.5001 438.99,-14.5001 441.99,-14.5 438.99,-11.8001 444.99,-14.5 444.99,-14.5\"/>\n",
       "<text text-anchor=\"middle\" x=\"409.5\" y=\"-18.3\" font-family=\"Times,serif\" font-size=\"14.00\">⟨0⟩o|o</text>\n",
       "</g>\n",
       "<!-- 5 -->\n",
       "<g id=\"node8\" class=\"node\"><title>5</title>\n",
       "<ellipse fill=\"#98f5ff\" stroke=\"black\" cx=\"566.5\" cy=\"-14.5\" rx=\"14.5\" ry=\"14.5\"/>\n",
       "<text text-anchor=\"middle\" x=\"566.5\" y=\"-11.4\" font-family=\"Times,serif\" font-size=\"12.00\">5</text>\n",
       "</g>\n",
       "<!-- 4&#45;&gt;5 -->\n",
       "<g id=\"edge6\" class=\"edge\"><title>4&#45;&gt;5</title>\n",
       "<path fill=\"none\" stroke=\"black\" d=\"M474.23,-14.5C492.46,-14.5 524.8,-14.5 545.69,-14.5\"/>\n",
       "<polygon fill=\"black\" stroke=\"black\" points=\"551.77,-14.5 545.77,-17.2001 548.77,-14.5 545.77,-14.5001 545.77,-14.5001 545.77,-14.5001 548.77,-14.5 545.77,-11.8001 551.77,-14.5 551.77,-14.5\"/>\n",
       "<text text-anchor=\"middle\" x=\"513\" y=\"-18.3\" font-family=\"Times,serif\" font-size=\"14.00\">⟨0⟩m|m</text>\n",
       "</g>\n",
       "<!-- 6 -->\n",
       "<g id=\"node9\" class=\"node\"><title>6</title>\n",
       "<ellipse fill=\"#98f5ff\" stroke=\"black\" cx=\"664.5\" cy=\"-14.5\" rx=\"14.5\" ry=\"14.5\"/>\n",
       "<text text-anchor=\"middle\" x=\"664.5\" y=\"-11.4\" font-family=\"Times,serif\" font-size=\"12.00\">6</text>\n",
       "</g>\n",
       "<!-- 5&#45;&gt;6 -->\n",
       "<g id=\"edge7\" class=\"edge\"><title>5&#45;&gt;6</title>\n",
       "<path fill=\"none\" stroke=\"black\" d=\"M581.25,-14.5C597.51,-14.5 624.69,-14.5 643.33,-14.5\"/>\n",
       "<polygon fill=\"black\" stroke=\"black\" points=\"649.77,-14.5 643.77,-17.2001 646.77,-14.5 643.77,-14.5001 643.77,-14.5001 643.77,-14.5001 646.77,-14.5 643.77,-11.8001 649.77,-14.5 649.77,-14.5\"/>\n",
       "<text text-anchor=\"middle\" x=\"615.5\" y=\"-18.3\" font-family=\"Times,serif\" font-size=\"14.00\">⟨0⟩a|a</text>\n",
       "</g>\n",
       "<!-- 7 -->\n",
       "<g id=\"node10\" class=\"node\"><title>7</title>\n",
       "<ellipse fill=\"#98f5ff\" stroke=\"black\" cx=\"757.5\" cy=\"-14.5\" rx=\"14.5\" ry=\"14.5\"/>\n",
       "<text text-anchor=\"middle\" x=\"757.5\" y=\"-11.4\" font-family=\"Times,serif\" font-size=\"12.00\">7</text>\n",
       "</g>\n",
       "<!-- 6&#45;&gt;7 -->\n",
       "<g id=\"edge8\" class=\"edge\"><title>6&#45;&gt;7</title>\n",
       "<path fill=\"none\" stroke=\"black\" d=\"M679.32,-14.5C694.64,-14.5 719.48,-14.5 736.83,-14.5\"/>\n",
       "<polygon fill=\"black\" stroke=\"black\" points=\"742.85,-14.5 736.85,-17.2001 739.85,-14.5 736.85,-14.5001 736.85,-14.5001 736.85,-14.5001 739.85,-14.5 736.85,-11.8001 742.85,-14.5 742.85,-14.5\"/>\n",
       "<text text-anchor=\"middle\" x=\"711\" y=\"-18.3\" font-family=\"Times,serif\" font-size=\"14.00\">⟨0⟩t|t</text>\n",
       "</g>\n",
       "<!-- 8 -->\n",
       "<g id=\"node11\" class=\"node\"><title>8</title>\n",
       "<ellipse fill=\"#98f5ff\" stroke=\"black\" cx=\"857.5\" cy=\"-14.5\" rx=\"14.5\" ry=\"14.5\"/>\n",
       "<text text-anchor=\"middle\" x=\"857.5\" y=\"-11.4\" font-family=\"Times,serif\" font-size=\"12.00\">8</text>\n",
       "</g>\n",
       "<!-- 7&#45;&gt;8 -->\n",
       "<g id=\"edge9\" class=\"edge\"><title>7&#45;&gt;8</title>\n",
       "<path fill=\"none\" stroke=\"black\" d=\"M772.13,-14.5C788.95,-14.5 817.68,-14.5 836.88,-14.5\"/>\n",
       "<polygon fill=\"black\" stroke=\"black\" points=\"842.99,-14.5 836.99,-17.2001 839.99,-14.5 836.99,-14.5001 836.99,-14.5001 836.99,-14.5001 839.99,-14.5 836.99,-11.8001 842.99,-14.5 842.99,-14.5\"/>\n",
       "<text text-anchor=\"middle\" x=\"807.5\" y=\"-18.3\" font-family=\"Times,serif\" font-size=\"14.00\">⟨0⟩h|h</text>\n",
       "</g>\n",
       "<!-- 9 -->\n",
       "<g id=\"node12\" class=\"node\"><title>9</title>\n",
       "<ellipse fill=\"#98f5ff\" stroke=\"black\" cx=\"957.5\" cy=\"-14.5\" rx=\"14.5\" ry=\"14.5\"/>\n",
       "<text text-anchor=\"middle\" x=\"957.5\" y=\"-11.4\" font-family=\"Times,serif\" font-size=\"12.00\">9</text>\n",
       "</g>\n",
       "<!-- 8&#45;&gt;9 -->\n",
       "<g id=\"edge10\" class=\"edge\"><title>8&#45;&gt;9</title>\n",
       "<path fill=\"none\" stroke=\"black\" d=\"M872.13,-14.5C888.95,-14.5 917.68,-14.5 936.88,-14.5\"/>\n",
       "<polygon fill=\"black\" stroke=\"black\" points=\"942.99,-14.5 936.99,-17.2001 939.99,-14.5 936.99,-14.5001 936.99,-14.5001 936.99,-14.5001 939.99,-14.5 936.99,-11.8001 942.99,-14.5 942.99,-14.5\"/>\n",
       "<text text-anchor=\"middle\" x=\"907.5\" y=\"-18.3\" font-family=\"Times,serif\" font-size=\"14.00\">⟨0⟩o|o</text>\n",
       "</g>\n",
       "<!-- 10 -->\n",
       "<g id=\"node13\" class=\"node\"><title>10</title>\n",
       "<ellipse fill=\"#98f5ff\" stroke=\"black\" cx=\"1057.5\" cy=\"-14.5\" rx=\"14.5\" ry=\"14.5\"/>\n",
       "<text text-anchor=\"middle\" x=\"1057.5\" y=\"-11.4\" font-family=\"Times,serif\" font-size=\"12.00\">10</text>\n",
       "</g>\n",
       "<!-- 9&#45;&gt;10 -->\n",
       "<g id=\"edge11\" class=\"edge\"><title>9&#45;&gt;10</title>\n",
       "<path fill=\"none\" stroke=\"black\" d=\"M972.13,-14.5C988.95,-14.5 1017.7,-14.5 1036.9,-14.5\"/>\n",
       "<polygon fill=\"black\" stroke=\"black\" points=\"1043,-14.5 1037,-17.2001 1040,-14.5 1037,-14.5001 1037,-14.5001 1037,-14.5001 1040,-14.5 1037,-11.8001 1043,-14.5 1043,-14.5\"/>\n",
       "<text text-anchor=\"middle\" x=\"1007.5\" y=\"-18.3\" font-family=\"Times,serif\" font-size=\"14.00\">⟨0⟩n|n</text>\n",
       "</g>\n",
       "<!-- 10&#45;&gt;F10 -->\n",
       "<g id=\"edge12\" class=\"edge\"><title>10&#45;&gt;F10</title>\n",
       "<path fill=\"none\" stroke=\"black\" d=\"M1072.03,-14.5C1086.79,-14.5 1108.96,-14.5 1119.71,-14.5\"/>\n",
       "<polygon fill=\"black\" stroke=\"black\" points=\"1125.9,-14.5 1119.9,-17.2001 1122.9,-14.5 1119.9,-14.5001 1119.9,-14.5001 1119.9,-14.5001 1122.9,-14.5 1119.9,-11.8001 1125.9,-14.5 1125.9,-14.5\"/>\n",
       "<text text-anchor=\"middle\" x=\"1086.87\" y=\"-18.3\" font-family=\"Times,serif\" font-size=\"14.00\">⟨0⟩</text>\n",
       "</g>\n",
       "</g>\n",
       "</svg>\n"
      ],
      "text/plain": [
       "mutable_automaton<context<lat<nullableset<letterset<char_letters>>, nullableset<letterset<char_letters>>>, nmin>>"
      ]
     },
     "execution_count": 7,
     "metadata": {},
     "output_type": "execute_result"
    }
   ],
   "source": [
    "w = c.expression('automathon').automaton().partial_identity()\n",
    "w"
   ]
  },
  {
   "cell_type": "markdown",
   "metadata": {},
   "source": [
    "Now compose the word and the `fixer` to get a computation of the Levenstheim distance of `w` to any word on the language."
   ]
  },
  {
   "cell_type": "code",
   "execution_count": 8,
   "metadata": {
    "collapsed": false
   },
   "outputs": [
    {
     "data": {
      "text/plain": [
       "{'is codeterministic': 'N/A',\n",
       " 'is complete': 'N/A',\n",
       " 'is deterministic': 'N/A',\n",
       " 'is empty': False,\n",
       " 'is eps-acyclic': True,\n",
       " 'is normalized': False,\n",
       " 'is proper': True,\n",
       " 'is standard': True,\n",
       " 'is trim': True,\n",
       " 'is useless': False,\n",
       " 'is valid': True,\n",
       " 'number of accessible states': 2754434,\n",
       " 'number of coaccessible states': 2754434,\n",
       " 'number of codeterministic states': 'N/A',\n",
       " 'number of deterministic states': 'N/A',\n",
       " 'number of final states': 31358,\n",
       " 'number of initial states': 1,\n",
       " 'number of lazy states': 0,\n",
       " 'number of spontaneous transitions': 0,\n",
       " 'number of states': 2754434,\n",
       " 'number of transitions': 14060199,\n",
       " 'number of useful states': 2754434,\n",
       " 'type': 'tuple_automaton<mutable_automaton<lat<nullableset<letterset<char_letters(\\\\-ABCDEFGHIJKLMNOPQRSTUVWXYZabcdefghijklmnopqrstuvwxyz)>>, nullableset<letterset<char_letters(\\\\-ABCDEFGHIJKLMNOPQRSTUVWXYZabcdefghijklmnopqrstuvwxyz)>>>, nmin>, focus_automaton<1, mutable_automaton<lat<nullableset<letterset<char_letters(\\\\-ABCDEFGHIJKLMNOPQRSTUVWXYZabcdefghijklmnopqrstuvwxyz)>>, nullableset<letterset<char_letters(\\\\-ABCDEFGHIJKLMNOPQRSTUVWXYZabcdefghijklmnopqrstuvwxyz)>>>, nmin>>, insplit_automaton<focus_automaton<0, mutable_automaton<lat<nullableset<letterset<char_letters(\\\\-ABCDEFGHIJKLMNOPQRSTUVWXYZabcdefghijklmnopqrstuvwxyz)>>, nullableset<letterset<char_letters(\\\\-ABCDEFGHIJKLMNOPQRSTUVWXYZabcdefghijklmnopqrstuvwxyz)>>>, nmin>>>>'}"
      ]
     },
     "execution_count": 8,
     "metadata": {},
     "output_type": "execute_result"
    }
   ],
   "source": [
    "fix = w.compose(fixer)\n",
    "fix.info()"
   ]
  },
  {
   "cell_type": "markdown",
   "metadata": {},
   "source": [
    "Display the proposed correction."
   ]
  },
  {
   "cell_type": "code",
   "execution_count": 9,
   "metadata": {
    "collapsed": false
   },
   "outputs": [
    {
     "data": {
      "text/latex": [
       "$\\left\\langle 1\\right\\rangle \\mathit{automathon}|\\mathit{automaton}$"
      ],
      "text/plain": [
       "<1>automathon|automaton"
      ]
     },
     "execution_count": 9,
     "metadata": {},
     "output_type": "execute_result"
    }
   ],
   "source": [
    "fix.lightest(1)"
   ]
  },
  {
   "cell_type": "markdown",
   "metadata": {},
   "source": [
    "Find the lightest path in this transducer: it maps our word to its closest word in the language."
   ]
  },
  {
   "cell_type": "code",
   "execution_count": 10,
   "metadata": {
    "collapsed": false
   },
   "outputs": [
    {
     "data": {
      "image/svg+xml": [
       "<?xml version=\"1.0\" encoding=\"UTF-8\" standalone=\"no\"?>\n",
       "<!DOCTYPE svg PUBLIC \"-//W3C//DTD SVG 1.1//EN\"\n",
       " \"http://www.w3.org/Graphics/SVG/1.1/DTD/svg11.dtd\">\n",
       "<!-- Generated by graphviz version 2.38.0 (20140413.2041)\n",
       " -->\n",
       "<!-- Title: %3 Pages: 1 -->\n",
       "<svg width=\"1133pt\" height=\"38pt\"\n",
       " viewBox=\"0.00 0.00 1133.00 37.50\" xmlns=\"http://www.w3.org/2000/svg\" xmlns:xlink=\"http://www.w3.org/1999/xlink\">\n",
       "<g id=\"graph0\" class=\"graph\" transform=\"scale(1 1) rotate(0) translate(4 33.5)\">\n",
       "<title>%3</title>\n",
       "<polygon fill=\"white\" stroke=\"none\" points=\"-4,4 -4,-33.5 1129,-33.5 1129,4 -4,4\"/>\n",
       "<!-- I10 -->\n",
       "<g id=\"node1\" class=\"node\"><title>I10</title>\n",
       "<ellipse fill=\"black\" stroke=\"black\" cx=\"0\" cy=\"-14.5\" rx=\"0\" ry=\"0\"/>\n",
       "</g>\n",
       "<!-- 10 -->\n",
       "<g id=\"node13\" class=\"node\"><title>10</title>\n",
       "<ellipse fill=\"#98f5ff\" stroke=\"black\" cx=\"68.5\" cy=\"-14.5\" rx=\"14.5\" ry=\"14.5\"/>\n",
       "<text text-anchor=\"middle\" x=\"68.5\" y=\"-11.4\" font-family=\"Times,serif\" font-size=\"12.00\">10</text>\n",
       "</g>\n",
       "<!-- I10&#45;&gt;10 -->\n",
       "<g id=\"edge1\" class=\"edge\"><title>I10&#45;&gt;10</title>\n",
       "<path fill=\"none\" stroke=\"black\" d=\"M1.0482,-14.5C2.3203,-14.5 28.504,-14.5 47.617,-14.5\"/>\n",
       "<polygon fill=\"black\" stroke=\"black\" points=\"53.782,-14.5 47.782,-17.2001 50.782,-14.5 47.782,-14.5001 47.782,-14.5001 47.782,-14.5001 50.782,-14.5 47.782,-11.8001 53.782,-14.5 53.782,-14.5\"/>\n",
       "<text text-anchor=\"middle\" x=\"27\" y=\"-18.3\" font-family=\"Times,serif\" font-size=\"14.00\">⟨0⟩</text>\n",
       "</g>\n",
       "<!-- F0 -->\n",
       "<g id=\"node2\" class=\"node\"><title>F0</title>\n",
       "<ellipse fill=\"black\" stroke=\"black\" cx=\"1125\" cy=\"-14.5\" rx=\"0\" ry=\"0\"/>\n",
       "</g>\n",
       "<!-- 0 -->\n",
       "<g id=\"node3\" class=\"node\"><title>0</title>\n",
       "<ellipse fill=\"#98f5ff\" stroke=\"black\" cx=\"1056.5\" cy=\"-14.5\" rx=\"14.5\" ry=\"14.5\"/>\n",
       "<text text-anchor=\"middle\" x=\"1056.5\" y=\"-11.4\" font-family=\"Times,serif\" font-size=\"12.00\">0</text>\n",
       "</g>\n",
       "<!-- 0&#45;&gt;F0 -->\n",
       "<g id=\"edge2\" class=\"edge\"><title>0&#45;&gt;F0</title>\n",
       "<path fill=\"none\" stroke=\"black\" d=\"M1071.03,-14.5C1085.79,-14.5 1107.96,-14.5 1118.71,-14.5\"/>\n",
       "<polygon fill=\"black\" stroke=\"black\" points=\"1124.9,-14.5 1118.9,-17.2001 1121.9,-14.5 1118.9,-14.5001 1118.9,-14.5001 1118.9,-14.5001 1121.9,-14.5 1118.9,-11.8001 1124.9,-14.5 1124.9,-14.5\"/>\n",
       "<text text-anchor=\"middle\" x=\"1085.87\" y=\"-18.3\" font-family=\"Times,serif\" font-size=\"14.00\">⟨0⟩</text>\n",
       "</g>\n",
       "<!-- 1 -->\n",
       "<g id=\"node4\" class=\"node\"><title>1</title>\n",
       "<ellipse fill=\"#98f5ff\" stroke=\"black\" cx=\"956.5\" cy=\"-14.5\" rx=\"14.5\" ry=\"14.5\"/>\n",
       "<text text-anchor=\"middle\" x=\"956.5\" y=\"-11.4\" font-family=\"Times,serif\" font-size=\"12.00\">1</text>\n",
       "</g>\n",
       "<!-- 1&#45;&gt;0 -->\n",
       "<g id=\"edge3\" class=\"edge\"><title>1&#45;&gt;0</title>\n",
       "<path fill=\"none\" stroke=\"black\" d=\"M971.13,-14.5C987.95,-14.5 1016.7,-14.5 1035.9,-14.5\"/>\n",
       "<polygon fill=\"black\" stroke=\"black\" points=\"1042,-14.5 1036,-17.2001 1039,-14.5 1036,-14.5001 1036,-14.5001 1036,-14.5001 1039,-14.5 1036,-11.8001 1042,-14.5 1042,-14.5\"/>\n",
       "<text text-anchor=\"middle\" x=\"1006.5\" y=\"-18.3\" font-family=\"Times,serif\" font-size=\"14.00\">⟨0⟩n|n</text>\n",
       "</g>\n",
       "<!-- 2 -->\n",
       "<g id=\"node5\" class=\"node\"><title>2</title>\n",
       "<ellipse fill=\"#98f5ff\" stroke=\"black\" cx=\"856.5\" cy=\"-14.5\" rx=\"14.5\" ry=\"14.5\"/>\n",
       "<text text-anchor=\"middle\" x=\"856.5\" y=\"-11.4\" font-family=\"Times,serif\" font-size=\"12.00\">2</text>\n",
       "</g>\n",
       "<!-- 2&#45;&gt;1 -->\n",
       "<g id=\"edge4\" class=\"edge\"><title>2&#45;&gt;1</title>\n",
       "<path fill=\"none\" stroke=\"black\" d=\"M871.13,-14.5C887.95,-14.5 916.68,-14.5 935.88,-14.5\"/>\n",
       "<polygon fill=\"black\" stroke=\"black\" points=\"941.99,-14.5 935.99,-17.2001 938.99,-14.5 935.99,-14.5001 935.99,-14.5001 935.99,-14.5001 938.99,-14.5 935.99,-11.8001 941.99,-14.5 941.99,-14.5\"/>\n",
       "<text text-anchor=\"middle\" x=\"906.5\" y=\"-18.3\" font-family=\"Times,serif\" font-size=\"14.00\">⟨0⟩o|o</text>\n",
       "</g>\n",
       "<!-- 3 -->\n",
       "<g id=\"node6\" class=\"node\"><title>3</title>\n",
       "<ellipse fill=\"#98f5ff\" stroke=\"black\" cx=\"757.5\" cy=\"-14.5\" rx=\"14.5\" ry=\"14.5\"/>\n",
       "<text text-anchor=\"middle\" x=\"757.5\" y=\"-11.4\" font-family=\"Times,serif\" font-size=\"12.00\">3</text>\n",
       "</g>\n",
       "<!-- 3&#45;&gt;2 -->\n",
       "<g id=\"edge5\" class=\"edge\"><title>3&#45;&gt;2</title>\n",
       "<path fill=\"none\" stroke=\"black\" d=\"M772.4,-14.5C789.06,-14.5 817.09,-14.5 835.93,-14.5\"/>\n",
       "<polygon fill=\"black\" stroke=\"black\" points=\"841.94,-14.5 835.94,-17.2001 838.94,-14.5 835.94,-14.5001 835.94,-14.5001 835.94,-14.5001 838.94,-14.5 835.94,-11.8001 841.94,-14.5 841.94,-14.5\"/>\n",
       "<text text-anchor=\"middle\" x=\"807\" y=\"-18.3\" font-family=\"Times,serif\" font-size=\"14.00\">⟨1⟩h|ε</text>\n",
       "</g>\n",
       "<!-- 4 -->\n",
       "<g id=\"node7\" class=\"node\"><title>4</title>\n",
       "<ellipse fill=\"#98f5ff\" stroke=\"black\" cx=\"664.5\" cy=\"-14.5\" rx=\"14.5\" ry=\"14.5\"/>\n",
       "<text text-anchor=\"middle\" x=\"664.5\" y=\"-11.4\" font-family=\"Times,serif\" font-size=\"12.00\">4</text>\n",
       "</g>\n",
       "<!-- 4&#45;&gt;3 -->\n",
       "<g id=\"edge6\" class=\"edge\"><title>4&#45;&gt;3</title>\n",
       "<path fill=\"none\" stroke=\"black\" d=\"M679.32,-14.5C694.64,-14.5 719.48,-14.5 736.83,-14.5\"/>\n",
       "<polygon fill=\"black\" stroke=\"black\" points=\"742.85,-14.5 736.85,-17.2001 739.85,-14.5 736.85,-14.5001 736.85,-14.5001 736.85,-14.5001 739.85,-14.5 736.85,-11.8001 742.85,-14.5 742.85,-14.5\"/>\n",
       "<text text-anchor=\"middle\" x=\"711\" y=\"-18.3\" font-family=\"Times,serif\" font-size=\"14.00\">⟨0⟩t|t</text>\n",
       "</g>\n",
       "<!-- 5 -->\n",
       "<g id=\"node8\" class=\"node\"><title>5</title>\n",
       "<ellipse fill=\"#98f5ff\" stroke=\"black\" cx=\"566.5\" cy=\"-14.5\" rx=\"14.5\" ry=\"14.5\"/>\n",
       "<text text-anchor=\"middle\" x=\"566.5\" y=\"-11.4\" font-family=\"Times,serif\" font-size=\"12.00\">5</text>\n",
       "</g>\n",
       "<!-- 5&#45;&gt;4 -->\n",
       "<g id=\"edge7\" class=\"edge\"><title>5&#45;&gt;4</title>\n",
       "<path fill=\"none\" stroke=\"black\" d=\"M581.25,-14.5C597.51,-14.5 624.69,-14.5 643.33,-14.5\"/>\n",
       "<polygon fill=\"black\" stroke=\"black\" points=\"649.77,-14.5 643.77,-17.2001 646.77,-14.5 643.77,-14.5001 643.77,-14.5001 643.77,-14.5001 646.77,-14.5 643.77,-11.8001 649.77,-14.5 649.77,-14.5\"/>\n",
       "<text text-anchor=\"middle\" x=\"615.5\" y=\"-18.3\" font-family=\"Times,serif\" font-size=\"14.00\">⟨0⟩a|a</text>\n",
       "</g>\n",
       "<!-- 6 -->\n",
       "<g id=\"node9\" class=\"node\"><title>6</title>\n",
       "<ellipse fill=\"#98f5ff\" stroke=\"black\" cx=\"459.5\" cy=\"-14.5\" rx=\"14.5\" ry=\"14.5\"/>\n",
       "<text text-anchor=\"middle\" x=\"459.5\" y=\"-11.4\" font-family=\"Times,serif\" font-size=\"12.00\">6</text>\n",
       "</g>\n",
       "<!-- 6&#45;&gt;5 -->\n",
       "<g id=\"edge8\" class=\"edge\"><title>6&#45;&gt;5</title>\n",
       "<path fill=\"none\" stroke=\"black\" d=\"M474.23,-14.5C492.46,-14.5 524.8,-14.5 545.69,-14.5\"/>\n",
       "<polygon fill=\"black\" stroke=\"black\" points=\"551.77,-14.5 545.77,-17.2001 548.77,-14.5 545.77,-14.5001 545.77,-14.5001 545.77,-14.5001 548.77,-14.5 545.77,-11.8001 551.77,-14.5 551.77,-14.5\"/>\n",
       "<text text-anchor=\"middle\" x=\"513\" y=\"-18.3\" font-family=\"Times,serif\" font-size=\"14.00\">⟨0⟩m|m</text>\n",
       "</g>\n",
       "<!-- 7 -->\n",
       "<g id=\"node10\" class=\"node\"><title>7</title>\n",
       "<ellipse fill=\"#98f5ff\" stroke=\"black\" cx=\"359.5\" cy=\"-14.5\" rx=\"14.5\" ry=\"14.5\"/>\n",
       "<text text-anchor=\"middle\" x=\"359.5\" y=\"-11.4\" font-family=\"Times,serif\" font-size=\"12.00\">7</text>\n",
       "</g>\n",
       "<!-- 7&#45;&gt;6 -->\n",
       "<g id=\"edge9\" class=\"edge\"><title>7&#45;&gt;6</title>\n",
       "<path fill=\"none\" stroke=\"black\" d=\"M374.13,-14.5C390.95,-14.5 419.68,-14.5 438.88,-14.5\"/>\n",
       "<polygon fill=\"black\" stroke=\"black\" points=\"444.99,-14.5 438.99,-17.2001 441.99,-14.5 438.99,-14.5001 438.99,-14.5001 438.99,-14.5001 441.99,-14.5 438.99,-11.8001 444.99,-14.5 444.99,-14.5\"/>\n",
       "<text text-anchor=\"middle\" x=\"409.5\" y=\"-18.3\" font-family=\"Times,serif\" font-size=\"14.00\">⟨0⟩o|o</text>\n",
       "</g>\n",
       "<!-- 8 -->\n",
       "<g id=\"node11\" class=\"node\"><title>8</title>\n",
       "<ellipse fill=\"#98f5ff\" stroke=\"black\" cx=\"266.5\" cy=\"-14.5\" rx=\"14.5\" ry=\"14.5\"/>\n",
       "<text text-anchor=\"middle\" x=\"266.5\" y=\"-11.4\" font-family=\"Times,serif\" font-size=\"12.00\">8</text>\n",
       "</g>\n",
       "<!-- 8&#45;&gt;7 -->\n",
       "<g id=\"edge10\" class=\"edge\"><title>8&#45;&gt;7</title>\n",
       "<path fill=\"none\" stroke=\"black\" d=\"M281.32,-14.5C296.64,-14.5 321.48,-14.5 338.83,-14.5\"/>\n",
       "<polygon fill=\"black\" stroke=\"black\" points=\"344.85,-14.5 338.85,-17.2001 341.85,-14.5 338.85,-14.5001 338.85,-14.5001 338.85,-14.5001 341.85,-14.5 338.85,-11.8001 344.85,-14.5 344.85,-14.5\"/>\n",
       "<text text-anchor=\"middle\" x=\"313\" y=\"-18.3\" font-family=\"Times,serif\" font-size=\"14.00\">⟨0⟩t|t</text>\n",
       "</g>\n",
       "<!-- 9 -->\n",
       "<g id=\"node12\" class=\"node\"><title>9</title>\n",
       "<ellipse fill=\"#98f5ff\" stroke=\"black\" cx=\"166.5\" cy=\"-14.5\" rx=\"14.5\" ry=\"14.5\"/>\n",
       "<text text-anchor=\"middle\" x=\"166.5\" y=\"-11.4\" font-family=\"Times,serif\" font-size=\"12.00\">9</text>\n",
       "</g>\n",
       "<!-- 9&#45;&gt;8 -->\n",
       "<g id=\"edge11\" class=\"edge\"><title>9&#45;&gt;8</title>\n",
       "<path fill=\"none\" stroke=\"black\" d=\"M181.13,-14.5C197.95,-14.5 226.68,-14.5 245.88,-14.5\"/>\n",
       "<polygon fill=\"black\" stroke=\"black\" points=\"251.99,-14.5 245.99,-17.2001 248.99,-14.5 245.99,-14.5001 245.99,-14.5001 245.99,-14.5001 248.99,-14.5 245.99,-11.8001 251.99,-14.5 251.99,-14.5\"/>\n",
       "<text text-anchor=\"middle\" x=\"216.5\" y=\"-18.3\" font-family=\"Times,serif\" font-size=\"14.00\">⟨0⟩u|u</text>\n",
       "</g>\n",
       "<!-- 10&#45;&gt;9 -->\n",
       "<g id=\"edge12\" class=\"edge\"><title>10&#45;&gt;9</title>\n",
       "<path fill=\"none\" stroke=\"black\" d=\"M83.254,-14.5C99.508,-14.5 126.69,-14.5 145.33,-14.5\"/>\n",
       "<polygon fill=\"black\" stroke=\"black\" points=\"151.77,-14.5 145.77,-17.2001 148.77,-14.5 145.77,-14.5001 145.77,-14.5001 145.77,-14.5001 148.77,-14.5 145.77,-11.8001 151.77,-14.5 151.77,-14.5\"/>\n",
       "<text text-anchor=\"middle\" x=\"117.5\" y=\"-18.3\" font-family=\"Times,serif\" font-size=\"14.00\">⟨0⟩a|a</text>\n",
       "</g>\n",
       "</g>\n",
       "</svg>\n"
      ],
      "text/plain": [
       "mutable_automaton<context<lat<nullableset<letterset<char_letters>>, nullableset<letterset<char_letters>>>, nmin>>"
      ]
     },
     "execution_count": 10,
     "metadata": {},
     "output_type": "execute_result"
    }
   ],
   "source": [
    "fix.lightest_automaton()"
   ]
  },
  {
   "cell_type": "markdown",
   "metadata": {},
   "source": [
    "We can ask for several proposals of close words."
   ]
  },
  {
   "cell_type": "code",
   "execution_count": 11,
   "metadata": {
    "collapsed": false
   },
   "outputs": [
    {
     "data": {
      "text/latex": [
       "$\\left\\langle 3\\right\\rangle \\mathit{automat} \\oplus \\left\\langle 3\\right\\rangle \\mathit{autobahn} \\oplus \\left\\langle 3\\right\\rangle \\mathit{automata} \\oplus \\left\\langle 3\\right\\rangle \\mathit{autophon} \\oplus \\left\\langle 3\\right\\rangle \\mathit{automatic} \\oplus \\left\\langle 2\\right\\rangle \\mathit{automatin} \\oplus \\left\\langle 1\\right\\rangle \\mathit{automaton} \\oplus \\left\\langle 3\\right\\rangle \\mathit{automelon} \\oplus \\left\\langle 3\\right\\rangle \\mathit{automotor} \\oplus \\left\\langle 2\\right\\rangle \\mathit{autochthon}$"
      ],
      "text/plain": [
       "<3>automat + <3>autobahn + <3>automata + <3>autophon + <3>automatic + <2>automatin + <1>automaton + <3>automelon + <3>automotor + <2>autochthon"
      ]
     },
     "execution_count": 11,
     "metadata": {},
     "output_type": "execute_result"
    }
   ],
   "source": [
    "fix.lightest(10).project(1)"
   ]
  }
 ],
 "metadata": {
  "kernelspec": {
   "display_name": "Python 3",
   "language": "python",
   "name": "python3"
  },
  "language_info": {
   "codemirror_mode": {
    "name": "ipython",
    "version": 3
   },
   "file_extension": ".py",
   "mimetype": "text/x-python",
   "name": "python",
   "nbconvert_exporter": "python",
   "pygments_lexer": "ipython3",
   "version": "3.5.2"
  }
 },
 "nbformat": 4,
 "nbformat_minor": 0
}
