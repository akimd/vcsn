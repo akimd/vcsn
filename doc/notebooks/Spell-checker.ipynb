{
 "cells": [
  {
   "cell_type": "markdown",
   "metadata": {},
   "source": [
    "# Spell-checking using vcsn\n",
    "\n",
    "This notebook shows how commands from Vcsn can be used to build a spell-checker (actually a spello-fixer).\n",
    "\n",
    "We first build a minimal automaton (on $\\mathbb{N}_\\text{min}$) to represent a (finite) language.  To make it minimal, we built a codeterministic automaton, which we  determinize."
   ]
  },
  {
   "cell_type": "code",
   "execution_count": 1,
   "metadata": {},
   "outputs": [],
   "source": [
    "import vcsn\n",
    "c = vcsn.context('lal_char, nmin')\n",
    "lang = c.cotrie(filename='/usr/share/dict/words', format='words').determinize().strip()"
   ]
  },
  {
   "cell_type": "markdown",
   "metadata": {},
   "source": [
    "[context.cotrie](context.cotrie.ipynb) returns an automaton on letterset.  The resulting automaton is quite compact: compare the number of states with the number of words and the total number of characters."
   ]
  },
  {
   "cell_type": "code",
   "execution_count": 2,
   "metadata": {},
   "outputs": [
    {
     "data": {
      "text/plain": [
       "{'is codeterministic': False,\n",
       " 'is complete': False,\n",
       " 'is deterministic': True,\n",
       " 'is empty': False,\n",
       " 'is eps-acyclic': True,\n",
       " 'is free': True,\n",
       " 'is normalized': False,\n",
       " 'is proper': True,\n",
       " 'is standard': True,\n",
       " 'is trim': True,\n",
       " 'is useless': False,\n",
       " 'is valid': True,\n",
       " 'number of accessible states': 131164,\n",
       " 'number of coaccessible states': 131164,\n",
       " 'number of codeterministic states': 118088,\n",
       " 'number of deterministic states': 131164,\n",
       " 'number of final states': 15679,\n",
       " 'number of initial states': 1,\n",
       " 'number of lazy states': 0,\n",
       " 'number of spontaneous transitions': 0,\n",
       " 'number of states': 131164,\n",
       " 'number of transitions': 289227,\n",
       " 'number of useful states': 131164,\n",
       " 'type': 'mutable_automaton<letterset<char_letters(\\\\-ABCDEFGHIJKLMNOPQRSTUVWXYZabcdefghijklmnopqrstuvwxyz)>, nmin>'}"
      ]
     },
     "execution_count": 2,
     "metadata": {},
     "output_type": "execute_result"
    }
   ],
   "source": [
    "lang.info()"
   ]
  },
  {
   "cell_type": "code",
   "execution_count": 3,
   "metadata": {},
   "outputs": [
    {
     "name": "stdout",
     "output_type": "stream",
     "text": [
      "  235886 2493109 /usr/share/dict/words\r\n"
     ]
    }
   ],
   "source": [
    "# The number of words, and then the total number of letters.\n",
    "!wc -lc /usr/share/dict/words"
   ]
  },
  {
   "cell_type": "markdown",
   "metadata": {},
   "source": [
    "Then we turn this automaton into a partial-identity transducer, i.e., each single-tape transition ($s \\xrightarrow{\\langle n \\rangle a} s'$) is turned into a double-tape transition ($s \\xrightarrow{\\langle n \\rangle a|a} s'$).  This is because we want to compose these automata."
   ]
  },
  {
   "cell_type": "code",
   "execution_count": 4,
   "metadata": {},
   "outputs": [
    {
     "data": {
      "text/plain": [
       "{'is codeterministic': False,\n",
       " 'is complete': False,\n",
       " 'is deterministic': False,\n",
       " 'is empty': False,\n",
       " 'is eps-acyclic': True,\n",
       " 'is free': True,\n",
       " 'is normalized': False,\n",
       " 'is proper': 'N/A',\n",
       " 'is standard': True,\n",
       " 'is trim': True,\n",
       " 'is useless': False,\n",
       " 'is valid': True,\n",
       " 'number of accessible states': 131164,\n",
       " 'number of coaccessible states': 131164,\n",
       " 'number of codeterministic states': 0,\n",
       " 'number of deterministic states': 0,\n",
       " 'number of final states': 15679,\n",
       " 'number of initial states': 1,\n",
       " 'number of lazy states': 0,\n",
       " 'number of spontaneous transitions': 0,\n",
       " 'number of states': 131164,\n",
       " 'number of transitions': 289227,\n",
       " 'number of useful states': 131164,\n",
       " 'type': 'mutable_automaton<lat<letterset<char_letters(\\\\-ABCDEFGHIJKLMNOPQRSTUVWXYZabcdefghijklmnopqrstuvwxyz)>, letterset<char_letters(\\\\-ABCDEFGHIJKLMNOPQRSTUVWXYZabcdefghijklmnopqrstuvwxyz)>>, nmin>'}"
      ]
     },
     "execution_count": 4,
     "metadata": {},
     "output_type": "execute_result"
    }
   ],
   "source": [
    "lang2 = lang.partial_identity()\n",
    "lang2.info()"
   ]
  },
  {
   "cell_type": "markdown",
   "metadata": {},
   "source": [
    "Now we build the [Levenhstein automaton](context.levenshtein.ipynb) for the same context (its display could definitely support some improvements 🙂)."
   ]
  },
  {
   "cell_type": "code",
   "execution_count": 5,
   "metadata": {},
   "outputs": [
    {
     "data": {
      "image/svg+xml": [
       "<?xml version=\"1.0\" encoding=\"UTF-8\" standalone=\"no\"?>\n",
       "<!DOCTYPE svg PUBLIC \"-//W3C//DTD SVG 1.1//EN\"\n",
       " \"http://www.w3.org/Graphics/SVG/1.1/DTD/svg11.dtd\">\n",
       "<!-- Generated by graphviz version 2.40.1 (20161225.0304)\n",
       " -->\n",
       "<!-- Title: %3 Pages: 1 -->\n",
       "<svg width=\"1537pt\" height=\"70pt\"\n",
       " viewBox=\"0.00 0.00 1537.00 70.00\" xmlns=\"http://www.w3.org/2000/svg\" xmlns:xlink=\"http://www.w3.org/1999/xlink\">\n",
       "<g id=\"graph0\" class=\"graph\" transform=\"scale(1 1) rotate(0) translate(4 66)\">\n",
       "<title>%3</title>\n",
       "<polygon fill=\"#ffffff\" stroke=\"transparent\" points=\"-4,4 -4,-66 1533,-66 1533,4 -4,4\"/>\n",
       "<!-- I0 -->\n",
       "<g id=\"node1\" class=\"node\">\n",
       "<title>I0</title>\n",
       "<ellipse fill=\"#000000\" stroke=\"#000000\" cx=\"701\" cy=\"-14.5\" rx=\"0\" ry=\"0\"/>\n",
       "</g>\n",
       "<!-- 0 -->\n",
       "<g id=\"node3\" class=\"node\">\n",
       "<title>0</title>\n",
       "<ellipse fill=\"#98f5ff\" stroke=\"#000000\" cx=\"764.5\" cy=\"-14.5\" rx=\"14.5\" ry=\"14.5\"/>\n",
       "<text text-anchor=\"middle\" x=\"764.5\" y=\"-11.4\" font-family=\"Times,serif\" font-size=\"12.00\" fill=\"#000000\">0</text>\n",
       "</g>\n",
       "<!-- I0&#45;&gt;0 -->\n",
       "<g id=\"edge1\" class=\"edge\">\n",
       "<title>I0&#45;&gt;0</title>\n",
       "<path fill=\"none\" stroke=\"#000000\" d=\"M701.05,-14.5C702.22,-14.5 725.48,-14.5 743.5,-14.5\"/>\n",
       "<polygon fill=\"#000000\" stroke=\"#000000\" points=\"749.86,-14.5 743.86,-17.2001 746.86,-14.5 743.86,-14.5001 743.86,-14.5001 743.86,-14.5001 746.86,-14.5 743.86,-11.8001 749.86,-14.5 749.86,-14.5\"/>\n",
       "<text text-anchor=\"middle\" x=\"725.5\" y=\"-18.3\" font-family=\"Times,serif\" font-size=\"14.00\" fill=\"#000000\">⟨0⟩</text>\n",
       "</g>\n",
       "<!-- F0 -->\n",
       "<g id=\"node2\" class=\"node\">\n",
       "<title>F0</title>\n",
       "<ellipse fill=\"#000000\" stroke=\"#000000\" cx=\"828\" cy=\"-14.5\" rx=\"0\" ry=\"0\"/>\n",
       "</g>\n",
       "<!-- 0&#45;&gt;F0 -->\n",
       "<g id=\"edge2\" class=\"edge\">\n",
       "<title>0&#45;&gt;F0</title>\n",
       "<path fill=\"none\" stroke=\"#000000\" d=\"M779.2278,-14.5C792.7151,-14.5 812.0207,-14.5 821.8057,-14.5\"/>\n",
       "<polygon fill=\"#000000\" stroke=\"#000000\" points=\"827.9133,-14.5 821.9134,-17.2001 824.9133,-14.5 821.9133,-14.5001 821.9133,-14.5001 821.9133,-14.5001 824.9133,-14.5 821.9133,-11.8001 827.9133,-14.5 827.9133,-14.5\"/>\n",
       "<text text-anchor=\"middle\" x=\"794.0167\" y=\"-18.3\" font-family=\"Times,serif\" font-size=\"14.00\" fill=\"#000000\">⟨0⟩</text>\n",
       "</g>\n",
       "<!-- 0&#45;&gt;0 -->\n",
       "<g id=\"edge3\" class=\"edge\">\n",
       "<title>0&#45;&gt;0</title>\n",
       "<path fill=\"none\" stroke=\"#000000\" d=\"M758.14,-27.854C756.07,-37.445 758.19,-47 764.5,-47 769.43,-47 771.8,-41.168 771.61,-34.043\"/>\n",
       "<polygon fill=\"#000000\" stroke=\"#000000\" points=\"770.86,-27.854 774.2623,-33.4856 771.221,-30.8322 771.5819,-33.8104 771.5819,-33.8104 771.5819,-33.8104 771.221,-30.8322 768.9015,-34.1353 770.86,-27.854 770.86,-27.854\"/>\n",
       "<text text-anchor=\"middle\" x=\"764.5\" y=\"-50.8\" font-family=\"Times,serif\" font-size=\"14.00\" fill=\"#000000\">⟨1⟩[^\\&#45;|\\&#45;A|AB|BC|CD|DE|EF|FG|GH|HI|IJ|JK|KL|LM|MN|NO|OP|PQ|QR|RS|ST|TU|UV|VW|WX|XY|YZ|Za|ab|bc|cd|de|ef|fg|gh|hi|ij|jk|kl|lm|mn|no|op|pq|qr|rs|st|tu|uv|vw|wx|xy|yz|z], ⟨0⟩[\\&#45;|\\&#45;A|AB|BC|CD|DE|EF|FG|GH|HI|IJ|JK|KL|LM|MN|NO|OP|PQ|QR|RS|ST|TU|UV|VW|WX|XY|YZ|Za|ab|bc|cd|de|ef|fg|gh|hi|ij|jk|kl|lm|mn|no|op|pq|qr|rs|st|tu|uv|vw|wx|xy|yz|z]</text>\n",
       "</g>\n",
       "</g>\n",
       "</svg>\n"
      ],
      "text/plain": [
       "mutable_automaton<context<lat<letterset<char_letters>, letterset<char_letters>>, nmin>>"
      ]
     },
     "execution_count": 5,
     "metadata": {},
     "output_type": "execute_result"
    }
   ],
   "source": [
    "lev = lang2.context().levenshtein()\n",
    "lev"
   ]
  },
  {
   "cell_type": "markdown",
   "metadata": {},
   "source": [
    "Compose the Levenshtein automaton to the language transducer.  This results into a transducer which on the left-tape is accepting the language fuzzily, and on the second tape, features the exact words."
   ]
  },
  {
   "cell_type": "code",
   "execution_count": 6,
   "metadata": {},
   "outputs": [
    {
     "data": {
      "text/plain": [
       "{'is codeterministic': False,\n",
       " 'is complete': 'N/A',\n",
       " 'is deterministic': False,\n",
       " 'is empty': False,\n",
       " 'is eps-acyclic': True,\n",
       " 'is free': False,\n",
       " 'is normalized': False,\n",
       " 'is proper': 'N/A',\n",
       " 'is standard': False,\n",
       " 'is trim': True,\n",
       " 'is useless': False,\n",
       " 'is valid': True,\n",
       " 'number of accessible states': 131164,\n",
       " 'number of coaccessible states': 131164,\n",
       " 'number of codeterministic states': 0,\n",
       " 'number of deterministic states': 0,\n",
       " 'number of final states': 15679,\n",
       " 'number of initial states': 1,\n",
       " 'number of lazy states': 0,\n",
       " 'number of spontaneous transitions': 0,\n",
       " 'number of states': 131164,\n",
       " 'number of transitions': 22569950,\n",
       " 'number of useful states': 131164,\n",
       " 'type': 'mutable_automaton<lat<letterset<char_letters(\\\\-ABCDEFGHIJKLMNOPQRSTUVWXYZabcdefghijklmnopqrstuvwxyz)>, letterset<char_letters(\\\\-ABCDEFGHIJKLMNOPQRSTUVWXYZabcdefghijklmnopqrstuvwxyz)>>, nmin>'}"
      ]
     },
     "execution_count": 6,
     "metadata": {},
     "output_type": "execute_result"
    }
   ],
   "source": [
    "fixer = lev.compose(lang2).strip()\n",
    "fixer.info()"
   ]
  },
  {
   "cell_type": "markdown",
   "metadata": {},
   "source": [
    "For any candidate word, build the linear transducer that represents it."
   ]
  },
  {
   "cell_type": "code",
   "execution_count": 7,
   "metadata": {},
   "outputs": [
    {
     "data": {
      "image/svg+xml": [
       "<?xml version=\"1.0\" encoding=\"UTF-8\" standalone=\"no\"?>\n",
       "<!DOCTYPE svg PUBLIC \"-//W3C//DTD SVG 1.1//EN\"\n",
       " \"http://www.w3.org/Graphics/SVG/1.1/DTD/svg11.dtd\">\n",
       "<!-- Generated by graphviz version 2.40.1 (20161225.0304)\n",
       " -->\n",
       "<!-- Title: %3 Pages: 1 -->\n",
       "<svg width=\"1039pt\" height=\"38pt\"\n",
       " viewBox=\"0.00 0.00 1039.00 37.50\" xmlns=\"http://www.w3.org/2000/svg\" xmlns:xlink=\"http://www.w3.org/1999/xlink\">\n",
       "<g id=\"graph0\" class=\"graph\" transform=\"scale(1 1) rotate(0) translate(4 33.5)\">\n",
       "<title>%3</title>\n",
       "<polygon fill=\"#ffffff\" stroke=\"transparent\" points=\"-4,4 -4,-33.5 1035,-33.5 1035,4 -4,4\"/>\n",
       "<!-- I0 -->\n",
       "<g id=\"node1\" class=\"node\">\n",
       "<title>I0</title>\n",
       "<ellipse fill=\"#000000\" stroke=\"#000000\" cx=\"0\" cy=\"-14.5\" rx=\"0\" ry=\"0\"/>\n",
       "</g>\n",
       "<!-- 0 -->\n",
       "<g id=\"node3\" class=\"node\">\n",
       "<title>0</title>\n",
       "<ellipse fill=\"#98f5ff\" stroke=\"#000000\" cx=\"63.5\" cy=\"-14.5\" rx=\"14.5\" ry=\"14.5\"/>\n",
       "<text text-anchor=\"middle\" x=\"63.5\" y=\"-11.4\" font-family=\"Times,serif\" font-size=\"12.00\" fill=\"#000000\">0</text>\n",
       "</g>\n",
       "<!-- I0&#45;&gt;0 -->\n",
       "<g id=\"edge1\" class=\"edge\">\n",
       "<title>I0&#45;&gt;0</title>\n",
       "<path fill=\"none\" stroke=\"#000000\" d=\"M.046,-14.5C1.2167,-14.5 24.482,-14.5 42.505,-14.5\"/>\n",
       "<polygon fill=\"#000000\" stroke=\"#000000\" points=\"48.857,-14.5 42.857,-17.2001 45.857,-14.5 42.857,-14.5001 42.857,-14.5001 42.857,-14.5001 45.857,-14.5 42.857,-11.8001 48.857,-14.5 48.857,-14.5\"/>\n",
       "<text text-anchor=\"middle\" x=\"24.5\" y=\"-18.3\" font-family=\"Times,serif\" font-size=\"14.00\" fill=\"#000000\">⟨0⟩</text>\n",
       "</g>\n",
       "<!-- F10 -->\n",
       "<g id=\"node2\" class=\"node\">\n",
       "<title>F10</title>\n",
       "<ellipse fill=\"#000000\" stroke=\"#000000\" cx=\"1031\" cy=\"-14.5\" rx=\"0\" ry=\"0\"/>\n",
       "</g>\n",
       "<!-- 1 -->\n",
       "<g id=\"node4\" class=\"node\">\n",
       "<title>1</title>\n",
       "<ellipse fill=\"#98f5ff\" stroke=\"#000000\" cx=\"153.5\" cy=\"-14.5\" rx=\"14.5\" ry=\"14.5\"/>\n",
       "<text text-anchor=\"middle\" x=\"153.5\" y=\"-11.4\" font-family=\"Times,serif\" font-size=\"12.00\" fill=\"#000000\">1</text>\n",
       "</g>\n",
       "<!-- 0&#45;&gt;1 -->\n",
       "<g id=\"edge2\" class=\"edge\">\n",
       "<title>0&#45;&gt;1</title>\n",
       "<path fill=\"none\" stroke=\"#000000\" d=\"M78.362,-14.5C93.171,-14.5 116.04,-14.5 132.66,-14.5\"/>\n",
       "<polygon fill=\"#000000\" stroke=\"#000000\" points=\"138.91,-14.5 132.91,-17.2001 135.91,-14.5 132.91,-14.5001 132.91,-14.5001 132.91,-14.5001 135.91,-14.5 132.91,-11.8001 138.91,-14.5 138.91,-14.5\"/>\n",
       "<text text-anchor=\"middle\" x=\"108.5\" y=\"-18.3\" font-family=\"Times,serif\" font-size=\"14.00\" fill=\"#000000\">⟨0⟩a|a</text>\n",
       "</g>\n",
       "<!-- 2 -->\n",
       "<g id=\"node5\" class=\"node\">\n",
       "<title>2</title>\n",
       "<ellipse fill=\"#98f5ff\" stroke=\"#000000\" cx=\"244.5\" cy=\"-14.5\" rx=\"14.5\" ry=\"14.5\"/>\n",
       "<text text-anchor=\"middle\" x=\"244.5\" y=\"-11.4\" font-family=\"Times,serif\" font-size=\"12.00\" fill=\"#000000\">2</text>\n",
       "</g>\n",
       "<!-- 1&#45;&gt;2 -->\n",
       "<g id=\"edge3\" class=\"edge\">\n",
       "<title>1&#45;&gt;2</title>\n",
       "<path fill=\"none\" stroke=\"#000000\" d=\"M168.12,-14.5C183.11,-14.5 206.57,-14.5 223.54,-14.5\"/>\n",
       "<polygon fill=\"#000000\" stroke=\"#000000\" points=\"229.92,-14.5 223.92,-17.2001 226.92,-14.5 223.92,-14.5001 223.92,-14.5001 223.92,-14.5001 226.92,-14.5 223.92,-11.8001 229.92,-14.5 229.92,-14.5\"/>\n",
       "<text text-anchor=\"middle\" x=\"199\" y=\"-18.3\" font-family=\"Times,serif\" font-size=\"14.00\" fill=\"#000000\">⟨0⟩u|u</text>\n",
       "</g>\n",
       "<!-- 3 -->\n",
       "<g id=\"node6\" class=\"node\">\n",
       "<title>3</title>\n",
       "<ellipse fill=\"#98f5ff\" stroke=\"#000000\" cx=\"330.5\" cy=\"-14.5\" rx=\"14.5\" ry=\"14.5\"/>\n",
       "<text text-anchor=\"middle\" x=\"330.5\" y=\"-11.4\" font-family=\"Times,serif\" font-size=\"12.00\" fill=\"#000000\">3</text>\n",
       "</g>\n",
       "<!-- 2&#45;&gt;3 -->\n",
       "<g id=\"edge4\" class=\"edge\">\n",
       "<title>2&#45;&gt;3</title>\n",
       "<path fill=\"none\" stroke=\"#000000\" d=\"M259.09,-14.5C272.93,-14.5 293.87,-14.5 309.5,-14.5\"/>\n",
       "<polygon fill=\"#000000\" stroke=\"#000000\" points=\"315.84,-14.5 309.84,-17.2001 312.84,-14.5 309.84,-14.5001 309.84,-14.5001 309.84,-14.5001 312.84,-14.5 309.84,-11.8001 315.84,-14.5 315.84,-14.5\"/>\n",
       "<text text-anchor=\"middle\" x=\"287.5\" y=\"-18.3\" font-family=\"Times,serif\" font-size=\"14.00\" fill=\"#000000\">⟨0⟩t|t</text>\n",
       "</g>\n",
       "<!-- 4 -->\n",
       "<g id=\"node7\" class=\"node\">\n",
       "<title>4</title>\n",
       "<ellipse fill=\"#98f5ff\" stroke=\"#000000\" cx=\"421.5\" cy=\"-14.5\" rx=\"14.5\" ry=\"14.5\"/>\n",
       "<text text-anchor=\"middle\" x=\"421.5\" y=\"-11.4\" font-family=\"Times,serif\" font-size=\"12.00\" fill=\"#000000\">4</text>\n",
       "</g>\n",
       "<!-- 3&#45;&gt;4 -->\n",
       "<g id=\"edge5\" class=\"edge\">\n",
       "<title>3&#45;&gt;4</title>\n",
       "<path fill=\"none\" stroke=\"#000000\" d=\"M345.12,-14.5C360.11,-14.5 383.57,-14.5 400.54,-14.5\"/>\n",
       "<polygon fill=\"#000000\" stroke=\"#000000\" points=\"406.92,-14.5 400.92,-17.2001 403.92,-14.5 400.92,-14.5001 400.92,-14.5001 400.92,-14.5001 403.92,-14.5 400.92,-11.8001 406.92,-14.5 406.92,-14.5\"/>\n",
       "<text text-anchor=\"middle\" x=\"376\" y=\"-18.3\" font-family=\"Times,serif\" font-size=\"14.00\" fill=\"#000000\">⟨0⟩o|o</text>\n",
       "</g>\n",
       "<!-- 5 -->\n",
       "<g id=\"node8\" class=\"node\">\n",
       "<title>5</title>\n",
       "<ellipse fill=\"#98f5ff\" stroke=\"#000000\" cx=\"518.5\" cy=\"-14.5\" rx=\"14.5\" ry=\"14.5\"/>\n",
       "<text text-anchor=\"middle\" x=\"518.5\" y=\"-11.4\" font-family=\"Times,serif\" font-size=\"12.00\" fill=\"#000000\">5</text>\n",
       "</g>\n",
       "<!-- 4&#45;&gt;5 -->\n",
       "<g id=\"edge6\" class=\"edge\">\n",
       "<title>4&#45;&gt;5</title>\n",
       "<path fill=\"none\" stroke=\"#000000\" d=\"M436.23,-14.5C452.56,-14.5 479.04,-14.5 497.53,-14.5\"/>\n",
       "<polygon fill=\"#000000\" stroke=\"#000000\" points=\"503.95,-14.5 497.95,-17.2001 500.95,-14.5 497.95,-14.5001 497.95,-14.5001 497.95,-14.5001 500.95,-14.5 497.95,-11.8001 503.95,-14.5 503.95,-14.5\"/>\n",
       "<text text-anchor=\"middle\" x=\"470\" y=\"-18.3\" font-family=\"Times,serif\" font-size=\"14.00\" fill=\"#000000\">⟨0⟩m|m</text>\n",
       "</g>\n",
       "<!-- 6 -->\n",
       "<g id=\"node9\" class=\"node\">\n",
       "<title>6</title>\n",
       "<ellipse fill=\"#98f5ff\" stroke=\"#000000\" cx=\"608.5\" cy=\"-14.5\" rx=\"14.5\" ry=\"14.5\"/>\n",
       "<text text-anchor=\"middle\" x=\"608.5\" y=\"-11.4\" font-family=\"Times,serif\" font-size=\"12.00\" fill=\"#000000\">6</text>\n",
       "</g>\n",
       "<!-- 5&#45;&gt;6 -->\n",
       "<g id=\"edge7\" class=\"edge\">\n",
       "<title>5&#45;&gt;6</title>\n",
       "<path fill=\"none\" stroke=\"#000000\" d=\"M533.36,-14.5C548.17,-14.5 571.04,-14.5 587.66,-14.5\"/>\n",
       "<polygon fill=\"#000000\" stroke=\"#000000\" points=\"593.91,-14.5 587.91,-17.2001 590.91,-14.5 587.91,-14.5001 587.91,-14.5001 587.91,-14.5001 590.91,-14.5 587.91,-11.8001 593.91,-14.5 593.91,-14.5\"/>\n",
       "<text text-anchor=\"middle\" x=\"563.5\" y=\"-18.3\" font-family=\"Times,serif\" font-size=\"14.00\" fill=\"#000000\">⟨0⟩a|a</text>\n",
       "</g>\n",
       "<!-- 7 -->\n",
       "<g id=\"node10\" class=\"node\">\n",
       "<title>7</title>\n",
       "<ellipse fill=\"#98f5ff\" stroke=\"#000000\" cx=\"694.5\" cy=\"-14.5\" rx=\"14.5\" ry=\"14.5\"/>\n",
       "<text text-anchor=\"middle\" x=\"694.5\" y=\"-11.4\" font-family=\"Times,serif\" font-size=\"12.00\" fill=\"#000000\">7</text>\n",
       "</g>\n",
       "<!-- 6&#45;&gt;7 -->\n",
       "<g id=\"edge8\" class=\"edge\">\n",
       "<title>6&#45;&gt;7</title>\n",
       "<path fill=\"none\" stroke=\"#000000\" d=\"M623.09,-14.5C636.93,-14.5 657.87,-14.5 673.5,-14.5\"/>\n",
       "<polygon fill=\"#000000\" stroke=\"#000000\" points=\"679.84,-14.5 673.84,-17.2001 676.84,-14.5 673.84,-14.5001 673.84,-14.5001 673.84,-14.5001 676.84,-14.5 673.84,-11.8001 679.84,-14.5 679.84,-14.5\"/>\n",
       "<text text-anchor=\"middle\" x=\"651.5\" y=\"-18.3\" font-family=\"Times,serif\" font-size=\"14.00\" fill=\"#000000\">⟨0⟩t|t</text>\n",
       "</g>\n",
       "<!-- 8 -->\n",
       "<g id=\"node11\" class=\"node\">\n",
       "<title>8</title>\n",
       "<ellipse fill=\"#98f5ff\" stroke=\"#000000\" cx=\"785.5\" cy=\"-14.5\" rx=\"14.5\" ry=\"14.5\"/>\n",
       "<text text-anchor=\"middle\" x=\"785.5\" y=\"-11.4\" font-family=\"Times,serif\" font-size=\"12.00\" fill=\"#000000\">8</text>\n",
       "</g>\n",
       "<!-- 7&#45;&gt;8 -->\n",
       "<g id=\"edge9\" class=\"edge\">\n",
       "<title>7&#45;&gt;8</title>\n",
       "<path fill=\"none\" stroke=\"#000000\" d=\"M709.12,-14.5C724.11,-14.5 747.57,-14.5 764.54,-14.5\"/>\n",
       "<polygon fill=\"#000000\" stroke=\"#000000\" points=\"770.92,-14.5 764.92,-17.2001 767.92,-14.5 764.92,-14.5001 764.92,-14.5001 764.92,-14.5001 767.92,-14.5 764.92,-11.8001 770.92,-14.5 770.92,-14.5\"/>\n",
       "<text text-anchor=\"middle\" x=\"740\" y=\"-18.3\" font-family=\"Times,serif\" font-size=\"14.00\" fill=\"#000000\">⟨0⟩h|h</text>\n",
       "</g>\n",
       "<!-- 9 -->\n",
       "<g id=\"node12\" class=\"node\">\n",
       "<title>9</title>\n",
       "<ellipse fill=\"#98f5ff\" stroke=\"#000000\" cx=\"876.5\" cy=\"-14.5\" rx=\"14.5\" ry=\"14.5\"/>\n",
       "<text text-anchor=\"middle\" x=\"876.5\" y=\"-11.4\" font-family=\"Times,serif\" font-size=\"12.00\" fill=\"#000000\">9</text>\n",
       "</g>\n",
       "<!-- 8&#45;&gt;9 -->\n",
       "<g id=\"edge10\" class=\"edge\">\n",
       "<title>8&#45;&gt;9</title>\n",
       "<path fill=\"none\" stroke=\"#000000\" d=\"M800.12,-14.5C815.11,-14.5 838.57,-14.5 855.54,-14.5\"/>\n",
       "<polygon fill=\"#000000\" stroke=\"#000000\" points=\"861.92,-14.5 855.92,-17.2001 858.92,-14.5 855.92,-14.5001 855.92,-14.5001 855.92,-14.5001 858.92,-14.5 855.92,-11.8001 861.92,-14.5 861.92,-14.5\"/>\n",
       "<text text-anchor=\"middle\" x=\"831\" y=\"-18.3\" font-family=\"Times,serif\" font-size=\"14.00\" fill=\"#000000\">⟨0⟩o|o</text>\n",
       "</g>\n",
       "<!-- 10 -->\n",
       "<g id=\"node13\" class=\"node\">\n",
       "<title>10</title>\n",
       "<ellipse fill=\"#98f5ff\" stroke=\"#000000\" cx=\"967.5\" cy=\"-14.5\" rx=\"14.5\" ry=\"14.5\"/>\n",
       "<text text-anchor=\"middle\" x=\"967.5\" y=\"-11.4\" font-family=\"Times,serif\" font-size=\"12.00\" fill=\"#000000\">10</text>\n",
       "</g>\n",
       "<!-- 9&#45;&gt;10 -->\n",
       "<g id=\"edge11\" class=\"edge\">\n",
       "<title>9&#45;&gt;10</title>\n",
       "<path fill=\"none\" stroke=\"#000000\" d=\"M891.12,-14.5C906.11,-14.5 929.57,-14.5 946.54,-14.5\"/>\n",
       "<polygon fill=\"#000000\" stroke=\"#000000\" points=\"952.92,-14.5 946.92,-17.2001 949.92,-14.5 946.92,-14.5001 946.92,-14.5001 946.92,-14.5001 949.92,-14.5 946.92,-11.8001 952.92,-14.5 952.92,-14.5\"/>\n",
       "<text text-anchor=\"middle\" x=\"922\" y=\"-18.3\" font-family=\"Times,serif\" font-size=\"14.00\" fill=\"#000000\">⟨0⟩n|n</text>\n",
       "</g>\n",
       "<!-- 10&#45;&gt;F10 -->\n",
       "<g id=\"edge12\" class=\"edge\">\n",
       "<title>10&#45;&gt;F10</title>\n",
       "<path fill=\"none\" stroke=\"#000000\" d=\"M982.2278,-14.5C995.7151,-14.5 1015.0207,-14.5 1024.8057,-14.5\"/>\n",
       "<polygon fill=\"#000000\" stroke=\"#000000\" points=\"1030.9133,-14.5 1024.9134,-17.2001 1027.9133,-14.5 1024.9133,-14.5001 1024.9133,-14.5001 1024.9133,-14.5001 1027.9133,-14.5 1024.9133,-11.8001 1030.9133,-14.5 1030.9133,-14.5\"/>\n",
       "<text text-anchor=\"middle\" x=\"997.0167\" y=\"-18.3\" font-family=\"Times,serif\" font-size=\"14.00\" fill=\"#000000\">⟨0⟩</text>\n",
       "</g>\n",
       "</g>\n",
       "</svg>\n"
      ],
      "text/plain": [
       "mutable_automaton<context<lat<letterset<char_letters>, letterset<char_letters>>, nmin>>"
      ]
     },
     "execution_count": 7,
     "metadata": {},
     "output_type": "execute_result"
    }
   ],
   "source": [
    "w = c.expression('automathon').automaton().partial_identity()\n",
    "w"
   ]
  },
  {
   "cell_type": "markdown",
   "metadata": {},
   "source": [
    "Now compose the word and the `fixer` to get a computation of the Levenshtein distance of `w` to any word on the language."
   ]
  },
  {
   "cell_type": "code",
   "execution_count": 8,
   "metadata": {},
   "outputs": [
    {
     "data": {
      "text/plain": [
       "{'is codeterministic': False,\n",
       " 'is complete': 'N/A',\n",
       " 'is deterministic': False,\n",
       " 'is empty': False,\n",
       " 'is eps-acyclic': True,\n",
       " 'is free': False,\n",
       " 'is normalized': False,\n",
       " 'is proper': 'N/A',\n",
       " 'is standard': True,\n",
       " 'is trim': True,\n",
       " 'is useless': False,\n",
       " 'is valid': True,\n",
       " 'number of accessible states': 2754434,\n",
       " 'number of coaccessible states': 2754434,\n",
       " 'number of codeterministic states': 0,\n",
       " 'number of deterministic states': 0,\n",
       " 'number of final states': 31358,\n",
       " 'number of initial states': 1,\n",
       " 'number of lazy states': 0,\n",
       " 'number of spontaneous transitions': 0,\n",
       " 'number of states': 2754434,\n",
       " 'number of transitions': 14060199,\n",
       " 'number of useful states': 2754434,\n",
       " 'type': 'tuple_automaton<mutable_automaton<lat<letterset<char_letters(\\\\-ABCDEFGHIJKLMNOPQRSTUVWXYZabcdefghijklmnopqrstuvwxyz)>, letterset<char_letters(\\\\-ABCDEFGHIJKLMNOPQRSTUVWXYZabcdefghijklmnopqrstuvwxyz)>>, nmin>, focus_automaton<1, mutable_automaton<lat<letterset<char_letters(\\\\-ABCDEFGHIJKLMNOPQRSTUVWXYZabcdefghijklmnopqrstuvwxyz)>, letterset<char_letters(\\\\-ABCDEFGHIJKLMNOPQRSTUVWXYZabcdefghijklmnopqrstuvwxyz)>>, nmin>>, insplit_automaton<focus_automaton<0, mutable_automaton<lat<letterset<char_letters(\\\\-ABCDEFGHIJKLMNOPQRSTUVWXYZabcdefghijklmnopqrstuvwxyz)>, letterset<char_letters(\\\\-ABCDEFGHIJKLMNOPQRSTUVWXYZabcdefghijklmnopqrstuvwxyz)>>, nmin>>>>'}"
      ]
     },
     "execution_count": 8,
     "metadata": {},
     "output_type": "execute_result"
    }
   ],
   "source": [
    "fix = w.compose(fixer)\n",
    "fix.info()"
   ]
  },
  {
   "cell_type": "markdown",
   "metadata": {},
   "source": [
    "Display the proposed correction."
   ]
  },
  {
   "cell_type": "code",
   "execution_count": 9,
   "metadata": {},
   "outputs": [
    {
     "data": {
      "text/latex": [
       "$\\left\\langle 1\\right\\rangle \\mathit{automathon}|\\mathit{automaton}$"
      ],
      "text/plain": [
       "<1>automathon|automaton"
      ]
     },
     "execution_count": 9,
     "metadata": {},
     "output_type": "execute_result"
    }
   ],
   "source": [
    "fix.lightest(1)"
   ]
  },
  {
   "cell_type": "markdown",
   "metadata": {},
   "source": [
    "Find the lightest path in this transducer: it maps our word to its closest word in the language."
   ]
  },
  {
   "cell_type": "code",
   "execution_count": 10,
   "metadata": {},
   "outputs": [
    {
     "data": {
      "image/svg+xml": [
       "<?xml version=\"1.0\" encoding=\"UTF-8\" standalone=\"no\"?>\n",
       "<!DOCTYPE svg PUBLIC \"-//W3C//DTD SVG 1.1//EN\"\n",
       " \"http://www.w3.org/Graphics/SVG/1.1/DTD/svg11.dtd\">\n",
       "<!-- Generated by graphviz version 2.40.1 (20161225.0304)\n",
       " -->\n",
       "<!-- Title: %3 Pages: 1 -->\n",
       "<svg width=\"1038pt\" height=\"38pt\"\n",
       " viewBox=\"0.00 0.00 1038.00 37.50\" xmlns=\"http://www.w3.org/2000/svg\" xmlns:xlink=\"http://www.w3.org/1999/xlink\">\n",
       "<g id=\"graph0\" class=\"graph\" transform=\"scale(1 1) rotate(0) translate(4 33.5)\">\n",
       "<title>%3</title>\n",
       "<polygon fill=\"#ffffff\" stroke=\"transparent\" points=\"-4,4 -4,-33.5 1034,-33.5 1034,4 -4,4\"/>\n",
       "<!-- I10 -->\n",
       "<g id=\"node1\" class=\"node\">\n",
       "<title>I10</title>\n",
       "<ellipse fill=\"#000000\" stroke=\"#000000\" cx=\"0\" cy=\"-14.5\" rx=\"0\" ry=\"0\"/>\n",
       "</g>\n",
       "<!-- 10 -->\n",
       "<g id=\"node13\" class=\"node\">\n",
       "<title>10</title>\n",
       "<ellipse fill=\"#98f5ff\" stroke=\"#000000\" cx=\"63.5\" cy=\"-14.5\" rx=\"14.5\" ry=\"14.5\"/>\n",
       "<text text-anchor=\"middle\" x=\"63.5\" y=\"-11.4\" font-family=\"Times,serif\" font-size=\"12.00\" fill=\"#000000\">10</text>\n",
       "</g>\n",
       "<!-- I10&#45;&gt;10 -->\n",
       "<g id=\"edge1\" class=\"edge\">\n",
       "<title>I10&#45;&gt;10</title>\n",
       "<path fill=\"none\" stroke=\"#000000\" d=\"M.046,-14.5C1.2167,-14.5 24.482,-14.5 42.505,-14.5\"/>\n",
       "<polygon fill=\"#000000\" stroke=\"#000000\" points=\"48.857,-14.5 42.857,-17.2001 45.857,-14.5 42.857,-14.5001 42.857,-14.5001 42.857,-14.5001 45.857,-14.5 42.857,-11.8001 48.857,-14.5 48.857,-14.5\"/>\n",
       "<text text-anchor=\"middle\" x=\"24.5\" y=\"-18.3\" font-family=\"Times,serif\" font-size=\"14.00\" fill=\"#000000\">⟨0⟩</text>\n",
       "</g>\n",
       "<!-- F0 -->\n",
       "<g id=\"node2\" class=\"node\">\n",
       "<title>F0</title>\n",
       "<ellipse fill=\"#000000\" stroke=\"#000000\" cx=\"1030\" cy=\"-14.5\" rx=\"0\" ry=\"0\"/>\n",
       "</g>\n",
       "<!-- 0 -->\n",
       "<g id=\"node3\" class=\"node\">\n",
       "<title>0</title>\n",
       "<ellipse fill=\"#98f5ff\" stroke=\"#000000\" cx=\"966.5\" cy=\"-14.5\" rx=\"14.5\" ry=\"14.5\"/>\n",
       "<text text-anchor=\"middle\" x=\"966.5\" y=\"-11.4\" font-family=\"Times,serif\" font-size=\"12.00\" fill=\"#000000\">0</text>\n",
       "</g>\n",
       "<!-- 0&#45;&gt;F0 -->\n",
       "<g id=\"edge2\" class=\"edge\">\n",
       "<title>0&#45;&gt;F0</title>\n",
       "<path fill=\"none\" stroke=\"#000000\" d=\"M981.2278,-14.5C994.7151,-14.5 1014.0207,-14.5 1023.8057,-14.5\"/>\n",
       "<polygon fill=\"#000000\" stroke=\"#000000\" points=\"1029.9133,-14.5 1023.9134,-17.2001 1026.9133,-14.5 1023.9133,-14.5001 1023.9133,-14.5001 1023.9133,-14.5001 1026.9133,-14.5 1023.9133,-11.8001 1029.9133,-14.5 1029.9133,-14.5\"/>\n",
       "<text text-anchor=\"middle\" x=\"996.0167\" y=\"-18.3\" font-family=\"Times,serif\" font-size=\"14.00\" fill=\"#000000\">⟨0⟩</text>\n",
       "</g>\n",
       "<!-- 1 -->\n",
       "<g id=\"node4\" class=\"node\">\n",
       "<title>1</title>\n",
       "<ellipse fill=\"#98f5ff\" stroke=\"#000000\" cx=\"875.5\" cy=\"-14.5\" rx=\"14.5\" ry=\"14.5\"/>\n",
       "<text text-anchor=\"middle\" x=\"875.5\" y=\"-11.4\" font-family=\"Times,serif\" font-size=\"12.00\" fill=\"#000000\">1</text>\n",
       "</g>\n",
       "<!-- 1&#45;&gt;0 -->\n",
       "<g id=\"edge3\" class=\"edge\">\n",
       "<title>1&#45;&gt;0</title>\n",
       "<path fill=\"none\" stroke=\"#000000\" d=\"M890.12,-14.5C905.11,-14.5 928.57,-14.5 945.54,-14.5\"/>\n",
       "<polygon fill=\"#000000\" stroke=\"#000000\" points=\"951.92,-14.5 945.92,-17.2001 948.92,-14.5 945.92,-14.5001 945.92,-14.5001 945.92,-14.5001 948.92,-14.5 945.92,-11.8001 951.92,-14.5 951.92,-14.5\"/>\n",
       "<text text-anchor=\"middle\" x=\"921\" y=\"-18.3\" font-family=\"Times,serif\" font-size=\"14.00\" fill=\"#000000\">⟨0⟩n|n</text>\n",
       "</g>\n",
       "<!-- 2 -->\n",
       "<g id=\"node5\" class=\"node\">\n",
       "<title>2</title>\n",
       "<ellipse fill=\"#98f5ff\" stroke=\"#000000\" cx=\"784.5\" cy=\"-14.5\" rx=\"14.5\" ry=\"14.5\"/>\n",
       "<text text-anchor=\"middle\" x=\"784.5\" y=\"-11.4\" font-family=\"Times,serif\" font-size=\"12.00\" fill=\"#000000\">2</text>\n",
       "</g>\n",
       "<!-- 2&#45;&gt;1 -->\n",
       "<g id=\"edge4\" class=\"edge\">\n",
       "<title>2&#45;&gt;1</title>\n",
       "<path fill=\"none\" stroke=\"#000000\" d=\"M799.12,-14.5C814.11,-14.5 837.57,-14.5 854.54,-14.5\"/>\n",
       "<polygon fill=\"#000000\" stroke=\"#000000\" points=\"860.92,-14.5 854.92,-17.2001 857.92,-14.5 854.92,-14.5001 854.92,-14.5001 854.92,-14.5001 857.92,-14.5 854.92,-11.8001 860.92,-14.5 860.92,-14.5\"/>\n",
       "<text text-anchor=\"middle\" x=\"830\" y=\"-18.3\" font-family=\"Times,serif\" font-size=\"14.00\" fill=\"#000000\">⟨0⟩o|o</text>\n",
       "</g>\n",
       "<!-- 3 -->\n",
       "<g id=\"node6\" class=\"node\">\n",
       "<title>3</title>\n",
       "<ellipse fill=\"#98f5ff\" stroke=\"#000000\" cx=\"694.5\" cy=\"-14.5\" rx=\"14.5\" ry=\"14.5\"/>\n",
       "<text text-anchor=\"middle\" x=\"694.5\" y=\"-11.4\" font-family=\"Times,serif\" font-size=\"12.00\" fill=\"#000000\">3</text>\n",
       "</g>\n",
       "<!-- 3&#45;&gt;2 -->\n",
       "<g id=\"edge5\" class=\"edge\">\n",
       "<title>3&#45;&gt;2</title>\n",
       "<path fill=\"none\" stroke=\"#000000\" d=\"M709.36,-14.5C724.17,-14.5 747.04,-14.5 763.66,-14.5\"/>\n",
       "<polygon fill=\"#000000\" stroke=\"#000000\" points=\"769.91,-14.5 763.91,-17.2001 766.91,-14.5 763.91,-14.5001 763.91,-14.5001 763.91,-14.5001 766.91,-14.5 763.91,-11.8001 769.91,-14.5 769.91,-14.5\"/>\n",
       "<text text-anchor=\"middle\" x=\"739.5\" y=\"-18.3\" font-family=\"Times,serif\" font-size=\"14.00\" fill=\"#000000\">⟨1⟩h|ε</text>\n",
       "</g>\n",
       "<!-- 4 -->\n",
       "<g id=\"node7\" class=\"node\">\n",
       "<title>4</title>\n",
       "<ellipse fill=\"#98f5ff\" stroke=\"#000000\" cx=\"608.5\" cy=\"-14.5\" rx=\"14.5\" ry=\"14.5\"/>\n",
       "<text text-anchor=\"middle\" x=\"608.5\" y=\"-11.4\" font-family=\"Times,serif\" font-size=\"12.00\" fill=\"#000000\">4</text>\n",
       "</g>\n",
       "<!-- 4&#45;&gt;3 -->\n",
       "<g id=\"edge6\" class=\"edge\">\n",
       "<title>4&#45;&gt;3</title>\n",
       "<path fill=\"none\" stroke=\"#000000\" d=\"M623.09,-14.5C636.93,-14.5 657.87,-14.5 673.5,-14.5\"/>\n",
       "<polygon fill=\"#000000\" stroke=\"#000000\" points=\"679.84,-14.5 673.84,-17.2001 676.84,-14.5 673.84,-14.5001 673.84,-14.5001 673.84,-14.5001 676.84,-14.5 673.84,-11.8001 679.84,-14.5 679.84,-14.5\"/>\n",
       "<text text-anchor=\"middle\" x=\"651.5\" y=\"-18.3\" font-family=\"Times,serif\" font-size=\"14.00\" fill=\"#000000\">⟨0⟩t|t</text>\n",
       "</g>\n",
       "<!-- 5 -->\n",
       "<g id=\"node8\" class=\"node\">\n",
       "<title>5</title>\n",
       "<ellipse fill=\"#98f5ff\" stroke=\"#000000\" cx=\"518.5\" cy=\"-14.5\" rx=\"14.5\" ry=\"14.5\"/>\n",
       "<text text-anchor=\"middle\" x=\"518.5\" y=\"-11.4\" font-family=\"Times,serif\" font-size=\"12.00\" fill=\"#000000\">5</text>\n",
       "</g>\n",
       "<!-- 5&#45;&gt;4 -->\n",
       "<g id=\"edge7\" class=\"edge\">\n",
       "<title>5&#45;&gt;4</title>\n",
       "<path fill=\"none\" stroke=\"#000000\" d=\"M533.36,-14.5C548.17,-14.5 571.04,-14.5 587.66,-14.5\"/>\n",
       "<polygon fill=\"#000000\" stroke=\"#000000\" points=\"593.91,-14.5 587.91,-17.2001 590.91,-14.5 587.91,-14.5001 587.91,-14.5001 587.91,-14.5001 590.91,-14.5 587.91,-11.8001 593.91,-14.5 593.91,-14.5\"/>\n",
       "<text text-anchor=\"middle\" x=\"563.5\" y=\"-18.3\" font-family=\"Times,serif\" font-size=\"14.00\" fill=\"#000000\">⟨0⟩a|a</text>\n",
       "</g>\n",
       "<!-- 6 -->\n",
       "<g id=\"node9\" class=\"node\">\n",
       "<title>6</title>\n",
       "<ellipse fill=\"#98f5ff\" stroke=\"#000000\" cx=\"421.5\" cy=\"-14.5\" rx=\"14.5\" ry=\"14.5\"/>\n",
       "<text text-anchor=\"middle\" x=\"421.5\" y=\"-11.4\" font-family=\"Times,serif\" font-size=\"12.00\" fill=\"#000000\">6</text>\n",
       "</g>\n",
       "<!-- 6&#45;&gt;5 -->\n",
       "<g id=\"edge8\" class=\"edge\">\n",
       "<title>6&#45;&gt;5</title>\n",
       "<path fill=\"none\" stroke=\"#000000\" d=\"M436.23,-14.5C452.56,-14.5 479.04,-14.5 497.53,-14.5\"/>\n",
       "<polygon fill=\"#000000\" stroke=\"#000000\" points=\"503.95,-14.5 497.95,-17.2001 500.95,-14.5 497.95,-14.5001 497.95,-14.5001 497.95,-14.5001 500.95,-14.5 497.95,-11.8001 503.95,-14.5 503.95,-14.5\"/>\n",
       "<text text-anchor=\"middle\" x=\"470\" y=\"-18.3\" font-family=\"Times,serif\" font-size=\"14.00\" fill=\"#000000\">⟨0⟩m|m</text>\n",
       "</g>\n",
       "<!-- 7 -->\n",
       "<g id=\"node10\" class=\"node\">\n",
       "<title>7</title>\n",
       "<ellipse fill=\"#98f5ff\" stroke=\"#000000\" cx=\"330.5\" cy=\"-14.5\" rx=\"14.5\" ry=\"14.5\"/>\n",
       "<text text-anchor=\"middle\" x=\"330.5\" y=\"-11.4\" font-family=\"Times,serif\" font-size=\"12.00\" fill=\"#000000\">7</text>\n",
       "</g>\n",
       "<!-- 7&#45;&gt;6 -->\n",
       "<g id=\"edge9\" class=\"edge\">\n",
       "<title>7&#45;&gt;6</title>\n",
       "<path fill=\"none\" stroke=\"#000000\" d=\"M345.12,-14.5C360.11,-14.5 383.57,-14.5 400.54,-14.5\"/>\n",
       "<polygon fill=\"#000000\" stroke=\"#000000\" points=\"406.92,-14.5 400.92,-17.2001 403.92,-14.5 400.92,-14.5001 400.92,-14.5001 400.92,-14.5001 403.92,-14.5 400.92,-11.8001 406.92,-14.5 406.92,-14.5\"/>\n",
       "<text text-anchor=\"middle\" x=\"376\" y=\"-18.3\" font-family=\"Times,serif\" font-size=\"14.00\" fill=\"#000000\">⟨0⟩o|o</text>\n",
       "</g>\n",
       "<!-- 8 -->\n",
       "<g id=\"node11\" class=\"node\">\n",
       "<title>8</title>\n",
       "<ellipse fill=\"#98f5ff\" stroke=\"#000000\" cx=\"244.5\" cy=\"-14.5\" rx=\"14.5\" ry=\"14.5\"/>\n",
       "<text text-anchor=\"middle\" x=\"244.5\" y=\"-11.4\" font-family=\"Times,serif\" font-size=\"12.00\" fill=\"#000000\">8</text>\n",
       "</g>\n",
       "<!-- 8&#45;&gt;7 -->\n",
       "<g id=\"edge10\" class=\"edge\">\n",
       "<title>8&#45;&gt;7</title>\n",
       "<path fill=\"none\" stroke=\"#000000\" d=\"M259.09,-14.5C272.93,-14.5 293.87,-14.5 309.5,-14.5\"/>\n",
       "<polygon fill=\"#000000\" stroke=\"#000000\" points=\"315.84,-14.5 309.84,-17.2001 312.84,-14.5 309.84,-14.5001 309.84,-14.5001 309.84,-14.5001 312.84,-14.5 309.84,-11.8001 315.84,-14.5 315.84,-14.5\"/>\n",
       "<text text-anchor=\"middle\" x=\"287.5\" y=\"-18.3\" font-family=\"Times,serif\" font-size=\"14.00\" fill=\"#000000\">⟨0⟩t|t</text>\n",
       "</g>\n",
       "<!-- 9 -->\n",
       "<g id=\"node12\" class=\"node\">\n",
       "<title>9</title>\n",
       "<ellipse fill=\"#98f5ff\" stroke=\"#000000\" cx=\"153.5\" cy=\"-14.5\" rx=\"14.5\" ry=\"14.5\"/>\n",
       "<text text-anchor=\"middle\" x=\"153.5\" y=\"-11.4\" font-family=\"Times,serif\" font-size=\"12.00\" fill=\"#000000\">9</text>\n",
       "</g>\n",
       "<!-- 9&#45;&gt;8 -->\n",
       "<g id=\"edge11\" class=\"edge\">\n",
       "<title>9&#45;&gt;8</title>\n",
       "<path fill=\"none\" stroke=\"#000000\" d=\"M168.12,-14.5C183.11,-14.5 206.57,-14.5 223.54,-14.5\"/>\n",
       "<polygon fill=\"#000000\" stroke=\"#000000\" points=\"229.92,-14.5 223.92,-17.2001 226.92,-14.5 223.92,-14.5001 223.92,-14.5001 223.92,-14.5001 226.92,-14.5 223.92,-11.8001 229.92,-14.5 229.92,-14.5\"/>\n",
       "<text text-anchor=\"middle\" x=\"199\" y=\"-18.3\" font-family=\"Times,serif\" font-size=\"14.00\" fill=\"#000000\">⟨0⟩u|u</text>\n",
       "</g>\n",
       "<!-- 10&#45;&gt;9 -->\n",
       "<g id=\"edge12\" class=\"edge\">\n",
       "<title>10&#45;&gt;9</title>\n",
       "<path fill=\"none\" stroke=\"#000000\" d=\"M78.362,-14.5C93.171,-14.5 116.04,-14.5 132.66,-14.5\"/>\n",
       "<polygon fill=\"#000000\" stroke=\"#000000\" points=\"138.91,-14.5 132.91,-17.2001 135.91,-14.5 132.91,-14.5001 132.91,-14.5001 132.91,-14.5001 135.91,-14.5 132.91,-11.8001 138.91,-14.5 138.91,-14.5\"/>\n",
       "<text text-anchor=\"middle\" x=\"108.5\" y=\"-18.3\" font-family=\"Times,serif\" font-size=\"14.00\" fill=\"#000000\">⟨0⟩a|a</text>\n",
       "</g>\n",
       "</g>\n",
       "</svg>\n"
      ],
      "text/plain": [
       "mutable_automaton<context<lat<letterset<char_letters>, letterset<char_letters>>, nmin>>"
      ]
     },
     "execution_count": 10,
     "metadata": {},
     "output_type": "execute_result"
    }
   ],
   "source": [
    "fix.lightest_automaton()"
   ]
  },
  {
   "cell_type": "markdown",
   "metadata": {},
   "source": [
    "We can ask for several proposals of close words."
   ]
  },
  {
   "cell_type": "code",
   "execution_count": 11,
   "metadata": {},
   "outputs": [
    {
     "data": {
      "text/latex": [
       "$\\left\\langle 3\\right\\rangle \\mathit{automat} \\oplus \\left\\langle 3\\right\\rangle \\mathit{autobahn} \\oplus \\left\\langle 3\\right\\rangle \\mathit{automata} \\oplus \\left\\langle 3\\right\\rangle \\mathit{autophon} \\oplus \\left\\langle 3\\right\\rangle \\mathit{automatic} \\oplus \\left\\langle 2\\right\\rangle \\mathit{automatin} \\oplus \\left\\langle 1\\right\\rangle \\mathit{automaton} \\oplus \\left\\langle 3\\right\\rangle \\mathit{automelon} \\oplus \\left\\langle 3\\right\\rangle \\mathit{automotor} \\oplus \\left\\langle 2\\right\\rangle \\mathit{autochthon}$"
      ],
      "text/plain": [
       "<3>automat + <3>autobahn + <3>automata + <3>autophon + <3>automatic + <2>automatin + <1>automaton + <3>automelon + <3>automotor + <2>autochthon"
      ]
     },
     "execution_count": 11,
     "metadata": {},
     "output_type": "execute_result"
    }
   ],
   "source": [
    "fix.lightest(10).project(1)"
   ]
  }
 ],
 "metadata": {
  "kernelspec": {
   "display_name": "Python 3",
   "language": "python",
   "name": "python3"
  },
  "language_info": {
   "codemirror_mode": {
    "name": "ipython",
    "version": 3
   },
   "file_extension": ".py",
   "mimetype": "text/x-python",
   "name": "python",
   "nbconvert_exporter": "python",
   "pygments_lexer": "ipython3",
   "version": "3.5.4"
  }
 },
 "nbformat": 4,
 "nbformat_minor": 1
}
