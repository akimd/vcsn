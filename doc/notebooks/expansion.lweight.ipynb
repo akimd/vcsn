{
 "cells": [
  {
   "cell_type": "markdown",
   "metadata": {},
   "source": [
    "# _`expansion`_`.lweight(weight)`\n",
    "The left scalar product of an expansion by a weight.\n",
    "\n",
    "See also:\n",
    "- [expression.lweight](expression.lweight.ipynb)\n",
    "- [expansion.rweight](expansion.rweight.ipynb)"
   ]
  },
  {
   "cell_type": "markdown",
   "metadata": {},
   "source": [
    "## Examples"
   ]
  },
  {
   "cell_type": "code",
   "execution_count": 1,
   "metadata": {
    "collapsed": true
   },
   "outputs": [],
   "source": [
    "import vcsn\n",
    "c = vcsn.context('lal_char, q')"
   ]
  },
  {
   "cell_type": "code",
   "execution_count": 2,
   "metadata": {
    "collapsed": false
   },
   "outputs": [
    {
     "data": {
      "text/latex": [
       "$a \\odot \\left[\\left\\langle 2\\right\\rangle b +  \\left\\langle 3 \\right\\rangle \\,c\\right]$"
      ],
      "text/plain": [
       "a.[<2>b+<3>c]"
      ]
     },
     "execution_count": 2,
     "metadata": {},
     "output_type": "execute_result"
    }
   ],
   "source": [
    "e = c.expression('<2>a(b+<3>c)').expansion()\n",
    "e"
   ]
  },
  {
   "cell_type": "code",
   "execution_count": 3,
   "metadata": {
    "collapsed": false
   },
   "outputs": [
    {
     "data": {
      "text/latex": [
       "$a \\odot \\left[\\left\\langle 8\\right\\rangle b +  \\left\\langle 3 \\right\\rangle \\,c\\right]$"
      ],
      "text/plain": [
       "a.[<8>b+<3>c]"
      ]
     },
     "execution_count": 3,
     "metadata": {},
     "output_type": "execute_result"
    }
   ],
   "source": [
    "e.lweight(c.weight('4'))"
   ]
  },
  {
   "cell_type": "markdown",
   "metadata": {},
   "source": [
    "Instead of `e.lweight(w)`, you may write `w * e`."
   ]
  },
  {
   "cell_type": "code",
   "execution_count": 4,
   "metadata": {
    "collapsed": false
   },
   "outputs": [
    {
     "data": {
      "text/latex": [
       "$a \\odot \\left[\\left\\langle 8\\right\\rangle b +  \\left\\langle 3 \\right\\rangle \\,c\\right]$"
      ],
      "text/plain": [
       "a.[<8>b+<3>c]"
      ]
     },
     "execution_count": 4,
     "metadata": {},
     "output_type": "execute_result"
    }
   ],
   "source": [
    "c.weight('4') * e"
   ]
  },
  {
   "cell_type": "markdown",
   "metadata": {},
   "source": [
    "You may even run the simpler:"
   ]
  },
  {
   "cell_type": "code",
   "execution_count": 5,
   "metadata": {
    "collapsed": false
   },
   "outputs": [
    {
     "data": {
      "text/latex": [
       "$a \\odot \\left[\\left\\langle 8\\right\\rangle b +  \\left\\langle 3 \\right\\rangle \\,c\\right]$"
      ],
      "text/plain": [
       "a.[<8>b+<3>c]"
      ]
     },
     "execution_count": 5,
     "metadata": {},
     "output_type": "execute_result"
    }
   ],
   "source": [
    "4 * e"
   ]
  }
 ],
 "metadata": {
  "kernelspec": {
   "display_name": "Python 3",
   "language": "python",
   "name": "python3"
  },
  "language_info": {
   "codemirror_mode": {
    "name": "ipython",
    "version": 3
   },
   "file_extension": ".py",
   "mimetype": "text/x-python",
   "name": "python",
   "nbconvert_exporter": "python",
   "pygments_lexer": "ipython3",
   "version": "3.4.2"
  },
  "widgets": {
   "state": {},
   "version": "1.1.2"
  }
 },
 "nbformat": 4,
 "nbformat_minor": 0
}
