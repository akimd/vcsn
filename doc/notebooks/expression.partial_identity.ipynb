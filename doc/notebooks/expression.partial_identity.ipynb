{
 "cells": [
  {
   "cell_type": "markdown",
   "metadata": {},
   "source": [
    "# _`expression`_.`partial_identity`\n",
    "\n",
    "An expression which denotes a _partial identity_ of the series denoted by the input expression.  In other words, every label $\\ell$ is turned into a two-tape label $\\ell|\\ell$.\n",
    "\n",
    "Postconditions:\n",
    "- The identities are preserved.\n",
    "\n",
    "See also:\n",
    "- [_automaton_.partial_identity](automaton.partial_identity.ipynb)"
   ]
  },
  {
   "cell_type": "markdown",
   "metadata": {},
   "source": [
    "## Examples"
   ]
  },
  {
   "cell_type": "code",
   "execution_count": 1,
   "metadata": {},
   "outputs": [
    {
     "data": {
      "text/latex": [
       "$a \\, {b}^{*} \\,  \\left\\langle 3 \\right\\rangle \\,c$"
      ],
      "text/plain": [
       "ab*<3>c"
      ]
     },
     "execution_count": 1,
     "metadata": {},
     "output_type": "execute_result"
    }
   ],
   "source": [
    "import vcsn\n",
    "e = vcsn.Q.expression('ab*<3>c', 'associative')\n",
    "e"
   ]
  },
  {
   "cell_type": "code",
   "execution_count": 2,
   "metadata": {},
   "outputs": [
    {
     "data": {
      "text/latex": [
       "$\\left(a|a\\right) \\, \\left(b|b\\right)^{*} \\,  \\left\\langle 3 \\right\\rangle \\,\\left(c|c\\right)$"
      ],
      "text/plain": [
       "(a|a)(b|b)*<3>(c|c)"
      ]
     },
     "execution_count": 2,
     "metadata": {},
     "output_type": "execute_result"
    }
   ],
   "source": [
    "e2 = e.partial_identity()\n",
    "e2"
   ]
  },
  {
   "cell_type": "code",
   "execution_count": 3,
   "metadata": {},
   "outputs": [
    {
     "data": {
      "text/latex": [
       "$\\{a, b, c, \\ldots\\} \\times \\{a, b, c, \\ldots\\}\\to\\mathbb{Q}$"
      ],
      "text/plain": [
       "{abc...} x {abc...} -> Q"
      ]
     },
     "execution_count": 3,
     "metadata": {},
     "output_type": "execute_result"
    }
   ],
   "source": [
    "e2.context()"
   ]
  },
  {
   "cell_type": "code",
   "execution_count": 4,
   "metadata": {},
   "outputs": [
    {
     "data": {
      "text/latex": [
       "$a \\, {b}^{*} \\,  \\left\\langle 3 \\right\\rangle \\,c$"
      ],
      "text/plain": [
       "ab*<3>c"
      ]
     },
     "execution_count": 4,
     "metadata": {},
     "output_type": "execute_result"
    }
   ],
   "source": [
    "e2.project(0)"
   ]
  },
  {
   "cell_type": "code",
   "execution_count": 5,
   "metadata": {},
   "outputs": [
    {
     "data": {
      "text/latex": [
       "$a \\, {b}^{*} \\,  \\left\\langle 3 \\right\\rangle \\,c$"
      ],
      "text/plain": [
       "ab*<3>c"
      ]
     },
     "execution_count": 5,
     "metadata": {},
     "output_type": "execute_result"
    }
   ],
   "source": [
    "e2.project(1)"
   ]
  }
 ],
 "metadata": {
  "kernelspec": {
   "display_name": "Python 3",
   "language": "python",
   "name": "python3"
  },
  "language_info": {
   "codemirror_mode": {
    "name": "ipython",
    "version": 3
   },
   "file_extension": ".py",
   "mimetype": "text/x-python",
   "name": "python",
   "nbconvert_exporter": "python",
   "pygments_lexer": "ipython3",
   "version": "3.6.4"
  },
  "widgets": {
   "state": {},
   "version": "1.1.2"
  }
 },
 "nbformat": 4,
 "nbformat_minor": 1
}
