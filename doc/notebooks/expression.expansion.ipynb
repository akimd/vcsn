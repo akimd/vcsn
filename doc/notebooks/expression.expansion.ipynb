{
 "metadata": {
  "name": "",
  "signature": "sha256:c1b65fa5cf8024c991e8606af403a41becec8591eb04fb535482ab12bfeb6ed9"
 },
 "nbformat": 3,
 "nbformat_minor": 0,
 "worksheets": [
  {
   "cells": [
    {
     "cell_type": "heading",
     "level": 1,
     "metadata": {},
     "source": [
      "_`expression`_.`expansion()`"
     ]
    },
    {
     "cell_type": "markdown",
     "metadata": {},
     "source": [
      "Compute the _expansion_ of a weighted expression.  An expansion is a structure that combines three different features of a (weighted) rational expression $r$:\n",
      "- its _constant-term_, i.e., the weight associated to the empty word, denoted $c(r)$\n",
      "- its _firsts_, i.e., the set of labels that prefix the defined language, denoted $f(r)$\n",
      "- its _derived-terms_, i.e., for each label $a$, its associated polynomials of \"subsequent\" expressions, denoted $\\frac{\\partial}{\\partial a}r$.\n",
      "\n",
      "If one denotes $d(r)$ the expansion of $r$, it holds that:\n",
      "$$\n",
      "  d(r) = c(r) \\oplus \\bigoplus_{a \\in f(r)} a \\odot \\frac{\\partial}{\\partial a}r\n",
      "$$\n",
      "\n",
      "The main use of expansions (and derivations) is to compute the derived-term automaton of an expression.  The advantage of expansions over derivations is their independence with respect to the alphabet.  As a matter of fact, they do not require a finite-alphabet (see examples below).  Besides, the reunite constant-term, first, and derivation into a single concept.\n",
      "\n",
      "See also:\n",
      "- [_expression_.constant_term](expression.constant_term.ipynb)\n",
      "- [_expression_.derivation](expression.derivation.ipynb)\n",
      "- [_expression_.derived_term](expression.derived_term.ipynb)"
     ]
    },
    {
     "cell_type": "heading",
     "level": 2,
     "metadata": {},
     "source": [
      "Examples"
     ]
    },
    {
     "cell_type": "markdown",
     "metadata": {},
     "source": [
      "The following function will prove handy to demonstrate the relation between the expansion on the one hand, and, on the other hand, the constant-term and the derivations.  It takes an expression $r$ and a list of letters, and returns a $\\LaTeX$ `aligned` environment to display:\n",
      "1. $d(r)$ the expansion\n",
      "2. $c(r)$ the constant-term\n",
      "3. $\\frac{\\partial}{\\partial a}r$ the derivation with respect to $a$."
     ]
    },
    {
     "cell_type": "code",
     "collapsed": false,
     "input": [
      "import vcsn\n",
      "from IPython.display import Latex\n",
      "\n",
      "def diffs(r, ss):\n",
      "    eqs = [r'd\\left({0}\\right) &= {1}'.format(r.format('latex'), r.expansion().format('latex')),\n",
      "           r'c\\left({0}\\right) &= {1}'.format(r.format('latex'), r.constant_term().format('latex'))]\n",
      "    for s in ss:\n",
      "        eqs.append(r'\\frac{{\\partial}}{{\\partial {0}}} {1} &= {2}'\n",
      "                   .format(s,\n",
      "                           r.format('latex'),\n",
      "                           r.derivation(s).format('latex')))\n",
      "    return Latex(r'''\\begin{{aligned}}\n",
      "        {eqs}\n",
      "    \\end{{aligned}}'''.format(eqs = r'\\\\'.join(eqs)))"
     ],
     "language": "python",
     "metadata": {},
     "outputs": [
      {
       "javascript": [
        "IPython.load_extensions(\"AutomatonD3Widget\")"
       ],
       "metadata": {},
       "output_type": "display_data",
       "text": [
        "<IPython.core.display.Javascript at 0x10a003b10>"
       ]
      }
     ],
     "prompt_number": 1
    },
    {
     "cell_type": "heading",
     "level": 3,
     "metadata": {},
     "source": [
      "Classical Expressions"
     ]
    },
    {
     "cell_type": "markdown",
     "metadata": {},
     "source": [
      "In the classical case (labels are letters, and weights are Boolean), this is the construct as described by Antimirov."
     ]
    },
    {
     "cell_type": "code",
     "collapsed": false,
     "input": [
      "b = vcsn.context('lal_char(ab), b')\n",
      "r = b.expression('[ab]{3}')\n",
      "r.expansion()"
     ],
     "language": "python",
     "metadata": {},
     "outputs": [
      {
       "latex": [
        "$a \\odot \\left[\\left(a + b\\right) \\, \\left(a + b\\right)\\right] \\oplus b \\odot \\left[\\left(a + b\\right) \\, \\left(a + b\\right)\\right]$"
       ],
       "metadata": {},
       "output_type": "pyout",
       "prompt_number": 2,
       "text": [
        "a.[(a+b)(a+b)] + b.[(a+b)(a+b)]"
       ]
      }
     ],
     "prompt_number": 2
    },
    {
     "cell_type": "markdown",
     "metadata": {},
     "source": [
      "Or, using the `diffs` function we defined above:"
     ]
    },
    {
     "cell_type": "code",
     "collapsed": false,
     "input": [
      "diffs(r, ['a', 'b'])"
     ],
     "language": "python",
     "metadata": {},
     "outputs": [
      {
       "latex": [
        "\\begin{aligned}\n",
        "        d\\left(\\left(a + b\\right) \\, \\left(a + b\\right) \\, \\left(a + b\\right)\\right) &= a \\odot \\left[\\left(a + b\\right) \\, \\left(a + b\\right)\\right] \\oplus b \\odot \\left[\\left(a + b\\right) \\, \\left(a + b\\right)\\right]\\\\c\\left(\\left(a + b\\right) \\, \\left(a + b\\right) \\, \\left(a + b\\right)\\right) &= \\bot\\\\\\frac{\\partial}{\\partial a} \\left(a + b\\right) \\, \\left(a + b\\right) \\, \\left(a + b\\right) &= \\left(a + b\\right) \\, \\left(a + b\\right)\\\\\\frac{\\partial}{\\partial b} \\left(a + b\\right) \\, \\left(a + b\\right) \\, \\left(a + b\\right) &= \\left(a + b\\right) \\, \\left(a + b\\right)\n",
        "    \\end{aligned}"
       ],
       "metadata": {},
       "output_type": "pyout",
       "prompt_number": 3,
       "text": [
        "<IPython.core.display.Latex at 0x10686a590>"
       ]
      }
     ],
     "prompt_number": 3
    },
    {
     "cell_type": "heading",
     "level": 3,
     "metadata": {},
     "source": [
      "Weighted Expressions"
     ]
    },
    {
     "cell_type": "markdown",
     "metadata": {},
     "source": [
      "Of course, expressions can be weighted."
     ]
    },
    {
     "cell_type": "code",
     "collapsed": false,
     "input": [
      "q = vcsn.context('lal_char(abc), q')\n",
      "r = q.expression('(<1/6>a*+<1/3>b*)*')\n",
      "diffs(r, ['a', 'b'])"
     ],
     "language": "python",
     "metadata": {},
     "outputs": [
      {
       "latex": [
        "\\begin{aligned}\n",
        "        d\\left(\\left( \\left\\langle \\frac{1}{6} \\right\\rangle \\,{a}^{*} +  \\left\\langle \\frac{1}{3} \\right\\rangle \\,{b}^{*}\\right)^{*}\\right) &= \\left\\langle 2\\right\\rangle  \\oplus a \\odot \\left[\\left\\langle \\frac{1}{3}\\right\\rangle {a}^{*} \\, \\left( \\left\\langle \\frac{1}{6} \\right\\rangle \\,{a}^{*} +  \\left\\langle \\frac{1}{3} \\right\\rangle \\,{b}^{*}\\right)^{*}\\right] \\oplus b \\odot \\left[\\left\\langle \\frac{2}{3}\\right\\rangle {b}^{*} \\, \\left( \\left\\langle \\frac{1}{6} \\right\\rangle \\,{a}^{*} +  \\left\\langle \\frac{1}{3} \\right\\rangle \\,{b}^{*}\\right)^{*}\\right]\\\\c\\left(\\left( \\left\\langle \\frac{1}{6} \\right\\rangle \\,{a}^{*} +  \\left\\langle \\frac{1}{3} \\right\\rangle \\,{b}^{*}\\right)^{*}\\right) &= 2\\\\\\frac{\\partial}{\\partial a} \\left( \\left\\langle \\frac{1}{6} \\right\\rangle \\,{a}^{*} +  \\left\\langle \\frac{1}{3} \\right\\rangle \\,{b}^{*}\\right)^{*} &= \\left\\langle \\frac{1}{3}\\right\\rangle {a}^{*} \\, \\left( \\left\\langle \\frac{1}{6} \\right\\rangle \\,{a}^{*} +  \\left\\langle \\frac{1}{3} \\right\\rangle \\,{b}^{*}\\right)^{*}\\\\\\frac{\\partial}{\\partial b} \\left( \\left\\langle \\frac{1}{6} \\right\\rangle \\,{a}^{*} +  \\left\\langle \\frac{1}{3} \\right\\rangle \\,{b}^{*}\\right)^{*} &= \\left\\langle \\frac{2}{3}\\right\\rangle {b}^{*} \\, \\left( \\left\\langle \\frac{1}{6} \\right\\rangle \\,{a}^{*} +  \\left\\langle \\frac{1}{3} \\right\\rangle \\,{b}^{*}\\right)^{*}\n",
        "    \\end{aligned}"
       ],
       "metadata": {},
       "output_type": "pyout",
       "prompt_number": 4,
       "text": [
        "<IPython.core.display.Latex at 0x10686a8d0>"
       ]
      }
     ],
     "prompt_number": 4
    },
    {
     "cell_type": "markdown",
     "metadata": {},
     "source": [
      "And this is tightly connected with the construction of the derived-term automaton."
     ]
    },
    {
     "cell_type": "code",
     "collapsed": false,
     "input": [
      "r.derived_term()"
     ],
     "language": "python",
     "metadata": {},
     "outputs": [
      {
       "metadata": {},
       "output_type": "pyout",
       "prompt_number": 5,
       "svg": [
        "<?xml version=\"1.0\" encoding=\"UTF-8\" standalone=\"no\"?>\n",
        "<!DOCTYPE svg PUBLIC \"-//W3C//DTD SVG 1.1//EN\"\n",
        " \"http://www.w3.org/Graphics/SVG/1.1/DTD/svg11.dtd\">\n",
        "<!-- Generated by graphviz version 2.38.0 (20140413.2041)\n",
        " -->\n",
        "<!-- Title: %3 Pages: 1 -->\n",
        "<svg width=\"641pt\" height=\"130pt\"\n",
        " viewBox=\"0.00 0.00 641.00 129.58\" xmlns=\"http://www.w3.org/2000/svg\" xmlns:xlink=\"http://www.w3.org/1999/xlink\">\n",
        "<g id=\"graph0\" class=\"graph\" transform=\"scale(1 1) rotate(0) translate(4 121.04)\">\n",
        "<title>%3</title>\n",
        "<polygon fill=\"white\" stroke=\"none\" points=\"-4,8.5421 -4,-121.04 637,-121.04 637,8.5421 -4,8.5421\"/>\n",
        "<!-- I0 -->\n",
        "<g id=\"node1\" class=\"node\"><title>I0</title>\n",
        "<ellipse fill=\"black\" stroke=\"black\" cx=\"0\" cy=\"-48.042\" rx=\"0\" ry=\"0\"/>\n",
        "</g>\n",
        "<!-- 0 -->\n",
        "<g id=\"node5\" class=\"node\"><title>0</title>\n",
        "<path fill=\"#98f5ff\" stroke=\"black\" d=\"M149,-66.042C149,-66.042 49,-66.042 49,-66.042 43,-66.042 37,-60.042 37,-54.042 37,-54.042 37,-42.042 37,-42.042 37,-36.042 43,-30.042 49,-30.042 49,-30.042 149,-30.042 149,-30.042 155,-30.042 161,-36.042 161,-42.042 161,-42.042 161,-54.042 161,-54.042 161,-60.042 155,-66.042 149,-66.042\"/>\n",
        "<text text-anchor=\"middle\" x=\"99\" y=\"-44.342\" font-family=\"Times,serif\" font-size=\"14.00\">(\u27e81/6\u27e9a*+\u27e81/3\u27e9b*)*</text>\n",
        "</g>\n",
        "<!-- I0&#45;&gt;0 -->\n",
        "<g id=\"edge1\" class=\"edge\"><title>I0&#45;&gt;0</title>\n",
        "<path fill=\"none\" stroke=\"black\" d=\"M1.0703,-48.042C2.1136,-48.042 14.645,-48.042 30.371,-48.042\"/>\n",
        "<polygon fill=\"black\" stroke=\"black\" points=\"36.783,-48.042 30.783,-50.7421 33.783,-48.042 30.783,-48.0421 30.783,-48.0421 30.783,-48.0421 33.783,-48.042 30.783,-45.3421 36.783,-48.042 36.783,-48.042\"/>\n",
        "</g>\n",
        "<!-- F0 -->\n",
        "<g id=\"node2\" class=\"node\"><title>F0</title>\n",
        "<ellipse fill=\"black\" stroke=\"black\" cx=\"300.5\" cy=\"-117.04\" rx=\"0\" ry=\"0\"/>\n",
        "</g>\n",
        "<!-- F1 -->\n",
        "<g id=\"node3\" class=\"node\"><title>F1</title>\n",
        "<ellipse fill=\"black\" stroke=\"black\" cx=\"510\" cy=\"-96.042\" rx=\"0\" ry=\"0\"/>\n",
        "</g>\n",
        "<!-- F2 -->\n",
        "<g id=\"node4\" class=\"node\"><title>F2</title>\n",
        "<ellipse fill=\"black\" stroke=\"black\" cx=\"633\" cy=\"-20.042\" rx=\"0\" ry=\"0\"/>\n",
        "</g>\n",
        "<!-- 0&#45;&gt;F0 -->\n",
        "<g id=\"edge2\" class=\"edge\"><title>0&#45;&gt;F0</title>\n",
        "<path fill=\"none\" stroke=\"black\" d=\"M151.679,-66.0803C202.184,-83.3744 273.74,-107.877 294.588,-115.016\"/>\n",
        "<polygon fill=\"black\" stroke=\"black\" points=\"300.435,-117.018 293.884,-117.628 297.597,-116.046 294.759,-115.074 294.759,-115.074 294.759,-115.074 297.597,-116.046 295.633,-112.52 300.435,-117.018 300.435,-117.018\"/>\n",
        "<text text-anchor=\"middle\" x=\"214.133\" y=\"-94.348\" font-family=\"Times,serif\" font-size=\"14.00\">\u27e82\u27e9</text>\n",
        "</g>\n",
        "<!-- 1 -->\n",
        "<g id=\"node6\" class=\"node\"><title>1</title>\n",
        "<path fill=\"#98f5ff\" stroke=\"black\" d=\"M357,-66.042C357,-66.042 244,-66.042 244,-66.042 238,-66.042 232,-60.042 232,-54.042 232,-54.042 232,-42.042 232,-42.042 232,-36.042 238,-30.042 244,-30.042 244,-30.042 357,-30.042 357,-30.042 363,-30.042 369,-36.042 369,-42.042 369,-42.042 369,-54.042 369,-54.042 369,-60.042 363,-66.042 357,-66.042\"/>\n",
        "<text text-anchor=\"middle\" x=\"300.5\" y=\"-44.342\" font-family=\"Times,serif\" font-size=\"14.00\">a*(\u27e81/6\u27e9a*+\u27e81/3\u27e9b*)*</text>\n",
        "</g>\n",
        "<!-- 0&#45;&gt;1 -->\n",
        "<g id=\"edge3\" class=\"edge\"><title>0&#45;&gt;1</title>\n",
        "<path fill=\"none\" stroke=\"black\" d=\"M161.21,-48.042C181.54,-48.042 204.39,-48.042 225.58,-48.042\"/>\n",
        "<polygon fill=\"black\" stroke=\"black\" points=\"231.8,-48.042 225.8,-50.7421 228.8,-48.042 225.8,-48.0421 225.8,-48.0421 225.8,-48.0421 228.8,-48.042 225.8,-45.3421 231.8,-48.042 231.8,-48.042\"/>\n",
        "<text text-anchor=\"middle\" x=\"196.5\" y=\"-51.842\" font-family=\"Times,serif\" font-size=\"14.00\">\u27e81/3\u27e9a</text>\n",
        "</g>\n",
        "<!-- 2 -->\n",
        "<g id=\"node7\" class=\"node\"><title>2</title>\n",
        "<path fill=\"#98f5ff\" stroke=\"black\" d=\"M567,-38.042C567,-38.042 453,-38.042 453,-38.042 447,-38.042 441,-32.042 441,-26.042 441,-26.042 441,-14.042 441,-14.042 441,-8.042 447,-2.042 453,-2.042 453,-2.042 567,-2.042 567,-2.042 573,-2.042 579,-8.042 579,-14.042 579,-14.042 579,-26.042 579,-26.042 579,-32.042 573,-38.042 567,-38.042\"/>\n",
        "<text text-anchor=\"middle\" x=\"510\" y=\"-16.342\" font-family=\"Times,serif\" font-size=\"14.00\">b*(\u27e81/6\u27e9a*+\u27e81/3\u27e9b*)*</text>\n",
        "</g>\n",
        "<!-- 0&#45;&gt;2 -->\n",
        "<g id=\"edge4\" class=\"edge\"><title>0&#45;&gt;2</title>\n",
        "<path fill=\"none\" stroke=\"black\" d=\"M144.68,-30.037C169.87,-20.857 202.18,-10.673 232,-6.0424 300.17,4.5421 378.81,-1.1068 434.83,-8.1335\"/>\n",
        "<polygon fill=\"black\" stroke=\"black\" points=\"440.87,-8.9064 434.576,-10.8229 437.894,-8.52557 434.919,-8.14474 434.919,-8.14474 434.919,-8.14474 437.894,-8.52557 435.261,-5.46658 440.87,-8.9064 440.87,-8.9064\"/>\n",
        "<text text-anchor=\"middle\" x=\"300.5\" y=\"-9.842\" font-family=\"Times,serif\" font-size=\"14.00\">\u27e82/3\u27e9b</text>\n",
        "</g>\n",
        "<!-- 1&#45;&gt;F1 -->\n",
        "<g id=\"edge5\" class=\"edge\"><title>1&#45;&gt;F1</title>\n",
        "<path fill=\"none\" stroke=\"black\" d=\"M369.098,-63.759C420.08,-75.4398 484.084,-90.1042 503.883,-94.6404\"/>\n",
        "<polygon fill=\"black\" stroke=\"black\" points=\"509.942,-96.0287 503.49,-97.3204 507.018,-95.3587 504.093,-94.6886 504.093,-94.6886 504.093,-94.6886 507.018,-95.3587 504.696,-92.0568 509.942,-96.0287 509.942,-96.0287\"/>\n",
        "<text text-anchor=\"middle\" x=\"427.49\" y=\"-82.9997\" font-family=\"Times,serif\" font-size=\"14.00\">\u27e82\u27e9</text>\n",
        "</g>\n",
        "<!-- 1&#45;&gt;1 -->\n",
        "<g id=\"edge6\" class=\"edge\"><title>1&#45;&gt;1</title>\n",
        "<path fill=\"none\" stroke=\"black\" d=\"M281.69,-66.195C278.79,-75.581 285.06,-84.042 300.5,-84.042 312.32,-84.042 318.77,-79.083 319.84,-72.545\"/>\n",
        "<polygon fill=\"black\" stroke=\"black\" points=\"319.31,-66.195 322.5,-71.9496 319.56,-69.1846 319.809,-72.1742 319.809,-72.1742 319.809,-72.1742 319.56,-69.1846 317.118,-72.3988 319.31,-66.195 319.31,-66.195\"/>\n",
        "<text text-anchor=\"middle\" x=\"300.5\" y=\"-87.842\" font-family=\"Times,serif\" font-size=\"14.00\">\u27e84/3\u27e9a</text>\n",
        "</g>\n",
        "<!-- 1&#45;&gt;2 -->\n",
        "<g id=\"edge7\" class=\"edge\"><title>1&#45;&gt;2</title>\n",
        "<path fill=\"none\" stroke=\"black\" d=\"M369.1,-42.401C386.69,-40.65 405.58,-38.518 423,-36.042 426.75,-35.509 430.58,-34.928 434.45,-34.314\"/>\n",
        "<polygon fill=\"black\" stroke=\"black\" points=\"440.55,-33.323 435.061,-36.9503 437.589,-33.8041 434.628,-34.2852 434.628,-34.2852 434.628,-34.2852 437.589,-33.8041 434.195,-31.6202 440.55,-33.323 440.55,-33.323\"/>\n",
        "<text text-anchor=\"middle\" x=\"405\" y=\"-43.842\" font-family=\"Times,serif\" font-size=\"14.00\">\u27e82/3\u27e9b</text>\n",
        "</g>\n",
        "<!-- 2&#45;&gt;F2 -->\n",
        "<g id=\"edge8\" class=\"edge\"><title>2&#45;&gt;F2</title>\n",
        "<path fill=\"none\" stroke=\"black\" d=\"M579.05,-20.042C598.785,-20.042 617.466,-20.042 626.8,-20.042\"/>\n",
        "<polygon fill=\"black\" stroke=\"black\" points=\"632.925,-20.042 626.925,-22.7421 629.925,-20.042 626.925,-20.0421 626.925,-20.0421 626.925,-20.0421 629.925,-20.042 626.925,-17.3421 632.925,-20.042 632.925,-20.042\"/>\n",
        "<text text-anchor=\"middle\" x=\"593.925\" y=\"-23.842\" font-family=\"Times,serif\" font-size=\"14.00\">\u27e82\u27e9</text>\n",
        "</g>\n",
        "<!-- 2&#45;&gt;1 -->\n",
        "<g id=\"edge9\" class=\"edge\"><title>2&#45;&gt;1</title>\n",
        "<path fill=\"none\" stroke=\"black\" d=\"M440.89,-13.615C423.23,-13.245 404.32,-13.999 387,-17.042 374.17,-19.296 360.73,-23.317 348.41,-27.732\"/>\n",
        "<polygon fill=\"black\" stroke=\"black\" points=\"342.45,-29.925 347.149,-25.3191 345.265,-28.889 348.081,-27.853 348.081,-27.853 348.081,-27.853 345.265,-28.889 349.013,-30.3869 342.45,-29.925 342.45,-29.925\"/>\n",
        "<text text-anchor=\"middle\" x=\"405\" y=\"-20.842\" font-family=\"Times,serif\" font-size=\"14.00\">\u27e81/3\u27e9a</text>\n",
        "</g>\n",
        "<!-- 2&#45;&gt;2 -->\n",
        "<g id=\"edge10\" class=\"edge\"><title>2&#45;&gt;2</title>\n",
        "<path fill=\"none\" stroke=\"black\" d=\"M492.63,-38.195C489.96,-47.581 495.75,-56.042 510,-56.042 520.91,-56.042 526.86,-51.083 527.85,-44.545\"/>\n",
        "<polygon fill=\"black\" stroke=\"black\" points=\"527.37,-38.195 530.515,-43.9744 527.596,-41.1865 527.822,-44.1779 527.822,-44.1779 527.822,-44.1779 527.596,-41.1865 525.13,-44.3815 527.37,-38.195 527.37,-38.195\"/>\n",
        "<text text-anchor=\"middle\" x=\"510\" y=\"-59.842\" font-family=\"Times,serif\" font-size=\"14.00\">\u27e85/3\u27e9b</text>\n",
        "</g>\n",
        "</g>\n",
        "</svg>\n"
       ],
       "text": [
        "expression_automaton<mutable_automaton<letterset<char_letters(abc)>, q>>"
       ]
      }
     ],
     "prompt_number": 5
    },
    {
     "cell_type": "heading",
     "level": 3,
     "metadata": {},
     "source": [
      "Breaking expansion"
     ]
    },
    {
     "cell_type": "markdown",
     "metadata": {},
     "source": [
      "There is (currently) no means to break an expansion (which would mean breaking its polynomials).  The construction of the derived-term automaton does it on the fly."
     ]
    },
    {
     "cell_type": "heading",
     "level": 3,
     "metadata": {},
     "source": [
      "Non-free labelsets"
     ]
    },
    {
     "cell_type": "markdown",
     "metadata": {},
     "source": [
      "Contrary to derivation, which requires a finite alphabet, expansions support labels which are words, or even tuples."
     ]
    },
    {
     "cell_type": "code",
     "collapsed": false,
     "input": [
      "ctx = vcsn.context('lat<law_char(0-9), law_char(a-zA-Z)>, b')\n",
      "ctx"
     ],
     "language": "python",
     "metadata": {},
     "outputs": [
      {
       "latex": [
        "$\\{0, 1, 2, 3, 4, 5, 6, 7, 8, 9\\}^* \\times \\{A, B, C, D, E, F, G, H, I, J, K, L, M, N, O, P, Q, R, S, T, U, V, W, X, Y, Z, a, b, c, d, e, f, g, h, i, j, k, l, m, n, o, p, q, r, s, t, u, v, w, x, y, z\\}^*\\rightarrow\\mathbb{B}$"
       ],
       "metadata": {},
       "output_type": "pyout",
       "prompt_number": 6,
       "text": [
        "lat<wordset<char_letters(0123456789)>, wordset<char_letters(ABCDEFGHIJKLMNOPQRSTUVWXYZabcdefghijklmnopqrstuvwxyz)>>, b"
       ]
      }
     ],
     "prompt_number": 6
    },
    {
     "cell_type": "code",
     "collapsed": false,
     "input": [
      "r = ctx.expression(\"('(11,eleven)'+'(12,twelve)'+'(13,thirteen)')*\")\n",
      "r"
     ],
     "language": "python",
     "metadata": {},
     "outputs": [
      {
       "latex": [
        "$\\left((\\mathit{11},\\mathit{eleven}) + (\\mathit{12},\\mathit{twelve}) + (\\mathit{13},\\mathit{thirteen})\\right)^{*}$"
       ],
       "metadata": {},
       "output_type": "pyout",
       "prompt_number": 7,
       "text": [
        "((11,eleven)+(12,twelve)+(13,thirteen))*"
       ]
      }
     ],
     "prompt_number": 7
    },
    {
     "cell_type": "code",
     "collapsed": false,
     "input": [
      "r.expansion()"
     ],
     "language": "python",
     "metadata": {},
     "outputs": [
      {
       "latex": [
        "$\\left\\langle \\top\\right\\rangle  \\oplus (\\mathit{11},\\mathit{eleven}) \\odot \\left[\\left((\\mathit{11},\\mathit{eleven}) + (\\mathit{12},\\mathit{twelve}) + (\\mathit{13},\\mathit{thirteen})\\right)^{*}\\right] \\oplus (\\mathit{12},\\mathit{twelve}) \\odot \\left[\\left((\\mathit{11},\\mathit{eleven}) + (\\mathit{12},\\mathit{twelve}) + (\\mathit{13},\\mathit{thirteen})\\right)^{*}\\right] \\oplus (\\mathit{13},\\mathit{thirteen}) \\odot \\left[\\left((\\mathit{11},\\mathit{eleven}) + (\\mathit{12},\\mathit{twelve}) + (\\mathit{13},\\mathit{thirteen})\\right)^{*}\\right]$"
       ],
       "metadata": {},
       "output_type": "pyout",
       "prompt_number": 8,
       "text": [
        "<1> + (11,eleven).[((11,eleven)+(12,twelve)+(13,thirteen))*] + (12,twelve).[((11,eleven)+(12,twelve)+(13,thirteen))*] + (13,thirteen).[((11,eleven)+(12,twelve)+(13,thirteen))*]"
       ]
      }
     ],
     "prompt_number": 8
    },
    {
     "cell_type": "markdown",
     "metadata": {},
     "source": [
      "This enables the construction of the associated derived-term automaton."
     ]
    },
    {
     "cell_type": "code",
     "collapsed": false,
     "input": [
      "r.derived_term()"
     ],
     "language": "python",
     "metadata": {},
     "outputs": [
      {
       "metadata": {},
       "output_type": "pyout",
       "prompt_number": 9,
       "svg": [
        "<?xml version=\"1.0\" encoding=\"UTF-8\" standalone=\"no\"?>\n",
        "<!DOCTYPE svg PUBLIC \"-//W3C//DTD SVG 1.1//EN\"\n",
        " \"http://www.w3.org/Graphics/SVG/1.1/DTD/svg11.dtd\">\n",
        "<!-- Generated by graphviz version 2.38.0 (20140413.2041)\n",
        " -->\n",
        "<!-- Title: %3 Pages: 1 -->\n",
        "<svg width=\"328pt\" height=\"77pt\"\n",
        " viewBox=\"0.00 0.00 328.00 77.00\" xmlns=\"http://www.w3.org/2000/svg\" xmlns:xlink=\"http://www.w3.org/1999/xlink\">\n",
        "<g id=\"graph0\" class=\"graph\" transform=\"scale(1 1) rotate(0) translate(4 73)\">\n",
        "<title>%3</title>\n",
        "<polygon fill=\"white\" stroke=\"none\" points=\"-4,4 -4,-73 324,-73 324,4 -4,4\"/>\n",
        "<!-- I0 -->\n",
        "<g id=\"node1\" class=\"node\"><title>I0</title>\n",
        "<ellipse fill=\"black\" stroke=\"black\" cx=\"0\" cy=\"-18\" rx=\"0\" ry=\"0\"/>\n",
        "</g>\n",
        "<!-- 0 -->\n",
        "<g id=\"node3\" class=\"node\"><title>0</title>\n",
        "<path fill=\"#98f5ff\" stroke=\"black\" d=\"M271,-36C271,-36 49,-36 49,-36 43,-36 37,-30 37,-24 37,-24 37,-12 37,-12 37,-6 43,-0 49,-0 49,-0 271,-0 271,-0 277,-0 283,-6 283,-12 283,-12 283,-24 283,-24 283,-30 277,-36 271,-36\"/>\n",
        "<text text-anchor=\"middle\" x=\"160\" y=\"-14.3\" font-family=\"Times,serif\" font-size=\"14.00\">((11,eleven)+(12,twelve)+(13,thirteen))*</text>\n",
        "</g>\n",
        "<!-- I0&#45;&gt;0 -->\n",
        "<g id=\"edge1\" class=\"edge\"><title>I0&#45;&gt;0</title>\n",
        "<path fill=\"none\" stroke=\"black\" d=\"M1.1145,-18C2.3795,-18 14.013,-18 30.444,-18\"/>\n",
        "<polygon fill=\"black\" stroke=\"black\" points=\"36.705,-18 30.705,-20.7001 33.705,-18 30.705,-18.0001 30.705,-18.0001 30.705,-18.0001 33.705,-18 30.705,-15.3001 36.705,-18 36.705,-18\"/>\n",
        "</g>\n",
        "<!-- F0 -->\n",
        "<g id=\"node2\" class=\"node\"><title>F0</title>\n",
        "<ellipse fill=\"black\" stroke=\"black\" cx=\"320\" cy=\"-18\" rx=\"0\" ry=\"0\"/>\n",
        "</g>\n",
        "<!-- 0&#45;&gt;F0 -->\n",
        "<g id=\"edge2\" class=\"edge\"><title>0&#45;&gt;F0</title>\n",
        "<path fill=\"none\" stroke=\"black\" d=\"M283.293,-18C296.497,-18 307.45,-18 313.86,-18\"/>\n",
        "<polygon fill=\"black\" stroke=\"black\" points=\"319.955,-18 313.955,-20.7001 316.955,-18 313.955,-18.0001 313.955,-18.0001 313.955,-18.0001 316.955,-18 313.955,-15.3001 319.955,-18 319.955,-18\"/>\n",
        "</g>\n",
        "<!-- 0&#45;&gt;0 -->\n",
        "<g id=\"edge3\" class=\"edge\"><title>0&#45;&gt;0</title>\n",
        "<path fill=\"none\" stroke=\"black\" d=\"M134.67,-36.153C130.78,-45.539 139.22,-54 160,-54 175.91,-54 184.59,-49.04 186.03,-42.503\"/>\n",
        "<polygon fill=\"black\" stroke=\"black\" points=\"185.33,-36.153 188.671,-41.821 185.659,-39.1349 185.988,-42.1169 185.988,-42.1169 185.988,-42.1169 185.659,-39.1349 183.304,-42.4128 185.33,-36.153 185.33,-36.153\"/>\n",
        "<text text-anchor=\"middle\" x=\"160\" y=\"-57.8\" font-family=\"Times,serif\" font-size=\"14.00\">(11,eleven), (12,twelve), (13,thirteen)</text>\n",
        "</g>\n",
        "</g>\n",
        "</svg>\n"
       ],
       "text": [
        "expression_automaton<mutable_automaton<lat<wordset<char_letters(0123456789)>, wordset<char_letters(ABCDEFGHIJKLMNOPQRSTUVWXYZabcdefghijklmnopqrstuvwxyz)>>, b>>"
       ]
      }
     ],
     "prompt_number": 9
    }
   ],
   "metadata": {}
  }
 ]
}