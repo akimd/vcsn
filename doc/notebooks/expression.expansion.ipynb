{
 "cells": [
  {
   "cell_type": "markdown",
   "metadata": {},
   "source": [
    "# _`expression`_.`expansion()`\n",
    "\n",
    "Compute the _expansion_ of a weighted expression.  An expansion is a structure that combines three different features of a (weighted) rational expression $r$:\n",
    "- its _constant-term_, i.e., the weight associated to the empty word, denoted $c(r)$\n",
    "- its _firsts_, i.e., the set of labels that prefix the defined language, denoted $f(r)$\n",
    "- its _derived-terms_, i.e., for each label $a$, its associated polynomials of \"subsequent\" expressions, denoted $\\frac{\\partial}{\\partial a}r$.\n",
    "\n",
    "If one denotes $d(r)$ the expansion of $r$, it holds that:\n",
    "$$\n",
    "  d(r) = c(r) \\oplus \\bigoplus_{a \\in f(r)} a \\odot \\frac{\\partial}{\\partial a}r\n",
    "$$\n",
    "\n",
    "The main use of expansions (and derivations) is to compute the derived-term automaton of an expression.  The advantage of expansions over derivations is their independence with respect to the alphabet.  As a matter of fact, they do not require a finite-alphabet (see examples below).  Besides, the reunite constant-term, first, and derivation into a single concept.\n",
    "\n",
    "See also:\n",
    "- [_expression_.constant_term](expression.constant_term.ipynb)\n",
    "- [_expression_.derivation](expression.derivation.ipynb)\n",
    "- [_expression_.derived_term](expression.derived_term.ipynb)\n",
    "\n",
    "References:\n",
    "- [demaille.2016.ictac](References.ipynb#demaille.2016.ictac) introduces expansions\n",
    "\n",
    "## Examples\n",
    "\n",
    "The following function will prove handy to demonstrate the relation between the expansion on the one hand, and, on the other hand, the constant-term and the derivations.  It takes an expression $r$ and a list of letters, and returns a $\\LaTeX$ `aligned` environment to display:\n",
    "1. $d(r)$ the expansion\n",
    "2. $c(r)$ the constant-term\n",
    "3. $\\frac{\\partial}{\\partial a}r$ the derivation with respect to $a$."
   ]
  },
  {
   "cell_type": "code",
   "execution_count": 1,
   "metadata": {
    "collapsed": false
   },
   "outputs": [],
   "source": [
    "import vcsn\n",
    "from IPython.display import Latex\n",
    "\n",
    "def diffs(e, ss):\n",
    "    eqs = [r'd\\left({0:x}\\right) &= {1:x}'.format(e, e.expansion()),\n",
    "           r'c\\left({0:x}\\right) &= {1:x}'.format(e, e.constant_term())]\n",
    "    for s in ss:\n",
    "        eqs.append(r'\\frac{{\\partial}}{{\\partial {0}}} {1:x} &= {2:x}'\n",
    "                   .format(s, e, e.derivation(s)))\n",
    "    return Latex(r'''\\begin{{aligned}}\n",
    "        {eqs}\n",
    "    \\end{{aligned}}'''.format(eqs=r'\\\\'.join(eqs)))"
   ]
  },
  {
   "cell_type": "markdown",
   "metadata": {},
   "source": [
    "### Classical Expressions\n",
    "\n",
    "In the classical case (labels are letters, and weights are Boolean), this is the construct as described by Antimirov."
   ]
  },
  {
   "cell_type": "code",
   "execution_count": 2,
   "metadata": {
    "collapsed": false
   },
   "outputs": [
    {
     "data": {
      "text/latex": [
       "$a \\odot \\left[\\left(a + b\\right)^{2}\\right] \\oplus b \\odot \\left[\\left(a + b\\right)^{2}\\right]$"
      ],
      "text/plain": [
       "a.[(a+b){2}] + b.[(a+b){2}]"
      ]
     },
     "execution_count": 2,
     "metadata": {},
     "output_type": "execute_result"
    }
   ],
   "source": [
    "b = vcsn.context('lal_char(ab), b')\n",
    "e = b.expression('[ab]{3}')\n",
    "e.expansion()"
   ]
  },
  {
   "cell_type": "markdown",
   "metadata": {},
   "source": [
    "Or, using the `diffs` function we defined above:"
   ]
  },
  {
   "cell_type": "code",
   "execution_count": 3,
   "metadata": {
    "collapsed": false
   },
   "outputs": [
    {
     "data": {
      "text/latex": [
       "\\begin{aligned}\n",
       "        d\\left(\\left(a + b\\right)^{3}\\right) &= a \\odot \\left[\\left(a + b\\right)^{2}\\right] \\oplus b \\odot \\left[\\left(a + b\\right)^{2}\\right]\\\\c\\left(\\left(a + b\\right)^{3}\\right) &= \\bot\\\\\\frac{\\partial}{\\partial a} \\left(a + b\\right)^{3} &= \\left(a + b\\right)^{2}\\\\\\frac{\\partial}{\\partial b} \\left(a + b\\right)^{3} &= \\left(a + b\\right)^{2}\n",
       "    \\end{aligned}"
      ],
      "text/plain": [
       "<IPython.core.display.Latex object>"
      ]
     },
     "execution_count": 3,
     "metadata": {},
     "output_type": "execute_result"
    }
   ],
   "source": [
    "diffs(e, ['a', 'b'])"
   ]
  },
  {
   "cell_type": "markdown",
   "metadata": {},
   "source": [
    "### Weighted Expressions\n",
    "\n",
    "Of course, expressions can be weighted."
   ]
  },
  {
   "cell_type": "code",
   "execution_count": 4,
   "metadata": {
    "collapsed": false
   },
   "outputs": [
    {
     "data": {
      "text/latex": [
       "\\begin{aligned}\n",
       "        d\\left(\\left( \\left\\langle \\frac{1}{6} \\right\\rangle \\,{a}^{*} +  \\left\\langle \\frac{1}{3} \\right\\rangle \\,{b}^{*}\\right)^{*}\\right) &= \\left\\langle 2\\right\\rangle  \\oplus a \\odot \\left[\\left\\langle \\frac{1}{3}\\right\\rangle {a}^{*} \\, \\left( \\left\\langle \\frac{1}{6} \\right\\rangle \\,{a}^{*} +  \\left\\langle \\frac{1}{3} \\right\\rangle \\,{b}^{*}\\right)^{*}\\right] \\oplus b \\odot \\left[\\left\\langle \\frac{2}{3}\\right\\rangle {b}^{*} \\, \\left( \\left\\langle \\frac{1}{6} \\right\\rangle \\,{a}^{*} +  \\left\\langle \\frac{1}{3} \\right\\rangle \\,{b}^{*}\\right)^{*}\\right]\\\\c\\left(\\left( \\left\\langle \\frac{1}{6} \\right\\rangle \\,{a}^{*} +  \\left\\langle \\frac{1}{3} \\right\\rangle \\,{b}^{*}\\right)^{*}\\right) &= 2\\\\\\frac{\\partial}{\\partial a} \\left( \\left\\langle \\frac{1}{6} \\right\\rangle \\,{a}^{*} +  \\left\\langle \\frac{1}{3} \\right\\rangle \\,{b}^{*}\\right)^{*} &= \\left\\langle \\frac{1}{3}\\right\\rangle {a}^{*} \\, \\left( \\left\\langle \\frac{1}{6} \\right\\rangle \\,{a}^{*} +  \\left\\langle \\frac{1}{3} \\right\\rangle \\,{b}^{*}\\right)^{*}\\\\\\frac{\\partial}{\\partial b} \\left( \\left\\langle \\frac{1}{6} \\right\\rangle \\,{a}^{*} +  \\left\\langle \\frac{1}{3} \\right\\rangle \\,{b}^{*}\\right)^{*} &= \\left\\langle \\frac{2}{3}\\right\\rangle {b}^{*} \\, \\left( \\left\\langle \\frac{1}{6} \\right\\rangle \\,{a}^{*} +  \\left\\langle \\frac{1}{3} \\right\\rangle \\,{b}^{*}\\right)^{*}\n",
       "    \\end{aligned}"
      ],
      "text/plain": [
       "<IPython.core.display.Latex object>"
      ]
     },
     "execution_count": 4,
     "metadata": {},
     "output_type": "execute_result"
    }
   ],
   "source": [
    "q = vcsn.context('lal_char(abc), q')\n",
    "e = q.expression('(<1/6>a*+<1/3>b*)*')\n",
    "diffs(e, ['a', 'b'])"
   ]
  },
  {
   "cell_type": "markdown",
   "metadata": {},
   "source": [
    "And this is tightly connected with the construction of the derived-term automaton."
   ]
  },
  {
   "cell_type": "code",
   "execution_count": 5,
   "metadata": {
    "collapsed": false
   },
   "outputs": [
    {
     "data": {
      "image/svg+xml": [
       "<?xml version=\"1.0\" encoding=\"UTF-8\" standalone=\"no\"?>\n",
       "<!DOCTYPE svg PUBLIC \"-//W3C//DTD SVG 1.1//EN\"\n",
       " \"http://www.w3.org/Graphics/SVG/1.1/DTD/svg11.dtd\">\n",
       "<!-- Generated by graphviz version 2.38.0 (20140413.2041)\n",
       " -->\n",
       "<!-- Title: %3 Pages: 1 -->\n",
       "<svg width=\"592pt\" height=\"123pt\"\n",
       " viewBox=\"0.00 0.00 592.00 122.58\" xmlns=\"http://www.w3.org/2000/svg\" xmlns:xlink=\"http://www.w3.org/1999/xlink\">\n",
       "<g id=\"graph0\" class=\"graph\" transform=\"scale(1 1) rotate(0) translate(4 114.34)\">\n",
       "<title>%3</title>\n",
       "<polygon fill=\"white\" stroke=\"none\" points=\"-4,8.2368 -4,-114.34 588,-114.34 588,8.2368 -4,8.2368\"/>\n",
       "<!-- I0 -->\n",
       "<g id=\"node1\" class=\"node\"><title>I0</title>\n",
       "<ellipse fill=\"black\" stroke=\"black\" cx=\"0\" cy=\"-44.34\" rx=\"0\" ry=\"0\"/>\n",
       "</g>\n",
       "<!-- 0 -->\n",
       "<g id=\"node5\" class=\"node\"><title>0</title>\n",
       "<path fill=\"#98f5ff\" stroke=\"black\" d=\"M136.333,-58.84C136.333,-58.84 46.6667,-58.84 46.6667,-58.84 41.8333,-58.84 37,-54.0067 37,-49.1733 37,-49.1733 37,-39.5067 37,-39.5067 37,-34.6733 41.8333,-29.84 46.6667,-29.84 46.6667,-29.84 136.333,-29.84 136.333,-29.84 141.167,-29.84 146,-34.6733 146,-39.5067 146,-39.5067 146,-49.1733 146,-49.1733 146,-54.0067 141.167,-58.84 136.333,-58.84\"/>\n",
       "<text text-anchor=\"middle\" x=\"91.5\" y=\"-41.24\" font-family=\"Times,serif\" font-size=\"12.00\">(⟨1/6⟩a*+⟨1/3⟩b*)*</text>\n",
       "</g>\n",
       "<!-- I0&#45;&gt;0 -->\n",
       "<g id=\"edge1\" class=\"edge\"><title>I0&#45;&gt;0</title>\n",
       "<path fill=\"none\" stroke=\"black\" d=\"M1.0649,-44.34C2.0789,-44.34 14.855,-44.34 30.449,-44.34\"/>\n",
       "<polygon fill=\"black\" stroke=\"black\" points=\"36.787,-44.34 30.787,-47.0401 33.787,-44.34 30.787,-44.3401 30.787,-44.3401 30.787,-44.3401 33.787,-44.34 30.787,-41.6401 36.787,-44.34 36.787,-44.34\"/>\n",
       "</g>\n",
       "<!-- F0 -->\n",
       "<g id=\"node2\" class=\"node\"><title>F0</title>\n",
       "<ellipse fill=\"black\" stroke=\"black\" cx=\"277\" cy=\"-110.34\" rx=\"0\" ry=\"0\"/>\n",
       "</g>\n",
       "<!-- F1 -->\n",
       "<g id=\"node3\" class=\"node\"><title>F1</title>\n",
       "<ellipse fill=\"black\" stroke=\"black\" cx=\"469.5\" cy=\"-94.34\" rx=\"0\" ry=\"0\"/>\n",
       "</g>\n",
       "<!-- F2 -->\n",
       "<g id=\"node4\" class=\"node\"><title>F2</title>\n",
       "<ellipse fill=\"black\" stroke=\"black\" cx=\"584\" cy=\"-18.34\" rx=\"0\" ry=\"0\"/>\n",
       "</g>\n",
       "<!-- 0&#45;&gt;F0 -->\n",
       "<g id=\"edge2\" class=\"edge\"><title>0&#45;&gt;F0</title>\n",
       "<path fill=\"none\" stroke=\"black\" d=\"M132.668,-58.9875C178.899,-75.4363 250.2,-100.805 271.071,-108.23\"/>\n",
       "<polygon fill=\"black\" stroke=\"black\" points=\"276.935,-110.317 270.377,-110.849 274.108,-109.311 271.282,-108.305 271.282,-108.305 271.282,-108.305 274.108,-109.311 272.187,-105.762 276.935,-110.317 276.935,-110.317\"/>\n",
       "<text text-anchor=\"middle\" x=\"192.87\" y=\"-87.409\" font-family=\"Times,serif\" font-size=\"14.00\">⟨2⟩</text>\n",
       "</g>\n",
       "<!-- 1 -->\n",
       "<g id=\"node6\" class=\"node\"><title>1</title>\n",
       "<path fill=\"#98f5ff\" stroke=\"black\" d=\"M327.333,-58.84C327.333,-58.84 226.667,-58.84 226.667,-58.84 221.833,-58.84 217,-54.0067 217,-49.1733 217,-49.1733 217,-39.5067 217,-39.5067 217,-34.6733 221.833,-29.84 226.667,-29.84 226.667,-29.84 327.333,-29.84 327.333,-29.84 332.167,-29.84 337,-34.6733 337,-39.5067 337,-39.5067 337,-49.1733 337,-49.1733 337,-54.0067 332.167,-58.84 327.333,-58.84\"/>\n",
       "<text text-anchor=\"middle\" x=\"277\" y=\"-41.24\" font-family=\"Times,serif\" font-size=\"12.00\">a*(⟨1/6⟩a*+⟨1/3⟩b*)*</text>\n",
       "</g>\n",
       "<!-- 0&#45;&gt;1 -->\n",
       "<g id=\"edge3\" class=\"edge\"><title>0&#45;&gt;1</title>\n",
       "<path fill=\"none\" stroke=\"black\" d=\"M146.07,-44.34C166.29,-44.34 189.52,-44.34 210.69,-44.34\"/>\n",
       "<polygon fill=\"black\" stroke=\"black\" points=\"216.9,-44.34 210.9,-47.0401 213.9,-44.34 210.9,-44.3401 210.9,-44.3401 210.9,-44.3401 213.9,-44.34 210.9,-41.6401 216.9,-44.34 216.9,-44.34\"/>\n",
       "<text text-anchor=\"middle\" x=\"181.5\" y=\"-48.14\" font-family=\"Times,serif\" font-size=\"14.00\">⟨1/3⟩a</text>\n",
       "</g>\n",
       "<!-- 2 -->\n",
       "<g id=\"node7\" class=\"node\"><title>2</title>\n",
       "<path fill=\"#98f5ff\" stroke=\"black\" d=\"M520.333,-32.84C520.333,-32.84 418.667,-32.84 418.667,-32.84 413.833,-32.84 409,-28.0067 409,-23.1733 409,-23.1733 409,-13.5067 409,-13.5067 409,-8.67333 413.833,-3.84 418.667,-3.84 418.667,-3.84 520.333,-3.84 520.333,-3.84 525.167,-3.84 530,-8.67333 530,-13.5067 530,-13.5067 530,-23.1733 530,-23.1733 530,-28.0067 525.167,-32.84 520.333,-32.84\"/>\n",
       "<text text-anchor=\"middle\" x=\"469.5\" y=\"-15.24\" font-family=\"Times,serif\" font-size=\"12.00\">b*(⟨1/6⟩a*+⟨1/3⟩b*)*</text>\n",
       "</g>\n",
       "<!-- 0&#45;&gt;2 -->\n",
       "<g id=\"edge4\" class=\"edge\"><title>0&#45;&gt;2</title>\n",
       "<path fill=\"none\" stroke=\"black\" d=\"M128.58,-29.835C153.07,-20.792 186.44,-10.015 217,-5.3397 279.61,4.2368 351.89,-1.1873 402.85,-7.7019\"/>\n",
       "<polygon fill=\"black\" stroke=\"black\" points=\"408.96,-8.5008 402.661,-10.4 405.985,-8.11181 403.011,-7.72282 403.011,-7.72282 403.011,-7.72282 405.985,-8.11181 403.361,-5.04561 408.96,-8.5008 408.96,-8.5008\"/>\n",
       "<text text-anchor=\"middle\" x=\"277\" y=\"-9.14\" font-family=\"Times,serif\" font-size=\"14.00\">⟨2/3⟩b</text>\n",
       "</g>\n",
       "<!-- 1&#45;&gt;F1 -->\n",
       "<g id=\"edge5\" class=\"edge\"><title>1&#45;&gt;F1</title>\n",
       "<path fill=\"none\" stroke=\"black\" d=\"M332.938,-58.8692C380.362,-71.1873 443.724,-87.645 463.408,-92.7576\"/>\n",
       "<polygon fill=\"black\" stroke=\"black\" points=\"469.442,-94.3249 462.956,-95.4298 466.538,-93.5707 463.635,-92.8165 463.635,-92.8165 463.635,-92.8165 466.538,-93.5707 464.314,-90.2032 469.442,-94.3249 469.442,-94.3249\"/>\n",
       "<text text-anchor=\"middle\" x=\"389.173\" y=\"-79.6134\" font-family=\"Times,serif\" font-size=\"14.00\">⟨2⟩</text>\n",
       "</g>\n",
       "<!-- 1&#45;&gt;1 -->\n",
       "<g id=\"edge6\" class=\"edge\"><title>1&#45;&gt;1</title>\n",
       "<path fill=\"none\" stroke=\"black\" d=\"M260.62,-59.046C256.67,-68.163 262.13,-76.84 277,-76.84 288.39,-76.84 294.26,-71.754 294.61,-65.278\"/>\n",
       "<polygon fill=\"black\" stroke=\"black\" points=\"293.38,-59.046 297.191,-64.4096 293.961,-61.9892 294.542,-64.9324 294.542,-64.9324 294.542,-64.9324 293.961,-61.9892 291.893,-65.4553 293.38,-59.046 293.38,-59.046\"/>\n",
       "<text text-anchor=\"middle\" x=\"277\" y=\"-80.64\" font-family=\"Times,serif\" font-size=\"14.00\">⟨4/3⟩a</text>\n",
       "</g>\n",
       "<!-- 1&#45;&gt;2 -->\n",
       "<g id=\"edge7\" class=\"edge\"><title>1&#45;&gt;2</title>\n",
       "<path fill=\"none\" stroke=\"black\" d=\"M337.09,-40.405C354.5,-38.896 373.56,-36.903 391,-34.34 394.93,-33.763 398.95,-33.112 403.01,-32.412\"/>\n",
       "<polygon fill=\"black\" stroke=\"black\" points=\"408.96,-31.353 403.526,-35.0627 406.006,-31.8787 403.053,-32.4045 403.053,-32.4045 403.053,-32.4045 406.006,-31.8787 402.58,-29.7462 408.96,-31.353 408.96,-31.353\"/>\n",
       "<text text-anchor=\"middle\" x=\"373\" y=\"-43.14\" font-family=\"Times,serif\" font-size=\"14.00\">⟨2/3⟩b</text>\n",
       "</g>\n",
       "<!-- 2&#45;&gt;F2 -->\n",
       "<g id=\"edge8\" class=\"edge\"><title>2&#45;&gt;F2</title>\n",
       "<path fill=\"none\" stroke=\"black\" d=\"M530.103,-18.34C549.434,-18.34 568.254,-18.34 577.705,-18.34\"/>\n",
       "<polygon fill=\"black\" stroke=\"black\" points=\"583.923,-18.34 577.923,-21.0401 580.923,-18.34 577.923,-18.3401 577.923,-18.3401 577.923,-18.3401 580.923,-18.34 577.923,-15.6401 583.923,-18.34 583.923,-18.34\"/>\n",
       "<text text-anchor=\"middle\" x=\"544.904\" y=\"-22.14\" font-family=\"Times,serif\" font-size=\"14.00\">⟨2⟩</text>\n",
       "</g>\n",
       "<!-- 2&#45;&gt;1 -->\n",
       "<g id=\"edge9\" class=\"edge\"><title>2&#45;&gt;1</title>\n",
       "<path fill=\"none\" stroke=\"black\" d=\"M408.94,-12.173C391.45,-11.596 372.36,-12.18 355,-15.34 341.47,-17.803 327.23,-22.514 314.73,-27.434\"/>\n",
       "<polygon fill=\"black\" stroke=\"black\" points=\"309.11,-29.702 313.664,-24.9527 311.892,-28.5793 314.674,-27.4565 314.674,-27.4565 314.674,-27.4565 311.892,-28.5793 315.684,-29.9603 309.11,-29.702 309.11,-29.702\"/>\n",
       "<text text-anchor=\"middle\" x=\"373\" y=\"-19.14\" font-family=\"Times,serif\" font-size=\"14.00\">⟨1/3⟩a</text>\n",
       "</g>\n",
       "<!-- 2&#45;&gt;2 -->\n",
       "<g id=\"edge10\" class=\"edge\"><title>2&#45;&gt;2</title>\n",
       "<path fill=\"none\" stroke=\"black\" d=\"M454.51,-33.046C450.9,-42.163 455.89,-50.84 469.5,-50.84 479.92,-50.84 485.29,-45.754 485.61,-39.278\"/>\n",
       "<polygon fill=\"black\" stroke=\"black\" points=\"484.49,-33.046 488.209,-38.4738 485.021,-35.9987 485.551,-38.9514 485.551,-38.9514 485.551,-38.9514 485.021,-35.9987 482.894,-39.429 484.49,-33.046 484.49,-33.046\"/>\n",
       "<text text-anchor=\"middle\" x=\"469.5\" y=\"-54.64\" font-family=\"Times,serif\" font-size=\"14.00\">⟨5/3⟩b</text>\n",
       "</g>\n",
       "</g>\n",
       "</svg>\n"
      ],
      "text/plain": [
       "expression_automaton<mutable_automaton<context<letterset<char_letters>, q>>>"
      ]
     },
     "execution_count": 5,
     "metadata": {},
     "output_type": "execute_result"
    }
   ],
   "source": [
    "e.derived_term()"
   ]
  },
  {
   "cell_type": "markdown",
   "metadata": {},
   "source": [
    "### Breaking expansion\n",
    "\n",
    "There is (currently) no means to break an expansion (which would mean breaking its polynomials).  The construction of the derived-term automaton does it on the fly.\n",
    "\n",
    "### Non-free labelsets\n",
    "\n",
    "Contrary to derivation, which requires a finite alphabet, expansions support labels which are words, or even tuples.\n",
    "\n",
    "Below, we define a two-tape-of-words context, and a simple expression that uses three different multitape labels: $(\\mathrm{11}|\\mathrm{eleven})$, etc.  Then `derived_term` is used to build the automaton."
   ]
  },
  {
   "cell_type": "code",
   "execution_count": 6,
   "metadata": {
    "collapsed": false
   },
   "outputs": [
    {
     "data": {
      "text/latex": [
       "$\\{0, 1, 2, 3, 4, 5, 6, 7, 8, 9\\}^* \\times \\{A, B, C, D, E, F, G, H, I, J, K, L, M, N, O, P, Q, R, S, T, U, V, W, X, Y, Z, a, b, c, d, e, f, g, h, i, j, k, l, m, n, o, p, q, r, s, t, u, v, w, x, y, z\\}^*\\to\\mathbb{B}$"
      ],
      "text/plain": [
       "{0123456789}* x {ABCDEFGHIJKLMNOPQRSTUVWXYZabcdefghijklmnopqrstuvwxyz}* -> B"
      ]
     },
     "execution_count": 6,
     "metadata": {},
     "output_type": "execute_result"
    }
   ],
   "source": [
    "ctx = vcsn.context('lat<law_char(0-9), law_char(a-zA-Z)>, b')\n",
    "ctx"
   ]
  },
  {
   "cell_type": "code",
   "execution_count": 7,
   "metadata": {
    "collapsed": false
   },
   "outputs": [
    {
     "data": {
      "text/latex": [
       "$\\left(\\mathit{11}|\\mathit{eleven} + \\mathit{12}|\\mathit{twelve} + \\mathit{13}|\\mathit{thirteen}\\right)^{*}$"
      ],
      "text/plain": [
       "(11|eleven+12|twelve+13|thirteen)*"
      ]
     },
     "execution_count": 7,
     "metadata": {},
     "output_type": "execute_result"
    }
   ],
   "source": [
    "e = ctx.expression(\"(11|eleven + 12|twelve + 13|thirteen)*\")\n",
    "e"
   ]
  },
  {
   "cell_type": "code",
   "execution_count": 8,
   "metadata": {
    "collapsed": false
   },
   "outputs": [
    {
     "data": {
      "text/latex": [
       "$\\left\\langle \\top\\right\\rangle  \\oplus \\mathit{11}|\\mathit{eleven} \\odot \\left[\\left(\\mathit{11}|\\mathit{eleven} + \\mathit{12}|\\mathit{twelve} + \\mathit{13}|\\mathit{thirteen}\\right)^{*}\\right] \\oplus \\mathit{12}|\\mathit{twelve} \\odot \\left[\\left(\\mathit{11}|\\mathit{eleven} + \\mathit{12}|\\mathit{twelve} + \\mathit{13}|\\mathit{thirteen}\\right)^{*}\\right] \\oplus \\mathit{13}|\\mathit{thirteen} \\odot \\left[\\left(\\mathit{11}|\\mathit{eleven} + \\mathit{12}|\\mathit{twelve} + \\mathit{13}|\\mathit{thirteen}\\right)^{*}\\right]$"
      ],
      "text/plain": [
       "<1> + 11|eleven.[(11|eleven+12|twelve+13|thirteen)*] + 12|twelve.[(11|eleven+12|twelve+13|thirteen)*] + 13|thirteen.[(11|eleven+12|twelve+13|thirteen)*]"
      ]
     },
     "execution_count": 8,
     "metadata": {},
     "output_type": "execute_result"
    }
   ],
   "source": [
    "e.expansion()"
   ]
  },
  {
   "cell_type": "markdown",
   "metadata": {},
   "source": [
    "This enables the construction of the associated derived-term automaton."
   ]
  },
  {
   "cell_type": "code",
   "execution_count": 9,
   "metadata": {
    "collapsed": false
   },
   "outputs": [
    {
     "data": {
      "image/svg+xml": [
       "<?xml version=\"1.0\" encoding=\"UTF-8\" standalone=\"no\"?>\n",
       "<!DOCTYPE svg PUBLIC \"-//W3C//DTD SVG 1.1//EN\"\n",
       " \"http://www.w3.org/Graphics/SVG/1.1/DTD/svg11.dtd\">\n",
       "<!-- Generated by graphviz version 2.38.0 (20140413.2041)\n",
       " -->\n",
       "<!-- Title: %3 Pages: 1 -->\n",
       "<svg width=\"269pt\" height=\"70pt\"\n",
       " viewBox=\"0.00 0.00 269.00 70.00\" xmlns=\"http://www.w3.org/2000/svg\" xmlns:xlink=\"http://www.w3.org/1999/xlink\">\n",
       "<g id=\"graph0\" class=\"graph\" transform=\"scale(1 1) rotate(0) translate(4 66)\">\n",
       "<title>%3</title>\n",
       "<polygon fill=\"white\" stroke=\"none\" points=\"-4,4 -4,-66 265,-66 265,4 -4,4\"/>\n",
       "<!-- I0 -->\n",
       "<g id=\"node1\" class=\"node\"><title>I0</title>\n",
       "<ellipse fill=\"black\" stroke=\"black\" cx=\"0\" cy=\"-14.5\" rx=\"0\" ry=\"0\"/>\n",
       "</g>\n",
       "<!-- 0 -->\n",
       "<g id=\"node3\" class=\"node\"><title>0</title>\n",
       "<path fill=\"#98f5ff\" stroke=\"black\" d=\"M214.333,-29C214.333,-29 46.6667,-29 46.6667,-29 41.8333,-29 37,-24.1667 37,-19.3333 37,-19.3333 37,-9.66667 37,-9.66667 37,-4.83333 41.8333,-0 46.6667,-0 46.6667,-0 214.333,-0 214.333,-0 219.167,-0 224,-4.83333 224,-9.66667 224,-9.66667 224,-19.3333 224,-19.3333 224,-24.1667 219.167,-29 214.333,-29\"/>\n",
       "<text text-anchor=\"middle\" x=\"130.5\" y=\"-11.4\" font-family=\"Times,serif\" font-size=\"12.00\">(11|eleven+12|twelve+13|thirteen)*</text>\n",
       "</g>\n",
       "<!-- I0&#45;&gt;0 -->\n",
       "<g id=\"edge1\" class=\"edge\"><title>I0&#45;&gt;0</title>\n",
       "<path fill=\"none\" stroke=\"black\" d=\"M1.0931,-14.5C2.2641,-14.5 14.359,-14.5 30.697,-14.5\"/>\n",
       "<polygon fill=\"black\" stroke=\"black\" points=\"36.896,-14.5 30.896,-17.2001 33.896,-14.5 30.896,-14.5001 30.896,-14.5001 30.896,-14.5001 33.896,-14.5 30.896,-11.8001 36.896,-14.5 36.896,-14.5\"/>\n",
       "</g>\n",
       "<!-- F0 -->\n",
       "<g id=\"node2\" class=\"node\"><title>F0</title>\n",
       "<ellipse fill=\"black\" stroke=\"black\" cx=\"261\" cy=\"-14.5\" rx=\"0\" ry=\"0\"/>\n",
       "</g>\n",
       "<!-- 0&#45;&gt;F0 -->\n",
       "<g id=\"edge2\" class=\"edge\"><title>0&#45;&gt;F0</title>\n",
       "<path fill=\"none\" stroke=\"black\" d=\"M224.301,-14.5C237.178,-14.5 248.206,-14.5 254.721,-14.5\"/>\n",
       "<polygon fill=\"black\" stroke=\"black\" points=\"260.954,-14.5 254.954,-17.2001 257.954,-14.5 254.954,-14.5001 254.954,-14.5001 254.954,-14.5001 257.954,-14.5 254.954,-11.8001 260.954,-14.5 260.954,-14.5\"/>\n",
       "</g>\n",
       "<!-- 0&#45;&gt;0 -->\n",
       "<g id=\"edge3\" class=\"edge\"><title>0&#45;&gt;0</title>\n",
       "<path fill=\"none\" stroke=\"black\" d=\"M110.98,-29.206C106.28,-38.324 112.78,-47 130.5,-47 144.34,-47 151.34,-41.704 151.5,-35.04\"/>\n",
       "<polygon fill=\"black\" stroke=\"black\" points=\"150.02,-29.206 154.113,-34.3578 150.758,-32.1139 151.495,-35.0218 151.495,-35.0218 151.495,-35.0218 150.758,-32.1139 148.878,-35.6857 150.02,-29.206 150.02,-29.206\"/>\n",
       "<text text-anchor=\"middle\" x=\"130.5\" y=\"-50.8\" font-family=\"Times,serif\" font-size=\"14.00\">11|eleven, 12|twelve, 13|thirteen</text>\n",
       "</g>\n",
       "</g>\n",
       "</svg>\n"
      ],
      "text/plain": [
       "expression_automaton<mutable_automaton<context<lat<wordset<char_letters>, wordset<char_letters>>, b>>>"
      ]
     },
     "execution_count": 9,
     "metadata": {},
     "output_type": "execute_result"
    }
   ],
   "source": [
    "e.derived_term()"
   ]
  }
 ],
 "metadata": {
  "kernelspec": {
   "display_name": "Python 3",
   "language": "python",
   "name": "python3"
  },
  "language_info": {
   "codemirror_mode": {
    "name": "ipython",
    "version": 3
   },
   "file_extension": ".py",
   "mimetype": "text/x-python",
   "name": "python",
   "nbconvert_exporter": "python",
   "pygments_lexer": "ipython3",
   "version": "3.5.2"
  }
 },
 "nbformat": 4,
 "nbformat_minor": 0
}
