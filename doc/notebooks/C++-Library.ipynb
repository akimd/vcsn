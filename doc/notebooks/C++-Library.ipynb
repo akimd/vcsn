{
 "cells": [
  {
   "cell_type": "markdown",
   "metadata": {
    "deletable": true,
    "editable": true
   },
   "source": [
    "# How to use the Vcsn library\n",
    "\n",
    "## Writing your own code\n",
    "\n",
    "Writing programs with Vcsn is quite simple once you're familiar with the library.\n",
    "\n",
    "### Static\n",
    "\n",
    "When using the static version of the library, use algorithms from the `vcsn::` namespace. These algorithms are highly templated and hence require the user to know the context and parameters of these algorithms at compile time.\n",
    "This part of the library provides less flexibility but ensures that all of the required code will be compiled before runtime.\n",
    "\n",
    "### Dyn\n",
    "\n",
    "The dyn version of the library consists of algorithms from the `vcsn::dyn::` namespace. These algorithms provide an abstraction from the static library that hides from users the actual fully templated versions of algorithms. This allows more flexibility as the user does not have to know the context of automata at compile time and new types of automata can be created at runtime. However, algorithms may need to be compiled at runtime, lowering the program's performances (once compiled algorithms are cached and can be used without further compilation though).\n",
    "\n",
    "## Compiling with Vcsn\n",
    "\n",
    "Compiling your program will then require to use the Vcsn program with the compiler option and can be done as such:\n",
    "\n",
    "    $ vcsn compile source.cc\n",
    "\n",
    "It is also possible to modify the programs compilation options and compiler in the command line option:\n",
    "\n",
    "    $ vcsn compile CXX='g++' CXXFLAGS+='-g3' source.cc\n",
    "\n",
    "Run `vcsn compile --help` for additional options.  This page provides examples of use of `vcsn compile`, see below.\n",
    "\n",
    "## Running the code\n",
    "\n",
    "When actually running the program you just compiled you _might_ have to use the Vcsn program as well through the run option:\n",
    "\n",
    "    $ vcsn run my-prog args...\n",
    "\n",
    "The command can be followed directly by the arguments of your program.\n",
    "\n",
    "Possibly just running `my-prog` would work too, but it depends on your setup.  In case of doubt, use `vcsn run`."
   ]
  },
  {
   "cell_type": "markdown",
   "metadata": {
    "deletable": true,
    "editable": true
   },
   "source": [
    "# Examples\n",
    "\n",
    "More samples of code are present in the `tests/demo` directory of the project from which you can inspire yourself."
   ]
  },
  {
   "cell_type": "code",
   "execution_count": 1,
   "metadata": {
    "collapsed": true,
    "deletable": true,
    "editable": true
   },
   "outputs": [],
   "source": [
    "import vcsn"
   ]
  },
  {
   "cell_type": "markdown",
   "metadata": {
    "deletable": true,
    "editable": true
   },
   "source": [
    "##  Operators of labels, expressions, etc.\n",
    "This a simple example which shows how to build `dyn` labels, weights, etc. and how to manipulate them with operators such as `+`.\n",
    "\n",
    "For a start, labels are the simplest objects: you can hardly do more that concatenating them, thanks to `*`.  You may also run `multiply(a, b)` instead of `a * b`.  The following examples shows how to compare labels too."
   ]
  },
  {
   "cell_type": "code",
   "execution_count": 2,
   "metadata": {
    "collapsed": false,
    "deletable": true,
    "editable": true
   },
   "outputs": [
    {
     "name": "stdout",
     "output_type": "stream",
     "text": [
      "  \u001b[36mvoid\u001b[39;49;00m\r\n",
      "  \u001b[32mlabels\u001b[39;49;00m()\r\n",
      "  {\r\n",
      "    \u001b[34musing\u001b[39;49;00m \u001b[34mnamespace\u001b[39;49;00m vcsn::dyn;\r\n",
      "    \u001b[37m// Labels are words, not letters.\u001b[39;49;00m\r\n",
      "    \u001b[34mauto\u001b[39;49;00m ctx = make_context(\u001b[33m\"\u001b[39;49;00m\u001b[33mlaw, q\u001b[39;49;00m\u001b[33m\"\u001b[39;49;00m);\r\n",
      "\r\n",
      "    \u001b[34mauto\u001b[39;49;00m a = make_label(ctx, \u001b[33m\"\u001b[39;49;00m\u001b[33ma\u001b[39;49;00m\u001b[33m\"\u001b[39;49;00m);\r\n",
      "    \u001b[34mauto\u001b[39;49;00m b = make_label(ctx, \u001b[33m\"\u001b[39;49;00m\u001b[33mb\u001b[39;49;00m\u001b[33m\"\u001b[39;49;00m);\r\n",
      "    \u001b[34mauto\u001b[39;49;00m abba = make_label(ctx, \u001b[33m\"\u001b[39;49;00m\u001b[33mabba\u001b[39;49;00m\u001b[33m\"\u001b[39;49;00m);\r\n",
      "\r\n",
      "    \u001b[37m// Labels can be compared.\u001b[39;49;00m\r\n",
      "    ASSERT(a == a);\r\n",
      "    ASSERT(a != b);\r\n",
      "    ASSERT(a < b);\r\n",
      "    ASSERT(a <= b);\r\n",
      "    ASSERT(b > a);\r\n",
      "    ASSERT(b >= a);\r\n",
      "\r\n",
      "    \u001b[37m// This is the lexicographical order.\u001b[39;49;00m\r\n",
      "    ASSERT(a < abba);\r\n",
      "    ASSERT(abba < b);\r\n",
      "\r\n",
      "    \u001b[37m// They also support multiplication (i.e., concatenation) when\u001b[39;49;00m\r\n",
      "    \u001b[37m// possible: concatenation of labels-are-letters does not work, of\u001b[39;49;00m\r\n",
      "    \u001b[37m// course.  That's why the context here is using labels-are-words.\u001b[39;49;00m\r\n",
      "    ASSERT(a * b * b * a == abba);\r\n",
      "  }\r\n"
     ]
    }
   ],
   "source": [
    "# Don't worry about this \"magic\" line: it selects some lines from\n",
    "# the `operators.cc` file, and pretty-prints them.\n",
    "!perl -ne '(/labels:/ ... /labels:/) && !/labels:/ && print' ../../tests/demo/operators.cc | pygmentize -l c++ "
   ]
  },
  {
   "cell_type": "markdown",
   "metadata": {
    "deletable": true,
    "editable": true
   },
   "source": [
    "Weights are more capables than labels: in addition to multiplication, they support conjunction and addition."
   ]
  },
  {
   "cell_type": "code",
   "execution_count": 3,
   "metadata": {
    "collapsed": false,
    "deletable": true,
    "editable": true
   },
   "outputs": [
    {
     "name": "stdout",
     "output_type": "stream",
     "text": [
      "  \u001b[36mvoid\u001b[39;49;00m\r\n",
      "  \u001b[32mweights\u001b[39;49;00m()\r\n",
      "  {\r\n",
      "    \u001b[34musing\u001b[39;49;00m \u001b[34mnamespace\u001b[39;49;00m vcsn::dyn;\r\n",
      "\r\n",
      "    \u001b[37m// This context specifies that weights are rational numbers (ℚ).\u001b[39;49;00m\r\n",
      "    \u001b[34mauto\u001b[39;49;00m ctx = make_context(\u001b[33m\"\u001b[39;49;00m\u001b[33mlal, q\u001b[39;49;00m\u001b[33m\"\u001b[39;49;00m);\r\n",
      "\r\n",
      "    \u001b[34mauto\u001b[39;49;00m one = make_weight(ctx, \u001b[33m\"\u001b[39;49;00m\u001b[33m1\u001b[39;49;00m\u001b[33m\"\u001b[39;49;00m);\r\n",
      "    \u001b[34mauto\u001b[39;49;00m two = make_weight(ctx, \u001b[33m\"\u001b[39;49;00m\u001b[33m2\u001b[39;49;00m\u001b[33m\"\u001b[39;49;00m);\r\n",
      "    \u001b[34mauto\u001b[39;49;00m half = make_weight(ctx, \u001b[33m\"\u001b[39;49;00m\u001b[33m1/2\u001b[39;49;00m\u001b[33m\"\u001b[39;49;00m);\r\n",
      "\r\n",
      "    \u001b[37m// Weights can be compared.\u001b[39;49;00m\r\n",
      "    ASSERT(one != two);\r\n",
      "    ASSERT(one == one);\r\n",
      "    ASSERT(one < two);\r\n",
      "    ASSERT(one <= two);\r\n",
      "    ASSERT(two > one);\r\n",
      "    ASSERT(two >= one);\r\n",
      "\r\n",
      "    \u001b[37m// 1+1 = 2, etc.\u001b[39;49;00m\r\n",
      "    ASSERT(one + one == two);\r\n",
      "    ASSERT(half + half == one);\r\n",
      "\r\n",
      "    \u001b[37m// 1/2 * 2 = 1.\u001b[39;49;00m\r\n",
      "    ASSERT(half * two == one);\r\n",
      "\r\n",
      "    \u001b[37m// (1/2)* = 2.\u001b[39;49;00m\r\n",
      "    ASSERT(half * -\u001b[34m1\u001b[39;49;00m == two);\r\n",
      "  }\r\n"
     ]
    }
   ],
   "source": [
    "!perl -ne '(/weights:/ ... /weights:/) && !/weights:/ && print' ../../tests/demo/operators.cc | pygmentize -l c++ "
   ]
  },
  {
   "cell_type": "markdown",
   "metadata": {
    "deletable": true,
    "editable": true
   },
   "source": [
    "Of course, expressions are more interesting: they support a wide range of operators, and many functions."
   ]
  },
  {
   "cell_type": "code",
   "execution_count": 4,
   "metadata": {
    "collapsed": false,
    "deletable": true,
    "editable": true
   },
   "outputs": [
    {
     "name": "stdout",
     "output_type": "stream",
     "text": [
      "  \u001b[36mvoid\u001b[39;49;00m\r\n",
      "  \u001b[32mexpressions\u001b[39;49;00m()\r\n",
      "  {\r\n",
      "    \u001b[34musing\u001b[39;49;00m \u001b[34mnamespace\u001b[39;49;00m vcsn::dyn;\r\n",
      "    \u001b[37m// A simple context.\u001b[39;49;00m\r\n",
      "    \u001b[34mauto\u001b[39;49;00m ctx = make_context(\u001b[33m\"\u001b[39;49;00m\u001b[33mlal, q\u001b[39;49;00m\u001b[33m\"\u001b[39;49;00m);\r\n",
      "\r\n",
      "    \u001b[37m// Create an expression, and pretty-print it.\u001b[39;49;00m\r\n",
      "    \u001b[34mauto\u001b[39;49;00m e1 = make_expression(ctx, \u001b[33m\"\u001b[39;49;00m\u001b[33m<2>a\u001b[39;49;00m\u001b[33m\"\u001b[39;49;00m);\r\n",
      "    ASSERT(format(e1) == \u001b[33m\"\u001b[39;49;00m\u001b[33m<2>a\u001b[39;49;00m\u001b[33m\"\u001b[39;49;00m);\r\n",
      "    \u001b[34mauto\u001b[39;49;00m e2 = make_expression(ctx, \u001b[33m\"\u001b[39;49;00m\u001b[33m<3>b\u001b[39;49;00m\u001b[33m\"\u001b[39;49;00m);\r\n",
      "\r\n",
      "    ASSERT(format(e1 + e2) == \u001b[33m\"\u001b[39;49;00m\u001b[33m<2>a+<3>b\u001b[39;49;00m\u001b[33m\"\u001b[39;49;00m);\r\n",
      "    ASSERT(format(e1 * e2) == \u001b[33m\"\u001b[39;49;00m\u001b[33m<6>(ab)\u001b[39;49;00m\u001b[33m\"\u001b[39;49;00m);\r\n",
      "\r\n",
      "    \u001b[37m// e * -1 denotes e to the -1, that is e*.\u001b[39;49;00m\r\n",
      "    \u001b[34mauto\u001b[39;49;00m e = ((e1 + e2) * -\u001b[34m1\u001b[39;49;00m) * e1 * (e1 + e2);\r\n",
      "    ASSERT(format(e) == \u001b[33m\"\u001b[39;49;00m\u001b[33m<2>((<2>a+<3>b)*a(<2>a+<3>b))\u001b[39;49;00m\u001b[33m\"\u001b[39;49;00m);\r\n",
      "  }\r\n"
     ]
    }
   ],
   "source": [
    "!perl -ne '(/expressions:/ ... /expressions:/) && !/expressions:/ && print' ../../tests/demo/operators.cc | pygmentize -l c++ "
   ]
  },
  {
   "cell_type": "markdown",
   "metadata": {
    "deletable": true,
    "editable": true
   },
   "source": [
    "Automata also offer a rich feature set."
   ]
  },
  {
   "cell_type": "code",
   "execution_count": 5,
   "metadata": {
    "collapsed": false,
    "deletable": true,
    "editable": true
   },
   "outputs": [
    {
     "name": "stdout",
     "output_type": "stream",
     "text": [
      "  \u001b[36mvoid\u001b[39;49;00m\r\n",
      "  \u001b[32mautomata\u001b[39;49;00m()\r\n",
      "  {\r\n",
      "    \u001b[34musing\u001b[39;49;00m \u001b[34mnamespace\u001b[39;49;00m vcsn::dyn;\r\n",
      "    \u001b[37m// A simple automaton.\u001b[39;49;00m\r\n",
      "    \u001b[34mauto\u001b[39;49;00m a1 = make_automaton(\u001b[33m\"\u001b[39;49;00m\u001b[33mcontext = lal, q\u001b[39;49;00m\u001b[33m\\n\u001b[39;49;00m\u001b[33m\"\u001b[39;49;00m\r\n",
      "                             \u001b[33m\"\u001b[39;49;00m\u001b[33m$ 0 <1/2>\u001b[39;49;00m\u001b[33m\\n\u001b[39;49;00m\u001b[33m\"\u001b[39;49;00m\r\n",
      "                             \u001b[33m\"\u001b[39;49;00m\u001b[33m0 1 <2>a, <6>b\u001b[39;49;00m\u001b[33m\\n\u001b[39;49;00m\u001b[33m\"\u001b[39;49;00m\r\n",
      "                             \u001b[33m\"\u001b[39;49;00m\u001b[33m1 $\u001b[39;49;00m\u001b[33m\\n\u001b[39;49;00m\u001b[33m\"\u001b[39;49;00m, \u001b[33m\"\u001b[39;49;00m\u001b[33mdaut\u001b[39;49;00m\u001b[33m\"\u001b[39;49;00m);\r\n",
      "    \u001b[37m// Its context.\u001b[39;49;00m\r\n",
      "    \u001b[34mauto\u001b[39;49;00m ctx = context_of(a1);\r\n",
      "\r\n",
      "    \u001b[37m// Evaluate it.\u001b[39;49;00m\r\n",
      "    ASSERT(evaluate(a1, make_word(ctx, \u001b[33m\"\u001b[39;49;00m\u001b[33ma\u001b[39;49;00m\u001b[33m\"\u001b[39;49;00m))\r\n",
      "           == make_weight(ctx, \u001b[33m\"\u001b[39;49;00m\u001b[33m1\u001b[39;49;00m\u001b[33m\"\u001b[39;49;00m));\r\n",
      "    ASSERT(evaluate(a1, make_word(ctx, \u001b[33m\"\u001b[39;49;00m\u001b[33mb\u001b[39;49;00m\u001b[33m\"\u001b[39;49;00m))\r\n",
      "           == make_weight(ctx, \u001b[33m\"\u001b[39;49;00m\u001b[33m3\u001b[39;49;00m\u001b[33m\"\u001b[39;49;00m));\r\n",
      "\r\n",
      "    \u001b[37m// Concatenate to itself.\u001b[39;49;00m\r\n",
      "    \u001b[34mauto\u001b[39;49;00m a2 = a1 * a1;\r\n",
      "    ASSERT(evaluate(a2, make_word(ctx, \u001b[33m\"\u001b[39;49;00m\u001b[33mab\u001b[39;49;00m\u001b[33m\"\u001b[39;49;00m))\r\n",
      "           == make_weight(ctx, \u001b[33m\"\u001b[39;49;00m\u001b[33m3\u001b[39;49;00m\u001b[33m\"\u001b[39;49;00m));\r\n",
      "    ASSERT(evaluate(a2, make_word(ctx, \u001b[33m\"\u001b[39;49;00m\u001b[33mbb\u001b[39;49;00m\u001b[33m\"\u001b[39;49;00m))\r\n",
      "           == make_weight(ctx, \u001b[33m\"\u001b[39;49;00m\u001b[33m9\u001b[39;49;00m\u001b[33m\"\u001b[39;49;00m));\r\n",
      "\r\n",
      "    \u001b[37m// Self-conjunction, aka \"power 2\".\u001b[39;49;00m\r\n",
      "    \u001b[34mauto\u001b[39;49;00m a3 = a1 & a1;\r\n",
      "    ASSERT(evaluate(a3, make_word(ctx, \u001b[33m\"\u001b[39;49;00m\u001b[33ma\u001b[39;49;00m\u001b[33m\"\u001b[39;49;00m))\r\n",
      "           == make_weight(ctx, \u001b[33m\"\u001b[39;49;00m\u001b[33m1\u001b[39;49;00m\u001b[33m\"\u001b[39;49;00m));\r\n",
      "    ASSERT(evaluate(a3, make_word(ctx, \u001b[33m\"\u001b[39;49;00m\u001b[33mb\u001b[39;49;00m\u001b[33m\"\u001b[39;49;00m))\r\n",
      "           == make_weight(ctx, \u001b[33m\"\u001b[39;49;00m\u001b[33m9\u001b[39;49;00m\u001b[33m\"\u001b[39;49;00m));\r\n",
      "  }\r\n"
     ]
    }
   ],
   "source": [
    "!perl -ne '(/automata:/ ... /automata:/) && !/automata:/ && print' ../../tests/demo/operators.cc | pygmentize -l c++ "
   ]
  },
  {
   "cell_type": "markdown",
   "metadata": {
    "deletable": true,
    "editable": true
   },
   "source": [
    "##  Manipulating automata: `prod-eval`\n",
    "The following example shows how to use basic operations on automata to implement a simple processing: load two automata, compute their conjunction, and evaluate a word on it.  It is implemented twice: once in `dyn::` and then in the static library, `vcsn::`.\n",
    "\n",
    "The `dyn` version is straightforward, users do not have to have to track exact types of the automata, labels and weights."
   ]
  },
  {
   "cell_type": "code",
   "execution_count": 6,
   "metadata": {
    "collapsed": false,
    "deletable": true,
    "editable": true,
    "scrolled": false
   },
   "outputs": [
    {
     "name": "stdout",
     "output_type": "stream",
     "text": [
      "\u001b[37m/// Dyn implementation of the prod_eval.\u001b[39;49;00m\r\n",
      "\u001b[37m///\u001b[39;49;00m\r\n",
      "\u001b[37m/// Read two automata and a word. Compute the product of these automata and\u001b[39;49;00m\r\n",
      "\u001b[37m/// evaluate the word on it. The context does not have to be specified as\u001b[39;49;00m\r\n",
      "\u001b[37m/// the context of the parameters is computed dynamically.\u001b[39;49;00m\r\n",
      "\u001b[37m///\u001b[39;49;00m\r\n",
      "\u001b[37m/// \\param lhs  name of a file containing the first automaton\u001b[39;49;00m\r\n",
      "\u001b[37m/// \\param rhs  name of a file containing the second automaton\u001b[39;49;00m\r\n",
      "\u001b[37m/// \\param word the word to evaluate\u001b[39;49;00m\r\n",
      "\u001b[34mstatic\u001b[39;49;00m \u001b[36mvoid\u001b[39;49;00m\r\n",
      "\u001b[32mdyn_prod_eval\u001b[39;49;00m(\u001b[34mconst\u001b[39;49;00m std::string& lhs, \u001b[34mconst\u001b[39;49;00m std::string& rhs,\r\n",
      "              \u001b[34mconst\u001b[39;49;00m std::string& word)\r\n",
      "{\r\n",
      "  \u001b[34musing\u001b[39;49;00m \u001b[34mnamespace\u001b[39;49;00m vcsn::dyn;\r\n",
      "  \u001b[37m// Left and right automata.  A simple type, not parameterized.\u001b[39;49;00m\r\n",
      "  automaton l = read_automaton(lhs);\r\n",
      "  automaton r = read_automaton(rhs);\r\n",
      "  \u001b[37m// The synchronized product.\u001b[39;49;00m\r\n",
      "  automaton prod = conjunction(l, r);\r\n",
      "  \u001b[37m// The word to evaluate in prod.\u001b[39;49;00m\r\n",
      "  label input = read_word(context_of(prod), word);\r\n",
      "  \u001b[37m// The result weight from the evaluation.\u001b[39;49;00m\r\n",
      "  weight w = evaluate(prod, input);\r\n",
      "  \u001b[37m// Display of the result, no need to use the weightset.\u001b[39;49;00m\r\n",
      "  std::cout << w;\r\n",
      "}\r\n"
     ]
    }
   ],
   "source": [
    "!perl -ne '(/dyn: begin/ ... /dyn: end/) && !/dyn:/ && print' ../../tests/demo/prod-eval.cc | pygmentize -l c++ "
   ]
  },
  {
   "cell_type": "markdown",
   "metadata": {
    "deletable": true,
    "editable": true
   },
   "source": [
    "The static implementation is templated by a [context](Contexts.ipynb), i.e., a specific type of labelset and weightset."
   ]
  },
  {
   "cell_type": "code",
   "execution_count": 7,
   "metadata": {
    "collapsed": false,
    "deletable": true,
    "editable": true,
    "scrolled": false
   },
   "outputs": [
    {
     "name": "stdout",
     "output_type": "stream",
     "text": [
      "\u001b[37m/// Static implementation of the prod_eval.\u001b[39;49;00m\r\n",
      "\u001b[37m///\u001b[39;49;00m\r\n",
      "\u001b[37m/// Read two automata and a word. Compute the product of these\u001b[39;49;00m\r\n",
      "\u001b[37m/// automata and evaluate the word on it.\u001b[39;49;00m\r\n",
      "\u001b[37m///\u001b[39;49;00m\r\n",
      "\u001b[37m/// \\tparam Ctx the specified context of the automata and the\u001b[39;49;00m\r\n",
      "\u001b[37m///    word. Each of them have to be from these context or the program\u001b[39;49;00m\r\n",
      "\u001b[37m///    will fail.\u001b[39;49;00m\r\n",
      "\u001b[37m///\u001b[39;49;00m\r\n",
      "\u001b[37m/// \\param lhs  name of a file containing the first automaton\u001b[39;49;00m\r\n",
      "\u001b[37m/// \\param rhs  name of a file containing the second automaton\u001b[39;49;00m\r\n",
      "\u001b[37m/// \\param word the word to evaluate\u001b[39;49;00m\r\n",
      "\u001b[34mtemplate\u001b[39;49;00m <\u001b[34mtypename\u001b[39;49;00m Ctx>\r\n",
      "\u001b[36mvoid\u001b[39;49;00m\r\n",
      "sta_prod_eval(\u001b[34mconst\u001b[39;49;00m std::string& lhs, \u001b[34mconst\u001b[39;49;00m std::string& rhs,\r\n",
      "              \u001b[34mconst\u001b[39;49;00m std::string& word)\r\n",
      "{\r\n",
      "  \u001b[34musing\u001b[39;49;00m \u001b[34mnamespace\u001b[39;49;00m vcsn;\r\n",
      "  \u001b[37m// The automata's exact type.\u001b[39;49;00m\r\n",
      "  \u001b[34musing\u001b[39;49;00m automaton_t = mutable_automaton<Ctx>;\r\n",
      "  \u001b[37m// Left and right automata.\u001b[39;49;00m\r\n",
      "  automaton_t l = read_automaton<automaton_t>(lhs);\r\n",
      "  automaton_t r = read_automaton<automaton_t>(rhs);\r\n",
      "  \u001b[37m// The synchronized product.  Stripped to retrieve the same type of\u001b[39;49;00m\r\n",
      "  \u001b[37m// automata as l and r.\u001b[39;49;00m\r\n",
      "  automaton_t prod = conjunction<automaton_t, automaton_t>(l, r)->strip();\r\n",
      "  \u001b[37m// The word to evaluate in prod.\u001b[39;49;00m\r\n",
      "  word_t_of<Ctx> input = read_word<Ctx>(prod->context(), word);\r\n",
      "  \u001b[37m// The result weight from the evaluation.\u001b[39;49;00m\r\n",
      "  weight_t_of<Ctx> w = evaluate<automaton_t>(prod, input);\r\n",
      "  \u001b[37m// Display of the result, we need to use the automaton's weightset to be able\u001b[39;49;00m\r\n",
      "  \u001b[37m// to print the weight as the print function cannot be generic in static.\u001b[39;49;00m\r\n",
      "  prod->context().weightset()->print(w, std::cout);\r\n",
      "}\r\n"
     ]
    }
   ],
   "source": [
    "!perl -ne '(/static: begin/ ... /static: end/) && !/static:/ && print' ../../tests/demo/prod-eval.cc | pygmentize -l c++ "
   ]
  },
  {
   "cell_type": "markdown",
   "metadata": {
    "deletable": true,
    "editable": true
   },
   "source": [
    "Compile the prod-eval program using `vcsn compile`.  To know exactly what is going on, pass the option `-v`/`--verbose`."
   ]
  },
  {
   "cell_type": "code",
   "execution_count": 8,
   "metadata": {
    "collapsed": false,
    "deletable": true,
    "editable": true
   },
   "outputs": [],
   "source": [
    "!vcsn compile -q ../../tests/demo/prod-eval.cc"
   ]
  },
  {
   "cell_type": "markdown",
   "metadata": {
    "deletable": true,
    "editable": true
   },
   "source": [
    "Now we generate two input automata for the prod-eval program.  Here, we generate them via the command line tool `vcsn` (see [Tools](Tools.ipynb)), with the command `standard`, which corresponds to [`expression.standard`](expression.standard.ipynb)."
   ]
  },
  {
   "cell_type": "code",
   "execution_count": 9,
   "metadata": {
    "collapsed": false,
    "deletable": true,
    "editable": true
   },
   "outputs": [],
   "source": [
    "!vcsn standard -C 'lal_char(01), z' -Ee '(0+1)*1(<2>0+<2>1)*' -o bin.gv\n",
    "!vcsn standard -C 'lal_char(01), z' -Ee '(0+1)*0'             -o even.gv"
   ]
  },
  {
   "cell_type": "markdown",
   "metadata": {
    "deletable": true,
    "editable": true
   },
   "source": [
    "The following automaton, `bin`, decodes binary into decimal values."
   ]
  },
  {
   "cell_type": "code",
   "execution_count": 10,
   "metadata": {
    "collapsed": false,
    "deletable": true,
    "editable": true
   },
   "outputs": [
    {
     "data": {
      "image/svg+xml": [
       "<?xml version=\"1.0\" encoding=\"UTF-8\" standalone=\"no\"?>\n",
       "<!DOCTYPE svg PUBLIC \"-//W3C//DTD SVG 1.1//EN\"\n",
       " \"http://www.w3.org/Graphics/SVG/1.1/DTD/svg11.dtd\">\n",
       "<!-- Generated by graphviz version 2.40.1 (20161225.0304)\n",
       " -->\n",
       "<!-- Title: %3 Pages: 1 -->\n",
       "<svg width=\"510pt\" height=\"144pt\"\n",
       " viewBox=\"0.00 0.00 510.00 143.57\" xmlns=\"http://www.w3.org/2000/svg\" xmlns:xlink=\"http://www.w3.org/1999/xlink\">\n",
       "<g id=\"graph0\" class=\"graph\" transform=\"scale(1 1) rotate(0) translate(4 139.5683)\">\n",
       "<title>%3</title>\n",
       "<polygon fill=\"#ffffff\" stroke=\"transparent\" points=\"-4,4 -4,-139.5683 506,-139.5683 506,4 -4,4\"/>\n",
       "<!-- I0 -->\n",
       "<g id=\"node1\" class=\"node\">\n",
       "<title>I0</title>\n",
       "<ellipse fill=\"#000000\" stroke=\"#000000\" cx=\"0\" cy=\"-29.0733\" rx=\"0\" ry=\"0\"/>\n",
       "</g>\n",
       "<!-- 0 -->\n",
       "<g id=\"node5\" class=\"node\">\n",
       "<title>0</title>\n",
       "<ellipse fill=\"#98f5ff\" stroke=\"#000000\" cx=\"51.5\" cy=\"-29.0733\" rx=\"14.5\" ry=\"14.5\"/>\n",
       "<text text-anchor=\"middle\" x=\"51.5\" y=\"-25.9733\" font-family=\"Times,serif\" font-size=\"12.00\" fill=\"#000000\">0</text>\n",
       "</g>\n",
       "<!-- I0&#45;&gt;0 -->\n",
       "<g id=\"edge1\" class=\"edge\">\n",
       "<title>I0&#45;&gt;0</title>\n",
       "<path fill=\"none\" stroke=\"#000000\" d=\"M.1477,-29.0733C1.8156,-29.0733 17.298,-29.0733 30.83,-29.0733\"/>\n",
       "<polygon fill=\"#000000\" stroke=\"#000000\" points=\"36.854,-29.0733 30.854,-31.7734 33.854,-29.0733 30.854,-29.0734 30.854,-29.0734 30.854,-29.0734 33.854,-29.0733 30.854,-26.3734 36.854,-29.0733 36.854,-29.0733\"/>\n",
       "</g>\n",
       "<!-- F3 -->\n",
       "<g id=\"node2\" class=\"node\">\n",
       "<title>F3</title>\n",
       "<ellipse fill=\"#000000\" stroke=\"#000000\" cx=\"360.5\" cy=\"-112.0683\" rx=\"0\" ry=\"0\"/>\n",
       "</g>\n",
       "<!-- F4 -->\n",
       "<g id=\"node3\" class=\"node\">\n",
       "<title>F4</title>\n",
       "<ellipse fill=\"#000000\" stroke=\"#000000\" cx=\"450.5\" cy=\"-88.0733\" rx=\"0\" ry=\"0\"/>\n",
       "</g>\n",
       "<!-- F5 -->\n",
       "<g id=\"node4\" class=\"node\">\n",
       "<title>F5</title>\n",
       "<ellipse fill=\"#000000\" stroke=\"#000000\" cx=\"502\" cy=\"-20.0733\" rx=\"0\" ry=\"0\"/>\n",
       "</g>\n",
       "<!-- 1 -->\n",
       "<g id=\"node6\" class=\"node\">\n",
       "<title>1</title>\n",
       "<ellipse fill=\"#98f5ff\" stroke=\"#000000\" cx=\"124.5\" cy=\"-88.0733\" rx=\"14.5\" ry=\"14.5\"/>\n",
       "<text text-anchor=\"middle\" x=\"124.5\" y=\"-84.9733\" font-family=\"Times,serif\" font-size=\"12.00\" fill=\"#000000\">1</text>\n",
       "</g>\n",
       "<!-- 0&#45;&gt;1 -->\n",
       "<g id=\"edge2\" class=\"edge\">\n",
       "<title>0&#45;&gt;1</title>\n",
       "<path fill=\"none\" stroke=\"#000000\" d=\"M62.906,-38.2923C75.049,-48.1063 94.374,-63.7243 108.14,-74.8483\"/>\n",
       "<polygon fill=\"#000000\" stroke=\"#000000\" points=\"112.93,-78.7243 106.5673,-77.0489 110.5979,-76.8372 108.2657,-74.95 108.2657,-74.95 108.2657,-74.95 110.5979,-76.8372 109.9642,-72.8511 112.93,-78.7243 112.93,-78.7243\"/>\n",
       "<text text-anchor=\"middle\" x=\"88\" y=\"-63.8733\" font-family=\"Times,serif\" font-size=\"14.00\" fill=\"#000000\">0</text>\n",
       "</g>\n",
       "<!-- 2 -->\n",
       "<g id=\"node7\" class=\"node\">\n",
       "<title>2</title>\n",
       "<ellipse fill=\"#98f5ff\" stroke=\"#000000\" cx=\"197.5\" cy=\"-46.0733\" rx=\"14.5\" ry=\"14.5\"/>\n",
       "<text text-anchor=\"middle\" x=\"197.5\" y=\"-42.9733\" font-family=\"Times,serif\" font-size=\"12.00\" fill=\"#000000\">2</text>\n",
       "</g>\n",
       "<!-- 0&#45;&gt;2 -->\n",
       "<g id=\"edge3\" class=\"edge\">\n",
       "<title>0&#45;&gt;2</title>\n",
       "<path fill=\"none\" stroke=\"#000000\" d=\"M66.033,-30.7653C92.16,-33.8073 147.12,-40.2073 177.04,-43.6913\"/>\n",
       "<polygon fill=\"#000000\" stroke=\"#000000\" points=\"183.03,-44.3873 176.7584,-46.3767 180.05,-44.041 177.0701,-43.6947 177.0701,-43.6947 177.0701,-43.6947 180.05,-44.041 177.3818,-41.0128 183.03,-44.3873 183.03,-44.3873\"/>\n",
       "<text text-anchor=\"middle\" x=\"124.5\" y=\"-41.8733\" font-family=\"Times,serif\" font-size=\"14.00\" fill=\"#000000\">1</text>\n",
       "</g>\n",
       "<!-- 3 -->\n",
       "<g id=\"node8\" class=\"node\">\n",
       "<title>3</title>\n",
       "<ellipse fill=\"#98f5ff\" stroke=\"#000000\" cx=\"270.5\" cy=\"-46.0733\" rx=\"14.5\" ry=\"14.5\"/>\n",
       "<text text-anchor=\"middle\" x=\"270.5\" y=\"-42.9733\" font-family=\"Times,serif\" font-size=\"12.00\" fill=\"#000000\">3</text>\n",
       "</g>\n",
       "<!-- 0&#45;&gt;3 -->\n",
       "<g id=\"edge4\" class=\"edge\">\n",
       "<title>0&#45;&gt;3</title>\n",
       "<path fill=\"none\" stroke=\"#000000\" d=\"M65.841,-26.1983C94.114,-21.0233 158.91,-11.6068 212,-22.0733 225.94,-24.8213 240.74,-30.9263 251.96,-36.2903\"/>\n",
       "<polygon fill=\"#000000\" stroke=\"#000000\" points=\"257.49,-39.0063 250.9142,-38.7847 254.7972,-37.6838 252.1045,-36.3612 252.1045,-36.3612 252.1045,-36.3612 254.7972,-37.6838 253.2948,-33.9377 257.49,-39.0063 257.49,-39.0063\"/>\n",
       "<text text-anchor=\"middle\" x=\"161\" y=\"-21.8733\" font-family=\"Times,serif\" font-size=\"14.00\" fill=\"#000000\">1</text>\n",
       "</g>\n",
       "<!-- 1&#45;&gt;1 -->\n",
       "<g id=\"edge5\" class=\"edge\">\n",
       "<title>1&#45;&gt;1</title>\n",
       "<path fill=\"none\" stroke=\"#000000\" d=\"M118.48,-101.4263C116.52,-111.0183 118.52,-120.5683 124.5,-120.5683 129.17,-120.5683 131.42,-114.7383 131.24,-107.6183\"/>\n",
       "<polygon fill=\"#000000\" stroke=\"#000000\" points=\"130.52,-101.4263 133.895,-107.0743 130.8665,-104.4062 131.2131,-107.3861 131.2131,-107.3861 131.2131,-107.3861 130.8665,-104.4062 128.5312,-107.698 130.52,-101.4263 130.52,-101.4263\"/>\n",
       "<text text-anchor=\"middle\" x=\"124.5\" y=\"-124.3683\" font-family=\"Times,serif\" font-size=\"14.00\" fill=\"#000000\">0</text>\n",
       "</g>\n",
       "<!-- 1&#45;&gt;2 -->\n",
       "<g id=\"edge6\" class=\"edge\">\n",
       "<title>1&#45;&gt;2</title>\n",
       "<path fill=\"none\" stroke=\"#000000\" d=\"M135.42,-78.5253C141.51,-73.5133 149.37,-67.5093 157,-63.0733 163.46,-59.3173 170.91,-55.9463 177.64,-53.2153\"/>\n",
       "<polygon fill=\"#000000\" stroke=\"#000000\" points=\"183.58,-50.8943 178.9741,-55.5929 180.7857,-51.9862 177.9915,-53.078 177.9915,-53.078 177.9915,-53.078 180.7857,-51.9862 177.0088,-50.5632 183.58,-50.8943 183.58,-50.8943\"/>\n",
       "<text text-anchor=\"middle\" x=\"161\" y=\"-66.8733\" font-family=\"Times,serif\" font-size=\"14.00\" fill=\"#000000\">1</text>\n",
       "</g>\n",
       "<!-- 1&#45;&gt;3 -->\n",
       "<g id=\"edge7\" class=\"edge\">\n",
       "<title>1&#45;&gt;3</title>\n",
       "<path fill=\"none\" stroke=\"#000000\" d=\"M137.73,-94.6793C155.3,-102.4923 187.01,-113.2283 212,-103.0733 231.48,-95.1513 248.03,-77.2763 258.5,-63.6403\"/>\n",
       "<polygon fill=\"#000000\" stroke=\"#000000\" points=\"262.34,-58.4673 260.9317,-64.8944 260.5518,-60.8762 258.7637,-63.285 258.7637,-63.285 258.7637,-63.285 260.5518,-60.8762 256.5957,-61.6757 262.34,-58.4673 262.34,-58.4673\"/>\n",
       "<text text-anchor=\"middle\" x=\"197.5\" y=\"-110.8683\" font-family=\"Times,serif\" font-size=\"14.00\" fill=\"#000000\">1</text>\n",
       "</g>\n",
       "<!-- 2&#45;&gt;1 -->\n",
       "<g id=\"edge8\" class=\"edge\">\n",
       "<title>2&#45;&gt;1</title>\n",
       "<path fill=\"none\" stroke=\"#000000\" d=\"M188.43,-57.7323C182.48,-64.6233 174.12,-72.9723 165,-78.0733 158.9,-81.4833 151.65,-83.7433 144.98,-85.2353\"/>\n",
       "<polygon fill=\"#000000\" stroke=\"#000000\" points=\"139.06,-86.4013 144.4251,-82.5926 142.0035,-85.8215 144.9469,-85.2417 144.9469,-85.2417 144.9469,-85.2417 142.0035,-85.8215 145.4687,-87.8908 139.06,-86.4013 139.06,-86.4013\"/>\n",
       "<text text-anchor=\"middle\" x=\"161\" y=\"-84.8733\" font-family=\"Times,serif\" font-size=\"14.00\" fill=\"#000000\">0</text>\n",
       "</g>\n",
       "<!-- 2&#45;&gt;2 -->\n",
       "<g id=\"edge9\" class=\"edge\">\n",
       "<title>2&#45;&gt;2</title>\n",
       "<path fill=\"none\" stroke=\"#000000\" d=\"M191.48,-59.4263C189.52,-69.0183 191.52,-78.5733 197.5,-78.5733 202.17,-78.5733 204.42,-72.7413 204.24,-65.6163\"/>\n",
       "<polygon fill=\"#000000\" stroke=\"#000000\" points=\"203.52,-59.4263 206.8952,-65.0741 203.8667,-62.4062 204.2133,-65.3861 204.2133,-65.3861 204.2133,-65.3861 203.8667,-62.4062 201.5314,-65.6981 203.52,-59.4263 203.52,-59.4263\"/>\n",
       "<text text-anchor=\"middle\" x=\"197.5\" y=\"-82.3733\" font-family=\"Times,serif\" font-size=\"14.00\" fill=\"#000000\">1</text>\n",
       "</g>\n",
       "<!-- 2&#45;&gt;3 -->\n",
       "<g id=\"edge10\" class=\"edge\">\n",
       "<title>2&#45;&gt;3</title>\n",
       "<path fill=\"none\" stroke=\"#000000\" d=\"M212.27,-46.0733C222.96,-46.0733 237.55,-46.0733 249.46,-46.0733\"/>\n",
       "<polygon fill=\"#000000\" stroke=\"#000000\" points=\"255.75,-46.0733 249.75,-48.7734 252.75,-46.0733 249.75,-46.0734 249.75,-46.0734 249.75,-46.0734 252.75,-46.0733 249.75,-43.3734 255.75,-46.0733 255.75,-46.0733\"/>\n",
       "<text text-anchor=\"middle\" x=\"234\" y=\"-49.8733\" font-family=\"Times,serif\" font-size=\"14.00\" fill=\"#000000\">1</text>\n",
       "</g>\n",
       "<!-- 3&#45;&gt;F3 -->\n",
       "<g id=\"edge11\" class=\"edge\">\n",
       "<title>3&#45;&gt;F3</title>\n",
       "<path fill=\"none\" stroke=\"#000000\" d=\"M282.2659,-54.701C302.0218,-69.1875 341.0864,-97.8327 355.2308,-108.2045\"/>\n",
       "<polygon fill=\"#000000\" stroke=\"#000000\" points=\"360.3448,-111.9545 353.9096,-110.5838 357.9255,-110.1805 355.5062,-108.4065 355.5062,-108.4065 355.5062,-108.4065 357.9255,-110.1805 357.1029,-106.2291 360.3448,-111.9545 360.3448,-111.9545\"/>\n",
       "</g>\n",
       "<!-- 4 -->\n",
       "<g id=\"node9\" class=\"node\">\n",
       "<title>4</title>\n",
       "<ellipse fill=\"#98f5ff\" stroke=\"#000000\" cx=\"360.5\" cy=\"-46.0733\" rx=\"14.5\" ry=\"14.5\"/>\n",
       "<text text-anchor=\"middle\" x=\"360.5\" y=\"-42.9733\" font-family=\"Times,serif\" font-size=\"12.00\" fill=\"#000000\">4</text>\n",
       "</g>\n",
       "<!-- 3&#45;&gt;4 -->\n",
       "<g id=\"edge12\" class=\"edge\">\n",
       "<title>3&#45;&gt;4</title>\n",
       "<path fill=\"none\" stroke=\"#000000\" d=\"M285.36,-46.0733C300.17,-46.0733 323.04,-46.0733 339.66,-46.0733\"/>\n",
       "<polygon fill=\"#000000\" stroke=\"#000000\" points=\"345.91,-46.0733 339.91,-48.7734 342.91,-46.0733 339.91,-46.0734 339.91,-46.0734 339.91,-46.0734 342.91,-46.0733 339.91,-43.3734 345.91,-46.0733 345.91,-46.0733\"/>\n",
       "<text text-anchor=\"middle\" x=\"315.5\" y=\"-49.8733\" font-family=\"Times,serif\" font-size=\"14.00\" fill=\"#000000\">⟨2⟩0</text>\n",
       "</g>\n",
       "<!-- 5 -->\n",
       "<g id=\"node10\" class=\"node\">\n",
       "<title>5</title>\n",
       "<ellipse fill=\"#98f5ff\" stroke=\"#000000\" cx=\"450.5\" cy=\"-20.0733\" rx=\"14.5\" ry=\"14.5\"/>\n",
       "<text text-anchor=\"middle\" x=\"450.5\" y=\"-16.9733\" font-family=\"Times,serif\" font-size=\"12.00\" fill=\"#000000\">5</text>\n",
       "</g>\n",
       "<!-- 3&#45;&gt;5 -->\n",
       "<g id=\"edge13\" class=\"edge\">\n",
       "<title>3&#45;&gt;5</title>\n",
       "<path fill=\"none\" stroke=\"#000000\" d=\"M282.59,-37.4913C296.93,-27.8933 321.92,-12.9261 346,-7.0731 375.1,0 409.75,-7.3039 430.93,-13.4802\"/>\n",
       "<polygon fill=\"#000000\" stroke=\"#000000\" points=\"436.79,-15.2613 430.2641,-16.0997 433.9197,-14.3888 431.0493,-13.5164 431.0493,-13.5164 431.0493,-13.5164 433.9197,-14.3888 431.8345,-10.9331 436.79,-15.2613 436.79,-15.2613\"/>\n",
       "<text text-anchor=\"middle\" x=\"360.5\" y=\"-10.8733\" font-family=\"Times,serif\" font-size=\"14.00\" fill=\"#000000\">⟨2⟩1</text>\n",
       "</g>\n",
       "<!-- 4&#45;&gt;F4 -->\n",
       "<g id=\"edge14\" class=\"edge\">\n",
       "<title>4&#45;&gt;F4</title>\n",
       "<path fill=\"none\" stroke=\"#000000\" d=\"M373.7798,-52.2705C393.6746,-61.5548 430.3993,-78.693 444.6413,-85.3393\"/>\n",
       "<polygon fill=\"#000000\" stroke=\"#000000\" points=\"450.351,-88.0038 443.772,-87.9131 447.6324,-86.7351 444.9139,-85.4664 444.9139,-85.4664 444.9139,-85.4664 447.6324,-86.7351 446.0557,-83.0197 450.351,-88.0038 450.351,-88.0038\"/>\n",
       "</g>\n",
       "<!-- 4&#45;&gt;4 -->\n",
       "<g id=\"edge15\" class=\"edge\">\n",
       "<title>4&#45;&gt;4</title>\n",
       "<path fill=\"none\" stroke=\"#000000\" d=\"M353.32,-58.7493C350.63,-68.5633 353.02,-78.5733 360.5,-78.5733 366.46,-78.5733 369.19,-72.2173 368.69,-64.6683\"/>\n",
       "<polygon fill=\"#000000\" stroke=\"#000000\" points=\"367.68,-58.7493 371.3508,-64.2096 368.1847,-61.7066 368.6893,-64.6638 368.6893,-64.6638 368.6893,-64.6638 368.1847,-61.7066 366.0278,-65.118 367.68,-58.7493 367.68,-58.7493\"/>\n",
       "<text text-anchor=\"middle\" x=\"360.5\" y=\"-82.3733\" font-family=\"Times,serif\" font-size=\"14.00\" fill=\"#000000\">⟨2⟩0</text>\n",
       "</g>\n",
       "<!-- 4&#45;&gt;5 -->\n",
       "<g id=\"edge16\" class=\"edge\">\n",
       "<title>4&#45;&gt;5</title>\n",
       "<path fill=\"none\" stroke=\"#000000\" d=\"M370.58,-35.5713C376.53,-30.1373 384.53,-24.0353 393,-21.0733 404.66,-16.9943 418.48,-16.6243 429.65,-17.3313\"/>\n",
       "<polygon fill=\"#000000\" stroke=\"#000000\" points=\"435.88,-17.8513 429.6762,-20.0428 432.8904,-17.6017 429.9008,-17.3521 429.9008,-17.3521 429.9008,-17.3521 432.8904,-17.6017 430.1254,-14.6615 435.88,-17.8513 435.88,-17.8513\"/>\n",
       "<text text-anchor=\"middle\" x=\"405.5\" y=\"-24.8733\" font-family=\"Times,serif\" font-size=\"14.00\" fill=\"#000000\">⟨2⟩1</text>\n",
       "</g>\n",
       "<!-- 5&#45;&gt;F5 -->\n",
       "<g id=\"edge17\" class=\"edge\">\n",
       "<title>5&#45;&gt;F5</title>\n",
       "<path fill=\"none\" stroke=\"#000000\" d=\"M465.1201,-20.0733C475.2606,-20.0733 488.2527,-20.0733 495.7999,-20.0733\"/>\n",
       "<polygon fill=\"#000000\" stroke=\"#000000\" points=\"501.9374,-20.0733 495.9375,-22.7734 498.9374,-20.0733 495.9374,-20.0734 495.9374,-20.0734 495.9374,-20.0734 498.9374,-20.0733 495.9374,-17.3734 501.9374,-20.0733 501.9374,-20.0733\"/>\n",
       "</g>\n",
       "<!-- 5&#45;&gt;4 -->\n",
       "<g id=\"edge18\" class=\"edge\">\n",
       "<title>5&#45;&gt;4</title>\n",
       "<path fill=\"none\" stroke=\"#000000\" d=\"M437.89,-27.3313C432.01,-30.4373 424.82,-33.8533 418,-36.0733 406.08,-39.9553 392.25,-42.4203 381.14,-43.9313\"/>\n",
       "<polygon fill=\"#000000\" stroke=\"#000000\" points=\"374.95,-44.7153 380.5631,-41.2827 377.9262,-44.3383 380.9024,-43.9613 380.9024,-43.9613 380.9024,-43.9613 377.9262,-44.3383 381.2417,-46.6399 374.95,-44.7153 374.95,-44.7153\"/>\n",
       "<text text-anchor=\"middle\" x=\"405.5\" y=\"-44.8733\" font-family=\"Times,serif\" font-size=\"14.00\" fill=\"#000000\">⟨2⟩0</text>\n",
       "</g>\n",
       "<!-- 5&#45;&gt;5 -->\n",
       "<g id=\"edge19\" class=\"edge\">\n",
       "<title>5&#45;&gt;5</title>\n",
       "<path fill=\"none\" stroke=\"#000000\" d=\"M445.09,-33.7653C443.45,-43.2423 445.25,-52.5733 450.5,-52.5733 454.6,-52.5733 456.6,-46.8783 456.5,-39.8673\"/>\n",
       "<polygon fill=\"#000000\" stroke=\"#000000\" points=\"455.91,-33.7653 459.175,-39.4776 456.1988,-36.7514 456.4875,-39.7374 456.4875,-39.7374 456.4875,-39.7374 456.1988,-36.7514 453.8001,-39.9973 455.91,-33.7653 455.91,-33.7653\"/>\n",
       "<text text-anchor=\"middle\" x=\"450.5\" y=\"-56.3733\" font-family=\"Times,serif\" font-size=\"14.00\" fill=\"#000000\">⟨2⟩1</text>\n",
       "</g>\n",
       "</g>\n",
       "</svg>\n"
      ],
      "text/plain": [
       "mutable_automaton<context<letterset<char_letters>, z>>"
      ]
     },
     "execution_count": 10,
     "metadata": {},
     "output_type": "execute_result"
    }
   ],
   "source": [
    "bin = vcsn.automaton(filename='bin.gv')\n",
    "bin"
   ]
  },
  {
   "cell_type": "markdown",
   "metadata": {
    "deletable": true,
    "editable": true
   },
   "source": [
    "This automaton, `even`, only accepts even numbers."
   ]
  },
  {
   "cell_type": "code",
   "execution_count": 11,
   "metadata": {
    "collapsed": false,
    "deletable": true,
    "editable": true
   },
   "outputs": [
    {
     "data": {
      "image/svg+xml": [
       "<?xml version=\"1.0\" encoding=\"UTF-8\" standalone=\"no\"?>\n",
       "<!DOCTYPE svg PUBLIC \"-//W3C//DTD SVG 1.1//EN\"\n",
       " \"http://www.w3.org/Graphics/SVG/1.1/DTD/svg11.dtd\">\n",
       "<!-- Generated by graphviz version 2.40.1 (20161225.0304)\n",
       " -->\n",
       "<!-- Title: %3 Pages: 1 -->\n",
       "<svg width=\"330pt\" height=\"132pt\"\n",
       " viewBox=\"0.00 0.00 330.00 131.97\" xmlns=\"http://www.w3.org/2000/svg\" xmlns:xlink=\"http://www.w3.org/1999/xlink\">\n",
       "<g id=\"graph0\" class=\"graph\" transform=\"scale(1 1) rotate(0) translate(4 127.9663)\">\n",
       "<title>%3</title>\n",
       "<polygon fill=\"#ffffff\" stroke=\"transparent\" points=\"-4,4 -4,-127.9663 326,-127.9663 326,4 -4,4\"/>\n",
       "<!-- I0 -->\n",
       "<g id=\"node1\" class=\"node\">\n",
       "<title>I0</title>\n",
       "<ellipse fill=\"#000000\" stroke=\"#000000\" cx=\"0\" cy=\"-17.4663\" rx=\"0\" ry=\"0\"/>\n",
       "</g>\n",
       "<!-- 0 -->\n",
       "<g id=\"node3\" class=\"node\">\n",
       "<title>0</title>\n",
       "<ellipse fill=\"#98f5ff\" stroke=\"#000000\" cx=\"51.5\" cy=\"-17.4663\" rx=\"14.5\" ry=\"14.5\"/>\n",
       "<text text-anchor=\"middle\" x=\"51.5\" y=\"-14.3663\" font-family=\"Times,serif\" font-size=\"12.00\" fill=\"#000000\">0</text>\n",
       "</g>\n",
       "<!-- I0&#45;&gt;0 -->\n",
       "<g id=\"edge1\" class=\"edge\">\n",
       "<title>I0&#45;&gt;0</title>\n",
       "<path fill=\"none\" stroke=\"#000000\" d=\"M.1477,-17.4663C1.8156,-17.4663 17.298,-17.4663 30.83,-17.4663\"/>\n",
       "<polygon fill=\"#000000\" stroke=\"#000000\" points=\"36.854,-17.4663 30.854,-20.1664 33.854,-17.4663 30.854,-17.4664 30.854,-17.4664 30.854,-17.4664 33.854,-17.4663 30.854,-14.7664 36.854,-17.4663 36.854,-17.4663\"/>\n",
       "</g>\n",
       "<!-- F3 -->\n",
       "<g id=\"node2\" class=\"node\">\n",
       "<title>F3</title>\n",
       "<ellipse fill=\"#000000\" stroke=\"#000000\" cx=\"322\" cy=\"-34.4663\" rx=\"0\" ry=\"0\"/>\n",
       "</g>\n",
       "<!-- 1 -->\n",
       "<g id=\"node4\" class=\"node\">\n",
       "<title>1</title>\n",
       "<ellipse fill=\"#98f5ff\" stroke=\"#000000\" cx=\"124.5\" cy=\"-76.4663\" rx=\"14.5\" ry=\"14.5\"/>\n",
       "<text text-anchor=\"middle\" x=\"124.5\" y=\"-73.3663\" font-family=\"Times,serif\" font-size=\"12.00\" fill=\"#000000\">1</text>\n",
       "</g>\n",
       "<!-- 0&#45;&gt;1 -->\n",
       "<g id=\"edge2\" class=\"edge\">\n",
       "<title>0&#45;&gt;1</title>\n",
       "<path fill=\"none\" stroke=\"#000000\" d=\"M62.906,-26.6853C75.049,-36.4993 94.374,-52.1173 108.14,-63.2413\"/>\n",
       "<polygon fill=\"#000000\" stroke=\"#000000\" points=\"112.93,-67.1173 106.5673,-65.4419 110.5979,-65.2302 108.2657,-63.343 108.2657,-63.343 108.2657,-63.343 110.5979,-65.2302 109.9642,-61.2441 112.93,-67.1173 112.93,-67.1173\"/>\n",
       "<text text-anchor=\"middle\" x=\"88\" y=\"-52.2663\" font-family=\"Times,serif\" font-size=\"14.00\" fill=\"#000000\">0</text>\n",
       "</g>\n",
       "<!-- 2 -->\n",
       "<g id=\"node5\" class=\"node\">\n",
       "<title>2</title>\n",
       "<ellipse fill=\"#98f5ff\" stroke=\"#000000\" cx=\"197.5\" cy=\"-34.4663\" rx=\"14.5\" ry=\"14.5\"/>\n",
       "<text text-anchor=\"middle\" x=\"197.5\" y=\"-31.3663\" font-family=\"Times,serif\" font-size=\"12.00\" fill=\"#000000\">2</text>\n",
       "</g>\n",
       "<!-- 0&#45;&gt;2 -->\n",
       "<g id=\"edge3\" class=\"edge\">\n",
       "<title>0&#45;&gt;2</title>\n",
       "<path fill=\"none\" stroke=\"#000000\" d=\"M66.033,-19.1583C92.16,-22.2003 147.12,-28.6003 177.04,-32.0843\"/>\n",
       "<polygon fill=\"#000000\" stroke=\"#000000\" points=\"183.03,-32.7813 176.7581,-34.7696 180.0501,-32.4345 177.0702,-32.0877 177.0702,-32.0877 177.0702,-32.0877 180.0501,-32.4345 177.3823,-29.4058 183.03,-32.7813 183.03,-32.7813\"/>\n",
       "<text text-anchor=\"middle\" x=\"124.5\" y=\"-30.2663\" font-family=\"Times,serif\" font-size=\"14.00\" fill=\"#000000\">1</text>\n",
       "</g>\n",
       "<!-- 3 -->\n",
       "<g id=\"node6\" class=\"node\">\n",
       "<title>3</title>\n",
       "<ellipse fill=\"#98f5ff\" stroke=\"#000000\" cx=\"270.5\" cy=\"-34.4663\" rx=\"14.5\" ry=\"14.5\"/>\n",
       "<text text-anchor=\"middle\" x=\"270.5\" y=\"-31.3663\" font-family=\"Times,serif\" font-size=\"12.00\" fill=\"#000000\">3</text>\n",
       "</g>\n",
       "<!-- 0&#45;&gt;3 -->\n",
       "<g id=\"edge4\" class=\"edge\">\n",
       "<title>0&#45;&gt;3</title>\n",
       "<path fill=\"none\" stroke=\"#000000\" d=\"M65.841,-14.5913C94.114,-9.4166 158.91,0 212,-10.4663 225.94,-13.2153 240.74,-19.3193 251.96,-24.6833\"/>\n",
       "<polygon fill=\"#000000\" stroke=\"#000000\" points=\"257.49,-27.4003 250.9142,-27.1777 254.7974,-26.0774 252.1049,-24.7544 252.1049,-24.7544 252.1049,-24.7544 254.7974,-26.0774 253.2955,-22.3311 257.49,-27.4003 257.49,-27.4003\"/>\n",
       "<text text-anchor=\"middle\" x=\"161\" y=\"-10.2663\" font-family=\"Times,serif\" font-size=\"14.00\" fill=\"#000000\">0</text>\n",
       "</g>\n",
       "<!-- 1&#45;&gt;1 -->\n",
       "<g id=\"edge5\" class=\"edge\">\n",
       "<title>1&#45;&gt;1</title>\n",
       "<path fill=\"none\" stroke=\"#000000\" d=\"M118.48,-89.8203C116.52,-99.4113 118.52,-108.9663 124.5,-108.9663 129.17,-108.9663 131.42,-103.1363 131.24,-96.0093\"/>\n",
       "<polygon fill=\"#000000\" stroke=\"#000000\" points=\"130.52,-89.8203 133.8953,-95.4681 130.8667,-92.8002 131.2134,-95.7801 131.2134,-95.7801 131.2134,-95.7801 130.8667,-92.8002 128.5315,-96.0921 130.52,-89.8203 130.52,-89.8203\"/>\n",
       "<text text-anchor=\"middle\" x=\"124.5\" y=\"-112.7663\" font-family=\"Times,serif\" font-size=\"14.00\" fill=\"#000000\">0</text>\n",
       "</g>\n",
       "<!-- 1&#45;&gt;2 -->\n",
       "<g id=\"edge6\" class=\"edge\">\n",
       "<title>1&#45;&gt;2</title>\n",
       "<path fill=\"none\" stroke=\"#000000\" d=\"M135.42,-66.9193C141.51,-61.9063 149.37,-55.9023 157,-51.4663 163.46,-47.7103 170.91,-44.3393 177.64,-41.6083\"/>\n",
       "<polygon fill=\"#000000\" stroke=\"#000000\" points=\"183.58,-39.2873 178.9741,-43.9859 180.7857,-40.3792 177.9915,-41.471 177.9915,-41.471 177.9915,-41.471 180.7857,-40.3792 177.0088,-38.9562 183.58,-39.2873 183.58,-39.2873\"/>\n",
       "<text text-anchor=\"middle\" x=\"161\" y=\"-55.2663\" font-family=\"Times,serif\" font-size=\"14.00\" fill=\"#000000\">1</text>\n",
       "</g>\n",
       "<!-- 1&#45;&gt;3 -->\n",
       "<g id=\"edge7\" class=\"edge\">\n",
       "<title>1&#45;&gt;3</title>\n",
       "<path fill=\"none\" stroke=\"#000000\" d=\"M137.73,-83.0723C155.3,-90.8863 187.01,-101.6263 212,-91.4663 231.48,-83.5443 248.03,-65.6703 258.5,-52.0343\"/>\n",
       "<polygon fill=\"#000000\" stroke=\"#000000\" points=\"262.34,-46.8603 260.9323,-53.2875 260.5521,-49.2693 258.7641,-51.6784 258.7641,-51.6784 258.7641,-51.6784 260.5521,-49.2693 256.596,-50.0692 262.34,-46.8603 262.34,-46.8603\"/>\n",
       "<text text-anchor=\"middle\" x=\"197.5\" y=\"-99.2663\" font-family=\"Times,serif\" font-size=\"14.00\" fill=\"#000000\">0</text>\n",
       "</g>\n",
       "<!-- 2&#45;&gt;1 -->\n",
       "<g id=\"edge8\" class=\"edge\">\n",
       "<title>2&#45;&gt;1</title>\n",
       "<path fill=\"none\" stroke=\"#000000\" d=\"M188.43,-46.1263C182.48,-53.0163 174.12,-61.3653 165,-66.4663 158.9,-69.8763 151.65,-72.1363 144.98,-73.6283\"/>\n",
       "<polygon fill=\"#000000\" stroke=\"#000000\" points=\"139.06,-74.7943 144.4251,-70.9856 142.0035,-74.2145 144.9469,-73.6347 144.9469,-73.6347 144.9469,-73.6347 142.0035,-74.2145 145.4687,-76.2838 139.06,-74.7943 139.06,-74.7943\"/>\n",
       "<text text-anchor=\"middle\" x=\"161\" y=\"-73.2663\" font-family=\"Times,serif\" font-size=\"14.00\" fill=\"#000000\">0</text>\n",
       "</g>\n",
       "<!-- 2&#45;&gt;2 -->\n",
       "<g id=\"edge9\" class=\"edge\">\n",
       "<title>2&#45;&gt;2</title>\n",
       "<path fill=\"none\" stroke=\"#000000\" d=\"M191.48,-47.8203C189.52,-57.4113 191.52,-66.9663 197.5,-66.9663 202.17,-66.9663 204.42,-61.1343 204.24,-54.0093\"/>\n",
       "<polygon fill=\"#000000\" stroke=\"#000000\" points=\"203.52,-47.8203 206.8953,-53.4681 203.8667,-50.8002 204.2134,-53.7801 204.2134,-53.7801 204.2134,-53.7801 203.8667,-50.8002 201.5315,-54.0921 203.52,-47.8203 203.52,-47.8203\"/>\n",
       "<text text-anchor=\"middle\" x=\"197.5\" y=\"-70.7663\" font-family=\"Times,serif\" font-size=\"14.00\" fill=\"#000000\">1</text>\n",
       "</g>\n",
       "<!-- 2&#45;&gt;3 -->\n",
       "<g id=\"edge10\" class=\"edge\">\n",
       "<title>2&#45;&gt;3</title>\n",
       "<path fill=\"none\" stroke=\"#000000\" d=\"M212.27,-34.4663C222.96,-34.4663 237.55,-34.4663 249.46,-34.4663\"/>\n",
       "<polygon fill=\"#000000\" stroke=\"#000000\" points=\"255.75,-34.4663 249.75,-37.1664 252.75,-34.4663 249.75,-34.4664 249.75,-34.4664 249.75,-34.4664 252.75,-34.4663 249.75,-31.7664 255.75,-34.4663 255.75,-34.4663\"/>\n",
       "<text text-anchor=\"middle\" x=\"234\" y=\"-38.2663\" font-family=\"Times,serif\" font-size=\"14.00\" fill=\"#000000\">0</text>\n",
       "</g>\n",
       "<!-- 3&#45;&gt;F3 -->\n",
       "<g id=\"edge11\" class=\"edge\">\n",
       "<title>3&#45;&gt;F3</title>\n",
       "<path fill=\"none\" stroke=\"#000000\" d=\"M285.1201,-34.4663C295.2606,-34.4663 308.2527,-34.4663 315.7999,-34.4663\"/>\n",
       "<polygon fill=\"#000000\" stroke=\"#000000\" points=\"321.9374,-34.4663 315.9375,-37.1664 318.9374,-34.4663 315.9374,-34.4664 315.9374,-34.4664 315.9374,-34.4664 318.9374,-34.4663 315.9374,-31.7664 321.9374,-34.4663 321.9374,-34.4663\"/>\n",
       "</g>\n",
       "</g>\n",
       "</svg>\n"
      ],
      "text/plain": [
       "mutable_automaton<context<letterset<char_letters>, z>>"
      ]
     },
     "execution_count": 11,
     "metadata": {},
     "output_type": "execute_result"
    }
   ],
   "source": [
    "even = vcsn.automaton(filename='even.gv')\n",
    "even"
   ]
  },
  {
   "cell_type": "markdown",
   "metadata": {
    "deletable": true,
    "editable": true
   },
   "source": [
    "Now we run `prod-eval` to evaluate words on the synchronized product of `bin` and `even`.\n",
    "The result is the value denoted by this binary number if it is even else 0.\n",
    "The result is displayed twice, once for the dyn implementation and once for static one."
   ]
  },
  {
   "cell_type": "code",
   "execution_count": 12,
   "metadata": {
    "collapsed": false,
    "deletable": true,
    "editable": true
   },
   "outputs": [
    {
     "name": "stdout",
     "output_type": "stream",
     "text": [
      "     0: 0, 0\n",
      "     1: 0, 0\n",
      "    10: 2, 2\n",
      "  1110: 14, 14\n",
      "101010: 42, 42\n",
      "101011: 0, 0\n"
     ]
    }
   ],
   "source": [
    "!for i in 0 1 10 1110 101010 101011;                       \\\n",
    "do                                                         \\\n",
    "    printf \"%6s: \" $i;                                     \\\n",
    "    vcsn run ../../tests/demo/prod-eval bin.gv even.gv $i; \\\n",
    "done"
   ]
  },
  {
   "cell_type": "markdown",
   "metadata": {
    "deletable": true,
    "editable": true
   },
   "source": [
    "For the record, this could have been done this way in Python:"
   ]
  },
  {
   "cell_type": "code",
   "execution_count": 13,
   "metadata": {
    "collapsed": false,
    "deletable": true,
    "editable": true
   },
   "outputs": [
    {
     "name": "stdout",
     "output_type": "stream",
     "text": [
      "     0: 0\n",
      "     1: 0\n",
      "    10: 2\n",
      "  1110: 14\n",
      "101010: 42\n",
      "101011: 0\n"
     ]
    }
   ],
   "source": [
    "for i in [0, 1, 10, 1110, 101010, 101011]:\n",
    "    print('{:6d}: {}'.format(i, (bin & even).evaluate(i)))"
   ]
  },
  {
   "cell_type": "markdown",
   "metadata": {
    "deletable": true,
    "editable": true
   },
   "source": [
    "##  Low-level manipulation of automata: `compose`\n",
    "This example shows how to build a multitape automaton (adding states and transitions), and how to use it."
   ]
  },
  {
   "cell_type": "code",
   "execution_count": 14,
   "metadata": {
    "collapsed": false,
    "deletable": true,
    "editable": true,
    "scrolled": false
   },
   "outputs": [
    {
     "name": "stdout",
     "output_type": "stream",
     "text": [
      "\u001b[36m#\u001b[39;49;00m\u001b[36minclude\u001b[39;49;00m \u001b[37m<iostream> //std::cout\u001b[39;49;00m\u001b[36m\u001b[39;49;00m\r\n",
      "\r\n",
      "\u001b[36m#\u001b[39;49;00m\u001b[36minclude\u001b[39;49;00m \u001b[37m<vcsn/alphabets/char.hh> // type of letter\u001b[39;49;00m\u001b[36m\u001b[39;49;00m\r\n",
      "\u001b[36m#\u001b[39;49;00m\u001b[36minclude\u001b[39;49;00m \u001b[37m<vcsn/alphabets/setalpha.hh> // alphabet\u001b[39;49;00m\u001b[36m\u001b[39;49;00m\r\n",
      "\u001b[36m#\u001b[39;49;00m\u001b[36minclude\u001b[39;49;00m \u001b[37m<vcsn/algos/compose.hh> // composition algorithm\u001b[39;49;00m\u001b[36m\u001b[39;49;00m\r\n",
      "\u001b[36m#\u001b[39;49;00m\u001b[36minclude\u001b[39;49;00m \u001b[37m<vcsn/algos/dot.hh> // display algorithm\u001b[39;49;00m\u001b[36m\u001b[39;49;00m\r\n",
      "\u001b[36m#\u001b[39;49;00m\u001b[36minclude\u001b[39;49;00m \u001b[37m<vcsn/labelset/tupleset.hh> // tupleset\u001b[39;49;00m\u001b[36m\u001b[39;49;00m\r\n",
      "\u001b[36m#\u001b[39;49;00m\u001b[36minclude\u001b[39;49;00m \u001b[37m<vcsn/labelset/letterset.hh> // letterset\u001b[39;49;00m\u001b[36m\u001b[39;49;00m\r\n",
      "\u001b[36m#\u001b[39;49;00m\u001b[36minclude\u001b[39;49;00m \u001b[37m<vcsn/weightset/b.hh> // weightset b\u001b[39;49;00m\u001b[36m\u001b[39;49;00m\r\n",
      "\r\n",
      "\u001b[37m/**\u001b[39;49;00m\r\n",
      "\u001b[37m * Example usage of Vcsn's static layer.\u001b[39;49;00m\r\n",
      "\u001b[37m *\u001b[39;49;00m\r\n",
      "\u001b[37m * Creation of an automaton, composition, then display.\u001b[39;49;00m\r\n",
      "\u001b[37m */\u001b[39;49;00m\r\n",
      "\u001b[36mint\u001b[39;49;00m \u001b[32mmain\u001b[39;49;00m()\r\n",
      "{\r\n",
      "  \u001b[34musing\u001b[39;49;00m \u001b[34mnamespace\u001b[39;49;00m vcsn;\r\n",
      "\r\n",
      "  \u001b[37m// Basic alphabet type.\u001b[39;49;00m\r\n",
      "  \u001b[34musing\u001b[39;49;00m alphabet_t = set_alphabet<char_letters>;\r\n",
      "\r\n",
      "  \u001b[37m// Letterset (single-tape labelset).\u001b[39;49;00m\r\n",
      "  \u001b[34musing\u001b[39;49;00m letterset_t = letterset<alphabet_t>;\r\n",
      "\r\n",
      "  \u001b[37m// Create the letterset.\u001b[39;49;00m\r\n",
      "  \u001b[34mauto\u001b[39;49;00m ls1 = letterset_t{\u001b[33m'\u001b[39;49;00m\u001b[33ma\u001b[39;49;00m\u001b[33m'\u001b[39;49;00m};\r\n",
      "\r\n",
      "  \u001b[37m// Labelset (double-tape).\u001b[39;49;00m\r\n",
      "  \u001b[34musing\u001b[39;49;00m labelset_t = tupleset<letterset_t, letterset_t>;\r\n",
      "\r\n",
      "  \u001b[37m// Create the double-tape labelset.\u001b[39;49;00m\r\n",
      "  \u001b[34mauto\u001b[39;49;00m ls = labelset_t{ls1, ls1};\r\n",
      "\r\n",
      "\r\n",
      "  \u001b[37m// Context of the automaton: lat<lal_char, lal_char>, b.\u001b[39;49;00m\r\n",
      "  \u001b[34musing\u001b[39;49;00m context_t = context<labelset_t, b>;\r\n",
      "\r\n",
      "  \u001b[37m// Create the context from the labelset.\u001b[39;49;00m\r\n",
      "  \u001b[37m// No parameter for the weightset, as it's just B.\u001b[39;49;00m\r\n",
      "  \u001b[34mauto\u001b[39;49;00m ctx = context_t{ls};\r\n",
      "\r\n",
      "\r\n",
      "  \u001b[37m// Create an empty automaton (transducer), from the context.\u001b[39;49;00m\r\n",
      "  \u001b[34mauto\u001b[39;49;00m t = make_mutable_automaton(ctx);\r\n",
      "\r\n",
      "  \u001b[37m// Add a state.\u001b[39;49;00m\r\n",
      "  \u001b[37m// p is a state identifier, probably 0\u001b[39;49;00m\r\n",
      "  \u001b[34mauto\u001b[39;49;00m p = t->new_state();\r\n",
      "  \u001b[34mauto\u001b[39;49;00m q = t->new_state();\r\n",
      "\r\n",
      "  \u001b[37m// Make p initial.\u001b[39;49;00m\r\n",
      "  t->set_initial(p);\r\n",
      "  \u001b[37m// Transition from p to q, with label \"a|a\".\u001b[39;49;00m\r\n",
      "  t->new_transition(p, q, ctx.labelset()->tuple(\u001b[33m'\u001b[39;49;00m\u001b[33ma\u001b[39;49;00m\u001b[33m'\u001b[39;49;00m, \u001b[33m'\u001b[39;49;00m\u001b[33ma\u001b[39;49;00m\u001b[33m'\u001b[39;49;00m));\r\n",
      "  \u001b[37m// Make q final\u001b[39;49;00m\r\n",
      "  t->set_final(q);\r\n",
      "\r\n",
      "  \u001b[37m// The automaton looks like:\u001b[39;49;00m\r\n",
      "  \u001b[37m// --> p --(a|a)--> q -->\u001b[39;49;00m\r\n",
      "\r\n",
      "  \u001b[37m/// Lazy composition with itself\u001b[39;49;00m\r\n",
      "  \u001b[34mauto\u001b[39;49;00m c = compose_lazy(t, t);\r\n",
      "\r\n",
      "  \u001b[37m// Display the resulting automaton on standard output.\u001b[39;49;00m\r\n",
      "  \u001b[37m// It's partial, because it's a lazy composition.\u001b[39;49;00m\r\n",
      "  dot(c, std::cout) << \u001b[33m'\u001b[39;49;00m\u001b[33m\\n\u001b[39;49;00m\u001b[33m'\u001b[39;49;00m;\r\n",
      "\r\n",
      "  \u001b[37m// Compute the accessible states of c, thus resolving all the states.\u001b[39;49;00m\r\n",
      "  \u001b[34mauto\u001b[39;49;00m d = accessible(c);\r\n",
      "\r\n",
      "  \u001b[37m// Display d.\u001b[39;49;00m\r\n",
      "  dot(d, std::cout) << \u001b[33m'\u001b[39;49;00m\u001b[33m\\n\u001b[39;49;00m\u001b[33m'\u001b[39;49;00m;\r\n",
      "  \u001b[37m// Display c, all the states have been resolved.\u001b[39;49;00m\r\n",
      "  dot(c, std::cout) << \u001b[33m'\u001b[39;49;00m\u001b[33m\\n\u001b[39;49;00m\u001b[33m'\u001b[39;49;00m;\r\n",
      "}\r\n"
     ]
    }
   ],
   "source": [
    "!pygmentize -l c++ ../../tests/demo/compose.cc "
   ]
  }
 ],
 "metadata": {
  "kernelspec": {
   "display_name": "Python 3",
   "language": "python",
   "name": "python3"
  },
  "language_info": {
   "codemirror_mode": {
    "name": "ipython",
    "version": 3
   },
   "file_extension": ".py",
   "mimetype": "text/x-python",
   "name": "python",
   "nbconvert_exporter": "python",
   "pygments_lexer": "ipython3",
   "version": "3.5.3"
  }
 },
 "nbformat": 4,
 "nbformat_minor": 0
}
