{
 "cells": [
  {
   "cell_type": "markdown",
   "metadata": {},
   "source": [
    "# How to use the Vcsn library\n",
    "\n",
    "## Writing your own code\n",
    "\n",
    "Writing programs with Vcsn is quite simple once you're familiar with the library.\n",
    "\n",
    "### Static\n",
    "\n",
    "When using the static version of the library, use algorithms from the `vcsn::` namespace. These algorithms are highly templated and hence require the user to know the context and parameters of these algorithms at compile time.\n",
    "This part of the library provides less flexibility but ensures that all of the required code will be compiled before runtime.\n",
    "\n",
    "### Dyn\n",
    "\n",
    "The dyn version of the library consists of algorithms from the `vcsn::dyn::` namespace. These algorithms provide an abstraction from the static library that hides from users the actual fully templated versions of algorithms. This allows more flexibility as the user does not have to know the context of automata at compile time and new types of automata can be created at runtime. However, algorithms may need to be compiled at runtime, lowering the program's performances (once compiled algorithms are cached and can be used without further compilation though).\n",
    "\n",
    "## Compiling with Vcsn\n",
    "\n",
    "Compiling your program will then require to use the Vcsn program with the compiler option and can be done as such:\n",
    "\n",
    "    $ vcsn compile source.cc\n",
    "\n",
    "It is also possible to modify the programs compilation options and compiler in the command line option:\n",
    "\n",
    "    $ vcsn compile CXX='g++' CXXFLAGS+='-g3' source.cc\n",
    "\n",
    "Run `vcsn compile --help` for additional options.  This page provides examples of use of `vcsn compile`, see below.\n",
    "\n",
    "## Running the code\n",
    "\n",
    "When actually running the program you just compiled you _might_ have to use the Vcsn program as well through the run option:\n",
    "\n",
    "    $ vcsn run my-prog args...\n",
    "\n",
    "The command can be followed directly by the arguments of your program.\n",
    "\n",
    "Possibly just running `my-prog` would work too, but it depends on your setup.  In case of doubt, use `vcsn run`."
   ]
  },
  {
   "cell_type": "markdown",
   "metadata": {},
   "source": [
    "# Examples\n",
    "\n",
    "More samples of code are present in the `tests/demo` directory of the project from which you can inspire yourself."
   ]
  },
  {
   "cell_type": "code",
   "execution_count": 1,
   "metadata": {},
   "outputs": [],
   "source": [
    "import vcsn"
   ]
  },
  {
   "cell_type": "markdown",
   "metadata": {},
   "source": [
    "##  Operators of labels, expressions, etc.\n",
    "This a simple example which shows how to build `dyn` labels, weights, etc. and how to manipulate them with operators such as `+`.\n",
    "\n",
    "For a start, labels are the simplest objects: you can hardly do more that concatenating them, thanks to `*`.  You may also run `multiply(a, b)` instead of `a * b`.  The following examples shows how to compare labels too."
   ]
  },
  {
   "cell_type": "code",
   "execution_count": 2,
   "metadata": {},
   "outputs": [
    {
     "name": "stdout",
     "output_type": "stream",
     "text": [
      "  \u001b[36mvoid\u001b[39;49;00m\r\n",
      "  \u001b[32mlabels\u001b[39;49;00m()\r\n",
      "  {\r\n",
      "    \u001b[34musing\u001b[39;49;00m \u001b[34mnamespace\u001b[39;49;00m vcsn::dyn;\r\n",
      "    \u001b[37m// Labels are words, not letters.\u001b[39;49;00m\r\n",
      "    \u001b[34mauto\u001b[39;49;00m ctx = make_context(\u001b[33m\"\u001b[39;49;00m\u001b[33mlaw, q\u001b[39;49;00m\u001b[33m\"\u001b[39;49;00m);\r\n",
      "\r\n",
      "    \u001b[34mauto\u001b[39;49;00m a = make_label(ctx, \u001b[33m\"\u001b[39;49;00m\u001b[33ma\u001b[39;49;00m\u001b[33m\"\u001b[39;49;00m);\r\n",
      "    \u001b[34mauto\u001b[39;49;00m b = make_label(ctx, \u001b[33m\"\u001b[39;49;00m\u001b[33mb\u001b[39;49;00m\u001b[33m\"\u001b[39;49;00m);\r\n",
      "    \u001b[34mauto\u001b[39;49;00m abba = make_label(ctx, \u001b[33m\"\u001b[39;49;00m\u001b[33mabba\u001b[39;49;00m\u001b[33m\"\u001b[39;49;00m);\r\n",
      "\r\n",
      "    \u001b[37m// Labels can be compared.\u001b[39;49;00m\r\n",
      "    ASSERT(a == a);\r\n",
      "    ASSERT(a != b);\r\n",
      "    ASSERT(a < b);\r\n",
      "    ASSERT(a <= b);\r\n",
      "    ASSERT(b > a);\r\n",
      "    ASSERT(b >= a);\r\n",
      "\r\n",
      "    \u001b[37m// This is the lexicographical order.\u001b[39;49;00m\r\n",
      "    ASSERT(a < abba);\r\n",
      "    ASSERT(abba < b);\r\n",
      "\r\n",
      "    \u001b[37m// They also support multiplication (i.e., concatenation) when\u001b[39;49;00m\r\n",
      "    \u001b[37m// possible: concatenation of labels-are-letters does not work, of\u001b[39;49;00m\r\n",
      "    \u001b[37m// course.  That's why the context here is using labels-are-words.\u001b[39;49;00m\r\n",
      "    ASSERT(a * b * b * a == abba);\r\n",
      "  }\r\n"
     ]
    }
   ],
   "source": [
    "# Don't worry about this \"magic\" line: it selects some lines from\n",
    "# the `operators.cc` file, and pretty-prints them.\n",
    "!perl -ne '(/labels:/ ... /labels:/) && !/labels:/ && print' ../../tests/demo/operators.cc | pygmentize -l c++ "
   ]
  },
  {
   "cell_type": "markdown",
   "metadata": {},
   "source": [
    "Weights are more capables than labels: in addition to multiplication, they support conjunction and addition."
   ]
  },
  {
   "cell_type": "code",
   "execution_count": 3,
   "metadata": {},
   "outputs": [
    {
     "name": "stdout",
     "output_type": "stream",
     "text": [
      "  \u001b[36mvoid\u001b[39;49;00m\r\n",
      "  \u001b[32mweights\u001b[39;49;00m()\r\n",
      "  {\r\n",
      "    \u001b[34musing\u001b[39;49;00m \u001b[34mnamespace\u001b[39;49;00m vcsn::dyn;\r\n",
      "\r\n",
      "    \u001b[37m// This context specifies that weights are rational numbers (ℚ).\u001b[39;49;00m\r\n",
      "    \u001b[34mauto\u001b[39;49;00m ctx = make_context(\u001b[33m\"\u001b[39;49;00m\u001b[33mlal, q\u001b[39;49;00m\u001b[33m\"\u001b[39;49;00m);\r\n",
      "\r\n",
      "    \u001b[34mauto\u001b[39;49;00m one = make_weight(ctx, \u001b[33m\"\u001b[39;49;00m\u001b[33m1\u001b[39;49;00m\u001b[33m\"\u001b[39;49;00m);\r\n",
      "    \u001b[34mauto\u001b[39;49;00m two = make_weight(ctx, \u001b[33m\"\u001b[39;49;00m\u001b[33m2\u001b[39;49;00m\u001b[33m\"\u001b[39;49;00m);\r\n",
      "    \u001b[34mauto\u001b[39;49;00m half = make_weight(ctx, \u001b[33m\"\u001b[39;49;00m\u001b[33m1/2\u001b[39;49;00m\u001b[33m\"\u001b[39;49;00m);\r\n",
      "\r\n",
      "    \u001b[37m// Weights can be compared.\u001b[39;49;00m\r\n",
      "    ASSERT(one != two);\r\n",
      "    ASSERT(one == one);\r\n",
      "    ASSERT(one < two);\r\n",
      "    ASSERT(one <= two);\r\n",
      "    ASSERT(two > one);\r\n",
      "    ASSERT(two >= one);\r\n",
      "\r\n",
      "    \u001b[37m// 1+1 = 2, etc.\u001b[39;49;00m\r\n",
      "    ASSERT(one + one == two);\r\n",
      "    ASSERT(half + half == one);\r\n",
      "\r\n",
      "    \u001b[37m// 1/2 * 2 = 1.\u001b[39;49;00m\r\n",
      "    ASSERT(half * two == one);\r\n",
      "\r\n",
      "    \u001b[37m// (1/2)* = 2.\u001b[39;49;00m\r\n",
      "    ASSERT(half * -\u001b[34m1\u001b[39;49;00m == two);\r\n",
      "  }\r\n"
     ]
    }
   ],
   "source": [
    "!perl -ne '(/weights:/ ... /weights:/) && !/weights:/ && print' ../../tests/demo/operators.cc | pygmentize -l c++ "
   ]
  },
  {
   "cell_type": "markdown",
   "metadata": {},
   "source": [
    "Of course, expressions are more interesting: they support a wide range of operators, and many functions."
   ]
  },
  {
   "cell_type": "code",
   "execution_count": 4,
   "metadata": {},
   "outputs": [
    {
     "name": "stdout",
     "output_type": "stream",
     "text": [
      "  \u001b[36mvoid\u001b[39;49;00m\r\n",
      "  \u001b[32mexpressions\u001b[39;49;00m()\r\n",
      "  {\r\n",
      "    \u001b[34musing\u001b[39;49;00m \u001b[34mnamespace\u001b[39;49;00m vcsn::dyn;\r\n",
      "    \u001b[37m// A simple context.\u001b[39;49;00m\r\n",
      "    \u001b[34mauto\u001b[39;49;00m ctx = make_context(\u001b[33m\"\u001b[39;49;00m\u001b[33mlal, q\u001b[39;49;00m\u001b[33m\"\u001b[39;49;00m);\r\n",
      "\r\n",
      "    \u001b[37m// Create an expression, and pretty-print it.\u001b[39;49;00m\r\n",
      "    \u001b[34mauto\u001b[39;49;00m e1 = make_expression(ctx, \u001b[33m\"\u001b[39;49;00m\u001b[33m<2>a\u001b[39;49;00m\u001b[33m\"\u001b[39;49;00m);\r\n",
      "    ASSERT(format(e1) == \u001b[33m\"\u001b[39;49;00m\u001b[33m<2>a\u001b[39;49;00m\u001b[33m\"\u001b[39;49;00m);\r\n",
      "    \u001b[34mauto\u001b[39;49;00m e2 = make_expression(ctx, \u001b[33m\"\u001b[39;49;00m\u001b[33m<3>b\u001b[39;49;00m\u001b[33m\"\u001b[39;49;00m);\r\n",
      "\r\n",
      "    ASSERT(format(e1 + e2) == \u001b[33m\"\u001b[39;49;00m\u001b[33m<2>a+<3>b\u001b[39;49;00m\u001b[33m\"\u001b[39;49;00m);\r\n",
      "    ASSERT(format(e1 * e2) == \u001b[33m\"\u001b[39;49;00m\u001b[33m<6>(ab)\u001b[39;49;00m\u001b[33m\"\u001b[39;49;00m);\r\n",
      "\r\n",
      "    \u001b[37m// e * -1 denotes e to the -1, that is e*.\u001b[39;49;00m\r\n",
      "    \u001b[34mauto\u001b[39;49;00m e = ((e1 + e2) * -\u001b[34m1\u001b[39;49;00m) * e1 * (e1 + e2);\r\n",
      "    ASSERT(format(e) == \u001b[33m\"\u001b[39;49;00m\u001b[33m<2>((<2>a+<3>b)*a(<2>a+<3>b))\u001b[39;49;00m\u001b[33m\"\u001b[39;49;00m);\r\n",
      "  }\r\n"
     ]
    }
   ],
   "source": [
    "!perl -ne '(/expressions:/ ... /expressions:/) && !/expressions:/ && print' ../../tests/demo/operators.cc | pygmentize -l c++ "
   ]
  },
  {
   "cell_type": "markdown",
   "metadata": {},
   "source": [
    "Automata also offer a rich feature set."
   ]
  },
  {
   "cell_type": "code",
   "execution_count": 5,
   "metadata": {},
   "outputs": [
    {
     "name": "stdout",
     "output_type": "stream",
     "text": [
      "  \u001b[36mvoid\u001b[39;49;00m\r\n",
      "  \u001b[32mautomata\u001b[39;49;00m()\r\n",
      "  {\r\n",
      "    \u001b[34musing\u001b[39;49;00m \u001b[34mnamespace\u001b[39;49;00m vcsn::dyn;\r\n",
      "    \u001b[37m// A simple automaton.\u001b[39;49;00m\r\n",
      "    \u001b[34mauto\u001b[39;49;00m a1 = make_automaton(\u001b[33m\"\u001b[39;49;00m\u001b[33mcontext = lal, q\u001b[39;49;00m\u001b[33m\\n\u001b[39;49;00m\u001b[33m\"\u001b[39;49;00m\r\n",
      "                             \u001b[33m\"\u001b[39;49;00m\u001b[33m$ 0 <1/2>\u001b[39;49;00m\u001b[33m\\n\u001b[39;49;00m\u001b[33m\"\u001b[39;49;00m\r\n",
      "                             \u001b[33m\"\u001b[39;49;00m\u001b[33m0 1 <2>a, <6>b\u001b[39;49;00m\u001b[33m\\n\u001b[39;49;00m\u001b[33m\"\u001b[39;49;00m\r\n",
      "                             \u001b[33m\"\u001b[39;49;00m\u001b[33m1 $\u001b[39;49;00m\u001b[33m\\n\u001b[39;49;00m\u001b[33m\"\u001b[39;49;00m);\r\n",
      "    \u001b[37m// Its context.\u001b[39;49;00m\r\n",
      "    \u001b[34mauto\u001b[39;49;00m ctx = context_of(a1);\r\n",
      "\r\n",
      "    \u001b[37m// Evaluate it.\u001b[39;49;00m\r\n",
      "    ASSERT(evaluate(a1, make_word(ctx, \u001b[33m\"\u001b[39;49;00m\u001b[33ma\u001b[39;49;00m\u001b[33m\"\u001b[39;49;00m)) == make_weight(ctx, \u001b[33m\"\u001b[39;49;00m\u001b[33m1\u001b[39;49;00m\u001b[33m\"\u001b[39;49;00m));\r\n",
      "    ASSERT(evaluate(a1, make_word(ctx, \u001b[33m\"\u001b[39;49;00m\u001b[33mb\u001b[39;49;00m\u001b[33m\"\u001b[39;49;00m)) == make_weight(ctx, \u001b[33m\"\u001b[39;49;00m\u001b[33m3\u001b[39;49;00m\u001b[33m\"\u001b[39;49;00m));\r\n",
      "\r\n",
      "    \u001b[37m// Concatenate to itself.\u001b[39;49;00m\r\n",
      "    \u001b[34mauto\u001b[39;49;00m a2 = a1 * a1;\r\n",
      "    ASSERT(evaluate(a2, make_word(ctx, \u001b[33m\"\u001b[39;49;00m\u001b[33mab\u001b[39;49;00m\u001b[33m\"\u001b[39;49;00m)) == make_weight(ctx, \u001b[33m\"\u001b[39;49;00m\u001b[33m3\u001b[39;49;00m\u001b[33m\"\u001b[39;49;00m));\r\n",
      "    ASSERT(evaluate(a2, make_word(ctx, \u001b[33m\"\u001b[39;49;00m\u001b[33mbb\u001b[39;49;00m\u001b[33m\"\u001b[39;49;00m)) == make_weight(ctx, \u001b[33m\"\u001b[39;49;00m\u001b[33m9\u001b[39;49;00m\u001b[33m\"\u001b[39;49;00m));\r\n",
      "\r\n",
      "    \u001b[37m// Self-conjunction, aka \"power 2\".\u001b[39;49;00m\r\n",
      "    \u001b[34mauto\u001b[39;49;00m a3 = a1 & a1;\r\n",
      "    ASSERT(evaluate(a3, make_word(ctx, \u001b[33m\"\u001b[39;49;00m\u001b[33ma\u001b[39;49;00m\u001b[33m\"\u001b[39;49;00m)) == make_weight(ctx, \u001b[33m\"\u001b[39;49;00m\u001b[33m1\u001b[39;49;00m\u001b[33m\"\u001b[39;49;00m));\r\n",
      "    ASSERT(evaluate(a3, make_word(ctx, \u001b[33m\"\u001b[39;49;00m\u001b[33mb\u001b[39;49;00m\u001b[33m\"\u001b[39;49;00m)) == make_weight(ctx, \u001b[33m\"\u001b[39;49;00m\u001b[33m9\u001b[39;49;00m\u001b[33m\"\u001b[39;49;00m));\r\n",
      "  }\r\n"
     ]
    }
   ],
   "source": [
    "!perl -ne '(/automata:/ ... /automata:/) && !/automata:/ && print' ../../tests/demo/operators.cc | pygmentize -l c++ "
   ]
  },
  {
   "cell_type": "markdown",
   "metadata": {},
   "source": [
    "##  Manipulating automata: `prod-eval`\n",
    "The following example shows how to use basic operations on automata to implement a simple processing: load two automata, compute their conjunction, and evaluate a word on it.  It is implemented twice: once in `dyn::` and then in the static library, `vcsn::`.\n",
    "\n",
    "The `dyn` version is straightforward, users do not have to have to track exact types of the automata, labels and weights."
   ]
  },
  {
   "cell_type": "code",
   "execution_count": 6,
   "metadata": {
    "scrolled": false
   },
   "outputs": [
    {
     "name": "stdout",
     "output_type": "stream",
     "text": [
      "\u001b[37m/// Dyn implementation of the prod_eval.\u001b[39;49;00m\r\n",
      "\u001b[37m///\u001b[39;49;00m\r\n",
      "\u001b[37m/// Read two automata and a word. Compute the product of these automata and\u001b[39;49;00m\r\n",
      "\u001b[37m/// evaluate the word on it. The context does not have to be specified as\u001b[39;49;00m\r\n",
      "\u001b[37m/// the context of the parameters is computed dynamically.\u001b[39;49;00m\r\n",
      "\u001b[37m///\u001b[39;49;00m\r\n",
      "\u001b[37m/// \\param lhs  name of a file containing the first automaton\u001b[39;49;00m\r\n",
      "\u001b[37m/// \\param rhs  name of a file containing the second automaton\u001b[39;49;00m\r\n",
      "\u001b[37m/// \\param word the word to evaluate\u001b[39;49;00m\r\n",
      "\u001b[34mstatic\u001b[39;49;00m \u001b[36mvoid\u001b[39;49;00m\r\n",
      "\u001b[32mdyn_prod_eval\u001b[39;49;00m(\u001b[34mconst\u001b[39;49;00m std::string& lhs, \u001b[34mconst\u001b[39;49;00m std::string& rhs,\r\n",
      "              \u001b[34mconst\u001b[39;49;00m std::string& word)\r\n",
      "{\r\n",
      "  \u001b[34musing\u001b[39;49;00m \u001b[34mnamespace\u001b[39;49;00m vcsn::dyn;\r\n",
      "  \u001b[37m// Left and right automata.  A simple type, not parameterized.\u001b[39;49;00m\r\n",
      "  automaton l = read_automaton(lhs);\r\n",
      "  automaton r = read_automaton(rhs);\r\n",
      "  \u001b[37m// The synchronized product.\u001b[39;49;00m\r\n",
      "  automaton prod = conjunction(l, r);\r\n",
      "  \u001b[37m// The word to evaluate in prod.\u001b[39;49;00m\r\n",
      "  label input = read_word(context_of(prod), word);\r\n",
      "  \u001b[37m// The result weight from the evaluation.\u001b[39;49;00m\r\n",
      "  weight w = evaluate(prod, input);\r\n",
      "  \u001b[37m// Display of the result, no need to use the weightset.\u001b[39;49;00m\r\n",
      "  std::cout << w;\r\n",
      "}\r\n"
     ]
    }
   ],
   "source": [
    "!perl -ne '(/dyn: begin/ ... /dyn: end/) && !/dyn:/ && print' ../../tests/demo/prod-eval.cc | pygmentize -l c++ "
   ]
  },
  {
   "cell_type": "markdown",
   "metadata": {},
   "source": [
    "The static implementation is templated by a [context](Contexts.ipynb), i.e., a specific type of labelset and weightset."
   ]
  },
  {
   "cell_type": "code",
   "execution_count": 7,
   "metadata": {
    "scrolled": false
   },
   "outputs": [
    {
     "name": "stdout",
     "output_type": "stream",
     "text": [
      "\u001b[37m/// Static implementation of the prod_eval.\u001b[39;49;00m\r\n",
      "\u001b[37m///\u001b[39;49;00m\r\n",
      "\u001b[37m/// Read two automata and a word. Compute the product of these\u001b[39;49;00m\r\n",
      "\u001b[37m/// automata and evaluate the word on it.\u001b[39;49;00m\r\n",
      "\u001b[37m///\u001b[39;49;00m\r\n",
      "\u001b[37m/// \\tparam Ctx the specified context of the automata and the\u001b[39;49;00m\r\n",
      "\u001b[37m///    word. Each of them have to be from these context or the program\u001b[39;49;00m\r\n",
      "\u001b[37m///    will fail.\u001b[39;49;00m\r\n",
      "\u001b[37m///\u001b[39;49;00m\r\n",
      "\u001b[37m/// \\param lhs  name of a file containing the first automaton\u001b[39;49;00m\r\n",
      "\u001b[37m/// \\param rhs  name of a file containing the second automaton\u001b[39;49;00m\r\n",
      "\u001b[37m/// \\param word the word to evaluate\u001b[39;49;00m\r\n",
      "\u001b[34mtemplate\u001b[39;49;00m <\u001b[34mtypename\u001b[39;49;00m Ctx>\r\n",
      "\u001b[36mvoid\u001b[39;49;00m\r\n",
      "sta_prod_eval(\u001b[34mconst\u001b[39;49;00m std::string& lhs, \u001b[34mconst\u001b[39;49;00m std::string& rhs,\r\n",
      "              \u001b[34mconst\u001b[39;49;00m std::string& word)\r\n",
      "{\r\n",
      "  \u001b[34musing\u001b[39;49;00m \u001b[34mnamespace\u001b[39;49;00m vcsn;\r\n",
      "  \u001b[37m// The automata's exact type.\u001b[39;49;00m\r\n",
      "  \u001b[34musing\u001b[39;49;00m automaton_t = mutable_automaton<Ctx>;\r\n",
      "  \u001b[37m// Left and right automata.\u001b[39;49;00m\r\n",
      "  automaton_t l = read_automaton<automaton_t>(lhs);\r\n",
      "  automaton_t r = read_automaton<automaton_t>(rhs);\r\n",
      "  \u001b[37m// The synchronized product.  Stripped to retrieve the same type of\u001b[39;49;00m\r\n",
      "  \u001b[37m// automata as l and r.\u001b[39;49;00m\r\n",
      "  automaton_t prod = conjunction<automaton_t, automaton_t>(l, r)->strip();\r\n",
      "  \u001b[37m// The word to evaluate in prod.\u001b[39;49;00m\r\n",
      "  word_t_of<Ctx> input = read_word<Ctx>(prod->context(), word);\r\n",
      "  \u001b[37m// The result weight from the evaluation.\u001b[39;49;00m\r\n",
      "  weight_t_of<Ctx> w = evaluate<automaton_t>(prod, input);\r\n",
      "  \u001b[37m// Display of the result, we need to use the automaton's weightset to be able\u001b[39;49;00m\r\n",
      "  \u001b[37m// to print the weight as the print function cannot be generic in static.\u001b[39;49;00m\r\n",
      "  prod->context().weightset()->print(w, std::cout);\r\n",
      "}\r\n"
     ]
    }
   ],
   "source": [
    "!perl -ne '(/static: begin/ ... /static: end/) && !/static:/ && print' ../../tests/demo/prod-eval.cc | pygmentize -l c++ "
   ]
  },
  {
   "cell_type": "markdown",
   "metadata": {},
   "source": [
    "Compile the prod-eval program using `vcsn compile`.  To know exactly what is going on, pass the option `-v`/`--verbose`."
   ]
  },
  {
   "cell_type": "code",
   "execution_count": 8,
   "metadata": {},
   "outputs": [],
   "source": [
    "!vcsn compile -q ../../tests/demo/prod-eval.cc"
   ]
  },
  {
   "cell_type": "markdown",
   "metadata": {},
   "source": [
    "Now we generate two input automata for the prod-eval program.  Here, we generate them via the command line tool `vcsn` (see [Executables](Executables.ipynb)), with the command `standard`, which corresponds to [`expression.standard`](expression.standard.ipynb)."
   ]
  },
  {
   "cell_type": "code",
   "execution_count": 9,
   "metadata": {},
   "outputs": [],
   "source": [
    "!vcsn standard -C 'lal_char(01), z' -Ee '(0+1)*1(<2>0+<2>1)*' -o bin.gv\n",
    "!vcsn standard -C 'lal_char(01), z' -Ee '(0+1)*0'             -o even.gv"
   ]
  },
  {
   "cell_type": "markdown",
   "metadata": {},
   "source": [
    "The following automaton, `bin`, decodes binary into decimal values."
   ]
  },
  {
   "cell_type": "code",
   "execution_count": 10,
   "metadata": {},
   "outputs": [
    {
     "data": {
      "image/svg+xml": [
       "<?xml version=\"1.0\" encoding=\"UTF-8\" standalone=\"no\"?>\n",
       "<!DOCTYPE svg PUBLIC \"-//W3C//DTD SVG 1.1//EN\"\n",
       " \"http://www.w3.org/Graphics/SVG/1.1/DTD/svg11.dtd\">\n",
       "<!-- Generated by graphviz version 2.40.1 (20161225.0304)\n",
       " -->\n",
       "<!-- Title: %3 Pages: 1 -->\n",
       "<svg width=\"492pt\" height=\"143pt\"\n",
       " viewBox=\"0.00 0.00 492.00 143.50\" xmlns=\"http://www.w3.org/2000/svg\" xmlns:xlink=\"http://www.w3.org/1999/xlink\">\n",
       "<g id=\"graph0\" class=\"graph\" transform=\"scale(1 1) rotate(0) translate(4 139.4979)\">\n",
       "<title>%3</title>\n",
       "<polygon fill=\"#ffffff\" stroke=\"transparent\" points=\"-4,4 -4,-139.4979 488,-139.4979 488,4 -4,4\"/>\n",
       "<!-- I0 -->\n",
       "<g id=\"node1\" class=\"node\">\n",
       "<title>I0</title>\n",
       "<ellipse fill=\"#000000\" stroke=\"#000000\" cx=\"0\" cy=\"-28.9979\" rx=\"0\" ry=\"0\"/>\n",
       "</g>\n",
       "<!-- 0 -->\n",
       "<g id=\"node5\" class=\"node\">\n",
       "<title>0</title>\n",
       "<ellipse fill=\"#98f5ff\" stroke=\"#000000\" cx=\"51.5\" cy=\"-28.9979\" rx=\"14.5\" ry=\"14.5\"/>\n",
       "<text text-anchor=\"middle\" x=\"51.5\" y=\"-25.8979\" font-family=\"Times,serif\" font-size=\"12.00\" fill=\"#000000\">0</text>\n",
       "</g>\n",
       "<!-- I0&#45;&gt;0 -->\n",
       "<g id=\"edge1\" class=\"edge\">\n",
       "<title>I0&#45;&gt;0</title>\n",
       "<path fill=\"none\" stroke=\"#000000\" d=\"M.1477,-28.9979C1.8156,-28.9979 17.298,-28.9979 30.83,-28.9979\"/>\n",
       "<polygon fill=\"#000000\" stroke=\"#000000\" points=\"36.854,-28.9979 30.854,-31.698 33.854,-28.9979 30.854,-28.998 30.854,-28.998 30.854,-28.998 33.854,-28.9979 30.854,-26.298 36.854,-28.9979 36.854,-28.9979\"/>\n",
       "</g>\n",
       "<!-- F3 -->\n",
       "<g id=\"node2\" class=\"node\">\n",
       "<title>F3</title>\n",
       "<ellipse fill=\"#000000\" stroke=\"#000000\" cx=\"348.5\" cy=\"-111.9979\" rx=\"0\" ry=\"0\"/>\n",
       "</g>\n",
       "<!-- F4 -->\n",
       "<g id=\"node3\" class=\"node\">\n",
       "<title>F4</title>\n",
       "<ellipse fill=\"#000000\" stroke=\"#000000\" cx=\"432.5\" cy=\"-87.9979\" rx=\"0\" ry=\"0\"/>\n",
       "</g>\n",
       "<!-- F5 -->\n",
       "<g id=\"node4\" class=\"node\">\n",
       "<title>F5</title>\n",
       "<ellipse fill=\"#000000\" stroke=\"#000000\" cx=\"484\" cy=\"-19.9979\" rx=\"0\" ry=\"0\"/>\n",
       "</g>\n",
       "<!-- 1 -->\n",
       "<g id=\"node6\" class=\"node\">\n",
       "<title>1</title>\n",
       "<ellipse fill=\"#98f5ff\" stroke=\"#000000\" cx=\"122.5\" cy=\"-87.9979\" rx=\"14.5\" ry=\"14.5\"/>\n",
       "<text text-anchor=\"middle\" x=\"122.5\" y=\"-84.8979\" font-family=\"Times,serif\" font-size=\"12.00\" fill=\"#000000\">1</text>\n",
       "</g>\n",
       "<!-- 0&#45;&gt;1 -->\n",
       "<g id=\"edge2\" class=\"edge\">\n",
       "<title>0&#45;&gt;1</title>\n",
       "<path fill=\"none\" stroke=\"#000000\" d=\"M62.907,-38.4769C74.638,-48.2249 93.013,-63.4949 106.26,-74.5019\"/>\n",
       "<polygon fill=\"#000000\" stroke=\"#000000\" points=\"110.89,-78.3459 104.5489,-76.5906 108.5818,-76.4295 106.2736,-74.5132 106.2736,-74.5132 106.2736,-74.5132 108.5818,-76.4295 107.9983,-72.4358 110.89,-78.3459 110.89,-78.3459\"/>\n",
       "<text text-anchor=\"middle\" x=\"87\" y=\"-63.7979\" font-family=\"Times,serif\" font-size=\"14.00\" fill=\"#000000\">0</text>\n",
       "</g>\n",
       "<!-- 2 -->\n",
       "<g id=\"node7\" class=\"node\">\n",
       "<title>2</title>\n",
       "<ellipse fill=\"#98f5ff\" stroke=\"#000000\" cx=\"193.5\" cy=\"-45.9979\" rx=\"14.5\" ry=\"14.5\"/>\n",
       "<text text-anchor=\"middle\" x=\"193.5\" y=\"-42.8979\" font-family=\"Times,serif\" font-size=\"12.00\" fill=\"#000000\">2</text>\n",
       "</g>\n",
       "<!-- 0&#45;&gt;2 -->\n",
       "<g id=\"edge3\" class=\"edge\">\n",
       "<title>0&#45;&gt;2</title>\n",
       "<path fill=\"none\" stroke=\"#000000\" d=\"M66.162,-30.7529C91.459,-33.7809 143.39,-39.9979 172.51,-43.4849\"/>\n",
       "<polygon fill=\"#000000\" stroke=\"#000000\" points=\"178.71,-44.2259 172.4319,-46.1947 175.7312,-43.8698 172.7524,-43.5138 172.7524,-43.5138 172.7524,-43.5138 175.7312,-43.8698 173.0728,-40.8329 178.71,-44.2259 178.71,-44.2259\"/>\n",
       "<text text-anchor=\"middle\" x=\"122.5\" y=\"-42.7979\" font-family=\"Times,serif\" font-size=\"14.00\" fill=\"#000000\">1</text>\n",
       "</g>\n",
       "<!-- 3 -->\n",
       "<g id=\"node8\" class=\"node\">\n",
       "<title>3</title>\n",
       "<ellipse fill=\"#98f5ff\" stroke=\"#000000\" cx=\"264.5\" cy=\"-45.9979\" rx=\"14.5\" ry=\"14.5\"/>\n",
       "<text text-anchor=\"middle\" x=\"264.5\" y=\"-42.8979\" font-family=\"Times,serif\" font-size=\"12.00\" fill=\"#000000\">3</text>\n",
       "</g>\n",
       "<!-- 0&#45;&gt;3 -->\n",
       "<g id=\"edge4\" class=\"edge\">\n",
       "<title>0&#45;&gt;3</title>\n",
       "<path fill=\"none\" stroke=\"#000000\" d=\"M65.924,-26.0319C93.733,-20.8219 156.56,-11.5259 208,-21.9979 221.22,-24.6879 235.17,-30.5849 245.91,-35.8589\"/>\n",
       "<polygon fill=\"#000000\" stroke=\"#000000\" points=\"251.52,-38.7009 244.9474,-38.3979 248.8438,-37.3451 246.1676,-35.9894 246.1676,-35.9894 246.1676,-35.9894 248.8438,-37.3451 247.3878,-33.5808 251.52,-38.7009 251.52,-38.7009\"/>\n",
       "<text text-anchor=\"middle\" x=\"158\" y=\"-21.7979\" font-family=\"Times,serif\" font-size=\"14.00\" fill=\"#000000\">1</text>\n",
       "</g>\n",
       "<!-- 1&#45;&gt;1 -->\n",
       "<g id=\"edge5\" class=\"edge\">\n",
       "<title>1&#45;&gt;1</title>\n",
       "<path fill=\"none\" stroke=\"#000000\" d=\"M116.81,-101.3509C114.96,-110.9479 116.86,-120.4979 122.5,-120.4979 126.91,-120.4979 129.03,-114.6679 128.87,-107.5379\"/>\n",
       "<polygon fill=\"#000000\" stroke=\"#000000\" points=\"128.19,-101.3509 131.5294,-107.02 128.5178,-104.3329 128.8456,-107.315 128.8456,-107.315 128.8456,-107.315 128.5178,-104.3329 126.1617,-107.61 128.19,-101.3509 128.19,-101.3509\"/>\n",
       "<text text-anchor=\"middle\" x=\"122.5\" y=\"-124.2979\" font-family=\"Times,serif\" font-size=\"14.00\" fill=\"#000000\">0</text>\n",
       "</g>\n",
       "<!-- 1&#45;&gt;2 -->\n",
       "<g id=\"edge6\" class=\"edge\">\n",
       "<title>1&#45;&gt;2</title>\n",
       "<path fill=\"none\" stroke=\"#000000\" d=\"M133.75,-78.2629C139.8,-73.3169 147.53,-67.4309 155,-62.9979 160.84,-59.5289 167.52,-56.3369 173.66,-53.6779\"/>\n",
       "<polygon fill=\"#000000\" stroke=\"#000000\" points=\"179.56,-51.2069 175.0688,-56.0152 176.7929,-52.3658 174.0258,-53.5248 174.0258,-53.5248 174.0258,-53.5248 176.7929,-52.3658 172.9827,-51.0344 179.56,-51.2069 179.56,-51.2069\"/>\n",
       "<text text-anchor=\"middle\" x=\"158\" y=\"-66.7979\" font-family=\"Times,serif\" font-size=\"14.00\" fill=\"#000000\">1</text>\n",
       "</g>\n",
       "<!-- 1&#45;&gt;3 -->\n",
       "<g id=\"edge7\" class=\"edge\">\n",
       "<title>1&#45;&gt;3</title>\n",
       "<path fill=\"none\" stroke=\"#000000\" d=\"M135.45,-94.5999C152.64,-102.4089 183.66,-113.1479 208,-102.9979 227.07,-95.0469 243.01,-77.1769 253.04,-63.5499\"/>\n",
       "<polygon fill=\"#000000\" stroke=\"#000000\" points=\"256.72,-58.3809 255.4397,-64.8347 254.9801,-60.8248 253.2401,-63.2687 253.2401,-63.2687 253.2401,-63.2687 254.9801,-60.8248 251.0406,-61.7028 256.72,-58.3809 256.72,-58.3809\"/>\n",
       "<text text-anchor=\"middle\" x=\"193.5\" y=\"-110.7979\" font-family=\"Times,serif\" font-size=\"14.00\" fill=\"#000000\">1</text>\n",
       "</g>\n",
       "<!-- 2&#45;&gt;1 -->\n",
       "<g id=\"edge8\" class=\"edge\">\n",
       "<title>2&#45;&gt;1</title>\n",
       "<path fill=\"none\" stroke=\"#000000\" d=\"M184.41,-57.6189C178.45,-64.4949 170.09,-72.8409 161,-77.9979 155.5,-81.1149 149.02,-83.2809 142.95,-84.7779\"/>\n",
       "<polygon fill=\"#000000\" stroke=\"#000000\" points=\"137.08,-86.0619 142.3644,-82.1421 140.0107,-85.4208 142.9414,-84.7797 142.9414,-84.7797 142.9414,-84.7797 140.0107,-85.4208 143.5184,-87.4173 137.08,-86.0619 137.08,-86.0619\"/>\n",
       "<text text-anchor=\"middle\" x=\"158\" y=\"-83.7979\" font-family=\"Times,serif\" font-size=\"14.00\" fill=\"#000000\">0</text>\n",
       "</g>\n",
       "<!-- 2&#45;&gt;2 -->\n",
       "<g id=\"edge9\" class=\"edge\">\n",
       "<title>2&#45;&gt;2</title>\n",
       "<path fill=\"none\" stroke=\"#000000\" d=\"M187.81,-59.3509C185.96,-68.9429 187.86,-78.4979 193.5,-78.4979 197.91,-78.4979 200.03,-72.6659 199.87,-65.5409\"/>\n",
       "<polygon fill=\"#000000\" stroke=\"#000000\" points=\"199.19,-59.3509 202.5291,-65.0201 199.5176,-62.333 199.8453,-65.315 199.8453,-65.315 199.8453,-65.315 199.5176,-62.333 197.1614,-65.6099 199.19,-59.3509 199.19,-59.3509\"/>\n",
       "<text text-anchor=\"middle\" x=\"193.5\" y=\"-82.2979\" font-family=\"Times,serif\" font-size=\"14.00\" fill=\"#000000\">1</text>\n",
       "</g>\n",
       "<!-- 2&#45;&gt;3 -->\n",
       "<g id=\"edge10\" class=\"edge\">\n",
       "<title>2&#45;&gt;3</title>\n",
       "<path fill=\"none\" stroke=\"#000000\" d=\"M208.21,-45.9979C218.49,-45.9979 232.37,-45.9979 243.77,-45.9979\"/>\n",
       "<polygon fill=\"#000000\" stroke=\"#000000\" points=\"249.81,-45.9979 243.81,-48.698 246.81,-45.9979 243.81,-45.998 243.81,-45.998 243.81,-45.998 246.81,-45.9979 243.81,-43.298 249.81,-45.9979 249.81,-45.9979\"/>\n",
       "<text text-anchor=\"middle\" x=\"229\" y=\"-49.7979\" font-family=\"Times,serif\" font-size=\"14.00\" fill=\"#000000\">1</text>\n",
       "</g>\n",
       "<!-- 3&#45;&gt;F3 -->\n",
       "<g id=\"edge11\" class=\"edge\">\n",
       "<title>3&#45;&gt;F3</title>\n",
       "<path fill=\"none\" stroke=\"#000000\" d=\"M276.1798,-55.1749C294.6964,-69.7236 330.0485,-97.5003 343.3063,-107.9172\"/>\n",
       "<polygon fill=\"#000000\" stroke=\"#000000\" points=\"348.358,-111.8864 341.972,-110.3025 345.9991,-110.0329 343.6401,-108.1794 343.6401,-108.1794 343.6401,-108.1794 345.9991,-110.0329 345.3082,-106.0563 348.358,-111.8864 348.358,-111.8864\"/>\n",
       "</g>\n",
       "<!-- 4 -->\n",
       "<g id=\"node9\" class=\"node\">\n",
       "<title>4</title>\n",
       "<ellipse fill=\"#98f5ff\" stroke=\"#000000\" cx=\"348.5\" cy=\"-45.9979\" rx=\"14.5\" ry=\"14.5\"/>\n",
       "<text text-anchor=\"middle\" x=\"348.5\" y=\"-42.8979\" font-family=\"Times,serif\" font-size=\"12.00\" fill=\"#000000\">4</text>\n",
       "</g>\n",
       "<!-- 3&#45;&gt;4 -->\n",
       "<g id=\"edge12\" class=\"edge\">\n",
       "<title>3&#45;&gt;4</title>\n",
       "<path fill=\"none\" stroke=\"#000000\" d=\"M279.13,-45.9979C292.54,-45.9979 312.54,-45.9979 327.62,-45.9979\"/>\n",
       "<polygon fill=\"#000000\" stroke=\"#000000\" points=\"333.75,-45.9979 327.75,-48.698 330.75,-45.9979 327.75,-45.998 327.75,-45.998 327.75,-45.998 330.75,-45.9979 327.75,-43.298 333.75,-45.9979 333.75,-45.9979\"/>\n",
       "<text text-anchor=\"middle\" x=\"306.5\" y=\"-49.7979\" font-family=\"Times,serif\" font-size=\"14.00\" fill=\"#000000\">⟨2⟩0</text>\n",
       "</g>\n",
       "<!-- 5 -->\n",
       "<g id=\"node10\" class=\"node\">\n",
       "<title>5</title>\n",
       "<ellipse fill=\"#98f5ff\" stroke=\"#000000\" cx=\"432.5\" cy=\"-19.9979\" rx=\"14.5\" ry=\"14.5\"/>\n",
       "<text text-anchor=\"middle\" x=\"432.5\" y=\"-16.8979\" font-family=\"Times,serif\" font-size=\"12.00\" fill=\"#000000\">5</text>\n",
       "</g>\n",
       "<!-- 3&#45;&gt;5 -->\n",
       "<g id=\"edge13\" class=\"edge\">\n",
       "<title>3&#45;&gt;5</title>\n",
       "<path fill=\"none\" stroke=\"#000000\" d=\"M275.99,-37.0799C289.15,-27.4799 311.78,-12.8061 334,-6.9975 360.77,0 392.66,-6.8755 412.75,-12.9861\"/>\n",
       "<polygon fill=\"#000000\" stroke=\"#000000\" points=\"418.59,-14.8419 412.054,-15.5979 415.7309,-13.9333 412.8718,-13.0247 412.8718,-13.0247 412.8718,-13.0247 415.7309,-13.9333 413.6895,-10.4515 418.59,-14.8419 418.59,-14.8419\"/>\n",
       "<text text-anchor=\"middle\" x=\"348.5\" y=\"-10.7979\" font-family=\"Times,serif\" font-size=\"14.00\" fill=\"#000000\">⟨2⟩1</text>\n",
       "</g>\n",
       "<!-- 4&#45;&gt;F4 -->\n",
       "<g id=\"edge14\" class=\"edge\">\n",
       "<title>4&#45;&gt;F4</title>\n",
       "<path fill=\"none\" stroke=\"#000000\" d=\"M361.625,-52.5604C380.2205,-61.8581 413.4526,-78.4742 426.7594,-85.1276\"/>\n",
       "<polygon fill=\"#000000\" stroke=\"#000000\" points=\"432.3637,-87.9298 425.7897,-87.6614 429.6804,-86.5881 426.9972,-85.2464 426.9972,-85.2464 426.9972,-85.2464 429.6804,-86.5881 428.2047,-82.8315 432.3637,-87.9298 432.3637,-87.9298\"/>\n",
       "</g>\n",
       "<!-- 4&#45;&gt;4 -->\n",
       "<g id=\"edge15\" class=\"edge\">\n",
       "<title>4&#45;&gt;4</title>\n",
       "<path fill=\"none\" stroke=\"#000000\" d=\"M341.56,-59.0129C339.13,-68.7169 341.45,-78.4979 348.5,-78.4979 354.01,-78.4979 356.63,-72.5279 356.36,-65.2889\"/>\n",
       "<polygon fill=\"#000000\" stroke=\"#000000\" points=\"355.44,-59.0129 358.9818,-64.5578 355.8752,-61.9812 356.3103,-64.9495 356.3103,-64.9495 356.3103,-64.9495 355.8752,-61.9812 353.6389,-65.3411 355.44,-59.0129 355.44,-59.0129\"/>\n",
       "<text text-anchor=\"middle\" x=\"348.5\" y=\"-82.2979\" font-family=\"Times,serif\" font-size=\"14.00\" fill=\"#000000\">⟨2⟩0</text>\n",
       "</g>\n",
       "<!-- 4&#45;&gt;5 -->\n",
       "<g id=\"edge16\" class=\"edge\">\n",
       "<title>4&#45;&gt;5</title>\n",
       "<path fill=\"none\" stroke=\"#000000\" d=\"M358.58,-35.5029C364.53,-30.0709 372.54,-23.9679 381,-20.9979 390.83,-17.5479 402.38,-17.0299 412.04,-17.4909\"/>\n",
       "<polygon fill=\"#000000\" stroke=\"#000000\" points=\"418.09,-17.9139 411.9163,-20.1888 415.0973,-17.7046 412.1046,-17.4953 412.1046,-17.4953 412.1046,-17.4953 415.0973,-17.7046 412.293,-14.8019 418.09,-17.9139 418.09,-17.9139\"/>\n",
       "<text text-anchor=\"middle\" x=\"390.5\" y=\"-24.7979\" font-family=\"Times,serif\" font-size=\"14.00\" fill=\"#000000\">⟨2⟩1</text>\n",
       "</g>\n",
       "<!-- 5&#45;&gt;F5 -->\n",
       "<g id=\"edge17\" class=\"edge\">\n",
       "<title>5&#45;&gt;F5</title>\n",
       "<path fill=\"none\" stroke=\"#000000\" d=\"M447.1201,-19.9979C457.2606,-19.9979 470.2527,-19.9979 477.7999,-19.9979\"/>\n",
       "<polygon fill=\"#000000\" stroke=\"#000000\" points=\"483.9374,-19.9979 477.9375,-22.698 480.9374,-19.9979 477.9374,-19.998 477.9374,-19.998 477.9374,-19.998 480.9374,-19.9979 477.9374,-17.298 483.9374,-19.9979 483.9374,-19.9979\"/>\n",
       "</g>\n",
       "<!-- 5&#45;&gt;4 -->\n",
       "<g id=\"edge18\" class=\"edge\">\n",
       "<title>5&#45;&gt;4</title>\n",
       "<path fill=\"none\" stroke=\"#000000\" d=\"M419.87,-27.1939C413.98,-30.2879 406.8,-33.7109 400,-35.9979 390.09,-39.3339 378.7,-41.6889 369.16,-43.2719\"/>\n",
       "<polygon fill=\"#000000\" stroke=\"#000000\" points=\"363.2,-44.2039 368.7108,-40.6092 366.164,-43.7404 369.128,-43.2768 369.128,-43.2768 369.128,-43.2768 366.164,-43.7404 369.5451,-45.9444 363.2,-44.2039 363.2,-44.2039\"/>\n",
       "<text text-anchor=\"middle\" x=\"390.5\" y=\"-43.7979\" font-family=\"Times,serif\" font-size=\"14.00\" fill=\"#000000\">⟨2⟩0</text>\n",
       "</g>\n",
       "<!-- 5&#45;&gt;5 -->\n",
       "<g id=\"edge19\" class=\"edge\">\n",
       "<title>5&#45;&gt;5</title>\n",
       "<path fill=\"none\" stroke=\"#000000\" d=\"M427.09,-33.6899C425.45,-43.1669 427.25,-52.4979 432.5,-52.4979 436.6,-52.4979 438.6,-46.8019 438.5,-39.7919\"/>\n",
       "<polygon fill=\"#000000\" stroke=\"#000000\" points=\"437.91,-33.6899 441.175,-39.4022 438.1988,-36.676 438.4875,-39.662 438.4875,-39.662 438.4875,-39.662 438.1988,-36.676 435.8001,-39.9219 437.91,-33.6899 437.91,-33.6899\"/>\n",
       "<text text-anchor=\"middle\" x=\"432.5\" y=\"-56.2979\" font-family=\"Times,serif\" font-size=\"14.00\" fill=\"#000000\">⟨2⟩1</text>\n",
       "</g>\n",
       "</g>\n",
       "</svg>\n"
      ],
      "text/plain": [
       "mutable_automaton<context<letterset<char_letters>, z>>"
      ]
     },
     "execution_count": 10,
     "metadata": {},
     "output_type": "execute_result"
    }
   ],
   "source": [
    "bin = vcsn.automaton(filename='bin.gv')\n",
    "bin"
   ]
  },
  {
   "cell_type": "markdown",
   "metadata": {},
   "source": [
    "This automaton, `even`, only accepts even numbers."
   ]
  },
  {
   "cell_type": "code",
   "execution_count": 11,
   "metadata": {},
   "outputs": [
    {
     "data": {
      "image/svg+xml": [
       "<?xml version=\"1.0\" encoding=\"UTF-8\" standalone=\"no\"?>\n",
       "<!DOCTYPE svg PUBLIC \"-//W3C//DTD SVG 1.1//EN\"\n",
       " \"http://www.w3.org/Graphics/SVG/1.1/DTD/svg11.dtd\">\n",
       "<!-- Generated by graphviz version 2.40.1 (20161225.0304)\n",
       " -->\n",
       "<!-- Title: %3 Pages: 1 -->\n",
       "<svg width=\"324pt\" height=\"132pt\"\n",
       " viewBox=\"0.00 0.00 324.00 131.97\" xmlns=\"http://www.w3.org/2000/svg\" xmlns:xlink=\"http://www.w3.org/1999/xlink\">\n",
       "<g id=\"graph0\" class=\"graph\" transform=\"scale(1 1) rotate(0) translate(4 127.9716)\">\n",
       "<title>%3</title>\n",
       "<polygon fill=\"#ffffff\" stroke=\"transparent\" points=\"-4,4 -4,-127.9716 320,-127.9716 320,4 -4,4\"/>\n",
       "<!-- I0 -->\n",
       "<g id=\"node1\" class=\"node\">\n",
       "<title>I0</title>\n",
       "<ellipse fill=\"#000000\" stroke=\"#000000\" cx=\"0\" cy=\"-17.4716\" rx=\"0\" ry=\"0\"/>\n",
       "</g>\n",
       "<!-- 0 -->\n",
       "<g id=\"node3\" class=\"node\">\n",
       "<title>0</title>\n",
       "<ellipse fill=\"#98f5ff\" stroke=\"#000000\" cx=\"51.5\" cy=\"-17.4716\" rx=\"14.5\" ry=\"14.5\"/>\n",
       "<text text-anchor=\"middle\" x=\"51.5\" y=\"-14.3716\" font-family=\"Times,serif\" font-size=\"12.00\" fill=\"#000000\">0</text>\n",
       "</g>\n",
       "<!-- I0&#45;&gt;0 -->\n",
       "<g id=\"edge1\" class=\"edge\">\n",
       "<title>I0&#45;&gt;0</title>\n",
       "<path fill=\"none\" stroke=\"#000000\" d=\"M.1477,-17.4716C1.8156,-17.4716 17.298,-17.4716 30.83,-17.4716\"/>\n",
       "<polygon fill=\"#000000\" stroke=\"#000000\" points=\"36.854,-17.4716 30.854,-20.1717 33.854,-17.4716 30.854,-17.4717 30.854,-17.4717 30.854,-17.4717 33.854,-17.4716 30.854,-14.7717 36.854,-17.4716 36.854,-17.4716\"/>\n",
       "</g>\n",
       "<!-- F3 -->\n",
       "<g id=\"node2\" class=\"node\">\n",
       "<title>F3</title>\n",
       "<ellipse fill=\"#000000\" stroke=\"#000000\" cx=\"316\" cy=\"-34.4716\" rx=\"0\" ry=\"0\"/>\n",
       "</g>\n",
       "<!-- 1 -->\n",
       "<g id=\"node4\" class=\"node\">\n",
       "<title>1</title>\n",
       "<ellipse fill=\"#98f5ff\" stroke=\"#000000\" cx=\"122.5\" cy=\"-76.4716\" rx=\"14.5\" ry=\"14.5\"/>\n",
       "<text text-anchor=\"middle\" x=\"122.5\" y=\"-73.3716\" font-family=\"Times,serif\" font-size=\"12.00\" fill=\"#000000\">1</text>\n",
       "</g>\n",
       "<!-- 0&#45;&gt;1 -->\n",
       "<g id=\"edge2\" class=\"edge\">\n",
       "<title>0&#45;&gt;1</title>\n",
       "<path fill=\"none\" stroke=\"#000000\" d=\"M62.907,-26.9506C74.638,-36.6986 93.013,-51.9686 106.26,-62.9756\"/>\n",
       "<polygon fill=\"#000000\" stroke=\"#000000\" points=\"110.89,-66.8196 104.5489,-65.0643 108.5818,-64.9032 106.2736,-62.9869 106.2736,-62.9869 106.2736,-62.9869 108.5818,-64.9032 107.9983,-60.9095 110.89,-66.8196 110.89,-66.8196\"/>\n",
       "<text text-anchor=\"middle\" x=\"87\" y=\"-52.2716\" font-family=\"Times,serif\" font-size=\"14.00\" fill=\"#000000\">0</text>\n",
       "</g>\n",
       "<!-- 2 -->\n",
       "<g id=\"node5\" class=\"node\">\n",
       "<title>2</title>\n",
       "<ellipse fill=\"#98f5ff\" stroke=\"#000000\" cx=\"193.5\" cy=\"-34.4716\" rx=\"14.5\" ry=\"14.5\"/>\n",
       "<text text-anchor=\"middle\" x=\"193.5\" y=\"-31.3716\" font-family=\"Times,serif\" font-size=\"12.00\" fill=\"#000000\">2</text>\n",
       "</g>\n",
       "<!-- 0&#45;&gt;2 -->\n",
       "<g id=\"edge3\" class=\"edge\">\n",
       "<title>0&#45;&gt;2</title>\n",
       "<path fill=\"none\" stroke=\"#000000\" d=\"M66.162,-19.2266C91.459,-22.2556 143.39,-28.4726 172.51,-31.9586\"/>\n",
       "<polygon fill=\"#000000\" stroke=\"#000000\" points=\"178.71,-32.7006 172.4316,-34.6684 175.7313,-32.3441 172.7525,-31.9875 172.7525,-31.9875 172.7525,-31.9875 175.7313,-32.3441 173.0734,-29.3067 178.71,-32.7006 178.71,-32.7006\"/>\n",
       "<text text-anchor=\"middle\" x=\"122.5\" y=\"-31.2716\" font-family=\"Times,serif\" font-size=\"14.00\" fill=\"#000000\">1</text>\n",
       "</g>\n",
       "<!-- 3 -->\n",
       "<g id=\"node6\" class=\"node\">\n",
       "<title>3</title>\n",
       "<ellipse fill=\"#98f5ff\" stroke=\"#000000\" cx=\"264.5\" cy=\"-34.4716\" rx=\"14.5\" ry=\"14.5\"/>\n",
       "<text text-anchor=\"middle\" x=\"264.5\" y=\"-31.3716\" font-family=\"Times,serif\" font-size=\"12.00\" fill=\"#000000\">3</text>\n",
       "</g>\n",
       "<!-- 0&#45;&gt;3 -->\n",
       "<g id=\"edge4\" class=\"edge\">\n",
       "<title>0&#45;&gt;3</title>\n",
       "<path fill=\"none\" stroke=\"#000000\" d=\"M65.924,-14.5056C93.733,-9.2962 156.56,0 208,-10.4716 221.22,-13.1626 235.17,-19.0586 245.91,-24.3336\"/>\n",
       "<polygon fill=\"#000000\" stroke=\"#000000\" points=\"251.52,-27.1756 244.9474,-26.8726 248.8438,-25.8198 246.1676,-24.4641 246.1676,-24.4641 246.1676,-24.4641 248.8438,-25.8198 247.3878,-22.0555 251.52,-27.1756 251.52,-27.1756\"/>\n",
       "<text text-anchor=\"middle\" x=\"158\" y=\"-10.2716\" font-family=\"Times,serif\" font-size=\"14.00\" fill=\"#000000\">0</text>\n",
       "</g>\n",
       "<!-- 1&#45;&gt;1 -->\n",
       "<g id=\"edge5\" class=\"edge\">\n",
       "<title>1&#45;&gt;1</title>\n",
       "<path fill=\"none\" stroke=\"#000000\" d=\"M116.81,-89.8256C114.96,-99.4166 116.86,-108.9716 122.5,-108.9716 126.91,-108.9716 129.03,-103.1416 128.87,-96.0146\"/>\n",
       "<polygon fill=\"#000000\" stroke=\"#000000\" points=\"128.19,-89.8256 131.5292,-95.4948 128.5177,-92.8077 128.8454,-95.7897 128.8454,-95.7897 128.8454,-95.7897 128.5177,-92.8077 126.1615,-96.0846 128.19,-89.8256 128.19,-89.8256\"/>\n",
       "<text text-anchor=\"middle\" x=\"122.5\" y=\"-112.7716\" font-family=\"Times,serif\" font-size=\"14.00\" fill=\"#000000\">0</text>\n",
       "</g>\n",
       "<!-- 1&#45;&gt;2 -->\n",
       "<g id=\"edge6\" class=\"edge\">\n",
       "<title>1&#45;&gt;2</title>\n",
       "<path fill=\"none\" stroke=\"#000000\" d=\"M133.75,-66.7376C139.8,-61.7906 147.53,-55.9046 155,-51.4716 160.84,-48.0026 167.52,-44.8106 173.66,-42.1516\"/>\n",
       "<polygon fill=\"#000000\" stroke=\"#000000\" points=\"179.56,-39.6806 175.0688,-44.4889 176.7929,-40.8395 174.0258,-41.9985 174.0258,-41.9985 174.0258,-41.9985 176.7929,-40.8395 172.9827,-39.5081 179.56,-39.6806 179.56,-39.6806\"/>\n",
       "<text text-anchor=\"middle\" x=\"158\" y=\"-55.2716\" font-family=\"Times,serif\" font-size=\"14.00\" fill=\"#000000\">1</text>\n",
       "</g>\n",
       "<!-- 1&#45;&gt;3 -->\n",
       "<g id=\"edge7\" class=\"edge\">\n",
       "<title>1&#45;&gt;3</title>\n",
       "<path fill=\"none\" stroke=\"#000000\" d=\"M135.45,-83.0736C152.64,-90.8826 183.66,-101.6176 208,-91.4716 227.07,-83.5216 243.01,-65.6516 253.04,-52.0236\"/>\n",
       "<polygon fill=\"#000000\" stroke=\"#000000\" points=\"256.72,-46.8546 255.4397,-53.3084 254.9801,-49.2985 253.2401,-51.7424 253.2401,-51.7424 253.2401,-51.7424 254.9801,-49.2985 251.0406,-50.1765 256.72,-46.8546 256.72,-46.8546\"/>\n",
       "<text text-anchor=\"middle\" x=\"193.5\" y=\"-99.2716\" font-family=\"Times,serif\" font-size=\"14.00\" fill=\"#000000\">0</text>\n",
       "</g>\n",
       "<!-- 2&#45;&gt;1 -->\n",
       "<g id=\"edge8\" class=\"edge\">\n",
       "<title>2&#45;&gt;1</title>\n",
       "<path fill=\"none\" stroke=\"#000000\" d=\"M184.41,-46.0926C178.45,-52.9686 170.09,-61.3156 161,-66.4716 155.5,-69.5886 149.02,-71.7546 142.95,-73.2526\"/>\n",
       "<polygon fill=\"#000000\" stroke=\"#000000\" points=\"137.08,-74.5366 142.3644,-70.6168 140.0107,-73.8955 142.9414,-73.2544 142.9414,-73.2544 142.9414,-73.2544 140.0107,-73.8955 143.5184,-75.892 137.08,-74.5366 137.08,-74.5366\"/>\n",
       "<text text-anchor=\"middle\" x=\"158\" y=\"-72.2716\" font-family=\"Times,serif\" font-size=\"14.00\" fill=\"#000000\">0</text>\n",
       "</g>\n",
       "<!-- 2&#45;&gt;2 -->\n",
       "<g id=\"edge9\" class=\"edge\">\n",
       "<title>2&#45;&gt;2</title>\n",
       "<path fill=\"none\" stroke=\"#000000\" d=\"M187.81,-47.8256C185.96,-57.4166 187.86,-66.9716 193.5,-66.9716 197.91,-66.9716 200.03,-61.1396 199.87,-54.0146\"/>\n",
       "<polygon fill=\"#000000\" stroke=\"#000000\" points=\"199.19,-47.8256 202.5292,-53.4948 199.5177,-50.8077 199.8454,-53.7897 199.8454,-53.7897 199.8454,-53.7897 199.5177,-50.8077 197.1615,-54.0846 199.19,-47.8256 199.19,-47.8256\"/>\n",
       "<text text-anchor=\"middle\" x=\"193.5\" y=\"-70.7716\" font-family=\"Times,serif\" font-size=\"14.00\" fill=\"#000000\">1</text>\n",
       "</g>\n",
       "<!-- 2&#45;&gt;3 -->\n",
       "<g id=\"edge10\" class=\"edge\">\n",
       "<title>2&#45;&gt;3</title>\n",
       "<path fill=\"none\" stroke=\"#000000\" d=\"M208.21,-34.4716C218.49,-34.4716 232.37,-34.4716 243.77,-34.4716\"/>\n",
       "<polygon fill=\"#000000\" stroke=\"#000000\" points=\"249.81,-34.4716 243.81,-37.1717 246.81,-34.4716 243.81,-34.4717 243.81,-34.4717 243.81,-34.4717 246.81,-34.4716 243.81,-31.7717 249.81,-34.4716 249.81,-34.4716\"/>\n",
       "<text text-anchor=\"middle\" x=\"229\" y=\"-38.2716\" font-family=\"Times,serif\" font-size=\"14.00\" fill=\"#000000\">0</text>\n",
       "</g>\n",
       "<!-- 3&#45;&gt;F3 -->\n",
       "<g id=\"edge11\" class=\"edge\">\n",
       "<title>3&#45;&gt;F3</title>\n",
       "<path fill=\"none\" stroke=\"#000000\" d=\"M279.1201,-34.4716C289.2606,-34.4716 302.2527,-34.4716 309.7999,-34.4716\"/>\n",
       "<polygon fill=\"#000000\" stroke=\"#000000\" points=\"315.9374,-34.4716 309.9375,-37.1717 312.9374,-34.4716 309.9374,-34.4717 309.9374,-34.4717 309.9374,-34.4717 312.9374,-34.4716 309.9374,-31.7717 315.9374,-34.4716 315.9374,-34.4716\"/>\n",
       "</g>\n",
       "</g>\n",
       "</svg>\n"
      ],
      "text/plain": [
       "mutable_automaton<context<letterset<char_letters>, z>>"
      ]
     },
     "execution_count": 11,
     "metadata": {},
     "output_type": "execute_result"
    }
   ],
   "source": [
    "even = vcsn.automaton(filename='even.gv')\n",
    "even"
   ]
  },
  {
   "cell_type": "markdown",
   "metadata": {},
   "source": [
    "Now we run `prod-eval` to evaluate words on the synchronized product of `bin` and `even`.\n",
    "The result is the value denoted by this binary number if it is even else 0.\n",
    "The result is displayed twice, once for the dyn implementation and once for static one."
   ]
  },
  {
   "cell_type": "code",
   "execution_count": 12,
   "metadata": {},
   "outputs": [
    {
     "name": "stdout",
     "output_type": "stream",
     "text": [
      "     0: 0, 0\n",
      "     1: 0, 0\n",
      "    10: 2, 2\n",
      "  1110: 14, 14\n",
      "101010: 42, 42\n",
      "101011: 0, 0\n"
     ]
    }
   ],
   "source": [
    "!for i in 0 1 10 1110 101010 101011;                       \\\n",
    "do                                                         \\\n",
    "    printf \"%6s: \" $i;                                     \\\n",
    "    vcsn run ../../tests/demo/prod-eval bin.gv even.gv $i; \\\n",
    "done"
   ]
  },
  {
   "cell_type": "markdown",
   "metadata": {},
   "source": [
    "For the record, this could have been done this way in Python:"
   ]
  },
  {
   "cell_type": "code",
   "execution_count": 13,
   "metadata": {},
   "outputs": [
    {
     "name": "stdout",
     "output_type": "stream",
     "text": [
      "     0: 0\n",
      "     1: 0\n",
      "    10: 2\n",
      "  1110: 14\n",
      "101010: 42\n",
      "101011: 0\n"
     ]
    }
   ],
   "source": [
    "for i in [0, 1, 10, 1110, 101010, 101011]:\n",
    "    print('{:6d}: {}'.format(i, (bin & even).evaluate(i)))"
   ]
  },
  {
   "cell_type": "markdown",
   "metadata": {},
   "source": [
    "##  Low-level manipulation of automata: `compose`\n",
    "This example shows how to build a multitape automaton (adding states and transitions), and how to use it."
   ]
  },
  {
   "cell_type": "code",
   "execution_count": 14,
   "metadata": {
    "scrolled": false
   },
   "outputs": [
    {
     "name": "stdout",
     "output_type": "stream",
     "text": [
      "\u001b[36m#\u001b[39;49;00m\u001b[36minclude\u001b[39;49;00m \u001b[37m<iostream> //std::cout\u001b[39;49;00m\u001b[36m\u001b[39;49;00m\r\n",
      "\r\n",
      "\u001b[36m#\u001b[39;49;00m\u001b[36minclude\u001b[39;49;00m \u001b[37m<vcsn/alphabets/char.hh> // type of letter\u001b[39;49;00m\u001b[36m\u001b[39;49;00m\r\n",
      "\u001b[36m#\u001b[39;49;00m\u001b[36minclude\u001b[39;49;00m \u001b[37m<vcsn/alphabets/setalpha.hh> // alphabet\u001b[39;49;00m\u001b[36m\u001b[39;49;00m\r\n",
      "\u001b[36m#\u001b[39;49;00m\u001b[36minclude\u001b[39;49;00m \u001b[37m<vcsn/algos/compose.hh> // composition algorithm\u001b[39;49;00m\u001b[36m\u001b[39;49;00m\r\n",
      "\u001b[36m#\u001b[39;49;00m\u001b[36minclude\u001b[39;49;00m \u001b[37m<vcsn/algos/dot.hh> // display algorithm\u001b[39;49;00m\u001b[36m\u001b[39;49;00m\r\n",
      "\u001b[36m#\u001b[39;49;00m\u001b[36minclude\u001b[39;49;00m \u001b[37m<vcsn/labelset/tupleset.hh> // tupleset\u001b[39;49;00m\u001b[36m\u001b[39;49;00m\r\n",
      "\u001b[36m#\u001b[39;49;00m\u001b[36minclude\u001b[39;49;00m \u001b[37m<vcsn/labelset/letterset.hh> // letterset\u001b[39;49;00m\u001b[36m\u001b[39;49;00m\r\n",
      "\u001b[36m#\u001b[39;49;00m\u001b[36minclude\u001b[39;49;00m \u001b[37m<vcsn/weightset/b.hh> // weightset b\u001b[39;49;00m\u001b[36m\u001b[39;49;00m\r\n",
      "\r\n",
      "\u001b[37m// Example usage of Vcsn's static layer.\u001b[39;49;00m\r\n",
      "\u001b[37m//\u001b[39;49;00m\r\n",
      "\u001b[37m// Creation of an automaton, composition, then display.\u001b[39;49;00m\r\n",
      "\u001b[36mint\u001b[39;49;00m \u001b[32mmain\u001b[39;49;00m()\r\n",
      "{\r\n",
      "  \u001b[34musing\u001b[39;49;00m \u001b[34mnamespace\u001b[39;49;00m vcsn;\r\n",
      "\r\n",
      "  \u001b[37m// Basic alphabet type.\u001b[39;49;00m\r\n",
      "  \u001b[34musing\u001b[39;49;00m alphabet_t = set_alphabet<char_letters>;\r\n",
      "\r\n",
      "  \u001b[37m// Letterset (single-tape labelset).\u001b[39;49;00m\r\n",
      "  \u001b[34musing\u001b[39;49;00m letterset_t = letterset<alphabet_t>;\r\n",
      "\r\n",
      "  \u001b[37m// Create the letterset.\u001b[39;49;00m\r\n",
      "  \u001b[34mauto\u001b[39;49;00m ls1 = letterset_t{\u001b[33m'\u001b[39;49;00m\u001b[33ma\u001b[39;49;00m\u001b[33m'\u001b[39;49;00m};\r\n",
      "\r\n",
      "  \u001b[37m// Labelset (double-tape).\u001b[39;49;00m\r\n",
      "  \u001b[34musing\u001b[39;49;00m labelset_t = tupleset<letterset_t, letterset_t>;\r\n",
      "\r\n",
      "  \u001b[37m// Create the double-tape labelset.\u001b[39;49;00m\r\n",
      "  \u001b[34mauto\u001b[39;49;00m ls = labelset_t{ls1, ls1};\r\n",
      "\r\n",
      "\r\n",
      "  \u001b[37m// Context of the automaton: lat<lal_char, lal_char>, b.\u001b[39;49;00m\r\n",
      "  \u001b[34musing\u001b[39;49;00m context_t = context<labelset_t, b>;\r\n",
      "\r\n",
      "  \u001b[37m// Create the context from the labelset.\u001b[39;49;00m\r\n",
      "  \u001b[37m// No parameter for the weightset, as it's just B.\u001b[39;49;00m\r\n",
      "  \u001b[34mauto\u001b[39;49;00m ctx = context_t{ls};\r\n",
      "\r\n",
      "\r\n",
      "  \u001b[37m// Create an empty automaton (transducer), from the context.\u001b[39;49;00m\r\n",
      "  \u001b[34mauto\u001b[39;49;00m t = make_mutable_automaton(ctx);\r\n",
      "\r\n",
      "  \u001b[37m// Add a state.\u001b[39;49;00m\r\n",
      "  \u001b[37m// p is a state identifier, probably 0\u001b[39;49;00m\r\n",
      "  \u001b[34mauto\u001b[39;49;00m p = t->new_state();\r\n",
      "  \u001b[34mauto\u001b[39;49;00m q = t->new_state();\r\n",
      "\r\n",
      "  \u001b[37m// Make p initial.\u001b[39;49;00m\r\n",
      "  t->set_initial(p);\r\n",
      "  \u001b[37m// Transition from p to q, with label \"a|a\".\u001b[39;49;00m\r\n",
      "  t->new_transition(p, q, ctx.labelset()->tuple(\u001b[33m'\u001b[39;49;00m\u001b[33ma\u001b[39;49;00m\u001b[33m'\u001b[39;49;00m, \u001b[33m'\u001b[39;49;00m\u001b[33ma\u001b[39;49;00m\u001b[33m'\u001b[39;49;00m));\r\n",
      "  \u001b[37m// Make q final\u001b[39;49;00m\r\n",
      "  t->set_final(q);\r\n",
      "\r\n",
      "  \u001b[37m// The automaton looks like:\u001b[39;49;00m\r\n",
      "  \u001b[37m// --> p --(a|a)--> q -->\u001b[39;49;00m\r\n",
      "\r\n",
      "  \u001b[37m/// Lazy composition with itself\u001b[39;49;00m\r\n",
      "  \u001b[34mauto\u001b[39;49;00m c = compose_lazy(t, t);\r\n",
      "\r\n",
      "  \u001b[37m// Display the resulting automaton on standard output.\u001b[39;49;00m\r\n",
      "  \u001b[37m// It's partial, because it's a lazy composition.\u001b[39;49;00m\r\n",
      "  dot(c, std::cout) << \u001b[33m'\u001b[39;49;00m\u001b[33m\\n\u001b[39;49;00m\u001b[33m'\u001b[39;49;00m;\r\n",
      "\r\n",
      "  \u001b[37m// Compute the accessible states of c, thus resolving all the states.\u001b[39;49;00m\r\n",
      "  \u001b[34mauto\u001b[39;49;00m d = accessible(c);\r\n",
      "\r\n",
      "  \u001b[37m// Display d.\u001b[39;49;00m\r\n",
      "  dot(d, std::cout) << \u001b[33m'\u001b[39;49;00m\u001b[33m\\n\u001b[39;49;00m\u001b[33m'\u001b[39;49;00m;\r\n",
      "  \u001b[37m// Display c, all the states have been resolved.\u001b[39;49;00m\r\n",
      "  dot(c, std::cout) << \u001b[33m'\u001b[39;49;00m\u001b[33m\\n\u001b[39;49;00m\u001b[33m'\u001b[39;49;00m;\r\n",
      "}\r\n"
     ]
    }
   ],
   "source": [
    "!pygmentize -l c++ ../../tests/demo/compose.cc "
   ]
  }
 ],
 "metadata": {
  "kernelspec": {
   "display_name": "Python 3",
   "language": "python",
   "name": "python3"
  },
  "language_info": {
   "codemirror_mode": {
    "name": "ipython",
    "version": 3
   },
   "file_extension": ".py",
   "mimetype": "text/x-python",
   "name": "python",
   "nbconvert_exporter": "python",
   "pygments_lexer": "ipython3",
   "version": "3.5.4"
  }
 },
 "nbformat": 4,
 "nbformat_minor": 1
}
