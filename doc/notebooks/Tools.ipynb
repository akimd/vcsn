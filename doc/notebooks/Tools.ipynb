{
 "cells": [
  {
   "cell_type": "markdown",
   "metadata": {},
   "source": [
    "# Tools\n",
    "Vcsn comes with a set of programs that you use to manipulate automata, expressions, etc.\n",
    "\n",
    "It is much less powerful than writing Python programs, however it comes handy occasionally to process a batch of files, or for a quick experiment.\n",
    "\n",
    "## Synopsis\n",
    "\n",
    "    vcsn COMMAND [OPTION...] ARG...\n",
    "    \n",
    "Run `vcsn tools --help` for details on the interface:"
   ]
  },
  {
   "cell_type": "code",
   "execution_count": 1,
   "metadata": {},
   "outputs": [
    {
     "name": "stdout",
     "output_type": "stream",
     "text": [
      "usage: vcsn COMMAND [OPTIONS...] [ARGS...]\r\n",
      "\r\n",
      "General Options:\r\n",
      "  -h, --help      display this help message and exit successfully\r\n",
      "  -c, --commands  display the supported commands and exit successfully\r\n",
      "\r\n",
      "Available COMMANDs:\r\n",
      "  accessible add ambiguous-word are-equal are-equivalent\r\n",
      "  are-isomorphic cat cerny coaccessible codeterminize cominimize\r\n",
      "  compare complement complete component compose concatenate condense\r\n",
      "  configuration conjugate conjunction constant-term context-of copy\r\n",
      "  costandard cotrie de-bruijn delay-automaton derivation derived-term\r\n",
      "  determinize difference divkbaseb eliminate-state evaluate expand\r\n",
      "  expression-one expression-zero factor focus has-bounded-lag\r\n",
      "  has-lightening-cycle has-twins-property identities-of inductive\r\n",
      "  infiltrate insplit is-accessible is-ambiguous is-coaccessible\r\n",
      "  is-codeterministic is-complete is-costandard is-cycle-ambiguous\r\n",
      "  is-deterministic is-empty is-eps-acyclic is-free is-functional\r\n",
      "  is-letterized is-normalized is-out-sorted is-partial-identity\r\n",
      "  is-proper is-realtime is-standard is-synchronized is-synchronized-by\r\n",
      "  is-synchronizing is-trim is-useless is-valid join ladybird ldivide\r\n",
      "  less-than letterize levenshtein lgcd lift lightest\r\n",
      "  lightest-automaton lweight minimize multiply name normalize\r\n",
      "  num-components num-tapes pair partial-identity prefix project proper\r\n",
      "  push-weights quotkbaseb random-automaton\r\n",
      "  random-automaton-deterministic random-expression random-label\r\n",
      "  random-weight rdivide realtime reduce rweight scc shortest shuffle\r\n",
      "  sort split standard star star-height star-normal-form strip subword\r\n",
      "  suffix synchronize synchronizing-word thompson to-automaton\r\n",
      "  to-expansion to-expression transpose transposition trie trim tuple\r\n",
      "  type u universal weight-one weight-series weight-zero zpc\r\n",
      "\r\n",
      "Input/Output:\r\n",
      "  -C CONTEXT    the context to use\r\n",
      "                'lal, b', 'law, q', 'lal(abc), zmin', etc.\r\n",
      "  -A            input is an automaton\r\n",
      "  -B            input is a boolean\r\n",
      "  -D            input is an identity\r\n",
      "  -E            input is a rational expression\r\n",
      "  -F            input is a float\r\n",
      "  -L            input is a label (or a word)\r\n",
      "  -N            input is a number\r\n",
      "  -P            input is a polynomial\r\n",
      "  -S            input is a string\r\n",
      "  -W            input is a weight\r\n",
      "  -e STRING     input is STRING\r\n",
      "  -f FILE       input is FILE\r\n",
      "  -I FORMAT     input format (daut, dot, efsm, fado, text)\r\n",
      "  -O FORMAT     output format\r\n",
      "                (daut, dot, efsm, grail, info, list, null, text, tikz, utf8)\r\n",
      "  -o FILE       save output into FILE\r\n",
      "  -q            discard any output\r\n",
      "\r\n",
      "Input/Output Formats (for Automata, Expressions, Labels, Polynomials, Weights):\r\n",
      "  daut   A      Simplified Dot syntax for Automata\r\n",
      "  dot    A      GraphViz's Dot language\r\n",
      "  efsm   A      Extended FSM format for OpenFST: use efstcompile\r\n",
      "  fado   A      FAdo's format\r\n",
      "  grail  A      Grail's format\r\n",
      "  info   AE     facts about the result (size, etc.)\r\n",
      "  latex   ELPW  display as a LaTeX formula\r\n",
      "  list      P   display one monomial per line\r\n",
      "  null   AELPW  no output at all (e.g., for benchmarks)\r\n",
      "  text    ELPW  usual concrete syntax in ASCII\r\n",
      "  tikz   A      LaTeX source for TikZ\r\n",
      "  utf8    ELPW  usual concrete syntax in UTF-8\r\n",
      "\r\n",
      "Examples:\r\n",
      "  $ vcsn thompson -Ee '[ab]*a[ab]{3}' |\r\n",
      "      vcsn proper |\r\n",
      "      vcsn determinize |\r\n",
      "      vcsn evaluate -L 'abba'\r\n",
      "\r\n",
      "  $ vcsn thompson -Ee '[ab]*a[ab]{3}' |\r\n",
      "      vcsn proper -f - |\r\n",
      "      vcsn determinize -f - |\r\n",
      "      vcsn evaluate -f - -L 'abba'\r\n",
      "\r\n",
      "  $ vcsn derived-term -C 'lat<lal, lal>, q' -Ee 'a*|b*' |\r\n",
      "      vcsn shortest 10\r\n"
     ]
    }
   ],
   "source": [
    "!vcsn tools --help"
   ]
  },
  {
   "cell_type": "markdown",
   "metadata": {},
   "source": [
    "You can also run `vcsn tools COMMAND -h` to get information about a particular command."
   ]
  },
  {
   "cell_type": "code",
   "execution_count": 2,
   "metadata": {},
   "outputs": [
    {
     "name": "stdout",
     "output_type": "stream",
     "text": [
      "usage: vcsn evaluate [OPTIONS...] [ARGS...]\r\n",
      "\r\n",
      "Available versions:\r\n",
      "  AUT:automaton L:word -> weight\r\n",
      "    Evaluate L on AUT.\r\n",
      "\r\n",
      "  AUT:automaton P:polynomial -> weight\r\n",
      "    Evaluate P on AUT.\r\n",
      "\r\n",
      "Try 'vcsn tools --help' for more information.\r\n"
     ]
    }
   ],
   "source": [
    "!vcsn tools evaluate -h"
   ]
  },
  {
   "cell_type": "markdown",
   "metadata": {},
   "source": [
    "Or simply `vcsn COMMAND -h`."
   ]
  },
  {
   "cell_type": "code",
   "execution_count": 3,
   "metadata": {},
   "outputs": [
    {
     "name": "stdout",
     "output_type": "stream",
     "text": [
      "usage: vcsn multiply [OPTIONS...] [ARGS...]\r\n",
      "\r\n",
      "Available versions:\r\n",
      "  AUT:automaton MIN:number [MAX=-2:number] [ALGO=\"auto\":string] -> automaton\r\n",
      "    Repeated multiplication (concatenation) of an automaton with itself.\r\n",
      "    Parameters:\r\n",
      "      AUT  the automaton.\r\n",
      "      MIN  the minimum number.  If -1, denotes 0.\r\n",
      "      MAX  the maximum number.\r\n",
      "           If -1, denotes infinity, using star.\r\n",
      "           If -2, denotes the same value as min.\r\n",
      "      ALGO  how to compute the result\r\n",
      "        - \"standard\"    AUT is standard,\r\n",
      "                        build a standard automaton.\r\n",
      "        - \"general\"     no requirement on AUT,\r\n",
      "                        but add spontaneous transitions.\r\n",
      "        - \"auto\"        \"standard\" if AUT is standard,\r\n",
      "                        \"general\" otherwise.\r\n",
      "\r\n",
      "  E:expression MIN:number [MAX=-2:number] -> expression\r\n",
      "    Repeated multiplication (concatenation) of an expression with itself.\r\n",
      "    Parameters:\r\n",
      "      E    the expression.\r\n",
      "      MIN  the minimum number.  If -1, denotes 0.\r\n",
      "      MAX  the maximum number.\r\n",
      "           If -1, denotes infinity, using star.\r\n",
      "           If -2, denotes the same value as min.\r\n",
      "\r\n",
      "  E:weight MIN:number [MAX=-2:number] -> weight\r\n",
      "    Repeated multiplication of a weight with itself.\r\n",
      "    Parameters:\r\n",
      "      E    the weight.\r\n",
      "      MIN  the minimum number.  If -1, denotes 0.\r\n",
      "      MAX  the maximum number.\r\n",
      "           If -1, denotes infinity, using star.\r\n",
      "           If -2, denotes the same value as min.\r\n",
      "\r\n",
      "  L:label NUM:number -> label\r\n",
      "    Repeated multiplication of a label with itself.\r\n",
      "    Parameters:\r\n",
      "      L    the label.\r\n",
      "      NUM  the exponent.\r\n",
      "\r\n",
      "  LHS:automaton RHS:automaton [ALGO=\"auto\":string] -> automaton\r\n",
      "    Multiply (concatenate) two automata.\r\n",
      "    Parameters:\r\n",
      "      LHS   an automaton.\r\n",
      "      RHS   another one.\r\n",
      "      ALGO  how to compute the result\r\n",
      "        - \"standard\"    both LHS and RHS are standard,\r\n",
      "                        build a standard automaton.\r\n",
      "        - \"general\"     no requirement on LHS and and RHS,\r\n",
      "                        but add spontaneous transitions.\r\n",
      "        - \"auto\"        \"standard\" if both automata are standard,\r\n",
      "                        \"general\" otherwise.\r\n",
      "\r\n",
      "  LHS:expression RHS:expression -> expression\r\n",
      "    Multiply (concatenate) two expressions.\r\n",
      "\r\n",
      "  LHS:label RHS:label -> label\r\n",
      "    Multiply (concatenate) two labels.\r\n",
      "\r\n",
      "  LHS:polynomial RHS:polynomial -> polynomial\r\n",
      "    Multiply two polynomials.\r\n",
      "\r\n",
      "  LHS:weight RHS:weight -> weight\r\n",
      "    Multiply two weights.\r\n",
      "\r\n",
      "Try 'vcsn tools --help' for more information.\r\n"
     ]
    }
   ],
   "source": [
    "!vcsn multiply -h"
   ]
  },
  {
   "cell_type": "markdown",
   "metadata": {},
   "source": [
    "## Examples\n",
    "To generate the standard automaton of $(a+b)^*c$ and save it in `abc.gv`:"
   ]
  },
  {
   "cell_type": "code",
   "execution_count": 4,
   "metadata": {},
   "outputs": [],
   "source": [
    "!vcsn standard -Ee '[ab]*c' -o abc.gv"
   ]
  },
  {
   "cell_type": "code",
   "execution_count": 5,
   "metadata": {},
   "outputs": [
    {
     "data": {
      "image/svg+xml": [
       "<?xml version=\"1.0\" encoding=\"UTF-8\" standalone=\"no\"?>\n",
       "<!DOCTYPE svg PUBLIC \"-//W3C//DTD SVG 1.1//EN\"\n",
       " \"http://www.w3.org/Graphics/SVG/1.1/DTD/svg11.dtd\">\n",
       "<!-- Generated by graphviz version 2.40.1 (20161225.0304)\n",
       " -->\n",
       "<!-- Title: %3 Pages: 1 -->\n",
       "<svg width=\"322pt\" height=\"132pt\"\n",
       " viewBox=\"0.00 0.00 322.00 132.07\" xmlns=\"http://www.w3.org/2000/svg\" xmlns:xlink=\"http://www.w3.org/1999/xlink\">\n",
       "<g id=\"graph0\" class=\"graph\" transform=\"scale(1 1) rotate(0) translate(4 128.07)\">\n",
       "<title>%3</title>\n",
       "<polygon fill=\"#ffffff\" stroke=\"transparent\" points=\"-4,4 -4,-128.07 318,-128.07 318,4 -4,4\"/>\n",
       "<!-- I0 -->\n",
       "<g id=\"node1\" class=\"node\">\n",
       "<title>I0</title>\n",
       "<ellipse fill=\"#000000\" stroke=\"#000000\" cx=\"0\" cy=\"-17.57\" rx=\"0\" ry=\"0\"/>\n",
       "</g>\n",
       "<!-- 0 -->\n",
       "<g id=\"node3\" class=\"node\">\n",
       "<title>0</title>\n",
       "<ellipse fill=\"#98f5ff\" stroke=\"#000000\" cx=\"51.5\" cy=\"-17.57\" rx=\"14.5\" ry=\"14.5\"/>\n",
       "<text text-anchor=\"middle\" x=\"51.5\" y=\"-14.47\" font-family=\"Times,serif\" font-size=\"12.00\" fill=\"#000000\">0</text>\n",
       "</g>\n",
       "<!-- I0&#45;&gt;0 -->\n",
       "<g id=\"edge1\" class=\"edge\">\n",
       "<title>I0&#45;&gt;0</title>\n",
       "<path fill=\"none\" stroke=\"#000000\" d=\"M.1477,-17.57C1.8156,-17.57 17.298,-17.57 30.83,-17.57\"/>\n",
       "<polygon fill=\"#000000\" stroke=\"#000000\" points=\"36.854,-17.57 30.854,-20.2701 33.854,-17.57 30.854,-17.5701 30.854,-17.5701 30.854,-17.5701 33.854,-17.57 30.854,-14.8701 36.854,-17.57 36.854,-17.57\"/>\n",
       "</g>\n",
       "<!-- F3 -->\n",
       "<g id=\"node2\" class=\"node\">\n",
       "<title>F3</title>\n",
       "<ellipse fill=\"#000000\" stroke=\"#000000\" cx=\"314\" cy=\"-34.57\" rx=\"0\" ry=\"0\"/>\n",
       "</g>\n",
       "<!-- 1 -->\n",
       "<g id=\"node4\" class=\"node\">\n",
       "<title>1</title>\n",
       "<ellipse fill=\"#98f5ff\" stroke=\"#000000\" cx=\"121.5\" cy=\"-76.57\" rx=\"14.5\" ry=\"14.5\"/>\n",
       "<text text-anchor=\"middle\" x=\"121.5\" y=\"-73.47\" font-family=\"Times,serif\" font-size=\"12.00\" fill=\"#000000\">1</text>\n",
       "</g>\n",
       "<!-- 0&#45;&gt;1 -->\n",
       "<g id=\"edge2\" class=\"edge\">\n",
       "<title>0&#45;&gt;1</title>\n",
       "<path fill=\"none\" stroke=\"#000000\" d=\"M62.747,-27.049C74.21,-36.712 92.111,-51.8 105.14,-62.783\"/>\n",
       "<polygon fill=\"#000000\" stroke=\"#000000\" points=\"110.05,-66.918 103.7214,-65.1182 107.7553,-64.9855 105.4606,-63.053 105.4606,-63.053 105.4606,-63.053 107.7553,-64.9855 107.1999,-60.9878 110.05,-66.918 110.05,-66.918\"/>\n",
       "<text text-anchor=\"middle\" x=\"86.5\" y=\"-52.37\" font-family=\"Times,serif\" font-size=\"14.00\" fill=\"#000000\">a</text>\n",
       "</g>\n",
       "<!-- 2 -->\n",
       "<g id=\"node5\" class=\"node\">\n",
       "<title>2</title>\n",
       "<ellipse fill=\"#98f5ff\" stroke=\"#000000\" cx=\"192.5\" cy=\"-34.57\" rx=\"14.5\" ry=\"14.5\"/>\n",
       "<text text-anchor=\"middle\" x=\"192.5\" y=\"-31.47\" font-family=\"Times,serif\" font-size=\"12.00\" fill=\"#000000\">2</text>\n",
       "</g>\n",
       "<!-- 0&#45;&gt;2 -->\n",
       "<g id=\"edge3\" class=\"edge\">\n",
       "<title>0&#45;&gt;2</title>\n",
       "<path fill=\"none\" stroke=\"#000000\" d=\"M66.058,-19.325C91.178,-22.354 142.74,-28.571 171.66,-32.057\"/>\n",
       "<polygon fill=\"#000000\" stroke=\"#000000\" points=\"177.81,-32.799 171.5297,-34.7608 174.8316,-32.4396 171.8532,-32.0802 171.8532,-32.0802 171.8532,-32.0802 174.8316,-32.4396 172.1766,-29.3997 177.81,-32.799 177.81,-32.799\"/>\n",
       "<text text-anchor=\"middle\" x=\"121.5\" y=\"-30.37\" font-family=\"Times,serif\" font-size=\"14.00\" fill=\"#000000\">b</text>\n",
       "</g>\n",
       "<!-- 3 -->\n",
       "<g id=\"node6\" class=\"node\">\n",
       "<title>3</title>\n",
       "<ellipse fill=\"#98f5ff\" stroke=\"#000000\" cx=\"262.5\" cy=\"-34.57\" rx=\"14.5\" ry=\"14.5\"/>\n",
       "<text text-anchor=\"middle\" x=\"262.5\" y=\"-31.47\" font-family=\"Times,serif\" font-size=\"12.00\" fill=\"#000000\">3</text>\n",
       "</g>\n",
       "<!-- 0&#45;&gt;3 -->\n",
       "<g id=\"edge4\" class=\"edge\">\n",
       "<title>0&#45;&gt;3</title>\n",
       "<path fill=\"none\" stroke=\"#000000\" d=\"M65.838,-14.586C93.48,-9.3462 155.93,0 207,-10.57 220.01,-13.263 233.72,-19.159 244.26,-24.433\"/>\n",
       "<polygon fill=\"#000000\" stroke=\"#000000\" points=\"249.76,-27.275 243.1901,-26.9193 247.0948,-25.8978 244.4296,-24.5206 244.4296,-24.5206 244.4296,-24.5206 247.0948,-25.8978 245.6691,-22.1219 249.76,-27.275 249.76,-27.275\"/>\n",
       "<text text-anchor=\"middle\" x=\"157\" y=\"-10.37\" font-family=\"Times,serif\" font-size=\"14.00\" fill=\"#000000\">c</text>\n",
       "</g>\n",
       "<!-- 1&#45;&gt;1 -->\n",
       "<g id=\"edge5\" class=\"edge\">\n",
       "<title>1&#45;&gt;1</title>\n",
       "<path fill=\"none\" stroke=\"#000000\" d=\"M115.81,-89.924C113.96,-99.515 115.86,-109.07 121.5,-109.07 125.91,-109.07 128.03,-103.24 127.87,-96.113\"/>\n",
       "<polygon fill=\"#000000\" stroke=\"#000000\" points=\"127.19,-89.924 130.5292,-95.5932 127.5177,-92.9061 127.8454,-95.8881 127.8454,-95.8881 127.8454,-95.8881 127.5177,-92.9061 125.1615,-96.183 127.19,-89.924 127.19,-89.924\"/>\n",
       "<text text-anchor=\"middle\" x=\"121.5\" y=\"-112.87\" font-family=\"Times,serif\" font-size=\"14.00\" fill=\"#000000\">a</text>\n",
       "</g>\n",
       "<!-- 1&#45;&gt;2 -->\n",
       "<g id=\"edge6\" class=\"edge\">\n",
       "<title>1&#45;&gt;2</title>\n",
       "<path fill=\"none\" stroke=\"#000000\" d=\"M132.75,-66.836C138.8,-61.889 146.53,-56.003 154,-51.57 159.84,-48.101 166.52,-44.909 172.66,-42.25\"/>\n",
       "<polygon fill=\"#000000\" stroke=\"#000000\" points=\"178.56,-39.779 174.0688,-44.5873 175.7929,-40.9379 173.0258,-42.0969 173.0258,-42.0969 173.0258,-42.0969 175.7929,-40.9379 171.9827,-39.6065 178.56,-39.779 178.56,-39.779\"/>\n",
       "<text text-anchor=\"middle\" x=\"157\" y=\"-55.37\" font-family=\"Times,serif\" font-size=\"14.00\" fill=\"#000000\">b</text>\n",
       "</g>\n",
       "<!-- 1&#45;&gt;3 -->\n",
       "<g id=\"edge7\" class=\"edge\">\n",
       "<title>1&#45;&gt;3</title>\n",
       "<path fill=\"none\" stroke=\"#000000\" d=\"M134.46,-83.205C151.67,-91.05 182.7,-101.825 207,-91.57 225.87,-83.605 241.51,-65.737 251.32,-52.115\"/>\n",
       "<polygon fill=\"#000000\" stroke=\"#000000\" points=\"254.91,-46.947 253.7044,-53.4151 253.1984,-49.4109 251.4869,-51.8747 251.4869,-51.8747 251.4869,-51.8747 253.1984,-49.4109 249.2694,-50.3343 254.91,-46.947 254.91,-46.947\"/>\n",
       "<text text-anchor=\"middle\" x=\"192.5\" y=\"-99.37\" font-family=\"Times,serif\" font-size=\"14.00\" fill=\"#000000\">c</text>\n",
       "</g>\n",
       "<!-- 2&#45;&gt;1 -->\n",
       "<g id=\"edge8\" class=\"edge\">\n",
       "<title>2&#45;&gt;1</title>\n",
       "<path fill=\"none\" stroke=\"#000000\" d=\"M183.41,-46.191C177.45,-53.067 169.09,-61.414 160,-66.57 154.5,-69.687 148.02,-71.853 141.95,-73.351\"/>\n",
       "<polygon fill=\"#000000\" stroke=\"#000000\" points=\"136.08,-74.635 141.3644,-70.7152 139.0107,-73.9939 141.9414,-73.3528 141.9414,-73.3528 141.9414,-73.3528 139.0107,-73.9939 142.5184,-75.9904 136.08,-74.635 136.08,-74.635\"/>\n",
       "<text text-anchor=\"middle\" x=\"157\" y=\"-72.37\" font-family=\"Times,serif\" font-size=\"14.00\" fill=\"#000000\">a</text>\n",
       "</g>\n",
       "<!-- 2&#45;&gt;2 -->\n",
       "<g id=\"edge9\" class=\"edge\">\n",
       "<title>2&#45;&gt;2</title>\n",
       "<path fill=\"none\" stroke=\"#000000\" d=\"M186.81,-47.924C184.96,-57.515 186.86,-67.07 192.5,-67.07 196.91,-67.07 199.03,-61.238 198.87,-54.113\"/>\n",
       "<polygon fill=\"#000000\" stroke=\"#000000\" points=\"198.19,-47.924 201.5292,-53.5932 198.5177,-50.9061 198.8454,-53.8881 198.8454,-53.8881 198.8454,-53.8881 198.5177,-50.9061 196.1615,-54.183 198.19,-47.924 198.19,-47.924\"/>\n",
       "<text text-anchor=\"middle\" x=\"192.5\" y=\"-70.87\" font-family=\"Times,serif\" font-size=\"14.00\" fill=\"#000000\">b</text>\n",
       "</g>\n",
       "<!-- 2&#45;&gt;3 -->\n",
       "<g id=\"edge10\" class=\"edge\">\n",
       "<title>2&#45;&gt;3</title>\n",
       "<path fill=\"none\" stroke=\"#000000\" d=\"M207,-34.57C216.91,-34.57 230.21,-34.57 241.3,-34.57\"/>\n",
       "<polygon fill=\"#000000\" stroke=\"#000000\" points=\"247.53,-34.57 241.53,-37.2701 244.53,-34.57 241.53,-34.5701 241.53,-34.5701 241.53,-34.5701 244.53,-34.57 241.53,-31.8701 247.53,-34.57 247.53,-34.57\"/>\n",
       "<text text-anchor=\"middle\" x=\"227.5\" y=\"-38.37\" font-family=\"Times,serif\" font-size=\"14.00\" fill=\"#000000\">c</text>\n",
       "</g>\n",
       "<!-- 3&#45;&gt;F3 -->\n",
       "<g id=\"edge11\" class=\"edge\">\n",
       "<title>3&#45;&gt;F3</title>\n",
       "<path fill=\"none\" stroke=\"#000000\" d=\"M277.1201,-34.57C287.2606,-34.57 300.2527,-34.57 307.7999,-34.57\"/>\n",
       "<polygon fill=\"#000000\" stroke=\"#000000\" points=\"313.9374,-34.57 307.9375,-37.2701 310.9374,-34.57 307.9374,-34.5701 307.9374,-34.5701 307.9374,-34.5701 310.9374,-34.57 307.9374,-31.8701 313.9374,-34.57 313.9374,-34.57\"/>\n",
       "</g>\n",
       "</g>\n",
       "</svg>\n"
      ],
      "text/plain": [
       "mutable_automaton<context<letterset<char_letters>, b>>"
      ]
     },
     "execution_count": 5,
     "metadata": {},
     "output_type": "execute_result"
    }
   ],
   "source": [
    "import vcsn\n",
    "vcsn.automaton(filename='abc.gv')"
   ]
  },
  {
   "cell_type": "markdown",
   "metadata": {},
   "source": [
    "To generate a Thompson automaton, make it proper, determinize it and extract a rational expression from it:"
   ]
  },
  {
   "cell_type": "code",
   "execution_count": 6,
   "metadata": {},
   "outputs": [
    {
     "name": "stdout",
     "output_type": "stream",
     "text": [
      "c+aa*c+(b+aa*b)(b+aa*b)*(c+aa*c)\r\n"
     ]
    }
   ],
   "source": [
    "!vcsn thompson -Ee '[ab]*c' | vcsn proper | vcsn determinize | vcsn to-expression"
   ]
  },
  {
   "cell_type": "markdown",
   "metadata": {},
   "source": [
    "Likewise, but with an additional minimization step:"
   ]
  },
  {
   "cell_type": "code",
   "execution_count": 7,
   "metadata": {},
   "outputs": [
    {
     "name": "stdout",
     "output_type": "stream",
     "text": [
      "(a+b)*c\r\n"
     ]
    }
   ],
   "source": [
    "!vcsn thompson -Ee '[ab]*c' | vcsn proper | vcsn determinize | vcsn minimize | vcsn to-expression"
   ]
  },
  {
   "cell_type": "markdown",
   "metadata": {},
   "source": [
    "The Python equivalent of these runs are:"
   ]
  },
  {
   "cell_type": "code",
   "execution_count": 8,
   "metadata": {},
   "outputs": [
    {
     "data": {
      "text/latex": [
       "$c + a \\, {a}^{*} \\, c + \\left(b + a \\, {a}^{*} \\, b\\right) \\, \\left(b + a \\, {a}^{*} \\, b\\right)^{*} \\, \\left(c + a \\, {a}^{*} \\, c\\right)$"
      ],
      "text/plain": [
       "c+aa*c+(b+aa*b)(b+aa*b)*(c+aa*c)"
      ]
     },
     "execution_count": 8,
     "metadata": {},
     "output_type": "execute_result"
    }
   ],
   "source": [
    "vcsn.B.expression('[ab]*c').thompson().proper().determinize().expression()"
   ]
  },
  {
   "cell_type": "code",
   "execution_count": 9,
   "metadata": {},
   "outputs": [
    {
     "data": {
      "text/latex": [
       "$\\left(a + b\\right)^{*} \\, c$"
      ],
      "text/plain": [
       "(a+b)*c"
      ]
     },
     "execution_count": 9,
     "metadata": {},
     "output_type": "execute_result"
    }
   ],
   "source": [
    "vcsn.B.expression('[ab]*c').thompson().proper().determinize().minimize().expression()"
   ]
  }
 ],
 "metadata": {
  "kernelspec": {
   "display_name": "Python 3",
   "language": "python",
   "name": "python3"
  },
  "language_info": {
   "codemirror_mode": {
    "name": "ipython",
    "version": 3
   },
   "file_extension": ".py",
   "mimetype": "text/x-python",
   "name": "python",
   "nbconvert_exporter": "python",
   "pygments_lexer": "ipython3",
   "version": "3.5.4"
  }
 },
 "nbformat": 4,
 "nbformat_minor": 1
}
