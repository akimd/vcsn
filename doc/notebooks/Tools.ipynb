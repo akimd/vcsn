{
 "cells": [
  {
   "cell_type": "markdown",
   "metadata": {},
   "source": [
    "# Tools\n",
    "Vcsn comes with a set of programs that you use to manipulate automata, expressions, etc.\n",
    "\n",
    "It is much less powerful than writing Python programs, however it comes handy occasionally to process a batch of files, or for a quick experiment.\n",
    "\n",
    "## Synopsis\n",
    "\n",
    "    vcsn COMMAND [OPTION...] ARG...\n",
    "    \n",
    "Run `vcsn tools --help` for details on the interface:"
   ]
  },
  {
   "cell_type": "code",
   "execution_count": 1,
   "metadata": {},
   "outputs": [
    {
     "name": "stdout",
     "output_type": "stream",
     "text": [
      "usage: vcsn COMMAND [OPTIONS...] [ARGS...]\r\n",
      "\r\n",
      "General Options:\r\n",
      "  -h, --help      display this help message and exit successfully\r\n",
      "  -c, --commands  display the supported commands and exit successfully\r\n",
      "\r\n",
      "Available COMMANDs:\r\n",
      "  accessible add ambiguous-word are-equal are-equivalent\r\n",
      "  are-isomorphic cat cerny coaccessible codeterminize cominimize\r\n",
      "  compare complement complete component compose concatenate condense\r\n",
      "  configuration conjugate conjunction constant-term context-of copy\r\n",
      "  costandard cotrie de-bruijn delay-automaton derivation derived-term\r\n",
      "  determinize difference divkbaseb eliminate-state evaluate expand\r\n",
      "  expression-one expression-zero factor focus has-bounded-lag\r\n",
      "  has-lightening-cycle has-twins-property identities-of inductive\r\n",
      "  infiltrate insplit is-accessible is-ambiguous is-coaccessible\r\n",
      "  is-codeterministic is-complete is-costandard is-cycle-ambiguous\r\n",
      "  is-deterministic is-empty is-eps-acyclic is-functional is-letterized\r\n",
      "  is-normalized is-out-sorted is-partial-identity is-proper\r\n",
      "  is-realtime is-standard is-synchronized is-synchronized-by\r\n",
      "  is-synchronizing is-trim is-useless is-valid join ladybird ldivide\r\n",
      "  less-than letterize levenshtein lgcd lift lightest\r\n",
      "  lightest-automaton lweight minimize multiply name normalize\r\n",
      "  num-components num-tapes pair partial-identity prefix project proper\r\n",
      "  push-weights quotkbaseb random-automaton\r\n",
      "  random-automaton-deterministic random-expression random-weight\r\n",
      "  rdivide realtime reduce rweight scc shortest shuffle sort split\r\n",
      "  standard star star-height star-normal-form strip subword suffix\r\n",
      "  synchronize synchronizing-word thompson to-automaton to-expansion\r\n",
      "  to-expression transpose transposition trie trim tuple type u\r\n",
      "  universal weight-one weight-series weight-zero zpc\r\n",
      "\r\n",
      "Input/Output:\r\n",
      "  -C CONTEXT    the context to use\r\n",
      "                'lal, b', 'law, q', 'lan(abc), zmin', etc.\r\n",
      "  -A            input is an automaton\r\n",
      "  -B            input is a boolean\r\n",
      "  -D            input is an identity\r\n",
      "  -E            input is a rational expression\r",
      "\r\n",
      "  -F            input is a float\r\n",
      "  -L            input is a label (or a word)\r\n",
      "  -N            input is a number\r\n",
      "  -P            input is a polynomial\r\n",
      "  -S            input is a string\r\n",
      "  -W            input is a weight\r\n",
      "  -e STRING     input is STRING\r\n",
      "  -f FILE       input is FILE\r\n",
      "  -I FORMAT     input format (daut, dot, efsm, fado, text)\r\n",
      "  -O FORMAT     output format\r\n",
      "                (daut, dot, efsm, grail, info, list, null, text, tikz, utf8)\r\n",
      "  -o FILE       save output into FILE\r\n",
      "  -q            discard any output\r\n",
      "\r\n",
      "Input/Output Formats (for Automata, Expressions, Labels, Polynomials, Weights):\r\n",
      "  daut   A      Simplified Dot syntax for Automata\r\n",
      "  dot    A      GraphViz's Dot language\r\n",
      "  efsm   A      Extended FSM format for OpenFST: use efstcompile\r\n",
      "  fado   A      FAdo's format\r\n",
      "  grail  A      Grail's format\r\n",
      "  info   AE     facts about the result (size, etc.)\r\n",
      "  latex   ELPW  display as a LaTeX formula\r\n",
      "  list      P   display one monomial per line\r\n",
      "  null   AELPW  no output at all (e.g., for benchmarks)\r\n",
      "  text    ELPW  usual concrete syntax in ASCII\r\n",
      "  tikz   A      LaTeX source for TikZ\r\n",
      "  utf8    ELPW  usual concrete syntax in UTF-8\r\n",
      "\r\n",
      "Examples:\r\n",
      "  $ vcsn thompson -Ee '[ab]*a[ab]{3}' |\r\n",
      "      vcsn proper |\r\n",
      "      vcsn determinize |\r\n",
      "      vcsn evaluate -L 'abba'\r\n",
      "\r\n",
      "  $ vcsn thompson -Ee '[ab]*a[ab]{3}' |\r\n",
      "      vcsn proper -f - |\r\n",
      "      vcsn determinize -f - |\r\n",
      "      vcsn evaluate -f - -L 'abba'\r\n",
      "\r\n",
      "  $ vcsn derived-term -C 'lat<lan, lan>, q' -Ee 'a*|b*' |\r\n",
      "      vcsn shortest 10\r\n"
     ]
    }
   ],
   "source": [
    "!vcsn tools --help"
   ]
  },
  {
   "cell_type": "markdown",
   "metadata": {},
   "source": [
    "You can also run `vcsn tools COMMAND -h` to get information about a particular command."
   ]
  },
  {
   "cell_type": "code",
   "execution_count": 2,
   "metadata": {},
   "outputs": [
    {
     "name": "stdout",
     "output_type": "stream",
     "text": [
      "usage: vcsn evaluate [OPTIONS...] [ARGS...]\r\n",
      "\r\n",
      "Available versions:\r\n",
      "  AUT:automaton L:word -> weight\r\n",
      "    Evaluate L on AUT.\r\n",
      "\r\n",
      "  AUT:automaton P:polynomial -> weight\r\n",
      "    Evaluate P on AUT.\r\n",
      "\r\n",
      "Try 'vcsn tools --help' for more information.\r\n"
     ]
    }
   ],
   "source": [
    "!vcsn tools evaluate -h"
   ]
  },
  {
   "cell_type": "markdown",
   "metadata": {},
   "source": [
    "Or simply `vcsn COMMAND -h`."
   ]
  },
  {
   "cell_type": "code",
   "execution_count": 3,
   "metadata": {},
   "outputs": [
    {
     "name": "stdout",
     "output_type": "stream",
     "text": [
      "usage: vcsn multiply [OPTIONS...] [ARGS...]\r\n",
      "\r\n",
      "Available versions:\r\n",
      "  AUT:automaton MIN:number [MAX=-2:number] [ALGO=\"auto\":string] -> automaton\r\n",
      "    Repeated multiplication (concatenation) of an automaton with itself.\r\n",
      "    Parameters:\r\n",
      "      AUT  the automaton.\r\n",
      "      MIN  the minimum number.  If -1, denotes 0.\r\n",
      "      MAX  the maximum number.\r\n",
      "           If -1, denotes infinity, using star.\r\n",
      "           If -2, denotes the same value as min.\r\n",
      "      ALGO  how to compute the result\r\n",
      "        - \"standard\"    AUT is standard,\r\n",
      "                        build a standard automaton.\r\n",
      "        - \"general\"     no requirement on AUT,\r\n",
      "                        but add spontaneous transitions.\r\n",
      "        - \"auto\"        \"standard\" if AUT is standard,\r\n",
      "                        \"general\" otherwise.\r\n",
      "\r\n",
      "  E:expression MIN:number [MAX=-2:number] -> expression\r\n",
      "    Repeated multiplication (concatenation) of an expression with itself.\r\n",
      "    Parameters:\r\n",
      "      E    the expression.\r\n",
      "      MIN  the minimum number.  If -1, denotes 0.\r\n",
      "      MAX  the maximum number.\r\n",
      "           If -1, denotes infinity, using star.\r\n",
      "           If -2, denotes the same value as min.\r\n",
      "\r\n",
      "  E:weight MIN:number [MAX=-2:number] -> weight\r\n",
      "    Repeated multiplication of a weight with itself.\r\n",
      "    Parameters:\r\n",
      "      E    the weight.\r\n",
      "      MIN  the minimum number.  If -1, denotes 0.\r\n",
      "      MAX  the maximum number.\r\n",
      "           If -1, denotes infinity, using star.\r\n",
      "           If -2, denotes the same value as min.\r\n",
      "\r\n",
      "  L:label NUM:number -> label\r\n",
      "    Repeated multiplication of a label with itself.\r\n",
      "    Parameters:\r\n",
      "      L    the label.\r\n",
      "      NUM  the exponent.\r\n",
      "\r\n",
      "  LHS:automaton RHS:automaton [ALGO=\"auto\":string] -> automaton\r\n",
      "    Multiply (concatenate) two automata.\r\n",
      "    Parameters:\r\n",
      "      LHS   an automaton.\r\n",
      "      RHS   another one.\r\n",
      "      ALGO  how to compute the result\r\n",
      "        - \"standard\"    both LHS and RHS are standard,\r\n",
      "                        build a standard automaton.\r\n",
      "        - \"general\"     no requirement on LHS and and RHS,\r\n",
      "                        but add spontaneous transitions.\r\n",
      "        - \"auto\"        \"standard\" if both automata are standard,\r\n",
      "                        \"general\" otherwise.\r\n",
      "\r\n",
      "  LHS:expression RHS:expression -> expression\r\n",
      "    Multiply (concatenate) two expressions.\r\n",
      "\r\n",
      "  LHS:label RHS:label -> label\r\n",
      "    Multiply (concatenate) two labels.\r\n",
      "\r\n",
      "  LHS:polynomial RHS:polynomial -> polynomial\r\n",
      "    Multiply two polynomials.\r\n",
      "\r\n",
      "  LHS:weight RHS:weight -> weight\r\n",
      "    Multiply two weights.\r\n",
      "\r\n",
      "Try 'vcsn tools --help' for more information.\r\n"
     ]
    }
   ],
   "source": [
    "!vcsn multiply -h"
   ]
  },
  {
   "cell_type": "markdown",
   "metadata": {},
   "source": [
    "## Examples\n",
    "To generate the standard automaton of $(a+b)^*c$ and save it in `abc.gv`:"
   ]
  },
  {
   "cell_type": "code",
   "execution_count": 4,
   "metadata": {
    "collapsed": true
   },
   "outputs": [],
   "source": [
    "!vcsn standard -Ee '[ab]*c' -o abc.gv"
   ]
  },
  {
   "cell_type": "code",
   "execution_count": 5,
   "metadata": {},
   "outputs": [
    {
     "data": {
      "image/svg+xml": [
       "<?xml version=\"1.0\" encoding=\"UTF-8\" standalone=\"no\"?>\n",
       "<!DOCTYPE svg PUBLIC \"-//W3C//DTD SVG 1.1//EN\"\n",
       " \"http://www.w3.org/Graphics/SVG/1.1/DTD/svg11.dtd\">\n",
       "<!-- Generated by graphviz version 2.40.1 (20161225.0304)\n",
       " -->\n",
       "<!-- Title: %3 Pages: 1 -->\n",
       "<svg width=\"328pt\" height=\"132pt\"\n",
       " viewBox=\"0.00 0.00 328.00 132.06\" xmlns=\"http://www.w3.org/2000/svg\" xmlns:xlink=\"http://www.w3.org/1999/xlink\">\n",
       "<g id=\"graph0\" class=\"graph\" transform=\"scale(1 1) rotate(0) translate(4 128.0619)\">\n",
       "<title>%3</title>\n",
       "<polygon fill=\"#ffffff\" stroke=\"transparent\" points=\"-4,4 -4,-128.0619 324,-128.0619 324,4 -4,4\"/>\n",
       "<!-- I0 -->\n",
       "<g id=\"node1\" class=\"node\">\n",
       "<title>I0</title>\n",
       "<ellipse fill=\"#000000\" stroke=\"#000000\" cx=\"0\" cy=\"-17.5619\" rx=\"0\" ry=\"0\"/>\n",
       "</g>\n",
       "<!-- 0 -->\n",
       "<g id=\"node3\" class=\"node\">\n",
       "<title>0</title>\n",
       "<ellipse fill=\"#98f5ff\" stroke=\"#000000\" cx=\"51.5\" cy=\"-17.5619\" rx=\"14.5\" ry=\"14.5\"/>\n",
       "<text text-anchor=\"middle\" x=\"51.5\" y=\"-14.4619\" font-family=\"Times,serif\" font-size=\"12.00\" fill=\"#000000\">0</text>\n",
       "</g>\n",
       "<!-- I0&#45;&gt;0 -->\n",
       "<g id=\"edge1\" class=\"edge\">\n",
       "<title>I0&#45;&gt;0</title>\n",
       "<path fill=\"none\" stroke=\"#000000\" d=\"M.1477,-17.5619C1.8156,-17.5619 17.298,-17.5619 30.83,-17.5619\"/>\n",
       "<polygon fill=\"#000000\" stroke=\"#000000\" points=\"36.854,-17.5619 30.854,-20.262 33.854,-17.5619 30.854,-17.562 30.854,-17.562 30.854,-17.562 33.854,-17.5619 30.854,-14.862 36.854,-17.5619 36.854,-17.5619\"/>\n",
       "</g>\n",
       "<!-- F3 -->\n",
       "<g id=\"node2\" class=\"node\">\n",
       "<title>F3</title>\n",
       "<ellipse fill=\"#000000\" stroke=\"#000000\" cx=\"320\" cy=\"-34.5619\" rx=\"0\" ry=\"0\"/>\n",
       "</g>\n",
       "<!-- 1 -->\n",
       "<g id=\"node4\" class=\"node\">\n",
       "<title>1</title>\n",
       "<ellipse fill=\"#98f5ff\" stroke=\"#000000\" cx=\"123.5\" cy=\"-76.5619\" rx=\"14.5\" ry=\"14.5\"/>\n",
       "<text text-anchor=\"middle\" x=\"123.5\" y=\"-73.4619\" font-family=\"Times,serif\" font-size=\"12.00\" fill=\"#000000\">1</text>\n",
       "</g>\n",
       "<!-- 0&#45;&gt;1 -->\n",
       "<g id=\"edge2\" class=\"edge\">\n",
       "<title>0&#45;&gt;1</title>\n",
       "<path fill=\"none\" stroke=\"#000000\" d=\"M62.75,-26.7809C74.726,-36.5949 93.786,-52.2129 107.36,-63.3369\"/>\n",
       "<polygon fill=\"#000000\" stroke=\"#000000\" points=\"112.09,-67.2129 105.7378,-65.4983 109.7696,-65.3114 107.4491,-63.4099 107.4491,-63.4099 107.4491,-63.4099 109.7696,-65.3114 109.1605,-61.3215 112.09,-67.2129 112.09,-67.2129\"/>\n",
       "<text text-anchor=\"middle\" x=\"87.5\" y=\"-52.3619\" font-family=\"Times,serif\" font-size=\"14.00\" fill=\"#000000\">a</text>\n",
       "</g>\n",
       "<!-- 2 -->\n",
       "<g id=\"node5\" class=\"node\">\n",
       "<title>2</title>\n",
       "<ellipse fill=\"#98f5ff\" stroke=\"#000000\" cx=\"196.5\" cy=\"-34.5619\" rx=\"14.5\" ry=\"14.5\"/>\n",
       "<text text-anchor=\"middle\" x=\"196.5\" y=\"-31.4619\" font-family=\"Times,serif\" font-size=\"12.00\" fill=\"#000000\">2</text>\n",
       "</g>\n",
       "<!-- 0&#45;&gt;2 -->\n",
       "<g id=\"edge3\" class=\"edge\">\n",
       "<title>0&#45;&gt;2</title>\n",
       "<path fill=\"none\" stroke=\"#000000\" d=\"M65.933,-19.2539C91.747,-22.2809 145.91,-28.6299 175.72,-32.1259\"/>\n",
       "<polygon fill=\"#000000\" stroke=\"#000000\" points=\"181.69,-32.8259 175.4164,-34.8087 178.7104,-32.4765 175.7308,-32.1271 175.7308,-32.1271 175.7308,-32.1271 178.7104,-32.4765 176.0453,-29.4455 181.69,-32.8259 181.69,-32.8259\"/>\n",
       "<text text-anchor=\"middle\" x=\"123.5\" y=\"-30.3619\" font-family=\"Times,serif\" font-size=\"14.00\" fill=\"#000000\">b</text>\n",
       "</g>\n",
       "<!-- 3 -->\n",
       "<g id=\"node6\" class=\"node\">\n",
       "<title>3</title>\n",
       "<ellipse fill=\"#98f5ff\" stroke=\"#000000\" cx=\"268.5\" cy=\"-34.5619\" rx=\"14.5\" ry=\"14.5\"/>\n",
       "<text text-anchor=\"middle\" x=\"268.5\" y=\"-31.4619\" font-family=\"Times,serif\" font-size=\"12.00\" fill=\"#000000\">3</text>\n",
       "</g>\n",
       "<!-- 0&#45;&gt;3 -->\n",
       "<g id=\"edge4\" class=\"edge\">\n",
       "<title>0&#45;&gt;3</title>\n",
       "<path fill=\"none\" stroke=\"#000000\" d=\"M65.757,-14.6709C93.864,-9.466 158.28,0 211,-10.5619 224.73,-13.3119 239.27,-19.4169 250.3,-24.7809\"/>\n",
       "<polygon fill=\"#000000\" stroke=\"#000000\" points=\"255.72,-27.4959 249.1461,-27.2227 253.0377,-26.1523 250.3554,-24.8086 250.3554,-24.8086 250.3554,-24.8086 253.0377,-26.1523 251.5647,-22.3945 255.72,-27.4959 255.72,-27.4959\"/>\n",
       "<text text-anchor=\"middle\" x=\"160\" y=\"-10.3619\" font-family=\"Times,serif\" font-size=\"14.00\" fill=\"#000000\">c</text>\n",
       "</g>\n",
       "<!-- 1&#45;&gt;1 -->\n",
       "<g id=\"edge5\" class=\"edge\">\n",
       "<title>1&#45;&gt;1</title>\n",
       "<path fill=\"none\" stroke=\"#000000\" d=\"M117.48,-89.9159C115.52,-99.5069 117.52,-109.0619 123.5,-109.0619 128.17,-109.0619 130.42,-103.2319 130.24,-96.1049\"/>\n",
       "<polygon fill=\"#000000\" stroke=\"#000000\" points=\"129.52,-89.9159 132.8953,-95.5637 129.8667,-92.8958 130.2134,-95.8757 130.2134,-95.8757 130.2134,-95.8757 129.8667,-92.8958 127.5315,-96.1877 129.52,-89.9159 129.52,-89.9159\"/>\n",
       "<text text-anchor=\"middle\" x=\"123.5\" y=\"-112.8619\" font-family=\"Times,serif\" font-size=\"14.00\" fill=\"#000000\">a</text>\n",
       "</g>\n",
       "<!-- 1&#45;&gt;2 -->\n",
       "<g id=\"edge6\" class=\"edge\">\n",
       "<title>1&#45;&gt;2</title>\n",
       "<path fill=\"none\" stroke=\"#000000\" d=\"M134.42,-67.0149C140.51,-62.0019 148.37,-55.9979 156,-51.5619 162.46,-47.8059 169.91,-44.4349 176.64,-41.7039\"/>\n",
       "<polygon fill=\"#000000\" stroke=\"#000000\" points=\"182.58,-39.3829 177.9741,-44.0815 179.7857,-40.4748 176.9915,-41.5666 176.9915,-41.5666 176.9915,-41.5666 179.7857,-40.4748 176.0088,-39.0518 182.58,-39.3829 182.58,-39.3829\"/>\n",
       "<text text-anchor=\"middle\" x=\"160\" y=\"-55.3619\" font-family=\"Times,serif\" font-size=\"14.00\" fill=\"#000000\">b</text>\n",
       "</g>\n",
       "<!-- 1&#45;&gt;3 -->\n",
       "<g id=\"edge7\" class=\"edge\">\n",
       "<title>1&#45;&gt;3</title>\n",
       "<path fill=\"none\" stroke=\"#000000\" d=\"M136.75,-83.1999C154.33,-91.0499 186.06,-101.8289 211,-91.5619 230.28,-83.6259 246.52,-65.7539 256.77,-52.1219\"/>\n",
       "<polygon fill=\"#000000\" stroke=\"#000000\" points=\"260.53,-46.9509 259.1851,-53.3915 258.7657,-49.3773 257.0014,-51.8037 257.0014,-51.8037 257.0014,-51.8037 258.7657,-49.3773 254.8176,-50.2158 260.53,-46.9509 260.53,-46.9509\"/>\n",
       "<text text-anchor=\"middle\" x=\"196.5\" y=\"-99.3619\" font-family=\"Times,serif\" font-size=\"14.00\" fill=\"#000000\">c</text>\n",
       "</g>\n",
       "<!-- 2&#45;&gt;1 -->\n",
       "<g id=\"edge8\" class=\"edge\">\n",
       "<title>2&#45;&gt;1</title>\n",
       "<path fill=\"none\" stroke=\"#000000\" d=\"M187.43,-46.2219C181.48,-53.1119 173.12,-61.4609 164,-66.5619 157.9,-69.9719 150.65,-72.2319 143.98,-73.7239\"/>\n",
       "<polygon fill=\"#000000\" stroke=\"#000000\" points=\"138.06,-74.8899 143.4251,-71.0812 141.0035,-74.3101 143.9469,-73.7303 143.9469,-73.7303 143.9469,-73.7303 141.0035,-74.3101 144.4687,-76.3794 138.06,-74.8899 138.06,-74.8899\"/>\n",
       "<text text-anchor=\"middle\" x=\"160\" y=\"-73.3619\" font-family=\"Times,serif\" font-size=\"14.00\" fill=\"#000000\">a</text>\n",
       "</g>\n",
       "<!-- 2&#45;&gt;2 -->\n",
       "<g id=\"edge9\" class=\"edge\">\n",
       "<title>2&#45;&gt;2</title>\n",
       "<path fill=\"none\" stroke=\"#000000\" d=\"M190.48,-47.9159C188.52,-57.5069 190.52,-67.0619 196.5,-67.0619 201.17,-67.0619 203.42,-61.2299 203.24,-54.1049\"/>\n",
       "<polygon fill=\"#000000\" stroke=\"#000000\" points=\"202.52,-47.9159 205.8953,-53.5637 202.8667,-50.8958 203.2134,-53.8757 203.2134,-53.8757 203.2134,-53.8757 202.8667,-50.8958 200.5315,-54.1877 202.52,-47.9159 202.52,-47.9159\"/>\n",
       "<text text-anchor=\"middle\" x=\"196.5\" y=\"-70.8619\" font-family=\"Times,serif\" font-size=\"14.00\" fill=\"#000000\">b</text>\n",
       "</g>\n",
       "<!-- 2&#45;&gt;3 -->\n",
       "<g id=\"edge10\" class=\"edge\">\n",
       "<title>2&#45;&gt;3</title>\n",
       "<path fill=\"none\" stroke=\"#000000\" d=\"M211.07,-34.5619C221.61,-34.5619 236,-34.5619 247.74,-34.5619\"/>\n",
       "<polygon fill=\"#000000\" stroke=\"#000000\" points=\"253.95,-34.5619 247.95,-37.262 250.95,-34.5619 247.95,-34.562 247.95,-34.562 247.95,-34.562 250.95,-34.5619 247.95,-31.862 253.95,-34.5619 253.95,-34.5619\"/>\n",
       "<text text-anchor=\"middle\" x=\"232.5\" y=\"-38.3619\" font-family=\"Times,serif\" font-size=\"14.00\" fill=\"#000000\">c</text>\n",
       "</g>\n",
       "<!-- 3&#45;&gt;F3 -->\n",
       "<g id=\"edge11\" class=\"edge\">\n",
       "<title>3&#45;&gt;F3</title>\n",
       "<path fill=\"none\" stroke=\"#000000\" d=\"M283.1201,-34.5619C293.2606,-34.5619 306.2527,-34.5619 313.7999,-34.5619\"/>\n",
       "<polygon fill=\"#000000\" stroke=\"#000000\" points=\"319.9374,-34.5619 313.9375,-37.262 316.9374,-34.5619 313.9374,-34.562 313.9374,-34.562 313.9374,-34.562 316.9374,-34.5619 313.9374,-31.862 319.9374,-34.5619 319.9374,-34.5619\"/>\n",
       "</g>\n",
       "</g>\n",
       "</svg>\n"
      ],
      "text/plain": [
       "mutable_automaton<context<letterset<char_letters>, b>>"
      ]
     },
     "execution_count": 5,
     "metadata": {},
     "output_type": "execute_result"
    }
   ],
   "source": [
    "import vcsn\n",
    "vcsn.automaton(filename='abc.gv')"
   ]
  },
  {
   "cell_type": "markdown",
   "metadata": {},
   "source": [
    "To generate a Thompson automaton, make it proper, determinize it and extract a rational expression from it:"
   ]
  },
  {
   "cell_type": "code",
   "execution_count": 6,
   "metadata": {},
   "outputs": [
    {
     "name": "stdout",
     "output_type": "stream",
     "text": [
      "c+aa*c+(b+aa*b)(b+aa*b)*(c+aa*c)\r\n"
     ]
    }
   ],
   "source": [
    "!vcsn thompson -Ee '[ab]*c' | vcsn proper | vcsn determinize | vcsn to-expression"
   ]
  },
  {
   "cell_type": "markdown",
   "metadata": {},
   "source": [
    "Likewise, but with an additional minimization step:"
   ]
  },
  {
   "cell_type": "code",
   "execution_count": 7,
   "metadata": {},
   "outputs": [
    {
     "name": "stdout",
     "output_type": "stream",
     "text": [
      "(a+b)*c\r\n"
     ]
    }
   ],
   "source": [
    "!vcsn thompson -Ee '[ab]*c' | vcsn proper | vcsn determinize | vcsn minimize | vcsn to-expression"
   ]
  },
  {
   "cell_type": "markdown",
   "metadata": {},
   "source": [
    "The Python equivalent of these runs are:"
   ]
  },
  {
   "cell_type": "code",
   "execution_count": 8,
   "metadata": {},
   "outputs": [
    {
     "data": {
      "text/latex": [
       "$c + a \\, {a}^{*} \\, c + \\left(b + a \\, {a}^{*} \\, b\\right) \\, \\left(b + a \\, {a}^{*} \\, b\\right)^{*} \\, \\left(c + a \\, {a}^{*} \\, c\\right)$"
      ],
      "text/plain": [
       "c+aa*c+(b+aa*b)(b+aa*b)*(c+aa*c)"
      ]
     },
     "execution_count": 8,
     "metadata": {},
     "output_type": "execute_result"
    }
   ],
   "source": [
    "vcsn.B.expression('[ab]*c').thompson().proper().determinize().expression()"
   ]
  },
  {
   "cell_type": "code",
   "execution_count": 9,
   "metadata": {},
   "outputs": [
    {
     "data": {
      "text/latex": [
       "$\\left(a + b\\right)^{*} \\, c$"
      ],
      "text/plain": [
       "(a+b)*c"
      ]
     },
     "execution_count": 9,
     "metadata": {},
     "output_type": "execute_result"
    }
   ],
   "source": [
    "vcsn.B.expression('[ab]*c').thompson().proper().determinize().minimize().expression()"
   ]
  }
 ],
 "metadata": {
  "kernelspec": {
   "display_name": "Python 3",
   "language": "python",
   "name": "python3"
  },
  "language_info": {
   "codemirror_mode": {
    "name": "ipython",
    "version": 3
   },
   "file_extension": ".py",
   "mimetype": "text/x-python",
   "name": "python",
   "nbconvert_exporter": "python",
   "pygments_lexer": "ipython3",
   "version": "3.5.3"
  }
 },
 "nbformat": 4,
 "nbformat_minor": 1
}
