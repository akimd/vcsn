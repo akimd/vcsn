{
 "cells": [
  {
   "cell_type": "markdown",
   "metadata": {},
   "source": [
    "# Tools\n",
    "Vcsn comes with a set of programs that you use to manipulate automata, expressions, etc.\n",
    "\n",
    "It is much less powerful than writing Python programs, however it comes handy occasionally to process a batch of files, or for a quick experiment.\n",
    "\n",
    "## Synopsis\n",
    "\n",
    "    vcsn COMMAND [OPTION...] ARG...\n",
    "    \n",
    "Run `vcsn tools --help` for details on the interface:"
   ]
  },
  {
   "cell_type": "code",
   "execution_count": 1,
   "metadata": {
    "collapsed": false
   },
   "outputs": [
    {
     "name": "stdout",
     "output_type": "stream",
     "text": [
      "usage: vcsn COMMAND [OPTIONS...] [ARGS...]\r\n",
      "\r\n",
      "General Options:\r\n",
      "  -h, --help      display this help message and exit successfully\r\n",
      "  -c, --commands  display the supported commands and exit successfully\r\n",
      "\r\n",
      "Available COMMANDs:\r\n",
      "  accessible add ambiguous-word are-equivalent are-isomorphic cat\r\n",
      "  cerny coaccessible codeterminize cominimize complement complete\r\n",
      "  component compose concatenate condense conjugate conjunction\r\n",
      "  constant-term context-of copy costandard cotrie de-bruijn\r\n",
      "  delay-automaton derivation derived-term determinize difference\r\n",
      "  divkbaseb eliminate-state evaluate expand expression-one\r\n",
      "  expression-zero factor focus get-format has-bounded-lag\r\n",
      "  has-lightening-cycle has-twins-property identities-of inductive\r\n",
      "  infiltrate insplit is-accessible is-ambiguous is-coaccessible\r\n",
      "  is-codeterministic is-complete is-costandard is-cycle-ambiguous\r\n",
      "  is-deterministic is-empty is-eps-acyclic is-functional is-letterized\r\n",
      "  is-normalized is-out-sorted is-partial-identity is-proper\r\n",
      "  is-realtime is-standard is-synchronized is-synchronized-by\r\n",
      "  is-synchronizing is-trim is-useless is-valid join ladybird ldivide\r\n",
      "  less-than letterize levenshtein lgcd lift lightest\r\n",
      "  lightest-automaton lweight make-context make-word-context minimize\r\n",
      "  multiply normalize num-components num-tapes pair partial-identity\r\n",
      "  prefix project proper push-weights quotkbaseb random-automaton\r\n",
      "  random-automaton-deterministic random-expression random-weight\r\n",
      "  rdivide realtime reduce rweight scc set-format shortest shuffle sort\r\n",
      "  split standard star star-height star-normal-form strip subword\r\n",
      "  suffix synchronize synchronizing-word thompson to-automaton\r\n",
      "  to-expansion to-expression transpose transposition trie trim tuple\r\n",
      "  type u universal weight-one weight-series weight-zero zpc\r\n",
      "\r\n",
      "Input/Output:\r\n",
      "  -C CONTEXT    the context to use\r\n",
      "                'lal, b', 'law, q', 'lan(abc), zmin', etc.\r\n",
      "  -A            input is an automaton\r\n",
      "  -B            input is a boolean\r\n",
      "  -D            input is an identity\r\n",
      "  -E            input is a rational expression\r\n",
      "  -F            input is a float\r\n",
      "  -L            input is a label (or a word)\r\n",
      "  -N            input is a number\r\n",
      "  -P            input is a polynomial\r\n",
      "  -S            input is a string\r\n",
      "  -W            input is a weight\r\n",
      "  -e STRING     input is STRING\r\n",
      "  -f FILE       input is FILE\r\n",
      "  -I FORMAT     input format (daut, dot, efsm, fado, text)\r\n",
      "  -O FORMAT     output format\r\n",
      "                (daut, dot, efsm, grail, info, list, null, text, tikz, utf8)\r\n",
      "  -o FILE       save output into FILE\r\n",
      "  -q            discard any output\r\n",
      "\r\n",
      "Input/Output Formats (for Automata, Expressions, Labels, Polynomials, Weights):\r\n",
      "  daut   A      Simplified Dot syntax for Automata\r\n",
      "  dot    A      GraphViz's Dot language\r\n",
      "  efsm   A      Extended FSM format for OpenFST: use efstcompile\r\n",
      "  fado   A      FAdo's format\r\n",
      "  grail  A      Grail's format\r\n",
      "  info   AE     facts about the result (size, etc.)\r\n",
      "  latex   ELPW  display as a LaTeX formula\r\n",
      "  list      P   display one monomial per line\r\n",
      "  null   AELPW  no output at all (e.g., for benchmarks)\r\n",
      "  text    ELPW  usual concrete syntax in ASCII\r\n",
      "  tikz   A      LaTeX source for TikZ\r\n",
      "  utf8    ELPW  usual concrete syntax in UTF-8\r\n",
      "\r\n",
      "Examples:\r\n",
      "  $ vcsn thompson -Ee '[ab]*a[ab]{3}' |\r\n",
      "      vcsn proper |\r\n",
      "      vcsn determinize |\r\n",
      "      vcsn evaluate -L 'abba'\r\n",
      "\r\n",
      "  $ vcsn thompson -Ee '[ab]*a[ab]{3}' |\r\n",
      "      vcsn proper -f - |\r\n",
      "      vcsn determinize -f - |\r\n",
      "      vcsn evaluate -f - -L 'abba'\r\n",
      "\r\n",
      "  $ vcsn derived-term -C 'lat<lan, lan>, q' -Ee 'a*|b*' |\r\n",
      "      vcsn shortest 10\r\n"
     ]
    }
   ],
   "source": [
    "!vcsn tools --help"
   ]
  },
  {
   "cell_type": "markdown",
   "metadata": {},
   "source": [
    "You can also run `vcsn tools COMMAND -h` to get information about a particular command."
   ]
  },
  {
   "cell_type": "code",
   "execution_count": 2,
   "metadata": {
    "collapsed": false
   },
   "outputs": [
    {
     "name": "stdout",
     "output_type": "stream",
     "text": [
      "usage: vcsn evaluate [OPTIONS...] [ARGS...]\r\n",
      "\r\n",
      "Available versions:\r\n",
      "  AUT:automaton L:word -> weight\r\n",
      "    Evaluate L on AUT.\r\n",
      "\r\n",
      "  AUT:automaton P:polynomial -> weight\r\n",
      "    Evaluate P on AUT.\r\n",
      "\r\n",
      "For more help about available options, please use \"vcsn tools --help\"\r\n"
     ]
    }
   ],
   "source": [
    "!vcsn tools evaluate -h"
   ]
  },
  {
   "cell_type": "code",
   "execution_count": 3,
   "metadata": {
    "collapsed": false
   },
   "outputs": [
    {
     "name": "stdout",
     "output_type": "stream",
     "text": [
      "usage: vcsn multiply [OPTIONS...] [ARGS...]\r\n",
      "\r\n",
      "Available versions:\r\n",
      "  AUT:automaton MIN:number [MAX=-2:number] [ALGO=\"auto\":string] -> automaton\r\n",
      "    Repeated multiplication (concatenation) of an automaton with itself.\r\n",
      "    Parameters:\r\n",
      "      AUT  the automaton.\r\n",
      "      MIN  the minimum number.  If -1, denotes 0.\r\n",
      "      MAX  the maximum number.\r\n",
      "           If -1, denotes infinity, using star.\r\n",
      "           If -2, denotes the same value as min.\r\n",
      "      ALGO  how to compute the result\r\n",
      "        - \"standard\"    AUT is standard,\r\n",
      "                        build a standard automaton.\r\n",
      "        - \"general\"     no requirement on AUT,\r\n",
      "                        but add spontaneous transitions.\r\n",
      "        - \"auto\"        \"standard\" if AUT is standard,\r\n",
      "                        \"general\" otherwise.\r\n",
      "\r\n",
      "  E:expression MIN:number [MAX=-2:number] -> expression\r\n",
      "    Repeated multiplication (concatenation) of an expression with itself.\r\n",
      "    Parameters:\r\n",
      "      E    the expression.\r\n",
      "      MIN  the minimum number.  If -1, denotes 0.\r\n",
      "      MAX  the maximum number.\r\n",
      "           If -1, denotes infinity, using star.\r\n",
      "           If -2, denotes the same value as min.\r\n",
      "\r\n",
      "  E:weight MIN:number [MAX=-2:number] -> weight\r\n",
      "    Repeated multiplication of a weight with itself.\r\n",
      "    Parameters:\r\n",
      "      E    the weight.\r\n",
      "      MIN  the minimum number.  If -1, denotes 0.\r\n",
      "      MAX  the maximum number.\r\n",
      "           If -1, denotes infinity, using star.\r\n",
      "           If -2, denotes the same value as min.\r\n",
      "\r\n",
      "  L:label NUM:number -> label\r\n",
      "    Repeated multiplication of a label with itself.\r\n",
      "    Parameters:\r\n",
      "      L    the label.\r\n",
      "      NUM  the exponent.\r\n",
      "\r\n",
      "  LHS:automaton RHS:automaton [ALGO=\"auto\":string] -> automaton\r\n",
      "    Multiply (concatenate) two automata.\r\n",
      "    Parameters:\r\n",
      "      LHS   an automaton.\r\n",
      "      RHS   another one.\r\n",
      "      ALGO  how to compute the result\r\n",
      "        - \"standard\"    both LHS and RHS are standard,\r\n",
      "                        build a standard automaton.\r\n",
      "        - \"general\"     no requirement on LHS and and RHS,\r\n",
      "                        but add spontaneous transitions.\r\n",
      "        - \"auto\"        \"standard\" if both automata are standard,\r\n",
      "                        \"general\" otherwise.\r\n",
      "\r\n",
      "  LHS:expression RHS:expression -> expression\r\n",
      "    Multiply (concatenate) two expressions.\r\n",
      "\r\n",
      "  LHS:label RHS:label -> label\r\n",
      "    Multiply (concatenate) two labels.\r\n",
      "\r\n",
      "  LHS:polynomial RHS:polynomial -> polynomial\r\n",
      "    Multiply two polynomials.\r\n",
      "\r\n",
      "  LHS:weight RHS:weight -> weight\r\n",
      "    Multiply two weights.\r\n",
      "\r\n",
      "For more help about available options, please use \"vcsn tools --help\"\r\n"
     ]
    }
   ],
   "source": [
    "!vcsn tools multiply -h"
   ]
  },
  {
   "cell_type": "markdown",
   "metadata": {},
   "source": [
    "## Examples\n",
    "To generate the standard automaton of `[ab]*c` and save it in `abc.gv`:"
   ]
  },
  {
   "cell_type": "code",
   "execution_count": 4,
   "metadata": {
    "collapsed": true
   },
   "outputs": [],
   "source": [
    "!vcsn standard -Ee '[ab]*c' -o abc.gv"
   ]
  },
  {
   "cell_type": "code",
   "execution_count": 5,
   "metadata": {
    "collapsed": false
   },
   "outputs": [
    {
     "data": {
      "image/svg+xml": [
       "<?xml version=\"1.0\" encoding=\"UTF-8\" standalone=\"no\"?>\n",
       "<!DOCTYPE svg PUBLIC \"-//W3C//DTD SVG 1.1//EN\"\n",
       " \"http://www.w3.org/Graphics/SVG/1.1/DTD/svg11.dtd\">\n",
       "<!-- Generated by graphviz version 2.38.0 (20140413.2041)\n",
       " -->\n",
       "<!-- Title: %3 Pages: 1 -->\n",
       "<svg width=\"328pt\" height=\"132pt\"\n",
       " viewBox=\"0.00 0.00 328.00 132.27\" xmlns=\"http://www.w3.org/2000/svg\" xmlns:xlink=\"http://www.w3.org/1999/xlink\">\n",
       "<g id=\"graph0\" class=\"graph\" transform=\"scale(1 1) rotate(0) translate(4 125)\">\n",
       "<title>%3</title>\n",
       "<polygon fill=\"white\" stroke=\"none\" points=\"-4,7.27 -4,-125 324,-125 324,7.27 -4,7.27\"/>\n",
       "<!-- I0 -->\n",
       "<g id=\"node1\" class=\"node\"><title>I0</title>\n",
       "<ellipse fill=\"black\" stroke=\"black\" cx=\"0\" cy=\"-14.5\" rx=\"0\" ry=\"0\"/>\n",
       "</g>\n",
       "<!-- 0 -->\n",
       "<g id=\"node3\" class=\"node\"><title>0</title>\n",
       "<ellipse fill=\"#98f5ff\" stroke=\"black\" cx=\"51.5\" cy=\"-14.5\" rx=\"14.5\" ry=\"14.5\"/>\n",
       "<text text-anchor=\"middle\" x=\"51.5\" y=\"-11.4\" font-family=\"Times,serif\" font-size=\"12.00\">0</text>\n",
       "</g>\n",
       "<!-- I0&#45;&gt;0 -->\n",
       "<g id=\"edge1\" class=\"edge\"><title>I0&#45;&gt;0</title>\n",
       "<path fill=\"none\" stroke=\"black\" d=\"M1.142,-14.5C2.7502,-14.5 17.72,-14.5 30.756,-14.5\"/>\n",
       "<polygon fill=\"black\" stroke=\"black\" points=\"36.933,-14.5 30.933,-17.2001 33.933,-14.5 30.933,-14.5001 30.933,-14.5001 30.933,-14.5001 33.933,-14.5 30.933,-11.8001 36.933,-14.5 36.933,-14.5\"/>\n",
       "</g>\n",
       "<!-- F3 -->\n",
       "<g id=\"node2\" class=\"node\"><title>F3</title>\n",
       "<ellipse fill=\"black\" stroke=\"black\" cx=\"320\" cy=\"-31.5\" rx=\"0\" ry=\"0\"/>\n",
       "</g>\n",
       "<!-- 1 -->\n",
       "<g id=\"node4\" class=\"node\"><title>1</title>\n",
       "<ellipse fill=\"#98f5ff\" stroke=\"black\" cx=\"123.5\" cy=\"-73.5\" rx=\"14.5\" ry=\"14.5\"/>\n",
       "<text text-anchor=\"middle\" x=\"123.5\" y=\"-70.4\" font-family=\"Times,serif\" font-size=\"12.00\">1</text>\n",
       "</g>\n",
       "<!-- 0&#45;&gt;1 -->\n",
       "<g id=\"edge2\" class=\"edge\"><title>0&#45;&gt;1</title>\n",
       "<path fill=\"none\" stroke=\"black\" d=\"M63.131,-23.461C74.849,-33.337 93.802,-49.311 107.13,-60.549\"/>\n",
       "<polygon fill=\"black\" stroke=\"black\" points=\"111.77,-64.455 105.441,-62.6565 109.475,-62.523 107.18,-60.5909 107.18,-60.5909 107.18,-60.5909 109.475,-62.523 108.919,-58.5254 111.77,-64.455 111.77,-64.455\"/>\n",
       "<text text-anchor=\"middle\" x=\"87.5\" y=\"-50.3\" font-family=\"Times,serif\" font-size=\"14.00\">a</text>\n",
       "</g>\n",
       "<!-- 2 -->\n",
       "<g id=\"node5\" class=\"node\"><title>2</title>\n",
       "<ellipse fill=\"#98f5ff\" stroke=\"black\" cx=\"196.5\" cy=\"-31.5\" rx=\"14.5\" ry=\"14.5\"/>\n",
       "<text text-anchor=\"middle\" x=\"196.5\" y=\"-28.4\" font-family=\"Times,serif\" font-size=\"12.00\">2</text>\n",
       "</g>\n",
       "<!-- 0&#45;&gt;2 -->\n",
       "<g id=\"edge3\" class=\"edge\"><title>0&#45;&gt;2</title>\n",
       "<path fill=\"none\" stroke=\"black\" d=\"M65.953,-16.099C91.291,-19.112 146.19,-25.638 175.73,-29.15\"/>\n",
       "<polygon fill=\"black\" stroke=\"black\" points=\"181.98,-29.893 175.703,-31.8657 179.001,-29.5388 176.022,-29.1846 176.022,-29.1846 176.022,-29.1846 179.001,-29.5388 176.341,-26.5035 181.98,-29.893 181.98,-29.893\"/>\n",
       "<text text-anchor=\"middle\" x=\"123.5\" y=\"-28.3\" font-family=\"Times,serif\" font-size=\"14.00\">b</text>\n",
       "</g>\n",
       "<!-- 3 -->\n",
       "<g id=\"node6\" class=\"node\"><title>3</title>\n",
       "<ellipse fill=\"#98f5ff\" stroke=\"black\" cx=\"268.5\" cy=\"-31.5\" rx=\"14.5\" ry=\"14.5\"/>\n",
       "<text text-anchor=\"middle\" x=\"268.5\" y=\"-28.4\" font-family=\"Times,serif\" font-size=\"12.00\">3</text>\n",
       "</g>\n",
       "<!-- 0&#45;&gt;3 -->\n",
       "<g id=\"edge4\" class=\"edge\"><title>0&#45;&gt;3</title>\n",
       "<path fill=\"none\" stroke=\"black\" d=\"M65.821,-11.752C93.293,-6.5548 158.1,3.27 211,-7.5 224.57,-10.263 238.92,-16.404 249.76,-21.782\"/>\n",
       "<polygon fill=\"black\" stroke=\"black\" points=\"255.4,-24.665 248.829,-24.3382 252.729,-23.2995 250.058,-21.934 250.058,-21.934 250.058,-21.934 252.729,-23.2995 251.286,-19.5299 255.4,-24.665 255.4,-24.665\"/>\n",
       "<text text-anchor=\"middle\" x=\"160\" y=\"-7.3\" font-family=\"Times,serif\" font-size=\"14.00\">c</text>\n",
       "</g>\n",
       "<!-- 1&#45;&gt;1 -->\n",
       "<g id=\"edge5\" class=\"edge\"><title>1&#45;&gt;1</title>\n",
       "<path fill=\"none\" stroke=\"black\" d=\"M117.48,-86.854C115.52,-96.445 117.52,-106 123.5,-106 128.17,-106 130.42,-100.17 130.24,-93.043\"/>\n",
       "<polygon fill=\"black\" stroke=\"black\" points=\"129.52,-86.854 132.895,-92.5018 129.867,-89.8339 130.213,-92.8138 130.213,-92.8138 130.213,-92.8138 129.867,-89.8339 127.532,-93.1258 129.52,-86.854 129.52,-86.854\"/>\n",
       "<text text-anchor=\"middle\" x=\"123.5\" y=\"-109.8\" font-family=\"Times,serif\" font-size=\"14.00\">a</text>\n",
       "</g>\n",
       "<!-- 1&#45;&gt;2 -->\n",
       "<g id=\"edge6\" class=\"edge\"><title>1&#45;&gt;2</title>\n",
       "<path fill=\"none\" stroke=\"black\" d=\"M134.78,-64.198C140.7,-59.139 148.45,-53.013 156,-48.5 162.48,-44.63 170,-41.166 176.72,-38.39\"/>\n",
       "<polygon fill=\"black\" stroke=\"black\" points=\"182.63,-36.044 178.049,-40.7673 179.842,-37.1509 177.053,-38.2578 177.053,-38.2578 177.053,-38.2578 179.842,-37.1509 176.057,-35.7482 182.63,-36.044 182.63,-36.044\"/>\n",
       "<text text-anchor=\"middle\" x=\"160\" y=\"-52.3\" font-family=\"Times,serif\" font-size=\"14.00\">b</text>\n",
       "</g>\n",
       "<!-- 1&#45;&gt;3 -->\n",
       "<g id=\"edge7\" class=\"edge\"><title>1&#45;&gt;3</title>\n",
       "<path fill=\"none\" stroke=\"black\" d=\"M136.72,-79.478C153.92,-87.012 185.96,-97.807 211,-87.5 229.94,-79.704 245.9,-62.145 255.97,-48.752\"/>\n",
       "<polygon fill=\"black\" stroke=\"black\" points=\"259.67,-43.672 258.32,-50.1116 257.904,-46.097 256.138,-48.522 256.138,-48.522 256.138,-48.522 257.904,-46.097 253.955,-46.9323 259.67,-43.672 259.67,-43.672\"/>\n",
       "<text text-anchor=\"middle\" x=\"196.5\" y=\"-96.3\" font-family=\"Times,serif\" font-size=\"14.00\">c</text>\n",
       "</g>\n",
       "<!-- 2&#45;&gt;1 -->\n",
       "<g id=\"edge8\" class=\"edge\"><title>2&#45;&gt;1</title>\n",
       "<path fill=\"none\" stroke=\"black\" d=\"M187.03,-42.836C181.27,-49.78 173.06,-58.304 164,-63.5 157.89,-67.002 150.56,-69.293 143.88,-70.784\"/>\n",
       "<polygon fill=\"black\" stroke=\"black\" points=\"137.99,-71.942 143.356,-68.1352 140.934,-71.3632 143.877,-70.7845 143.877,-70.7845 143.877,-70.7845 140.934,-71.3632 144.398,-73.4337 137.99,-71.942 137.99,-71.942\"/>\n",
       "<text text-anchor=\"middle\" x=\"160\" y=\"-71.3\" font-family=\"Times,serif\" font-size=\"14.00\">a</text>\n",
       "</g>\n",
       "<!-- 2&#45;&gt;2 -->\n",
       "<g id=\"edge9\" class=\"edge\"><title>2&#45;&gt;2</title>\n",
       "<path fill=\"none\" stroke=\"black\" d=\"M190.48,-44.854C188.52,-54.445 190.52,-64 196.5,-64 201.17,-64 203.42,-58.168 203.24,-51.043\"/>\n",
       "<polygon fill=\"black\" stroke=\"black\" points=\"202.52,-44.854 205.895,-50.5018 202.867,-47.8339 203.213,-50.8138 203.213,-50.8138 203.213,-50.8138 202.867,-47.8339 200.532,-51.1258 202.52,-44.854 202.52,-44.854\"/>\n",
       "<text text-anchor=\"middle\" x=\"196.5\" y=\"-67.8\" font-family=\"Times,serif\" font-size=\"14.00\">b</text>\n",
       "</g>\n",
       "<!-- 2&#45;&gt;3 -->\n",
       "<g id=\"edge10\" class=\"edge\"><title>2&#45;&gt;3</title>\n",
       "<path fill=\"none\" stroke=\"black\" d=\"M211.33,-31.5C221.68,-31.5 236,-31.5 247.59,-31.5\"/>\n",
       "<polygon fill=\"black\" stroke=\"black\" points=\"253.7,-31.5 247.7,-34.2001 250.7,-31.5 247.7,-31.5001 247.7,-31.5001 247.7,-31.5001 250.7,-31.5 247.7,-28.8001 253.7,-31.5 253.7,-31.5\"/>\n",
       "<text text-anchor=\"middle\" x=\"232.5\" y=\"-35.3\" font-family=\"Times,serif\" font-size=\"14.00\">c</text>\n",
       "</g>\n",
       "<!-- 3&#45;&gt;F3 -->\n",
       "<g id=\"edge11\" class=\"edge\"><title>3&#45;&gt;F3</title>\n",
       "<path fill=\"none\" stroke=\"black\" d=\"M283.12,-31.5C293.261,-31.5 306.253,-31.5 313.8,-31.5\"/>\n",
       "<polygon fill=\"black\" stroke=\"black\" points=\"319.937,-31.5 313.937,-34.2001 316.937,-31.5 313.937,-31.5001 313.937,-31.5001 313.937,-31.5001 316.937,-31.5 313.937,-28.8001 319.937,-31.5 319.937,-31.5\"/>\n",
       "</g>\n",
       "</g>\n",
       "</svg>\n"
      ],
      "text/plain": [
       "mutable_automaton<context<letterset<char_letters>, b>>"
      ]
     },
     "execution_count": 5,
     "metadata": {},
     "output_type": "execute_result"
    }
   ],
   "source": [
    "import vcsn\n",
    "vcsn.automaton(filename='abc.gv')"
   ]
  },
  {
   "cell_type": "markdown",
   "metadata": {},
   "source": [
    "To generate a Thompson automaton, make it proper, determinize it and extract a rational expression from it:"
   ]
  },
  {
   "cell_type": "code",
   "execution_count": 6,
   "metadata": {
    "collapsed": false
   },
   "outputs": [
    {
     "name": "stdout",
     "output_type": "stream",
     "text": [
      "c+aa*c+(b+aa*b)(b+aa*b)*(c+aa*c)\r\n"
     ]
    }
   ],
   "source": [
    "!vcsn thompson -Ee '[ab]*c' | vcsn proper | vcsn determinize | vcsn to-expression"
   ]
  },
  {
   "cell_type": "markdown",
   "metadata": {},
   "source": [
    "Likewise, but with an additional minimization step:"
   ]
  },
  {
   "cell_type": "code",
   "execution_count": 7,
   "metadata": {
    "collapsed": false
   },
   "outputs": [
    {
     "name": "stdout",
     "output_type": "stream",
     "text": [
      "(a+b)*c\r\n"
     ]
    }
   ],
   "source": [
    "!vcsn thompson -Ee '[ab]*c' | vcsn proper | vcsn determinize | vcsn minimize | vcsn to-expression"
   ]
  },
  {
   "cell_type": "markdown",
   "metadata": {},
   "source": [
    "The Python equivalent of these last runs are:"
   ]
  },
  {
   "cell_type": "code",
   "execution_count": 8,
   "metadata": {
    "collapsed": false
   },
   "outputs": [
    {
     "data": {
      "text/latex": [
       "$c + a \\, {a}^{*} \\, c + \\left(b + a \\, {a}^{*} \\, b\\right) \\, \\left(b + a \\, {a}^{*} \\, b\\right)^{*} \\, \\left(c + a \\, {a}^{*} \\, c\\right)$"
      ],
      "text/plain": [
       "c+aa*c+(b+aa*b)(b+aa*b)*(c+aa*c)"
      ]
     },
     "execution_count": 8,
     "metadata": {},
     "output_type": "execute_result"
    }
   ],
   "source": [
    "vcsn.B.expression('[ab]*c').thompson().proper().determinize().expression()"
   ]
  },
  {
   "cell_type": "code",
   "execution_count": 9,
   "metadata": {
    "collapsed": false
   },
   "outputs": [
    {
     "data": {
      "text/latex": [
       "$\\left(a + b\\right)^{*} \\, c$"
      ],
      "text/plain": [
       "(a+b)*c"
      ]
     },
     "execution_count": 9,
     "metadata": {},
     "output_type": "execute_result"
    }
   ],
   "source": [
    "vcsn.B.expression('[ab]*c').thompson().proper().determinize().minimize().expression()"
   ]
  }
 ],
 "metadata": {
  "kernelspec": {
   "display_name": "Python 3",
   "language": "python",
   "name": "python3"
  },
  "language_info": {
   "codemirror_mode": {
    "name": "ipython",
    "version": 3
   },
   "file_extension": ".py",
   "mimetype": "text/x-python",
   "name": "python",
   "nbconvert_exporter": "python",
   "pygments_lexer": "ipython3",
   "version": "3.5.2"
  }
 },
 "nbformat": 4,
 "nbformat_minor": 0
}
