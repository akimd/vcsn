{
 "cells": [
  {
   "cell_type": "markdown",
   "metadata": {},
   "source": [
    "# Multitape Rational Expressions\n",
    "\n",
    "*This is still an early draft.  This page will be updated during May 2017.*\n",
    "\n",
    "This page is a complement to the paper [Derived-Term Automata of Multitape Rational Expressions](https://www.lrde.epita.fr/wiki/Publications/demaille.17.sacs).  This page exists in several forms:\n",
    "- [A Dynamic Notebook](http://vcsn-sandbox.lrde.epita.fr/notebooks/Doc/SACS-2017.ipynb), which can be edited, played with\n",
    "- [A static HTML page](http://www.lrde.epita.fr/dload/vcsn/latest/notebooks/SACS-2017.html), whose graphical rendering is always correct.\n",
    "\n",
    "More information is available here:\n",
    "- [Documentation for _expression_.expansion](http://vcsn-sandbox.lrde.epita.fr/notebooks/Doc/expression.expansion.ipynb)\n",
    "- [Documentation for _expression_.derived_term](http://vcsn-sandbox.lrde.epita.fr/notebooks/Doc/expression.derived_term.ipynb)\n",
    "- [Documentation of Vcsn](http://vcsn-sandbox.lrde.epita.fr/notebooks/Doc/!Read-me-first.ipynb)\n",
    "- [Vcsn's web page](http://vcsn.lrde.epita.fr)\n",
    "\n",
    "You may change the cells, and run then.  To run a cell in a notebook, hit \"Control-Enter\" (in which case the focus stays on the same cell) or \"Shift-Enter\" (focus goes to the next cell).  Beware that depending on the requested operations, Vcsn may generate and compile code, which may be a really slow process on small machines (about a minute): be patient!  However, the code is compiled only once: successive uses will be way faster.\n",
    "\n",
    "To run all the cells anew, select \"Restart & Run All\" in the \"Kernel\" menu above."
   ]
  },
  {
   "cell_type": "code",
   "execution_count": 1,
   "metadata": {},
   "outputs": [],
   "source": [
    "import vcsn"
   ]
  },
  {
   "cell_type": "markdown",
   "metadata": {},
   "source": [
    "# Example $\\mathsf{E}_1$: A Simple Multitape Expression\n",
    "First we introduce the \"context\" we are interested in: labels are letter-or-empty-word, two tapes, values are rational numbers."
   ]
  },
  {
   "cell_type": "code",
   "execution_count": 2,
   "metadata": {},
   "outputs": [
    {
     "data": {
      "text/latex": [
       "$(\\{a, b, c, d, e\\})^? \\times (\\{x, y\\})^?\\to\\mathbb{Q}$"
      ],
      "text/plain": [
       "{abcde}? x {xy}? -> Q"
      ]
     },
     "execution_count": 2,
     "metadata": {},
     "output_type": "execute_result"
    }
   ],
   "source": [
    "ctx = vcsn.context('lat<lan(abcde), lan(xy)>, q')\n",
    "ctx"
   ]
  },
  {
   "cell_type": "markdown",
   "metadata": {},
   "source": [
    "The expression $\\mathsf{E}_1$ is:"
   ]
  },
  {
   "cell_type": "code",
   "execution_count": 3,
   "metadata": {},
   "outputs": [
    {
     "data": {
      "text/latex": [
       "$ \\left.  \\left\\langle 5 \\right\\rangle \\,\\varepsilon \\middle| \\varepsilon \\right.  +  \\left.  \\left\\langle 4 \\right\\rangle \\,\\left(a \\, d \\, {e}^{*}\\right) \\middle| x \\right.  +  \\left.  \\left\\langle 3 \\right\\rangle \\,\\left(b \\, d \\, {e}^{*}\\right) \\middle| x \\right.  +  \\left.  \\left\\langle 2 \\right\\rangle \\,\\left(a \\, c \\, {e}^{*}\\right) \\middle| x \\, y \\right.  +  \\left.  \\left\\langle 6 \\right\\rangle \\,\\left(b \\, c \\, {e}^{*}\\right) \\middle| x \\, y \\right. $"
      ],
      "text/plain": [
       "<5>\\e|\\e+<4>(ade*)|x+<3>(bde*)|x+<2>(ace*)|xy+<6>(bce*)|xy"
      ]
     },
     "execution_count": 3,
     "metadata": {},
     "output_type": "execute_result"
    }
   ],
   "source": [
    "e1 = ctx.expression('⟨5⟩ε|ε + ⟨4⟩ade*|x + ⟨3⟩bde*|x + ⟨2⟩ace*|xy + ⟨6⟩bce*|xy')\n",
    "e1"
   ]
  },
  {
   "cell_type": "markdown",
   "metadata": {},
   "source": [
    "Its expansion is (contrary to the paper, the empty expression is denoted $\\varepsilon$ instead of $\\mathsf{1}$):"
   ]
  },
  {
   "cell_type": "code",
   "execution_count": 4,
   "metadata": {},
   "outputs": [
    {
     "data": {
      "text/latex": [
       "$\\left\\langle 5\\right\\rangle  \\oplus a|x \\odot \\left[\\left\\langle 2\\right\\rangle  \\left. c \\, {e}^{*} \\middle| y \\right.  \\oplus \\left\\langle 4\\right\\rangle  \\left. d \\, {e}^{*} \\middle| \\varepsilon \\right. \\right] \\oplus b|x \\odot \\left[\\left\\langle 6\\right\\rangle  \\left. c \\, {e}^{*} \\middle| y \\right.  \\oplus \\left\\langle 3\\right\\rangle  \\left. d \\, {e}^{*} \\middle| \\varepsilon \\right. \\right]$"
      ],
      "text/plain": [
       "<5> + a|x.[<2>ce*|y + <4>de*|\\e] + b|x.[<6>ce*|y + <3>de*|\\e]"
      ]
     },
     "execution_count": 4,
     "metadata": {},
     "output_type": "execute_result"
    }
   ],
   "source": [
    "e1.expansion()"
   ]
  },
  {
   "cell_type": "markdown",
   "metadata": {},
   "source": [
    "The derived-term automaton of $\\mathsf{E}_1$, $\\mathcal{A}_{\\mathsf{E}_1}$, is:"
   ]
  },
  {
   "cell_type": "code",
   "execution_count": 5,
   "metadata": {},
   "outputs": [
    {
     "data": {
      "image/svg+xml": [
       "<?xml version=\"1.0\" encoding=\"UTF-8\" standalone=\"no\"?>\n",
       "<!DOCTYPE svg PUBLIC \"-//W3C//DTD SVG 1.1//EN\"\n",
       " \"http://www.w3.org/Graphics/SVG/1.1/DTD/svg11.dtd\">\n",
       "<!-- Generated by graphviz version 2.40.1 (20161225.0304)\n",
       " -->\n",
       "<!-- Title: %3 Pages: 1 -->\n",
       "<svg width=\"623pt\" height=\"107pt\"\n",
       " viewBox=\"0.00 0.00 623.00 107.36\" xmlns=\"http://www.w3.org/2000/svg\" xmlns:xlink=\"http://www.w3.org/1999/xlink\">\n",
       "<g id=\"graph0\" class=\"graph\" transform=\"scale(1 1) rotate(0) translate(4 103.3581)\">\n",
       "<title>%3</title>\n",
       "<polygon fill=\"#ffffff\" stroke=\"transparent\" points=\"-4,4 -4,-103.3581 619,-103.3581 619,4 -4,4\"/>\n",
       "<!-- I0 -->\n",
       "<g id=\"node1\" class=\"node\">\n",
       "<title>I0</title>\n",
       "<ellipse fill=\"#000000\" stroke=\"#000000\" cx=\"0\" cy=\"-58.5\" rx=\"0\" ry=\"0\"/>\n",
       "</g>\n",
       "<!-- 0 -->\n",
       "<g id=\"node4\" class=\"node\">\n",
       "<title>0</title>\n",
       "<path fill=\"#98f5ff\" stroke=\"#000000\" d=\"M326.3333,-73C326.3333,-73 46.6667,-73 46.6667,-73 41.8333,-73 37,-68.1667 37,-63.3333 37,-63.3333 37,-53.6667 37,-53.6667 37,-48.8333 41.8333,-44 46.6667,-44 46.6667,-44 326.3333,-44 326.3333,-44 331.1667,-44 336,-48.8333 336,-53.6667 336,-53.6667 336,-63.3333 336,-63.3333 336,-68.1667 331.1667,-73 326.3333,-73\"/>\n",
       "<text text-anchor=\"middle\" x=\"186.5\" y=\"-55.4\" font-family=\"Times,serif\" font-size=\"12.00\" fill=\"#000000\">⟨5⟩ε|ε+⟨4⟩(ade*)|x+⟨3⟩(bde*)|x+⟨2⟩(ace*)|xy+⟨6⟩(bce*)|xy</text>\n",
       "</g>\n",
       "<!-- I0&#45;&gt;0 -->\n",
       "<g id=\"edge1\" class=\"edge\">\n",
       "<title>I0&#45;&gt;0</title>\n",
       "<path fill=\"none\" stroke=\"#000000\" d=\"M.1352,-58.5C1.5226,-58.5 13.476,-58.5 30.72,-58.5\"/>\n",
       "<polygon fill=\"#000000\" stroke=\"#000000\" points=\"36.763,-58.5 30.763,-61.2001 33.763,-58.5 30.763,-58.5001 30.763,-58.5001 30.763,-58.5001 33.763,-58.5 30.763,-55.8001 36.763,-58.5 36.763,-58.5\"/>\n",
       "</g>\n",
       "<!-- F0 -->\n",
       "<g id=\"node2\" class=\"node\">\n",
       "<title>F0</title>\n",
       "<ellipse fill=\"#000000\" stroke=\"#000000\" cx=\"468\" cy=\"-96.5\" rx=\"0\" ry=\"0\"/>\n",
       "</g>\n",
       "<!-- F3 -->\n",
       "<g id=\"node3\" class=\"node\">\n",
       "<title>F3</title>\n",
       "<ellipse fill=\"#000000\" stroke=\"#000000\" cx=\"615\" cy=\"-37.5\" rx=\"0\" ry=\"0\"/>\n",
       "</g>\n",
       "<!-- 0&#45;&gt;F0 -->\n",
       "<g id=\"edge2\" class=\"edge\">\n",
       "<title>0&#45;&gt;F0</title>\n",
       "<path fill=\"none\" stroke=\"#000000\" d=\"M294.128,-73.0288C361.6598,-82.145 439.9767,-92.7171 461.9807,-95.6874\"/>\n",
       "<polygon fill=\"#000000\" stroke=\"#000000\" points=\"467.9313,-96.4907 461.624,-98.3637 464.9582,-96.0893 461.9852,-95.688 461.9852,-95.688 461.9852,-95.688 464.9582,-96.0893 462.3464,-93.0122 467.9313,-96.4907 467.9313,-96.4907\"/>\n",
       "<text text-anchor=\"middle\" x=\"369.0543\" y=\"-88.1581\" font-family=\"Times,serif\" font-size=\"14.00\" fill=\"#000000\">⟨5⟩</text>\n",
       "</g>\n",
       "<!-- 1 -->\n",
       "<g id=\"node5\" class=\"node\">\n",
       "<title>1</title>\n",
       "<path fill=\"#98f5ff\" stroke=\"#000000\" d=\"M479.3333,-76C479.3333,-76 456.6667,-76 456.6667,-76 451.8333,-76 447,-71.1667 447,-66.3333 447,-66.3333 447,-56.6667 447,-56.6667 447,-51.8333 451.8333,-47 456.6667,-47 456.6667,-47 479.3333,-47 479.3333,-47 484.1667,-47 489,-51.8333 489,-56.6667 489,-56.6667 489,-66.3333 489,-66.3333 489,-71.1667 484.1667,-76 479.3333,-76\"/>\n",
       "<text text-anchor=\"middle\" x=\"468\" y=\"-58.4\" font-family=\"Times,serif\" font-size=\"12.00\" fill=\"#000000\">ce*|y</text>\n",
       "</g>\n",
       "<!-- 0&#45;&gt;1 -->\n",
       "<g id=\"edge3\" class=\"edge\">\n",
       "<title>0&#45;&gt;1</title>\n",
       "<path fill=\"none\" stroke=\"#000000\" d=\"M336.25,-58.014C366.94,-58.224 399.01,-58.67 429,-59.5 432.82,-59.606 436.86,-59.762 440.82,-59.942\"/>\n",
       "<polygon fill=\"#000000\" stroke=\"#000000\" points=\"446.96,-60.239 440.8365,-62.6459 443.9635,-60.094 440.967,-59.949 440.967,-59.949 440.967,-59.949 443.9635,-60.094 441.0975,-57.2522 446.96,-60.239 446.96,-60.239\"/>\n",
       "<text text-anchor=\"middle\" x=\"391.5\" y=\"-63.3\" font-family=\"Times,serif\" font-size=\"14.00\" fill=\"#000000\">⟨2⟩a|x, ⟨6⟩b|x</text>\n",
       "</g>\n",
       "<!-- 2 -->\n",
       "<g id=\"node6\" class=\"node\">\n",
       "<title>2</title>\n",
       "<path fill=\"#98f5ff\" stroke=\"#000000\" d=\"M479.3333,-29C479.3333,-29 456.6667,-29 456.6667,-29 451.8333,-29 447,-24.1667 447,-19.3333 447,-19.3333 447,-9.6667 447,-9.6667 447,-4.8333 451.8333,0 456.6667,0 456.6667,0 479.3333,0 479.3333,0 484.1667,0 489,-4.8333 489,-9.6667 489,-9.6667 489,-19.3333 489,-19.3333 489,-24.1667 484.1667,-29 479.3333,-29\"/>\n",
       "<text text-anchor=\"middle\" x=\"468\" y=\"-11.4\" font-family=\"Times,serif\" font-size=\"12.00\" fill=\"#000000\">de*|ε</text>\n",
       "</g>\n",
       "<!-- 0&#45;&gt;2 -->\n",
       "<g id=\"edge4\" class=\"edge\">\n",
       "<title>0&#45;&gt;2</title>\n",
       "<path fill=\"none\" stroke=\"#000000\" d=\"M279.45,-43.971C335.77,-35.168 403.67,-24.555 440.68,-18.771\"/>\n",
       "<polygon fill=\"#000000\" stroke=\"#000000\" points=\"446.78,-17.817 441.2693,-21.4117 443.816,-18.2806 440.8521,-18.7442 440.8521,-18.7442 440.8521,-18.7442 443.816,-18.2806 440.4348,-16.0766 446.78,-17.817 446.78,-17.817\"/>\n",
       "<text text-anchor=\"middle\" x=\"391.5\" y=\"-35.3\" font-family=\"Times,serif\" font-size=\"14.00\" fill=\"#000000\">⟨4⟩a|x, ⟨3⟩b|x</text>\n",
       "</g>\n",
       "<!-- 3 -->\n",
       "<g id=\"node7\" class=\"node\">\n",
       "<title>3</title>\n",
       "<path fill=\"#98f5ff\" stroke=\"#000000\" d=\"M568.3333,-52C568.3333,-52 551.6667,-52 551.6667,-52 546.8333,-52 542,-47.1667 542,-42.3333 542,-42.3333 542,-32.6667 542,-32.6667 542,-27.8333 546.8333,-23 551.6667,-23 551.6667,-23 568.3333,-23 568.3333,-23 573.1667,-23 578,-27.8333 578,-32.6667 578,-32.6667 578,-42.3333 578,-42.3333 578,-47.1667 573.1667,-52 568.3333,-52\"/>\n",
       "<text text-anchor=\"middle\" x=\"560\" y=\"-34.4\" font-family=\"Times,serif\" font-size=\"12.00\" fill=\"#000000\">e*|ε</text>\n",
       "</g>\n",
       "<!-- 1&#45;&gt;3 -->\n",
       "<g id=\"edge5\" class=\"edge\">\n",
       "<title>1&#45;&gt;3</title>\n",
       "<path fill=\"none\" stroke=\"#000000\" d=\"M489.34,-55.934C503.27,-52.299 521.49,-47.546 535.94,-43.776\"/>\n",
       "<polygon fill=\"#000000\" stroke=\"#000000\" points=\"541.88,-42.227 536.7555,-46.3537 538.9771,-42.984 536.0742,-43.7411 536.0742,-43.7411 536.0742,-43.7411 538.9771,-42.984 535.3928,-41.1285 541.88,-42.227 541.88,-42.227\"/>\n",
       "<text text-anchor=\"middle\" x=\"515.5\" y=\"-55.3\" font-family=\"Times,serif\" font-size=\"14.00\" fill=\"#000000\">c|y</text>\n",
       "</g>\n",
       "<!-- 2&#45;&gt;3 -->\n",
       "<g id=\"edge6\" class=\"edge\">\n",
       "<title>2&#45;&gt;3</title>\n",
       "<path fill=\"none\" stroke=\"#000000\" d=\"M489.03,-15.66C499.66,-16.614 512.67,-18.349 524,-21.5 527.98,-22.608 532.1,-24.086 536.05,-25.696\"/>\n",
       "<polygon fill=\"#000000\" stroke=\"#000000\" points=\"541.7,-28.123 535.1214,-28.2356 538.9435,-26.9389 536.1871,-25.7548 536.1871,-25.7548 536.1871,-25.7548 538.9435,-26.9389 537.2528,-23.274 541.7,-28.123 541.7,-28.123\"/>\n",
       "<text text-anchor=\"middle\" x=\"515.5\" y=\"-25.3\" font-family=\"Times,serif\" font-size=\"14.00\" fill=\"#000000\">d|ε</text>\n",
       "</g>\n",
       "<!-- 3&#45;&gt;F3 -->\n",
       "<g id=\"edge7\" class=\"edge\">\n",
       "<title>3&#45;&gt;F3</title>\n",
       "<path fill=\"none\" stroke=\"#000000\" d=\"M578.0091,-37.5C588.5708,-37.5 601.2613,-37.5 608.6982,-37.5\"/>\n",
       "<polygon fill=\"#000000\" stroke=\"#000000\" points=\"614.9394,-37.5 608.9395,-40.2001 611.9394,-37.5 608.9394,-37.5001 608.9394,-37.5001 608.9394,-37.5001 611.9394,-37.5 608.9394,-34.8001 614.9394,-37.5 614.9394,-37.5\"/>\n",
       "</g>\n",
       "<!-- 3&#45;&gt;3 -->\n",
       "<g id=\"edge8\" class=\"edge\">\n",
       "<title>3&#45;&gt;3</title>\n",
       "<path fill=\"none\" stroke=\"#000000\" d=\"M553.73,-52.206C552.21,-61.324 554.3,-70 560,-70 564.36,-70 566.61,-64.914 566.74,-58.438\"/>\n",
       "<polygon fill=\"#000000\" stroke=\"#000000\" points=\"566.27,-52.206 569.4137,-57.9859 566.4957,-55.1975 566.7213,-58.189 566.7213,-58.189 566.7213,-58.189 566.4957,-55.1975 564.029,-58.3921 566.27,-52.206 566.27,-52.206\"/>\n",
       "<text text-anchor=\"middle\" x=\"560\" y=\"-73.8\" font-family=\"Times,serif\" font-size=\"14.00\" fill=\"#000000\">e|ε</text>\n",
       "</g>\n",
       "</g>\n",
       "</svg>\n"
      ],
      "text/plain": [
       "expression_automaton<mutable_automaton<context<lat<nullableset<letterset<char_letters>>, nullableset<letterset<char_letters>>>, q>>>"
      ]
     },
     "execution_count": 5,
     "metadata": {},
     "output_type": "execute_result"
    }
   ],
   "source": [
    "a1 = e1.derived_term()\n",
    "a1"
   ]
  },
  {
   "cell_type": "markdown",
   "metadata": {},
   "source": [
    "The 10 shortest \"multitape words\" it accepts are:"
   ]
  },
  {
   "cell_type": "code",
   "execution_count": 6,
   "metadata": {},
   "outputs": [
    {
     "data": {
      "text/latex": [
       "$\\left\\langle 5\\right\\rangle \\varepsilon|\\varepsilon \\oplus \\left\\langle 2\\right\\rangle \\mathit{ac}|\\mathit{xy} \\oplus \\left\\langle 4\\right\\rangle \\mathit{ad}|\\mathit{x} \\oplus \\left\\langle 6\\right\\rangle \\mathit{bc}|\\mathit{xy} \\oplus \\left\\langle 3\\right\\rangle \\mathit{bd}|\\mathit{x} \\oplus \\left\\langle 2\\right\\rangle \\mathit{ace}|\\mathit{xy} \\oplus \\left\\langle 4\\right\\rangle \\mathit{ade}|\\mathit{x} \\oplus \\left\\langle 6\\right\\rangle \\mathit{bce}|\\mathit{xy} \\oplus \\left\\langle 3\\right\\rangle \\mathit{bde}|\\mathit{x} \\oplus \\left\\langle 2\\right\\rangle \\mathit{acee}|\\mathit{xy}$"
      ],
      "text/plain": [
       "<5>\\e|\\e + <2>ac|xy + <4>ad|x + <6>bc|xy + <3>bd|x + <2>ace|xy + <4>ade|x + <6>bce|xy + <3>bde|x + <2>acee|xy"
      ]
     },
     "execution_count": 6,
     "metadata": {},
     "output_type": "execute_result"
    }
   ],
   "source": [
    "a1.shortest(10)"
   ]
  },
  {
   "cell_type": "markdown",
   "metadata": {},
   "source": [
    "# Example $\\mathcal{A}_3$: An Exponential Number of States\n",
    "We introduce a three-tape context.  The graphical rendering is less satisfying."
   ]
  },
  {
   "cell_type": "code",
   "execution_count": 7,
   "metadata": {},
   "outputs": [
    {
     "data": {
      "image/svg+xml": [
       "<?xml version=\"1.0\" encoding=\"UTF-8\" standalone=\"no\"?>\n",
       "<!DOCTYPE svg PUBLIC \"-//W3C//DTD SVG 1.1//EN\"\n",
       " \"http://www.w3.org/Graphics/SVG/1.1/DTD/svg11.dtd\">\n",
       "<!-- Generated by graphviz version 2.40.1 (20161225.0304)\n",
       " -->\n",
       "<!-- Title: %3 Pages: 1 -->\n",
       "<svg width=\"356pt\" height=\"424pt\"\n",
       " viewBox=\"0.00 0.00 356.00 423.50\" xmlns=\"http://www.w3.org/2000/svg\" xmlns:xlink=\"http://www.w3.org/1999/xlink\">\n",
       "<g id=\"graph0\" class=\"graph\" transform=\"scale(1 1) rotate(0) translate(4 419.5)\">\n",
       "<title>%3</title>\n",
       "<polygon fill=\"#ffffff\" stroke=\"transparent\" points=\"-4,4 -4,-419.5 352,-419.5 352,4 -4,4\"/>\n",
       "<!-- I0 -->\n",
       "<g id=\"node1\" class=\"node\">\n",
       "<title>I0</title>\n",
       "<ellipse fill=\"#000000\" stroke=\"#000000\" cx=\"0\" cy=\"-218.5\" rx=\"0\" ry=\"0\"/>\n",
       "</g>\n",
       "<!-- 0 -->\n",
       "<g id=\"node9\" class=\"node\">\n",
       "<title>0</title>\n",
       "<path fill=\"#98f5ff\" stroke=\"#000000\" d=\"M83.3333,-233C83.3333,-233 46.6667,-233 46.6667,-233 41.8333,-233 37,-228.1667 37,-223.3333 37,-223.3333 37,-213.6667 37,-213.6667 37,-208.8333 41.8333,-204 46.6667,-204 46.6667,-204 83.3333,-204 83.3333,-204 88.1667,-204 93,-208.8333 93,-213.6667 93,-213.6667 93,-223.3333 93,-223.3333 93,-228.1667 88.1667,-233 83.3333,-233\"/>\n",
       "<text text-anchor=\"middle\" x=\"65\" y=\"-215.4\" font-family=\"Times,serif\" font-size=\"12.00\" fill=\"#000000\">a*|b*|c*</text>\n",
       "</g>\n",
       "<!-- I0&#45;&gt;0 -->\n",
       "<g id=\"edge1\" class=\"edge\">\n",
       "<title>I0&#45;&gt;0</title>\n",
       "<path fill=\"none\" stroke=\"#000000\" d=\"M.0471,-218.5C.9838,-218.5 15.739,-218.5 30.948,-218.5\"/>\n",
       "<polygon fill=\"#000000\" stroke=\"#000000\" points=\"36.998,-218.5 30.998,-221.2001 33.998,-218.5 30.998,-218.5001 30.998,-218.5001 30.998,-218.5001 33.998,-218.5 30.998,-215.8001 36.998,-218.5 36.998,-218.5\"/>\n",
       "</g>\n",
       "<!-- F0 -->\n",
       "<g id=\"node2\" class=\"node\">\n",
       "<title>F0</title>\n",
       "<ellipse fill=\"#000000\" stroke=\"#000000\" cx=\"180\" cy=\"-415.5\" rx=\"0\" ry=\"0\"/>\n",
       "</g>\n",
       "<!-- F1 -->\n",
       "<g id=\"node3\" class=\"node\">\n",
       "<title>F1</title>\n",
       "<ellipse fill=\"#000000\" stroke=\"#000000\" cx=\"348\" cy=\"-352.5\" rx=\"0\" ry=\"0\"/>\n",
       "</g>\n",
       "<!-- F2 -->\n",
       "<g id=\"node4\" class=\"node\">\n",
       "<title>F2</title>\n",
       "<ellipse fill=\"#000000\" stroke=\"#000000\" cx=\"348\" cy=\"-154.5\" rx=\"0\" ry=\"0\"/>\n",
       "</g>\n",
       "<!-- F3 -->\n",
       "<g id=\"node5\" class=\"node\">\n",
       "<title>F3</title>\n",
       "<ellipse fill=\"#000000\" stroke=\"#000000\" cx=\"289\" cy=\"-319.5\" rx=\"0\" ry=\"0\"/>\n",
       "</g>\n",
       "<!-- F4 -->\n",
       "<g id=\"node6\" class=\"node\">\n",
       "<title>F4</title>\n",
       "<ellipse fill=\"#000000\" stroke=\"#000000\" cx=\"348\" cy=\"-74.5\" rx=\"0\" ry=\"0\"/>\n",
       "</g>\n",
       "<!-- F5 -->\n",
       "<g id=\"node7\" class=\"node\">\n",
       "<title>F5</title>\n",
       "<ellipse fill=\"#000000\" stroke=\"#000000\" cx=\"289\" cy=\"-220.5\" rx=\"0\" ry=\"0\"/>\n",
       "</g>\n",
       "<!-- F6 -->\n",
       "<g id=\"node8\" class=\"node\">\n",
       "<title>F6</title>\n",
       "<ellipse fill=\"#000000\" stroke=\"#000000\" cx=\"289\" cy=\"-14.5\" rx=\"0\" ry=\"0\"/>\n",
       "</g>\n",
       "<!-- 0&#45;&gt;F0 -->\n",
       "<g id=\"edge2\" class=\"edge\">\n",
       "<title>0&#45;&gt;F0</title>\n",
       "<path fill=\"none\" stroke=\"#000000\" d=\"M73.6437,-233.307C97.1937,-273.6493 161.7357,-384.2125 176.8182,-410.0495\"/>\n",
       "<polygon fill=\"#000000\" stroke=\"#000000\" points=\"179.9422,-415.401 174.5855,-411.5805 178.4297,-412.8101 176.9173,-410.2192 176.9173,-410.2192 176.9173,-410.2192 178.4297,-412.8101 179.2491,-408.858 179.9422,-415.401 179.9422,-415.401\"/>\n",
       "</g>\n",
       "<!-- 0&#45;&gt;0 -->\n",
       "<g id=\"edge3\" class=\"edge\">\n",
       "<title>0&#45;&gt;0</title>\n",
       "<path fill=\"none\" stroke=\"#000000\" d=\"M56.984,-233.21C55.051,-242.32 57.723,-251 65,-251 70.572,-251 73.444,-245.91 73.617,-239.44\"/>\n",
       "<polygon fill=\"#000000\" stroke=\"#000000\" points=\"73.016,-233.21 76.2797,-238.923 73.3041,-236.1961 73.5922,-239.1823 73.5922,-239.1823 73.5922,-239.1823 73.3041,-236.1961 70.9047,-239.4416 73.016,-233.21 73.016,-233.21\"/>\n",
       "<text text-anchor=\"middle\" x=\"65\" y=\"-254.8\" font-family=\"Times,serif\" font-size=\"14.00\" fill=\"#000000\">a|b|c</text>\n",
       "</g>\n",
       "<!-- 1 -->\n",
       "<g id=\"node10\" class=\"node\">\n",
       "<title>1</title>\n",
       "<path fill=\"#98f5ff\" stroke=\"#000000\" d=\"M300.8333,-367C300.8333,-367 277.1667,-367 277.1667,-367 272.3333,-367 267.5,-362.1667 267.5,-357.3333 267.5,-357.3333 267.5,-347.6667 267.5,-347.6667 267.5,-342.8333 272.3333,-338 277.1667,-338 277.1667,-338 300.8333,-338 300.8333,-338 305.6667,-338 310.5,-342.8333 310.5,-347.6667 310.5,-347.6667 310.5,-357.3333 310.5,-357.3333 310.5,-362.1667 305.6667,-367 300.8333,-367\"/>\n",
       "<text text-anchor=\"middle\" x=\"289\" y=\"-349.4\" font-family=\"Times,serif\" font-size=\"12.00\" fill=\"#000000\">ε|ε|c*</text>\n",
       "</g>\n",
       "<!-- 0&#45;&gt;1 -->\n",
       "<g id=\"edge4\" class=\"edge\">\n",
       "<title>0&#45;&gt;1</title>\n",
       "<path fill=\"none\" stroke=\"#000000\" d=\"M69.425,-233.18C79.234,-262.78 105.91,-329.01 155,-355.5 187.94,-373.27 232.38,-367.53 260.87,-360.8\"/>\n",
       "<polygon fill=\"#000000\" stroke=\"#000000\" points=\"267.05,-359.27 261.8747,-363.3329 264.1379,-359.991 261.2258,-360.712 261.2258,-360.712 261.2258,-360.712 264.1379,-359.991 260.5769,-358.0911 267.05,-359.27 267.05,-359.27\"/>\n",
       "<text text-anchor=\"middle\" x=\"180\" y=\"-370.3\" font-family=\"Times,serif\" font-size=\"14.00\" fill=\"#000000\">ε|ε|c</text>\n",
       "</g>\n",
       "<!-- 2 -->\n",
       "<g id=\"node11\" class=\"node\">\n",
       "<title>2</title>\n",
       "<path fill=\"#98f5ff\" stroke=\"#000000\" d=\"M301.3333,-169C301.3333,-169 276.6667,-169 276.6667,-169 271.8333,-169 267,-164.1667 267,-159.3333 267,-159.3333 267,-149.6667 267,-149.6667 267,-144.8333 271.8333,-140 276.6667,-140 276.6667,-140 301.3333,-140 301.3333,-140 306.1667,-140 311,-144.8333 311,-149.6667 311,-149.6667 311,-159.3333 311,-159.3333 311,-164.1667 306.1667,-169 301.3333,-169\"/>\n",
       "<text text-anchor=\"middle\" x=\"289\" y=\"-151.4\" font-family=\"Times,serif\" font-size=\"12.00\" fill=\"#000000\">ε|b*|ε</text>\n",
       "</g>\n",
       "<!-- 0&#45;&gt;2 -->\n",
       "<g id=\"edge5\" class=\"edge\">\n",
       "<title>0&#45;&gt;2</title>\n",
       "<path fill=\"none\" stroke=\"#000000\" d=\"M93.216,-204.8C110.68,-196.77 133.75,-186.97 155,-180.5 190.83,-169.59 233.49,-162.24 260.89,-158.21\"/>\n",
       "<polygon fill=\"#000000\" stroke=\"#000000\" points=\"266.84,-157.36 261.2822,-160.8815 263.8702,-157.7843 260.9003,-158.2086 260.9003,-158.2086 260.9003,-158.2086 263.8702,-157.7843 260.5184,-155.5357 266.84,-157.36 266.84,-157.36\"/>\n",
       "<text text-anchor=\"middle\" x=\"180\" y=\"-184.3\" font-family=\"Times,serif\" font-size=\"14.00\" fill=\"#000000\">ε|b|ε</text>\n",
       "</g>\n",
       "<!-- 3 -->\n",
       "<g id=\"node12\" class=\"node\">\n",
       "<title>3</title>\n",
       "<path fill=\"#98f5ff\" stroke=\"#000000\" d=\"M195.3333,-313C195.3333,-313 164.6667,-313 164.6667,-313 159.8333,-313 155,-308.1667 155,-303.3333 155,-303.3333 155,-293.6667 155,-293.6667 155,-288.8333 159.8333,-284 164.6667,-284 164.6667,-284 195.3333,-284 195.3333,-284 200.1667,-284 205,-288.8333 205,-293.6667 205,-293.6667 205,-303.3333 205,-303.3333 205,-308.1667 200.1667,-313 195.3333,-313\"/>\n",
       "<text text-anchor=\"middle\" x=\"180\" y=\"-295.4\" font-family=\"Times,serif\" font-size=\"12.00\" fill=\"#000000\">ε|b*|c*</text>\n",
       "</g>\n",
       "<!-- 0&#45;&gt;3 -->\n",
       "<g id=\"edge6\" class=\"edge\">\n",
       "<title>0&#45;&gt;3</title>\n",
       "<path fill=\"none\" stroke=\"#000000\" d=\"M86.093,-233.17C105.22,-246.48 133.48,-266.14 154,-280.41\"/>\n",
       "<polygon fill=\"#000000\" stroke=\"#000000\" points=\"159.04,-283.92 152.5733,-282.7066 156.5782,-282.2055 154.1163,-280.491 154.1163,-280.491 154.1163,-280.491 156.5782,-282.2055 155.6594,-278.2754 159.04,-283.92 159.04,-283.92\"/>\n",
       "<text text-anchor=\"middle\" x=\"124\" y=\"-271.3\" font-family=\"Times,serif\" font-size=\"14.00\" fill=\"#000000\">ε|b|c</text>\n",
       "</g>\n",
       "<!-- 4 -->\n",
       "<g id=\"node13\" class=\"node\">\n",
       "<title>4</title>\n",
       "<path fill=\"#98f5ff\" stroke=\"#000000\" d=\"M300.8333,-89C300.8333,-89 277.1667,-89 277.1667,-89 272.3333,-89 267.5,-84.1667 267.5,-79.3333 267.5,-79.3333 267.5,-69.6667 267.5,-69.6667 267.5,-64.8333 272.3333,-60 277.1667,-60 277.1667,-60 300.8333,-60 300.8333,-60 305.6667,-60 310.5,-64.8333 310.5,-69.6667 310.5,-69.6667 310.5,-79.3333 310.5,-79.3333 310.5,-84.1667 305.6667,-89 300.8333,-89\"/>\n",
       "<text text-anchor=\"middle\" x=\"289\" y=\"-71.4\" font-family=\"Times,serif\" font-size=\"12.00\" fill=\"#000000\">a*|ε|ε</text>\n",
       "</g>\n",
       "<!-- 0&#45;&gt;4 -->\n",
       "<g id=\"edge7\" class=\"edge\">\n",
       "<title>0&#45;&gt;4</title>\n",
       "<path fill=\"none\" stroke=\"#000000\" d=\"M83.779,-203.76C92.109,-197.23 102.03,-189.47 111,-182.5 130.51,-167.33 134.68,-162.57 155,-148.5 184.21,-128.28 191.87,-123.6 223,-106.5 235.47,-99.65 249.62,-92.684 261.62,-87.009\"/>\n",
       "<polygon fill=\"#000000\" stroke=\"#000000\" points=\"267.32,-84.332 263.0369,-89.3266 264.6046,-85.6073 261.8891,-86.8827 261.8891,-86.8827 261.8891,-86.8827 264.6046,-85.6073 260.7413,-84.4388 267.32,-84.332 267.32,-84.332\"/>\n",
       "<text text-anchor=\"middle\" x=\"180\" y=\"-152.3\" font-family=\"Times,serif\" font-size=\"14.00\" fill=\"#000000\">a|ε|ε</text>\n",
       "</g>\n",
       "<!-- 5 -->\n",
       "<g id=\"node14\" class=\"node\">\n",
       "<title>5</title>\n",
       "<path fill=\"#98f5ff\" stroke=\"#000000\" d=\"M194.8333,-233C194.8333,-233 165.1667,-233 165.1667,-233 160.3333,-233 155.5,-228.1667 155.5,-223.3333 155.5,-223.3333 155.5,-213.6667 155.5,-213.6667 155.5,-208.8333 160.3333,-204 165.1667,-204 165.1667,-204 194.8333,-204 194.8333,-204 199.6667,-204 204.5,-208.8333 204.5,-213.6667 204.5,-213.6667 204.5,-223.3333 204.5,-223.3333 204.5,-228.1667 199.6667,-233 194.8333,-233\"/>\n",
       "<text text-anchor=\"middle\" x=\"180\" y=\"-215.4\" font-family=\"Times,serif\" font-size=\"12.00\" fill=\"#000000\">a*|ε|c*</text>\n",
       "</g>\n",
       "<!-- 0&#45;&gt;5 -->\n",
       "<g id=\"edge8\" class=\"edge\">\n",
       "<title>0&#45;&gt;5</title>\n",
       "<path fill=\"none\" stroke=\"#000000\" d=\"M93.132,-218.5C110.07,-218.5 131.65,-218.5 149.07,-218.5\"/>\n",
       "<polygon fill=\"#000000\" stroke=\"#000000\" points=\"155.28,-218.5 149.28,-221.2001 152.28,-218.5 149.28,-218.5001 149.28,-218.5001 149.28,-218.5001 152.28,-218.5 149.28,-215.8001 155.28,-218.5 155.28,-218.5\"/>\n",
       "<text text-anchor=\"middle\" x=\"124\" y=\"-222.3\" font-family=\"Times,serif\" font-size=\"14.00\" fill=\"#000000\">a|ε|c</text>\n",
       "</g>\n",
       "<!-- 6 -->\n",
       "<g id=\"node15\" class=\"node\">\n",
       "<title>6</title>\n",
       "<path fill=\"#98f5ff\" stroke=\"#000000\" d=\"M195.3333,-29C195.3333,-29 164.6667,-29 164.6667,-29 159.8333,-29 155,-24.1667 155,-19.3333 155,-19.3333 155,-9.6667 155,-9.6667 155,-4.8333 159.8333,0 164.6667,0 164.6667,0 195.3333,0 195.3333,0 200.1667,0 205,-4.8333 205,-9.6667 205,-9.6667 205,-19.3333 205,-19.3333 205,-24.1667 200.1667,-29 195.3333,-29\"/>\n",
       "<text text-anchor=\"middle\" x=\"180\" y=\"-11.4\" font-family=\"Times,serif\" font-size=\"12.00\" fill=\"#000000\">a*|b*|ε</text>\n",
       "</g>\n",
       "<!-- 0&#45;&gt;6 -->\n",
       "<g id=\"edge9\" class=\"edge\">\n",
       "<title>0&#45;&gt;6</title>\n",
       "<path fill=\"none\" stroke=\"#000000\" d=\"M66.637,-203.71C70.363,-175.43 81.556,-112.66 111,-69.5 120.98,-54.864 136.03,-42.228 149.52,-32.771\"/>\n",
       "<polygon fill=\"#000000\" stroke=\"#000000\" points=\"154.8,-29.176 151.36,-34.7847 152.3202,-30.8644 149.8404,-32.5529 149.8404,-32.5529 149.8404,-32.5529 152.3202,-30.8644 148.3208,-30.3211 154.8,-29.176 154.8,-29.176\"/>\n",
       "<text text-anchor=\"middle\" x=\"124\" y=\"-73.3\" font-family=\"Times,serif\" font-size=\"14.00\" fill=\"#000000\">a|b|ε</text>\n",
       "</g>\n",
       "<!-- 1&#45;&gt;F1 -->\n",
       "<g id=\"edge10\" class=\"edge\">\n",
       "<title>1&#45;&gt;F1</title>\n",
       "<path fill=\"none\" stroke=\"#000000\" d=\"M310.6344,-352.5C321.7217,-352.5 334.4082,-352.5 341.7809,-352.5\"/>\n",
       "<polygon fill=\"#000000\" stroke=\"#000000\" points=\"347.9406,-352.5 341.9406,-355.2001 344.9406,-352.5 341.9406,-352.5001 341.9406,-352.5001 341.9406,-352.5001 344.9406,-352.5 341.9406,-349.8001 347.9406,-352.5 347.9406,-352.5\"/>\n",
       "</g>\n",
       "<!-- 1&#45;&gt;1 -->\n",
       "<g id=\"edge11\" class=\"edge\">\n",
       "<title>1&#45;&gt;1</title>\n",
       "<path fill=\"none\" stroke=\"#000000\" d=\"M282.03,-367.21C280.35,-376.32 282.67,-385 289,-385 293.84,-385 296.34,-379.91 296.49,-373.44\"/>\n",
       "<polygon fill=\"#000000\" stroke=\"#000000\" points=\"295.97,-367.21 299.1598,-372.9646 296.2196,-370.1996 296.4692,-373.1892 296.4692,-373.1892 296.4692,-373.1892 296.2196,-370.1996 293.7785,-373.4138 295.97,-367.21 295.97,-367.21\"/>\n",
       "<text text-anchor=\"middle\" x=\"289\" y=\"-388.8\" font-family=\"Times,serif\" font-size=\"14.00\" fill=\"#000000\">ε|ε|c</text>\n",
       "</g>\n",
       "<!-- 2&#45;&gt;F2 -->\n",
       "<g id=\"edge12\" class=\"edge\">\n",
       "<title>2&#45;&gt;F2</title>\n",
       "<path fill=\"none\" stroke=\"#000000\" d=\"M311.3054,-154.5C322.3066,-154.5 334.7294,-154.5 341.9321,-154.5\"/>\n",
       "<polygon fill=\"#000000\" stroke=\"#000000\" points=\"347.9422,-154.5 341.9422,-157.2001 344.9422,-154.5 341.9422,-154.5001 341.9422,-154.5001 341.9422,-154.5001 344.9422,-154.5 341.9421,-151.8001 347.9422,-154.5 347.9422,-154.5\"/>\n",
       "</g>\n",
       "<!-- 2&#45;&gt;2 -->\n",
       "<g id=\"edge13\" class=\"edge\">\n",
       "<title>2&#45;&gt;2</title>\n",
       "<path fill=\"none\" stroke=\"#000000\" d=\"M282.03,-169.21C280.35,-178.32 282.67,-187 289,-187 293.84,-187 296.34,-181.91 296.49,-175.44\"/>\n",
       "<polygon fill=\"#000000\" stroke=\"#000000\" points=\"295.97,-169.21 299.1598,-174.9646 296.2196,-172.1996 296.4692,-175.1892 296.4692,-175.1892 296.4692,-175.1892 296.2196,-172.1996 293.7785,-175.4138 295.97,-169.21 295.97,-169.21\"/>\n",
       "<text text-anchor=\"middle\" x=\"289\" y=\"-190.8\" font-family=\"Times,serif\" font-size=\"14.00\" fill=\"#000000\">ε|b|ε</text>\n",
       "</g>\n",
       "<!-- 3&#45;&gt;F3 -->\n",
       "<g id=\"edge14\" class=\"edge\">\n",
       "<title>3&#45;&gt;F3</title>\n",
       "<path fill=\"none\" stroke=\"#000000\" d=\"M205.0068,-303.3178C230.3364,-308.1978 267.8289,-315.4212 282.6445,-318.2756\"/>\n",
       "<polygon fill=\"#000000\" stroke=\"#000000\" points=\"288.8504,-319.4712 282.4479,-320.9873 285.9046,-318.9036 282.9587,-318.336 282.9587,-318.336 282.9587,-318.336 285.9046,-318.9036 283.4696,-315.6848 288.8504,-319.4712 288.8504,-319.4712\"/>\n",
       "</g>\n",
       "<!-- 3&#45;&gt;1 -->\n",
       "<g id=\"edge15\" class=\"edge\">\n",
       "<title>3&#45;&gt;1</title>\n",
       "<path fill=\"none\" stroke=\"#000000\" d=\"M205.28,-313.06C211.05,-316.26 217.2,-319.57 223,-322.5 235.55,-328.84 249.72,-335.36 261.7,-340.7\"/>\n",
       "<polygon fill=\"#000000\" stroke=\"#000000\" points=\"267.39,-343.21 260.8106,-343.2587 264.6452,-341.9992 261.9004,-340.7883 261.9004,-340.7883 261.9004,-340.7883 264.6452,-341.9992 262.9901,-338.318 267.39,-343.21 267.39,-343.21\"/>\n",
       "<text text-anchor=\"middle\" x=\"236\" y=\"-338.3\" font-family=\"Times,serif\" font-size=\"14.00\" fill=\"#000000\">ε|ε|c</text>\n",
       "</g>\n",
       "<!-- 3&#45;&gt;2 -->\n",
       "<g id=\"edge16\" class=\"edge\">\n",
       "<title>3&#45;&gt;2</title>\n",
       "<path fill=\"none\" stroke=\"#000000\" d=\"M196.91,-283.9C199.72,-281.21 202.52,-278.35 205,-275.5 233.9,-242.34 261.88,-199.12 277.14,-174.33\"/>\n",
       "<polygon fill=\"#000000\" stroke=\"#000000\" points=\"280.37,-169.03 279.5531,-175.5586 278.8088,-171.5918 277.2475,-174.1535 277.2475,-174.1535 277.2475,-174.1535 278.8088,-171.5918 274.9419,-172.7484 280.37,-169.03 280.37,-169.03\"/>\n",
       "<text text-anchor=\"middle\" x=\"236\" y=\"-253.3\" font-family=\"Times,serif\" font-size=\"14.00\" fill=\"#000000\">ε|b|ε</text>\n",
       "</g>\n",
       "<!-- 3&#45;&gt;3 -->\n",
       "<g id=\"edge17\" class=\"edge\">\n",
       "<title>3&#45;&gt;3</title>\n",
       "<path fill=\"none\" stroke=\"#000000\" d=\"M170.24,-313.21C167.89,-322.32 171.14,-331 180,-331 186.78,-331 190.28,-325.91 190.49,-319.44\"/>\n",
       "<polygon fill=\"#000000\" stroke=\"#000000\" points=\"189.76,-313.21 193.14,-318.855 190.1092,-316.1896 190.4584,-319.1692 190.4584,-319.1692 190.4584,-319.1692 190.1092,-316.1896 187.7767,-319.4835 189.76,-313.21 189.76,-313.21\"/>\n",
       "<text text-anchor=\"middle\" x=\"180\" y=\"-334.8\" font-family=\"Times,serif\" font-size=\"14.00\" fill=\"#000000\">ε|b|c</text>\n",
       "</g>\n",
       "<!-- 4&#45;&gt;F4 -->\n",
       "<g id=\"edge18\" class=\"edge\">\n",
       "<title>4&#45;&gt;F4</title>\n",
       "<path fill=\"none\" stroke=\"#000000\" d=\"M310.6344,-74.5C321.7217,-74.5 334.4082,-74.5 341.7809,-74.5\"/>\n",
       "<polygon fill=\"#000000\" stroke=\"#000000\" points=\"347.9406,-74.5 341.9406,-77.2001 344.9406,-74.5 341.9406,-74.5001 341.9406,-74.5001 341.9406,-74.5001 344.9406,-74.5 341.9406,-71.8001 347.9406,-74.5 347.9406,-74.5\"/>\n",
       "</g>\n",
       "<!-- 4&#45;&gt;4 -->\n",
       "<g id=\"edge19\" class=\"edge\">\n",
       "<title>4&#45;&gt;4</title>\n",
       "<path fill=\"none\" stroke=\"#000000\" d=\"M282.03,-89.206C280.35,-98.324 282.67,-107 289,-107 293.84,-107 296.34,-101.91 296.49,-95.438\"/>\n",
       "<polygon fill=\"#000000\" stroke=\"#000000\" points=\"295.97,-89.206 299.1596,-94.9607 296.2195,-92.1956 296.469,-95.1852 296.469,-95.1852 296.469,-95.1852 296.2195,-92.1956 293.7783,-95.4098 295.97,-89.206 295.97,-89.206\"/>\n",
       "<text text-anchor=\"middle\" x=\"289\" y=\"-110.8\" font-family=\"Times,serif\" font-size=\"14.00\" fill=\"#000000\">a|ε|ε</text>\n",
       "</g>\n",
       "<!-- 5&#45;&gt;F5 -->\n",
       "<g id=\"edge20\" class=\"edge\">\n",
       "<title>5&#45;&gt;F5</title>\n",
       "<path fill=\"none\" stroke=\"#000000\" d=\"M204.7338,-218.9538C230.0469,-219.4183 267.718,-220.1095 282.6104,-220.3828\"/>\n",
       "<polygon fill=\"#000000\" stroke=\"#000000\" points=\"288.8495,-220.4972 282.801,-223.0866 285.85,-220.4422 282.8506,-220.3871 282.8506,-220.3871 282.8506,-220.3871 285.85,-220.4422 282.9001,-217.6875 288.8495,-220.4972 288.8495,-220.4972\"/>\n",
       "</g>\n",
       "<!-- 5&#45;&gt;1 -->\n",
       "<g id=\"edge21\" class=\"edge\">\n",
       "<title>5&#45;&gt;1</title>\n",
       "<path fill=\"none\" stroke=\"#000000\" d=\"M192.23,-233.04C206.23,-249.8 229.72,-278.29 249,-303.5 257.32,-314.38 258.36,-317.88 267,-328.5 268.25,-330.03 269.57,-331.6 270.91,-333.15\"/>\n",
       "<polygon fill=\"#000000\" stroke=\"#000000\" points=\"274.99,-337.76 268.9916,-335.0564 273.0017,-335.5135 271.0135,-333.2669 271.0135,-333.2669 271.0135,-333.2669 273.0017,-335.5135 273.0354,-331.4775 274.99,-337.76 274.99,-337.76\"/>\n",
       "<text text-anchor=\"middle\" x=\"236\" y=\"-307.3\" font-family=\"Times,serif\" font-size=\"14.00\" fill=\"#000000\">ε|ε|c</text>\n",
       "</g>\n",
       "<!-- 5&#45;&gt;4 -->\n",
       "<g id=\"edge22\" class=\"edge\">\n",
       "<title>5&#45;&gt;4</title>\n",
       "<path fill=\"none\" stroke=\"#000000\" d=\"M191.05,-203.9C210.8,-177.81 252.15,-123.18 274.28,-93.947\"/>\n",
       "<polygon fill=\"#000000\" stroke=\"#000000\" points=\"277.92,-89.139 276.451,-95.5525 276.1092,-91.5309 274.2983,-93.9227 274.2983,-93.9227 274.2983,-93.9227 276.1092,-91.5309 272.1457,-92.293 277.92,-89.139 277.92,-89.139\"/>\n",
       "<text text-anchor=\"middle\" x=\"236\" y=\"-162.3\" font-family=\"Times,serif\" font-size=\"14.00\" fill=\"#000000\">a|ε|ε</text>\n",
       "</g>\n",
       "<!-- 5&#45;&gt;5 -->\n",
       "<g id=\"edge23\" class=\"edge\">\n",
       "<title>5&#45;&gt;5</title>\n",
       "<path fill=\"none\" stroke=\"#000000\" d=\"M170.24,-233.21C167.89,-242.32 171.14,-251 180,-251 186.78,-251 190.28,-245.91 190.49,-239.44\"/>\n",
       "<polygon fill=\"#000000\" stroke=\"#000000\" points=\"189.76,-233.21 193.14,-238.855 190.1092,-236.1896 190.4584,-239.1692 190.4584,-239.1692 190.4584,-239.1692 190.1092,-236.1896 187.7767,-239.4835 189.76,-233.21 189.76,-233.21\"/>\n",
       "<text text-anchor=\"middle\" x=\"180\" y=\"-254.8\" font-family=\"Times,serif\" font-size=\"14.00\" fill=\"#000000\">a|ε|c</text>\n",
       "</g>\n",
       "<!-- 6&#45;&gt;F6 -->\n",
       "<g id=\"edge24\" class=\"edge\">\n",
       "<title>6&#45;&gt;F6</title>\n",
       "<path fill=\"none\" stroke=\"#000000\" d=\"M205.0068,-14.5C230.3364,-14.5 267.8289,-14.5 282.6445,-14.5\"/>\n",
       "<polygon fill=\"#000000\" stroke=\"#000000\" points=\"288.8504,-14.5 282.8504,-17.2001 285.8504,-14.5 282.8504,-14.5001 282.8504,-14.5001 282.8504,-14.5001 285.8504,-14.5 282.8503,-11.8001 288.8504,-14.5 288.8504,-14.5\"/>\n",
       "</g>\n",
       "<!-- 6&#45;&gt;2 -->\n",
       "<g id=\"edge25\" class=\"edge\">\n",
       "<title>6&#45;&gt;2</title>\n",
       "<path fill=\"none\" stroke=\"#000000\" d=\"M190.27,-29.137C206.11,-51.488 237.74,-95.244 267,-130.5 268.3,-132.07 269.67,-133.67 271.06,-135.26\"/>\n",
       "<polygon fill=\"#000000\" stroke=\"#000000\" points=\"275.27,-139.98 269.2612,-137.2996 273.2731,-137.7412 271.2761,-135.5023 271.2761,-135.5023 271.2761,-135.5023 273.2731,-137.7412 273.2911,-133.7051 275.27,-139.98 275.27,-139.98\"/>\n",
       "<text text-anchor=\"middle\" x=\"236\" y=\"-110.3\" font-family=\"Times,serif\" font-size=\"14.00\" fill=\"#000000\">ε|b|ε</text>\n",
       "</g>\n",
       "<!-- 6&#45;&gt;4 -->\n",
       "<g id=\"edge26\" class=\"edge\">\n",
       "<title>6&#45;&gt;4</title>\n",
       "<path fill=\"none\" stroke=\"#000000\" d=\"M205.01,-28.265C221.95,-37.59 244.33,-49.91 261.73,-59.488\"/>\n",
       "<polygon fill=\"#000000\" stroke=\"#000000\" points=\"267.42,-62.622 260.8618,-62.0922 264.7922,-61.1746 262.1644,-59.7272 262.1644,-59.7272 262.1644,-59.7272 264.7922,-61.1746 263.4671,-57.3623 267.42,-62.622 267.42,-62.622\"/>\n",
       "<text text-anchor=\"middle\" x=\"236\" y=\"-56.3\" font-family=\"Times,serif\" font-size=\"14.00\" fill=\"#000000\">a|ε|ε</text>\n",
       "</g>\n",
       "<!-- 6&#45;&gt;6 -->\n",
       "<g id=\"edge27\" class=\"edge\">\n",
       "<title>6&#45;&gt;6</title>\n",
       "<path fill=\"none\" stroke=\"#000000\" d=\"M170.24,-29.206C167.89,-38.324 171.14,-47 180,-47 186.78,-47 190.28,-41.914 190.49,-35.438\"/>\n",
       "<polygon fill=\"#000000\" stroke=\"#000000\" points=\"189.76,-29.206 193.1398,-34.8511 190.1091,-32.1856 190.4581,-35.1653 190.4581,-35.1653 190.4581,-35.1653 190.1091,-32.1856 187.7765,-35.4794 189.76,-29.206 189.76,-29.206\"/>\n",
       "<text text-anchor=\"middle\" x=\"180\" y=\"-50.8\" font-family=\"Times,serif\" font-size=\"14.00\" fill=\"#000000\">a|b|ε</text>\n",
       "</g>\n",
       "</g>\n",
       "</svg>\n"
      ],
      "text/plain": [
       "expression_automaton<mutable_automaton<context<lat<nullableset<letterset<char_letters>>, nullableset<letterset<char_letters>>, nullableset<letterset<char_letters>>>, q>>>"
      ]
     },
     "execution_count": 7,
     "metadata": {},
     "output_type": "execute_result"
    }
   ],
   "source": [
    "ctx3 = vcsn.context('lat<lan, lan, lan>, q')\n",
    "a3 = ctx3.expression('a*|b*|c*').derived_term()\n",
    "a3"
   ]
  },
  {
   "cell_type": "markdown",
   "metadata": {},
   "source": [
    "Currently Vcsn is not able to extract nice rational expressions from such an automaton: it will always produce a \"simple-tape expression over multitape generators\":"
   ]
  },
  {
   "cell_type": "code",
   "execution_count": 8,
   "metadata": {},
   "outputs": [
    {
     "data": {
      "text/latex": [
       "$\\left(a|b|c\\right)^{*} \\, \\left(\\varepsilon + \\left(\\varepsilon|\\varepsilon|c\\right) \\, \\left(\\varepsilon|\\varepsilon|c\\right)^{*} + \\left(\\varepsilon|b|\\varepsilon\\right) \\, \\left(\\varepsilon|b|\\varepsilon\\right)^{*} + \\left(a|\\varepsilon|\\varepsilon\\right) \\, \\left(a|\\varepsilon|\\varepsilon\\right)^{*} + \\left(\\varepsilon|b|c\\right) \\, \\left(\\varepsilon|b|c\\right)^{*} \\, \\left(\\varepsilon + \\left(\\varepsilon|\\varepsilon|c\\right) \\, \\left(\\varepsilon|\\varepsilon|c\\right)^{*} + \\left(\\varepsilon|b|\\varepsilon\\right) \\, \\left(\\varepsilon|b|\\varepsilon\\right)^{*}\\right) + \\left(a|\\varepsilon|c\\right) \\, \\left(a|\\varepsilon|c\\right)^{*} \\, \\left(\\varepsilon + \\left(\\varepsilon|\\varepsilon|c\\right) \\, \\left(\\varepsilon|\\varepsilon|c\\right)^{*} + \\left(a|\\varepsilon|\\varepsilon\\right) \\, \\left(a|\\varepsilon|\\varepsilon\\right)^{*}\\right) + \\left(a|b|\\varepsilon\\right) \\, \\left(a|b|\\varepsilon\\right)^{*} \\, \\left(\\varepsilon + \\left(\\varepsilon|b|\\varepsilon\\right) \\, \\left(\\varepsilon|b|\\varepsilon\\right)^{*} + \\left(a|\\varepsilon|\\varepsilon\\right) \\, \\left(a|\\varepsilon|\\varepsilon\\right)^{*}\\right)\\right)$"
      ],
      "text/plain": [
       "(a|b|c)*(\\e+(\\e|\\e|c)(\\e|\\e|c)*+(\\e|b|\\e)(\\e|b|\\e)*+(a|\\e|\\e)(a|\\e|\\e)*+(\\e|b|c)(\\e|b|c)*(\\e+(\\e|\\e|c)(\\e|\\e|c)*+(\\e|b|\\e)(\\e|b|\\e)*)+(a|\\e|c)(a|\\e|c)*(\\e+(\\e|\\e|c)(\\e|\\e|c)*+(a|\\e|\\e)(a|\\e|\\e)*)+(a|b|\\e)(a|b|\\e)*(\\e+(\\e|b|\\e)(\\e|b|\\e)*+(a|\\e|\\e)(a|\\e|\\e)*))"
      ]
     },
     "execution_count": 8,
     "metadata": {},
     "output_type": "execute_result"
    }
   ],
   "source": [
    "a3.expression()"
   ]
  },
  {
   "cell_type": "markdown",
   "metadata": {},
   "source": [
    "Instead of displaying the automaton, we may list its states, for instance in the case of a five-tape expression."
   ]
  },
  {
   "cell_type": "code",
   "execution_count": 9,
   "metadata": {},
   "outputs": [
    {
     "data": {
      "text/latex": [
       "$ \\left. {a}^{*} \\middle| {b}^{*} \\middle| {c}^{*} \\middle| {d}^{*} \\middle| {e}^{*} \\right. $"
      ],
      "text/plain": [
       "a*|b*|c*|d*|e*"
      ]
     },
     "execution_count": 9,
     "metadata": {},
     "output_type": "execute_result"
    }
   ],
   "source": [
    "import re\n",
    "def states(a):\n",
    "    '''The states of an automaton, sorted.'''\n",
    "    res = re.findall(r'label = \"(.*?)\", shape', a.dot(), re.M)\n",
    "    res.sort()\n",
    "    return res\n",
    "\n",
    "ctx5 = vcsn.context('lat<lan(a), lan(b), lan(c), lan(d), lan(e)>, q')\n",
    "e5 = ctx5.expression('a*|b*|c*|d*|e*')\n",
    "e5"
   ]
  },
  {
   "cell_type": "code",
   "execution_count": 10,
   "metadata": {},
   "outputs": [
    {
     "data": {
      "text/latex": [
       "$\\left\\langle 1\\right\\rangle  \\oplus \\varepsilon|\\varepsilon|\\varepsilon|\\varepsilon|e \\odot \\left[ \\left. \\varepsilon \\middle| \\varepsilon \\middle| \\varepsilon \\middle| \\varepsilon \\middle| {e}^{*} \\right. \\right] \\oplus \\varepsilon|\\varepsilon|\\varepsilon|d|\\varepsilon \\odot \\left[ \\left. \\varepsilon \\middle| \\varepsilon \\middle| \\varepsilon \\middle| {d}^{*} \\middle| \\varepsilon \\right. \\right] \\oplus \\varepsilon|\\varepsilon|\\varepsilon|d|e \\odot \\left[ \\left. \\varepsilon \\middle| \\varepsilon \\middle| \\varepsilon \\middle| {d}^{*} \\middle| {e}^{*} \\right. \\right] \\oplus \\varepsilon|\\varepsilon|c|\\varepsilon|\\varepsilon \\odot \\left[ \\left. \\varepsilon \\middle| \\varepsilon \\middle| {c}^{*} \\middle| \\varepsilon \\middle| \\varepsilon \\right. \\right] \\oplus \\varepsilon|\\varepsilon|c|\\varepsilon|e \\odot \\left[ \\left. \\varepsilon \\middle| \\varepsilon \\middle| {c}^{*} \\middle| \\varepsilon \\middle| {e}^{*} \\right. \\right] \\oplus \\varepsilon|\\varepsilon|c|d|\\varepsilon \\odot \\left[ \\left. \\varepsilon \\middle| \\varepsilon \\middle| {c}^{*} \\middle| {d}^{*} \\middle| \\varepsilon \\right. \\right] \\oplus \\varepsilon|\\varepsilon|c|d|e \\odot \\left[ \\left. \\varepsilon \\middle| \\varepsilon \\middle| {c}^{*} \\middle| {d}^{*} \\middle| {e}^{*} \\right. \\right] \\oplus \\varepsilon|b|\\varepsilon|\\varepsilon|\\varepsilon \\odot \\left[ \\left. \\varepsilon \\middle| {b}^{*} \\middle| \\varepsilon \\middle| \\varepsilon \\middle| \\varepsilon \\right. \\right] \\oplus \\varepsilon|b|\\varepsilon|\\varepsilon|e \\odot \\left[ \\left. \\varepsilon \\middle| {b}^{*} \\middle| \\varepsilon \\middle| \\varepsilon \\middle| {e}^{*} \\right. \\right] \\oplus \\varepsilon|b|\\varepsilon|d|\\varepsilon \\odot \\left[ \\left. \\varepsilon \\middle| {b}^{*} \\middle| \\varepsilon \\middle| {d}^{*} \\middle| \\varepsilon \\right. \\right] \\oplus \\varepsilon|b|\\varepsilon|d|e \\odot \\left[ \\left. \\varepsilon \\middle| {b}^{*} \\middle| \\varepsilon \\middle| {d}^{*} \\middle| {e}^{*} \\right. \\right] \\oplus \\varepsilon|b|c|\\varepsilon|\\varepsilon \\odot \\left[ \\left. \\varepsilon \\middle| {b}^{*} \\middle| {c}^{*} \\middle| \\varepsilon \\middle| \\varepsilon \\right. \\right] \\oplus \\varepsilon|b|c|\\varepsilon|e \\odot \\left[ \\left. \\varepsilon \\middle| {b}^{*} \\middle| {c}^{*} \\middle| \\varepsilon \\middle| {e}^{*} \\right. \\right] \\oplus \\varepsilon|b|c|d|\\varepsilon \\odot \\left[ \\left. \\varepsilon \\middle| {b}^{*} \\middle| {c}^{*} \\middle| {d}^{*} \\middle| \\varepsilon \\right. \\right] \\oplus \\varepsilon|b|c|d|e \\odot \\left[ \\left. \\varepsilon \\middle| {b}^{*} \\middle| {c}^{*} \\middle| {d}^{*} \\middle| {e}^{*} \\right. \\right] \\oplus a|\\varepsilon|\\varepsilon|\\varepsilon|\\varepsilon \\odot \\left[ \\left. {a}^{*} \\middle| \\varepsilon \\middle| \\varepsilon \\middle| \\varepsilon \\middle| \\varepsilon \\right. \\right] \\oplus a|\\varepsilon|\\varepsilon|\\varepsilon|e \\odot \\left[ \\left. {a}^{*} \\middle| \\varepsilon \\middle| \\varepsilon \\middle| \\varepsilon \\middle| {e}^{*} \\right. \\right] \\oplus a|\\varepsilon|\\varepsilon|d|\\varepsilon \\odot \\left[ \\left. {a}^{*} \\middle| \\varepsilon \\middle| \\varepsilon \\middle| {d}^{*} \\middle| \\varepsilon \\right. \\right] \\oplus a|\\varepsilon|\\varepsilon|d|e \\odot \\left[ \\left. {a}^{*} \\middle| \\varepsilon \\middle| \\varepsilon \\middle| {d}^{*} \\middle| {e}^{*} \\right. \\right] \\oplus a|\\varepsilon|c|\\varepsilon|\\varepsilon \\odot \\left[ \\left. {a}^{*} \\middle| \\varepsilon \\middle| {c}^{*} \\middle| \\varepsilon \\middle| \\varepsilon \\right. \\right] \\oplus a|\\varepsilon|c|\\varepsilon|e \\odot \\left[ \\left. {a}^{*} \\middle| \\varepsilon \\middle| {c}^{*} \\middle| \\varepsilon \\middle| {e}^{*} \\right. \\right] \\oplus a|\\varepsilon|c|d|\\varepsilon \\odot \\left[ \\left. {a}^{*} \\middle| \\varepsilon \\middle| {c}^{*} \\middle| {d}^{*} \\middle| \\varepsilon \\right. \\right] \\oplus a|\\varepsilon|c|d|e \\odot \\left[ \\left. {a}^{*} \\middle| \\varepsilon \\middle| {c}^{*} \\middle| {d}^{*} \\middle| {e}^{*} \\right. \\right] \\oplus a|b|\\varepsilon|\\varepsilon|\\varepsilon \\odot \\left[ \\left. {a}^{*} \\middle| {b}^{*} \\middle| \\varepsilon \\middle| \\varepsilon \\middle| \\varepsilon \\right. \\right] \\oplus a|b|\\varepsilon|\\varepsilon|e \\odot \\left[ \\left. {a}^{*} \\middle| {b}^{*} \\middle| \\varepsilon \\middle| \\varepsilon \\middle| {e}^{*} \\right. \\right] \\oplus a|b|\\varepsilon|d|\\varepsilon \\odot \\left[ \\left. {a}^{*} \\middle| {b}^{*} \\middle| \\varepsilon \\middle| {d}^{*} \\middle| \\varepsilon \\right. \\right] \\oplus a|b|\\varepsilon|d|e \\odot \\left[ \\left. {a}^{*} \\middle| {b}^{*} \\middle| \\varepsilon \\middle| {d}^{*} \\middle| {e}^{*} \\right. \\right] \\oplus a|b|c|\\varepsilon|\\varepsilon \\odot \\left[ \\left. {a}^{*} \\middle| {b}^{*} \\middle| {c}^{*} \\middle| \\varepsilon \\middle| \\varepsilon \\right. \\right] \\oplus a|b|c|\\varepsilon|e \\odot \\left[ \\left. {a}^{*} \\middle| {b}^{*} \\middle| {c}^{*} \\middle| \\varepsilon \\middle| {e}^{*} \\right. \\right] \\oplus a|b|c|d|\\varepsilon \\odot \\left[ \\left. {a}^{*} \\middle| {b}^{*} \\middle| {c}^{*} \\middle| {d}^{*} \\middle| \\varepsilon \\right. \\right] \\oplus a|b|c|d|e \\odot \\left[ \\left. {a}^{*} \\middle| {b}^{*} \\middle| {c}^{*} \\middle| {d}^{*} \\middle| {e}^{*} \\right. \\right]$"
      ],
      "text/plain": [
       "<1> + \\e|\\e|\\e|\\e|e.[\\e|\\e|\\e|\\e|e*] + \\e|\\e|\\e|d|\\e.[\\e|\\e|\\e|d*|\\e] + \\e|\\e|\\e|d|e.[\\e|\\e|\\e|d*|e*] + \\e|\\e|c|\\e|\\e.[\\e|\\e|c*|\\e|\\e] + \\e|\\e|c|\\e|e.[\\e|\\e|c*|\\e|e*] + \\e|\\e|c|d|\\e.[\\e|\\e|c*|d*|\\e] + \\e|\\e|c|d|e.[\\e|\\e|c*|d*|e*] + \\e|b|\\e|\\e|\\e.[\\e|b*|\\e|\\e|\\e] + \\e|b|\\e|\\e|e.[\\e|b*|\\e|\\e|e*] + \\e|b|\\e|d|\\e.[\\e|b*|\\e|d*|\\e] + \\e|b|\\e|d|e.[\\e|b*|\\e|d*|e*] + \\e|b|c|\\e|\\e.[\\e|b*|c*|\\e|\\e] + \\e|b|c|\\e|e.[\\e|b*|c*|\\e|e*] + \\e|b|c|d|\\e.[\\e|b*|c*|d*|\\e] + \\e|b|c|d|e.[\\e|b*|c*|d*|e*] + a|\\e|\\e|\\e|\\e.[a*|\\e|\\e|\\e|\\e] + a|\\e|\\e|\\e|e.[a*|\\e|\\e|\\e|e*] + a|\\e|\\e|d|\\e.[a*|\\e|\\e|d*|\\e] + a|\\e|\\e|d|e.[a*|\\e|\\e|d*|e*] + a|\\e|c|\\e|\\e.[a*|\\e|c*|\\e|\\e] + a|\\e|c|\\e|e.[a*|\\e|c*|\\e|e*] + a|\\e|c|d|\\e.[a*|\\e|c*|d*|\\e] + a|\\e|c|d|e.[a*|\\e|c*|d*|e*] + a|b|\\e|\\e|\\e.[a*|b*|\\e|\\e|\\e] + a|b|\\e|\\e|e.[a*|b*|\\e|\\e|e*] + a|b|\\e|d|\\e.[a*|b*|\\e|d*|\\e] + a|b|\\e|d|e.[a*|b*|\\e|d*|e*] + a|b|c|\\e|\\e.[a*|b*|c*|\\e|\\e] + a|b|c|\\e|e.[a*|b*|c*|\\e|e*] + a|b|c|d|\\e.[a*|b*|c*|d*|\\e] + a|b|c|d|e.[a*|b*|c*|d*|e*]"
      ]
     },
     "execution_count": 10,
     "metadata": {},
     "output_type": "execute_result"
    }
   ],
   "source": [
    "e5.expansion()"
   ]
  },
  {
   "cell_type": "code",
   "execution_count": 11,
   "metadata": {},
   "outputs": [
    {
     "data": {
      "text/plain": [
       "['a*|b*|c*|d*|e*',\n",
       " 'a*|b*|c*|d*|ε',\n",
       " 'a*|b*|c*|ε|e*',\n",
       " 'a*|b*|c*|ε|ε',\n",
       " 'a*|b*|ε|d*|e*',\n",
       " 'a*|b*|ε|d*|ε',\n",
       " 'a*|b*|ε|ε|e*',\n",
       " 'a*|b*|ε|ε|ε',\n",
       " 'a*|ε|c*|d*|e*',\n",
       " 'a*|ε|c*|d*|ε',\n",
       " 'a*|ε|c*|ε|e*',\n",
       " 'a*|ε|c*|ε|ε',\n",
       " 'a*|ε|ε|d*|e*',\n",
       " 'a*|ε|ε|d*|ε',\n",
       " 'a*|ε|ε|ε|e*',\n",
       " 'a*|ε|ε|ε|ε',\n",
       " 'ε|b*|c*|d*|e*',\n",
       " 'ε|b*|c*|d*|ε',\n",
       " 'ε|b*|c*|ε|e*',\n",
       " 'ε|b*|c*|ε|ε',\n",
       " 'ε|b*|ε|d*|e*',\n",
       " 'ε|b*|ε|d*|ε',\n",
       " 'ε|b*|ε|ε|e*',\n",
       " 'ε|b*|ε|ε|ε',\n",
       " 'ε|ε|c*|d*|e*',\n",
       " 'ε|ε|c*|d*|ε',\n",
       " 'ε|ε|c*|ε|e*',\n",
       " 'ε|ε|c*|ε|ε',\n",
       " 'ε|ε|ε|d*|e*',\n",
       " 'ε|ε|ε|d*|ε',\n",
       " 'ε|ε|ε|ε|e*']"
      ]
     },
     "execution_count": 11,
     "metadata": {},
     "output_type": "execute_result"
    }
   ],
   "source": [
    "a5 = e5.derived_term()\n",
    "states(a5)"
   ]
  },
  {
   "cell_type": "markdown",
   "metadata": {},
   "source": [
    "## Example $\\mathsf{E}_2$: A Sed-like Substitution"
   ]
  },
  {
   "cell_type": "code",
   "execution_count": 12,
   "metadata": {},
   "outputs": [
    {
     "data": {
      "text/latex": [
       "$\\left( \\left. a \\, {a}^{*} \\middle| x \\right.  +  \\left. b \\, {b}^{*} \\middle| y \\right. \\right)^{*}$"
      ],
      "text/plain": [
       "(aa*|x+bb*|y)*"
      ]
     },
     "execution_count": 12,
     "metadata": {},
     "output_type": "execute_result"
    }
   ],
   "source": [
    "e2 = ctx.expression('(a{+}|x + b{+}|y)*')\n",
    "e2"
   ]
  },
  {
   "cell_type": "code",
   "execution_count": 13,
   "metadata": {},
   "outputs": [
    {
     "data": {
      "text/latex": [
       "$\\left\\langle 1\\right\\rangle  \\oplus a|x \\odot \\left[\\left( \\left. {a}^{*} \\middle| \\varepsilon \\right. \\right) \\, \\left( \\left. a \\, {a}^{*} \\middle| x \\right.  +  \\left. b \\, {b}^{*} \\middle| y \\right. \\right)^{*}\\right] \\oplus b|y \\odot \\left[\\left( \\left. {b}^{*} \\middle| \\varepsilon \\right. \\right) \\, \\left( \\left. a \\, {a}^{*} \\middle| x \\right.  +  \\left. b \\, {b}^{*} \\middle| y \\right. \\right)^{*}\\right]$"
      ],
      "text/plain": [
       "<1> + a|x.[(a*|\\e)(aa*|x+bb*|y)*] + b|y.[(b*|\\e)(aa*|x+bb*|y)*]"
      ]
     },
     "execution_count": 13,
     "metadata": {},
     "output_type": "execute_result"
    }
   ],
   "source": [
    "e2.expansion()"
   ]
  },
  {
   "cell_type": "code",
   "execution_count": 14,
   "metadata": {},
   "outputs": [
    {
     "data": {
      "image/svg+xml": [
       "<?xml version=\"1.0\" encoding=\"UTF-8\" standalone=\"no\"?>\n",
       "<!DOCTYPE svg PUBLIC \"-//W3C//DTD SVG 1.1//EN\"\n",
       " \"http://www.w3.org/Graphics/SVG/1.1/DTD/svg11.dtd\">\n",
       "<!-- Generated by graphviz version 2.40.1 (20161225.0304)\n",
       " -->\n",
       "<!-- Title: %3 Pages: 1 -->\n",
       "<svg width=\"509pt\" height=\"123pt\"\n",
       " viewBox=\"0.00 0.00 509.00 123.43\" xmlns=\"http://www.w3.org/2000/svg\" xmlns:xlink=\"http://www.w3.org/1999/xlink\">\n",
       "<g id=\"graph0\" class=\"graph\" transform=\"scale(1 1) rotate(0) translate(4 119.4349)\">\n",
       "<title>%3</title>\n",
       "<polygon fill=\"#ffffff\" stroke=\"transparent\" points=\"-4,4 -4,-119.4349 505,-119.4349 505,4 -4,4\"/>\n",
       "<!-- I0 -->\n",
       "<g id=\"node1\" class=\"node\">\n",
       "<title>I0</title>\n",
       "<ellipse fill=\"#000000\" stroke=\"#000000\" cx=\"0\" cy=\"-49.4299\" rx=\"0\" ry=\"0\"/>\n",
       "</g>\n",
       "<!-- 0 -->\n",
       "<g id=\"node5\" class=\"node\">\n",
       "<title>0</title>\n",
       "<path fill=\"#98f5ff\" stroke=\"#000000\" d=\"M116.3333,-63.9299C116.3333,-63.9299 46.6667,-63.9299 46.6667,-63.9299 41.8333,-63.9299 37,-59.0966 37,-54.2632 37,-54.2632 37,-44.5966 37,-44.5966 37,-39.7632 41.8333,-34.9299 46.6667,-34.9299 46.6667,-34.9299 116.3333,-34.9299 116.3333,-34.9299 121.1667,-34.9299 126,-39.7632 126,-44.5966 126,-44.5966 126,-54.2632 126,-54.2632 126,-59.0966 121.1667,-63.9299 116.3333,-63.9299\"/>\n",
       "<text text-anchor=\"middle\" x=\"81.5\" y=\"-46.3299\" font-family=\"Times,serif\" font-size=\"12.00\" fill=\"#000000\">(aa*|x+bb*|y)*</text>\n",
       "</g>\n",
       "<!-- I0&#45;&gt;0 -->\n",
       "<g id=\"edge1\" class=\"edge\">\n",
       "<title>I0&#45;&gt;0</title>\n",
       "<path fill=\"none\" stroke=\"#000000\" d=\"M.0591,-49.4299C1.0548,-49.4299 14.505,-49.4299 30.197,-49.4299\"/>\n",
       "<polygon fill=\"#000000\" stroke=\"#000000\" points=\"36.541,-49.4299 30.541,-52.13 33.541,-49.4299 30.541,-49.43 30.541,-49.43 30.541,-49.43 33.541,-49.4299 30.541,-46.73 36.541,-49.4299 36.541,-49.4299\"/>\n",
       "</g>\n",
       "<!-- F0 -->\n",
       "<g id=\"node2\" class=\"node\">\n",
       "<title>F0</title>\n",
       "<ellipse fill=\"#000000\" stroke=\"#000000\" cx=\"237\" cy=\"-115.4349\" rx=\"0\" ry=\"0\"/>\n",
       "</g>\n",
       "<!-- F1 -->\n",
       "<g id=\"node3\" class=\"node\">\n",
       "<title>F1</title>\n",
       "<ellipse fill=\"#000000\" stroke=\"#000000\" cx=\"406\" cy=\"-91.4299\" rx=\"0\" ry=\"0\"/>\n",
       "</g>\n",
       "<!-- F2 -->\n",
       "<g id=\"node4\" class=\"node\">\n",
       "<title>F2</title>\n",
       "<ellipse fill=\"#000000\" stroke=\"#000000\" cx=\"501\" cy=\"-23.4299\" rx=\"0\" ry=\"0\"/>\n",
       "</g>\n",
       "<!-- 0&#45;&gt;F0 -->\n",
       "<g id=\"edge2\" class=\"edge\">\n",
       "<title>0&#45;&gt;F0</title>\n",
       "<path fill=\"none\" stroke=\"#000000\" d=\"M116.0105,-64.0785C154.06,-80.2294 212.3677,-104.9792 231.0339,-112.9025\"/>\n",
       "<polygon fill=\"#000000\" stroke=\"#000000\" points=\"236.9453,-115.4117 230.3673,-115.5526 234.1838,-114.2395 231.4223,-113.0673 231.4223,-113.0673 231.4223,-113.0673 234.1838,-114.2395 232.4773,-110.5819 236.9453,-115.4117 236.9453,-115.4117\"/>\n",
       "</g>\n",
       "<!-- 1 -->\n",
       "<g id=\"node6\" class=\"node\">\n",
       "<title>1</title>\n",
       "<path fill=\"#98f5ff\" stroke=\"#000000\" d=\"M285.3333,-63.9299C285.3333,-63.9299 188.6667,-63.9299 188.6667,-63.9299 183.8333,-63.9299 179,-59.0966 179,-54.2632 179,-54.2632 179,-44.5966 179,-44.5966 179,-39.7632 183.8333,-34.9299 188.6667,-34.9299 188.6667,-34.9299 285.3333,-34.9299 285.3333,-34.9299 290.1667,-34.9299 295,-39.7632 295,-44.5966 295,-44.5966 295,-54.2632 295,-54.2632 295,-59.0966 290.1667,-63.9299 285.3333,-63.9299\"/>\n",
       "<text text-anchor=\"middle\" x=\"237\" y=\"-46.3299\" font-family=\"Times,serif\" font-size=\"12.00\" fill=\"#000000\">(a*|ε)(aa*|x+bb*|y)*</text>\n",
       "</g>\n",
       "<!-- 0&#45;&gt;1 -->\n",
       "<g id=\"edge3\" class=\"edge\">\n",
       "<title>0&#45;&gt;1</title>\n",
       "<path fill=\"none\" stroke=\"#000000\" d=\"M126.06,-49.4299C140.56,-49.4299 156.95,-49.4299 172.6,-49.4299\"/>\n",
       "<polygon fill=\"#000000\" stroke=\"#000000\" points=\"178.79,-49.4299 172.79,-52.13 175.79,-49.4299 172.79,-49.43 172.79,-49.43 172.79,-49.43 175.79,-49.4299 172.79,-46.73 178.79,-49.4299 178.79,-49.4299\"/>\n",
       "<text text-anchor=\"middle\" x=\"152.5\" y=\"-53.2299\" font-family=\"Times,serif\" font-size=\"14.00\" fill=\"#000000\">a|x</text>\n",
       "</g>\n",
       "<!-- 2 -->\n",
       "<g id=\"node7\" class=\"node\">\n",
       "<title>2</title>\n",
       "<path fill=\"#98f5ff\" stroke=\"#000000\" d=\"M454.3333,-37.9299C454.3333,-37.9299 357.6667,-37.9299 357.6667,-37.9299 352.8333,-37.9299 348,-33.0966 348,-28.2632 348,-28.2632 348,-18.5966 348,-18.5966 348,-13.7632 352.8333,-8.9299 357.6667,-8.9299 357.6667,-8.9299 454.3333,-8.9299 454.3333,-8.9299 459.1667,-8.9299 464,-13.7632 464,-18.5966 464,-18.5966 464,-28.2632 464,-28.2632 464,-33.0966 459.1667,-37.9299 454.3333,-37.9299\"/>\n",
       "<text text-anchor=\"middle\" x=\"406\" y=\"-20.3299\" font-family=\"Times,serif\" font-size=\"12.00\" fill=\"#000000\">(b*|ε)(aa*|x+bb*|y)*</text>\n",
       "</g>\n",
       "<!-- 0&#45;&gt;2 -->\n",
       "<g id=\"edge4\" class=\"edge\">\n",
       "<title>0&#45;&gt;2</title>\n",
       "<path fill=\"none\" stroke=\"#000000\" d=\"M109.64,-34.8469C128.66,-25.8329 154.65,-15.1189 179,-10.4304 233.16,0 295.82,-4.8283 341.57,-11.366\"/>\n",
       "<polygon fill=\"#000000\" stroke=\"#000000\" points=\"347.63,-12.2557 341.3014,-14.0554 344.6618,-11.8199 341.6936,-11.3841 341.6936,-11.3841 341.6936,-11.3841 344.6618,-11.8199 342.0859,-8.7127 347.63,-12.2557 347.63,-12.2557\"/>\n",
       "<text text-anchor=\"middle\" x=\"237\" y=\"-14.2299\" font-family=\"Times,serif\" font-size=\"14.00\" fill=\"#000000\">b|y</text>\n",
       "</g>\n",
       "<!-- 1&#45;&gt;F1 -->\n",
       "<g id=\"edge5\" class=\"edge\">\n",
       "<title>1&#45;&gt;F1</title>\n",
       "<path fill=\"none\" stroke=\"#000000\" d=\"M295.1602,-63.8839C335.0111,-73.7877 383.5463,-85.8497 400.1252,-89.9699\"/>\n",
       "<polygon fill=\"#000000\" stroke=\"#000000\" points=\"405.9549,-91.4187 399.4808,-92.5918 403.0435,-90.6951 400.132,-89.9715 400.132,-89.9715 400.132,-89.9715 403.0435,-90.6951 400.7833,-87.3512 405.9549,-91.4187 405.9549,-91.4187\"/>\n",
       "</g>\n",
       "<!-- 1&#45;&gt;1 -->\n",
       "<g id=\"edge6\" class=\"edge\">\n",
       "<title>1&#45;&gt;1</title>\n",
       "<path fill=\"none\" stroke=\"#000000\" d=\"M222.36,-64.1369C218.83,-73.2539 223.71,-81.9299 237,-81.9299 247.17,-81.9299 252.42,-76.8449 252.73,-70.3689\"/>\n",
       "<polygon fill=\"#000000\" stroke=\"#000000\" points=\"251.64,-64.1369 255.3334,-69.582 252.1569,-67.092 252.6738,-70.0472 252.6738,-70.0472 252.6738,-70.0472 252.1569,-67.092 250.0142,-70.5124 251.64,-64.1369 251.64,-64.1369\"/>\n",
       "<text text-anchor=\"middle\" x=\"237\" y=\"-85.7299\" font-family=\"Times,serif\" font-size=\"14.00\" fill=\"#000000\">a|ε, a|x</text>\n",
       "</g>\n",
       "<!-- 1&#45;&gt;2 -->\n",
       "<g id=\"edge7\" class=\"edge\">\n",
       "<title>1&#45;&gt;2</title>\n",
       "<path fill=\"none\" stroke=\"#000000\" d=\"M295.16,-44.0849C306.73,-42.7659 318.77,-41.2109 330,-39.4299 333.76,-38.8339 337.61,-38.1749 341.49,-37.4739\"/>\n",
       "<polygon fill=\"#000000\" stroke=\"#000000\" points=\"347.61,-36.3419 342.2012,-40.0882 344.66,-36.8876 341.7101,-37.4333 341.7101,-37.4333 341.7101,-37.4333 344.66,-36.8876 341.219,-34.7783 347.61,-36.3419 347.61,-36.3419\"/>\n",
       "<text text-anchor=\"middle\" x=\"321.5\" y=\"-46.2299\" font-family=\"Times,serif\" font-size=\"14.00\" fill=\"#000000\">b|y</text>\n",
       "</g>\n",
       "<!-- 2&#45;&gt;F2 -->\n",
       "<g id=\"edge8\" class=\"edge\">\n",
       "<title>2&#45;&gt;F2</title>\n",
       "<path fill=\"none\" stroke=\"#000000\" d=\"M464.2705,-23.4299C476.7721,-23.4299 488.223,-23.4299 494.9064,-23.4299\"/>\n",
       "<polygon fill=\"#000000\" stroke=\"#000000\" points=\"500.9504,-23.4299 494.9505,-26.13 497.9504,-23.4299 494.9504,-23.43 494.9504,-23.43 494.9504,-23.43 497.9504,-23.4299 494.9504,-20.73 500.9504,-23.4299 500.9504,-23.4299\"/>\n",
       "</g>\n",
       "<!-- 2&#45;&gt;1 -->\n",
       "<g id=\"edge9\" class=\"edge\">\n",
       "<title>2&#45;&gt;1</title>\n",
       "<path fill=\"none\" stroke=\"#000000\" d=\"M347.67,-17.7349C336.11,-17.6759 324.12,-18.3809 313,-20.4299 299.75,-22.8719 285.82,-27.5209 273.56,-32.3929\"/>\n",
       "<polygon fill=\"#000000\" stroke=\"#000000\" points=\"267.69,-34.7929 272.2219,-30.023 270.4669,-33.6575 273.2437,-32.5221 273.2437,-32.5221 273.2437,-32.5221 270.4669,-33.6575 274.2656,-35.0213 267.69,-34.7929 267.69,-34.7929\"/>\n",
       "<text text-anchor=\"middle\" x=\"321.5\" y=\"-24.2299\" font-family=\"Times,serif\" font-size=\"14.00\" fill=\"#000000\">a|x</text>\n",
       "</g>\n",
       "<!-- 2&#45;&gt;2 -->\n",
       "<g id=\"edge10\" class=\"edge\">\n",
       "<title>2&#45;&gt;2</title>\n",
       "<path fill=\"none\" stroke=\"#000000\" d=\"M392.76,-38.1369C389.56,-47.2539 393.98,-55.9299 406,-55.9299 415.21,-55.9299 419.95,-50.8449 420.24,-44.3689\"/>\n",
       "<polygon fill=\"#000000\" stroke=\"#000000\" points=\"419.24,-38.1369 422.8566,-43.6333 419.7153,-41.099 420.1907,-44.0611 420.1907,-44.0611 420.1907,-44.0611 419.7153,-41.099 417.5248,-44.4889 419.24,-38.1369 419.24,-38.1369\"/>\n",
       "<text text-anchor=\"middle\" x=\"406\" y=\"-59.7299\" font-family=\"Times,serif\" font-size=\"14.00\" fill=\"#000000\">b|ε, b|y</text>\n",
       "</g>\n",
       "</g>\n",
       "</svg>\n"
      ],
      "text/plain": [
       "expression_automaton<mutable_automaton<context<lat<nullableset<letterset<char_letters>>, nullableset<letterset<char_letters>>>, q>>>"
      ]
     },
     "execution_count": 14,
     "metadata": {},
     "output_type": "execute_result"
    }
   ],
   "source": [
    "a2 = e2.derived_term()\n",
    "a2"
   ]
  },
  {
   "cell_type": "markdown",
   "metadata": {},
   "source": [
    "Again, the extracted expression is less readable."
   ]
  },
  {
   "cell_type": "code",
   "execution_count": 15,
   "metadata": {},
   "outputs": [
    {
     "data": {
      "text/latex": [
       "$\\varepsilon + \\left(a|x\\right) \\, \\left(a|\\varepsilon + a|x\\right)^{*} + \\left(b|y + \\left(a|x\\right) \\, \\left(a|\\varepsilon + a|x\\right)^{*} \\, \\left(b|y\\right)\\right) \\, \\left(b|\\varepsilon + b|y + \\left(a|x\\right) \\, \\left(a|\\varepsilon + a|x\\right)^{*} \\, \\left(b|y\\right)\\right)^{*} \\, \\left(\\varepsilon + \\left(a|x\\right) \\, \\left(a|\\varepsilon + a|x\\right)^{*}\\right)$"
      ],
      "text/plain": [
       "\\e+(a|x)(a|\\e+a|x)*+(b|y+(a|x)(a|\\e+a|x)*(b|y))(b|\\e+b|y+(a|x)(a|\\e+a|x)*(b|y))*(\\e+(a|x)(a|\\e+a|x)*)"
      ]
     },
     "execution_count": 15,
     "metadata": {},
     "output_type": "execute_result"
    }
   ],
   "source": [
    "a2.expression()"
   ]
  },
  {
   "cell_type": "markdown",
   "metadata": {},
   "source": [
    "## A More Complex Expression\n",
    "The previous examples often look like sed-like substitutions, in the sense that the first tape was often a composite expression, but the second tape a simple label.  There is no such limitation."
   ]
  },
  {
   "cell_type": "code",
   "execution_count": 16,
   "metadata": {},
   "outputs": [
    {
     "data": {
      "text/latex": [
       "$ \\left. \\left( \\left\\langle 2 \\right\\rangle \\,\\left(a + b\\right)\\right)^{*} \\middle| \\left( \\left\\langle 3 \\right\\rangle \\,\\left(x + y\\right)\\right)^{*} \\right. $"
      ],
      "text/plain": [
       "(<2>(a+b))*|(<3>(x+y))*"
      ]
     },
     "execution_count": 16,
     "metadata": {},
     "output_type": "execute_result"
    }
   ],
   "source": [
    "e = ctx.expression('(<2>[ab])* | (<3>[xy])*')\n",
    "e"
   ]
  },
  {
   "cell_type": "code",
   "execution_count": 17,
   "metadata": {},
   "outputs": [
    {
     "data": {
      "image/svg+xml": [
       "<?xml version=\"1.0\" encoding=\"UTF-8\" standalone=\"no\"?>\n",
       "<!DOCTYPE svg PUBLIC \"-//W3C//DTD SVG 1.1//EN\"\n",
       " \"http://www.w3.org/Graphics/SVG/1.1/DTD/svg11.dtd\">\n",
       "<!-- Generated by graphviz version 2.40.1 (20161225.0304)\n",
       " -->\n",
       "<!-- Title: %3 Pages: 1 -->\n",
       "<svg width=\"401pt\" height=\"169pt\"\n",
       " viewBox=\"0.00 0.00 401.00 168.50\" xmlns=\"http://www.w3.org/2000/svg\" xmlns:xlink=\"http://www.w3.org/1999/xlink\">\n",
       "<g id=\"graph0\" class=\"graph\" transform=\"scale(1 1) rotate(0) translate(4 164.5)\">\n",
       "<title>%3</title>\n",
       "<polygon fill=\"#ffffff\" stroke=\"transparent\" points=\"-4,4 -4,-164.5 397,-164.5 397,4 -4,4\"/>\n",
       "<!-- I0 -->\n",
       "<g id=\"node1\" class=\"node\">\n",
       "<title>I0</title>\n",
       "<ellipse fill=\"#000000\" stroke=\"#000000\" cx=\"0\" cy=\"-94.5\" rx=\"0\" ry=\"0\"/>\n",
       "</g>\n",
       "<!-- 0 -->\n",
       "<g id=\"node5\" class=\"node\">\n",
       "<title>0</title>\n",
       "<path fill=\"#98f5ff\" stroke=\"#000000\" d=\"M156.3333,-109C156.3333,-109 46.6667,-109 46.6667,-109 41.8333,-109 37,-104.1667 37,-99.3333 37,-99.3333 37,-89.6667 37,-89.6667 37,-84.8333 41.8333,-80 46.6667,-80 46.6667,-80 156.3333,-80 156.3333,-80 161.1667,-80 166,-84.8333 166,-89.6667 166,-89.6667 166,-99.3333 166,-99.3333 166,-104.1667 161.1667,-109 156.3333,-109\"/>\n",
       "<text text-anchor=\"middle\" x=\"101.5\" y=\"-91.4\" font-family=\"Times,serif\" font-size=\"12.00\" fill=\"#000000\">(⟨2⟩(a+b))*|(⟨3⟩(x+y))*</text>\n",
       "</g>\n",
       "<!-- I0&#45;&gt;0 -->\n",
       "<g id=\"edge1\" class=\"edge\">\n",
       "<title>I0&#45;&gt;0</title>\n",
       "<path fill=\"none\" stroke=\"#000000\" d=\"M.0736,-94.5C1.1642,-94.5 14.253,-94.5 30.687,-94.5\"/>\n",
       "<polygon fill=\"#000000\" stroke=\"#000000\" points=\"36.877,-94.5 30.877,-97.2001 33.877,-94.5 30.877,-94.5001 30.877,-94.5001 30.877,-94.5001 33.877,-94.5 30.877,-91.8001 36.877,-94.5 36.877,-94.5\"/>\n",
       "</g>\n",
       "<!-- F0 -->\n",
       "<g id=\"node2\" class=\"node\">\n",
       "<title>F0</title>\n",
       "<ellipse fill=\"#000000\" stroke=\"#000000\" cx=\"316\" cy=\"-160.5\" rx=\"0\" ry=\"0\"/>\n",
       "</g>\n",
       "<!-- F1 -->\n",
       "<g id=\"node3\" class=\"node\">\n",
       "<title>F1</title>\n",
       "<ellipse fill=\"#000000\" stroke=\"#000000\" cx=\"393\" cy=\"-94.5\" rx=\"0\" ry=\"0\"/>\n",
       "</g>\n",
       "<!-- F2 -->\n",
       "<g id=\"node4\" class=\"node\">\n",
       "<title>F2</title>\n",
       "<ellipse fill=\"#000000\" stroke=\"#000000\" cx=\"393\" cy=\"-14.5\" rx=\"0\" ry=\"0\"/>\n",
       "</g>\n",
       "<!-- 0&#45;&gt;F0 -->\n",
       "<g id=\"edge2\" class=\"edge\">\n",
       "<title>0&#45;&gt;F0</title>\n",
       "<path fill=\"none\" stroke=\"#000000\" d=\"M148.8385,-109.0657C203.0039,-125.732 287.1875,-151.6346 310.0825,-158.6792\"/>\n",
       "<polygon fill=\"#000000\" stroke=\"#000000\" points=\"315.9244,-160.4767 309.3956,-161.2928 313.057,-159.5944 310.1897,-158.7121 310.1897,-158.7121 310.1897,-158.7121 313.057,-159.5944 310.9838,-156.1315 315.9244,-160.4767 315.9244,-160.4767\"/>\n",
       "</g>\n",
       "<!-- 0&#45;&gt;0 -->\n",
       "<g id=\"edge3\" class=\"edge\">\n",
       "<title>0&#45;&gt;0</title>\n",
       "<path fill=\"none\" stroke=\"#000000\" d=\"M87.21,-109.21C83.764,-118.32 88.527,-127 101.5,-127 111.43,-127 116.55,-121.91 116.86,-115.44\"/>\n",
       "<polygon fill=\"#000000\" stroke=\"#000000\" points=\"115.79,-109.21 119.4667,-114.6664 116.2979,-112.1667 116.8057,-115.1234 116.8057,-115.1234 116.8057,-115.1234 116.2979,-112.1667 114.1447,-115.5805 115.79,-109.21 115.79,-109.21\"/>\n",
       "<text text-anchor=\"middle\" x=\"101.5\" y=\"-130.8\" font-family=\"Times,serif\" font-size=\"14.00\" fill=\"#000000\">⟨6⟩[a|xa|yb|xb|y]</text>\n",
       "</g>\n",
       "<!-- 1 -->\n",
       "<g id=\"node6\" class=\"node\">\n",
       "<title>1</title>\n",
       "<path fill=\"#98f5ff\" stroke=\"#000000\" d=\"M346.3333,-109C346.3333,-109 285.6667,-109 285.6667,-109 280.8333,-109 276,-104.1667 276,-99.3333 276,-99.3333 276,-89.6667 276,-89.6667 276,-84.8333 280.8333,-80 285.6667,-80 285.6667,-80 346.3333,-80 346.3333,-80 351.1667,-80 356,-84.8333 356,-89.6667 356,-89.6667 356,-99.3333 356,-99.3333 356,-104.1667 351.1667,-109 346.3333,-109\"/>\n",
       "<text text-anchor=\"middle\" x=\"316\" y=\"-91.4\" font-family=\"Times,serif\" font-size=\"12.00\" fill=\"#000000\">ε|(⟨3⟩(x+y))*</text>\n",
       "</g>\n",
       "<!-- 0&#45;&gt;1 -->\n",
       "<g id=\"edge4\" class=\"edge\">\n",
       "<title>0&#45;&gt;1</title>\n",
       "<path fill=\"none\" stroke=\"#000000\" d=\"M166.15,-94.5C199.43,-94.5 239.25,-94.5 269.47,-94.5\"/>\n",
       "<polygon fill=\"#000000\" stroke=\"#000000\" points=\"275.77,-94.5 269.77,-97.2001 272.77,-94.5 269.77,-94.5001 269.77,-94.5001 269.77,-94.5001 272.77,-94.5 269.77,-91.8001 275.77,-94.5 275.77,-94.5\"/>\n",
       "<text text-anchor=\"middle\" x=\"221\" y=\"-98.3\" font-family=\"Times,serif\" font-size=\"14.00\" fill=\"#000000\">⟨3⟩ε|x, ⟨3⟩ε|y</text>\n",
       "</g>\n",
       "<!-- 2 -->\n",
       "<g id=\"node7\" class=\"node\">\n",
       "<title>2</title>\n",
       "<path fill=\"#98f5ff\" stroke=\"#000000\" d=\"M345.8333,-29C345.8333,-29 286.1667,-29 286.1667,-29 281.3333,-29 276.5,-24.1667 276.5,-19.3333 276.5,-19.3333 276.5,-9.6667 276.5,-9.6667 276.5,-4.8333 281.3333,0 286.1667,0 286.1667,0 345.8333,0 345.8333,0 350.6667,0 355.5,-4.8333 355.5,-9.6667 355.5,-9.6667 355.5,-19.3333 355.5,-19.3333 355.5,-24.1667 350.6667,-29 345.8333,-29\"/>\n",
       "<text text-anchor=\"middle\" x=\"316\" y=\"-11.4\" font-family=\"Times,serif\" font-size=\"12.00\" fill=\"#000000\">(⟨2⟩(a+b))*|ε</text>\n",
       "</g>\n",
       "<!-- 0&#45;&gt;2 -->\n",
       "<g id=\"edge5\" class=\"edge\">\n",
       "<title>0&#45;&gt;2</title>\n",
       "<path fill=\"none\" stroke=\"#000000\" d=\"M140.84,-79.827C177.58,-66.125 232.38,-45.688 270.87,-31.33\"/>\n",
       "<polygon fill=\"#000000\" stroke=\"#000000\" points=\"276.91,-29.08 272.23,-33.7047 274.0987,-30.1273 271.2874,-31.1746 271.2874,-31.1746 271.2874,-31.1746 274.0987,-30.1273 270.3449,-28.6444 276.91,-29.08 276.91,-29.08\"/>\n",
       "<text text-anchor=\"middle\" x=\"221\" y=\"-65.3\" font-family=\"Times,serif\" font-size=\"14.00\" fill=\"#000000\">⟨2⟩a|ε, ⟨2⟩b|ε</text>\n",
       "</g>\n",
       "<!-- 1&#45;&gt;F1 -->\n",
       "<g id=\"edge6\" class=\"edge\">\n",
       "<title>1&#45;&gt;F1</title>\n",
       "<path fill=\"none\" stroke=\"#000000\" d=\"M356.3041,-94.5C368.1481,-94.5 379.764,-94.5 386.6548,-94.5\"/>\n",
       "<polygon fill=\"#000000\" stroke=\"#000000\" points=\"392.9476,-94.5 386.9477,-97.2001 389.9476,-94.5 386.9476,-94.5001 386.9476,-94.5001 386.9476,-94.5001 389.9476,-94.5 386.9476,-91.8001 392.9476,-94.5 392.9476,-94.5\"/>\n",
       "</g>\n",
       "<!-- 1&#45;&gt;1 -->\n",
       "<g id=\"edge7\" class=\"edge\">\n",
       "<title>1&#45;&gt;1</title>\n",
       "<path fill=\"none\" stroke=\"#000000\" d=\"M305.89,-109.21C303.45,-118.32 306.82,-127 316,-127 323.03,-127 326.65,-121.91 326.86,-115.44\"/>\n",
       "<polygon fill=\"#000000\" stroke=\"#000000\" points=\"326.11,-109.21 329.5079,-114.8442 326.4686,-112.1885 326.8272,-115.167 326.8272,-115.167 326.8272,-115.167 326.4686,-112.1885 324.1466,-115.4897 326.11,-109.21 326.11,-109.21\"/>\n",
       "<text text-anchor=\"middle\" x=\"316\" y=\"-130.8\" font-family=\"Times,serif\" font-size=\"14.00\" fill=\"#000000\">⟨3⟩ε|x, ⟨3⟩ε|y</text>\n",
       "</g>\n",
       "<!-- 2&#45;&gt;F2 -->\n",
       "<g id=\"edge8\" class=\"edge\">\n",
       "<title>2&#45;&gt;F2</title>\n",
       "<path fill=\"none\" stroke=\"#000000\" d=\"M355.8533,-14.5C367.7979,-14.5 379.5687,-14.5 386.559,-14.5\"/>\n",
       "<polygon fill=\"#000000\" stroke=\"#000000\" points=\"392.9468,-14.5 386.9468,-17.2001 389.9468,-14.5 386.9468,-14.5001 386.9468,-14.5001 386.9468,-14.5001 389.9468,-14.5 386.9467,-11.8001 392.9468,-14.5 392.9468,-14.5\"/>\n",
       "</g>\n",
       "<!-- 2&#45;&gt;2 -->\n",
       "<g id=\"edge9\" class=\"edge\">\n",
       "<title>2&#45;&gt;2</title>\n",
       "<path fill=\"none\" stroke=\"#000000\" d=\"M305.89,-29.206C303.45,-38.324 306.82,-47 316,-47 323.03,-47 326.65,-41.914 326.86,-35.438\"/>\n",
       "<polygon fill=\"#000000\" stroke=\"#000000\" points=\"326.11,-29.206 329.5076,-34.8404 326.4685,-32.1845 326.827,-35.163 326.827,-35.163 326.827,-35.163 326.4685,-32.1845 324.1463,-35.4857 326.11,-29.206 326.11,-29.206\"/>\n",
       "<text text-anchor=\"middle\" x=\"316\" y=\"-50.8\" font-family=\"Times,serif\" font-size=\"14.00\" fill=\"#000000\">⟨2⟩a|ε, ⟨2⟩b|ε</text>\n",
       "</g>\n",
       "</g>\n",
       "</svg>\n"
      ],
      "text/plain": [
       "expression_automaton<mutable_automaton<context<lat<nullableset<letterset<char_letters>>, nullableset<letterset<char_letters>>>, q>>>"
      ]
     },
     "execution_count": 17,
     "metadata": {},
     "output_type": "execute_result"
    }
   ],
   "source": [
    "a = e.derived_term()\n",
    "a"
   ]
  },
  {
   "cell_type": "code",
   "execution_count": 18,
   "metadata": {},
   "outputs": [
    {
     "name": "stdout",
     "output_type": "stream",
     "text": [
      "\\e|\\e\n",
      "<3>\\e|x\n",
      "<3>\\e|y\n",
      "<2>a|\\e\n",
      "<6>a|x\n",
      "<6>a|y\n",
      "<2>b|\\e\n",
      "<6>b|x\n",
      "<6>b|y\n",
      "<9>\\e|xx\n",
      "<9>\\e|xy\n",
      "<9>\\e|yx\n",
      "<9>\\e|yy\n",
      "<18>a|xx\n",
      "<18>a|xy\n",
      "<18>a|yx\n",
      "<18>a|yy\n",
      "<18>b|xx\n",
      "<18>b|xy\n",
      "<18>b|yx\n"
     ]
    }
   ],
   "source": [
    "print('{:l}'.format(a.shortest(20)))"
   ]
  }
 ],
 "metadata": {
  "kernelspec": {
   "display_name": "Python 3",
   "language": "python",
   "name": "python3"
  },
  "language_info": {
   "codemirror_mode": {
    "name": "ipython",
    "version": 3
   },
   "file_extension": ".py",
   "mimetype": "text/x-python",
   "name": "python",
   "nbconvert_exporter": "python",
   "pygments_lexer": "ipython3",
   "version": "3.5.3"
  }
 },
 "nbformat": 4,
 "nbformat_minor": 1
}
