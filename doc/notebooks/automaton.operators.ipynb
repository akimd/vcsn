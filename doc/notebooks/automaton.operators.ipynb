{
 "cells": [
  {
   "cell_type": "markdown",
   "metadata": {},
   "source": [
    "# Operators on automata\n",
    "\n",
    "<table>\n",
    "  <tr><td>`*`</td>  <td>[multiply](automaton.multiply.ipynb)</td> <td>Product (concatenation)</td></tr>\n",
    "  <tr><td>`&`</td>  <td>[conjunction](automaton.conjunction.ipynb)</td> <td>Conjunction (synchronized product)</td></tr>\n",
    "  <tr><td>`+`</td>  <td>[sum](automaton.sum.ipynb)</td>                 <td>Sum (disjunction)</td></tr>\n",
    "  <tr><td>`%`</td>  <td>[difference](automaton.difference.ipynb)</td>   <td>Difference</td></tr>\n",
    "  <tr><td>`-`</td>  <td>[difference](automaton.difference.ipynb)</td>   <td>Difference</td></tr>\n",
    "  <tr><td>`**`</td> <td>[power](automaton.power.ipynb)</td>             <td>Repeated concatenation</td></tr>\n",
    "</table>"
   ]
  }
 ],
 "metadata": {
  "kernelspec": {
   "display_name": "Python 3",
   "language": "python",
   "name": "python3"
  },
  "language_info": {
   "codemirror_mode": {
    "name": "ipython",
    "version": 3
   },
   "file_extension": ".py",
   "mimetype": "text/x-python",
   "name": "python",
   "nbconvert_exporter": "python",
   "pygments_lexer": "ipython3",
   "version": "3.4.3"
  }
 },
 "nbformat": 4,
 "nbformat_minor": 0
}
