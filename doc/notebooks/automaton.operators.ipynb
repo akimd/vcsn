{
 "cells": [
  {
   "cell_type": "markdown",
   "metadata": {},
   "source": [
    "# Operators on Automata\n",
    "\n",
    "<table>\n",
    "  <tr><td>`aut + aut`</td>  <td>[sum](automaton.sum.ipynb)</td>                 <td>Sum (disjunction)</td></tr>\n",
    "  <tr><td>`aut * weight`</td> <td>[right_mult](automaton.right_mult.ipynb)</td> <td>Right scalar product</td></tr>\n",
    "  <tr><td>`weight * aut`</td> <td>[left_mult](automaton.left_mult.ipynb)</td> <td>Left scalar product</td></tr>\n",
    "\n",
    "  <tr><td>`~aut`</td>       <td>[complement](automaton.complement.ipynb)</td>   <td>Complement</td></tr>\n",
    "\n",
    "  <tr><td>`aut & aut`</td>  <td>[conjunction](automaton.conjunction.ipynb)</td> <td>Conjunction (synchronized product)</td></tr>\n",
    "  <tr><td>`aut & num`</td>  <td>[conjunction](automaton.conjunction.ipynb)</td> <td>Repeated conjunction</td></tr>\n",
    "\n",
    "  <tr><td>`aut % aut`</td>  <td>[difference](automaton.difference.ipynb)</td>   <td>Set difference</td></tr>\n",
    "\n",
    "  <tr><td>`aut * aut`</td>    <td>[multiply](automaton.multiply.ipynb)</td> <td>Product (concatenation)</td></tr>\n",
    "\n",
    "  <tr><td>`aut ** num`</td>   <td rowspan=\"2\">[multiply](automaton.multiply.ipynb)</td>    <td rowspan=\"2\">Repeated multiplication</td></tr>\n",
    "  <tr><td>`aut ** (min, max)`</td></tr>\n",
    "  <tr><td>`aut(word)`</td>       <td>[eval](automaton.eval.ipynb)</td>   <td>Evaluate</td></tr>\n",
    "</table>"
   ]
  }
 ],
 "metadata": {
  "kernelspec": {
   "display_name": "Python 3",
   "language": "python",
   "name": "python3"
  },
  "language_info": {
   "codemirror_mode": {
    "name": "ipython",
    "version": 3
   },
   "file_extension": ".py",
   "mimetype": "text/x-python",
   "name": "python",
   "nbconvert_exporter": "python",
   "pygments_lexer": "ipython3",
   "version": "3.4.4"
  }
 },
 "nbformat": 4,
 "nbformat_minor": 0
}
