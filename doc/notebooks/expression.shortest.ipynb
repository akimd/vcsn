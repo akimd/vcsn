{
 "cells": [
  {
   "cell_type": "markdown",
   "metadata": {},
   "source": [
    "# _expression_.shortest(_num_ = None, _len_ = None)\n",
    "\n",
    "Return a (finite) approximation of the series denoted by the expression.\n",
    "\n",
    "This is equivalent to calling `expression.derived_term().shortest`.  See its documentation for more details.\n",
    "\n",
    "See also:\n",
    "- [_automaton_.shortest](automaton.shortest.ipynb)\n",
    "\n",
    "## Examples\n",
    "### Boolean Expressions"
   ]
  },
  {
   "cell_type": "code",
   "execution_count": 1,
   "metadata": {
    "collapsed": false
   },
   "outputs": [
    {
     "data": {
      "text/latex": [
       "$\\mathit{aa}$"
      ],
      "text/plain": [
       "aa"
      ]
     },
     "execution_count": 1,
     "metadata": {},
     "output_type": "execute_result"
    }
   ],
   "source": [
    "import vcsn\n",
    "e = vcsn.B.expression('[ab]*a[ab]')\n",
    "e.shortest()"
   ]
  },
  {
   "cell_type": "code",
   "execution_count": 2,
   "metadata": {
    "collapsed": false
   },
   "outputs": [
    {
     "data": {
      "text/latex": [
       "$\\mathit{aa} \\oplus \\mathit{ab} \\oplus \\mathit{aaa} \\oplus \\mathit{aab}$"
      ],
      "text/plain": [
       "aa + ab + aaa + aab"
      ]
     },
     "execution_count": 2,
     "metadata": {},
     "output_type": "execute_result"
    }
   ],
   "source": [
    "e.shortest(4)"
   ]
  },
  {
   "cell_type": "code",
   "execution_count": 3,
   "metadata": {
    "collapsed": false
   },
   "outputs": [
    {
     "data": {
      "text/latex": [
       "$\\mathit{aa} \\oplus \\mathit{ab} \\oplus \\mathit{aaa} \\oplus \\mathit{aab} \\oplus \\mathit{baa} \\oplus \\mathit{bab} \\oplus \\mathit{aaaa} \\oplus \\mathit{aaab} \\oplus \\mathit{abaa} \\oplus \\mathit{abab} \\oplus \\mathit{baaa} \\oplus \\mathit{baab} \\oplus \\mathit{bbaa} \\oplus \\mathit{bbab}$"
      ],
      "text/plain": [
       "aa + ab + aaa + aab + baa + bab + aaaa + aaab + abaa + abab + baaa + baab + bbaa + bbab"
      ]
     },
     "execution_count": 3,
     "metadata": {},
     "output_type": "execute_result"
    }
   ],
   "source": [
    "e.shortest(len=4)"
   ]
  },
  {
   "cell_type": "code",
   "execution_count": 4,
   "metadata": {
    "collapsed": false
   },
   "outputs": [
    {
     "data": {
      "text/latex": [
       "$\\mathit{aa} \\oplus \\mathit{ab} \\oplus \\mathit{aaa} \\oplus \\mathit{aab} \\oplus \\mathit{baa} \\oplus \\mathit{bab} \\oplus \\mathit{aaaa} \\oplus \\mathit{aaab} \\oplus \\mathit{abaa} \\oplus \\mathit{abab}$"
      ],
      "text/plain": [
       "aa + ab + aaa + aab + baa + bab + aaaa + aaab + abaa + abab"
      ]
     },
     "execution_count": 4,
     "metadata": {},
     "output_type": "execute_result"
    }
   ],
   "source": [
    "e.shortest(num=10, len=4)"
   ]
  },
  {
   "cell_type": "code",
   "execution_count": 5,
   "metadata": {
    "collapsed": false
   },
   "outputs": [
    {
     "data": {
      "text/latex": [
       "$\\mathit{aa} \\oplus \\mathit{ab} \\oplus \\mathit{aaa} \\oplus \\mathit{aab} \\oplus \\mathit{baa} \\oplus \\mathit{bab}$"
      ],
      "text/plain": [
       "aa + ab + aaa + aab + baa + bab"
      ]
     },
     "execution_count": 5,
     "metadata": {},
     "output_type": "execute_result"
    }
   ],
   "source": [
    "e.shortest(num=10, len=3)"
   ]
  },
  {
   "cell_type": "markdown",
   "metadata": {},
   "source": [
    "### Weighted Expressions"
   ]
  },
  {
   "cell_type": "code",
   "execution_count": 6,
   "metadata": {
    "collapsed": false
   },
   "outputs": [
    {
     "data": {
      "text/latex": [
       "$\\varepsilon \\oplus \\left\\langle 2\\right\\rangle \\mathit{a} \\oplus \\left\\langle 4\\right\\rangle \\mathit{aa} \\oplus \\left\\langle 8\\right\\rangle \\mathit{aaa}$"
      ],
      "text/plain": [
       "\\e + <2>a + <4>aa + <8>aaa"
      ]
     },
     "execution_count": 6,
     "metadata": {},
     "output_type": "execute_result"
    }
   ],
   "source": [
    "e = vcsn.Z.expression('(<2>a)*')\n",
    "e.shortest(len=3)"
   ]
  },
  {
   "cell_type": "code",
   "execution_count": 7,
   "metadata": {
    "collapsed": false
   },
   "outputs": [
    {
     "data": {
      "text/latex": [
       "$\\varepsilon \\oplus \\left\\langle 2\\right\\rangle \\mathit{a} \\oplus \\left\\langle 4\\right\\rangle \\mathit{aa} \\oplus \\left\\langle 8\\right\\rangle \\mathit{aaa} \\oplus \\left\\langle 16\\right\\rangle \\mathit{aaaa} \\oplus \\left\\langle 32\\right\\rangle \\mathit{aaaaa} \\oplus \\left\\langle 64\\right\\rangle \\mathit{aaaaaa} \\oplus \\left\\langle 128\\right\\rangle \\mathit{aaaaaaa} \\oplus \\left\\langle 256\\right\\rangle \\mathit{aaaaaaaa} \\oplus \\left\\langle 512\\right\\rangle \\mathit{aaaaaaaaa}$"
      ],
      "text/plain": [
       "\\e + <2>a + <4>aa + <8>aaa + <16>aaaa + <32>aaaaa + <64>aaaaaa + <128>aaaaaaa + <256>aaaaaaaa + <512>aaaaaaaaa"
      ]
     },
     "execution_count": 7,
     "metadata": {},
     "output_type": "execute_result"
    }
   ],
   "source": [
    "e.shortest(num=10)"
   ]
  }
 ],
 "metadata": {
  "kernelspec": {
   "display_name": "Python 3",
   "language": "python",
   "name": "python3"
  },
  "language_info": {
   "codemirror_mode": {
    "name": "ipython",
    "version": 3
   },
   "file_extension": ".py",
   "mimetype": "text/x-python",
   "name": "python",
   "nbconvert_exporter": "python",
   "pygments_lexer": "ipython3",
   "version": "3.4.4"
  }
 },
 "nbformat": 4,
 "nbformat_minor": 0
}
