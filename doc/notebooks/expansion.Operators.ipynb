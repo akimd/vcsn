{
 "cells": [
  {
   "cell_type": "markdown",
   "metadata": {},
   "source": [
    "# Operators on Expansions\n",
    "\n",
    "<table>\n",
    "  <tr><td>`x + x`</td>  <td>[add](expansion.add.ipynb)</td>                 <td>Sum (disjunction)</td></tr>\n",
    "\n",
    "  <tr><td>`x * weight`</td> <td>[rweight](expansion.rweight.ipynb)</td> <td>Right scalar product</td></tr>\n",
    "  <tr><td>`weight * x`</td> <td>[lweight](expansion.lweight.ipynb)</td> <td>Left scalar product</td></tr>\n",
    "\n",
    "  <tr><td>`x \\\\ x`</td>  <td>[ldivide](expansion.ldivide.ipynb)</td>    <td>Left quotient</td></tr>\n",
    "\n",
    "  <tr><td>`x & x`</td>   <td>[conjunction](expansion.conjunction.ipynb)</td> <td>Conjunction (synchronized product)</td></tr>\n",
    "\n",
    "  <tr><td>`~x`</td>      <td>[complement](expansion.complement.ipynb)</td>   <td>Complement</td></tr>\n",
    "\n",
    "  <tr><td>`x | x`</td>   <td>[tuple](expansion.tuple.ipynb)</td>             <td>Tuple (Cartesian product)</td></tr>\n",
    "</table>"
   ]
  }
 ],
 "metadata": {
  "kernelspec": {
   "display_name": "Python 3",
   "language": "python",
   "name": "python3"
  },
  "language_info": {
   "codemirror_mode": {
    "name": "ipython",
    "version": 3
   },
   "file_extension": ".py",
   "mimetype": "text/x-python",
   "name": "python",
   "nbconvert_exporter": "python",
   "pygments_lexer": "ipython3",
   "version": "3.6.4"
  }
 },
 "nbformat": 4,
 "nbformat_minor": 1
}
