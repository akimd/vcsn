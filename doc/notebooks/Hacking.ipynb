{
 "metadata": {
  "name": "",
  "signature": "sha256:22ce11ee46ea8777fec08b360779c07bc6a116398f6d1097b30894877b117160"
 },
 "nbformat": 3,
 "nbformat_minor": 0,
 "worksheets": [
  {
   "cells": [
    {
     "cell_type": "heading",
     "level": 2,
     "metadata": {},
     "source": [
      "Tools you should know"
     ]
    },
    {
     "cell_type": "markdown",
     "metadata": {},
     "source": [
      "* `c++filt` demangles C++ symbol names.\n",
      "* `valgrind` verifies memory issues.\n",
      "* `nm` lists the symbols in object files.  Use `nm -C` to demangle C++ names.\n",
      "* `ldd` lists the libraries an object file depends upon."
     ]
    },
    {
     "cell_type": "heading",
     "level": 2,
     "metadata": {},
     "source": [
      "Tests"
     ]
    },
    {
     "cell_type": "markdown",
     "metadata": {},
     "source": [
      "To run the test suite, 4 processes in parallel (e.g., if you have 4\n",
      "threads like with an i7), run\n",
      "\n",
      "    $ make -j4 check\n",
      "\n",
      "To run some of the tests (e.g., tafkit/determinize.chk), run\n",
      "\n",
      "    $ make -j4 tests/python/determinize.log\n",
      "    \n",
      "or\n",
      "\n",
      "    $ make -j4 check TESTS=tests/python/determinize.py\n",
      "\n",
      "The latter will create `tests/test-suite.log` and `tests/python/determinize.log`, the former only the latter.\n",
      "\n",
      "Both will run `make all`, which can take a while.  If you know what you are doing (for instance you want to check something which is compile at runtime), you can avoid this `make all` by running the test by hand:\n",
      "\n",
      "    $ ./_build/tests/bin/vcsn -e tests/python/determinize.py\n",
      "\n",
      "You may also run only the unit/rat/demo/tafkit tests:\n",
      "\n",
      "    $ make -j4 check-tafkit"
     ]
    },
    {
     "cell_type": "heading",
     "level": 3,
     "metadata": {},
     "source": [
      "To create a new test case"
     ]
    },
    {
     "cell_type": "markdown",
     "metadata": {},
     "source": [
      "Creating a new test case is quite easy: select the proper file (usually the name of the `tests/python/*.py` is clear enough, but make sure with `git grep ALGO tests/python` if the ALGO is not actually tested in a less obvious place), then do as you see with the other tests."
     ]
    },
    {
     "cell_type": "heading",
     "level": 3,
     "metadata": {},
     "source": [
      "To create a new test file"
     ]
    },
    {
     "cell_type": "markdown",
     "metadata": {},
     "source": [
      "Avoid creating too many files.  For instance `prefix` and `suffix` do not deserve two different files, they can both live in `prefix.py` for instance."
     ]
    },
    {
     "cell_type": "markdown",
     "metadata": {},
     "source": [
      "1. create the file `tests/python/foo.py` by copying some existing file\n",
      "2. make sure it is executable\n",
      "\n",
      "    $ chmod +x tests/python/foo.py\n",
      "\n",
      "3. add this file to the repository\n",
      "\n",
      "    $ git add tests/python/foo.py\n",
      "\n",
      "4. add this file to the list of tests in `tests/python/local.mk`, respect the alphabetical order\n",
      "5. run just this test to make sure that everything is ok\n",
      "\n",
      "    $ ./_build/35s/tests/bin/vcsn -e tests/python/foo.py"
     ]
    },
    {
     "cell_type": "heading",
     "level": 3,
     "metadata": {},
     "source": [
      "To debug"
     ]
    },
    {
     "cell_type": "markdown",
     "metadata": {},
     "source": [
      "The script `_build/35s/tests/bin/vcsn` defines the environment needed to run a non-installed version of Vaucanson.  To debug a Python program, use this:\n",
      "\n",
      "    ./_build/35s/tests/bin/vcsn -e gdb --args python -c \"import vcsn;\n",
      "    vcsn.context('lal_char(ab), b').expression('[^]*a').derived_term()\n",
      "\n",
      "for instance.  To run a TAF-Kit command under Valgrind:\n",
      "\n",
      "    ./_build/35s/tests/bin/vcsn -e valgrind ./_build/35s/bin/vcsn-tafkit cat -Ee a"
     ]
    },
    {
     "cell_type": "heading",
     "level": 2,
     "metadata": {},
     "source": [
      "Commits"
     ]
    },
    {
     "cell_type": "markdown",
     "metadata": {},
     "source": [
      "There is a number of rules to follow:\n",
      "- one purpose per commit\n",
      "- space changes are one purpose, therefore a separate commit\n",
      "- commit should have a title which looks like \"_topic_: _what_\" where\n",
      "  - topic is something like `doc`, `dyn`, `determinize`, `expression`, `style` (for space changes, etc.)...\n",
      "  - what is a sentence, starting with a lower case letter, telling what this change is about\n",
      "- commits then follow with text explaining the motivations for the commit\n",
      "  - describe the bug it fixes\n",
      "  - explain the alternatives and why this one was preferred\n",
      "  - show results of `vcsn score` that demonstrate that there is no regression/an improvement\n",
      "- commits then follow with the list of files and a concise description of the changes (with an emphasize on the why rather than paraphrasing the git log)."
     ]
    },
    {
     "cell_type": "markdown",
     "metadata": {},
     "source": [
      "Be sure to read other commit logs to understand the style and to copy it.  Here are a few examples:"
     ]
    },
    {
     "cell_type": "markdown",
     "metadata": {},
     "source": [
      "    commit ab30db4e253cf88e167baf7209036e62df2820ce\n",
      "    Author: Akim Demaille <akim@lrde.epita.fr>\n",
      "    Date:   Tue Jul 22 13:05:38 2014 +0200\n",
      "    \n",
      "        translate: issue a parse error when reading an invalid context\n",
      "        \n",
      "        Currently, when parsing a context, we actually get ready to accept any\n",
      "        type (including automata, ints, or pure junk).  As a result, we also\n",
      "        try to compile the corresponding make_context, even for obvious parse\n",
      "        errors.  This is slow, and provides a bad error message.\n",
      "        \n",
      "        Speed is especially an issue with the current %automaton IPython magic\n",
      "        line, as it tries to compile the result at each key stroke, which\n",
      "        results in incredibly slow interaction, as we wait for the compiler to\n",
      "        fail...\n",
      "        \n",
      "        * vcsn/dyn/context-parser.hh, lib/vcsn/dyn/context-parser.cc\n",
      "        (parse_context): New.\n",
      "        (context_): New overload to factor some calls.\n",
      "        * lib/vcsn/dyn/translate.cc: Use parse_context.\n",
      "        Remove duplicate handling of EOF.\n",
      "    \n",
      "    commit e105139747ae4efc83e6e4b61545feaa25d2efec\n",
      "    Author: Akim Demaille <akim@lrde.epita.fr>\n",
      "    Date:   Mon Jul 21 18:57:47 2014 +0200\n",
      "    \n",
      "        doc: determinize: be clearer\n",
      "        \n",
      "        * share/vcsn/notebooks/algos/determinize.ipynb: Show examples in Q.\n",
      "    \n",
      "    commit 5308a3c6679efea3076b5de645b85f85bed1cb9a\n",
      "    Author: Akim Demaille <akim@lrde.epita.fr>\n",
      "    Date:   Wed Jul 16 10:28:59 2014 +0200\n",
      "    \n",
      "        polynomials: get back the print_weight_ function\n",
      "        \n",
      "        This basically reverts\n",
      "        \n",
      "            commit 61802295079835b2f71bb4b35545f5c8dcc2a7b7\n",
      "            Author: Akim Demaille <akim@lrde.epita.fr>\n",
      "            Date:   Fri Jul 11 18:32:34 2014 +0200\n",
      "        \n",
      "            determinize: use our angle-bracket notation for \"weighted\" states\n",
      "        \n",
      "            I see polynomials of states in our future...\n",
      "        \n",
      "            * vcsn/weightset/polynomialset.hh (print_): Move to...\n",
      "            * vcsn/weightset/weightset.hh (print_weight): here.\n",
      "        \n",
      "        since we no longer need it outside polynomials, as we use\n",
      "        polynomialset's print function.\n",
      "        \n",
      "        * vcsn/weightset/weightset.hh (print_weight): Move back to...\n",
      "        * vcsn/weightset/polynomialset.hh (print_weight_): here.\n",
      "    \n",
      "    commit 8e183c358dd10246ef57dc25fabe122f4ddb0bb0\n",
      "    Author: Canh Luu <ldcanh@gmail.com>\n",
      "    Date:   Wed Jul 2 10:13:07 2014 +0200\n",
      "    \n",
      "        determinize: remove complete\n",
      "        \n",
      "        Benchs show that even when _not_ asking for a complete result, the\n",
      "        mere fact of checking whether not to complete does incur a small\n",
      "        performance hit.\n",
      "        \n",
      "        Worse yet: the next commit completely changes to core loop of the\n",
      "        algorithm, and making the automaton complete really adds cruft to the\n",
      "        algorithm.  So instead of trying to merge two algorithms into one,\n",
      "        stop supporting the 'complete' feature in determinization, just call\n",
      "        complete() afterwards if needed.\n",
      "        \n",
      "        On erebus, previous commit and then this one:\n",
      "        \n",
      "           n-1   n\n",
      "          7.93s 7.80s: a.determinize()      # a = ladybird(21)\n",
      "          6.64s 6.45s: a.determinize()      # a = lal(a-zA-Z0-9).ladybird(18)\n",
      "        \n",
      "        * vcsn/algos/determinize.hh, lib/vcsn/algos/determinize.cc,\n",
      "        * python/vcsn_cxx.cc, tests/python/determinize.py\n",
      "        * vcsn/algos/are-equivalent.hh, bin/vcsn-tafkit.cc,\n",
      "        * vcsn/ctx/lal_char, b.hh, vcsn/dyn/algos.hh: Here.\n",
      "    \n",
      "    commit 044bf26c52b825ff155df4e103586cef68092102\n",
      "    Author: Luca Saiu <positron@gnu.org>\n",
      "    Date:   Fri Jun 27 12:08:47 2014 +0200\n",
      "    \n",
      "        subset automaton bugfix: copy shared_ptr instead of using reference to it\n",
      "        \n",
      "        (Reported by Alexandre Duret-Lutz)\n",
      "        \n",
      "        I was mistakenly storing a reference to a shared_ptr object, instead\n",
      "        of copying the shared_ptr into another shared_ptr, thus updating the\n",
      "        reference counter.  Of course as soon as the referred object was\n",
      "        destroyed, hell broke loose.\n",
      "        \n",
      "        * vcsn/core/partition-automaton.hh: One-character fix.\n",
      "        \n",
      "        * TODO.txt: Write down that using a *const* shared_ptr for the referred\n",
      "        * automaton, as I did here, is often a good idea in decorators.\n",
      "    \n",
      "    commit a17e4e65d6a67dda647776164da0a5e2c6a5799b\n",
      "    Author: Luca Saiu <positron@gnu.org>\n",
      "    Date:   Thu Jun 5 16:49:14 2014 +0200\n",
      "    \n",
      "        add new partition-automaton decorator, and use it for minimization\n",
      "        \n",
      "        Build partition-automaton, a decorator related to the *shape* of an\n",
      "        automaton rather than to the algorithm which produced it, which\n",
      "        reflects a slight change of directions in decorators.  Use it in\n",
      "        quotient to build a decorated automaton from classes -- without making\n",
      "        everything inefficient: the algorithm remains identical; it could have\n",
      "        been slightly simplified, but at the cost of introducing dynamic\n",
      "        lookups for state sets.\n",
      "        \n",
      "        The decorator is intended to be useful for determinization as well.\n",
      "        \n",
      "        Don't accept \"brzozowski\" as an algorithm variant at the static level;\n",
      "        rather, let the user call minimize_brzozowski directly (Rationale: the\n",
      "        decorator would be very different, and typically uninteresting).\n",
      "        Accept \"brzozowski\" as a variant at the Dyn and Python levels.\n",
      "        \n",
      "        No change in score from the previous commit.  On minsky:\n",
      "        1.64s  1.64s  a.minimize(\"moore\")  # a = std([a-k]{2000})\n",
      "        2.34s  2.32s  a.minimize(\"signature\") # a = std([a-g]{800})\n",
      "        \n",
      "        * vcsn/core/partition-automaton.hh: New.\n",
      "        \n",
      "        * vcsn/algos/minimize.hh: Disable brzozowski; don't strip input.\n",
      "        * vcsn/algos/quotient.hh: Remove the VCSN_ORIGINS kludge, now obsolete here.\n",
      "        \n",
      "        * vcsn/algos/minimize-moore.hh, vcsn/algos/minimize-signature.hh,\n",
      "        * vcsn/algos/minimize-weighted.hh: Change result types.\n",
      "        \n",
      "        * lib/vcsn/dyn/context-parser.cc: Here.\n",
      "        * lib/vcsn/dyn/context-printer.cc: Here.\n",
      "        \n",
      "        * vcsn/local.mk: Here.\n",
      "        \n",
      "        * tests/python/minimize.py, tests/python/minimize.dir/intricate.exp.gv,\n",
      "        * tests/python/minimize.dir/nonlal.exp.gv,\n",
      "        * tests/python/minimize.dir/redundant.exp.gv,\n",
      "        * tests/python/minimize.dir/small-nfa.exp.gv,\n",
      "        * tests/python/minimize.dir/small-weighted.exp.gv,\n",
      "        * tests/python/local.mk: Update testsuite.\n",
      "        \n",
      "        * vcsn/algos/minimize-brzozowski.hh: Write \"brzozowski\" with a 'w'.\n",
      "        \n",
      "        * NEWS.txt: Brag.\n"
     ]
    }
   ],
   "metadata": {}
  }
 ]
}