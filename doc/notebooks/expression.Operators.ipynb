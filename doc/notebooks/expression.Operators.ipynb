{
 "cells": [
  {
   "cell_type": "markdown",
   "metadata": {},
   "source": [
    "# Operators on Expressions\n",
    "\n",
    "<table>\n",
    "\n",
    "  <tr><td>`exp + exp`</td>  <td>[add](expression.add.ipynb)</td>                 <td>Sum (disjunction)</td></tr>\n",
    "  <tr><td>`exp * weight`</td> <td>[rweight](expression.rweight.ipynb)</td> <td>Right scalar product</td></tr>\n",
    "  <tr><td>`weight * exp`</td> <td>[lweight](expression.lweight.ipynb)</td> <td>Left scalar product</td></tr>\n",
    "\n",
    "  <tr><td>`~exp`</td>       <td>[complement](expression.complement.ipynb)</td>   <td>Complement</td></tr>\n",
    "\n",
    "  <tr><td>`exp & exp`</td>  <td>[conjunction](expression.conjunction.ipynb)</td> <td>Conjunction (synchronized product)</td></tr>\n",
    "  <tr><td>`exp & num`</td>  <td>[conjunction](expression.conjunction.ipynb)</td> <td>Repeated conjunction</td></tr>\n",
    "\n",
    "  <tr><td>`exp % exp`</td>  <td>[difference](expression.difference.ipynb)</td>   <td>Set difference</td></tr>\n",
    "\n",
    "  <tr><td>`exp * exp`</td>   <td>[multiply](expression.multiply.ipynb)</td> <td>Product (concatenation)</td></tr>\n",
    "\n",
    "  <tr><td>`exp ** num`</td>  <td rowspan=\"2\">[multiply](expression.multiply.ipynb)</td>    <td rowspan=\"2\">Repeated multiplication</td></tr>\n",
    "  <tr><td>`exp ** (min, max)`</td>\n",
    "  <tr><td>`exp // exp`</td>  <td>[ldivide](expression.rdivide.ipynb)</td>         <td>Left division</td></tr>\n",
    "  <tr><td>`exp / exp`</td>   <td>[rdivide](expression.rdivide.ipynb)</td>         <td>Right division</td></tr>\n",
    "  <tr><td>`exp | exp`</td>   <td>[tuple](expression.tuple.ipynb)</td>             <td>Tuple (Cartesian product)</td></tr>\n",
    "  <tr><td>`exp @ exp`</td>   <td>[compose](expression.compose.ipynb)</td>         <td>Composition</td></tr>\n",
    "\n",
    "</table>"
   ]
  }
 ],
 "metadata": {
  "kernelspec": {
   "display_name": "Python 3",
   "language": "python",
   "name": "python3"
  },
  "language_info": {
   "codemirror_mode": {
    "name": "ipython",
    "version": 3
   },
   "file_extension": ".py",
   "mimetype": "text/x-python",
   "name": "python",
   "nbconvert_exporter": "python",
   "pygments_lexer": "ipython3",
   "version": "3.6.4"
  },
  "widgets": {
   "state": {},
   "version": "1.1.2"
  }
 },
 "nbformat": 4,
 "nbformat_minor": 1
}
