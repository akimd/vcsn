{
 "metadata": {
  "name": "",
  "signature": "sha256:7d1960155aad98e7b75236775f3d248bb54822a684a66c7c843770425d47022b"
 },
 "nbformat": 3,
 "nbformat_minor": 0,
 "worksheets": [
  {
   "cells": [
    {
     "cell_type": "heading",
     "level": 1,
     "metadata": {},
     "source": [
      "_`expression`_.`star_normal_form()`"
     ]
    },
    {
     "cell_type": "markdown",
     "metadata": {},
     "source": [
      "Compute the _star normal form_ of a (Boolean) expression: an equivalent expression where the star operator is applied only on proper expressions (i.e., expressions whose constant term is null).\n",
      "\n",
      "Preconditions:\n",
      "- The expression is Boolean\n",
      "\n",
      "Postconditions:\n",
      "- The Result is equivalent to the input expression\n",
      "- The standard automata of the Result and of the input are isomorphic.\n",
      "\n",
      "See also:\n",
      "- [_expression_.standard](expression.standard.ipynb)\n",
      "\n",
      "Caveat:\n",
      "- Although the notion of \"star normal form\" is perfectly valid for weighted expressions, this implementation is unable to compute the star normal form in this case.  One could work-around this limitation by running _`exp`_`.standard().expression()`."
     ]
    },
    {
     "cell_type": "heading",
     "level": 2,
     "metadata": {},
     "source": [
      "Examples"
     ]
    },
    {
     "cell_type": "markdown",
     "metadata": {},
     "source": [
      "The following function allows to display nicely expressions and their star-normal form."
     ]
    },
    {
     "cell_type": "code",
     "collapsed": false,
     "input": [
      "import vcsn\n",
      "from IPython.display import Latex\n",
      "\n",
      "def snf(*rs):\n",
      "    eqs = []\n",
      "    for r in rs:\n",
      "        r = vcsn.b.expression(r)\n",
      "        eqs.append(r'{r} &\\Rightarrow {snf}'\n",
      "                   .format(r = r.format('latex'),\n",
      "                           snf = r.star_normal_form().format('latex')))\n",
      "    return Latex(r'''\\begin{{aligned}}\n",
      "        {eqs}\n",
      "    \\end{{aligned}}'''.format(eqs = r'\\\\'.join(eqs)))"
     ],
     "language": "python",
     "metadata": {},
     "outputs": [
      {
       "javascript": [
        "IPython.load_extensions(\"AutomatonD3Widget\")"
       ],
       "metadata": {},
       "output_type": "display_data",
       "text": [
        "<IPython.core.display.Javascript at 0x109c93150>"
       ]
      }
     ],
     "prompt_number": 1
    },
    {
     "cell_type": "code",
     "collapsed": false,
     "input": [
      "snf('a**', 'a?{+}', '(a+b*)*', '(a*+b*)*', '(ab)*', '(ab?)*', '(a?b?)*', '(a*b*c*)**')"
     ],
     "language": "python",
     "metadata": {},
     "outputs": [
      {
       "latex": [
        "\\begin{aligned}\n",
        "        {{a}^{*}}^{*} &\\Rightarrow {a}^{*}\\\\\\left(\\varepsilon + a\\right) \\, \\left(\\varepsilon + a\\right)^{*} &\\Rightarrow \\left(\\varepsilon + a\\right) \\, {a}^{*}\\\\\\left(a + {b}^{*}\\right)^{*} &\\Rightarrow \\left(a + b\\right)^{*}\\\\\\left({a}^{*} + {b}^{*}\\right)^{*} &\\Rightarrow \\left(a + b\\right)^{*}\\\\\\left(a \\, b\\right)^{*} &\\Rightarrow \\left(a \\, b\\right)^{*}\\\\\\left(a \\, \\left(\\varepsilon + b\\right)\\right)^{*} &\\Rightarrow \\left(a \\, \\left(\\varepsilon + b\\right)\\right)^{*}\\\\\\left(\\left(\\varepsilon + a\\right) \\, \\left(\\varepsilon + b\\right)\\right)^{*} &\\Rightarrow \\left(a + b\\right)^{*}\\\\{\\left({a}^{*} \\, {b}^{*} \\, {c}^{*}\\right)^{*}}^{*} &\\Rightarrow \\left(a + b + c\\right)^{*}\n",
        "    \\end{aligned}"
       ],
       "metadata": {},
       "output_type": "pyout",
       "prompt_number": 2,
       "text": [
        "<IPython.core.display.Latex at 0x106530610>"
       ]
      }
     ],
     "prompt_number": 2
    },
    {
     "cell_type": "markdown",
     "metadata": {},
     "source": [
      "Of course, expressions already in star-normal form are returned unmodified."
     ]
    },
    {
     "cell_type": "code",
     "collapsed": false,
     "input": [
      "snf('a*', '(a+b+c)*')"
     ],
     "language": "python",
     "metadata": {},
     "outputs": [
      {
       "latex": [
        "\\begin{aligned}\n",
        "        {a}^{*} &\\Rightarrow {a}^{*}\\\\\\left(a + b + c\\right)^{*} &\\Rightarrow \\left(a + b + c\\right)^{*}\n",
        "    \\end{aligned}"
       ],
       "metadata": {},
       "output_type": "pyout",
       "prompt_number": 3,
       "text": [
        "<IPython.core.display.Latex at 0x106530510>"
       ]
      }
     ],
     "prompt_number": 3
    },
    {
     "cell_type": "markdown",
     "metadata": {},
     "source": [
      "An expression and its star-normal form have the same standard automaton."
     ]
    },
    {
     "cell_type": "code",
     "collapsed": false,
     "input": [
      "r = vcsn.b.expression('(a*b*)*')\n",
      "r.standard()"
     ],
     "language": "python",
     "metadata": {},
     "outputs": [
      {
       "metadata": {},
       "output_type": "pyout",
       "prompt_number": 4,
       "svg": [
        "<?xml version=\"1.0\" encoding=\"UTF-8\" standalone=\"no\"?>\n",
        "<!DOCTYPE svg PUBLIC \"-//W3C//DTD SVG 1.1//EN\"\n",
        " \"http://www.w3.org/Graphics/SVG/1.1/DTD/svg11.dtd\">\n",
        "<!-- Generated by graphviz version 2.38.0 (20140413.2041)\n",
        " -->\n",
        "<!-- Title: %3 Pages: 1 -->\n",
        "<svg width=\"277pt\" height=\"127pt\"\n",
        " viewBox=\"0.00 0.00 277.00 126.87\" xmlns=\"http://www.w3.org/2000/svg\" xmlns:xlink=\"http://www.w3.org/1999/xlink\">\n",
        "<g id=\"graph0\" class=\"graph\" transform=\"scale(1 1) rotate(0) translate(4 120)\">\n",
        "<title>%3</title>\n",
        "<polygon fill=\"white\" stroke=\"none\" points=\"-4,6.8697 -4,-120 273,-120 273,6.8697 -4,6.8697\"/>\n",
        "<!-- I0 -->\n",
        "<g id=\"node1\" class=\"node\"><title>I0</title>\n",
        "<ellipse fill=\"black\" stroke=\"black\" cx=\"0\" cy=\"-47\" rx=\"0\" ry=\"0\"/>\n",
        "</g>\n",
        "<!-- 0 -->\n",
        "<g id=\"node5\" class=\"node\"><title>0</title>\n",
        "<ellipse fill=\"#98f5ff\" stroke=\"black\" cx=\"55\" cy=\"-47\" rx=\"18\" ry=\"18\"/>\n",
        "<text text-anchor=\"middle\" x=\"55\" y=\"-43.3\" font-family=\"Times,serif\" font-size=\"14.00\">0</text>\n",
        "</g>\n",
        "<!-- I0&#45;&gt;0 -->\n",
        "<g id=\"edge1\" class=\"edge\"><title>I0&#45;&gt;0</title>\n",
        "<path fill=\"none\" stroke=\"black\" d=\"M1.152,-47C2.7948,-47 17.459,-47 30.924,-47\"/>\n",
        "<polygon fill=\"black\" stroke=\"black\" points=\"36.975,-47 30.975,-49.7001 33.975,-47 30.975,-47.0001 30.975,-47.0001 30.975,-47.0001 33.975,-47 30.975,-44.3001 36.975,-47 36.975,-47\"/>\n",
        "</g>\n",
        "<!-- F0 -->\n",
        "<g id=\"node2\" class=\"node\"><title>F0</title>\n",
        "<ellipse fill=\"black\" stroke=\"black\" cx=\"134\" cy=\"-116\" rx=\"0\" ry=\"0\"/>\n",
        "</g>\n",
        "<!-- F1 -->\n",
        "<g id=\"node3\" class=\"node\"><title>F1</title>\n",
        "<ellipse fill=\"black\" stroke=\"black\" cx=\"214\" cy=\"-87\" rx=\"0\" ry=\"0\"/>\n",
        "</g>\n",
        "<!-- F3 -->\n",
        "<g id=\"node4\" class=\"node\"><title>F3</title>\n",
        "<ellipse fill=\"black\" stroke=\"black\" cx=\"269\" cy=\"-18\" rx=\"0\" ry=\"0\"/>\n",
        "</g>\n",
        "<!-- 0&#45;&gt;F0 -->\n",
        "<g id=\"edge2\" class=\"edge\"><title>0&#45;&gt;F0</title>\n",
        "<path fill=\"none\" stroke=\"black\" d=\"M68.7607,-59.0189C86.7475,-74.7288 117.346,-101.454 129.153,-111.767\"/>\n",
        "<polygon fill=\"black\" stroke=\"black\" points=\"133.877,-115.893 127.582,-113.979 131.618,-113.919 129.358,-111.946 129.358,-111.946 129.358,-111.946 131.618,-113.919 131.134,-109.912 133.877,-115.893 133.877,-115.893\"/>\n",
        "</g>\n",
        "<!-- 1 -->\n",
        "<g id=\"node6\" class=\"node\"><title>1</title>\n",
        "<ellipse fill=\"#98f5ff\" stroke=\"black\" cx=\"134\" cy=\"-47\" rx=\"18\" ry=\"18\"/>\n",
        "<text text-anchor=\"middle\" x=\"134\" y=\"-43.3\" font-family=\"Times,serif\" font-size=\"14.00\">1</text>\n",
        "</g>\n",
        "<!-- 0&#45;&gt;1 -->\n",
        "<g id=\"edge3\" class=\"edge\"><title>0&#45;&gt;1</title>\n",
        "<path fill=\"none\" stroke=\"black\" d=\"M73.089,-47C83.855,-47 97.897,-47 109.68,-47\"/>\n",
        "<polygon fill=\"black\" stroke=\"black\" points=\"115.96,-47 109.96,-49.7001 112.96,-47 109.96,-47.0001 109.96,-47.0001 109.96,-47.0001 112.96,-47 109.96,-44.3001 115.96,-47 115.96,-47\"/>\n",
        "<text text-anchor=\"middle\" x=\"94.5\" y=\"-50.8\" font-family=\"Times,serif\" font-size=\"14.00\">a</text>\n",
        "</g>\n",
        "<!-- 3 -->\n",
        "<g id=\"node7\" class=\"node\"><title>3</title>\n",
        "<ellipse fill=\"#98f5ff\" stroke=\"black\" cx=\"214\" cy=\"-18\" rx=\"18\" ry=\"18\"/>\n",
        "<text text-anchor=\"middle\" x=\"214\" y=\"-14.3\" font-family=\"Times,serif\" font-size=\"14.00\">3</text>\n",
        "</g>\n",
        "<!-- 0&#45;&gt;3 -->\n",
        "<g id=\"edge4\" class=\"edge\"><title>0&#45;&gt;3</title>\n",
        "<path fill=\"none\" stroke=\"black\" d=\"M68.535,-34.714C79.871,-24.528 97.567,-10.81 116,-5 140.97,2.8697 171.01,-3.4409 190.98,-9.7144\"/>\n",
        "<polygon fill=\"black\" stroke=\"black\" points=\"196.84,-11.644 190.297,-12.3319 193.991,-10.7057 191.141,-9.76735 191.141,-9.76735 191.141,-9.76735 193.991,-10.7057 191.986,-7.20281 196.84,-11.644 196.84,-11.644\"/>\n",
        "<text text-anchor=\"middle\" x=\"134\" y=\"-8.8\" font-family=\"Times,serif\" font-size=\"14.00\">b</text>\n",
        "</g>\n",
        "<!-- 1&#45;&gt;F1 -->\n",
        "<g id=\"edge5\" class=\"edge\"><title>1&#45;&gt;F1</title>\n",
        "<path fill=\"none\" stroke=\"black\" d=\"M150.189,-55.0946C168.235,-64.1175 196.447,-78.2233 208.374,-84.1872\"/>\n",
        "<polygon fill=\"black\" stroke=\"black\" points=\"213.883,-86.9416 207.309,-86.6733 211.2,-85.6 208.517,-84.2583 208.517,-84.2583 208.517,-84.2583 211.2,-85.6 209.724,-81.8434 213.883,-86.9416 213.883,-86.9416\"/>\n",
        "</g>\n",
        "<!-- 1&#45;&gt;1 -->\n",
        "<g id=\"edge6\" class=\"edge\"><title>1&#45;&gt;1</title>\n",
        "<path fill=\"none\" stroke=\"black\" d=\"M127.27,-64.037C125.89,-73.858 128.14,-83 134,-83 138.58,-83 140.95,-77.42 141.12,-70.296\"/>\n",
        "<polygon fill=\"black\" stroke=\"black\" points=\"140.73,-64.037 143.798,-69.8574 140.917,-67.0312 141.103,-70.0254 141.103,-70.0254 141.103,-70.0254 140.917,-67.0312 138.408,-70.1933 140.73,-64.037 140.73,-64.037\"/>\n",
        "<text text-anchor=\"middle\" x=\"134\" y=\"-86.8\" font-family=\"Times,serif\" font-size=\"14.00\">a</text>\n",
        "</g>\n",
        "<!-- 1&#45;&gt;3 -->\n",
        "<g id=\"edge7\" class=\"edge\"><title>1&#45;&gt;3</title>\n",
        "<path fill=\"none\" stroke=\"black\" d=\"M151.97,-43.017C159.98,-40.948 169.59,-38.185 178,-35 182.62,-33.25 187.46,-31.113 192.01,-28.952\"/>\n",
        "<polygon fill=\"black\" stroke=\"black\" points=\"197.58,-26.23 193.375,-31.2903 194.885,-27.5472 192.189,-28.8644 192.189,-28.8644 192.189,-28.8644 194.885,-27.5472 191.004,-26.4386 197.58,-26.23 197.58,-26.23\"/>\n",
        "<text text-anchor=\"middle\" x=\"174\" y=\"-40.8\" font-family=\"Times,serif\" font-size=\"14.00\">b</text>\n",
        "</g>\n",
        "<!-- 3&#45;&gt;F3 -->\n",
        "<g id=\"edge8\" class=\"edge\"><title>3&#45;&gt;F3</title>\n",
        "<path fill=\"none\" stroke=\"black\" d=\"M232.009,-18C242.571,-18 255.261,-18 262.698,-18\"/>\n",
        "<polygon fill=\"black\" stroke=\"black\" points=\"268.939,-18 262.939,-20.7001 265.939,-18 262.939,-18.0001 262.939,-18.0001 262.939,-18.0001 265.939,-18 262.939,-15.3001 268.939,-18 268.939,-18\"/>\n",
        "</g>\n",
        "<!-- 3&#45;&gt;1 -->\n",
        "<g id=\"edge9\" class=\"edge\"><title>3&#45;&gt;1</title>\n",
        "<path fill=\"none\" stroke=\"black\" d=\"M196.17,-14.157C188.03,-13.054 178.25,-12.873 170,-16 162.77,-18.743 156.07,-23.741 150.51,-28.934\"/>\n",
        "<polygon fill=\"black\" stroke=\"black\" points=\"146.12,-33.297 148.472,-27.1524 148.248,-31.1822 150.376,-29.0674 150.376,-29.0674 150.376,-29.0674 148.248,-31.1822 152.279,-30.9825 146.12,-33.297 146.12,-33.297\"/>\n",
        "<text text-anchor=\"middle\" x=\"174\" y=\"-19.8\" font-family=\"Times,serif\" font-size=\"14.00\">a</text>\n",
        "</g>\n",
        "<!-- 3&#45;&gt;3 -->\n",
        "<g id=\"edge10\" class=\"edge\"><title>3&#45;&gt;3</title>\n",
        "<path fill=\"none\" stroke=\"black\" d=\"M207.62,-35.037C206.32,-44.858 208.45,-54 214,-54 218.34,-54 220.59,-48.42 220.74,-41.296\"/>\n",
        "<polygon fill=\"black\" stroke=\"black\" points=\"220.38,-35.037 223.42,-40.872 220.552,-38.0321 220.725,-41.0271 220.725,-41.0271 220.725,-41.0271 220.552,-38.0321 218.029,-41.1822 220.38,-35.037 220.38,-35.037\"/>\n",
        "<text text-anchor=\"middle\" x=\"214\" y=\"-57.8\" font-family=\"Times,serif\" font-size=\"14.00\">b</text>\n",
        "</g>\n",
        "</g>\n",
        "</svg>\n"
       ],
       "text": [
        "mutable_automaton<letterset<char_letters(abc)>, b>"
       ]
      }
     ],
     "prompt_number": 4
    },
    {
     "cell_type": "code",
     "collapsed": false,
     "input": [
      "r.star_normal_form().standard()"
     ],
     "language": "python",
     "metadata": {},
     "outputs": [
      {
       "metadata": {},
       "output_type": "pyout",
       "prompt_number": 5,
       "svg": [
        "<?xml version=\"1.0\" encoding=\"UTF-8\" standalone=\"no\"?>\n",
        "<!DOCTYPE svg PUBLIC \"-//W3C//DTD SVG 1.1//EN\"\n",
        " \"http://www.w3.org/Graphics/SVG/1.1/DTD/svg11.dtd\">\n",
        "<!-- Generated by graphviz version 2.38.0 (20140413.2041)\n",
        " -->\n",
        "<!-- Title: %3 Pages: 1 -->\n",
        "<svg width=\"277pt\" height=\"127pt\"\n",
        " viewBox=\"0.00 0.00 277.00 126.87\" xmlns=\"http://www.w3.org/2000/svg\" xmlns:xlink=\"http://www.w3.org/1999/xlink\">\n",
        "<g id=\"graph0\" class=\"graph\" transform=\"scale(1 1) rotate(0) translate(4 120)\">\n",
        "<title>%3</title>\n",
        "<polygon fill=\"white\" stroke=\"none\" points=\"-4,6.8697 -4,-120 273,-120 273,6.8697 -4,6.8697\"/>\n",
        "<!-- I0 -->\n",
        "<g id=\"node1\" class=\"node\"><title>I0</title>\n",
        "<ellipse fill=\"black\" stroke=\"black\" cx=\"0\" cy=\"-47\" rx=\"0\" ry=\"0\"/>\n",
        "</g>\n",
        "<!-- 0 -->\n",
        "<g id=\"node5\" class=\"node\"><title>0</title>\n",
        "<ellipse fill=\"#98f5ff\" stroke=\"black\" cx=\"55\" cy=\"-47\" rx=\"18\" ry=\"18\"/>\n",
        "<text text-anchor=\"middle\" x=\"55\" y=\"-43.3\" font-family=\"Times,serif\" font-size=\"14.00\">0</text>\n",
        "</g>\n",
        "<!-- I0&#45;&gt;0 -->\n",
        "<g id=\"edge1\" class=\"edge\"><title>I0&#45;&gt;0</title>\n",
        "<path fill=\"none\" stroke=\"black\" d=\"M1.152,-47C2.7948,-47 17.459,-47 30.924,-47\"/>\n",
        "<polygon fill=\"black\" stroke=\"black\" points=\"36.975,-47 30.975,-49.7001 33.975,-47 30.975,-47.0001 30.975,-47.0001 30.975,-47.0001 33.975,-47 30.975,-44.3001 36.975,-47 36.975,-47\"/>\n",
        "</g>\n",
        "<!-- F0 -->\n",
        "<g id=\"node2\" class=\"node\"><title>F0</title>\n",
        "<ellipse fill=\"black\" stroke=\"black\" cx=\"134\" cy=\"-116\" rx=\"0\" ry=\"0\"/>\n",
        "</g>\n",
        "<!-- F1 -->\n",
        "<g id=\"node3\" class=\"node\"><title>F1</title>\n",
        "<ellipse fill=\"black\" stroke=\"black\" cx=\"214\" cy=\"-87\" rx=\"0\" ry=\"0\"/>\n",
        "</g>\n",
        "<!-- F3 -->\n",
        "<g id=\"node4\" class=\"node\"><title>F3</title>\n",
        "<ellipse fill=\"black\" stroke=\"black\" cx=\"269\" cy=\"-18\" rx=\"0\" ry=\"0\"/>\n",
        "</g>\n",
        "<!-- 0&#45;&gt;F0 -->\n",
        "<g id=\"edge2\" class=\"edge\"><title>0&#45;&gt;F0</title>\n",
        "<path fill=\"none\" stroke=\"black\" d=\"M68.7607,-59.0189C86.7475,-74.7288 117.346,-101.454 129.153,-111.767\"/>\n",
        "<polygon fill=\"black\" stroke=\"black\" points=\"133.877,-115.893 127.582,-113.979 131.618,-113.919 129.358,-111.946 129.358,-111.946 129.358,-111.946 131.618,-113.919 131.134,-109.912 133.877,-115.893 133.877,-115.893\"/>\n",
        "</g>\n",
        "<!-- 1 -->\n",
        "<g id=\"node6\" class=\"node\"><title>1</title>\n",
        "<ellipse fill=\"#98f5ff\" stroke=\"black\" cx=\"134\" cy=\"-47\" rx=\"18\" ry=\"18\"/>\n",
        "<text text-anchor=\"middle\" x=\"134\" y=\"-43.3\" font-family=\"Times,serif\" font-size=\"14.00\">1</text>\n",
        "</g>\n",
        "<!-- 0&#45;&gt;1 -->\n",
        "<g id=\"edge3\" class=\"edge\"><title>0&#45;&gt;1</title>\n",
        "<path fill=\"none\" stroke=\"black\" d=\"M73.089,-47C83.855,-47 97.897,-47 109.68,-47\"/>\n",
        "<polygon fill=\"black\" stroke=\"black\" points=\"115.96,-47 109.96,-49.7001 112.96,-47 109.96,-47.0001 109.96,-47.0001 109.96,-47.0001 112.96,-47 109.96,-44.3001 115.96,-47 115.96,-47\"/>\n",
        "<text text-anchor=\"middle\" x=\"94.5\" y=\"-50.8\" font-family=\"Times,serif\" font-size=\"14.00\">a</text>\n",
        "</g>\n",
        "<!-- 3 -->\n",
        "<g id=\"node7\" class=\"node\"><title>3</title>\n",
        "<ellipse fill=\"#98f5ff\" stroke=\"black\" cx=\"214\" cy=\"-18\" rx=\"18\" ry=\"18\"/>\n",
        "<text text-anchor=\"middle\" x=\"214\" y=\"-14.3\" font-family=\"Times,serif\" font-size=\"14.00\">3</text>\n",
        "</g>\n",
        "<!-- 0&#45;&gt;3 -->\n",
        "<g id=\"edge4\" class=\"edge\"><title>0&#45;&gt;3</title>\n",
        "<path fill=\"none\" stroke=\"black\" d=\"M68.535,-34.714C79.871,-24.528 97.567,-10.81 116,-5 140.97,2.8697 171.01,-3.4409 190.98,-9.7144\"/>\n",
        "<polygon fill=\"black\" stroke=\"black\" points=\"196.84,-11.644 190.297,-12.3319 193.991,-10.7057 191.141,-9.76735 191.141,-9.76735 191.141,-9.76735 193.991,-10.7057 191.986,-7.20281 196.84,-11.644 196.84,-11.644\"/>\n",
        "<text text-anchor=\"middle\" x=\"134\" y=\"-8.8\" font-family=\"Times,serif\" font-size=\"14.00\">b</text>\n",
        "</g>\n",
        "<!-- 1&#45;&gt;F1 -->\n",
        "<g id=\"edge5\" class=\"edge\"><title>1&#45;&gt;F1</title>\n",
        "<path fill=\"none\" stroke=\"black\" d=\"M150.189,-55.0946C168.235,-64.1175 196.447,-78.2233 208.374,-84.1872\"/>\n",
        "<polygon fill=\"black\" stroke=\"black\" points=\"213.883,-86.9416 207.309,-86.6733 211.2,-85.6 208.517,-84.2583 208.517,-84.2583 208.517,-84.2583 211.2,-85.6 209.724,-81.8434 213.883,-86.9416 213.883,-86.9416\"/>\n",
        "</g>\n",
        "<!-- 1&#45;&gt;1 -->\n",
        "<g id=\"edge6\" class=\"edge\"><title>1&#45;&gt;1</title>\n",
        "<path fill=\"none\" stroke=\"black\" d=\"M127.27,-64.037C125.89,-73.858 128.14,-83 134,-83 138.58,-83 140.95,-77.42 141.12,-70.296\"/>\n",
        "<polygon fill=\"black\" stroke=\"black\" points=\"140.73,-64.037 143.798,-69.8574 140.917,-67.0312 141.103,-70.0254 141.103,-70.0254 141.103,-70.0254 140.917,-67.0312 138.408,-70.1933 140.73,-64.037 140.73,-64.037\"/>\n",
        "<text text-anchor=\"middle\" x=\"134\" y=\"-86.8\" font-family=\"Times,serif\" font-size=\"14.00\">a</text>\n",
        "</g>\n",
        "<!-- 1&#45;&gt;3 -->\n",
        "<g id=\"edge7\" class=\"edge\"><title>1&#45;&gt;3</title>\n",
        "<path fill=\"none\" stroke=\"black\" d=\"M151.97,-43.017C159.98,-40.948 169.59,-38.185 178,-35 182.62,-33.25 187.46,-31.113 192.01,-28.952\"/>\n",
        "<polygon fill=\"black\" stroke=\"black\" points=\"197.58,-26.23 193.375,-31.2903 194.885,-27.5472 192.189,-28.8644 192.189,-28.8644 192.189,-28.8644 194.885,-27.5472 191.004,-26.4386 197.58,-26.23 197.58,-26.23\"/>\n",
        "<text text-anchor=\"middle\" x=\"174\" y=\"-40.8\" font-family=\"Times,serif\" font-size=\"14.00\">b</text>\n",
        "</g>\n",
        "<!-- 3&#45;&gt;F3 -->\n",
        "<g id=\"edge8\" class=\"edge\"><title>3&#45;&gt;F3</title>\n",
        "<path fill=\"none\" stroke=\"black\" d=\"M232.009,-18C242.571,-18 255.261,-18 262.698,-18\"/>\n",
        "<polygon fill=\"black\" stroke=\"black\" points=\"268.939,-18 262.939,-20.7001 265.939,-18 262.939,-18.0001 262.939,-18.0001 262.939,-18.0001 265.939,-18 262.939,-15.3001 268.939,-18 268.939,-18\"/>\n",
        "</g>\n",
        "<!-- 3&#45;&gt;1 -->\n",
        "<g id=\"edge9\" class=\"edge\"><title>3&#45;&gt;1</title>\n",
        "<path fill=\"none\" stroke=\"black\" d=\"M196.17,-14.157C188.03,-13.054 178.25,-12.873 170,-16 162.77,-18.743 156.07,-23.741 150.51,-28.934\"/>\n",
        "<polygon fill=\"black\" stroke=\"black\" points=\"146.12,-33.297 148.472,-27.1524 148.248,-31.1822 150.376,-29.0674 150.376,-29.0674 150.376,-29.0674 148.248,-31.1822 152.279,-30.9825 146.12,-33.297 146.12,-33.297\"/>\n",
        "<text text-anchor=\"middle\" x=\"174\" y=\"-19.8\" font-family=\"Times,serif\" font-size=\"14.00\">a</text>\n",
        "</g>\n",
        "<!-- 3&#45;&gt;3 -->\n",
        "<g id=\"edge10\" class=\"edge\"><title>3&#45;&gt;3</title>\n",
        "<path fill=\"none\" stroke=\"black\" d=\"M207.62,-35.037C206.32,-44.858 208.45,-54 214,-54 218.34,-54 220.59,-48.42 220.74,-41.296\"/>\n",
        "<polygon fill=\"black\" stroke=\"black\" points=\"220.38,-35.037 223.42,-40.872 220.552,-38.0321 220.725,-41.0271 220.725,-41.0271 220.725,-41.0271 220.552,-38.0321 218.029,-41.1822 220.38,-35.037 220.38,-35.037\"/>\n",
        "<text text-anchor=\"middle\" x=\"214\" y=\"-57.8\" font-family=\"Times,serif\" font-size=\"14.00\">b</text>\n",
        "</g>\n",
        "</g>\n",
        "</svg>\n"
       ],
       "text": [
        "mutable_automaton<letterset<char_letters(abc)>, b>"
       ]
      }
     ],
     "prompt_number": 5
    }
   ],
   "metadata": {}
  }
 ]
}