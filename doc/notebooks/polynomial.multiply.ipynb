{
 "cells": [
  {
   "cell_type": "markdown",
   "metadata": {},
   "source": [
    "# _`polynomial`_`.multiply(p)`"
   ]
  },
  {
   "cell_type": "markdown",
   "metadata": {},
   "source": [
    "Create a polynomial which denotes the product of both polynomials.\n",
    "\n",
    "Preconditions:\n",
    "- None\n",
    "\n",
    "See also:\n",
    "- [automaton.multiply](automaton.multiply.ipynb)\n",
    "- [expression.multiply](expression.multiply.ipynb)"
   ]
  },
  {
   "cell_type": "markdown",
   "metadata": {},
   "source": [
    "## Examples"
   ]
  },
  {
   "cell_type": "code",
   "execution_count": 1,
   "metadata": {
    "collapsed": false
   },
   "outputs": [
    {
     "data": {
      "text/latex": [
       "$\\mathit{c} \\oplus \\mathit{d} \\oplus \\left\\langle 5\\right\\rangle \\mathit{e} \\oplus \\left\\langle 2\\right\\rangle \\mathit{ac} \\oplus \\left\\langle 2\\right\\rangle \\mathit{ad} \\oplus \\left\\langle 10\\right\\rangle \\mathit{ae} \\oplus \\left\\langle 3\\right\\rangle \\mathit{bc} \\oplus \\left\\langle 3\\right\\rangle \\mathit{bd} \\oplus \\left\\langle 15\\right\\rangle \\mathit{be}$"
      ],
      "text/plain": [
       "c + d + <5>e + <2>ac + <2>ad + <10>ae + <3>bc + <3>bd + <15>be"
      ]
     },
     "execution_count": 1,
     "metadata": {},
     "output_type": "execute_result"
    }
   ],
   "source": [
    "import vcsn\n",
    "ctx = vcsn.context('law_char, z')\n",
    "poly = ctx.polynomial\n",
    "poly('\\e+<2>a+<3>b') * poly('c+d+<5>e')"
   ]
  }
 ],
 "metadata": {
  "kernelspec": {
   "display_name": "Python 3",
   "language": "python",
   "name": "python3"
  },
  "language_info": {
   "codemirror_mode": {
    "name": "ipython",
    "version": 3
   },
   "file_extension": ".py",
   "mimetype": "text/x-python",
   "name": "python",
   "nbconvert_exporter": "python",
   "pygments_lexer": "ipython3",
   "version": "3.4.4"
  }
 },
 "nbformat": 4,
 "nbformat_minor": 0
}
