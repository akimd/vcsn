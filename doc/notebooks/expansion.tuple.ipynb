{
 "cells": [
  {
   "cell_type": "markdown",
   "metadata": {},
   "source": [
    "# `expansion | xpn`\n",
    "\n",
    "Build a tuple of expansions, ie the $k$-tape expansion which is the Cartesian product of the input expansions.\n",
    "\n",
    "See also:\n",
    "- [automaton.tuple](automaton.tuple.ipynb)\n",
    "- [expression.tuple](expression.tuple.ipynb)\n",
    "- [polynomial.tuple](polynomial.tuple.ipynb)\n",
    "\n",
    "References:\n",
    "- [demaille.2016.ciaa](References.ipynb#demaille.2016.ciaa) introduces support for $|$ in expansions\n",
    "\n",
    "## Examples"
   ]
  },
  {
   "cell_type": "code",
   "execution_count": 1,
   "metadata": {
    "collapsed": false
   },
   "outputs": [
    {
     "data": {
      "text/latex": [
       "$a \\odot \\left[b \\, c\\right]$"
      ],
      "text/plain": [
       "a.[bc]"
      ]
     },
     "execution_count": 1,
     "metadata": {},
     "output_type": "execute_result"
    }
   ],
   "source": [
    "import vcsn\n",
    "def xpn(e):\n",
    "    return vcsn.context('lan, q').expression(e).expansion()\n",
    "x1 = xpn('abc')\n",
    "x1"
   ]
  },
  {
   "cell_type": "code",
   "execution_count": 2,
   "metadata": {
    "collapsed": false
   },
   "outputs": [
    {
     "data": {
      "text/latex": [
       "$\\left\\langle 1\\right\\rangle  \\oplus x \\odot \\left[\\left\\langle 2\\right\\rangle \\left( \\left\\langle 2 \\right\\rangle \\,x\\right)^{*}\\right]$"
      ],
      "text/plain": [
       "<1> + x.[<2>(<2>x)*]"
      ]
     },
     "execution_count": 2,
     "metadata": {},
     "output_type": "execute_result"
    }
   ],
   "source": [
    "x2 = xpn('(<2>x)*')\n",
    "x2"
   ]
  },
  {
   "cell_type": "code",
   "execution_count": 3,
   "metadata": {
    "collapsed": false
   },
   "outputs": [
    {
     "data": {
      "text/latex": [
       "$a|\\varepsilon \\odot \\left[ \\left. b \\, c \\middle| \\varepsilon \\right. \\right] \\oplus a|x \\odot \\left[\\left\\langle 2\\right\\rangle  \\left. b \\, c \\middle| \\left( \\left\\langle 2 \\right\\rangle \\,x\\right)^{*} \\right. \\right]$"
      ],
      "text/plain": [
       "a|\\e.[bc|\\e] + a|x.[<2>bc|(<2>x)*]"
      ]
     },
     "execution_count": 3,
     "metadata": {},
     "output_type": "execute_result"
    }
   ],
   "source": [
    "x1 | x2"
   ]
  }
 ],
 "metadata": {
  "kernelspec": {
   "display_name": "Python 3",
   "language": "python",
   "name": "python3"
  },
  "language_info": {
   "codemirror_mode": {
    "name": "ipython",
    "version": 3
   },
   "file_extension": ".py",
   "mimetype": "text/x-python",
   "name": "python",
   "nbconvert_exporter": "python",
   "pygments_lexer": "ipython3",
   "version": "3.5.2"
  },
  "widgets": {
   "state": {},
   "version": "1.1.2"
  }
 },
 "nbformat": 4,
 "nbformat_minor": 0
}
