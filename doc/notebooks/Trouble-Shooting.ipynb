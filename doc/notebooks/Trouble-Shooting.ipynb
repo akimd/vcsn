{
 "cells": [
  {
   "cell_type": "markdown",
   "metadata": {},
   "source": [
    "# Trouble Shooting\n",
    "## Build Issues\n",
    "### error: debug information for auto is not yet supported\n",
    "Clang 3.5 cannot compile modern C++ code with debug symbols activated (option `-g`).  Be sure to specify some `CXXFLAGS` to `configure`, for instance:\n",
    "\n",
    "    ./configure CXXFLAGS=-O2\n",
    "\n",
    "### Warnings: argument unused\n",
    "\n",
    "This warning is due to the use of ccache: it calls the compiler with options that have become useless, and clang complains about them:\n",
    "\n",
    "\n",
    "      CXX      lib/vcsn/algos/lib_libvcsn_la-are-isomorphic.lo\n",
    "    clang: warning: argument unused during compilation: '-I ../..'\n",
    "    clang: warning: argument unused during compilation: '-I .'\n",
    "    clang: warning: argument unused during compilation: '-isystem /opt/local/include'\n",
    "\n",
    "To get rid of these warnings, use pass ''-Qunused-arguments'' to your compiler.  For instance:\n",
    "\n",
    "    ./configure CXX='ccache clang++' CXXFLAGS='-Qunused-arguments'\n",
    "\n",
    "### UnicodeDecodeError: 'ascii' codec can't decode byte\n",
    "\n",
    "This error is triggered if your locale is not set to a UTF8 locale: python tries to read UTF8 files as ASCII.\n",
    "\n",
    "        GEN      vcsn/dyn/algos.json.stamp\n",
    "    Traceback (most recent call last):\n",
    "      File \"./build-aux/bin/dyn-json\", line 144, in <module>\n",
    "        process_header(args.input, args.output)\n",
    "      File \"./build-aux/bin/dyn-json\", line 128, in process_header\n",
    "        for m in function_re.finditer(f.read()):\n",
    "      File\n",
    "    \"/usr/local/Cellar/python3/3.5.2_3/Frameworks/Python.framework/Versions/3.5/lib/python3.5/encodings/ascii.py\",\n",
    "    line 26, in decode\n",
    "        return codecs.ascii_decode(input, self.errors)[0]\n",
    "    UnicodeDecodeError: 'ascii' codec can't decode byte 0xc4 in position 1147:\n",
    "    ordinal not in range(128)\n",
    "    make: *** [vcsn/dyn/algos.json.stamp] Error 1\n",
    "\n",
    "To fix it, change your locale to something that enables UTF8. For instance :\n",
    "\n",
    "    export LC_ALL=en_US.UTF-8\n",
    "    export LANG=en_US.UTF-8\n",
    "    \n",
    "### configure: error: cannot find the flags to link with Boost python\n",
    "\n",
    "Your boost_python3 library is probably linked with Python 2 by error. To check it, try compiling this:\n",
    "\n",
    "    #include <boost/python.hpp>\n",
    "    BOOST_PYTHON_MODULE(empty) {}\n",
    "    int main ()\n",
    "    {\n",
    "      return 0;\n",
    "    }\n",
    "\n",
    "with `g++ -I/usr/include/python3.5m/ conftest.cc -lboost_python-py35 -lpython3.5m` (adjusting for your library names)\n",
    "\n",
    "If you get this set of error, your boost_python library is broken.\n",
    "\n",
    "    /tmp/cc6JvhrE.o: In function `PyInit_empty': \n",
    "    conftest.cc:(.text+0x8a): undefined reference to `boost::python::detail::init_module(PyModuleDef&, void (*)())' \n",
    "    /usr/lib/gcc/x86_64-linux-gnu/6/../../../x86_64-linux-gnu/libboost_python-py35.so: undefined reference to `PyString_Size'\n",
    "    /usr/lib/gcc/x86_64-linux-gnu/6/../../../x86_64-linux-gnu/libboost_python-py35.so: undefined reference to `PyUnicodeUCS4_FromEncodedObject'\n",
    "    /usr/lib/gcc/x86_64-linux-gnu/6/../../../x86_64-linux-gnu/libboost_python-py35.so: undefined reference to `PyFile_FromString'\n",
    "    /usr/lib/gcc/x86_64-linux-gnu/6/../../../x86_64-linux-gnu/libboost_python-py35.so: undefined reference to `PyString_Type'\n",
    "    /usr/lib/gcc/x86_64-linux-gnu/6/../../../x86_64-linux-gnu/libboost_python-py35.so: undefined reference to `PyInt_Type'\n",
    "    /usr/lib/gcc/x86_64-linux-gnu/6/../../../x86_64-linux-gnu/libboost_python-py35.so: undefined reference to `PyString_FromString'\n",
    "    /usr/lib/gcc/x86_64-linux-gnu/6/../../../x86_64-linux-gnu/libboost_python-py35.so: undefined reference to `PyUnicodeUCS4_AsWideChar'\n",
    "    /usr/lib/gcc/x86_64-linux-gnu/6/../../../x86_64-linux-gnu/libboost_python-py35.so: undefined reference to `PyString_FromStringAndSize'\n",
    "    /usr/lib/gcc/x86_64-linux-gnu/6/../../../x86_64-linux-gnu/libboost_python-py35.so: undefined reference to `Py_InitModule4_64'\n",
    "    /usr/lib/gcc/x86_64-linux-gnu/6/../../../x86_64-linux-gnu/libboost_python-py35.so: undefined reference to `PyString_FromFormat'\n",
    "    /usr/lib/gcc/x86_64-linux-gnu/6/../../../x86_64-linux-gnu/libboost_python-py35.so: undefined reference to `PyNumber_Divide'\n",
    "    /usr/lib/gcc/x86_64-linux-gnu/6/../../../x86_64-linux-gnu/libboost_python-py35.so: undefined reference to `PyNumber_InPlaceDivide'\n",
    "    /usr/lib/gcc/x86_64-linux-gnu/6/../../../x86_64-linux-gnu/libboost_python-py35.so: undefined reference to `PyInt_AsLong'\n",
    "    /usr/lib/gcc/x86_64-linux-gnu/6/../../../x86_64-linux-gnu/libboost_python-py35.so: undefined reference to `PyString_InternFromString'\n",
    "    /usr/lib/gcc/x86_64-linux-gnu/6/../../../x86_64-linux-gnu/libboost_python-py35.so: undefined reference to `PyClass_Type'\n",
    "    /usr/lib/gcc/x86_64-linux-gnu/6/../../../x86_64-linux-gnu/libboost_python-py35.so: undefined reference to `PyString_AsString'\n",
    "    /usr/lib/gcc/x86_64-linux-gnu/6/../../../x86_64-linux-gnu/libboost_python-py35.so: undefined reference to `PyInt_FromLong'\n",
    "    /usr/lib/gcc/x86_64-linux-gnu/6/../../../x86_64-linux-gnu/libboost_python-py35.so: undefined reference to `PyFile_AsFile'\n",
    "    collect2: error: ld returned 1 exit status\n",
    "\n",
    "\n",
    "    \n",
    "## Runtime Issues\n",
    "### value is not starrable: 1\n",
    "In a way or another, you asked for the computation of $1^*$ in a semiring that does not support it.  For instance the rational expression ${a^*}^*$ is invalid in $\\mathbb{Q}$:"
   ]
  },
  {
   "cell_type": "code",
   "execution_count": 1,
   "metadata": {
    "collapsed": false,
    "scrolled": true
   },
   "outputs": [
    {
     "name": "stderr",
     "output_type": "stream",
     "text": [
      "RuntimeError: Q: value is not starrable: 1\n",
      "  while computing expansion of: a**\n",
      "  while computing derived-term of: a**\n"
     ]
    }
   ],
   "source": [
    "import vcsn\n",
    "try:\n",
    "    vcsn.Q.expression('a**').automaton()\n",
    "except RuntimeError as err:\n",
    "    import sys\n",
    "    print(\"RuntimeError:\", err, file=sys.stderr)"
   ]
  },
  {
   "cell_type": "markdown",
   "metadata": {},
   "source": [
    "This computation is valid in $\\mathbb{B}$:"
   ]
  },
  {
   "cell_type": "code",
   "execution_count": 2,
   "metadata": {
    "collapsed": false
   },
   "outputs": [
    {
     "data": {
      "image/svg+xml": [
       "<?xml version=\"1.0\" encoding=\"UTF-8\" standalone=\"no\"?>\n",
       "<!DOCTYPE svg PUBLIC \"-//W3C//DTD SVG 1.1//EN\"\n",
       " \"http://www.w3.org/Graphics/SVG/1.1/DTD/svg11.dtd\">\n",
       "<!-- Generated by graphviz version 2.38.0 (20140413.2041)\n",
       " -->\n",
       "<!-- Title: %3 Pages: 1 -->\n",
       "<svg width=\"183pt\" height=\"89pt\"\n",
       " viewBox=\"0.00 0.00 183.00 88.50\" xmlns=\"http://www.w3.org/2000/svg\" xmlns:xlink=\"http://www.w3.org/1999/xlink\">\n",
       "<g id=\"graph0\" class=\"graph\" transform=\"scale(1 1) rotate(0) translate(4 84.5)\">\n",
       "<title>%3</title>\n",
       "<polygon fill=\"white\" stroke=\"none\" points=\"-4,4 -4,-84.5 179,-84.5 179,4 -4,4\"/>\n",
       "<!-- I0 -->\n",
       "<g id=\"node1\" class=\"node\"><title>I0</title>\n",
       "<ellipse fill=\"black\" stroke=\"black\" cx=\"0\" cy=\"-56.5\" rx=\"0\" ry=\"0\"/>\n",
       "</g>\n",
       "<!-- 0 -->\n",
       "<g id=\"node4\" class=\"node\"><title>0</title>\n",
       "<ellipse fill=\"#98f5ff\" stroke=\"black\" cx=\"51.5\" cy=\"-56.5\" rx=\"14.5\" ry=\"14.5\"/>\n",
       "<text text-anchor=\"middle\" x=\"51.5\" y=\"-53.4\" font-family=\"Times,serif\" font-size=\"12.00\">0</text>\n",
       "</g>\n",
       "<!-- I0&#45;&gt;0 -->\n",
       "<g id=\"edge1\" class=\"edge\"><title>I0&#45;&gt;0</title>\n",
       "<path fill=\"none\" stroke=\"black\" d=\"M1.142,-56.5C2.7502,-56.5 17.72,-56.5 30.756,-56.5\"/>\n",
       "<polygon fill=\"black\" stroke=\"black\" points=\"36.933,-56.5 30.933,-59.2001 33.933,-56.5 30.933,-56.5001 30.933,-56.5001 30.933,-56.5001 33.933,-56.5 30.933,-53.8001 36.933,-56.5 36.933,-56.5\"/>\n",
       "</g>\n",
       "<!-- F0 -->\n",
       "<g id=\"node2\" class=\"node\"><title>F0</title>\n",
       "<ellipse fill=\"black\" stroke=\"black\" cx=\"123.5\" cy=\"-80.5\" rx=\"0\" ry=\"0\"/>\n",
       "</g>\n",
       "<!-- F1 -->\n",
       "<g id=\"node3\" class=\"node\"><title>F1</title>\n",
       "<ellipse fill=\"black\" stroke=\"black\" cx=\"175\" cy=\"-14.5\" rx=\"0\" ry=\"0\"/>\n",
       "</g>\n",
       "<!-- 0&#45;&gt;F0 -->\n",
       "<g id=\"edge2\" class=\"edge\"><title>0&#45;&gt;F0</title>\n",
       "<path fill=\"none\" stroke=\"black\" d=\"M65.3823,-61.1274C81.2171,-66.4057 106.373,-74.791 117.671,-78.5569\"/>\n",
       "<polygon fill=\"black\" stroke=\"black\" points=\"123.393,-80.4642 116.847,-81.1282 120.547,-79.5155 117.701,-78.5668 117.701,-78.5668 117.701,-78.5668 120.547,-79.5155 118.554,-76.0053 123.393,-80.4642 123.393,-80.4642\"/>\n",
       "</g>\n",
       "<!-- 1 -->\n",
       "<g id=\"node5\" class=\"node\"><title>1</title>\n",
       "<ellipse fill=\"#98f5ff\" stroke=\"black\" cx=\"123.5\" cy=\"-14.5\" rx=\"14.5\" ry=\"14.5\"/>\n",
       "<text text-anchor=\"middle\" x=\"123.5\" y=\"-11.4\" font-family=\"Times,serif\" font-size=\"12.00\">1</text>\n",
       "</g>\n",
       "<!-- 0&#45;&gt;1 -->\n",
       "<g id=\"edge3\" class=\"edge\"><title>0&#45;&gt;1</title>\n",
       "<path fill=\"none\" stroke=\"black\" d=\"M64.375,-49.375C75.706,-42.576 92.891,-32.266 105.64,-24.617\"/>\n",
       "<polygon fill=\"black\" stroke=\"black\" points=\"110.8,-21.52 107.045,-26.9228 108.228,-23.0639 105.655,-24.6078 105.655,-24.6078 105.655,-24.6078 108.228,-23.0639 104.266,-22.2927 110.8,-21.52 110.8,-21.52\"/>\n",
       "<text text-anchor=\"middle\" x=\"87.5\" y=\"-41.3\" font-family=\"Times,serif\" font-size=\"14.00\">a</text>\n",
       "</g>\n",
       "<!-- 1&#45;&gt;F1 -->\n",
       "<g id=\"edge4\" class=\"edge\"><title>1&#45;&gt;F1</title>\n",
       "<path fill=\"none\" stroke=\"black\" d=\"M138.12,-14.5C148.261,-14.5 161.253,-14.5 168.8,-14.5\"/>\n",
       "<polygon fill=\"black\" stroke=\"black\" points=\"174.937,-14.5 168.937,-17.2001 171.937,-14.5 168.937,-14.5001 168.937,-14.5001 168.937,-14.5001 171.937,-14.5 168.937,-11.8001 174.937,-14.5 174.937,-14.5\"/>\n",
       "</g>\n",
       "<!-- 1&#45;&gt;1 -->\n",
       "<g id=\"edge5\" class=\"edge\"><title>1&#45;&gt;1</title>\n",
       "<path fill=\"none\" stroke=\"black\" d=\"M118.09,-28.192C116.45,-37.669 118.25,-47 123.5,-47 127.6,-47 129.6,-41.305 129.5,-34.294\"/>\n",
       "<polygon fill=\"black\" stroke=\"black\" points=\"128.91,-28.192 132.175,-33.9043 129.199,-31.1781 129.488,-34.1641 129.488,-34.1641 129.488,-34.1641 129.199,-31.1781 126.8,-34.424 128.91,-28.192 128.91,-28.192\"/>\n",
       "<text text-anchor=\"middle\" x=\"123.5\" y=\"-50.8\" font-family=\"Times,serif\" font-size=\"14.00\">a</text>\n",
       "</g>\n",
       "</g>\n",
       "</svg>\n"
      ],
      "text/plain": [
       "mutable_automaton<context<letterset<char_letters>, b>>"
      ]
     },
     "execution_count": 2,
     "metadata": {},
     "output_type": "execute_result"
    }
   ],
   "source": [
    "vcsn.B.expression('a**').automaton()"
   ]
  }
 ],
 "metadata": {
  "kernelspec": {
   "display_name": "Python 3",
   "language": "python",
   "name": "python3"
  },
  "language_info": {
   "codemirror_mode": {
    "name": "ipython",
    "version": 3
   },
   "file_extension": ".py",
   "mimetype": "text/x-python",
   "name": "python",
   "nbconvert_exporter": "python",
   "pygments_lexer": "ipython3",
   "version": "3.5.2"
  }
 },
 "nbformat": 4,
 "nbformat_minor": 0
}
