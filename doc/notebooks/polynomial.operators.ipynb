{
 "cells": [
  {
   "cell_type": "markdown",
   "metadata": {},
   "source": [
    "# Operators on polynomials\n",
    "\n",
    "<table>\n",
    "  <tr><td>`*`</td>  <td>[multiply](polynomial.multiply.ipynb)</td> <td>Product (concatenation)</td></tr>\n",
    "  <tr><td>`&`</td>  <td>[conjunction](polynomial.conjunction.ipynb)</td> <td>Conjunction (synchronized product)</td></tr>\n",
    "  <tr><td>`+`</td>  <td>[add](polynomial.add.ipynb)</td>                 <td>Sum (disjunction)</td></tr>\n",
    "  <tr><td>`%`</td>  <td>[difference](polynomial.difference.ipynb)</td>   <td>Difference</td></tr>\n",
    "  <tr><td>`-`</td>  <td>[difference](polynomial.difference.ipynb)</td>   <td>Difference</td></tr>\n",
    "  <tr><td>`**`</td> <td>[power](polynomial.power.ipynb)</td>             <td>Repeated concatenation</td></tr>\n",
    "  <tr><td>`|`</td>  <td>[difference](polynomial.tuple.ipynb)</td>        <td>Cartesian product</td></tr>\n",
    "</table>"
   ]
  }
 ],
 "metadata": {
  "kernelspec": {
   "display_name": "Python 3",
   "language": "python",
   "name": "python3"
  },
  "language_info": {
   "codemirror_mode": {
    "name": "ipython",
    "version": 3
   },
   "file_extension": ".py",
   "mimetype": "text/x-python",
   "name": "python",
   "nbconvert_exporter": "python",
   "pygments_lexer": "ipython3",
   "version": "3.5.1"
  }
 },
 "nbformat": 4,
 "nbformat_minor": 0
}
