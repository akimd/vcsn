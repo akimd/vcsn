{
 "cells": [
  {
   "cell_type": "markdown",
   "metadata": {},
   "source": [
    "# Welcome to Vcsn 3\n",
    "\n",
    "Vcsn is a platform for weighted automata and rational expressions.  it is composed of C++ libraries with various interfaces, a Python binding, some specific features for IPython and a set of command line tools.\n",
    "\n",
    "This short tutorial guides you through the Python binding of Vcsn, and more specifically the IPython interface.  If you are not a Python programmer, rest assured that there is not much to know, and if you are a Python programmer, rest assured that its conventions have been respected, and you will be able to take the full benefit from both Vcsn and Python.\n",
    "\n",
    "Once you read this page, you should explore these:\n",
    "* [Read me first](!Read-me-first.ipynb) - This page.\n",
    "* Python\n",
    "  * [Contexts](Contexts.ipynb) - The typing system for automata, expressions, etc.\n",
    "  * [Automata](Automata.ipynb) - How to define or edit automata.\n",
    "  * [Expressions](Expressions.ipynb) - The definition of the rational expressions.\n",
    "  * [Algorithms](Algorithms.ipynb) - Index of the available operations on automata, expressions, etc.\n",
    "* [The C++ Library](C++-Library.ipynb) - Tutorial on how to use the Vcsn C++ library.\n",
    "* [Tools](Tools.ipynb) - Executables to run from the shell, easy to chain via pipes.\n",
    "* [Trouble-Shooting](Trouble-Shooting.ipynb) - Some known problems (during build or use), and a few known solutions.\n",
    "* Examples\n",
    "  * [Sms2fr](Sms2fr.ipynb) - Translate SMS (i.e., text messages) to proper French.\n",
    "  * [Spell-checker](Spell-checker.ipynb) - From a dictionary, build a spell checker that fixes errors.\n",
    "  * [Stackoverflow](Stackoverflow.ipynb) - Some questions asked on Stackoverflow where Vcsn can compute the answer.\n",
    "\n",
    "* Research\n",
    "  * [References](References.ipynb) - Publications on the algorithms and constructs used in Vcsn.\n",
    "  * [ICTAC-2016](ICTAC-2016.ipynb) - Examples taken from a paper presented to ICTAC 2016.\n",
    "  * [ICTAC-2017](ICTAC-2017.ipynb) - Examples taken from a paper presented to ICTAC 2017.\n",
    "  * [CIAA-2016](CIAA-2016.ipynb) - Examples taken from a paper presented to CIAA 2016.\n",
    "* [Hacking](Hacking.ipynb) - Random notes, badly written, obsolete, meant for Vcsn developers.\n",
    "\n",
    "Additional material is available on the web:\n",
    "* The [Vcsn Website](http://vcsn.lrde.epita.fr) contains more information, tarballs, etc.\n",
    "* The [Vcsn Sandbox](http://vcsn-sandbox.lrde.epita.fr) offers a playground to experiment with Vcsn from a web browser.\n",
    "* The [Vcsn Gitlab](http://gitlab.lrde.epita.fr/vcsn/vcsn/issues) is the right place to submit bug reports."
   ]
  },
  {
   "cell_type": "markdown",
   "metadata": {},
   "source": [
    "## Videos\n",
    "If you prefer to look at video rather than having to make the physical effort of sliding in a webpage, you might want to look at these short introductory videos (English and French):"
   ]
  },
  {
   "cell_type": "code",
   "execution_count": 1,
   "metadata": {},
   "outputs": [
    {
     "data": {
      "text/html": [
       "<iframe width=\"300\" height=\"169\" src=\"https://www.youtube.com/embed/LzbXsEmqyC0\" frameborder=\"0\" allowfullscreen></iframe>\n",
       "<iframe width=\"300\" height=\"169\" src=\"https://www.youtube.com/embed/LFYVBNbStZU\" frameborder=\"0\" allowfullscreen></iframe>"
      ],
      "text/plain": [
       "<IPython.core.display.HTML object>"
      ]
     },
     "metadata": {},
     "output_type": "display_data"
    }
   ],
   "source": [
    "%%HTML\n",
    "<iframe width=\"300\" height=\"169\" src=\"https://www.youtube.com/embed/LzbXsEmqyC0\" frameborder=\"0\" allowfullscreen></iframe>\n",
    "<iframe width=\"300\" height=\"169\" src=\"https://www.youtube.com/embed/LFYVBNbStZU\" frameborder=\"0\" allowfullscreen></iframe>"
   ]
  },
  {
   "cell_type": "markdown",
   "metadata": {},
   "source": [
    "## Quick Start\n",
    "\n",
    "Vcsn offers several interfaces:\n",
    "- fast efficient C++ templated library dubbed `static`\n",
    "- a dynamic and flexible C++ interface dubbed `dyn` on top of `static`\n",
    "- a Python interface on top of `dyn`\n",
    "- an IPython interface built on top of the Python API (which is used to generate this very document)\n",
    "- and also a shell interface ([Executables](Executables.ipynb)).\n",
    "\n",
    "This documentation shows how to use the IPython interactive environment.  Provided that Vcsn was properly deployed on your platform, to launch it run the following command from your shell:\n",
    "\n",
    "    $ vcsn notebook &\n",
    "\n",
    "A web browser should open on a list of files.  Click on the \"New\" menu, and select \"Python\" (or \"Python 3\"), which should open a new sheet.  The remainder of this documentation is about such sheets.\n",
    "\n",
    "First, import Vcsn into Python, and define the \"context\" in which you want to work.  Do not worry about the (ugly!) syntax, just see where the alphabet (the set of letters, $\\{a, b, c\\}$) is defined.  The last line (`ctx`) is here so that IPython displays what this variable contains."
   ]
  },
  {
   "cell_type": "code",
   "execution_count": 2,
   "metadata": {},
   "outputs": [
    {
     "data": {
      "text/latex": [
       "$\\{a, b, c\\}^?\\to\\mathbb{B}$"
      ],
      "text/plain": [
       "[abc]? -> B"
      ]
     },
     "execution_count": 2,
     "metadata": {},
     "output_type": "execute_result"
    }
   ],
   "source": [
    "import vcsn\n",
    "ctx = vcsn.context(\"[abc]\")\n",
    "ctx"
   ]
  },
  {
   "cell_type": "markdown",
   "metadata": {},
   "source": [
    "This object, the context, defines the types of the various entities.  To build a rational expression on this alphabet, use `ctx.expression` as follows:"
   ]
  },
  {
   "cell_type": "code",
   "execution_count": 3,
   "metadata": {},
   "outputs": [
    {
     "data": {
      "text/latex": [
       "$a \\, {b}^{*}$"
      ],
      "text/plain": [
       "ab*"
      ]
     },
     "execution_count": 3,
     "metadata": {},
     "output_type": "execute_result"
    }
   ],
   "source": [
    "e1 = ctx.expression(\"ab*\")\n",
    "e1"
   ]
  },
  {
   "cell_type": "markdown",
   "metadata": {},
   "source": [
    "The syntax for rational expressions is as follows (with increasing precedence):\n",
    "- `\\z` denotes the empty language\n",
    "- `\\e` denotes the language of the empty word\n",
    "- `a` denotes the language of the word `a`\n",
    "- `e+f` denotes the union of the languages of `e` and `f` (note the use of `+`, `|` is not accepted)\n",
    "- `ef` denotes the concatenation of the languages of `e` and `f`\n",
    "- `e*` denotes the Kleene closure of the language of `e`\n",
    "\n",
    "For more details, please see [the documentation of expressions](Expressions.ipynb).\n",
    "\n",
    "So for instance `e1` denotes the words starting with a single `a` followed by any number of `b`s.\n",
    "\n",
    "Rational expressions are objects that feature methods.  One such method is [expression.shortest(_number_)](expression.shortest.ipynb) that lists the _`number`_ first (in shortlex order) words of the language defined by the rational expresion:"
   ]
  },
  {
   "cell_type": "code",
   "execution_count": 4,
   "metadata": {},
   "outputs": [
    {
     "data": {
      "text/latex": [
       "$\\mathit{a} \\oplus \\mathit{ab} \\oplus \\mathit{abb} \\oplus \\mathit{abbb} \\oplus \\mathit{abbbb} \\oplus \\mathit{abbbbb} \\oplus \\mathit{abbbbbb} \\oplus \\mathit{abbbbbbb} \\oplus \\mathit{abbbbbbbb} \\oplus \\mathit{abbbbbbbbb}$"
      ],
      "text/plain": [
       "a + ab + abb + abbb + abbbb + abbbbb + abbbbbb + abbbbbbb + abbbbbbbb + abbbbbbbbb"
      ]
     },
     "execution_count": 4,
     "metadata": {},
     "output_type": "execute_result"
    }
   ],
   "source": [
    "e1.shortest(10)"
   ]
  },
  {
   "cell_type": "markdown",
   "metadata": {},
   "source": [
    "You may compose rational expressions using Python operators such as `+` for sum, `*` for multiplication (concatenation):"
   ]
  },
  {
   "cell_type": "code",
   "execution_count": 5,
   "metadata": {},
   "outputs": [
    {
     "data": {
      "text/latex": [
       "$a \\, {b}^{*} + a \\, {b}^{*} \\, a \\, {b}^{*}$"
      ],
      "text/plain": [
       "ab*+ab*ab*"
      ]
     },
     "execution_count": 5,
     "metadata": {},
     "output_type": "execute_result"
    }
   ],
   "source": [
    "e1 + e1 * e1"
   ]
  },
  {
   "cell_type": "markdown",
   "metadata": {},
   "source": [
    "Vcsn features different means to build an automaton from a rational expression.  The [expression.standard](expression.standard.ipynb) method builds the \"standard autamaton\", also known as the \"position automaton\", or the \"Glushkov automaton\":"
   ]
  },
  {
   "cell_type": "code",
   "execution_count": 6,
   "metadata": {},
   "outputs": [
    {
     "data": {
      "image/svg+xml": [
       "<?xml version=\"1.0\" encoding=\"UTF-8\" standalone=\"no\"?>\n",
       "<!DOCTYPE svg PUBLIC \"-//W3C//DTD SVG 1.1//EN\"\n",
       " \"http://www.w3.org/Graphics/SVG/1.1/DTD/svg11.dtd\">\n",
       "<!-- Generated by graphviz version 2.40.1 (20161225.0304)\n",
       " -->\n",
       "<!-- Title: %3 Pages: 1 -->\n",
       "<svg width=\"252pt\" height=\"89pt\"\n",
       " viewBox=\"0.00 0.00 252.00 88.50\" xmlns=\"http://www.w3.org/2000/svg\" xmlns:xlink=\"http://www.w3.org/1999/xlink\">\n",
       "<g id=\"graph0\" class=\"graph\" transform=\"scale(1 1) rotate(0) translate(4 84.5)\">\n",
       "<title>%3</title>\n",
       "<polygon fill=\"#ffffff\" stroke=\"transparent\" points=\"-4,4 -4,-84.5 248,-84.5 248,4 -4,4\"/>\n",
       "<!-- I0 -->\n",
       "<g id=\"node1\" class=\"node\">\n",
       "<title>I0</title>\n",
       "<ellipse fill=\"#000000\" stroke=\"#000000\" cx=\"0\" cy=\"-47.5\" rx=\"0\" ry=\"0\"/>\n",
       "</g>\n",
       "<!-- 0 -->\n",
       "<g id=\"node4\" class=\"node\">\n",
       "<title>0</title>\n",
       "<ellipse fill=\"#98f5ff\" stroke=\"#000000\" cx=\"51.5\" cy=\"-47.5\" rx=\"14.5\" ry=\"14.5\"/>\n",
       "<text text-anchor=\"middle\" x=\"51.5\" y=\"-44.4\" font-family=\"Times,serif\" font-size=\"12.00\" fill=\"#000000\">0</text>\n",
       "</g>\n",
       "<!-- I0&#45;&gt;0 -->\n",
       "<g id=\"edge1\" class=\"edge\">\n",
       "<title>I0&#45;&gt;0</title>\n",
       "<path fill=\"none\" stroke=\"#000000\" d=\"M.1477,-47.5C1.8156,-47.5 17.298,-47.5 30.83,-47.5\"/>\n",
       "<polygon fill=\"#000000\" stroke=\"#000000\" points=\"36.854,-47.5 30.854,-50.2001 33.854,-47.5 30.854,-47.5001 30.854,-47.5001 30.854,-47.5001 33.854,-47.5 30.854,-44.8001 36.854,-47.5 36.854,-47.5\"/>\n",
       "</g>\n",
       "<!-- F1 -->\n",
       "<g id=\"node2\" class=\"node\">\n",
       "<title>F1</title>\n",
       "<ellipse fill=\"#000000\" stroke=\"#000000\" cx=\"192.5\" cy=\"-80.5\" rx=\"0\" ry=\"0\"/>\n",
       "</g>\n",
       "<!-- F3 -->\n",
       "<g id=\"node3\" class=\"node\">\n",
       "<title>F3</title>\n",
       "<ellipse fill=\"#000000\" stroke=\"#000000\" cx=\"244\" cy=\"-14.5\" rx=\"0\" ry=\"0\"/>\n",
       "</g>\n",
       "<!-- 1 -->\n",
       "<g id=\"node5\" class=\"node\">\n",
       "<title>1</title>\n",
       "<ellipse fill=\"#98f5ff\" stroke=\"#000000\" cx=\"121.5\" cy=\"-47.5\" rx=\"14.5\" ry=\"14.5\"/>\n",
       "<text text-anchor=\"middle\" x=\"121.5\" y=\"-44.4\" font-family=\"Times,serif\" font-size=\"12.00\" fill=\"#000000\">1</text>\n",
       "</g>\n",
       "<!-- 0&#45;&gt;1 -->\n",
       "<g id=\"edge2\" class=\"edge\">\n",
       "<title>0&#45;&gt;1</title>\n",
       "<path fill=\"none\" stroke=\"#000000\" d=\"M66.004,-47.5C75.913,-47.5 89.206,-47.5 100.3,-47.5\"/>\n",
       "<polygon fill=\"#000000\" stroke=\"#000000\" points=\"106.53,-47.5 100.53,-50.2001 103.53,-47.5 100.53,-47.5001 100.53,-47.5001 100.53,-47.5001 103.53,-47.5 100.53,-44.8001 106.53,-47.5 106.53,-47.5\"/>\n",
       "<text text-anchor=\"middle\" x=\"86.5\" y=\"-51.3\" font-family=\"Times,serif\" font-size=\"14.00\" fill=\"#000000\">a</text>\n",
       "</g>\n",
       "<!-- 1&#45;&gt;F1 -->\n",
       "<g id=\"edge3\" class=\"edge\">\n",
       "<title>1&#45;&gt;F1</title>\n",
       "<path fill=\"none\" stroke=\"#000000\" d=\"M134.8546,-53.707C150.4204,-60.9419 175.444,-72.5726 186.6933,-77.8011\"/>\n",
       "<polygon fill=\"#000000\" stroke=\"#000000\" points=\"192.393,-80.4503 185.814,-80.3698 189.6725,-79.1858 186.952,-77.9213 186.952,-77.9213 186.952,-77.9213 189.6725,-79.1858 188.09,-75.4728 192.393,-80.4503 192.393,-80.4503\"/>\n",
       "</g>\n",
       "<!-- 3 -->\n",
       "<g id=\"node6\" class=\"node\">\n",
       "<title>3</title>\n",
       "<ellipse fill=\"#98f5ff\" stroke=\"#000000\" cx=\"192.5\" cy=\"-14.5\" rx=\"14.5\" ry=\"14.5\"/>\n",
       "<text text-anchor=\"middle\" x=\"192.5\" y=\"-11.4\" font-family=\"Times,serif\" font-size=\"12.00\" fill=\"#000000\">3</text>\n",
       "</g>\n",
       "<!-- 1&#45;&gt;3 -->\n",
       "<g id=\"edge4\" class=\"edge\">\n",
       "<title>1&#45;&gt;3</title>\n",
       "<path fill=\"none\" stroke=\"#000000\" d=\"M134.85,-41.293C145.76,-36.223 161.32,-28.994 173.52,-23.322\"/>\n",
       "<polygon fill=\"#000000\" stroke=\"#000000\" points=\"179.21,-20.679 174.9058,-25.6554 176.4892,-21.9428 173.7684,-23.2067 173.7684,-23.2067 173.7684,-23.2067 176.4892,-21.9428 172.6309,-20.7579 179.21,-20.679 179.21,-20.679\"/>\n",
       "<text text-anchor=\"middle\" x=\"157\" y=\"-36.3\" font-family=\"Times,serif\" font-size=\"14.00\" fill=\"#000000\">b</text>\n",
       "</g>\n",
       "<!-- 3&#45;&gt;F3 -->\n",
       "<g id=\"edge5\" class=\"edge\">\n",
       "<title>3&#45;&gt;F3</title>\n",
       "<path fill=\"none\" stroke=\"#000000\" d=\"M207.1201,-14.5C217.2606,-14.5 230.2527,-14.5 237.7999,-14.5\"/>\n",
       "<polygon fill=\"#000000\" stroke=\"#000000\" points=\"243.9374,-14.5 237.9375,-17.2001 240.9374,-14.5 237.9374,-14.5001 237.9374,-14.5001 237.9374,-14.5001 240.9374,-14.5 237.9374,-11.8001 243.9374,-14.5 243.9374,-14.5\"/>\n",
       "</g>\n",
       "<!-- 3&#45;&gt;3 -->\n",
       "<g id=\"edge6\" class=\"edge\">\n",
       "<title>3&#45;&gt;3</title>\n",
       "<path fill=\"none\" stroke=\"#000000\" d=\"M187.09,-28.192C185.45,-37.669 187.25,-47 192.5,-47 196.6,-47 198.6,-41.305 198.5,-34.294\"/>\n",
       "<polygon fill=\"#000000\" stroke=\"#000000\" points=\"197.91,-28.192 201.175,-33.9043 198.1988,-31.1781 198.4875,-34.1641 198.4875,-34.1641 198.4875,-34.1641 198.1988,-31.1781 195.8001,-34.424 197.91,-28.192 197.91,-28.192\"/>\n",
       "<text text-anchor=\"middle\" x=\"192.5\" y=\"-50.8\" font-family=\"Times,serif\" font-size=\"14.00\" fill=\"#000000\">b</text>\n",
       "</g>\n",
       "</g>\n",
       "</svg>\n"
      ],
      "text/plain": [
       "mutable_automaton<context<letterset<char_letters>, b>>"
      ]
     },
     "execution_count": 6,
     "metadata": {},
     "output_type": "execute_result"
    }
   ],
   "source": [
    "e1.standard()"
   ]
  },
  {
   "cell_type": "markdown",
   "metadata": {},
   "source": [
    "When it comes to displaying automata as graphs, there are several \"traditions\".  In Vcsn, initial states are denoted by an entering arrow, and final (or \"accepting\") states by an exiting arrow.  This automaton has one initial state, and two final states.\n",
    "\n",
    "The [expression.derived_term](expression.derived_term.ipynb) method builds the \"derived-term automaton\", aka, the Antimirov automaton."
   ]
  },
  {
   "cell_type": "code",
   "execution_count": 7,
   "metadata": {},
   "outputs": [
    {
     "data": {
      "image/svg+xml": [
       "<?xml version=\"1.0\" encoding=\"UTF-8\" standalone=\"no\"?>\n",
       "<!DOCTYPE svg PUBLIC \"-//W3C//DTD SVG 1.1//EN\"\n",
       " \"http://www.w3.org/Graphics/SVG/1.1/DTD/svg11.dtd\">\n",
       "<!-- Generated by graphviz version 2.40.1 (20161225.0304)\n",
       " -->\n",
       "<!-- Title: %3 Pages: 1 -->\n",
       "<svg width=\"181pt\" height=\"70pt\"\n",
       " viewBox=\"0.00 0.00 181.00 70.00\" xmlns=\"http://www.w3.org/2000/svg\" xmlns:xlink=\"http://www.w3.org/1999/xlink\">\n",
       "<g id=\"graph0\" class=\"graph\" transform=\"scale(1 1) rotate(0) translate(4 66)\">\n",
       "<title>%3</title>\n",
       "<polygon fill=\"#ffffff\" stroke=\"transparent\" points=\"-4,4 -4,-66 177,-66 177,4 -4,4\"/>\n",
       "<!-- I0 -->\n",
       "<g id=\"node1\" class=\"node\">\n",
       "<title>I0</title>\n",
       "<ellipse fill=\"#000000\" stroke=\"#000000\" cx=\"0\" cy=\"-14.5\" rx=\"0\" ry=\"0\"/>\n",
       "</g>\n",
       "<!-- 0 -->\n",
       "<g id=\"node3\" class=\"node\">\n",
       "<title>0</title>\n",
       "<path fill=\"#98f5ff\" stroke=\"#000000\" d=\"M56.3333,-29C56.3333,-29 46.6667,-29 46.6667,-29 41.8333,-29 37,-24.1667 37,-19.3333 37,-19.3333 37,-9.6667 37,-9.6667 37,-4.8333 41.8333,0 46.6667,0 46.6667,0 56.3333,0 56.3333,0 61.1667,0 66,-4.8333 66,-9.6667 66,-9.6667 66,-19.3333 66,-19.3333 66,-24.1667 61.1667,-29 56.3333,-29\"/>\n",
       "<text text-anchor=\"middle\" x=\"51.5\" y=\"-11.4\" font-family=\"Times,serif\" font-size=\"12.00\" fill=\"#000000\">ab*</text>\n",
       "</g>\n",
       "<!-- I0&#45;&gt;0 -->\n",
       "<g id=\"edge1\" class=\"edge\">\n",
       "<title>I0&#45;&gt;0</title>\n",
       "<path fill=\"none\" stroke=\"#000000\" d=\"M.1477,-14.5C1.8156,-14.5 17.298,-14.5 30.83,-14.5\"/>\n",
       "<polygon fill=\"#000000\" stroke=\"#000000\" points=\"36.854,-14.5 30.854,-17.2001 33.854,-14.5 30.854,-14.5001 30.854,-14.5001 30.854,-14.5001 33.854,-14.5 30.854,-11.8001 36.854,-14.5 36.854,-14.5\"/>\n",
       "</g>\n",
       "<!-- F1 -->\n",
       "<g id=\"node2\" class=\"node\">\n",
       "<title>F1</title>\n",
       "<ellipse fill=\"#000000\" stroke=\"#000000\" cx=\"173\" cy=\"-14.5\" rx=\"0\" ry=\"0\"/>\n",
       "</g>\n",
       "<!-- 1 -->\n",
       "<g id=\"node4\" class=\"node\">\n",
       "<title>1</title>\n",
       "<path fill=\"#98f5ff\" stroke=\"#000000\" d=\"M126.3333,-29C126.3333,-29 116.6667,-29 116.6667,-29 111.8333,-29 107,-24.1667 107,-19.3333 107,-19.3333 107,-9.6667 107,-9.6667 107,-4.8333 111.8333,0 116.6667,0 116.6667,0 126.3333,0 126.3333,0 131.1667,0 136,-4.8333 136,-9.6667 136,-9.6667 136,-19.3333 136,-19.3333 136,-24.1667 131.1667,-29 126.3333,-29\"/>\n",
       "<text text-anchor=\"middle\" x=\"121.5\" y=\"-11.4\" font-family=\"Times,serif\" font-size=\"12.00\" fill=\"#000000\">b*</text>\n",
       "</g>\n",
       "<!-- 0&#45;&gt;1 -->\n",
       "<g id=\"edge2\" class=\"edge\">\n",
       "<title>0&#45;&gt;1</title>\n",
       "<path fill=\"none\" stroke=\"#000000\" d=\"M66.004,-14.5C75.913,-14.5 89.206,-14.5 100.3,-14.5\"/>\n",
       "<polygon fill=\"#000000\" stroke=\"#000000\" points=\"106.53,-14.5 100.53,-17.2001 103.53,-14.5 100.53,-14.5001 100.53,-14.5001 100.53,-14.5001 103.53,-14.5 100.53,-11.8001 106.53,-14.5 106.53,-14.5\"/>\n",
       "<text text-anchor=\"middle\" x=\"86.5\" y=\"-18.3\" font-family=\"Times,serif\" font-size=\"14.00\" fill=\"#000000\">a</text>\n",
       "</g>\n",
       "<!-- 1&#45;&gt;F1 -->\n",
       "<g id=\"edge3\" class=\"edge\">\n",
       "<title>1&#45;&gt;F1</title>\n",
       "<path fill=\"none\" stroke=\"#000000\" d=\"M136.1201,-14.5C146.2606,-14.5 159.2527,-14.5 166.7999,-14.5\"/>\n",
       "<polygon fill=\"#000000\" stroke=\"#000000\" points=\"172.9374,-14.5 166.9375,-17.2001 169.9374,-14.5 166.9374,-14.5001 166.9374,-14.5001 166.9374,-14.5001 169.9374,-14.5 166.9374,-11.8001 172.9374,-14.5 172.9374,-14.5\"/>\n",
       "</g>\n",
       "<!-- 1&#45;&gt;1 -->\n",
       "<g id=\"edge4\" class=\"edge\">\n",
       "<title>1&#45;&gt;1</title>\n",
       "<path fill=\"none\" stroke=\"#000000\" d=\"M115.92,-29.206C114.58,-38.324 116.44,-47 121.5,-47 125.38,-47 127.37,-41.914 127.49,-35.438\"/>\n",
       "<polygon fill=\"#000000\" stroke=\"#000000\" points=\"127.08,-29.206 130.1682,-35.0158 127.277,-32.1995 127.474,-35.1931 127.474,-35.1931 127.474,-35.1931 127.277,-32.1995 124.7798,-35.3703 127.08,-29.206 127.08,-29.206\"/>\n",
       "<text text-anchor=\"middle\" x=\"121.5\" y=\"-50.8\" font-family=\"Times,serif\" font-size=\"14.00\" fill=\"#000000\">b</text>\n",
       "</g>\n",
       "</g>\n",
       "</svg>\n"
      ],
      "text/plain": [
       "expression_automaton<mutable_automaton<context<letterset<char_letters>, b>>>"
      ]
     },
     "execution_count": 7,
     "metadata": {},
     "output_type": "execute_result"
    }
   ],
   "source": [
    "a1 = e1.derived_term()\n",
    "a1"
   ]
  },
  {
   "cell_type": "markdown",
   "metadata": {},
   "source": [
    "Python operators that are accepted by rational expressions are also accepted by automata, with matching semantics."
   ]
  },
  {
   "cell_type": "code",
   "execution_count": 8,
   "metadata": {},
   "outputs": [
    {
     "data": {
      "image/svg+xml": [
       "<?xml version=\"1.0\" encoding=\"UTF-8\" standalone=\"no\"?>\n",
       "<!DOCTYPE svg PUBLIC \"-//W3C//DTD SVG 1.1//EN\"\n",
       " \"http://www.w3.org/Graphics/SVG/1.1/DTD/svg11.dtd\">\n",
       "<!-- Generated by graphviz version 2.40.1 (20161225.0304)\n",
       " -->\n",
       "<!-- Title: %3 Pages: 1 -->\n",
       "<svg width=\"292pt\" height=\"112pt\"\n",
       " viewBox=\"0.00 0.00 292.00 112.00\" xmlns=\"http://www.w3.org/2000/svg\" xmlns:xlink=\"http://www.w3.org/1999/xlink\">\n",
       "<g id=\"graph0\" class=\"graph\" transform=\"scale(1 1) rotate(0) translate(4 108)\">\n",
       "<title>%3</title>\n",
       "<polygon fill=\"#ffffff\" stroke=\"transparent\" points=\"-4,4 -4,-108 288,-108 288,4 -4,4\"/>\n",
       "<!-- I0 -->\n",
       "<g id=\"node1\" class=\"node\">\n",
       "<title>I0</title>\n",
       "<ellipse fill=\"#000000\" stroke=\"#000000\" cx=\"0\" cy=\"-56.5\" rx=\"0\" ry=\"0\"/>\n",
       "</g>\n",
       "<!-- 0 -->\n",
       "<g id=\"node3\" class=\"node\">\n",
       "<title>0</title>\n",
       "<path fill=\"#98f5ff\" stroke=\"#000000\" d=\"M88.3333,-71C88.3333,-71 46.6667,-71 46.6667,-71 41.8333,-71 37,-66.1667 37,-61.3333 37,-61.3333 37,-51.6667 37,-51.6667 37,-46.8333 41.8333,-42 46.6667,-42 46.6667,-42 88.3333,-42 88.3333,-42 93.1667,-42 98,-46.8333 98,-51.6667 98,-51.6667 98,-61.3333 98,-61.3333 98,-66.1667 93.1667,-71 88.3333,-71\"/>\n",
       "<text text-anchor=\"middle\" x=\"67.5\" y=\"-53.4\" font-family=\"Times,serif\" font-size=\"12.00\" fill=\"#000000\">ab*+ab*ab*</text>\n",
       "</g>\n",
       "<!-- I0&#45;&gt;0 -->\n",
       "<g id=\"edge1\" class=\"edge\">\n",
       "<title>I0&#45;&gt;0</title>\n",
       "<path fill=\"none\" stroke=\"#000000\" d=\"M.0489,-56.5C.9934,-56.5 15.468,-56.5 30.767,-56.5\"/>\n",
       "<polygon fill=\"#000000\" stroke=\"#000000\" points=\"36.873,-56.5 30.873,-59.2001 33.873,-56.5 30.873,-56.5001 30.873,-56.5001 30.873,-56.5001 33.873,-56.5 30.873,-53.8001 36.873,-56.5 36.873,-56.5\"/>\n",
       "</g>\n",
       "<!-- F1 -->\n",
       "<g id=\"node2\" class=\"node\">\n",
       "<title>F1</title>\n",
       "<ellipse fill=\"#000000\" stroke=\"#000000\" cx=\"284\" cy=\"-56.5\" rx=\"0\" ry=\"0\"/>\n",
       "</g>\n",
       "<!-- 1 -->\n",
       "<g id=\"node4\" class=\"node\">\n",
       "<title>1</title>\n",
       "<path fill=\"#98f5ff\" stroke=\"#000000\" d=\"M237.3333,-71C237.3333,-71 227.6667,-71 227.6667,-71 222.8333,-71 218,-66.1667 218,-61.3333 218,-61.3333 218,-51.6667 218,-51.6667 218,-46.8333 222.8333,-42 227.6667,-42 227.6667,-42 237.3333,-42 237.3333,-42 242.1667,-42 247,-46.8333 247,-51.6667 247,-51.6667 247,-61.3333 247,-61.3333 247,-66.1667 242.1667,-71 237.3333,-71\"/>\n",
       "<text text-anchor=\"middle\" x=\"232.5\" y=\"-53.4\" font-family=\"Times,serif\" font-size=\"12.00\" fill=\"#000000\">b*</text>\n",
       "</g>\n",
       "<!-- 0&#45;&gt;1 -->\n",
       "<g id=\"edge2\" class=\"edge\">\n",
       "<title>0&#45;&gt;1</title>\n",
       "<path fill=\"none\" stroke=\"#000000\" d=\"M98.17,-65.126C120.12,-70.218 150.37,-75.035 177,-71.5 188.74,-69.941 201.53,-66.603 211.87,-63.47\"/>\n",
       "<polygon fill=\"#000000\" stroke=\"#000000\" points=\"217.64,-61.665 212.7198,-66.0333 214.7768,-62.5607 211.9136,-63.4564 211.9136,-63.4564 211.9136,-63.4564 214.7768,-62.5607 211.1075,-60.8796 217.64,-61.665 217.64,-61.665\"/>\n",
       "<text text-anchor=\"middle\" x=\"158\" y=\"-76.3\" font-family=\"Times,serif\" font-size=\"14.00\" fill=\"#000000\">a</text>\n",
       "</g>\n",
       "<!-- 2 -->\n",
       "<g id=\"node5\" class=\"node\">\n",
       "<title>2</title>\n",
       "<path fill=\"#98f5ff\" stroke=\"#000000\" d=\"M167.3333,-29C167.3333,-29 148.6667,-29 148.6667,-29 143.8333,-29 139,-24.1667 139,-19.3333 139,-19.3333 139,-9.6667 139,-9.6667 139,-4.8333 143.8333,0 148.6667,0 148.6667,0 167.3333,0 167.3333,0 172.1667,0 177,-4.8333 177,-9.6667 177,-9.6667 177,-19.3333 177,-19.3333 177,-24.1667 172.1667,-29 167.3333,-29\"/>\n",
       "<text text-anchor=\"middle\" x=\"158\" y=\"-11.4\" font-family=\"Times,serif\" font-size=\"12.00\" fill=\"#000000\">b*ab*</text>\n",
       "</g>\n",
       "<!-- 0&#45;&gt;2 -->\n",
       "<g id=\"edge3\" class=\"edge\">\n",
       "<title>0&#45;&gt;2</title>\n",
       "<path fill=\"none\" stroke=\"#000000\" d=\"M98.139,-42.281C109.58,-36.971 122.42,-31.014 133.26,-25.981\"/>\n",
       "<polygon fill=\"#000000\" stroke=\"#000000\" points=\"138.73,-23.442 134.4245,-28.4172 136.0088,-24.7051 133.2877,-25.9682 133.2877,-25.9682 133.2877,-25.9682 136.0088,-24.7051 132.1509,-23.5192 138.73,-23.442 138.73,-23.442\"/>\n",
       "<text text-anchor=\"middle\" x=\"118.5\" y=\"-37.3\" font-family=\"Times,serif\" font-size=\"14.00\" fill=\"#000000\">a</text>\n",
       "</g>\n",
       "<!-- 1&#45;&gt;F1 -->\n",
       "<g id=\"edge4\" class=\"edge\">\n",
       "<title>1&#45;&gt;F1</title>\n",
       "<path fill=\"none\" stroke=\"#000000\" d=\"M247.1201,-56.5C257.2606,-56.5 270.2527,-56.5 277.7999,-56.5\"/>\n",
       "<polygon fill=\"#000000\" stroke=\"#000000\" points=\"283.9374,-56.5 277.9375,-59.2001 280.9374,-56.5 277.9374,-56.5001 277.9374,-56.5001 277.9374,-56.5001 280.9374,-56.5 277.9374,-53.8001 283.9374,-56.5 283.9374,-56.5\"/>\n",
       "</g>\n",
       "<!-- 1&#45;&gt;1 -->\n",
       "<g id=\"edge5\" class=\"edge\">\n",
       "<title>1&#45;&gt;1</title>\n",
       "<path fill=\"none\" stroke=\"#000000\" d=\"M226.92,-71.206C225.58,-80.324 227.44,-89 232.5,-89 236.38,-89 238.37,-83.914 238.49,-77.438\"/>\n",
       "<polygon fill=\"#000000\" stroke=\"#000000\" points=\"238.08,-71.206 241.1682,-77.0158 238.277,-74.1995 238.474,-77.1931 238.474,-77.1931 238.474,-77.1931 238.277,-74.1995 235.7798,-77.3703 238.08,-71.206 238.08,-71.206\"/>\n",
       "<text text-anchor=\"middle\" x=\"232.5\" y=\"-92.8\" font-family=\"Times,serif\" font-size=\"14.00\" fill=\"#000000\">b</text>\n",
       "</g>\n",
       "<!-- 2&#45;&gt;1 -->\n",
       "<g id=\"edge6\" class=\"edge\">\n",
       "<title>2&#45;&gt;1</title>\n",
       "<path fill=\"none\" stroke=\"#000000\" d=\"M177.19,-25.316C187.91,-31.36 201.26,-38.888 212.16,-45.034\"/>\n",
       "<polygon fill=\"#000000\" stroke=\"#000000\" points=\"217.61,-48.106 211.0573,-47.5118 214.9966,-46.6329 212.3831,-45.1597 212.3831,-45.1597 212.3831,-45.1597 214.9966,-46.6329 213.709,-42.8077 217.61,-48.106 217.61,-48.106\"/>\n",
       "<text text-anchor=\"middle\" x=\"197.5\" y=\"-42.3\" font-family=\"Times,serif\" font-size=\"14.00\" fill=\"#000000\">a</text>\n",
       "</g>\n",
       "<!-- 2&#45;&gt;2 -->\n",
       "<g id=\"edge7\" class=\"edge\">\n",
       "<title>2&#45;&gt;2</title>\n",
       "<path fill=\"none\" stroke=\"#000000\" d=\"M151.38,-29.206C149.78,-38.324 151.99,-47 158,-47 162.6,-47 164.98,-41.914 165.12,-35.438\"/>\n",
       "<polygon fill=\"#000000\" stroke=\"#000000\" points=\"164.62,-29.206 167.7913,-34.9708 164.86,-32.1964 165.0999,-35.1868 165.0999,-35.1868 165.0999,-35.1868 164.86,-32.1964 162.4086,-35.4028 164.62,-29.206 164.62,-29.206\"/>\n",
       "<text text-anchor=\"middle\" x=\"158\" y=\"-50.8\" font-family=\"Times,serif\" font-size=\"14.00\" fill=\"#000000\">b</text>\n",
       "</g>\n",
       "</g>\n",
       "</svg>\n"
      ],
      "text/plain": [
       "expression_automaton<mutable_automaton<context<letterset<char_letters>, b>>>"
      ]
     },
     "execution_count": 8,
     "metadata": {},
     "output_type": "execute_result"
    }
   ],
   "source": [
    "a2 = (e1 + e1*e1).derived_term()\n",
    "a2"
   ]
  },
  {
   "cell_type": "code",
   "execution_count": 9,
   "metadata": {},
   "outputs": [
    {
     "data": {
      "image/svg+xml": [
       "<?xml version=\"1.0\" encoding=\"UTF-8\" standalone=\"no\"?>\n",
       "<!DOCTYPE svg PUBLIC \"-//W3C//DTD SVG 1.1//EN\"\n",
       " \"http://www.w3.org/Graphics/SVG/1.1/DTD/svg11.dtd\">\n",
       "<!-- Generated by graphviz version 2.40.1 (20161225.0304)\n",
       " -->\n",
       "<!-- Title: %3 Pages: 1 -->\n",
       "<svg width=\"251pt\" height=\"150pt\"\n",
       " viewBox=\"0.00 0.00 251.00 150.00\" xmlns=\"http://www.w3.org/2000/svg\" xmlns:xlink=\"http://www.w3.org/1999/xlink\">\n",
       "<g id=\"graph0\" class=\"graph\" transform=\"scale(1 1) rotate(0) translate(4 146)\">\n",
       "<title>%3</title>\n",
       "<polygon fill=\"#ffffff\" stroke=\"transparent\" points=\"-4,4 -4,-146 247,-146 247,4 -4,4\"/>\n",
       "<!-- I0 -->\n",
       "<g id=\"node1\" class=\"node\">\n",
       "<title>I0</title>\n",
       "<ellipse fill=\"#000000\" stroke=\"#000000\" cx=\"0\" cy=\"-54.5\" rx=\"0\" ry=\"0\"/>\n",
       "</g>\n",
       "<!-- 0 -->\n",
       "<g id=\"node4\" class=\"node\">\n",
       "<title>0</title>\n",
       "<ellipse fill=\"#98f5ff\" stroke=\"#000000\" cx=\"51.5\" cy=\"-54.5\" rx=\"14.5\" ry=\"14.5\"/>\n",
       "<text text-anchor=\"middle\" x=\"51.5\" y=\"-51.4\" font-family=\"Times,serif\" font-size=\"12.00\" fill=\"#000000\">0</text>\n",
       "</g>\n",
       "<!-- I0&#45;&gt;0 -->\n",
       "<g id=\"edge1\" class=\"edge\">\n",
       "<title>I0&#45;&gt;0</title>\n",
       "<path fill=\"none\" stroke=\"#000000\" d=\"M.1477,-54.5C1.8156,-54.5 17.298,-54.5 30.83,-54.5\"/>\n",
       "<polygon fill=\"#000000\" stroke=\"#000000\" points=\"36.854,-54.5 30.854,-57.2001 33.854,-54.5 30.854,-54.5001 30.854,-54.5001 30.854,-54.5001 33.854,-54.5 30.854,-51.8001 36.854,-54.5 36.854,-54.5\"/>\n",
       "</g>\n",
       "<!-- F1 -->\n",
       "<g id=\"node2\" class=\"node\">\n",
       "<title>F1</title>\n",
       "<ellipse fill=\"#000000\" stroke=\"#000000\" cx=\"191.5\" cy=\"-94.5\" rx=\"0\" ry=\"0\"/>\n",
       "</g>\n",
       "<!-- F3 -->\n",
       "<g id=\"node3\" class=\"node\">\n",
       "<title>F3</title>\n",
       "<ellipse fill=\"#000000\" stroke=\"#000000\" cx=\"243\" cy=\"-14.5\" rx=\"0\" ry=\"0\"/>\n",
       "</g>\n",
       "<!-- 1 -->\n",
       "<g id=\"node5\" class=\"node\">\n",
       "<title>1</title>\n",
       "<ellipse fill=\"#98f5ff\" stroke=\"#000000\" cx=\"121.5\" cy=\"-94.5\" rx=\"14.5\" ry=\"14.5\"/>\n",
       "<text text-anchor=\"middle\" x=\"121.5\" y=\"-91.4\" font-family=\"Times,serif\" font-size=\"12.00\" fill=\"#000000\">1</text>\n",
       "</g>\n",
       "<!-- 0&#45;&gt;1 -->\n",
       "<g id=\"edge2\" class=\"edge\">\n",
       "<title>0&#45;&gt;1</title>\n",
       "<path fill=\"none\" stroke=\"#000000\" d=\"M64.339,-61.837C75.292,-68.095 91.163,-77.165 103.4,-84.16\"/>\n",
       "<polygon fill=\"#000000\" stroke=\"#000000\" points=\"108.74,-87.21 102.1908,-86.5787 106.135,-85.7221 103.5299,-84.2342 103.5299,-84.2342 103.5299,-84.2342 106.135,-85.7221 104.8691,-81.8896 108.74,-87.21 108.74,-87.21\"/>\n",
       "<text text-anchor=\"middle\" x=\"86.5\" y=\"-79.3\" font-family=\"Times,serif\" font-size=\"14.00\" fill=\"#000000\">a</text>\n",
       "</g>\n",
       "<!-- 2 -->\n",
       "<g id=\"node6\" class=\"node\">\n",
       "<title>2</title>\n",
       "<ellipse fill=\"#98f5ff\" stroke=\"#000000\" cx=\"121.5\" cy=\"-14.5\" rx=\"14.5\" ry=\"14.5\"/>\n",
       "<text text-anchor=\"middle\" x=\"121.5\" y=\"-11.4\" font-family=\"Times,serif\" font-size=\"12.00\" fill=\"#000000\">2</text>\n",
       "</g>\n",
       "<!-- 0&#45;&gt;2 -->\n",
       "<g id=\"edge3\" class=\"edge\">\n",
       "<title>0&#45;&gt;2</title>\n",
       "<path fill=\"none\" stroke=\"#000000\" d=\"M64.339,-47.163C75.292,-40.905 91.163,-31.835 103.4,-24.84\"/>\n",
       "<polygon fill=\"#000000\" stroke=\"#000000\" points=\"108.74,-21.79 104.8691,-27.1104 106.135,-23.2779 103.5299,-24.7658 103.5299,-24.7658 103.5299,-24.7658 106.135,-23.2779 102.1908,-22.4213 108.74,-21.79 108.74,-21.79\"/>\n",
       "<text text-anchor=\"middle\" x=\"86.5\" y=\"-40.3\" font-family=\"Times,serif\" font-size=\"14.00\" fill=\"#000000\">a</text>\n",
       "</g>\n",
       "<!-- 1&#45;&gt;F1 -->\n",
       "<g id=\"edge4\" class=\"edge\">\n",
       "<title>1&#45;&gt;F1</title>\n",
       "<path fill=\"none\" stroke=\"#000000\" d=\"M136.004,-94.5C151.2114,-94.5 174.3895,-94.5 185.3487,-94.5\"/>\n",
       "<polygon fill=\"#000000\" stroke=\"#000000\" points=\"191.399,-94.5 185.399,-97.2001 188.399,-94.5 185.399,-94.5001 185.399,-94.5001 185.399,-94.5001 188.399,-94.5 185.3989,-91.8001 191.399,-94.5 191.399,-94.5\"/>\n",
       "</g>\n",
       "<!-- 1&#45;&gt;1 -->\n",
       "<g id=\"edge5\" class=\"edge\">\n",
       "<title>1&#45;&gt;1</title>\n",
       "<path fill=\"none\" stroke=\"#000000\" d=\"M115.81,-107.85C113.96,-117.45 115.86,-127 121.5,-127 125.91,-127 128.03,-121.17 127.87,-114.04\"/>\n",
       "<polygon fill=\"#000000\" stroke=\"#000000\" points=\"127.19,-107.85 130.5291,-113.5192 127.5176,-110.8321 127.8453,-113.8141 127.8453,-113.8141 127.8453,-113.8141 127.5176,-110.8321 125.1614,-114.109 127.19,-107.85 127.19,-107.85\"/>\n",
       "<text text-anchor=\"middle\" x=\"121.5\" y=\"-130.8\" font-family=\"Times,serif\" font-size=\"14.00\" fill=\"#000000\">b</text>\n",
       "</g>\n",
       "<!-- 2&#45;&gt;2 -->\n",
       "<g id=\"edge6\" class=\"edge\">\n",
       "<title>2&#45;&gt;2</title>\n",
       "<path fill=\"none\" stroke=\"#000000\" d=\"M115.81,-27.854C113.96,-37.445 115.86,-47 121.5,-47 125.91,-47 128.03,-41.168 127.87,-34.043\"/>\n",
       "<polygon fill=\"#000000\" stroke=\"#000000\" points=\"127.19,-27.854 130.5292,-33.5232 127.5177,-30.8361 127.8454,-33.8181 127.8454,-33.8181 127.8454,-33.8181 127.5177,-30.8361 125.1615,-34.113 127.19,-27.854 127.19,-27.854\"/>\n",
       "<text text-anchor=\"middle\" x=\"121.5\" y=\"-50.8\" font-family=\"Times,serif\" font-size=\"14.00\" fill=\"#000000\">b</text>\n",
       "</g>\n",
       "<!-- 3 -->\n",
       "<g id=\"node7\" class=\"node\">\n",
       "<title>3</title>\n",
       "<ellipse fill=\"#98f5ff\" stroke=\"#000000\" cx=\"191.5\" cy=\"-14.5\" rx=\"14.5\" ry=\"14.5\"/>\n",
       "<text text-anchor=\"middle\" x=\"191.5\" y=\"-11.4\" font-family=\"Times,serif\" font-size=\"12.00\" fill=\"#000000\">3</text>\n",
       "</g>\n",
       "<!-- 2&#45;&gt;3 -->\n",
       "<g id=\"edge7\" class=\"edge\">\n",
       "<title>2&#45;&gt;3</title>\n",
       "<path fill=\"none\" stroke=\"#000000\" d=\"M136,-14.5C145.91,-14.5 159.21,-14.5 170.3,-14.5\"/>\n",
       "<polygon fill=\"#000000\" stroke=\"#000000\" points=\"176.53,-14.5 170.53,-17.2001 173.53,-14.5 170.53,-14.5001 170.53,-14.5001 170.53,-14.5001 173.53,-14.5 170.53,-11.8001 176.53,-14.5 176.53,-14.5\"/>\n",
       "<text text-anchor=\"middle\" x=\"156.5\" y=\"-18.3\" font-family=\"Times,serif\" font-size=\"14.00\" fill=\"#000000\">a</text>\n",
       "</g>\n",
       "<!-- 3&#45;&gt;F3 -->\n",
       "<g id=\"edge8\" class=\"edge\">\n",
       "<title>3&#45;&gt;F3</title>\n",
       "<path fill=\"none\" stroke=\"#000000\" d=\"M206.1201,-14.5C216.2606,-14.5 229.2527,-14.5 236.7999,-14.5\"/>\n",
       "<polygon fill=\"#000000\" stroke=\"#000000\" points=\"242.9374,-14.5 236.9375,-17.2001 239.9374,-14.5 236.9374,-14.5001 236.9374,-14.5001 236.9374,-14.5001 239.9374,-14.5 236.9374,-11.8001 242.9374,-14.5 242.9374,-14.5\"/>\n",
       "</g>\n",
       "<!-- 3&#45;&gt;3 -->\n",
       "<g id=\"edge9\" class=\"edge\">\n",
       "<title>3&#45;&gt;3</title>\n",
       "<path fill=\"none\" stroke=\"#000000\" d=\"M186.09,-28.192C184.45,-37.669 186.25,-47 191.5,-47 195.6,-47 197.6,-41.305 197.5,-34.294\"/>\n",
       "<polygon fill=\"#000000\" stroke=\"#000000\" points=\"196.91,-28.192 200.175,-33.9043 197.1988,-31.1781 197.4875,-34.1641 197.4875,-34.1641 197.4875,-34.1641 197.1988,-31.1781 194.8001,-34.424 196.91,-28.192 196.91,-28.192\"/>\n",
       "<text text-anchor=\"middle\" x=\"191.5\" y=\"-50.8\" font-family=\"Times,serif\" font-size=\"14.00\" fill=\"#000000\">b</text>\n",
       "</g>\n",
       "</g>\n",
       "</svg>\n"
      ],
      "text/plain": [
       "mutable_automaton<context<letterset<char_letters>, b>>"
      ]
     },
     "execution_count": 9,
     "metadata": {},
     "output_type": "execute_result"
    }
   ],
   "source": [
    "a3 = a1 + a1 * a1\n",
    "a3"
   ]
  },
  {
   "cell_type": "markdown",
   "metadata": {},
   "source": [
    "Well, those two automata are not equal (or more rigorously \"isomorphic\"), but they are equivalent:"
   ]
  },
  {
   "cell_type": "code",
   "execution_count": 10,
   "metadata": {},
   "outputs": [
    {
     "data": {
      "text/plain": [
       "True"
      ]
     },
     "execution_count": 10,
     "metadata": {},
     "output_type": "execute_result"
    }
   ],
   "source": [
    "a2.is_equivalent(a3)"
   ]
  },
  {
   "cell_type": "markdown",
   "metadata": {},
   "source": [
    "All the classical algorithms about automata are implemented:"
   ]
  },
  {
   "cell_type": "code",
   "execution_count": 11,
   "metadata": {},
   "outputs": [
    {
     "data": {
      "image/svg+xml": [
       "<?xml version=\"1.0\" encoding=\"UTF-8\" standalone=\"no\"?>\n",
       "<!DOCTYPE svg PUBLIC \"-//W3C//DTD SVG 1.1//EN\"\n",
       " \"http://www.w3.org/Graphics/SVG/1.1/DTD/svg11.dtd\">\n",
       "<!-- Generated by graphviz version 2.40.1 (20161225.0304)\n",
       " -->\n",
       "<!-- Title: %3 Pages: 1 -->\n",
       "<svg width=\"251pt\" height=\"150pt\"\n",
       " viewBox=\"0.00 0.00 251.00 150.00\" xmlns=\"http://www.w3.org/2000/svg\" xmlns:xlink=\"http://www.w3.org/1999/xlink\">\n",
       "<g id=\"graph0\" class=\"graph\" transform=\"scale(1 1) rotate(0) translate(4 146)\">\n",
       "<title>%3</title>\n",
       "<polygon fill=\"#ffffff\" stroke=\"transparent\" points=\"-4,4 -4,-146 247,-146 247,4 -4,4\"/>\n",
       "<!-- I0 -->\n",
       "<g id=\"node1\" class=\"node\">\n",
       "<title>I0</title>\n",
       "<ellipse fill=\"#000000\" stroke=\"#000000\" cx=\"0\" cy=\"-54.5\" rx=\"0\" ry=\"0\"/>\n",
       "</g>\n",
       "<!-- 0 -->\n",
       "<g id=\"node4\" class=\"node\">\n",
       "<title>0</title>\n",
       "<ellipse fill=\"#98f5ff\" stroke=\"#000000\" cx=\"51.5\" cy=\"-54.5\" rx=\"14.5\" ry=\"14.5\"/>\n",
       "<text text-anchor=\"middle\" x=\"51.5\" y=\"-51.4\" font-family=\"Times,serif\" font-size=\"12.00\" fill=\"#000000\">0</text>\n",
       "</g>\n",
       "<!-- I0&#45;&gt;0 -->\n",
       "<g id=\"edge1\" class=\"edge\">\n",
       "<title>I0&#45;&gt;0</title>\n",
       "<path fill=\"none\" stroke=\"#000000\" d=\"M.1477,-54.5C1.8156,-54.5 17.298,-54.5 30.83,-54.5\"/>\n",
       "<polygon fill=\"#000000\" stroke=\"#000000\" points=\"36.854,-54.5 30.854,-57.2001 33.854,-54.5 30.854,-54.5001 30.854,-54.5001 30.854,-54.5001 33.854,-54.5 30.854,-51.8001 36.854,-54.5 36.854,-54.5\"/>\n",
       "</g>\n",
       "<!-- F1 -->\n",
       "<g id=\"node2\" class=\"node\">\n",
       "<title>F1</title>\n",
       "<ellipse fill=\"#000000\" stroke=\"#000000\" cx=\"191.5\" cy=\"-94.5\" rx=\"0\" ry=\"0\"/>\n",
       "</g>\n",
       "<!-- F3 -->\n",
       "<g id=\"node3\" class=\"node\">\n",
       "<title>F3</title>\n",
       "<ellipse fill=\"#000000\" stroke=\"#000000\" cx=\"243\" cy=\"-14.5\" rx=\"0\" ry=\"0\"/>\n",
       "</g>\n",
       "<!-- 1 -->\n",
       "<g id=\"node5\" class=\"node\">\n",
       "<title>1</title>\n",
       "<ellipse fill=\"#98f5ff\" stroke=\"#000000\" cx=\"121.5\" cy=\"-94.5\" rx=\"14.5\" ry=\"14.5\"/>\n",
       "<text text-anchor=\"middle\" x=\"121.5\" y=\"-91.4\" font-family=\"Times,serif\" font-size=\"12.00\" fill=\"#000000\">1</text>\n",
       "</g>\n",
       "<!-- 0&#45;&gt;1 -->\n",
       "<g id=\"edge2\" class=\"edge\">\n",
       "<title>0&#45;&gt;1</title>\n",
       "<path fill=\"none\" stroke=\"#000000\" d=\"M64.339,-61.837C75.292,-68.095 91.163,-77.165 103.4,-84.16\"/>\n",
       "<polygon fill=\"#000000\" stroke=\"#000000\" points=\"108.74,-87.21 102.1908,-86.5787 106.135,-85.7221 103.5299,-84.2342 103.5299,-84.2342 103.5299,-84.2342 106.135,-85.7221 104.8691,-81.8896 108.74,-87.21 108.74,-87.21\"/>\n",
       "<text text-anchor=\"middle\" x=\"86.5\" y=\"-79.3\" font-family=\"Times,serif\" font-size=\"14.00\" fill=\"#000000\">a</text>\n",
       "</g>\n",
       "<!-- 2 -->\n",
       "<g id=\"node6\" class=\"node\">\n",
       "<title>2</title>\n",
       "<ellipse fill=\"#98f5ff\" stroke=\"#000000\" cx=\"121.5\" cy=\"-14.5\" rx=\"14.5\" ry=\"14.5\"/>\n",
       "<text text-anchor=\"middle\" x=\"121.5\" y=\"-11.4\" font-family=\"Times,serif\" font-size=\"12.00\" fill=\"#000000\">2</text>\n",
       "</g>\n",
       "<!-- 0&#45;&gt;2 -->\n",
       "<g id=\"edge3\" class=\"edge\">\n",
       "<title>0&#45;&gt;2</title>\n",
       "<path fill=\"none\" stroke=\"#000000\" d=\"M64.339,-47.163C75.292,-40.905 91.163,-31.835 103.4,-24.84\"/>\n",
       "<polygon fill=\"#000000\" stroke=\"#000000\" points=\"108.74,-21.79 104.8691,-27.1104 106.135,-23.2779 103.5299,-24.7658 103.5299,-24.7658 103.5299,-24.7658 106.135,-23.2779 102.1908,-22.4213 108.74,-21.79 108.74,-21.79\"/>\n",
       "<text text-anchor=\"middle\" x=\"86.5\" y=\"-40.3\" font-family=\"Times,serif\" font-size=\"14.00\" fill=\"#000000\">a</text>\n",
       "</g>\n",
       "<!-- 1&#45;&gt;F1 -->\n",
       "<g id=\"edge4\" class=\"edge\">\n",
       "<title>1&#45;&gt;F1</title>\n",
       "<path fill=\"none\" stroke=\"#000000\" d=\"M136.004,-94.5C151.2114,-94.5 174.3895,-94.5 185.3487,-94.5\"/>\n",
       "<polygon fill=\"#000000\" stroke=\"#000000\" points=\"191.399,-94.5 185.399,-97.2001 188.399,-94.5 185.399,-94.5001 185.399,-94.5001 185.399,-94.5001 188.399,-94.5 185.3989,-91.8001 191.399,-94.5 191.399,-94.5\"/>\n",
       "</g>\n",
       "<!-- 1&#45;&gt;1 -->\n",
       "<g id=\"edge5\" class=\"edge\">\n",
       "<title>1&#45;&gt;1</title>\n",
       "<path fill=\"none\" stroke=\"#000000\" d=\"M115.81,-107.85C113.96,-117.45 115.86,-127 121.5,-127 125.91,-127 128.03,-121.17 127.87,-114.04\"/>\n",
       "<polygon fill=\"#000000\" stroke=\"#000000\" points=\"127.19,-107.85 130.5291,-113.5192 127.5176,-110.8321 127.8453,-113.8141 127.8453,-113.8141 127.8453,-113.8141 127.5176,-110.8321 125.1614,-114.109 127.19,-107.85 127.19,-107.85\"/>\n",
       "<text text-anchor=\"middle\" x=\"121.5\" y=\"-130.8\" font-family=\"Times,serif\" font-size=\"14.00\" fill=\"#000000\">b</text>\n",
       "</g>\n",
       "<!-- 2&#45;&gt;2 -->\n",
       "<g id=\"edge6\" class=\"edge\">\n",
       "<title>2&#45;&gt;2</title>\n",
       "<path fill=\"none\" stroke=\"#000000\" d=\"M115.81,-27.854C113.96,-37.445 115.86,-47 121.5,-47 125.91,-47 128.03,-41.168 127.87,-34.043\"/>\n",
       "<polygon fill=\"#000000\" stroke=\"#000000\" points=\"127.19,-27.854 130.5292,-33.5232 127.5177,-30.8361 127.8454,-33.8181 127.8454,-33.8181 127.8454,-33.8181 127.5177,-30.8361 125.1615,-34.113 127.19,-27.854 127.19,-27.854\"/>\n",
       "<text text-anchor=\"middle\" x=\"121.5\" y=\"-50.8\" font-family=\"Times,serif\" font-size=\"14.00\" fill=\"#000000\">b</text>\n",
       "</g>\n",
       "<!-- 3 -->\n",
       "<g id=\"node7\" class=\"node\">\n",
       "<title>3</title>\n",
       "<ellipse fill=\"#98f5ff\" stroke=\"#000000\" cx=\"191.5\" cy=\"-14.5\" rx=\"14.5\" ry=\"14.5\"/>\n",
       "<text text-anchor=\"middle\" x=\"191.5\" y=\"-11.4\" font-family=\"Times,serif\" font-size=\"12.00\" fill=\"#000000\">3</text>\n",
       "</g>\n",
       "<!-- 2&#45;&gt;3 -->\n",
       "<g id=\"edge7\" class=\"edge\">\n",
       "<title>2&#45;&gt;3</title>\n",
       "<path fill=\"none\" stroke=\"#000000\" d=\"M136,-14.5C145.91,-14.5 159.21,-14.5 170.3,-14.5\"/>\n",
       "<polygon fill=\"#000000\" stroke=\"#000000\" points=\"176.53,-14.5 170.53,-17.2001 173.53,-14.5 170.53,-14.5001 170.53,-14.5001 170.53,-14.5001 173.53,-14.5 170.53,-11.8001 176.53,-14.5 176.53,-14.5\"/>\n",
       "<text text-anchor=\"middle\" x=\"156.5\" y=\"-18.3\" font-family=\"Times,serif\" font-size=\"14.00\" fill=\"#000000\">a</text>\n",
       "</g>\n",
       "<!-- 3&#45;&gt;F3 -->\n",
       "<g id=\"edge8\" class=\"edge\">\n",
       "<title>3&#45;&gt;F3</title>\n",
       "<path fill=\"none\" stroke=\"#000000\" d=\"M206.1201,-14.5C216.2606,-14.5 229.2527,-14.5 236.7999,-14.5\"/>\n",
       "<polygon fill=\"#000000\" stroke=\"#000000\" points=\"242.9374,-14.5 236.9375,-17.2001 239.9374,-14.5 236.9374,-14.5001 236.9374,-14.5001 236.9374,-14.5001 239.9374,-14.5 236.9374,-11.8001 242.9374,-14.5 242.9374,-14.5\"/>\n",
       "</g>\n",
       "<!-- 3&#45;&gt;3 -->\n",
       "<g id=\"edge9\" class=\"edge\">\n",
       "<title>3&#45;&gt;3</title>\n",
       "<path fill=\"none\" stroke=\"#000000\" d=\"M186.09,-28.192C184.45,-37.669 186.25,-47 191.5,-47 195.6,-47 197.6,-41.305 197.5,-34.294\"/>\n",
       "<polygon fill=\"#000000\" stroke=\"#000000\" points=\"196.91,-28.192 200.175,-33.9043 197.1988,-31.1781 197.4875,-34.1641 197.4875,-34.1641 197.4875,-34.1641 197.1988,-31.1781 194.8001,-34.424 196.91,-28.192 196.91,-28.192\"/>\n",
       "<text text-anchor=\"middle\" x=\"191.5\" y=\"-50.8\" font-family=\"Times,serif\" font-size=\"14.00\" fill=\"#000000\">b</text>\n",
       "</g>\n",
       "</g>\n",
       "</svg>\n"
      ],
      "text/plain": [
       "mutable_automaton<context<letterset<char_letters>, b>>"
      ]
     },
     "execution_count": 11,
     "metadata": {},
     "output_type": "execute_result"
    }
   ],
   "source": [
    "a3"
   ]
  },
  {
   "cell_type": "code",
   "execution_count": 12,
   "metadata": {},
   "outputs": [
    {
     "data": {
      "image/svg+xml": [
       "<?xml version=\"1.0\" encoding=\"UTF-8\" standalone=\"no\"?>\n",
       "<!DOCTYPE svg PUBLIC \"-//W3C//DTD SVG 1.1//EN\"\n",
       " \"http://www.w3.org/Graphics/SVG/1.1/DTD/svg11.dtd\">\n",
       "<!-- Generated by graphviz version 2.40.1 (20161225.0304)\n",
       " -->\n",
       "<!-- Title: %3 Pages: 1 -->\n",
       "<svg width=\"252pt\" height=\"103pt\"\n",
       " viewBox=\"0.00 0.00 252.00 103.00\" xmlns=\"http://www.w3.org/2000/svg\" xmlns:xlink=\"http://www.w3.org/1999/xlink\">\n",
       "<g id=\"graph0\" class=\"graph\" transform=\"scale(1 1) rotate(0) translate(4 99)\">\n",
       "<title>%3</title>\n",
       "<polygon fill=\"#ffffff\" stroke=\"transparent\" points=\"-4,4 -4,-99 248,-99 248,4 -4,4\"/>\n",
       "<!-- I0 -->\n",
       "<g id=\"node1\" class=\"node\">\n",
       "<title>I0</title>\n",
       "<ellipse fill=\"#000000\" stroke=\"#000000\" cx=\"0\" cy=\"-47.5\" rx=\"0\" ry=\"0\"/>\n",
       "</g>\n",
       "<!-- 0 -->\n",
       "<g id=\"node4\" class=\"node\">\n",
       "<title>0</title>\n",
       "<path fill=\"#98f5ff\" stroke=\"#000000\" d=\"M56.3333,-62C56.3333,-62 46.6667,-62 46.6667,-62 41.8333,-62 37,-57.1667 37,-52.3333 37,-52.3333 37,-42.6667 37,-42.6667 37,-37.8333 41.8333,-33 46.6667,-33 46.6667,-33 56.3333,-33 56.3333,-33 61.1667,-33 66,-37.8333 66,-42.6667 66,-42.6667 66,-52.3333 66,-52.3333 66,-57.1667 61.1667,-62 56.3333,-62\"/>\n",
       "<text text-anchor=\"middle\" x=\"51.5\" y=\"-44.4\" font-family=\"Times,serif\" font-size=\"12.00\" fill=\"#000000\">0</text>\n",
       "</g>\n",
       "<!-- I0&#45;&gt;0 -->\n",
       "<g id=\"edge1\" class=\"edge\">\n",
       "<title>I0&#45;&gt;0</title>\n",
       "<path fill=\"none\" stroke=\"#000000\" d=\"M.1477,-47.5C1.8156,-47.5 17.298,-47.5 30.83,-47.5\"/>\n",
       "<polygon fill=\"#000000\" stroke=\"#000000\" points=\"36.854,-47.5 30.854,-50.2001 33.854,-47.5 30.854,-47.5001 30.854,-47.5001 30.854,-47.5001 33.854,-47.5 30.854,-44.8001 36.854,-47.5 36.854,-47.5\"/>\n",
       "</g>\n",
       "<!-- F1 -->\n",
       "<g id=\"node2\" class=\"node\">\n",
       "<title>F1</title>\n",
       "<ellipse fill=\"#000000\" stroke=\"#000000\" cx=\"192.5\" cy=\"-80.5\" rx=\"0\" ry=\"0\"/>\n",
       "</g>\n",
       "<!-- F2 -->\n",
       "<g id=\"node3\" class=\"node\">\n",
       "<title>F2</title>\n",
       "<ellipse fill=\"#000000\" stroke=\"#000000\" cx=\"244\" cy=\"-14.5\" rx=\"0\" ry=\"0\"/>\n",
       "</g>\n",
       "<!-- 1 -->\n",
       "<g id=\"node5\" class=\"node\">\n",
       "<title>1</title>\n",
       "<path fill=\"#98f5ff\" stroke=\"#000000\" d=\"M127.3333,-62C127.3333,-62 116.6667,-62 116.6667,-62 111.8333,-62 107,-57.1667 107,-52.3333 107,-52.3333 107,-42.6667 107,-42.6667 107,-37.8333 111.8333,-33 116.6667,-33 116.6667,-33 127.3333,-33 127.3333,-33 132.1667,-33 137,-37.8333 137,-42.6667 137,-42.6667 137,-52.3333 137,-52.3333 137,-57.1667 132.1667,-62 127.3333,-62\"/>\n",
       "<text text-anchor=\"middle\" x=\"122\" y=\"-44.4\" font-family=\"Times,serif\" font-size=\"12.00\" fill=\"#000000\">1, 2</text>\n",
       "</g>\n",
       "<!-- 0&#45;&gt;1 -->\n",
       "<g id=\"edge2\" class=\"edge\">\n",
       "<title>0&#45;&gt;1</title>\n",
       "<path fill=\"none\" stroke=\"#000000\" d=\"M66.108,-47.5C76.087,-47.5 89.475,-47.5 100.65,-47.5\"/>\n",
       "<polygon fill=\"#000000\" stroke=\"#000000\" points=\"106.92,-47.5 100.92,-50.2001 103.92,-47.5 100.92,-47.5001 100.92,-47.5001 100.92,-47.5001 103.92,-47.5 100.92,-44.8001 106.92,-47.5 106.92,-47.5\"/>\n",
       "<text text-anchor=\"middle\" x=\"86.5\" y=\"-51.3\" font-family=\"Times,serif\" font-size=\"14.00\" fill=\"#000000\">a</text>\n",
       "</g>\n",
       "<!-- 1&#45;&gt;F1 -->\n",
       "<g id=\"edge3\" class=\"edge\">\n",
       "<title>1&#45;&gt;F1</title>\n",
       "<path fill=\"none\" stroke=\"#000000\" d=\"M137.2975,-54.6605C152.8332,-61.9326 176.0789,-72.8135 186.7591,-77.8128\"/>\n",
       "<polygon fill=\"#000000\" stroke=\"#000000\" points=\"192.4005,-80.4534 185.8217,-80.3551 189.6834,-79.1816 186.9663,-77.9097 186.9663,-77.9097 186.9663,-77.9097 189.6834,-79.1816 188.111,-75.4644 192.4005,-80.4534 192.4005,-80.4534\"/>\n",
       "</g>\n",
       "<!-- 1&#45;&gt;1 -->\n",
       "<g id=\"edge4\" class=\"edge\">\n",
       "<title>1&#45;&gt;1</title>\n",
       "<path fill=\"none\" stroke=\"#000000\" d=\"M116.07,-62.206C114.65,-71.324 116.62,-80 122,-80 126.12,-80 128.24,-74.914 128.37,-68.438\"/>\n",
       "<polygon fill=\"#000000\" stroke=\"#000000\" points=\"127.93,-62.206 131.046,-68.0009 128.1413,-65.1986 128.3527,-68.1911 128.3527,-68.1911 128.3527,-68.1911 128.1413,-65.1986 125.6594,-68.3813 127.93,-62.206 127.93,-62.206\"/>\n",
       "<text text-anchor=\"middle\" x=\"122\" y=\"-83.8\" font-family=\"Times,serif\" font-size=\"14.00\" fill=\"#000000\">b</text>\n",
       "</g>\n",
       "<!-- 2 -->\n",
       "<g id=\"node6\" class=\"node\">\n",
       "<title>2</title>\n",
       "<path fill=\"#98f5ff\" stroke=\"#000000\" d=\"M197.3333,-29C197.3333,-29 187.6667,-29 187.6667,-29 182.8333,-29 178,-24.1667 178,-19.3333 178,-19.3333 178,-9.6667 178,-9.6667 178,-4.8333 182.8333,0 187.6667,0 187.6667,0 197.3333,0 197.3333,0 202.1667,0 207,-4.8333 207,-9.6667 207,-9.6667 207,-19.3333 207,-19.3333 207,-24.1667 202.1667,-29 197.3333,-29\"/>\n",
       "<text text-anchor=\"middle\" x=\"192.5\" y=\"-11.4\" font-family=\"Times,serif\" font-size=\"12.00\" fill=\"#000000\">3</text>\n",
       "</g>\n",
       "<!-- 1&#45;&gt;2 -->\n",
       "<g id=\"edge5\" class=\"edge\">\n",
       "<title>1&#45;&gt;2</title>\n",
       "<path fill=\"none\" stroke=\"#000000\" d=\"M137.3,-40.339C147.51,-35.561 161.04,-29.225 172.16,-24.023\"/>\n",
       "<polygon fill=\"#000000\" stroke=\"#000000\" points=\"177.72,-21.42 173.4308,-26.4093 175.003,-22.692 172.286,-23.9641 172.286,-23.9641 172.286,-23.9641 175.003,-22.692 171.1412,-21.5188 177.72,-21.42 177.72,-21.42\"/>\n",
       "<text text-anchor=\"middle\" x=\"157.5\" y=\"-36.3\" font-family=\"Times,serif\" font-size=\"14.00\" fill=\"#000000\">a</text>\n",
       "</g>\n",
       "<!-- 2&#45;&gt;F2 -->\n",
       "<g id=\"edge6\" class=\"edge\">\n",
       "<title>2&#45;&gt;F2</title>\n",
       "<path fill=\"none\" stroke=\"#000000\" d=\"M207.1201,-14.5C217.2606,-14.5 230.2527,-14.5 237.7999,-14.5\"/>\n",
       "<polygon fill=\"#000000\" stroke=\"#000000\" points=\"243.9374,-14.5 237.9375,-17.2001 240.9374,-14.5 237.9374,-14.5001 237.9374,-14.5001 237.9374,-14.5001 240.9374,-14.5 237.9374,-11.8001 243.9374,-14.5 243.9374,-14.5\"/>\n",
       "</g>\n",
       "<!-- 2&#45;&gt;2 -->\n",
       "<g id=\"edge7\" class=\"edge\">\n",
       "<title>2&#45;&gt;2</title>\n",
       "<path fill=\"none\" stroke=\"#000000\" d=\"M186.92,-29.206C185.58,-38.324 187.44,-47 192.5,-47 196.38,-47 198.37,-41.914 198.49,-35.438\"/>\n",
       "<polygon fill=\"#000000\" stroke=\"#000000\" points=\"198.08,-29.206 201.1682,-35.0158 198.277,-32.1995 198.474,-35.1931 198.474,-35.1931 198.474,-35.1931 198.277,-32.1995 195.7798,-35.3703 198.08,-29.206 198.08,-29.206\"/>\n",
       "<text text-anchor=\"middle\" x=\"192.5\" y=\"-50.8\" font-family=\"Times,serif\" font-size=\"14.00\" fill=\"#000000\">b</text>\n",
       "</g>\n",
       "</g>\n",
       "</svg>\n"
      ],
      "text/plain": [
       "determinized_automaton<mutable_automaton<context<letterset<char_letters>, b>>, vcsn::wet_kind_t::bitset, false>"
      ]
     },
     "execution_count": 12,
     "metadata": {},
     "output_type": "execute_result"
    }
   ],
   "source": [
    "a3.determinize()"
   ]
  },
  {
   "cell_type": "markdown",
   "metadata": {},
   "source": [
    "The states of this automaton are decorated with metadata: the corresponding set of states of the input automaton.  Use [automaton.strip](automaton.strip.ipynb) to remove this decoration."
   ]
  },
  {
   "cell_type": "code",
   "execution_count": 13,
   "metadata": {},
   "outputs": [
    {
     "data": {
      "image/svg+xml": [
       "<?xml version=\"1.0\" encoding=\"UTF-8\" standalone=\"no\"?>\n",
       "<!DOCTYPE svg PUBLIC \"-//W3C//DTD SVG 1.1//EN\"\n",
       " \"http://www.w3.org/Graphics/SVG/1.1/DTD/svg11.dtd\">\n",
       "<!-- Generated by graphviz version 2.40.1 (20161225.0304)\n",
       " -->\n",
       "<!-- Title: %3 Pages: 1 -->\n",
       "<svg width=\"305pt\" height=\"167pt\"\n",
       " viewBox=\"0.00 0.00 305.00 166.50\" xmlns=\"http://www.w3.org/2000/svg\" xmlns:xlink=\"http://www.w3.org/1999/xlink\">\n",
       "<g id=\"graph0\" class=\"graph\" transform=\"scale(1 1) rotate(0) translate(4 162.5)\">\n",
       "<title>%3</title>\n",
       "<polygon fill=\"#ffffff\" stroke=\"transparent\" points=\"-4,4 -4,-162.5 301,-162.5 301,4 -4,4\"/>\n",
       "<!-- I0 -->\n",
       "<g id=\"node1\" class=\"node\">\n",
       "<title>I0</title>\n",
       "<ellipse fill=\"#000000\" stroke=\"#000000\" cx=\"0\" cy=\"-14.5\" rx=\"0\" ry=\"0\"/>\n",
       "</g>\n",
       "<!-- 0 -->\n",
       "<g id=\"node4\" class=\"node\">\n",
       "<title>0</title>\n",
       "<ellipse fill=\"#98f5ff\" stroke=\"#000000\" cx=\"51.5\" cy=\"-14.5\" rx=\"14.5\" ry=\"14.5\"/>\n",
       "<text text-anchor=\"middle\" x=\"51.5\" y=\"-11.4\" font-family=\"Times,serif\" font-size=\"12.00\" fill=\"#000000\">0</text>\n",
       "</g>\n",
       "<!-- I0&#45;&gt;0 -->\n",
       "<g id=\"edge1\" class=\"edge\">\n",
       "<title>I0&#45;&gt;0</title>\n",
       "<path fill=\"none\" stroke=\"#000000\" d=\"M.1477,-14.5C1.8156,-14.5 17.298,-14.5 30.83,-14.5\"/>\n",
       "<polygon fill=\"#000000\" stroke=\"#000000\" points=\"36.854,-14.5 30.854,-17.2001 33.854,-14.5 30.854,-14.5001 30.854,-14.5001 30.854,-14.5001 33.854,-14.5 30.854,-11.8001 36.854,-14.5 36.854,-14.5\"/>\n",
       "</g>\n",
       "<!-- F1 -->\n",
       "<g id=\"node2\" class=\"node\">\n",
       "<title>F1</title>\n",
       "<ellipse fill=\"#000000\" stroke=\"#000000\" cx=\"202.5\" cy=\"-158.5\" rx=\"0\" ry=\"0\"/>\n",
       "</g>\n",
       "<!-- F2 -->\n",
       "<g id=\"node3\" class=\"node\">\n",
       "<title>F2</title>\n",
       "<ellipse fill=\"#000000\" stroke=\"#000000\" cx=\"282.5\" cy=\"-109.5\" rx=\"0\" ry=\"0\"/>\n",
       "</g>\n",
       "<!-- 1 -->\n",
       "<g id=\"node5\" class=\"node\">\n",
       "<title>1</title>\n",
       "<ellipse fill=\"#98f5ff\" stroke=\"#000000\" cx=\"121.5\" cy=\"-68.5\" rx=\"14.5\" ry=\"14.5\"/>\n",
       "<text text-anchor=\"middle\" x=\"121.5\" y=\"-65.4\" font-family=\"Times,serif\" font-size=\"12.00\" fill=\"#000000\">1</text>\n",
       "</g>\n",
       "<!-- 0&#45;&gt;1 -->\n",
       "<g id=\"edge2\" class=\"edge\">\n",
       "<title>0&#45;&gt;1</title>\n",
       "<path fill=\"none\" stroke=\"#000000\" d=\"M63.059,-23.417C74.44,-32.197 91.942,-45.698 104.83,-55.638\"/>\n",
       "<polygon fill=\"#000000\" stroke=\"#000000\" points=\"109.69,-59.389 103.2905,-57.8604 107.3151,-57.556 104.9402,-55.723 104.9402,-55.723 104.9402,-55.723 107.3151,-57.556 106.5899,-53.5856 109.69,-59.389 109.69,-59.389\"/>\n",
       "<text text-anchor=\"middle\" x=\"86.5\" y=\"-46.3\" font-family=\"Times,serif\" font-size=\"14.00\" fill=\"#000000\">a</text>\n",
       "</g>\n",
       "<!-- 3 -->\n",
       "<g id=\"node7\" class=\"node\">\n",
       "<title>3</title>\n",
       "<ellipse fill=\"#d3d3d3\" stroke=\"#000000\" cx=\"282.5\" cy=\"-43.5\" rx=\"14.5\" ry=\"14.5\"/>\n",
       "<text text-anchor=\"middle\" x=\"282.5\" y=\"-40.4\" font-family=\"Times,serif\" font-size=\"12.00\" fill=\"#000000\">3</text>\n",
       "</g>\n",
       "<!-- 0&#45;&gt;3 -->\n",
       "<g id=\"edge3\" class=\"edge\">\n",
       "<title>0&#45;&gt;3</title>\n",
       "<path fill=\"none\" stroke=\"#696969\" d=\"M65.95,-16.314C105.57,-21.288 216.03,-35.155 262.01,-40.928\"/>\n",
       "<polygon fill=\"#696969\" stroke=\"#696969\" points=\"268.06,-41.687 261.7705,-43.619 265.0833,-41.3135 262.1067,-40.94 262.1067,-40.94 262.1067,-40.94 265.0833,-41.3135 262.4428,-38.261 268.06,-41.687 268.06,-41.687\"/>\n",
       "<text text-anchor=\"middle\" x=\"162\" y=\"-33.3\" font-family=\"Times,serif\" font-size=\"14.00\" fill=\"#000000\">b, c</text>\n",
       "</g>\n",
       "<!-- 1&#45;&gt;F1 -->\n",
       "<g id=\"edge4\" class=\"edge\">\n",
       "<title>1&#45;&gt;F1</title>\n",
       "<path fill=\"none\" stroke=\"#000000\" d=\"M131.4322,-79.5358C149.1116,-99.1796 185.3708,-139.4675 198.0243,-153.527\"/>\n",
       "<polygon fill=\"#000000\" stroke=\"#000000\" points=\"202.3575,-158.3417 196.3368,-155.6881 200.3506,-156.1118 198.3437,-153.8819 198.3437,-153.8819 198.3437,-153.8819 200.3506,-156.1118 200.3506,-152.0757 202.3575,-158.3417 202.3575,-158.3417\"/>\n",
       "</g>\n",
       "<!-- 1&#45;&gt;1 -->\n",
       "<g id=\"edge5\" class=\"edge\">\n",
       "<title>1&#45;&gt;1</title>\n",
       "<path fill=\"none\" stroke=\"#000000\" d=\"M115.81,-81.854C113.96,-91.445 115.86,-101 121.5,-101 125.91,-101 128.03,-95.168 127.87,-88.043\"/>\n",
       "<polygon fill=\"#000000\" stroke=\"#000000\" points=\"127.19,-81.854 130.5292,-87.5232 127.5177,-84.8361 127.8454,-87.8181 127.8454,-87.8181 127.8454,-87.8181 127.5177,-84.8361 125.1615,-88.113 127.19,-81.854 127.19,-81.854\"/>\n",
       "<text text-anchor=\"middle\" x=\"121.5\" y=\"-104.8\" font-family=\"Times,serif\" font-size=\"14.00\" fill=\"#000000\">b</text>\n",
       "</g>\n",
       "<!-- 2 -->\n",
       "<g id=\"node6\" class=\"node\">\n",
       "<title>2</title>\n",
       "<ellipse fill=\"#98f5ff\" stroke=\"#000000\" cx=\"202.5\" cy=\"-92.5\" rx=\"14.5\" ry=\"14.5\"/>\n",
       "<text text-anchor=\"middle\" x=\"202.5\" y=\"-89.4\" font-family=\"Times,serif\" font-size=\"12.00\" fill=\"#000000\">2</text>\n",
       "</g>\n",
       "<!-- 1&#45;&gt;2 -->\n",
       "<g id=\"edge6\" class=\"edge\">\n",
       "<title>1&#45;&gt;2</title>\n",
       "<path fill=\"none\" stroke=\"#000000\" d=\"M135.61,-72.68C148.62,-76.535 168.06,-82.296 182.64,-86.615\"/>\n",
       "<polygon fill=\"#000000\" stroke=\"#000000\" points=\"188.55,-88.367 182.03,-89.2503 185.6737,-87.5143 182.7974,-86.6616 182.7974,-86.6616 182.7974,-86.6616 185.6737,-87.5143 183.5649,-84.073 188.55,-88.367 188.55,-88.367\"/>\n",
       "<text text-anchor=\"middle\" x=\"162\" y=\"-86.3\" font-family=\"Times,serif\" font-size=\"14.00\" fill=\"#000000\">a</text>\n",
       "</g>\n",
       "<!-- 1&#45;&gt;3 -->\n",
       "<g id=\"edge7\" class=\"edge\">\n",
       "<title>1&#45;&gt;3</title>\n",
       "<path fill=\"none\" stroke=\"#696969\" d=\"M135.7,-65.117C149.11,-62.014 169.83,-57.463 188,-54.5 213.34,-50.367 242.74,-47.198 261.94,-45.346\"/>\n",
       "<polygon fill=\"#696969\" stroke=\"#696969\" points=\"268.03,-44.768 262.312,-48.0229 265.0434,-45.0515 262.0568,-45.335 262.0568,-45.335 262.0568,-45.335 265.0434,-45.0515 261.8017,-42.6471 268.03,-44.768 268.03,-44.768\"/>\n",
       "<text text-anchor=\"middle\" x=\"202.5\" y=\"-58.3\" font-family=\"Times,serif\" font-size=\"14.00\" fill=\"#000000\">c</text>\n",
       "</g>\n",
       "<!-- 2&#45;&gt;F2 -->\n",
       "<g id=\"edge8\" class=\"edge\">\n",
       "<title>2&#45;&gt;F2</title>\n",
       "<path fill=\"none\" stroke=\"#000000\" d=\"M216.8024,-95.5393C234.392,-99.277 263.4785,-105.4579 276.2075,-108.1628\"/>\n",
       "<polygon fill=\"#000000\" stroke=\"#000000\" points=\"282.3768,-109.4738 275.9466,-110.8676 279.4424,-108.8502 276.5079,-108.2266 276.5079,-108.2266 276.5079,-108.2266 279.4424,-108.8502 277.0691,-105.5856 282.3768,-109.4738 282.3768,-109.4738\"/>\n",
       "</g>\n",
       "<!-- 2&#45;&gt;2 -->\n",
       "<g id=\"edge9\" class=\"edge\">\n",
       "<title>2&#45;&gt;2</title>\n",
       "<path fill=\"none\" stroke=\"#000000\" d=\"M195.89,-105.52C193.58,-115.22 195.78,-125 202.5,-125 207.75,-125 210.24,-119.03 209.98,-111.79\"/>\n",
       "<polygon fill=\"#000000\" stroke=\"#000000\" points=\"209.11,-105.52 212.6091,-111.0919 209.5224,-108.4915 209.9347,-111.4631 209.9347,-111.4631 209.9347,-111.4631 209.5224,-108.4915 207.2603,-111.8342 209.11,-105.52 209.11,-105.52\"/>\n",
       "<text text-anchor=\"middle\" x=\"202.5\" y=\"-128.8\" font-family=\"Times,serif\" font-size=\"14.00\" fill=\"#000000\">b</text>\n",
       "</g>\n",
       "<!-- 2&#45;&gt;3 -->\n",
       "<g id=\"edge10\" class=\"edge\">\n",
       "<title>2&#45;&gt;3</title>\n",
       "<path fill=\"none\" stroke=\"#696969\" d=\"M215,-84.844C228.39,-76.645 249.73,-63.569 264.83,-54.321\"/>\n",
       "<polygon fill=\"#696969\" stroke=\"#696969\" points=\"270.09,-51.102 266.3817,-56.537 267.5311,-52.668 264.9723,-54.234 264.9723,-54.234 264.9723,-54.234 267.5311,-52.668 263.5629,-51.931 270.09,-51.102 270.09,-51.102\"/>\n",
       "<text text-anchor=\"middle\" x=\"242.5\" y=\"-75.3\" font-family=\"Times,serif\" font-size=\"14.00\" fill=\"#000000\">a, c</text>\n",
       "</g>\n",
       "<!-- 3&#45;&gt;3 -->\n",
       "<g id=\"edge11\" class=\"edge\">\n",
       "<title>3&#45;&gt;3</title>\n",
       "<path fill=\"none\" stroke=\"#696969\" d=\"M275.89,-56.515C273.58,-66.219 275.78,-76 282.5,-76 287.75,-76 290.24,-70.03 289.98,-62.791\"/>\n",
       "<polygon fill=\"#696969\" stroke=\"#696969\" points=\"289.11,-56.515 292.6084,-62.0874 289.522,-59.4866 289.9339,-62.4582 289.9339,-62.4582 289.9339,-62.4582 289.522,-59.4866 287.2595,-62.8289 289.11,-56.515 289.11,-56.515\"/>\n",
       "<text text-anchor=\"middle\" x=\"282.5\" y=\"-79.8\" font-family=\"Times,serif\" font-size=\"14.00\" fill=\"#000000\">[^]</text>\n",
       "</g>\n",
       "</g>\n",
       "</svg>\n"
      ],
      "text/plain": [
       "mutable_automaton<context<letterset<char_letters>, b>>"
      ]
     },
     "execution_count": 13,
     "metadata": {},
     "output_type": "execute_result"
    }
   ],
   "source": [
    "a3.determinize().strip().complete()"
   ]
  },
  {
   "cell_type": "markdown",
   "metadata": {},
   "source": [
    "Note that useless states and transitions are grayed."
   ]
  },
  {
   "cell_type": "markdown",
   "metadata": {},
   "source": [
    "To evaluate a word on an automaton, use `evaluate()`, or simpler yet: use the automaton as if it were a function:"
   ]
  },
  {
   "cell_type": "code",
   "execution_count": 14,
   "metadata": {},
   "outputs": [
    {
     "data": {
      "text/latex": [
       "$\\top$"
      ],
      "text/plain": [
       "1"
      ]
     },
     "execution_count": 14,
     "metadata": {},
     "output_type": "execute_result"
    }
   ],
   "source": [
    "a3.evaluate(\"a\")"
   ]
  },
  {
   "cell_type": "code",
   "execution_count": 15,
   "metadata": {},
   "outputs": [
    {
     "data": {
      "text/latex": [
       "$\\bot$"
      ],
      "text/plain": [
       "0"
      ]
     },
     "execution_count": 15,
     "metadata": {},
     "output_type": "execute_result"
    }
   ],
   "source": [
    "a3(\"b\")"
   ]
  },
  {
   "cell_type": "markdown",
   "metadata": {},
   "source": [
    "To see the 10 first accepted words (if there are that many), use [automaton.shortest](automaton.shortest.ipynb):"
   ]
  },
  {
   "cell_type": "code",
   "execution_count": 16,
   "metadata": {},
   "outputs": [
    {
     "data": {
      "text/latex": [
       "$\\mathit{a} \\oplus \\mathit{aa} \\oplus \\mathit{ab} \\oplus \\mathit{aab} \\oplus \\mathit{aba} \\oplus \\mathit{abb} \\oplus \\mathit{aabb} \\oplus \\mathit{abab} \\oplus \\mathit{abba} \\oplus \\mathit{abbb}$"
      ],
      "text/plain": [
       "a + aa + ab + aab + aba + abb + aabb + abab + abba + abbb"
      ]
     },
     "execution_count": 16,
     "metadata": {},
     "output_type": "execute_result"
    }
   ],
   "source": [
    "a3.shortest(10)"
   ]
  },
  {
   "cell_type": "markdown",
   "metadata": {},
   "source": [
    "To extract a rational expression from the automaton, use `expression()`:"
   ]
  },
  {
   "cell_type": "code",
   "execution_count": 17,
   "metadata": {},
   "outputs": [
    {
     "data": {
      "text/latex": [
       "$a \\, {b}^{*} + a \\, {b}^{*} \\, a \\, {b}^{*}$"
      ],
      "text/plain": [
       "ab*+ab*ab*"
      ]
     },
     "execution_count": 17,
     "metadata": {},
     "output_type": "execute_result"
    }
   ],
   "source": [
    "a3.expression()"
   ]
  },
  {
   "cell_type": "markdown",
   "metadata": {},
   "source": [
    "This concludes this quick overview of Vcsn's IPython interface.  You should now proceed to discover other features in other notebooks."
   ]
  }
 ],
 "metadata": {
  "kernelspec": {
   "display_name": "Python 3",
   "language": "python",
   "name": "python3"
  },
  "language_info": {
   "codemirror_mode": {
    "name": "ipython",
    "version": 3
   },
   "file_extension": ".py",
   "mimetype": "text/x-python",
   "name": "python",
   "nbconvert_exporter": "python",
   "pygments_lexer": "ipython3",
   "version": "3.6.4"
  }
 },
 "nbformat": 4,
 "nbformat_minor": 1
}
