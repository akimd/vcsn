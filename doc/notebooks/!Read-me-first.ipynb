{
 "cells": [
  {
   "cell_type": "markdown",
   "metadata": {},
   "source": [
    "# Welcome to Vcsn 2.8\n",
    "\n",
    "Vcsn is a platform for weighted automata and rational expressions.  It is composed of C++ libraries with various interfaces, Python bindings, some specific features for IPython and a set of command line tools.\n",
    "\n",
    "This tutorial guides you through the Python binding of Vcsn, and more specifically the IPython interface.  If you are not a Python programmer, rest assured that there is not much to know, and if you are a Python programmer, rest assured that its conventions have been respected, and you will be able to take the full benefit from both Vcsn and Python.\n",
    "\n",
    "Once you read this page, you should explore these:\n",
    "* [Read me first](!Read-me-first.ipynb) - This page.\n",
    "* Python\n",
    "  * [Contexts](Contexts.ipynb) - The typing system for automata, expressions, etc.\n",
    "  * [Automata](Automata.ipynb) - How to define or edit automata.\n",
    "  * [Expressions](Expressions.ipynb) - The definition of the rational expressions.\n",
    "  * [Algorithms](Algorithms.ipynb) - Index of the available operations on automata, expressions, etc.\n",
    "* [The C++ Library](C++-Library.ipynb) - Tutorial on how to use the Vcsn C++ library.\n",
    "* [Tools](Tools.ipynb) - Executables to run from the shell, easy to chain via pipes (e.g., `vcsn thompson -Ee '[ab]*c' | vcsn proper | vcsn determinize`).\n",
    "* [Troubleshooting](Troubleshooting.ipynb) - Some known problems (during build or use), and a few known solutions.\n",
    "* Examples\n",
    "  * [Sms2fr](Sms2fr.ipynb) - Translate SMS (i.e., text messages) to proper French.\n",
    "  * [Spell-checker](Spell-checker.ipynb) - From a dictionary, build a spell checker that fixes errors.\n",
    "  * [Stackoverflow](Stackoverflow.ipynb) - Some questions asked on Stackoverflow where Vcsn can compute the answer.\n",
    "\n",
    "* Research\n",
    "  * [References](References.ipynb) - Publications on the algorithms and constructs used in Vcsn.\n",
    "  * [ICTAC-2016](ICTAC-2016.ipynb) - Examples taken from a paper presented to ICTAC 2016.\n",
    "  * [ICTAC-2017](ICTAC-2017.ipynb) - Examples taken from a paper presented to ICTAC 2017.\n",
    "  * [CIAA-2016](CIAA-2016.ipynb) - Examples taken from a paper presented to CIAA 2016.\n",
    "* [Hacking](Hacking.ipynb) - Random notes, badly written, obsolete, meant for Vcsn developers.\n",
    "\n",
    "Additional material is available on the web:\n",
    "* The [Vcsn Website](http://vcsn.lrde.epita.fr) contains more information, tarballs, etc.\n",
    "* The [Vcsn Sandbox](http://vcsn-sandbox.lrde.epita.fr) offers a playground to experiment with Vcsn from a web browser.\n",
    "* The [Vcsn Gitlab](http://gitlab.lrde.epita.fr/vcsn/vcsn/issues) is the right place to submit bug reports."
   ]
  },
  {
   "cell_type": "markdown",
   "metadata": {},
   "source": [
    "## Videos\n",
    "If you prefer to look at video rather than having to make the physical effort of sliding in a webpage, you might want to look at these short introductory videos (English and French):"
   ]
  },
  {
   "cell_type": "code",
   "execution_count": 1,
   "metadata": {},
   "outputs": [
    {
     "data": {
      "text/html": [
       "<iframe width=\"300\" height=\"169\" src=\"https://www.youtube.com/embed/LzbXsEmqyC0\" frameborder=\"0\" allowfullscreen></iframe>\n",
       "<iframe width=\"300\" height=\"169\" src=\"https://www.youtube.com/embed/LFYVBNbStZU\" frameborder=\"0\" allowfullscreen></iframe>"
      ],
      "text/plain": [
       "<IPython.core.display.HTML object>"
      ]
     },
     "metadata": {},
     "output_type": "display_data"
    }
   ],
   "source": [
    "%%HTML\n",
    "<iframe width=\"300\" height=\"169\" src=\"https://www.youtube.com/embed/LzbXsEmqyC0\" frameborder=\"0\" allowfullscreen></iframe>\n",
    "<iframe width=\"300\" height=\"169\" src=\"https://www.youtube.com/embed/LFYVBNbStZU\" frameborder=\"0\" allowfullscreen></iframe>"
   ]
  },
  {
   "cell_type": "markdown",
   "metadata": {},
   "source": [
    "## Quick Start\n",
    "\n",
    "Vcsn offers several interfaces:\n",
    "- fast efficient C++ templated library dubbed `static`\n",
    "- a dynamic and flexible C++ interface dubbed `dyn` on top of `static`\n",
    "- a Python interface on top of `dyn`\n",
    "- an IPython interface built on top of the Python API (which is used to generate this very document)\n",
    "- and also a shell interface ([Tools](Tools.ipynb)).\n",
    "\n",
    "This documentation shows how to use the IPython interactive environment.  Provided that Vcsn was properly deployed on your platform, to launch it run the following command from your shell:\n",
    "\n",
    "    $ vcsn notebook &\n",
    "\n",
    "A web browser should open on a list of files.  Click on the \"New\" menu, and select \"Python\" (or \"Python 3\"), which should open a new sheet.  The remainder of this documentation is about such sheets.\n",
    "\n",
    "First, import Vcsn into Python, and define the \"context\" in which you want to work.  Do not worry about the (ugly!) syntax, just see where the alphabet (the set of letters, $\\{a, b, c\\}$) is defined.  The last line (`ctx`) is here so that IPython displays what this variable contains."
   ]
  },
  {
   "cell_type": "code",
   "execution_count": 2,
   "metadata": {},
   "outputs": [
    {
     "data": {
      "text/latex": [
       "$\\{a, b, c\\}\\to\\mathbb{B}$"
      ],
      "text/plain": [
       "{abc} -> B"
      ]
     },
     "execution_count": 2,
     "metadata": {},
     "output_type": "execute_result"
    }
   ],
   "source": [
    "import vcsn\n",
    "ctx = vcsn.context(\"lal(abc), b\")\n",
    "ctx"
   ]
  },
  {
   "cell_type": "markdown",
   "metadata": {},
   "source": [
    "This object, the context, defines the types of the various entities.  To build a rational expression on this alphabet, use `ctx.expression` as follows:"
   ]
  },
  {
   "cell_type": "code",
   "execution_count": 3,
   "metadata": {},
   "outputs": [
    {
     "data": {
      "text/latex": [
       "$a \\, {b}^{*}$"
      ],
      "text/plain": [
       "ab*"
      ]
     },
     "execution_count": 3,
     "metadata": {},
     "output_type": "execute_result"
    }
   ],
   "source": [
    "e1 = ctx.expression(\"ab*\")\n",
    "e1"
   ]
  },
  {
   "cell_type": "markdown",
   "metadata": {},
   "source": [
    "The syntax for rational expressions is as follows (with increasing precedence):\n",
    "- `\\z` denotes the empty language\n",
    "- `\\e` denotes the language of the empty word\n",
    "- `a` denotes the language of the word `a`\n",
    "- `e+f` denotes the union of the languages of `e` and `f` (note the use of `+`, `|` is not accepted)\n",
    "- `ef` denotes the concatenation of the languages of `e` and `f`\n",
    "- `e*` denotes the Kleene closure of the language of `e`\n",
    "\n",
    "For more details, please see [the documentation of expressions](Expressions.ipynb).\n",
    "\n",
    "So for instance `e1` denotes the words starting with a single `a` followed by any number of `b`s.\n",
    "\n",
    "Rational expressions are objects that feature methods.  One such method is [expression.shortest(_number_)](expression.shortest.ipynb) that lists the _`number`_ first (in shortlex order) words of the language defined by the rational expresion:"
   ]
  },
  {
   "cell_type": "code",
   "execution_count": 4,
   "metadata": {},
   "outputs": [
    {
     "data": {
      "text/latex": [
       "$\\mathit{a} \\oplus \\mathit{ab} \\oplus \\mathit{abb} \\oplus \\mathit{abbb} \\oplus \\mathit{abbbb} \\oplus \\mathit{abbbbb} \\oplus \\mathit{abbbbbb} \\oplus \\mathit{abbbbbbb} \\oplus \\mathit{abbbbbbbb} \\oplus \\mathit{abbbbbbbbb}$"
      ],
      "text/plain": [
       "a + ab + abb + abbb + abbbb + abbbbb + abbbbbb + abbbbbbb + abbbbbbbb + abbbbbbbbb"
      ]
     },
     "execution_count": 4,
     "metadata": {},
     "output_type": "execute_result"
    }
   ],
   "source": [
    "e1.shortest(10)"
   ]
  },
  {
   "cell_type": "markdown",
   "metadata": {},
   "source": [
    "You may compose rational expressions using Python operators such as `+` for sum, `*` for multiplication (concatenation):"
   ]
  },
  {
   "cell_type": "code",
   "execution_count": 5,
   "metadata": {},
   "outputs": [
    {
     "data": {
      "text/latex": [
       "$a \\, {b}^{*} + a \\, {b}^{*} \\, a \\, {b}^{*}$"
      ],
      "text/plain": [
       "ab*+ab*ab*"
      ]
     },
     "execution_count": 5,
     "metadata": {},
     "output_type": "execute_result"
    }
   ],
   "source": [
    "e1 + e1 * e1"
   ]
  },
  {
   "cell_type": "markdown",
   "metadata": {},
   "source": [
    "Vcsn features different means to build an automaton from a rational expression.  The [expression.standard](expression.standard.ipynb) method builds the \"standard autamaton\", also known as the \"position automaton\", or the \"Glushkov automaton\":"
   ]
  },
  {
   "cell_type": "code",
   "execution_count": 6,
   "metadata": {},
   "outputs": [
    {
     "data": {
      "image/svg+xml": [
       "<?xml version=\"1.0\" encoding=\"UTF-8\" standalone=\"no\"?>\n",
       "<!DOCTYPE svg PUBLIC \"-//W3C//DTD SVG 1.1//EN\"\n",
       " \"http://www.w3.org/Graphics/SVG/1.1/DTD/svg11.dtd\">\n",
       "<!-- Generated by graphviz version 2.38.0 (20140413.2041)\n",
       " -->\n",
       "<!-- Title: %3 Pages: 1 -->\n",
       "<svg width=\"256pt\" height=\"89pt\"\n",
       " viewBox=\"0.00 0.00 256.00 88.50\" xmlns=\"http://www.w3.org/2000/svg\" xmlns:xlink=\"http://www.w3.org/1999/xlink\">\n",
       "<g id=\"graph0\" class=\"graph\" transform=\"scale(1 1) rotate(0) translate(4 84.5)\">\n",
       "<title>%3</title>\n",
       "<polygon fill=\"white\" stroke=\"none\" points=\"-4,4 -4,-84.5 252,-84.5 252,4 -4,4\"/>\n",
       "<!-- I0 -->\n",
       "<g id=\"node1\" class=\"node\"><title>I0</title>\n",
       "<ellipse fill=\"black\" stroke=\"black\" cx=\"0\" cy=\"-56.5\" rx=\"0\" ry=\"0\"/>\n",
       "</g>\n",
       "<!-- 0 -->\n",
       "<g id=\"node4\" class=\"node\"><title>0</title>\n",
       "<ellipse fill=\"#98f5ff\" stroke=\"black\" cx=\"51.5\" cy=\"-56.5\" rx=\"14.5\" ry=\"14.5\"/>\n",
       "<text text-anchor=\"middle\" x=\"51.5\" y=\"-53.4\" font-family=\"Times,serif\" font-size=\"12.00\">0</text>\n",
       "</g>\n",
       "<!-- I0&#45;&gt;0 -->\n",
       "<g id=\"edge1\" class=\"edge\"><title>I0&#45;&gt;0</title>\n",
       "<path fill=\"none\" stroke=\"black\" d=\"M1.142,-56.5C2.7502,-56.5 17.72,-56.5 30.756,-56.5\"/>\n",
       "<polygon fill=\"black\" stroke=\"black\" points=\"36.933,-56.5 30.933,-59.2001 33.933,-56.5 30.933,-56.5001 30.933,-56.5001 30.933,-56.5001 33.933,-56.5 30.933,-53.8001 36.933,-56.5 36.933,-56.5\"/>\n",
       "</g>\n",
       "<!-- F1 -->\n",
       "<g id=\"node2\" class=\"node\"><title>F1</title>\n",
       "<ellipse fill=\"black\" stroke=\"black\" cx=\"196.5\" cy=\"-80.5\" rx=\"0\" ry=\"0\"/>\n",
       "</g>\n",
       "<!-- F3 -->\n",
       "<g id=\"node3\" class=\"node\"><title>F3</title>\n",
       "<ellipse fill=\"black\" stroke=\"black\" cx=\"248\" cy=\"-14.5\" rx=\"0\" ry=\"0\"/>\n",
       "</g>\n",
       "<!-- 1 -->\n",
       "<g id=\"node5\" class=\"node\"><title>1</title>\n",
       "<ellipse fill=\"#98f5ff\" stroke=\"black\" cx=\"123.5\" cy=\"-56.5\" rx=\"14.5\" ry=\"14.5\"/>\n",
       "<text text-anchor=\"middle\" x=\"123.5\" y=\"-53.4\" font-family=\"Times,serif\" font-size=\"12.00\">1</text>\n",
       "</g>\n",
       "<!-- 0&#45;&gt;1 -->\n",
       "<g id=\"edge2\" class=\"edge\"><title>0&#45;&gt;1</title>\n",
       "<path fill=\"none\" stroke=\"black\" d=\"M66.33,-56.5C76.684,-56.5 90.998,-56.5 102.59,-56.5\"/>\n",
       "<polygon fill=\"black\" stroke=\"black\" points=\"108.7,-56.5 102.7,-59.2001 105.7,-56.5 102.7,-56.5001 102.7,-56.5001 102.7,-56.5001 105.7,-56.5 102.7,-53.8001 108.7,-56.5 108.7,-56.5\"/>\n",
       "<text text-anchor=\"middle\" x=\"87.5\" y=\"-60.3\" font-family=\"Times,serif\" font-size=\"14.00\">a</text>\n",
       "</g>\n",
       "<!-- 1&#45;&gt;F1 -->\n",
       "<g id=\"edge3\" class=\"edge\"><title>1&#45;&gt;F1</title>\n",
       "<path fill=\"none\" stroke=\"black\" d=\"M137.575,-61.1274C153.63,-66.4057 179.135,-74.791 190.59,-78.5569\"/>\n",
       "<polygon fill=\"black\" stroke=\"black\" points=\"196.391,-80.4642 189.848,-81.1552 193.541,-79.5272 190.691,-78.5902 190.691,-78.5902 190.691,-78.5902 193.541,-79.5272 191.535,-76.0253 196.391,-80.4642 196.391,-80.4642\"/>\n",
       "</g>\n",
       "<!-- 3 -->\n",
       "<g id=\"node6\" class=\"node\"><title>3</title>\n",
       "<ellipse fill=\"#98f5ff\" stroke=\"black\" cx=\"196.5\" cy=\"-14.5\" rx=\"14.5\" ry=\"14.5\"/>\n",
       "<text text-anchor=\"middle\" x=\"196.5\" y=\"-11.4\" font-family=\"Times,serif\" font-size=\"12.00\">3</text>\n",
       "</g>\n",
       "<!-- 1&#45;&gt;3 -->\n",
       "<g id=\"edge4\" class=\"edge\"><title>1&#45;&gt;3</title>\n",
       "<path fill=\"none\" stroke=\"black\" d=\"M136.54,-49.375C148.04,-42.576 165.47,-32.266 178.4,-24.617\"/>\n",
       "<polygon fill=\"black\" stroke=\"black\" points=\"183.63,-21.52 179.843,-26.9004 181.049,-23.0486 178.467,-24.5772 178.467,-24.5772 178.467,-24.5772 181.049,-23.0486 177.092,-22.254 183.63,-21.52 183.63,-21.52\"/>\n",
       "<text text-anchor=\"middle\" x=\"160\" y=\"-41.3\" font-family=\"Times,serif\" font-size=\"14.00\">b</text>\n",
       "</g>\n",
       "<!-- 3&#45;&gt;F3 -->\n",
       "<g id=\"edge5\" class=\"edge\"><title>3&#45;&gt;F3</title>\n",
       "<path fill=\"none\" stroke=\"black\" d=\"M211.12,-14.5C221.261,-14.5 234.253,-14.5 241.8,-14.5\"/>\n",
       "<polygon fill=\"black\" stroke=\"black\" points=\"247.937,-14.5 241.937,-17.2001 244.937,-14.5 241.937,-14.5001 241.937,-14.5001 241.937,-14.5001 244.937,-14.5 241.937,-11.8001 247.937,-14.5 247.937,-14.5\"/>\n",
       "</g>\n",
       "<!-- 3&#45;&gt;3 -->\n",
       "<g id=\"edge6\" class=\"edge\"><title>3&#45;&gt;3</title>\n",
       "<path fill=\"none\" stroke=\"black\" d=\"M191.09,-28.192C189.45,-37.669 191.25,-47 196.5,-47 200.6,-47 202.6,-41.305 202.5,-34.294\"/>\n",
       "<polygon fill=\"black\" stroke=\"black\" points=\"201.91,-28.192 205.175,-33.9043 202.199,-31.1781 202.488,-34.1641 202.488,-34.1641 202.488,-34.1641 202.199,-31.1781 199.8,-34.424 201.91,-28.192 201.91,-28.192\"/>\n",
       "<text text-anchor=\"middle\" x=\"196.5\" y=\"-50.8\" font-family=\"Times,serif\" font-size=\"14.00\">b</text>\n",
       "</g>\n",
       "</g>\n",
       "</svg>\n"
      ],
      "text/plain": [
       "mutable_automaton<context<letterset<char_letters>, b>>"
      ]
     },
     "execution_count": 6,
     "metadata": {},
     "output_type": "execute_result"
    }
   ],
   "source": [
    "e1.standard()"
   ]
  },
  {
   "cell_type": "markdown",
   "metadata": {},
   "source": [
    "When it comes to displaying automata as graphs, there are several \"traditions\".  In Vcsn, initial states are denoted by an entering arrow, and final (or \"accepting\") states by an exiting arrow.  This automaton has one initial state, and two final states.\n",
    "\n",
    "The [expression.derived_term](expression.derived_term.ipynb) method builds the \"derived-term automaton\", aka, the Antimirov automaton."
   ]
  },
  {
   "cell_type": "code",
   "execution_count": 7,
   "metadata": {},
   "outputs": [
    {
     "data": {
      "image/svg+xml": [
       "<?xml version=\"1.0\" encoding=\"UTF-8\" standalone=\"no\"?>\n",
       "<!DOCTYPE svg PUBLIC \"-//W3C//DTD SVG 1.1//EN\"\n",
       " \"http://www.w3.org/Graphics/SVG/1.1/DTD/svg11.dtd\">\n",
       "<!-- Generated by graphviz version 2.38.0 (20140413.2041)\n",
       " -->\n",
       "<!-- Title: %3 Pages: 1 -->\n",
       "<svg width=\"188pt\" height=\"70pt\"\n",
       " viewBox=\"0.00 0.00 188.00 70.00\" xmlns=\"http://www.w3.org/2000/svg\" xmlns:xlink=\"http://www.w3.org/1999/xlink\">\n",
       "<g id=\"graph0\" class=\"graph\" transform=\"scale(1 1) rotate(0) translate(4 66)\">\n",
       "<title>%3</title>\n",
       "<polygon fill=\"white\" stroke=\"none\" points=\"-4,4 -4,-66 184,-66 184,4 -4,4\"/>\n",
       "<!-- I0 -->\n",
       "<g id=\"node1\" class=\"node\"><title>I0</title>\n",
       "<ellipse fill=\"black\" stroke=\"black\" cx=\"0\" cy=\"-14.5\" rx=\"0\" ry=\"0\"/>\n",
       "</g>\n",
       "<!-- 0 -->\n",
       "<g id=\"node3\" class=\"node\"><title>0</title>\n",
       "<path fill=\"#98f5ff\" stroke=\"black\" d=\"M61.3333,-29C61.3333,-29 46.6667,-29 46.6667,-29 41.8333,-29 37,-24.1667 37,-19.3333 37,-19.3333 37,-9.66667 37,-9.66667 37,-4.83333 41.8333,-0 46.6667,-0 46.6667,-0 61.3333,-0 61.3333,-0 66.1667,-0 71,-4.83333 71,-9.66667 71,-9.66667 71,-19.3333 71,-19.3333 71,-24.1667 66.1667,-29 61.3333,-29\"/>\n",
       "<text text-anchor=\"middle\" x=\"54\" y=\"-11.4\" font-family=\"Times,serif\" font-size=\"12.00\">ab*</text>\n",
       "</g>\n",
       "<!-- I0&#45;&gt;0 -->\n",
       "<g id=\"edge1\" class=\"edge\"><title>I0&#45;&gt;0</title>\n",
       "<path fill=\"none\" stroke=\"black\" d=\"M1.1492,-14.5C2.7669,-14.5 17.255,-14.5 30.506,-14.5\"/>\n",
       "<polygon fill=\"black\" stroke=\"black\" points=\"36.85,-14.5 30.85,-17.2001 33.85,-14.5 30.85,-14.5001 30.85,-14.5001 30.85,-14.5001 33.85,-14.5 30.85,-11.8001 36.85,-14.5 36.85,-14.5\"/>\n",
       "</g>\n",
       "<!-- F1 -->\n",
       "<g id=\"node2\" class=\"node\"><title>F1</title>\n",
       "<ellipse fill=\"black\" stroke=\"black\" cx=\"180\" cy=\"-14.5\" rx=\"0\" ry=\"0\"/>\n",
       "</g>\n",
       "<!-- 1 -->\n",
       "<g id=\"node4\" class=\"node\"><title>1</title>\n",
       "<path fill=\"#98f5ff\" stroke=\"black\" d=\"M133.333,-29C133.333,-29 123.667,-29 123.667,-29 118.833,-29 114,-24.1667 114,-19.3333 114,-19.3333 114,-9.66667 114,-9.66667 114,-4.83333 118.833,-0 123.667,-0 123.667,-0 133.333,-0 133.333,-0 138.167,-0 143,-4.83333 143,-9.66667 143,-9.66667 143,-19.3333 143,-19.3333 143,-24.1667 138.167,-29 133.333,-29\"/>\n",
       "<text text-anchor=\"middle\" x=\"128.5\" y=\"-11.4\" font-family=\"Times,serif\" font-size=\"12.00\">b*</text>\n",
       "</g>\n",
       "<!-- 0&#45;&gt;1 -->\n",
       "<g id=\"edge2\" class=\"edge\"><title>0&#45;&gt;1</title>\n",
       "<path fill=\"none\" stroke=\"black\" d=\"M71.09,-14.5C81.931,-14.5 96.3,-14.5 107.82,-14.5\"/>\n",
       "<polygon fill=\"black\" stroke=\"black\" points=\"113.89,-14.5 107.89,-17.2001 110.89,-14.5 107.89,-14.5001 107.89,-14.5001 107.89,-14.5001 110.89,-14.5 107.89,-11.8001 113.89,-14.5 113.89,-14.5\"/>\n",
       "<text text-anchor=\"middle\" x=\"92.5\" y=\"-18.3\" font-family=\"Times,serif\" font-size=\"14.00\">a</text>\n",
       "</g>\n",
       "<!-- 1&#45;&gt;F1 -->\n",
       "<g id=\"edge3\" class=\"edge\"><title>1&#45;&gt;F1</title>\n",
       "<path fill=\"none\" stroke=\"black\" d=\"M143.12,-14.5C153.261,-14.5 166.253,-14.5 173.8,-14.5\"/>\n",
       "<polygon fill=\"black\" stroke=\"black\" points=\"179.937,-14.5 173.937,-17.2001 176.937,-14.5 173.937,-14.5001 173.937,-14.5001 173.937,-14.5001 176.937,-14.5 173.937,-11.8001 179.937,-14.5 179.937,-14.5\"/>\n",
       "</g>\n",
       "<!-- 1&#45;&gt;1 -->\n",
       "<g id=\"edge4\" class=\"edge\"><title>1&#45;&gt;1</title>\n",
       "<path fill=\"none\" stroke=\"black\" d=\"M122.92,-29.206C121.58,-38.324 123.44,-47 128.5,-47 132.38,-47 134.37,-41.914 134.49,-35.438\"/>\n",
       "<polygon fill=\"black\" stroke=\"black\" points=\"134.08,-29.206 137.168,-35.0158 134.277,-32.1995 134.474,-35.1931 134.474,-35.1931 134.474,-35.1931 134.277,-32.1995 131.78,-35.3703 134.08,-29.206 134.08,-29.206\"/>\n",
       "<text text-anchor=\"middle\" x=\"128.5\" y=\"-50.8\" font-family=\"Times,serif\" font-size=\"14.00\">b</text>\n",
       "</g>\n",
       "</g>\n",
       "</svg>\n"
      ],
      "text/plain": [
       "expression_automaton<mutable_automaton<context<letterset<char_letters>, b>>>"
      ]
     },
     "execution_count": 7,
     "metadata": {},
     "output_type": "execute_result"
    }
   ],
   "source": [
    "a1 = e1.derived_term()\n",
    "a1"
   ]
  },
  {
   "cell_type": "markdown",
   "metadata": {},
   "source": [
    "Python operators that are accepted by rational expressions are also accepted by automata, with matching semantics."
   ]
  },
  {
   "cell_type": "code",
   "execution_count": 8,
   "metadata": {},
   "outputs": [
    {
     "data": {
      "image/svg+xml": [
       "<?xml version=\"1.0\" encoding=\"UTF-8\" standalone=\"no\"?>\n",
       "<!DOCTYPE svg PUBLIC \"-//W3C//DTD SVG 1.1//EN\"\n",
       " \"http://www.w3.org/Graphics/SVG/1.1/DTD/svg11.dtd\">\n",
       "<!-- Generated by graphviz version 2.38.0 (20140413.2041)\n",
       " -->\n",
       "<!-- Title: %3 Pages: 1 -->\n",
       "<svg width=\"318pt\" height=\"125pt\"\n",
       " viewBox=\"0.00 0.00 318.00 125.00\" xmlns=\"http://www.w3.org/2000/svg\" xmlns:xlink=\"http://www.w3.org/1999/xlink\">\n",
       "<g id=\"graph0\" class=\"graph\" transform=\"scale(1 1) rotate(0) translate(4 121)\">\n",
       "<title>%3</title>\n",
       "<polygon fill=\"white\" stroke=\"none\" points=\"-4,4 -4,-121 314,-121 314,4 -4,4\"/>\n",
       "<!-- I0 -->\n",
       "<g id=\"node1\" class=\"node\"><title>I0</title>\n",
       "<ellipse fill=\"black\" stroke=\"black\" cx=\"0\" cy=\"-69.5\" rx=\"0\" ry=\"0\"/>\n",
       "</g>\n",
       "<!-- 0 -->\n",
       "<g id=\"node3\" class=\"node\"><title>0</title>\n",
       "<path fill=\"#98f5ff\" stroke=\"black\" d=\"M102.333,-84C102.333,-84 46.6667,-84 46.6667,-84 41.8333,-84 37,-79.1667 37,-74.3333 37,-74.3333 37,-64.6667 37,-64.6667 37,-59.8333 41.8333,-55 46.6667,-55 46.6667,-55 102.333,-55 102.333,-55 107.167,-55 112,-59.8333 112,-64.6667 112,-64.6667 112,-74.3333 112,-74.3333 112,-79.1667 107.167,-84 102.333,-84\"/>\n",
       "<text text-anchor=\"middle\" x=\"74.5\" y=\"-66.4\" font-family=\"Times,serif\" font-size=\"12.00\">ab*+ab*ab*</text>\n",
       "</g>\n",
       "<!-- I0&#45;&gt;0 -->\n",
       "<g id=\"edge1\" class=\"edge\"><title>I0&#45;&gt;0</title>\n",
       "<path fill=\"none\" stroke=\"black\" d=\"M1.0525,-69.5C1.9989,-69.5 15.591,-69.5 30.751,-69.5\"/>\n",
       "<polygon fill=\"black\" stroke=\"black\" points=\"36.845,-69.5 30.845,-72.2001 33.845,-69.5 30.845,-69.5001 30.845,-69.5001 30.845,-69.5001 33.845,-69.5 30.845,-66.8001 36.845,-69.5 36.845,-69.5\"/>\n",
       "</g>\n",
       "<!-- F1 -->\n",
       "<g id=\"node2\" class=\"node\"><title>F1</title>\n",
       "<ellipse fill=\"black\" stroke=\"black\" cx=\"310\" cy=\"-69.5\" rx=\"0\" ry=\"0\"/>\n",
       "</g>\n",
       "<!-- 1 -->\n",
       "<g id=\"node4\" class=\"node\"><title>1</title>\n",
       "<path fill=\"#98f5ff\" stroke=\"black\" d=\"M263.333,-84C263.333,-84 253.667,-84 253.667,-84 248.833,-84 244,-79.1667 244,-74.3333 244,-74.3333 244,-64.6667 244,-64.6667 244,-59.8333 248.833,-55 253.667,-55 253.667,-55 263.333,-55 263.333,-55 268.167,-55 273,-59.8333 273,-64.6667 273,-64.6667 273,-74.3333 273,-74.3333 273,-79.1667 268.167,-84 263.333,-84\"/>\n",
       "<text text-anchor=\"middle\" x=\"258.5\" y=\"-66.4\" font-family=\"Times,serif\" font-size=\"12.00\">b*</text>\n",
       "</g>\n",
       "<!-- 0&#45;&gt;1 -->\n",
       "<g id=\"edge2\" class=\"edge\"><title>0&#45;&gt;1</title>\n",
       "<path fill=\"none\" stroke=\"black\" d=\"M112.02,-70.73C137.06,-71.414 171.04,-72.03 201,-71.5 213.14,-71.285 226.74,-70.811 237.56,-70.378\"/>\n",
       "<polygon fill=\"black\" stroke=\"black\" points=\"243.57,-70.13 237.686,-73.0752 240.573,-70.2537 237.575,-70.3775 237.575,-70.3775 237.575,-70.3775 240.573,-70.2537 237.464,-67.6798 243.57,-70.13 243.57,-70.13\"/>\n",
       "<text text-anchor=\"middle\" x=\"178\" y=\"-75.3\" font-family=\"Times,serif\" font-size=\"14.00\">a</text>\n",
       "</g>\n",
       "<!-- 2 -->\n",
       "<g id=\"node5\" class=\"node\"><title>2</title>\n",
       "<path fill=\"#98f5ff\" stroke=\"black\" d=\"M191.333,-29C191.333,-29 164.667,-29 164.667,-29 159.833,-29 155,-24.1667 155,-19.3333 155,-19.3333 155,-9.66667 155,-9.66667 155,-4.83333 159.833,-0 164.667,-0 164.667,-0 191.333,-0 191.333,-0 196.167,-0 201,-4.83333 201,-9.66667 201,-9.66667 201,-19.3333 201,-19.3333 201,-24.1667 196.167,-29 191.333,-29\"/>\n",
       "<text text-anchor=\"middle\" x=\"178\" y=\"-11.4\" font-family=\"Times,serif\" font-size=\"12.00\">b*ab*</text>\n",
       "</g>\n",
       "<!-- 0&#45;&gt;2 -->\n",
       "<g id=\"edge3\" class=\"edge\"><title>0&#45;&gt;2</title>\n",
       "<path fill=\"none\" stroke=\"black\" d=\"M102.43,-54.905C116.85,-47.095 134.58,-37.488 149.13,-29.602\"/>\n",
       "<polygon fill=\"black\" stroke=\"black\" points=\"154.74,-26.561 150.752,-31.7941 152.103,-27.9907 149.465,-29.4204 149.465,-29.4204 149.465,-29.4204 152.103,-27.9907 148.178,-27.0467 154.74,-26.561 154.74,-26.561\"/>\n",
       "<text text-anchor=\"middle\" x=\"133.5\" y=\"-43.3\" font-family=\"Times,serif\" font-size=\"14.00\">a</text>\n",
       "</g>\n",
       "<!-- 1&#45;&gt;F1 -->\n",
       "<g id=\"edge4\" class=\"edge\"><title>1&#45;&gt;F1</title>\n",
       "<path fill=\"none\" stroke=\"black\" d=\"M273.12,-69.5C283.261,-69.5 296.253,-69.5 303.8,-69.5\"/>\n",
       "<polygon fill=\"black\" stroke=\"black\" points=\"309.937,-69.5 303.937,-72.2001 306.937,-69.5 303.937,-69.5001 303.937,-69.5001 303.937,-69.5001 306.937,-69.5 303.937,-66.8001 309.937,-69.5 309.937,-69.5\"/>\n",
       "</g>\n",
       "<!-- 1&#45;&gt;1 -->\n",
       "<g id=\"edge5\" class=\"edge\"><title>1&#45;&gt;1</title>\n",
       "<path fill=\"none\" stroke=\"black\" d=\"M252.92,-84.206C251.58,-93.324 253.44,-102 258.5,-102 262.38,-102 264.37,-96.914 264.49,-90.438\"/>\n",
       "<polygon fill=\"black\" stroke=\"black\" points=\"264.08,-84.206 267.168,-90.0158 264.277,-87.1995 264.474,-90.1931 264.474,-90.1931 264.474,-90.1931 264.277,-87.1995 261.78,-90.3703 264.08,-84.206 264.08,-84.206\"/>\n",
       "<text text-anchor=\"middle\" x=\"258.5\" y=\"-105.8\" font-family=\"Times,serif\" font-size=\"14.00\">b</text>\n",
       "</g>\n",
       "<!-- 2&#45;&gt;1 -->\n",
       "<g id=\"edge6\" class=\"edge\"><title>2&#45;&gt;1</title>\n",
       "<path fill=\"none\" stroke=\"black\" d=\"M200.04,-29.239C212.01,-37.627 226.89,-48.051 238.5,-56.191\"/>\n",
       "<polygon fill=\"black\" stroke=\"black\" points=\"243.59,-59.754 237.126,-58.5251 241.132,-58.0336 238.675,-56.3132 238.675,-56.3132 238.675,-56.3132 241.132,-58.0336 240.223,-54.1013 243.59,-59.754 243.59,-59.754\"/>\n",
       "<text text-anchor=\"middle\" x=\"222.5\" y=\"-50.3\" font-family=\"Times,serif\" font-size=\"14.00\">a</text>\n",
       "</g>\n",
       "<!-- 2&#45;&gt;2 -->\n",
       "<g id=\"edge7\" class=\"edge\"><title>2&#45;&gt;2</title>\n",
       "<path fill=\"none\" stroke=\"black\" d=\"M170.33,-29.206C168.48,-38.324 171.04,-47 178,-47 183.33,-47 186.08,-41.914 186.24,-35.438\"/>\n",
       "<polygon fill=\"black\" stroke=\"black\" points=\"185.67,-29.206 188.905,-34.9351 185.943,-32.1935 186.217,-35.1811 186.217,-35.1811 186.217,-35.1811 185.943,-32.1935 183.528,-35.427 185.67,-29.206 185.67,-29.206\"/>\n",
       "<text text-anchor=\"middle\" x=\"178\" y=\"-50.8\" font-family=\"Times,serif\" font-size=\"14.00\">b</text>\n",
       "</g>\n",
       "</g>\n",
       "</svg>\n"
      ],
      "text/plain": [
       "expression_automaton<mutable_automaton<context<letterset<char_letters>, b>>>"
      ]
     },
     "execution_count": 8,
     "metadata": {},
     "output_type": "execute_result"
    }
   ],
   "source": [
    "a2 = (e1 + e1*e1).derived_term()\n",
    "a2"
   ]
  },
  {
   "cell_type": "code",
   "execution_count": 9,
   "metadata": {},
   "outputs": [
    {
     "data": {
      "image/svg+xml": [
       "<?xml version=\"1.0\" encoding=\"UTF-8\" standalone=\"no\"?>\n",
       "<!DOCTYPE svg PUBLIC \"-//W3C//DTD SVG 1.1//EN\"\n",
       " \"http://www.w3.org/Graphics/SVG/1.1/DTD/svg11.dtd\">\n",
       "<!-- Generated by graphviz version 2.38.0 (20140413.2041)\n",
       " -->\n",
       "<!-- Title: %3 Pages: 1 -->\n",
       "<svg width=\"255pt\" height=\"150pt\"\n",
       " viewBox=\"0.00 0.00 255.00 150.00\" xmlns=\"http://www.w3.org/2000/svg\" xmlns:xlink=\"http://www.w3.org/1999/xlink\">\n",
       "<g id=\"graph0\" class=\"graph\" transform=\"scale(1 1) rotate(0) translate(4 146)\">\n",
       "<title>%3</title>\n",
       "<polygon fill=\"white\" stroke=\"none\" points=\"-4,4 -4,-146 251,-146 251,4 -4,4\"/>\n",
       "<!-- I0 -->\n",
       "<g id=\"node1\" class=\"node\"><title>I0</title>\n",
       "<ellipse fill=\"black\" stroke=\"black\" cx=\"0\" cy=\"-59.5\" rx=\"0\" ry=\"0\"/>\n",
       "</g>\n",
       "<!-- 0 -->\n",
       "<g id=\"node4\" class=\"node\"><title>0</title>\n",
       "<ellipse fill=\"#98f5ff\" stroke=\"black\" cx=\"51.5\" cy=\"-59.5\" rx=\"14.5\" ry=\"14.5\"/>\n",
       "<text text-anchor=\"middle\" x=\"51.5\" y=\"-56.4\" font-family=\"Times,serif\" font-size=\"12.00\">0</text>\n",
       "</g>\n",
       "<!-- I0&#45;&gt;0 -->\n",
       "<g id=\"edge1\" class=\"edge\"><title>I0&#45;&gt;0</title>\n",
       "<path fill=\"none\" stroke=\"black\" d=\"M1.142,-59.5C2.7502,-59.5 17.72,-59.5 30.756,-59.5\"/>\n",
       "<polygon fill=\"black\" stroke=\"black\" points=\"36.933,-59.5 30.933,-62.2001 33.933,-59.5 30.933,-59.5001 30.933,-59.5001 30.933,-59.5001 33.933,-59.5 30.933,-56.8001 36.933,-59.5 36.933,-59.5\"/>\n",
       "</g>\n",
       "<!-- F1 -->\n",
       "<g id=\"node2\" class=\"node\"><title>F1</title>\n",
       "<ellipse fill=\"black\" stroke=\"black\" cx=\"195.5\" cy=\"-94.5\" rx=\"0\" ry=\"0\"/>\n",
       "</g>\n",
       "<!-- F3 -->\n",
       "<g id=\"node3\" class=\"node\"><title>F3</title>\n",
       "<ellipse fill=\"black\" stroke=\"black\" cx=\"247\" cy=\"-14.5\" rx=\"0\" ry=\"0\"/>\n",
       "</g>\n",
       "<!-- 1 -->\n",
       "<g id=\"node5\" class=\"node\"><title>1</title>\n",
       "<ellipse fill=\"#98f5ff\" stroke=\"black\" cx=\"123.5\" cy=\"-94.5\" rx=\"14.5\" ry=\"14.5\"/>\n",
       "<text text-anchor=\"middle\" x=\"123.5\" y=\"-91.4\" font-family=\"Times,serif\" font-size=\"12.00\">1</text>\n",
       "</g>\n",
       "<!-- 0&#45;&gt;1 -->\n",
       "<g id=\"edge2\" class=\"edge\"><title>0&#45;&gt;1</title>\n",
       "<path fill=\"none\" stroke=\"black\" d=\"M64.693,-65.597C75.699,-71.099 92.034,-79.267 104.53,-85.517\"/>\n",
       "<polygon fill=\"black\" stroke=\"black\" points=\"109.98,-88.238 103.406,-87.9735 107.296,-86.8979 104.612,-85.5578 104.612,-85.5578 104.612,-85.5578 107.296,-86.8979 105.818,-83.1421 109.98,-88.238 109.98,-88.238\"/>\n",
       "<text text-anchor=\"middle\" x=\"87.5\" y=\"-81.3\" font-family=\"Times,serif\" font-size=\"14.00\">a</text>\n",
       "</g>\n",
       "<!-- 2 -->\n",
       "<g id=\"node6\" class=\"node\"><title>2</title>\n",
       "<ellipse fill=\"#98f5ff\" stroke=\"black\" cx=\"123.5\" cy=\"-14.5\" rx=\"14.5\" ry=\"14.5\"/>\n",
       "<text text-anchor=\"middle\" x=\"123.5\" y=\"-11.4\" font-family=\"Times,serif\" font-size=\"12.00\">2</text>\n",
       "</g>\n",
       "<!-- 0&#45;&gt;2 -->\n",
       "<g id=\"edge3\" class=\"edge\"><title>0&#45;&gt;2</title>\n",
       "<path fill=\"none\" stroke=\"black\" d=\"M64.059,-52.069C75.34,-44.817 92.633,-33.7 105.48,-25.439\"/>\n",
       "<polygon fill=\"black\" stroke=\"black\" points=\"110.69,-22.092 107.101,-27.6067 108.166,-23.7135 105.642,-25.335 105.642,-25.335 105.642,-25.335 108.166,-23.7135 104.183,-23.0634 110.69,-22.092 110.69,-22.092\"/>\n",
       "<text text-anchor=\"middle\" x=\"87.5\" y=\"-42.3\" font-family=\"Times,serif\" font-size=\"14.00\">a</text>\n",
       "</g>\n",
       "<!-- 1&#45;&gt;F1 -->\n",
       "<g id=\"edge4\" class=\"edge\"><title>1&#45;&gt;F1</title>\n",
       "<path fill=\"none\" stroke=\"black\" d=\"M138.07,-94.5C153.675,-94.5 177.725,-94.5 189.108,-94.5\"/>\n",
       "<polygon fill=\"black\" stroke=\"black\" points=\"195.395,-94.5 189.395,-97.2001 192.395,-94.5 189.395,-94.5001 189.395,-94.5001 189.395,-94.5001 192.395,-94.5 189.395,-91.8001 195.395,-94.5 195.395,-94.5\"/>\n",
       "</g>\n",
       "<!-- 1&#45;&gt;1 -->\n",
       "<g id=\"edge5\" class=\"edge\"><title>1&#45;&gt;1</title>\n",
       "<path fill=\"none\" stroke=\"black\" d=\"M117.48,-107.85C115.52,-117.45 117.52,-127 123.5,-127 128.17,-127 130.42,-121.17 130.24,-114.04\"/>\n",
       "<polygon fill=\"black\" stroke=\"black\" points=\"129.52,-107.85 132.895,-113.498 129.867,-110.83 130.213,-113.81 130.213,-113.81 130.213,-113.81 129.867,-110.83 127.531,-114.122 129.52,-107.85 129.52,-107.85\"/>\n",
       "<text text-anchor=\"middle\" x=\"123.5\" y=\"-130.8\" font-family=\"Times,serif\" font-size=\"14.00\">b</text>\n",
       "</g>\n",
       "<!-- 2&#45;&gt;2 -->\n",
       "<g id=\"edge6\" class=\"edge\"><title>2&#45;&gt;2</title>\n",
       "<path fill=\"none\" stroke=\"black\" d=\"M117.48,-27.854C115.52,-37.445 117.52,-47 123.5,-47 128.17,-47 130.42,-41.168 130.24,-34.043\"/>\n",
       "<polygon fill=\"black\" stroke=\"black\" points=\"129.52,-27.854 132.895,-33.5018 129.867,-30.8339 130.213,-33.8138 130.213,-33.8138 130.213,-33.8138 129.867,-30.8339 127.532,-34.1258 129.52,-27.854 129.52,-27.854\"/>\n",
       "<text text-anchor=\"middle\" x=\"123.5\" y=\"-50.8\" font-family=\"Times,serif\" font-size=\"14.00\">b</text>\n",
       "</g>\n",
       "<!-- 3 -->\n",
       "<g id=\"node7\" class=\"node\"><title>3</title>\n",
       "<ellipse fill=\"#98f5ff\" stroke=\"black\" cx=\"195.5\" cy=\"-14.5\" rx=\"14.5\" ry=\"14.5\"/>\n",
       "<text text-anchor=\"middle\" x=\"195.5\" y=\"-11.4\" font-family=\"Times,serif\" font-size=\"12.00\">3</text>\n",
       "</g>\n",
       "<!-- 2&#45;&gt;3 -->\n",
       "<g id=\"edge7\" class=\"edge\"><title>2&#45;&gt;3</title>\n",
       "<path fill=\"none\" stroke=\"black\" d=\"M138.33,-14.5C148.68,-14.5 163,-14.5 174.59,-14.5\"/>\n",
       "<polygon fill=\"black\" stroke=\"black\" points=\"180.7,-14.5 174.7,-17.2001 177.7,-14.5 174.7,-14.5001 174.7,-14.5001 174.7,-14.5001 177.7,-14.5 174.7,-11.8001 180.7,-14.5 180.7,-14.5\"/>\n",
       "<text text-anchor=\"middle\" x=\"159.5\" y=\"-18.3\" font-family=\"Times,serif\" font-size=\"14.00\">a</text>\n",
       "</g>\n",
       "<!-- 3&#45;&gt;F3 -->\n",
       "<g id=\"edge8\" class=\"edge\"><title>3&#45;&gt;F3</title>\n",
       "<path fill=\"none\" stroke=\"black\" d=\"M210.12,-14.5C220.261,-14.5 233.253,-14.5 240.8,-14.5\"/>\n",
       "<polygon fill=\"black\" stroke=\"black\" points=\"246.937,-14.5 240.937,-17.2001 243.937,-14.5 240.937,-14.5001 240.937,-14.5001 240.937,-14.5001 243.937,-14.5 240.937,-11.8001 246.937,-14.5 246.937,-14.5\"/>\n",
       "</g>\n",
       "<!-- 3&#45;&gt;3 -->\n",
       "<g id=\"edge9\" class=\"edge\"><title>3&#45;&gt;3</title>\n",
       "<path fill=\"none\" stroke=\"black\" d=\"M190.09,-28.192C188.45,-37.669 190.25,-47 195.5,-47 199.6,-47 201.6,-41.305 201.5,-34.294\"/>\n",
       "<polygon fill=\"black\" stroke=\"black\" points=\"200.91,-28.192 204.175,-33.9043 201.199,-31.1781 201.488,-34.1641 201.488,-34.1641 201.488,-34.1641 201.199,-31.1781 198.8,-34.424 200.91,-28.192 200.91,-28.192\"/>\n",
       "<text text-anchor=\"middle\" x=\"195.5\" y=\"-50.8\" font-family=\"Times,serif\" font-size=\"14.00\">b</text>\n",
       "</g>\n",
       "</g>\n",
       "</svg>\n"
      ],
      "text/plain": [
       "mutable_automaton<context<letterset<char_letters>, b>>"
      ]
     },
     "execution_count": 9,
     "metadata": {},
     "output_type": "execute_result"
    }
   ],
   "source": [
    "a3 = a1 + a1 * a1\n",
    "a3"
   ]
  },
  {
   "cell_type": "markdown",
   "metadata": {},
   "source": [
    "Well, those two automata are not equal (or more rigorously \"isomorphic\"), but they are equivalent:"
   ]
  },
  {
   "cell_type": "code",
   "execution_count": 10,
   "metadata": {},
   "outputs": [
    {
     "data": {
      "text/plain": [
       "True"
      ]
     },
     "execution_count": 10,
     "metadata": {},
     "output_type": "execute_result"
    }
   ],
   "source": [
    "a2.is_equivalent(a3)"
   ]
  },
  {
   "cell_type": "markdown",
   "metadata": {},
   "source": [
    "All the classical algorithms about automata are implemented:"
   ]
  },
  {
   "cell_type": "code",
   "execution_count": 11,
   "metadata": {},
   "outputs": [
    {
     "data": {
      "image/svg+xml": [
       "<?xml version=\"1.0\" encoding=\"UTF-8\" standalone=\"no\"?>\n",
       "<!DOCTYPE svg PUBLIC \"-//W3C//DTD SVG 1.1//EN\"\n",
       " \"http://www.w3.org/Graphics/SVG/1.1/DTD/svg11.dtd\">\n",
       "<!-- Generated by graphviz version 2.38.0 (20140413.2041)\n",
       " -->\n",
       "<!-- Title: %3 Pages: 1 -->\n",
       "<svg width=\"255pt\" height=\"150pt\"\n",
       " viewBox=\"0.00 0.00 255.00 150.00\" xmlns=\"http://www.w3.org/2000/svg\" xmlns:xlink=\"http://www.w3.org/1999/xlink\">\n",
       "<g id=\"graph0\" class=\"graph\" transform=\"scale(1 1) rotate(0) translate(4 146)\">\n",
       "<title>%3</title>\n",
       "<polygon fill=\"white\" stroke=\"none\" points=\"-4,4 -4,-146 251,-146 251,4 -4,4\"/>\n",
       "<!-- I0 -->\n",
       "<g id=\"node1\" class=\"node\"><title>I0</title>\n",
       "<ellipse fill=\"black\" stroke=\"black\" cx=\"0\" cy=\"-59.5\" rx=\"0\" ry=\"0\"/>\n",
       "</g>\n",
       "<!-- 0 -->\n",
       "<g id=\"node4\" class=\"node\"><title>0</title>\n",
       "<ellipse fill=\"#98f5ff\" stroke=\"black\" cx=\"51.5\" cy=\"-59.5\" rx=\"14.5\" ry=\"14.5\"/>\n",
       "<text text-anchor=\"middle\" x=\"51.5\" y=\"-56.4\" font-family=\"Times,serif\" font-size=\"12.00\">0</text>\n",
       "</g>\n",
       "<!-- I0&#45;&gt;0 -->\n",
       "<g id=\"edge1\" class=\"edge\"><title>I0&#45;&gt;0</title>\n",
       "<path fill=\"none\" stroke=\"black\" d=\"M1.142,-59.5C2.7502,-59.5 17.72,-59.5 30.756,-59.5\"/>\n",
       "<polygon fill=\"black\" stroke=\"black\" points=\"36.933,-59.5 30.933,-62.2001 33.933,-59.5 30.933,-59.5001 30.933,-59.5001 30.933,-59.5001 33.933,-59.5 30.933,-56.8001 36.933,-59.5 36.933,-59.5\"/>\n",
       "</g>\n",
       "<!-- F1 -->\n",
       "<g id=\"node2\" class=\"node\"><title>F1</title>\n",
       "<ellipse fill=\"black\" stroke=\"black\" cx=\"195.5\" cy=\"-94.5\" rx=\"0\" ry=\"0\"/>\n",
       "</g>\n",
       "<!-- F3 -->\n",
       "<g id=\"node3\" class=\"node\"><title>F3</title>\n",
       "<ellipse fill=\"black\" stroke=\"black\" cx=\"247\" cy=\"-14.5\" rx=\"0\" ry=\"0\"/>\n",
       "</g>\n",
       "<!-- 1 -->\n",
       "<g id=\"node5\" class=\"node\"><title>1</title>\n",
       "<ellipse fill=\"#98f5ff\" stroke=\"black\" cx=\"123.5\" cy=\"-94.5\" rx=\"14.5\" ry=\"14.5\"/>\n",
       "<text text-anchor=\"middle\" x=\"123.5\" y=\"-91.4\" font-family=\"Times,serif\" font-size=\"12.00\">1</text>\n",
       "</g>\n",
       "<!-- 0&#45;&gt;1 -->\n",
       "<g id=\"edge2\" class=\"edge\"><title>0&#45;&gt;1</title>\n",
       "<path fill=\"none\" stroke=\"black\" d=\"M64.693,-65.597C75.699,-71.099 92.034,-79.267 104.53,-85.517\"/>\n",
       "<polygon fill=\"black\" stroke=\"black\" points=\"109.98,-88.238 103.406,-87.9735 107.296,-86.8979 104.612,-85.5578 104.612,-85.5578 104.612,-85.5578 107.296,-86.8979 105.818,-83.1421 109.98,-88.238 109.98,-88.238\"/>\n",
       "<text text-anchor=\"middle\" x=\"87.5\" y=\"-81.3\" font-family=\"Times,serif\" font-size=\"14.00\">a</text>\n",
       "</g>\n",
       "<!-- 2 -->\n",
       "<g id=\"node6\" class=\"node\"><title>2</title>\n",
       "<ellipse fill=\"#98f5ff\" stroke=\"black\" cx=\"123.5\" cy=\"-14.5\" rx=\"14.5\" ry=\"14.5\"/>\n",
       "<text text-anchor=\"middle\" x=\"123.5\" y=\"-11.4\" font-family=\"Times,serif\" font-size=\"12.00\">2</text>\n",
       "</g>\n",
       "<!-- 0&#45;&gt;2 -->\n",
       "<g id=\"edge3\" class=\"edge\"><title>0&#45;&gt;2</title>\n",
       "<path fill=\"none\" stroke=\"black\" d=\"M64.059,-52.069C75.34,-44.817 92.633,-33.7 105.48,-25.439\"/>\n",
       "<polygon fill=\"black\" stroke=\"black\" points=\"110.69,-22.092 107.101,-27.6067 108.166,-23.7135 105.642,-25.335 105.642,-25.335 105.642,-25.335 108.166,-23.7135 104.183,-23.0634 110.69,-22.092 110.69,-22.092\"/>\n",
       "<text text-anchor=\"middle\" x=\"87.5\" y=\"-42.3\" font-family=\"Times,serif\" font-size=\"14.00\">a</text>\n",
       "</g>\n",
       "<!-- 1&#45;&gt;F1 -->\n",
       "<g id=\"edge4\" class=\"edge\"><title>1&#45;&gt;F1</title>\n",
       "<path fill=\"none\" stroke=\"black\" d=\"M138.07,-94.5C153.675,-94.5 177.725,-94.5 189.108,-94.5\"/>\n",
       "<polygon fill=\"black\" stroke=\"black\" points=\"195.395,-94.5 189.395,-97.2001 192.395,-94.5 189.395,-94.5001 189.395,-94.5001 189.395,-94.5001 192.395,-94.5 189.395,-91.8001 195.395,-94.5 195.395,-94.5\"/>\n",
       "</g>\n",
       "<!-- 1&#45;&gt;1 -->\n",
       "<g id=\"edge5\" class=\"edge\"><title>1&#45;&gt;1</title>\n",
       "<path fill=\"none\" stroke=\"black\" d=\"M117.48,-107.85C115.52,-117.45 117.52,-127 123.5,-127 128.17,-127 130.42,-121.17 130.24,-114.04\"/>\n",
       "<polygon fill=\"black\" stroke=\"black\" points=\"129.52,-107.85 132.895,-113.498 129.867,-110.83 130.213,-113.81 130.213,-113.81 130.213,-113.81 129.867,-110.83 127.531,-114.122 129.52,-107.85 129.52,-107.85\"/>\n",
       "<text text-anchor=\"middle\" x=\"123.5\" y=\"-130.8\" font-family=\"Times,serif\" font-size=\"14.00\">b</text>\n",
       "</g>\n",
       "<!-- 2&#45;&gt;2 -->\n",
       "<g id=\"edge6\" class=\"edge\"><title>2&#45;&gt;2</title>\n",
       "<path fill=\"none\" stroke=\"black\" d=\"M117.48,-27.854C115.52,-37.445 117.52,-47 123.5,-47 128.17,-47 130.42,-41.168 130.24,-34.043\"/>\n",
       "<polygon fill=\"black\" stroke=\"black\" points=\"129.52,-27.854 132.895,-33.5018 129.867,-30.8339 130.213,-33.8138 130.213,-33.8138 130.213,-33.8138 129.867,-30.8339 127.532,-34.1258 129.52,-27.854 129.52,-27.854\"/>\n",
       "<text text-anchor=\"middle\" x=\"123.5\" y=\"-50.8\" font-family=\"Times,serif\" font-size=\"14.00\">b</text>\n",
       "</g>\n",
       "<!-- 3 -->\n",
       "<g id=\"node7\" class=\"node\"><title>3</title>\n",
       "<ellipse fill=\"#98f5ff\" stroke=\"black\" cx=\"195.5\" cy=\"-14.5\" rx=\"14.5\" ry=\"14.5\"/>\n",
       "<text text-anchor=\"middle\" x=\"195.5\" y=\"-11.4\" font-family=\"Times,serif\" font-size=\"12.00\">3</text>\n",
       "</g>\n",
       "<!-- 2&#45;&gt;3 -->\n",
       "<g id=\"edge7\" class=\"edge\"><title>2&#45;&gt;3</title>\n",
       "<path fill=\"none\" stroke=\"black\" d=\"M138.33,-14.5C148.68,-14.5 163,-14.5 174.59,-14.5\"/>\n",
       "<polygon fill=\"black\" stroke=\"black\" points=\"180.7,-14.5 174.7,-17.2001 177.7,-14.5 174.7,-14.5001 174.7,-14.5001 174.7,-14.5001 177.7,-14.5 174.7,-11.8001 180.7,-14.5 180.7,-14.5\"/>\n",
       "<text text-anchor=\"middle\" x=\"159.5\" y=\"-18.3\" font-family=\"Times,serif\" font-size=\"14.00\">a</text>\n",
       "</g>\n",
       "<!-- 3&#45;&gt;F3 -->\n",
       "<g id=\"edge8\" class=\"edge\"><title>3&#45;&gt;F3</title>\n",
       "<path fill=\"none\" stroke=\"black\" d=\"M210.12,-14.5C220.261,-14.5 233.253,-14.5 240.8,-14.5\"/>\n",
       "<polygon fill=\"black\" stroke=\"black\" points=\"246.937,-14.5 240.937,-17.2001 243.937,-14.5 240.937,-14.5001 240.937,-14.5001 240.937,-14.5001 243.937,-14.5 240.937,-11.8001 246.937,-14.5 246.937,-14.5\"/>\n",
       "</g>\n",
       "<!-- 3&#45;&gt;3 -->\n",
       "<g id=\"edge9\" class=\"edge\"><title>3&#45;&gt;3</title>\n",
       "<path fill=\"none\" stroke=\"black\" d=\"M190.09,-28.192C188.45,-37.669 190.25,-47 195.5,-47 199.6,-47 201.6,-41.305 201.5,-34.294\"/>\n",
       "<polygon fill=\"black\" stroke=\"black\" points=\"200.91,-28.192 204.175,-33.9043 201.199,-31.1781 201.488,-34.1641 201.488,-34.1641 201.488,-34.1641 201.199,-31.1781 198.8,-34.424 200.91,-28.192 200.91,-28.192\"/>\n",
       "<text text-anchor=\"middle\" x=\"195.5\" y=\"-50.8\" font-family=\"Times,serif\" font-size=\"14.00\">b</text>\n",
       "</g>\n",
       "</g>\n",
       "</svg>\n"
      ],
      "text/plain": [
       "mutable_automaton<context<letterset<char_letters>, b>>"
      ]
     },
     "execution_count": 11,
     "metadata": {},
     "output_type": "execute_result"
    }
   ],
   "source": [
    "a3"
   ]
  },
  {
   "cell_type": "code",
   "execution_count": 12,
   "metadata": {},
   "outputs": [
    {
     "data": {
      "image/svg+xml": [
       "<?xml version=\"1.0\" encoding=\"UTF-8\" standalone=\"no\"?>\n",
       "<!DOCTYPE svg PUBLIC \"-//W3C//DTD SVG 1.1//EN\"\n",
       " \"http://www.w3.org/Graphics/SVG/1.1/DTD/svg11.dtd\">\n",
       "<!-- Generated by graphviz version 2.38.0 (20140413.2041)\n",
       " -->\n",
       "<!-- Title: %3 Pages: 1 -->\n",
       "<svg width=\"261pt\" height=\"112pt\"\n",
       " viewBox=\"0.00 0.00 261.00 112.00\" xmlns=\"http://www.w3.org/2000/svg\" xmlns:xlink=\"http://www.w3.org/1999/xlink\">\n",
       "<g id=\"graph0\" class=\"graph\" transform=\"scale(1 1) rotate(0) translate(4 108)\">\n",
       "<title>%3</title>\n",
       "<polygon fill=\"white\" stroke=\"none\" points=\"-4,4 -4,-108 257,-108 257,4 -4,4\"/>\n",
       "<!-- I0 -->\n",
       "<g id=\"node1\" class=\"node\"><title>I0</title>\n",
       "<ellipse fill=\"black\" stroke=\"black\" cx=\"0\" cy=\"-56.5\" rx=\"0\" ry=\"0\"/>\n",
       "</g>\n",
       "<!-- 0 -->\n",
       "<g id=\"node4\" class=\"node\"><title>0</title>\n",
       "<path fill=\"#98f5ff\" stroke=\"black\" d=\"M56.3333,-71C56.3333,-71 46.6667,-71 46.6667,-71 41.8333,-71 37,-66.1667 37,-61.3333 37,-61.3333 37,-51.6667 37,-51.6667 37,-46.8333 41.8333,-42 46.6667,-42 46.6667,-42 56.3333,-42 56.3333,-42 61.1667,-42 66,-46.8333 66,-51.6667 66,-51.6667 66,-61.3333 66,-61.3333 66,-66.1667 61.1667,-71 56.3333,-71\"/>\n",
       "<text text-anchor=\"middle\" x=\"51.5\" y=\"-53.4\" font-family=\"Times,serif\" font-size=\"12.00\">0</text>\n",
       "</g>\n",
       "<!-- I0&#45;&gt;0 -->\n",
       "<g id=\"edge1\" class=\"edge\"><title>I0&#45;&gt;0</title>\n",
       "<path fill=\"none\" stroke=\"black\" d=\"M1.142,-56.5C2.7502,-56.5 17.72,-56.5 30.756,-56.5\"/>\n",
       "<polygon fill=\"black\" stroke=\"black\" points=\"36.933,-56.5 30.933,-59.2001 33.933,-56.5 30.933,-56.5001 30.933,-56.5001 30.933,-56.5001 33.933,-56.5 30.933,-53.8001 36.933,-56.5 36.933,-56.5\"/>\n",
       "</g>\n",
       "<!-- F1 -->\n",
       "<g id=\"node2\" class=\"node\"><title>F1</title>\n",
       "<ellipse fill=\"black\" stroke=\"black\" cx=\"201.5\" cy=\"-80.5\" rx=\"0\" ry=\"0\"/>\n",
       "</g>\n",
       "<!-- F2 -->\n",
       "<g id=\"node3\" class=\"node\"><title>F2</title>\n",
       "<ellipse fill=\"black\" stroke=\"black\" cx=\"253\" cy=\"-14.5\" rx=\"0\" ry=\"0\"/>\n",
       "</g>\n",
       "<!-- 1 -->\n",
       "<g id=\"node5\" class=\"node\"><title>1</title>\n",
       "<path fill=\"#98f5ff\" stroke=\"black\" d=\"M134.333,-71C134.333,-71 118.667,-71 118.667,-71 113.833,-71 109,-66.1667 109,-61.3333 109,-61.3333 109,-51.6667 109,-51.6667 109,-46.8333 113.833,-42 118.667,-42 118.667,-42 134.333,-42 134.333,-42 139.167,-42 144,-46.8333 144,-51.6667 144,-51.6667 144,-61.3333 144,-61.3333 144,-66.1667 139.167,-71 134.333,-71\"/>\n",
       "<text text-anchor=\"middle\" x=\"126.5\" y=\"-53.4\" font-family=\"Times,serif\" font-size=\"12.00\">1, 2</text>\n",
       "</g>\n",
       "<!-- 0&#45;&gt;1 -->\n",
       "<g id=\"edge2\" class=\"edge\"><title>0&#45;&gt;1</title>\n",
       "<path fill=\"none\" stroke=\"black\" d=\"M66.231,-56.5C76.501,-56.5 90.775,-56.5 102.74,-56.5\"/>\n",
       "<polygon fill=\"black\" stroke=\"black\" points=\"108.76,-56.5 102.76,-59.2001 105.76,-56.5 102.76,-56.5001 102.76,-56.5001 102.76,-56.5001 105.76,-56.5 102.76,-53.8001 108.76,-56.5 108.76,-56.5\"/>\n",
       "<text text-anchor=\"middle\" x=\"87.5\" y=\"-60.3\" font-family=\"Times,serif\" font-size=\"14.00\">a</text>\n",
       "</g>\n",
       "<!-- 1&#45;&gt;F1 -->\n",
       "<g id=\"edge3\" class=\"edge\"><title>1&#45;&gt;F1</title>\n",
       "<path fill=\"none\" stroke=\"black\" d=\"M144.274,-62.1877C160.892,-67.5053 184.734,-75.1349 195.645,-78.6265\"/>\n",
       "<polygon fill=\"black\" stroke=\"black\" points=\"201.399,-80.4676 194.861,-81.2104 198.542,-79.5532 195.684,-78.6389 195.684,-78.6389 195.684,-78.6389 198.542,-79.5532 196.507,-76.0673 201.399,-80.4676 201.399,-80.4676\"/>\n",
       "</g>\n",
       "<!-- 1&#45;&gt;1 -->\n",
       "<g id=\"edge4\" class=\"edge\"><title>1&#45;&gt;1</title>\n",
       "<path fill=\"none\" stroke=\"black\" d=\"M119.88,-71.206C118.28,-80.324 120.49,-89 126.5,-89 131.1,-89 133.48,-83.914 133.62,-77.438\"/>\n",
       "<polygon fill=\"black\" stroke=\"black\" points=\"133.12,-71.206 136.291,-76.9708 133.36,-74.1964 133.6,-77.1868 133.6,-77.1868 133.6,-77.1868 133.36,-74.1964 130.909,-77.4028 133.12,-71.206 133.12,-71.206\"/>\n",
       "<text text-anchor=\"middle\" x=\"126.5\" y=\"-92.8\" font-family=\"Times,serif\" font-size=\"14.00\">b</text>\n",
       "</g>\n",
       "<!-- 2 -->\n",
       "<g id=\"node6\" class=\"node\"><title>2</title>\n",
       "<path fill=\"#98f5ff\" stroke=\"black\" d=\"M206.333,-29C206.333,-29 196.667,-29 196.667,-29 191.833,-29 187,-24.1667 187,-19.3333 187,-19.3333 187,-9.66667 187,-9.66667 187,-4.83333 191.833,-0 196.667,-0 196.667,-0 206.333,-0 206.333,-0 211.167,-0 216,-4.83333 216,-9.66667 216,-9.66667 216,-19.3333 216,-19.3333 216,-24.1667 211.167,-29 206.333,-29\"/>\n",
       "<text text-anchor=\"middle\" x=\"201.5\" y=\"-11.4\" font-family=\"Times,serif\" font-size=\"12.00\">3</text>\n",
       "</g>\n",
       "<!-- 1&#45;&gt;2 -->\n",
       "<g id=\"edge5\" class=\"edge\"><title>1&#45;&gt;2</title>\n",
       "<path fill=\"none\" stroke=\"black\" d=\"M144.06,-46.97C155.2,-40.563 169.9,-32.103 181.51,-25.425\"/>\n",
       "<polygon fill=\"black\" stroke=\"black\" points=\"186.93,-22.306 183.076,-27.6389 184.33,-23.8023 181.73,-25.2987 181.73,-25.2987 181.73,-25.2987 184.33,-23.8023 180.383,-22.9585 186.93,-22.306 186.93,-22.306\"/>\n",
       "<text text-anchor=\"middle\" x=\"165.5\" y=\"-39.3\" font-family=\"Times,serif\" font-size=\"14.00\">a</text>\n",
       "</g>\n",
       "<!-- 2&#45;&gt;F2 -->\n",
       "<g id=\"edge6\" class=\"edge\"><title>2&#45;&gt;F2</title>\n",
       "<path fill=\"none\" stroke=\"black\" d=\"M216.12,-14.5C226.261,-14.5 239.253,-14.5 246.8,-14.5\"/>\n",
       "<polygon fill=\"black\" stroke=\"black\" points=\"252.937,-14.5 246.937,-17.2001 249.937,-14.5 246.937,-14.5001 246.937,-14.5001 246.937,-14.5001 249.937,-14.5 246.937,-11.8001 252.937,-14.5 252.937,-14.5\"/>\n",
       "</g>\n",
       "<!-- 2&#45;&gt;2 -->\n",
       "<g id=\"edge7\" class=\"edge\"><title>2&#45;&gt;2</title>\n",
       "<path fill=\"none\" stroke=\"black\" d=\"M195.92,-29.206C194.58,-38.324 196.44,-47 201.5,-47 205.38,-47 207.37,-41.914 207.49,-35.438\"/>\n",
       "<polygon fill=\"black\" stroke=\"black\" points=\"207.08,-29.206 210.168,-35.0158 207.277,-32.1995 207.474,-35.1931 207.474,-35.1931 207.474,-35.1931 207.277,-32.1995 204.78,-35.3703 207.08,-29.206 207.08,-29.206\"/>\n",
       "<text text-anchor=\"middle\" x=\"201.5\" y=\"-50.8\" font-family=\"Times,serif\" font-size=\"14.00\">b</text>\n",
       "</g>\n",
       "</g>\n",
       "</svg>\n"
      ],
      "text/plain": [
       "determinized_automaton<mutable_automaton<context<letterset<char_letters>, b>>, vcsn::wet_kind_t::bitset, false>"
      ]
     },
     "execution_count": 12,
     "metadata": {},
     "output_type": "execute_result"
    }
   ],
   "source": [
    "a3.determinize()"
   ]
  },
  {
   "cell_type": "markdown",
   "metadata": {},
   "source": [
    "The states of this automaton are decorated with metadata: the corresponding set of states of the input automaton.  Use [automaton.strip](automaton.strip.ipynb) to remove this decoration."
   ]
  },
  {
   "cell_type": "code",
   "execution_count": 13,
   "metadata": {},
   "outputs": [
    {
     "data": {
      "image/svg+xml": [
       "<?xml version=\"1.0\" encoding=\"UTF-8\" standalone=\"no\"?>\n",
       "<!DOCTYPE svg PUBLIC \"-//W3C//DTD SVG 1.1//EN\"\n",
       " \"http://www.w3.org/Graphics/SVG/1.1/DTD/svg11.dtd\">\n",
       "<!-- Generated by graphviz version 2.38.0 (20140413.2041)\n",
       " -->\n",
       "<!-- Title: %3 Pages: 1 -->\n",
       "<svg width=\"317pt\" height=\"159pt\"\n",
       " viewBox=\"0.00 0.00 317.00 158.50\" xmlns=\"http://www.w3.org/2000/svg\" xmlns:xlink=\"http://www.w3.org/1999/xlink\">\n",
       "<g id=\"graph0\" class=\"graph\" transform=\"scale(1 1) rotate(0) translate(4 154.5)\">\n",
       "<title>%3</title>\n",
       "<polygon fill=\"white\" stroke=\"none\" points=\"-4,4 -4,-154.5 313,-154.5 313,4 -4,4\"/>\n",
       "<!-- I0 -->\n",
       "<g id=\"node1\" class=\"node\"><title>I0</title>\n",
       "<ellipse fill=\"black\" stroke=\"black\" cx=\"0\" cy=\"-14.5\" rx=\"0\" ry=\"0\"/>\n",
       "</g>\n",
       "<!-- 0 -->\n",
       "<g id=\"node4\" class=\"node\"><title>0</title>\n",
       "<ellipse fill=\"#98f5ff\" stroke=\"black\" cx=\"51.5\" cy=\"-14.5\" rx=\"14.5\" ry=\"14.5\"/>\n",
       "<text text-anchor=\"middle\" x=\"51.5\" y=\"-11.4\" font-family=\"Times,serif\" font-size=\"12.00\">0</text>\n",
       "</g>\n",
       "<!-- I0&#45;&gt;0 -->\n",
       "<g id=\"edge1\" class=\"edge\"><title>I0&#45;&gt;0</title>\n",
       "<path fill=\"none\" stroke=\"black\" d=\"M1.142,-14.5C2.7502,-14.5 17.72,-14.5 30.756,-14.5\"/>\n",
       "<polygon fill=\"black\" stroke=\"black\" points=\"36.933,-14.5 30.933,-17.2001 33.933,-14.5 30.933,-14.5001 30.933,-14.5001 30.933,-14.5001 33.933,-14.5 30.933,-11.8001 36.933,-14.5 36.933,-14.5\"/>\n",
       "</g>\n",
       "<!-- F1 -->\n",
       "<g id=\"node2\" class=\"node\"><title>F1</title>\n",
       "<ellipse fill=\"black\" stroke=\"black\" cx=\"209.5\" cy=\"-150.5\" rx=\"0\" ry=\"0\"/>\n",
       "</g>\n",
       "<!-- F2 -->\n",
       "<g id=\"node3\" class=\"node\"><title>F2</title>\n",
       "<ellipse fill=\"black\" stroke=\"black\" cx=\"294.5\" cy=\"-101.5\" rx=\"0\" ry=\"0\"/>\n",
       "</g>\n",
       "<!-- 1 -->\n",
       "<g id=\"node5\" class=\"node\"><title>1</title>\n",
       "<ellipse fill=\"#98f5ff\" stroke=\"black\" cx=\"123.5\" cy=\"-56.5\" rx=\"14.5\" ry=\"14.5\"/>\n",
       "<text text-anchor=\"middle\" x=\"123.5\" y=\"-53.4\" font-family=\"Times,serif\" font-size=\"12.00\">1</text>\n",
       "</g>\n",
       "<!-- 0&#45;&gt;1 -->\n",
       "<g id=\"edge2\" class=\"edge\"><title>0&#45;&gt;1</title>\n",
       "<path fill=\"none\" stroke=\"black\" d=\"M64.375,-21.625C75.706,-28.424 92.891,-38.734 105.64,-46.383\"/>\n",
       "<polygon fill=\"black\" stroke=\"black\" points=\"110.8,-49.48 104.266,-48.7073 108.228,-47.9361 105.655,-46.3922 105.655,-46.3922 105.655,-46.3922 108.228,-47.9361 107.045,-44.0772 110.8,-49.48 110.8,-49.48\"/>\n",
       "<text text-anchor=\"middle\" x=\"87.5\" y=\"-41.3\" font-family=\"Times,serif\" font-size=\"14.00\">a</text>\n",
       "</g>\n",
       "<!-- 3 -->\n",
       "<g id=\"node7\" class=\"node\"><title>3</title>\n",
       "<ellipse fill=\"lightgray\" stroke=\"black\" cx=\"294.5\" cy=\"-35.5\" rx=\"14.5\" ry=\"14.5\"/>\n",
       "<text text-anchor=\"middle\" x=\"294.5\" y=\"-32.4\" font-family=\"Times,serif\" font-size=\"12.00\">3</text>\n",
       "</g>\n",
       "<!-- 0&#45;&gt;3 -->\n",
       "<g id=\"edge3\" class=\"edge\"><title>0&#45;&gt;3</title>\n",
       "<path fill=\"none\" stroke=\"DimGray\" d=\"M66.148,-15.689C106.66,-19.219 226.35,-29.649 273.8,-33.784\"/>\n",
       "<polygon fill=\"DimGray\" stroke=\"DimGray\" points=\"280,-34.324 273.788,-36.4931 277.011,-34.0637 274.023,-33.8033 274.023,-33.8033 274.023,-33.8033 277.011,-34.0637 274.257,-31.1135 280,-34.324 280,-34.324\"/>\n",
       "<text text-anchor=\"middle\" x=\"166.5\" y=\"-29.3\" font-family=\"Times,serif\" font-size=\"14.00\">b, c</text>\n",
       "</g>\n",
       "<!-- 1&#45;&gt;F1 -->\n",
       "<g id=\"edge4\" class=\"edge\"><title>1&#45;&gt;F1</title>\n",
       "<path fill=\"none\" stroke=\"black\" d=\"M133.365,-67.283C152,-87.6517 191.702,-131.047 205.031,-145.615\"/>\n",
       "<polygon fill=\"black\" stroke=\"black\" points=\"209.346,-150.331 203.304,-147.727 207.321,-148.118 205.296,-145.904 205.296,-145.904 205.296,-145.904 207.321,-148.118 207.288,-144.082 209.346,-150.331 209.346,-150.331\"/>\n",
       "</g>\n",
       "<!-- 1&#45;&gt;1 -->\n",
       "<g id=\"edge5\" class=\"edge\"><title>1&#45;&gt;1</title>\n",
       "<path fill=\"none\" stroke=\"black\" d=\"M117.48,-69.854C115.52,-79.445 117.52,-89 123.5,-89 128.17,-89 130.42,-83.168 130.24,-76.043\"/>\n",
       "<polygon fill=\"black\" stroke=\"black\" points=\"129.52,-69.854 132.895,-75.5018 129.867,-72.8339 130.213,-75.8138 130.213,-75.8138 130.213,-75.8138 129.867,-72.8339 127.532,-76.1258 129.52,-69.854 129.52,-69.854\"/>\n",
       "<text text-anchor=\"middle\" x=\"123.5\" y=\"-92.8\" font-family=\"Times,serif\" font-size=\"14.00\">b</text>\n",
       "</g>\n",
       "<!-- 2 -->\n",
       "<g id=\"node6\" class=\"node\"><title>2</title>\n",
       "<ellipse fill=\"#98f5ff\" stroke=\"black\" cx=\"209.5\" cy=\"-84.5\" rx=\"14.5\" ry=\"14.5\"/>\n",
       "<text text-anchor=\"middle\" x=\"209.5\" y=\"-81.4\" font-family=\"Times,serif\" font-size=\"12.00\">2</text>\n",
       "</g>\n",
       "<!-- 1&#45;&gt;2 -->\n",
       "<g id=\"edge6\" class=\"edge\"><title>1&#45;&gt;2</title>\n",
       "<path fill=\"none\" stroke=\"black\" d=\"M137.62,-60.875C151.56,-65.519 173.7,-72.901 189.53,-78.177\"/>\n",
       "<polygon fill=\"black\" stroke=\"black\" points=\"195.47,-80.156 188.924,-80.821 192.624,-79.2077 189.778,-78.2594 189.778,-78.2594 189.778,-78.2594 192.624,-79.2077 190.631,-75.6979 195.47,-80.156 195.47,-80.156\"/>\n",
       "<text text-anchor=\"middle\" x=\"166.5\" y=\"-78.3\" font-family=\"Times,serif\" font-size=\"14.00\">a</text>\n",
       "</g>\n",
       "<!-- 1&#45;&gt;3 -->\n",
       "<g id=\"edge7\" class=\"edge\"><title>1&#45;&gt;3</title>\n",
       "<path fill=\"none\" stroke=\"DimGray\" d=\"M137.98,-54.176C152.15,-51.786 175.1,-48.061 195,-45.5 222.23,-41.996 253.82,-38.972 273.73,-37.193\"/>\n",
       "<polygon fill=\"DimGray\" stroke=\"DimGray\" points=\"279.77,-36.66 274.031,-39.8771 276.782,-36.9238 273.793,-37.1875 273.793,-37.1875 273.793,-37.1875 276.782,-36.9238 273.556,-34.498 279.77,-36.66 279.77,-36.66\"/>\n",
       "<text text-anchor=\"middle\" x=\"209.5\" y=\"-49.3\" font-family=\"Times,serif\" font-size=\"14.00\">c</text>\n",
       "</g>\n",
       "<!-- 2&#45;&gt;F2 -->\n",
       "<g id=\"edge8\" class=\"edge\"><title>2&#45;&gt;F2</title>\n",
       "<path fill=\"none\" stroke=\"black\" d=\"M223.919,-87.3838C242.824,-91.1647 275.145,-97.6291 288.478,-100.296\"/>\n",
       "<polygon fill=\"black\" stroke=\"black\" points=\"294.366,-101.473 287.953,-102.944 291.425,-100.885 288.483,-100.296 288.483,-100.296 288.483,-100.296 291.425,-100.885 289.012,-97.6489 294.366,-101.473 294.366,-101.473\"/>\n",
       "</g>\n",
       "<!-- 2&#45;&gt;2 -->\n",
       "<g id=\"edge9\" class=\"edge\"><title>2&#45;&gt;2</title>\n",
       "<path fill=\"none\" stroke=\"black\" d=\"M202.56,-97.515C200.13,-107.22 202.45,-117 209.5,-117 215.01,-117 217.63,-111.03 217.36,-103.79\"/>\n",
       "<polygon fill=\"black\" stroke=\"black\" points=\"216.44,-97.515 219.982,-103.06 216.875,-100.483 217.31,-103.452 217.31,-103.452 217.31,-103.452 216.875,-100.483 214.639,-103.843 216.44,-97.515 216.44,-97.515\"/>\n",
       "<text text-anchor=\"middle\" x=\"209.5\" y=\"-120.8\" font-family=\"Times,serif\" font-size=\"14.00\">b</text>\n",
       "</g>\n",
       "<!-- 2&#45;&gt;3 -->\n",
       "<g id=\"edge10\" class=\"edge\"><title>2&#45;&gt;3</title>\n",
       "<path fill=\"none\" stroke=\"DimGray\" d=\"M222.39,-77.479C236.44,-69.183 259.95,-55.308 276.06,-45.796\"/>\n",
       "<polygon fill=\"DimGray\" stroke=\"DimGray\" points=\"281.63,-42.507 277.836,-47.8827 279.047,-44.0324 276.463,-45.5578 276.463,-45.5578 276.463,-45.5578 279.047,-44.0324 275.091,-43.2329 281.63,-42.507 281.63,-42.507\"/>\n",
       "<text text-anchor=\"middle\" x=\"252\" y=\"-70.3\" font-family=\"Times,serif\" font-size=\"14.00\">a, c</text>\n",
       "</g>\n",
       "<!-- 3&#45;&gt;3 -->\n",
       "<g id=\"edge11\" class=\"edge\"><title>3&#45;&gt;3</title>\n",
       "<path fill=\"none\" stroke=\"DimGray\" d=\"M287.56,-48.515C285.13,-58.219 287.45,-68 294.5,-68 300.01,-68 302.63,-62.03 302.36,-54.791\"/>\n",
       "<polygon fill=\"DimGray\" stroke=\"DimGray\" points=\"301.44,-48.515 304.982,-54.0599 301.875,-51.4833 302.31,-54.4516 302.31,-54.4516 302.31,-54.4516 301.875,-51.4833 299.639,-54.8432 301.44,-48.515 301.44,-48.515\"/>\n",
       "<text text-anchor=\"middle\" x=\"294.5\" y=\"-71.8\" font-family=\"Times,serif\" font-size=\"14.00\">[^]</text>\n",
       "</g>\n",
       "</g>\n",
       "</svg>\n"
      ],
      "text/plain": [
       "mutable_automaton<context<letterset<char_letters>, b>>"
      ]
     },
     "execution_count": 13,
     "metadata": {},
     "output_type": "execute_result"
    }
   ],
   "source": [
    "a3.determinize().strip().complete()"
   ]
  },
  {
   "cell_type": "markdown",
   "metadata": {},
   "source": [
    "Note that useless states and transitions are grayed."
   ]
  },
  {
   "cell_type": "markdown",
   "metadata": {},
   "source": [
    "To evaluate a word on an automaton, use `evaluate()`, or simpler yet: use the automaton as if it were a function:"
   ]
  },
  {
   "cell_type": "code",
   "execution_count": 14,
   "metadata": {},
   "outputs": [
    {
     "data": {
      "text/latex": [
       "$\\top$"
      ],
      "text/plain": [
       "1"
      ]
     },
     "execution_count": 14,
     "metadata": {},
     "output_type": "execute_result"
    }
   ],
   "source": [
    "a3.evaluate(\"a\")"
   ]
  },
  {
   "cell_type": "code",
   "execution_count": 15,
   "metadata": {},
   "outputs": [
    {
     "data": {
      "text/latex": [
       "$\\bot$"
      ],
      "text/plain": [
       "0"
      ]
     },
     "execution_count": 15,
     "metadata": {},
     "output_type": "execute_result"
    }
   ],
   "source": [
    "a3(\"b\")"
   ]
  },
  {
   "cell_type": "markdown",
   "metadata": {},
   "source": [
    "To see the 10 first accepted words (if there are that many), use [automaton.shortest](automaton.shortest.ipynb):"
   ]
  },
  {
   "cell_type": "code",
   "execution_count": 16,
   "metadata": {},
   "outputs": [
    {
     "data": {
      "text/latex": [
       "$\\mathit{a} \\oplus \\mathit{aa} \\oplus \\mathit{ab} \\oplus \\mathit{aab} \\oplus \\mathit{aba} \\oplus \\mathit{abb} \\oplus \\mathit{aabb} \\oplus \\mathit{abab} \\oplus \\mathit{abba} \\oplus \\mathit{abbb}$"
      ],
      "text/plain": [
       "a + aa + ab + aab + aba + abb + aabb + abab + abba + abbb"
      ]
     },
     "execution_count": 16,
     "metadata": {},
     "output_type": "execute_result"
    }
   ],
   "source": [
    "a3.shortest(10)"
   ]
  },
  {
   "cell_type": "markdown",
   "metadata": {},
   "source": [
    "To extract a rational expression from the automaton, use `expression()`:"
   ]
  },
  {
   "cell_type": "code",
   "execution_count": 17,
   "metadata": {},
   "outputs": [
    {
     "data": {
      "text/latex": [
       "$a \\, {b}^{*} + a \\, {b}^{*} \\, a \\, {b}^{*}$"
      ],
      "text/plain": [
       "ab*+ab*ab*"
      ]
     },
     "execution_count": 17,
     "metadata": {},
     "output_type": "execute_result"
    }
   ],
   "source": [
    "a3.expression()"
   ]
  },
  {
   "cell_type": "markdown",
   "metadata": {},
   "source": [
    "This concludes this quick overview of Vcsn's IPython interface.  You should now proceed to discover other features in other notebooks."
   ]
  }
 ],
 "metadata": {
  "kernelspec": {
   "display_name": "Python 3",
   "language": "python",
   "name": "python3"
  },
  "language_info": {
   "codemirror_mode": {
    "name": "ipython",
    "version": 3
   },
   "file_extension": ".py",
   "mimetype": "text/x-python",
   "name": "python",
   "nbconvert_exporter": "python",
   "pygments_lexer": "ipython3",
   "version": "3.6.5"
  }
 },
 "nbformat": 4,
 "nbformat_minor": 1
}
