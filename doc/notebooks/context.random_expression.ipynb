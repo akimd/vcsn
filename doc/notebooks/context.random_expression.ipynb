{
 "cells": [
  {
   "cell_type": "markdown",
   "metadata": {},
   "source": [
    "# _`context`_.`random_expression(params, length=6,  identities=\"default\")`\n",
    "\n",
    "Generate a random rational expression.\n",
    "\n",
    "Arguments:\n",
    "- `params`: string list operators of the generated expression, with associated densities (1 by default).\n",
    "- `length`: the maximum length (defaults to 6).\n",
    "- `identities`: the identities of the resulting expression.\n",
    "\n",
    "Supported operators:\n",
    "- nullary: `\\e`, `\\z`\n",
    "- unary: `!` (prefix), `{c}`, `*`, `w.`, `.w`\n",
    "- binary: `&`, `&:`, `:`, `.`, `<+`, `%`, `+`, `{/}`, `{\\}`, `{T}`\n",
    "\n",
    "See also:\n",
    "- [Expressions](Expressions.ipynb) – the documentation about expressions (and identities)\n",
    "- [context.random_weight](context.random_weight.ipynb)"
   ]
  },
  {
   "cell_type": "markdown",
   "metadata": {
    "collapsed": true
   },
   "source": [
    "## Examples"
   ]
  },
  {
   "cell_type": "code",
   "execution_count": 1,
   "metadata": {},
   "outputs": [],
   "source": [
    "import vcsn\n",
    "\n",
    "# In this documentation, ensure reproducible random values.\n",
    "vcsn.setenv(SEED=1)\n",
    "\n",
    "from IPython.display import display\n",
    "ctx = vcsn.context('lal_char(abc), b')"
   ]
  },
  {
   "cell_type": "markdown",
   "metadata": {},
   "source": [
    "Densities are expressed with Bernoulli distribution if the operator is the only one, and discrete distribution otherwise. \n",
    "\n",
    "The default coefficient is 1, therefore in the following example \"`+`\" is twice more likely to appear than \"`.`\", and \"`*`\" is twice less."
   ]
  },
  {
   "cell_type": "code",
   "execution_count": 2,
   "metadata": {},
   "outputs": [
    {
     "data": {
      "text/latex": [
       "$\\left(b \\, a\\right)^{*}$"
      ],
      "text/plain": [
       "(ba)*"
      ]
     },
     "metadata": {},
     "output_type": "display_data"
    },
    {
     "data": {
      "text/latex": [
       "$c \\, \\left(a + c\\right)$"
      ],
      "text/plain": [
       "c(a+c)"
      ]
     },
     "metadata": {},
     "output_type": "display_data"
    },
    {
     "data": {
      "text/latex": [
       "$b + c$"
      ],
      "text/plain": [
       "b+c"
      ]
     },
     "metadata": {},
     "output_type": "display_data"
    }
   ],
   "source": [
    "for _ in range(3):\n",
    "    display(ctx.random_expression('+=2, ., *=0.5'))"
   ]
  },
  {
   "cell_type": "code",
   "execution_count": 3,
   "metadata": {},
   "outputs": [
    {
     "data": {
      "text/latex": [
       "$\\left(a \\, a \\& b + \\left(c \\, b\\right) \\, \\left(a \\& c\\right)\\right) \\, \\left(c \\, a\\right)$"
      ],
      "text/plain": [
       "(aa&b+(cb)(a&c))(ca)"
      ]
     },
     "metadata": {},
     "output_type": "display_data"
    },
    {
     "data": {
      "text/latex": [
       "$\\left(a \\, \\left(\\left(c \\, c\\right) \\, b\\right)\\right) \\, \\left(\\left(c \\, b\\right) \\, {{c}^{*}}^{*}\\right) + b$"
      ],
      "text/plain": [
       "(a((cc)b))((cb)c**)+b"
      ]
     },
     "metadata": {},
     "output_type": "display_data"
    },
    {
     "data": {
      "text/latex": [
       "${b}^{*} \\, \\left(\\left(a \\, c\\right) \\, c \\& \\left(b + \\left(a \\, b + a\\right)\\right)\\right) + c$"
      ],
      "text/plain": [
       "b*((ac)c&(b+(ab+a)))+c"
      ]
     },
     "metadata": {},
     "output_type": "display_data"
    }
   ],
   "source": [
    "for _ in range(3):\n",
    "    display(ctx.random_expression('.=2, +=2, &=1, *=0.5', length=20, identities='none'))"
   ]
  },
  {
   "cell_type": "markdown",
   "metadata": {},
   "source": [
    "### Weighted Expressions\n",
    "Weighted expressions can be generated.  Use the keys `w.` and `.w` to control the probability of left and right product by a weight.  Use the key `w` to pass parameters to the random weight generator."
   ]
  },
  {
   "cell_type": "code",
   "execution_count": 4,
   "metadata": {},
   "outputs": [
    {
     "data": {
      "text/latex": [
       "$ \\left\\langle -5 \\right\\rangle \\,\\left( \\left\\langle -5 \\right\\rangle \\,\\left( \\left\\langle 5 \\right\\rangle \\,\\left( \\left\\langle -1 \\right\\rangle \\,\\left(x + x\\right) + y\\right)\\right)\\right)$"
      ],
      "text/plain": [
       "<-5>(<-5>(<5>(<-1>(x+x)+y)))"
      ]
     },
     "metadata": {},
     "output_type": "display_data"
    },
    {
     "data": {
      "text/latex": [
       "$ \\left\\langle -5 \\right\\rangle \\,\\left( \\left\\langle -2 \\right\\rangle \\,\\left( \\left\\langle -1 \\right\\rangle \\,\\left(z + y\\right) + x\\right)\\right)$"
      ],
      "text/plain": [
       "<-5>(<-2>(<-1>(z+y)+x))"
      ]
     },
     "metadata": {},
     "output_type": "display_data"
    },
    {
     "data": {
      "text/latex": [
       "$\\left(x +  \\left\\langle -1 \\right\\rangle \\,z\\right) + \\left( \\left\\langle -1 \\right\\rangle \\,x + z\\right)$"
      ],
      "text/plain": [
       "(x+<-1>z)+(<-1>x+z)"
      ]
     },
     "metadata": {},
     "output_type": "display_data"
    }
   ],
   "source": [
    "qrand = vcsn.context('lal(xyz), z').random_expression\n",
    "for _ in range(3):\n",
    "    display(qrand('+, w., w=\"min=-5, max=5\"', length=10, identities='none'))"
   ]
  },
  {
   "cell_type": "markdown",
   "metadata": {},
   "source": [
    "Note that because of the identities, some weights might escape the specified range."
   ]
  },
  {
   "cell_type": "code",
   "execution_count": 5,
   "metadata": {},
   "outputs": [
    {
     "data": {
      "text/latex": [
       "$ \\left\\langle 5 \\right\\rangle \\,x +  \\left\\langle 2 \\right\\rangle \\,y +  \\left\\langle 2 \\right\\rangle \\,z$"
      ],
      "text/plain": [
       "<5>x+<2>y+<2>z"
      ]
     },
     "metadata": {},
     "output_type": "display_data"
    },
    {
     "data": {
      "text/latex": [
       "$ \\left\\langle 3 \\right\\rangle \\,\\left(z +  \\left\\langle 3 \\right\\rangle \\,\\left( \\left\\langle 17 \\right\\rangle \\,x +  \\left\\langle 2 \\right\\rangle \\,y +  \\left\\langle 2 \\right\\rangle \\,z\\right)\\right)$"
      ],
      "text/plain": [
       "<3>(z+<3>(<17>x+<2>y+<2>z))"
      ]
     },
     "metadata": {},
     "output_type": "display_data"
    },
    {
     "data": {
      "text/latex": [
       "$ \\left\\langle 4 \\right\\rangle \\,x + y + z$"
      ],
      "text/plain": [
       "<4>x+y+z"
      ]
     },
     "metadata": {},
     "output_type": "display_data"
    },
    {
     "data": {
      "text/latex": [
       "$ \\left\\langle 2 \\right\\rangle \\,\\left(y +  \\left\\langle 3 \\right\\rangle \\,z\\right) +  \\left\\langle 300 \\right\\rangle \\,\\left( \\left\\langle 5 \\right\\rangle \\,x +  \\left\\langle 5 \\right\\rangle \\,\\left(x + y\\right)\\right)$"
      ],
      "text/plain": [
       "<2>(y+<3>z)+<300>(<5>x+<5>(x+y))"
      ]
     },
     "metadata": {},
     "output_type": "display_data"
    },
    {
     "data": {
      "text/latex": [
       "$ \\left\\langle 12 \\right\\rangle \\,x +  \\left\\langle 5 \\right\\rangle \\,y + z$"
      ],
      "text/plain": [
       "<12>x+<5>y+z"
      ]
     },
     "metadata": {},
     "output_type": "display_data"
    }
   ],
   "source": [
    "for _ in range(5):\n",
    "    display(qrand('+, w., w=\"min=0, max=5\"', length=20))"
   ]
  }
 ],
 "metadata": {
  "kernelspec": {
   "display_name": "Python 3",
   "language": "python",
   "name": "python3"
  },
  "language_info": {
   "codemirror_mode": {
    "name": "ipython",
    "version": 3
   },
   "file_extension": ".py",
   "mimetype": "text/x-python",
   "name": "python",
   "nbconvert_exporter": "python",
   "pygments_lexer": "ipython3",
   "version": "3.5.4"
  }
 },
 "nbformat": 4,
 "nbformat_minor": 1
}
