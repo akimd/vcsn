{
 "cells": [
  {
   "cell_type": "markdown",
   "metadata": {},
   "source": [
    "# _`context`_.`random_expression(params, length=6,  identities=\"default\")`\n",
    "\n",
    "Generate a random rational expression.\n",
    "\n",
    "Arguments:\n",
    "- `params`: string list operators of the generated expression, with associated densities (1 by default).\n",
    "- `length`: the maximum length (defaults to 6).\n",
    "- `identities`: the identities of the resulting expression\n",
    "\n",
    "Supported operators:\n",
    "- nullary: `\\\\e`, `\\\\z`\n",
    "- unary: `!` (prefix), `{c}`, `*`, `w.`, `.w`\n",
    "- binary: `&`, `&:`, `:`, `.`, `<+`, `%`, `+`, `{/}`, `{\\\\}`, `{T}`\n",
    "\n",
    "See also:\n",
    "- [Expressions](Expressions.ipynb) – the documentation about expressions (and identities)\n",
    "- [context.random_weight](context.random_weight.ipynb)"
   ]
  },
  {
   "cell_type": "markdown",
   "metadata": {
    "collapsed": true
   },
   "source": [
    "## Examples"
   ]
  },
  {
   "cell_type": "code",
   "execution_count": 1,
   "metadata": {
    "collapsed": true
   },
   "outputs": [],
   "source": [
    "import os\n",
    "# This trick ensures that we always use the same random seed,\n",
    "# hence running this documentation always gives the same result.\n",
    "os.environ['VCSN_SEED'] = '1'\n",
    "import vcsn\n",
    "from IPython.display import display\n",
    "ctx = vcsn.context('lal_char(abc), b')"
   ]
  },
  {
   "cell_type": "markdown",
   "metadata": {},
   "source": [
    "Densities are expressed with Bernoulli distribution if the operator is the only one, and discrete distribution otherwise. \n",
    "\n",
    "The default coefficient is 1, therefore in the following example \"`+`\" is twice more likely to appear than \"`.`\", and \"`*`\" is twice less."
   ]
  },
  {
   "cell_type": "code",
   "execution_count": 2,
   "metadata": {
    "collapsed": false
   },
   "outputs": [
    {
     "data": {
      "text/latex": [
       "$\\left(b \\, \\left(a + b\\right)\\right)^{*}$"
      ],
      "text/plain": [
       "(b(a+b))*"
      ]
     },
     "metadata": {},
     "output_type": "display_data"
    },
    {
     "data": {
      "text/latex": [
       "$a + c$"
      ],
      "text/plain": [
       "a+c"
      ]
     },
     "metadata": {},
     "output_type": "display_data"
    },
    {
     "data": {
      "text/latex": [
       "$a + b \\, c \\, a$"
      ],
      "text/plain": [
       "a+bca"
      ]
     },
     "metadata": {},
     "output_type": "display_data"
    }
   ],
   "source": [
    "for _ in range(3):\n",
    "    display(ctx.random_expression('+=2, ., *=0.5'))"
   ]
  },
  {
   "cell_type": "code",
   "execution_count": 3,
   "metadata": {
    "collapsed": false
   },
   "outputs": [
    {
     "data": {
      "text/latex": [
       "$\\left(a \\& \\left(c \\, \\left(a + a\\right) \\& c\\right)\\right) \\& \\left(\\left(b \\, c\\right) \\, a + \\left(a \\, c\\right) \\, b\\right)^{*} + b$"
      ],
      "text/plain": [
       "(a&(c(a+a)&c))&((bc)a+(ac)b)*+b"
      ]
     },
     "metadata": {},
     "output_type": "display_data"
    },
    {
     "data": {
      "text/latex": [
       "$\\left(\\left(c \\, c\\right)^{*} \\& c + \\left({b}^{*} \\, \\left(\\left(\\left(c + b\\right) \\& a\\right) \\, \\left(b + {b}^{*}\\right)\\right)\\right)^{*}\\right) + \\left(c + a\\right) \\& a$"
      ],
      "text/plain": [
       "((cc)*&c+(b*(((c+b)&a)(b+b*)))*)+(c+a)&a"
      ]
     },
     "metadata": {},
     "output_type": "display_data"
    },
    {
     "data": {
      "text/latex": [
       "$\\left(b \\& \\left(c \\& c \\, a\\right)\\right) \\, \\left(\\left(\\left(c + a\\right) \\, a\\right)^{*} \\, \\left(c \\& c\\right)\\right) + b \\, \\left(a \\& \\left(a \\& a\\right)\\right)$"
      ],
      "text/plain": [
       "(b&(c&ca))(((c+a)a)*(c&c))+b(a&(a&a))"
      ]
     },
     "metadata": {},
     "output_type": "display_data"
    }
   ],
   "source": [
    "for _ in range(3):\n",
    "    display(ctx.random_expression('.=2, +=2, &=1, *=0.5', length=20, identities='none'))"
   ]
  },
  {
   "cell_type": "markdown",
   "metadata": {},
   "source": [
    "### Weighted Expressions\n",
    "Weighted expressions can be generated.  Use the keys `w.` and `.w` to control the probability of left and right product by a weight.  Use the key `w` to pass parameters to the random weight generator."
   ]
  },
  {
   "cell_type": "code",
   "execution_count": 4,
   "metadata": {
    "collapsed": false
   },
   "outputs": [
    {
     "data": {
      "text/latex": [
       "$ \\left\\langle -4 \\right\\rangle \\,\\left( \\left\\langle 1 \\right\\rangle \\,\\left( \\left\\langle -5 \\right\\rangle \\,\\left(\\left(x + \\left(x + z\\right)\\right) +  \\left\\langle -2 \\right\\rangle \\,\\left( \\left\\langle -4 \\right\\rangle \\,y\\right)\\right)\\right)\\right)$"
      ],
      "text/plain": [
       "<-4>(<1>(<-5>((x+(x+z))+<-2>(<-4>y))))"
      ]
     },
     "metadata": {},
     "output_type": "display_data"
    },
    {
     "data": {
      "text/latex": [
       "$ \\left\\langle -1 \\right\\rangle \\,x +  \\left\\langle -4 \\right\\rangle \\,\\left(x + \\left(x +  \\left\\langle -3 \\right\\rangle \\,\\left(z +  \\left\\langle 1 \\right\\rangle \\,\\left( \\left\\langle -2 \\right\\rangle \\,y\\right)\\right)\\right)\\right)$"
      ],
      "text/plain": [
       "<-1>x+<-4>(x+(x+<-3>(z+<1>(<-2>y))))"
      ]
     },
     "metadata": {},
     "output_type": "display_data"
    },
    {
     "data": {
      "text/latex": [
       "$y + \\left( \\left\\langle -5 \\right\\rangle \\,\\left( \\left\\langle -3 \\right\\rangle \\,x + x\\right) + \\left(z + \\left(z + z\\right)\\right)\\right)$"
      ],
      "text/plain": [
       "y+(<-5>(<-3>x+x)+(z+(z+z)))"
      ]
     },
     "metadata": {},
     "output_type": "display_data"
    }
   ],
   "source": [
    "qrand = vcsn.context('lal(xyz), z').random_expression\n",
    "for _ in range(3):\n",
    "    display(qrand('+, w., w=\"min=-5, max=5\"', length=10, identities='none'))"
   ]
  },
  {
   "cell_type": "markdown",
   "metadata": {},
   "source": [
    "Note that because of the identities, some weights might escape the specified range."
   ]
  },
  {
   "cell_type": "code",
   "execution_count": 5,
   "metadata": {
    "collapsed": false
   },
   "outputs": [
    {
     "data": {
      "text/latex": [
       "$ \\left\\langle -10 \\right\\rangle \\,\\left( \\left\\langle 4 \\right\\rangle \\,x +  \\left\\langle 4 \\right\\rangle \\,y\\right)$"
      ],
      "text/plain": [
       "<-10>(<4>x+<4>y)"
      ]
     },
     "metadata": {},
     "output_type": "display_data"
    },
    {
     "data": {
      "text/latex": [
       "$ \\left\\langle 6 \\right\\rangle \\,x$"
      ],
      "text/plain": [
       "<6>x"
      ]
     },
     "metadata": {},
     "output_type": "display_data"
    },
    {
     "data": {
      "text/latex": [
       "$ \\left\\langle -4 \\right\\rangle \\,\\left( \\left\\langle 2 \\right\\rangle \\,x +  \\left\\langle 2 \\right\\rangle \\,y +  \\left\\langle 2 \\right\\rangle \\,z\\right)$"
      ],
      "text/plain": [
       "<-4>(<2>x+<2>y+<2>z)"
      ]
     },
     "metadata": {},
     "output_type": "display_data"
    },
    {
     "data": {
      "text/latex": [
       "$ \\left\\langle 4 \\right\\rangle \\,\\left( \\left\\langle -75 \\right\\rangle \\,y +  \\left\\langle -4 \\right\\rangle \\,z\\right)$"
      ],
      "text/plain": [
       "<4>(<-75>y+<-4>z)"
      ]
     },
     "metadata": {},
     "output_type": "display_data"
    },
    {
     "data": {
      "text/latex": [
       "$ \\left\\langle -5 \\right\\rangle \\,\\left( \\left\\langle -4 \\right\\rangle \\,x +  \\left\\langle 60 \\right\\rangle \\,\\left(x + y\\right)\\right)$"
      ],
      "text/plain": [
       "<-5>(<-4>x+<60>(x+y))"
      ]
     },
     "metadata": {},
     "output_type": "display_data"
    }
   ],
   "source": [
    "for _ in range(5):\n",
    "    display(qrand('+, w., w=\"min=-5, max=5\"', length=10))"
   ]
  }
 ],
 "metadata": {
  "kernelspec": {
   "display_name": "Python 3",
   "language": "python",
   "name": "python3"
  },
  "language_info": {
   "codemirror_mode": {
    "name": "ipython",
    "version": 3
   },
   "file_extension": ".py",
   "mimetype": "text/x-python",
   "name": "python",
   "nbconvert_exporter": "python",
   "pygments_lexer": "ipython3",
   "version": "3.5.2"
  }
 },
 "nbformat": 4,
 "nbformat_minor": 0
}
