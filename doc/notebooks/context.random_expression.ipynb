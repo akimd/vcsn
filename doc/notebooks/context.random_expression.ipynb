{
 "cells": [
  {
   "cell_type": "markdown",
   "metadata": {},
   "source": [
    "# _`context`_.`random_expression(params=\"default\", length=10,  identities=\"default\")`\n",
    "\n",
    "Generate a random rational expression.\n",
    "\n",
    "Arguments:\n",
    "- `params`: string list operators of the generated expression, with associated densities (1 by default).  If `params` is `\"\"` or `\"default\"`, then it denotes `\"l, \\e=.2, +, ., *=.2\"` (i.e., basic non-weighted expressions, no extended operators).\n",
    "- `length`: the maximum length (defaults to 10).\n",
    "- `identities`: the identities of the resulting expression.\n",
    "\n",
    "Supported operators:\n",
    "- nullary: `l` (for labels), `\\e`, `\\z`.   Unless specified explicitly, labels are set to 1.\n",
    "- unary: `!` (prefix), `{c}`, `*`, `w.`, `.w`.\n",
    "- binary: `&`, `&:`, `:`, `.`, `<+`, `%`, `+`, `{/}`, `{\\}`, `{T}`.\n",
    "\n",
    "Preconditions:\n",
    "- at least one nullary operator (`l`, `\\e`, `\\z`) has a non-zero weight.\n",
    "\n",
    "Caveat:\n",
    "- the length is faithfully respected *before* identities are applied.\n",
    "- if there are no unary operators, the resulting length might be smaller than demanded.\n",
    "- identities might introduce generate unexpected weights.\n",
    "\n",
    "See also:\n",
    "- [Expressions](Expressions.ipynb) – the documentation about expressions (and identities)\n",
    "- [context.random_weight](context.random_weight.ipynb)"
   ]
  },
  {
   "cell_type": "markdown",
   "metadata": {
    "collapsed": true
   },
   "source": [
    "## Examples"
   ]
  },
  {
   "cell_type": "code",
   "execution_count": 1,
   "metadata": {},
   "outputs": [],
   "source": [
    "import vcsn\n",
    "\n",
    "# In this documentation, ensure reproducible random values.\n",
    "vcsn.setenv(SEED=1)\n",
    "\n",
    "from IPython.display import display\n",
    "ctx = vcsn.context('[abc]')"
   ]
  },
  {
   "cell_type": "markdown",
   "metadata": {},
   "source": [
    "Densities are expressed with Bernoulli distribution if the operator is the only one, and discrete distribution otherwise. \n",
    "\n",
    "The default coefficient is 1, therefore in the following example `+` is twice more likely to appear than `.`, and `*` is twice less."
   ]
  },
  {
   "cell_type": "code",
   "execution_count": 2,
   "metadata": {},
   "outputs": [
    {
     "data": {
      "text/latex": [
       "$\\left({a}^{*} \\, {c}^{*} \\, b\\right)^{*}$"
      ],
      "text/plain": [
       "(a*c*b)*"
      ]
     },
     "metadata": {},
     "output_type": "display_data"
    },
    {
     "data": {
      "text/latex": [
       "$b \\, {c}^{*} \\, a \\, b \\, c$"
      ],
      "text/plain": [
       "bc*abc"
      ]
     },
     "metadata": {},
     "output_type": "display_data"
    },
    {
     "data": {
      "text/latex": [
       "$a + b + {a}^{*}$"
      ],
      "text/plain": [
       "a+b+a*"
      ]
     },
     "metadata": {},
     "output_type": "display_data"
    }
   ],
   "source": [
    "for _ in range(3):\n",
    "    display(ctx.random_expression('+=2, ., *=0.5'))"
   ]
  },
  {
   "cell_type": "code",
   "execution_count": 3,
   "metadata": {},
   "outputs": [
    {
     "data": {
      "text/latex": [
       "$\\left({c}^{*} \\, c\\right) \\, \\left(\\left({b}^{*} \\, c + \\left(a \\, {c}^{*} + a\\right)\\right) \\, {b}^{*}\\right)^{*}$"
      ],
      "text/plain": [
       "(c*c)((b*c+(ac*+a))b*)*"
      ]
     },
     "metadata": {},
     "output_type": "display_data"
    },
    {
     "data": {
      "text/latex": [
       "$\\left({a}^{*} + c\\right) + \\left(\\left(\\left(c \\, {a}^{*}\\right) \\, a + b\\right) \\, \\left(a \\& {c}^{*}\\right)\\right) \\, b$"
      ],
      "text/plain": [
       "(a*+c)+(((ca*)a+b)(a&c*))b"
      ]
     },
     "metadata": {},
     "output_type": "display_data"
    },
    {
     "data": {
      "text/latex": [
       "$\\left(a \\& \\left(b \\& c\\right) + b \\, a\\right) \\, \\left(\\left(b + {{a}^{*}}^{*}\\right) + {a}^{*} \\, c\\right)$"
      ],
      "text/plain": [
       "(a&(b&c)+ba)((b+a**)+a*c)"
      ]
     },
     "metadata": {},
     "output_type": "display_data"
    }
   ],
   "source": [
    "for _ in range(3):\n",
    "    display(ctx.random_expression('.=2, +=2, &=1, *=0.5', length=20, identities='none'))"
   ]
  },
  {
   "cell_type": "markdown",
   "metadata": {},
   "source": [
    "The defaults should generate reasonable expressions:"
   ]
  },
  {
   "cell_type": "code",
   "execution_count": 4,
   "metadata": {},
   "outputs": [
    {
     "data": {
      "text/html": [
       "<table>\n",
       "<tr>\n",
       "<td>No identities</td>\n",
       "<td>Length</td>\n",
       "<td>Default identities</td>\n",
       "<td>Length</td>\n",
       "</tr>\n",
       "<tr>\n",
       "<td>${b}^{*} \\, \\left({a}^{*} + \\left({a}^{*} + c\\right)\\right)$</td>\n",
       "<td>10</td>\n",
       "<td>${b}^{*} \\, \\left(c + {a}^{*}\\right)$</td>\n",
       "<td>7</td>\n",
       "</tr>\n",
       "<tr>\n",
       "<td>$\\left(\\left(c + c\\right) + \\left({c}^{*} + b\\right)\\right) + a$</td>\n",
       "<td>10</td>\n",
       "<td>$a + b + c + {c}^{*}$</td>\n",
       "<td>8</td>\n",
       "</tr>\n",
       "<tr>\n",
       "<td>$b + \\left(\\left(b + {c}^{*}\\right) + {\\varepsilon}^{2}\\right)$</td>\n",
       "<td>10</td>\n",
       "<td>$\\varepsilon + b + {c}^{*}$</td>\n",
       "<td>6</td>\n",
       "</tr>\n",
       "<tr>\n",
       "<td>$b + {a}^{*} \\, \\left({c}^{*} + b\\right)^{*}$</td>\n",
       "<td>10</td>\n",
       "<td>$b + {a}^{*} \\, \\left(b + {c}^{*}\\right)^{*}$</td>\n",
       "<td>10</td>\n",
       "</tr>\n",
       "<tr>\n",
       "<td>${b}^{*} + \\left({\\varepsilon}^{*} \\, b + {c}^{*}\\right)$</td>\n",
       "<td>10</td>\n",
       "<td>${b}^{*} + {c}^{*} + {\\varepsilon}^{*} \\, b$</td>\n",
       "<td>10</td>\n",
       "</tr>\n",
       "<tr>\n",
       "<td>$c + \\left(a \\, \\varepsilon + \\left({a}^{*} + c\\right)\\right)$</td>\n",
       "<td>10</td>\n",
       "<td>$a + c + {a}^{*}$</td>\n",
       "<td>6</td>\n",
       "</tr>\n",
       "<tr>\n",
       "<td>$\\left(c + {c}^{*} \\, \\left(c + c\\right)\\right) + \\varepsilon$</td>\n",
       "<td>10</td>\n",
       "<td>$\\varepsilon + c + {c}^{*} \\, c$</td>\n",
       "<td>8</td>\n",
       "</tr>\n",
       "<tr>\n",
       "<td>$\\left(c \\, {b}^{*}\\right) \\, \\left(c + \\left(b + a\\right)\\right)$</td>\n",
       "<td>10</td>\n",
       "<td>$c \\, {b}^{*} \\, \\left(a + b + c\\right)$</td>\n",
       "<td>10</td>\n",
       "</tr>\n",
       "<tr>\n",
       "<td>$\\left(a + a \\, a\\right)^{*} + \\left(b + b\\right)$</td>\n",
       "<td>10</td>\n",
       "<td>$b + \\left(a + a \\, a\\right)^{*}$</td>\n",
       "<td>8</td>\n",
       "</tr>\n",
       "<tr>\n",
       "<td>$\\left(\\left({b}^{*} \\, a\\right) \\, \\left({b}^{*} \\, c\\right)\\right)^{*}$</td>\n",
       "<td>10</td>\n",
       "<td>$\\left({b}^{*} \\, a \\, {b}^{*} \\, c\\right)^{*}$</td>\n",
       "<td>10</td>\n",
       "</tr>\n",
       "</table>"
      ],
      "text/latex": [
       "\\begin{array}{cccc}\n",
       "  No identities & Length & Default identities & Length \\\\\n",
       "  {b}^*\\paren{{a}^* + \\left({a}^* + c}\\right) & 10 & {b}^*\\paren{c + {a}^*} & 7 \\\\\n",
       "  \\paren{\\left(c + c} + \\paren{{c}^* + b}\\right) + a & 10 & a + b + c + {c}^* & 8 \\\\\n",
       "  b + \\paren{\\left(b + {c}^*} + {\\eword}^{2}\\right) & 10 & \\eword + b + {c}^* & 6 \\\\\n",
       "  b + {a}^*\\paren{{c}^* + b}^* & 10 & b + {a}^*\\paren{b + {c}^*}^* & 10 \\\\\n",
       "  {b}^* + \\paren{{\\eword}^*b + {c}^*} & 10 & {b}^* + {c}^* + {\\eword}^*b & 10 \\\\\n",
       "  c + \\paren{a\\eword + \\left({a}^* + c}\\right) & 10 & a + c + {a}^* & 6 \\\\\n",
       "  \\paren{c + {c}^*\\left(c + c}\\right) + \\eword & 10 & \\eword + c + {c}^*c & 8 \\\\\n",
       "  \\paren{c{b}^*}\\paren{c + \\left(b + a}\\right) & 10 & c{b}^*\\paren{a + b + c} & 10 \\\\\n",
       "  \\paren{a + aa}^* + \\paren{b + b} & 10 & b + \\paren{a + aa}^* & 8 \\\\\n",
       "  \\paren{\\left({b}^*a}\\paren{{b}^*c}\\right)^* & 10 & \\paren{{b}^*a{b}^*c}^* & 10 \\\\\n",
       "\\end{array}"
      ],
      "text/plain": [
       "[['No identities', 'Length', 'Default identities', 'Length'],\n",
       " [b*(a*+(a*+c)), 10, b*(c+a*), 7],\n",
       " [((c+c)+(c*+b))+a, 10, a+b+c+c*, 8],\n",
       " [b+((b+c*)+\\e{2}), 10, \\e+b+c*, 6],\n",
       " [b+a*(c*+b)*, 10, b+a*(b+c*)*, 10],\n",
       " [b*+(\\e*b+c*), 10, b*+c*+\\e*b, 10],\n",
       " [c+(a\\e+(a*+c)), 10, a+c+a*, 6],\n",
       " [(c+c*(c+c))+\\e, 10, \\e+c+c*c, 8],\n",
       " [(cb*)(c+(b+a)), 10, cb*(a+b+c), 10],\n",
       " [(a+aa)*+(b+b), 10, b+(a+aa)*, 8],\n",
       " [((b*a)(b*c))*, 10, (b*ab*c)*, 10]]"
      ]
     },
     "execution_count": 4,
     "metadata": {},
     "output_type": "execute_result"
    }
   ],
   "source": [
    "res = [[\"No identities\", \"Length\", \"Default identities\", \"Length\"]]\n",
    "for _ in range(10):\n",
    "    e1 = ctx.random_expression(identities='none')\n",
    "    e2 = e1.expression()\n",
    "    res.append([e1, e1.info('length'), e2, e2.info('length')])\n",
    "vcsn.table(res)"
   ]
  },
  {
   "cell_type": "markdown",
   "metadata": {},
   "source": [
    "### Weighted Expressions\n",
    "Weighted expressions can be generated.  Use the keys `w.` and `.w` to control the probability of left and right product by a weight.  Use the key `w` to pass parameters to the random weight generator."
   ]
  },
  {
   "cell_type": "code",
   "execution_count": 5,
   "metadata": {},
   "outputs": [
    {
     "data": {
      "text/latex": [
       "$\\left( \\left\\langle 4 \\right\\rangle \\,z +  \\left\\langle -5 \\right\\rangle \\,x\\right) + \\left(x +  \\left\\langle -4 \\right\\rangle \\,x\\right)$"
      ],
      "text/plain": [
       "(<4>z+<-5>x)+(x+<-4>x)"
      ]
     },
     "metadata": {},
     "output_type": "display_data"
    },
    {
     "data": {
      "text/latex": [
       "$ \\left\\langle 2 \\right\\rangle \\,z + \\left( \\left\\langle 0 \\right\\rangle \\,\\left( \\left\\langle 4 \\right\\rangle \\,\\left(y + x\\right)\\right) + y\\right)$"
      ],
      "text/plain": [
       "<2>z+(<0>(<4>(y+x))+y)"
      ]
     },
     "metadata": {},
     "output_type": "display_data"
    },
    {
     "data": {
      "text/latex": [
       "$ \\left\\langle 1 \\right\\rangle \\,\\left( \\left\\langle -1 \\right\\rangle \\,\\left( \\left\\langle 4 \\right\\rangle \\,\\left( \\left\\langle 3 \\right\\rangle \\,\\left(\\left( \\left\\langle 5 \\right\\rangle \\,y + x\\right) + y\\right)\\right)\\right)\\right)$"
      ],
      "text/plain": [
       "<1>(<-1>(<4>(<3>((<5>y+x)+y))))"
      ]
     },
     "metadata": {},
     "output_type": "display_data"
    }
   ],
   "source": [
    "qrand = vcsn.context('[xyz] -> z').random_expression\n",
    "for _ in range(3):\n",
    "    display(qrand('+, w., w=\"min=-5, max=5\"', identities='none'))"
   ]
  },
  {
   "cell_type": "markdown",
   "metadata": {},
   "source": [
    "Note that because of the identities, some weights might escape the specified range."
   ]
  },
  {
   "cell_type": "code",
   "execution_count": 6,
   "metadata": {},
   "outputs": [
    {
     "data": {
      "text/latex": [
       "$ \\left\\langle 2 \\right\\rangle \\,y +  \\left\\langle 3 \\right\\rangle \\,\\left(x +  \\left\\langle 3 \\right\\rangle \\,y +  \\left\\langle 3 \\right\\rangle \\,z\\right)$"
      ],
      "text/plain": [
       "<2>y+<3>(x+<3>y+<3>z)"
      ]
     },
     "metadata": {},
     "output_type": "display_data"
    },
    {
     "data": {
      "text/latex": [
       "$ \\left\\langle 41 \\right\\rangle \\,x + y +  \\left\\langle 2 \\right\\rangle \\,z$"
      ],
      "text/plain": [
       "<41>x+y+<2>z"
      ]
     },
     "metadata": {},
     "output_type": "display_data"
    },
    {
     "data": {
      "text/latex": [
       "$ \\left\\langle 9 \\right\\rangle \\,x +  \\left\\langle 7 \\right\\rangle \\,y + z$"
      ],
      "text/plain": [
       "<9>x+<7>y+z"
      ]
     },
     "metadata": {},
     "output_type": "display_data"
    },
    {
     "data": {
      "text/latex": [
       "$ \\left\\langle 2 \\right\\rangle \\,z +  \\left\\langle 30 \\right\\rangle \\,\\left( \\left\\langle 7 \\right\\rangle \\,x + y + z\\right)$"
      ],
      "text/plain": [
       "<2>z+<30>(<7>x+y+z)"
      ]
     },
     "metadata": {},
     "output_type": "display_data"
    },
    {
     "data": {
      "text/latex": [
       "$x + z +  \\left\\langle 15 \\right\\rangle \\,\\left( \\left\\langle 5 \\right\\rangle \\,y + z\\right) +  \\left\\langle 5 \\right\\rangle \\,\\left( \\left\\langle 3 \\right\\rangle \\,y +  \\left\\langle 4 \\right\\rangle \\,\\left(y + z\\right)\\right)$"
      ],
      "text/plain": [
       "x+z+<15>(<5>y+z)+<5>(<3>y+<4>(y+z))"
      ]
     },
     "metadata": {},
     "output_type": "display_data"
    }
   ],
   "source": [
    "for _ in range(5):\n",
    "    display(qrand('+, w., w=\"min=0, max=5\"', length=20))"
   ]
  }
 ],
 "metadata": {
  "kernelspec": {
   "display_name": "Python 3",
   "language": "python",
   "name": "python3"
  },
  "language_info": {
   "codemirror_mode": {
    "name": "ipython",
    "version": 3
   },
   "file_extension": ".py",
   "mimetype": "text/x-python",
   "name": "python",
   "nbconvert_exporter": "python",
   "pygments_lexer": "ipython3",
   "version": "3.5.4"
  }
 },
 "nbformat": 4,
 "nbformat_minor": 1
}
