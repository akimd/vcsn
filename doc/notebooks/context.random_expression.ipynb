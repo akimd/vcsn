{
 "cells": [
  {
   "cell_type": "markdown",
   "metadata": {},
   "source": [
    "# _`context`_.`random_expression(specs,`_`identities`_`=\"default\")`\n",
    "\n",
    "Generate random rational expressions.\n",
    "\n",
    "Arguments:\n",
    "- `specs`: string list operators of the generated expression, with associated densities. It is also possible to choose the maximum number of symbols (6 by default).\n",
    "- `identities`: the identities of the resulting expression\n",
    "\n",
    "The list of every operators:\n",
    "- nullary: `\\\\e` `\\\\z`\n",
    "- unary: `! (prefix)` `{c}` `*`\n",
    "- binary: `&` `&:` `:` `.` `<+` `%` `+` `{/}` `{\\\\}` `{T}`\n",
    "\n",
    "See also:\n",
    "- [expressions](Expressions.ipynb)"
   ]
  },
  {
   "cell_type": "markdown",
   "metadata": {
    "collapsed": true
   },
   "source": [
    "## Example"
   ]
  },
  {
   "cell_type": "code",
   "execution_count": 2,
   "metadata": {
    "collapsed": true
   },
   "outputs": [],
   "source": [
    "import vcsn\n",
    "ctx = vcsn.context('lal_char(a-z), b')"
   ]
  },
  {
   "cell_type": "markdown",
   "metadata": {},
   "source": [
    "Densities are expressed with bernoulli distribution if the operator is the only one, and discrete distribution otherwise. \n",
    "\n",
    "Here \"+\" is two time more likely to appear than \".\", and \"*\" has a probability of 1/2."
   ]
  },
  {
   "cell_type": "code",
   "execution_count": 3,
   "metadata": {
    "collapsed": false
   },
   "outputs": [
    {
     "data": {
      "text/latex": [
       "${i}^{*} \\, {t}^{*}$"
      ],
      "text/plain": [
       "i*t*"
      ]
     },
     "execution_count": 3,
     "metadata": {},
     "output_type": "execute_result"
    }
   ],
   "source": [
    "ctx.random_expression('+=2,.=1,*=0.5')"
   ]
  },
  {
   "cell_type": "code",
   "execution_count": 9,
   "metadata": {
    "collapsed": false
   },
   "outputs": [
    {
     "data": {
      "text/latex": [
       "${n}^{*} \\, {o}^{*} + r \\, s \\, r \\, r$"
      ],
      "text/plain": [
       "n*o*+rsrr"
      ]
     },
     "execution_count": 9,
     "metadata": {},
     "output_type": "execute_result"
    }
   ],
   "source": [
    "ctx.random_expression('.=2,+=2,{/}=1,*=0.5,symbols=20')"
   ]
  },
  {
   "cell_type": "code",
   "execution_count": null,
   "metadata": {
    "collapsed": true
   },
   "outputs": [],
   "source": []
  }
 ],
 "metadata": {
  "kernelspec": {
   "display_name": "Python 3",
   "language": "python",
   "name": "python3"
  },
  "language_info": {
   "codemirror_mode": {
    "name": "ipython",
    "version": 3
   },
   "file_extension": ".py",
   "mimetype": "text/x-python",
   "name": "python",
   "nbconvert_exporter": "python",
   "pygments_lexer": "ipython3",
   "version": "3.5.1+"
  }
 },
 "nbformat": 4,
 "nbformat_minor": 0
}
