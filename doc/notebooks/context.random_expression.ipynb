{
 "cells": [
  {
   "cell_type": "markdown",
   "metadata": {},
   "source": [
    "# _`context`_.`random_expression(specs, length=6,  identities=\"default\")`\n",
    "\n",
    "Generate a random rational expression.\n",
    "\n",
    "Arguments:\n",
    "- `specs`: string list operators of the generated expression, with associated densities (1 by default).\n",
    "- `length`: the maximum length.\n",
    "- `identities`: the identities of the resulting expression\n",
    "\n",
    "The list of every operators:\n",
    "- nullary: `\\\\e`, `\\\\z`\n",
    "- unary: `!` (prefix), `{c}`, `*`\n",
    "- binary: `&`, `&:`, `:`, `.`, `<+`, `%`, `+`, `{/}`, `{\\\\}`, `{T}`\n",
    "\n",
    "See also:\n",
    "- [Expressions](Expressions.ipynb) – the documentation about expressions (and identities)"
   ]
  },
  {
   "cell_type": "markdown",
   "metadata": {
    "collapsed": true
   },
   "source": [
    "## Example"
   ]
  },
  {
   "cell_type": "code",
   "execution_count": 1,
   "metadata": {
    "collapsed": true
   },
   "outputs": [],
   "source": [
    "import os\n",
    "# This trick ensures that we always use the same random seed,\n",
    "# hence running this documentation always gives the same result.\n",
    "os.environ['VCSN_SEED'] = '1'\n",
    "import vcsn\n",
    "from IPython.display import display\n",
    "ctx = vcsn.context('lal_char(abc), b')"
   ]
  },
  {
   "cell_type": "markdown",
   "metadata": {},
   "source": [
    "Densities are expressed with Bernoulli distribution if the operator is the only one, and discrete distribution otherwise. \n",
    "\n",
    "Here \"`+`\" is twice more likely to appear than \"`.`\", and \"`*`\" twice less."
   ]
  },
  {
   "cell_type": "code",
   "execution_count": 2,
   "metadata": {
    "collapsed": false
   },
   "outputs": [
    {
     "data": {
      "text/latex": [
       "$\\left(b \\, \\left(a + b\\right)\\right)^{*}$"
      ],
      "text/plain": [
       "(b(a+b))*"
      ]
     },
     "metadata": {},
     "output_type": "display_data"
    },
    {
     "data": {
      "text/latex": [
       "$a + c$"
      ],
      "text/plain": [
       "a+c"
      ]
     },
     "metadata": {},
     "output_type": "display_data"
    },
    {
     "data": {
      "text/latex": [
       "$a + b \\, c \\, a$"
      ],
      "text/plain": [
       "a+bca"
      ]
     },
     "metadata": {},
     "output_type": "display_data"
    }
   ],
   "source": [
    "for _ in range(3):\n",
    "    display(ctx.random_expression('+=2,.=1,*=0.5'))"
   ]
  },
  {
   "cell_type": "code",
   "execution_count": 3,
   "metadata": {
    "collapsed": false
   },
   "outputs": [
    {
     "data": {
      "text/latex": [
       "$\\left(a \\& \\left(c \\, \\left(a + a\\right) \\& c\\right)\\right) \\& \\left(\\left(b \\, c\\right) \\, a + \\left(a \\, c\\right) \\, b\\right)^{*} + b$"
      ],
      "text/plain": [
       "(a&(c(a+a)&c))&((bc)a+(ac)b)*+b"
      ]
     },
     "metadata": {},
     "output_type": "display_data"
    },
    {
     "data": {
      "text/latex": [
       "$\\left(\\left(c \\, c\\right)^{*} \\& c + \\left({b}^{*} \\, \\left(\\left(\\left(c + b\\right) \\& a\\right) \\, \\left(b + {b}^{*}\\right)\\right)\\right)^{*}\\right) + \\left(c + a\\right) \\& a$"
      ],
      "text/plain": [
       "((cc)*&c+(b*(((c+b)&a)(b+b*)))*)+(c+a)&a"
      ]
     },
     "metadata": {},
     "output_type": "display_data"
    },
    {
     "data": {
      "text/latex": [
       "$\\left(b \\& \\left(c \\& c \\, a\\right)\\right) \\, \\left(\\left(\\left(c + a\\right) \\, a\\right)^{*} \\, \\left(c \\& c\\right)\\right) + b \\, \\left(a \\& \\left(a \\& a\\right)\\right)$"
      ],
      "text/plain": [
       "(b&(c&ca))(((c+a)a)*(c&c))+b(a&(a&a))"
      ]
     },
     "metadata": {},
     "output_type": "display_data"
    }
   ],
   "source": [
    "for _ in range(3):\n",
    "    display(ctx.random_expression('.=2,+=2,&=1,*=0.5', length=20, identities='none'))"
   ]
  }
 ],
 "metadata": {
  "kernelspec": {
   "display_name": "Python 3",
   "language": "python",
   "name": "python3"
  },
  "language_info": {
   "codemirror_mode": {
    "name": "ipython",
    "version": 3
   },
   "file_extension": ".py",
   "mimetype": "text/x-python",
   "name": "python",
   "nbconvert_exporter": "python",
   "pygments_lexer": "ipython3",
   "version": "3.5.1"
  },
  "widgets": {
   "state": {},
   "version": "1.1.2"
  }
 },
 "nbformat": 4,
 "nbformat_minor": 0
}
