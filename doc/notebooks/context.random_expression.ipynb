{
 "cells": [
  {
   "cell_type": "markdown",
   "metadata": {},
   "source": [
    "# _`context`_.`random_expression(specs,`_`identities`_`=\"default\")`\n",
    "\n",
    "Generate a random rational expression.\n",
    "\n",
    "Arguments:\n",
    "- `specs`: string list operators of the generated expression, with associated densities (1 by default). The maximum lenght can also be set with `length` (6 by default).\n",
    "- `identities`: the identities of the resulting expression\n",
    "\n",
    "The list of every operators:\n",
    "- nullary: `\\\\e`, `\\\\z`\n",
    "- unary: `!` (prefix), `{c}`, `*`\n",
    "- binary: `&`, `&:`, `:`, `.`, `<+`, `%`, `+`, `{/}`, `{\\\\}`, `{T}`\n",
    "\n",
    "See also:\n",
    "- [expressions](Expressions.ipynb)"
   ]
  },
  {
   "cell_type": "markdown",
   "metadata": {
    "collapsed": true
   },
   "source": [
    "## Example"
   ]
  },
  {
   "cell_type": "code",
   "execution_count": 1,
   "metadata": {
    "collapsed": true
   },
   "outputs": [],
   "source": [
    "import os\n",
    "# This trick ensures that we always use the same random seed,\n",
    "# hence running this documentation always gives the same result.\n",
    "os.environ['VCSN_SEED'] = '1'\n",
    "import vcsn\n",
    "from IPython.display import display\n",
    "ctx = vcsn.context('lal_char(abc), b')"
   ]
  },
  {
   "cell_type": "markdown",
   "metadata": {},
   "source": [
    "Densities are expressed with Bernoulli distribution if the operator is the only one, and discrete distribution otherwise. \n",
    "\n",
    "Here \"`+`\" is twice more likely to appear than \"`.`\", and \"`*`\" has a probability of 1/2."
   ]
  },
  {
   "cell_type": "code",
   "execution_count": 2,
   "metadata": {
    "collapsed": false
   },
   "outputs": [
    {
     "data": {
      "text/latex": [
       "$\\left(b \\, c\\right)^{*} \\, a$"
      ],
      "text/plain": [
       "(bc)*a"
      ]
     },
     "metadata": {},
     "output_type": "display_data"
    },
    {
     "data": {
      "text/latex": [
       "$b + c$"
      ],
      "text/plain": [
       "b+c"
      ]
     },
     "metadata": {},
     "output_type": "display_data"
    },
    {
     "data": {
      "text/latex": [
       "${{a}^{*}}^{*} \\, c$"
      ],
      "text/plain": [
       "a**c"
      ]
     },
     "metadata": {},
     "output_type": "display_data"
    }
   ],
   "source": [
    "for _ in range(3):\n",
    "    display(ctx.random_expression('+=2,.=1,*=0.5'))"
   ]
  },
  {
   "cell_type": "code",
   "execution_count": 3,
   "metadata": {
    "collapsed": false
   },
   "outputs": [
    {
     "data": {
      "text/latex": [
       "$b \\, c \\, {a}^{*} \\, a \\, c \\, \\left(b + {c}^{*} + c \\& {c}^{*} + \\left(c \\, c\\right)^{*}\\right)$"
      ],
      "text/plain": [
       "bca*ac(b+c*+c&c*+(cc)*)"
      ]
     },
     "metadata": {},
     "output_type": "display_data"
    },
    {
     "data": {
      "text/latex": [
       "$\\left(c + c \\, a \\, {a}^{*}\\right) \\, a \\, \\left({a}^{*} \\& {a}^{*}\\right)$"
      ],
      "text/plain": [
       "(c+caa*)a(a*&a*)"
      ]
     },
     "metadata": {},
     "output_type": "display_data"
    },
    {
     "data": {
      "text/latex": [
       "$\\left({b}^{*} + {{b}^{*}}^{*} + {a}^{*} \\& \\left(a + {\\left({b}^{*} \\, b\\right)^{*}}^{*}\\right)\\right) \\& \\left(a + c\\right) \\, a$"
      ],
      "text/plain": [
       "(b*+b**+a*&(a+(b*b)**))&(a+c)a"
      ]
     },
     "metadata": {},
     "output_type": "display_data"
    }
   ],
   "source": [
    "for _ in range(3):\n",
    "    display(ctx.random_expression('.=2,+=2,&=1,*=0.5,length=20'))"
   ]
  }
 ],
 "metadata": {
  "kernelspec": {
   "display_name": "Python 3",
   "language": "python",
   "name": "python3"
  },
  "language_info": {
   "codemirror_mode": {
    "name": "ipython",
    "version": 3
   },
   "file_extension": ".py",
   "mimetype": "text/x-python",
   "name": "python",
   "nbconvert_exporter": "python",
   "pygments_lexer": "ipython3",
   "version": "3.5.1+"
  }
 },
 "nbformat": 4,
 "nbformat_minor": 0
}
