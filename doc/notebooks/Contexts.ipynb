{
 "cells": [
  {
   "cell_type": "markdown",
   "metadata": {},
   "source": [
    "## Contexts\n",
    "\n",
    "Contexts are central concept of Vcsn: they denote typing information about automata, rational expressions, etc.  This information is alike a function type: an input type (the _label_), and an output type (the _weight_).\n",
    "\n",
    "Contexts are created by the `vcsn.context` function which takes a string as input.  This string follows the following syntax:\n",
    "\n",
    "    <context> ::= <labelset> , <weightset>\n",
    "    \n",
    "i.e., a context name is composed of a labelset name, then a comma, then a weightset name.\n",
    "\n",
    "## Labelsets\n",
    "\n",
    "Different _LabelSets_ model multiple variations on _labels_,\n",
    "members of a monoid:\n",
    "\n",
    "* `letterset<` _genset_ `>`<br>\n",
    "  Fully defined by an alphabet $A$, its labels being just\n",
    "  letters.  It is simply denoted by $A$.  It corresponds to the usual\n",
    "  definition of an NFA.\n",
    "\n",
    "* `nullableset<` _labelset_ `>`<br>\n",
    "  Denoted by $A^?$, also defined by an alphabet $A$, its\n",
    "  labels being either letters or the empty word.  This corresponds to what\n",
    "  is often called $\\varepsilon$-NFAs.\n",
    "  \n",
    "* `wordset<` _genset_ `>` <br>\n",
    "  Denoted by $A^*$, also defined by an alphabet $A$, its labels\n",
    "  being (possibly empty) words on this alphabet.\n",
    "\n",
    "* `oneset`<br>\n",
    "  Denoted by $\\{1\\}$, containing a single label: 1, the empty word.\n",
    "\n",
    "* `tupleset<` _labelset1_ `, ` _labelset2_ `, ..., ` _labelsetn_ `>` <br>\n",
    "  Cartesian product of LabelSets, $L_1 \\times \\cdots \\times\n",
    "  L_n$. This type implements the concept of transducers with an arbitrary\n",
    "  number of \"tapes\". The concept is developed more in-depth here: [Transducers](Transducers.ipynb).\n",
    "\n",
    "## Gensets\n",
    "\n",
    "The gensets define the types of the letters, and sets of the valid letters.  There is currently a single genset type.\n",
    "\n",
    "* `char_letters`<br>\n",
    "  Specify that the letters are implemented as `char`.  Any `char` will be accepted.  The genset is said to be \"open\".\n",
    "\n",
    "* `char_letters(abc...)`<br>\n",
    "  Specify that the letters are implemented as `char`, and the genset is closed to `{a, b, c}`.  Any other `char` will be rejected.\n",
    "\n",
    "## Abbreviations for Labelsets\n",
    "\n",
    "There are a few abbreviations that are accepted.\n",
    "\n",
    "* `lal_char`: `letterset<char_letters>`\n",
    "* `lal_char(abc)`: `letterset<char_letters(abc)>`\n",
    "* `lan_char`: `nullableset<letterset<char_letters>>`\n",
    "* `law_char`: `wordset<letterset<char_letters>>`\n",
    "\n",
    "## Weightsets\n",
    "\n",
    "The _WeightSets_ define the semiring of the weights.  Builtin weights include:\n",
    "\n",
    "* `b` <br/>\n",
    "  The classical Booleans: $\\langle \\mathbb{B}, \\vee, \\wedge, \\bot, \\top \\rangle$\n",
    "\n",
    "* `z` <br/>\n",
    "  The integers coded as `int`s: $\\langle \\mathbb{Z}, +, \\times, 0, 1 \\rangle$\n",
    "\n",
    "* `q`<br/>\n",
    "  The rationals, coded as pairs of `int`s: $\\langle \\mathbb{Q}, +, \\times, 0, 1 \\rangle$\n",
    "  \n",
    "* `qmp`<br/>\n",
    "  The rationals, with support for multiprecision: $\\langle \\mathbb{Q}_\\text{mp}, +, \\times, 0, 1 \\rangle$\n",
    "  \n",
    "* `r` <br/>\n",
    "  The reals, coded as `double`s: $\\langle \\mathbb{R}, +, \\times, 0, 1 \\rangle$\n",
    "  \n",
    "* `nmin` <br/>\n",
    "  The tropical semiring, coded as `unsigned int`s: $\\langle \\mathbb{N} \\cup \\{\\infty\\}, \\min, +, \\infty, 0 \\rangle$\n",
    "  \n",
    "* `zmin` <br/>\n",
    "  The tropical semiring, coded as `int`s: $\\langle \\mathbb{Z} \\cup \\{\\infty\\}, \\min, +, \\infty, 0 \\rangle$\n",
    "  \n",
    "* `rmin` <br/>\n",
    "  The tropical semiring, coded as `floats`s: $\\langle \\mathbb{R} \\cup \\{\\infty\\}, \\min, +, \\infty, 0 \\rangle$\n",
    "  \n",
    "* `log` <br/>\n",
    "  The log semiring, coded as `double`s: $\\langle \\mathbb{R} \\cup \\{-\\infty, +\\infty\\}, \\oplus_\\mathrm{log}, +, +\\infty, 0 \\rangle$ (where $\\oplus_\\mathrm{log}$ denotes $x, y \\rightarrow - \\mathrm{log}(\\exp(-x) + \\exp(-y))$.\n",
    "\n",
    "* `f2`<br/>\n",
    "  The field: $\\langle \\mathbb{F}_2, \\oplus, \\wedge, 0, 1 \\rangle$ (where $\\oplus$ denotes the \"exclusive or\").\n",
    "  \n",
    "* `tupleset`<br/>\n",
    "  Cartesian product of WeightSets, $W_1 \\times \\cdots \\times W_n$."
   ]
  },
  {
   "cell_type": "markdown",
   "metadata": {},
   "source": [
    "## Examples\n",
    "\n",
    "The usual framework for automaton is to use letters as labels, and Booleans as weights:"
   ]
  },
  {
   "cell_type": "code",
   "execution_count": 1,
   "metadata": {},
   "outputs": [
    {
     "data": {
      "text/latex": [
       "$\\{a, b, c\\}\\to\\mathbb{B}$"
      ],
      "text/plain": [
       "{abc} -> B"
      ]
     },
     "execution_count": 1,
     "metadata": {},
     "output_type": "execute_result"
    }
   ],
   "source": [
    "import vcsn\n",
    "vcsn.context('lal<char(abc)>, b')"
   ]
  },
  {
   "cell_type": "markdown",
   "metadata": {},
   "source": [
    "If instead of a simple accepter that returns \"yes\" or \"no\", you want to compute an integer, work in $\\mathbb{Z}$:"
   ]
  },
  {
   "cell_type": "code",
   "execution_count": 2,
   "metadata": {},
   "outputs": [
    {
     "data": {
      "text/latex": [
       "$\\{a, b, c\\}\\to\\mathbb{Z}$"
      ],
      "text/plain": [
       "{abc} -> Z"
      ]
     },
     "execution_count": 2,
     "metadata": {},
     "output_type": "execute_result"
    }
   ],
   "source": [
    "vcsn.context('lal<char(abc)>, z')"
   ]
  },
  {
   "cell_type": "markdown",
   "metadata": {},
   "source": [
    "To use words on the usual alphabet as labels:"
   ]
  },
  {
   "cell_type": "code",
   "execution_count": 3,
   "metadata": {},
   "outputs": [
    {
     "data": {
      "text/latex": [
       "$\\{a, b, c, d, e, f, g, h, i, j, k, l, m, n, o, p, q, r, s, t, u, v, w, x, y, z\\}^*\\to\\mathbb{Z}$"
      ],
      "text/plain": [
       "{abcdefghijklmnopqrstuvwxyz}* -> Z"
      ]
     },
     "execution_count": 3,
     "metadata": {},
     "output_type": "execute_result"
    }
   ],
   "source": [
    "vcsn.context('law<char(a-z)>, z')"
   ]
  },
  {
   "cell_type": "markdown",
   "metadata": {},
   "source": [
    "### $k$-tape Automata\n",
    "To create a \"classical\" two-tape automaton:"
   ]
  },
  {
   "cell_type": "code",
   "execution_count": 4,
   "metadata": {},
   "outputs": [
    {
     "data": {
      "text/latex": [
       "$\\{a, b, c, d, e, f\\} \\times \\{A, B, C, D, E, F\\}\\to\\mathbb{B}$"
      ],
      "text/plain": [
       "{abcdef} x {ABCDEF} -> B"
      ]
     },
     "execution_count": 4,
     "metadata": {},
     "output_type": "execute_result"
    }
   ],
   "source": [
    "vcsn.context('lat<lal<char(a-f)>, lal<char(A-F)>>, b')"
   ]
  },
  {
   "cell_type": "markdown",
   "metadata": {},
   "source": [
    "### Multiple Weights\n",
    "To compute a Boolean and an integer:"
   ]
  },
  {
   "cell_type": "code",
   "execution_count": 5,
   "metadata": {},
   "outputs": [
    {
     "data": {
      "text/latex": [
       "$\\{a, b\\}\\to\\mathbb{B} \\times \\mathbb{Z}$"
      ],
      "text/plain": [
       "{ab} -> B x Z"
      ]
     },
     "execution_count": 5,
     "metadata": {},
     "output_type": "execute_result"
    }
   ],
   "source": [
    "vcsn.context('lal<char(ab)>, lat<b, z>')"
   ]
  },
  {
   "cell_type": "markdown",
   "metadata": {},
   "source": [
    "The following automaton is almost able to recognize $a^nb^n$: it accepts only words of $a^nb^m$ (aka $a^*b^*$) and return $(n, m)$.  One still has to check that $n = m$."
   ]
  },
  {
   "cell_type": "code",
   "execution_count": 6,
   "metadata": {},
   "outputs": [
    {
     "data": {
      "text/latex": [
       "$\\{a, b\\}\\to\\mathbb{Z}_{\\text{min}} \\times \\mathbb{Z}_{\\text{min}}$"
      ],
      "text/plain": [
       "{ab} -> Zmin x Zmin"
      ]
     },
     "execution_count": 6,
     "metadata": {},
     "output_type": "execute_result"
    }
   ],
   "source": [
    "zmin2 = vcsn.context('lal<char(ab)>, lat<zmin, zmin>')\n",
    "zmin2"
   ]
  },
  {
   "cell_type": "code",
   "execution_count": 7,
   "metadata": {},
   "outputs": [
    {
     "data": {
      "text/latex": [
       "$\\left( \\left\\langle 1,0 \\right\\rangle \\,a\\right)^{*} \\, {b}^{*} \\& {a}^{*} \\, \\left( \\left\\langle 0,1 \\right\\rangle \\,b\\right)^{*}$"
      ],
      "text/plain": [
       "(<1,0>a)*b*&a*(<0,1>b)*"
      ]
     },
     "execution_count": 7,
     "metadata": {},
     "output_type": "execute_result"
    }
   ],
   "source": [
    "ab = zmin2.expression('(<1,0>a)*(<0,0>b)* & (<0,0>a)*(<0,1>b)*')\n",
    "ab"
   ]
  },
  {
   "cell_type": "code",
   "execution_count": 8,
   "metadata": {},
   "outputs": [
    {
     "data": {
      "image/svg+xml": [
       "<?xml version=\"1.0\" encoding=\"UTF-8\" standalone=\"no\"?>\n",
       "<!DOCTYPE svg PUBLIC \"-//W3C//DTD SVG 1.1//EN\"\n",
       " \"http://www.w3.org/Graphics/SVG/1.1/DTD/svg11.dtd\">\n",
       "<!-- Generated by graphviz version 2.40.1 (20161225.0304)\n",
       " -->\n",
       "<!-- Title: %3 Pages: 1 -->\n",
       "<svg width=\"265pt\" height=\"103pt\"\n",
       " viewBox=\"0.00 0.00 265.00 103.00\" xmlns=\"http://www.w3.org/2000/svg\" xmlns:xlink=\"http://www.w3.org/1999/xlink\">\n",
       "<g id=\"graph0\" class=\"graph\" transform=\"scale(1 1) rotate(0) translate(4 99)\">\n",
       "<title>%3</title>\n",
       "<polygon fill=\"#ffffff\" stroke=\"transparent\" points=\"-4,4 -4,-99 261,-99 261,4 -4,4\"/>\n",
       "<!-- I0 -->\n",
       "<g id=\"node1\" class=\"node\">\n",
       "<title>I0</title>\n",
       "<ellipse fill=\"#000000\" stroke=\"#000000\" cx=\"0\" cy=\"-47.5\" rx=\"0\" ry=\"0\"/>\n",
       "</g>\n",
       "<!-- 0 -->\n",
       "<g id=\"node4\" class=\"node\">\n",
       "<title>0</title>\n",
       "<ellipse fill=\"#98f5ff\" stroke=\"#000000\" cx=\"78.5\" cy=\"-47.5\" rx=\"14.5\" ry=\"14.5\"/>\n",
       "<text text-anchor=\"middle\" x=\"78.5\" y=\"-44.4\" font-family=\"Times,serif\" font-size=\"12.00\" fill=\"#000000\">0</text>\n",
       "</g>\n",
       "<!-- I0&#45;&gt;0 -->\n",
       "<g id=\"edge1\" class=\"edge\">\n",
       "<title>I0&#45;&gt;0</title>\n",
       "<path fill=\"none\" stroke=\"#000000\" d=\"M.0569,-47.5C1.6186,-47.5 34.986,-47.5 57.694,-47.5\"/>\n",
       "<polygon fill=\"#000000\" stroke=\"#000000\" points=\"63.781,-47.5 57.781,-50.2001 60.781,-47.5 57.781,-47.5001 57.781,-47.5001 57.781,-47.5001 60.781,-47.5 57.781,-44.8001 63.781,-47.5 63.781,-47.5\"/>\n",
       "<text text-anchor=\"middle\" x=\"32\" y=\"-51.3\" font-family=\"Times,serif\" font-size=\"14.00\" fill=\"#000000\">⟨0,0⟩</text>\n",
       "</g>\n",
       "<!-- F0 -->\n",
       "<g id=\"node2\" class=\"node\">\n",
       "<title>F0</title>\n",
       "<ellipse fill=\"#000000\" stroke=\"#000000\" cx=\"178.5\" cy=\"-80.5\" rx=\"0\" ry=\"0\"/>\n",
       "</g>\n",
       "<!-- F1 -->\n",
       "<g id=\"node3\" class=\"node\">\n",
       "<title>F1</title>\n",
       "<ellipse fill=\"#000000\" stroke=\"#000000\" cx=\"257\" cy=\"-14.5\" rx=\"0\" ry=\"0\"/>\n",
       "</g>\n",
       "<!-- 0&#45;&gt;F0 -->\n",
       "<g id=\"edge2\" class=\"edge\">\n",
       "<title>0&#45;&gt;F0</title>\n",
       "<path fill=\"none\" stroke=\"#000000\" d=\"M92.4046,-52.0885C114.4481,-59.3629 156.5339,-73.2512 172.3171,-78.4596\"/>\n",
       "<polygon fill=\"#000000\" stroke=\"#000000\" points=\"178.331,-80.4442 171.7871,-81.1279 175.4821,-79.5041 172.6332,-78.5639 172.6332,-78.5639 172.6332,-78.5639 175.4821,-79.5041 173.4794,-75.9999 178.331,-80.4442 178.331,-80.4442\"/>\n",
       "<text text-anchor=\"middle\" x=\"118.3608\" y=\"-69.0741\" font-family=\"Times,serif\" font-size=\"14.00\" fill=\"#000000\">⟨0,0⟩</text>\n",
       "</g>\n",
       "<!-- 0&#45;&gt;0 -->\n",
       "<g id=\"edge3\" class=\"edge\">\n",
       "<title>0&#45;&gt;0</title>\n",
       "<path fill=\"none\" stroke=\"#000000\" d=\"M70.989,-60.177C68.18,-69.991 70.684,-80 78.5,-80 84.729,-80 87.584,-73.644 87.065,-66.096\"/>\n",
       "<polygon fill=\"#000000\" stroke=\"#000000\" points=\"86.011,-60.177 89.7211,-65.6107 86.537,-63.1305 87.063,-66.0841 87.063,-66.0841 87.063,-66.0841 86.537,-63.1305 84.4048,-66.5575 86.011,-60.177 86.011,-60.177\"/>\n",
       "<text text-anchor=\"middle\" x=\"78.5\" y=\"-83.8\" font-family=\"Times,serif\" font-size=\"14.00\" fill=\"#000000\">⟨1,0⟩a</text>\n",
       "</g>\n",
       "<!-- 1 -->\n",
       "<g id=\"node5\" class=\"node\">\n",
       "<title>1</title>\n",
       "<ellipse fill=\"#98f5ff\" stroke=\"#000000\" cx=\"178.5\" cy=\"-14.5\" rx=\"14.5\" ry=\"14.5\"/>\n",
       "<text text-anchor=\"middle\" x=\"178.5\" y=\"-11.4\" font-family=\"Times,serif\" font-size=\"12.00\" fill=\"#000000\">1</text>\n",
       "</g>\n",
       "<!-- 0&#45;&gt;1 -->\n",
       "<g id=\"edge4\" class=\"edge\">\n",
       "<title>0&#45;&gt;1</title>\n",
       "<path fill=\"none\" stroke=\"#000000\" d=\"M92.405,-42.911C109.72,-37.198 139.4,-27.404 158.98,-20.94\"/>\n",
       "<polygon fill=\"#000000\" stroke=\"#000000\" points=\"164.71,-19.05 159.8577,-23.4936 161.861,-19.9898 159.012,-20.9295 159.012,-20.9295 159.012,-20.9295 161.861,-19.9898 158.1662,-18.3654 164.71,-19.05 164.71,-19.05\"/>\n",
       "<text text-anchor=\"middle\" x=\"128.5\" y=\"-40.3\" font-family=\"Times,serif\" font-size=\"14.00\" fill=\"#000000\">⟨0,1⟩b</text>\n",
       "</g>\n",
       "<!-- 1&#45;&gt;F1 -->\n",
       "<g id=\"edge5\" class=\"edge\">\n",
       "<title>1&#45;&gt;F1</title>\n",
       "<path fill=\"none\" stroke=\"#000000\" d=\"M193.2652,-14.5C210.4753,-14.5 238.1423,-14.5 250.5799,-14.5\"/>\n",
       "<polygon fill=\"#000000\" stroke=\"#000000\" points=\"256.8817,-14.5 250.8817,-17.2001 253.8817,-14.5 250.8817,-14.5001 250.8817,-14.5001 250.8817,-14.5001 253.8817,-14.5 250.8817,-11.8001 256.8817,-14.5 256.8817,-14.5\"/>\n",
       "<text text-anchor=\"middle\" x=\"207.9226\" y=\"-18.3\" font-family=\"Times,serif\" font-size=\"14.00\" fill=\"#000000\">⟨0,0⟩</text>\n",
       "</g>\n",
       "<!-- 1&#45;&gt;1 -->\n",
       "<g id=\"edge6\" class=\"edge\">\n",
       "<title>1&#45;&gt;1</title>\n",
       "<path fill=\"none\" stroke=\"#000000\" d=\"M170.99,-27.177C168.18,-36.991 170.68,-47 178.5,-47 184.73,-47 187.58,-40.644 187.07,-33.096\"/>\n",
       "<polygon fill=\"#000000\" stroke=\"#000000\" points=\"186.01,-27.177 189.7255,-32.607 186.5389,-30.13 187.0678,-33.083 187.0678,-33.083 187.0678,-33.083 186.5389,-30.13 184.41,-33.559 186.01,-27.177 186.01,-27.177\"/>\n",
       "<text text-anchor=\"middle\" x=\"178.5\" y=\"-50.8\" font-family=\"Times,serif\" font-size=\"14.00\" fill=\"#000000\">⟨0,1⟩b</text>\n",
       "</g>\n",
       "</g>\n",
       "</svg>\n"
      ],
      "text/plain": [
       "mutable_automaton<context<letterset<char_letters>, lat<zmin, zmin>>>"
      ]
     },
     "execution_count": 8,
     "metadata": {},
     "output_type": "execute_result"
    }
   ],
   "source": [
    "a = ab.automaton()\n",
    "a"
   ]
  },
  {
   "cell_type": "code",
   "execution_count": 9,
   "metadata": {},
   "outputs": [
    {
     "name": "stdout",
     "output_type": "stream",
     "text": [
      "<0,0>\\e\n",
      "<1,0>a\n",
      "<0,1>b\n",
      "<2,0>aa\n",
      "<1,1>ab\n",
      "<0,2>bb\n",
      "<3,0>aaa\n",
      "<2,1>aab\n",
      "<1,2>abb\n",
      "<0,3>bbb\n",
      "<4,0>aaaa\n",
      "<3,1>aaab\n",
      "<2,2>aabb\n",
      "<1,3>abbb\n",
      "<0,4>bbbb\n"
     ]
    }
   ],
   "source": [
    "print(a.shortest(len = 4).format('list'))"
   ]
  },
  {
   "cell_type": "markdown",
   "metadata": {},
   "source": [
    "### Boss\n",
    "The interpretation of the following monster is left as an exercise for the reader:"
   ]
  },
  {
   "cell_type": "code",
   "execution_count": 10,
   "metadata": {},
   "outputs": [
    {
     "data": {
      "text/latex": [
       "$(\\{a, b\\} \\times (\\{u, v\\})^? \\times \\{x, y, z\\}^*)^?\\to\\mathsf{RatE}[(\\{e, f\\})^? \\times (\\{g, h\\})^?\\to\\mathbb{R} \\times \\mathbb{Q}] \\times \\mathbb{B} \\times \\mathbb{Z}$"
      ],
      "text/plain": [
       "{ab} x {uv}? x {xyz}*? -> RatE[{ef}? x {gh}? -> R x Q] x B x Z"
      ]
     },
     "execution_count": 10,
     "metadata": {},
     "output_type": "execute_result"
    }
   ],
   "source": [
    "vcsn.context('''nullableset< lat< lal<char(ba)>,\n",
    "                                  lat< lan<char(vu)>, law<char(x-z)> >\n",
    "                             >\n",
    "                >\n",
    "                ,\n",
    "                lat<expressionset<nullableset<lat<lan<char(fe)>, lan<char(hg)>>>,\n",
    "                                  lat<r, q>>,\n",
    "                    lat<b, z>\n",
    "                >\n",
    "''')"
   ]
  }
 ],
 "metadata": {
  "kernelspec": {
   "display_name": "Python 3",
   "language": "python",
   "name": "python3"
  },
  "language_info": {
   "codemirror_mode": {
    "name": "ipython",
    "version": 3
   },
   "file_extension": ".py",
   "mimetype": "text/x-python",
   "name": "python",
   "nbconvert_exporter": "python",
   "pygments_lexer": "ipython3",
   "version": "3.5.3"
  }
 },
 "nbformat": 4,
 "nbformat_minor": 1
}
