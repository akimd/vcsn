{
 "cells": [
  {
   "cell_type": "markdown",
   "metadata": {},
   "source": [
    "## Contexts"
   ]
  },
  {
   "cell_type": "markdown",
   "metadata": {},
   "source": [
    "The Vcsn platform relies on a central concepts: \"contexts\".  They denote typing information about automata, rational expressions, etc.  This information is alike a function type: an input type (the _label_), and an output type (the _weight_).\n",
    "\n",
    "Contexts are created by the `vcsn.context` function which takes a string as input.  This string follows the following syntax:\n",
    "\n",
    "    <context> ::= <labelset> , <weightset>\n",
    "    \n",
    "i.e., a context name is composed of a labelset name, then a comma, then a weightset name."
   ]
  },
  {
   "cell_type": "markdown",
   "metadata": {},
   "source": [
    "## Labelsets"
   ]
  },
  {
   "cell_type": "markdown",
   "metadata": {},
   "source": [
    "Different _LabelSets_ model multiple variations on _labels_,\n",
    "members of a monoid:\n",
    "\n",
    "* `letterset`\n",
    "\n",
    "  Fully defined by an alphabet $A$, its labels being just\n",
    "  letters.  It is simply denoted by $A$.  It corresponds to the usual\n",
    "  definition of an NFA.\n",
    "\n",
    "* `nullableset`\n",
    "\n",
    "  Denoted by $A^?$, also defined by an alphabet $A$, its\n",
    "  labels being either letters or the empty word.  This corresponds to what\n",
    "  is often called $\\varepsilon$-NFAs.\n",
    "  \n",
    "* `wordset`\n",
    "\n",
    "  Denoted by $A^*$, also defined by an alphabet $A$, its labels\n",
    "  being (possibly empty) words on this alphabet.\n",
    "\n",
    "* `oneset`\n",
    "\n",
    "  Denoted by $\\{1\\}$, containing a single label: 1, the empty word.\n",
    "\n",
    "* `tupleset`\n",
    "\n",
    "  Cartesian product of LabelSets, $L_1 \\times \\cdots \\times\n",
    "  L_n$. This type implements the concept of transducers with an arbitrary\n",
    "  number of \"tapes\". The concept is developed more in-depth here: [Transducers](Transducers.ipynb)."
   ]
  },
  {
   "cell_type": "markdown",
   "metadata": {},
   "source": [
    "## Weightsets"
   ]
  },
  {
   "cell_type": "markdown",
   "metadata": {},
   "source": [
    "The _WeightSets_ define the semiring of the weights.  Builtin weights include:\n",
    "\n",
    "* `b`\n",
    "\n",
    "  The classical Booleans: $\\langle \\mathbb{B}, \\vee, \\wedge, \\bot, \\top \\rangle$\n",
    "\n",
    "* `z`\n",
    "\n",
    "  The integers coded as `int`s: $\\langle \\mathbb{Z}, +, \\times, 0, 1 \\rangle$\n",
    "\n",
    "* `q`\n",
    "\n",
    "  The rationals, coded as pairs of `int`s: $\\langle \\mathbb{Q}, +, \\times, 0, 1 \\rangle$\n",
    "  \n",
    "* `qmp`\n",
    "\n",
    "  The rationals, with support for multiprecision: $\\langle \\mathbb{Q}_\\text{mp}, +, \\times, 0, 1 \\rangle$\n",
    "  \n",
    "* `r`\n",
    "\n",
    "  The reals, coded as `double`s: $\\langle \\mathbb{R}, +, \\times, 0, 1 \\rangle$\n",
    "  \n",
    "* `zmin`\n",
    "\n",
    "  The tropical semiring, coded as `int`s: $\\langle \\mathbb{Z} \\cup \\{\\infty\\}, \\min, +, \\infty, 0 \\rangle$\n",
    "  \n",
    "* `rmin`\n",
    "\n",
    "  The tropical semiring, coded as `floats`s: $\\langle \\mathbb{R} \\cup \\{\\infty\\}, \\min, +, \\infty, 0 \\rangle$\n",
    "  \n",
    "* `log`\n",
    "\n",
    "  The log semiring, coded as `double`s: $\\langle \\mathbb{R} \\cup \\{-\\infty, +\\infty\\}, \\oplus_\\mathrm{log}, +, +\\infty, 0 \\rangle$ (where $\\oplus_\\mathrm{log}$ denotes $x, y \\rightarrow - \\mathrm{log}(\\exp(-x) + \\exp(-y))$.\n",
    "* `f2`\n",
    "\n",
    "  The field: $\\langle \\mathbb{F}_2, \\oplus, \\wedge, 0, 1 \\rangle$ (where $\\oplus$ denotes the \"exclusive or\").\n",
    "  \n",
    "* `tupleset`\n",
    "\n",
    "  Cartesian product of WeightSets, $W_1 \\times \\cdots \\times W_n$."
   ]
  },
  {
   "cell_type": "markdown",
   "metadata": {},
   "source": [
    "## Examples"
   ]
  },
  {
   "cell_type": "markdown",
   "metadata": {},
   "source": [
    "The usual framework for automaton is to use letters as labels, and Booleans as weights:"
   ]
  },
  {
   "cell_type": "code",
   "execution_count": 1,
   "metadata": {
    "collapsed": false
   },
   "outputs": [
    {
     "name": "stderr",
     "output_type": "stream",
     "text": [
      ":0: FutureWarning: IPython widgets are experimental and may change in the future.\n"
     ]
    },
    {
     "data": {
      "application/javascript": [
       "IPython.load_extensions(\"AutomatonD3Widget\")"
      ],
      "text/plain": [
       "<IPython.core.display.Javascript object>"
      ]
     },
     "metadata": {},
     "output_type": "display_data"
    },
    {
     "data": {
      "text/latex": [
       "$\\{a, b, c\\}\\rightarrow\\mathbb{B}$"
      ],
      "text/plain": [
       "letterset<char_letters(abc)>, b"
      ]
     },
     "execution_count": 1,
     "metadata": {},
     "output_type": "execute_result"
    }
   ],
   "source": [
    "import vcsn\n",
    "vcsn.context('lal_char(abc), b')"
   ]
  },
  {
   "cell_type": "markdown",
   "metadata": {},
   "source": [
    "If instead of a simple accepter that returns \"yes\" or \"no\", you want to compute an integer, work in $\\mathbb{Z}$:"
   ]
  },
  {
   "cell_type": "code",
   "execution_count": 2,
   "metadata": {
    "collapsed": false
   },
   "outputs": [
    {
     "data": {
      "text/latex": [
       "$\\{a, b, c\\}\\rightarrow\\mathbb{Z}$"
      ],
      "text/plain": [
       "letterset<char_letters(abc)>, z"
      ]
     },
     "execution_count": 2,
     "metadata": {},
     "output_type": "execute_result"
    }
   ],
   "source": [
    "vcsn.context('lal_char(abc), z')"
   ]
  },
  {
   "cell_type": "markdown",
   "metadata": {},
   "source": [
    "To use words on the usual alphabet as labels:"
   ]
  },
  {
   "cell_type": "code",
   "execution_count": 3,
   "metadata": {
    "collapsed": false
   },
   "outputs": [
    {
     "data": {
      "text/latex": [
       "$\\{a, b, c, d, e, f, g, h, i, j, k, l, m, n, o, p, q, r, s, t, u, v, w, x, y, z\\}^*\\rightarrow\\mathbb{Z}$"
      ],
      "text/plain": [
       "wordset<char_letters(abcdefghijklmnopqrstuvwxyz)>, z"
      ]
     },
     "execution_count": 3,
     "metadata": {},
     "output_type": "execute_result"
    }
   ],
   "source": [
    "vcsn.context('law_char(a-z), z')"
   ]
  },
  {
   "cell_type": "markdown",
   "metadata": {},
   "source": [
    "To create a \"classical\" two-tape automaton:"
   ]
  },
  {
   "cell_type": "code",
   "execution_count": 4,
   "metadata": {
    "collapsed": false
   },
   "outputs": [
    {
     "data": {
      "text/latex": [
       "$\\{a, b, c, d, e, f\\} \\times \\{A, B, C, D, E, F\\}\\rightarrow\\mathbb{B}$"
      ],
      "text/plain": [
       "lat<letterset<char_letters(abcdef)>, letterset<char_letters(ABCDEF)>>, b"
      ]
     },
     "execution_count": 4,
     "metadata": {},
     "output_type": "execute_result"
    }
   ],
   "source": [
    "vcsn.context('lat<lal_char(a-f), lal_char(A-F)>, b')"
   ]
  },
  {
   "cell_type": "markdown",
   "metadata": {},
   "source": [
    "To compute a Boolean and an integer:"
   ]
  },
  {
   "cell_type": "code",
   "execution_count": 5,
   "metadata": {
    "collapsed": false
   },
   "outputs": [
    {
     "data": {
      "text/latex": [
       "$\\{a, b\\}\\rightarrow\\mathbb{B} \\times \\mathbb{Z}$"
      ],
      "text/plain": [
       "letterset<char_letters(ab)>, lat<b, z>"
      ]
     },
     "execution_count": 5,
     "metadata": {},
     "output_type": "execute_result"
    }
   ],
   "source": [
    "vcsn.context('lal_char(ab), lat<b, z>')"
   ]
  },
  {
   "cell_type": "markdown",
   "metadata": {},
   "source": [
    "The interpretation of the following monster is left to the reader as an exercise:"
   ]
  },
  {
   "cell_type": "code",
   "execution_count": 6,
   "metadata": {
    "collapsed": false
   },
   "outputs": [
    {
     "data": {
      "text/latex": [
       "$(\\{a, b\\} \\times (\\{u, v\\})^? \\times \\{x, y, z\\}^*)^?\\rightarrow\\mathsf{RatE}[(\\{e, f\\})^? \\times (\\{g, h\\})^?\\rightarrow\\mathbb{R} \\times \\mathbb{Q}] \\times \\mathbb{B} \\times \\mathbb{Z}$"
      ],
      "text/plain": [
       "nullableset<lat<letterset<char_letters(ab)>, lat<nullableset<letterset<char_letters(uv)>>, wordset<char_letters(xyz)>>>>, lat<expressionset<lat<nullableset<letterset<char_letters(ef)>>, nullableset<letterset<char_letters(gh)>>>, lat<r, q>>, lat<b, z>>"
      ]
     },
     "execution_count": 6,
     "metadata": {},
     "output_type": "execute_result"
    }
   ],
   "source": [
    "vcsn.context('lan<lat<lal_char(ba),lat<lan<lal_char(vu)>,law_char(x-z)>>>,'\n",
    "             +' lat<expressionset<lan<lat<lan_char(fe),lan_char(hg)>>, lat<r, q>>, lat<b, z>>')"
   ]
  }
 ],
 "metadata": {},
 "nbformat": 4,
 "nbformat_minor": 0
}