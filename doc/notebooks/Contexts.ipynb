{
 "cells": [
  {
   "cell_type": "markdown",
   "metadata": {},
   "source": [
    "# Contexts\n",
    "\n",
    "_Contexts_ are a central concept of Vcsn: they denote typing information about automata, rational expressions, etc.  This information is similar a function type: an input type (the _labelset_), and an output type (the _weightset_).\n",
    "\n",
    "Contexts are created by the `vcsn.context` function which takes a string as input.  This string follows the following syntax:\n",
    "\n",
    "    <context> ::= <labelset> (-> <weightset>)?\n",
    "    \n",
    "i.e., a context name is composed of a labelset specification, and optionally, then an arrow and a weightset specification.\n",
    "\n",
    "## Labelsets\n",
    "\n",
    "Different _LabelSets_ model multiple variations on _labels_, members of a monoid:\n",
    "\n",
    "* `[`_genset_ `]`<br>\n",
    "  Denoted by $A^?$, defined by an alphabet $A$, its\n",
    "  labels being either letters or the empty word.  This corresponds to what\n",
    "  is often called $\\varepsilon$-NFAs.\n",
    "  \n",
    "* `[` _genset_ `]*` <br>\n",
    "  Denoted by $A^*$, also defined by an alphabet $A$, its labels\n",
    "  being (possibly empty) words on this alphabet.\n",
    "\n",
    "* `oneset`<br>\n",
    "  Denoted by $\\{1\\}$, containing a single label: 1, the empty word.\n",
    "\n",
    "* _labelset1_ ` x ` _labelset2_ ` x ... x ` _labelsetn_ <br>\n",
    "  Cartesian product of LabelSets, $L_1 \\times \\cdots \\times\n",
    "  L_n$. This type implements the concept of transducers with an arbitrary\n",
    "  number of \"tapes\". The concept is developed more in-depth here: [Transducers](Transducers.ipynb).\n",
    "\n",
    "## Gensets\n",
    "\n",
    "The gensets define the types of the letters, and sets of the valid letters.  There is currently a single genset type.\n",
    "\n",
    "* `char_letters`<br>\n",
    "  Specify that the letters are implemented as `char`.  Any `char` will be accepted.  The genset is said to be \"open\".\n",
    "\n",
    "* `char_letters(abc...)`<br>\n",
    "  Specify that the letters are implemented as `char`, and the genset is closed to `{a, b, c}`.  Any other `char` will be rejected.\n",
    "\n",
    "\n",
    "## Weightsets\n",
    "\n",
    "The _WeightSets_ define the semiring of the weights.  Builtin weights include:\n",
    "\n",
    "* `b` <br/>\n",
    "  The classical Booleans: $\\langle \\mathbb{B}, \\vee, \\wedge, \\bot, \\top \\rangle$\n",
    "\n",
    "* `z` <br/>\n",
    "  The integers coded as `int`s: $\\langle \\mathbb{Z}, +, \\times, 0, 1 \\rangle$\n",
    "\n",
    "* `q`<br/>\n",
    "  The rationals, coded as pairs of `int`s: $\\langle \\mathbb{Q}, +, \\times, 0, 1 \\rangle$\n",
    "  \n",
    "* `qmp`<br/>\n",
    "  The rationals, with support for multiprecision: $\\langle \\mathbb{Q}_\\text{mp}, +, \\times, 0, 1 \\rangle$\n",
    "  \n",
    "* `r` <br/>\n",
    "  The reals, coded as `double`s: $\\langle \\mathbb{R}, +, \\times, 0, 1 \\rangle$\n",
    "  \n",
    "* `nmin` <br/>\n",
    "  The tropical semiring, coded as `unsigned int`s: $\\langle \\mathbb{N} \\cup \\{\\infty\\}, \\min, +, \\infty, 0 \\rangle$\n",
    "  \n",
    "* `zmin` <br/>\n",
    "  The tropical semiring, coded as `int`s: $\\langle \\mathbb{Z} \\cup \\{\\infty\\}, \\min, +, \\infty, 0 \\rangle$\n",
    "  \n",
    "* `rmin` <br/>\n",
    "  The tropical semiring, coded as `floats`s: $\\langle \\mathbb{R} \\cup \\{\\infty\\}, \\min, +, \\infty, 0 \\rangle$\n",
    "  \n",
    "* `log` <br/>\n",
    "  The log semiring, coded as `double`s: $\\langle \\mathbb{R} \\cup \\{-\\infty, +\\infty\\}, \\oplus_\\mathrm{log}, +, +\\infty, 0 \\rangle$ (where $\\oplus_\\mathrm{log}$ denotes $x, y \\rightarrow - \\mathrm{log}(\\exp(-x) + \\exp(-y))$.\n",
    "\n",
    "* `f2`<br/>\n",
    "  The field: $\\langle \\mathbb{F}_2, \\oplus, \\wedge, 0, 1 \\rangle$ (where $\\oplus$ denotes the \"exclusive or\").\n",
    "  \n",
    "* _weightset1_ ` x ` _weightset2_ ` x ... x ` _weightsetn_ <br>\n",
    "  Cartesian product of WeightSets, $W_1 \\times \\cdots \\times W_n$."
   ]
  },
  {
   "cell_type": "markdown",
   "metadata": {},
   "source": [
    "## Examples\n",
    "\n",
    "The usual framework for automata is to use letters as labels, and Booleans as weights:"
   ]
  },
  {
   "cell_type": "code",
   "execution_count": 1,
   "metadata": {},
   "outputs": [
    {
     "data": {
      "text/latex": [
       "$\\{a, b, c\\}^?\\to\\mathbb{B}$"
      ],
      "text/plain": [
       "[abc]? -> B"
      ]
     },
     "execution_count": 1,
     "metadata": {},
     "output_type": "execute_result"
    }
   ],
   "source": [
    "import vcsn\n",
    "vcsn.context('[abc] -> b')"
   ]
  },
  {
   "cell_type": "markdown",
   "metadata": {},
   "source": [
    "The weightset is optional, defaulting to 𝔹."
   ]
  },
  {
   "cell_type": "code",
   "execution_count": 2,
   "metadata": {},
   "outputs": [
    {
     "data": {
      "text/latex": [
       "$\\{a, b, c\\}^?\\to\\mathbb{B}$"
      ],
      "text/plain": [
       "[abc]? -> B"
      ]
     },
     "execution_count": 2,
     "metadata": {},
     "output_type": "execute_result"
    }
   ],
   "source": [
    "vcsn.context('[abc]')"
   ]
  },
  {
   "cell_type": "markdown",
   "metadata": {},
   "source": [
    "You may also use UTF-8 symbols:"
   ]
  },
  {
   "cell_type": "code",
   "execution_count": 3,
   "metadata": {},
   "outputs": [
    {
     "data": {
      "text/latex": [
       "$\\{a, b, c\\}^?\\to\\mathbb{B}$"
      ],
      "text/plain": [
       "[abc]? -> B"
      ]
     },
     "execution_count": 3,
     "metadata": {},
     "output_type": "execute_result"
    }
   ],
   "source": [
    "vcsn.context('[abc] → 𝔹')"
   ]
  },
  {
   "cell_type": "markdown",
   "metadata": {},
   "source": [
    "If instead of a simple accepter that returns \"yes\" or \"no\", you want to compute an integer, work in $\\mathbb{Z}$:"
   ]
  },
  {
   "cell_type": "code",
   "execution_count": 4,
   "metadata": {},
   "outputs": [
    {
     "data": {
      "text/latex": [
       "$\\{a, b, c\\}^?\\to\\mathbb{Z}$"
      ],
      "text/plain": [
       "[abc]? -> Z"
      ]
     },
     "execution_count": 4,
     "metadata": {},
     "output_type": "execute_result"
    }
   ],
   "source": [
    "vcsn.context('[abc] -> Z')"
   ]
  },
  {
   "cell_type": "markdown",
   "metadata": {},
   "source": [
    "To use words on the usual alphabet as labels:"
   ]
  },
  {
   "cell_type": "code",
   "execution_count": 5,
   "metadata": {},
   "outputs": [
    {
     "data": {
      "text/latex": [
       "$\\{a, b, c, d, e, f, g, h, i, j, k, l, m, n, o, p, q, r, s, t, u, v, w, x, y, z\\}^*\\to\\mathbb{Z}$"
      ],
      "text/plain": [
       "[abcdefghijklmnopqrstuvwxyz]* -> Z"
      ]
     },
     "execution_count": 5,
     "metadata": {},
     "output_type": "execute_result"
    }
   ],
   "source": [
    "vcsn.context('[a-z]* -> Z')"
   ]
  },
  {
   "cell_type": "markdown",
   "metadata": {},
   "source": [
    "### $k$-tape Automata\n",
    "To create a \"classical\" two-tape automaton:"
   ]
  },
  {
   "cell_type": "code",
   "execution_count": 6,
   "metadata": {},
   "outputs": [
    {
     "data": {
      "text/latex": [
       "$\\{a, b, c, d, e, f\\}^? \\times \\{A, B, C, D, E, F\\}^?\\to\\mathbb{B}$"
      ],
      "text/plain": [
       "[abcdef]? x [ABCDEF]? -> B"
      ]
     },
     "execution_count": 6,
     "metadata": {},
     "output_type": "execute_result"
    }
   ],
   "source": [
    "vcsn.context('[a-f] x [A-F] -> B')"
   ]
  },
  {
   "cell_type": "markdown",
   "metadata": {},
   "source": [
    "### Multiple Weights\n",
    "To compute a Boolean and an integer:"
   ]
  },
  {
   "cell_type": "code",
   "execution_count": 7,
   "metadata": {},
   "outputs": [
    {
     "data": {
      "text/latex": [
       "$\\{a, b\\}^?\\to\\mathbb{B} \\times \\mathbb{Z}$"
      ],
      "text/plain": [
       "[ab]? -> B x Z"
      ]
     },
     "execution_count": 7,
     "metadata": {},
     "output_type": "execute_result"
    }
   ],
   "source": [
    "vcsn.context('[ab] -> b x z')"
   ]
  },
  {
   "cell_type": "markdown",
   "metadata": {},
   "source": [
    "The following automaton is almost able to recognize $a^nb^n$: it accepts only words of $a^nb^m$ (aka $a^*b^*$) and return $(n, m)$.  One still has to check that $n = m$."
   ]
  },
  {
   "cell_type": "code",
   "execution_count": 8,
   "metadata": {},
   "outputs": [
    {
     "data": {
      "text/latex": [
       "$\\{a, b\\}^?\\to\\mathbb{Z}_{\\text{min}} \\times \\mathbb{Z}_{\\text{min}}$"
      ],
      "text/plain": [
       "[ab]? -> Zmin x Zmin"
      ]
     },
     "execution_count": 8,
     "metadata": {},
     "output_type": "execute_result"
    }
   ],
   "source": [
    "zmin2 = vcsn.context('[ab] -> zmin x zmin')\n",
    "zmin2"
   ]
  },
  {
   "cell_type": "code",
   "execution_count": 9,
   "metadata": {},
   "outputs": [
    {
     "data": {
      "text/latex": [
       "$\\left( \\left\\langle 1,0 \\right\\rangle \\,a\\right)^{*} \\, {b}^{*} \\& {a}^{*} \\, \\left( \\left\\langle 0,1 \\right\\rangle \\,b\\right)^{*}$"
      ],
      "text/plain": [
       "(<1,0>a)*b*&a*(<0,1>b)*"
      ]
     },
     "execution_count": 9,
     "metadata": {},
     "output_type": "execute_result"
    }
   ],
   "source": [
    "ab = zmin2.expression('(<1,0>a)*(<0,0>b)* & (<0,0>a)*(<0,1>b)*')\n",
    "ab"
   ]
  },
  {
   "cell_type": "code",
   "execution_count": 10,
   "metadata": {},
   "outputs": [
    {
     "data": {
      "image/svg+xml": [
       "<?xml version=\"1.0\" encoding=\"UTF-8\" standalone=\"no\"?>\n",
       "<!DOCTYPE svg PUBLIC \"-//W3C//DTD SVG 1.1//EN\"\n",
       " \"http://www.w3.org/Graphics/SVG/1.1/DTD/svg11.dtd\">\n",
       "<!-- Generated by graphviz version 2.40.1 (20161225.0304)\n",
       " -->\n",
       "<!-- Title: %3 Pages: 1 -->\n",
       "<svg width=\"243pt\" height=\"103pt\"\n",
       " viewBox=\"0.00 0.00 243.00 103.00\" xmlns=\"http://www.w3.org/2000/svg\" xmlns:xlink=\"http://www.w3.org/1999/xlink\">\n",
       "<g id=\"graph0\" class=\"graph\" transform=\"scale(1 1) rotate(0) translate(4 99)\">\n",
       "<title>%3</title>\n",
       "<polygon fill=\"#ffffff\" stroke=\"transparent\" points=\"-4,4 -4,-99 239,-99 239,4 -4,4\"/>\n",
       "<!-- I0 -->\n",
       "<g id=\"node1\" class=\"node\">\n",
       "<title>I0</title>\n",
       "<ellipse fill=\"#000000\" stroke=\"#000000\" cx=\"0\" cy=\"-47.5\" rx=\"0\" ry=\"0\"/>\n",
       "</g>\n",
       "<!-- 0 -->\n",
       "<g id=\"node4\" class=\"node\">\n",
       "<title>0</title>\n",
       "<ellipse fill=\"#98f5ff\" stroke=\"#000000\" cx=\"71.5\" cy=\"-47.5\" rx=\"14.5\" ry=\"14.5\"/>\n",
       "<text text-anchor=\"middle\" x=\"71.5\" y=\"-44.4\" font-family=\"Times,serif\" font-size=\"12.00\" fill=\"#000000\">0</text>\n",
       "</g>\n",
       "<!-- I0&#45;&gt;0 -->\n",
       "<g id=\"edge1\" class=\"edge\">\n",
       "<title>I0&#45;&gt;0</title>\n",
       "<path fill=\"none\" stroke=\"#000000\" d=\"M.0518,-47.5C1.4314,-47.5 30.063,-47.5 50.656,-47.5\"/>\n",
       "<polygon fill=\"#000000\" stroke=\"#000000\" points=\"56.75,-47.5 50.75,-50.2001 53.75,-47.5 50.75,-47.5001 50.75,-47.5001 50.75,-47.5001 53.75,-47.5 50.75,-44.8001 56.75,-47.5 56.75,-47.5\"/>\n",
       "<text text-anchor=\"middle\" x=\"28.5\" y=\"-51.3\" font-family=\"Times,serif\" font-size=\"14.00\" fill=\"#000000\">⟨0,0⟩</text>\n",
       "</g>\n",
       "<!-- F0 -->\n",
       "<g id=\"node2\" class=\"node\">\n",
       "<title>F0</title>\n",
       "<ellipse fill=\"#000000\" stroke=\"#000000\" cx=\"163.5\" cy=\"-80.5\" rx=\"0\" ry=\"0\"/>\n",
       "</g>\n",
       "<!-- F1 -->\n",
       "<g id=\"node3\" class=\"node\">\n",
       "<title>F1</title>\n",
       "<ellipse fill=\"#000000\" stroke=\"#000000\" cx=\"235\" cy=\"-14.5\" rx=\"0\" ry=\"0\"/>\n",
       "</g>\n",
       "<!-- 0&#45;&gt;F0 -->\n",
       "<g id=\"edge2\" class=\"edge\">\n",
       "<title>0&#45;&gt;F0</title>\n",
       "<path fill=\"none\" stroke=\"#000000\" d=\"M85.4728,-52.512C105.9252,-59.8482 143.1466,-73.1993 157.5692,-78.3726\"/>\n",
       "<polygon fill=\"#000000\" stroke=\"#000000\" points=\"163.3492,-80.4459 156.7899,-80.9615 160.5254,-79.433 157.7015,-78.4201 157.7015,-78.4201 157.7015,-78.4201 160.5254,-79.433 158.6132,-75.8786 163.3492,-80.4459 163.3492,-80.4459\"/>\n",
       "<text text-anchor=\"middle\" x=\"111.021\" y=\"-69.2423\" font-family=\"Times,serif\" font-size=\"14.00\" fill=\"#000000\">⟨0,0⟩</text>\n",
       "</g>\n",
       "<!-- 0&#45;&gt;0 -->\n",
       "<g id=\"edge3\" class=\"edge\">\n",
       "<title>0&#45;&gt;0</title>\n",
       "<path fill=\"none\" stroke=\"#000000\" d=\"M64.556,-60.515C62.13,-70.219 64.445,-80 71.5,-80 77.011,-80 79.63,-74.03 79.355,-66.791\"/>\n",
       "<polygon fill=\"#000000\" stroke=\"#000000\" points=\"78.444,-60.515 81.978,-66.0649 78.875,-63.4839 79.306,-66.4528 79.306,-66.4528 79.306,-66.4528 78.875,-63.4839 76.634,-66.8407 78.444,-60.515 78.444,-60.515\"/>\n",
       "<text text-anchor=\"middle\" x=\"71.5\" y=\"-83.8\" font-family=\"Times,serif\" font-size=\"14.00\" fill=\"#000000\">⟨1,0⟩a</text>\n",
       "</g>\n",
       "<!-- 1 -->\n",
       "<g id=\"node5\" class=\"node\">\n",
       "<title>1</title>\n",
       "<ellipse fill=\"#98f5ff\" stroke=\"#000000\" cx=\"163.5\" cy=\"-14.5\" rx=\"14.5\" ry=\"14.5\"/>\n",
       "<text text-anchor=\"middle\" x=\"163.5\" y=\"-11.4\" font-family=\"Times,serif\" font-size=\"12.00\" fill=\"#000000\">1</text>\n",
       "</g>\n",
       "<!-- 0&#45;&gt;1 -->\n",
       "<g id=\"edge4\" class=\"edge\">\n",
       "<title>0&#45;&gt;1</title>\n",
       "<path fill=\"none\" stroke=\"#000000\" d=\"M85.473,-42.488C100.96,-36.932 126.07,-27.925 143.61,-21.634\"/>\n",
       "<polygon fill=\"#000000\" stroke=\"#000000\" points=\"149.7,-19.451 144.963,-24.0173 146.8759,-20.4633 144.0519,-21.4757 144.0519,-21.4757 144.0519,-21.4757 146.8759,-20.4633 143.1408,-18.934 149.7,-19.451 149.7,-19.451\"/>\n",
       "<text text-anchor=\"middle\" x=\"117.5\" y=\"-39.3\" font-family=\"Times,serif\" font-size=\"14.00\" fill=\"#000000\">⟨0,1⟩b</text>\n",
       "</g>\n",
       "<!-- 1&#45;&gt;F1 -->\n",
       "<g id=\"edge5\" class=\"edge\">\n",
       "<title>1&#45;&gt;F1</title>\n",
       "<path fill=\"none\" stroke=\"#000000\" d=\"M178.3148,-14.5C193.8481,-14.5 217.5229,-14.5 228.7169,-14.5\"/>\n",
       "<polygon fill=\"#000000\" stroke=\"#000000\" points=\"234.8968,-14.5 228.8969,-17.2001 231.8968,-14.5 228.8968,-14.5001 228.8968,-14.5001 228.8968,-14.5001 231.8968,-14.5 228.8968,-11.8001 234.8968,-14.5 234.8968,-14.5\"/>\n",
       "<text text-anchor=\"middle\" x=\"193.0159\" y=\"-18.3\" font-family=\"Times,serif\" font-size=\"14.00\" fill=\"#000000\">⟨0,0⟩</text>\n",
       "</g>\n",
       "<!-- 1&#45;&gt;1 -->\n",
       "<g id=\"edge6\" class=\"edge\">\n",
       "<title>1&#45;&gt;1</title>\n",
       "<path fill=\"none\" stroke=\"#000000\" d=\"M156.56,-27.515C154.13,-37.219 156.45,-47 163.5,-47 169.01,-47 171.63,-41.03 171.36,-33.791\"/>\n",
       "<polygon fill=\"#000000\" stroke=\"#000000\" points=\"170.44,-27.515 173.9818,-33.0599 170.8752,-30.4833 171.3103,-33.4516 171.3103,-33.4516 171.3103,-33.4516 170.8752,-30.4833 168.6389,-33.8432 170.44,-27.515 170.44,-27.515\"/>\n",
       "<text text-anchor=\"middle\" x=\"163.5\" y=\"-50.8\" font-family=\"Times,serif\" font-size=\"14.00\" fill=\"#000000\">⟨0,1⟩b</text>\n",
       "</g>\n",
       "</g>\n",
       "</svg>\n"
      ],
      "text/plain": [
       "mutable_automaton<context<letterset<char_letters>, lat<zmin, zmin>>>"
      ]
     },
     "execution_count": 10,
     "metadata": {},
     "output_type": "execute_result"
    }
   ],
   "source": [
    "a = ab.automaton()\n",
    "a"
   ]
  },
  {
   "cell_type": "code",
   "execution_count": 11,
   "metadata": {},
   "outputs": [
    {
     "name": "stdout",
     "output_type": "stream",
     "text": [
      "<0,0>\\e\n",
      "<1,0>a\n",
      "<0,1>b\n",
      "<2,0>aa\n",
      "<1,1>ab\n",
      "<0,2>bb\n",
      "<3,0>aaa\n",
      "<2,1>aab\n",
      "<1,2>abb\n",
      "<0,3>bbb\n",
      "<4,0>aaaa\n",
      "<3,1>aaab\n",
      "<2,2>aabb\n",
      "<1,3>abbb\n",
      "<0,4>bbbb\n"
     ]
    }
   ],
   "source": [
    "print(a.shortest(len = 4).format('list'))"
   ]
  },
  {
   "cell_type": "markdown",
   "metadata": {},
   "source": [
    "### End of Level Boss\n",
    "The interpretation of the following monster is left as an exercise for the reader:"
   ]
  },
  {
   "cell_type": "code",
   "execution_count": 12,
   "metadata": {},
   "outputs": [
    {
     "data": {
      "text/latex": [
       "$\\{a, b\\}^? \\times (\\{u, v\\}^? \\times \\{x, y, z\\}^*)\\to\\mathsf{RatE}[\\{e, f\\}^? \\times \\{g, h\\}^?\\to\\mathbb{R} \\times \\mathbb{Q}] \\times (\\mathbb{B} \\times \\mathbb{Z})$"
      ],
      "text/plain": [
       "[ab]? x ([uv]? x [xyz]*) -> RatE[[ef]? x [gh]? -> R x Q] x (B x Z)"
      ]
     },
     "execution_count": 12,
     "metadata": {},
     "output_type": "execute_result"
    }
   ],
   "source": [
    "vcsn.context('[ba] x ([vu] x [x-z]*)  →  RatE[[fe] x [hg] -> r x q] x (b x z)')"
   ]
  }
 ],
 "metadata": {
  "kernelspec": {
   "display_name": "Python 3",
   "language": "python",
   "name": "python3"
  },
  "language_info": {
   "codemirror_mode": {
    "name": "ipython",
    "version": 3
   },
   "file_extension": ".py",
   "mimetype": "text/x-python",
   "name": "python",
   "nbconvert_exporter": "python",
   "pygments_lexer": "ipython3",
   "version": "3.6.4"
  }
 },
 "nbformat": 4,
 "nbformat_minor": 1
}
