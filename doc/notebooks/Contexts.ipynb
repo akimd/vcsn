{
 "metadata": {
  "name": "",
  "signature": "sha256:76ad3f5884ef07f9901b2ce34982c7f36809e37992eb83d8025dc6ddefd3c54b"
 },
 "nbformat": 3,
 "nbformat_minor": 0,
 "worksheets": [
  {
   "cells": [
    {
     "cell_type": "heading",
     "level": 2,
     "metadata": {},
     "source": [
      "Contexts"
     ]
    },
    {
     "cell_type": "markdown",
     "metadata": {},
     "source": [
      "The Vcsn platform relies on a central concepts: \"contexts\".  They denote typing information about automata, rational expressions, etc.  This information is alike a function type: an input type (the _label_), and an output type (the _weight_).\n",
      "\n",
      "Contexts are created by the `vcsn.context` function which takes a string as input.  This string follows the following syntax:\n",
      "\n",
      "    <context> ::= <labelset> , <weightset>\n",
      "    \n",
      "i.e., a context name is composed of a labelset name, then a comma, then a weightset name."
     ]
    },
    {
     "cell_type": "heading",
     "level": 2,
     "metadata": {},
     "source": [
      "Labelsets"
     ]
    },
    {
     "cell_type": "markdown",
     "metadata": {},
     "source": [
      "Different _LabelSets_ model multiple variations on _labels_,\n",
      "members of a monoid:\n",
      "\n",
      "* `letterset`\n",
      "\n",
      "  Fully defined by an alphabet $A$, its labels being just\n",
      "  letters.  It is simply denoted by $A$.  It corresponds to the usual\n",
      "  definition of an NFA.\n",
      "\n",
      "* `nullableset`\n",
      "\n",
      "  Denoted by $A^?$, also defined by an alphabet $A$, its\n",
      "  labels being either letters or the empty word.  This corresponds to what\n",
      "  is often called $\\varepsilon$-NFAs.\n",
      "  \n",
      "* `wordset`\n",
      "\n",
      "  Denoted by $A^*$, also defined by an alphabet $A$, its labels\n",
      "  being (possibly empty) words on this alphabet.\n",
      "\n",
      "* `oneset`\n",
      "\n",
      "  Denoted by $\\{1\\}$, containing a single label: 1, the empty word.\n",
      "\n",
      "* `tupleset`\n",
      "\n",
      "  Cartesian product of LabelSets, $L_1 \\times \\cdots \\times\n",
      "  L_n$. This type implements the concept of transducers with an arbitrary\n",
      "  number of \"tapes\". The concept is developed more in-depth here: [Transducers](Transducers.ipynb)."
     ]
    },
    {
     "cell_type": "heading",
     "level": 2,
     "metadata": {},
     "source": [
      "Weightsets"
     ]
    },
    {
     "cell_type": "markdown",
     "metadata": {},
     "source": [
      "The _WeightSets_ define the semiring of the weights.  Builtin weights include:\n",
      "\n",
      "* `b`\n",
      "\n",
      "  The classical Booleans: $\\langle \\mathbb{B}, \\vee, \\wedge, \\bot, \\top \\rangle$\n",
      "\n",
      "* `z`\n",
      "\n",
      "  The integers coded as `int`s: $\\langle \\mathbb{Z}, +, \\times, 0, 1 \\rangle$\n",
      "\n",
      "* `q`\n",
      "\n",
      "  The rationals, coded as pairs of `int`s: $\\langle \\mathbb{Q}, +, \\times, 0, 1 \\rangle$\n",
      "  \n",
      "* `qmp`\n",
      "\n",
      "  The rationals, with support for multiprecision: $\\langle \\mathbb{Q}_\\text{mp}, +, \\times, 0, 1 \\rangle$\n",
      "  \n",
      "* `r`\n",
      "\n",
      "  The reals, coded as `double`s: $\\langle \\mathbb{R}, +, \\times, 0, 1 \\rangle$\n",
      "  \n",
      "* `zmin`\n",
      "\n",
      "  The tropical semiring, coded as `int`s: $\\langle \\mathbb{Z}, \\min, +, \\infty, 0 \\rangle$\n",
      "  \n",
      "* `rmin`\n",
      "\n",
      "  The tropical semiring, coded as `floats`s: $\\langle \\mathbb{R}, \\min, +, \\infty, 0 \\rangle$\n",
      "  \n",
      "* `f2`\n",
      "\n",
      "  The field: $\\langle \\mathbb{F}_2, \\oplus, \\wedge, 0, 1 \\rangle$ (where $\\oplus$ denotes the \"exclusive or\").\n",
      "  \n",
      "* `tupleset`\n",
      "\n",
      "  Cartesian product of WeightSets, $W_1 \\times \\cdots \\times W_n$."
     ]
    },
    {
     "cell_type": "heading",
     "level": 2,
     "metadata": {},
     "source": [
      "Examples"
     ]
    },
    {
     "cell_type": "markdown",
     "metadata": {},
     "source": [
      "The usual framework for automaton is to use letters as labels, and Booleans as weights:"
     ]
    },
    {
     "cell_type": "code",
     "collapsed": false,
     "input": [
      "import vcsn\n",
      "vcsn.context('lal_char(abc), b')"
     ],
     "language": "python",
     "metadata": {},
     "outputs": [
      {
       "latex": [
        "$\\{a, b, c\\}\\rightarrow\\mathbb{B}$"
       ],
       "metadata": {},
       "output_type": "pyout",
       "prompt_number": 1,
       "text": [
        "lal_char(abc), b"
       ]
      }
     ],
     "prompt_number": 1
    },
    {
     "cell_type": "markdown",
     "metadata": {},
     "source": [
      "If instead of a simple accepter that returns \"yes\" or \"no\", you want to compute an integer, work in $\\mathbb{Z}$:"
     ]
    },
    {
     "cell_type": "code",
     "collapsed": false,
     "input": [
      "vcsn.context('lal_char(abc), z')"
     ],
     "language": "python",
     "metadata": {},
     "outputs": [
      {
       "latex": [
        "$\\{a, b, c\\}\\rightarrow\\mathbb{Z}$"
       ],
       "metadata": {},
       "output_type": "pyout",
       "prompt_number": 2,
       "text": [
        "lal_char(abc), z"
       ]
      }
     ],
     "prompt_number": 2
    },
    {
     "cell_type": "markdown",
     "metadata": {},
     "source": [
      "To use words on the usual alphabet as labels:"
     ]
    },
    {
     "cell_type": "code",
     "collapsed": false,
     "input": [
      "vcsn.context('law_char(a-z), z')"
     ],
     "language": "python",
     "metadata": {},
     "outputs": [
      {
       "latex": [
        "$\\{a, b, c, d, e, f, g, h, i, j, k, l, m, n, o, p, q, r, s, t, u, v, w, x, y, z\\}^*\\rightarrow\\mathbb{Z}$"
       ],
       "metadata": {},
       "output_type": "pyout",
       "prompt_number": 3,
       "text": [
        "law_char(abcdefghijklmnopqrstuvwxyz), z"
       ]
      }
     ],
     "prompt_number": 3
    },
    {
     "cell_type": "markdown",
     "metadata": {},
     "source": [
      "To create a \"classical\" two-tape automaton:"
     ]
    },
    {
     "cell_type": "code",
     "collapsed": false,
     "input": [
      "vcsn.context('lat<lal_char(a-f), lal_char(A-F)>, b')"
     ],
     "language": "python",
     "metadata": {},
     "outputs": [
      {
       "latex": [
        "$\\{a, b, c, d, e, f\\} \\times \\{A, B, C, D, E, F\\}\\rightarrow\\mathbb{B}$"
       ],
       "metadata": {},
       "output_type": "pyout",
       "prompt_number": 4,
       "text": [
        "lat<lal_char(abcdef), lal_char(ABCDEF)>, b"
       ]
      }
     ],
     "prompt_number": 4
    },
    {
     "cell_type": "markdown",
     "metadata": {},
     "source": [
      "To compute a Boolean and an integer:"
     ]
    },
    {
     "cell_type": "code",
     "collapsed": false,
     "input": [
      "vcsn.context('lal_char(ab), lat<b, z>')"
     ],
     "language": "python",
     "metadata": {},
     "outputs": [
      {
       "latex": [
        "$\\{a, b\\}\\rightarrow\\mathbb{B} \\times \\mathbb{Z}$"
       ],
       "metadata": {},
       "output_type": "pyout",
       "prompt_number": 5,
       "text": [
        "lal_char(ab), lat<b, z>"
       ]
      }
     ],
     "prompt_number": 5
    },
    {
     "cell_type": "markdown",
     "metadata": {},
     "source": [
      "The interpretation of the following monster is left to the reader as an exercise:"
     ]
    },
    {
     "cell_type": "code",
     "collapsed": false,
     "input": [
      "vcsn.context('lan<lat<lal_char(ba),lat<lan<lal_char(vu)>,law_char(x-z)>>>,'\n",
      "             +' lat<expressionset<lan<lat<lan_char(fe),lan_char(hg)>>, lat<r, q>>, lat<b, z>>')"
     ],
     "language": "python",
     "metadata": {},
     "outputs": [
      {
       "latex": [
        "$(\\{a, b\\} \\times (\\{u, v\\})^? \\times \\{x, y, z\\}^*)^?\\rightarrow\\mathsf{RatE}[(\\{e, f\\})^? \\times (\\{g, h\\})^?\\rightarrow\\mathbb{R} \\times \\mathbb{Q}] \\times \\mathbb{B} \\times \\mathbb{Z}$"
       ],
       "metadata": {},
       "output_type": "pyout",
       "prompt_number": 6,
       "text": [
        "lan<lat<lal_char(ab), lat<lan<lal_char(uv)>, law_char(xyz)>>>, lat<expressionset<lat<lan<lal_char(ef)>, lan<lal_char(gh)>>, lat<r, q>>, lat<b, z>>"
       ]
      }
     ],
     "prompt_number": 6
    }
   ],
   "metadata": {}
  }
 ]
}