{
 "cells": [
  {
   "cell_type": "markdown",
   "metadata": {},
   "source": [
    "## Contexts\n",
    "\n",
    "The Vcsn platform relies on a central concept: \"contexts\".  They denote typing information about automata, rational expressions, etc.  This information is alike a function type: an input type (the _label_), and an output type (the _weight_).\n",
    "\n",
    "Contexts are created by the `vcsn.context` function which takes a string as input.  This string follows the following syntax:\n",
    "\n",
    "    <context> ::= <labelset> , <weightset>\n",
    "    \n",
    "i.e., a context name is composed of a labelset name, then a comma, then a weightset name.\n",
    "\n",
    "## Labelsets\n",
    "\n",
    "Different _LabelSets_ model multiple variations on _labels_,\n",
    "members of a monoid:\n",
    "\n",
    "* `letterset<` _genset_ `>`<br>\n",
    "  Fully defined by an alphabet $A$, its labels being just\n",
    "  letters.  It is simply denoted by $A$.  It corresponds to the usual\n",
    "  definition of an NFA.\n",
    "\n",
    "* `nullableset<` _labelset_ `>`<br>\n",
    "  Denoted by $A^?$, also defined by an alphabet $A$, its\n",
    "  labels being either letters or the empty word.  This corresponds to what\n",
    "  is often called $\\varepsilon$-NFAs.\n",
    "  \n",
    "* `wordset<` _genset_ `>` <br>\n",
    "  Denoted by $A^*$, also defined by an alphabet $A$, its labels\n",
    "  being (possibly empty) words on this alphabet.\n",
    "\n",
    "* `oneset`<br>\n",
    "  Denoted by $\\{1\\}$, containing a single label: 1, the empty word.\n",
    "\n",
    "* `tupleset<` _labelset1_ `, ` _labelset2_ `, ..., ` _labelsetn_ `>` <br>\n",
    "  Cartesian product of LabelSets, $L_1 \\times \\cdots \\times\n",
    "  L_n$. This type implements the concept of transducers with an arbitrary\n",
    "  number of \"tapes\". The concept is developed more in-depth here: [Transducers](Transducers.ipynb).\n",
    "\n",
    "## Gensets\n",
    "\n",
    "The gensets define the types of the letters, and sets of the valid letters.  There is currently a single genset type.\n",
    "\n",
    "* `char_letters`<br>\n",
    "  Specify that the letters are implemented as `char`.  Any `char` will be accepted.  The genset is said to be \"open\".\n",
    "\n",
    "* `char_letters(abc...)`<br>\n",
    "  Specify that the letters are implemented as `char`, and the genset is closed to `{a, b, c}`.  Any other `char` will be rejected.\n",
    "\n",
    "## Abbreviations for Labelsets\n",
    "\n",
    "There are a few abbreviations that are accepted.\n",
    "\n",
    "* `lal_char`: `letterset<char_letters>`\n",
    "* `lal_char(abc)`: `letterset<char_letters(abc)>`\n",
    "* `lan_char`: `nullableset<letterset<char_letters>>`\n",
    "* `law_char`: `wordset<letterset<char_letters>>`\n",
    "\n",
    "## Weightsets\n",
    "\n",
    "The _WeightSets_ define the semiring of the weights.  Builtin weights include:\n",
    "\n",
    "* `b` <br/>\n",
    "  The classical Booleans: $\\langle \\mathbb{B}, \\vee, \\wedge, \\bot, \\top \\rangle$\n",
    "\n",
    "* `z` <br/>\n",
    "  The integers coded as `int`s: $\\langle \\mathbb{Z}, +, \\times, 0, 1 \\rangle$\n",
    "\n",
    "* `q`<br/>\n",
    "  The rationals, coded as pairs of `int`s: $\\langle \\mathbb{Q}, +, \\times, 0, 1 \\rangle$\n",
    "  \n",
    "* `qmp`<br/>\n",
    "  The rationals, with support for multiprecision: $\\langle \\mathbb{Q}_\\text{mp}, +, \\times, 0, 1 \\rangle$\n",
    "  \n",
    "* `r` <br/>\n",
    "  The reals, coded as `double`s: $\\langle \\mathbb{R}, +, \\times, 0, 1 \\rangle$\n",
    "  \n",
    "* `nmin` <br/>\n",
    "  The tropical semiring, coded as `unsigned int`s: $\\langle \\mathbb{N} \\cup \\{\\infty\\}, \\min, +, \\infty, 0 \\rangle$\n",
    "  \n",
    "* `zmin` <br/>\n",
    "  The tropical semiring, coded as `int`s: $\\langle \\mathbb{Z} \\cup \\{\\infty\\}, \\min, +, \\infty, 0 \\rangle$\n",
    "  \n",
    "* `rmin` <br/>\n",
    "  The tropical semiring, coded as `floats`s: $\\langle \\mathbb{R} \\cup \\{\\infty\\}, \\min, +, \\infty, 0 \\rangle$\n",
    "  \n",
    "* `log` <br/>\n",
    "  The log semiring, coded as `double`s: $\\langle \\mathbb{R} \\cup \\{-\\infty, +\\infty\\}, \\oplus_\\mathrm{log}, +, +\\infty, 0 \\rangle$ (where $\\oplus_\\mathrm{log}$ denotes $x, y \\rightarrow - \\mathrm{log}(\\exp(-x) + \\exp(-y))$.\n",
    "\n",
    "* `f2`<br/>\n",
    "  The field: $\\langle \\mathbb{F}_2, \\oplus, \\wedge, 0, 1 \\rangle$ (where $\\oplus$ denotes the \"exclusive or\").\n",
    "  \n",
    "* `tupleset`<br/>\n",
    "  Cartesian product of WeightSets, $W_1 \\times \\cdots \\times W_n$."
   ]
  },
  {
   "cell_type": "markdown",
   "metadata": {},
   "source": [
    "## Examples\n",
    "\n",
    "The usual framework for automaton is to use letters as labels, and Booleans as weights:"
   ]
  },
  {
   "cell_type": "code",
   "execution_count": 1,
   "metadata": {
    "collapsed": false
   },
   "outputs": [
    {
     "data": {
      "text/latex": [
       "$\\{a, b, c\\}\\rightarrow\\mathbb{B}$"
      ],
      "text/plain": [
       "letterset<char_letters(abc)>, b"
      ]
     },
     "execution_count": 1,
     "metadata": {},
     "output_type": "execute_result"
    }
   ],
   "source": [
    "import vcsn\n",
    "vcsn.context('lal<char(abc)>, b')"
   ]
  },
  {
   "cell_type": "markdown",
   "metadata": {},
   "source": [
    "If instead of a simple accepter that returns \"yes\" or \"no\", you want to compute an integer, work in $\\mathbb{Z}$:"
   ]
  },
  {
   "cell_type": "code",
   "execution_count": 2,
   "metadata": {
    "collapsed": false
   },
   "outputs": [
    {
     "data": {
      "text/latex": [
       "$\\{a, b, c\\}\\rightarrow\\mathbb{Z}$"
      ],
      "text/plain": [
       "letterset<char_letters(abc)>, z"
      ]
     },
     "execution_count": 2,
     "metadata": {},
     "output_type": "execute_result"
    }
   ],
   "source": [
    "vcsn.context('lal<char(abc)>, z')"
   ]
  },
  {
   "cell_type": "markdown",
   "metadata": {},
   "source": [
    "To use words on the usual alphabet as labels:"
   ]
  },
  {
   "cell_type": "code",
   "execution_count": 3,
   "metadata": {
    "collapsed": false
   },
   "outputs": [
    {
     "data": {
      "text/latex": [
       "$\\{a, b, c, d, e, f, g, h, i, j, k, l, m, n, o, p, q, r, s, t, u, v, w, x, y, z\\}^*\\rightarrow\\mathbb{Z}$"
      ],
      "text/plain": [
       "wordset<char_letters(abcdefghijklmnopqrstuvwxyz)>, z"
      ]
     },
     "execution_count": 3,
     "metadata": {},
     "output_type": "execute_result"
    }
   ],
   "source": [
    "vcsn.context('law<char(a-z)>, z')"
   ]
  },
  {
   "cell_type": "markdown",
   "metadata": {},
   "source": [
    "### $k$-tape Automata\n",
    "To create a \"classical\" two-tape automaton:"
   ]
  },
  {
   "cell_type": "code",
   "execution_count": 4,
   "metadata": {
    "collapsed": false
   },
   "outputs": [
    {
     "data": {
      "text/latex": [
       "$\\{a, b, c, d, e, f\\} \\times \\{A, B, C, D, E, F\\}\\rightarrow\\mathbb{B}$"
      ],
      "text/plain": [
       "lat<letterset<char_letters(abcdef)>, letterset<char_letters(ABCDEF)>>, b"
      ]
     },
     "execution_count": 4,
     "metadata": {},
     "output_type": "execute_result"
    }
   ],
   "source": [
    "vcsn.context('lat<lal<char(a-f)>, lal<char(A-F)>>, b')"
   ]
  },
  {
   "cell_type": "markdown",
   "metadata": {},
   "source": [
    "### Multiple Weights\n",
    "To compute a Boolean and an integer:"
   ]
  },
  {
   "cell_type": "code",
   "execution_count": 5,
   "metadata": {
    "collapsed": false
   },
   "outputs": [
    {
     "data": {
      "text/latex": [
       "$\\{a, b\\}\\rightarrow\\mathbb{B} \\times \\mathbb{Z}$"
      ],
      "text/plain": [
       "letterset<char_letters(ab)>, lat<b, z>"
      ]
     },
     "execution_count": 5,
     "metadata": {},
     "output_type": "execute_result"
    }
   ],
   "source": [
    "vcsn.context('lal<char(ab)>, lat<b, z>')"
   ]
  },
  {
   "cell_type": "markdown",
   "metadata": {},
   "source": [
    "The following automaton is almost able to recognize $a^nb^n$: it accepts only words of $a^nb^m$ (aka $a^*b^*$) and return $(n, m)$.  One still has to check that $n = m$."
   ]
  },
  {
   "cell_type": "code",
   "execution_count": 6,
   "metadata": {
    "collapsed": false
   },
   "outputs": [
    {
     "data": {
      "text/latex": [
       "$\\{a, b\\}\\rightarrow\\mathbb{Z}_{\\text{min}} \\times \\mathbb{Z}_{\\text{min}}$"
      ],
      "text/plain": [
       "letterset<char_letters(ab)>, lat<zmin, zmin>"
      ]
     },
     "execution_count": 6,
     "metadata": {},
     "output_type": "execute_result"
    }
   ],
   "source": [
    "zmin2 = vcsn.context('lal<char(ab)>, lat<zmin, zmin>')\n",
    "zmin2"
   ]
  },
  {
   "cell_type": "code",
   "execution_count": 7,
   "metadata": {
    "collapsed": false
   },
   "outputs": [
    {
     "data": {
      "text/latex": [
       "$\\left( \\left\\langle (1,0) \\right\\rangle \\,a\\right)^{*} \\, {b}^{*} \\& {a}^{*} \\, \\left( \\left\\langle (0,1) \\right\\rangle \\,b\\right)^{*}$"
      ],
      "text/plain": [
       "(<(1,0)>a)*b*&a*(<(0,1)>b)*"
      ]
     },
     "execution_count": 7,
     "metadata": {},
     "output_type": "execute_result"
    }
   ],
   "source": [
    "ab = zmin2.expression('(<1,0>a)*(<0,0>b)* & (<0,0>a)*(<0,1>b)*')\n",
    "ab"
   ]
  },
  {
   "cell_type": "code",
   "execution_count": 8,
   "metadata": {
    "collapsed": false
   },
   "outputs": [
    {
     "data": {
      "image/svg+xml": [
       "<?xml version=\"1.0\" encoding=\"UTF-8\" standalone=\"no\"?>\n",
       "<!DOCTYPE svg PUBLIC \"-//W3C//DTD SVG 1.1//EN\"\n",
       " \"http://www.w3.org/Graphics/SVG/1.1/DTD/svg11.dtd\">\n",
       "<!-- Generated by graphviz version 2.38.0 (20140413.2041)\n",
       " -->\n",
       "<!-- Title: %3 Pages: 1 -->\n",
       "<svg width=\"309pt\" height=\"119pt\"\n",
       " viewBox=\"0.00 0.00 309.00 119.00\" xmlns=\"http://www.w3.org/2000/svg\" xmlns:xlink=\"http://www.w3.org/1999/xlink\">\n",
       "<g id=\"graph0\" class=\"graph\" transform=\"scale(1 1) rotate(0) translate(4 115)\">\n",
       "<title>%3</title>\n",
       "<polygon fill=\"white\" stroke=\"none\" points=\"-4,4 -4,-115 305,-115 305,4 -4,4\"/>\n",
       "<!-- I0 -->\n",
       "<g id=\"node1\" class=\"node\"><title>I0</title>\n",
       "<ellipse fill=\"black\" stroke=\"black\" cx=\"0\" cy=\"-60\" rx=\"0\" ry=\"0\"/>\n",
       "</g>\n",
       "<!-- 0 -->\n",
       "<g id=\"node4\" class=\"node\"><title>0</title>\n",
       "<ellipse fill=\"#98f5ff\" stroke=\"black\" cx=\"92\" cy=\"-60\" rx=\"18\" ry=\"18\"/>\n",
       "<text text-anchor=\"middle\" x=\"92\" y=\"-56.3\" font-family=\"Times,serif\" font-size=\"14.00\">0</text>\n",
       "</g>\n",
       "<!-- I0&#45;&gt;0 -->\n",
       "<g id=\"edge1\" class=\"edge\"><title>I0&#45;&gt;0</title>\n",
       "<path fill=\"none\" stroke=\"black\" d=\"M1.0652,-60C2.8612,-60 41.347,-60 67.385,-60\"/>\n",
       "<polygon fill=\"black\" stroke=\"black\" points=\"73.707,-60 67.707,-62.7001 70.707,-60 67.707,-60.0001 67.707,-60.0001 67.707,-60.0001 70.707,-60 67.707,-57.3001 73.707,-60 73.707,-60\"/>\n",
       "<text text-anchor=\"middle\" x=\"37\" y=\"-63.8\" font-family=\"Times,serif\" font-size=\"14.00\">⟨(0,0)⟩</text>\n",
       "</g>\n",
       "<!-- F0 -->\n",
       "<g id=\"node2\" class=\"node\"><title>F0</title>\n",
       "<ellipse fill=\"black\" stroke=\"black\" cx=\"209\" cy=\"-87\" rx=\"0\" ry=\"0\"/>\n",
       "</g>\n",
       "<!-- F1 -->\n",
       "<g id=\"node3\" class=\"node\"><title>F1</title>\n",
       "<ellipse fill=\"black\" stroke=\"black\" cx=\"301\" cy=\"-18\" rx=\"0\" ry=\"0\"/>\n",
       "</g>\n",
       "<!-- 0&#45;&gt;F0 -->\n",
       "<g id=\"edge2\" class=\"edge\"><title>0&#45;&gt;F0</title>\n",
       "<path fill=\"none\" stroke=\"black\" d=\"M109.77,-64.1007C136.451,-70.258 185.573,-81.5938 202.819,-85.5736\"/>\n",
       "<polygon fill=\"black\" stroke=\"black\" points=\"208.952,-86.9888 202.498,-88.2705 206.029,-86.3142 203.105,-85.6396 203.105,-85.6396 203.105,-85.6396 206.029,-86.3142 203.712,-83.0088 208.952,-86.9888 208.952,-86.9888\"/>\n",
       "<text text-anchor=\"middle\" x=\"137.294\" y=\"-78.6371\" font-family=\"Times,serif\" font-size=\"14.00\">⟨(0,0)⟩</text>\n",
       "</g>\n",
       "<!-- 0&#45;&gt;0 -->\n",
       "<g id=\"edge3\" class=\"edge\"><title>0&#45;&gt;0</title>\n",
       "<path fill=\"none\" stroke=\"black\" d=\"M82.767,-75.541C80.169,-85.909 83.246,-96 92,-96 98.976,-96 102.35,-89.592 102.11,-81.743\"/>\n",
       "<polygon fill=\"black\" stroke=\"black\" points=\"101.23,-75.541 104.746,-81.1022 101.651,-78.5112 102.073,-81.4815 102.073,-81.4815 102.073,-81.4815 101.651,-78.5112 99.3998,-81.8608 101.23,-75.541 101.23,-75.541\"/>\n",
       "<text text-anchor=\"middle\" x=\"92\" y=\"-99.8\" font-family=\"Times,serif\" font-size=\"14.00\">⟨(1,0)⟩a</text>\n",
       "</g>\n",
       "<!-- 1 -->\n",
       "<g id=\"node5\" class=\"node\"><title>1</title>\n",
       "<ellipse fill=\"#98f5ff\" stroke=\"black\" cx=\"209\" cy=\"-18\" rx=\"18\" ry=\"18\"/>\n",
       "<text text-anchor=\"middle\" x=\"209\" y=\"-14.3\" font-family=\"Times,serif\" font-size=\"14.00\">1</text>\n",
       "</g>\n",
       "<!-- 0&#45;&gt;1 -->\n",
       "<g id=\"edge4\" class=\"edge\"><title>0&#45;&gt;1</title>\n",
       "<path fill=\"none\" stroke=\"black\" d=\"M109.48,-53.982C129.66,-46.612 163.91,-34.102 186.24,-25.946\"/>\n",
       "<polygon fill=\"black\" stroke=\"black\" points=\"191.92,-23.871 187.211,-28.466 189.102,-24.9004 186.284,-25.9299 186.284,-25.9299 186.284,-25.9299 189.102,-24.9004 185.358,-23.3938 191.92,-23.871 191.92,-23.871\"/>\n",
       "<text text-anchor=\"middle\" x=\"150.5\" y=\"-49.8\" font-family=\"Times,serif\" font-size=\"14.00\">⟨(0,1)⟩b</text>\n",
       "</g>\n",
       "<!-- 1&#45;&gt;F1 -->\n",
       "<g id=\"edge5\" class=\"edge\"><title>1&#45;&gt;F1</title>\n",
       "<path fill=\"none\" stroke=\"black\" d=\"M227.176,-18C247.874,-18 280.61,-18 294.464,-18\"/>\n",
       "<polygon fill=\"black\" stroke=\"black\" points=\"300.864,-18 294.864,-20.7001 297.864,-18 294.864,-18.0001 294.864,-18.0001 294.864,-18.0001 297.864,-18 294.864,-15.3001 300.864,-18 300.864,-18\"/>\n",
       "<text text-anchor=\"middle\" x=\"279.82\" y=\"-21.8\" font-family=\"Times,serif\" font-size=\"14.00\">⟨(0,0)⟩</text>\n",
       "</g>\n",
       "<!-- 1&#45;&gt;1 -->\n",
       "<g id=\"edge6\" class=\"edge\"><title>1&#45;&gt;1</title>\n",
       "<path fill=\"none\" stroke=\"black\" d=\"M199.77,-33.541C197.17,-43.909 200.25,-54 209,-54 215.98,-54 219.35,-47.592 219.11,-39.743\"/>\n",
       "<polygon fill=\"black\" stroke=\"black\" points=\"218.23,-33.541 221.746,-39.1022 218.651,-36.5112 219.073,-39.4815 219.073,-39.4815 219.073,-39.4815 218.651,-36.5112 216.4,-39.8608 218.23,-33.541 218.23,-33.541\"/>\n",
       "<text text-anchor=\"middle\" x=\"209\" y=\"-57.8\" font-family=\"Times,serif\" font-size=\"14.00\">⟨(0,1)⟩b</text>\n",
       "</g>\n",
       "</g>\n",
       "</svg>\n"
      ],
      "text/plain": [
       "mutable_automaton<context<letterset<char_letters>, lat<zmin, zmin>>>"
      ]
     },
     "execution_count": 8,
     "metadata": {},
     "output_type": "execute_result"
    }
   ],
   "source": [
    "a = ab.automaton()\n",
    "a"
   ]
  },
  {
   "cell_type": "code",
   "execution_count": 9,
   "metadata": {
    "collapsed": false
   },
   "outputs": [
    {
     "name": "stdout",
     "output_type": "stream",
     "text": [
      "<(0,0)>\\e\n",
      "<(1,0)>a\n",
      "<(0,1)>b\n",
      "<(2,0)>aa\n",
      "<(1,1)>ab\n",
      "<(0,2)>bb\n",
      "<(3,0)>aaa\n",
      "<(2,1)>aab\n",
      "<(1,2)>abb\n",
      "<(0,3)>bbb\n",
      "<(4,0)>aaaa\n",
      "<(3,1)>aaab\n",
      "<(2,2)>aabb\n",
      "<(1,3)>abbb\n",
      "<(0,4)>bbbb\n"
     ]
    }
   ],
   "source": [
    "print(a.shortest(len = 4).format('list'))"
   ]
  },
  {
   "cell_type": "markdown",
   "metadata": {},
   "source": [
    "### Boss\n",
    "The interpretation of the following monster is left to the reader as an exercise:"
   ]
  },
  {
   "cell_type": "code",
   "execution_count": 12,
   "metadata": {
    "collapsed": false
   },
   "outputs": [
    {
     "data": {
      "text/latex": [
       "$(\\{a, b\\} \\times (\\{u, v\\})^? \\times \\{x, y, z\\}^*)^?\\rightarrow\\mathsf{RatE}[(\\{e, f\\})^? \\times (\\{g, h\\})^?\\rightarrow\\mathbb{R} \\times \\mathbb{Q}] \\times \\mathbb{B} \\times \\mathbb{Z}$"
      ],
      "text/plain": [
       "nullableset<lat<letterset<char_letters(ab)>, lat<nullableset<letterset<char_letters(uv)>>, wordset<char_letters(xyz)>>>>, lat<expressionset<lat<nullableset<letterset<char_letters(ef)>>, nullableset<letterset<char_letters(gh)>>>, lat<r, q>>, lat<b, z>>"
      ]
     },
     "execution_count": 12,
     "metadata": {},
     "output_type": "execute_result"
    }
   ],
   "source": [
    "vcsn.context('''nullableset< lat<lal<char(ba)>, lat<lan<char(vu)>,\n",
    "                                            law<char(x-z)>>\n",
    "                      >\n",
    "                >\n",
    "                ,\n",
    "                lat<expressionset<nullableset<lat<lan<char(fe)>, lan<char(hg)>>>,\n",
    "                                  lat<r, q>>,\n",
    "                    lat<b, z>\n",
    "                    >\n",
    "''')"
   ]
  }
 ],
 "metadata": {
  "kernelspec": {
   "display_name": "Python 3",
   "language": "python",
   "name": "python3"
  },
  "language_info": {
   "codemirror_mode": {
    "name": "ipython",
    "version": 3
   },
   "file_extension": ".py",
   "mimetype": "text/x-python",
   "name": "python",
   "nbconvert_exporter": "python",
   "pygments_lexer": "ipython3",
   "version": "3.4.3"
  }
 },
 "nbformat": 4,
 "nbformat_minor": 0
}
