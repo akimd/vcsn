{
 "cells": [
  {
   "cell_type": "markdown",
   "metadata": {},
   "source": [
    "## Contexts\n",
    "\n",
    "The Vcsn platform relies on a central concept: \"contexts\".  They denote typing information about automata, rational expressions, etc.  This information is alike a function type: an input type (the _label_), and an output type (the _weight_).\n",
    "\n",
    "Contexts are created by the `vcsn.context` function which takes a string as input.  This string follows the following syntax:\n",
    "\n",
    "    <context> ::= <labelset> , <weightset>\n",
    "    \n",
    "i.e., a context name is composed of a labelset name, then a comma, then a weightset name.\n",
    "\n",
    "## Labelsets\n",
    "\n",
    "Different _LabelSets_ model multiple variations on _labels_,\n",
    "members of a monoid:\n",
    "\n",
    "* `letterset<` _genset_ `>`<br>\n",
    "  Denoted by $A^?$, defined by an alphabet $A$, its\n",
    "  labels being either letters or the empty word.  This corresponds to what\n",
    "  is often called $\\varepsilon$-NFAs.\n",
    "  \n",
    "* `wordset<` _genset_ `>` <br>\n",
    "  Denoted by $A^*$, also defined by an alphabet $A$, its labels\n",
    "  being (possibly empty) words on this alphabet.\n",
    "\n",
    "* `oneset`<br>\n",
    "  Denoted by $\\{1\\}$, containing a single label: 1, the empty word.\n",
    "\n",
    "* `tupleset<` _labelset1_ `, ` _labelset2_ `, ..., ` _labelsetn_ `>` <br>\n",
    "  Cartesian product of LabelSets, $L_1 \\times \\cdots \\times\n",
    "  L_n$. This type implements the concept of transducers with an arbitrary\n",
    "  number of \"tapes\". The concept is developed more in-depth here: [Transducers](Transducers.ipynb).\n",
    "\n",
    "## Gensets\n",
    "\n",
    "The gensets define the types of the letters, and sets of the valid letters.  There is currently a single genset type.\n",
    "\n",
    "* `char_letters`<br>\n",
    "  Specify that the letters are implemented as `char`.  Any `char` will be accepted.  The genset is said to be \"open\".\n",
    "\n",
    "* `char_letters(abc...)`<br>\n",
    "  Specify that the letters are implemented as `char`, and the genset is closed to `{a, b, c}`.  Any other `char` will be rejected.\n",
    "\n",
    "## Abbreviations for Labelsets\n",
    "\n",
    "There are a few abbreviations that are accepted.\n",
    "\n",
    "* `lal_char`: `letterset<char_letters>`\n",
    "* `lal_char(abc)`: `letterset<char_letters(abc)>`\n",
    "* `law_char`: `wordset<letterset<char_letters>>`\n",
    "\n",
    "## Weightsets\n",
    "\n",
    "The _WeightSets_ define the semiring of the weights.  Builtin weights include:\n",
    "\n",
    "* `b` <br/>\n",
    "  The classical Booleans: $\\langle \\mathbb{B}, \\vee, \\wedge, \\bot, \\top \\rangle$\n",
    "\n",
    "* `z` <br/>\n",
    "  The integers coded as `int`s: $\\langle \\mathbb{Z}, +, \\times, 0, 1 \\rangle$\n",
    "\n",
    "* `q`<br/>\n",
    "  The rationals, coded as pairs of `int`s: $\\langle \\mathbb{Q}, +, \\times, 0, 1 \\rangle$\n",
    "  \n",
    "* `qmp`<br/>\n",
    "  The rationals, with support for multiprecision: $\\langle \\mathbb{Q}_\\text{mp}, +, \\times, 0, 1 \\rangle$\n",
    "  \n",
    "* `r` <br/>\n",
    "  The reals, coded as `double`s: $\\langle \\mathbb{R}, +, \\times, 0, 1 \\rangle$\n",
    "  \n",
    "* `nmin` <br/>\n",
    "  The tropical semiring, coded as `unsigned int`s: $\\langle \\mathbb{N} \\cup \\{\\infty\\}, \\min, +, \\infty, 0 \\rangle$\n",
    "  \n",
    "* `zmin` <br/>\n",
    "  The tropical semiring, coded as `int`s: $\\langle \\mathbb{Z} \\cup \\{\\infty\\}, \\min, +, \\infty, 0 \\rangle$\n",
    "  \n",
    "* `rmin` <br/>\n",
    "  The tropical semiring, coded as `floats`s: $\\langle \\mathbb{R} \\cup \\{\\infty\\}, \\min, +, \\infty, 0 \\rangle$\n",
    "  \n",
    "* `log` <br/>\n",
    "  The log semiring, coded as `double`s: $\\langle \\mathbb{R} \\cup \\{-\\infty, +\\infty\\}, \\oplus_\\mathrm{log}, +, +\\infty, 0 \\rangle$ (where $\\oplus_\\mathrm{log}$ denotes $x, y \\rightarrow - \\mathrm{log}(\\exp(-x) + \\exp(-y))$.\n",
    "\n",
    "* `f2`<br/>\n",
    "  The field: $\\langle \\mathbb{F}_2, \\oplus, \\wedge, 0, 1 \\rangle$ (where $\\oplus$ denotes the \"exclusive or\").\n",
    "  \n",
    "* `tupleset`<br/>\n",
    "  Cartesian product of WeightSets, $W_1 \\times \\cdots \\times W_n$."
   ]
  },
  {
   "cell_type": "markdown",
   "metadata": {},
   "source": [
    "## Examples\n",
    "\n",
    "The usual framework for automaton is to use letters as labels, and Booleans as weights:"
   ]
  },
  {
   "cell_type": "code",
   "execution_count": 1,
   "metadata": {
    "collapsed": false
   },
   "outputs": [
    {
     "data": {
      "text/latex": [
       "$(\\{a, b, c\\})^?\\to\\mathbb{B}$"
      ],
      "text/plain": [
       "{abc}? -> B"
      ]
     },
     "execution_count": 1,
     "metadata": {},
     "output_type": "execute_result"
    }
   ],
   "source": [
    "import vcsn\n",
    "vcsn.context('lal<char(abc)>, b')"
   ]
  },
  {
   "cell_type": "markdown",
   "metadata": {},
   "source": [
    "If instead of a simple accepter that returns \"yes\" or \"no\", you want to compute an integer, work in $\\mathbb{Z}$:"
   ]
  },
  {
   "cell_type": "code",
   "execution_count": 2,
   "metadata": {
    "collapsed": false
   },
   "outputs": [
    {
     "data": {
      "text/latex": [
       "$(\\{a, b, c\\})^?\\to\\mathbb{Z}$"
      ],
      "text/plain": [
       "{abc}? -> Z"
      ]
     },
     "execution_count": 2,
     "metadata": {},
     "output_type": "execute_result"
    }
   ],
   "source": [
    "vcsn.context('lal<char(abc)>, z')"
   ]
  },
  {
   "cell_type": "markdown",
   "metadata": {},
   "source": [
    "To use words on the usual alphabet as labels:"
   ]
  },
  {
   "cell_type": "code",
   "execution_count": 3,
   "metadata": {
    "collapsed": false
   },
   "outputs": [
    {
     "data": {
      "text/latex": [
       "$\\{a, b, c, d, e, f, g, h, i, j, k, l, m, n, o, p, q, r, s, t, u, v, w, x, y, z\\}^*\\to\\mathbb{Z}$"
      ],
      "text/plain": [
       "{abcdefghijklmnopqrstuvwxyz}* -> Z"
      ]
     },
     "execution_count": 3,
     "metadata": {},
     "output_type": "execute_result"
    }
   ],
   "source": [
    "vcsn.context('law<char(a-z)>, z')"
   ]
  },
  {
   "cell_type": "markdown",
   "metadata": {},
   "source": [
    "### $k$-tape Automata\n",
    "To create a \"classical\" two-tape automaton:"
   ]
  },
  {
   "cell_type": "code",
   "execution_count": 4,
   "metadata": {
    "collapsed": false
   },
   "outputs": [
    {
     "data": {
      "text/latex": [
       "$(\\{a, b, c, d, e, f\\})^? \\times (\\{A, B, C, D, E, F\\})^?\\to\\mathbb{B}$"
      ],
      "text/plain": [
       "{abcdef}? x {ABCDEF}? -> B"
      ]
     },
     "execution_count": 4,
     "metadata": {},
     "output_type": "execute_result"
    }
   ],
   "source": [
    "vcsn.context('lat<lal<char(a-f)>, lal<char(A-F)>>, b')"
   ]
  },
  {
   "cell_type": "markdown",
   "metadata": {},
   "source": [
    "### Multiple Weights\n",
    "To compute a Boolean and an integer:"
   ]
  },
  {
   "cell_type": "code",
   "execution_count": 5,
   "metadata": {
    "collapsed": false
   },
   "outputs": [
    {
     "data": {
      "text/latex": [
       "$(\\{a, b\\})^?\\to\\mathbb{B} \\times \\mathbb{Z}$"
      ],
      "text/plain": [
       "{ab}? -> B x Z"
      ]
     },
     "execution_count": 5,
     "metadata": {},
     "output_type": "execute_result"
    }
   ],
   "source": [
    "vcsn.context('lal<char(ab)>, lat<b, z>')"
   ]
  },
  {
   "cell_type": "markdown",
   "metadata": {},
   "source": [
    "The following automaton is almost able to recognize $a^nb^n$: it accepts only words of $a^nb^m$ (aka $a^*b^*$) and return $(n, m)$.  One still has to check that $n = m$."
   ]
  },
  {
   "cell_type": "code",
   "execution_count": 6,
   "metadata": {
    "collapsed": false
   },
   "outputs": [
    {
     "data": {
      "text/latex": [
       "$(\\{a, b\\})^?\\to\\mathbb{Z}_{\\text{min}} \\times \\mathbb{Z}_{\\text{min}}$"
      ],
      "text/plain": [
       "{ab}? -> Zmin x Zmin"
      ]
     },
     "execution_count": 6,
     "metadata": {},
     "output_type": "execute_result"
    }
   ],
   "source": [
    "zmin2 = vcsn.context('lal<char(ab)>, lat<zmin, zmin>')\n",
    "zmin2"
   ]
  },
  {
   "cell_type": "code",
   "execution_count": 7,
   "metadata": {
    "collapsed": false
   },
   "outputs": [
    {
     "data": {
      "text/latex": [
       "$\\left( \\left\\langle 1,0 \\right\\rangle \\,a\\right)^{*} \\, {b}^{*} \\& {a}^{*} \\, \\left( \\left\\langle 0,1 \\right\\rangle \\,b\\right)^{*}$"
      ],
      "text/plain": [
       "(<1,0>a)*b*&a*(<0,1>b)*"
      ]
     },
     "execution_count": 7,
     "metadata": {},
     "output_type": "execute_result"
    }
   ],
   "source": [
    "ab = zmin2.expression('(<1,0>a)*(<0,0>b)* & (<0,0>a)*(<0,1>b)*')\n",
    "ab"
   ]
  },
  {
   "cell_type": "code",
   "execution_count": 8,
   "metadata": {
    "collapsed": false
   },
   "outputs": [
    {
     "data": {
      "image/svg+xml": [
       "<?xml version=\"1.0\" encoding=\"UTF-8\" standalone=\"no\"?>\n",
       "<!DOCTYPE svg PUBLIC \"-//W3C//DTD SVG 1.1//EN\"\n",
       " \"http://www.w3.org/Graphics/SVG/1.1/DTD/svg11.dtd\">\n",
       "<!-- Generated by graphviz version 2.38.0 (20140413.2041)\n",
       " -->\n",
       "<!-- Title: %3 Pages: 1 -->\n",
       "<svg width=\"279pt\" height=\"119pt\"\n",
       " viewBox=\"0.00 0.00 279.00 119.00\" xmlns=\"http://www.w3.org/2000/svg\" xmlns:xlink=\"http://www.w3.org/1999/xlink\">\n",
       "<g id=\"graph0\" class=\"graph\" transform=\"scale(1 1) rotate(0) translate(4 115)\">\n",
       "<title>%3</title>\n",
       "<polygon fill=\"white\" stroke=\"none\" points=\"-4,4 -4,-115 275,-115 275,4 -4,4\"/>\n",
       "<!-- I0 -->\n",
       "<g id=\"node1\" class=\"node\"><title>I0</title>\n",
       "<ellipse fill=\"black\" stroke=\"black\" cx=\"0\" cy=\"-60\" rx=\"0\" ry=\"0\"/>\n",
       "</g>\n",
       "<!-- 0 -->\n",
       "<g id=\"node4\" class=\"node\"><title>0</title>\n",
       "<ellipse fill=\"#98f5ff\" stroke=\"black\" cx=\"82\" cy=\"-60\" rx=\"18\" ry=\"18\"/>\n",
       "<text text-anchor=\"middle\" x=\"82\" y=\"-56.3\" font-family=\"Times,serif\" font-size=\"14.00\">0</text>\n",
       "</g>\n",
       "<!-- I0&#45;&gt;0 -->\n",
       "<g id=\"edge1\" class=\"edge\"><title>I0&#45;&gt;0</title>\n",
       "<path fill=\"none\" stroke=\"black\" d=\"M1.058,-60C2.5976,-60 34.472,-60 57.499,-60\"/>\n",
       "<polygon fill=\"black\" stroke=\"black\" points=\"63.727,-60 57.727,-62.7001 60.727,-60 57.727,-60.0001 57.727,-60.0001 57.727,-60.0001 60.727,-60 57.727,-57.3001 63.727,-60 63.727,-60\"/>\n",
       "<text text-anchor=\"middle\" x=\"32\" y=\"-63.8\" font-family=\"Times,serif\" font-size=\"14.00\">⟨0,0⟩</text>\n",
       "</g>\n",
       "<!-- F0 -->\n",
       "<g id=\"node2\" class=\"node\"><title>F0</title>\n",
       "<ellipse fill=\"black\" stroke=\"black\" cx=\"189\" cy=\"-87\" rx=\"0\" ry=\"0\"/>\n",
       "</g>\n",
       "<!-- F1 -->\n",
       "<g id=\"node3\" class=\"node\"><title>F1</title>\n",
       "<ellipse fill=\"black\" stroke=\"black\" cx=\"271\" cy=\"-18\" rx=\"0\" ry=\"0\"/>\n",
       "</g>\n",
       "<!-- 0&#45;&gt;F0 -->\n",
       "<g id=\"edge2\" class=\"edge\"><title>0&#45;&gt;F0</title>\n",
       "<path fill=\"none\" stroke=\"black\" d=\"M99.6689,-64.4585C124.05,-70.6107 166.805,-81.3994 182.762,-85.4259\"/>\n",
       "<polygon fill=\"black\" stroke=\"black\" points=\"188.83,-86.9571 182.352,-88.107 185.921,-86.2231 183.012,-85.489 183.012,-85.489 183.012,-85.489 185.921,-86.2231 183.673,-82.8711 188.83,-86.9571 188.83,-86.9571\"/>\n",
       "<text text-anchor=\"middle\" x=\"127.215\" y=\"-78.7422\" font-family=\"Times,serif\" font-size=\"14.00\">⟨0,0⟩</text>\n",
       "</g>\n",
       "<!-- 0&#45;&gt;0 -->\n",
       "<g id=\"edge3\" class=\"edge\"><title>0&#45;&gt;0</title>\n",
       "<path fill=\"none\" stroke=\"black\" d=\"M73.367,-75.916C71.114,-86.15 73.992,-96 82,-96 88.381,-96 91.505,-89.745 91.371,-82.026\"/>\n",
       "<polygon fill=\"black\" stroke=\"black\" points=\"90.633,-75.916 94.0331,-81.5489 90.9928,-78.8944 91.3526,-81.8727 91.3526,-81.8727 91.3526,-81.8727 90.9928,-78.8944 88.6721,-82.1965 90.633,-75.916 90.633,-75.916\"/>\n",
       "<text text-anchor=\"middle\" x=\"82\" y=\"-99.8\" font-family=\"Times,serif\" font-size=\"14.00\">⟨1,0⟩a</text>\n",
       "</g>\n",
       "<!-- 1 -->\n",
       "<g id=\"node5\" class=\"node\"><title>1</title>\n",
       "<ellipse fill=\"#98f5ff\" stroke=\"black\" cx=\"189\" cy=\"-18\" rx=\"18\" ry=\"18\"/>\n",
       "<text text-anchor=\"middle\" x=\"189\" y=\"-14.3\" font-family=\"Times,serif\" font-size=\"14.00\">1</text>\n",
       "</g>\n",
       "<!-- 0&#45;&gt;1 -->\n",
       "<g id=\"edge4\" class=\"edge\"><title>0&#45;&gt;1</title>\n",
       "<path fill=\"none\" stroke=\"black\" d=\"M98.947,-53.621C116.91,-46.436 146.2,-34.718 166.25,-26.698\"/>\n",
       "<polygon fill=\"black\" stroke=\"black\" points=\"171.9,-24.439 167.331,-29.1736 169.114,-25.5528 166.329,-26.6666 166.329,-26.6666 166.329,-26.6666 169.114,-25.5528 165.326,-24.1595 171.9,-24.439 171.9,-24.439\"/>\n",
       "<text text-anchor=\"middle\" x=\"135.5\" y=\"-48.8\" font-family=\"Times,serif\" font-size=\"14.00\">⟨0,1⟩b</text>\n",
       "</g>\n",
       "<!-- 1&#45;&gt;F1 -->\n",
       "<g id=\"edge5\" class=\"edge\"><title>1&#45;&gt;F1</title>\n",
       "<path fill=\"none\" stroke=\"black\" d=\"M207.198,-18C225.482,-18 252.636,-18 264.76,-18\"/>\n",
       "<polygon fill=\"black\" stroke=\"black\" points=\"270.886,-18 264.886,-20.7001 267.886,-18 264.886,-18.0001 264.886,-18.0001 264.886,-18.0001 267.886,-18 264.885,-15.3001 270.886,-18 270.886,-18\"/>\n",
       "<text text-anchor=\"middle\" x=\"221.979\" y=\"-21.8\" font-family=\"Times,serif\" font-size=\"14.00\">⟨0,0⟩</text>\n",
       "</g>\n",
       "<!-- 1&#45;&gt;1 -->\n",
       "<g id=\"edge6\" class=\"edge\"><title>1&#45;&gt;1</title>\n",
       "<path fill=\"none\" stroke=\"black\" d=\"M180.37,-33.916C178.11,-44.15 180.99,-54 189,-54 195.38,-54 198.5,-47.745 198.37,-40.026\"/>\n",
       "<polygon fill=\"black\" stroke=\"black\" points=\"197.63,-33.916 201.032,-39.5478 197.991,-36.8942 198.351,-39.8725 198.351,-39.8725 198.351,-39.8725 197.991,-36.8942 195.671,-40.1971 197.63,-33.916 197.63,-33.916\"/>\n",
       "<text text-anchor=\"middle\" x=\"189\" y=\"-57.8\" font-family=\"Times,serif\" font-size=\"14.00\">⟨0,1⟩b</text>\n",
       "</g>\n",
       "</g>\n",
       "</svg>\n"
      ],
      "text/plain": [
       "mutable_automaton<context<letterset<char_letters>, lat<zmin, zmin>>>"
      ]
     },
     "execution_count": 8,
     "metadata": {},
     "output_type": "execute_result"
    }
   ],
   "source": [
    "a = ab.automaton()\n",
    "a"
   ]
  },
  {
   "cell_type": "code",
   "execution_count": 9,
   "metadata": {
    "collapsed": false
   },
   "outputs": [
    {
     "name": "stdout",
     "output_type": "stream",
     "text": [
      "<0,0>\\e\n",
      "<1,0>a\n",
      "<0,1>b\n",
      "<2,0>aa\n",
      "<1,1>ab\n",
      "<0,2>bb\n",
      "<3,0>aaa\n",
      "<2,1>aab\n",
      "<1,2>abb\n",
      "<0,3>bbb\n",
      "<4,0>aaaa\n",
      "<3,1>aaab\n",
      "<2,2>aabb\n",
      "<1,3>abbb\n",
      "<0,4>bbbb\n"
     ]
    }
   ],
   "source": [
    "print(a.shortest(len = 4).format('list'))"
   ]
  },
  {
   "cell_type": "markdown",
   "metadata": {},
   "source": [
    "### Boss\n",
    "The interpretation of the following monster is left to the reader as an exercise:"
   ]
  },
  {
   "cell_type": "code",
   "execution_count": 10,
   "metadata": {
    "collapsed": false
   },
   "outputs": [
    {
     "data": {
      "text/latex": [
       "$(\\{a, b\\})^? \\times (\\{u, v\\})^? \\times \\{x, y, z\\}^*\\to\\mathsf{RatE}[(\\{e, f\\})^? \\times (\\{g, h\\})^?\\to\\mathbb{R} \\times \\mathbb{Q}] \\times \\mathbb{B} \\times \\mathbb{Z}$"
      ],
      "text/plain": [
       "{ab}? x {uv}? x {xyz}* -> RatE[{ef}? x {gh}? -> R x Q] x B x Z"
      ]
     },
     "execution_count": 10,
     "metadata": {},
     "output_type": "execute_result"
    }
   ],
   "source": [
    "vcsn.context('''lat< lal<char(ba)>,\n",
    "                                  lat< lal<char(vu)>, law<char(x-z)> >\n",
    "                >\n",
    "                ,\n",
    "                lat<expressionset<lat<lal<char(fe)>, lal<char(hg)>>,\n",
    "                                  lat<r, q>>,\n",
    "                    lat<b, z>\n",
    "                >\n",
    "''')"
   ]
  }
 ],
 "metadata": {
  "kernelspec": {
   "display_name": "Python 3",
   "language": "python",
   "name": "python3"
  },
  "language_info": {
   "codemirror_mode": {
    "name": "ipython",
    "version": 3
   },
   "file_extension": ".py",
   "mimetype": "text/x-python",
   "name": "python",
   "nbconvert_exporter": "python",
   "pygments_lexer": "ipython3",
   "version": "3.4.3"
  }
 },
 "nbformat": 4,
 "nbformat_minor": 0
}
