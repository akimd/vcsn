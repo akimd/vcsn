{
 "cells": [
  {
   "cell_type": "markdown",
   "metadata": {},
   "source": [
    "# Operators on polynomials\n",
    "\n",
    "<table>\n",
    "  <tr><td>`p + p`</td>     <td>[add](polynomial.add.ipynb)</td>                <td>Sum (disjunction)</td></tr>\n",
    "  <tr><td>`p * weight`</td><td>[rweight](polynomial.rweight.ipynb)</td>        <td>Right scalar product</td></tr>\n",
    "  <tr><td>`weight * p`</td><td>[lweight](polynomial.lweight.ipynb)</td>        <td>Left scalar product</td></tr>\n",
    "  <tr><td>`p * p`</td>     <td>[multiply](polynomial.multiply.ipynb)</td>      <td>Product (concatenation)</td></tr>\n",
    "  <tr><td>`p / p`</td>     <td>[ldivide](polynomial.ldivide.ipynb)</td>       <td>Right-quotient (division)</td></tr>\n",
    "  <tr><td>`p & p`</td>     <td>[conjunction](polynomial.conjunction.ipynb)</td><td>Conjunction (synchronized product)</td></tr>\n",
    "  <tr><td>`p ** n`</td>    <td>[multiply](polynomial.multiply.ipynb)</td>      <td>Repeated concatenation</td></tr>\n",
    "  <tr><td>`p | p`</td>     <td>[tuple](polynomial.tuple.ipynb)</td>            <td>Cartesian product</td></tr>\n",
    "</table>"
   ]
  }
 ],
 "metadata": {
  "kernelspec": {
   "display_name": "Python 3",
   "language": "python",
   "name": "python3"
  },
  "language_info": {
   "codemirror_mode": {
    "name": "ipython",
    "version": 3
   },
   "file_extension": ".py",
   "mimetype": "text/x-python",
   "name": "python",
   "nbconvert_exporter": "python",
   "pygments_lexer": "ipython3",
   "version": "3.5.2"
  }
 },
 "nbformat": 4,
 "nbformat_minor": 0
}
