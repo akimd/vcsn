{
 "metadata": {
  "name": "",
  "signature": "sha256:cf88f53268f8844ab4e8897c8a412211a84a26f1839de8bc5b5f11e22af3b171"
 },
 "nbformat": 3,
 "nbformat_minor": 0,
 "worksheets": []
}