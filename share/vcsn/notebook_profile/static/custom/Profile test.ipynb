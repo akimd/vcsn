{
 "metadata": {
  "name": "",
  "signature": "sha256:2c30541a1b8e0aa7665730c876214d97ebbb2093e43b7c29ac128ccfcc565684"
 },
 "nbformat": 3,
 "nbformat_minor": 0,
 "worksheets": [
  {
   "cells": [
    {
     "cell_type": "code",
     "collapsed": false,
     "input": [],
     "language": "python",
     "metadata": {},
     "outputs": []
    }
   ],
   "metadata": {}
  }
 ]
}