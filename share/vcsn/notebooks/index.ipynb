{
 "metadata": {
  "name": "",
  "signature": "sha256:091c8defee869267fdbc0516d1d2e11b6dd78741da4e6f4ad0d0190a3b70350b"
 },
 "nbformat": 3,
 "nbformat_minor": 0,
 "worksheets": [
  {
   "cells": [
    {
     "cell_type": "heading",
     "level": 1,
     "metadata": {},
     "source": [
      "Welcome to Vcsn"
     ]
    },
    {
     "cell_type": "markdown",
     "metadata": {},
     "source": [
      "Welcome to this Vcsn tutorial.  Vcsn is a platform (C++ libraries with various interfaces, a Python binding, and some specific features for IPython) for weighted automata and rational expressions.\n",
      "\n",
      "This tutorial tries to guide you throw the Python binding, and more specifically the IPython interface, of Vcsn.  If you are not a Python programmer, rest assured that you don't need to know much, and if you are a Python programmer, rest assured that its conventions have been respected, and you will be able to take the full benefit from both Vcsn and Python.\n",
      "\n",
      "* [Welcome to Vcsn](index.ipynb) - This page\n",
      "* [Contexts](Contexts.ipynb) - The typing system for automata, expressions, etc.\n",
      "* [Editing Automata](Editing Automata.ipynb) - How to define or edit automata\n",
      "* [Algorithms](algos/index.ipynb) - Available operations on automata, expressions, etc.\n",
      "* [References](References.ipynb) - Publications on the algorithms and constructs used in Vcsn"
     ]
    },
    {
     "cell_type": "heading",
     "level": 2,
     "metadata": {},
     "source": [
      "Quick Start"
     ]
    },
    {
     "cell_type": "markdown",
     "metadata": {},
     "source": [
      "Vcsn offers several interfaces:\n",
      "- fast efficient C++ templated library dubbed `static`\n",
      "- a dynamic and flexible C++ interface dubbed `dyn` on top of `static`\n",
      "- a Python interface on top of `dyn`\n",
      "- an IPython interface built on top of the Python API (which is used to generate this very document)\n",
      "- and also a (somewhat obsolete) shell interface named `TAF-Kit`."
     ]
    },
    {
     "cell_type": "markdown",
     "metadata": {},
     "source": [
      "This documentation shows how to use the IPython interactive environment.  Provided that Vcsn was properly deployed on your platform, to launch it run the following command from your shell:\n",
      "\n",
      "    vcsn notebook"
     ]
    },
    {
     "cell_type": "markdown",
     "metadata": {},
     "source": [
      "A web browser should open on a directory list.  Click on the \"New Notebook\" button, which should open a new sheet.  The remainder of this documentation is about such sheets.\n",
      "\n",
      "First, import Vcsn\n",
      "into Python, and define the \"context\" in which you want to work.  Do not worry about the (ugly!) syntax, just see where the alphabet (the set of letters, $\\{a, b, c\\}$) is defined.  The last line (`ctx`) is here so that IPython displays what this variable contains."
     ]
    },
    {
     "cell_type": "code",
     "collapsed": false,
     "input": [
      "import vcsn\n",
      "ctx = vcsn.context(\"lal_char(abc)_b\")\n",
      "ctx"
     ],
     "language": "python",
     "metadata": {},
     "outputs": [
      {
       "latex": [
        "$\\{a, b, c\\}\\rightarrow\\mathbb{B}$"
       ],
       "metadata": {},
       "output_type": "pyout",
       "prompt_number": 1,
       "text": [
        "lal_char(abc)_b"
       ]
      }
     ],
     "prompt_number": 1
    },
    {
     "cell_type": "markdown",
     "metadata": {},
     "source": [
      "This object, the context, defines the types of the various entities.  To build a rational expression on this alphabet, use `ctx.ratexp` as follows:"
     ]
    },
    {
     "cell_type": "code",
     "collapsed": false,
     "input": [
      "r1 = ctx.ratexp(\"ab*\")\n",
      "r1"
     ],
     "language": "python",
     "metadata": {},
     "outputs": [
      {
       "latex": [
        "$a \\, {b}^{*}$"
       ],
       "metadata": {},
       "output_type": "pyout",
       "prompt_number": 2,
       "text": [
        "ab*"
       ]
      }
     ],
     "prompt_number": 2
    },
    {
     "cell_type": "markdown",
     "metadata": {},
     "source": [
      "The syntax for rational expressions is as follows (with increasing precedence):\n",
      "- `\\z` denotes the empty language\n",
      "- `\\e` denotes the language of the empty word\n",
      "- `a` denotes the language of the word `a`\n",
      "- `e+f` denotes the union of the languages of `e` and `f` (note the use of `+`, `|` is not accepted)\n",
      "- `ef` denotes the concatenation of the languages of `e` and `f`\n",
      "- `e*` denotes the Kleene closure of the language of `e`"
     ]
    },
    {
     "cell_type": "markdown",
     "metadata": {},
     "source": [
      "So for instance `r1` denotes the words starting with a single `a` followed by any number of `b`s."
     ]
    },
    {
     "cell_type": "markdown",
     "metadata": {},
     "source": [
      "Rational expressions are objects that feature methods.  One such method is `shortest(number)` that lists the `number` first (in shortlex order) words of the language defined by the rational expresion:"
     ]
    },
    {
     "cell_type": "code",
     "collapsed": false,
     "input": [
      "r1.shortest(10)"
     ],
     "language": "python",
     "metadata": {},
     "outputs": [
      {
       "latex": [
        "$a \\oplus ab \\oplus abb \\oplus abbb \\oplus abbbb \\oplus abbbbb \\oplus abbbbbb \\oplus abbbbbbb \\oplus abbbbbbbb \\oplus abbbbbbbbb$"
       ],
       "metadata": {},
       "output_type": "pyout",
       "prompt_number": 3,
       "text": [
        "a + ab + abb + abbb + abbbb + abbbbb + abbbbbb + abbbbbbb + abbbbbbbb + abbbbbbbbb"
       ]
      }
     ],
     "prompt_number": 3
    },
    {
     "cell_type": "markdown",
     "metadata": {},
     "source": [
      "You may compose rational expressions using Python operators such as `+` for sum, `*` for multiplication (concatenation):"
     ]
    },
    {
     "cell_type": "code",
     "collapsed": false,
     "input": [
      "r1 + r1 * r1"
     ],
     "language": "python",
     "metadata": {},
     "outputs": [
      {
       "latex": [
        "$a \\, {b}^{*} + a \\, {b}^{*} \\, a \\, {b}^{*}$"
       ],
       "metadata": {},
       "output_type": "pyout",
       "prompt_number": 4,
       "text": [
        "ab*+ab*ab*"
       ]
      }
     ],
     "prompt_number": 4
    },
    {
     "cell_type": "markdown",
     "metadata": {},
     "source": [
      "Vcsn features different means to build an automaton from a rational expression.  The `ratexp.standard()` method builds the \"standard autamaton\", also known as the \"position automaton\", or the \"Glushkov automaton\":"
     ]
    },
    {
     "cell_type": "code",
     "collapsed": false,
     "input": [
      "r1.standard()"
     ],
     "language": "python",
     "metadata": {},
     "outputs": [
      {
       "metadata": {},
       "output_type": "pyout",
       "prompt_number": 5,
       "svg": [
        "<?xml version=\"1.0\" encoding=\"UTF-8\" standalone=\"no\"?>\n",
        "<!DOCTYPE svg PUBLIC \"-//W3C//DTD SVG 1.1//EN\"\n",
        " \"http://www.w3.org/Graphics/SVG/1.1/DTD/svg11.dtd\">\n",
        "<!-- Generated by graphviz version 2.38.0 (20140413.2041)\n",
        " -->\n",
        "<!-- Title: %3 Pages: 1 -->\n",
        "<svg width=\"277pt\" height=\"95pt\"\n",
        " viewBox=\"0.00 0.00 277.00 95.00\" xmlns=\"http://www.w3.org/2000/svg\" xmlns:xlink=\"http://www.w3.org/1999/xlink\">\n",
        "<g id=\"graph0\" class=\"graph\" transform=\"scale(1 1) rotate(0) translate(4 91)\">\n",
        "<title>%3</title>\n",
        "<polygon fill=\"white\" stroke=\"none\" points=\"-4,4 -4,-91 273,-91 273,4 -4,4\"/>\n",
        "<!-- I0 -->\n",
        "<g id=\"node1\" class=\"node\"><title>I0</title>\n",
        "<ellipse fill=\"black\" stroke=\"black\" cx=\"0\" cy=\"-62\" rx=\"0\" ry=\"0\"/>\n",
        "</g>\n",
        "<!-- 0 -->\n",
        "<g id=\"node4\" class=\"node\"><title>0</title>\n",
        "<ellipse fill=\"#98f5ff\" stroke=\"black\" cx=\"55\" cy=\"-62\" rx=\"18\" ry=\"18\"/>\n",
        "<text text-anchor=\"middle\" x=\"55\" y=\"-58.3\" font-family=\"Times,serif\" font-size=\"14.00\">0</text>\n",
        "</g>\n",
        "<!-- I0&#45;&gt;0 -->\n",
        "<g id=\"edge1\" class=\"edge\"><title>I0&#45;&gt;0</title>\n",
        "<path fill=\"none\" stroke=\"black\" d=\"M1.152,-62C2.7948,-62 17.459,-62 30.924,-62\"/>\n",
        "<polygon fill=\"black\" stroke=\"black\" points=\"36.975,-62 30.975,-64.7001 33.975,-62 30.975,-62.0001 30.975,-62.0001 30.975,-62.0001 33.975,-62 30.975,-59.3001 36.975,-62 36.975,-62\"/>\n",
        "</g>\n",
        "<!-- F1 -->\n",
        "<g id=\"node2\" class=\"node\"><title>F1</title>\n",
        "<ellipse fill=\"black\" stroke=\"black\" cx=\"214\" cy=\"-87\" rx=\"0\" ry=\"0\"/>\n",
        "</g>\n",
        "<!-- F3 -->\n",
        "<g id=\"node3\" class=\"node\"><title>F3</title>\n",
        "<ellipse fill=\"black\" stroke=\"black\" cx=\"269\" cy=\"-18\" rx=\"0\" ry=\"0\"/>\n",
        "</g>\n",
        "<!-- 1 -->\n",
        "<g id=\"node5\" class=\"node\"><title>1</title>\n",
        "<ellipse fill=\"#98f5ff\" stroke=\"black\" cx=\"134\" cy=\"-62\" rx=\"18\" ry=\"18\"/>\n",
        "<text text-anchor=\"middle\" x=\"134\" y=\"-58.3\" font-family=\"Times,serif\" font-size=\"14.00\">1</text>\n",
        "</g>\n",
        "<!-- 0&#45;&gt;1 -->\n",
        "<g id=\"edge2\" class=\"edge\"><title>0&#45;&gt;1</title>\n",
        "<path fill=\"none\" stroke=\"black\" d=\"M73.089,-62C83.855,-62 97.897,-62 109.68,-62\"/>\n",
        "<polygon fill=\"black\" stroke=\"black\" points=\"115.96,-62 109.96,-64.7001 112.96,-62 109.96,-62.0001 109.96,-62.0001 109.96,-62.0001 112.96,-62 109.96,-59.3001 115.96,-62 115.96,-62\"/>\n",
        "<text text-anchor=\"middle\" x=\"94.5\" y=\"-65.8\" font-family=\"Times,serif\" font-size=\"14.00\">a</text>\n",
        "</g>\n",
        "<!-- 1&#45;&gt;F1 -->\n",
        "<g id=\"edge3\" class=\"edge\"><title>1&#45;&gt;F1</title>\n",
        "<path fill=\"none\" stroke=\"black\" d=\"M151.359,-67.4246C169.166,-72.9894 195.9,-81.3437 207.848,-85.0776\"/>\n",
        "<polygon fill=\"black\" stroke=\"black\" points=\"213.887,-86.9647 207.355,-87.7521 211.024,-86.0699 208.16,-85.175 208.16,-85.175 208.16,-85.175 211.024,-86.0699 208.966,-82.5979 213.887,-86.9647 213.887,-86.9647\"/>\n",
        "</g>\n",
        "<!-- 3 -->\n",
        "<g id=\"node6\" class=\"node\"><title>3</title>\n",
        "<ellipse fill=\"#98f5ff\" stroke=\"black\" cx=\"214\" cy=\"-18\" rx=\"18\" ry=\"18\"/>\n",
        "<text text-anchor=\"middle\" x=\"214\" y=\"-14.3\" font-family=\"Times,serif\" font-size=\"14.00\">3</text>\n",
        "</g>\n",
        "<!-- 1&#45;&gt;3 -->\n",
        "<g id=\"edge4\" class=\"edge\"><title>1&#45;&gt;3</title>\n",
        "<path fill=\"none\" stroke=\"black\" d=\"M150.04,-53.516C162.12,-46.699 179.22,-37.054 192.55,-29.535\"/>\n",
        "<polygon fill=\"black\" stroke=\"black\" points=\"198.01,-26.458 194.108,-31.756 195.396,-27.9309 192.783,-29.4038 192.783,-29.4038 192.783,-29.4038 195.396,-27.9309 191.457,-27.0516 198.01,-26.458 198.01,-26.458\"/>\n",
        "<text text-anchor=\"middle\" x=\"174\" y=\"-44.8\" font-family=\"Times,serif\" font-size=\"14.00\">b</text>\n",
        "</g>\n",
        "<!-- 3&#45;&gt;F3 -->\n",
        "<g id=\"edge5\" class=\"edge\"><title>3&#45;&gt;F3</title>\n",
        "<path fill=\"none\" stroke=\"black\" d=\"M232.009,-18C242.571,-18 255.261,-18 262.698,-18\"/>\n",
        "<polygon fill=\"black\" stroke=\"black\" points=\"268.939,-18 262.939,-20.7001 265.939,-18 262.939,-18.0001 262.939,-18.0001 262.939,-18.0001 265.939,-18 262.939,-15.3001 268.939,-18 268.939,-18\"/>\n",
        "</g>\n",
        "<!-- 3&#45;&gt;3 -->\n",
        "<g id=\"edge6\" class=\"edge\"><title>3&#45;&gt;3</title>\n",
        "<path fill=\"none\" stroke=\"black\" d=\"M207.62,-35.037C206.32,-44.858 208.45,-54 214,-54 218.34,-54 220.59,-48.42 220.74,-41.296\"/>\n",
        "<polygon fill=\"black\" stroke=\"black\" points=\"220.38,-35.037 223.42,-40.872 220.552,-38.0321 220.725,-41.0271 220.725,-41.0271 220.725,-41.0271 220.552,-38.0321 218.029,-41.1822 220.38,-35.037 220.38,-35.037\"/>\n",
        "<text text-anchor=\"middle\" x=\"214\" y=\"-57.8\" font-family=\"Times,serif\" font-size=\"14.00\">b</text>\n",
        "</g>\n",
        "</g>\n",
        "</svg>\n"
       ],
       "text": [
        "mutable_automaton<lal_char(abc)_b>"
       ]
      }
     ],
     "prompt_number": 5
    },
    {
     "cell_type": "markdown",
     "metadata": {},
     "source": [
      "When it comes to displaying automata as graphs, there are several \"traditions\".  In Vcsns, initial states are denoted by an entering arrow, and final (or \"accepting\") states are denoted by an exiting arrow.  This automaton has one initial state, and two final states.\n",
      "\n",
      "The `ratexp.derived_term()` method builds the \"derived-term automaton\", aka, the Antimirov automaton."
     ]
    },
    {
     "cell_type": "code",
     "collapsed": false,
     "input": [
      "a1 = r1.derived_term()\n",
      "a1"
     ],
     "language": "python",
     "metadata": {},
     "outputs": [
      {
       "metadata": {},
       "output_type": "pyout",
       "prompt_number": 6,
       "svg": [
        "<?xml version=\"1.0\" encoding=\"UTF-8\" standalone=\"no\"?>\n",
        "<!DOCTYPE svg PUBLIC \"-//W3C//DTD SVG 1.1//EN\"\n",
        " \"http://www.w3.org/Graphics/SVG/1.1/DTD/svg11.dtd\">\n",
        "<!-- Generated by graphviz version 2.38.0 (20140413.2041)\n",
        " -->\n",
        "<!-- Title: %3 Pages: 1 -->\n",
        "<svg width=\"199pt\" height=\"77pt\"\n",
        " viewBox=\"0.00 0.00 199.00 77.00\" xmlns=\"http://www.w3.org/2000/svg\" xmlns:xlink=\"http://www.w3.org/1999/xlink\">\n",
        "<g id=\"graph0\" class=\"graph\" transform=\"scale(1 1) rotate(0) translate(4 73)\">\n",
        "<title>%3</title>\n",
        "<polygon fill=\"white\" stroke=\"none\" points=\"-4,4 -4,-73 195,-73 195,4 -4,4\"/>\n",
        "<!-- I0 -->\n",
        "<g id=\"node1\" class=\"node\"><title>I0</title>\n",
        "<ellipse fill=\"black\" stroke=\"black\" cx=\"0\" cy=\"-18\" rx=\"0\" ry=\"0\"/>\n",
        "</g>\n",
        "<!-- 0 -->\n",
        "<g id=\"node3\" class=\"node\"><title>0</title>\n",
        "<path fill=\"#98f5ff\" stroke=\"black\" d=\"M63,-36C63,-36 49,-36 49,-36 43,-36 37,-30 37,-24 37,-24 37,-12 37,-12 37,-6 43,-0 49,-0 49,-0 63,-0 63,-0 69,-0 75,-6 75,-12 75,-12 75,-24 75,-24 75,-30 69,-36 63,-36\"/>\n",
        "<text text-anchor=\"middle\" x=\"56\" y=\"-14.3\" font-family=\"Times,serif\" font-size=\"14.00\">ab*</text>\n",
        "</g>\n",
        "<!-- I0&#45;&gt;0 -->\n",
        "<g id=\"edge1\" class=\"edge\"><title>I0&#45;&gt;0</title>\n",
        "<path fill=\"none\" stroke=\"black\" d=\"M1.1549,-18C2.7965,-18 17.2,-18 30.696,-18\"/>\n",
        "<polygon fill=\"black\" stroke=\"black\" points=\"36.784,-18 30.784,-20.7001 33.784,-18 30.784,-18.0001 30.784,-18.0001 30.784,-18.0001 33.784,-18 30.784,-15.3001 36.784,-18 36.784,-18\"/>\n",
        "</g>\n",
        "<!-- F1 -->\n",
        "<g id=\"node2\" class=\"node\"><title>F1</title>\n",
        "<ellipse fill=\"black\" stroke=\"black\" cx=\"191\" cy=\"-18\" rx=\"0\" ry=\"0\"/>\n",
        "</g>\n",
        "<!-- 1 -->\n",
        "<g id=\"node4\" class=\"node\"><title>1</title>\n",
        "<path fill=\"#98f5ff\" stroke=\"black\" d=\"M142,-36C142,-36 130,-36 130,-36 124,-36 118,-30 118,-24 118,-24 118,-12 118,-12 118,-6 124,-0 130,-0 130,-0 142,-0 142,-0 148,-0 154,-6 154,-12 154,-12 154,-24 154,-24 154,-30 148,-36 142,-36\"/>\n",
        "<text text-anchor=\"middle\" x=\"136\" y=\"-14.3\" font-family=\"Times,serif\" font-size=\"14.00\">b*</text>\n",
        "</g>\n",
        "<!-- 0&#45;&gt;1 -->\n",
        "<g id=\"edge2\" class=\"edge\"><title>0&#45;&gt;1</title>\n",
        "<path fill=\"none\" stroke=\"black\" d=\"M75.091,-18C85.951,-18 99.882,-18 111.58,-18\"/>\n",
        "<polygon fill=\"black\" stroke=\"black\" points=\"117.81,-18 111.81,-20.7001 114.81,-18 111.81,-18.0001 111.81,-18.0001 111.81,-18.0001 114.81,-18 111.81,-15.3001 117.81,-18 117.81,-18\"/>\n",
        "<text text-anchor=\"middle\" x=\"96.5\" y=\"-21.8\" font-family=\"Times,serif\" font-size=\"14.00\">a</text>\n",
        "</g>\n",
        "<!-- 1&#45;&gt;F1 -->\n",
        "<g id=\"edge3\" class=\"edge\"><title>1&#45;&gt;F1</title>\n",
        "<path fill=\"none\" stroke=\"black\" d=\"M154.009,-18C164.571,-18 177.261,-18 184.698,-18\"/>\n",
        "<polygon fill=\"black\" stroke=\"black\" points=\"190.939,-18 184.939,-20.7001 187.939,-18 184.939,-18.0001 184.939,-18.0001 184.939,-18.0001 187.939,-18 184.939,-15.3001 190.939,-18 190.939,-18\"/>\n",
        "</g>\n",
        "<!-- 1&#45;&gt;1 -->\n",
        "<g id=\"edge4\" class=\"edge\"><title>1&#45;&gt;1</title>\n",
        "<path fill=\"none\" stroke=\"black\" d=\"M129.49,-36.153C128.49,-45.539 130.66,-54 136,-54 140.09,-54 142.32,-49.04 142.69,-42.503\"/>\n",
        "<polygon fill=\"black\" stroke=\"black\" points=\"142.51,-36.153 145.379,-42.074 142.595,-39.1518 142.68,-42.1506 142.68,-42.1506 142.68,-42.1506 142.595,-39.1518 139.981,-42.2271 142.51,-36.153 142.51,-36.153\"/>\n",
        "<text text-anchor=\"middle\" x=\"136\" y=\"-57.8\" font-family=\"Times,serif\" font-size=\"14.00\">b</text>\n",
        "</g>\n",
        "</g>\n",
        "</svg>\n"
       ],
       "text": [
        "ratexp_automaton<mutable_automaton<lal_char(abc)_b>>"
       ]
      }
     ],
     "prompt_number": 6
    },
    {
     "cell_type": "markdown",
     "metadata": {},
     "source": [
      "Python operators that are accepted by rational expressions are also accepted by automata, with matching semantics."
     ]
    },
    {
     "cell_type": "code",
     "collapsed": false,
     "input": [
      "a2 = (r1 + r1*r1).derived_term()\n",
      "a2"
     ],
     "language": "python",
     "metadata": {},
     "outputs": [
      {
       "metadata": {},
       "output_type": "pyout",
       "prompt_number": 7,
       "svg": [
        "<?xml version=\"1.0\" encoding=\"UTF-8\" standalone=\"no\"?>\n",
        "<!DOCTYPE svg PUBLIC \"-//W3C//DTD SVG 1.1//EN\"\n",
        " \"http://www.w3.org/Graphics/SVG/1.1/DTD/svg11.dtd\">\n",
        "<!-- Generated by graphviz version 2.38.0 (20140413.2041)\n",
        " -->\n",
        "<!-- Title: %3 Pages: 1 -->\n",
        "<svg width=\"344pt\" height=\"135pt\"\n",
        " viewBox=\"0.00 0.00 344.00 135.00\" xmlns=\"http://www.w3.org/2000/svg\" xmlns:xlink=\"http://www.w3.org/1999/xlink\">\n",
        "<g id=\"graph0\" class=\"graph\" transform=\"scale(1 1) rotate(0) translate(4 131)\">\n",
        "<title>%3</title>\n",
        "<polygon fill=\"white\" stroke=\"none\" points=\"-4,4 -4,-131 340,-131 340,4 -4,4\"/>\n",
        "<!-- I0 -->\n",
        "<g id=\"node1\" class=\"node\"><title>I0</title>\n",
        "<ellipse fill=\"black\" stroke=\"black\" cx=\"0\" cy=\"-76\" rx=\"0\" ry=\"0\"/>\n",
        "</g>\n",
        "<!-- 0 -->\n",
        "<g id=\"node3\" class=\"node\"><title>0</title>\n",
        "<path fill=\"#98f5ff\" stroke=\"black\" d=\"M112,-94C112,-94 49,-94 49,-94 43,-94 37,-88 37,-82 37,-82 37,-70 37,-70 37,-64 43,-58 49,-58 49,-58 112,-58 112,-58 118,-58 124,-64 124,-70 124,-70 124,-82 124,-82 124,-88 118,-94 112,-94\"/>\n",
        "<text text-anchor=\"middle\" x=\"80.5\" y=\"-72.3\" font-family=\"Times,serif\" font-size=\"14.00\">ab*+ab*ab*</text>\n",
        "</g>\n",
        "<!-- I0&#45;&gt;0 -->\n",
        "<g id=\"edge1\" class=\"edge\"><title>I0&#45;&gt;0</title>\n",
        "<path fill=\"none\" stroke=\"black\" d=\"M1.0569,-76C2.0242,-76 15.193,-76 30.474,-76\"/>\n",
        "<polygon fill=\"black\" stroke=\"black\" points=\"36.647,-76 30.647,-78.7001 33.647,-76 30.647,-76.0001 30.647,-76.0001 30.647,-76.0001 33.647,-76 30.647,-73.3001 36.647,-76 36.647,-76\"/>\n",
        "</g>\n",
        "<!-- F1 -->\n",
        "<g id=\"node2\" class=\"node\"><title>F1</title>\n",
        "<ellipse fill=\"black\" stroke=\"black\" cx=\"336\" cy=\"-76\" rx=\"0\" ry=\"0\"/>\n",
        "</g>\n",
        "<!-- 1 -->\n",
        "<g id=\"node4\" class=\"node\"><title>1</title>\n",
        "<path fill=\"#98f5ff\" stroke=\"black\" d=\"M287,-94C287,-94 275,-94 275,-94 269,-94 263,-88 263,-82 263,-82 263,-70 263,-70 263,-64 269,-58 275,-58 275,-58 287,-58 287,-58 293,-58 299,-64 299,-70 299,-70 299,-82 299,-82 299,-88 293,-94 287,-94\"/>\n",
        "<text text-anchor=\"middle\" x=\"281\" y=\"-72.3\" font-family=\"Times,serif\" font-size=\"14.00\">b*</text>\n",
        "</g>\n",
        "<!-- 0&#45;&gt;1 -->\n",
        "<g id=\"edge2\" class=\"edge\"><title>0&#45;&gt;1</title>\n",
        "<path fill=\"none\" stroke=\"black\" d=\"M124.24,-77.303C151.62,-77.968 187.9,-78.535 220,-78 232.11,-77.798 245.59,-77.368 256.7,-76.957\"/>\n",
        "<polygon fill=\"black\" stroke=\"black\" points=\"262.93,-76.72 257.037,-79.6462 259.932,-76.8341 256.934,-76.9482 256.934,-76.9482 256.934,-76.9482 259.932,-76.8341 256.832,-74.2501 262.93,-76.72 262.93,-76.72\"/>\n",
        "<text text-anchor=\"middle\" x=\"193.5\" y=\"-81.8\" font-family=\"Times,serif\" font-size=\"14.00\">a</text>\n",
        "</g>\n",
        "<!-- 2 -->\n",
        "<g id=\"node5\" class=\"node\"><title>2</title>\n",
        "<path fill=\"#98f5ff\" stroke=\"black\" d=\"M208,-36C208,-36 179,-36 179,-36 173,-36 167,-30 167,-24 167,-24 167,-12 167,-12 167,-6 173,-0 179,-0 179,-0 208,-0 208,-0 214,-0 220,-6 220,-12 220,-12 220,-24 220,-24 220,-30 214,-36 208,-36\"/>\n",
        "<text text-anchor=\"middle\" x=\"193.5\" y=\"-14.3\" font-family=\"Times,serif\" font-size=\"14.00\">b*ab*</text>\n",
        "</g>\n",
        "<!-- 0&#45;&gt;2 -->\n",
        "<g id=\"edge3\" class=\"edge\"><title>0&#45;&gt;2</title>\n",
        "<path fill=\"none\" stroke=\"black\" d=\"M116.01,-57.966C130.51,-50.392 147.24,-41.648 161.36,-34.273\"/>\n",
        "<polygon fill=\"black\" stroke=\"black\" points=\"166.83,-31.415 162.762,-36.5866 164.171,-32.8043 161.512,-34.1936 161.512,-34.1936 161.512,-34.1936 164.171,-32.8043 160.262,-31.8005 166.83,-31.415 166.83,-31.415\"/>\n",
        "<text text-anchor=\"middle\" x=\"145.5\" y=\"-46.8\" font-family=\"Times,serif\" font-size=\"14.00\">a</text>\n",
        "</g>\n",
        "<!-- 1&#45;&gt;F1 -->\n",
        "<g id=\"edge4\" class=\"edge\"><title>1&#45;&gt;F1</title>\n",
        "<path fill=\"none\" stroke=\"black\" d=\"M299.009,-76C309.571,-76 322.261,-76 329.698,-76\"/>\n",
        "<polygon fill=\"black\" stroke=\"black\" points=\"335.939,-76 329.939,-78.7001 332.939,-76 329.939,-76.0001 329.939,-76.0001 329.939,-76.0001 332.939,-76 329.939,-73.3001 335.939,-76 335.939,-76\"/>\n",
        "</g>\n",
        "<!-- 1&#45;&gt;1 -->\n",
        "<g id=\"edge5\" class=\"edge\"><title>1&#45;&gt;1</title>\n",
        "<path fill=\"none\" stroke=\"black\" d=\"M274.49,-94.153C273.49,-103.54 275.66,-112 281,-112 285.09,-112 287.32,-107.04 287.69,-100.5\"/>\n",
        "<polygon fill=\"black\" stroke=\"black\" points=\"287.51,-94.153 290.379,-100.074 287.595,-97.1518 287.68,-100.151 287.68,-100.151 287.68,-100.151 287.595,-97.1518 284.981,-100.227 287.51,-94.153 287.51,-94.153\"/>\n",
        "<text text-anchor=\"middle\" x=\"281\" y=\"-115.8\" font-family=\"Times,serif\" font-size=\"14.00\">b</text>\n",
        "</g>\n",
        "<!-- 2&#45;&gt;1 -->\n",
        "<g id=\"edge6\" class=\"edge\"><title>2&#45;&gt;1</title>\n",
        "<path fill=\"none\" stroke=\"black\" d=\"M220.15,-35.402C232.1,-43.504 246.17,-53.052 257.67,-60.853\"/>\n",
        "<polygon fill=\"black\" stroke=\"black\" points=\"262.76,-64.302 256.278,-63.1714 260.276,-62.6191 257.793,-60.9362 257.793,-60.9362 257.793,-60.9362 260.276,-62.6191 259.307,-58.701 262.76,-64.302 262.76,-64.302\"/>\n",
        "<text text-anchor=\"middle\" x=\"241.5\" y=\"-55.8\" font-family=\"Times,serif\" font-size=\"14.00\">a</text>\n",
        "</g>\n",
        "<!-- 2&#45;&gt;2 -->\n",
        "<g id=\"edge7\" class=\"edge\"><title>2&#45;&gt;2</title>\n",
        "<path fill=\"none\" stroke=\"black\" d=\"M184.82,-36.153C183.48,-45.539 186.38,-54 193.5,-54 198.96,-54 201.93,-49.04 202.43,-42.503\"/>\n",
        "<polygon fill=\"black\" stroke=\"black\" points=\"202.18,-36.153 205.114,-42.0421 202.298,-39.1507 202.416,-42.1484 202.416,-42.1484 202.416,-42.1484 202.298,-39.1507 199.718,-42.2546 202.18,-36.153 202.18,-36.153\"/>\n",
        "<text text-anchor=\"middle\" x=\"193.5\" y=\"-57.8\" font-family=\"Times,serif\" font-size=\"14.00\">b</text>\n",
        "</g>\n",
        "</g>\n",
        "</svg>\n"
       ],
       "text": [
        "ratexp_automaton<mutable_automaton<lal_char(abc)_b>>"
       ]
      }
     ],
     "prompt_number": 7
    },
    {
     "cell_type": "code",
     "collapsed": false,
     "input": [
      "a3 = a1 + a1 * a1\n",
      "a3"
     ],
     "language": "python",
     "metadata": {},
     "outputs": [
      {
       "metadata": {},
       "output_type": "pyout",
       "prompt_number": 8,
       "svg": [
        "<?xml version=\"1.0\" encoding=\"UTF-8\" standalone=\"no\"?>\n",
        "<!DOCTYPE svg PUBLIC \"-//W3C//DTD SVG 1.1//EN\"\n",
        " \"http://www.w3.org/Graphics/SVG/1.1/DTD/svg11.dtd\">\n",
        "<!-- Generated by graphviz version 2.38.0 (20140413.2041)\n",
        " -->\n",
        "<!-- Title: %3 Pages: 1 -->\n",
        "<svg width=\"276pt\" height=\"164pt\"\n",
        " viewBox=\"0.00 0.00 276.00 164.00\" xmlns=\"http://www.w3.org/2000/svg\" xmlns:xlink=\"http://www.w3.org/1999/xlink\">\n",
        "<g id=\"graph0\" class=\"graph\" transform=\"scale(1 1) rotate(0) translate(4 160)\">\n",
        "<title>%3</title>\n",
        "<polygon fill=\"white\" stroke=\"none\" points=\"-4,4 -4,-160 272,-160 272,4 -4,4\"/>\n",
        "<!-- I0 -->\n",
        "<g id=\"node1\" class=\"node\"><title>I0</title>\n",
        "<ellipse fill=\"black\" stroke=\"black\" cx=\"0\" cy=\"-67\" rx=\"0\" ry=\"0\"/>\n",
        "</g>\n",
        "<!-- 0 -->\n",
        "<g id=\"node4\" class=\"node\"><title>0</title>\n",
        "<ellipse fill=\"#98f5ff\" stroke=\"black\" cx=\"55\" cy=\"-67\" rx=\"18\" ry=\"18\"/>\n",
        "<text text-anchor=\"middle\" x=\"55\" y=\"-63.3\" font-family=\"Times,serif\" font-size=\"14.00\">0</text>\n",
        "</g>\n",
        "<!-- I0&#45;&gt;0 -->\n",
        "<g id=\"edge1\" class=\"edge\"><title>I0&#45;&gt;0</title>\n",
        "<path fill=\"none\" stroke=\"black\" d=\"M1.152,-67C2.7948,-67 17.459,-67 30.924,-67\"/>\n",
        "<polygon fill=\"black\" stroke=\"black\" points=\"36.975,-67 30.975,-69.7001 33.975,-67 30.975,-67.0001 30.975,-67.0001 30.975,-67.0001 33.975,-67 30.975,-64.3001 36.975,-67 36.975,-67\"/>\n",
        "</g>\n",
        "<!-- F1 -->\n",
        "<g id=\"node2\" class=\"node\"><title>F1</title>\n",
        "<ellipse fill=\"black\" stroke=\"black\" cx=\"213\" cy=\"-105\" rx=\"0\" ry=\"0\"/>\n",
        "</g>\n",
        "<!-- F3 -->\n",
        "<g id=\"node3\" class=\"node\"><title>F3</title>\n",
        "<ellipse fill=\"black\" stroke=\"black\" cx=\"268\" cy=\"-18\" rx=\"0\" ry=\"0\"/>\n",
        "</g>\n",
        "<!-- 1 -->\n",
        "<g id=\"node5\" class=\"node\"><title>1</title>\n",
        "<ellipse fill=\"#98f5ff\" stroke=\"black\" cx=\"134\" cy=\"-105\" rx=\"18\" ry=\"18\"/>\n",
        "<text text-anchor=\"middle\" x=\"134\" y=\"-101.3\" font-family=\"Times,serif\" font-size=\"14.00\">1</text>\n",
        "</g>\n",
        "<!-- 0&#45;&gt;1 -->\n",
        "<g id=\"edge2\" class=\"edge\"><title>0&#45;&gt;1</title>\n",
        "<path fill=\"none\" stroke=\"black\" d=\"M71.582,-74.69C83.167,-80.407 99.105,-88.272 111.84,-94.558\"/>\n",
        "<polygon fill=\"black\" stroke=\"black\" points=\"117.44,-97.322 110.865,-97.0875 114.75,-95.9942 112.06,-94.6664 112.06,-94.6664 112.06,-94.6664 114.75,-95.9942 113.255,-92.2452 117.44,-97.322 117.44,-97.322\"/>\n",
        "<text text-anchor=\"middle\" x=\"94.5\" y=\"-90.8\" font-family=\"Times,serif\" font-size=\"14.00\">a</text>\n",
        "</g>\n",
        "<!-- 2 -->\n",
        "<g id=\"node6\" class=\"node\"><title>2</title>\n",
        "<ellipse fill=\"#98f5ff\" stroke=\"black\" cx=\"134\" cy=\"-18\" rx=\"18\" ry=\"18\"/>\n",
        "<text text-anchor=\"middle\" x=\"134\" y=\"-14.3\" font-family=\"Times,serif\" font-size=\"14.00\">2</text>\n",
        "</g>\n",
        "<!-- 0&#45;&gt;2 -->\n",
        "<g id=\"edge3\" class=\"edge\"><title>0&#45;&gt;2</title>\n",
        "<path fill=\"none\" stroke=\"black\" d=\"M70.483,-57.783C82.559,-50.099 99.885,-39.073 113.24,-30.578\"/>\n",
        "<polygon fill=\"black\" stroke=\"black\" points=\"118.32,-27.342 114.71,-32.8428 115.79,-28.9538 113.259,-30.5656 113.259,-30.5656 113.259,-30.5656 115.79,-28.9538 111.809,-28.2884 118.32,-27.342 118.32,-27.342\"/>\n",
        "<text text-anchor=\"middle\" x=\"94.5\" y=\"-46.8\" font-family=\"Times,serif\" font-size=\"14.00\">a</text>\n",
        "</g>\n",
        "<!-- 1&#45;&gt;F1 -->\n",
        "<g id=\"edge4\" class=\"edge\"><title>1&#45;&gt;F1</title>\n",
        "<path fill=\"none\" stroke=\"black\" d=\"M152.323,-105C169.809,-105 195.156,-105 206.767,-105\"/>\n",
        "<polygon fill=\"black\" stroke=\"black\" points=\"212.892,-105 206.892,-107.7 209.892,-105 206.892,-105 206.892,-105 206.892,-105 209.892,-105 206.892,-102.3 212.892,-105 212.892,-105\"/>\n",
        "</g>\n",
        "<!-- 1&#45;&gt;1 -->\n",
        "<g id=\"edge5\" class=\"edge\"><title>1&#45;&gt;1</title>\n",
        "<path fill=\"none\" stroke=\"black\" d=\"M127.27,-122.04C125.89,-131.86 128.14,-141 134,-141 138.58,-141 140.95,-135.42 141.12,-128.3\"/>\n",
        "<polygon fill=\"black\" stroke=\"black\" points=\"140.73,-122.04 143.798,-127.86 140.917,-125.034 141.103,-128.028 141.103,-128.028 141.103,-128.028 140.917,-125.034 138.408,-128.196 140.73,-122.04 140.73,-122.04\"/>\n",
        "<text text-anchor=\"middle\" x=\"134\" y=\"-144.8\" font-family=\"Times,serif\" font-size=\"14.00\">b</text>\n",
        "</g>\n",
        "<!-- 2&#45;&gt;2 -->\n",
        "<g id=\"edge6\" class=\"edge\"><title>2&#45;&gt;2</title>\n",
        "<path fill=\"none\" stroke=\"black\" d=\"M127.27,-35.037C125.89,-44.858 128.14,-54 134,-54 138.58,-54 140.95,-48.42 141.12,-41.296\"/>\n",
        "<polygon fill=\"black\" stroke=\"black\" points=\"140.73,-35.037 143.798,-40.8574 140.917,-38.0312 141.103,-41.0254 141.103,-41.0254 141.103,-41.0254 140.917,-38.0312 138.408,-41.1933 140.73,-35.037 140.73,-35.037\"/>\n",
        "<text text-anchor=\"middle\" x=\"134\" y=\"-57.8\" font-family=\"Times,serif\" font-size=\"14.00\">b</text>\n",
        "</g>\n",
        "<!-- 3 -->\n",
        "<g id=\"node7\" class=\"node\"><title>3</title>\n",
        "<ellipse fill=\"#98f5ff\" stroke=\"black\" cx=\"213\" cy=\"-18\" rx=\"18\" ry=\"18\"/>\n",
        "<text text-anchor=\"middle\" x=\"213\" y=\"-14.3\" font-family=\"Times,serif\" font-size=\"14.00\">3</text>\n",
        "</g>\n",
        "<!-- 2&#45;&gt;3 -->\n",
        "<g id=\"edge7\" class=\"edge\"><title>2&#45;&gt;3</title>\n",
        "<path fill=\"none\" stroke=\"black\" d=\"M152.09,-18C162.86,-18 176.9,-18 188.68,-18\"/>\n",
        "<polygon fill=\"black\" stroke=\"black\" points=\"194.96,-18 188.96,-20.7001 191.96,-18 188.96,-18.0001 188.96,-18.0001 188.96,-18.0001 191.96,-18 188.96,-15.3001 194.96,-18 194.96,-18\"/>\n",
        "<text text-anchor=\"middle\" x=\"173.5\" y=\"-21.8\" font-family=\"Times,serif\" font-size=\"14.00\">a</text>\n",
        "</g>\n",
        "<!-- 3&#45;&gt;F3 -->\n",
        "<g id=\"edge8\" class=\"edge\"><title>3&#45;&gt;F3</title>\n",
        "<path fill=\"none\" stroke=\"black\" d=\"M231.009,-18C241.571,-18 254.261,-18 261.698,-18\"/>\n",
        "<polygon fill=\"black\" stroke=\"black\" points=\"267.939,-18 261.939,-20.7001 264.939,-18 261.939,-18.0001 261.939,-18.0001 261.939,-18.0001 264.939,-18 261.939,-15.3001 267.939,-18 267.939,-18\"/>\n",
        "</g>\n",
        "<!-- 3&#45;&gt;3 -->\n",
        "<g id=\"edge9\" class=\"edge\"><title>3&#45;&gt;3</title>\n",
        "<path fill=\"none\" stroke=\"black\" d=\"M206.62,-35.037C205.32,-44.858 207.45,-54 213,-54 217.34,-54 219.59,-48.42 219.74,-41.296\"/>\n",
        "<polygon fill=\"black\" stroke=\"black\" points=\"219.38,-35.037 222.42,-40.872 219.552,-38.0321 219.725,-41.0271 219.725,-41.0271 219.725,-41.0271 219.552,-38.0321 217.029,-41.1822 219.38,-35.037 219.38,-35.037\"/>\n",
        "<text text-anchor=\"middle\" x=\"213\" y=\"-57.8\" font-family=\"Times,serif\" font-size=\"14.00\">b</text>\n",
        "</g>\n",
        "</g>\n",
        "</svg>\n"
       ],
       "text": [
        "mutable_automaton<lal_char(abc)_b>"
       ]
      }
     ],
     "prompt_number": 8
    },
    {
     "cell_type": "markdown",
     "metadata": {},
     "source": [
      "Well, those two automata are not equal (or more rigorously \"isomorphic\"), but they are equivalent:"
     ]
    },
    {
     "cell_type": "code",
     "collapsed": false,
     "input": [
      "a2.is_equivalent(a3)"
     ],
     "language": "python",
     "metadata": {},
     "outputs": [
      {
       "metadata": {},
       "output_type": "pyout",
       "prompt_number": 9,
       "text": [
        "True"
       ]
      }
     ],
     "prompt_number": 9
    },
    {
     "cell_type": "markdown",
     "metadata": {},
     "source": [
      "All the classical algorithms about automata are implemented:"
     ]
    },
    {
     "cell_type": "code",
     "collapsed": false,
     "input": [
      "a3"
     ],
     "language": "python",
     "metadata": {},
     "outputs": [
      {
       "metadata": {},
       "output_type": "pyout",
       "prompt_number": 10,
       "svg": [
        "<?xml version=\"1.0\" encoding=\"UTF-8\" standalone=\"no\"?>\n",
        "<!DOCTYPE svg PUBLIC \"-//W3C//DTD SVG 1.1//EN\"\n",
        " \"http://www.w3.org/Graphics/SVG/1.1/DTD/svg11.dtd\">\n",
        "<!-- Generated by graphviz version 2.38.0 (20140413.2041)\n",
        " -->\n",
        "<!-- Title: %3 Pages: 1 -->\n",
        "<svg width=\"276pt\" height=\"164pt\"\n",
        " viewBox=\"0.00 0.00 276.00 164.00\" xmlns=\"http://www.w3.org/2000/svg\" xmlns:xlink=\"http://www.w3.org/1999/xlink\">\n",
        "<g id=\"graph0\" class=\"graph\" transform=\"scale(1 1) rotate(0) translate(4 160)\">\n",
        "<title>%3</title>\n",
        "<polygon fill=\"white\" stroke=\"none\" points=\"-4,4 -4,-160 272,-160 272,4 -4,4\"/>\n",
        "<!-- I0 -->\n",
        "<g id=\"node1\" class=\"node\"><title>I0</title>\n",
        "<ellipse fill=\"black\" stroke=\"black\" cx=\"0\" cy=\"-67\" rx=\"0\" ry=\"0\"/>\n",
        "</g>\n",
        "<!-- 0 -->\n",
        "<g id=\"node4\" class=\"node\"><title>0</title>\n",
        "<ellipse fill=\"#98f5ff\" stroke=\"black\" cx=\"55\" cy=\"-67\" rx=\"18\" ry=\"18\"/>\n",
        "<text text-anchor=\"middle\" x=\"55\" y=\"-63.3\" font-family=\"Times,serif\" font-size=\"14.00\">0</text>\n",
        "</g>\n",
        "<!-- I0&#45;&gt;0 -->\n",
        "<g id=\"edge1\" class=\"edge\"><title>I0&#45;&gt;0</title>\n",
        "<path fill=\"none\" stroke=\"black\" d=\"M1.152,-67C2.7948,-67 17.459,-67 30.924,-67\"/>\n",
        "<polygon fill=\"black\" stroke=\"black\" points=\"36.975,-67 30.975,-69.7001 33.975,-67 30.975,-67.0001 30.975,-67.0001 30.975,-67.0001 33.975,-67 30.975,-64.3001 36.975,-67 36.975,-67\"/>\n",
        "</g>\n",
        "<!-- F1 -->\n",
        "<g id=\"node2\" class=\"node\"><title>F1</title>\n",
        "<ellipse fill=\"black\" stroke=\"black\" cx=\"213\" cy=\"-105\" rx=\"0\" ry=\"0\"/>\n",
        "</g>\n",
        "<!-- F3 -->\n",
        "<g id=\"node3\" class=\"node\"><title>F3</title>\n",
        "<ellipse fill=\"black\" stroke=\"black\" cx=\"268\" cy=\"-18\" rx=\"0\" ry=\"0\"/>\n",
        "</g>\n",
        "<!-- 1 -->\n",
        "<g id=\"node5\" class=\"node\"><title>1</title>\n",
        "<ellipse fill=\"#98f5ff\" stroke=\"black\" cx=\"134\" cy=\"-105\" rx=\"18\" ry=\"18\"/>\n",
        "<text text-anchor=\"middle\" x=\"134\" y=\"-101.3\" font-family=\"Times,serif\" font-size=\"14.00\">1</text>\n",
        "</g>\n",
        "<!-- 0&#45;&gt;1 -->\n",
        "<g id=\"edge2\" class=\"edge\"><title>0&#45;&gt;1</title>\n",
        "<path fill=\"none\" stroke=\"black\" d=\"M71.582,-74.69C83.167,-80.407 99.105,-88.272 111.84,-94.558\"/>\n",
        "<polygon fill=\"black\" stroke=\"black\" points=\"117.44,-97.322 110.865,-97.0875 114.75,-95.9942 112.06,-94.6664 112.06,-94.6664 112.06,-94.6664 114.75,-95.9942 113.255,-92.2452 117.44,-97.322 117.44,-97.322\"/>\n",
        "<text text-anchor=\"middle\" x=\"94.5\" y=\"-90.8\" font-family=\"Times,serif\" font-size=\"14.00\">a</text>\n",
        "</g>\n",
        "<!-- 2 -->\n",
        "<g id=\"node6\" class=\"node\"><title>2</title>\n",
        "<ellipse fill=\"#98f5ff\" stroke=\"black\" cx=\"134\" cy=\"-18\" rx=\"18\" ry=\"18\"/>\n",
        "<text text-anchor=\"middle\" x=\"134\" y=\"-14.3\" font-family=\"Times,serif\" font-size=\"14.00\">2</text>\n",
        "</g>\n",
        "<!-- 0&#45;&gt;2 -->\n",
        "<g id=\"edge3\" class=\"edge\"><title>0&#45;&gt;2</title>\n",
        "<path fill=\"none\" stroke=\"black\" d=\"M70.483,-57.783C82.559,-50.099 99.885,-39.073 113.24,-30.578\"/>\n",
        "<polygon fill=\"black\" stroke=\"black\" points=\"118.32,-27.342 114.71,-32.8428 115.79,-28.9538 113.259,-30.5656 113.259,-30.5656 113.259,-30.5656 115.79,-28.9538 111.809,-28.2884 118.32,-27.342 118.32,-27.342\"/>\n",
        "<text text-anchor=\"middle\" x=\"94.5\" y=\"-46.8\" font-family=\"Times,serif\" font-size=\"14.00\">a</text>\n",
        "</g>\n",
        "<!-- 1&#45;&gt;F1 -->\n",
        "<g id=\"edge4\" class=\"edge\"><title>1&#45;&gt;F1</title>\n",
        "<path fill=\"none\" stroke=\"black\" d=\"M152.323,-105C169.809,-105 195.156,-105 206.767,-105\"/>\n",
        "<polygon fill=\"black\" stroke=\"black\" points=\"212.892,-105 206.892,-107.7 209.892,-105 206.892,-105 206.892,-105 206.892,-105 209.892,-105 206.892,-102.3 212.892,-105 212.892,-105\"/>\n",
        "</g>\n",
        "<!-- 1&#45;&gt;1 -->\n",
        "<g id=\"edge5\" class=\"edge\"><title>1&#45;&gt;1</title>\n",
        "<path fill=\"none\" stroke=\"black\" d=\"M127.27,-122.04C125.89,-131.86 128.14,-141 134,-141 138.58,-141 140.95,-135.42 141.12,-128.3\"/>\n",
        "<polygon fill=\"black\" stroke=\"black\" points=\"140.73,-122.04 143.798,-127.86 140.917,-125.034 141.103,-128.028 141.103,-128.028 141.103,-128.028 140.917,-125.034 138.408,-128.196 140.73,-122.04 140.73,-122.04\"/>\n",
        "<text text-anchor=\"middle\" x=\"134\" y=\"-144.8\" font-family=\"Times,serif\" font-size=\"14.00\">b</text>\n",
        "</g>\n",
        "<!-- 2&#45;&gt;2 -->\n",
        "<g id=\"edge6\" class=\"edge\"><title>2&#45;&gt;2</title>\n",
        "<path fill=\"none\" stroke=\"black\" d=\"M127.27,-35.037C125.89,-44.858 128.14,-54 134,-54 138.58,-54 140.95,-48.42 141.12,-41.296\"/>\n",
        "<polygon fill=\"black\" stroke=\"black\" points=\"140.73,-35.037 143.798,-40.8574 140.917,-38.0312 141.103,-41.0254 141.103,-41.0254 141.103,-41.0254 140.917,-38.0312 138.408,-41.1933 140.73,-35.037 140.73,-35.037\"/>\n",
        "<text text-anchor=\"middle\" x=\"134\" y=\"-57.8\" font-family=\"Times,serif\" font-size=\"14.00\">b</text>\n",
        "</g>\n",
        "<!-- 3 -->\n",
        "<g id=\"node7\" class=\"node\"><title>3</title>\n",
        "<ellipse fill=\"#98f5ff\" stroke=\"black\" cx=\"213\" cy=\"-18\" rx=\"18\" ry=\"18\"/>\n",
        "<text text-anchor=\"middle\" x=\"213\" y=\"-14.3\" font-family=\"Times,serif\" font-size=\"14.00\">3</text>\n",
        "</g>\n",
        "<!-- 2&#45;&gt;3 -->\n",
        "<g id=\"edge7\" class=\"edge\"><title>2&#45;&gt;3</title>\n",
        "<path fill=\"none\" stroke=\"black\" d=\"M152.09,-18C162.86,-18 176.9,-18 188.68,-18\"/>\n",
        "<polygon fill=\"black\" stroke=\"black\" points=\"194.96,-18 188.96,-20.7001 191.96,-18 188.96,-18.0001 188.96,-18.0001 188.96,-18.0001 191.96,-18 188.96,-15.3001 194.96,-18 194.96,-18\"/>\n",
        "<text text-anchor=\"middle\" x=\"173.5\" y=\"-21.8\" font-family=\"Times,serif\" font-size=\"14.00\">a</text>\n",
        "</g>\n",
        "<!-- 3&#45;&gt;F3 -->\n",
        "<g id=\"edge8\" class=\"edge\"><title>3&#45;&gt;F3</title>\n",
        "<path fill=\"none\" stroke=\"black\" d=\"M231.009,-18C241.571,-18 254.261,-18 261.698,-18\"/>\n",
        "<polygon fill=\"black\" stroke=\"black\" points=\"267.939,-18 261.939,-20.7001 264.939,-18 261.939,-18.0001 261.939,-18.0001 261.939,-18.0001 264.939,-18 261.939,-15.3001 267.939,-18 267.939,-18\"/>\n",
        "</g>\n",
        "<!-- 3&#45;&gt;3 -->\n",
        "<g id=\"edge9\" class=\"edge\"><title>3&#45;&gt;3</title>\n",
        "<path fill=\"none\" stroke=\"black\" d=\"M206.62,-35.037C205.32,-44.858 207.45,-54 213,-54 217.34,-54 219.59,-48.42 219.74,-41.296\"/>\n",
        "<polygon fill=\"black\" stroke=\"black\" points=\"219.38,-35.037 222.42,-40.872 219.552,-38.0321 219.725,-41.0271 219.725,-41.0271 219.725,-41.0271 219.552,-38.0321 217.029,-41.1822 219.38,-35.037 219.38,-35.037\"/>\n",
        "<text text-anchor=\"middle\" x=\"213\" y=\"-57.8\" font-family=\"Times,serif\" font-size=\"14.00\">b</text>\n",
        "</g>\n",
        "</g>\n",
        "</svg>\n"
       ],
       "text": [
        "mutable_automaton<lal_char(abc)_b>"
       ]
      }
     ],
     "prompt_number": 10
    },
    {
     "cell_type": "code",
     "collapsed": false,
     "input": [
      "a3.determinize()"
     ],
     "language": "python",
     "metadata": {},
     "outputs": [
      {
       "metadata": {},
       "output_type": "pyout",
       "prompt_number": 11,
       "svg": [
        "<?xml version=\"1.0\" encoding=\"UTF-8\" standalone=\"no\"?>\n",
        "<!DOCTYPE svg PUBLIC \"-//W3C//DTD SVG 1.1//EN\"\n",
        " \"http://www.w3.org/Graphics/SVG/1.1/DTD/svg11.dtd\">\n",
        "<!-- Generated by graphviz version 2.38.0 (20140413.2041)\n",
        " -->\n",
        "<!-- Title: %3 Pages: 1 -->\n",
        "<svg width=\"278pt\" height=\"121pt\"\n",
        " viewBox=\"0.00 0.00 278.00 121.00\" xmlns=\"http://www.w3.org/2000/svg\" xmlns:xlink=\"http://www.w3.org/1999/xlink\">\n",
        "<g id=\"graph0\" class=\"graph\" transform=\"scale(1 1) rotate(0) translate(4 117)\">\n",
        "<title>%3</title>\n",
        "<polygon fill=\"white\" stroke=\"none\" points=\"-4,4 -4,-117 274,-117 274,4 -4,4\"/>\n",
        "<!-- I0 -->\n",
        "<g id=\"node1\" class=\"node\"><title>I0</title>\n",
        "<ellipse fill=\"black\" stroke=\"black\" cx=\"0\" cy=\"-62\" rx=\"0\" ry=\"0\"/>\n",
        "</g>\n",
        "<!-- 0 -->\n",
        "<g id=\"node4\" class=\"node\"><title>0</title>\n",
        "<path fill=\"#98f5ff\" stroke=\"black\" d=\"M61,-80C61,-80 49,-80 49,-80 43,-80 37,-74 37,-68 37,-68 37,-56 37,-56 37,-50 43,-44 49,-44 49,-44 61,-44 61,-44 67,-44 73,-50 73,-56 73,-56 73,-68 73,-68 73,-74 67,-80 61,-80\"/>\n",
        "<text text-anchor=\"middle\" x=\"55\" y=\"-58.3\" font-family=\"Times,serif\" font-size=\"14.00\">0</text>\n",
        "</g>\n",
        "<!-- I0&#45;&gt;0 -->\n",
        "<g id=\"edge1\" class=\"edge\"><title>I0&#45;&gt;0</title>\n",
        "<path fill=\"none\" stroke=\"black\" d=\"M1.152,-62C2.7948,-62 17.459,-62 30.924,-62\"/>\n",
        "<polygon fill=\"black\" stroke=\"black\" points=\"36.975,-62 30.975,-64.7001 33.975,-62 30.975,-62.0001 30.975,-62.0001 30.975,-62.0001 33.975,-62 30.975,-59.3001 36.975,-62 36.975,-62\"/>\n",
        "</g>\n",
        "<!-- F1 -->\n",
        "<g id=\"node2\" class=\"node\"><title>F1</title>\n",
        "<ellipse fill=\"black\" stroke=\"black\" cx=\"215\" cy=\"-87\" rx=\"0\" ry=\"0\"/>\n",
        "</g>\n",
        "<!-- F2 -->\n",
        "<g id=\"node3\" class=\"node\"><title>F2</title>\n",
        "<ellipse fill=\"black\" stroke=\"black\" cx=\"270\" cy=\"-18\" rx=\"0\" ry=\"0\"/>\n",
        "</g>\n",
        "<!-- 1 -->\n",
        "<g id=\"node5\" class=\"node\"><title>1</title>\n",
        "<path fill=\"#98f5ff\" stroke=\"black\" d=\"M142,-80C142,-80 128,-80 128,-80 122,-80 116,-74 116,-68 116,-68 116,-56 116,-56 116,-50 122,-44 128,-44 128,-44 142,-44 142,-44 148,-44 154,-50 154,-56 154,-56 154,-68 154,-68 154,-74 148,-80 142,-80\"/>\n",
        "<text text-anchor=\"middle\" x=\"135\" y=\"-58.3\" font-family=\"Times,serif\" font-size=\"14.00\">1, 2</text>\n",
        "</g>\n",
        "<!-- 0&#45;&gt;1 -->\n",
        "<g id=\"edge2\" class=\"edge\"><title>0&#45;&gt;1</title>\n",
        "<path fill=\"none\" stroke=\"black\" d=\"M73.311,-62C83.99,-62 97.85,-62 109.63,-62\"/>\n",
        "<polygon fill=\"black\" stroke=\"black\" points=\"115.92,-62 109.92,-64.7001 112.92,-62 109.92,-62.0001 109.92,-62.0001 109.92,-62.0001 112.92,-62 109.92,-59.3001 115.92,-62 115.92,-62\"/>\n",
        "<text text-anchor=\"middle\" x=\"94.5\" y=\"-65.8\" font-family=\"Times,serif\" font-size=\"14.00\">a</text>\n",
        "</g>\n",
        "<!-- 1&#45;&gt;F1 -->\n",
        "<g id=\"edge3\" class=\"edge\"><title>1&#45;&gt;F1</title>\n",
        "<path fill=\"none\" stroke=\"black\" d=\"M154.366,-68.0518C172.106,-73.5955 197.302,-81.4693 208.822,-85.0693\"/>\n",
        "<polygon fill=\"black\" stroke=\"black\" points=\"214.893,-86.9666 208.361,-87.754 212.03,-86.0718 209.166,-85.1769 209.166,-85.1769 209.166,-85.1769 212.03,-86.0718 209.972,-82.5998 214.893,-86.9666 214.893,-86.9666\"/>\n",
        "</g>\n",
        "<!-- 1&#45;&gt;1 -->\n",
        "<g id=\"edge4\" class=\"edge\"><title>1&#45;&gt;1</title>\n",
        "<path fill=\"none\" stroke=\"black\" d=\"M127.76,-80.153C126.65,-89.539 129.06,-98 135,-98 139.55,-98 142.03,-93.04 142.44,-86.503\"/>\n",
        "<polygon fill=\"black\" stroke=\"black\" points=\"142.24,-80.153 145.128,-86.065 142.334,-83.1515 142.429,-86.15 142.429,-86.15 142.429,-86.15 142.334,-83.1515 139.73,-86.2351 142.24,-80.153 142.24,-80.153\"/>\n",
        "<text text-anchor=\"middle\" x=\"135\" y=\"-101.8\" font-family=\"Times,serif\" font-size=\"14.00\">b</text>\n",
        "</g>\n",
        "<!-- 2 -->\n",
        "<g id=\"node6\" class=\"node\"><title>2</title>\n",
        "<path fill=\"#98f5ff\" stroke=\"black\" d=\"M221,-36C221,-36 209,-36 209,-36 203,-36 197,-30 197,-24 197,-24 197,-12 197,-12 197,-6 203,-0 209,-0 209,-0 221,-0 221,-0 227,-0 233,-6 233,-12 233,-12 233,-24 233,-24 233,-30 227,-36 221,-36\"/>\n",
        "<text text-anchor=\"middle\" x=\"215\" y=\"-14.3\" font-family=\"Times,serif\" font-size=\"14.00\">3</text>\n",
        "</g>\n",
        "<!-- 1&#45;&gt;2 -->\n",
        "<g id=\"edge5\" class=\"edge\"><title>1&#45;&gt;2</title>\n",
        "<path fill=\"none\" stroke=\"black\" d=\"M154.09,-51.795C165.25,-45.499 179.66,-37.372 191.55,-30.666\"/>\n",
        "<polygon fill=\"black\" stroke=\"black\" points=\"196.81,-27.697 192.912,-32.9976 194.197,-29.1717 191.585,-30.6463 191.585,-30.6463 191.585,-30.6463 194.197,-29.1717 190.258,-28.2951 196.81,-27.697 196.81,-27.697\"/>\n",
        "<text text-anchor=\"middle\" x=\"175.5\" y=\"-44.8\" font-family=\"Times,serif\" font-size=\"14.00\">a</text>\n",
        "</g>\n",
        "<!-- 2&#45;&gt;F2 -->\n",
        "<g id=\"edge6\" class=\"edge\"><title>2&#45;&gt;F2</title>\n",
        "<path fill=\"none\" stroke=\"black\" d=\"M233.009,-18C243.571,-18 256.261,-18 263.698,-18\"/>\n",
        "<polygon fill=\"black\" stroke=\"black\" points=\"269.939,-18 263.939,-20.7001 266.939,-18 263.939,-18.0001 263.939,-18.0001 263.939,-18.0001 266.939,-18 263.939,-15.3001 269.939,-18 269.939,-18\"/>\n",
        "</g>\n",
        "<!-- 2&#45;&gt;2 -->\n",
        "<g id=\"edge7\" class=\"edge\"><title>2&#45;&gt;2</title>\n",
        "<path fill=\"none\" stroke=\"black\" d=\"M208.49,-36.153C207.49,-45.539 209.66,-54 215,-54 219.09,-54 221.32,-49.04 221.69,-42.503\"/>\n",
        "<polygon fill=\"black\" stroke=\"black\" points=\"221.51,-36.153 224.379,-42.074 221.595,-39.1518 221.68,-42.1506 221.68,-42.1506 221.68,-42.1506 221.595,-39.1518 218.981,-42.2271 221.51,-36.153 221.51,-36.153\"/>\n",
        "<text text-anchor=\"middle\" x=\"215\" y=\"-57.8\" font-family=\"Times,serif\" font-size=\"14.00\">b</text>\n",
        "</g>\n",
        "</g>\n",
        "</svg>\n"
       ],
       "text": [
        "determinized_automaton<mutable_automaton<lal_char(abc)_b>>"
       ]
      }
     ],
     "prompt_number": 11
    },
    {
     "cell_type": "markdown",
     "metadata": {},
     "source": [
      "The states of this automaton are decorated with metadata: the corresponding set of states of the input automaton.  Use `strip` to remove this decoration."
     ]
    },
    {
     "cell_type": "code",
     "collapsed": false,
     "input": [
      "a3.determinize().strip().complete()"
     ],
     "language": "python",
     "metadata": {},
     "outputs": [
      {
       "metadata": {},
       "output_type": "pyout",
       "prompt_number": 12,
       "svg": [
        "<?xml version=\"1.0\" encoding=\"UTF-8\" standalone=\"no\"?>\n",
        "<!DOCTYPE svg PUBLIC \"-//W3C//DTD SVG 1.1//EN\"\n",
        " \"http://www.w3.org/Graphics/SVG/1.1/DTD/svg11.dtd\">\n",
        "<!-- Generated by graphviz version 2.38.0 (20140413.2041)\n",
        " -->\n",
        "<!-- Title: %3 Pages: 1 -->\n",
        "<svg width=\"344pt\" height=\"167pt\"\n",
        " viewBox=\"0.00 0.00 344.00 167.00\" xmlns=\"http://www.w3.org/2000/svg\" xmlns:xlink=\"http://www.w3.org/1999/xlink\">\n",
        "<g id=\"graph0\" class=\"graph\" transform=\"scale(1 1) rotate(0) translate(4 163)\">\n",
        "<title>%3</title>\n",
        "<polygon fill=\"white\" stroke=\"none\" points=\"-4,4 -4,-163 340,-163 340,4 -4,4\"/>\n",
        "<!-- I0 -->\n",
        "<g id=\"node1\" class=\"node\"><title>I0</title>\n",
        "<ellipse fill=\"black\" stroke=\"black\" cx=\"0\" cy=\"-18\" rx=\"0\" ry=\"0\"/>\n",
        "</g>\n",
        "<!-- 0 -->\n",
        "<g id=\"node4\" class=\"node\"><title>0</title>\n",
        "<ellipse fill=\"#98f5ff\" stroke=\"black\" cx=\"55\" cy=\"-18\" rx=\"18\" ry=\"18\"/>\n",
        "<text text-anchor=\"middle\" x=\"55\" y=\"-14.3\" font-family=\"Times,serif\" font-size=\"14.00\">0</text>\n",
        "</g>\n",
        "<!-- I0&#45;&gt;0 -->\n",
        "<g id=\"edge1\" class=\"edge\"><title>I0&#45;&gt;0</title>\n",
        "<path fill=\"none\" stroke=\"black\" d=\"M1.152,-18C2.7948,-18 17.459,-18 30.924,-18\"/>\n",
        "<polygon fill=\"black\" stroke=\"black\" points=\"36.975,-18 30.975,-20.7001 33.975,-18 30.975,-18.0001 30.975,-18.0001 30.975,-18.0001 33.975,-18 30.975,-15.3001 36.975,-18 36.975,-18\"/>\n",
        "</g>\n",
        "<!-- F1 -->\n",
        "<g id=\"node2\" class=\"node\"><title>F1</title>\n",
        "<ellipse fill=\"black\" stroke=\"black\" cx=\"227\" cy=\"-159\" rx=\"0\" ry=\"0\"/>\n",
        "</g>\n",
        "<!-- F2 -->\n",
        "<g id=\"node3\" class=\"node\"><title>F2</title>\n",
        "<ellipse fill=\"black\" stroke=\"black\" cx=\"318\" cy=\"-106\" rx=\"0\" ry=\"0\"/>\n",
        "</g>\n",
        "<!-- 1 -->\n",
        "<g id=\"node5\" class=\"node\"><title>1</title>\n",
        "<ellipse fill=\"#98f5ff\" stroke=\"black\" cx=\"134\" cy=\"-60\" rx=\"18\" ry=\"18\"/>\n",
        "<text text-anchor=\"middle\" x=\"134\" y=\"-56.3\" font-family=\"Times,serif\" font-size=\"14.00\">1</text>\n",
        "</g>\n",
        "<!-- 0&#45;&gt;1 -->\n",
        "<g id=\"edge2\" class=\"edge\"><title>0&#45;&gt;1</title>\n",
        "<path fill=\"none\" stroke=\"black\" d=\"M71.213,-26.298C83.024,-32.741 99.521,-41.738 112.5,-48.817\"/>\n",
        "<polygon fill=\"black\" stroke=\"black\" points=\"117.82,-51.719 111.26,-51.216 115.186,-50.2823 112.553,-48.8457 112.553,-48.8457 112.553,-48.8457 115.186,-50.2823 113.846,-46.4754 117.82,-51.719 117.82,-51.719\"/>\n",
        "<text text-anchor=\"middle\" x=\"94.5\" y=\"-43.8\" font-family=\"Times,serif\" font-size=\"14.00\">a</text>\n",
        "</g>\n",
        "<!-- 3 -->\n",
        "<g id=\"node7\" class=\"node\"><title>3</title>\n",
        "<ellipse fill=\"lightgray\" stroke=\"black\" cx=\"318\" cy=\"-37\" rx=\"18\" ry=\"18\"/>\n",
        "<text text-anchor=\"middle\" x=\"318\" y=\"-33.3\" font-family=\"Times,serif\" font-size=\"14.00\">3</text>\n",
        "</g>\n",
        "<!-- 0&#45;&gt;3 -->\n",
        "<g id=\"edge3\" class=\"edge\"><title>0&#45;&gt;3</title>\n",
        "<path fill=\"none\" stroke=\"DimGray\" d=\"M73.125,-19.247C118.48,-22.548 241.76,-31.523 293.57,-35.294\"/>\n",
        "<polygon fill=\"DimGray\" stroke=\"DimGray\" points=\"299.81,-35.749 293.629,-38.0054 296.818,-35.5308 293.826,-35.3126 293.826,-35.3126 293.826,-35.3126 296.818,-35.5308 294.022,-32.6197 299.81,-35.749 299.81,-35.749\"/>\n",
        "<text text-anchor=\"middle\" x=\"180.5\" y=\"-30.8\" font-family=\"Times,serif\" font-size=\"14.00\">b, c</text>\n",
        "</g>\n",
        "<!-- 1&#45;&gt;F1 -->\n",
        "<g id=\"edge4\" class=\"edge\"><title>1&#45;&gt;F1</title>\n",
        "<path fill=\"none\" stroke=\"black\" d=\"M146.542,-73.3516C167.484,-95.644 208.629,-139.444 222.392,-154.095\"/>\n",
        "<polygon fill=\"black\" stroke=\"black\" points=\"226.841,-158.831 220.765,-156.307 224.787,-156.644 222.733,-154.458 222.733,-154.458 222.733,-154.458 224.787,-156.644 224.701,-152.609 226.841,-158.831 226.841,-158.831\"/>\n",
        "</g>\n",
        "<!-- 1&#45;&gt;1 -->\n",
        "<g id=\"edge5\" class=\"edge\"><title>1&#45;&gt;1</title>\n",
        "<path fill=\"none\" stroke=\"black\" d=\"M127.27,-77.037C125.89,-86.858 128.14,-96 134,-96 138.58,-96 140.95,-90.42 141.12,-83.296\"/>\n",
        "<polygon fill=\"black\" stroke=\"black\" points=\"140.73,-77.037 143.798,-82.8574 140.917,-80.0312 141.103,-83.0254 141.103,-83.0254 141.103,-83.0254 140.917,-80.0312 138.408,-83.1933 140.73,-77.037 140.73,-77.037\"/>\n",
        "<text text-anchor=\"middle\" x=\"134\" y=\"-99.8\" font-family=\"Times,serif\" font-size=\"14.00\">b</text>\n",
        "</g>\n",
        "<!-- 2 -->\n",
        "<g id=\"node6\" class=\"node\"><title>2</title>\n",
        "<ellipse fill=\"#98f5ff\" stroke=\"black\" cx=\"227\" cy=\"-90\" rx=\"18\" ry=\"18\"/>\n",
        "<text text-anchor=\"middle\" x=\"227\" y=\"-86.3\" font-family=\"Times,serif\" font-size=\"14.00\">2</text>\n",
        "</g>\n",
        "<!-- 1&#45;&gt;2 -->\n",
        "<g id=\"edge6\" class=\"edge\"><title>1&#45;&gt;2</title>\n",
        "<path fill=\"none\" stroke=\"black\" d=\"M151.27,-65.363C165.93,-70.197 187.61,-77.345 203.85,-82.698\"/>\n",
        "<polygon fill=\"black\" stroke=\"black\" points=\"209.57,-84.582 203.026,-85.2694 206.721,-83.6435 203.871,-82.7049 203.871,-82.7049 203.871,-82.7049 206.721,-83.6435 204.716,-80.1404 209.57,-84.582 209.57,-84.582\"/>\n",
        "<text text-anchor=\"middle\" x=\"180.5\" y=\"-80.8\" font-family=\"Times,serif\" font-size=\"14.00\">a</text>\n",
        "</g>\n",
        "<!-- 1&#45;&gt;3 -->\n",
        "<g id=\"edge7\" class=\"edge\"><title>1&#45;&gt;3</title>\n",
        "<path fill=\"none\" stroke=\"DimGray\" d=\"M152,-56.948C166.98,-54.332 189.39,-50.587 209,-48 238.08,-44.165 271.72,-40.927 293.63,-38.978\"/>\n",
        "<polygon fill=\"DimGray\" stroke=\"DimGray\" points=\"299.75,-38.439 294.01,-41.6551 296.762,-38.7022 293.773,-38.9655 293.773,-38.9655 293.773,-38.9655 296.762,-38.7022 293.536,-36.2759 299.75,-38.439 299.75,-38.439\"/>\n",
        "<text text-anchor=\"middle\" x=\"227\" y=\"-51.8\" font-family=\"Times,serif\" font-size=\"14.00\">c</text>\n",
        "</g>\n",
        "<!-- 2&#45;&gt;F2 -->\n",
        "<g id=\"edge8\" class=\"edge\"><title>2&#45;&gt;F2</title>\n",
        "<path fill=\"none\" stroke=\"black\" d=\"M244.979,-93.1611C265.652,-96.796 298.468,-102.566 311.932,-104.933\"/>\n",
        "<polygon fill=\"black\" stroke=\"black\" points=\"317.866,-105.976 311.489,-107.597 314.911,-105.457 311.956,-104.937 311.956,-104.937 311.956,-104.937 314.911,-105.457 312.424,-102.278 317.866,-105.976 317.866,-105.976\"/>\n",
        "</g>\n",
        "<!-- 2&#45;&gt;2 -->\n",
        "<g id=\"edge9\" class=\"edge\"><title>2&#45;&gt;2</title>\n",
        "<path fill=\"none\" stroke=\"black\" d=\"M219.33,-106.29C217.48,-116.39 220.04,-126 227,-126 232.55,-126 235.3,-119.9 235.25,-112.31\"/>\n",
        "<polygon fill=\"black\" stroke=\"black\" points=\"234.67,-106.29 237.933,-112.003 234.958,-109.276 235.245,-112.262 235.245,-112.262 235.245,-112.262 234.958,-109.276 232.558,-112.521 234.67,-106.29 234.67,-106.29\"/>\n",
        "<text text-anchor=\"middle\" x=\"227\" y=\"-129.8\" font-family=\"Times,serif\" font-size=\"14.00\">b</text>\n",
        "</g>\n",
        "<!-- 2&#45;&gt;3 -->\n",
        "<g id=\"edge10\" class=\"edge\"><title>2&#45;&gt;3</title>\n",
        "<path fill=\"none\" stroke=\"DimGray\" d=\"M243.1,-81.009C257.89,-72.2 280.53,-58.718 296.85,-48.998\"/>\n",
        "<polygon fill=\"DimGray\" stroke=\"DimGray\" points=\"302.13,-45.858 298.353,-51.2455 299.552,-47.3914 296.973,-48.9249 296.973,-48.9249 296.973,-48.9249 299.552,-47.3914 295.593,-46.6042 302.13,-45.858 302.13,-45.858\"/>\n",
        "<text text-anchor=\"middle\" x=\"272.5\" y=\"-71.8\" font-family=\"Times,serif\" font-size=\"14.00\">a, c</text>\n",
        "</g>\n",
        "<!-- 3&#45;&gt;3 -->\n",
        "<g id=\"edge11\" class=\"edge\"><title>3&#45;&gt;3</title>\n",
        "<path fill=\"none\" stroke=\"DimGray\" d=\"M310.33,-53.29C308.48,-63.389 311.04,-73 318,-73 323.55,-73 326.3,-66.897 326.25,-59.307\"/>\n",
        "<polygon fill=\"DimGray\" stroke=\"DimGray\" points=\"325.67,-53.29 328.933,-59.0032 325.958,-56.2762 326.246,-59.2623 326.246,-59.2623 326.246,-59.2623 325.958,-56.2762 323.558,-59.5214 325.67,-53.29 325.67,-53.29\"/>\n",
        "<text text-anchor=\"middle\" x=\"318\" y=\"-76.8\" font-family=\"Times,serif\" font-size=\"14.00\">[a&#45;c]</text>\n",
        "</g>\n",
        "</g>\n",
        "</svg>\n"
       ],
       "text": [
        "mutable_automaton<lal_char(abc)_b>"
       ]
      }
     ],
     "prompt_number": 12
    },
    {
     "cell_type": "markdown",
     "metadata": {},
     "source": [
      "Note that useless states and transitions are gray."
     ]
    },
    {
     "cell_type": "markdown",
     "metadata": {},
     "source": [
      "To evaluate a word on an automaton, use `eval()`, or simpler yet: use the automaton as if it were a function:"
     ]
    },
    {
     "cell_type": "code",
     "collapsed": false,
     "input": [
      "a3.eval(\"a\")"
     ],
     "language": "python",
     "metadata": {},
     "outputs": [
      {
       "latex": [
        "$\\top$"
       ],
       "metadata": {},
       "output_type": "pyout",
       "prompt_number": 13,
       "text": [
        "1"
       ]
      }
     ],
     "prompt_number": 13
    },
    {
     "cell_type": "code",
     "collapsed": false,
     "input": [
      "a3(\"b\")"
     ],
     "language": "python",
     "metadata": {},
     "outputs": [
      {
       "latex": [
        "$\\bot$"
       ],
       "metadata": {},
       "output_type": "pyout",
       "prompt_number": 14,
       "text": [
        "0"
       ]
      }
     ],
     "prompt_number": 14
    },
    {
     "cell_type": "markdown",
     "metadata": {},
     "source": [
      "To see the 10 first accepted words (if there are that many), use `shortest(10)`:"
     ]
    },
    {
     "cell_type": "code",
     "collapsed": false,
     "input": [
      "a3.shortest(10)"
     ],
     "language": "python",
     "metadata": {},
     "outputs": [
      {
       "latex": [
        "$a \\oplus aa \\oplus ab \\oplus aab \\oplus aba \\oplus abb \\oplus aabb \\oplus abab \\oplus abba \\oplus abbb$"
       ],
       "metadata": {},
       "output_type": "pyout",
       "prompt_number": 15,
       "text": [
        "a + aa + ab + aab + aba + abb + aabb + abab + abba + abbb"
       ]
      }
     ],
     "prompt_number": 15
    },
    {
     "cell_type": "markdown",
     "metadata": {},
     "source": [
      "To extract a rational expression from the automaton, use `ratexp()`:"
     ]
    },
    {
     "cell_type": "code",
     "collapsed": false,
     "input": [
      "a3.ratexp()"
     ],
     "language": "python",
     "metadata": {},
     "outputs": [
      {
       "latex": [
        "$a \\, {b}^{*} + a \\, {b}^{*} \\, a \\, {b}^{*}$"
       ],
       "metadata": {},
       "output_type": "pyout",
       "prompt_number": 16,
       "text": [
        "ab*+ab*ab*"
       ]
      }
     ],
     "prompt_number": 16
    },
    {
     "cell_type": "markdown",
     "metadata": {},
     "source": [
      "Voil\u00e0!  You may now proceed to discover other features in other notebooks.  Bon voyage!"
     ]
    }
   ],
   "metadata": {}
  }
 ]
}