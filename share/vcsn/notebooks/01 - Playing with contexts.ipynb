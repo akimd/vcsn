{
 "metadata": {
  "name": "",
  "signature": "sha256:908ed42c9dba71f20233c6c6d5785b7153988def4280e1850b80665cee6fbcdf"
 },
 "nbformat": 3,
 "nbformat_minor": 0,
 "worksheets": [
  {
   "cells": [
    {
     "cell_type": "heading",
     "level": 1,
     "metadata": {},
     "source": [
      "Playing with Contexts"
     ]
    },
    {
     "cell_type": "markdown",
     "metadata": {},
     "source": [
      "The Vaucanson platform relies on a central concepts: \"contexts\".  They denote typing information about automata, rational expressions, etc.  This information is alike a function type: an input type, and "
     ]
    },
    {
     "cell_type": "code",
     "collapsed": false,
     "input": [],
     "language": "python",
     "metadata": {},
     "outputs": []
    }
   ],
   "metadata": {}
  }
 ]
}