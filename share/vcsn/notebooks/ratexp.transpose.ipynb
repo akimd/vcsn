{
 "metadata": {
  "name": "",
  "signature": "sha256:841f2e85cb60071f9068ff3034282370128704f1b0d06a8dfd8eeabb57e31eba"
 },
 "nbformat": 3,
 "nbformat_minor": 0,
 "worksheets": [
  {
   "cells": [
    {
     "cell_type": "heading",
     "level": 1,
     "metadata": {},
     "source": [
      "_ratexp_.transpose"
     ]
    },
    {
     "cell_type": "markdown",
     "metadata": {},
     "source": [
      "Reverse all the concatenations, and transpose the labels.\n",
      "\n",
      "Preconditions:\n",
      "- None\n",
      "\n",
      "Properties:\n",
      "- involution\n",
      "\n",
      "See also:\n",
      "- [automaton.transpose](automaton.transpose.ipynb)\n",
      "- [ratexp.transposition](ratexp.transposition.ipynb)"
     ]
    },
    {
     "cell_type": "heading",
     "level": 2,
     "metadata": {},
     "source": [
      "Examples"
     ]
    },
    {
     "cell_type": "code",
     "collapsed": false,
     "input": [
      "import vcsn\n",
      "c = vcsn.context('law_char(abc), seriesset<law_char(xyz), b>')\n",
      "c"
     ],
     "language": "python",
     "metadata": {},
     "outputs": [
      {
       "latex": [
        "$\\{a, b, c\\}^*\\rightarrow\\mathsf{Series}[\\{x, y, z\\}^*\\rightarrow\\mathbb{B}]$"
       ],
       "metadata": {},
       "output_type": "pyout",
       "prompt_number": 2,
       "text": [
        "law_char(abc), seriesset<law_char(xyz), b>"
       ]
      }
     ],
     "prompt_number": 2
    },
    {
     "cell_type": "code",
     "collapsed": false,
     "input": [
      "r = c.ratexp('(<x>a+<xyz>(abc))*')\n",
      "r"
     ],
     "language": "python",
     "metadata": {},
     "outputs": [
      {
       "latex": [
        "$\\left( \\langle x \\rangle \\,a +  \\langle xyz \\rangle \\,\\left(abc\\right)\\right)^{*}$"
       ],
       "metadata": {},
       "output_type": "pyout",
       "prompt_number": 3,
       "text": [
        "(<x>a+<xyz>(abc))*"
       ]
      }
     ],
     "prompt_number": 3
    },
    {
     "cell_type": "code",
     "collapsed": false,
     "input": [
      "r.transpose()"
     ],
     "language": "python",
     "metadata": {},
     "outputs": [
      {
       "latex": [
        "$\\left( \\langle x \\rangle \\,a +  \\langle zyx \\rangle \\,\\left(cba\\right)\\right)^{*}$"
       ],
       "metadata": {},
       "output_type": "pyout",
       "prompt_number": 4,
       "text": [
        "(<x>a+<zyx>(cba))*"
       ]
      }
     ],
     "prompt_number": 4
    },
    {
     "cell_type": "code",
     "collapsed": false,
     "input": [
      "assert(r.transpose().transpose() == r)"
     ],
     "language": "python",
     "metadata": {},
     "outputs": [],
     "prompt_number": 5
    },
    {
     "cell_type": "markdown",
     "metadata": {},
     "source": [
      "`transpose` and `transposition` should not be confused.  The former completely rewrites the expression, while the latter only wraps it in a syntactic transposition operator:"
     ]
    },
    {
     "cell_type": "code",
     "collapsed": false,
     "input": [
      "r = c.ratexp('<xyz>(abc)')\n",
      "r"
     ],
     "language": "python",
     "metadata": {},
     "outputs": [
      {
       "latex": [
        "$ \\langle xyz \\rangle \\,\\left(abc\\right)$"
       ],
       "metadata": {},
       "output_type": "pyout",
       "prompt_number": 7,
       "text": [
        "<xyz>(abc)"
       ]
      }
     ],
     "prompt_number": 7
    },
    {
     "cell_type": "code",
     "collapsed": false,
     "input": [
      "r.transpose()"
     ],
     "language": "python",
     "metadata": {},
     "outputs": [
      {
       "latex": [
        "$ \\langle zyx \\rangle \\,\\left(cba\\right)$"
       ],
       "metadata": {},
       "output_type": "pyout",
       "prompt_number": 8,
       "text": [
        "<zyx>(cba)"
       ]
      }
     ],
     "prompt_number": 8
    },
    {
     "cell_type": "code",
     "collapsed": false,
     "input": [
      "r.transposition()"
     ],
     "language": "python",
     "metadata": {},
     "outputs": [
      {
       "latex": [
        "$\\left( \\langle xyz \\rangle \\,\\left(abc\\right)\\right)^{T}$"
       ],
       "metadata": {},
       "output_type": "pyout",
       "prompt_number": 10,
       "text": [
        "(<xyz>(abc)){T}"
       ]
      }
     ],
     "prompt_number": 10
    }
   ],
   "metadata": {}
  }
 ]
}