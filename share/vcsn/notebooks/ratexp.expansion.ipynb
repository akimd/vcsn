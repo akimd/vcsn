{
 "metadata": {
  "name": "",
  "signature": "sha256:10ed90ba375ceffa5cfcd0ff96c437af2c4455dc8df28219f756b97177330aab"
 },
 "nbformat": 3,
 "nbformat_minor": 0,
 "worksheets": [
  {
   "cells": [
    {
     "cell_type": "heading",
     "level": 1,
     "metadata": {},
     "source": [
      "_`ratexp`_.`expansion()`"
     ]
    },
    {
     "cell_type": "markdown",
     "metadata": {},
     "source": [
      "Compute the _expansion_ of a weighted expression.  An expansion is a structure that combines three different features of a (weighted) rational expression $r$:\n",
      "- its _constant-term_, i.e., the weight associated to the empty word, denoted $c(r)$\n",
      "- its _firsts_, i.e., the set of labels that prefix the defined language, denoted $f(r)$\n",
      "- its _derived-terms_, i.e., for each label $a$, its associated polynomials of \"subsequent\" expressions, denoted $\\frac{\\partial}{\\partial a}r$.\n",
      "\n",
      "If one denotes $d(r)$ the expansion of $r$, it holds that:\n",
      "$$\n",
      "  d(r) = c(r) \\oplus \\bigoplus_{a \\in f(r)} a \\odot \\frac{\\partial}{\\partial a}r\n",
      "$$\n",
      "\n",
      "The main use of expansions (and derivations) is to compute the derived-term automaton of an expression.  The advantage of expansions over derivations is their independence with respect to the alphabet.  As a matter of fact, they do not require a finite-alphabet (see examples below).  Besides, the reunite constant-term, first, and derivation into a single concept.\n",
      "\n",
      "See also:\n",
      "- [_ratexp_.constant_term](ratexp.constant_term.ipynb)\n",
      "- [_ratexp_.derivation](ratexp.derivation.ipynb)\n",
      "- [_ratexp_.derived_term](ratexp.derived_term.ipynb)"
     ]
    },
    {
     "cell_type": "heading",
     "level": 2,
     "metadata": {},
     "source": [
      "Examples"
     ]
    },
    {
     "cell_type": "markdown",
     "metadata": {},
     "source": [
      "The following function will prove handy to demonstrate the relation between the expansion on the one hand, and, on the other hand, the constant-term and the derivations.  It takes an expression $r$ and a list of letters, and returns a $\\LaTeX$ `aligned` environment to display:\n",
      "1. $d(r)$ the expansion\n",
      "2. $c(r)$ the constant-term\n",
      "3. $\\frac{\\partial}{\\partial a}r$ the derivation with respect to $a$."
     ]
    },
    {
     "cell_type": "code",
     "collapsed": false,
     "input": [
      "import vcsn\n",
      "def diffs(r, ss):\n",
      "    from IPython.display import Latex\n",
      "    eqs = [r'd\\left({0}\\right) &= {1}'.format(r.format('latex'), r.expansion().format('latex')),\n",
      "           r'c\\left({0}\\right) &= {1}'.format(r.format('latex'), r.constant_term().format('latex'))]\n",
      "    for s in ss:\n",
      "        eqs.append(r'\\frac{{\\partial}}{{\\partial {0}}} {1} &= {2}'\n",
      "                   .format(s,\n",
      "                           r.format('latex'),\n",
      "                           r.derivation(s).format('latex')))\n",
      "    return Latex(r'''\\begin{{aligned}}\n",
      "        {0}\n",
      "    \\end{{aligned}}'''.format(r'\\\\'.join(eqs)))"
     ],
     "language": "python",
     "metadata": {},
     "outputs": [],
     "prompt_number": 1
    },
    {
     "cell_type": "heading",
     "level": 3,
     "metadata": {},
     "source": [
      "Classical expressions"
     ]
    },
    {
     "cell_type": "markdown",
     "metadata": {},
     "source": [
      "In the classical case (labels are letters, and weights are Boolean), this is the construct as described by Antimirov."
     ]
    },
    {
     "cell_type": "code",
     "collapsed": false,
     "input": [
      "b = vcsn.context('lal_char(ab), b')\n",
      "r = b.ratexp('[ab]{3}')\n",
      "r.expansion()"
     ],
     "language": "python",
     "metadata": {},
     "outputs": [
      {
       "latex": [
        "$a \\odot \\left[\\left(a + b\\right) \\, \\left(a + b\\right)\\right] \\oplus b \\odot \\left[\\left(a + b\\right) \\, \\left(a + b\\right)\\right]$"
       ],
       "metadata": {},
       "output_type": "pyout",
       "prompt_number": 2,
       "text": [
        "a.[(a+b)(a+b)] + b.[(a+b)(a+b)]"
       ]
      }
     ],
     "prompt_number": 2
    },
    {
     "cell_type": "markdown",
     "metadata": {},
     "source": [
      "Or, using the `diffs` function we defined above:"
     ]
    },
    {
     "cell_type": "code",
     "collapsed": false,
     "input": [
      "diffs(r, ['a', 'b'])"
     ],
     "language": "python",
     "metadata": {},
     "outputs": [
      {
       "latex": [
        "\\begin{aligned}\n",
        "        d\\left(\\left(a + b\\right) \\, \\left(a + b\\right) \\, \\left(a + b\\right)\\right) &= a \\odot \\left[\\left(a + b\\right) \\, \\left(a + b\\right)\\right] \\oplus b \\odot \\left[\\left(a + b\\right) \\, \\left(a + b\\right)\\right]\\\\c\\left(\\left(a + b\\right) \\, \\left(a + b\\right) \\, \\left(a + b\\right)\\right) &= \\bot\\\\\\frac{\\partial}{\\partial a} \\left(a + b\\right) \\, \\left(a + b\\right) \\, \\left(a + b\\right) &= \\left(a + b\\right) \\, \\left(a + b\\right)\\\\\\frac{\\partial}{\\partial b} \\left(a + b\\right) \\, \\left(a + b\\right) \\, \\left(a + b\\right) &= \\left(a + b\\right) \\, \\left(a + b\\right)\n",
        "    \\end{aligned}"
       ],
       "metadata": {},
       "output_type": "pyout",
       "prompt_number": 3,
       "text": [
        "<IPython.core.display.Latex at 0x110e06f10>"
       ]
      }
     ],
     "prompt_number": 3
    },
    {
     "cell_type": "heading",
     "level": 3,
     "metadata": {},
     "source": [
      "Weighted Expressions"
     ]
    },
    {
     "cell_type": "markdown",
     "metadata": {},
     "source": [
      "Of course, expressions can be weighted."
     ]
    },
    {
     "cell_type": "code",
     "collapsed": false,
     "input": [
      "q = vcsn.context('lal_char(abc), q')\n",
      "r = q.ratexp('(<1/6>a*+<1/3>b*)*')\n",
      "diffs(r, ['a', 'b'])"
     ],
     "language": "python",
     "metadata": {},
     "outputs": [
      {
       "latex": [
        "\\begin{aligned}\n",
        "        d\\left(\\left( \\left\\langle \\frac{1}{6} \\right\\rangle \\,{a}^{*} +  \\left\\langle \\frac{1}{3} \\right\\rangle \\,{b}^{*}\\right)^{*}\\right) &= \\left\\langle 2\\right\\rangle  \\oplus a \\odot \\left[\\left\\langle \\frac{1}{3}\\right\\rangle {a}^{*} \\, \\left( \\left\\langle \\frac{1}{6} \\right\\rangle \\,{a}^{*} +  \\left\\langle \\frac{1}{3} \\right\\rangle \\,{b}^{*}\\right)^{*}\\right] \\oplus b \\odot \\left[\\left\\langle \\frac{2}{3}\\right\\rangle {b}^{*} \\, \\left( \\left\\langle \\frac{1}{6} \\right\\rangle \\,{a}^{*} +  \\left\\langle \\frac{1}{3} \\right\\rangle \\,{b}^{*}\\right)^{*}\\right]\\\\c\\left(\\left( \\left\\langle \\frac{1}{6} \\right\\rangle \\,{a}^{*} +  \\left\\langle \\frac{1}{3} \\right\\rangle \\,{b}^{*}\\right)^{*}\\right) &= 2\\\\\\frac{\\partial}{\\partial a} \\left( \\left\\langle \\frac{1}{6} \\right\\rangle \\,{a}^{*} +  \\left\\langle \\frac{1}{3} \\right\\rangle \\,{b}^{*}\\right)^{*} &= \\left\\langle \\frac{1}{3}\\right\\rangle {a}^{*} \\, \\left( \\left\\langle \\frac{1}{6} \\right\\rangle \\,{a}^{*} +  \\left\\langle \\frac{1}{3} \\right\\rangle \\,{b}^{*}\\right)^{*}\\\\\\frac{\\partial}{\\partial b} \\left( \\left\\langle \\frac{1}{6} \\right\\rangle \\,{a}^{*} +  \\left\\langle \\frac{1}{3} \\right\\rangle \\,{b}^{*}\\right)^{*} &= \\left\\langle \\frac{2}{3}\\right\\rangle {b}^{*} \\, \\left( \\left\\langle \\frac{1}{6} \\right\\rangle \\,{a}^{*} +  \\left\\langle \\frac{1}{3} \\right\\rangle \\,{b}^{*}\\right)^{*}\n",
        "    \\end{aligned}"
       ],
       "metadata": {},
       "output_type": "pyout",
       "prompt_number": 4,
       "text": [
        "<IPython.core.display.Latex at 0x110e28110>"
       ]
      }
     ],
     "prompt_number": 4
    },
    {
     "cell_type": "markdown",
     "metadata": {},
     "source": [
      "And this is tightly connected with the construction of the derived-term automaton."
     ]
    },
    {
     "cell_type": "code",
     "collapsed": false,
     "input": [
      "r.derived_term()"
     ],
     "language": "python",
     "metadata": {},
     "outputs": [
      {
       "metadata": {},
       "output_type": "pyout",
       "prompt_number": 5,
       "svg": [
        "<?xml version=\"1.0\" encoding=\"UTF-8\" standalone=\"no\"?>\n",
        "<!DOCTYPE svg PUBLIC \"-//W3C//DTD SVG 1.1//EN\"\n",
        " \"http://www.w3.org/Graphics/SVG/1.1/DTD/svg11.dtd\">\n",
        "<!-- Generated by graphviz version 2.38.0 (20140413.2041)\n",
        " -->\n",
        "<!-- Title: %3 Pages: 1 -->\n",
        "<svg width=\"657pt\" height=\"130pt\"\n",
        " viewBox=\"0.00 0.00 657.00 129.61\" xmlns=\"http://www.w3.org/2000/svg\" xmlns:xlink=\"http://www.w3.org/1999/xlink\">\n",
        "<g id=\"graph0\" class=\"graph\" transform=\"scale(1 1) rotate(0) translate(4 121.09)\">\n",
        "<title>%3</title>\n",
        "<polygon fill=\"white\" stroke=\"none\" points=\"-4,8.5209 -4,-121.09 653,-121.09 653,8.5209 -4,8.5209\"/>\n",
        "<!-- I0 -->\n",
        "<g id=\"node1\" class=\"node\"><title>I0</title>\n",
        "<ellipse fill=\"black\" stroke=\"black\" cx=\"0\" cy=\"-48.088\" rx=\"0\" ry=\"0\"/>\n",
        "</g>\n",
        "<!-- 0 -->\n",
        "<g id=\"node5\" class=\"node\"><title>0</title>\n",
        "<path fill=\"#98f5ff\" stroke=\"black\" d=\"M153,-66.088C153,-66.088 49,-66.088 49,-66.088 43,-66.088 37,-60.088 37,-54.088 37,-54.088 37,-42.088 37,-42.088 37,-36.088 43,-30.088 49,-30.088 49,-30.088 153,-30.088 153,-30.088 159,-30.088 165,-36.088 165,-42.088 165,-42.088 165,-54.088 165,-54.088 165,-60.088 159,-66.088 153,-66.088\"/>\n",
        "<text text-anchor=\"middle\" x=\"101\" y=\"-44.388\" font-family=\"Times,serif\" font-size=\"14.00\">(\u27e81/6\u27e9a*+\u27e81/3\u27e9b*)*</text>\n",
        "</g>\n",
        "<!-- I0&#45;&gt;0 -->\n",
        "<g id=\"edge1\" class=\"edge\"><title>I0&#45;&gt;0</title>\n",
        "<path fill=\"none\" stroke=\"black\" d=\"M1.0718,-48.088C2.1356,-48.088 14.902,-48.088 30.931,-48.088\"/>\n",
        "<polygon fill=\"black\" stroke=\"black\" points=\"36.969,-48.088 30.969,-50.7881 33.969,-48.088 30.969,-48.0881 30.969,-48.0881 30.969,-48.0881 33.969,-48.088 30.969,-45.3881 36.969,-48.088 36.969,-48.088\"/>\n",
        "</g>\n",
        "<!-- F0 -->\n",
        "<g id=\"node2\" class=\"node\"><title>F0</title>\n",
        "<ellipse fill=\"black\" stroke=\"black\" cx=\"307.5\" cy=\"-117.09\" rx=\"0\" ry=\"0\"/>\n",
        "</g>\n",
        "<!-- F1 -->\n",
        "<g id=\"node3\" class=\"node\"><title>F1</title>\n",
        "<ellipse fill=\"black\" stroke=\"black\" cx=\"522.5\" cy=\"-96.088\" rx=\"0\" ry=\"0\"/>\n",
        "</g>\n",
        "<!-- F2 -->\n",
        "<g id=\"node4\" class=\"node\"><title>F2</title>\n",
        "<ellipse fill=\"black\" stroke=\"black\" cx=\"649\" cy=\"-20.088\" rx=\"0\" ry=\"0\"/>\n",
        "</g>\n",
        "<!-- 0&#45;&gt;F0 -->\n",
        "<g id=\"edge2\" class=\"edge\"><title>0&#45;&gt;F0</title>\n",
        "<path fill=\"none\" stroke=\"black\" d=\"M154.986,-66.1273C206.979,-83.5011 280.743,-108.149 301.73,-115.162\"/>\n",
        "<polygon fill=\"black\" stroke=\"black\" points=\"307.434,-117.068 300.887,-117.727 304.588,-116.117 301.743,-115.166 301.743,-115.166 301.743,-115.166 304.588,-116.117 302.599,-112.605 307.434,-117.068 307.434,-117.068\"/>\n",
        "<text text-anchor=\"middle\" x=\"218.858\" y=\"-94.4446\" font-family=\"Times,serif\" font-size=\"14.00\">\u27e82\u27e9</text>\n",
        "</g>\n",
        "<!-- 1 -->\n",
        "<g id=\"node6\" class=\"node\"><title>1</title>\n",
        "<path fill=\"#98f5ff\" stroke=\"black\" d=\"M366,-66.088C366,-66.088 249,-66.088 249,-66.088 243,-66.088 237,-60.088 237,-54.088 237,-54.088 237,-42.088 237,-42.088 237,-36.088 243,-30.088 249,-30.088 249,-30.088 366,-30.088 366,-30.088 372,-30.088 378,-36.088 378,-42.088 378,-42.088 378,-54.088 378,-54.088 378,-60.088 372,-66.088 366,-66.088\"/>\n",
        "<text text-anchor=\"middle\" x=\"307.5\" y=\"-44.388\" font-family=\"Times,serif\" font-size=\"14.00\">a*(\u27e81/6\u27e9a*+\u27e81/3\u27e9b*)*</text>\n",
        "</g>\n",
        "<!-- 0&#45;&gt;1 -->\n",
        "<g id=\"edge3\" class=\"edge\"><title>0&#45;&gt;1</title>\n",
        "<path fill=\"none\" stroke=\"black\" d=\"M165.03,-48.088C185.84,-48.088 209.2,-48.088 230.86,-48.088\"/>\n",
        "<polygon fill=\"black\" stroke=\"black\" points=\"236.92,-48.088 230.92,-50.7881 233.92,-48.088 230.92,-48.0881 230.92,-48.0881 230.92,-48.0881 233.92,-48.088 230.92,-45.3881 236.92,-48.088 236.92,-48.088\"/>\n",
        "<text text-anchor=\"middle\" x=\"201\" y=\"-51.888\" font-family=\"Times,serif\" font-size=\"14.00\">\u27e81/3\u27e9a</text>\n",
        "</g>\n",
        "<!-- 2 -->\n",
        "<g id=\"node7\" class=\"node\"><title>2</title>\n",
        "<path fill=\"#98f5ff\" stroke=\"black\" d=\"M582,-38.088C582,-38.088 463,-38.088 463,-38.088 457,-38.088 451,-32.088 451,-26.088 451,-26.088 451,-14.088 451,-14.088 451,-8.088 457,-2.088 463,-2.088 463,-2.088 582,-2.088 582,-2.088 588,-2.088 594,-8.088 594,-14.088 594,-14.088 594,-26.088 594,-26.088 594,-32.088 588,-38.088 582,-38.088\"/>\n",
        "<text text-anchor=\"middle\" x=\"522.5\" y=\"-16.388\" font-family=\"Times,serif\" font-size=\"14.00\">b*(\u27e81/6\u27e9a*+\u27e81/3\u27e9b*)*</text>\n",
        "</g>\n",
        "<!-- 0&#45;&gt;2 -->\n",
        "<g id=\"edge4\" class=\"edge\"><title>0&#45;&gt;2</title>\n",
        "<path fill=\"none\" stroke=\"black\" d=\"M147.74,-30.081C173.51,-20.901 206.54,-10.716 237,-6.0884 306.81,4.5209 387.26,-1.0615 444.76,-8.0732\"/>\n",
        "<polygon fill=\"black\" stroke=\"black\" points=\"450.95,-8.8446 444.662,-10.7818 447.973,-8.47357 444.996,-8.10253 444.996,-8.10253 444.996,-8.10253 447.973,-8.47357 445.33,-5.42326 450.95,-8.8446 450.95,-8.8446\"/>\n",
        "<text text-anchor=\"middle\" x=\"307.5\" y=\"-9.888\" font-family=\"Times,serif\" font-size=\"14.00\">\u27e82/3\u27e9b</text>\n",
        "</g>\n",
        "<!-- 1&#45;&gt;F1 -->\n",
        "<g id=\"edge5\" class=\"edge\"><title>1&#45;&gt;F1</title>\n",
        "<path fill=\"none\" stroke=\"black\" d=\"M378.197,-63.8715C430.726,-75.5988 496.587,-90.3028 516.518,-94.7526\"/>\n",
        "<polygon fill=\"black\" stroke=\"black\" points=\"522.441,-96.0747 515.996,-97.4024 519.513,-95.421 516.585,-94.7673 516.585,-94.7673 516.585,-94.7673 519.513,-95.421 517.173,-92.1322 522.441,-96.0747 522.441,-96.0747\"/>\n",
        "<text text-anchor=\"middle\" x=\"437.858\" y=\"-83.112\" font-family=\"Times,serif\" font-size=\"14.00\">\u27e82\u27e9</text>\n",
        "</g>\n",
        "<!-- 1&#45;&gt;1 -->\n",
        "<g id=\"edge6\" class=\"edge\"><title>1&#45;&gt;1</title>\n",
        "<path fill=\"none\" stroke=\"black\" d=\"M288.32,-66.241C285.37,-75.627 291.77,-84.088 307.5,-84.088 319.55,-84.088 326.12,-79.129 327.21,-72.591\"/>\n",
        "<polygon fill=\"black\" stroke=\"black\" points=\"326.68,-66.241 329.87,-71.9956 326.93,-69.2306 327.179,-72.2202 327.179,-72.2202 327.179,-72.2202 326.93,-69.2306 324.488,-72.4448 326.68,-66.241 326.68,-66.241\"/>\n",
        "<text text-anchor=\"middle\" x=\"307.5\" y=\"-87.888\" font-family=\"Times,serif\" font-size=\"14.00\">\u27e84/3\u27e9a</text>\n",
        "</g>\n",
        "<!-- 1&#45;&gt;2 -->\n",
        "<g id=\"edge7\" class=\"edge\"><title>1&#45;&gt;2</title>\n",
        "<path fill=\"none\" stroke=\"black\" d=\"M378.09,-42.407C396.02,-40.662 415.25,-38.543 433,-36.088 436.76,-35.569 440.59,-35.004 444.47,-34.407\"/>\n",
        "<polygon fill=\"black\" stroke=\"black\" points=\"450.58,-33.444 445.074,-37.0453 447.617,-33.9111 444.653,-34.3782 444.653,-34.3782 444.653,-34.3782 447.617,-33.9111 444.233,-31.7111 450.58,-33.444 450.58,-33.444\"/>\n",
        "<text text-anchor=\"middle\" x=\"414.5\" y=\"-43.888\" font-family=\"Times,serif\" font-size=\"14.00\">\u27e82/3\u27e9b</text>\n",
        "</g>\n",
        "<!-- 2&#45;&gt;F2 -->\n",
        "<g id=\"edge8\" class=\"edge\"><title>2&#45;&gt;F2</title>\n",
        "<path fill=\"none\" stroke=\"black\" d=\"M594.251,-20.088C614.347,-20.088 633.277,-20.088 642.727,-20.088\"/>\n",
        "<polygon fill=\"black\" stroke=\"black\" points=\"648.924,-20.088 642.924,-22.7881 645.924,-20.088 642.924,-20.0881 642.924,-20.0881 642.924,-20.0881 645.924,-20.088 642.924,-17.3881 648.924,-20.088 648.924,-20.088\"/>\n",
        "<text text-anchor=\"middle\" x=\"608.989\" y=\"-23.888\" font-family=\"Times,serif\" font-size=\"14.00\">\u27e82\u27e9</text>\n",
        "</g>\n",
        "<!-- 2&#45;&gt;1 -->\n",
        "<g id=\"edge9\" class=\"edge\"><title>2&#45;&gt;1</title>\n",
        "<path fill=\"none\" stroke=\"black\" d=\"M450.79,-13.618C432.82,-13.28 413.61,-14.061 396,-17.088 382.78,-19.361 368.9,-23.434 356.19,-27.896\"/>\n",
        "<polygon fill=\"black\" stroke=\"black\" points=\"350.45,-29.969 355.176,-25.3914 353.272,-28.9499 356.093,-27.9309 356.093,-27.9309 356.093,-27.9309 353.272,-28.9499 357.01,-30.4703 350.45,-29.969 350.45,-29.969\"/>\n",
        "<text text-anchor=\"middle\" x=\"414.5\" y=\"-20.888\" font-family=\"Times,serif\" font-size=\"14.00\">\u27e81/3\u27e9a</text>\n",
        "</g>\n",
        "<!-- 2&#45;&gt;2 -->\n",
        "<g id=\"edge10\" class=\"edge\"><title>2&#45;&gt;2</title>\n",
        "<path fill=\"none\" stroke=\"black\" d=\"M504.77,-38.241C502.04,-47.627 507.95,-56.088 522.5,-56.088 533.64,-56.088 539.71,-51.129 540.72,-44.591\"/>\n",
        "<polygon fill=\"black\" stroke=\"black\" points=\"540.23,-38.241 543.384,-44.0154 540.461,-41.2321 540.692,-44.2232 540.692,-44.2232 540.692,-44.2232 540.461,-41.2321 538,-44.431 540.23,-38.241 540.23,-38.241\"/>\n",
        "<text text-anchor=\"middle\" x=\"522.5\" y=\"-59.888\" font-family=\"Times,serif\" font-size=\"14.00\">\u27e85/3\u27e9b</text>\n",
        "</g>\n",
        "</g>\n",
        "</svg>\n"
       ],
       "text": [
        "ratexp_automaton<mutable_automaton<lal_char(abc), q>>"
       ]
      }
     ],
     "prompt_number": 5
    },
    {
     "cell_type": "heading",
     "level": 3,
     "metadata": {},
     "source": [
      "Breaking expansion"
     ]
    },
    {
     "cell_type": "markdown",
     "metadata": {},
     "source": [
      "There is (currently) no means to break an expansion (which would mean breaking its polynomials).  The construction of the derived-term automaton does it on the fly."
     ]
    },
    {
     "cell_type": "heading",
     "level": 3,
     "metadata": {},
     "source": [
      "Non-free labelsets"
     ]
    },
    {
     "cell_type": "markdown",
     "metadata": {},
     "source": [
      "Contrary to derivation, which requires a finite alphabet, expansions support labels which are words, or even tuples."
     ]
    },
    {
     "cell_type": "code",
     "collapsed": false,
     "input": [
      "ctx = vcsn.context('lat<law_char(0-9), law_char(a-zA-Z)>_b')\n",
      "ctx"
     ],
     "language": "python",
     "metadata": {},
     "outputs": [
      {
       "latex": [
        "$\\{0, 1, 2, 3, 4, 5, 6, 7, 8, 9\\}^* \\times \\{A, B, C, D, E, F, G, H, I, J, K, L, M, N, O, P, Q, R, S, T, U, V, W, X, Y, Z, a, b, c, d, e, f, g, h, i, j, k, l, m, n, o, p, q, r, s, t, u, v, w, x, y, z\\}^*\\rightarrow\\mathbb{B}$"
       ],
       "metadata": {},
       "output_type": "pyout",
       "prompt_number": 6,
       "text": [
        "lat<law_char(0123456789),law_char(ABCDEFGHIJKLMNOPQRSTUVWXYZabcdefghijklmnopqrstuvwxyz)>_b"
       ]
      }
     ],
     "prompt_number": 6
    },
    {
     "cell_type": "code",
     "collapsed": false,
     "input": [
      "r = ctx.ratexp(\"('(11,eleven)'+'(12,twelve)'+'(13,thirteen)')*\")\n",
      "r"
     ],
     "language": "python",
     "metadata": {},
     "outputs": [
      {
       "latex": [
        "$\\left((11,eleven) + (12,twelve) + (13,thirteen)\\right)^{*}$"
       ],
       "metadata": {},
       "output_type": "pyout",
       "prompt_number": 7,
       "text": [
        "((11,eleven)+(12,twelve)+(13,thirteen))*"
       ]
      }
     ],
     "prompt_number": 7
    },
    {
     "cell_type": "code",
     "collapsed": false,
     "input": [
      "r.expansion()"
     ],
     "language": "python",
     "metadata": {},
     "outputs": [
      {
       "latex": [
        "$\\left\\langle \\top\\right\\rangle  \\oplus (11,eleven) \\odot \\left[\\left((11,eleven) + (12,twelve) + (13,thirteen)\\right)^{*}\\right] \\oplus (12,twelve) \\odot \\left[\\left((11,eleven) + (12,twelve) + (13,thirteen)\\right)^{*}\\right] \\oplus (13,thirteen) \\odot \\left[\\left((11,eleven) + (12,twelve) + (13,thirteen)\\right)^{*}\\right]$"
       ],
       "metadata": {},
       "output_type": "pyout",
       "prompt_number": 8,
       "text": [
        "<1> + (11,eleven).[((11,eleven)+(12,twelve)+(13,thirteen))*] + (12,twelve).[((11,eleven)+(12,twelve)+(13,thirteen))*] + (13,thirteen).[((11,eleven)+(12,twelve)+(13,thirteen))*]"
       ]
      }
     ],
     "prompt_number": 8
    },
    {
     "cell_type": "markdown",
     "metadata": {},
     "source": [
      "This enables the construction of the associated derived-term automaton."
     ]
    },
    {
     "cell_type": "code",
     "collapsed": false,
     "input": [
      "r.derived_term()"
     ],
     "language": "python",
     "metadata": {},
     "outputs": [
      {
       "metadata": {},
       "output_type": "pyout",
       "prompt_number": 9,
       "svg": [
        "<?xml version=\"1.0\" encoding=\"UTF-8\" standalone=\"no\"?>\n",
        "<!DOCTYPE svg PUBLIC \"-//W3C//DTD SVG 1.1//EN\"\n",
        " \"http://www.w3.org/Graphics/SVG/1.1/DTD/svg11.dtd\">\n",
        "<!-- Generated by graphviz version 2.38.0 (20140413.2041)\n",
        " -->\n",
        "<!-- Title: %3 Pages: 1 -->\n",
        "<svg width=\"328pt\" height=\"77pt\"\n",
        " viewBox=\"0.00 0.00 328.00 77.00\" xmlns=\"http://www.w3.org/2000/svg\" xmlns:xlink=\"http://www.w3.org/1999/xlink\">\n",
        "<g id=\"graph0\" class=\"graph\" transform=\"scale(1 1) rotate(0) translate(4 73)\">\n",
        "<title>%3</title>\n",
        "<polygon fill=\"white\" stroke=\"none\" points=\"-4,4 -4,-73 324,-73 324,4 -4,4\"/>\n",
        "<!-- I0 -->\n",
        "<g id=\"node1\" class=\"node\"><title>I0</title>\n",
        "<ellipse fill=\"black\" stroke=\"black\" cx=\"0\" cy=\"-18\" rx=\"0\" ry=\"0\"/>\n",
        "</g>\n",
        "<!-- 0 -->\n",
        "<g id=\"node3\" class=\"node\"><title>0</title>\n",
        "<path fill=\"#98f5ff\" stroke=\"black\" d=\"M271,-36C271,-36 49,-36 49,-36 43,-36 37,-30 37,-24 37,-24 37,-12 37,-12 37,-6 43,-0 49,-0 49,-0 271,-0 271,-0 277,-0 283,-6 283,-12 283,-12 283,-24 283,-24 283,-30 277,-36 271,-36\"/>\n",
        "<text text-anchor=\"middle\" x=\"160\" y=\"-14.3\" font-family=\"Times,serif\" font-size=\"14.00\">((11,eleven)+(12,twelve)+(13,thirteen))*</text>\n",
        "</g>\n",
        "<!-- I0&#45;&gt;0 -->\n",
        "<g id=\"edge1\" class=\"edge\"><title>I0&#45;&gt;0</title>\n",
        "<path fill=\"none\" stroke=\"black\" d=\"M1.1145,-18C2.3795,-18 14.013,-18 30.444,-18\"/>\n",
        "<polygon fill=\"black\" stroke=\"black\" points=\"36.705,-18 30.705,-20.7001 33.705,-18 30.705,-18.0001 30.705,-18.0001 30.705,-18.0001 33.705,-18 30.705,-15.3001 36.705,-18 36.705,-18\"/>\n",
        "</g>\n",
        "<!-- F0 -->\n",
        "<g id=\"node2\" class=\"node\"><title>F0</title>\n",
        "<ellipse fill=\"black\" stroke=\"black\" cx=\"320\" cy=\"-18\" rx=\"0\" ry=\"0\"/>\n",
        "</g>\n",
        "<!-- 0&#45;&gt;F0 -->\n",
        "<g id=\"edge2\" class=\"edge\"><title>0&#45;&gt;F0</title>\n",
        "<path fill=\"none\" stroke=\"black\" d=\"M283.293,-18C296.497,-18 307.45,-18 313.86,-18\"/>\n",
        "<polygon fill=\"black\" stroke=\"black\" points=\"319.955,-18 313.955,-20.7001 316.955,-18 313.955,-18.0001 313.955,-18.0001 313.955,-18.0001 316.955,-18 313.955,-15.3001 319.955,-18 319.955,-18\"/>\n",
        "</g>\n",
        "<!-- 0&#45;&gt;0 -->\n",
        "<g id=\"edge3\" class=\"edge\"><title>0&#45;&gt;0</title>\n",
        "<path fill=\"none\" stroke=\"black\" d=\"M134.67,-36.153C130.78,-45.539 139.22,-54 160,-54 175.91,-54 184.59,-49.04 186.03,-42.503\"/>\n",
        "<polygon fill=\"black\" stroke=\"black\" points=\"185.33,-36.153 188.671,-41.821 185.659,-39.1349 185.988,-42.1169 185.988,-42.1169 185.988,-42.1169 185.659,-39.1349 183.304,-42.4128 185.33,-36.153 185.33,-36.153\"/>\n",
        "<text text-anchor=\"middle\" x=\"160\" y=\"-57.8\" font-family=\"Times,serif\" font-size=\"14.00\">(11,eleven), (12,twelve), (13,thirteen)</text>\n",
        "</g>\n",
        "</g>\n",
        "</svg>\n"
       ],
       "text": [
        "ratexp_automaton<mutable_automaton<lat<law_char(0123456789),law_char(ABCDEFGHIJKLMNOPQRSTUVWXYZabcdefghijklmnopqrstuvwxyz)>_b>>"
       ]
      }
     ],
     "prompt_number": 9
    }
   ],
   "metadata": {}
  }
 ]
}