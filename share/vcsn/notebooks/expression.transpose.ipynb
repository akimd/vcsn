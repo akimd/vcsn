{
 "metadata": {
  "name": "",
  "signature": "sha256:44eeaf9525e6a9c3310c9eaff2a539f3a7af5a1ee637f01c23b2ae5853a41b7b"
 },
 "nbformat": 3,
 "nbformat_minor": 0,
 "worksheets": [
  {
   "cells": [
    {
     "cell_type": "heading",
     "level": 1,
     "metadata": {},
     "source": [
      "_expression_.transpose"
     ]
    },
    {
     "cell_type": "markdown",
     "metadata": {},
     "source": [
      "Reverse all the concatenations, and transpose the labels.\n",
      "\n",
      "Preconditions:\n",
      "- None\n",
      "\n",
      "Properties:\n",
      "- involution\n",
      "\n",
      "See also:\n",
      "- [automaton.transpose](automaton.transpose.ipynb)\n",
      "- [expression.transposition](expression.transposition.ipynb)"
     ]
    },
    {
     "cell_type": "heading",
     "level": 2,
     "metadata": {},
     "source": [
      "Examples"
     ]
    },
    {
     "cell_type": "code",
     "collapsed": false,
     "input": [
      "import vcsn\n",
      "c = vcsn.context('law_char(abc), seriesset<law_char(xyz), b>')\n",
      "c"
     ],
     "language": "python",
     "metadata": {},
     "outputs": [
      {
       "latex": [
        "$\\{a, b, c\\}^*\\rightarrow\\mathsf{Series}[\\{x, y, z\\}^*\\rightarrow\\mathbb{B}]$"
       ],
       "metadata": {},
       "output_type": "pyout",
       "prompt_number": 1,
       "text": [
        "wordset<char_letters(abc)>, seriesset<wordset<char_letters(xyz)>, b>"
       ]
      }
     ],
     "prompt_number": 1
    },
    {
     "cell_type": "code",
     "collapsed": false,
     "input": [
      "r = c.expression('(<x>a+<xyz>(abc))*')\n",
      "r"
     ],
     "language": "python",
     "metadata": {},
     "outputs": [
      {
       "latex": [
        "$\\left( \\left\\langle \\mathit{x} \\right\\rangle \\,\\mathit{a} +  \\left\\langle \\mathit{xyz} \\right\\rangle \\,\\left(\\mathit{abc}\\right)\\right)^{*}$"
       ],
       "metadata": {},
       "output_type": "pyout",
       "prompt_number": 2,
       "text": [
        "(<x>a+<xyz>(abc))*"
       ]
      }
     ],
     "prompt_number": 2
    },
    {
     "cell_type": "code",
     "collapsed": false,
     "input": [
      "r.transpose()"
     ],
     "language": "python",
     "metadata": {},
     "outputs": [
      {
       "latex": [
        "$\\left( \\left\\langle \\mathit{x} \\right\\rangle \\,\\mathit{a} +  \\left\\langle \\mathit{zyx} \\right\\rangle \\,\\left(\\mathit{cba}\\right)\\right)^{*}$"
       ],
       "metadata": {},
       "output_type": "pyout",
       "prompt_number": 3,
       "text": [
        "(<x>a+<zyx>(cba))*"
       ]
      }
     ],
     "prompt_number": 3
    },
    {
     "cell_type": "code",
     "collapsed": false,
     "input": [
      "assert(r.transpose().transpose() == r)"
     ],
     "language": "python",
     "metadata": {},
     "outputs": [],
     "prompt_number": 4
    },
    {
     "cell_type": "markdown",
     "metadata": {},
     "source": [
      "`transpose` and `transposition` should not be confused.  The former completely rewrites the expression, while the latter only wraps it in a syntactic transposition operator:"
     ]
    },
    {
     "cell_type": "code",
     "collapsed": false,
     "input": [
      "r = c.expression('<xyz>(abc)')\n",
      "r"
     ],
     "language": "python",
     "metadata": {},
     "outputs": [
      {
       "latex": [
        "$ \\left\\langle \\mathit{xyz} \\right\\rangle \\,\\left(\\mathit{abc}\\right)$"
       ],
       "metadata": {},
       "output_type": "pyout",
       "prompt_number": 5,
       "text": [
        "<xyz>(abc)"
       ]
      }
     ],
     "prompt_number": 5
    },
    {
     "cell_type": "code",
     "collapsed": false,
     "input": [
      "r.transpose()"
     ],
     "language": "python",
     "metadata": {},
     "outputs": [
      {
       "latex": [
        "$ \\left\\langle \\mathit{zyx} \\right\\rangle \\,\\left(\\mathit{cba}\\right)$"
       ],
       "metadata": {},
       "output_type": "pyout",
       "prompt_number": 6,
       "text": [
        "<zyx>(cba)"
       ]
      }
     ],
     "prompt_number": 6
    },
    {
     "cell_type": "code",
     "collapsed": false,
     "input": [
      "r.transposition()"
     ],
     "language": "python",
     "metadata": {},
     "outputs": [
      {
       "latex": [
        "$\\left( \\left\\langle \\mathit{xyz} \\right\\rangle \\,\\left(\\mathit{abc}\\right)\\right)^{T}$"
       ],
       "metadata": {},
       "output_type": "pyout",
       "prompt_number": 7,
       "text": [
        "(<xyz>(abc)){T}"
       ]
      }
     ],
     "prompt_number": 7
    }
   ],
   "metadata": {}
  }
 ]
}