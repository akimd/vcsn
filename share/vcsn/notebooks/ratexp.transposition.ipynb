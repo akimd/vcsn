{
 "metadata": {
  "name": "",
  "signature": "sha256:c745f579a4ceed7d1144447d667c1eac6263a5d2684677bd7e36eada7b6c3bd1"
 },
 "nbformat": 3,
 "nbformat_minor": 0,
 "worksheets": [
  {
   "cells": [
    {
     "cell_type": "heading",
     "level": 1,
     "metadata": {},
     "source": [
      "_ratexp_.transposition"
     ]
    },
    {
     "cell_type": "markdown",
     "metadata": {},
     "source": [
      "Stack a transposition operator on the expression.\n",
      "\n",
      "Preconditions:\n",
      "- None\n",
      "\n",
      "See also:\n",
      "- [ratexp.transpose](ratexp.transpose.ipynb)"
     ]
    },
    {
     "cell_type": "heading",
     "level": 2,
     "metadata": {},
     "source": [
      "Examples"
     ]
    },
    {
     "cell_type": "code",
     "collapsed": false,
     "input": [
      "import vcsn\n",
      "c = vcsn.context('law_char(abc)_seriesset<law_char(xyz)_b>')\n",
      "c"
     ],
     "language": "python",
     "metadata": {},
     "outputs": [
      {
       "latex": [
        "$\\{a, b, c\\}^*\\rightarrow\\mathsf{Series}[\\{x, y, z\\}^*\\rightarrow\\mathbb{B}]$"
       ],
       "metadata": {},
       "output_type": "pyout",
       "prompt_number": 1,
       "text": [
        "law_char(abc)_seriesset<law_char(xyz)_b>"
       ]
      }
     ],
     "prompt_number": 1
    },
    {
     "cell_type": "code",
     "collapsed": false,
     "input": [
      "r = c.ratexp('a+abc')\n",
      "r"
     ],
     "language": "python",
     "metadata": {},
     "outputs": [
      {
       "latex": [
        "$a + abc$"
       ],
       "metadata": {},
       "output_type": "pyout",
       "prompt_number": 2,
       "text": [
        "a+abc"
       ]
      }
     ],
     "prompt_number": 2
    },
    {
     "cell_type": "code",
     "collapsed": false,
     "input": [
      "r.transposition()"
     ],
     "language": "python",
     "metadata": {},
     "outputs": [
      {
       "latex": [
        "$\\left(a + abc\\right)^{T}$"
       ],
       "metadata": {},
       "output_type": "pyout",
       "prompt_number": 3,
       "text": [
        "(a+abc){T}"
       ]
      }
     ],
     "prompt_number": 3
    },
    {
     "cell_type": "markdown",
     "metadata": {},
     "source": [
      "`transpose` and `transposition` should not be confused."
     ]
    },
    {
     "cell_type": "code",
     "collapsed": false,
     "input": [
      "r.transpose()"
     ],
     "language": "python",
     "metadata": {},
     "outputs": [
      {
       "latex": [
        "$a + cba$"
       ],
       "metadata": {},
       "output_type": "pyout",
       "prompt_number": 4,
       "text": [
        "a+cba"
       ]
      }
     ],
     "prompt_number": 4
    },
    {
     "cell_type": "code",
     "collapsed": false,
     "input": [
      "r.transposition().transposition()"
     ],
     "language": "python",
     "metadata": {},
     "outputs": [
      {
       "latex": [
        "${\\left(a + abc\\right)^{T}}^{T}$"
       ],
       "metadata": {},
       "output_type": "pyout",
       "prompt_number": 5,
       "text": [
        "(a+abc){T}{T}"
       ]
      }
     ],
     "prompt_number": 5
    }
   ],
   "metadata": {}
  }
 ]
}