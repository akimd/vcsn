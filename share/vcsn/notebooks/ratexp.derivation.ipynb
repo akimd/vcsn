{
 "metadata": {
  "name": "",
  "signature": "sha256:3810c7a0a5b5e7442aa7301e0df11ad816bd8b2af66891b0cdffeed2601c486f"
 },
 "nbformat": 3,
 "nbformat_minor": 0,
 "worksheets": [
  {
   "cells": [
    {
     "cell_type": "heading",
     "level": 1,
     "metadata": {},
     "source": [
      "_`ratexp`_.`derivation(`_`label`_`, `_`breaking`_`=False)`"
     ]
    },
    {
     "cell_type": "markdown",
     "metadata": {},
     "source": [
      "Compute the derivation of a weighted expression.\n",
      "\n",
      "Arguments:\n",
      "- `label`: the (non empty) string to derive the expression with.\n",
      "- `breaking`: whether to split the result.\n",
      "\n",
      "See also:\n",
      "- [_ratexp_.derived_term](ratexp.derived_term.ipynb)\n",
      "- [_ratexp_.expansion](ratexp.expansion.ipynb)\n",
      "- [_polynomial_.split](polynomial.split.ipynb)\n",
      "\n",
      "References:\n",
      "- [lombardy.2005.tcs](References.ipynb#lombardy.2005.tcs) defines the derivation\n",
      "- [angrand.2010.jalc](References.ipynb#angrand.2010.jalc) defines the breaking derivation"
     ]
    },
    {
     "cell_type": "heading",
     "level": 2,
     "metadata": {},
     "source": [
      "Examples"
     ]
    },
    {
     "cell_type": "markdown",
     "metadata": {},
     "source": [
      "The following function will prove handy: it takes a rational expression and a list of strings, and returns a $\\LaTeX$ `aligned` environment to display nicely the result."
     ]
    },
    {
     "cell_type": "code",
     "collapsed": false,
     "input": [
      "import vcsn\n",
      "def diffs(r, ss):\n",
      "    from IPython.display import Latex\n",
      "    eqs = []\n",
      "    for s in ss:\n",
      "        eqs.append(r'\\frac{{\\partial}}{{\\partial {0}}} {1}& = {2}'\n",
      "                   .format(s,\n",
      "                           r.format('latex'),\n",
      "                           r.derivation(s).format('latex')))\n",
      "    return Latex(r'''\\begin{{aligned}}\n",
      "        {0}\n",
      "    \\end{{aligned}}'''.format(r'\\\\'.join(eqs)))"
     ],
     "language": "python",
     "metadata": {},
     "outputs": [],
     "prompt_number": 1
    },
    {
     "cell_type": "heading",
     "level": 3,
     "metadata": {},
     "source": [
      "Classical expressions"
     ]
    },
    {
     "cell_type": "markdown",
     "metadata": {},
     "source": [
      "In the classical case (labels are letters, and weights are Boolean), this is the construct as described by Antimirov."
     ]
    },
    {
     "cell_type": "code",
     "collapsed": false,
     "input": [
      "b = vcsn.context('lal_char(ab), b')\n",
      "r = b.ratexp('[ab]{3}')\n",
      "r.derivation('a')"
     ],
     "language": "python",
     "metadata": {},
     "outputs": [
      {
       "latex": [
        "$\\left(a + b\\right) \\, \\left(a + b\\right)$"
       ],
       "metadata": {},
       "output_type": "pyout",
       "prompt_number": 2,
       "text": [
        "(a+b)(a+b)"
       ]
      }
     ],
     "prompt_number": 2
    },
    {
     "cell_type": "markdown",
     "metadata": {},
     "source": [
      "Or, using the `diffs` function we defined above:"
     ]
    },
    {
     "cell_type": "code",
     "collapsed": false,
     "input": [
      "diffs(r, ['a', 'aa', 'aaa', 'aaaa'])"
     ],
     "language": "python",
     "metadata": {},
     "outputs": [
      {
       "latex": [
        "\\begin{aligned}\n",
        "        \\frac{\\partial}{\\partial a} \\left(a + b\\right) \\, \\left(a + b\\right) \\, \\left(a + b\\right)& = \\left(a + b\\right) \\, \\left(a + b\\right)\\\\\\frac{\\partial}{\\partial aa} \\left(a + b\\right) \\, \\left(a + b\\right) \\, \\left(a + b\\right)& = a + b\\\\\\frac{\\partial}{\\partial aaa} \\left(a + b\\right) \\, \\left(a + b\\right) \\, \\left(a + b\\right)& = \\varepsilon\\\\\\frac{\\partial}{\\partial aaaa} \\left(a + b\\right) \\, \\left(a + b\\right) \\, \\left(a + b\\right)& = \\emptyset\n",
        "    \\end{aligned}"
       ],
       "metadata": {},
       "output_type": "pyout",
       "prompt_number": 3,
       "text": [
        "<IPython.core.display.Latex at 0x110ee2e90>"
       ]
      }
     ],
     "prompt_number": 3
    },
    {
     "cell_type": "heading",
     "level": 3,
     "metadata": {},
     "source": [
      "Weighted Expressions"
     ]
    },
    {
     "cell_type": "markdown",
     "metadata": {},
     "source": [
      "Of course, expressions can be weighted."
     ]
    },
    {
     "cell_type": "code",
     "collapsed": false,
     "input": [
      "q = vcsn.context('lal_char(abc), q')\n",
      "r = q.ratexp('(<1/6>a*+<1/3>b*)*')\n",
      "diffs(r, ['a', 'aa', 'ab', 'b', 'ba', 'bb'])"
     ],
     "language": "python",
     "metadata": {},
     "outputs": [
      {
       "latex": [
        "\\begin{aligned}\n",
        "        \\frac{\\partial}{\\partial a} \\left( \\left\\langle \\frac{1}{6} \\right\\rangle \\,{a}^{*} +  \\left\\langle \\frac{1}{3} \\right\\rangle \\,{b}^{*}\\right)^{*}& = \\left\\langle \\frac{1}{3}\\right\\rangle {a}^{*} \\, \\left( \\left\\langle \\frac{1}{6} \\right\\rangle \\,{a}^{*} +  \\left\\langle \\frac{1}{3} \\right\\rangle \\,{b}^{*}\\right)^{*}\\\\\\frac{\\partial}{\\partial aa} \\left( \\left\\langle \\frac{1}{6} \\right\\rangle \\,{a}^{*} +  \\left\\langle \\frac{1}{3} \\right\\rangle \\,{b}^{*}\\right)^{*}& = \\left\\langle \\frac{4}{9}\\right\\rangle {a}^{*} \\, \\left( \\left\\langle \\frac{1}{6} \\right\\rangle \\,{a}^{*} +  \\left\\langle \\frac{1}{3} \\right\\rangle \\,{b}^{*}\\right)^{*}\\\\\\frac{\\partial}{\\partial ab} \\left( \\left\\langle \\frac{1}{6} \\right\\rangle \\,{a}^{*} +  \\left\\langle \\frac{1}{3} \\right\\rangle \\,{b}^{*}\\right)^{*}& = \\left\\langle \\frac{2}{9}\\right\\rangle {b}^{*} \\, \\left( \\left\\langle \\frac{1}{6} \\right\\rangle \\,{a}^{*} +  \\left\\langle \\frac{1}{3} \\right\\rangle \\,{b}^{*}\\right)^{*}\\\\\\frac{\\partial}{\\partial b} \\left( \\left\\langle \\frac{1}{6} \\right\\rangle \\,{a}^{*} +  \\left\\langle \\frac{1}{3} \\right\\rangle \\,{b}^{*}\\right)^{*}& = \\left\\langle \\frac{2}{3}\\right\\rangle {b}^{*} \\, \\left( \\left\\langle \\frac{1}{6} \\right\\rangle \\,{a}^{*} +  \\left\\langle \\frac{1}{3} \\right\\rangle \\,{b}^{*}\\right)^{*}\\\\\\frac{\\partial}{\\partial ba} \\left( \\left\\langle \\frac{1}{6} \\right\\rangle \\,{a}^{*} +  \\left\\langle \\frac{1}{3} \\right\\rangle \\,{b}^{*}\\right)^{*}& = \\left\\langle \\frac{2}{9}\\right\\rangle {a}^{*} \\, \\left( \\left\\langle \\frac{1}{6} \\right\\rangle \\,{a}^{*} +  \\left\\langle \\frac{1}{3} \\right\\rangle \\,{b}^{*}\\right)^{*}\\\\\\frac{\\partial}{\\partial bb} \\left( \\left\\langle \\frac{1}{6} \\right\\rangle \\,{a}^{*} +  \\left\\langle \\frac{1}{3} \\right\\rangle \\,{b}^{*}\\right)^{*}& = \\left\\langle \\frac{10}{9}\\right\\rangle {b}^{*} \\, \\left( \\left\\langle \\frac{1}{6} \\right\\rangle \\,{a}^{*} +  \\left\\langle \\frac{1}{3} \\right\\rangle \\,{b}^{*}\\right)^{*}\n",
        "    \\end{aligned}"
       ],
       "metadata": {},
       "output_type": "pyout",
       "prompt_number": 4,
       "text": [
        "<IPython.core.display.Latex at 0x110f04050>"
       ]
      }
     ],
     "prompt_number": 4
    },
    {
     "cell_type": "markdown",
     "metadata": {},
     "source": [
      "And this is tightly connected with the construction of the derived-term automaton."
     ]
    },
    {
     "cell_type": "code",
     "collapsed": false,
     "input": [
      "r.derived_term()"
     ],
     "language": "python",
     "metadata": {},
     "outputs": [
      {
       "metadata": {},
       "output_type": "pyout",
       "prompt_number": 5,
       "svg": [
        "<?xml version=\"1.0\" encoding=\"UTF-8\" standalone=\"no\"?>\n",
        "<!DOCTYPE svg PUBLIC \"-//W3C//DTD SVG 1.1//EN\"\n",
        " \"http://www.w3.org/Graphics/SVG/1.1/DTD/svg11.dtd\">\n",
        "<!-- Generated by graphviz version 2.38.0 (20140413.2041)\n",
        " -->\n",
        "<!-- Title: %3 Pages: 1 -->\n",
        "<svg width=\"657pt\" height=\"130pt\"\n",
        " viewBox=\"0.00 0.00 657.00 129.61\" xmlns=\"http://www.w3.org/2000/svg\" xmlns:xlink=\"http://www.w3.org/1999/xlink\">\n",
        "<g id=\"graph0\" class=\"graph\" transform=\"scale(1 1) rotate(0) translate(4 121.09)\">\n",
        "<title>%3</title>\n",
        "<polygon fill=\"white\" stroke=\"none\" points=\"-4,8.5209 -4,-121.09 653,-121.09 653,8.5209 -4,8.5209\"/>\n",
        "<!-- I0 -->\n",
        "<g id=\"node1\" class=\"node\"><title>I0</title>\n",
        "<ellipse fill=\"black\" stroke=\"black\" cx=\"0\" cy=\"-48.088\" rx=\"0\" ry=\"0\"/>\n",
        "</g>\n",
        "<!-- 0 -->\n",
        "<g id=\"node5\" class=\"node\"><title>0</title>\n",
        "<path fill=\"#98f5ff\" stroke=\"black\" d=\"M153,-66.088C153,-66.088 49,-66.088 49,-66.088 43,-66.088 37,-60.088 37,-54.088 37,-54.088 37,-42.088 37,-42.088 37,-36.088 43,-30.088 49,-30.088 49,-30.088 153,-30.088 153,-30.088 159,-30.088 165,-36.088 165,-42.088 165,-42.088 165,-54.088 165,-54.088 165,-60.088 159,-66.088 153,-66.088\"/>\n",
        "<text text-anchor=\"middle\" x=\"101\" y=\"-44.388\" font-family=\"Times,serif\" font-size=\"14.00\">(\u27e81/6\u27e9a*+\u27e81/3\u27e9b*)*</text>\n",
        "</g>\n",
        "<!-- I0&#45;&gt;0 -->\n",
        "<g id=\"edge1\" class=\"edge\"><title>I0&#45;&gt;0</title>\n",
        "<path fill=\"none\" stroke=\"black\" d=\"M1.0718,-48.088C2.1356,-48.088 14.902,-48.088 30.931,-48.088\"/>\n",
        "<polygon fill=\"black\" stroke=\"black\" points=\"36.969,-48.088 30.969,-50.7881 33.969,-48.088 30.969,-48.0881 30.969,-48.0881 30.969,-48.0881 33.969,-48.088 30.969,-45.3881 36.969,-48.088 36.969,-48.088\"/>\n",
        "</g>\n",
        "<!-- F0 -->\n",
        "<g id=\"node2\" class=\"node\"><title>F0</title>\n",
        "<ellipse fill=\"black\" stroke=\"black\" cx=\"307.5\" cy=\"-117.09\" rx=\"0\" ry=\"0\"/>\n",
        "</g>\n",
        "<!-- F1 -->\n",
        "<g id=\"node3\" class=\"node\"><title>F1</title>\n",
        "<ellipse fill=\"black\" stroke=\"black\" cx=\"522.5\" cy=\"-96.088\" rx=\"0\" ry=\"0\"/>\n",
        "</g>\n",
        "<!-- F2 -->\n",
        "<g id=\"node4\" class=\"node\"><title>F2</title>\n",
        "<ellipse fill=\"black\" stroke=\"black\" cx=\"649\" cy=\"-20.088\" rx=\"0\" ry=\"0\"/>\n",
        "</g>\n",
        "<!-- 0&#45;&gt;F0 -->\n",
        "<g id=\"edge2\" class=\"edge\"><title>0&#45;&gt;F0</title>\n",
        "<path fill=\"none\" stroke=\"black\" d=\"M154.986,-66.1273C206.979,-83.5011 280.743,-108.149 301.73,-115.162\"/>\n",
        "<polygon fill=\"black\" stroke=\"black\" points=\"307.434,-117.068 300.887,-117.727 304.588,-116.117 301.743,-115.166 301.743,-115.166 301.743,-115.166 304.588,-116.117 302.599,-112.605 307.434,-117.068 307.434,-117.068\"/>\n",
        "<text text-anchor=\"middle\" x=\"218.858\" y=\"-94.4446\" font-family=\"Times,serif\" font-size=\"14.00\">\u27e82\u27e9</text>\n",
        "</g>\n",
        "<!-- 1 -->\n",
        "<g id=\"node6\" class=\"node\"><title>1</title>\n",
        "<path fill=\"#98f5ff\" stroke=\"black\" d=\"M366,-66.088C366,-66.088 249,-66.088 249,-66.088 243,-66.088 237,-60.088 237,-54.088 237,-54.088 237,-42.088 237,-42.088 237,-36.088 243,-30.088 249,-30.088 249,-30.088 366,-30.088 366,-30.088 372,-30.088 378,-36.088 378,-42.088 378,-42.088 378,-54.088 378,-54.088 378,-60.088 372,-66.088 366,-66.088\"/>\n",
        "<text text-anchor=\"middle\" x=\"307.5\" y=\"-44.388\" font-family=\"Times,serif\" font-size=\"14.00\">a*(\u27e81/6\u27e9a*+\u27e81/3\u27e9b*)*</text>\n",
        "</g>\n",
        "<!-- 0&#45;&gt;1 -->\n",
        "<g id=\"edge3\" class=\"edge\"><title>0&#45;&gt;1</title>\n",
        "<path fill=\"none\" stroke=\"black\" d=\"M165.03,-48.088C185.84,-48.088 209.2,-48.088 230.86,-48.088\"/>\n",
        "<polygon fill=\"black\" stroke=\"black\" points=\"236.92,-48.088 230.92,-50.7881 233.92,-48.088 230.92,-48.0881 230.92,-48.0881 230.92,-48.0881 233.92,-48.088 230.92,-45.3881 236.92,-48.088 236.92,-48.088\"/>\n",
        "<text text-anchor=\"middle\" x=\"201\" y=\"-51.888\" font-family=\"Times,serif\" font-size=\"14.00\">\u27e81/3\u27e9a</text>\n",
        "</g>\n",
        "<!-- 2 -->\n",
        "<g id=\"node7\" class=\"node\"><title>2</title>\n",
        "<path fill=\"#98f5ff\" stroke=\"black\" d=\"M582,-38.088C582,-38.088 463,-38.088 463,-38.088 457,-38.088 451,-32.088 451,-26.088 451,-26.088 451,-14.088 451,-14.088 451,-8.088 457,-2.088 463,-2.088 463,-2.088 582,-2.088 582,-2.088 588,-2.088 594,-8.088 594,-14.088 594,-14.088 594,-26.088 594,-26.088 594,-32.088 588,-38.088 582,-38.088\"/>\n",
        "<text text-anchor=\"middle\" x=\"522.5\" y=\"-16.388\" font-family=\"Times,serif\" font-size=\"14.00\">b*(\u27e81/6\u27e9a*+\u27e81/3\u27e9b*)*</text>\n",
        "</g>\n",
        "<!-- 0&#45;&gt;2 -->\n",
        "<g id=\"edge4\" class=\"edge\"><title>0&#45;&gt;2</title>\n",
        "<path fill=\"none\" stroke=\"black\" d=\"M147.74,-30.081C173.51,-20.901 206.54,-10.716 237,-6.0884 306.81,4.5209 387.26,-1.0615 444.76,-8.0732\"/>\n",
        "<polygon fill=\"black\" stroke=\"black\" points=\"450.95,-8.8446 444.662,-10.7818 447.973,-8.47357 444.996,-8.10253 444.996,-8.10253 444.996,-8.10253 447.973,-8.47357 445.33,-5.42326 450.95,-8.8446 450.95,-8.8446\"/>\n",
        "<text text-anchor=\"middle\" x=\"307.5\" y=\"-9.888\" font-family=\"Times,serif\" font-size=\"14.00\">\u27e82/3\u27e9b</text>\n",
        "</g>\n",
        "<!-- 1&#45;&gt;F1 -->\n",
        "<g id=\"edge5\" class=\"edge\"><title>1&#45;&gt;F1</title>\n",
        "<path fill=\"none\" stroke=\"black\" d=\"M378.197,-63.8715C430.726,-75.5988 496.587,-90.3028 516.518,-94.7526\"/>\n",
        "<polygon fill=\"black\" stroke=\"black\" points=\"522.441,-96.0747 515.996,-97.4024 519.513,-95.421 516.585,-94.7673 516.585,-94.7673 516.585,-94.7673 519.513,-95.421 517.173,-92.1322 522.441,-96.0747 522.441,-96.0747\"/>\n",
        "<text text-anchor=\"middle\" x=\"437.858\" y=\"-83.112\" font-family=\"Times,serif\" font-size=\"14.00\">\u27e82\u27e9</text>\n",
        "</g>\n",
        "<!-- 1&#45;&gt;1 -->\n",
        "<g id=\"edge6\" class=\"edge\"><title>1&#45;&gt;1</title>\n",
        "<path fill=\"none\" stroke=\"black\" d=\"M288.32,-66.241C285.37,-75.627 291.77,-84.088 307.5,-84.088 319.55,-84.088 326.12,-79.129 327.21,-72.591\"/>\n",
        "<polygon fill=\"black\" stroke=\"black\" points=\"326.68,-66.241 329.87,-71.9956 326.93,-69.2306 327.179,-72.2202 327.179,-72.2202 327.179,-72.2202 326.93,-69.2306 324.488,-72.4448 326.68,-66.241 326.68,-66.241\"/>\n",
        "<text text-anchor=\"middle\" x=\"307.5\" y=\"-87.888\" font-family=\"Times,serif\" font-size=\"14.00\">\u27e84/3\u27e9a</text>\n",
        "</g>\n",
        "<!-- 1&#45;&gt;2 -->\n",
        "<g id=\"edge7\" class=\"edge\"><title>1&#45;&gt;2</title>\n",
        "<path fill=\"none\" stroke=\"black\" d=\"M378.09,-42.407C396.02,-40.662 415.25,-38.543 433,-36.088 436.76,-35.569 440.59,-35.004 444.47,-34.407\"/>\n",
        "<polygon fill=\"black\" stroke=\"black\" points=\"450.58,-33.444 445.074,-37.0453 447.617,-33.9111 444.653,-34.3782 444.653,-34.3782 444.653,-34.3782 447.617,-33.9111 444.233,-31.7111 450.58,-33.444 450.58,-33.444\"/>\n",
        "<text text-anchor=\"middle\" x=\"414.5\" y=\"-43.888\" font-family=\"Times,serif\" font-size=\"14.00\">\u27e82/3\u27e9b</text>\n",
        "</g>\n",
        "<!-- 2&#45;&gt;F2 -->\n",
        "<g id=\"edge8\" class=\"edge\"><title>2&#45;&gt;F2</title>\n",
        "<path fill=\"none\" stroke=\"black\" d=\"M594.251,-20.088C614.347,-20.088 633.277,-20.088 642.727,-20.088\"/>\n",
        "<polygon fill=\"black\" stroke=\"black\" points=\"648.924,-20.088 642.924,-22.7881 645.924,-20.088 642.924,-20.0881 642.924,-20.0881 642.924,-20.0881 645.924,-20.088 642.924,-17.3881 648.924,-20.088 648.924,-20.088\"/>\n",
        "<text text-anchor=\"middle\" x=\"608.989\" y=\"-23.888\" font-family=\"Times,serif\" font-size=\"14.00\">\u27e82\u27e9</text>\n",
        "</g>\n",
        "<!-- 2&#45;&gt;1 -->\n",
        "<g id=\"edge9\" class=\"edge\"><title>2&#45;&gt;1</title>\n",
        "<path fill=\"none\" stroke=\"black\" d=\"M450.79,-13.618C432.82,-13.28 413.61,-14.061 396,-17.088 382.78,-19.361 368.9,-23.434 356.19,-27.896\"/>\n",
        "<polygon fill=\"black\" stroke=\"black\" points=\"350.45,-29.969 355.176,-25.3914 353.272,-28.9499 356.093,-27.9309 356.093,-27.9309 356.093,-27.9309 353.272,-28.9499 357.01,-30.4703 350.45,-29.969 350.45,-29.969\"/>\n",
        "<text text-anchor=\"middle\" x=\"414.5\" y=\"-20.888\" font-family=\"Times,serif\" font-size=\"14.00\">\u27e81/3\u27e9a</text>\n",
        "</g>\n",
        "<!-- 2&#45;&gt;2 -->\n",
        "<g id=\"edge10\" class=\"edge\"><title>2&#45;&gt;2</title>\n",
        "<path fill=\"none\" stroke=\"black\" d=\"M504.77,-38.241C502.04,-47.627 507.95,-56.088 522.5,-56.088 533.64,-56.088 539.71,-51.129 540.72,-44.591\"/>\n",
        "<polygon fill=\"black\" stroke=\"black\" points=\"540.23,-38.241 543.384,-44.0154 540.461,-41.2321 540.692,-44.2232 540.692,-44.2232 540.692,-44.2232 540.461,-41.2321 538,-44.431 540.23,-38.241 540.23,-38.241\"/>\n",
        "<text text-anchor=\"middle\" x=\"522.5\" y=\"-59.888\" font-family=\"Times,serif\" font-size=\"14.00\">\u27e85/3\u27e9b</text>\n",
        "</g>\n",
        "</g>\n",
        "</svg>\n"
       ],
       "text": [
        "ratexp_automaton<mutable_automaton<lal_char(abc), q>>"
       ]
      }
     ],
     "prompt_number": 5
    },
    {
     "cell_type": "heading",
     "level": 3,
     "metadata": {},
     "source": [
      "Breaking derivation"
     ]
    },
    {
     "cell_type": "markdown",
     "metadata": {},
     "source": [
      "The \"breaking\" derivation \"splits\" the polynomial at the end."
     ]
    },
    {
     "cell_type": "code",
     "collapsed": false,
     "input": [
      "r = q.ratexp('[ab](<2>[ab])')\n",
      "r.derivation('a')"
     ],
     "language": "python",
     "metadata": {},
     "outputs": [
      {
       "latex": [
        "$ \\left\\langle 2 \\right\\rangle \\,\\left(a + b\\right)$"
       ],
       "metadata": {},
       "output_type": "pyout",
       "prompt_number": 6,
       "text": [
        "<2>(a+b)"
       ]
      }
     ],
     "prompt_number": 6
    },
    {
     "cell_type": "code",
     "collapsed": false,
     "input": [
      "r.derivation('a', True)"
     ],
     "language": "python",
     "metadata": {},
     "outputs": [
      {
       "latex": [
        "$\\left\\langle 2\\right\\rangle a \\oplus \\left\\langle 2\\right\\rangle b$"
       ],
       "metadata": {},
       "output_type": "pyout",
       "prompt_number": 7,
       "text": [
        "<2>a + <2>b"
       ]
      }
     ],
     "prompt_number": 7
    },
    {
     "cell_type": "code",
     "collapsed": false,
     "input": [
      "r.derivation('a').split()"
     ],
     "language": "python",
     "metadata": {},
     "outputs": [
      {
       "latex": [
        "$\\left\\langle 2\\right\\rangle a \\oplus \\left\\langle 2\\right\\rangle b$"
       ],
       "metadata": {},
       "output_type": "pyout",
       "prompt_number": 8,
       "text": [
        "<2>a + <2>b"
       ]
      }
     ],
     "prompt_number": 8
    },
    {
     "cell_type": "markdown",
     "metadata": {},
     "source": [
      "Again, this is tightly connected with both flavors of the derived-term automaton."
     ]
    },
    {
     "cell_type": "code",
     "collapsed": false,
     "input": [
      "r.derived_term()"
     ],
     "language": "python",
     "metadata": {},
     "outputs": [
      {
       "metadata": {},
       "output_type": "pyout",
       "prompt_number": 9,
       "svg": [
        "<?xml version=\"1.0\" encoding=\"UTF-8\" standalone=\"no\"?>\n",
        "<!DOCTYPE svg PUBLIC \"-//W3C//DTD SVG 1.1//EN\"\n",
        " \"http://www.w3.org/Graphics/SVG/1.1/DTD/svg11.dtd\">\n",
        "<!-- Generated by graphviz version 2.38.0 (20140413.2041)\n",
        " -->\n",
        "<!-- Title: %3 Pages: 1 -->\n",
        "<svg width=\"428pt\" height=\"44pt\"\n",
        " viewBox=\"0.00 0.00 428.00 44.00\" xmlns=\"http://www.w3.org/2000/svg\" xmlns:xlink=\"http://www.w3.org/1999/xlink\">\n",
        "<g id=\"graph0\" class=\"graph\" transform=\"scale(1 1) rotate(0) translate(4 40)\">\n",
        "<title>%3</title>\n",
        "<polygon fill=\"white\" stroke=\"none\" points=\"-4,4 -4,-40 424,-40 424,4 -4,4\"/>\n",
        "<!-- I0 -->\n",
        "<g id=\"node1\" class=\"node\"><title>I0</title>\n",
        "<ellipse fill=\"black\" stroke=\"black\" cx=\"0\" cy=\"-18\" rx=\"0\" ry=\"0\"/>\n",
        "</g>\n",
        "<!-- 0 -->\n",
        "<g id=\"node3\" class=\"node\"><title>0</title>\n",
        "<path fill=\"#98f5ff\" stroke=\"black\" d=\"M120,-36C120,-36 49,-36 49,-36 43,-36 37,-30 37,-24 37,-24 37,-12 37,-12 37,-6 43,-0 49,-0 49,-0 120,-0 120,-0 126,-0 132,-6 132,-12 132,-12 132,-24 132,-24 132,-30 126,-36 120,-36\"/>\n",
        "<text text-anchor=\"middle\" x=\"84.5\" y=\"-14.3\" font-family=\"Times,serif\" font-size=\"14.00\">(a+b)\u27e82\u27e9(a+b)</text>\n",
        "</g>\n",
        "<!-- I0&#45;&gt;0 -->\n",
        "<g id=\"edge1\" class=\"edge\"><title>I0&#45;&gt;0</title>\n",
        "<path fill=\"none\" stroke=\"black\" d=\"M1.0598,-18C2.0419,-18 14.993,-18 30.35,-18\"/>\n",
        "<polygon fill=\"black\" stroke=\"black\" points=\"36.571,-18 30.571,-20.7001 33.571,-18 30.571,-18.0001 30.571,-18.0001 30.571,-18.0001 33.571,-18 30.571,-15.3001 36.571,-18 36.571,-18\"/>\n",
        "</g>\n",
        "<!-- F2 -->\n",
        "<g id=\"node2\" class=\"node\"><title>F2</title>\n",
        "<ellipse fill=\"black\" stroke=\"black\" cx=\"420\" cy=\"-18\" rx=\"0\" ry=\"0\"/>\n",
        "</g>\n",
        "<!-- 1 -->\n",
        "<g id=\"node4\" class=\"node\"><title>1</title>\n",
        "<path fill=\"#98f5ff\" stroke=\"black\" d=\"M242,-36C242,-36 201,-36 201,-36 195,-36 189,-30 189,-24 189,-24 189,-12 189,-12 189,-6 195,-0 201,-0 201,-0 242,-0 242,-0 248,-0 254,-6 254,-12 254,-12 254,-24 254,-24 254,-30 248,-36 242,-36\"/>\n",
        "<text text-anchor=\"middle\" x=\"221.5\" y=\"-14.3\" font-family=\"Times,serif\" font-size=\"14.00\">\u27e82\u27e9(a+b)</text>\n",
        "</g>\n",
        "<!-- 0&#45;&gt;1 -->\n",
        "<g id=\"edge2\" class=\"edge\"><title>0&#45;&gt;1</title>\n",
        "<path fill=\"none\" stroke=\"black\" d=\"M132.34,-18C148.74,-18 166.95,-18 182.54,-18\"/>\n",
        "<polygon fill=\"black\" stroke=\"black\" points=\"188.6,-18 182.6,-20.7001 185.6,-18 182.6,-18.0001 182.6,-18.0001 182.6,-18.0001 185.6,-18 182.6,-15.3001 188.6,-18 188.6,-18\"/>\n",
        "<text text-anchor=\"middle\" x=\"160.5\" y=\"-21.8\" font-family=\"Times,serif\" font-size=\"14.00\">a, b</text>\n",
        "</g>\n",
        "<!-- 2 -->\n",
        "<g id=\"node5\" class=\"node\"><title>2</title>\n",
        "<path fill=\"#98f5ff\" stroke=\"black\" d=\"M371,-36C371,-36 359,-36 359,-36 353,-36 347,-30 347,-24 347,-24 347,-12 347,-12 347,-6 353,-0 359,-0 359,-0 371,-0 371,-0 377,-0 383,-6 383,-12 383,-12 383,-24 383,-24 383,-30 377,-36 371,-36\"/>\n",
        "<text text-anchor=\"middle\" x=\"365\" y=\"-14.3\" font-family=\"Times,serif\" font-size=\"14.00\">\u03b5</text>\n",
        "</g>\n",
        "<!-- 1&#45;&gt;2 -->\n",
        "<g id=\"edge3\" class=\"edge\"><title>1&#45;&gt;2</title>\n",
        "<path fill=\"none\" stroke=\"black\" d=\"M254.26,-18C280.47,-18 317.08,-18 340.66,-18\"/>\n",
        "<polygon fill=\"black\" stroke=\"black\" points=\"346.95,-18 340.95,-20.7001 343.95,-18 340.95,-18.0001 340.95,-18.0001 340.95,-18.0001 343.95,-18 340.95,-15.3001 346.95,-18 346.95,-18\"/>\n",
        "<text text-anchor=\"middle\" x=\"300.5\" y=\"-21.8\" font-family=\"Times,serif\" font-size=\"14.00\">\u27e82\u27e9a, \u27e82\u27e9b</text>\n",
        "</g>\n",
        "<!-- 2&#45;&gt;F2 -->\n",
        "<g id=\"edge4\" class=\"edge\"><title>2&#45;&gt;F2</title>\n",
        "<path fill=\"none\" stroke=\"black\" d=\"M383.009,-18C393.571,-18 406.261,-18 413.698,-18\"/>\n",
        "<polygon fill=\"black\" stroke=\"black\" points=\"419.939,-18 413.939,-20.7001 416.939,-18 413.939,-18.0001 413.939,-18.0001 413.939,-18.0001 416.939,-18 413.939,-15.3001 419.939,-18 419.939,-18\"/>\n",
        "</g>\n",
        "</g>\n",
        "</svg>\n"
       ],
       "text": [
        "ratexp_automaton<mutable_automaton<lal_char(abc), q>>"
       ]
      }
     ],
     "prompt_number": 9
    },
    {
     "cell_type": "code",
     "collapsed": false,
     "input": [
      "r.derived_term('breaking_derivation')"
     ],
     "language": "python",
     "metadata": {},
     "outputs": [
      {
       "metadata": {},
       "output_type": "pyout",
       "prompt_number": 10,
       "svg": [
        "<?xml version=\"1.0\" encoding=\"UTF-8\" standalone=\"no\"?>\n",
        "<!DOCTYPE svg PUBLIC \"-//W3C//DTD SVG 1.1//EN\"\n",
        " \"http://www.w3.org/Graphics/SVG/1.1/DTD/svg11.dtd\">\n",
        "<!-- Generated by graphviz version 2.38.0 (20140413.2041)\n",
        " -->\n",
        "<!-- Title: %3 Pages: 1 -->\n",
        "<svg width=\"332pt\" height=\"121pt\"\n",
        " viewBox=\"0.00 0.00 332.00 120.62\" xmlns=\"http://www.w3.org/2000/svg\" xmlns:xlink=\"http://www.w3.org/1999/xlink\">\n",
        "<g id=\"graph0\" class=\"graph\" transform=\"scale(1 1) rotate(0) translate(4 113.79)\">\n",
        "<title>%3</title>\n",
        "<polygon fill=\"white\" stroke=\"none\" points=\"-4,6.8252 -4,-113.79 328,-113.79 328,6.8252 -4,6.8252\"/>\n",
        "<!-- I0 -->\n",
        "<g id=\"node1\" class=\"node\"><title>I0</title>\n",
        "<ellipse fill=\"black\" stroke=\"black\" cx=\"0\" cy=\"-90.794\" rx=\"0\" ry=\"0\"/>\n",
        "</g>\n",
        "<!-- 0 -->\n",
        "<g id=\"node4\" class=\"node\"><title>0</title>\n",
        "<path fill=\"#98f5ff\" stroke=\"black\" d=\"M96.5,-108.794C96.5,-108.794 49.5,-108.794 49.5,-108.794 43.5,-108.794 37.5,-102.794 37.5,-96.794 37.5,-96.794 37.5,-84.794 37.5,-84.794 37.5,-78.794 43.5,-72.794 49.5,-72.794 49.5,-72.794 96.5,-72.794 96.5,-72.794 102.5,-72.794 108.5,-78.794 108.5,-84.794 108.5,-84.794 108.5,-96.794 108.5,-96.794 108.5,-102.794 102.5,-108.794 96.5,-108.794\"/>\n",
        "<text text-anchor=\"middle\" x=\"73\" y=\"-87.094\" font-family=\"Times,serif\" font-size=\"14.00\">a\u27e82\u27e9(a+b)</text>\n",
        "</g>\n",
        "<!-- I0&#45;&gt;0 -->\n",
        "<g id=\"edge1\" class=\"edge\"><title>I0&#45;&gt;0</title>\n",
        "<path fill=\"none\" stroke=\"black\" d=\"M1.0515,-90.794C2.0005,-90.794 15.935,-90.794 31.207,-90.794\"/>\n",
        "<polygon fill=\"black\" stroke=\"black\" points=\"37.332,-90.794 31.332,-93.4941 34.332,-90.794 31.332,-90.7941 31.332,-90.7941 31.332,-90.7941 34.332,-90.794 31.332,-88.0941 37.332,-90.794 37.332,-90.794\"/>\n",
        "</g>\n",
        "<!-- I1 -->\n",
        "<g id=\"node2\" class=\"node\"><title>I1</title>\n",
        "<ellipse fill=\"black\" stroke=\"black\" cx=\"0\" cy=\"-25.794\" rx=\"0\" ry=\"0\"/>\n",
        "</g>\n",
        "<!-- 1 -->\n",
        "<g id=\"node5\" class=\"node\"><title>1</title>\n",
        "<path fill=\"#98f5ff\" stroke=\"black\" d=\"M97,-43.794C97,-43.794 49,-43.794 49,-43.794 43,-43.794 37,-37.794 37,-31.794 37,-31.794 37,-19.794 37,-19.794 37,-13.794 43,-7.794 49,-7.794 49,-7.794 97,-7.794 97,-7.794 103,-7.794 109,-13.794 109,-19.794 109,-19.794 109,-31.794 109,-31.794 109,-37.794 103,-43.794 97,-43.794\"/>\n",
        "<text text-anchor=\"middle\" x=\"73\" y=\"-22.094\" font-family=\"Times,serif\" font-size=\"14.00\">b\u27e82\u27e9(a+b)</text>\n",
        "</g>\n",
        "<!-- I1&#45;&gt;1 -->\n",
        "<g id=\"edge2\" class=\"edge\"><title>I1&#45;&gt;1</title>\n",
        "<path fill=\"none\" stroke=\"black\" d=\"M1.0515,-25.794C1.9931,-25.794 15.718,-25.794 30.849,-25.794\"/>\n",
        "<polygon fill=\"black\" stroke=\"black\" points=\"36.923,-25.794 30.923,-28.4941 33.923,-25.794 30.923,-25.7941 30.923,-25.7941 30.923,-25.7941 33.923,-25.794 30.923,-23.0941 36.923,-25.794 36.923,-25.794\"/>\n",
        "</g>\n",
        "<!-- F4 -->\n",
        "<g id=\"node3\" class=\"node\"><title>F4</title>\n",
        "<ellipse fill=\"black\" stroke=\"black\" cx=\"324\" cy=\"-60.794\" rx=\"0\" ry=\"0\"/>\n",
        "</g>\n",
        "<!-- 2 -->\n",
        "<g id=\"node6\" class=\"node\"><title>2</title>\n",
        "<path fill=\"#98f5ff\" stroke=\"black\" d=\"M195,-103.794C195,-103.794 183,-103.794 183,-103.794 177,-103.794 171,-97.794 171,-91.794 171,-91.794 171,-79.794 171,-79.794 171,-73.794 177,-67.794 183,-67.794 183,-67.794 195,-67.794 195,-67.794 201,-67.794 207,-73.794 207,-79.794 207,-79.794 207,-91.794 207,-91.794 207,-97.794 201,-103.794 195,-103.794\"/>\n",
        "<text text-anchor=\"middle\" x=\"189\" y=\"-82.094\" font-family=\"Times,serif\" font-size=\"14.00\">a</text>\n",
        "</g>\n",
        "<!-- 0&#45;&gt;2 -->\n",
        "<g id=\"edge3\" class=\"edge\"><title>0&#45;&gt;2</title>\n",
        "<path fill=\"none\" stroke=\"black\" d=\"M108.69,-94.357C122.51,-95.191 138.54,-95.425 153,-93.794 156.82,-93.363 160.83,-92.675 164.72,-91.879\"/>\n",
        "<polygon fill=\"black\" stroke=\"black\" points=\"170.69,-90.561 165.413,-94.4911 167.761,-91.2078 164.831,-91.8546 164.831,-91.8546 164.831,-91.8546 167.761,-91.2078 164.249,-89.218 170.69,-90.561 170.69,-90.561\"/>\n",
        "<text text-anchor=\"middle\" x=\"140\" y=\"-98.59\" font-family=\"Times,serif\" font-size=\"14.00\">\u27e82\u27e9a</text>\n",
        "</g>\n",
        "<!-- 3 -->\n",
        "<g id=\"node7\" class=\"node\"><title>3</title>\n",
        "<path fill=\"#98f5ff\" stroke=\"black\" d=\"M195,-49.794C195,-49.794 183,-49.794 183,-49.794 177,-49.794 171,-43.794 171,-37.794 171,-37.794 171,-25.794 171,-25.794 171,-19.794 177,-13.794 183,-13.794 183,-13.794 195,-13.794 195,-13.794 201,-13.794 207,-19.794 207,-25.794 207,-25.794 207,-37.794 207,-37.794 207,-43.794 201,-49.794 195,-49.794\"/>\n",
        "<text text-anchor=\"middle\" x=\"189\" y=\"-28.094\" font-family=\"Times,serif\" font-size=\"14.00\">b</text>\n",
        "</g>\n",
        "<!-- 0&#45;&gt;3 -->\n",
        "<g id=\"edge4\" class=\"edge\"><title>0&#45;&gt;3</title>\n",
        "<path fill=\"none\" stroke=\"black\" d=\"M108.89,-76.976C122.88,-71.014 138.98,-63.616 153,-55.794 157.25,-53.421 161.64,-50.673 165.81,-47.903\"/>\n",
        "<polygon fill=\"black\" stroke=\"black\" points=\"170.96,-44.408 167.511,-50.0114 168.478,-46.0926 165.995,-47.7773 165.995,-47.7773 165.995,-47.7773 168.478,-46.0926 164.479,-45.5432 170.96,-44.408 170.96,-44.408\"/>\n",
        "<text text-anchor=\"middle\" x=\"140\" y=\"-71.594\" font-family=\"Times,serif\" font-size=\"14.00\">\u27e82\u27e9a</text>\n",
        "</g>\n",
        "<!-- 1&#45;&gt;2 -->\n",
        "<g id=\"edge5\" class=\"edge\"><title>1&#45;&gt;2</title>\n",
        "<path fill=\"none\" stroke=\"black\" d=\"M109.06,-24.748C123.55,-25.764 139.97,-28.904 153,-36.794 155.88,-38.535 164.7,-50.896 172.76,-62.766\"/>\n",
        "<polygon fill=\"black\" stroke=\"black\" points=\"176.16,-67.791 170.561,-64.3347 174.479,-65.3063 172.798,-62.8216 172.798,-62.8216 172.798,-62.8216 174.479,-65.3063 175.034,-61.3085 176.16,-67.791 176.16,-67.791\"/>\n",
        "<text text-anchor=\"middle\" x=\"140\" y=\"-40.594\" font-family=\"Times,serif\" font-size=\"14.00\">\u27e82\u27e9b</text>\n",
        "</g>\n",
        "<!-- 1&#45;&gt;3 -->\n",
        "<g id=\"edge6\" class=\"edge\"><title>1&#45;&gt;3</title>\n",
        "<path fill=\"none\" stroke=\"black\" d=\"M105.05,-7.6399C119.73,-1.3705 137.41,2.8252 153,-2.7938 157.59,-4.4495 162.01,-6.999 166.07,-9.9135\"/>\n",
        "<polygon fill=\"black\" stroke=\"black\" points=\"171,-13.761 164.609,-12.198 168.635,-11.9153 166.27,-10.0695 166.27,-10.0695 166.27,-10.0695 168.635,-11.9153 167.931,-7.94099 171,-13.761 171,-13.761\"/>\n",
        "<text text-anchor=\"middle\" x=\"140\" y=\"-6.594\" font-family=\"Times,serif\" font-size=\"14.00\">\u27e82\u27e9b</text>\n",
        "</g>\n",
        "<!-- 4 -->\n",
        "<g id=\"node8\" class=\"node\"><title>4</title>\n",
        "<path fill=\"#98f5ff\" stroke=\"black\" d=\"M275,-78.794C275,-78.794 263,-78.794 263,-78.794 257,-78.794 251,-72.794 251,-66.794 251,-66.794 251,-54.794 251,-54.794 251,-48.794 257,-42.794 263,-42.794 263,-42.794 275,-42.794 275,-42.794 281,-42.794 287,-48.794 287,-54.794 287,-54.794 287,-66.794 287,-66.794 287,-72.794 281,-78.794 275,-78.794\"/>\n",
        "<text text-anchor=\"middle\" x=\"269\" y=\"-57.094\" font-family=\"Times,serif\" font-size=\"14.00\">\u03b5</text>\n",
        "</g>\n",
        "<!-- 2&#45;&gt;4 -->\n",
        "<g id=\"edge7\" class=\"edge\"><title>2&#45;&gt;4</title>\n",
        "<path fill=\"none\" stroke=\"black\" d=\"M207.31,-80.246C218.32,-76.718 232.71,-72.106 244.71,-68.259\"/>\n",
        "<polygon fill=\"black\" stroke=\"black\" points=\"250.74,-66.327 245.85,-70.729 247.883,-67.2424 245.026,-68.1578 245.026,-68.1578 245.026,-68.1578 247.883,-67.2424 244.202,-65.5865 250.74,-66.327 250.74,-66.327\"/>\n",
        "<text text-anchor=\"middle\" x=\"229\" y=\"-77.594\" font-family=\"Times,serif\" font-size=\"14.00\">a</text>\n",
        "</g>\n",
        "<!-- 3&#45;&gt;4 -->\n",
        "<g id=\"edge8\" class=\"edge\"><title>3&#45;&gt;4</title>\n",
        "<path fill=\"none\" stroke=\"black\" d=\"M207.31,-38.23C218.42,-42.36 232.97,-47.77 245.04,-52.257\"/>\n",
        "<polygon fill=\"black\" stroke=\"black\" points=\"250.74,-54.376 244.175,-54.816 247.928,-53.3306 245.116,-52.2852 245.116,-52.2852 245.116,-52.2852 247.928,-53.3306 246.057,-49.7544 250.74,-54.376 250.74,-54.376\"/>\n",
        "<text text-anchor=\"middle\" x=\"229\" y=\"-50.594\" font-family=\"Times,serif\" font-size=\"14.00\">b</text>\n",
        "</g>\n",
        "<!-- 4&#45;&gt;F4 -->\n",
        "<g id=\"edge9\" class=\"edge\"><title>4&#45;&gt;F4</title>\n",
        "<path fill=\"none\" stroke=\"black\" d=\"M287.009,-60.794C297.571,-60.794 310.261,-60.794 317.698,-60.794\"/>\n",
        "<polygon fill=\"black\" stroke=\"black\" points=\"323.939,-60.794 317.939,-63.4941 320.939,-60.794 317.939,-60.7941 317.939,-60.7941 317.939,-60.7941 320.939,-60.794 317.939,-58.0941 323.939,-60.794 323.939,-60.794\"/>\n",
        "</g>\n",
        "</g>\n",
        "</svg>\n"
       ],
       "text": [
        "ratexp_automaton<mutable_automaton<lal_char(abc), q>>"
       ]
      }
     ],
     "prompt_number": 10
    }
   ],
   "metadata": {}
  }
 ]
}