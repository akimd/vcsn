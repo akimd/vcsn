{
 "metadata": {
  "name": "",
  "signature": "sha256:9f4f3bca08c433e03f314285c3b82313316685fae348cf7d9138eb6992d948d6"
 },
 "nbformat": 3,
 "nbformat_minor": 0,
 "worksheets": [
  {
   "cells": [
    {
     "cell_type": "markdown",
     "metadata": {},
     "source": [
      "This directory contains the specification of the various algorithms."
     ]
    },
    {
     "cell_type": "heading",
     "level": 1,
     "metadata": {},
     "source": [
      "Algorithms on automata"
     ]
    },
    {
     "cell_type": "markdown",
     "metadata": {},
     "source": [
      "- [determinize](determinize.ipynb)"
     ]
    }
   ],
   "metadata": {}
  }
 ]
}