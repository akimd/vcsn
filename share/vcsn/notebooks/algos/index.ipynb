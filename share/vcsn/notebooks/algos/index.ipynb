{
 "metadata": {
  "name": "",
  "signature": "sha256:623cb44fe2b48df91702e9248b1a2e01ea71a0db024e0ba44ea44805e68d5352"
 },
 "nbformat": 3,
 "nbformat_minor": 0,
 "worksheets": [
  {
   "cells": [
    {
     "cell_type": "markdown",
     "metadata": {},
     "source": [
      "This directory contains the specification of the various algorithms."
     ]
    },
    {
     "cell_type": "heading",
     "level": 1,
     "metadata": {},
     "source": [
      "Algorithms on automata"
     ]
    },
    {
     "cell_type": "markdown",
     "metadata": {},
     "source": [
      "- [determinize](automaton.determinize.ipynb)\n",
      "- [is_deterministic](automaton.is_deterministic.ipynb)\n",
      "- [standard](automaton.standard.ipynb)\n",
      "- [synchronizing_word](automaton.synchronizing_word.ipynb)"
     ]
    }
   ],
   "metadata": {}
  }
 ]
}