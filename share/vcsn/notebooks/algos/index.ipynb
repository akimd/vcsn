{
 "metadata": {
  "name": "",
  "signature": "sha256:cb18d077d666e7bc69d390c4cc9e7a5d1cff315a3a23864fc52e29667521d9cb"
 },
 "nbformat": 3,
 "nbformat_minor": 0,
 "worksheets": [
  {
   "cells": [
    {
     "cell_type": "markdown",
     "metadata": {},
     "source": [
      "This directory contains the specification of the various algorithms."
     ]
    },
    {
     "cell_type": "heading",
     "level": 1,
     "metadata": {},
     "source": [
      "Algorithms on automata"
     ]
    },
    {
     "cell_type": "markdown",
     "metadata": {},
     "source": [
      "- [complete](automaton.complete.ipynb)\n",
      "- [determinize](automaton.determinize.ipynb)\n",
      "- [is_complete](automaton.is_complete.ipynb)\n",
      "- [is_deterministic](automaton.is_deterministic.ipynb)\n",
      "- [is_standard](automaton.is_standard.ipynb)\n",
      "- [standard](automaton.standard.ipynb) (aka \"Position automaton\", or \"Glushkov automaton\")\n",
      "- [synchronizing_word](automaton.synchronizing_word.ipynb)"
     ]
    },
    {
     "cell_type": "heading",
     "level": 2,
     "metadata": {},
     "source": [
      "Algorithms on expressions"
     ]
    },
    {
     "cell_type": "markdown",
     "metadata": {},
     "source": [
      "- [is_valid](ratexp.is_valid.ipynb)\n",
      "- [standard](ratexp.standard.ipynb)"
     ]
    }
   ],
   "metadata": {}
  }
 ]
}