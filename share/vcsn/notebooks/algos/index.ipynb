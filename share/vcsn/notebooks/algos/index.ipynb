{
 "metadata": {
  "name": "",
  "signature": "sha256:9ccd6e6ffa6579168b64e95271f27028448b19182dd99caff98935f8e0ea7f6d"
 },
 "nbformat": 3,
 "nbformat_minor": 0,
 "worksheets": [
  {
   "cells": [
    {
     "cell_type": "markdown",
     "metadata": {},
     "source": [
      "This directory contains the specification of the various algorithms."
     ]
    },
    {
     "cell_type": "heading",
     "level": 1,
     "metadata": {},
     "source": [
      "Algorithms on automata"
     ]
    },
    {
     "cell_type": "markdown",
     "metadata": {},
     "source": [
      "- [complete](automaton.complete.ipynb)\n",
      "- [determinize](automaton.determinize.ipynb)\n",
      "- [is_complete](automaton.is_complete.ipynb)\n",
      "- [is_deterministic](automaton.is_deterministic.ipynb)\n",
      "- [standard](automaton.standard.ipynb)\n",
      "- [synchronizing_word](automaton.synchronizing_word.ipynb)"
     ]
    }
   ],
   "metadata": {}
  }
 ]
}