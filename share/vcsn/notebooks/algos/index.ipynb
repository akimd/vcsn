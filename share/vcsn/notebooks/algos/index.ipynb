{
 "metadata": {
  "name": "",
  "signature": "sha256:ec655c7bc4143baa5e8a71b4ede910e0fc1b6e78af78b897fa120cad2cc91065"
 },
 "nbformat": 3,
 "nbformat_minor": 0,
 "worksheets": [
  {
   "cells": [
    {
     "cell_type": "heading",
     "level": 1,
     "metadata": {},
     "source": [
      "Operations on Automata"
     ]
    },
    {
     "cell_type": "markdown",
     "metadata": {},
     "source": [
      "- [accessible](automaton.accessible.ipynb)\n",
      "- [ambiguous_word](automaton.ambiguous_word.ipynb)\n",
      "- [coaccessible](automaton.coaccessible.ipynb)\n",
      "- [complete](automaton.complete.ipynb)\n",
      "- [determinize](automaton.determinize.ipynb)\n",
      "- [has_twins_property](automaton.has_twins_property.ipynb)\n",
      "- [is_ambiguous](automaton.is_ambiguous.ipynb)\n",
      "- [is_complete](automaton.is_complete.ipynb)\n",
      "- [is_cycle_ambiguous](automaton.is_cycle_ambiguous.ipynb)\n",
      "- [is_deterministic](automaton.is_deterministic.ipynb)\n",
      "- [is_functional](automaton.is_functional.ipynb)\n",
      "- [is_standard](automaton.is_standard.ipynb)\n",
      "- [proper](automaton.proper.ipynb)\n",
      "- [reduce](automaton.reduce.ipynb)\n",
      "- [standard](automaton.standard.ipynb) (aka \"Position automaton\", or \"Glushkov automaton\")\n",
      "- [synchronizing_word](automaton.synchronizing_word.ipynb)\n",
      "- [transpose](automaton.transpose.ipynb) (aka \"reverse\")\n",
      "- [trim](automaton.trim.ipynb)"
     ]
    },
    {
     "cell_type": "heading",
     "level": 2,
     "metadata": {},
     "source": [
      "Operations on Expressions"
     ]
    },
    {
     "cell_type": "markdown",
     "metadata": {},
     "source": [
      "- [is_valid](ratexp.is_valid.ipynb)\n",
      "- [standard](ratexp.standard.ipynb)\n",
      "- [transpose](ratexp.transpose.ipynb) (aka \"reverse\")\n",
      "- [transposition](ratexp.transposition.ipynb)"
     ]
    }
   ],
   "metadata": {}
  }
 ]
}
