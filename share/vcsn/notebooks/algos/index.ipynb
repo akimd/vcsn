{
 "metadata": {
  "name": "",
  "signature": "sha256:85d6ee5526666d763bf23450340a67c24fc78d4faa27865e974905034f7b7b60"
 },
 "nbformat": 3,
 "nbformat_minor": 0,
 "worksheets": [
  {
   "cells": [
    {
     "cell_type": "markdown",
     "metadata": {},
     "source": [
      "This directory contains the specification of the various algorithms."
     ]
    },
    {
     "cell_type": "heading",
     "level": 1,
     "metadata": {},
     "source": [
      "Algorithms on automata"
     ]
    },
    {
     "cell_type": "markdown",
     "metadata": {},
     "source": [
      "- [determinize](automaton.determinize.ipynb)\n",
      "- [standard](automaton.standard.ipynb)"
     ]
    }
   ],
   "metadata": {}
  }
 ]
}