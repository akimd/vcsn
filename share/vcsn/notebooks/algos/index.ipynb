{
 "metadata": {
  "name": "",
  "signature": "sha256:70b3074de17850e6818cea7eea873d4e6e7ca122a0d8f591de1f73c91a77e5f3"
 },
 "nbformat": 3,
 "nbformat_minor": 0,
 "worksheets": [
  {
   "cells": [
    {
     "cell_type": "heading",
     "level": 1,
     "metadata": {},
     "source": [
      "Operations on Automata"
     ]
    },
    {
     "cell_type": "markdown",
     "metadata": {},
     "source": [
      "- [accessible](automaton.accessible.ipynb)\n",
      "- [ambiguous_word](automaton.ambiguous_word.ipynb)\n",
      "- [coaccessible](automaton.coaccessible.ipynb)\n",
      "- [complete](automaton.complete.ipynb)\n",
      "- [determinize](automaton.determinize.ipynb)\n",
      "- [has_twins_property](automaton.has_twins_property.ipynb)\n",
      "- [is_ambiguous](automaton.is_ambiguous.ipynb)\n",
      "- [is_complete](automaton.is_complete.ipynb)\n",
      "- [is_cycle_ambiguous](automaton.is_cycle_ambiguous.ipynb)\n",
      "- [is_deterministic](automaton.is_deterministic.ipynb)\n",
      "- [is_functional](automaton.is_functional.ipynb)\n",
      "- [is_standard](automaton.is_standard.ipynb)\n",
      "- [reduce](automaton.reduce.ipynb)\n",
      "- [standard](automaton.standard.ipynb) (aka \"Position automaton\", or \"Glushkov automaton\")\n",
      "- [synchronizing_word](automaton.synchronizing_word.ipynb)\n",
      "- [transpose](automaton.transpose.ipynb) (aka \"reverse\")\n",
      "- [trim](automaton.trim.ipynb)"
     ]
    },
    {
     "cell_type": "heading",
     "level": 2,
     "metadata": {},
     "source": [
      "Operations on Expressions"
     ]
    },
    {
     "cell_type": "markdown",
     "metadata": {},
     "source": [
      "- [is_valid](ratexp.is_valid.ipynb)\n",
      "- [standard](ratexp.standard.ipynb)\n",
      "- [transpose](ratexp.transpose.ipynb) (aka \"reverse\")\n",
      "- [transposition](ratexp.transposition.ipynb)"
     ]
    }
   ],
   "metadata": {}
  }
 ]
}