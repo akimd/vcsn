{
 "metadata": {
  "name": "",
  "signature": "sha256:d87d0ae18d0d2b396becdb0f68a9b7e4c8a4b5b3ab0e3c34453cde4ecdc3203a"
 },
 "nbformat": 3,
 "nbformat_minor": 0,
 "worksheets": [
  {
   "cells": [
    {
     "cell_type": "markdown",
     "metadata": {},
     "source": [
      "This directory contains the specification of the various algorithms."
     ]
    },
    {
     "cell_type": "heading",
     "level": 1,
     "metadata": {},
     "source": [
      "Algorithms on automata"
     ]
    },
    {
     "cell_type": "markdown",
     "metadata": {},
     "source": [
      "- [complete](automaton.complete.ipynb)\n",
      "- [determinize](automaton.determinize.ipynb)\n",
      "- [is_deterministic](automaton.is_deterministic.ipynb)\n",
      "- [standard](automaton.standard.ipynb)\n",
      "- [synchronizing_word](automaton.synchronizing_word.ipynb)"
     ]
    }
   ],
   "metadata": {}
  }
 ]
}