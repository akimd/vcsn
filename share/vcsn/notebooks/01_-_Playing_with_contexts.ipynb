{
 "metadata": {
  "name": "",
  "signature": "sha256:dbfa4690d2e842e10769883f330103f5e65391e3ab326db547c7e0f80413886c"
 },
 "nbformat": 3,
 "nbformat_minor": 0,
 "worksheets": [
  {
   "cells": [
    {
     "cell_type": "heading",
     "level": 1,
     "metadata": {},
     "source": [
      "Playing with Contexts"
     ]
    },
    {
     "cell_type": "markdown",
     "metadata": {},
     "source": [
      "The Vaucanson platform relies on a central concepts: \"contexts\".  They denote typing information about automata, rational expressions, etc.  This information is alike a function type: an input type, and "
     ]
    },
    {
     "cell_type": "heading",
     "level": 2,
     "metadata": {},
     "source": [
      "Labelsets"
     ]
    },
    {
     "cell_type": "markdown",
     "metadata": {},
     "source": [
      "Different _LabelSets_ model multiple variations on _labels_,\n",
      "members of a monoid:\n",
      "\n",
      "* `letterset`\n",
      "\n",
      "  Fully defined by an alphabet $A$, its labels being just\n",
      "  letters.  It is simply denoted by $A$.  It corresponds to the usual\n",
      "  definition of an NFA.\n",
      "\n",
      "* `nullableset`\n",
      "\n",
      "  Denoted by $A^?$, also defined by an alphabet $A$, its\n",
      "  labels being either letters or the empty word.  This corresponds to what\n",
      "  is often called $\\varepsilon$-NFAs.\n",
      "  \n",
      "* `wordset`\n",
      "\n",
      "  Denoted by $A^*$, also defined by an alphabet $A$, its labels\n",
      "  being (possibly empty) words on this alphabet.\n",
      "\n",
      "* `oneset`\n",
      "\n",
      "  Denoted by $\\{1\\}$, containing a single label: 1, the empty word.\n",
      "\n",
      "* `tupleset`\n",
      "\n",
      "  Cartesian product of LabelSets, $L_1 \\times \\cdots \\times\n",
      "  L_n$. This type implements the concept of transducers with an arbitrary\n",
      "  number of \"tapes\".\n"
     ]
    }
   ],
   "metadata": {}
  }
 ]
}