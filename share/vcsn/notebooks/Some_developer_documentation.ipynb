{
 "metadata": {
  "name": "",
  "signature": "sha256:482014ffb86ceb4227259d58d9d148864bb2f4654d2a740819e4ec85880f5a30"
 },
 "nbformat": 3,
 "nbformat_minor": 0,
 "worksheets": [
  {
   "cells": [
    {
     "cell_type": "heading",
     "level": 2,
     "metadata": {},
     "source": [
      "Tools you should know"
     ]
    },
    {
     "cell_type": "markdown",
     "metadata": {},
     "source": [
      "* `c++filt` demangles C++ symbol names.\n",
      "* `valgrind` verifies memory issues.\n",
      "* `nm` lists the symbols in object files.  Use `nm -C` to demangle C++ names.\n",
      "* `ldd` lists the libraries an object file depends upon."
     ]
    },
    {
     "cell_type": "heading",
     "level": 2,
     "metadata": {},
     "source": [
      "Tests"
     ]
    },
    {
     "cell_type": "markdown",
     "metadata": {},
     "source": [
      "To run the test suite, 4 processes in parallel (e.g., if you have 4\n",
      "threads like with an i7), run\n",
      "\n",
      "    $ make -j4 check\n",
      "\n",
      "To run some of the tests (e.g., tafkit/determinize.chk), run\n",
      "\n",
      "    $ make -j4 check tests/tafkit/determinize.log\n",
      "\n",
      "You may also run only the unit/rat/demo/tafkit tests:\n",
      "\n",
      "    $ make -j4 check-tafkit"
     ]
    },
    {
     "cell_type": "heading",
     "level": 3,
     "metadata": {},
     "source": [
      "To create a new test case"
     ]
    },
    {
     "cell_type": "markdown",
     "metadata": {},
     "source": [
      "Creating a new test case is quite easy: select the proper file (usually the name of the `tests/python/*.py` is clear enough, but make sure with `git grep ALGO tests/python` if the ALGO is not actually tested in a less obvious place), then do as you see with the other tests."
     ]
    },
    {
     "cell_type": "heading",
     "level": 3,
     "metadata": {},
     "source": [
      "To create a new test file"
     ]
    },
    {
     "cell_type": "markdown",
     "metadata": {},
     "source": [
      "Avoid creating too many files.  For instance `prefix` and `suffix` do not deserve two different files, they can both live in `prefix.py` for instance."
     ]
    },
    {
     "cell_type": "markdown",
     "metadata": {},
     "source": [
      "1. create the file `tests/python/foo.py` by copying some existing file\n",
      "2. make sure it is executable\n",
      "\n",
      "    $ chmod +x tests/python/foo.py\n",
      "\n",
      "3. add this file to the repository\n",
      "\n",
      "    $ git add tests/python/foo.py\n",
      "\n",
      "4. add this file to the list of tests in `tests/python/local.mk`, respect the alphabetical order\n",
      "5. run just this test to make sure that everything is ok\n",
      "\n",
      "    $ ./_build/35s/tests/bin/vcsn tests/python/foo.py"
     ]
    },
    {
     "cell_type": "heading",
     "level": 3,
     "metadata": {},
     "source": [
      "To debug"
     ]
    },
    {
     "cell_type": "markdown",
     "metadata": {},
     "source": [
      "The script `_build/35s/tests/bin/vcsn` defines the environment needed to run a non-installed version of Vaucanson.  To debug a Python program, use this:\n",
      "\n",
      "    ./_build/35s/tests/bin/vcsn -e gdb --args python -c \"import vcsn;\n",
      "    vcsn.context('lal_char(ab)_b').ratexp('[^]*a').derived_term()\n",
      "\n",
      "for instance.  To run a TAF-Kit command under Valgrind:\n",
      "\n",
      "    ./_build/35s/tests/bin/vcsn -e valgrind ./_build/35s/bin/vcsn-tafkit cat -Ee a"
     ]
    }
   ],
   "metadata": {}
  }
 ]
}