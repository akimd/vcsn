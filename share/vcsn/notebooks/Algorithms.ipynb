{
 "metadata": {
  "name": "",
  "signature": "sha256:a6fdfb2fe6ee8ec67dde579fca47ddc7544547edd05703c00637224aa5524ef5"
 },
 "nbformat": 3,
 "nbformat_minor": 0,
 "worksheets": [
  {
   "cells": [
    {
     "cell_type": "heading",
     "level": 1,
     "metadata": {},
     "source": [
      "Operations on Automata"
     ]
    },
    {
     "cell_type": "markdown",
     "metadata": {},
     "source": [
      "- [accessible](automaton.accessible.ipynb) - the subautomaton of accesssible states\n",
      "- [ambiguous_word](automaton.ambiguous_word.ipynb)\n",
      "- [coaccessible](automaton.coaccessible.ipynb) - the subautomaton of coaccesssible states\n",
      "- [complement](automaton.complement.ipynb) - an automaton accepting the complement language\n",
      "- [complete](automaton.complete.ipynb) - a complete superautomaton\n",
      "- [costandard](automaton.costandard.ipynb)\n",
      "- [determinize](automaton.determinize.ipynb) - the subset construction\n",
      "- [filter](automaton.filter.ipynb) - focus on a subset of the states\n",
      "- [has_twins_property](automaton.has_twins_property.ipynb)\n",
      "- [is_ambiguous](automaton.is_ambiguous.ipynb)\n",
      "- [is_complete](automaton.is_complete.ipynb) - whether the automaton is complete\n",
      "- [is_cycle_ambiguous](automaton.is_cycle_ambiguous.ipynb)\n",
      "- [is_deterministic](automaton.is_deterministic.ipynb) - whether the automaton is deterministic\n",
      "- [is_equivalent](automaton.is_equivalent.ipynb) - whether two automata have the same behavior\n",
      "- [is_isomorphic](automaton.is_isomorphic.ipynb) - whether two automata are isomorphic (\"equal\")\n",
      "- [is_functional](automaton.is_functional.ipynb)\n",
      "- [is_standard](automaton.is_standard.ipynb) - whether the automaton is standard\n",
      "- [pair](automaton.pair.ipynb)\n",
      "- [proper](automaton.proper.ipynb) - remove the spontaneous transitions\n",
      "- [reduce](automaton.reduce.ipynb)\n",
      "- [scc](automaton.scc.ipynb) - The automaton contains SCC's information\n",
      "- [standard](automaton.standard.ipynb) - turn into a standard automaton\n",
      "- [synchronizing_word](automaton.synchronizing_word.ipynb)\n",
      "- [transpose](automaton.transpose.ipynb) (aka \"reverse\")\n",
      "- [trim](automaton.trim.ipynb) - the subautomaton with no useless states"
     ]
    },
    {
     "cell_type": "heading",
     "level": 1,
     "metadata": {},
     "source": [
      "Operations on Contexts"
     ]
    },
    {
     "cell_type": "markdown",
     "metadata": {},
     "source": [
      "- [cerny](context.cerny.ipynb)"
     ]
    },
    {
     "cell_type": "heading",
     "level": 1,
     "metadata": {},
     "source": [
      "Operations on Expressions"
     ]
    },
    {
     "cell_type": "markdown",
     "metadata": {},
     "source": [
      "- [derivation](expression.derivation.ipynb)\n",
      "- [derived_term](expression.derived_term.ipynb) (aka \"Antimirov automaton\")\n",
      "- [expansion](expression.expansion.ipynb)\n",
      "- [is_equivalent](expression.is_equivalent.ipynb)\n",
      "- [is_valid](expression.is_valid.ipynb)\n",
      "- [standard](expression.standard.ipynb) (aka \"Position automaton\", or \"Glushkov automaton\")\n",
      "- [thompson](expression.thompson.ipynb)\n",
      "- [transpose](expression.transpose.ipynb) (aka \"reverse\")\n",
      "- [transposition](expression.transposition.ipynb)"
     ]
    }
   ],
   "metadata": {}
  }
 ]
}