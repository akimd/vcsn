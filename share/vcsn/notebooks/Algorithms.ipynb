{
 "metadata": {
  "name": "",
  "signature": "sha256:1628c543f87e26422529ecc3c9d93c1014651137b28887deb04cc1692d2f344f"
 },
 "nbformat": 3,
 "nbformat_minor": 0,
 "worksheets": [
  {
   "cells": [
    {
     "cell_type": "heading",
     "level": 1,
     "metadata": {},
     "source": [
      "Operations on Automata"
     ]
    },
    {
     "cell_type": "markdown",
     "metadata": {},
     "source": [
      "- [accessible](automaton.accessible.ipynb)\n",
      "- [ambiguous_word](automaton.ambiguous_word.ipynb)\n",
      "- [coaccessible](automaton.coaccessible.ipynb)\n",
      "- [complement](automaton.complement.ipynb)\n",
      "- [complete](automaton.complete.ipynb)\n",
      "- [costandard](automaton.costandard.ipynb)\n",
      "- [determinize](automaton.determinize.ipynb)\n",
      "- [filter](automaton.filter.ipynb)\n",
      "- [has_twins_property](automaton.has_twins_property.ipynb)\n",
      "- [is_ambiguous](automaton.is_ambiguous.ipynb)\n",
      "- [is_complete](automaton.is_complete.ipynb)\n",
      "- [is_cycle_ambiguous](automaton.is_cycle_ambiguous.ipynb)\n",
      "- [is_deterministic](automaton.is_deterministic.ipynb)\n",
      "- [is_equivalent](automaton.is_equivalent.ipynb)\n",
      "- [is_isomorphic](automaton.is_isomorphic.ipynb)\n",
      "- [is_functional](automaton.is_functional.ipynb)\n",
      "- [is_standard](automaton.is_standard.ipynb)\n",
      "- [pair](automaton.pair.ipynb)\n",
      "- [proper](automaton.proper.ipynb) (aka \"remove \u03b5-transitions\")\n",
      "- [reduce](automaton.reduce.ipynb)\n",
      "- [standard](automaton.standard.ipynb) (aka, \"standardize\")\n",
      "- [synchronizing_word](automaton.synchronizing_word.ipynb)\n",
      "- [transpose](automaton.transpose.ipynb) (aka \"reverse\")\n",
      "- [trim](automaton.trim.ipynb)"
     ]
    },
    {
     "cell_type": "heading",
     "level": 1,
     "metadata": {},
     "source": [
      "Operations on Contexts"
     ]
    },
    {
     "cell_type": "markdown",
     "metadata": {},
     "source": [
      "- [cerny](context.cerny.ipynb)"
     ]
    },
    {
     "cell_type": "heading",
     "level": 1,
     "metadata": {},
     "source": [
      "Operations on Expressions"
     ]
    },
    {
     "cell_type": "markdown",
     "metadata": {},
     "source": [
      "- [derivation](ratexp.derivation.ipynb)\n",
      "- [derived_term](ratexp.derived_term.ipynb) (aka \"Antimirov automaton\")\n",
      "- [expansion](ratexp.expansion.ipynb)\n",
      "- [is_equivalent](ratexp.is_equivalent.ipynb)\n",
      "- [is_valid](ratexp.is_valid.ipynb)\n",
      "- [standard](ratexp.standard.ipynb) (aka \"Position automaton\", or \"Glushkov automaton\")\n",
      "- [thompson](ratexp.thompson.ipynb)\n",
      "- [transpose](ratexp.transpose.ipynb) (aka \"reverse\")\n",
      "- [transposition](ratexp.transposition.ipynb)"
     ]
    }
   ],
   "metadata": {}
  }
 ]
}