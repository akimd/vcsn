{
 "metadata": {
  "name": "",
  "signature": "sha256:cde530918d1d870c7de8971893b822f393e56bada91985877611f62e84ff5a7a"
 },
 "nbformat": 3,
 "nbformat_minor": 0,
 "worksheets": [
  {
   "cells": [
    {
     "cell_type": "heading",
     "level": 1,
     "metadata": {},
     "source": [
      "Operations on Automata"
     ]
    },
    {
     "cell_type": "markdown",
     "metadata": {},
     "source": [
      "- [accessible](automaton.accessible.ipynb) - the subautomaton of accesssible states\n",
      "- [ambiguous_word](automaton.ambiguous_word.ipynb) - a witness of ambiguity\n",
      "- [coaccessible](automaton.coaccessible.ipynb) - the subautomaton of coaccesssible states\n",
      "- [codeterminize](automaton.codeterminize.ipynb) - the transposed of the subset construction\n",
      "- [complement](automaton.complement.ipynb) - an automaton accepting the complement language\n",
      "- [complete](automaton.complete.ipynb) - a complete superautomaton\n",
      "- [costandard](automaton.costandard.ipynb) - whether the transposed automaton is standard\n",
      "- [determinize](automaton.determinize.ipynb) - the subset construction\n",
      "- [filter](automaton.filter.ipynb) - focus on a subset of the states\n",
      "- [has_twins_property](automaton.has_twins_property.ipynb)\n",
      "- [is_ambiguous](automaton.is_ambiguous.ipynb) - whether some word may be accepted by different paths\n",
      "- [is_codeterministic](automaton.is_codeterministic.ipynb) - whether the automaton is codeterministic\n",
      "- [is_complete](automaton.is_complete.ipynb) - whether the automaton is complete\n",
      "- [is_cycle_ambiguous](automaton.is_cycle_ambiguous.ipynb)\n",
      "- [is_deterministic](automaton.is_deterministic.ipynb) - whether the automaton is deterministic\n",
      "- [is_equivalent](automaton.is_equivalent.ipynb) - whether two automata have the same behavior\n",
      "- [is_functional](automaton.is_functional.ipynb) - whether a transducer implements a function\n",
      "- [is_isomorphic](automaton.is_isomorphic.ipynb) - whether two automata are isomorphic (\"equal\")\n",
      "- [is_standard](automaton.is_standard.ipynb) - whether the automaton is standard\n",
      "- [minimize](automaton.minimize.ipynb) - minimizing an automaton\n",
      "- [pair](automaton.pair.ipynb) - the pair automaton, useful for computing synchronizing words\n",
      "- [proper](automaton.proper.ipynb) - remove the spontaneous transitions\n",
      "- [reduce](automaton.reduce.ipynb)\n",
      "- [scc](automaton.scc.ipynb) - decomposition into strongly-connected components\n",
      "- [standard](automaton.standard.ipynb) - turn into a standard automaton\n",
      "- [synchronizing_word](automaton.synchronizing_word.ipynb)\n",
      "- [transpose](automaton.transpose.ipynb) (aka \"reverse\")\n",
      "- [trim](automaton.trim.ipynb) - the subautomaton with no useless states"
     ]
    },
    {
     "cell_type": "heading",
     "level": 1,
     "metadata": {},
     "source": [
      "Operations on Contexts"
     ]
    },
    {
     "cell_type": "markdown",
     "metadata": {},
     "source": [
      "- [cerny](context.cerny.ipynb) - create \u010cern\u00fd automata"
     ]
    },
    {
     "cell_type": "heading",
     "level": 1,
     "metadata": {},
     "source": [
      "Operations on Expressions"
     ]
    },
    {
     "cell_type": "markdown",
     "metadata": {},
     "source": [
      "- [derivation](expression.derivation.ipynb) - differentiation with respect to labels\n",
      "- [derived_term](expression.derived_term.ipynb) (aka \"Antimirov automaton\")\n",
      "- [expansion](expression.expansion.ipynb) - a generalization of the differentiation process\n",
      "- [is_equivalent](expression.is_equivalent.ipynb) - whether two expressions denote the same series\n",
      "- [is_valid](expression.is_valid.ipynb) - whether an expression is valid (denotes a series)\n",
      "- [standard](expression.standard.ipynb) - the \"Position automaton\", or \"Glushkov automaton\"\n",
      "- [thompson](expression.thompson.ipynb) - the Thompson automaton of an expression\n",
      "- [transpose](expression.transpose.ipynb) - reverse all the concatenations\n",
      "- [transposition](expression.transposition.ipynb) - add a \"transposition\" operator to this expression"
     ]
    }
   ],
   "metadata": {}
  }
 ]
}