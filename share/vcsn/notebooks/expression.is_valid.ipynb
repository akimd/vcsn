{
 "metadata": {
  "name": "",
  "signature": "sha256:5435072bf813ce7f843ae58ea043739965d4f7a89e928b57795b1b3b955d91ae"
 },
 "nbformat": 3,
 "nbformat_minor": 0,
 "worksheets": [
  {
   "cells": [
    {
     "cell_type": "heading",
     "level": 1,
     "metadata": {},
     "source": [
      "_expression_.is_valid"
     ]
    },
    {
     "cell_type": "markdown",
     "metadata": {},
     "source": [
      "Whether all the starred sub-expressions have a constant-term that admit a star value.\n",
      "\n",
      "Postconditions:\n",
      "- expression.constant_term does not throw an exception.\n",
      "\n",
      "See also:\n",
      "- [_automaton_.is_valid](automaton.is_valid.ipynb)\n",
      "- [_automaton_.proper](automaton.proper.ipynb)\n",
      "- [_expression_.constant_term](expression.constant_term.ipynb)"
     ]
    },
    {
     "cell_type": "heading",
     "level": 2,
     "metadata": {},
     "source": [
      "Examples"
     ]
    },
    {
     "cell_type": "code",
     "collapsed": false,
     "input": [
      "import vcsn"
     ],
     "language": "python",
     "metadata": {},
     "outputs": []
    },
    {
     "cell_type": "markdown",
     "metadata": {},
     "source": [
      "In $\\mathbb{B}$ all the values have a star-power, so expressions are always valid."
     ]
    },
    {
     "cell_type": "code",
     "collapsed": false,
     "input": [
      "b = vcsn.context('lal_char(ab), b')\n",
      "assert(b.expression('\\e*').is_valid())"
     ],
     "language": "python",
     "metadata": {},
     "outputs": []
    },
    {
     "cell_type": "markdown",
     "metadata": {},
     "source": [
      "In $\\mathbb{Z}$, $0$ is the only weight that admit a star."
     ]
    },
    {
     "cell_type": "code",
     "collapsed": false,
     "input": [
      "z = vcsn.context('lal_char(ab), z')\n",
      "assert(z.expression('(<0>\\e)*').is_valid())\n",
      "assert(not z.expression('(<1>\\e)*').is_valid())\n",
      "assert(not z.expression('(<42>\\e)*').is_valid())"
     ],
     "language": "python",
     "metadata": {},
     "outputs": []
    },
    {
     "cell_type": "markdown",
     "metadata": {},
     "source": [
      "In $\\mathbb{Q}$ (and $\\mathbb{R}$), only weights $w$ such that $|w| < 1$ admit a star."
     ]
    },
    {
     "cell_type": "code",
     "collapsed": false,
     "input": [
      "q = vcsn.context('lal_char(ab), q')\n",
      "assert(q.expression('(<0>\\e)*').is_valid())\n",
      "assert(q.expression('(<99/100>\\e)*').is_valid())\n",
      "assert(q.expression('(<-99/100>\\e)*').is_valid())\n",
      "\n",
      "assert(not q.expression('(<101/100>\\e)*').is_valid())\n",
      "assert(not q.expression('(<-101/100>\\e)*').is_valid())"
     ],
     "language": "python",
     "metadata": {},
     "outputs": []
    }
   ],
   "metadata": {}
  }
 ]
}