{
 "metadata": {
  "name": "",
  "signature": "sha256:7ea479f99c098e8e2303fbf48808827a9fd6e90e74b2a0b33efddd62fea26f01"
 },
 "nbformat": 3,
 "nbformat_minor": 0,
 "worksheets": [
  {
   "cells": [
    {
     "cell_type": "heading",
     "level": 1,
     "metadata": {},
     "source": [
      "Playing with magic command"
     ]
    },
    {
     "cell_type": "markdown",
     "metadata": {},
     "source": [
      "The IPython Notebook acceptes magic command in the kernel. We will see through the guide how use this commands."
     ]
    },
    {
     "cell_type": "heading",
     "level": 2,
     "metadata": {},
     "source": [
      "Syntax"
     ]
    },
    {
     "cell_type": "markdown",
     "metadata": {},
     "source": [
      "A magic_line begin by \"%\", then we have the fonction name, here \"automaton\", and then the arguments:\n",
      "- First argument: the name of the automaton\n",
      "- Second argument ( Optional ): the format you want the textual description of the automaton. Daut by default\n",
      "- Third argument ( Optional ): the display mode (h for horizontal and v for vertical). H by default"
     ]
    },
    {
     "cell_type": "heading",
     "level": 2,
     "metadata": {},
     "source": [
      "Example"
     ]
    },
    {
     "cell_type": "code",
     "collapsed": false,
     "input": [
      "import vcsn #dont forget to import vcsn before\n",
      "%automaton a dot h"
     ],
     "language": "python",
     "metadata": {},
     "outputs": [],
     "prompt_number": 7
    },
    {
     "cell_type": "markdown",
     "metadata": {},
     "source": [
      "Now you can edit the text box and the automaton is display automatically"
     ]
    }
   ],
   "metadata": {}
  }
 ]
}