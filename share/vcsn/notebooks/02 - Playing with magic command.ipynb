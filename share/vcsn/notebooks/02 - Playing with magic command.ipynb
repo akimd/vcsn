{
 "metadata": {
  "name": "",
  "signature": "sha256:4d4013469d19867e20e578fc11686346944eaa813f6607fc74b4c617f7fbc9e5"
 },
 "nbformat": 3,
 "nbformat_minor": 0,
 "worksheets": [
  {
   "cells": [
    {
     "cell_type": "heading",
     "level": 1,
     "metadata": {},
     "source": [
      "Playing with magic command"
     ]
    },
    {
     "cell_type": "markdown",
     "metadata": {},
     "source": [
      "The IPython Notebook acceptes magic command in the kernel. We will see through the guide how use this commands."
     ]
    },
    {
     "cell_type": "heading",
     "level": 2,
     "metadata": {},
     "source": [
      "Syntaxe"
     ]
    },
    {
     "cell_type": "markdown",
     "metadata": {},
     "source": [
      "A magic_line begin by \"%\", then we have the fonction name, here \"automaton\", and then the arguments:\n",
      "- First argument: the name of the automaton\n",
      "- Second argument: the format you want the textual description of the automaton\n",
      "- Third argument: the display mode (h for horizontal and v for vertical)"
     ]
    },
    {
     "cell_type": "heading",
     "level": 2,
     "metadata": {},
     "source": [
      "Example"
     ]
    },
    {
     "cell_type": "code",
     "collapsed": false,
     "input": [
      "import vcsn #dont forget to import vcsn before\n",
      "%automaton a dot h"
     ],
     "language": "python",
     "metadata": {},
     "outputs": [],
     "prompt_number": 7
    },
    {
     "cell_type": "markdown",
     "metadata": {},
     "source": [
      "Now you can edit the text box and the automaton is display automatically"
     ]
    }
   ],
   "metadata": {}
  }
 ]
}