{
 "metadata": {
  "name": "",
  "signature": "sha256:ed441ba957a840464ef7b1793c2d6bbebaa814ba661bf5facbb31dcb2dde7a1d"
 },
 "nbformat": 3,
 "nbformat_minor": 0,
 "worksheets": [
  {
   "cells": [
    {
     "cell_type": "heading",
     "level": 1,
     "metadata": {},
     "source": [
      "Welcome to Vaucanson"
     ]
    },
    {
     "cell_type": "markdown",
     "metadata": {},
     "source": [
      "Welcome to this Vaucanson tutorial.  Vaucanson is a platform (C++ libraries with various interfaces, a Python binding, and some specific features for IPython) for weighted automata and rational expressions.\n",
      "\n",
      "This tutorial tries to guide you throw the Python binding, and more specifically the IPython interface, of Vaucanson.  If you are not a Python programmer, rest assured that you don't need to know much, and if you are a Python programmer, rest assured that its conventions have been respected, and you will be able to take the full benefit from both Vaucanson and Python.\n",
      "\n",
      "* [00_-_Welcome_to_Vaucanson](00 - Welcome to Vaucanson.ipynb)\n",
      "* [01_-_Playing_with_contexts](01 - Playing with contexts.ipynb)\n",
      "* [02_-_Basic_operations_on_automata](02 - Basic operations on automata.ipynb)"
     ]
    },
    {
     "cell_type": "heading",
     "level": 2,
     "metadata": {},
     "source": [
      "Quick Start"
     ]
    },
    {
     "cell_type": "markdown",
     "metadata": {},
     "source": [
      "First, import Vaucanson into Python, and define the \"context\" in which you want to work.  Do not worry about the (ugly!) syntax, just see where the alphabet (the set of letters, $\\{a, b, c\\}$) is defined.  The last line (`ctx`) is here so that IPython displays what this variable contains."
     ]
    },
    {
     "cell_type": "code",
     "collapsed": false,
     "input": [
      "import vcsn\n",
      "ctx = vcsn.context(\"lal_char(abc)_b\")\n",
      "ctx"
     ],
     "language": "python",
     "metadata": {},
     "outputs": [
      {
       "latex": [
        "$\\{a, b, c\\}\\rightarrow\\mathbb{B}$"
       ],
       "metadata": {},
       "output_type": "pyout",
       "prompt_number": 1,
       "text": [
        "lal_char(abc)_b"
       ]
      }
     ],
     "prompt_number": 1
    },
    {
     "cell_type": "markdown",
     "metadata": {},
     "source": [
      "This object, the context, defines the types of the various entities.  To build a rational expression on this alphabet, use `ctx.ratexp` as follows:"
     ]
    },
    {
     "cell_type": "code",
     "collapsed": false,
     "input": [
      "r1 = ctx.ratexp(\"ab*\")\n",
      "r1"
     ],
     "language": "python",
     "metadata": {},
     "outputs": [
      {
       "latex": [
        "$a \\, {b}^{*}$"
       ],
       "metadata": {},
       "output_type": "pyout",
       "prompt_number": 2,
       "text": [
        "ab*"
       ]
      }
     ],
     "prompt_number": 2
    },
    {
     "cell_type": "markdown",
     "metadata": {},
     "source": [
      "The syntax for rational expressions is as follows (with increasing precedence):\n",
      "- `\\z` denotes the empty language\n",
      "- `\\e` denotes the language of the empty word\n",
      "- `a` denotes the language of the word `a`\n",
      "- `e+f` denotes the union of the languages of `e` and `f` (note the use of `+`, `|` is not accepted)\n",
      "- `ef` denotes the concatenation of the languages of `e` and `f`\n",
      "- `e*` denotes the Kleene closure of the language of `e`"
     ]
    },
    {
     "cell_type": "markdown",
     "metadata": {},
     "source": [
      "So for instance `r1` denotes the words starting with a single `a` followed by any number of `b`s."
     ]
    },
    {
     "cell_type": "markdown",
     "metadata": {},
     "source": [
      "Rational expressions are objects that feature methods.  One such method is `shortest(number)` that lists the `number` first (in shortlex order) words of the language defined by the rational expresion:"
     ]
    },
    {
     "cell_type": "code",
     "collapsed": false,
     "input": [
      "r1.shortest(10)"
     ],
     "language": "python",
     "metadata": {},
     "outputs": [
      {
       "latex": [
        "$a \\oplus ab \\oplus abb \\oplus abbb \\oplus abbbb \\oplus abbbbb \\oplus abbbbbb \\oplus abbbbbbb \\oplus abbbbbbbb \\oplus abbbbbbbbb$"
       ],
       "metadata": {},
       "output_type": "pyout",
       "prompt_number": 3,
       "text": [
        "a + ab + abb + abbb + abbbb + abbbbb + abbbbbb + abbbbbbb + abbbbbbbb + abbbbbbbbb"
       ]
      }
     ],
     "prompt_number": 3
    },
    {
     "cell_type": "markdown",
     "metadata": {},
     "source": [
      "You may compose rational expressions using Python operators such as `+` for sum, `*` for multiplication (concatenation):"
     ]
    },
    {
     "cell_type": "code",
     "collapsed": false,
     "input": [
      "r1 + r1 * r1"
     ],
     "language": "python",
     "metadata": {},
     "outputs": [
      {
       "latex": [
        "$a \\, {b}^{*} + a \\, {b}^{*} \\, a \\, {b}^{*}$"
       ],
       "metadata": {},
       "output_type": "pyout",
       "prompt_number": 4,
       "text": [
        "ab*+ab*ab*"
       ]
      }
     ],
     "prompt_number": 4
    },
    {
     "cell_type": "markdown",
     "metadata": {},
     "source": [
      "Vaucanson features different means to build an automaton from a rational expression.  The `ratexp.standard()` method builds the \"standard autamaton\", also known as the \"position automaton\", or the \"Glushkov automaton\":"
     ]
    },
    {
     "cell_type": "code",
     "collapsed": false,
     "input": [
      "r1.standard()"
     ],
     "language": "python",
     "metadata": {},
     "outputs": [
      {
       "metadata": {},
       "output_type": "pyout",
       "prompt_number": 5,
       "svg": [
        "<?xml version=\"1.0\" encoding=\"UTF-8\" standalone=\"no\"?>\n",
        "<!DOCTYPE svg PUBLIC \"-//W3C//DTD SVG 1.1//EN\"\n",
        " \"http://www.w3.org/Graphics/SVG/1.1/DTD/svg11.dtd\">\n",
        "<!-- Generated by graphviz version 2.38.0 (20140413.2041)\n",
        " -->\n",
        "<!-- Title: %3 Pages: 1 -->\n",
        "<svg width=\"277pt\" height=\"95pt\"\n",
        " viewBox=\"0.00 0.00 277.00 95.00\" xmlns=\"http://www.w3.org/2000/svg\" xmlns:xlink=\"http://www.w3.org/1999/xlink\">\n",
        "<g id=\"graph0\" class=\"graph\" transform=\"scale(1 1) rotate(0) translate(4 91)\">\n",
        "<title>%3</title>\n",
        "<polygon fill=\"white\" stroke=\"none\" points=\"-4,4 -4,-91 273,-91 273,4 -4,4\"/>\n",
        "<!-- I0 -->\n",
        "<g id=\"node1\" class=\"node\"><title>I0</title>\n",
        "<ellipse fill=\"black\" stroke=\"black\" cx=\"0\" cy=\"-62\" rx=\"0\" ry=\"0\"/>\n",
        "</g>\n",
        "<!-- 0 -->\n",
        "<g id=\"node4\" class=\"node\"><title>0</title>\n",
        "<ellipse fill=\"none\" stroke=\"black\" cx=\"55\" cy=\"-62\" rx=\"18\" ry=\"18\"/>\n",
        "<text text-anchor=\"middle\" x=\"55\" y=\"-58.3\" font-family=\"Times,serif\" font-size=\"14.00\">0</text>\n",
        "</g>\n",
        "<!-- I0&#45;&gt;0 -->\n",
        "<g id=\"edge1\" class=\"edge\"><title>I0&#45;&gt;0</title>\n",
        "<path fill=\"none\" stroke=\"black\" d=\"M1.15204,-62C2.63201,-62 14.6806,-62 26.8996,-62\"/>\n",
        "<polygon fill=\"black\" stroke=\"black\" points=\"26.9753,-65.5001 36.9753,-62 26.9752,-58.5001 26.9753,-65.5001\"/>\n",
        "</g>\n",
        "<!-- F1 -->\n",
        "<g id=\"node2\" class=\"node\"><title>F1</title>\n",
        "<ellipse fill=\"black\" stroke=\"black\" cx=\"214\" cy=\"-87\" rx=\"0\" ry=\"0\"/>\n",
        "</g>\n",
        "<!-- F3 -->\n",
        "<g id=\"node3\" class=\"node\"><title>F3</title>\n",
        "<ellipse fill=\"black\" stroke=\"black\" cx=\"269\" cy=\"-18\" rx=\"0\" ry=\"0\"/>\n",
        "</g>\n",
        "<!-- 1 -->\n",
        "<g id=\"node5\" class=\"node\"><title>1</title>\n",
        "<ellipse fill=\"none\" stroke=\"black\" cx=\"134\" cy=\"-62\" rx=\"18\" ry=\"18\"/>\n",
        "<text text-anchor=\"middle\" x=\"134\" y=\"-58.3\" font-family=\"Times,serif\" font-size=\"14.00\">1</text>\n",
        "</g>\n",
        "<!-- 0&#45;&gt;1 -->\n",
        "<g id=\"edge2\" class=\"edge\"><title>0&#45;&gt;1</title>\n",
        "<path fill=\"none\" stroke=\"black\" d=\"M73.0888,-62C82.659,-62 94.8172,-62 105.677,-62\"/>\n",
        "<polygon fill=\"black\" stroke=\"black\" points=\"105.959,-65.5001 115.959,-62 105.959,-58.5001 105.959,-65.5001\"/>\n",
        "<text text-anchor=\"middle\" x=\"94.5\" y=\"-65.8\" font-family=\"Times,serif\" font-size=\"14.00\">a</text>\n",
        "</g>\n",
        "<!-- 1&#45;&gt;F1 -->\n",
        "<g id=\"edge3\" class=\"edge\"><title>1&#45;&gt;F1</title>\n",
        "<path fill=\"none\" stroke=\"black\" d=\"M151.542,-67.3019C167.138,-72.3005 190.002,-79.6288 202.997,-83.7938\"/>\n",
        "<polygon fill=\"black\" stroke=\"black\" points=\"202.298,-87.2451 212.889,-86.9643 204.434,-80.5791 202.298,-87.2451\"/>\n",
        "</g>\n",
        "<!-- 3 -->\n",
        "<g id=\"node6\" class=\"node\"><title>3</title>\n",
        "<ellipse fill=\"none\" stroke=\"black\" cx=\"214\" cy=\"-18\" rx=\"18\" ry=\"18\"/>\n",
        "<text text-anchor=\"middle\" x=\"214\" y=\"-14.3\" font-family=\"Times,serif\" font-size=\"14.00\">3</text>\n",
        "</g>\n",
        "<!-- 1&#45;&gt;3 -->\n",
        "<g id=\"edge4\" class=\"edge\"><title>1&#45;&gt;3</title>\n",
        "<path fill=\"none\" stroke=\"black\" d=\"M150.039,-53.5164C161.154,-47.2467 176.507,-38.5859 189.269,-31.3865\"/>\n",
        "<polygon fill=\"black\" stroke=\"black\" points=\"191.017,-34.4193 198.007,-26.4576 187.578,-28.3224 191.017,-34.4193\"/>\n",
        "<text text-anchor=\"middle\" x=\"174\" y=\"-44.8\" font-family=\"Times,serif\" font-size=\"14.00\">b</text>\n",
        "</g>\n",
        "<!-- 3&#45;&gt;F3 -->\n",
        "<g id=\"edge5\" class=\"edge\"><title>3&#45;&gt;F3</title>\n",
        "<path fill=\"none\" stroke=\"black\" d=\"M232.061,-18C240.504,-18 250.417,-18 257.691,-18\"/>\n",
        "<polygon fill=\"black\" stroke=\"black\" points=\"257.941,-21.5001 267.941,-18 257.941,-14.5001 257.941,-21.5001\"/>\n",
        "</g>\n",
        "<!-- 3&#45;&gt;3 -->\n",
        "<g id=\"edge6\" class=\"edge\"><title>3&#45;&gt;3</title>\n",
        "<path fill=\"none\" stroke=\"black\" d=\"M207.621,-35.0373C206.319,-44.8579 208.445,-54 214,-54 217.472,-54 219.604,-50.4289 220.398,-45.3529\"/>\n",
        "<polygon fill=\"black\" stroke=\"black\" points=\"223.897,-45.031 220.379,-35.0373 216.897,-45.0435 223.897,-45.031\"/>\n",
        "<text text-anchor=\"middle\" x=\"214\" y=\"-57.8\" font-family=\"Times,serif\" font-size=\"14.00\">b</text>\n",
        "</g>\n",
        "</g>\n",
        "</svg>\n"
       ],
       "text": [
        "mutable_automaton<lal_char(abc)_b>"
       ]
      }
     ],
     "prompt_number": 5
    },
    {
     "cell_type": "markdown",
     "metadata": {},
     "source": [
      "When it comes to displaying automata as graphs, there are several \"traditions\".  In Vaucanson, initial states are denoted by an entering arrow, and final (or \"accepting\") states are denoted by an exiting arrow.  This automaton has one initial state, and two final states.\n",
      "\n",
      "The `ratexp.derived_term()` method builds the \"derived-term automaton\", aka, the Antimirov automaton."
     ]
    },
    {
     "cell_type": "code",
     "collapsed": false,
     "input": [
      "a1 = r1.derived_term()\n",
      "a1"
     ],
     "language": "python",
     "metadata": {},
     "outputs": [
      {
       "metadata": {},
       "output_type": "pyout",
       "prompt_number": 6,
       "svg": [
        "<?xml version=\"1.0\" encoding=\"UTF-8\" standalone=\"no\"?>\n",
        "<!DOCTYPE svg PUBLIC \"-//W3C//DTD SVG 1.1//EN\"\n",
        " \"http://www.w3.org/Graphics/SVG/1.1/DTD/svg11.dtd\">\n",
        "<!-- Generated by graphviz version 2.38.0 (20140413.2041)\n",
        " -->\n",
        "<!-- Title: %3 Pages: 1 -->\n",
        "<svg width=\"197pt\" height=\"77pt\"\n",
        " viewBox=\"0.00 0.00 197.00 77.00\" xmlns=\"http://www.w3.org/2000/svg\" xmlns:xlink=\"http://www.w3.org/1999/xlink\">\n",
        "<g id=\"graph0\" class=\"graph\" transform=\"scale(1 1) rotate(0) translate(4 73)\">\n",
        "<title>%3</title>\n",
        "<polygon fill=\"white\" stroke=\"none\" points=\"-4,4 -4,-73 193,-73 193,4 -4,4\"/>\n",
        "<!-- I0 -->\n",
        "<g id=\"node1\" class=\"node\"><title>I0</title>\n",
        "<ellipse fill=\"black\" stroke=\"black\" cx=\"0\" cy=\"-18\" rx=\"0\" ry=\"0\"/>\n",
        "</g>\n",
        "<!-- 0 -->\n",
        "<g id=\"node3\" class=\"node\"><title>0</title>\n",
        "<ellipse fill=\"none\" stroke=\"black\" cx=\"55\" cy=\"-18\" rx=\"18\" ry=\"18\"/>\n",
        "<text text-anchor=\"middle\" x=\"55\" y=\"-14.3\" font-family=\"Times,serif\" font-size=\"14.00\">0</text>\n",
        "</g>\n",
        "<!-- I0&#45;&gt;0 -->\n",
        "<g id=\"edge1\" class=\"edge\"><title>I0&#45;&gt;0</title>\n",
        "<path fill=\"none\" stroke=\"black\" d=\"M1.15204,-18C2.63201,-18 14.6806,-18 26.8996,-18\"/>\n",
        "<polygon fill=\"black\" stroke=\"black\" points=\"26.9753,-21.5001 36.9753,-18 26.9752,-14.5001 26.9753,-21.5001\"/>\n",
        "</g>\n",
        "<!-- F1 -->\n",
        "<g id=\"node2\" class=\"node\"><title>F1</title>\n",
        "<ellipse fill=\"black\" stroke=\"black\" cx=\"189\" cy=\"-18\" rx=\"0\" ry=\"0\"/>\n",
        "</g>\n",
        "<!-- 1 -->\n",
        "<g id=\"node4\" class=\"node\"><title>1</title>\n",
        "<ellipse fill=\"none\" stroke=\"black\" cx=\"134\" cy=\"-18\" rx=\"18\" ry=\"18\"/>\n",
        "<text text-anchor=\"middle\" x=\"134\" y=\"-14.3\" font-family=\"Times,serif\" font-size=\"14.00\">1</text>\n",
        "</g>\n",
        "<!-- 0&#45;&gt;1 -->\n",
        "<g id=\"edge2\" class=\"edge\"><title>0&#45;&gt;1</title>\n",
        "<path fill=\"none\" stroke=\"black\" d=\"M73.0888,-18C82.659,-18 94.8172,-18 105.677,-18\"/>\n",
        "<polygon fill=\"black\" stroke=\"black\" points=\"105.959,-21.5001 115.959,-18 105.959,-14.5001 105.959,-21.5001\"/>\n",
        "<text text-anchor=\"middle\" x=\"94.5\" y=\"-21.8\" font-family=\"Times,serif\" font-size=\"14.00\">a</text>\n",
        "</g>\n",
        "<!-- 1&#45;&gt;F1 -->\n",
        "<g id=\"edge3\" class=\"edge\"><title>1&#45;&gt;F1</title>\n",
        "<path fill=\"none\" stroke=\"black\" d=\"M152.061,-18C160.504,-18 170.417,-18 177.691,-18\"/>\n",
        "<polygon fill=\"black\" stroke=\"black\" points=\"177.941,-21.5001 187.941,-18 177.941,-14.5001 177.941,-21.5001\"/>\n",
        "</g>\n",
        "<!-- 1&#45;&gt;1 -->\n",
        "<g id=\"edge4\" class=\"edge\"><title>1&#45;&gt;1</title>\n",
        "<path fill=\"none\" stroke=\"black\" d=\"M127.621,-35.0373C126.319,-44.8579 128.445,-54 134,-54 137.472,-54 139.604,-50.4289 140.398,-45.3529\"/>\n",
        "<polygon fill=\"black\" stroke=\"black\" points=\"143.897,-45.031 140.379,-35.0373 136.897,-45.0435 143.897,-45.031\"/>\n",
        "<text text-anchor=\"middle\" x=\"134\" y=\"-57.8\" font-family=\"Times,serif\" font-size=\"14.00\">b</text>\n",
        "</g>\n",
        "</g>\n",
        "</svg>\n"
       ],
       "text": [
        "mutable_automaton<lal_char(abc)_b>"
       ]
      }
     ],
     "prompt_number": 6
    },
    {
     "cell_type": "markdown",
     "metadata": {},
     "source": [
      "Python operators that are accepted by rational expressions are also accepted by automata, with matching semantics."
     ]
    },
    {
     "cell_type": "code",
     "collapsed": false,
     "input": [
      "a2 = (r1 + r1*r1).derived_term()\n",
      "a2"
     ],
     "language": "python",
     "metadata": {},
     "outputs": [
      {
       "metadata": {},
       "output_type": "pyout",
       "prompt_number": 7,
       "svg": [
        "<?xml version=\"1.0\" encoding=\"UTF-8\" standalone=\"no\"?>\n",
        "<!DOCTYPE svg PUBLIC \"-//W3C//DTD SVG 1.1//EN\"\n",
        " \"http://www.w3.org/Graphics/SVG/1.1/DTD/svg11.dtd\">\n",
        "<!-- Generated by graphviz version 2.38.0 (20140413.2041)\n",
        " -->\n",
        "<!-- Title: %3 Pages: 1 -->\n",
        "<svg width=\"276pt\" height=\"135pt\"\n",
        " viewBox=\"0.00 0.00 276.00 135.00\" xmlns=\"http://www.w3.org/2000/svg\" xmlns:xlink=\"http://www.w3.org/1999/xlink\">\n",
        "<g id=\"graph0\" class=\"graph\" transform=\"scale(1 1) rotate(0) translate(4 131)\">\n",
        "<title>%3</title>\n",
        "<polygon fill=\"white\" stroke=\"none\" points=\"-4,4 -4,-131 272,-131 272,4 -4,4\"/>\n",
        "<!-- I0 -->\n",
        "<g id=\"node1\" class=\"node\"><title>I0</title>\n",
        "<ellipse fill=\"black\" stroke=\"black\" cx=\"0\" cy=\"-76\" rx=\"0\" ry=\"0\"/>\n",
        "</g>\n",
        "<!-- 0 -->\n",
        "<g id=\"node3\" class=\"node\"><title>0</title>\n",
        "<ellipse fill=\"none\" stroke=\"black\" cx=\"55\" cy=\"-76\" rx=\"18\" ry=\"18\"/>\n",
        "<text text-anchor=\"middle\" x=\"55\" y=\"-72.3\" font-family=\"Times,serif\" font-size=\"14.00\">0</text>\n",
        "</g>\n",
        "<!-- I0&#45;&gt;0 -->\n",
        "<g id=\"edge1\" class=\"edge\"><title>I0&#45;&gt;0</title>\n",
        "<path fill=\"none\" stroke=\"black\" d=\"M1.15204,-76C2.63201,-76 14.6806,-76 26.8996,-76\"/>\n",
        "<polygon fill=\"black\" stroke=\"black\" points=\"26.9753,-79.5001 36.9753,-76 26.9752,-72.5001 26.9753,-79.5001\"/>\n",
        "</g>\n",
        "<!-- F1 -->\n",
        "<g id=\"node2\" class=\"node\"><title>F1</title>\n",
        "<ellipse fill=\"black\" stroke=\"black\" cx=\"268\" cy=\"-76\" rx=\"0\" ry=\"0\"/>\n",
        "</g>\n",
        "<!-- 1 -->\n",
        "<g id=\"node4\" class=\"node\"><title>1</title>\n",
        "<ellipse fill=\"none\" stroke=\"black\" cx=\"213\" cy=\"-76\" rx=\"18\" ry=\"18\"/>\n",
        "<text text-anchor=\"middle\" x=\"213\" y=\"-72.3\" font-family=\"Times,serif\" font-size=\"14.00\">1</text>\n",
        "</g>\n",
        "<!-- 0&#45;&gt;1 -->\n",
        "<g id=\"edge2\" class=\"edge\"><title>0&#45;&gt;1</title>\n",
        "<path fill=\"none\" stroke=\"black\" d=\"M73.0654,-76.7202C85.0707,-77.1898 101.515,-77.7586 116,-78 131.998,-78.2666 136.002,-78.2666 152,-78 162.751,-77.8209 174.581,-77.4613 184.874,-77.0959\"/>\n",
        "<polygon fill=\"black\" stroke=\"black\" points=\"185.072,-80.591 194.935,-76.7202 184.811,-73.5959 185.072,-80.591\"/>\n",
        "<text text-anchor=\"middle\" x=\"134\" y=\"-81.8\" font-family=\"Times,serif\" font-size=\"14.00\">a</text>\n",
        "</g>\n",
        "<!-- 2 -->\n",
        "<g id=\"node5\" class=\"node\"><title>2</title>\n",
        "<ellipse fill=\"none\" stroke=\"black\" cx=\"134\" cy=\"-18\" rx=\"18\" ry=\"18\"/>\n",
        "<text text-anchor=\"middle\" x=\"134\" y=\"-14.3\" font-family=\"Times,serif\" font-size=\"14.00\">2</text>\n",
        "</g>\n",
        "<!-- 0&#45;&gt;2 -->\n",
        "<g id=\"edge3\" class=\"edge\"><title>0&#45;&gt;2</title>\n",
        "<path fill=\"none\" stroke=\"black\" d=\"M69.7661,-65.6308C81.1922,-57.0241 97.6587,-44.6207 110.924,-34.6288\"/>\n",
        "<polygon fill=\"black\" stroke=\"black\" points=\"113.212,-37.2873 119.094,-28.475 109,-31.696 113.212,-37.2873\"/>\n",
        "<text text-anchor=\"middle\" x=\"94.5\" y=\"-51.8\" font-family=\"Times,serif\" font-size=\"14.00\">a</text>\n",
        "</g>\n",
        "<!-- 1&#45;&gt;F1 -->\n",
        "<g id=\"edge4\" class=\"edge\"><title>1&#45;&gt;F1</title>\n",
        "<path fill=\"none\" stroke=\"black\" d=\"M231.061,-76C239.504,-76 249.417,-76 256.691,-76\"/>\n",
        "<polygon fill=\"black\" stroke=\"black\" points=\"256.941,-79.5001 266.941,-76 256.941,-72.5001 256.941,-79.5001\"/>\n",
        "</g>\n",
        "<!-- 1&#45;&gt;1 -->\n",
        "<g id=\"edge5\" class=\"edge\"><title>1&#45;&gt;1</title>\n",
        "<path fill=\"none\" stroke=\"black\" d=\"M206.621,-93.0373C205.319,-102.858 207.445,-112 213,-112 216.472,-112 218.604,-108.429 219.398,-103.353\"/>\n",
        "<polygon fill=\"black\" stroke=\"black\" points=\"222.897,-103.031 219.379,-93.0373 215.897,-103.044 222.897,-103.031\"/>\n",
        "<text text-anchor=\"middle\" x=\"213\" y=\"-115.8\" font-family=\"Times,serif\" font-size=\"14.00\">b</text>\n",
        "</g>\n",
        "<!-- 2&#45;&gt;1 -->\n",
        "<g id=\"edge6\" class=\"edge\"><title>2&#45;&gt;1</title>\n",
        "<path fill=\"none\" stroke=\"black\" d=\"M148.766,-28.3692C160.192,-36.9759 176.659,-49.3793 189.924,-59.3712\"/>\n",
        "<polygon fill=\"black\" stroke=\"black\" points=\"188,-62.304 198.094,-65.525 192.212,-56.7127 188,-62.304\"/>\n",
        "<text text-anchor=\"middle\" x=\"173.5\" y=\"-51.8\" font-family=\"Times,serif\" font-size=\"14.00\">a</text>\n",
        "</g>\n",
        "<!-- 2&#45;&gt;2 -->\n",
        "<g id=\"edge7\" class=\"edge\"><title>2&#45;&gt;2</title>\n",
        "<path fill=\"none\" stroke=\"black\" d=\"M127.266,-35.0373C125.892,-44.8579 128.137,-54 134,-54 137.665,-54 139.916,-50.4289 140.753,-45.3529\"/>\n",
        "<polygon fill=\"black\" stroke=\"black\" points=\"144.252,-45.0307 140.734,-35.0373 137.252,-45.0439 144.252,-45.0307\"/>\n",
        "<text text-anchor=\"middle\" x=\"134\" y=\"-57.8\" font-family=\"Times,serif\" font-size=\"14.00\">b</text>\n",
        "</g>\n",
        "</g>\n",
        "</svg>\n"
       ],
       "text": [
        "mutable_automaton<lal_char(abc)_b>"
       ]
      }
     ],
     "prompt_number": 7
    },
    {
     "cell_type": "code",
     "collapsed": false,
     "input": [
      "a3 = a1 + a1 * a1\n",
      "a3"
     ],
     "language": "python",
     "metadata": {},
     "outputs": [
      {
       "metadata": {},
       "output_type": "pyout",
       "prompt_number": 8,
       "svg": [
        "<?xml version=\"1.0\" encoding=\"UTF-8\" standalone=\"no\"?>\n",
        "<!DOCTYPE svg PUBLIC \"-//W3C//DTD SVG 1.1//EN\"\n",
        " \"http://www.w3.org/Graphics/SVG/1.1/DTD/svg11.dtd\">\n",
        "<!-- Generated by graphviz version 2.38.0 (20140413.2041)\n",
        " -->\n",
        "<!-- Title: %3 Pages: 1 -->\n",
        "<svg width=\"276pt\" height=\"164pt\"\n",
        " viewBox=\"0.00 0.00 276.00 164.00\" xmlns=\"http://www.w3.org/2000/svg\" xmlns:xlink=\"http://www.w3.org/1999/xlink\">\n",
        "<g id=\"graph0\" class=\"graph\" transform=\"scale(1 1) rotate(0) translate(4 160)\">\n",
        "<title>%3</title>\n",
        "<polygon fill=\"white\" stroke=\"none\" points=\"-4,4 -4,-160 272,-160 272,4 -4,4\"/>\n",
        "<!-- I0 -->\n",
        "<g id=\"node1\" class=\"node\"><title>I0</title>\n",
        "<ellipse fill=\"black\" stroke=\"black\" cx=\"0\" cy=\"-67\" rx=\"0\" ry=\"0\"/>\n",
        "</g>\n",
        "<!-- 0 -->\n",
        "<g id=\"node4\" class=\"node\"><title>0</title>\n",
        "<ellipse fill=\"none\" stroke=\"black\" cx=\"55\" cy=\"-67\" rx=\"18\" ry=\"18\"/>\n",
        "<text text-anchor=\"middle\" x=\"55\" y=\"-63.3\" font-family=\"Times,serif\" font-size=\"14.00\">0</text>\n",
        "</g>\n",
        "<!-- I0&#45;&gt;0 -->\n",
        "<g id=\"edge1\" class=\"edge\"><title>I0&#45;&gt;0</title>\n",
        "<path fill=\"none\" stroke=\"black\" d=\"M1.15204,-67C2.63201,-67 14.6806,-67 26.8996,-67\"/>\n",
        "<polygon fill=\"black\" stroke=\"black\" points=\"26.9753,-70.5001 36.9753,-67 26.9752,-63.5001 26.9753,-70.5001\"/>\n",
        "</g>\n",
        "<!-- F1 -->\n",
        "<g id=\"node2\" class=\"node\"><title>F1</title>\n",
        "<ellipse fill=\"black\" stroke=\"black\" cx=\"213\" cy=\"-105\" rx=\"0\" ry=\"0\"/>\n",
        "</g>\n",
        "<!-- F3 -->\n",
        "<g id=\"node3\" class=\"node\"><title>F3</title>\n",
        "<ellipse fill=\"black\" stroke=\"black\" cx=\"268\" cy=\"-18\" rx=\"0\" ry=\"0\"/>\n",
        "</g>\n",
        "<!-- 1 -->\n",
        "<g id=\"node5\" class=\"node\"><title>1</title>\n",
        "<ellipse fill=\"none\" stroke=\"black\" cx=\"134\" cy=\"-105\" rx=\"18\" ry=\"18\"/>\n",
        "<text text-anchor=\"middle\" x=\"134\" y=\"-101.3\" font-family=\"Times,serif\" font-size=\"14.00\">1</text>\n",
        "</g>\n",
        "<!-- 0&#45;&gt;1 -->\n",
        "<g id=\"edge2\" class=\"edge\"><title>0&#45;&gt;1</title>\n",
        "<path fill=\"none\" stroke=\"black\" d=\"M71.5821,-74.6899C82.1233,-79.892 96.2684,-86.8727 108.327,-92.8235\"/>\n",
        "<polygon fill=\"black\" stroke=\"black\" points=\"106.925,-96.0346 117.441,-97.3216 110.023,-89.7574 106.925,-96.0346\"/>\n",
        "<text text-anchor=\"middle\" x=\"94.5\" y=\"-90.8\" font-family=\"Times,serif\" font-size=\"14.00\">a</text>\n",
        "</g>\n",
        "<!-- 2 -->\n",
        "<g id=\"node6\" class=\"node\"><title>2</title>\n",
        "<ellipse fill=\"none\" stroke=\"black\" cx=\"134\" cy=\"-18\" rx=\"18\" ry=\"18\"/>\n",
        "<text text-anchor=\"middle\" x=\"134\" y=\"-14.3\" font-family=\"Times,serif\" font-size=\"14.00\">2</text>\n",
        "</g>\n",
        "<!-- 0&#45;&gt;2 -->\n",
        "<g id=\"edge3\" class=\"edge\"><title>0&#45;&gt;2</title>\n",
        "<path fill=\"none\" stroke=\"black\" d=\"M70.4831,-57.7835C81.4906,-50.7787 96.8592,-40.9987 109.604,-32.8885\"/>\n",
        "<polygon fill=\"black\" stroke=\"black\" points=\"111.762,-35.6634 118.32,-27.3418 108.004,-29.7578 111.762,-35.6634\"/>\n",
        "<text text-anchor=\"middle\" x=\"94.5\" y=\"-46.8\" font-family=\"Times,serif\" font-size=\"14.00\">a</text>\n",
        "</g>\n",
        "<!-- 1&#45;&gt;F1 -->\n",
        "<g id=\"edge4\" class=\"edge\"><title>1&#45;&gt;F1</title>\n",
        "<path fill=\"none\" stroke=\"black\" d=\"M152.089,-105C167.197,-105 188.756,-105 201.471,-105\"/>\n",
        "<polygon fill=\"black\" stroke=\"black\" points=\"201.893,-108.5 211.893,-105 201.892,-101.5 201.893,-108.5\"/>\n",
        "</g>\n",
        "<!-- 1&#45;&gt;1 -->\n",
        "<g id=\"edge5\" class=\"edge\"><title>1&#45;&gt;1</title>\n",
        "<path fill=\"none\" stroke=\"black\" d=\"M127.266,-122.037C125.892,-131.858 128.137,-141 134,-141 137.665,-141 139.916,-137.429 140.753,-132.353\"/>\n",
        "<polygon fill=\"black\" stroke=\"black\" points=\"144.252,-132.031 140.734,-122.037 137.252,-132.044 144.252,-132.031\"/>\n",
        "<text text-anchor=\"middle\" x=\"134\" y=\"-144.8\" font-family=\"Times,serif\" font-size=\"14.00\">b</text>\n",
        "</g>\n",
        "<!-- 2&#45;&gt;2 -->\n",
        "<g id=\"edge6\" class=\"edge\"><title>2&#45;&gt;2</title>\n",
        "<path fill=\"none\" stroke=\"black\" d=\"M127.266,-35.0373C125.892,-44.8579 128.137,-54 134,-54 137.665,-54 139.916,-50.4289 140.753,-45.3529\"/>\n",
        "<polygon fill=\"black\" stroke=\"black\" points=\"144.252,-45.0307 140.734,-35.0373 137.252,-45.0439 144.252,-45.0307\"/>\n",
        "<text text-anchor=\"middle\" x=\"134\" y=\"-57.8\" font-family=\"Times,serif\" font-size=\"14.00\">b</text>\n",
        "</g>\n",
        "<!-- 3 -->\n",
        "<g id=\"node7\" class=\"node\"><title>3</title>\n",
        "<ellipse fill=\"none\" stroke=\"black\" cx=\"213\" cy=\"-18\" rx=\"18\" ry=\"18\"/>\n",
        "<text text-anchor=\"middle\" x=\"213\" y=\"-14.3\" font-family=\"Times,serif\" font-size=\"14.00\">3</text>\n",
        "</g>\n",
        "<!-- 2&#45;&gt;3 -->\n",
        "<g id=\"edge7\" class=\"edge\"><title>2&#45;&gt;3</title>\n",
        "<path fill=\"none\" stroke=\"black\" d=\"M152.089,-18C161.659,-18 173.817,-18 184.677,-18\"/>\n",
        "<polygon fill=\"black\" stroke=\"black\" points=\"184.959,-21.5001 194.959,-18 184.959,-14.5001 184.959,-21.5001\"/>\n",
        "<text text-anchor=\"middle\" x=\"173.5\" y=\"-21.8\" font-family=\"Times,serif\" font-size=\"14.00\">a</text>\n",
        "</g>\n",
        "<!-- 3&#45;&gt;F3 -->\n",
        "<g id=\"edge8\" class=\"edge\"><title>3&#45;&gt;F3</title>\n",
        "<path fill=\"none\" stroke=\"black\" d=\"M231.061,-18C239.504,-18 249.417,-18 256.691,-18\"/>\n",
        "<polygon fill=\"black\" stroke=\"black\" points=\"256.941,-21.5001 266.941,-18 256.941,-14.5001 256.941,-21.5001\"/>\n",
        "</g>\n",
        "<!-- 3&#45;&gt;3 -->\n",
        "<g id=\"edge9\" class=\"edge\"><title>3&#45;&gt;3</title>\n",
        "<path fill=\"none\" stroke=\"black\" d=\"M206.621,-35.0373C205.319,-44.8579 207.445,-54 213,-54 216.472,-54 218.604,-50.4289 219.398,-45.3529\"/>\n",
        "<polygon fill=\"black\" stroke=\"black\" points=\"222.897,-45.031 219.379,-35.0373 215.897,-45.0435 222.897,-45.031\"/>\n",
        "<text text-anchor=\"middle\" x=\"213\" y=\"-57.8\" font-family=\"Times,serif\" font-size=\"14.00\">b</text>\n",
        "</g>\n",
        "</g>\n",
        "</svg>\n"
       ],
       "text": [
        "mutable_automaton<lal_char(abc)_b>"
       ]
      }
     ],
     "prompt_number": 8
    },
    {
     "cell_type": "markdown",
     "metadata": {},
     "source": [
      "Well, those two automata are not equal (or more rigorously \"isomorphic\"), but they are equivalent:"
     ]
    },
    {
     "cell_type": "code",
     "collapsed": false,
     "input": [
      "a2.is_equivalent(a3)"
     ],
     "language": "python",
     "metadata": {},
     "outputs": [
      {
       "metadata": {},
       "output_type": "pyout",
       "prompt_number": 9,
       "text": [
        "True"
       ]
      }
     ],
     "prompt_number": 9
    },
    {
     "cell_type": "markdown",
     "metadata": {},
     "source": [
      "All the classical algorithms about automata are implemented:"
     ]
    },
    {
     "cell_type": "code",
     "collapsed": false,
     "input": [
      "a3"
     ],
     "language": "python",
     "metadata": {},
     "outputs": [
      {
       "metadata": {},
       "output_type": "pyout",
       "prompt_number": 10,
       "svg": [
        "<?xml version=\"1.0\" encoding=\"UTF-8\" standalone=\"no\"?>\n",
        "<!DOCTYPE svg PUBLIC \"-//W3C//DTD SVG 1.1//EN\"\n",
        " \"http://www.w3.org/Graphics/SVG/1.1/DTD/svg11.dtd\">\n",
        "<!-- Generated by graphviz version 2.38.0 (20140413.2041)\n",
        " -->\n",
        "<!-- Title: %3 Pages: 1 -->\n",
        "<svg width=\"276pt\" height=\"164pt\"\n",
        " viewBox=\"0.00 0.00 276.00 164.00\" xmlns=\"http://www.w3.org/2000/svg\" xmlns:xlink=\"http://www.w3.org/1999/xlink\">\n",
        "<g id=\"graph0\" class=\"graph\" transform=\"scale(1 1) rotate(0) translate(4 160)\">\n",
        "<title>%3</title>\n",
        "<polygon fill=\"white\" stroke=\"none\" points=\"-4,4 -4,-160 272,-160 272,4 -4,4\"/>\n",
        "<!-- I0 -->\n",
        "<g id=\"node1\" class=\"node\"><title>I0</title>\n",
        "<ellipse fill=\"black\" stroke=\"black\" cx=\"0\" cy=\"-67\" rx=\"0\" ry=\"0\"/>\n",
        "</g>\n",
        "<!-- 0 -->\n",
        "<g id=\"node4\" class=\"node\"><title>0</title>\n",
        "<ellipse fill=\"none\" stroke=\"black\" cx=\"55\" cy=\"-67\" rx=\"18\" ry=\"18\"/>\n",
        "<text text-anchor=\"middle\" x=\"55\" y=\"-63.3\" font-family=\"Times,serif\" font-size=\"14.00\">0</text>\n",
        "</g>\n",
        "<!-- I0&#45;&gt;0 -->\n",
        "<g id=\"edge1\" class=\"edge\"><title>I0&#45;&gt;0</title>\n",
        "<path fill=\"none\" stroke=\"black\" d=\"M1.15204,-67C2.63201,-67 14.6806,-67 26.8996,-67\"/>\n",
        "<polygon fill=\"black\" stroke=\"black\" points=\"26.9753,-70.5001 36.9753,-67 26.9752,-63.5001 26.9753,-70.5001\"/>\n",
        "</g>\n",
        "<!-- F1 -->\n",
        "<g id=\"node2\" class=\"node\"><title>F1</title>\n",
        "<ellipse fill=\"black\" stroke=\"black\" cx=\"213\" cy=\"-105\" rx=\"0\" ry=\"0\"/>\n",
        "</g>\n",
        "<!-- F3 -->\n",
        "<g id=\"node3\" class=\"node\"><title>F3</title>\n",
        "<ellipse fill=\"black\" stroke=\"black\" cx=\"268\" cy=\"-18\" rx=\"0\" ry=\"0\"/>\n",
        "</g>\n",
        "<!-- 1 -->\n",
        "<g id=\"node5\" class=\"node\"><title>1</title>\n",
        "<ellipse fill=\"none\" stroke=\"black\" cx=\"134\" cy=\"-105\" rx=\"18\" ry=\"18\"/>\n",
        "<text text-anchor=\"middle\" x=\"134\" y=\"-101.3\" font-family=\"Times,serif\" font-size=\"14.00\">1</text>\n",
        "</g>\n",
        "<!-- 0&#45;&gt;1 -->\n",
        "<g id=\"edge2\" class=\"edge\"><title>0&#45;&gt;1</title>\n",
        "<path fill=\"none\" stroke=\"black\" d=\"M71.5821,-74.6899C82.1233,-79.892 96.2684,-86.8727 108.327,-92.8235\"/>\n",
        "<polygon fill=\"black\" stroke=\"black\" points=\"106.925,-96.0346 117.441,-97.3216 110.023,-89.7574 106.925,-96.0346\"/>\n",
        "<text text-anchor=\"middle\" x=\"94.5\" y=\"-90.8\" font-family=\"Times,serif\" font-size=\"14.00\">a</text>\n",
        "</g>\n",
        "<!-- 2 -->\n",
        "<g id=\"node6\" class=\"node\"><title>2</title>\n",
        "<ellipse fill=\"none\" stroke=\"black\" cx=\"134\" cy=\"-18\" rx=\"18\" ry=\"18\"/>\n",
        "<text text-anchor=\"middle\" x=\"134\" y=\"-14.3\" font-family=\"Times,serif\" font-size=\"14.00\">2</text>\n",
        "</g>\n",
        "<!-- 0&#45;&gt;2 -->\n",
        "<g id=\"edge3\" class=\"edge\"><title>0&#45;&gt;2</title>\n",
        "<path fill=\"none\" stroke=\"black\" d=\"M70.4831,-57.7835C81.4906,-50.7787 96.8592,-40.9987 109.604,-32.8885\"/>\n",
        "<polygon fill=\"black\" stroke=\"black\" points=\"111.762,-35.6634 118.32,-27.3418 108.004,-29.7578 111.762,-35.6634\"/>\n",
        "<text text-anchor=\"middle\" x=\"94.5\" y=\"-46.8\" font-family=\"Times,serif\" font-size=\"14.00\">a</text>\n",
        "</g>\n",
        "<!-- 1&#45;&gt;F1 -->\n",
        "<g id=\"edge4\" class=\"edge\"><title>1&#45;&gt;F1</title>\n",
        "<path fill=\"none\" stroke=\"black\" d=\"M152.089,-105C167.197,-105 188.756,-105 201.471,-105\"/>\n",
        "<polygon fill=\"black\" stroke=\"black\" points=\"201.893,-108.5 211.893,-105 201.892,-101.5 201.893,-108.5\"/>\n",
        "</g>\n",
        "<!-- 1&#45;&gt;1 -->\n",
        "<g id=\"edge5\" class=\"edge\"><title>1&#45;&gt;1</title>\n",
        "<path fill=\"none\" stroke=\"black\" d=\"M127.266,-122.037C125.892,-131.858 128.137,-141 134,-141 137.665,-141 139.916,-137.429 140.753,-132.353\"/>\n",
        "<polygon fill=\"black\" stroke=\"black\" points=\"144.252,-132.031 140.734,-122.037 137.252,-132.044 144.252,-132.031\"/>\n",
        "<text text-anchor=\"middle\" x=\"134\" y=\"-144.8\" font-family=\"Times,serif\" font-size=\"14.00\">b</text>\n",
        "</g>\n",
        "<!-- 2&#45;&gt;2 -->\n",
        "<g id=\"edge6\" class=\"edge\"><title>2&#45;&gt;2</title>\n",
        "<path fill=\"none\" stroke=\"black\" d=\"M127.266,-35.0373C125.892,-44.8579 128.137,-54 134,-54 137.665,-54 139.916,-50.4289 140.753,-45.3529\"/>\n",
        "<polygon fill=\"black\" stroke=\"black\" points=\"144.252,-45.0307 140.734,-35.0373 137.252,-45.0439 144.252,-45.0307\"/>\n",
        "<text text-anchor=\"middle\" x=\"134\" y=\"-57.8\" font-family=\"Times,serif\" font-size=\"14.00\">b</text>\n",
        "</g>\n",
        "<!-- 3 -->\n",
        "<g id=\"node7\" class=\"node\"><title>3</title>\n",
        "<ellipse fill=\"none\" stroke=\"black\" cx=\"213\" cy=\"-18\" rx=\"18\" ry=\"18\"/>\n",
        "<text text-anchor=\"middle\" x=\"213\" y=\"-14.3\" font-family=\"Times,serif\" font-size=\"14.00\">3</text>\n",
        "</g>\n",
        "<!-- 2&#45;&gt;3 -->\n",
        "<g id=\"edge7\" class=\"edge\"><title>2&#45;&gt;3</title>\n",
        "<path fill=\"none\" stroke=\"black\" d=\"M152.089,-18C161.659,-18 173.817,-18 184.677,-18\"/>\n",
        "<polygon fill=\"black\" stroke=\"black\" points=\"184.959,-21.5001 194.959,-18 184.959,-14.5001 184.959,-21.5001\"/>\n",
        "<text text-anchor=\"middle\" x=\"173.5\" y=\"-21.8\" font-family=\"Times,serif\" font-size=\"14.00\">a</text>\n",
        "</g>\n",
        "<!-- 3&#45;&gt;F3 -->\n",
        "<g id=\"edge8\" class=\"edge\"><title>3&#45;&gt;F3</title>\n",
        "<path fill=\"none\" stroke=\"black\" d=\"M231.061,-18C239.504,-18 249.417,-18 256.691,-18\"/>\n",
        "<polygon fill=\"black\" stroke=\"black\" points=\"256.941,-21.5001 266.941,-18 256.941,-14.5001 256.941,-21.5001\"/>\n",
        "</g>\n",
        "<!-- 3&#45;&gt;3 -->\n",
        "<g id=\"edge9\" class=\"edge\"><title>3&#45;&gt;3</title>\n",
        "<path fill=\"none\" stroke=\"black\" d=\"M206.621,-35.0373C205.319,-44.8579 207.445,-54 213,-54 216.472,-54 218.604,-50.4289 219.398,-45.3529\"/>\n",
        "<polygon fill=\"black\" stroke=\"black\" points=\"222.897,-45.031 219.379,-35.0373 215.897,-45.0435 222.897,-45.031\"/>\n",
        "<text text-anchor=\"middle\" x=\"213\" y=\"-57.8\" font-family=\"Times,serif\" font-size=\"14.00\">b</text>\n",
        "</g>\n",
        "</g>\n",
        "</svg>\n"
       ],
       "text": [
        "mutable_automaton<lal_char(abc)_b>"
       ]
      }
     ],
     "prompt_number": 10
    },
    {
     "cell_type": "code",
     "collapsed": false,
     "input": [
      "a3.determinize()"
     ],
     "language": "python",
     "metadata": {},
     "outputs": [
      {
       "metadata": {},
       "output_type": "pyout",
       "prompt_number": 11,
       "svg": [
        "<?xml version=\"1.0\" encoding=\"UTF-8\" standalone=\"no\"?>\n",
        "<!DOCTYPE svg PUBLIC \"-//W3C//DTD SVG 1.1//EN\"\n",
        " \"http://www.w3.org/Graphics/SVG/1.1/DTD/svg11.dtd\">\n",
        "<!-- Generated by graphviz version 2.38.0 (20140413.2041)\n",
        " -->\n",
        "<!-- Title: %3 Pages: 1 -->\n",
        "<svg width=\"330pt\" height=\"121pt\"\n",
        " viewBox=\"0.00 0.00 330.00 121.00\" xmlns=\"http://www.w3.org/2000/svg\" xmlns:xlink=\"http://www.w3.org/1999/xlink\">\n",
        "<g id=\"graph0\" class=\"graph\" transform=\"scale(1 1) rotate(0) translate(4 117)\">\n",
        "<title>%3</title>\n",
        "<polygon fill=\"white\" stroke=\"none\" points=\"-4,4 -4,-117 326,-117 326,4 -4,4\"/>\n",
        "<!-- I0 -->\n",
        "<g id=\"node1\" class=\"node\"><title>I0</title>\n",
        "<ellipse fill=\"black\" stroke=\"black\" cx=\"0\" cy=\"-62\" rx=\"0\" ry=\"0\"/>\n",
        "</g>\n",
        "<!-- 0 -->\n",
        "<g id=\"node4\" class=\"node\"><title>0</title>\n",
        "<path fill=\"none\" stroke=\"black\" d=\"M79,-80C79,-80 49,-80 49,-80 43,-80 37,-74 37,-68 37,-68 37,-56 37,-56 37,-50 43,-44 49,-44 49,-44 79,-44 79,-44 85,-44 91,-50 91,-56 91,-56 91,-68 91,-68 91,-74 85,-80 79,-80\"/>\n",
        "<text text-anchor=\"middle\" x=\"64\" y=\"-58.3\" font-family=\"Times,serif\" font-size=\"14.00\">0</text>\n",
        "</g>\n",
        "<!-- I0&#45;&gt;0 -->\n",
        "<g id=\"edge1\" class=\"edge\"><title>I0&#45;&gt;0</title>\n",
        "<path fill=\"none\" stroke=\"black\" d=\"M1.04494,-62C1.8631,-62 13.7343,-62 26.8695,-62\"/>\n",
        "<polygon fill=\"black\" stroke=\"black\" points=\"26.9984,-65.5001 36.9983,-62 26.9983,-58.5001 26.9984,-65.5001\"/>\n",
        "</g>\n",
        "<!-- F1 -->\n",
        "<g id=\"node2\" class=\"node\"><title>F1</title>\n",
        "<ellipse fill=\"black\" stroke=\"black\" cx=\"258\" cy=\"-87\" rx=\"0\" ry=\"0\"/>\n",
        "</g>\n",
        "<!-- F2 -->\n",
        "<g id=\"node3\" class=\"node\"><title>F2</title>\n",
        "<ellipse fill=\"black\" stroke=\"black\" cx=\"322\" cy=\"-18\" rx=\"0\" ry=\"0\"/>\n",
        "</g>\n",
        "<!-- 1 -->\n",
        "<g id=\"node5\" class=\"node\"><title>1</title>\n",
        "<path fill=\"none\" stroke=\"black\" d=\"M176,-80C176,-80 146,-80 146,-80 140,-80 134,-74 134,-68 134,-68 134,-56 134,-56 134,-50 140,-44 146,-44 146,-44 176,-44 176,-44 182,-44 188,-50 188,-56 188,-56 188,-68 188,-68 188,-74 182,-80 176,-80\"/>\n",
        "<text text-anchor=\"middle\" x=\"161\" y=\"-58.3\" font-family=\"Times,serif\" font-size=\"14.00\">1, 2</text>\n",
        "</g>\n",
        "<!-- 0&#45;&gt;1 -->\n",
        "<g id=\"edge2\" class=\"edge\"><title>0&#45;&gt;1</title>\n",
        "<path fill=\"none\" stroke=\"black\" d=\"M91.2106,-62C101.283,-62 112.965,-62 123.811,-62\"/>\n",
        "<polygon fill=\"black\" stroke=\"black\" points=\"123.875,-65.5001 133.875,-62 123.875,-58.5001 123.875,-65.5001\"/>\n",
        "<text text-anchor=\"middle\" x=\"112.5\" y=\"-65.8\" font-family=\"Times,serif\" font-size=\"14.00\">a</text>\n",
        "</g>\n",
        "<!-- 1&#45;&gt;F1 -->\n",
        "<g id=\"edge3\" class=\"edge\"><title>1&#45;&gt;F1</title>\n",
        "<path fill=\"none\" stroke=\"black\" d=\"M188.211,-68.8975C207.577,-73.994 232.897,-80.657 246.783,-84.3113\"/>\n",
        "<polygon fill=\"black\" stroke=\"black\" points=\"246.321,-87.8088 256.882,-86.9691 248.102,-81.0393 246.321,-87.8088\"/>\n",
        "</g>\n",
        "<!-- 1&#45;&gt;1 -->\n",
        "<g id=\"edge4\" class=\"edge\"><title>1&#45;&gt;1</title>\n",
        "<path fill=\"none\" stroke=\"black\" d=\"M152.316,-80.1527C150.98,-89.5391 153.875,-98 161,-98 165.342,-98 168.113,-94.8581 169.313,-90.2796\"/>\n",
        "<polygon fill=\"black\" stroke=\"black\" points=\"172.815,-90.2742 169.684,-80.1527 165.82,-90.0178 172.815,-90.2742\"/>\n",
        "<text text-anchor=\"middle\" x=\"161\" y=\"-101.8\" font-family=\"Times,serif\" font-size=\"14.00\">b</text>\n",
        "</g>\n",
        "<!-- 2 -->\n",
        "<g id=\"node6\" class=\"node\"><title>2</title>\n",
        "<path fill=\"none\" stroke=\"black\" d=\"M273,-36C273,-36 243,-36 243,-36 237,-36 231,-30 231,-24 231,-24 231,-12 231,-12 231,-6 237,-0 243,-0 243,-0 273,-0 273,-0 279,-0 285,-6 285,-12 285,-12 285,-24 285,-24 285,-30 279,-36 273,-36\"/>\n",
        "<text text-anchor=\"middle\" x=\"258\" y=\"-14.3\" font-family=\"Times,serif\" font-size=\"14.00\">3</text>\n",
        "</g>\n",
        "<!-- 1&#45;&gt;2 -->\n",
        "<g id=\"edge5\" class=\"edge\"><title>1&#45;&gt;2</title>\n",
        "<path fill=\"none\" stroke=\"black\" d=\"M188.211,-49.8603C198.49,-45.0992 210.447,-39.5613 221.481,-34.4508\"/>\n",
        "<polygon fill=\"black\" stroke=\"black\" points=\"223.272,-37.4787 230.875,-30.1 220.33,-31.1269 223.272,-37.4787\"/>\n",
        "<text text-anchor=\"middle\" x=\"209.5\" y=\"-44.8\" font-family=\"Times,serif\" font-size=\"14.00\">a</text>\n",
        "</g>\n",
        "<!-- 2&#45;&gt;F2 -->\n",
        "<g id=\"edge6\" class=\"edge\"><title>2&#45;&gt;F2</title>\n",
        "<path fill=\"none\" stroke=\"black\" d=\"M285.294,-18C294.246,-18 303.734,-18 310.678,-18\"/>\n",
        "<polygon fill=\"black\" stroke=\"black\" points=\"310.946,-21.5001 320.946,-18 310.945,-14.5001 310.946,-21.5001\"/>\n",
        "</g>\n",
        "<!-- 2&#45;&gt;2 -->\n",
        "<g id=\"edge7\" class=\"edge\"><title>2&#45;&gt;2</title>\n",
        "<path fill=\"none\" stroke=\"black\" d=\"M250.04,-36.1527C248.815,-45.5391 251.469,-54 258,-54 261.98,-54 264.52,-50.8581 265.62,-46.2796\"/>\n",
        "<polygon fill=\"black\" stroke=\"black\" points=\"269.122,-46.2646 265.96,-36.1527 262.126,-46.0296 269.122,-46.2646\"/>\n",
        "<text text-anchor=\"middle\" x=\"258\" y=\"-57.8\" font-family=\"Times,serif\" font-size=\"14.00\">b</text>\n",
        "</g>\n",
        "</g>\n",
        "</svg>\n"
       ],
       "text": [
        "determinized_automaton<mutable_automaton<lal_char(abc)_b>>"
       ]
      }
     ],
     "prompt_number": 11
    },
    {
     "cell_type": "markdown",
     "metadata": {},
     "source": [
      "The states of this automaton are decorated with metadata: the corresponding set of states of the input automaton.  Use `strip` to remove this decoaration."
     ]
    },
    {
     "cell_type": "code",
     "collapsed": false,
     "input": [
      "a3.determinize().strip().complete()"
     ],
     "language": "python",
     "metadata": {},
     "outputs": [
      {
       "metadata": {},
       "output_type": "pyout",
       "prompt_number": 12,
       "svg": [
        "<?xml version=\"1.0\" encoding=\"UTF-8\" standalone=\"no\"?>\n",
        "<!DOCTYPE svg PUBLIC \"-//W3C//DTD SVG 1.1//EN\"\n",
        " \"http://www.w3.org/Graphics/SVG/1.1/DTD/svg11.dtd\">\n",
        "<!-- Generated by graphviz version 2.38.0 (20140413.2041)\n",
        " -->\n",
        "<!-- Title: %3 Pages: 1 -->\n",
        "<svg width=\"344pt\" height=\"167pt\"\n",
        " viewBox=\"0.00 0.00 344.00 167.00\" xmlns=\"http://www.w3.org/2000/svg\" xmlns:xlink=\"http://www.w3.org/1999/xlink\">\n",
        "<g id=\"graph0\" class=\"graph\" transform=\"scale(1 1) rotate(0) translate(4 163)\">\n",
        "<title>%3</title>\n",
        "<polygon fill=\"white\" stroke=\"none\" points=\"-4,4 -4,-163 340,-163 340,4 -4,4\"/>\n",
        "<!-- I0 -->\n",
        "<g id=\"node1\" class=\"node\"><title>I0</title>\n",
        "<ellipse fill=\"black\" stroke=\"black\" cx=\"0\" cy=\"-18\" rx=\"0\" ry=\"0\"/>\n",
        "</g>\n",
        "<!-- 0 -->\n",
        "<g id=\"node4\" class=\"node\"><title>0</title>\n",
        "<ellipse fill=\"none\" stroke=\"black\" cx=\"55\" cy=\"-18\" rx=\"18\" ry=\"18\"/>\n",
        "<text text-anchor=\"middle\" x=\"55\" y=\"-14.3\" font-family=\"Times,serif\" font-size=\"14.00\">0</text>\n",
        "</g>\n",
        "<!-- I0&#45;&gt;0 -->\n",
        "<g id=\"edge1\" class=\"edge\"><title>I0&#45;&gt;0</title>\n",
        "<path fill=\"none\" stroke=\"black\" d=\"M1.15204,-18C2.63201,-18 14.6806,-18 26.8996,-18\"/>\n",
        "<polygon fill=\"black\" stroke=\"black\" points=\"26.9753,-21.5001 36.9753,-18 26.9752,-14.5001 26.9753,-21.5001\"/>\n",
        "</g>\n",
        "<!-- F1 -->\n",
        "<g id=\"node2\" class=\"node\"><title>F1</title>\n",
        "<ellipse fill=\"black\" stroke=\"black\" cx=\"227\" cy=\"-159\" rx=\"0\" ry=\"0\"/>\n",
        "</g>\n",
        "<!-- F2 -->\n",
        "<g id=\"node3\" class=\"node\"><title>F2</title>\n",
        "<ellipse fill=\"black\" stroke=\"black\" cx=\"318\" cy=\"-106\" rx=\"0\" ry=\"0\"/>\n",
        "</g>\n",
        "<!-- 1 -->\n",
        "<g id=\"node5\" class=\"node\"><title>1</title>\n",
        "<ellipse fill=\"none\" stroke=\"black\" cx=\"134\" cy=\"-60\" rx=\"18\" ry=\"18\"/>\n",
        "<text text-anchor=\"middle\" x=\"134\" y=\"-56.3\" font-family=\"Times,serif\" font-size=\"14.00\">1</text>\n",
        "</g>\n",
        "<!-- 0&#45;&gt;1 -->\n",
        "<g id=\"edge2\" class=\"edge\"><title>0&#45;&gt;1</title>\n",
        "<path fill=\"none\" stroke=\"black\" d=\"M71.2127,-26.2978C81.9699,-32.1654 96.6122,-40.1521 108.943,-46.8779\"/>\n",
        "<polygon fill=\"black\" stroke=\"black\" points=\"107.364,-50.0035 117.819,-51.7194 110.716,-43.8582 107.364,-50.0035\"/>\n",
        "<text text-anchor=\"middle\" x=\"94.5\" y=\"-43.8\" font-family=\"Times,serif\" font-size=\"14.00\">a</text>\n",
        "</g>\n",
        "<!-- 3 -->\n",
        "<g id=\"node7\" class=\"node\"><title>3</title>\n",
        "<ellipse fill=\"none\" stroke=\"DimGray\" cx=\"318\" cy=\"-37\" rx=\"18\" ry=\"18\"/>\n",
        "<text text-anchor=\"middle\" x=\"318\" y=\"-33.3\" font-family=\"Times,serif\" font-size=\"14.00\">3</text>\n",
        "</g>\n",
        "<!-- 0&#45;&gt;3 -->\n",
        "<g id=\"edge3\" class=\"edge\"><title>0&#45;&gt;3</title>\n",
        "<path fill=\"none\" stroke=\"DimGray\" d=\"M73.1249,-19.2466C117.368,-22.4674 235.778,-31.0873 289.643,-35.0085\"/>\n",
        "<polygon fill=\"DimGray\" stroke=\"DimGray\" points=\"289.584,-38.5134 299.812,-35.7488 290.093,-31.5319 289.584,-38.5134\"/>\n",
        "<text text-anchor=\"middle\" x=\"180.5\" y=\"-30.8\" font-family=\"Times,serif\" font-size=\"14.00\">b, c</text>\n",
        "</g>\n",
        "<!-- 1&#45;&gt;F1 -->\n",
        "<g id=\"edge4\" class=\"edge\"><title>1&#45;&gt;F1</title>\n",
        "<path fill=\"none\" stroke=\"black\" d=\"M144.522,-74.9341C157.349,-94.1604 181.737,-127.738 209,-150 211.231,-151.822 213.888,-153.438 216.432,-154.779\"/>\n",
        "<polygon fill=\"black\" stroke=\"black\" points=\"215.321,-158.115 225.882,-158.958 218.152,-151.713 215.321,-158.115\"/>\n",
        "</g>\n",
        "<!-- 1&#45;&gt;1 -->\n",
        "<g id=\"edge5\" class=\"edge\"><title>1&#45;&gt;1</title>\n",
        "<path fill=\"none\" stroke=\"black\" d=\"M127.266,-77.0373C125.892,-86.8579 128.137,-96 134,-96 137.665,-96 139.916,-92.4289 140.753,-87.3529\"/>\n",
        "<polygon fill=\"black\" stroke=\"black\" points=\"144.252,-87.0307 140.734,-77.0373 137.252,-87.0439 144.252,-87.0307\"/>\n",
        "<text text-anchor=\"middle\" x=\"134\" y=\"-99.8\" font-family=\"Times,serif\" font-size=\"14.00\">b</text>\n",
        "</g>\n",
        "<!-- 2 -->\n",
        "<g id=\"node6\" class=\"node\"><title>2</title>\n",
        "<ellipse fill=\"none\" stroke=\"black\" cx=\"227\" cy=\"-90\" rx=\"18\" ry=\"18\"/>\n",
        "<text text-anchor=\"middle\" x=\"227\" y=\"-86.3\" font-family=\"Times,serif\" font-size=\"14.00\">2</text>\n",
        "</g>\n",
        "<!-- 1&#45;&gt;2 -->\n",
        "<g id=\"edge6\" class=\"edge\"><title>1&#45;&gt;2</title>\n",
        "<path fill=\"none\" stroke=\"black\" d=\"M151.269,-65.3634C164.773,-69.8151 184.233,-76.2307 199.91,-81.3989\"/>\n",
        "<polygon fill=\"black\" stroke=\"black\" points=\"198.972,-84.7749 209.565,-84.5819 201.164,-78.1268 198.972,-84.7749\"/>\n",
        "<text text-anchor=\"middle\" x=\"180.5\" y=\"-80.8\" font-family=\"Times,serif\" font-size=\"14.00\">a</text>\n",
        "</g>\n",
        "<!-- 1&#45;&gt;3 -->\n",
        "<g id=\"edge7\" class=\"edge\"><title>1&#45;&gt;3</title>\n",
        "<path fill=\"none\" stroke=\"DimGray\" d=\"M152.005,-56.9485C166.977,-54.3322 189.387,-50.5867 209,-48 236.334,-44.395 267.694,-41.3182 289.554,-39.343\"/>\n",
        "<polygon fill=\"DimGray\" stroke=\"DimGray\" points=\"290.103,-42.8082 299.755,-38.439 289.485,-35.8355 290.103,-42.8082\"/>\n",
        "<text text-anchor=\"middle\" x=\"227\" y=\"-51.8\" font-family=\"Times,serif\" font-size=\"14.00\">c</text>\n",
        "</g>\n",
        "<!-- 2&#45;&gt;F2 -->\n",
        "<g id=\"edge8\" class=\"edge\"><title>2&#45;&gt;F2</title>\n",
        "<path fill=\"none\" stroke=\"black\" d=\"M245.16,-93.085C263.364,-96.3575 291.532,-101.422 306.62,-104.134\"/>\n",
        "<polygon fill=\"black\" stroke=\"black\" points=\"306.406,-107.651 316.867,-105.976 307.644,-100.762 306.406,-107.651\"/>\n",
        "</g>\n",
        "<!-- 2&#45;&gt;2 -->\n",
        "<g id=\"edge9\" class=\"edge\"><title>2&#45;&gt;2</title>\n",
        "<path fill=\"none\" stroke=\"black\" d=\"M219.332,-106.29C217.483,-116.389 220.039,-126 227,-126 231.459,-126 234.111,-122.056 234.955,-116.566\"/>\n",
        "<polygon fill=\"black\" stroke=\"black\" points=\"238.446,-116.189 234.668,-106.29 231.448,-116.384 238.446,-116.189\"/>\n",
        "<text text-anchor=\"middle\" x=\"227\" y=\"-129.8\" font-family=\"Times,serif\" font-size=\"14.00\">b</text>\n",
        "</g>\n",
        "<!-- 2&#45;&gt;3 -->\n",
        "<g id=\"edge10\" class=\"edge\"><title>2&#45;&gt;3</title>\n",
        "<path fill=\"none\" stroke=\"DimGray\" d=\"M243.098,-81.0093C256.862,-72.8128 277.418,-60.5713 293.359,-51.0783\"/>\n",
        "<polygon fill=\"DimGray\" stroke=\"DimGray\" points=\"295.324,-53.9817 302.125,-45.8579 291.743,-47.9674 295.324,-53.9817\"/>\n",
        "<text text-anchor=\"middle\" x=\"272.5\" y=\"-71.8\" font-family=\"Times,serif\" font-size=\"14.00\">a, c</text>\n",
        "</g>\n",
        "<!-- 3&#45;&gt;3 -->\n",
        "<g id=\"edge11\" class=\"edge\"><title>3&#45;&gt;3</title>\n",
        "<path fill=\"none\" stroke=\"DimGray\" d=\"M310.332,-53.2903C308.483,-63.3892 311.039,-73 318,-73 322.459,-73 325.111,-69.0557 325.955,-63.5656\"/>\n",
        "<polygon fill=\"DimGray\" stroke=\"DimGray\" points=\"329.446,-63.1887 325.668,-53.2903 322.448,-63.384 329.446,-63.1887\"/>\n",
        "<text text-anchor=\"middle\" x=\"318\" y=\"-76.8\" font-family=\"Times,serif\" font-size=\"14.00\">[a&#45;c]</text>\n",
        "</g>\n",
        "</g>\n",
        "</svg>\n"
       ],
       "text": [
        "mutable_automaton<lal_char(abc)_b>"
       ]
      }
     ],
     "prompt_number": 12
    },
    {
     "cell_type": "markdown",
     "metadata": {},
     "source": [
      "Note that useless states and transitions are gray."
     ]
    },
    {
     "cell_type": "markdown",
     "metadata": {},
     "source": [
      "To evaluate a word on an automaton, use `eval()`:"
     ]
    },
    {
     "cell_type": "code",
     "collapsed": false,
     "input": [
      "a3.eval(\"a\")"
     ],
     "language": "python",
     "metadata": {},
     "outputs": [
      {
       "latex": [
        "$\\top$"
       ],
       "metadata": {},
       "output_type": "pyout",
       "prompt_number": 13,
       "text": [
        "1"
       ]
      }
     ],
     "prompt_number": 13
    },
    {
     "cell_type": "code",
     "collapsed": false,
     "input": [
      "a3.eval(\"b\")"
     ],
     "language": "python",
     "metadata": {},
     "outputs": [
      {
       "latex": [
        "$\\bot$"
       ],
       "metadata": {},
       "output_type": "pyout",
       "prompt_number": 14,
       "text": [
        "0"
       ]
      }
     ],
     "prompt_number": 14
    },
    {
     "cell_type": "markdown",
     "metadata": {},
     "source": [
      "To see the 10 first accepted words (if there are that many), use `shortest(10)`:"
     ]
    },
    {
     "cell_type": "code",
     "collapsed": false,
     "input": [
      "a3.shortest(10)"
     ],
     "language": "python",
     "metadata": {},
     "outputs": [
      {
       "latex": [
        "$a \\oplus aa \\oplus ab \\oplus aab \\oplus aba \\oplus abb \\oplus aabb \\oplus abab \\oplus abba \\oplus abbb$"
       ],
       "metadata": {},
       "output_type": "pyout",
       "prompt_number": 15,
       "text": [
        "a + aa + ab + aab + aba + abb + aabb + abab + abba + abbb"
       ]
      }
     ],
     "prompt_number": 15
    },
    {
     "cell_type": "markdown",
     "metadata": {},
     "source": [
      "To extract a rational expression from the automaton, use `ratexp()`:"
     ]
    },
    {
     "cell_type": "code",
     "collapsed": false,
     "input": [
      "a3.ratexp()"
     ],
     "language": "python",
     "metadata": {},
     "outputs": [
      {
       "latex": [
        "$a \\, {b}^{*} + a \\, {b}^{*} \\, a \\, {b}^{*}$"
       ],
       "metadata": {},
       "output_type": "pyout",
       "prompt_number": 16,
       "text": [
        "ab*+ab*ab*"
       ]
      }
     ],
     "prompt_number": 16
    },
    {
     "cell_type": "markdown",
     "metadata": {},
     "source": [
      "Voil\u00e0 !  You may now proceed to discover other features in other notebooks.  Bon voyage !"
     ]
    }
   ],
   "metadata": {}
  }
 ]
}
