{
 "metadata": {
  "name": "",
  "signature": "sha256:83e8355fac2d88570dce623a4bbcea0bb04fa7b02f8095a33373503259825f1e"
 },
 "nbformat": 3,
 "nbformat_minor": 0,
 "worksheets": [
  {
   "cells": [
    {
     "cell_type": "heading",
     "level": 1,
     "metadata": {},
     "source": [
      "Welcome to Vaucanson"
     ]
    },
    {
     "cell_type": "markdown",
     "metadata": {},
     "source": [
      "Welcome to this Vaucanson tutorial.  Vaucanson is a platform (C++ libraries with various interfaces, a Python binding, and some specific features for IPython) for weighted automata and rational expressions.\n",
      "\n",
      "This tutorial tries to guide you throw the Python binding, and more specifically the IPython interface, of Vaucanson.  If you are not a Python programmer, rest assured that you don't need to know much, and if you are a Python programmer, rest assured that its conventions have been respected, and you will be able to take the full benefit from both Vaucanson and Python.\n",
      "\n",
      "* [00 - Welcome to Vaucanson](00 - Welcome to Vaucanson.ipynb)\n",
      "* [01 - Playing with contexts](01 - Playing with contexts.ipynb)\n",
      "* [02 - Basic operations on automata](02 - Basic operations on automata.ipynb)"
     ]
    },
    {
     "cell_type": "heading",
     "level": 2,
     "metadata": {},
     "source": [
      "Quick Start"
     ]
    },
    {
     "cell_type": "markdown",
     "metadata": {},
     "source": [
      "First, import Vaucanson into Python, and define the \"context\" in which you want to work.  Do not worry about the (ugly!) syntax, just see where the alphabet (the set of letters, $\\{a, b, c\\}$) is defined.  The last line (`ctx`) is here so that IPython displays what this variable contains."
     ]
    },
    {
     "cell_type": "code",
     "collapsed": false,
     "input": [
      "import vcsn\n",
      "ctx = vcsn.context(\"lal_char(abc)_b\")\n",
      "ctx"
     ],
     "language": "python",
     "metadata": {},
     "outputs": [
      {
       "latex": [
        "$\\{a, b, c\\}\\rightarrow\\mathbb{B}$"
       ],
       "metadata": {},
       "output_type": "pyout",
       "prompt_number": 1,
       "text": [
        "lal_char(abc)_b"
       ]
      }
     ],
     "prompt_number": 1
    },
    {
     "cell_type": "markdown",
     "metadata": {},
     "source": [
      "This object, the context, defines the types of the various entities.  To build a rational expression on this alphabet, use `ctx.ratexp` as follows:"
     ]
    },
    {
     "cell_type": "code",
     "collapsed": false,
     "input": [
      "r1 = ctx.ratexp(\"ab*\")\n",
      "r1"
     ],
     "language": "python",
     "metadata": {},
     "outputs": [
      {
       "latex": [
        "$a \\, {b}^{*}$"
       ],
       "metadata": {},
       "output_type": "pyout",
       "prompt_number": 2,
       "text": [
        "ab*"
       ]
      }
     ],
     "prompt_number": 2
    },
    {
     "cell_type": "markdown",
     "metadata": {},
     "source": [
      "The syntax for rational expressions is as follows (with increasing precedence):\n",
      "- `\\z` denotes the empty language\n",
      "- `\\e` denotes the language of the empty word\n",
      "- `a` denotes the language of the word `a`\n",
      "- `e+f` denotes the union of the languages of `e` and `f` (note the use of `+`, `|` is not accepted)\n",
      "- `ef` denotes the concatenation of the languages of `e` and `f`\n",
      "- `e*` denotes the Kleene closure of the language of `e`"
     ]
    },
    {
     "cell_type": "markdown",
     "metadata": {},
     "source": [
      "So for instance `r1` denotes the words starting with a single `a` followed by any number of `b`s."
     ]
    },
    {
     "cell_type": "markdown",
     "metadata": {},
     "source": [
      "Rational expressions are objects that feature methods.  One such method is `shortest(number)` that lists the `number` first (in shortlex order) words of the language defined by the rational expresion:"
     ]
    },
    {
     "cell_type": "code",
     "collapsed": false,
     "input": [
      "r1.shortest(10)"
     ],
     "language": "python",
     "metadata": {},
     "outputs": [
      {
       "latex": [
        "$a \\oplus ab \\oplus abb \\oplus abbb \\oplus abbbb \\oplus abbbbb \\oplus abbbbbb \\oplus abbbbbbb \\oplus abbbbbbbb \\oplus abbbbbbbbb$"
       ],
       "metadata": {},
       "output_type": "pyout",
       "prompt_number": 3,
       "text": [
        "a + ab + abb + abbb + abbbb + abbbbb + abbbbbb + abbbbbbb + abbbbbbbb + abbbbbbbbb"
       ]
      }
     ],
     "prompt_number": 3
    },
    {
     "cell_type": "markdown",
     "metadata": {},
     "source": [
      "You may compose rational expressions using Python operators such as `+` for sum, `*` for multiplication (concatenation):"
     ]
    },
    {
     "cell_type": "code",
     "collapsed": false,
     "input": [
      "r1 + r1 * r1"
     ],
     "language": "python",
     "metadata": {},
     "outputs": [
      {
       "latex": [
        "$a \\, {b}^{*} + a \\, {b}^{*} \\, a \\, {b}^{*}$"
       ],
       "metadata": {},
       "output_type": "pyout",
       "prompt_number": 4,
       "text": [
        "ab*+ab*ab*"
       ]
      }
     ],
     "prompt_number": 4
    },
    {
     "cell_type": "markdown",
     "metadata": {},
     "source": [
      "Vaucanson features different means to build an automaton from a rational expression.  The `ratexp.standard()` method builds the \"standard autamaton\", also known as the \"position automaton\", or the \"Glushkov automaton\":"
     ]
    },
    {
     "cell_type": "code",
     "collapsed": false,
     "input": [
      "r1.standard()"
     ],
     "language": "python",
     "metadata": {},
     "outputs": [
      {
       "metadata": {},
       "output_type": "pyout",
       "prompt_number": 5,
       "svg": [
        "<?xml version=\"1.0\" encoding=\"UTF-8\" standalone=\"no\"?>\n",
        "<!DOCTYPE svg PUBLIC \"-//W3C//DTD SVG 1.1//EN\"\n",
        " \"http://www.w3.org/Graphics/SVG/1.1/DTD/svg11.dtd\">\n",
        "<!-- Generated by graphviz version 2.38.0 (20140413.2041)\n",
        " -->\n",
        "<!-- Title: %3 Pages: 1 -->\n",
        "<svg width=\"277pt\" height=\"95pt\"\n",
        " viewBox=\"0.00 0.00 277.00 95.00\" xmlns=\"http://www.w3.org/2000/svg\" xmlns:xlink=\"http://www.w3.org/1999/xlink\">\n",
        "<g id=\"graph0\" class=\"graph\" transform=\"scale(1 1) rotate(0) translate(4 91)\">\n",
        "<title>%3</title>\n",
        "<polygon fill=\"white\" stroke=\"none\" points=\"-4,4 -4,-91 273,-91 273,4 -4,4\"/>\n",
        "<!-- I0 -->\n",
        "<g id=\"node1\" class=\"node\"><title>I0</title>\n",
        "<ellipse fill=\"#98f5ff\" stroke=\"black\" cx=\"0\" cy=\"-62\" rx=\"0\" ry=\"0\"/>\n",
        "</g>\n",
        "<!-- 0 -->\n",
        "<g id=\"node4\" class=\"node\"><title>0</title>\n",
        "<ellipse fill=\"#98f5ff\" stroke=\"black\" cx=\"55\" cy=\"-62\" rx=\"18\" ry=\"18\"/>\n",
        "<text text-anchor=\"middle\" x=\"55\" y=\"-58.3\" font-family=\"Times,serif\" font-size=\"14.00\">0</text>\n",
        "</g>\n",
        "<!-- I0&#45;&gt;0 -->\n",
        "<g id=\"edge1\" class=\"edge\"><title>I0&#45;&gt;0</title>\n",
        "<path fill=\"none\" stroke=\"black\" d=\"M1.152,-62C2.7948,-62 17.459,-62 30.924,-62\"/>\n",
        "<polygon fill=\"black\" stroke=\"black\" points=\"36.975,-62 30.975,-64.7001 33.975,-62 30.975,-62.0001 30.975,-62.0001 30.975,-62.0001 33.975,-62 30.975,-59.3001 36.975,-62 36.975,-62\"/>\n",
        "</g>\n",
        "<!-- F1 -->\n",
        "<g id=\"node2\" class=\"node\"><title>F1</title>\n",
        "<ellipse fill=\"#98f5ff\" stroke=\"black\" cx=\"214\" cy=\"-87\" rx=\"0\" ry=\"0\"/>\n",
        "</g>\n",
        "<!-- F3 -->\n",
        "<g id=\"node3\" class=\"node\"><title>F3</title>\n",
        "<ellipse fill=\"#98f5ff\" stroke=\"black\" cx=\"269\" cy=\"-18\" rx=\"0\" ry=\"0\"/>\n",
        "</g>\n",
        "<!-- 1 -->\n",
        "<g id=\"node5\" class=\"node\"><title>1</title>\n",
        "<ellipse fill=\"#98f5ff\" stroke=\"black\" cx=\"134\" cy=\"-62\" rx=\"18\" ry=\"18\"/>\n",
        "<text text-anchor=\"middle\" x=\"134\" y=\"-58.3\" font-family=\"Times,serif\" font-size=\"14.00\">1</text>\n",
        "</g>\n",
        "<!-- 0&#45;&gt;1 -->\n",
        "<g id=\"edge2\" class=\"edge\"><title>0&#45;&gt;1</title>\n",
        "<path fill=\"none\" stroke=\"black\" d=\"M73.089,-62C83.855,-62 97.897,-62 109.68,-62\"/>\n",
        "<polygon fill=\"black\" stroke=\"black\" points=\"115.96,-62 109.96,-64.7001 112.96,-62 109.96,-62.0001 109.96,-62.0001 109.96,-62.0001 112.96,-62 109.96,-59.3001 115.96,-62 115.96,-62\"/>\n",
        "<text text-anchor=\"middle\" x=\"94.5\" y=\"-65.8\" font-family=\"Times,serif\" font-size=\"14.00\">a</text>\n",
        "</g>\n",
        "<!-- 1&#45;&gt;F1 -->\n",
        "<g id=\"edge3\" class=\"edge\"><title>1&#45;&gt;F1</title>\n",
        "<path fill=\"none\" stroke=\"black\" d=\"M151.359,-67.4246C169.166,-72.9894 195.9,-81.3437 207.848,-85.0776\"/>\n",
        "<polygon fill=\"black\" stroke=\"black\" points=\"213.887,-86.9647 207.355,-87.7521 211.024,-86.0699 208.16,-85.175 208.16,-85.175 208.16,-85.175 211.024,-86.0699 208.966,-82.5979 213.887,-86.9647 213.887,-86.9647\"/>\n",
        "</g>\n",
        "<!-- 3 -->\n",
        "<g id=\"node6\" class=\"node\"><title>3</title>\n",
        "<ellipse fill=\"#98f5ff\" stroke=\"black\" cx=\"214\" cy=\"-18\" rx=\"18\" ry=\"18\"/>\n",
        "<text text-anchor=\"middle\" x=\"214\" y=\"-14.3\" font-family=\"Times,serif\" font-size=\"14.00\">3</text>\n",
        "</g>\n",
        "<!-- 1&#45;&gt;3 -->\n",
        "<g id=\"edge4\" class=\"edge\"><title>1&#45;&gt;3</title>\n",
        "<path fill=\"none\" stroke=\"black\" d=\"M150.04,-53.516C162.12,-46.699 179.22,-37.054 192.55,-29.535\"/>\n",
        "<polygon fill=\"black\" stroke=\"black\" points=\"198.01,-26.458 194.108,-31.756 195.396,-27.9309 192.783,-29.4038 192.783,-29.4038 192.783,-29.4038 195.396,-27.9309 191.457,-27.0516 198.01,-26.458 198.01,-26.458\"/>\n",
        "<text text-anchor=\"middle\" x=\"174\" y=\"-44.8\" font-family=\"Times,serif\" font-size=\"14.00\">b</text>\n",
        "</g>\n",
        "<!-- 3&#45;&gt;F3 -->\n",
        "<g id=\"edge5\" class=\"edge\"><title>3&#45;&gt;F3</title>\n",
        "<path fill=\"none\" stroke=\"black\" d=\"M232.009,-18C242.571,-18 255.261,-18 262.698,-18\"/>\n",
        "<polygon fill=\"black\" stroke=\"black\" points=\"268.939,-18 262.939,-20.7001 265.939,-18 262.939,-18.0001 262.939,-18.0001 262.939,-18.0001 265.939,-18 262.939,-15.3001 268.939,-18 268.939,-18\"/>\n",
        "</g>\n",
        "<!-- 3&#45;&gt;3 -->\n",
        "<g id=\"edge6\" class=\"edge\"><title>3&#45;&gt;3</title>\n",
        "<path fill=\"none\" stroke=\"black\" d=\"M207.62,-35.037C206.32,-44.858 208.45,-54 214,-54 218.34,-54 220.59,-48.42 220.74,-41.296\"/>\n",
        "<polygon fill=\"black\" stroke=\"black\" points=\"220.38,-35.037 223.42,-40.872 220.552,-38.0321 220.725,-41.0271 220.725,-41.0271 220.725,-41.0271 220.552,-38.0321 218.029,-41.1822 220.38,-35.037 220.38,-35.037\"/>\n",
        "<text text-anchor=\"middle\" x=\"214\" y=\"-57.8\" font-family=\"Times,serif\" font-size=\"14.00\">b</text>\n",
        "</g>\n",
        "</g>\n",
        "</svg>\n"
       ],
       "text": [
        "mutable_automaton<lal_char(abc)_b>"
       ]
      }
     ],
     "prompt_number": 5
    },
    {
     "cell_type": "markdown",
     "metadata": {},
     "source": [
      "When it comes to displaying automata as graphs, there are several \"traditions\".  In Vaucanson, initial states are denoted by an entering arrow, and final (or \"accepting\") states are denoted by an exiting arrow.  This automaton has one initial state, and two final states.\n",
      "\n",
      "The `ratexp.derived_term()` method builds the \"derived-term automaton\", aka, the Antimirov automaton."
     ]
    },
    {
     "cell_type": "code",
     "collapsed": false,
     "input": [
      "a1 = r1.derived_term()\n",
      "a1"
     ],
     "language": "python",
     "metadata": {},
     "outputs": [
      {
       "metadata": {},
       "output_type": "pyout",
       "prompt_number": 6,
       "svg": [
        "<?xml version=\"1.0\" encoding=\"UTF-8\" standalone=\"no\"?>\n",
        "<!DOCTYPE svg PUBLIC \"-//W3C//DTD SVG 1.1//EN\"\n",
        " \"http://www.w3.org/Graphics/SVG/1.1/DTD/svg11.dtd\">\n",
        "<!-- Generated by graphviz version 2.38.0 (20140413.2041)\n",
        " -->\n",
        "<!-- Title: %3 Pages: 1 -->\n",
        "<svg width=\"199pt\" height=\"77pt\"\n",
        " viewBox=\"0.00 0.00 199.00 77.00\" xmlns=\"http://www.w3.org/2000/svg\" xmlns:xlink=\"http://www.w3.org/1999/xlink\">\n",
        "<g id=\"graph0\" class=\"graph\" transform=\"scale(1 1) rotate(0) translate(4 73)\">\n",
        "<title>%3</title>\n",
        "<polygon fill=\"white\" stroke=\"none\" points=\"-4,4 -4,-73 195,-73 195,4 -4,4\"/>\n",
        "<!-- I0 -->\n",
        "<g id=\"node1\" class=\"node\"><title>I0</title>\n",
        "<ellipse fill=\"#98f5ff\" stroke=\"black\" cx=\"0\" cy=\"-18\" rx=\"0\" ry=\"0\"/>\n",
        "</g>\n",
        "<!-- 0 -->\n",
        "<g id=\"node3\" class=\"node\"><title>0</title>\n",
        "<path fill=\"#98f5ff\" stroke=\"black\" d=\"M63,-36C63,-36 49,-36 49,-36 43,-36 37,-30 37,-24 37,-24 37,-12 37,-12 37,-6 43,-0 49,-0 49,-0 63,-0 63,-0 69,-0 75,-6 75,-12 75,-12 75,-24 75,-24 75,-30 69,-36 63,-36\"/>\n",
        "<text text-anchor=\"middle\" x=\"56\" y=\"-14.3\" font-family=\"Times,serif\" font-size=\"14.00\">ab*</text>\n",
        "</g>\n",
        "<!-- I0&#45;&gt;0 -->\n",
        "<g id=\"edge1\" class=\"edge\"><title>I0&#45;&gt;0</title>\n",
        "<path fill=\"none\" stroke=\"black\" d=\"M1.1549,-18C2.7965,-18 17.2,-18 30.696,-18\"/>\n",
        "<polygon fill=\"black\" stroke=\"black\" points=\"36.784,-18 30.784,-20.7001 33.784,-18 30.784,-18.0001 30.784,-18.0001 30.784,-18.0001 33.784,-18 30.784,-15.3001 36.784,-18 36.784,-18\"/>\n",
        "</g>\n",
        "<!-- F1 -->\n",
        "<g id=\"node2\" class=\"node\"><title>F1</title>\n",
        "<ellipse fill=\"#98f5ff\" stroke=\"black\" cx=\"191\" cy=\"-18\" rx=\"0\" ry=\"0\"/>\n",
        "</g>\n",
        "<!-- 1 -->\n",
        "<g id=\"node4\" class=\"node\"><title>1</title>\n",
        "<path fill=\"#98f5ff\" stroke=\"black\" d=\"M142,-36C142,-36 130,-36 130,-36 124,-36 118,-30 118,-24 118,-24 118,-12 118,-12 118,-6 124,-0 130,-0 130,-0 142,-0 142,-0 148,-0 154,-6 154,-12 154,-12 154,-24 154,-24 154,-30 148,-36 142,-36\"/>\n",
        "<text text-anchor=\"middle\" x=\"136\" y=\"-14.3\" font-family=\"Times,serif\" font-size=\"14.00\">b*</text>\n",
        "</g>\n",
        "<!-- 0&#45;&gt;1 -->\n",
        "<g id=\"edge2\" class=\"edge\"><title>0&#45;&gt;1</title>\n",
        "<path fill=\"none\" stroke=\"black\" d=\"M75.091,-18C85.951,-18 99.882,-18 111.58,-18\"/>\n",
        "<polygon fill=\"black\" stroke=\"black\" points=\"117.81,-18 111.81,-20.7001 114.81,-18 111.81,-18.0001 111.81,-18.0001 111.81,-18.0001 114.81,-18 111.81,-15.3001 117.81,-18 117.81,-18\"/>\n",
        "<text text-anchor=\"middle\" x=\"96.5\" y=\"-21.8\" font-family=\"Times,serif\" font-size=\"14.00\">a</text>\n",
        "</g>\n",
        "<!-- 1&#45;&gt;F1 -->\n",
        "<g id=\"edge3\" class=\"edge\"><title>1&#45;&gt;F1</title>\n",
        "<path fill=\"none\" stroke=\"black\" d=\"M154.009,-18C164.571,-18 177.261,-18 184.698,-18\"/>\n",
        "<polygon fill=\"black\" stroke=\"black\" points=\"190.939,-18 184.939,-20.7001 187.939,-18 184.939,-18.0001 184.939,-18.0001 184.939,-18.0001 187.939,-18 184.939,-15.3001 190.939,-18 190.939,-18\"/>\n",
        "</g>\n",
        "<!-- 1&#45;&gt;1 -->\n",
        "<g id=\"edge4\" class=\"edge\"><title>1&#45;&gt;1</title>\n",
        "<path fill=\"none\" stroke=\"black\" d=\"M129.49,-36.153C128.49,-45.539 130.66,-54 136,-54 140.09,-54 142.32,-49.04 142.69,-42.503\"/>\n",
        "<polygon fill=\"black\" stroke=\"black\" points=\"142.51,-36.153 145.379,-42.074 142.595,-39.1518 142.68,-42.1506 142.68,-42.1506 142.68,-42.1506 142.595,-39.1518 139.981,-42.2271 142.51,-36.153 142.51,-36.153\"/>\n",
        "<text text-anchor=\"middle\" x=\"136\" y=\"-57.8\" font-family=\"Times,serif\" font-size=\"14.00\">b</text>\n",
        "</g>\n",
        "</g>\n",
        "</svg>\n"
       ],
       "text": [
        "ratexp_automaton<mutable_automaton<lal_char(abc)_b>>"
       ]
      }
     ],
     "prompt_number": 6
    },
    {
     "cell_type": "markdown",
     "metadata": {},
     "source": [
      "Python operators that are accepted by rational expressions are also accepted by automata, with matching semantics."
     ]
    },
    {
     "cell_type": "code",
     "collapsed": false,
     "input": [
      "a2 = (r1 + r1*r1).derived_term()\n",
      "a2"
     ],
     "language": "python",
     "metadata": {},
     "outputs": [
      {
       "metadata": {},
       "output_type": "pyout",
       "prompt_number": 7,
       "svg": [
        "<?xml version=\"1.0\" encoding=\"UTF-8\" standalone=\"no\"?>\n",
        "<!DOCTYPE svg PUBLIC \"-//W3C//DTD SVG 1.1//EN\"\n",
        " \"http://www.w3.org/Graphics/SVG/1.1/DTD/svg11.dtd\">\n",
        "<!-- Generated by graphviz version 2.38.0 (20140413.2041)\n",
        " -->\n",
        "<!-- Title: %3 Pages: 1 -->\n",
        "<svg width=\"344pt\" height=\"135pt\"\n",
        " viewBox=\"0.00 0.00 344.00 135.00\" xmlns=\"http://www.w3.org/2000/svg\" xmlns:xlink=\"http://www.w3.org/1999/xlink\">\n",
        "<g id=\"graph0\" class=\"graph\" transform=\"scale(1 1) rotate(0) translate(4 131)\">\n",
        "<title>%3</title>\n",
        "<polygon fill=\"white\" stroke=\"none\" points=\"-4,4 -4,-131 340,-131 340,4 -4,4\"/>\n",
        "<!-- I0 -->\n",
        "<g id=\"node1\" class=\"node\"><title>I0</title>\n",
        "<ellipse fill=\"#98f5ff\" stroke=\"black\" cx=\"0\" cy=\"-76\" rx=\"0\" ry=\"0\"/>\n",
        "</g>\n",
        "<!-- 0 -->\n",
        "<g id=\"node3\" class=\"node\"><title>0</title>\n",
        "<path fill=\"#98f5ff\" stroke=\"black\" d=\"M112,-94C112,-94 49,-94 49,-94 43,-94 37,-88 37,-82 37,-82 37,-70 37,-70 37,-64 43,-58 49,-58 49,-58 112,-58 112,-58 118,-58 124,-64 124,-70 124,-70 124,-82 124,-82 124,-88 118,-94 112,-94\"/>\n",
        "<text text-anchor=\"middle\" x=\"80.5\" y=\"-72.3\" font-family=\"Times,serif\" font-size=\"14.00\">ab*+ab*ab*</text>\n",
        "</g>\n",
        "<!-- I0&#45;&gt;0 -->\n",
        "<g id=\"edge1\" class=\"edge\"><title>I0&#45;&gt;0</title>\n",
        "<path fill=\"none\" stroke=\"black\" d=\"M1.0569,-76C2.0242,-76 15.193,-76 30.474,-76\"/>\n",
        "<polygon fill=\"black\" stroke=\"black\" points=\"36.647,-76 30.647,-78.7001 33.647,-76 30.647,-76.0001 30.647,-76.0001 30.647,-76.0001 33.647,-76 30.647,-73.3001 36.647,-76 36.647,-76\"/>\n",
        "</g>\n",
        "<!-- F1 -->\n",
        "<g id=\"node2\" class=\"node\"><title>F1</title>\n",
        "<ellipse fill=\"#98f5ff\" stroke=\"black\" cx=\"336\" cy=\"-76\" rx=\"0\" ry=\"0\"/>\n",
        "</g>\n",
        "<!-- 1 -->\n",
        "<g id=\"node4\" class=\"node\"><title>1</title>\n",
        "<path fill=\"#98f5ff\" stroke=\"black\" d=\"M287,-94C287,-94 275,-94 275,-94 269,-94 263,-88 263,-82 263,-82 263,-70 263,-70 263,-64 269,-58 275,-58 275,-58 287,-58 287,-58 293,-58 299,-64 299,-70 299,-70 299,-82 299,-82 299,-88 293,-94 287,-94\"/>\n",
        "<text text-anchor=\"middle\" x=\"281\" y=\"-72.3\" font-family=\"Times,serif\" font-size=\"14.00\">b*</text>\n",
        "</g>\n",
        "<!-- 0&#45;&gt;1 -->\n",
        "<g id=\"edge2\" class=\"edge\"><title>0&#45;&gt;1</title>\n",
        "<path fill=\"none\" stroke=\"black\" d=\"M124.24,-77.303C151.62,-77.968 187.9,-78.535 220,-78 232.11,-77.798 245.59,-77.368 256.7,-76.957\"/>\n",
        "<polygon fill=\"black\" stroke=\"black\" points=\"262.93,-76.72 257.037,-79.6462 259.932,-76.8341 256.934,-76.9482 256.934,-76.9482 256.934,-76.9482 259.932,-76.8341 256.832,-74.2501 262.93,-76.72 262.93,-76.72\"/>\n",
        "<text text-anchor=\"middle\" x=\"193.5\" y=\"-81.8\" font-family=\"Times,serif\" font-size=\"14.00\">a</text>\n",
        "</g>\n",
        "<!-- 2 -->\n",
        "<g id=\"node5\" class=\"node\"><title>2</title>\n",
        "<path fill=\"#98f5ff\" stroke=\"black\" d=\"M208,-36C208,-36 179,-36 179,-36 173,-36 167,-30 167,-24 167,-24 167,-12 167,-12 167,-6 173,-0 179,-0 179,-0 208,-0 208,-0 214,-0 220,-6 220,-12 220,-12 220,-24 220,-24 220,-30 214,-36 208,-36\"/>\n",
        "<text text-anchor=\"middle\" x=\"193.5\" y=\"-14.3\" font-family=\"Times,serif\" font-size=\"14.00\">b*ab*</text>\n",
        "</g>\n",
        "<!-- 0&#45;&gt;2 -->\n",
        "<g id=\"edge3\" class=\"edge\"><title>0&#45;&gt;2</title>\n",
        "<path fill=\"none\" stroke=\"black\" d=\"M116.01,-57.966C130.51,-50.392 147.24,-41.648 161.36,-34.273\"/>\n",
        "<polygon fill=\"black\" stroke=\"black\" points=\"166.83,-31.415 162.762,-36.5866 164.171,-32.8043 161.512,-34.1936 161.512,-34.1936 161.512,-34.1936 164.171,-32.8043 160.262,-31.8005 166.83,-31.415 166.83,-31.415\"/>\n",
        "<text text-anchor=\"middle\" x=\"145.5\" y=\"-46.8\" font-family=\"Times,serif\" font-size=\"14.00\">a</text>\n",
        "</g>\n",
        "<!-- 1&#45;&gt;F1 -->\n",
        "<g id=\"edge4\" class=\"edge\"><title>1&#45;&gt;F1</title>\n",
        "<path fill=\"none\" stroke=\"black\" d=\"M299.009,-76C309.571,-76 322.261,-76 329.698,-76\"/>\n",
        "<polygon fill=\"black\" stroke=\"black\" points=\"335.939,-76 329.939,-78.7001 332.939,-76 329.939,-76.0001 329.939,-76.0001 329.939,-76.0001 332.939,-76 329.939,-73.3001 335.939,-76 335.939,-76\"/>\n",
        "</g>\n",
        "<!-- 1&#45;&gt;1 -->\n",
        "<g id=\"edge5\" class=\"edge\"><title>1&#45;&gt;1</title>\n",
        "<path fill=\"none\" stroke=\"black\" d=\"M274.49,-94.153C273.49,-103.54 275.66,-112 281,-112 285.09,-112 287.32,-107.04 287.69,-100.5\"/>\n",
        "<polygon fill=\"black\" stroke=\"black\" points=\"287.51,-94.153 290.379,-100.074 287.595,-97.1518 287.68,-100.151 287.68,-100.151 287.68,-100.151 287.595,-97.1518 284.981,-100.227 287.51,-94.153 287.51,-94.153\"/>\n",
        "<text text-anchor=\"middle\" x=\"281\" y=\"-115.8\" font-family=\"Times,serif\" font-size=\"14.00\">b</text>\n",
        "</g>\n",
        "<!-- 2&#45;&gt;1 -->\n",
        "<g id=\"edge6\" class=\"edge\"><title>2&#45;&gt;1</title>\n",
        "<path fill=\"none\" stroke=\"black\" d=\"M220.15,-35.402C232.1,-43.504 246.17,-53.052 257.67,-60.853\"/>\n",
        "<polygon fill=\"black\" stroke=\"black\" points=\"262.76,-64.302 256.278,-63.1714 260.276,-62.6191 257.793,-60.9362 257.793,-60.9362 257.793,-60.9362 260.276,-62.6191 259.307,-58.701 262.76,-64.302 262.76,-64.302\"/>\n",
        "<text text-anchor=\"middle\" x=\"241.5\" y=\"-55.8\" font-family=\"Times,serif\" font-size=\"14.00\">a</text>\n",
        "</g>\n",
        "<!-- 2&#45;&gt;2 -->\n",
        "<g id=\"edge7\" class=\"edge\"><title>2&#45;&gt;2</title>\n",
        "<path fill=\"none\" stroke=\"black\" d=\"M184.82,-36.153C183.48,-45.539 186.38,-54 193.5,-54 198.96,-54 201.93,-49.04 202.43,-42.503\"/>\n",
        "<polygon fill=\"black\" stroke=\"black\" points=\"202.18,-36.153 205.114,-42.0421 202.298,-39.1507 202.416,-42.1484 202.416,-42.1484 202.416,-42.1484 202.298,-39.1507 199.718,-42.2546 202.18,-36.153 202.18,-36.153\"/>\n",
        "<text text-anchor=\"middle\" x=\"193.5\" y=\"-57.8\" font-family=\"Times,serif\" font-size=\"14.00\">b</text>\n",
        "</g>\n",
        "</g>\n",
        "</svg>\n"
       ],
       "text": [
        "ratexp_automaton<mutable_automaton<lal_char(abc)_b>>"
       ]
      }
     ],
     "prompt_number": 7
    },
    {
     "cell_type": "code",
     "collapsed": false,
     "input": [
      "a3 = a1 + a1 * a1\n",
      "a3"
     ],
     "language": "python",
     "metadata": {},
     "outputs": [
      {
       "ename": "RuntimeError",
       "evalue": "cannot run: ccache clang++-mp-3.5  -Qunused-arguments -O3 -g -std=c++11 -fPIC -I /Users/akim/src/lrde/vaucanson2/_build/35s -I /Users/akim/src/lrde/vaucanson2  -DNDEBUG -isystem /opt/local/include '/Users/akim/src/lrde/vaucanson2/_build/35s/lib/plugins/algos/sum/ratexp_automaton<mutable_automaton<lal_char_b>>, mutable_automaton<lal_char_b>.cc' -c -o '/Users/akim/src/lrde/vaucanson2/_build/35s/lib/plugins/algos/sum/ratexp_automaton<mutable_automaton<lal_char_b>>, mutable_automaton<lal_char_b>.97908.o'",
       "output_type": "pyerr",
       "traceback": [
        "\u001b[0;31m---------------------------------------------------------------------------\u001b[0m\n\u001b[0;31mRuntimeError\u001b[0m                              Traceback (most recent call last)",
        "\u001b[0;32m<ipython-input-8-e54041e96be6>\u001b[0m in \u001b[0;36m<module>\u001b[0;34m()\u001b[0m\n\u001b[0;32m----> 1\u001b[0;31m \u001b[0ma3\u001b[0m \u001b[0;34m=\u001b[0m \u001b[0ma1\u001b[0m \u001b[0;34m+\u001b[0m \u001b[0ma1\u001b[0m \u001b[0;34m*\u001b[0m \u001b[0ma1\u001b[0m\u001b[0;34m\u001b[0m\u001b[0m\n\u001b[0m\u001b[1;32m      2\u001b[0m \u001b[0ma3\u001b[0m\u001b[0;34m\u001b[0m\u001b[0m\n",
        "\u001b[0;31mRuntimeError\u001b[0m: cannot run: ccache clang++-mp-3.5  -Qunused-arguments -O3 -g -std=c++11 -fPIC -I /Users/akim/src/lrde/vaucanson2/_build/35s -I /Users/akim/src/lrde/vaucanson2  -DNDEBUG -isystem /opt/local/include '/Users/akim/src/lrde/vaucanson2/_build/35s/lib/plugins/algos/sum/ratexp_automaton<mutable_automaton<lal_char_b>>, mutable_automaton<lal_char_b>.cc' -c -o '/Users/akim/src/lrde/vaucanson2/_build/35s/lib/plugins/algos/sum/ratexp_automaton<mutable_automaton<lal_char_b>>, mutable_automaton<lal_char_b>.97908.o'"
       ]
      }
     ],
     "prompt_number": 8
    },
    {
     "cell_type": "markdown",
     "metadata": {},
     "source": [
      "Well, those two automata are not equal (or more rigorously \"isomorphic\"), but they are equivalent:"
     ]
    },
    {
     "cell_type": "code",
     "collapsed": false,
     "input": [
      "a2.is_equivalent(a3)"
     ],
     "language": "python",
     "metadata": {},
     "outputs": []
    },
    {
     "cell_type": "markdown",
     "metadata": {},
     "source": [
      "All the classical algorithms about automata are implemented:"
     ]
    },
    {
     "cell_type": "code",
     "collapsed": false,
     "input": [
      "a3"
     ],
     "language": "python",
     "metadata": {},
     "outputs": []
    },
    {
     "cell_type": "code",
     "collapsed": false,
     "input": [
      "a3.determinize()"
     ],
     "language": "python",
     "metadata": {},
     "outputs": []
    },
    {
     "cell_type": "markdown",
     "metadata": {},
     "source": [
      "The states of this automaton are decorated with metadata: the corresponding set of states of the input automaton.  Use `strip` to remove this decoaration."
     ]
    },
    {
     "cell_type": "code",
     "collapsed": false,
     "input": [
      "a3.determinize().strip().complete()"
     ],
     "language": "python",
     "metadata": {},
     "outputs": []
    },
    {
     "cell_type": "markdown",
     "metadata": {},
     "source": [
      "Note that useless states and transitions are gray."
     ]
    },
    {
     "cell_type": "markdown",
     "metadata": {},
     "source": [
      "To evaluate a word on an automaton, use `eval()`:"
     ]
    },
    {
     "cell_type": "code",
     "collapsed": false,
     "input": [
      "a3.eval(\"a\")"
     ],
     "language": "python",
     "metadata": {},
     "outputs": []
    },
    {
     "cell_type": "code",
     "collapsed": false,
     "input": [
      "a3.eval(\"b\")"
     ],
     "language": "python",
     "metadata": {},
     "outputs": []
    },
    {
     "cell_type": "markdown",
     "metadata": {},
     "source": [
      "To see the 10 first accepted words (if there are that many), use `shortest(10)`:"
     ]
    },
    {
     "cell_type": "code",
     "collapsed": false,
     "input": [
      "a3.shortest(10)"
     ],
     "language": "python",
     "metadata": {},
     "outputs": []
    },
    {
     "cell_type": "markdown",
     "metadata": {},
     "source": [
      "To extract a rational expression from the automaton, use `ratexp()`:"
     ]
    },
    {
     "cell_type": "code",
     "collapsed": false,
     "input": [
      "a3.ratexp()"
     ],
     "language": "python",
     "metadata": {},
     "outputs": []
    },
    {
     "cell_type": "markdown",
     "metadata": {},
     "source": [
      "Voil\u00e0 !  You may now proceed to discover other features in other notebooks.  Bon voyage !"
     ]
    }
   ],
   "metadata": {}
  }
 ]
}