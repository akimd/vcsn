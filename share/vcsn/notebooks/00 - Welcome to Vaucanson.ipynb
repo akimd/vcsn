{
 "metadata": {
  "name": "",
  "signature": "sha256:89c2c69f0519bced69aa3952a526f276bd34470e8aafd6e34e94e24f97b27f70"
 },
 "nbformat": 3,
 "nbformat_minor": 0,
 "worksheets": [
  {
   "cells": [
    {
     "cell_type": "heading",
     "level": 1,
     "metadata": {},
     "source": [
      "Welcome to Vaucanson"
     ]
    },
    {
     "cell_type": "code",
     "collapsed": false,
     "input": [],
     "language": "python",
     "metadata": {},
     "outputs": []
    },
    {
     "cell_type": "heading",
     "level": 2,
     "metadata": {},
     "source": [
      "Quick Start"
     ]
    },
    {
     "cell_type": "markdown",
     "metadata": {},
     "source": [
      "Import Vaucanson, and define the \"context\" in which you want to work.  Do not worry about the (ugly!) syntax, just see where the alphabet (the set of letters, $\\{a, b, c\\}$) is defined."
     ]
    },
    {
     "cell_type": "code",
     "collapsed": false,
     "input": [
      "import vcsn\n",
      "ctx = vcsn.context(\"lal_char(abc)_b\")\n",
      "ctx"
     ],
     "language": "python",
     "metadata": {},
     "outputs": [
      {
       "latex": [
        "$\\{a, b, c\\}\\rightarrow\\mathbb{B}$"
       ],
       "metadata": {},
       "output_type": "pyout",
       "prompt_number": 1,
       "text": [
        "lal_char(abc)_b"
       ]
      }
     ],
     "prompt_number": 1
    },
    {
     "cell_type": "markdown",
     "metadata": {},
     "source": [
      "This object, the context, defines the types of the various entities.  To build a rational expression on this alphabet, use `ctx.ratexp` as follows:"
     ]
    },
    {
     "cell_type": "code",
     "collapsed": false,
     "input": [
      "r1 = ctx.ratexp(\"ab*\")\n",
      "r1"
     ],
     "language": "python",
     "metadata": {},
     "outputs": [
      {
       "latex": [
        "$a \\, {b}^{*}$"
       ],
       "metadata": {},
       "output_type": "pyout",
       "prompt_number": 7,
       "text": [
        "ab*"
       ]
      }
     ],
     "prompt_number": 7
    },
    {
     "cell_type": "markdown",
     "metadata": {},
     "source": [
      "The syntax for rational expressions is as follows (with increasing precedence):\n",
      "- `\\z` denotes the empty language\n",
      "- `\\e` denotes the language of the empty word\n",
      "- `a` denotes the language of the word `a`\n",
      "- `e+f` denotes the union of the languages of `e` and `f` (note the use of `+`, `|` is not accepted)\n",
      "- `ef` denotes the concatenation of the languages of `e` and `f`\n",
      "- `e*` denotes the Kleene closure of the language of `e`"
     ]
    },
    {
     "cell_type": "markdown",
     "metadata": {},
     "source": [
      "So for instance `r1` denotes the words starting with a single `a` followed by any number of `b`s."
     ]
    },
    {
     "cell_type": "markdown",
     "metadata": {},
     "source": [
      "Rational expressions are objects that feature methods.  One such method is `shortest(number)` that lists the `number` first (in shortlex order) words of the language defined by the rational expresion:"
     ]
    },
    {
     "cell_type": "code",
     "collapsed": false,
     "input": [
      "r1.shortest(10)"
     ],
     "language": "python",
     "metadata": {},
     "outputs": [
      {
       "latex": [
        "$a + ab + abb + abbb + abbbb + abbbbb + abbbbbb + abbbbbbb + abbbbbbbb + abbbbbbbbb$"
       ],
       "metadata": {},
       "output_type": "pyout",
       "prompt_number": 8,
       "text": [
        "a + ab + abb + abbb + abbbb + abbbbb + abbbbbb + abbbbbbb + abbbbbbbb + abbbbbbbbb"
       ]
      }
     ],
     "prompt_number": 8
    },
    {
     "cell_type": "markdown",
     "metadata": {},
     "source": [
      "You may compose rational expressions using Python operators such as `+` for sum, `*` for multiplication (concatenation):"
     ]
    },
    {
     "cell_type": "code",
     "collapsed": false,
     "input": [
      "r1 + r1 * r1"
     ],
     "language": "python",
     "metadata": {},
     "outputs": [
      {
       "latex": [
        "$a \\, {b}^{*} + a \\, {b}^{*} \\, a \\, {b}^{*}$"
       ],
       "metadata": {},
       "output_type": "pyout",
       "prompt_number": 9,
       "text": [
        "ab*+ab*ab*"
       ]
      }
     ],
     "prompt_number": 9
    },
    {
     "cell_type": "markdown",
     "metadata": {},
     "source": [
      "Vaucanson features different means to build an automaton from a rational expression.  The `ratexp.standard()` method builds the \"standard autamaton\", also known as the \"position automaton\", or the \"Glushkov automaton\":"
     ]
    },
    {
     "cell_type": "code",
     "collapsed": false,
     "input": [
      "r1.standard()"
     ],
     "language": "python",
     "metadata": {},
     "outputs": [
      {
       "metadata": {},
       "output_type": "pyout",
       "prompt_number": 10,
       "svg": [
        "<?xml version=\"1.0\" encoding=\"UTF-8\" standalone=\"no\"?>\n",
        "<!DOCTYPE svg PUBLIC \"-//W3C//DTD SVG 1.1//EN\"\n",
        " \"http://www.w3.org/Graphics/SVG/1.1/DTD/svg11.dtd\">\n",
        "<!-- Generated by graphviz version 2.38.0 (20140413.2041)\n",
        " -->\n",
        "<!-- Title: %3 Pages: 1 -->\n",
        "<svg width=\"279pt\" height=\"97pt\"\n",
        " viewBox=\"0.00 0.00 279.00 96.50\" xmlns=\"http://www.w3.org/2000/svg\" xmlns:xlink=\"http://www.w3.org/1999/xlink\">\n",
        "<g id=\"graph0\" class=\"graph\" transform=\"scale(1 1) rotate(0) translate(4 92.5)\">\n",
        "<title>%3</title>\n",
        "<polygon fill=\"white\" stroke=\"none\" points=\"-4,4 -4,-92.5 275,-92.5 275,4 -4,4\"/>\n",
        "<!-- I0 -->\n",
        "<!-- 0 -->\n",
        "<g id=\"node4\" class=\"node\"><title>0</title>\n",
        "<ellipse fill=\"none\" stroke=\"black\" cx=\"56\" cy=\"-63\" rx=\"18\" ry=\"18\"/>\n",
        "<text text-anchor=\"middle\" x=\"56\" y=\"-59.3\" font-family=\"Times,serif\" font-size=\"14.00\">0</text>\n",
        "</g>\n",
        "<!-- I0&#45;&gt;0 -->\n",
        "<g id=\"edge1\" class=\"edge\"><title>I0&#45;&gt;0</title>\n",
        "<path fill=\"none\" stroke=\"black\" d=\"M1.15491,-63C2.67247,-63 15.0966,-63 27.6277,-63\"/>\n",
        "<polygon fill=\"black\" stroke=\"black\" points=\"27.9419,-66.5001 37.9419,-63 27.9418,-59.5001 27.9419,-66.5001\"/>\n",
        "</g>\n",
        "<!-- F1 -->\n",
        "<!-- F3 -->\n",
        "<!-- 1 -->\n",
        "<g id=\"node5\" class=\"node\"><title>1</title>\n",
        "<ellipse fill=\"none\" stroke=\"black\" cx=\"135\" cy=\"-63\" rx=\"18\" ry=\"18\"/>\n",
        "<text text-anchor=\"middle\" x=\"135\" y=\"-59.3\" font-family=\"Times,serif\" font-size=\"14.00\">1</text>\n",
        "</g>\n",
        "<!-- 0&#45;&gt;1 -->\n",
        "<g id=\"edge2\" class=\"edge\"><title>0&#45;&gt;1</title>\n",
        "<path fill=\"none\" stroke=\"black\" d=\"M74.0888,-63C83.659,-63 95.8172,-63 106.677,-63\"/>\n",
        "<polygon fill=\"black\" stroke=\"black\" points=\"106.959,-66.5001 116.959,-63 106.959,-59.5001 106.959,-66.5001\"/>\n",
        "<text text-anchor=\"middle\" x=\"95.5\" y=\"-66.8\" font-family=\"Times,serif\" font-size=\"14.00\">a</text>\n",
        "</g>\n",
        "<!-- 1&#45;&gt;F1 -->\n",
        "<g id=\"edge3\" class=\"edge\"><title>1&#45;&gt;F1</title>\n",
        "<path fill=\"none\" stroke=\"black\" d=\"M152.542,-68.3019C168.138,-73.3005 191.002,-80.6288 203.997,-84.7938\"/>\n",
        "<polygon fill=\"black\" stroke=\"black\" points=\"203.298,-88.2451 213.889,-87.9643 205.434,-81.5791 203.298,-88.2451\"/>\n",
        "</g>\n",
        "<!-- 3 -->\n",
        "<g id=\"node6\" class=\"node\"><title>3</title>\n",
        "<ellipse fill=\"none\" stroke=\"black\" cx=\"215\" cy=\"-18\" rx=\"18\" ry=\"18\"/>\n",
        "<text text-anchor=\"middle\" x=\"215\" y=\"-14.3\" font-family=\"Times,serif\" font-size=\"14.00\">3</text>\n",
        "</g>\n",
        "<!-- 1&#45;&gt;3 -->\n",
        "<g id=\"edge4\" class=\"edge\"><title>1&#45;&gt;3</title>\n",
        "<path fill=\"none\" stroke=\"black\" d=\"M151.039,-54.3235C162.154,-47.9114 177.507,-39.0538 190.269,-31.6907\"/>\n",
        "<polygon fill=\"black\" stroke=\"black\" points=\"192.094,-34.6787 199.007,-26.6498 188.596,-28.6154 192.094,-34.6787\"/>\n",
        "<text text-anchor=\"middle\" x=\"175\" y=\"-45.8\" font-family=\"Times,serif\" font-size=\"14.00\">b</text>\n",
        "</g>\n",
        "<!-- 3&#45;&gt;F3 -->\n",
        "<g id=\"edge5\" class=\"edge\"><title>3&#45;&gt;F3</title>\n",
        "<path fill=\"none\" stroke=\"black\" d=\"M233.086,-18C241.827,-18 252.177,-18 259.69,-18\"/>\n",
        "<polygon fill=\"black\" stroke=\"black\" points=\"259.939,-21.5001 269.939,-18 259.939,-14.5001 259.939,-21.5001\"/>\n",
        "</g>\n",
        "<!-- 3&#45;&gt;3 -->\n",
        "<g id=\"edge6\" class=\"edge\"><title>3&#45;&gt;3</title>\n",
        "<path fill=\"none\" stroke=\"black\" d=\"M208.621,-35.0373C207.319,-44.8579 209.445,-54 215,-54 218.472,-54 220.604,-50.4289 221.398,-45.3529\"/>\n",
        "<polygon fill=\"black\" stroke=\"black\" points=\"224.897,-45.031 221.379,-35.0373 217.897,-45.0435 224.897,-45.031\"/>\n",
        "<text text-anchor=\"middle\" x=\"215\" y=\"-57.8\" font-family=\"Times,serif\" font-size=\"14.00\">b</text>\n",
        "</g>\n",
        "</g>\n",
        "</svg>\n"
       ],
       "text": [
        "mutable_automaton<lal_char(abc)_b>"
       ]
      }
     ],
     "prompt_number": 10
    },
    {
     "cell_type": "raw",
     "metadata": {},
     "source": [
      "The `ratexp.derived_termm()` methods builds the \"derived-term automaton\", aka, the Antimirov automaton."
     ]
    },
    {
     "cell_type": "code",
     "collapsed": false,
     "input": [
      "a1 = r1.derived_term()\n",
      "a1"
     ],
     "language": "python",
     "metadata": {},
     "outputs": [
      {
       "metadata": {},
       "output_type": "pyout",
       "prompt_number": 13,
       "svg": [
        "<?xml version=\"1.0\" encoding=\"UTF-8\" standalone=\"no\"?>\n",
        "<!DOCTYPE svg PUBLIC \"-//W3C//DTD SVG 1.1//EN\"\n",
        " \"http://www.w3.org/Graphics/SVG/1.1/DTD/svg11.dtd\">\n",
        "<!-- Generated by graphviz version 2.38.0 (20140413.2041)\n",
        " -->\n",
        "<!-- Title: %3 Pages: 1 -->\n",
        "<svg width=\"199pt\" height=\"77pt\"\n",
        " viewBox=\"0.00 0.00 199.00 77.00\" xmlns=\"http://www.w3.org/2000/svg\" xmlns:xlink=\"http://www.w3.org/1999/xlink\">\n",
        "<g id=\"graph0\" class=\"graph\" transform=\"scale(1 1) rotate(0) translate(4 73)\">\n",
        "<title>%3</title>\n",
        "<polygon fill=\"white\" stroke=\"none\" points=\"-4,4 -4,-73 195,-73 195,4 -4,4\"/>\n",
        "<!-- I0 -->\n",
        "<!-- 0 -->\n",
        "<g id=\"node3\" class=\"node\"><title>0</title>\n",
        "<ellipse fill=\"none\" stroke=\"black\" cx=\"56\" cy=\"-18\" rx=\"18\" ry=\"18\"/>\n",
        "<text text-anchor=\"middle\" x=\"56\" y=\"-14.3\" font-family=\"Times,serif\" font-size=\"14.00\">0</text>\n",
        "</g>\n",
        "<!-- I0&#45;&gt;0 -->\n",
        "<g id=\"edge1\" class=\"edge\"><title>I0&#45;&gt;0</title>\n",
        "<path fill=\"none\" stroke=\"black\" d=\"M1.15491,-18C2.67247,-18 15.0966,-18 27.6277,-18\"/>\n",
        "<polygon fill=\"black\" stroke=\"black\" points=\"27.9419,-21.5001 37.9419,-18 27.9418,-14.5001 27.9419,-21.5001\"/>\n",
        "</g>\n",
        "<!-- F1 -->\n",
        "<!-- 1 -->\n",
        "<g id=\"node4\" class=\"node\"><title>1</title>\n",
        "<ellipse fill=\"none\" stroke=\"black\" cx=\"135\" cy=\"-18\" rx=\"18\" ry=\"18\"/>\n",
        "<text text-anchor=\"middle\" x=\"135\" y=\"-14.3\" font-family=\"Times,serif\" font-size=\"14.00\">1</text>\n",
        "</g>\n",
        "<!-- 0&#45;&gt;1 -->\n",
        "<g id=\"edge2\" class=\"edge\"><title>0&#45;&gt;1</title>\n",
        "<path fill=\"none\" stroke=\"black\" d=\"M74.0888,-18C83.659,-18 95.8172,-18 106.677,-18\"/>\n",
        "<polygon fill=\"black\" stroke=\"black\" points=\"106.959,-21.5001 116.959,-18 106.959,-14.5001 106.959,-21.5001\"/>\n",
        "<text text-anchor=\"middle\" x=\"95.5\" y=\"-21.8\" font-family=\"Times,serif\" font-size=\"14.00\">a</text>\n",
        "</g>\n",
        "<!-- 1&#45;&gt;F1 -->\n",
        "<g id=\"edge3\" class=\"edge\"><title>1&#45;&gt;F1</title>\n",
        "<path fill=\"none\" stroke=\"black\" d=\"M153.086,-18C161.827,-18 172.177,-18 179.69,-18\"/>\n",
        "<polygon fill=\"black\" stroke=\"black\" points=\"179.939,-21.5001 189.939,-18 179.939,-14.5001 179.939,-21.5001\"/>\n",
        "</g>\n",
        "<!-- 1&#45;&gt;1 -->\n",
        "<g id=\"edge4\" class=\"edge\"><title>1&#45;&gt;1</title>\n",
        "<path fill=\"none\" stroke=\"black\" d=\"M128.621,-35.0373C127.319,-44.8579 129.445,-54 135,-54 138.472,-54 140.604,-50.4289 141.398,-45.3529\"/>\n",
        "<polygon fill=\"black\" stroke=\"black\" points=\"144.897,-45.031 141.379,-35.0373 137.897,-45.0435 144.897,-45.031\"/>\n",
        "<text text-anchor=\"middle\" x=\"135\" y=\"-57.8\" font-family=\"Times,serif\" font-size=\"14.00\">b</text>\n",
        "</g>\n",
        "</g>\n",
        "</svg>\n"
       ],
       "text": [
        "mutable_automaton<lal_char(abc)_b>"
       ]
      }
     ],
     "prompt_number": 13
    },
    {
     "cell_type": "markdown",
     "metadata": {},
     "source": [
      "Python operators that are accepted by rational expressions are also accepted by automata, with matching semantics."
     ]
    },
    {
     "cell_type": "code",
     "collapsed": false,
     "input": [
      "(r1 + r1*r1).derived_term()"
     ],
     "language": "python",
     "metadata": {},
     "outputs": [
      {
       "metadata": {},
       "output_type": "pyout",
       "prompt_number": 12,
       "svg": [
        "<?xml version=\"1.0\" encoding=\"UTF-8\" standalone=\"no\"?>\n",
        "<!DOCTYPE svg PUBLIC \"-//W3C//DTD SVG 1.1//EN\"\n",
        " \"http://www.w3.org/Graphics/SVG/1.1/DTD/svg11.dtd\">\n",
        "<!-- Generated by graphviz version 2.38.0 (20140413.2041)\n",
        " -->\n",
        "<!-- Title: %3 Pages: 1 -->\n",
        "<svg width=\"278pt\" height=\"135pt\"\n",
        " viewBox=\"0.00 0.00 278.00 135.00\" xmlns=\"http://www.w3.org/2000/svg\" xmlns:xlink=\"http://www.w3.org/1999/xlink\">\n",
        "<g id=\"graph0\" class=\"graph\" transform=\"scale(1 1) rotate(0) translate(4 131)\">\n",
        "<title>%3</title>\n",
        "<polygon fill=\"white\" stroke=\"none\" points=\"-4,4 -4,-131 274,-131 274,4 -4,4\"/>\n",
        "<!-- I0 -->\n",
        "<!-- 0 -->\n",
        "<g id=\"node3\" class=\"node\"><title>0</title>\n",
        "<ellipse fill=\"none\" stroke=\"black\" cx=\"56\" cy=\"-76\" rx=\"18\" ry=\"18\"/>\n",
        "<text text-anchor=\"middle\" x=\"56\" y=\"-72.3\" font-family=\"Times,serif\" font-size=\"14.00\">0</text>\n",
        "</g>\n",
        "<!-- I0&#45;&gt;0 -->\n",
        "<g id=\"edge1\" class=\"edge\"><title>I0&#45;&gt;0</title>\n",
        "<path fill=\"none\" stroke=\"black\" d=\"M1.15491,-76C2.67247,-76 15.0966,-76 27.6277,-76\"/>\n",
        "<polygon fill=\"black\" stroke=\"black\" points=\"27.9419,-79.5001 37.9419,-76 27.9418,-72.5001 27.9419,-79.5001\"/>\n",
        "</g>\n",
        "<!-- F1 -->\n",
        "<!-- 1 -->\n",
        "<g id=\"node4\" class=\"node\"><title>1</title>\n",
        "<ellipse fill=\"none\" stroke=\"black\" cx=\"214\" cy=\"-76\" rx=\"18\" ry=\"18\"/>\n",
        "<text text-anchor=\"middle\" x=\"214\" y=\"-72.3\" font-family=\"Times,serif\" font-size=\"14.00\">1</text>\n",
        "</g>\n",
        "<!-- 0&#45;&gt;1 -->\n",
        "<g id=\"edge2\" class=\"edge\"><title>0&#45;&gt;1</title>\n",
        "<path fill=\"none\" stroke=\"black\" d=\"M74.0654,-76.7202C86.0707,-77.1898 102.515,-77.7586 117,-78 132.998,-78.2666 137.002,-78.2666 153,-78 163.751,-77.8209 175.581,-77.4613 185.874,-77.0959\"/>\n",
        "<polygon fill=\"black\" stroke=\"black\" points=\"186.072,-80.591 195.935,-76.7202 185.811,-73.5959 186.072,-80.591\"/>\n",
        "<text text-anchor=\"middle\" x=\"135\" y=\"-81.8\" font-family=\"Times,serif\" font-size=\"14.00\">a</text>\n",
        "</g>\n",
        "<!-- 2 -->\n",
        "<g id=\"node5\" class=\"node\"><title>2</title>\n",
        "<ellipse fill=\"none\" stroke=\"black\" cx=\"135\" cy=\"-18\" rx=\"18\" ry=\"18\"/>\n",
        "<text text-anchor=\"middle\" x=\"135\" y=\"-14.3\" font-family=\"Times,serif\" font-size=\"14.00\">2</text>\n",
        "</g>\n",
        "<!-- 0&#45;&gt;2 -->\n",
        "<g id=\"edge3\" class=\"edge\"><title>0&#45;&gt;2</title>\n",
        "<path fill=\"none\" stroke=\"black\" d=\"M70.7661,-65.6308C82.1922,-57.0241 98.6587,-44.6207 111.924,-34.6288\"/>\n",
        "<polygon fill=\"black\" stroke=\"black\" points=\"114.212,-37.2873 120.094,-28.475 110,-31.696 114.212,-37.2873\"/>\n",
        "<text text-anchor=\"middle\" x=\"95.5\" y=\"-51.8\" font-family=\"Times,serif\" font-size=\"14.00\">a</text>\n",
        "</g>\n",
        "<!-- 1&#45;&gt;F1 -->\n",
        "<g id=\"edge4\" class=\"edge\"><title>1&#45;&gt;F1</title>\n",
        "<path fill=\"none\" stroke=\"black\" d=\"M232.086,-76C240.827,-76 251.177,-76 258.69,-76\"/>\n",
        "<polygon fill=\"black\" stroke=\"black\" points=\"258.939,-79.5001 268.939,-76 258.939,-72.5001 258.939,-79.5001\"/>\n",
        "</g>\n",
        "<!-- 1&#45;&gt;1 -->\n",
        "<g id=\"edge5\" class=\"edge\"><title>1&#45;&gt;1</title>\n",
        "<path fill=\"none\" stroke=\"black\" d=\"M207.621,-93.0373C206.319,-102.858 208.445,-112 214,-112 217.472,-112 219.604,-108.429 220.398,-103.353\"/>\n",
        "<polygon fill=\"black\" stroke=\"black\" points=\"223.897,-103.031 220.379,-93.0373 216.897,-103.044 223.897,-103.031\"/>\n",
        "<text text-anchor=\"middle\" x=\"214\" y=\"-115.8\" font-family=\"Times,serif\" font-size=\"14.00\">b</text>\n",
        "</g>\n",
        "<!-- 2&#45;&gt;1 -->\n",
        "<g id=\"edge6\" class=\"edge\"><title>2&#45;&gt;1</title>\n",
        "<path fill=\"none\" stroke=\"black\" d=\"M149.766,-28.3692C161.192,-36.9759 177.659,-49.3793 190.924,-59.3712\"/>\n",
        "<polygon fill=\"black\" stroke=\"black\" points=\"189,-62.304 199.094,-65.525 193.212,-56.7127 189,-62.304\"/>\n",
        "<text text-anchor=\"middle\" x=\"174.5\" y=\"-51.8\" font-family=\"Times,serif\" font-size=\"14.00\">a</text>\n",
        "</g>\n",
        "<!-- 2&#45;&gt;2 -->\n",
        "<g id=\"edge7\" class=\"edge\"><title>2&#45;&gt;2</title>\n",
        "<path fill=\"none\" stroke=\"black\" d=\"M128.266,-35.0373C126.892,-44.8579 129.137,-54 135,-54 138.665,-54 140.916,-50.4289 141.753,-45.3529\"/>\n",
        "<polygon fill=\"black\" stroke=\"black\" points=\"145.252,-45.0307 141.734,-35.0373 138.252,-45.0439 145.252,-45.0307\"/>\n",
        "<text text-anchor=\"middle\" x=\"135\" y=\"-57.8\" font-family=\"Times,serif\" font-size=\"14.00\">b</text>\n",
        "</g>\n",
        "</g>\n",
        "</svg>\n"
       ],
       "text": [
        "mutable_automaton<lal_char(abc)_b>"
       ]
      }
     ],
     "prompt_number": 12
    },
    {
     "cell_type": "code",
     "collapsed": false,
     "input": [
      "a1 + a1 * a1"
     ],
     "language": "python",
     "metadata": {},
     "outputs": [
      {
       "metadata": {},
       "output_type": "pyout",
       "prompt_number": 14,
       "svg": [
        "<?xml version=\"1.0\" encoding=\"UTF-8\" standalone=\"no\"?>\n",
        "<!DOCTYPE svg PUBLIC \"-//W3C//DTD SVG 1.1//EN\"\n",
        " \"http://www.w3.org/Graphics/SVG/1.1/DTD/svg11.dtd\">\n",
        "<!-- Generated by graphviz version 2.38.0 (20140413.2041)\n",
        " -->\n",
        "<!-- Title: %3 Pages: 1 -->\n",
        "<svg width=\"278pt\" height=\"164pt\"\n",
        " viewBox=\"0.00 0.00 278.00 164.00\" xmlns=\"http://www.w3.org/2000/svg\" xmlns:xlink=\"http://www.w3.org/1999/xlink\">\n",
        "<g id=\"graph0\" class=\"graph\" transform=\"scale(1 1) rotate(0) translate(4 160)\">\n",
        "<title>%3</title>\n",
        "<polygon fill=\"white\" stroke=\"none\" points=\"-4,4 -4,-160 274,-160 274,4 -4,4\"/>\n",
        "<!-- I0 -->\n",
        "<!-- 0 -->\n",
        "<g id=\"node4\" class=\"node\"><title>0</title>\n",
        "<ellipse fill=\"none\" stroke=\"black\" cx=\"56\" cy=\"-67\" rx=\"18\" ry=\"18\"/>\n",
        "<text text-anchor=\"middle\" x=\"56\" y=\"-63.3\" font-family=\"Times,serif\" font-size=\"14.00\">0</text>\n",
        "</g>\n",
        "<!-- I0&#45;&gt;0 -->\n",
        "<g id=\"edge1\" class=\"edge\"><title>I0&#45;&gt;0</title>\n",
        "<path fill=\"none\" stroke=\"black\" d=\"M1.15491,-67C2.67247,-67 15.0966,-67 27.6277,-67\"/>\n",
        "<polygon fill=\"black\" stroke=\"black\" points=\"27.9419,-70.5001 37.9419,-67 27.9418,-63.5001 27.9419,-70.5001\"/>\n",
        "</g>\n",
        "<!-- F1 -->\n",
        "<!-- F3 -->\n",
        "<!-- 1 -->\n",
        "<g id=\"node5\" class=\"node\"><title>1</title>\n",
        "<ellipse fill=\"none\" stroke=\"black\" cx=\"135\" cy=\"-105\" rx=\"18\" ry=\"18\"/>\n",
        "<text text-anchor=\"middle\" x=\"135\" y=\"-101.3\" font-family=\"Times,serif\" font-size=\"14.00\">1</text>\n",
        "</g>\n",
        "<!-- 0&#45;&gt;1 -->\n",
        "<g id=\"edge2\" class=\"edge\"><title>0&#45;&gt;1</title>\n",
        "<path fill=\"none\" stroke=\"black\" d=\"M72.5821,-74.6899C83.1233,-79.892 97.2684,-86.8727 109.327,-92.8235\"/>\n",
        "<polygon fill=\"black\" stroke=\"black\" points=\"107.925,-96.0346 118.441,-97.3216 111.023,-89.7574 107.925,-96.0346\"/>\n",
        "<text text-anchor=\"middle\" x=\"95.5\" y=\"-90.8\" font-family=\"Times,serif\" font-size=\"14.00\">a</text>\n",
        "</g>\n",
        "<!-- 2 -->\n",
        "<g id=\"node6\" class=\"node\"><title>2</title>\n",
        "<ellipse fill=\"none\" stroke=\"black\" cx=\"135\" cy=\"-18\" rx=\"18\" ry=\"18\"/>\n",
        "<text text-anchor=\"middle\" x=\"135\" y=\"-14.3\" font-family=\"Times,serif\" font-size=\"14.00\">2</text>\n",
        "</g>\n",
        "<!-- 0&#45;&gt;2 -->\n",
        "<g id=\"edge3\" class=\"edge\"><title>0&#45;&gt;2</title>\n",
        "<path fill=\"none\" stroke=\"black\" d=\"M71.4831,-57.7835C82.4906,-50.7787 97.8592,-40.9987 110.604,-32.8885\"/>\n",
        "<polygon fill=\"black\" stroke=\"black\" points=\"112.762,-35.6634 119.32,-27.3418 109.004,-29.7578 112.762,-35.6634\"/>\n",
        "<text text-anchor=\"middle\" x=\"95.5\" y=\"-47.8\" font-family=\"Times,serif\" font-size=\"14.00\">a</text>\n",
        "</g>\n",
        "<!-- 1&#45;&gt;F1 -->\n",
        "<g id=\"edge4\" class=\"edge\"><title>1&#45;&gt;F1</title>\n",
        "<path fill=\"none\" stroke=\"black\" d=\"M153.089,-105C168.197,-105 189.756,-105 202.471,-105\"/>\n",
        "<polygon fill=\"black\" stroke=\"black\" points=\"202.893,-108.5 212.893,-105 202.892,-101.5 202.893,-108.5\"/>\n",
        "</g>\n",
        "<!-- 1&#45;&gt;1 -->\n",
        "<g id=\"edge5\" class=\"edge\"><title>1&#45;&gt;1</title>\n",
        "<path fill=\"none\" stroke=\"black\" d=\"M128.266,-122.037C126.892,-131.858 129.137,-141 135,-141 138.665,-141 140.916,-137.429 141.753,-132.353\"/>\n",
        "<polygon fill=\"black\" stroke=\"black\" points=\"145.252,-132.031 141.734,-122.037 138.252,-132.044 145.252,-132.031\"/>\n",
        "<text text-anchor=\"middle\" x=\"135\" y=\"-144.8\" font-family=\"Times,serif\" font-size=\"14.00\">b</text>\n",
        "</g>\n",
        "<!-- 2&#45;&gt;2 -->\n",
        "<g id=\"edge6\" class=\"edge\"><title>2&#45;&gt;2</title>\n",
        "<path fill=\"none\" stroke=\"black\" d=\"M128.266,-35.0373C126.892,-44.8579 129.137,-54 135,-54 138.665,-54 140.916,-50.4289 141.753,-45.3529\"/>\n",
        "<polygon fill=\"black\" stroke=\"black\" points=\"145.252,-45.0307 141.734,-35.0373 138.252,-45.0439 145.252,-45.0307\"/>\n",
        "<text text-anchor=\"middle\" x=\"135\" y=\"-57.8\" font-family=\"Times,serif\" font-size=\"14.00\">b</text>\n",
        "</g>\n",
        "<!-- 3 -->\n",
        "<g id=\"node7\" class=\"node\"><title>3</title>\n",
        "<ellipse fill=\"none\" stroke=\"black\" cx=\"214\" cy=\"-18\" rx=\"18\" ry=\"18\"/>\n",
        "<text text-anchor=\"middle\" x=\"214\" y=\"-14.3\" font-family=\"Times,serif\" font-size=\"14.00\">3</text>\n",
        "</g>\n",
        "<!-- 2&#45;&gt;3 -->\n",
        "<g id=\"edge7\" class=\"edge\"><title>2&#45;&gt;3</title>\n",
        "<path fill=\"none\" stroke=\"black\" d=\"M153.089,-18C162.659,-18 174.817,-18 185.677,-18\"/>\n",
        "<polygon fill=\"black\" stroke=\"black\" points=\"185.959,-21.5001 195.959,-18 185.959,-14.5001 185.959,-21.5001\"/>\n",
        "<text text-anchor=\"middle\" x=\"174.5\" y=\"-21.8\" font-family=\"Times,serif\" font-size=\"14.00\">a</text>\n",
        "</g>\n",
        "<!-- 3&#45;&gt;F3 -->\n",
        "<g id=\"edge8\" class=\"edge\"><title>3&#45;&gt;F3</title>\n",
        "<path fill=\"none\" stroke=\"black\" d=\"M232.086,-18C240.827,-18 251.177,-18 258.69,-18\"/>\n",
        "<polygon fill=\"black\" stroke=\"black\" points=\"258.939,-21.5001 268.939,-18 258.939,-14.5001 258.939,-21.5001\"/>\n",
        "</g>\n",
        "<!-- 3&#45;&gt;3 -->\n",
        "<g id=\"edge9\" class=\"edge\"><title>3&#45;&gt;3</title>\n",
        "<path fill=\"none\" stroke=\"black\" d=\"M207.621,-35.0373C206.319,-44.8579 208.445,-54 214,-54 217.472,-54 219.604,-50.4289 220.398,-45.3529\"/>\n",
        "<polygon fill=\"black\" stroke=\"black\" points=\"223.897,-45.031 220.379,-35.0373 216.897,-45.0435 223.897,-45.031\"/>\n",
        "<text text-anchor=\"middle\" x=\"214\" y=\"-57.8\" font-family=\"Times,serif\" font-size=\"14.00\">b</text>\n",
        "</g>\n",
        "</g>\n",
        "</svg>\n"
       ],
       "text": [
        "mutable_automaton<lal_char(abc)_b>"
       ]
      }
     ],
     "prompt_number": 14
    },
    {
     "cell_type": "code",
     "collapsed": false,
     "input": [],
     "language": "python",
     "metadata": {},
     "outputs": []
    }
   ],
   "metadata": {}
  }
 ]
}